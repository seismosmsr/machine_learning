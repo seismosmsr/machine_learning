{
  "nbformat": 4,
  "nbformat_minor": 0,
  "metadata": {
    "colab": {
      "provenance": [],
      "machine_shape": "hm"
    },
    "kernelspec": {
      "name": "ir",
      "display_name": "R"
    },
    "language_info": {
      "name": "R"
    }
  },
  "cells": [
    {
      "cell_type": "code",
      "source": [
        "install.packages('sf')\n",
        "install.packages('raster')\n",
        "install.packages('exactextractr')\n",
        "install.packages(\"googledrive\")\n",
        "install.packages(\"googletoken\")\n",
        "install.packages(\"DBI\")\n",
        "install.packages(\"RSQLite\")\n",
        "install.packages(\"RPostgreSQL\")"
      ],
      "metadata": {
        "colab": {
          "base_uri": "https://localhost:8080/"
        },
        "id": "rC3Pg61Wq8On",
        "outputId": "2e3cb0cd-9c38-4cd1-ba67-6d6bef8e8544"
      },
      "execution_count": 1,
      "outputs": [
        {
          "metadata": {
            "tags": null
          },
          "name": "stderr",
          "output_type": "stream",
          "text": [
            "Installing package into ‘/usr/local/lib/R/site-library’\n",
            "(as ‘lib’ is unspecified)\n",
            "\n",
            "also installing the dependencies ‘proxy’, ‘e1071’, ‘wk’, ‘classInt’, ‘Rcpp’, ‘s2’, ‘units’\n",
            "\n",
            "\n",
            "Installing package into ‘/usr/local/lib/R/site-library’\n",
            "(as ‘lib’ is unspecified)\n",
            "\n",
            "also installing the dependencies ‘sp’, ‘terra’\n",
            "\n",
            "\n",
            "Installing package into ‘/usr/local/lib/R/site-library’\n",
            "(as ‘lib’ is unspecified)\n",
            "\n",
            "Installing package into ‘/usr/local/lib/R/site-library’\n",
            "(as ‘lib’ is unspecified)\n",
            "\n",
            "Installing package into ‘/usr/local/lib/R/site-library’\n",
            "(as ‘lib’ is unspecified)\n",
            "\n",
            "Warning message:\n",
            "“package ‘googletoken’ is not available for this version of R\n",
            "\n",
            "A version of this package for your version of R might be available elsewhere,\n",
            "see the ideas at\n",
            "https://cran.r-project.org/doc/manuals/r-patched/R-admin.html#Installing-packages”\n",
            "Installing package into ‘/usr/local/lib/R/site-library’\n",
            "(as ‘lib’ is unspecified)\n",
            "\n",
            "Installing package into ‘/usr/local/lib/R/site-library’\n",
            "(as ‘lib’ is unspecified)\n",
            "\n",
            "also installing the dependency ‘plogr’\n",
            "\n",
            "\n",
            "Installing package into ‘/usr/local/lib/R/site-library’\n",
            "(as ‘lib’ is unspecified)\n",
            "\n"
          ]
        }
      ]
    },
    {
      "cell_type": "code",
      "execution_count": null,
      "metadata": {
        "id": "ohy4torjkZq2"
      },
      "outputs": [],
      "source": [
        "library(ggplot2)\n",
        "library(sf)\n",
        "library(magrittr)\n",
        "library(data.table)\n",
        "library(raster)\n",
        "library(exactextractr)\n",
        "library(googledrive)\n",
        "library(DBI)\n",
        "library(utils)"
      ]
    },
    {
      "cell_type": "code",
      "source": [
        "drive_auth(use_oob = TRUE, cache = FALSE)"
      ],
      "metadata": {
        "id": "oFc9lzeokYuK",
        "outputId": "5f02c5ee-cd49-4fab-e7ff-9cb56fb0f5f6",
        "colab": {
          "base_uri": "https://localhost:8080/"
        }
      },
      "execution_count": 3,
      "outputs": [
        {
          "metadata": {
            "tags": null
          },
          "name": "stderr",
          "output_type": "stream",
          "text": [
            "Please point your browser to the following url: \n",
            "\n",
            "https://accounts.google.com/o/oauth2/v2/auth?client_id=603366585132-frjlouoa3s2ono25d2l9ukvhlsrlnr7k.apps.googleusercontent.com&scope=https%3A%2F%2Fwww.googleapis.com%2Fauth%2Fdrive%20https%3A%2F%2Fwww.googleapis.com%2Fauth%2Fuserinfo.email&redirect_uri=https%3A%2F%2Fwww.tidyverse.org%2Fgoogle-callback%2F&response_type=code&state=bd9cdaa2628a3cfae00f99147fc272bb&access_type=offline&prompt=consent\n",
            "\n"
          ]
        }
      ]
    },
    {
      "cell_type": "code",
      "source": [
        "# while(TRUE){}"
      ],
      "metadata": {
        "id": "neOkVr_mkd8m"
      },
      "execution_count": 4,
      "outputs": []
    },
    {
      "cell_type": "code",
      "source": [
        "# drive_deauth()\n",
        "# drive_auth(use_oob = TRUE, cache = FALSE)"
      ],
      "metadata": {
        "id": "hVkqfgfpnel2"
      },
      "execution_count": 5,
      "outputs": []
    },
    {
      "cell_type": "code",
      "source": [
        "# GEDI data\n",
        "# https://drive.google.com/file/d/14jTxo28D2bsC68EpVsbSaY7SpYM5MIA4/view?usp=drive_link\n",
        "\n",
        "# Landtrendr data\n",
        "# https://drive.google.com/file/d/1FrN1tUojGV80f3kDtmezsFsvLabIoGiW/view?usp=drive_link\n",
        "\n",
        "# HUC 8\n",
        "# https://drive.google.com/file/d/1r6CIYLOy01N8B1jc7Hr8AJUkA0jPXp9z/view?usp=drive_link\n",
        "\n",
        "# HUC 10\n",
        "# https://drive.google.com/file/d/1m86VWKw3nys-oY931eq9dC6xv0cEfs4a/view?usp=drive_link\n",
        "\n",
        "# HUC 12\n",
        "# https://drive.google.com/file/d/18ayVCWhBkP1Tb_wrWgPJea8vaWEiPgOL/view?usp=drive_link\n",
        "\n",
        "# GEDI vectorized by YOD, Queen's rule.\n",
        "# https://drive.google.com/file/d/1miOMqCh081yceVUfVVOL5JtxpKUgBO-2/view?usp=drive_link"
      ],
      "metadata": {
        "id": "O3df1Ii3npf3"
      },
      "execution_count": 6,
      "outputs": []
    },
    {
      "cell_type": "code",
      "source": [
        "drive_download(file = as_id('1FrN1tUojGV80f3kDtmezsFsvLabIoGiW'), path =  '/content/HJA_LandTrendr_84_23.tif', overwrite = FALSE)"
      ],
      "metadata": {
        "id": "LUX0iDBQo3bB",
        "outputId": "6ab35a87-78f4-42f1-f2d4-81c8b6396ad5",
        "colab": {
          "base_uri": "https://localhost:8080/"
        }
      },
      "execution_count": 7,
      "outputs": [
        {
          "metadata": {
            "tags": null
          },
          "name": "stderr",
          "output_type": "stream",
          "text": [
            "File downloaded:\n",
            "\n",
            "• \u001b[36mHJA_LandTrendr_84_23_2.tif\u001b[39m \u001b[90m<id: 1FrN1tUojGV80f3kDtmezsFsvLabIoGiW>\u001b[39m\n",
            "\n",
            "Saved locally as:\n",
            "\n",
            "• \u001b[34m/content/HJA_LandTrendr_84_23.tif\u001b[39m\n",
            "\n"
          ]
        }
      ]
    },
    {
      "cell_type": "code",
      "source": [
        "drive_download(file = as_id('14jTxo28D2bsC68EpVsbSaY7SpYM5MIA4'), path =  '/content/HJA_gedi.gpkg', overwrite = TRUE)"
      ],
      "metadata": {
        "id": "p6BrSHZVpEnI",
        "outputId": "30daa92e-65d8-4331-f83d-f470e5bacbbc",
        "colab": {
          "base_uri": "https://localhost:8080/"
        }
      },
      "execution_count": 8,
      "outputs": [
        {
          "metadata": {
            "tags": null
          },
          "name": "stderr",
          "output_type": "stream",
          "text": [
            "File downloaded:\n",
            "\n",
            "• \u001b[36mHJA_GEDI_4.gpkg\u001b[39m \u001b[90m<id: 14jTxo28D2bsC68EpVsbSaY7SpYM5MIA4>\u001b[39m\n",
            "\n",
            "Saved locally as:\n",
            "\n",
            "• \u001b[34m/content/HJA_gedi.gpkg\u001b[39m\n",
            "\n"
          ]
        }
      ]
    },
    {
      "cell_type": "code",
      "source": [
        "drive_download(file = as_id('1r6CIYLOy01N8B1jc7Hr8AJUkA0jPXp9z'), path =  '/content/huc_8.gpkg', overwrite = TRUE)\n",
        "drive_download(file = as_id('1m86VWKw3nys-oY931eq9dC6xv0cEfs4a'), path =  '/content/huc_10.gpkg', overwrite = TRUE)\n",
        "drive_download(file = as_id('18ayVCWhBkP1Tb_wrWgPJea8vaWEiPgOL'), path =  '/content/huc_12.gpkg', overwrite = TRUE)"
      ],
      "metadata": {
        "id": "FCrU4s8erbks",
        "outputId": "169193c1-c8c5-48d1-f759-7729bfe222ef",
        "colab": {
          "base_uri": "https://localhost:8080/"
        }
      },
      "execution_count": 9,
      "outputs": [
        {
          "metadata": {
            "tags": null
          },
          "name": "stderr",
          "output_type": "stream",
          "text": [
            "File downloaded:\n",
            "\n",
            "• \u001b[36mWBDHU8.gpkg\u001b[39m \u001b[90m<id: 1r6CIYLOy01N8B1jc7Hr8AJUkA0jPXp9z>\u001b[39m\n",
            "\n",
            "Saved locally as:\n",
            "\n",
            "• \u001b[34m/content/huc_8.gpkg\u001b[39m\n",
            "\n",
            "File downloaded:\n",
            "\n",
            "• \u001b[36mWBDHU10.gpkg\u001b[39m \u001b[90m<id: 1m86VWKw3nys-oY931eq9dC6xv0cEfs4a>\u001b[39m\n",
            "\n",
            "Saved locally as:\n",
            "\n",
            "• \u001b[34m/content/huc_10.gpkg\u001b[39m\n",
            "\n",
            "File downloaded:\n",
            "\n",
            "• \u001b[36mWBDHU12.gpkg\u001b[39m \u001b[90m<id: 18ayVCWhBkP1Tb_wrWgPJea8vaWEiPgOL>\u001b[39m\n",
            "\n",
            "Saved locally as:\n",
            "\n",
            "• \u001b[34m/content/huc_12.gpkg\u001b[39m\n",
            "\n"
          ]
        }
      ]
    },
    {
      "cell_type": "code",
      "source": [
        "# https://drive.google.com/file/d/1miOMqCh081yceVUfVVOL5JtxpKUgBO-2/view?usp=drive_link\n",
        "drive_download(file = as_id('1miOMqCh081yceVUfVVOL5JtxpKUgBO-2'), path =  '/content/gedi_vector.gpkg', overwrite = TRUE)"
      ],
      "metadata": {
        "id": "N4HyYrKXpvw0",
        "outputId": "37451ad6-e449-47e0-915b-62e72b177be2",
        "colab": {
          "base_uri": "https://localhost:8080/"
        }
      },
      "execution_count": 10,
      "outputs": [
        {
          "metadata": {
            "tags": null
          },
          "name": "stderr",
          "output_type": "stream",
          "text": [
            "File downloaded:\n",
            "\n",
            "• \u001b[36myod_vector.gpkg\u001b[39m \u001b[90m<id: 1miOMqCh081yceVUfVVOL5JtxpKUgBO-2>\u001b[39m\n",
            "\n",
            "Saved locally as:\n",
            "\n",
            "• \u001b[34m/content/gedi_vector.gpkg\u001b[39m\n",
            "\n"
          ]
        }
      ]
    },
    {
      "cell_type": "code",
      "source": [
        "# https://drive.google.com/file/d/1qpVnW4V_qbE1rAR4wAq1yMNRIZniVFsa/view?usp=drive_link\n",
        "drive_download(file = as_id('1qpVnW4V_qbE1rAR4wAq1yMNRIZniVFsa'), path =  '/content/conus_2003.tif', overwrite = TRUE)"
      ],
      "metadata": {
        "id": "4nQRIAg6EU5c",
        "outputId": "3a605ce2-389a-450a-ce6a-10e2157cd530",
        "colab": {
          "base_uri": "https://localhost:8080/"
        }
      },
      "execution_count": 11,
      "outputs": [
        {
          "metadata": {
            "tags": null
          },
          "name": "stderr",
          "output_type": "stream",
          "text": [
            "File downloaded:\n",
            "\n",
            "• \u001b[36mconus_forest_biomass_mg_per_ha.img\u001b[39m \u001b[90m<id: 1qpVnW4V_qbE1rAR4wAq1yMNRIZniVFsa>\u001b[39m\n",
            "\n",
            "Saved locally as:\n",
            "\n",
            "• \u001b[34m/content/conus_2003.tif\u001b[39m\n",
            "\n"
          ]
        }
      ]
    },
    {
      "cell_type": "code",
      "source": [
        "# https://drive.google.com/file/d/1X-D5SIaH18skJ5Wshzge1BxlvRZOOWCh/view?usp=drive_link\n",
        "\n",
        "drive_download(file = as_id('1X-D5SIaH18skJ5Wshzge1BxlvRZOOWCh'), path =  '/content/conus_2016.tif', overwrite = TRUE)"
      ],
      "metadata": {
        "id": "fes2c4X1Yi8L",
        "outputId": "2e3f14b1-eae1-49ea-b2f1-775b2040cc99",
        "colab": {
          "base_uri": "https://localhost:8080/"
        }
      },
      "execution_count": 12,
      "outputs": [
        {
          "metadata": {
            "tags": null
          },
          "name": "stderr",
          "output_type": "stream",
          "text": [
            "File downloaded:\n",
            "\n",
            "• \u001b[36mbiomass_k10_2016.tif\u001b[39m \u001b[90m<id: 1X-D5SIaH18skJ5Wshzge1BxlvRZOOWCh>\u001b[39m\n",
            "\n",
            "Saved locally as:\n",
            "\n",
            "• \u001b[34m/content/conus_2016.tif\u001b[39m\n",
            "\n"
          ]
        }
      ]
    },
    {
      "cell_type": "code",
      "source": [
        "# https://drive.google.com/file/d/1HGLy-drZfu5wmWW9xVbCkQjHGdqFbGF4/view?usp=drive_link\n",
        "\n",
        "drive_download(file = as_id('1HGLy-drZfu5wmWW9xVbCkQjHGdqFbGF4'), path =  '/content/hja_2008.tif', overwrite = TRUE)"
      ],
      "metadata": {
        "id": "JzNqFcUeO0-o",
        "outputId": "ba180f38-988c-4d31-af93-9a247e03ca9c",
        "colab": {
          "base_uri": "https://localhost:8080/"
        }
      },
      "execution_count": 13,
      "outputs": [
        {
          "metadata": {
            "tags": null
          },
          "name": "stderr",
          "output_type": "stream",
          "text": [
            "File downloaded:\n",
            "\n",
            "• \u001b[36mAGLB_2008.tif\u001b[39m \u001b[90m<id: 1HGLy-drZfu5wmWW9xVbCkQjHGdqFbGF4>\u001b[39m\n",
            "\n",
            "Saved locally as:\n",
            "\n",
            "• \u001b[34m/content/hja_2008.tif\u001b[39m\n",
            "\n"
          ]
        }
      ]
    },
    {
      "cell_type": "code",
      "source": [
        "# https://drive.google.com/file/d/1MXa0GC0bWAbMSVpR7Gpc4cOFyCRxpJfI/view?usp=drive_link\n",
        "drive_download(file = as_id('1MXa0GC0bWAbMSVpR7Gpc4cOFyCRxpJfI'), path =  '/content/wnf_history.gpkg', overwrite = TRUE)\n",
        "\n",
        "# https://drive.google.com/file/d/1PFW8YtCJ-Afxb7XTM94j7IcZDQc6r3FS/view?usp=drive_link\n",
        "drive_download(file = as_id('1PFW8YtCJ-Afxb7XTM94j7IcZDQc6r3FS'), path =  '/content/fire_history.gpkg', overwrite = TRUE)\n",
        "\n",
        "# https://drive.google.com/file/d/1igHhc0FY2TBm7DMHNWMoqTbLHv2qvgms/view?usp=drive_link\n",
        "drive_download(file = as_id('1igHhc0FY2TBm7DMHNWMoqTbLHv2qvgms'), path =  '/content/harvest_history.gpkg', overwrite = TRUE)\n",
        "\n",
        "# https://drive.google.com/file/d/1XluoE3kGZ1u5-az0EmimhRpe__qzApM4/view?usp=drive_link\n",
        "drive_download(file = as_id('1XluoE3kGZ1u5-az0EmimhRpe__qzApM4'), path =  '/content/aoi_boundary.geojson', overwrite = TRUE)"
      ],
      "metadata": {
        "id": "weLodNamLqQP",
        "outputId": "477370e7-56bf-43a1-d2d1-7c5db41bf944",
        "colab": {
          "base_uri": "https://localhost:8080/"
        }
      },
      "execution_count": 14,
      "outputs": [
        {
          "metadata": {
            "tags": null
          },
          "name": "stderr",
          "output_type": "stream",
          "text": [
            "File downloaded:\n",
            "\n",
            "• \u001b[36mclip_wnfveg6.gpkg\u001b[39m \u001b[90m<id: 1MXa0GC0bWAbMSVpR7Gpc4cOFyCRxpJfI>\u001b[39m\n",
            "\n",
            "Saved locally as:\n",
            "\n",
            "• \u001b[34m/content/wnf_history.gpkg\u001b[39m\n",
            "\n",
            "File downloaded:\n",
            "\n",
            "• \u001b[36mFire_History_HJA.gpkg\u001b[39m \u001b[90m<id: 1PFW8YtCJ-Afxb7XTM94j7IcZDQc6r3FS>\u001b[39m\n",
            "\n",
            "Saved locally as:\n",
            "\n",
            "• \u001b[34m/content/fire_history.gpkg\u001b[39m\n",
            "\n",
            "File downloaded:\n",
            "\n",
            "• \u001b[36mHJA_Harvest_Sites.gpkg\u001b[39m \u001b[90m<id: 1igHhc0FY2TBm7DMHNWMoqTbLHv2qvgms>\u001b[39m\n",
            "\n",
            "Saved locally as:\n",
            "\n",
            "• \u001b[34m/content/harvest_history.gpkg\u001b[39m\n",
            "\n",
            "File downloaded:\n",
            "\n",
            "• \u001b[36mhja_boundary.geojson\u001b[39m \u001b[90m<id: 1XluoE3kGZ1u5-az0EmimhRpe__qzApM4>\u001b[39m\n",
            "\n",
            "Saved locally as:\n",
            "\n",
            "• \u001b[34m/content/aoi_boundary.geojson\u001b[39m\n",
            "\n"
          ]
        }
      ]
    },
    {
      "cell_type": "code",
      "source": [
        "# https://drive.google.com/file/d/16h1dV9JEpYwts4grE959eTfqCc5yP05I/view?usp=drive_link\n",
        "drive_download(file = as_id('16h1dV9JEpYwts4grE959eTfqCc5yP05I'), path =  '/content/Huc_Intersection_Set_2.zip', overwrite = TRUE)"
      ],
      "metadata": {
        "id": "YJn39TJF9shO",
        "outputId": "f21df733-f81a-4877-9048-34287d773488",
        "colab": {
          "base_uri": "https://localhost:8080/"
        }
      },
      "execution_count": 15,
      "outputs": [
        {
          "metadata": {
            "tags": null
          },
          "name": "stderr",
          "output_type": "stream",
          "text": [
            "File downloaded:\n",
            "\n",
            "• \u001b[36mHUC_Intersection_Set_2.zip\u001b[39m \u001b[90m<id: 16h1dV9JEpYwts4grE959eTfqCc5yP05I>\u001b[39m\n",
            "\n",
            "Saved locally as:\n",
            "\n",
            "• \u001b[34m/content/Huc_Intersection_Set_2.zip\u001b[39m\n",
            "\n"
          ]
        }
      ]
    },
    {
      "cell_type": "code",
      "source": [
        "# Set the file path to the downloaded zip file and the destination where it should be extracted\n",
        "zip_file_path <- '/content/Huc_Intersection_Set_2.zip'\n",
        "extraction_path <- '/content/Huc_Intersection_Set_2'\n",
        "\n",
        "# Unzip the file\n",
        "unzip(zip_file_path, exdir = extraction_path)"
      ],
      "metadata": {
        "id": "ICSjj78kUY3s"
      },
      "execution_count": 16,
      "outputs": []
    },
    {
      "cell_type": "code",
      "source": [
        "while(TRUE){}"
      ],
      "metadata": {
        "id": "WiNdGjYOK0mz"
      },
      "execution_count": 17,
      "outputs": []
    },
    {
      "cell_type": "code",
      "source": [
        "huc_8_gpgk <- st_read('/content/huc_8.gpkg') %>% st_transform(st_crs('EPSG:4326'))\n",
        "huc_10_gpgk <- st_read('/content/huc_10.gpkg')  %>% st_transform(st_crs('EPSG:4326'))\n",
        "huc_12_gpgk <- st_read('/content/huc_12.gpkg')  %>% st_transform(st_crs('EPSG:4326'))"
      ],
      "metadata": {
        "id": "WN7DHPZQWazx",
        "outputId": "dce20bea-f1b8-4c38-a5f3-330c3def3db3",
        "colab": {
          "base_uri": "https://localhost:8080/"
        }
      },
      "execution_count": null,
      "outputs": [
        {
          "output_type": "stream",
          "name": "stdout",
          "text": [
            "Reading layer `wbdhu8_central_oregon__wdb_oregon_state_gdb__wbdhu8' from data source `/content/huc_8.gpkg' using driver `GPKG'\n",
            "Simple feature collection with 4 features and 15 fields\n",
            "Geometry type: MULTIPOLYGON\n",
            "Dimension:     XY\n",
            "Bounding box:  xmin: -123.6643 ymin: 43.85856 xmax: -121.7597 ymax: 44.90894\n",
            "Geodetic CRS:  NAD83\n",
            "Reading layer `wdb_oregon_state_gdb__wbdhu10' from data source \n",
            "  `/content/huc_10.gpkg' using driver `GPKG'\n",
            "Simple feature collection with 27 features and 17 fields\n",
            "Geometry type: MULTIPOLYGON\n",
            "Dimension:     XY\n",
            "Bounding box:  xmin: -123.6643 ymin: 43.85856 xmax: -121.7597 ymax: 44.90894\n",
            "Geodetic CRS:  NAD83\n",
            "Reading layer `wdb_oregon_state_gdb__wbdhu12' from data source \n",
            "  `/content/huc_12.gpkg' using driver `GPKG'\n",
            "Simple feature collection with 161 features and 20 fields\n",
            "Geometry type: MULTIPOLYGON\n",
            "Dimension:     XY\n",
            "Bounding box:  xmin: -123.6643 ymin: 43.85856 xmax: -121.7597 ymax: 44.90894\n",
            "Geodetic CRS:  NAD83\n"
          ]
        }
      ]
    },
    {
      "cell_type": "code",
      "source": [
        "hja_2008_tif <- stack('/content/hja_2008.tif')\n",
        "conus_2003_tif <- stack('/content/conus_2003.tif')\n",
        "conus_2016_tif  <- stack('/content/conus_2016.tif')"
      ],
      "metadata": {
        "id": "HJdYvfpltaAi"
      },
      "execution_count": null,
      "outputs": []
    },
    {
      "cell_type": "code",
      "source": [
        "landtrendr_tif <- stack('/content/HJA_LandTrendr_84_23.tif')"
      ],
      "metadata": {
        "id": "wOk8T8AEp1Pe"
      },
      "execution_count": null,
      "outputs": []
    },
    {
      "cell_type": "code",
      "source": [
        "# huc_8_gpgk$HUC8"
      ],
      "metadata": {
        "id": "I_CtpkxSbtQJ"
      },
      "execution_count": null,
      "outputs": []
    },
    {
      "cell_type": "code",
      "source": [
        "gedi_int_dt <-\n",
        "\"/content/Huc_Intersection_Set_2/content/HUC_Intersection_Set_2\" %>%\n",
        "  list.files(full.names = T) %>%\n",
        "  lapply(function(x){\n",
        "  x_sf <- st_read(x)\n",
        "  # x_sf$HUC_8 <- huc_8_gpgk$HUC_8[x_sf %>% st_intersects(huc_8_gpgk)  %>% lapply(function(z){z[1]}) %>% unlist]\n",
        "  # x_sf$HUC_10 <- huc_10_gpgk$HUC_10[x_sf %>% st_intersects(huc_10_gpgk)  %>% lapply(function(z){z[1]}) %>% unlist]\n",
        "  # x_sf$HUC_12 <- huc_12_gpgk$HUC_12[x_sf %>% st_intersects(huc_12_gpgk)  %>% lapply(function(z){z[1]}) %>% unlist]\n",
        "  return(x_sf)\n",
        "  }) %>%\n",
        "  lapply(data.table) %>%\n",
        "  rbindlist()"
      ],
      "metadata": {
        "id": "F7ZEup6Q5TAJ",
        "outputId": "4e2c57ae-36b4-4de4-fc26-2717a1e73db6",
        "colab": {
          "base_uri": "https://localhost:8080/"
        }
      },
      "execution_count": null,
      "outputs": [
        {
          "output_type": "stream",
          "name": "stdout",
          "text": [
            "Reading layer `huc_10_1' from data source \n",
            "  `/content/Huc_Intersection_Set_2/content/HUC_Intersection_Set_2/huc_10_1.gpkg' \n",
            "  using driver `GPKG'\n",
            "Simple feature collection with 94451 features and 60 fields\n",
            "Geometry type: POINT\n",
            "Dimension:     XY\n",
            "Bounding box:  xmin: -122.1598 ymin: 44.70176 xmax: -121.7601 ymax: 44.84941\n",
            "Geodetic CRS:  WGS 84\n",
            "Reading layer `huc_10_10' from data source \n",
            "  `/content/Huc_Intersection_Set_2/content/HUC_Intersection_Set_2/huc_10_10.gpkg' \n",
            "  using driver `GPKG'\n",
            "Simple feature collection with 73478 features and 60 fields\n",
            "Geometry type: POINT\n",
            "Dimension:     XY\n",
            "Bounding box:  xmin: -122.6751 ymin: 44.31805 xmax: -122.4225 ymax: 44.48284\n",
            "Geodetic CRS:  WGS 84\n",
            "Reading layer `huc_10_11' from data source \n",
            "  `/content/Huc_Intersection_Set_2/content/HUC_Intersection_Set_2/huc_10_11.gpkg' \n",
            "  using driver `GPKG'\n",
            "Simple feature collection with 85232 features and 60 fields\n",
            "Geometry type: POINT\n",
            "Dimension:     XY\n",
            "Bounding box:  xmin: -122.6787 ymin: 44.26722 xmax: -122.415 ymax: 44.4138\n",
            "Geodetic CRS:  WGS 84\n",
            "Reading layer `huc_10_12' from data source \n",
            "  `/content/Huc_Intersection_Set_2/content/HUC_Intersection_Set_2/huc_10_12.gpkg' \n",
            "  using driver `GPKG'\n",
            "Simple feature collection with 166553 features and 60 fields\n",
            "Geometry type: POINT\n",
            "Dimension:     XY\n",
            "Bounding box:  xmin: -122.9466 ymin: 44.49646 xmax: -122.4402 ymax: 44.69994\n",
            "Geodetic CRS:  WGS 84\n",
            "Reading layer `huc_10_13' from data source \n",
            "  `/content/Huc_Intersection_Set_2/content/HUC_Intersection_Set_2/huc_10_13.gpkg' \n",
            "  using driver `GPKG'\n",
            "Simple feature collection with 133942 features and 60 fields\n",
            "Geometry type: POINT\n",
            "Dimension:     XY\n",
            "Bounding box:  xmin: -122.9726 ymin: 44.62447 xmax: -122.3103 ymax: 44.76997\n",
            "Geodetic CRS:  WGS 84\n",
            "Reading layer `huc_10_14' from data source \n",
            "  `/content/Huc_Intersection_Set_2/content/HUC_Intersection_Set_2/huc_10_14.gpkg' \n",
            "  using driver `GPKG'\n",
            "Simple feature collection with 215711 features and 60 fields\n",
            "Geometry type: POINT\n",
            "Dimension:     XY\n",
            "Bounding box:  xmin: -123.0157 ymin: 44.32236 xmax: -122.5776 ymax: 44.71778\n",
            "Geodetic CRS:  WGS 84\n",
            "Reading layer `huc_10_15' from data source \n",
            "  `/content/Huc_Intersection_Set_2/content/HUC_Intersection_Set_2/huc_10_15.gpkg' \n",
            "  using driver `GPKG'\n",
            "Simple feature collection with 221438 features and 60 fields\n",
            "Geometry type: POINT\n",
            "Dimension:     XY\n",
            "Bounding box:  xmin: -122.2119 ymin: 43.96455 xmax: -121.7681 ymax: 44.17517\n",
            "Geodetic CRS:  WGS 84\n",
            "Reading layer `huc_10_16' from data source \n",
            "  `/content/Huc_Intersection_Set_2/content/HUC_Intersection_Set_2/huc_10_16.gpkg' \n",
            "  using driver `GPKG'\n",
            "Simple feature collection with 453951 features and 60 fields\n",
            "Geometry type: POINT\n",
            "Dimension:     XY\n",
            "Bounding box:  xmin: -122.2068 ymin: 44.11485 xmax: -121.7709 ymax: 44.50823\n",
            "Geodetic CRS:  WGS 84\n",
            "Reading layer `huc_10_17' from data source \n",
            "  `/content/Huc_Intersection_Set_2/content/HUC_Intersection_Set_2/huc_10_17.gpkg' \n",
            "  using driver `GPKG'\n",
            "Simple feature collection with 279057 features and 60 fields\n",
            "Geometry type: POINT\n",
            "Dimension:     XY\n",
            "Bounding box:  xmin: -122.2925 ymin: 43.85895 xmax: -121.8578 ymax: 44.16177\n",
            "Geodetic CRS:  WGS 84\n",
            "Reading layer `huc_10_18' from data source \n",
            "  `/content/Huc_Intersection_Set_2/content/HUC_Intersection_Set_2/huc_10_18.gpkg' \n",
            "  using driver `GPKG'\n",
            "Simple feature collection with 129685 features and 60 fields\n",
            "Geometry type: POINT\n",
            "Dimension:     XY\n",
            "Bounding box:  xmin: -122.383 ymin: 44.15338 xmax: -122.1017 ymax: 44.33783\n",
            "Geodetic CRS:  WGS 84\n",
            "Reading layer `huc_10_19' from data source \n",
            "  `/content/Huc_Intersection_Set_2/content/HUC_Intersection_Set_2/huc_10_19.gpkg' \n",
            "  using driver `GPKG'\n",
            "Simple feature collection with 97113 features and 60 fields\n",
            "Geometry type: POINT\n",
            "Dimension:     XY\n",
            "Bounding box:  xmin: -122.4269 ymin: 43.96919 xmax: -122.1902 ymax: 44.21138\n",
            "Geodetic CRS:  WGS 84\n",
            "Reading layer `huc_10_2' from data source \n",
            "  `/content/Huc_Intersection_Set_2/content/HUC_Intersection_Set_2/huc_10_2.gpkg' \n",
            "  using driver `GPKG'\n",
            "Simple feature collection with 224063 features and 60 fields\n",
            "Geometry type: POINT\n",
            "Dimension:     XY\n",
            "Bounding box:  xmin: -122.1784 ymin: 44.46405 xmax: -121.7936 ymax: 44.74934\n",
            "Geodetic CRS:  WGS 84\n",
            "Reading layer `huc_10_20' from data source \n",
            "  `/content/Huc_Intersection_Set_2/content/HUC_Intersection_Set_2/huc_10_20.gpkg' \n",
            "  using driver `GPKG'\n",
            "Simple feature collection with 286439 features and 60 fields\n",
            "Geometry type: POINT\n",
            "Dimension:     XY\n",
            "Bounding box:  xmin: -123.1053 ymin: 44.01968 xmax: -122.3486 ymax: 44.23505\n",
            "Geodetic CRS:  WGS 84\n",
            "Reading layer `huc_10_21' from data source \n",
            "  `/content/Huc_Intersection_Set_2/content/HUC_Intersection_Set_2/huc_10_21.gpkg' \n",
            "  using driver `GPKG'\n",
            "Simple feature collection with 198076 features and 60 fields\n",
            "Geometry type: POINT\n",
            "Dimension:     XY\n",
            "Bounding box:  xmin: -123.0078 ymin: 44.07926 xmax: -122.5756 ymax: 44.30043\n",
            "Geodetic CRS:  WGS 84\n",
            "Reading layer `huc_10_22' from data source \n",
            "  `/content/Huc_Intersection_Set_2/content/HUC_Intersection_Set_2/huc_10_22.gpkg' \n",
            "  using driver `GPKG'\n",
            "Simple feature collection with 102842 features and 60 fields\n",
            "Geometry type: POINT\n",
            "Dimension:     XY\n",
            "Bounding box:  xmin: -123.181 ymin: 44.43246 xmax: -122.8449 ymax: 44.63975\n",
            "Geodetic CRS:  WGS 84\n",
            "Reading layer `huc_10_23' from data source \n",
            "  `/content/Huc_Intersection_Set_2/content/HUC_Intersection_Set_2/huc_10_23.gpkg' \n",
            "  using driver `GPKG'\n",
            "Simple feature collection with 365606 features and 60 fields\n",
            "Geometry type: POINT\n",
            "Dimension:     XY\n",
            "Bounding box:  xmin: -123.5579 ymin: 43.86418 xmax: -123.0587 ymax: 44.41431\n",
            "Geodetic CRS:  WGS 84\n",
            "Reading layer `huc_10_24' from data source \n",
            "  `/content/Huc_Intersection_Set_2/content/HUC_Intersection_Set_2/huc_10_24.gpkg' \n",
            "  using driver `GPKG'\n",
            "Simple feature collection with 280432 features and 60 fields\n",
            "Geometry type: POINT\n",
            "Dimension:     XY\n",
            "Bounding box:  xmin: -123.6642 ymin: 44.27531 xmax: -123.2534 ymax: 44.73747\n",
            "Geodetic CRS:  WGS 84\n",
            "Reading layer `huc_10_25' from data source \n",
            "  `/content/Huc_Intersection_Set_2/content/HUC_Intersection_Set_2/huc_10_25.gpkg' \n",
            "  using driver `GPKG'\n",
            "Simple feature collection with 351107 features and 60 fields\n",
            "Geometry type: POINT\n",
            "Dimension:     XY\n",
            "Bounding box:  xmin: -123.6533 ymin: 44.62171 xmax: -123.1298 ymax: 44.90786\n",
            "Geodetic CRS:  WGS 84\n",
            "Reading layer `huc_10_26' from data source \n",
            "  `/content/Huc_Intersection_Set_2/content/HUC_Intersection_Set_2/huc_10_26.gpkg' \n",
            "  using driver `GPKG'\n",
            "Simple feature collection with 344865 features and 60 fields\n",
            "Geometry type: POINT\n",
            "Dimension:     XY\n",
            "Bounding box:  xmin: -123.1466 ymin: 44.20945 xmax: -122.3218 ymax: 44.52751\n",
            "Geodetic CRS:  WGS 84\n",
            "Reading layer `huc_10_27' from data source \n",
            "  `/content/Huc_Intersection_Set_2/content/HUC_Intersection_Set_2/huc_10_27.gpkg' \n",
            "  using driver `GPKG'\n",
            "Simple feature collection with 480731 features and 60 fields\n",
            "Geometry type: POINT\n",
            "Dimension:     XY\n",
            "Bounding box:  xmin: -123.3187 ymin: 44.01938 xmax: -122.8952 ymax: 44.75528\n",
            "Geodetic CRS:  WGS 84\n",
            "Reading layer `huc_10_3' from data source \n",
            "  `/content/Huc_Intersection_Set_2/content/HUC_Intersection_Set_2/huc_10_3.gpkg' \n",
            "  using driver `GPKG'\n",
            "Simple feature collection with 94266 features and 60 fields\n",
            "Geometry type: POINT\n",
            "Dimension:     XY\n",
            "Bounding box:  xmin: -122.3286 ymin: 44.56358 xmax: -122.0444 ymax: 44.80096\n",
            "Geodetic CRS:  WGS 84\n",
            "Reading layer `huc_10_4' from data source \n",
            "  `/content/Huc_Intersection_Set_2/content/HUC_Intersection_Set_2/huc_10_4.gpkg' \n",
            "  using driver `GPKG'\n",
            "Simple feature collection with 77090 features and 60 fields\n",
            "Geometry type: POINT\n",
            "Dimension:     XY\n",
            "Bounding box:  xmin: -122.6129 ymin: 44.66192 xmax: -122.2717 ymax: 44.79476\n",
            "Geodetic CRS:  WGS 84\n",
            "Reading layer `huc_10_5' from data source \n",
            "  `/content/Huc_Intersection_Set_2/content/HUC_Intersection_Set_2/huc_10_5.gpkg' \n",
            "  using driver `GPKG'\n",
            "Simple feature collection with 98313 features and 60 fields\n",
            "Geometry type: POINT\n",
            "Dimension:     XY\n",
            "Bounding box:  xmin: -122.6092 ymin: 44.77731 xmax: -122.1315 ymax: 44.89981\n",
            "Geodetic CRS:  WGS 84\n",
            "Reading layer `huc_10_6' from data source \n",
            "  `/content/Huc_Intersection_Set_2/content/HUC_Intersection_Set_2/huc_10_6.gpkg' \n",
            "  using driver `GPKG'\n",
            "Simple feature collection with 96337 features and 60 fields\n",
            "Geometry type: POINT\n",
            "Dimension:     XY\n",
            "Bounding box:  xmin: -123.1425 ymin: 44.68454 xmax: -122.5136 ymax: 44.83628\n",
            "Geodetic CRS:  WGS 84\n",
            "Reading layer `huc_10_7' from data source \n",
            "  `/content/Huc_Intersection_Set_2/content/HUC_Intersection_Set_2/huc_10_7.gpkg' \n",
            "  using driver `GPKG'\n",
            "Simple feature collection with 117893 features and 60 fields\n",
            "Geometry type: POINT\n",
            "Dimension:     XY\n",
            "Bounding box:  xmin: -122.4033 ymin: 44.39856 xmax: -122.028 ymax: 44.56898\n",
            "Geodetic CRS:  WGS 84\n",
            "Reading layer `huc_10_8' from data source \n",
            "  `/content/Huc_Intersection_Set_2/content/HUC_Intersection_Set_2/huc_10_8.gpkg' \n",
            "  using driver `GPKG'\n",
            "Simple feature collection with 206069 features and 60 fields\n",
            "Geometry type: POINT\n",
            "Dimension:     XY\n",
            "Bounding box:  xmin: -122.4617 ymin: 44.26728 xmax: -122.1245 ymax: 44.48733\n",
            "Geodetic CRS:  WGS 84\n",
            "Reading layer `huc_10_9' from data source \n",
            "  `/content/Huc_Intersection_Set_2/content/HUC_Intersection_Set_2/huc_10_9.gpkg' \n",
            "  using driver `GPKG'\n",
            "Simple feature collection with 172908 features and 60 fields\n",
            "Geometry type: POINT\n",
            "Dimension:     XY\n",
            "Bounding box:  xmin: -122.5833 ymin: 44.42861 xmax: -122.1141 ymax: 44.6688\n",
            "Geodetic CRS:  WGS 84\n"
          ]
        }
      ]
    },
    {
      "cell_type": "code",
      "source": [
        "huc_12_gpgk %>% head"
      ],
      "metadata": {
        "id": "RPAShMFJ--NH",
        "outputId": "109875da-7fdd-4283-929b-c51f14098151",
        "colab": {
          "base_uri": "https://localhost:8080/",
          "height": 1000
        }
      },
      "execution_count": null,
      "outputs": [
        {
          "output_type": "stream",
          "name": "stderr",
          "text": [
            "ERROR while rich displaying an object: Error in loadNamespace(x): there is no package called ‘geojsonio’\n",
            "\n",
            "Traceback:\n",
            "1. tryCatch(withCallingHandlers({\n",
            " .     if (!mime %in% names(repr::mime2repr)) \n",
            " .         stop(\"No repr_* for mimetype \", mime, \" in repr::mime2repr\")\n",
            " .     rpr <- repr::mime2repr[[mime]](obj)\n",
            " .     if (is.null(rpr)) \n",
            " .         return(NULL)\n",
            " .     prepare_content(is.raw(rpr), rpr)\n",
            " . }, error = error_handler), error = outer_handler)\n",
            "2. tryCatchList(expr, classes, parentenv, handlers)\n",
            "3. tryCatchOne(expr, names, parentenv, handlers[[1L]])\n",
            "4. doTryCatch(return(expr), name, parentenv, handler)\n",
            "5. withCallingHandlers({\n",
            " .     if (!mime %in% names(repr::mime2repr)) \n",
            " .         stop(\"No repr_* for mimetype \", mime, \" in repr::mime2repr\")\n",
            " .     rpr <- repr::mime2repr[[mime]](obj)\n",
            " .     if (is.null(rpr)) \n",
            " .         return(NULL)\n",
            " .     prepare_content(is.raw(rpr), rpr)\n",
            " . }, error = error_handler)\n",
            "6. repr::mime2repr[[mime]](obj)\n",
            "7. repr_geojson.sf(obj)\n",
            "8. repr_geojson(geojsonio::geojson_list(obj), ...)\n",
            "9. loadNamespace(x)\n",
            "10. withRestarts(stop(cond), retry_loadNamespace = function() NULL)\n",
            "11. withOneRestart(expr, restarts[[1L]])\n",
            "12. doWithOneRestart(return(expr), restart)\n"
          ]
        },
        {
          "output_type": "display_data",
          "data": {
            "text/html": [
              "<table class=\"dataframe\">\n",
              "<caption>A sf: 6 × 21</caption>\n",
              "<thead>\n",
              "\t<tr><th></th><th scope=col>OBJECTID</th><th scope=col>TNMID</th><th scope=col>MetaSourceID</th><th scope=col>SourceDataDesc</th><th scope=col>SourceOriginator</th><th scope=col>SourceFeatureID</th><th scope=col>LoadDate</th><th scope=col>GNIS_ID</th><th scope=col>AreaAcres</th><th scope=col>AreaSqKm</th><th scope=col>geom</th><th scope=col>⋯</th><th scope=col>HUC12</th><th scope=col>Name</th><th scope=col>HUType</th><th scope=col>HUMod</th><th scope=col>ToHUC</th><th scope=col>NonContributingAreaAcres</th><th scope=col>NonContributingAreaSqKm</th><th scope=col>Shape_Length</th><th scope=col>Shape_Area</th><th scope=col>geom</th></tr>\n",
              "\t<tr><th></th><th scope=col>&lt;dbl&gt;</th><th scope=col>&lt;chr&gt;</th><th scope=col>&lt;chr&gt;</th><th scope=col>&lt;chr&gt;</th><th scope=col>&lt;chr&gt;</th><th scope=col>&lt;chr&gt;</th><th scope=col>&lt;dttm&gt;</th><th scope=col>&lt;int&gt;</th><th scope=col>&lt;dbl&gt;</th><th scope=col>&lt;dbl&gt;</th><th scope=col>⋯</th><th scope=col>&lt;chr&gt;</th><th scope=col>&lt;chr&gt;</th><th scope=col>&lt;chr&gt;</th><th scope=col>&lt;chr&gt;</th><th scope=col>&lt;chr&gt;</th><th scope=col>&lt;dbl&gt;</th><th scope=col>&lt;dbl&gt;</th><th scope=col>&lt;dbl&gt;</th><th scope=col>&lt;dbl&gt;</th><th scope=col>&lt;MULTIPOLYGON [°]&gt;</th></tr>\n",
              "</thead>\n",
              "<tbody>\n",
              "\t<tr><th scope=row>1</th><td>2776</td><td>{C5422594-83A3-4387-934D-8A0A8D5CC177}</td><td>NA                                    </td><td>NA</td><td>NA</td><td>NA</td><td>2013-01-18 07:09:30</td><td>NA</td><td>13082.07</td><td>52.94</td><td>MULTIPOLYGON (((-121.8047 4...</td><td>⋯</td><td>170900050101</td><td>South Fork Breitenbush River      </td><td>S</td><td>NM</td><td>170900050104</td><td>0</td><td>0</td><td>0.4489297</td><td>0.006015605</td><td>MULTIPOLYGON (((-121.8047 4...</td></tr>\n",
              "\t<tr><th scope=row>2</th><td>2777</td><td>{D913B159-09A3-4CC9-910B-A34FF9BAD6DA}</td><td>NA                                    </td><td>NA</td><td>NA</td><td>NA</td><td>2013-01-18 07:09:30</td><td>NA</td><td>16254.91</td><td>65.78</td><td>MULTIPOLYGON (((-121.8202 4...</td><td>⋯</td><td>170900050102</td><td>North Fork Breitenbush River      </td><td>S</td><td>NM</td><td>170900050104</td><td>0</td><td>0</td><td>0.5418556</td><td>0.007478749</td><td>MULTIPOLYGON (((-121.8202 4...</td></tr>\n",
              "\t<tr><th scope=row>3</th><td>2778</td><td>{332D3955-AAB6-40A1-81DE-0BEDDD37BC7B}</td><td>NA                                    </td><td>NA</td><td>NA</td><td>NA</td><td>2013-01-18 07:09:30</td><td>NA</td><td>20395.17</td><td>82.54</td><td>MULTIPOLYGON (((-121.9297 4...</td><td>⋯</td><td>170900050104</td><td>Upper Breitenbush River           </td><td>S</td><td>NM</td><td>170900050105</td><td>0</td><td>0</td><td>0.5543546</td><td>0.009382288</td><td>MULTIPOLYGON (((-121.9297 4...</td></tr>\n",
              "\t<tr><th scope=row>4</th><td>2779</td><td>{1FDE3F77-F2D9-43F0-BC18-6636D10019B6}</td><td>NA                                    </td><td>NA</td><td>NA</td><td>NA</td><td>2013-01-18 07:09:30</td><td>NA</td><td> 9202.70</td><td>37.24</td><td>MULTIPOLYGON (((-122.0755 4...</td><td>⋯</td><td>170900050105</td><td>Lower Breitenbush River           </td><td>S</td><td>NM</td><td>170900050303</td><td>0</td><td>0</td><td>0.3504292</td><td>0.004232901</td><td>MULTIPOLYGON (((-122.0755 4...</td></tr>\n",
              "\t<tr><th scope=row>5</th><td>2780</td><td>{A45E413B-6867-41A6-9CF9-CEE67A190274}</td><td>{A4B99D2F-D7C5-4BCA-A07F-0B6FDF219B65}</td><td>NA</td><td>NA</td><td>NA</td><td>2016-12-01 09:32:19</td><td>NA</td><td>18204.50</td><td>73.67</td><td>MULTIPOLYGON (((-121.9255 4...</td><td>⋯</td><td>170900050201</td><td>Swede Creek-North Santiam River   </td><td>S</td><td>NM</td><td>170900050202</td><td>0</td><td>0</td><td>0.5759817</td><td>0.008335991</td><td>MULTIPOLYGON (((-121.9255 4...</td></tr>\n",
              "\t<tr><th scope=row>6</th><td>2781</td><td>{7EECAB49-4203-42E2-B952-2E0C244C208F}</td><td>{A4B99D2F-D7C5-4BCA-A07F-0B6FDF219B65}</td><td>NA</td><td>NA</td><td>NA</td><td>2016-12-01 09:32:19</td><td>NA</td><td>17233.08</td><td>69.74</td><td>MULTIPOLYGON (((-122.0499 4...</td><td>⋯</td><td>170900050202</td><td>Straight Creek-North Santiam River</td><td>S</td><td>NM</td><td>170900050205</td><td>0</td><td>0</td><td>0.4421352</td><td>0.007898973</td><td>MULTIPOLYGON (((-122.0499 4...</td></tr>\n",
              "</tbody>\n",
              "</table>\n"
            ],
            "text/markdown": "\nA sf: 6 × 21\n\n| <!--/--> | OBJECTID &lt;dbl&gt; | TNMID &lt;chr&gt; | MetaSourceID &lt;chr&gt; | SourceDataDesc &lt;chr&gt; | SourceOriginator &lt;chr&gt; | SourceFeatureID &lt;chr&gt; | LoadDate &lt;dttm&gt; | GNIS_ID &lt;int&gt; | AreaAcres &lt;dbl&gt; | AreaSqKm &lt;dbl&gt; | geom ⋯ | ⋯ &lt;chr&gt; | HUC12 &lt;chr&gt; | Name &lt;chr&gt; | HUType &lt;chr&gt; | HUMod &lt;chr&gt; | ToHUC &lt;dbl&gt; | NonContributingAreaAcres &lt;dbl&gt; | NonContributingAreaSqKm &lt;dbl&gt; | Shape_Length &lt;dbl&gt; | Shape_Area &lt;MULTIPOLYGON [°]&gt; | geom &lt;dbl&gt; |\n|---|---|---|---|---|---|---|---|---|---|---|---|---|---|---|---|---|---|---|---|---|---|\n| 1 | 2776 | {C5422594-83A3-4387-934D-8A0A8D5CC177} | NA                                     | NA | NA | NA | 2013-01-18 07:09:30 | NA | 13082.07 | 52.94 | MULTIPOLYGON (((-121.8047 4... | ⋯ | 170900050101 | South Fork Breitenbush River       | S | NM | 170900050104 | 0 | 0 | 0.4489297 | 0.006015605 | MULTIPOLYGON (((-121.8047 4... |\n| 2 | 2777 | {D913B159-09A3-4CC9-910B-A34FF9BAD6DA} | NA                                     | NA | NA | NA | 2013-01-18 07:09:30 | NA | 16254.91 | 65.78 | MULTIPOLYGON (((-121.8202 4... | ⋯ | 170900050102 | North Fork Breitenbush River       | S | NM | 170900050104 | 0 | 0 | 0.5418556 | 0.007478749 | MULTIPOLYGON (((-121.8202 4... |\n| 3 | 2778 | {332D3955-AAB6-40A1-81DE-0BEDDD37BC7B} | NA                                     | NA | NA | NA | 2013-01-18 07:09:30 | NA | 20395.17 | 82.54 | MULTIPOLYGON (((-121.9297 4... | ⋯ | 170900050104 | Upper Breitenbush River            | S | NM | 170900050105 | 0 | 0 | 0.5543546 | 0.009382288 | MULTIPOLYGON (((-121.9297 4... |\n| 4 | 2779 | {1FDE3F77-F2D9-43F0-BC18-6636D10019B6} | NA                                     | NA | NA | NA | 2013-01-18 07:09:30 | NA |  9202.70 | 37.24 | MULTIPOLYGON (((-122.0755 4... | ⋯ | 170900050105 | Lower Breitenbush River            | S | NM | 170900050303 | 0 | 0 | 0.3504292 | 0.004232901 | MULTIPOLYGON (((-122.0755 4... |\n| 5 | 2780 | {A45E413B-6867-41A6-9CF9-CEE67A190274} | {A4B99D2F-D7C5-4BCA-A07F-0B6FDF219B65} | NA | NA | NA | 2016-12-01 09:32:19 | NA | 18204.50 | 73.67 | MULTIPOLYGON (((-121.9255 4... | ⋯ | 170900050201 | Swede Creek-North Santiam River    | S | NM | 170900050202 | 0 | 0 | 0.5759817 | 0.008335991 | MULTIPOLYGON (((-121.9255 4... |\n| 6 | 2781 | {7EECAB49-4203-42E2-B952-2E0C244C208F} | {A4B99D2F-D7C5-4BCA-A07F-0B6FDF219B65} | NA | NA | NA | 2016-12-01 09:32:19 | NA | 17233.08 | 69.74 | MULTIPOLYGON (((-122.0499 4... | ⋯ | 170900050202 | Straight Creek-North Santiam River | S | NM | 170900050205 | 0 | 0 | 0.4421352 | 0.007898973 | MULTIPOLYGON (((-122.0499 4... |\n\n",
            "text/latex": "A sf: 6 × 21\n\\begin{tabular}{r|lllllllllllllllllllll}\n  & OBJECTID & TNMID & MetaSourceID & SourceDataDesc & SourceOriginator & SourceFeatureID & LoadDate & GNIS\\_ID & AreaAcres & AreaSqKm & geom & ⋯ & HUC12 & Name & HUType & HUMod & ToHUC & NonContributingAreaAcres & NonContributingAreaSqKm & Shape\\_Length & Shape\\_Area & geom\\\\\n  & <dbl> & <chr> & <chr> & <chr> & <chr> & <chr> & <dttm> & <int> & <dbl> & <dbl> & ⋯ & <chr> & <chr> & <chr> & <chr> & <chr> & <dbl> & <dbl> & <dbl> & <dbl> & <MULTIPOLYGON {[}°{]}>\\\\\n\\hline\n\t1 & 2776 & \\{C5422594-83A3-4387-934D-8A0A8D5CC177\\} & NA                                     & NA & NA & NA & 2013-01-18 07:09:30 & NA & 13082.07 & 52.94 & MULTIPOLYGON (((-121.8047 4... & ⋯ & 170900050101 & South Fork Breitenbush River       & S & NM & 170900050104 & 0 & 0 & 0.4489297 & 0.006015605 & MULTIPOLYGON (((-121.8047 4...\\\\\n\t2 & 2777 & \\{D913B159-09A3-4CC9-910B-A34FF9BAD6DA\\} & NA                                     & NA & NA & NA & 2013-01-18 07:09:30 & NA & 16254.91 & 65.78 & MULTIPOLYGON (((-121.8202 4... & ⋯ & 170900050102 & North Fork Breitenbush River       & S & NM & 170900050104 & 0 & 0 & 0.5418556 & 0.007478749 & MULTIPOLYGON (((-121.8202 4...\\\\\n\t3 & 2778 & \\{332D3955-AAB6-40A1-81DE-0BEDDD37BC7B\\} & NA                                     & NA & NA & NA & 2013-01-18 07:09:30 & NA & 20395.17 & 82.54 & MULTIPOLYGON (((-121.9297 4... & ⋯ & 170900050104 & Upper Breitenbush River            & S & NM & 170900050105 & 0 & 0 & 0.5543546 & 0.009382288 & MULTIPOLYGON (((-121.9297 4...\\\\\n\t4 & 2779 & \\{1FDE3F77-F2D9-43F0-BC18-6636D10019B6\\} & NA                                     & NA & NA & NA & 2013-01-18 07:09:30 & NA &  9202.70 & 37.24 & MULTIPOLYGON (((-122.0755 4... & ⋯ & 170900050105 & Lower Breitenbush River            & S & NM & 170900050303 & 0 & 0 & 0.3504292 & 0.004232901 & MULTIPOLYGON (((-122.0755 4...\\\\\n\t5 & 2780 & \\{A45E413B-6867-41A6-9CF9-CEE67A190274\\} & \\{A4B99D2F-D7C5-4BCA-A07F-0B6FDF219B65\\} & NA & NA & NA & 2016-12-01 09:32:19 & NA & 18204.50 & 73.67 & MULTIPOLYGON (((-121.9255 4... & ⋯ & 170900050201 & Swede Creek-North Santiam River    & S & NM & 170900050202 & 0 & 0 & 0.5759817 & 0.008335991 & MULTIPOLYGON (((-121.9255 4...\\\\\n\t6 & 2781 & \\{7EECAB49-4203-42E2-B952-2E0C244C208F\\} & \\{A4B99D2F-D7C5-4BCA-A07F-0B6FDF219B65\\} & NA & NA & NA & 2016-12-01 09:32:19 & NA & 17233.08 & 69.74 & MULTIPOLYGON (((-122.0499 4... & ⋯ & 170900050202 & Straight Creek-North Santiam River & S & NM & 170900050205 & 0 & 0 & 0.4421352 & 0.007898973 & MULTIPOLYGON (((-122.0499 4...\\\\\n\\end{tabular}\n",
            "text/plain": [
              "  OBJECTID TNMID                                 \n",
              "1 2776     {C5422594-83A3-4387-934D-8A0A8D5CC177}\n",
              "2 2777     {D913B159-09A3-4CC9-910B-A34FF9BAD6DA}\n",
              "3 2778     {332D3955-AAB6-40A1-81DE-0BEDDD37BC7B}\n",
              "4 2779     {1FDE3F77-F2D9-43F0-BC18-6636D10019B6}\n",
              "5 2780     {A45E413B-6867-41A6-9CF9-CEE67A190274}\n",
              "6 2781     {7EECAB49-4203-42E2-B952-2E0C244C208F}\n",
              "  MetaSourceID                           SourceDataDesc SourceOriginator\n",
              "1 NA                                     NA             NA              \n",
              "2 NA                                     NA             NA              \n",
              "3 NA                                     NA             NA              \n",
              "4 NA                                     NA             NA              \n",
              "5 {A4B99D2F-D7C5-4BCA-A07F-0B6FDF219B65} NA             NA              \n",
              "6 {A4B99D2F-D7C5-4BCA-A07F-0B6FDF219B65} NA             NA              \n",
              "  SourceFeatureID LoadDate            GNIS_ID AreaAcres AreaSqKm\n",
              "1 NA              2013-01-18 07:09:30 NA      13082.07  52.94   \n",
              "2 NA              2013-01-18 07:09:30 NA      16254.91  65.78   \n",
              "3 NA              2013-01-18 07:09:30 NA      20395.17  82.54   \n",
              "4 NA              2013-01-18 07:09:30 NA       9202.70  37.24   \n",
              "5 NA              2016-12-01 09:32:19 NA      18204.50  73.67   \n",
              "6 NA              2016-12-01 09:32:19 NA      17233.08  69.74   \n",
              "  geom                           ⋯ HUC12       \n",
              "1 MULTIPOLYGON (((-121.8047 4... ⋯ 170900050101\n",
              "2 MULTIPOLYGON (((-121.8202 4... ⋯ 170900050102\n",
              "3 MULTIPOLYGON (((-121.9297 4... ⋯ 170900050104\n",
              "4 MULTIPOLYGON (((-122.0755 4... ⋯ 170900050105\n",
              "5 MULTIPOLYGON (((-121.9255 4... ⋯ 170900050201\n",
              "6 MULTIPOLYGON (((-122.0499 4... ⋯ 170900050202\n",
              "  Name                               HUType HUMod ToHUC       \n",
              "1 South Fork Breitenbush River       S      NM    170900050104\n",
              "2 North Fork Breitenbush River       S      NM    170900050104\n",
              "3 Upper Breitenbush River            S      NM    170900050105\n",
              "4 Lower Breitenbush River            S      NM    170900050303\n",
              "5 Swede Creek-North Santiam River    S      NM    170900050202\n",
              "6 Straight Creek-North Santiam River S      NM    170900050205\n",
              "  NonContributingAreaAcres NonContributingAreaSqKm Shape_Length Shape_Area \n",
              "1 0                        0                       0.4489297    0.006015605\n",
              "2 0                        0                       0.5418556    0.007478749\n",
              "3 0                        0                       0.5543546    0.009382288\n",
              "4 0                        0                       0.3504292    0.004232901\n",
              "5 0                        0                       0.5759817    0.008335991\n",
              "6 0                        0                       0.4421352    0.007898973\n",
              "  geom                          \n",
              "1 MULTIPOLYGON (((-121.8047 4...\n",
              "2 MULTIPOLYGON (((-121.8202 4...\n",
              "3 MULTIPOLYGON (((-121.9297 4...\n",
              "4 MULTIPOLYGON (((-122.0755 4...\n",
              "5 MULTIPOLYGON (((-121.9255 4...\n",
              "6 MULTIPOLYGON (((-122.0499 4..."
            ]
          },
          "metadata": {}
        }
      ]
    },
    {
      "cell_type": "code",
      "source": [
        "  # x_sf <- gedi_int_dt %>% st_as_sf\n",
        "  gedi_int_dt$HUC8 <- huc_8_gpgk$HUC8[gedi_int_dt$geom %>% st_intersects(huc_8_gpgk)  %>% lapply(function(x){x[1]}) %>% unlist]\n",
        "  gedi_int_dt$HUC10 <- huc_10_gpgk$HUC10[gedi_int_dt$geom %>% st_intersects(huc_10_gpgk)  %>% lapply(function(x){x[1]}) %>% unlist]\n",
        "  gedi_int_dt$HUC12 <- huc_12_gpgk$HUC12[gedi_int_dt$geom %>% st_intersects(huc_12_gpgk)  %>% lapply(function(x){x[1]}) %>% unlist]"
      ],
      "metadata": {
        "id": "pJ63dzicWXjw"
      },
      "execution_count": null,
      "outputs": []
    },
    {
      "cell_type": "code",
      "source": [
        "# gedi_int_dt$HUC12  %>% table"
      ],
      "metadata": {
        "id": "4quzZrccBqaZ"
      },
      "execution_count": null,
      "outputs": []
    },
    {
      "cell_type": "code",
      "source": [
        "gedi_int_dt %>% nrow\n",
        "gedi_int_dt[l4_quality_flag ==1,] %>% nrow\n",
        "\n",
        "gedi_int_dt %>% names"
      ],
      "metadata": {
        "id": "yY2m88HCvvGG",
        "outputId": "0c61641a-d88d-411f-8f22-babb4bf688d1",
        "colab": {
          "base_uri": "https://localhost:8080/",
          "height": 191
        }
      },
      "execution_count": null,
      "outputs": [
        {
          "output_type": "display_data",
          "data": {
            "text/html": [
              "5447648"
            ],
            "text/markdown": "5447648",
            "text/latex": "5447648",
            "text/plain": [
              "[1] 5447648"
            ]
          },
          "metadata": {}
        },
        {
          "output_type": "display_data",
          "data": {
            "text/html": [
              "1796045"
            ],
            "text/markdown": "1796045",
            "text/latex": "1796045",
            "text/plain": [
              "[1] 1796045"
            ]
          },
          "metadata": {}
        },
        {
          "output_type": "display_data",
          "data": {
            "text/html": [
              "<style>\n",
              ".list-inline {list-style: none; margin:0; padding: 0}\n",
              ".list-inline>li {display: inline-block}\n",
              ".list-inline>li:not(:last-child)::after {content: \"\\00b7\"; padding: 0 .5ex}\n",
              "</style>\n",
              "<ol class=list-inline><li>'agbd'</li><li>'lat_lowestmode'</li><li>'lon_lowestmode'</li><li>'agbd_pi_lower'</li><li>'agbd_pi_upper'</li><li>'agbd_se'</li><li>'agbd_t'</li><li>'agbd_t_se'</li><li>'algorithm_run_flag'</li><li>'channel'</li><li>'degrade_flag'</li><li>'delta_time'</li><li>'elev_lowestmode'</li><li>'l2_quality_flag'</li><li>'l4_quality_flag'</li><li>'gedi_year'</li><li>'min_yod'</li><li>'min_mag'</li><li>'min_dur'</li><li>'min_preval'</li><li>'min_rate'</li><li>'min_dsnr'</li><li>'max_yod'</li><li>'max_mag'</li><li>'max_dur'</li><li>'max_preval'</li><li>'max_rate'</li><li>'max_dsnr'</li><li>'mean_yod'</li><li>'mean_mag'</li><li>'mean_dur'</li><li>'mean_preval'</li><li>'mean_rate'</li><li>'mean_dsnr'</li><li>'median_yod'</li><li>'median_mag'</li><li>'median_dur'</li><li>'median_preval'</li><li>'median_rate'</li><li>'median_dsnr'</li><li>'min_hja_2008'</li><li>'max_hja_2008'</li><li>'mean_hja_2008'</li><li>'median_hja_2008'</li><li>'min_conus_2003'</li><li>'max_conus_2003'</li><li>'mean_conus_2003'</li><li>'median_conus_2003'</li><li>'min_conus_2016'</li><li>'max_conus_2016'</li><li>'mean_conus_2016'</li><li>'median_conus_2016'</li><li>'gedi_vec_id'</li><li>'gedi_vec_year'</li><li>'gedi_vec_area'</li><li>'Ownership'</li><li>'LandManager'</li><li>'FIRE_INC_ID'</li><li>'FIRE_NAME'</li><li>'FIRE_YEAR'</li><li>'geom'</li><li>'HUC8'</li><li>'HUC10'</li><li>'HUC12'</li></ol>\n"
            ],
            "text/markdown": "1. 'agbd'\n2. 'lat_lowestmode'\n3. 'lon_lowestmode'\n4. 'agbd_pi_lower'\n5. 'agbd_pi_upper'\n6. 'agbd_se'\n7. 'agbd_t'\n8. 'agbd_t_se'\n9. 'algorithm_run_flag'\n10. 'channel'\n11. 'degrade_flag'\n12. 'delta_time'\n13. 'elev_lowestmode'\n14. 'l2_quality_flag'\n15. 'l4_quality_flag'\n16. 'gedi_year'\n17. 'min_yod'\n18. 'min_mag'\n19. 'min_dur'\n20. 'min_preval'\n21. 'min_rate'\n22. 'min_dsnr'\n23. 'max_yod'\n24. 'max_mag'\n25. 'max_dur'\n26. 'max_preval'\n27. 'max_rate'\n28. 'max_dsnr'\n29. 'mean_yod'\n30. 'mean_mag'\n31. 'mean_dur'\n32. 'mean_preval'\n33. 'mean_rate'\n34. 'mean_dsnr'\n35. 'median_yod'\n36. 'median_mag'\n37. 'median_dur'\n38. 'median_preval'\n39. 'median_rate'\n40. 'median_dsnr'\n41. 'min_hja_2008'\n42. 'max_hja_2008'\n43. 'mean_hja_2008'\n44. 'median_hja_2008'\n45. 'min_conus_2003'\n46. 'max_conus_2003'\n47. 'mean_conus_2003'\n48. 'median_conus_2003'\n49. 'min_conus_2016'\n50. 'max_conus_2016'\n51. 'mean_conus_2016'\n52. 'median_conus_2016'\n53. 'gedi_vec_id'\n54. 'gedi_vec_year'\n55. 'gedi_vec_area'\n56. 'Ownership'\n57. 'LandManager'\n58. 'FIRE_INC_ID'\n59. 'FIRE_NAME'\n60. 'FIRE_YEAR'\n61. 'geom'\n62. 'HUC8'\n63. 'HUC10'\n64. 'HUC12'\n\n\n",
            "text/latex": "\\begin{enumerate*}\n\\item 'agbd'\n\\item 'lat\\_lowestmode'\n\\item 'lon\\_lowestmode'\n\\item 'agbd\\_pi\\_lower'\n\\item 'agbd\\_pi\\_upper'\n\\item 'agbd\\_se'\n\\item 'agbd\\_t'\n\\item 'agbd\\_t\\_se'\n\\item 'algorithm\\_run\\_flag'\n\\item 'channel'\n\\item 'degrade\\_flag'\n\\item 'delta\\_time'\n\\item 'elev\\_lowestmode'\n\\item 'l2\\_quality\\_flag'\n\\item 'l4\\_quality\\_flag'\n\\item 'gedi\\_year'\n\\item 'min\\_yod'\n\\item 'min\\_mag'\n\\item 'min\\_dur'\n\\item 'min\\_preval'\n\\item 'min\\_rate'\n\\item 'min\\_dsnr'\n\\item 'max\\_yod'\n\\item 'max\\_mag'\n\\item 'max\\_dur'\n\\item 'max\\_preval'\n\\item 'max\\_rate'\n\\item 'max\\_dsnr'\n\\item 'mean\\_yod'\n\\item 'mean\\_mag'\n\\item 'mean\\_dur'\n\\item 'mean\\_preval'\n\\item 'mean\\_rate'\n\\item 'mean\\_dsnr'\n\\item 'median\\_yod'\n\\item 'median\\_mag'\n\\item 'median\\_dur'\n\\item 'median\\_preval'\n\\item 'median\\_rate'\n\\item 'median\\_dsnr'\n\\item 'min\\_hja\\_2008'\n\\item 'max\\_hja\\_2008'\n\\item 'mean\\_hja\\_2008'\n\\item 'median\\_hja\\_2008'\n\\item 'min\\_conus\\_2003'\n\\item 'max\\_conus\\_2003'\n\\item 'mean\\_conus\\_2003'\n\\item 'median\\_conus\\_2003'\n\\item 'min\\_conus\\_2016'\n\\item 'max\\_conus\\_2016'\n\\item 'mean\\_conus\\_2016'\n\\item 'median\\_conus\\_2016'\n\\item 'gedi\\_vec\\_id'\n\\item 'gedi\\_vec\\_year'\n\\item 'gedi\\_vec\\_area'\n\\item 'Ownership'\n\\item 'LandManager'\n\\item 'FIRE\\_INC\\_ID'\n\\item 'FIRE\\_NAME'\n\\item 'FIRE\\_YEAR'\n\\item 'geom'\n\\item 'HUC8'\n\\item 'HUC10'\n\\item 'HUC12'\n\\end{enumerate*}\n",
            "text/plain": [
              " [1] \"agbd\"               \"lat_lowestmode\"     \"lon_lowestmode\"    \n",
              " [4] \"agbd_pi_lower\"      \"agbd_pi_upper\"      \"agbd_se\"           \n",
              " [7] \"agbd_t\"             \"agbd_t_se\"          \"algorithm_run_flag\"\n",
              "[10] \"channel\"            \"degrade_flag\"       \"delta_time\"        \n",
              "[13] \"elev_lowestmode\"    \"l2_quality_flag\"    \"l4_quality_flag\"   \n",
              "[16] \"gedi_year\"          \"min_yod\"            \"min_mag\"           \n",
              "[19] \"min_dur\"            \"min_preval\"         \"min_rate\"          \n",
              "[22] \"min_dsnr\"           \"max_yod\"            \"max_mag\"           \n",
              "[25] \"max_dur\"            \"max_preval\"         \"max_rate\"          \n",
              "[28] \"max_dsnr\"           \"mean_yod\"           \"mean_mag\"          \n",
              "[31] \"mean_dur\"           \"mean_preval\"        \"mean_rate\"         \n",
              "[34] \"mean_dsnr\"          \"median_yod\"         \"median_mag\"        \n",
              "[37] \"median_dur\"         \"median_preval\"      \"median_rate\"       \n",
              "[40] \"median_dsnr\"        \"min_hja_2008\"       \"max_hja_2008\"      \n",
              "[43] \"mean_hja_2008\"      \"median_hja_2008\"    \"min_conus_2003\"    \n",
              "[46] \"max_conus_2003\"     \"mean_conus_2003\"    \"median_conus_2003\" \n",
              "[49] \"min_conus_2016\"     \"max_conus_2016\"     \"mean_conus_2016\"   \n",
              "[52] \"median_conus_2016\"  \"gedi_vec_id\"        \"gedi_vec_year\"     \n",
              "[55] \"gedi_vec_area\"      \"Ownership\"          \"LandManager\"       \n",
              "[58] \"FIRE_INC_ID\"        \"FIRE_NAME\"          \"FIRE_YEAR\"         \n",
              "[61] \"geom\"               \"HUC8\"               \"HUC10\"             \n",
              "[64] \"HUC12\"             "
            ]
          },
          "metadata": {}
        }
      ]
    },
    {
      "cell_type": "code",
      "source": [
        "gedi_int_dt$Ownership %>% table\n",
        "gedi_int_dt$LandManager %>% table"
      ],
      "metadata": {
        "id": "vkEFtCQJGrlM",
        "outputId": "7b5d187d-1a77-459e-c83d-bed2c9c790e8",
        "colab": {
          "base_uri": "https://localhost:8080/",
          "height": 191
        }
      },
      "execution_count": null,
      "outputs": [
        {
          "output_type": "display_data",
          "data": {
            "text/plain": [
              ".\n",
              "    BIA     BLM     BPA     DOD     DOE     FWS     GSA      LG     ODF ODFODSL \n",
              "   1140  286014     325    1010      88    8759     659   13428   60692    1277 \n",
              "   ODFW    ODOT    ODSL    OPRD      OR     OSU      PV     PVI  TRIBAL   USACE \n",
              "   4473     477     315    6337     807   24871 2063725 1095308    2335   45358 \n",
              "   USDA    USFS   WATER \n",
              "     48 1826915    3287 "
            ]
          },
          "metadata": {}
        },
        {
          "output_type": "display_data",
          "data": {
            "text/plain": [
              ".\n",
              "    PNI     PVI \n",
              "  72979 1320867 "
            ]
          },
          "metadata": {}
        }
      ]
    },
    {
      "cell_type": "code",
      "source": [
        "# gedi_int_dt$HUC8 <- gedi_int_dt$HUC8 %>%factor()"
      ],
      "metadata": {
        "id": "v1zLIuy_ASMx"
      },
      "execution_count": null,
      "outputs": []
    },
    {
      "cell_type": "code",
      "source": [
        "gedi_int_dt[!(gedi_int_dt$HUC8 %>% is.na) & !(gedi_int_dt$HUC10 %>% is.na) &min_yod>1980 & gedi_year>min_yod+5 &gedi_vec_area>10000 & !is.na(agbd) &l4_quality_flag==1,][,list(agbd = mean(agbd,na.rm=T),mean_conus_2003 = mean(mean_conus_2003,na.rm=T),mean_hja_2008 = mean(mean_hja_2008,na.rm=T),mean_conus_2016 = mean(mean_conus_2016,na.rm=T),min_yod = mean(min_yod,na.rm=T)),by=.(gedi_year,gedi_vec_id,HUC8,HUC10,HUC12)] %>%\n",
        "  ggplot(aes(x=2023-min_yod,y=agbd/(2023-min_yod)))+\n",
        "  # geom_point( ) +\n",
        "  # geom_point(aes(y=mean_conus_2003,color='MODIS 2003' %>% factor(levels = c('GEDI','ALS, 2008','MODIS 2003','LS, 2016'))) ) +\n",
        "  # geom_point(aes(y=mean_hja_2008,color='ALS, 2008' %>% factor(levels = c('GEDI','ALS, 2008','MODIS 2003','LS, 2016')))  ) +\n",
        "  # geom_point(aes(y=mean_conus_2016,color='LS, 2016' %>% factor(levels = c('GEDI','ALS, 2008','MODIS 2003','LS, 2016')))  )+\n",
        "  # geom_abline(color='red') +\n",
        "  geom_smooth(aes(color=HUC8 %>% as.factor,group = HUC10) ) +\n",
        "  # geom_boxplot(aes(color=HUC8 %>% as.factor,group = 2023-min_yod) ) +\n",
        "  geom_smooth(aes(group = HUC8),color='red') +\n",
        "  # geom_smooth(aes(y=mean_conus_2003,color='MODIS 2003' %>% factor(levels = c('GEDI','ALS, 2008','MODIS 2003','LS, 2016'))) ) +\n",
        "  # geom_smooth(aes(y=mean_hja_2008,color='ALS, 2008' %>% factor(levels = c('GEDI','ALS, 2008','MODIS 2003','LS, 2016'))) ) +\n",
        "  # geom_smooth(aes(y=mean_conus_2016,color='LS, 2016' %>% factor(levels = c('GEDI','ALS, 2008','MODIS 2003','LS, 2016'))) ) +\n",
        "  # Hide the annotations\n",
        "  # Manually add custom legend\n",
        "  # ylim(0,50)+\n",
        "  xlab('years after disturbance')+\n",
        "  # scale_color_manual(\n",
        "  #   values = c('GEDI' = 'green', 'MODIS 2003' = 'red', 'ALS, 2008' = 'purple', 'LS, 2016' = 'salmon'),\n",
        "  #   name = 'agbd source',  # Changing the name of the legend here  #   breaks = c('GEDI','MODIS 2003','ALS, 2008','LS, 2016'),\n",
        "  #   labels = c('GEDI', 'MODIS 2003', 'ALS, 2008','LS, 2016'),\n",
        "  #   position = 'bottom') +\n",
        "  theme(legend.position = 'bottom')+\n",
        "  facet_wrap(HUC8~.)\n"
      ],
      "metadata": {
        "id": "Fc_rzdmhmkcM",
        "outputId": "1678c754-8d04-4264-de39-45a34d144e48",
        "colab": {
          "base_uri": "https://localhost:8080/",
          "height": 472
        }
      },
      "execution_count": null,
      "outputs": [
        {
          "output_type": "stream",
          "name": "stderr",
          "text": [
            "\u001b[1m\u001b[22m`geom_smooth()` using method = 'gam' and formula = 'y ~ s(x, bs = \"cs\")'\n",
            "\u001b[1m\u001b[22m`geom_smooth()` using method = 'gam' and formula = 'y ~ s(x, bs = \"cs\")'\n"
          ]
        },
        {
          "output_type": "display_data",
          "data": {
            "text/plain": [
              "plot without title"
            ],
            "image/png": "[encoded data removed]"
          },
          "metadata": {
            "image/png": {
              "width": 420,
              "height": 420
            }
          }
        }
      ]
    },
    {
      "cell_type": "code",
      "source": [
        "facet_labels <- c(\n",
        "  \"TRUE\" = \"Harvest related disturbance\",\n",
        "  \"FALSE\" = \"Fire related disturbance\"\n",
        ")\n",
        "gedi_int_dt[min_yod>1980 & gedi_year>min_yod+5 &gedi_vec_area>1000 & !is.na(agbd)  &l4_quality_flag==1,][,list(agbd = mean(agbd,na.rm=T),mean_conus_2003 = mean(mean_conus_2003,na.rm=T),mean_hja_2008 = mean(mean_hja_2008,na.rm=T),mean_conus_2016 = mean(mean_conus_2016,na.rm=T),min_yod = mean(min_yod,na.rm=T),class = is.na(FIRE_INC_ID)),by=.(FIRE_NAME,LandManager,gedi_year,gedi_vec_id)] %>%\n",
        "  ggplot(aes(x=2023-min_yod,y=agbd,color=LandManager))+\n",
        "  # geom_point( ) +\n",
        "  # geom_point(aes(y=mean_conus_2003,color='MODIS 2003' %>% factor(levels = c('GEDI','ALS, 2008','MODIS 2003','LS, 2016'))) ) +\n",
        "  # geom_point(aes(y=mean_hja_2008,color='ALS, 2008' %>% factor(levels = c('GEDI','ALS, 2008','MODIS 2003','LS, 2016')))  ) +\n",
        "  # geom_point(aes(y=mean_conus_2016,color='LS, 2016' %>% factor(levels = c('GEDI','ALS, 2008','MODIS 2003','LS, 2016')))  )+\n",
        "  # geom_abline(color='red') +\n",
        "  geom_smooth( ) +\n",
        "  # geom_smooth(aes(y=mean_conus_2003,color='MODIS 2003' %>% factor(levels = c('GEDI','ALS, 2008','MODIS 2003','LS, 2016'))) ) +\n",
        "  # geom_smooth(aes(y=mean_hja_2008,color='ALS, 2008' %>% factor(levels = c('GEDI','ALS, 2008','MODIS 2003','LS, 2016'))) ) +\n",
        "  # geom_smooth(aes(y=mean_conus_2016,color='LS, 2016' %>% factor(levels = c('GEDI','ALS, 2008','MODIS 2003','LS, 2016'))) ) +\n",
        "  # Hide the annotations\n",
        "  # Manually add custom legend\n",
        "  xlab('years after disturbance')+\n",
        "  # scale_color_manual(\n",
        "  #   values = c('GEDI' = 'green', 'MODIS 2003' = 'red', 'ALS, 2008' = 'purple', 'LS, 2016' = 'salmon'),\n",
        "  #   name = 'agbd source',  # Changing the name of the legend here\n",
        "  #   breaks = c('GEDI','MODIS 2003','ALS, 2008','LS, 2016'),\n",
        "  #   labels = c('GEDI', 'MODIS 2003', 'ALS, 2008','LS, 2016'),\n",
        "  #   position = 'bottom') +\n",
        "  theme(legend.position = 'bottom')+\n",
        "  facet_grid(class~., labeller = as_labeller(facet_labels))\n"
      ],
      "metadata": {
        "id": "SrtYZgNnNB_9",
        "outputId": "959ea577-8ec1-4cca-ea39-30f903616737",
        "colab": {
          "base_uri": "https://localhost:8080/",
          "height": 454
        }
      },
      "execution_count": null,
      "outputs": [
        {
          "output_type": "stream",
          "name": "stderr",
          "text": [
            "\u001b[1m\u001b[22m`geom_smooth()` using method = 'gam' and formula = 'y ~ s(x, bs = \"cs\")'\n"
          ]
        },
        {
          "output_type": "display_data",
          "data": {
            "text/plain": [
              "plot without title"
            ],
            "image/png": "[encoded data removed]"
          },
          "metadata": {
            "image/png": {
              "width": 420,
              "height": 420
            }
          }
        }
      ]
    },
    {
      "cell_type": "code",
      "source": [
        "gedi_int_dt %>% names"
      ],
      "metadata": {
        "id": "y7WkPJlGUU4L",
        "outputId": "28c1c69d-5030-4850-da90-b39c186acea7",
        "colab": {
          "base_uri": "https://localhost:8080/",
          "height": 156
        }
      },
      "execution_count": null,
      "outputs": [
        {
          "output_type": "display_data",
          "data": {
            "text/html": [
              "<style>\n",
              ".list-inline {list-style: none; margin:0; padding: 0}\n",
              ".list-inline>li {display: inline-block}\n",
              ".list-inline>li:not(:last-child)::after {content: \"\\00b7\"; padding: 0 .5ex}\n",
              "</style>\n",
              "<ol class=list-inline><li>'agbd'</li><li>'lat_lowestmode'</li><li>'lon_lowestmode'</li><li>'agbd_pi_lower'</li><li>'agbd_pi_upper'</li><li>'agbd_se'</li><li>'agbd_t'</li><li>'agbd_t_se'</li><li>'algorithm_run_flag'</li><li>'channel'</li><li>'degrade_flag'</li><li>'delta_time'</li><li>'elev_lowestmode'</li><li>'l2_quality_flag'</li><li>'l4_quality_flag'</li><li>'gedi_year'</li><li>'min_yod'</li><li>'min_mag'</li><li>'min_dur'</li><li>'min_preval'</li><li>'min_rate'</li><li>'min_dsnr'</li><li>'max_yod'</li><li>'max_mag'</li><li>'max_dur'</li><li>'max_preval'</li><li>'max_rate'</li><li>'max_dsnr'</li><li>'mean_yod'</li><li>'mean_mag'</li><li>'mean_dur'</li><li>'mean_preval'</li><li>'mean_rate'</li><li>'mean_dsnr'</li><li>'median_yod'</li><li>'median_mag'</li><li>'median_dur'</li><li>'median_preval'</li><li>'median_rate'</li><li>'median_dsnr'</li><li>'min_hja_2008'</li><li>'max_hja_2008'</li><li>'mean_hja_2008'</li><li>'median_hja_2008'</li><li>'min_conus_2003'</li><li>'max_conus_2003'</li><li>'mean_conus_2003'</li><li>'median_conus_2003'</li><li>'min_conus_2016'</li><li>'max_conus_2016'</li><li>'mean_conus_2016'</li><li>'median_conus_2016'</li><li>'gedi_vec_id'</li><li>'gedi_vec_year'</li><li>'gedi_vec_area'</li><li>'Ownership'</li><li>'LandManager'</li><li>'FIRE_INC_ID'</li><li>'FIRE_NAME'</li><li>'FIRE_YEAR'</li><li>'geom'</li><li>'HUC8'</li><li>'HUC10'</li><li>'HUC12'</li></ol>\n"
            ],
            "text/markdown": "1. 'agbd'\n2. 'lat_lowestmode'\n3. 'lon_lowestmode'\n4. 'agbd_pi_lower'\n5. 'agbd_pi_upper'\n6. 'agbd_se'\n7. 'agbd_t'\n8. 'agbd_t_se'\n9. 'algorithm_run_flag'\n10. 'channel'\n11. 'degrade_flag'\n12. 'delta_time'\n13. 'elev_lowestmode'\n14. 'l2_quality_flag'\n15. 'l4_quality_flag'\n16. 'gedi_year'\n17. 'min_yod'\n18. 'min_mag'\n19. 'min_dur'\n20. 'min_preval'\n21. 'min_rate'\n22. 'min_dsnr'\n23. 'max_yod'\n24. 'max_mag'\n25. 'max_dur'\n26. 'max_preval'\n27. 'max_rate'\n28. 'max_dsnr'\n29. 'mean_yod'\n30. 'mean_mag'\n31. 'mean_dur'\n32. 'mean_preval'\n33. 'mean_rate'\n34. 'mean_dsnr'\n35. 'median_yod'\n36. 'median_mag'\n37. 'median_dur'\n38. 'median_preval'\n39. 'median_rate'\n40. 'median_dsnr'\n41. 'min_hja_2008'\n42. 'max_hja_2008'\n43. 'mean_hja_2008'\n44. 'median_hja_2008'\n45. 'min_conus_2003'\n46. 'max_conus_2003'\n47. 'mean_conus_2003'\n48. 'median_conus_2003'\n49. 'min_conus_2016'\n50. 'max_conus_2016'\n51. 'mean_conus_2016'\n52. 'median_conus_2016'\n53. 'gedi_vec_id'\n54. 'gedi_vec_year'\n55. 'gedi_vec_area'\n56. 'Ownership'\n57. 'LandManager'\n58. 'FIRE_INC_ID'\n59. 'FIRE_NAME'\n60. 'FIRE_YEAR'\n61. 'geom'\n62. 'HUC8'\n63. 'HUC10'\n64. 'HUC12'\n\n\n",
            "text/latex": "\\begin{enumerate*}\n\\item 'agbd'\n\\item 'lat\\_lowestmode'\n\\item 'lon\\_lowestmode'\n\\item 'agbd\\_pi\\_lower'\n\\item 'agbd\\_pi\\_upper'\n\\item 'agbd\\_se'\n\\item 'agbd\\_t'\n\\item 'agbd\\_t\\_se'\n\\item 'algorithm\\_run\\_flag'\n\\item 'channel'\n\\item 'degrade\\_flag'\n\\item 'delta\\_time'\n\\item 'elev\\_lowestmode'\n\\item 'l2\\_quality\\_flag'\n\\item 'l4\\_quality\\_flag'\n\\item 'gedi\\_year'\n\\item 'min\\_yod'\n\\item 'min\\_mag'\n\\item 'min\\_dur'\n\\item 'min\\_preval'\n\\item 'min\\_rate'\n\\item 'min\\_dsnr'\n\\item 'max\\_yod'\n\\item 'max\\_mag'\n\\item 'max\\_dur'\n\\item 'max\\_preval'\n\\item 'max\\_rate'\n\\item 'max\\_dsnr'\n\\item 'mean\\_yod'\n\\item 'mean\\_mag'\n\\item 'mean\\_dur'\n\\item 'mean\\_preval'\n\\item 'mean\\_rate'\n\\item 'mean\\_dsnr'\n\\item 'median\\_yod'\n\\item 'median\\_mag'\n\\item 'median\\_dur'\n\\item 'median\\_preval'\n\\item 'median\\_rate'\n\\item 'median\\_dsnr'\n\\item 'min\\_hja\\_2008'\n\\item 'max\\_hja\\_2008'\n\\item 'mean\\_hja\\_2008'\n\\item 'median\\_hja\\_2008'\n\\item 'min\\_conus\\_2003'\n\\item 'max\\_conus\\_2003'\n\\item 'mean\\_conus\\_2003'\n\\item 'median\\_conus\\_2003'\n\\item 'min\\_conus\\_2016'\n\\item 'max\\_conus\\_2016'\n\\item 'mean\\_conus\\_2016'\n\\item 'median\\_conus\\_2016'\n\\item 'gedi\\_vec\\_id'\n\\item 'gedi\\_vec\\_year'\n\\item 'gedi\\_vec\\_area'\n\\item 'Ownership'\n\\item 'LandManager'\n\\item 'FIRE\\_INC\\_ID'\n\\item 'FIRE\\_NAME'\n\\item 'FIRE\\_YEAR'\n\\item 'geom'\n\\item 'HUC8'\n\\item 'HUC10'\n\\item 'HUC12'\n\\end{enumerate*}\n",
            "text/plain": [
              " [1] \"agbd\"               \"lat_lowestmode\"     \"lon_lowestmode\"    \n",
              " [4] \"agbd_pi_lower\"      \"agbd_pi_upper\"      \"agbd_se\"           \n",
              " [7] \"agbd_t\"             \"agbd_t_se\"          \"algorithm_run_flag\"\n",
              "[10] \"channel\"            \"degrade_flag\"       \"delta_time\"        \n",
              "[13] \"elev_lowestmode\"    \"l2_quality_flag\"    \"l4_quality_flag\"   \n",
              "[16] \"gedi_year\"          \"min_yod\"            \"min_mag\"           \n",
              "[19] \"min_dur\"            \"min_preval\"         \"min_rate\"          \n",
              "[22] \"min_dsnr\"           \"max_yod\"            \"max_mag\"           \n",
              "[25] \"max_dur\"            \"max_preval\"         \"max_rate\"          \n",
              "[28] \"max_dsnr\"           \"mean_yod\"           \"mean_mag\"          \n",
              "[31] \"mean_dur\"           \"mean_preval\"        \"mean_rate\"         \n",
              "[34] \"mean_dsnr\"          \"median_yod\"         \"median_mag\"        \n",
              "[37] \"median_dur\"         \"median_preval\"      \"median_rate\"       \n",
              "[40] \"median_dsnr\"        \"min_hja_2008\"       \"max_hja_2008\"      \n",
              "[43] \"mean_hja_2008\"      \"median_hja_2008\"    \"min_conus_2003\"    \n",
              "[46] \"max_conus_2003\"     \"mean_conus_2003\"    \"median_conus_2003\" \n",
              "[49] \"min_conus_2016\"     \"max_conus_2016\"     \"mean_conus_2016\"   \n",
              "[52] \"median_conus_2016\"  \"gedi_vec_id\"        \"gedi_vec_year\"     \n",
              "[55] \"gedi_vec_area\"      \"Ownership\"          \"LandManager\"       \n",
              "[58] \"FIRE_INC_ID\"        \"FIRE_NAME\"          \"FIRE_YEAR\"         \n",
              "[61] \"geom\"               \"HUC8\"               \"HUC10\"             \n",
              "[64] \"HUC12\"             "
            ]
          },
          "metadata": {}
        }
      ]
    },
    {
      "cell_type": "code",
      "source": [
        "gedi_int_dt[,shot_id := 1:length(lat_lowestmode)]"
      ],
      "metadata": {
        "id": "CocQUasYqHUu"
      },
      "execution_count": null,
      "outputs": []
    },
    {
      "cell_type": "code",
      "source": [
        "# distrubance_dt[n>5 &n <101][,nrow := length(agbd),by=gedi_vec_id][,include:= all(c(TRUE, FALSE) %in% pre_disturbance),by=gedi_vec_id][include == TRUE][nrow>3] %>% head"
      ],
      "metadata": {
        "id": "1CnAFLNvuKI2"
      },
      "execution_count": null,
      "outputs": []
    },
    {
      "cell_type": "code",
      "source": [
        "# distrubance_dt <- gedi_int_dt[order(gedi_vec_id,gedi_year)][gedi_vec_area>0 &algorithm_run_flag==1&min_yod>0][,list( n=length(agbd),agbd = mean(agbd,na.rm=T),agbd_sd = sd(agbd,na.rm=T),mean_preval = mean(mean_preval,na.rm=T),mean_mag = mean(mean_mag,na.rm=T),mean_postval = mean(mean_preval,na.rm=T)-mean(mean_mag,na.rm=T),disturbance_min = mean(min_yod,na.rm=T),disturbance_max = mean(max_yod,na.rm=T),pre_disturbance = (gedi_year %>% as.numeric) < mean(min_yod,na.rm=T),shot_id = list(unique(shot_id))),by=.(gedi_vec_id,gedi_year)]\n",
        "# distrubance_dt %>% head()\n",
        "\n",
        "distrubance_summary_dt <-\n",
        "distrubance_dt[n>5 ][,nrow := length(agbd),by=gedi_vec_id][,include:= all(c(TRUE, FALSE) %in% pre_disturbance),by=gedi_vec_id][include == TRUE][nrow>1]  %>%\n",
        "split(.,.$gedi_vec_id) %>%\n",
        "lapply(function(x){\n",
        "data.table(\n",
        "  gedi_vec_id = (x$gedi_vec_id %>% unique) %>% unlist,\n",
        "  agbd_pre = mean(gedi_int_dt[x[gedi_year == min(gedi_year)]$shot_id %>% unlist,]$agbd,na.rm=T),\n",
        "  agbd_post = mean(gedi_int_dt[x[gedi_year == max(gedi_year)]$shot_id %>% unlist,]$agbd,na.rm=T),\n",
        "  mean_preval = mean(gedi_int_dt[x $shot_id %>% unlist,]$mean_preval,na.rm=T),\n",
        "  mean_mag = mean(gedi_int_dt[x $shot_id %>% unlist,]$mean_mag,na.rm=T))\n",
        "}) %>% rbindlist()\n",
        "# ggplot(aes(y=angbd,x=gedi_year %>% as.numeric))+\n",
        "\n",
        "# geom_smooth(aes(y=agbd,x=gedi_year %>% as.numeric,group=gedi_vec_id),method='lm',se=F)+\n",
        "# geom_smooth(aes(),method='lm',se=T,color='red')"
      ],
      "metadata": {
        "id": "lEHJpuylaVOr",
        "outputId": "c848334d-5516-45bc-e613-dc78ac57ccc1",
        "colab": {
          "base_uri": "https://localhost:8080/",
          "height": 611
        }
      },
      "execution_count": null,
      "outputs": [
        {
          "output_type": "error",
          "ename": "ERROR",
          "evalue": "ignored",
          "traceback": [
            "Error in h(simpleError(msg, call)): error in evaluating the argument 'x' in selecting a method for function 'split': object 'distrubance_dt' not found\nTraceback:\n",
            "1. distrubance_dt[n > 5][, `:=`(nrow, length(agbd)), by = gedi_vec_id][, \n .     `:=`(include, all(c(TRUE, FALSE) %in% pre_disturbance)), \n .     by = gedi_vec_id][include == TRUE][nrow > 1] %>% split(., \n .     .$gedi_vec_id) %>% lapply(function(x) {\n .     data.table(gedi_vec_id = (x$gedi_vec_id %>% unique) %>% unlist, \n .         agbd_pre = mean(gedi_int_dt[x[gedi_year == min(gedi_year)]$shot_id %>% \n .             unlist, ]$agbd, na.rm = T), agbd_post = mean(gedi_int_dt[x[gedi_year == \n .             max(gedi_year)]$shot_id %>% unlist, ]$agbd, na.rm = T), \n .         mean_preval = mean(gedi_int_dt[x$shot_id %>% unlist, \n .             ]$mean_preval, na.rm = T), mean_mag = mean(gedi_int_dt[x$shot_id %>% \n .             unlist, ]$mean_mag, na.rm = T))\n . }) %>% rbindlist()",
            "2. rbindlist(.)",
            "3. lapply(., function(x) {\n .     data.table(gedi_vec_id = (x$gedi_vec_id %>% unique) %>% unlist, \n .         agbd_pre = mean(gedi_int_dt[x[gedi_year == min(gedi_year)]$shot_id %>% \n .             unlist, ]$agbd, na.rm = T), agbd_post = mean(gedi_int_dt[x[gedi_year == \n .             max(gedi_year)]$shot_id %>% unlist, ]$agbd, na.rm = T), \n .         mean_preval = mean(gedi_int_dt[x$shot_id %>% unlist, \n .             ]$mean_preval, na.rm = T), mean_mag = mean(gedi_int_dt[x$shot_id %>% \n .             unlist, ]$mean_mag, na.rm = T))\n . })",
            "4. split(., .$gedi_vec_id)",
            "5. .handleSimpleError(function (cond) \n . .Internal(C_tryCatchHelper(addr, 1L, cond)), \"object 'distrubance_dt' not found\", \n .     base::quote(eval(expr, envir, enclos)))",
            "6. h(simpleError(msg, call))"
          ]
        }
      ]
    },
    {
      "cell_type": "code",
      "source": [
        "# 0.035*log(mean_preval) - 0.0036\n",
        "distrubance_summary_dt %>%\n",
        "  ggplot(aes(y=agbd_pre,x= (mean_preval) ))+\n",
        "    geom_point(color='blue') +\n",
        "    geom_smooth(method='lm')+\n",
        "    ylab('above ground biomass density')+\n",
        "    xlab('ndvi; blue: pre-disturbance; red:post-disturbance.')\n",
        "    # geom_point(aes(x=mean_preval-mean_mag,y=agbd_post),color='red') +\n",
        "    # geom_smooth(aes(x=mean_preval-mean_mag,y=agbd_post),color='red',method='lm')"
      ],
      "metadata": {
        "id": "8ohK6ojq1V5A"
      },
      "execution_count": null,
      "outputs": []
    },
    {
      "cell_type": "code",
      "source": [
        "# 0.035*log(mean_preval) - 0.0036\n",
        "distrubance_summary_dt %>%\n",
        "  ggplot(aes(y=(agbd_pre), x= mean_preval))+\n",
        "    geom_point(color='blue') +\n",
        "    geom_smooth(method='lm')+\n",
        "    ylab('above ground biomass density')+\n",
        "    xlab('ndvi; blue: pre-disturbance; red:post-disturbance.')+\n",
        "    geom_point(aes(x=mean_preval-mean_mag,y=agbd_post),color='red') +\n",
        "    geom_smooth(aes(x=mean_preval-mean_mag,y=agbd_post),color='red',method='lm')\n"
      ],
      "metadata": {
        "id": "9pJHMzgttU6-"
      },
      "execution_count": null,
      "outputs": []
    },
    {
      "cell_type": "code",
      "source": [
        "year_off <- 1\n",
        "\n",
        "agbd_preval_lm <-\n",
        "summary_dt[l4_quality_flag ==1 & min.yod>1984 & round(min.yod) == (year %>% as.numeric-year_off) & round(max.yod) == (year %>% as.numeric-year_off),][,agbd_group:= round(min.preval,-1)][,agbd_group:= round(min.preval,-2)][,mag_group:= round(min.mag,-2)][,yod_group:= round(2023 - min.yod)][,list(min.preval = mean(mean.preval,na.rm=T),min.mag= mean(mean.mag,na.rm=T),agbd= mean(agbd,na.rm=T)),by=c('agbd_group','mag_group','yod_group')][,min.endval:=(min.preval-min.mag)] %>%\n",
        "  lm(agbd~min.endval,.)\n",
        "\n",
        "summary_dt$agbd_postval <- predict(agbd_preval_lm,summary_dt[,min.endval:=(min.preval-min.mag)])\n",
        "summary_dt[min.preval ==0]$agbd_postval <-NA\n",
        "\n",
        "summary_dt$agbd_preval <- predict(agbd_preval_lm,summary_dt[,min.endval:=(min.preval)])\n",
        "summary_dt[min.preval ==0]$agbd_preval <-NA"
      ],
      "metadata": {
        "id": "GFZpLY_CymGX"
      },
      "execution_count": null,
      "outputs": []
    },
    {
      "cell_type": "code",
      "source": [
        "fire_history_gpkg <- st_read('/content/Fire_History_polygon.gpkg')"
      ],
      "metadata": {
        "id": "cO4ekD-fmhva"
      },
      "execution_count": null,
      "outputs": []
    },
    {
      "cell_type": "code",
      "source": [
        "fire_history_gpkg <- fire_history_gpkg %>% st_cast('POLYGON')"
      ],
      "metadata": {
        "id": "pyosdJnBad9u"
      },
      "execution_count": null,
      "outputs": []
    },
    {
      "cell_type": "code",
      "source": [
        "fire_history_int <- summary_dt %>% st_as_sf %>% st_intersects(fire_history_gpkg %>% st_transform(st_crs(summary_dt$geom)))"
      ],
      "metadata": {
        "id": "dvstL_1Pc7Io"
      },
      "execution_count": null,
      "outputs": []
    },
    {
      "cell_type": "code",
      "source": [
        "(fire_history_int %>% unlist)[1:5]"
      ],
      "metadata": {
        "id": "ybCO9BCjdKl8"
      },
      "execution_count": null,
      "outputs": []
    },
    {
      "cell_type": "code",
      "source": [
        "huc_8_int <- summary_dt %>% st_as_sf %>% st_intersects(huc_8_gpgk)\n",
        "\n",
        "huc_10_int <- summary_dt %>% st_as_sf %>% st_intersects(huc_10_gpgk)\n",
        "\n",
        "huc_12_int <- summary_dt %>% st_as_sf %>% st_intersects(huc_12_gpgk)"
      ],
      "metadata": {
        "id": "jewVgANZyuUp"
      },
      "execution_count": null,
      "outputs": []
    },
    {
      "cell_type": "code",
      "source": [
        "fire_history_gpkg %>% data.table %>% head %>% names\n"
      ],
      "metadata": {
        "id": "sgvQk7F2rCQw"
      },
      "execution_count": null,
      "outputs": []
    },
    {
      "cell_type": "code",
      "source": [
        "fire_summary_dt <- data.table(summary_dt, (fire_history_gpkg %>% data.table)[,c('FIRE_NUM','FIRE_CODE','FIRE_NAME','FIRE_YEAR')][fire_history_int %>% lapply(function(x){x[1]}) %>% unlist,])\n"
      ],
      "metadata": {
        "id": "Y7YpelbKqvp4"
      },
      "execution_count": null,
      "outputs": []
    },
    {
      "cell_type": "code",
      "source": [
        "fire_summary_dt$FIRE_YEAR %>% table"
      ],
      "metadata": {
        "id": "2yraBkoHrbMT"
      },
      "execution_count": null,
      "outputs": []
    },
    {
      "cell_type": "code",
      "source": [
        "# huc_8_summary_dt"
      ],
      "metadata": {
        "id": "l7PC-ctcq3lq"
      },
      "execution_count": null,
      "outputs": []
    },
    {
      "cell_type": "code",
      "source": [
        "huc_8_summary_dt <- data.table(summary_dt, (huc_8_gpgk %>% data.table)[,c('TNMID','HUC8','Name')][huc_8_int %>% lapply(function(x){x[1]}) %>% unlist,])\n",
        "huc_10_summary_dt <- data.table(summary_dt, (huc_10_gpgk %>% data.table)[,c('TNMID','HUC10','Name')][huc_10_int %>% lapply(function(x){x[1]}) %>% unlist,])\n",
        "huc_12_summary_dt <- data.table(summary_dt, (huc_12_gpgk %>% data.table)[,c('TNMID','HUC12','Name')][huc_12_int %>% lapply(function(x){x[1]}) %>% unlist,])"
      ],
      "metadata": {
        "id": "iOz_SsQsyvv8"
      },
      "execution_count": null,
      "outputs": []
    },
    {
      "cell_type": "code",
      "source": [
        "# # resample_dt[,agbd := rnorm(1,agbd,agbd_se),by=row_id]\n",
        "# # gc()\n",
        "# resamp_vec <-\n",
        "# 1:nrow(resample_dt) %>%\n",
        "#   lapply(function(x){\n",
        "#     if(!is.na())\n",
        "#     rnorm(1,resample_dt$agbd[[x]],resample_dt$agbd_sd[[x]])\n",
        "#   })\n",
        "resample_dt <- NULL\n",
        "gc()"
      ],
      "metadata": {
        "id": "pYI05ddv2IVy"
      },
      "execution_count": null,
      "outputs": []
    },
    {
      "cell_type": "code",
      "source": [
        "summary_dt[,group_quantile:=as.integer(cut(agbd_postval, breaks = quantile(agbd_postval[!is.na(agbd) & median.preval > 0], probs = seq(0, 1, by = 1/3),na.rm=T), labels = FALSE, include.lowest = TRUE)) ]\n",
        "summary_dt$group <- NA\n",
        "# summary_dt[!is.na(agbd) & median.preval > 0, group_quantile := kmeans(((median.preval - median.mag) / median.preval)[.I], centers = 4)$cluster]\n",
        "\n",
        "\n",
        "\n",
        "summary_dt$group <- NA\n",
        "summary_dt[!is.na(agbd_postval), group := kmeans((agbd_postval)[.I], centers = 3)$cluster]\n",
        "\n",
        "\n",
        "cluster_dt <- summary_dt[!is.na(agbd) & median.preval > 0,list(agbd_postval = mean(agbd_postval)),by=group][order(agbd_postval)]\n",
        "cluster_dt$group_new <- 1:nrow(cluster_dt)\n",
        "cluster_dt <- cluster_dt[order(group)]\n",
        "# print(cluster_dt)\n",
        "summary_dt$group <- cluster_dt$group_new[summary_dt$group]\n",
        "\n",
        "summary_dt[,list(agbd_postval = mean(agbd_postval),n = length(agbd_postval)),by=group_quantile][order(agbd_postval)]\n",
        "\n",
        "summary_dt[,list(agbd_postval = mean(agbd_postval),n = length(agbd_postval)),by=group][order(agbd_postval)]"
      ],
      "metadata": {
        "id": "S-SATZn8zk19"
      },
      "execution_count": null,
      "outputs": []
    },
    {
      "cell_type": "code",
      "source": [
        "install.packages('randomForest')"
      ],
      "metadata": {
        "id": "ktLhWRVBWofl"
      },
      "execution_count": null,
      "outputs": []
    },
    {
      "cell_type": "code",
      "source": [
        "library(randomForest)"
      ],
      "metadata": {
        "id": "ou99rvW2WmRt"
      },
      "execution_count": null,
      "outputs": []
    },
    {
      "cell_type": "code",
      "source": [
        "calibration_dt[,group_quantile:=as.integer(cut(mean.preval-mean.mag, breaks = quantile((mean.preval-mean.mag)[!is.na(agbd) & median.preval > 0], probs = seq(0, 1, by = 1/3),na.rm=T), labels = FALSE, include.lowest = TRUE))  %>%as.factor()]\n",
        "\n",
        "calibration_dt %>%\n",
        "  ggplot(aes(x = mean.preval-mean.mag,y=agbd))+\n",
        "  geom_point(aes(color=group_quantile))"
      ],
      "metadata": {
        "id": "icMSSOV1X2Rr"
      },
      "execution_count": null,
      "outputs": []
    },
    {
      "cell_type": "code",
      "source": [
        "calibration_dt <- resample_dt[min.yod>1984 & !is.na(agbd) ,]\n",
        "calibration_dt$id <- 1:nrow(calibration_dt)\n",
        "calibration_dt[,post_val := mean(mean.preval - mean.mag),by = id]\n",
        "# calibration_dt[,group_quantile:=as.integer(cut(agbd, breaks = quantile(agbd, probs = seq(0, 1, by = 1/3),na.rm=T), labels = FALSE, include.lowest = TRUE)) %>% factor ]\n",
        "# calibration_dt[,agbd_quantile:=as.integer(cut(agbd, breaks = quantile(agbd, probs = seq(0, 1, by = 1/3),na.rm=T), labels = FALSE, include.lowest = TRUE)) %>% factor ]\n",
        "# calibration_dt[,postval_quantile:=as.integer(cut(mean.preval - mean.mag, breaks = quantile(mean.preval - mean.mag, probs = seq(0, 1, by = 1/3),na.rm=T), labels = FALSE, include.lowest = TRUE)) %>% factor ]\n",
        "\n",
        "\n",
        "# calibration_dt %>%\n",
        "#   ggplot(aes(x=agbd))+\n",
        "#   geom_boxplot(aes(color=postval_quantile))\n",
        "# names(calibration_dt)\n",
        "# rf_form <- as.formula(paste('group_quantile ~',c('post_val',(calibration_dt %>% names)[18:41]) %>% paste(.,collapse = '+')))\n",
        "# resample_dt$id <- 1:nrow(resample_dt)\n",
        "\n",
        "# resample_dt[,agbd_quantile:=as.integer(cut(agbd, breaks = quantile(agbd, probs = seq(0, 1, by = 1/3),na.rm=T), labels = FALSE, include.lowest = TRUE)) %>% factor ]\n",
        "# resample_dt[,postval_quantile:=as.integer(cut(mean.preval - mean.mag, breaks = quantile(mean.preval - mean.mag, probs = seq(0, 1, by = 1/3),na.rm=T), labels = FALSE, include.lowest = TRUE)) %>% factor ]\n",
        "\n",
        "# resample_dt[,post_val := mean(mean.preval - mean.mag),by = id]\n",
        "# rf_result <-  randomForest(rf_form,resample_dt[min.yod>1984 & !is.na(agbd)])\n"
      ],
      "metadata": {
        "id": "_3MjrahgsDKj"
      },
      "execution_count": null,
      "outputs": []
    },
    {
      "cell_type": "code",
      "source": [
        "while(TRUE){}"
      ],
      "metadata": {
        "id": "XoAKNT-0JuCv"
      },
      "execution_count": null,
      "outputs": []
    },
    {
      "cell_type": "code",
      "source": [
        "post_gedi_dt %>%head"
      ],
      "metadata": {
        "id": "aevTfUHjonTI"
      },
      "execution_count": null,
      "outputs": []
    },
    {
      "cell_type": "code",
      "source": [
        "resample_dt[,group:=as.integer(cut(agbd, breaks = quantile(agbd, probs = seq(0, 1, by = 1/3),na.rm=T), labels = FALSE, include.lowest = TRUE)),by = .(round(median.yod/5)*5)]\n",
        "\n",
        "# table(resample_dt$group,round(resample_dt$median.yod /1)*1)"
      ],
      "metadata": {
        "id": "L7YPi2xuJt9J"
      },
      "execution_count": null,
      "outputs": []
    },
    {
      "cell_type": "code",
      "source": [
        "fire_summary_dt$gedi_era <-  fire_summary_dt$min.yod > min(fire_summary_dt$year %>% as.numeric)\n",
        "\n",
        "fire_summary_dt$post_gedi <-  (fire_summary_dt$year %>% as.numeric) - fire_summary_dt$mean.yod\n",
        "\n",
        "# fire_summary_dt$pre_gedi <-"
      ],
      "metadata": {
        "id": "onLPiWaTtaCZ"
      },
      "execution_count": null,
      "outputs": []
    },
    {
      "cell_type": "code",
      "source": [
        "post_gedi_dt <- fire_summary_dt[l4_quality_flag ==1 & min.yod>1984 & gedi_era  ]\n",
        "post_gedi_dt[agbd >0 &year %>% as.numeric == round(mean.yod+1) |year %>% as.numeric == round(mean.yod+1) | year %>% as.numeric == round(mean.yod+2)| year %>% as.numeric == round(mean.yod+3)| year %>% as.numeric == round(mean.yod+4)| year %>% as.numeric == round(mean.yod+5)]    %>%\n",
        "  ggplot(aes(y=agbd,x=mean.preval-mean.mag))+\n",
        "  geom_bin2d()+\n",
        "  geom_smooth(method='lm')"
      ],
      "metadata": {
        "id": "vC1GxTOqvcjm"
      },
      "execution_count": null,
      "outputs": []
    },
    {
      "cell_type": "code",
      "source": [
        "fire_summary_dt$gedi_era %>% table"
      ],
      "metadata": {
        "id": "up0OQLwBue38"
      },
      "execution_count": null,
      "outputs": []
    },
    {
      "cell_type": "code",
      "source": [
        "# 1:1000\n",
        "resample_dt <- fire_summary_dt\n",
        "# resample_dt <- fire_summary_dt[min.yod>1984 & !is.na(agbd) & is.na(FIRE_YEAR) & l4_quality_flag ==1 &min.endval>0]\n",
        "\n",
        "# resample_dt %>% head\n",
        "\n",
        "\n",
        "# agbd_preval_lm <-resample_dt[] %>%\n",
        "#   lm(agbd~min.endval,.)\n",
        "\n",
        "# agbd_preval_lm %>% summary\n",
        "\n",
        "resample_dt$agbd_postval <- predict(agbd_preval_lm,resample_dt[,min.endval:=(min.preval-min.mag)])\n",
        "resample_dt$agbd_preval <- predict(agbd_preval_lm,resample_dt[,min.endval:=(min.preval)])\n",
        "\n",
        "# min.yod>1984 & round(min.yod) %in% c(round(year %>% as.numeric)-c(1,2)) &  round(max.yod) %in% c(round(year%>% as.numeric)-c(1,2))\n",
        "resample_dt[,min.endval:=(min.preval-min.mag)]\n",
        "# resample_dt$min.endval\n",
        "# # resample_dt$agbd_postval\n",
        "# # resample_dt[,agbd_postval:=mean(agbd[min.yod>1984 & round(min.yod) %in% c(round(year %>% as.numeric)+c(1,2)) &  round(max.yod) %in% c(round(year%>% as.numeric)+c(1,2))],na.rm=T),by = group]\n",
        "# # resample_dt[,agbd_preval:=mean(agbd[min.yod>1984 & round(min.yod) %in% c(round(year %>% as.numeric)+c(1,2)) &  round(max.yod) %in% c(round(year%>% as.numeric)+c(1,2))],na.rm=T),by = group]\n",
        "resample_dt[,group:=as.integer(cut(agbd, breaks = quantile(agbd, probs = seq(0, 1, by = 1/3),na.rm=T), labels = FALSE, include.lowest = TRUE)) ]\n",
        "\n",
        "resample_dt[,group_agbd_preval:=mean(agbd[min.yod>1984 & round(mean.yod) %in% c(round(year %>% as.numeric)+c(1,2,3))],na.rm=T) ,by=group]\n",
        "\n",
        "resample_dt[,group_agbd_postval:=mean(agbd[min.yod>1984 & round(mean.yod) < round(year %>% as.numeric) ],na.rm=T) ,by=group]\n",
        "\n",
        "\n",
        "plot_dt <- resample_dt[min.yod>1984 &l4_quality_flag ==1,][,yod_round := round(mean.yod)][,list(agbd = mean(agbd,na.rm=T),yad = mean(2023-mean.yod),group_agbd_preval=mean(group_agbd_preval,na.rm=T),group_agbd_postval=mean(group_agbd_postval,na.rm=T),n = length(mean.yod)),by = .(group,yod_round)][yad>1]\n",
        "\n",
        "\n",
        "plot_dt[,agbd_yr:=(agbd/yad),by=group]\n",
        "\n",
        "plot_dt[order(yad),agbd_yr_cumsum := cumsum(agbd/yad)-group_agbd_postval,by = group]\n",
        "\n",
        "# summary_dt[,group_quantile:=as.integer(cut(agbd_postval, breaks = quantile(agbd_postval[!is.na(agbd) & median.preval > 0], probs = seq(0, 1, by = 1/3),na.rm=T), labels = FALSE, include.lowest = TRUE)) ]\n",
        "# summary_dt$group <- NA\n",
        "# # summary_dt[!is.na(agbd) & median.preval > 0, group_quantile := kmeans(((median.preval - median.mag) / median.preval)[.I], centers = 4)$cluster]\n",
        "\n",
        "\n",
        "\n",
        "# summary_dt$group <- NA\n",
        "# summary_dt[!is.na(agbd_postval), group := kmeans((agbd_postval)[.I], centers = 3)$cluster]\n",
        "\n",
        "\n",
        "# cluster_dt <- summary_dt[!is.na(agbd) & median.preval > 0,list(agbd_postval = mean(agbd_postval)),by=group][order(agbd_postval)]\n",
        "# cluster_dt$group_new <- 1:nrow(cluster_dt)\n",
        "# cluster_dt <- cluster_dt[order(group)]\n",
        "# # print(cluster_dt)\n",
        "# summary_dt$group <- cluster_dt$group_new[summary_dt$group]\n",
        "\n",
        "# summary_dt[,list(agbd_postval = mean(agbd_postval),n = length(agbd_postval)),by=group_quantile][order(agbd_postval)]\n",
        "\n",
        "# summary_dt[,list(agbd_postval = mean(agbd_postval),n = length(agbd_postval)),by=group][order(agbd_postval)]\n",
        "\n",
        "plot_dt$yod %>% max\n",
        "\n",
        "plot_dt %>%\n",
        "\n",
        "ggplot(aes(x=yad,y=agbd_yr,group=group))+\n",
        "\n",
        "geom_point()+\n",
        "\n",
        "geom_smooth(aes(color=group))\n",
        "\n",
        "\n",
        "# plot_dt %>%\n",
        "# ggplot(aes(x=yad,y=agbd_yr_cumsum,group=group_quantile))+\n",
        "# geom_point()+\n",
        "# geom_line(aes(color=group_quantile))\n",
        "# geom_smooth(data=pred_dt,aes(),color='red')"
      ],
      "metadata": {
        "id": "_X_pF4TT9vRB"
      },
      "execution_count": null,
      "outputs": []
    },
    {
      "cell_type": "code",
      "source": [
        "gedi_vec_gpkg$area <- st_area(gedi_vec_gpkg)\n",
        "\n",
        "summary_dt$gedi_clust <- st_intersects(summary_dt$geom,gedi_vec_gpkg) %>% lapply(function(x){x[1]}) %>% unlist\n",
        "summary_dt$gedi_clust_area <- gedi_vec_gpkg$area[summary_dt$gedi_clust]"
      ],
      "metadata": {
        "id": "W-VRWy919p2O"
      },
      "execution_count": null,
      "outputs": []
    },
    {
      "cell_type": "code",
      "source": [
        "summary_dt[min.yod > 1984 & agbd>0 &l4_quality_flag ==1,] %>%\n",
        "  ggplot(aes(y=(agbd - agbd_preval)/(2023-max.yod),x=max.yod,group=group))+\n",
        "  geom_point() +\n",
        "  # geom_line(aes(color=group))+\n",
        "  geom_smooth(aes(color=group))"
      ],
      "metadata": {
        "id": "ooqmNof1AuNl"
      },
      "execution_count": null,
      "outputs": []
    },
    {
      "cell_type": "code",
      "source": [
        "huc_8_int <- summary_dt %>% st_as_sf %>% st_intersects(huc_8_gpgk)\n",
        "\n",
        "huc_10_int <- summary_dt %>% st_as_sf %>% st_intersects(huc_10_gpgk)\n",
        "\n",
        "huc_12_int <- summary_dt %>% st_as_sf %>% st_intersects(huc_12_gpgk)"
      ],
      "metadata": {
        "id": "ioGSIgshMojf"
      },
      "execution_count": null,
      "outputs": []
    },
    {
      "cell_type": "code",
      "source": [
        "huc_8_summary_dt <- data.table(summary_dt, (huc_8_gpgk %>% data.table)[,c('TNMID','HUC8','Name')][huc_8_int %>% lapply(function(x){x[1]}) %>% unlist,])\n",
        "huc_10_summary_dt <- data.table(summary_dt, (huc_10_gpgk %>% data.table)[,c('TNMID','HUC10','Name')][huc_10_int %>% lapply(function(x){x[1]}) %>% unlist,])\n",
        "huc_12_summary_dt <- data.table(summary_dt, (huc_12_gpgk %>% data.table)[,c('TNMID','HUC12','Name')][huc_12_int %>% lapply(function(x){x[1]}) %>% unlist,])"
      ],
      "metadata": {
        "id": "Oh3ejwKJOF8z"
      },
      "execution_count": null,
      "outputs": []
    },
    {
      "cell_type": "code",
      "source": [
        "targ_dt <- huc_10_summary_dt[Name == 'Thomas Creek' & group ==1]\n",
        "\n",
        "loess_dt <- huc_10_summary_dt[min.yod>1984 &agbd>0 ,][,yod_round := round(mean.yod)][,list(agbd = mean(agbd-agbd_preval,na.rm=T),yad = mean(2023-mean.yod),n = length(mean.yod)),by = .(group,Name,yod_round)][yad>3]\n",
        "\n",
        "huc_10_summary_dt[,yad := 2023-mean.yod]\n",
        "targ_dt$agbd_pred <-\n",
        "predict(loess_dt[Name == 'Thomas Creek' & group == 1] %>%\n",
        "  loess(agbd~yad,.), targ_dt)"
      ],
      "metadata": {
        "id": "rHcRc44CoZUB"
      },
      "execution_count": null,
      "outputs": []
    },
    {
      "cell_type": "code",
      "source": [
        "targ_dt[yad>3,] %>%\n",
        "  ggplot(aes(x=agbd_pred-agbd))+\n",
        "  geom_histogram(bins=100)"
      ],
      "metadata": {
        "id": "VHXKFI43qb6o"
      },
      "execution_count": null,
      "outputs": []
    },
    {
      "cell_type": "code",
      "source": [
        "targ_dt[yad>3,] %>% st_as_sf() %>% st_write('/content/example.gpkg')"
      ],
      "metadata": {
        "id": "zTczNC-psVkZ"
      },
      "execution_count": null,
      "outputs": []
    },
    {
      "cell_type": "code",
      "source": [
        "huc_10_dist_table <- huc_10_summary_dt$Name %>% table\n",
        "huc_10_summary_dt <- huc_10_summary_dt[Name %in% c(huc_10_dist_table[huc_10_dist_table>100] %>% names),]\n",
        "\n",
        "huc_10_summary_dt[,group:=as.integer(cut((median.preval-median.mag)/median.preval, breaks = quantile((median.preval[!is.na(agbd) & median.preval > 0]-median.mag[!is.na(agbd) & median.preval > 0])/median.preval[!is.na(agbd) & median.preval > 0], probs = seq(0, 1, by = 0.25)), labels = FALSE, include.lowest = TRUE)) ,by = 'Name']\n",
        "\n",
        "\n",
        "\n",
        "fit <- loess(y ~ x)\n",
        "predictions <- predict(fit, newdata = data.frame(x = x))\n",
        "\n",
        "huc_10_summary_dt[min.yod>1984 &agbd>0 ,][,yod_round := round(mean.yod)][,list(agbd = mean(agbd-agbd_preval,na.rm=T),yad = mean(2023-mean.yod),n = length(mean.yod)),by = .(group,Name,yod_round)][yad>3] %>%\n",
        "ggplot(aes(x=yad,y=(floor(agbd))/ceiling(yad),group=group))+\n",
        "geom_point()+\n",
        "geom_smooth(aes(color=group)) +\n",
        "facet_wrap(Name~.)\n"
      ],
      "metadata": {
        "id": "uR3Sr08MgzjT"
      },
      "execution_count": null,
      "outputs": []
    },
    {
      "cell_type": "code",
      "source": [
        "huc_12_dist_table <- huc_12_summary_dt$Name %>% table\n",
        "huc_12_summary_dt <- huc_12_summary_dt[Name %in% c(huc_12_dist_table[huc_12_dist_table>100] %>% names),]\n",
        "\n",
        "huc_12_summary_dt[,group:=as.integer(cut((median.preval-median.mag)/median.preval, breaks = quantile((median.preval[!is.na(agbd) & median.preval > 0]-median.mag[!is.na(agbd) & median.preval > 0])/median.preval[!is.na(agbd) & median.preval > 0], probs = seq(0, 1, by = 0.25)), labels = FALSE, include.lowest = TRUE)) ,by = 'Name']\n",
        "\n",
        "\n",
        "\n",
        "\n",
        "\n",
        "huc_12_summary_dt[min.yod>1984 &agbd>0 ,][,yod_round := round(mean.yod)][,list(agbd = mean(agbd-agbd_preval,na.rm=T),yad = mean(2023-mean.yod),n = length(mean.yod)),by = .(group,Name,yod_round)][yad>3] %>%\n",
        "ggplot(aes(x=yad,y=(floor(agbd))/ceiling(yad),group=group))+\n",
        "geom_point()+\n",
        "geom_smooth(aes(color=group)) +\n",
        "facet_wrap(Name~.)"
      ],
      "metadata": {
        "id": "SCNJ9gdGk68j"
      },
      "execution_count": null,
      "outputs": []
    }
  ]
}
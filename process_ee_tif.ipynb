{
  "nbformat": 4,
  "nbformat_minor": 0,
  "metadata": {
    "colab": {
      "provenance": [],
      "authorship_tag": "ABX9TyPaX50DTumMoLME6Ht7pQXU",
      "include_colab_link": true
    },
    "kernelspec": {
      "name": "python3",
      "display_name": "Python 3"
    },
    "language_info": {
      "name": "python"
    }
  },
  "cells": [
    {
      "cell_type": "markdown",
      "metadata": {
        "id": "view-in-github",
        "colab_type": "text"
      },
      "source": [
        "<a href=\"https://colab.research.google.com/github/seismosmsr/machine_learning/blob/main/process_ee_tif.ipynb\" target=\"_parent\"><img src=\"https://colab.research.google.com/assets/colab-badge.svg\" alt=\"Open In Colab\"/></a>"
      ]
    },
    {
      "cell_type": "code",
      "source": [
        "from google.colab import drive\n",
        "from osgeo import gdal\n",
        "import glob"
      ],
      "metadata": {
        "id": "JroXp78A7cvk"
      },
      "execution_count": 5,
      "outputs": []
    },
    {
      "cell_type": "code",
      "source": [
        "drive.mount('/content/drive')"
      ],
      "metadata": {
        "colab": {
          "base_uri": "https://localhost:8080/"
        },
        "id": "kB0dG62A9Yt0",
        "outputId": "16af5cf9-08c0-4756-8d90-bbf8796e0667"
      },
      "execution_count": 2,
      "outputs": [
        {
          "output_type": "stream",
          "name": "stdout",
          "text": [
            "Mounted at /content/drive\n"
          ]
        }
      ]
    },
    {
      "cell_type": "code",
      "execution_count": 9,
      "metadata": {
        "id": "tzoof6Ae7ZdB"
      },
      "outputs": [],
      "source": [
        "#Create VRT, write to disk\n",
        "path_vrt = gdal.BuildVRT('/content/drive/MyDrive/CostaRica/Limon_15_16/gtiff_index.vrt',glob.glob('/content/drive/MyDrive/CostaRica/Limon_15_16/*.tif'))#,options =gdal.BuildVRTOptions(bandList= [1,2,3]))\n",
        "\n",
        "\n",
        "path_vrt.FlushCache()\n",
        "\n",
        "output_raster = gdal.Translate('/content/drive/MyDrive/CostaRica/Limon_15_16.tif',\n",
        "                                '/content/drive/MyDrive/CostaRica/Limon_15_16/gtiff_index.vrt',\n",
        "                                outputSRS='EPSG:4326')\n",
        "output_raster.FlushCache()"
      ]
    },
    {
      "cell_type": "code",
      "source": [
        "#Create VRT, write to disk\n",
        "path_vrt = gdal.BuildVRT('/content/drive/MyDrive/CostaRica/Limon_22_23/gtiff_index.vrt',glob.glob('/content/drive/MyDrive/CostaRica/Limon_22_23/*.tif'))#,options =gdal.BuildVRTOptions(bandList= [1,2,3]))\n",
        "\n",
        "\n",
        "path_vrt.FlushCache()\n",
        "\n",
        "output_raster = gdal.Translate('/content/drive/MyDrive/CostaRica/Limon_22_23.tif',\n",
        "                                '/content/drive/MyDrive/CostaRica/Limon_22_23/gtiff_index.vrt',\n",
        "                                outputSRS='EPSG:4326')\n",
        "output_raster.FlushCache()"
      ],
      "metadata": {
        "id": "QV_1B2XL-vjS"
      },
      "execution_count": 11,
      "outputs": []
    }
  ]
}
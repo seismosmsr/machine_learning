{
  "cells": [
    {
      "cell_type": "markdown",
      "metadata": {
        "id": "view-in-github",
        "colab_type": "text"
      },
      "source": [
        "<a href=\"https://colab.research.google.com/github/seismosmsr/machine_learning/blob/main/revised_conditional_gan.ipynb\" target=\"_parent\"><img src=\"https://colab.research.google.com/assets/colab-badge.svg\" alt=\"Open In Colab\"/></a>"
      ]
    },
    {
      "cell_type": "markdown",
      "metadata": {
        "id": "Y50GdAhdqtgY"
      },
      "source": [
        "# Conditional GAN\n",
        "**Author:** [Aron Boettcher](spectral.online)<br>\n",
        "**Date created:** 2022/07/13<br>\n",
        "**Last modified:** 2022/08/12<br>\n",
        "**Description:** Training a GAN conditioned on landsat pixels to generate GEDI waveforms."
      ]
    },
    {
      "cell_type": "markdown",
      "metadata": {
        "id": "-meO-8ffqtgZ"
      },
      "source": [
        "## Introduction\n",
        "\n",
        "Generative Adversarial Networks (GANs) let us generate novel image data, video data,\n",
        "or audio data from a random input. Typically, the random input is sampled\n",
        "from a normal distribution, before going through a series of transformations that turn\n",
        "it into something plausible (image, video, audio, etc.). This principal has been extended to sequence data in the form of stock prices, language models, and music. \n",
        "\n",
        "However, a simple [DCGAN](https://arxiv.org/abs/1511.06434) doesn't let us control\n",
        "the appearance (e.g. class) of the samples we're generating. For instance,\n",
        "with a GAN that generates MNIST handwritten digits, a simple DCGAN wouldn't let us\n",
        "choose the class of digits we're generating.\n",
        "To be able to control what we generate, we need to _condition_ the GAN output\n",
        "on a semantic input, such as the class of an image. This principal of conditioning can be extended to non-categorical inputs as well. Any condition able to be represented as a vector can be used to create a set of conditions underwhich an expected representation might be considered reasonable.\n",
        "\n",
        "In this example, we'll build a **Conditional GAN** that can generate full waveform lidar profiles conditioned on a time series of multispectral pixel values. We'll be using a time series vector of multi spectral output from the [Landsat 8](https://www.usgs.gov/landsat-missions/landsat-8) sensor to condition the generation of a full waveform lidar profile from the [GEDI sensor](https://gedi.umd.edu/instrument/instrument-overview/). Landsat 8 and the landsat time series of multispectral earth observations represent a continuous time series of observations from 1984 until the present time. While these observations were made with various mission instruments, harmonized time series have been made available and are openly accessable on [Google Earth Engine](https://earthengine.google.com/). For this exercise, we'll be using the [USGS Landsat 8 Level 2, Collection 2, Tier 1](https://developers.google.com/earth-engine/datasets/catalog/LANDSAT_LC08_C02_T1_L2) product. This is the atmospherically corrected surface reflectance and land surface temperature product, from which we'll be using the coastal blue, blue, green, red, near infrared, shortwave infrared bands 1 and 2, and the kelving band. This represents 8 spectral measurements at the time of sensing.  At the time of the compostion of this notebook, this is the prefered product, owing to the Landsat 8 sensor being the most up-to-date and current sensor with a time series product available at a reasonable concurrency with the more recent GEDI data. Since we'll be sampling a range of GEDI waveforms taken over a period of approximately 3 years, and we want to use a deep time series of spectral data for conditioning, its imporant that we have full and complete coverage over this time period. The GEDI data we'll be using for this exercise were accessed using this [utitlity developed by the Earthshot Forest team](https://github.com/earthshot-forest/forest-team-gedi-etl). GEDI is a full waveform spaceborne photon counting sensor mounted to the instrument arm of the ISS, and has been collecting measurements in a 600m swath since 2017. Level 2A data were accessed in January of 2022, and their full waveform profiles used to access all landsat 8 measurements from 400 days previous to and up to 400 days after a GEDI waveform was generated. The following GEDI script can be used to perform [this utility in Earth Engine](https://code.earthengine.google.com/?scriptPath=users%2Fseismosmsr%2FForest_Structure_GAN%3AExtract_Dixie_Points).\n",
        "\n",
        "\n",
        "A model that can generate full waveform predictions from spectral data can serve various useful applications and overcome many of the limitations of the existing infrastructure for earth forest observation currently available. While the GEDI sensor is still operational, its original mission was scheduled a 3 year mission. Owing to its design constraints and the high priority for realestate on the instrument wing of the ISS, this sensor will eventually be decommissioned and as of yet, there is no plan to launch a stand alone sensor. Likewise, the GEDI mission is a relatively young mission. We currently have around 4 years of GEDI coverage across the globe. These data were taken under varying atmospheric and forest cover conditions; having a tool that allows us to align those conditions to a single capture date can be very powerful. GEDI also represents a global training dataset between 57.5 degrees latitude north and south. This is the most extensive and complete dataset taken with the same instrument and gives us the opprutnity to train regionally appropriate models in an appropriate framework. Having such a framework opens up addtional avenues for exploration such as downsampling of landsat pixels and predicting canopy structure, or extending these data to another higher resolution sensor suite like the Copernicus mission or the Planet Labs planetscope multi spectral product.\n",
        "\n",
        "## Sources of data and processing steps\n",
        "\n",
        "\n",
        "### Data access\n",
        "Two sources of data were used in this project. Firstly, GEDI fullwaveform, level 2A data were accesssed in January 2022 over the footprint of the Dixie Fire in California.\n",
        "\n",
        "[Insert map object here]\n",
        "\n",
        "\n",
        "### Data augmentation\n",
        "This region was selected as a part of a broader study into the relationship between wildfire severity and canopy structure. Landsat 8 Level 2, Collection 2, Tier 1 pixels at the foot print of each fullwave form profile were accessed for up to 400 days before and after the date where a full waveform profile was generated. The coastal blue, blue, green, red, near infrared, shortwave infrared bands 1 and 2, and the kelving band were collated along a time series vector (64 timestamps) to create a 512 long times series vector of spectral emasurements.\n",
        "[Table of spectral values]\n",
        "\n",
        "This time series of data aligned to each waveform footprint, and segmented (plus minus) to 64 flyovers (~1024 days,or 2.75 years). This process resulted in several hundred possible spectral sequences for each waveform. The distance in time from wave form origination was recored and annoted for each full waveform, spectral profile pair.\n",
        "\n",
        "[Drawing of relationship between waveform and spectral sequnces]\n",
        "\n",
        "### Data splits\n",
        "Spectral and waveform vectors were post-processed in R, resulting in ~20 million spectral sequences for several hundred thousand unique waveforms. Sequences were divided into training and test pools based on waveform ID, to prevent the potential of autocorrelation in a generative framework by have identical waveforms in both training and test dataset. Owing to the large availablity of data, a 99:1 split of training to test data was made based on waveform ID. \n",
        "\n",
        "### Data management\n",
        "These data were loaded into cloud stoarge and are downloaded as apart of running this notebook.\n",
        "\n",
        "### Other data considerations\n",
        "The extensiveness of reference data available for this exercise offers several oppurtunities not explored in this work. Here, we use the full dataset of spectral/ waveform combinations with no filtering based on cloud cover or waveform quality, or distance in time from waveform measurement. Likewise, no smoothing or interpolation by band was implemented. The goal of this exercise is to identify how well the system can overcome and predict waveforms in what effectively represents the 'worst' of potential conditions. Several data augmentations could be made at the processing phase which might improve these results. Firstly and most readily, data could be filtered down to the most recent spectral dataset associated with the collection date of a waveform. Another option would be to allign spectral sequences to a common annual date (spectral sequences always begin in spring or so). Pixels could be filtered and ommited by Percent clouds. Finally, data could be interpolated and smoothed using something like a loess smoothing function. While all of these are interesting options that are likely to improve the perfomrance of the model, the current exercise is to examine the utility of doing effectively nothing to improve the quality of the data. In a sense, we're trying to examine the utility of this framework under the worst possible conditions and so these additional data augmentation steps are not explored here.\n",
        "\n",
        "## Modeling framework\n",
        "\n",
        "Generative models are notorious for the dificulty in developing and modeling their training. In an effort to determine the effectiveness of this approach, a multi stage approach was used for model development to ensure component models at least had the potential to generate reasonable results. Prior to implementing a conditional generative framework, an recurrent neural networks (RNN)   implementation for the prediction of waveform from spectral data was developed. The goal behind this stage was to ensure that meaningfully decent predicitions could of waveform could be made from spectral data. Second, a generative approach  with no conditioning was used to ensure that waveforms could effectively be generated and discriminated. Finally, these approaches are unified in a conditional generative approach were spectral conditional data are married with either generated waveform or reference waveform data in a conditional generative framwork.\n",
        "\n",
        "### RNN prediction of full waveforms from spectral time series data\n",
        "\n",
        "Recurrent neural networks (RNN) have demonstrated extraordiniry utility in the prediction of sequnce data (cite this). As well, some of the most recent and most advanced machine learning frameworks are based on an RNN configuraton (cite this). Long term short memory (LSTM) units are a subclass of RNN and have have found their way into the prediction of sequnce data. These frameworks have been developed and implemented to predict a wide range of sequence data like stock prices, natural language, and music. Owing to these prior works, I decided to use a multiple LSTM framework to vet out how effectively this framework could predict waveform from time series spectral data.\n",
        "\n",
        "I implemented a 3 unit LSTM with each subunit composed of dense layer, followed by a dropout layer, followed by an LSTM layer. Three of these subunits in a row compose the full RNN. Each epoch a sample of 500,000 samples of training data were taken, along with 2000 samples of test data; training and validation loss and accuracy were recored printed every epoch and once validation accuracy appeared to have stabilized, training was halted. A final sample of 20,000 samples of test data were used to construct validation statistics.\n",
        "\n",
        "Part of the goal of this process was to ensure that at least individuall, the component parts of the conditional GAN would be effective. I explored a range of other network structures including fully connected models, convolutional models, and very deep networks. Withthese networks I did not implement the network or compute and test statistics, but rather, visualized the output on training data to see if it produced decent results. The central issue with these other frameworks was that nodes did not appear to have enough node-node correlation in the final layer, resulting in predictions that were jagged and did not have the between unit smoothness demonstrated by the LSTM framework. \n",
        "\n",
        "### Generative adversarial network\n",
        "\n",
        "Prior to implementing a conditional GAN, I wanted to explore the question of if it was even possible to generate waveform like data. This also represents an oppurutnity to vet out modeling framework and identify a configuration for a discriminator model that should be suitable in a condional framework. Only data from the training dataset were used to develop the GAN framework. Models were evaluated based on a visual inspection of their generated results.\n",
        "\n",
        "\n",
        "\n",
        "## Coding references\n",
        "Following are the references used for developing this example (a full suite of reference is available at the end of this document as an appendix):\n",
        "\n",
        "* [Conditional Generative Adversarial Nets](https://arxiv.org/abs/1411.1784)\n",
        "\n",
        "* [Lecture on Conditional Generation from Coursera](https://www.coursera.org/lecture/build-basic-generative-adversarial-networks-gans/conditional-generation-inputs-2OPrG)\n",
        "\n",
        "If you need a refresher on GANs, you can refer to the \"Generative adversarial networks\"\n",
        "section of\n",
        "[this resource](https://livebook.manning.com/book/deep-learning-with-python-second-edition/chapter-12/r-3/232).\n",
        "\n",
        "\n",
        "This example requires TensorFlow 2.5 or higher, as well as TensorFlow Docs, which can be\n",
        "installed using the following command:"
      ]
    },
    {
      "cell_type": "code",
      "execution_count": null,
      "metadata": {
        "id": "V8Zi-apyqtgZ",
        "colab": {
          "base_uri": "https://localhost:8080/"
        },
        "outputId": "aba3b65e-17d9-4a40-a0ef-3ff1bba7ced9"
      },
      "outputs": [
        {
          "output_type": "stream",
          "name": "stdout",
          "text": [
            "  Building wheel for tensorflow-docs (setup.py) ... \u001b[?25l\u001b[?25hdone\n"
          ]
        }
      ],
      "source": [
        "!pip install -q git+https://github.com/tensorflow/docs"
      ]
    },
    {
      "cell_type": "markdown",
      "metadata": {
        "id": "cE4an01rqtga"
      },
      "source": [
        "## Imports"
      ]
    },
    {
      "cell_type": "code",
      "execution_count": null,
      "metadata": {
        "id": "M4msdB2Qqtga"
      },
      "outputs": [],
      "source": [
        "from tensorflow import keras\n",
        "from tensorflow.keras import layers\n",
        "\n",
        "from tensorflow_docs.vis import embed\n",
        "import matplotlib.pyplot as plt\n",
        "import tensorflow as tf\n",
        "import numpy as np\n",
        "import imageio"
      ]
    },
    {
      "cell_type": "markdown",
      "metadata": {
        "id": "3lTXrmg8qtga"
      },
      "source": [
        "## Constants and hyperparameters"
      ]
    },
    {
      "cell_type": "code",
      "execution_count": null,
      "metadata": {
        "id": "7RCu_-uVqtga"
      },
      "outputs": [],
      "source": [
        "batch_size = 256\n",
        "num_channels = 1\n",
        "num_classes = 101\n",
        "image_size = 512\n",
        "latent_dim = 512"
      ]
    },
    {
      "cell_type": "markdown",
      "metadata": {
        "id": "Uw35q14Sqtgb"
      },
      "source": [
        "## Loading the MNIST dataset and preprocessing it"
      ]
    },
    {
      "cell_type": "code",
      "source": [
        "!pip install gdown\n",
        "import gdown\n",
        "import zipfile\n",
        "import os\n",
        "\n",
        "# I switched to pngs and jpgs to try and use tensorflows native vectorization\n",
        "#todo: get gdal working so you can just use geotiff\n",
        "url = 'https://drive.google.com/uc?id=1kwU_CkP1X5M1CDlYKPkb9p5J8GulWBXr'\n",
        "output = 'sample_test.csv'\n",
        "\n",
        "#Update with proper validation data\n",
        "# https://drive.google.com/file/d/1unLB1XCJHoul3gqGYGzqSS8QMr5ZvJ9h/view?usp=sharing\n",
        "gdown.download(url,output,quiet = False)\n",
        "\n",
        "url = 'https://drive.google.com/uc?id=1graojPHaMvZGHmocsUFLds9bFWQG_mr6'\n",
        "output = 'sample_train.csv'\n",
        "\n",
        "#Update with proper validation data\n",
        "# https://drive.google.com/file/d/1unLB1XCJHoul3gqGYGzqSS8QMr5ZvJ9h/view?usp=sharing\n",
        "gdown.download(url,output,quiet = False)\n",
        "# cwd = os.getcwd()\n",
        "# with zipfile.ZipFile(cwd+'/sample.zip', 'r') as zip_ref:\n",
        "#     zip_ref.extractall(cwd+'/sample')\n",
        "\n",
        "# PATH = os.path.join(os.path.dirname(cwd+'/sample/'), 'sample/')\n",
        "# print(PATH)"
      ],
      "metadata": {
        "id": "9724Jbw9sRSb",
        "outputId": "a134fd96-64d8-49a7-ea36-38659f93d1a1",
        "colab": {
          "base_uri": "https://localhost:8080/",
          "height": 385
        }
      },
      "execution_count": null,
      "outputs": [
        {
          "output_type": "stream",
          "name": "stdout",
          "text": [
            "Requirement already satisfied: gdown in /usr/local/lib/python3.7/dist-packages (4.4.0)\n",
            "Requirement already satisfied: beautifulsoup4 in /usr/local/lib/python3.7/dist-packages (from gdown) (4.6.3)\n",
            "Requirement already satisfied: filelock in /usr/local/lib/python3.7/dist-packages (from gdown) (3.6.0)\n",
            "Requirement already satisfied: six in /usr/local/lib/python3.7/dist-packages (from gdown) (1.15.0)\n",
            "Requirement already satisfied: tqdm in /usr/local/lib/python3.7/dist-packages (from gdown) (4.64.0)\n",
            "Requirement already satisfied: requests[socks] in /usr/local/lib/python3.7/dist-packages (from gdown) (2.23.0)\n",
            "Requirement already satisfied: idna<3,>=2.5 in /usr/local/lib/python3.7/dist-packages (from requests[socks]->gdown) (2.10)\n",
            "Requirement already satisfied: urllib3!=1.25.0,!=1.25.1,<1.26,>=1.21.1 in /usr/local/lib/python3.7/dist-packages (from requests[socks]->gdown) (1.24.3)\n",
            "Requirement already satisfied: certifi>=2017.4.17 in /usr/local/lib/python3.7/dist-packages (from requests[socks]->gdown) (2021.10.8)\n",
            "Requirement already satisfied: chardet<4,>=3.0.2 in /usr/local/lib/python3.7/dist-packages (from requests[socks]->gdown) (3.0.4)\n",
            "Requirement already satisfied: PySocks!=1.5.7,>=1.5.6 in /usr/local/lib/python3.7/dist-packages (from requests[socks]->gdown) (1.7.1)\n"
          ]
        },
        {
          "output_type": "stream",
          "name": "stderr",
          "text": [
            "Downloading...\n",
            "From: https://drive.google.com/uc?id=1kwU_CkP1X5M1CDlYKPkb9p5J8GulWBXr\n",
            "To: /content/sample_test.csv\n",
            "100%|██████████| 137M/137M [00:00<00:00, 147MB/s]\n",
            "Downloading...\n",
            "From: https://drive.google.com/uc?id=1graojPHaMvZGHmocsUFLds9bFWQG_mr6\n",
            "To: /content/sample_train.csv\n",
            "100%|██████████| 13.8G/13.8G [01:01<00:00, 222MB/s]\n"
          ]
        },
        {
          "output_type": "execute_result",
          "data": {
            "text/plain": [
              "'sample_train.csv'"
            ],
            "application/vnd.google.colaboratory.intrinsic+json": {
              "type": "string"
            }
          },
          "metadata": {},
          "execution_count": 4
        }
      ]
    },
    {
      "cell_type": "code",
      "source": [
        "# generate n real samples with class labels\n",
        "def generate_real_samples(s,filename = '/content/sample.csv'):\n",
        "  import random\n",
        "  import pandas\n",
        "  import numpy\n",
        "\t# Sample s rows of data.frame\n",
        "\n",
        "  #number of records in file (excludes header)\n",
        "  n = sum(1 for line in open(filename)) - 1 \n",
        "\n",
        "  #the 0-indexed header will not be included in the skip list\n",
        "  skip = sorted(random.sample(range(1,n+1),n-s)) \n",
        "  df = pandas.read_csv(filename, skiprows=skip)\n",
        "  X = []\n",
        "  for i in range(len(df.index)):\n",
        "    text_exa = df['rh'][i]\n",
        "    text_exa = str(text_exa).replace(\"{\",\"\").replace(\"}\", \"\")\n",
        "    test_exa = text_exa.split(\",\")\n",
        "    test_exa = [float(i) for i in test_exa]\n",
        "    # test_exa = test_exa\n",
        "    X.append(test_exa)\n",
        "\n",
        "\n",
        "\t# generate class labels\n",
        "  y = []\n",
        "  for i in range(len(df.index)):\n",
        "    # y_one = numpy.ones(1)\n",
        "    y_one = df['ls'][i]\n",
        "    y_one = str(y_one).replace(\"{\",\"\").replace(\"}\", \"\")\n",
        "    y_one = y_one.split(\",\")\n",
        "    y_one = [float(i) for i in y_one]\n",
        "    y.append(y_one)\n",
        "\n",
        "    \n",
        "  X = numpy.array(X)\n",
        "  y = numpy.array(y)\n",
        "\n",
        "  # X = (X.astype(\"float32\") / 65455.0).astype(\"float32\")\n",
        "  # y =(y.astype(\"float32\")+100)/255\n",
        "  X = (((X.astype(\"float32\")+100)/255)).astype(\"float32\")\n",
        "  y =(y.astype(\"float32\")/ 65455.0).astype(\"float32\")\n",
        "  return X, y"
      ],
      "metadata": {
        "id": "Bu4Q-00Hu63I"
      },
      "execution_count": null,
      "outputs": []
    },
    {
      "cell_type": "code",
      "source": [
        "# generate_real_samples(2)"
      ],
      "metadata": {
        "id": "iUZVkDJYvAyU"
      },
      "execution_count": null,
      "outputs": []
    },
    {
      "cell_type": "code",
      "execution_count": null,
      "metadata": {
        "id": "u99NsBjlqtgb"
      },
      "outputs": [],
      "source": [
        "import numpy as np\n",
        "import tensorflow as tf\n",
        "\n",
        "# We'll use all the available examples from both the training and test\n",
        "# sets.\n",
        "# (x_train, y_train), (x_test, y_test) = keras.datasets.mnist.load_data()\n",
        "(x_train, y_train) = generate_real_samples(450000,filename = '/content/sample_train.csv')\n",
        "(x_test, y_test) = generate_real_samples(2000,filename = '/content/sample_test.csv')\n",
        "\n",
        "# all_pixels = x_train\n",
        "# all_labels = np.concatenate([y_train, y_test])\n",
        "\n",
        "# # Scale based on reflectence values:\n",
        "# # https://developers.google.com/earth-engine/datasets/catalog/LANDSAT_LC08_C02_T1_L2?hl=en#bands\n",
        "# x_train = (x_train.astype(\"float32\") / 65455.0).astype(\"float32\")\n",
        "# all_labels =(y_train.astype(\"float32\")+100)/255\n",
        "\n",
        "# x_test = (x_test.astype(\"float32\") / 65455.0).astype(\"float32\")\n",
        "# y_test =(y_test.astype(\"float32\")+100)/255\n",
        "# # Create tf.data.Dataset.\n",
        "dataset_train = tf.data.Dataset.from_tensor_slices((y_train,x_train))\n",
        "dataset_train = dataset_train.shuffle(buffer_size=1024).batch(batch_size)\n",
        "\n",
        "dataset_test = tf.data.Dataset.from_tensor_slices((y_test,x_test))\n",
        "dataset_test = dataset_test.shuffle(buffer_size=1024).batch(batch_size)\n",
        "\n",
        "# print(f\"Shape of training images: {all_labels[1]}\")\n",
        "# print(f\"Shape of training images: {all_pixels.shape}\")\n",
        "# print(f\"Shape of training labels: {all_labels.shape}\")"
      ]
    },
    {
      "cell_type": "code",
      "source": [
        "# print(x_train[1])"
      ],
      "metadata": {
        "id": "g701wfbmj94D"
      },
      "execution_count": null,
      "outputs": []
    },
    {
      "cell_type": "markdown",
      "metadata": {
        "id": "35LbRuf5qtgb"
      },
      "source": [
        "## Calculating the number of input channel for the generator and discriminator\n",
        "\n",
        "In a regular (unconditional) GAN, we start by sampling noise (of some fixed\n",
        "dimension) from a normal distribution. In our case, we also need to account\n",
        "for the class labels. We will have to add the number of classes to\n",
        "the input channels of the generator (noise input) as well as the discriminator\n",
        "(generated image input)."
      ]
    },
    {
      "cell_type": "code",
      "execution_count": null,
      "metadata": {
        "colab": {
          "base_uri": "https://localhost:8080/"
        },
        "id": "RAlWShbvqtgc",
        "outputId": "7cd2c276-2c47-4aa0-daa6-29837b5a5e6f"
      },
      "outputs": [
        {
          "output_type": "stream",
          "name": "stdout",
          "text": [
            "1024 613\n"
          ]
        }
      ],
      "source": [
        "generator_in_channels = latent_dim + image_size\n",
        "discriminator_in_channels = image_size + num_classes\n",
        "print(generator_in_channels, discriminator_in_channels)"
      ]
    },
    {
      "cell_type": "markdown",
      "metadata": {
        "id": "PmsGUffgqtgc"
      },
      "source": [
        "## Creating the discriminator and generator\n",
        "\n",
        "The model definitions (`discriminator`, `generator`, and `ConditionalGAN`) have been\n",
        "adapted from [this example](https://keras.io/guides/customizing_what_happens_in_fit/)."
      ]
    },
    {
      "cell_type": "code",
      "execution_count": null,
      "metadata": {
        "id": "2niCQ0yXqtgc",
        "colab": {
          "base_uri": "https://localhost:8080/"
        },
        "outputId": "f610cc32-3039-4b17-b6ac-5a34530df240"
      },
      "outputs": [
        {
          "output_type": "stream",
          "name": "stdout",
          "text": [
            "WARNING:tensorflow:Layer lstm_55 will not use cuDNN kernels since it doesn't meet the criteria. It will use a generic GPU kernel as fallback when running on GPU.\n",
            "WARNING:tensorflow:Layer lstm_56 will not use cuDNN kernels since it doesn't meet the criteria. It will use a generic GPU kernel as fallback when running on GPU.\n",
            "WARNING:tensorflow:Layer lstm_57 will not use cuDNN kernels since it doesn't meet the criteria. It will use a generic GPU kernel as fallback when running on GPU.\n",
            "WARNING:tensorflow:Layer lstm_58 will not use cuDNN kernels since it doesn't meet the criteria. It will use a generic GPU kernel as fallback when running on GPU.\n",
            "WARNING:tensorflow:Layer lstm_59 will not use cuDNN kernels since it doesn't meet the criteria. It will use a generic GPU kernel as fallback when running on GPU.\n",
            "WARNING:tensorflow:Layer lstm_60 will not use cuDNN kernels since it doesn't meet the criteria. It will use a generic GPU kernel as fallback when running on GPU.\n"
          ]
        }
      ],
      "source": [
        "from tensorflow.python.ops.gen_math_ops import sigmoid\n",
        "from keras import Input\n",
        "from keras.layers import Conv1D\n",
        "from keras.layers import MaxPooling1D\n",
        "from keras.layers import LSTM\n",
        "from keras.layers import Dense\n",
        "from keras.layers import Reshape\n",
        "from keras.layers import Dropout\n",
        "from keras.layers import Flatten\n",
        "from keras.layers import Concatenate\n",
        "from keras import Model\n",
        "\n",
        "# Create the discriminator.\n",
        "discriminator = keras.Sequential(\n",
        "    [\n",
        "        keras.layers.InputLayer((discriminator_in_channels,)),\n",
        "     \n",
        "        layers.Dense(1024, activation='relu'),\n",
        "        layers.Reshape(target_shape=(2,512)),\n",
        "        layers.Dropout(.25),\n",
        "        layers.LSTM(32, activation=\"relu\",return_sequences=True),\n",
        "     \n",
        "        layers.Dense(512, activation='relu'),\n",
        "        layers.Reshape(target_shape=(2,512)),\n",
        "        layers.Dropout(.25),\n",
        "        layers.LSTM(32, activation=\"relu\",return_sequences=True),\n",
        "     \n",
        "        layers.Dense(512, activation='relu'),\n",
        "        layers.Reshape(target_shape=(2,512)),\n",
        "        layers.Dropout(.25),\n",
        "        layers.LSTM(32, activation=\"relu\",return_sequences=True),\n",
        "     \n",
        "        layers.Flatten(),\n",
        "        layers.Dense(1024, activation='relu'),\n",
        "     \n",
        "        layers.Dense(1),\n",
        "    ],\n",
        "    name=\"discriminator\",)\n",
        "\n",
        "# Create the generator.\n",
        "generator = keras.Sequential(\n",
        "    [\n",
        "        keras.layers.InputLayer((generator_in_channels,)),\n",
        "     \n",
        "        layers.Dense(1024, activation='relu'),\n",
        "        layers.Reshape(target_shape=(2,512)),\n",
        "        layers.Dropout(.25),\n",
        "        layers.LSTM(32, activation=\"relu\",return_sequences=True),\n",
        "     \n",
        "        layers.Dense(512, activation='relu'),\n",
        "        layers.Reshape(target_shape=(2,512)),\n",
        "        layers.Dropout(.25),\n",
        "        layers.LSTM(32, activation=\"relu\",return_sequences=True),\n",
        "     \n",
        "        layers.Dense(512, activation='relu'),\n",
        "        layers.Reshape(target_shape=(2,512)),\n",
        "        layers.Dropout(.25),\n",
        "        layers.LSTM(32, activation=\"relu\",return_sequences=True),\n",
        "     \n",
        "        layers.Flatten(),\n",
        "        layers.Dense(512, activation='relu'),\n",
        "\n",
        "        # layers.Dense(num_classes),\n",
        "        layers.Dense(num_classes,  activation=\"linear\"),\n",
        "    ],\n",
        "    name=\"generator\",)"
      ]
    },
    {
      "cell_type": "markdown",
      "metadata": {
        "id": "vYXoy-O_qtgc"
      },
      "source": [
        "## Creating a `ConditionalGAN` model"
      ]
    },
    {
      "cell_type": "code",
      "execution_count": null,
      "metadata": {
        "id": "uT_y3xRwqtgd"
      },
      "outputs": [],
      "source": [
        "\n",
        "class ConditionalGAN(keras.Model):\n",
        "  \n",
        "    def __init__(self, discriminator, generator, latent_dim):\n",
        "        super(ConditionalGAN, self).__init__()\n",
        "        # Create the discriminator.\n",
        "        self.discriminator = discriminator\n",
        "        self.generator = generator\n",
        "        self.latent_dim = latent_dim\n",
        "        self.gen_loss_tracker = keras.metrics.Mean(name=\"generator_loss\")\n",
        "        self.disc_loss_tracker = keras.metrics.Mean(name=\"discriminator_loss\")\n",
        "\n",
        "    @property\n",
        "    def metrics(self):\n",
        "        return [self.gen_loss_tracker, self.disc_loss_tracker]\n",
        "\n",
        "    def compile(self, d_optimizer, g_optimizer, loss_fn):\n",
        "        super(ConditionalGAN, self).compile()\n",
        "        self.d_optimizer = d_optimizer\n",
        "        self.g_optimizer = g_optimizer\n",
        "        self.loss_fn = loss_fn\n",
        "\n",
        "    def train_step(self, data):\n",
        "        # Unpack the data.\n",
        "        real_pixels, real_labels = data\n",
        "        # print(real_pixels[0])\n",
        "        # Sample random points in the latent space and concatenate the labels.\n",
        "        # This is for the generator.\n",
        "        batch_size = tf.shape(real_pixels)[0]\n",
        "        random_latent_vectors = tf.random.normal(shape=(batch_size, self.latent_dim))\n",
        "        # print(random_latent_vectors[0])\n",
        "        random_vector_pixels = tf.concat(\n",
        "            [random_latent_vectors, real_pixels], axis=1\n",
        "        )\n",
        "\n",
        "        # Decode the noise (guided by labels) to fake images.\n",
        "        generated_labels = self.generator(random_vector_pixels)\n",
        "\n",
        "        # Combine them with real images. Note that we are concatenating the labels\n",
        "        # with these images here.\n",
        "        fake_pixel_and_labels = tf.concat([generated_labels, real_pixels], -1)\n",
        "        real_pixel_and_labels = tf.concat([real_labels, real_pixels], -1)\n",
        "        combined_images = tf.concat(\n",
        "            [real_pixel_and_labels,fake_pixel_and_labels], axis=0\n",
        "        )\n",
        "\n",
        "        # Assemble labels discriminating real from fake images.\n",
        "        labels = tf.concat(\n",
        "            [tf.zeros((batch_size, 1)),tf.ones((batch_size, 1))], axis=0\n",
        "        )\n",
        "\n",
        "        # Train the discriminator.\n",
        "        with tf.GradientTape() as tape:\n",
        "            predictions = self.discriminator(combined_images)\n",
        "            d_loss = self.loss_fn(labels, predictions)\n",
        "        grads = tape.gradient(d_loss, self.discriminator.trainable_weights)\n",
        "        self.d_optimizer.apply_gradients(\n",
        "            zip(grads, self.discriminator.trainable_weights)\n",
        "        )\n",
        "\n",
        "        # Sample random points in the latent space.\n",
        "        random_latent_vectors = tf.random.normal(shape=(batch_size, self.latent_dim))\n",
        "        random_vector_labels = tf.concat(\n",
        "            [random_latent_vectors, real_pixels], axis=1\n",
        "        )\n",
        "\n",
        "        # Assemble labels that say \"all real images\".\n",
        "        misleading_labels = tf.zeros((batch_size, 1))\n",
        "\n",
        "        # Train the generator (note that we should *not* update the weights\n",
        "        # of the discriminator)!\n",
        "        with tf.GradientTape() as tape:\n",
        "            fake_labels = self.generator(random_vector_labels)\n",
        "            fake_pixels_and_labels = tf.concat([real_pixels, fake_labels], -1)\n",
        "            predictions = self.discriminator(fake_pixels_and_labels)\n",
        "            g_loss = self.loss_fn(misleading_labels, predictions)\n",
        "        grads = tape.gradient(g_loss, self.generator.trainable_weights)\n",
        "        self.g_optimizer.apply_gradients(zip(grads, self.generator.trainable_weights))\n",
        "\n",
        "        # Monitor loss.\n",
        "        self.gen_loss_tracker.update_state(g_loss)\n",
        "        self.disc_loss_tracker.update_state(d_loss)\n",
        "        return {\n",
        "            \"g_loss\": self.gen_loss_tracker.result(),\n",
        "            \"d_loss\": self.disc_loss_tracker.result(),\n",
        "        }\n"
      ]
    },
    {
      "cell_type": "markdown",
      "metadata": {
        "id": "-L8GawiTqtge"
      },
      "source": [
        "## Training the Conditional GAN"
      ]
    },
    {
      "cell_type": "code",
      "source": [
        "cond_gan = ConditionalGAN(\n",
        "    discriminator=discriminator, generator=generator, latent_dim=latent_dim\n",
        ")\n",
        "cond_gan.compile(\n",
        "    d_optimizer=keras.optimizers.Adam(learning_rate=0.0003),\n",
        "    g_optimizer=keras.optimizers.Adam(learning_rate=0.0003),\n",
        "    loss_fn=keras.losses.BinaryCrossentropy(from_logits=True),\n",
        ")"
      ],
      "metadata": {
        "id": "kv6SGSH9G83I"
      },
      "execution_count": null,
      "outputs": []
    },
    {
      "cell_type": "code",
      "source": [
        "# We first extract the trained generator from our Conditiona GAN.\n",
        "trained_gen = cond_gan.generator\n",
        "(real_labels, real_pixels) = generate_real_samples(batch_size,filename = '/content/sample_test.csv')\n",
        "\n",
        "random_latent_vectors = tf.random.normal(shape=(batch_size, latent_dim))\n",
        "# print(random_latent_vectors[0])\n",
        "random_vector_pixels = tf.concat(\n",
        "    [random_latent_vectors, real_pixels], axis=1\n",
        ")\n",
        "# print(real_labels[1])\n",
        "\n",
        "generated_waveform = trained_gen(random_vector_pixels)\n",
        "\n",
        "# print(generated_waveform[1])\n",
        "import matplotlib.pyplot as plt\n",
        "import numpy as np\n",
        "\n",
        "fig, ax = plt.subplots()\n",
        "ax.plot(generated_waveform[1], real_labels[1])\n",
        "\n",
        "ax.set(xlabel='time (s)', ylabel='voltage (mV)',\n",
        "       title='About as simple as it gets, folks')\n",
        "ax.grid()\n",
        "\n",
        "# fig.savefig(\"test.png\")\n",
        "plt.show()"
      ],
      "metadata": {
        "colab": {
          "base_uri": "https://localhost:8080/",
          "height": 295
        },
        "id": "HeSejeuj9lhd",
        "outputId": "14396baa-1dae-410b-d35c-d50d11149e5c"
      },
      "execution_count": null,
      "outputs": [
        {
          "output_type": "display_data",
          "data": {
            "text/plain": [
              "<Figure size 432x288 with 1 Axes>"
            ],
            "image/png": "[encoded data removed]"
          },
          "metadata": {
            "needs_background": "light"
          }
        }
      ]
    },
    {
      "cell_type": "code",
      "execution_count": null,
      "metadata": {
        "colab": {
          "base_uri": "https://localhost:8080/"
        },
        "id": "I29l7pJCqtge",
        "outputId": "0d16d26a-d660-4c76-d29e-ab08ec9d877f"
      },
      "outputs": [
        {
          "output_type": "stream",
          "name": "stdout",
          "text": [
            "Epoch 1/10\n",
            "977/977 [==============================] - 37s 38ms/step - g_loss: 2.4040e-10 - d_loss: 5.2266e-13\n",
            "Epoch 2/10\n",
            "977/977 [==============================] - 36s 37ms/step - g_loss: 1.9956e-10 - d_loss: 5.2186e-13\n",
            "Epoch 3/10\n",
            "977/977 [==============================] - 36s 37ms/step - g_loss: 1.6315e-10 - d_loss: 5.2282e-13\n",
            "Epoch 4/10\n",
            "977/977 [==============================] - 37s 38ms/step - g_loss: 1.3238e-10 - d_loss: 5.2417e-13\n",
            "Epoch 5/10\n",
            "977/977 [==============================] - 37s 38ms/step - g_loss: 1.2048e-10 - d_loss: 5.2348e-13\n",
            "Epoch 6/10\n",
            "977/977 [==============================] - 36s 37ms/step - g_loss: 9.6769e-11 - d_loss: 5.2303e-13\n",
            "Epoch 7/10\n",
            "977/977 [==============================] - 36s 37ms/step - g_loss: 8.3790e-11 - d_loss: 5.2158e-13\n",
            "Epoch 8/10\n",
            "977/977 [==============================] - 36s 37ms/step - g_loss: 7.2140e-11 - d_loss: 5.1989e-13\n",
            "Epoch 9/10\n",
            "977/977 [==============================] - 36s 37ms/step - g_loss: 6.1105e-11 - d_loss: 5.2061e-13\n",
            "Epoch 10/10\n",
            "977/977 [==============================] - 36s 37ms/step - g_loss: 5.4341e-11 - d_loss: 5.2591e-13\n"
          ]
        }
      ],
      "source": [
        "for i in range(1):\n",
        "  # (x_train, y_train) = generate_real_samples(250000,filename = '/content/sample_train.csv')\n",
        "  # (x_test, y_test) = generate_real_samples(20000,filename = '/content/sample_test.csv')\n",
        "  # dataset_train = tf.data.Dataset.from_tensor_slices((y_train,x_train))\n",
        "  # dataset_train = dataset_train.shuffle(buffer_size=1024).batch(batch_size)\n",
        "\n",
        "  # dataset_test = tf.data.Dataset.from_tensor_slices((y_test,x_test))\n",
        "  # dataset_test = dataset_test.shuffle(buffer_size=1024).batch(batch_size)\n",
        "  \n",
        "  \n",
        "  cond_gan.fit(dataset_train, epochs=10)\n"
      ]
    },
    {
      "cell_type": "markdown",
      "metadata": {
        "id": "9rfRnGG2qtge"
      },
      "source": [
        "## Interpolating between classes with the trained generator"
      ]
    },
    {
      "cell_type": "code",
      "source": [
        "from keras import Input\n",
        "from keras.layers import Conv1D\n",
        "from keras.layers import MaxPooling1D\n",
        "from keras.layers import LSTM\n",
        "from keras.layers import Dense\n",
        "from keras.layers import Reshape\n",
        "from keras.layers import Dropout\n",
        "from keras.layers import Flatten\n",
        "from keras.layers import Concatenate\n",
        "from keras import Model\n",
        "\n",
        "input_layer = Input(shape=(512))\n",
        "\n",
        "dense1 = Dense(1024, activation='relu')(input_layer)\n",
        "resh1 = Reshape(target_shape=(2,512))(dense1)\n",
        "dropout1 =  Dropout(.25)(resh1)\n",
        "lstm1 = LSTM(32, activation=\"relu\",return_sequences=True)(dropout1)\n",
        "# flat1 = Flatten()(lstm1)\n",
        "# flat2 = Flatten()(resh1)\n",
        "# conc1 = Concatenate(axis=1)([flat1,flat2])\n",
        "\n",
        "dense2 = Dense(512, activation='relu')(lstm1)\n",
        "resh2 = Reshape(target_shape=(2,512))(dense2)\n",
        "dropout2 =  Dropout(.25)(resh2)\n",
        "lstm2 = LSTM(32, activation=\"relu\",return_sequences=True)(dropout2)\n",
        "# flat3 = Flatten()(lstm2)\n",
        "# flat4 = Flatten()(resh2)\n",
        "# conc2 = Concatenate(axis=1)([flat3,flat4])\n",
        "\n",
        "dense3 = Dense(512, activation='relu')(lstm2)\n",
        "resh3 = Reshape(target_shape=(2,512))(dense3)\n",
        "dropout3 =  Dropout(.25)(resh3)\n",
        "lstm3 = LSTM(32, activation=\"relu\",return_sequences=True)(dropout3)\n",
        "# flat5 = Flatten()(lstm3)\n",
        "# flat6 = Flatten()(resh3)\n",
        "# conc3 = Concatenate(axis=1)([flat5,flat6])\n",
        "dense4 = Dense(512, activation='relu')(lstm3)\n",
        "flat6 = Flatten()(dense4)\n",
        "\n",
        "dense4 = Dense(1024, activation='relu')(flat6)\n",
        "\n",
        "output_layer = Dense(101, activation='linear')(dense4)\n",
        "model = Model(inputs=input_layer, outputs=output_layer)\n",
        "optz = keras.optimizers.Adam(lr=0.0001)\n",
        "model.compile(loss=\"MeanSquaredError\", optimizer=optz,metrics=['accuracy'])"
      ],
      "metadata": {
        "id": "57KkLbzGmeih",
        "colab": {
          "base_uri": "https://localhost:8080/"
        },
        "outputId": "e8a10fea-f08e-4f59-e3a7-12efe1546f04"
      },
      "execution_count": null,
      "outputs": [
        {
          "output_type": "stream",
          "name": "stdout",
          "text": [
            "WARNING:tensorflow:Layer lstm_10 will not use cuDNN kernels since it doesn't meet the criteria. It will use a generic GPU kernel as fallback when running on GPU.\n",
            "WARNING:tensorflow:Layer lstm_11 will not use cuDNN kernels since it doesn't meet the criteria. It will use a generic GPU kernel as fallback when running on GPU.\n",
            "WARNING:tensorflow:Layer lstm_12 will not use cuDNN kernels since it doesn't meet the criteria. It will use a generic GPU kernel as fallback when running on GPU.\n"
          ]
        },
        {
          "output_type": "stream",
          "name": "stderr",
          "text": [
            "/usr/local/lib/python3.7/dist-packages/keras/optimizer_v2/adam.py:105: UserWarning: The `lr` argument is deprecated, use `learning_rate` instead.\n",
            "  super(Adam, self).__init__(name, **kwargs)\n"
          ]
        }
      ]
    },
    {
      "cell_type": "code",
      "source": [
        "# from keras import Input\n",
        "# from keras.layers import Conv1D\n",
        "# from keras.layers import MaxPooling1D\n",
        "# from keras.layers import LSTM\n",
        "# from keras.layers import Dense\n",
        "# from keras.layers import Reshape\n",
        "# from keras.layers import Dropout\n",
        "\n",
        "# from keras import Model\n",
        "# input_layer = Input(shape=(512))\n",
        "# dense1 = Dense(1024, activation='relu')(input_layer)\n",
        "# dense2 = Dense(1024, activation='relu')(dense1)\n",
        "# dropout1 =  Dropout(.25)(dense2)\n",
        "# resh1 = Reshape(target_shape=(1,16,64))(dropout1)\n",
        "# conv1 = Conv1D(filters=32,\n",
        "#                kernel_size=16,\n",
        "#                strides=1,\n",
        "#                activation='relu')(resh1)\n",
        "# resh1 = Reshape(target_shape=(32,1))(conv1)\n",
        "# pool1 = MaxPooling1D(pool_size=2)(resh1)\n",
        "# lstm1 = LSTM(32, activation=\"relu\")(pool1)\n",
        "# output_layer = Dense(101, activation='linear')(lstm1)\n",
        "# model = Model(inputs=input_layer, outputs=output_layer)\n",
        "# optimizer = keras.optimizers.Adam(lr=0.0001)\n",
        "# model.compile(loss=\"MeanSquaredError\", optimizer=optimizer,metrics=['accuracy'])"
      ],
      "metadata": {
        "id": "buysgMLnaQzI",
        "colab": {
          "base_uri": "https://localhost:8080/"
        },
        "outputId": "b3d9a5e2-f81b-47b2-c75e-8b90bb6c6ef7"
      },
      "execution_count": null,
      "outputs": [
        {
          "output_type": "stream",
          "name": "stdout",
          "text": [
            "WARNING:tensorflow:Layer lstm_9 will not use cuDNN kernels since it doesn't meet the criteria. It will use a generic GPU kernel as fallback when running on GPU.\n"
          ]
        },
        {
          "output_type": "stream",
          "name": "stderr",
          "text": [
            "/usr/local/lib/python3.7/dist-packages/keras/optimizer_v2/adam.py:105: UserWarning: The `lr` argument is deprecated, use `learning_rate` instead.\n",
            "  super(Adam, self).__init__(name, **kwargs)\n"
          ]
        }
      ]
    },
    {
      "cell_type": "code",
      "source": [
        "model.summary()"
      ],
      "metadata": {
        "id": "_lz0cJKtuYye",
        "colab": {
          "base_uri": "https://localhost:8080/"
        },
        "outputId": "d7779747-7942-40c2-f1bb-1516ab963e7a"
      },
      "execution_count": null,
      "outputs": [
        {
          "output_type": "stream",
          "name": "stdout",
          "text": [
            "Model: \"model_2\"\n",
            "_________________________________________________________________\n",
            " Layer (type)                Output Shape              Param #   \n",
            "=================================================================\n",
            " input_5 (InputLayer)        [(None, 512)]             0         \n",
            "                                                                 \n",
            " dense_19 (Dense)            (None, 1024)              525312    \n",
            "                                                                 \n",
            " reshape_11 (Reshape)        (None, 2, 512)            0         \n",
            "                                                                 \n",
            " dropout_10 (Dropout)        (None, 2, 512)            0         \n",
            "                                                                 \n",
            " lstm_10 (LSTM)              (None, 2, 32)             69760     \n",
            "                                                                 \n",
            " dense_20 (Dense)            (None, 2, 512)            16896     \n",
            "                                                                 \n",
            " reshape_12 (Reshape)        (None, 2, 512)            0         \n",
            "                                                                 \n",
            " dropout_11 (Dropout)        (None, 2, 512)            0         \n",
            "                                                                 \n",
            " lstm_11 (LSTM)              (None, 2, 32)             69760     \n",
            "                                                                 \n",
            " dense_21 (Dense)            (None, 2, 512)            16896     \n",
            "                                                                 \n",
            " reshape_13 (Reshape)        (None, 2, 512)            0         \n",
            "                                                                 \n",
            " dropout_12 (Dropout)        (None, 2, 512)            0         \n",
            "                                                                 \n",
            " lstm_12 (LSTM)              (None, 2, 32)             69760     \n",
            "                                                                 \n",
            " dense_22 (Dense)            (None, 2, 512)            16896     \n",
            "                                                                 \n",
            " flatten_3 (Flatten)         (None, 1024)              0         \n",
            "                                                                 \n",
            " dense_23 (Dense)            (None, 1024)              1049600   \n",
            "                                                                 \n",
            " dense_24 (Dense)            (None, 101)               103525    \n",
            "                                                                 \n",
            "=================================================================\n",
            "Total params: 1,938,405\n",
            "Trainable params: 1,938,405\n",
            "Non-trainable params: 0\n",
            "_________________________________________________________________\n"
          ]
        }
      ]
    },
    {
      "cell_type": "code",
      "source": [
        "for i in range(3):\n",
        "  (x_train, y_train) = generate_real_samples(500000,filename = '/content/sample_train.csv')\n",
        "  (x_test, y_test) = generate_real_samples(20000,filename = '/content/sample_test.csv')\n",
        "\n",
        "\n",
        "  dataset_train = tf.data.Dataset.from_tensor_slices((y_train,x_train))\n",
        "  dataset_train = dataset_train.shuffle(buffer_size=1024).batch(batch_size)\n",
        "\n",
        "  dataset_test = tf.data.Dataset.from_tensor_slices((y_test,x_test))\n",
        "  dataset_test = dataset_test.shuffle(buffer_size=1024).batch(batch_size)\n",
        "\n",
        "  model.fit(dataset_train,validation_data =dataset_test , epochs=10)"
      ],
      "metadata": {
        "id": "daL_IqxrawiI",
        "colab": {
          "base_uri": "https://localhost:8080/",
          "height": 626
        },
        "outputId": "7bc543f7-8257-422c-be3d-d3e6d812d99e"
      },
      "execution_count": null,
      "outputs": [
        {
          "output_type": "stream",
          "name": "stdout",
          "text": [
            "Epoch 1/10\n",
            "1954/1954 [==============================] - 48s 22ms/step - loss: 23.9445 - accuracy: 0.9993 - val_loss: 19.1184 - val_accuracy: 1.0000\n",
            "Epoch 2/10\n",
            "1954/1954 [==============================] - 43s 22ms/step - loss: 19.4756 - accuracy: 1.0000 - val_loss: 18.5930 - val_accuracy: 1.0000\n",
            "Epoch 3/10\n",
            "1954/1954 [==============================] - 44s 23ms/step - loss: 18.7894 - accuracy: 1.0000 - val_loss: 18.3254 - val_accuracy: 1.0000\n",
            "Epoch 4/10\n",
            "1954/1954 [==============================] - 44s 23ms/step - loss: 18.3731 - accuracy: 1.0000 - val_loss: 17.9789 - val_accuracy: 1.0000\n",
            "Epoch 5/10\n",
            "1954/1954 [==============================] - 43s 22ms/step - loss: 18.1695 - accuracy: 1.0000 - val_loss: 17.8230 - val_accuracy: 1.0000\n",
            "Epoch 6/10\n",
            "1954/1954 [==============================] - 41s 21ms/step - loss: 17.9754 - accuracy: 1.0000 - val_loss: 17.6393 - val_accuracy: 1.0000\n",
            "Epoch 7/10\n",
            "  92/1954 [>.............................] - ETA: 37s - loss: 17.5012 - accuracy: 1.0000"
          ]
        },
        {
          "output_type": "error",
          "ename": "KeyboardInterrupt",
          "evalue": "ignored",
          "traceback": [
            "\u001b[0;31m---------------------------------------------------------------------------\u001b[0m",
            "\u001b[0;31mKeyboardInterrupt\u001b[0m                         Traceback (most recent call last)",
            "\u001b[0;32m<ipython-input-22-2afd535be5f5>\u001b[0m in \u001b[0;36m<module>\u001b[0;34m()\u001b[0m\n\u001b[1;32m     10\u001b[0m   \u001b[0mdataset_test\u001b[0m \u001b[0;34m=\u001b[0m \u001b[0mdataset_test\u001b[0m\u001b[0;34m.\u001b[0m\u001b[0mshuffle\u001b[0m\u001b[0;34m(\u001b[0m\u001b[0mbuffer_size\u001b[0m\u001b[0;34m=\u001b[0m\u001b[0;36m1024\u001b[0m\u001b[0;34m)\u001b[0m\u001b[0;34m.\u001b[0m\u001b[0mbatch\u001b[0m\u001b[0;34m(\u001b[0m\u001b[0mbatch_size\u001b[0m\u001b[0;34m)\u001b[0m\u001b[0;34m\u001b[0m\u001b[0;34m\u001b[0m\u001b[0m\n\u001b[1;32m     11\u001b[0m \u001b[0;34m\u001b[0m\u001b[0m\n\u001b[0;32m---> 12\u001b[0;31m   \u001b[0mmodel\u001b[0m\u001b[0;34m.\u001b[0m\u001b[0mfit\u001b[0m\u001b[0;34m(\u001b[0m\u001b[0mdataset_train\u001b[0m\u001b[0;34m,\u001b[0m\u001b[0mvalidation_data\u001b[0m \u001b[0;34m=\u001b[0m\u001b[0mdataset_test\u001b[0m \u001b[0;34m,\u001b[0m \u001b[0mepochs\u001b[0m\u001b[0;34m=\u001b[0m\u001b[0;36m10\u001b[0m\u001b[0;34m)\u001b[0m\u001b[0;34m\u001b[0m\u001b[0;34m\u001b[0m\u001b[0m\n\u001b[0m",
            "\u001b[0;32m/usr/local/lib/python3.7/dist-packages/keras/utils/traceback_utils.py\u001b[0m in \u001b[0;36merror_handler\u001b[0;34m(*args, **kwargs)\u001b[0m\n\u001b[1;32m     62\u001b[0m     \u001b[0mfiltered_tb\u001b[0m \u001b[0;34m=\u001b[0m \u001b[0;32mNone\u001b[0m\u001b[0;34m\u001b[0m\u001b[0;34m\u001b[0m\u001b[0m\n\u001b[1;32m     63\u001b[0m     \u001b[0;32mtry\u001b[0m\u001b[0;34m:\u001b[0m\u001b[0;34m\u001b[0m\u001b[0;34m\u001b[0m\u001b[0m\n\u001b[0;32m---> 64\u001b[0;31m       \u001b[0;32mreturn\u001b[0m \u001b[0mfn\u001b[0m\u001b[0;34m(\u001b[0m\u001b[0;34m*\u001b[0m\u001b[0margs\u001b[0m\u001b[0;34m,\u001b[0m \u001b[0;34m**\u001b[0m\u001b[0mkwargs\u001b[0m\u001b[0;34m)\u001b[0m\u001b[0;34m\u001b[0m\u001b[0;34m\u001b[0m\u001b[0m\n\u001b[0m\u001b[1;32m     65\u001b[0m     \u001b[0;32mexcept\u001b[0m \u001b[0mException\u001b[0m \u001b[0;32mas\u001b[0m \u001b[0me\u001b[0m\u001b[0;34m:\u001b[0m  \u001b[0;31m# pylint: disable=broad-except\u001b[0m\u001b[0;34m\u001b[0m\u001b[0;34m\u001b[0m\u001b[0m\n\u001b[1;32m     66\u001b[0m       \u001b[0mfiltered_tb\u001b[0m \u001b[0;34m=\u001b[0m \u001b[0m_process_traceback_frames\u001b[0m\u001b[0;34m(\u001b[0m\u001b[0me\u001b[0m\u001b[0;34m.\u001b[0m\u001b[0m__traceback__\u001b[0m\u001b[0;34m)\u001b[0m\u001b[0;34m\u001b[0m\u001b[0;34m\u001b[0m\u001b[0m\n",
            "\u001b[0;32m/usr/local/lib/python3.7/dist-packages/keras/engine/training.py\u001b[0m in \u001b[0;36mfit\u001b[0;34m(self, x, y, batch_size, epochs, verbose, callbacks, validation_split, validation_data, shuffle, class_weight, sample_weight, initial_epoch, steps_per_epoch, validation_steps, validation_batch_size, validation_freq, max_queue_size, workers, use_multiprocessing)\u001b[0m\n\u001b[1;32m   1382\u001b[0m                 _r=1):\n\u001b[1;32m   1383\u001b[0m               \u001b[0mcallbacks\u001b[0m\u001b[0;34m.\u001b[0m\u001b[0mon_train_batch_begin\u001b[0m\u001b[0;34m(\u001b[0m\u001b[0mstep\u001b[0m\u001b[0;34m)\u001b[0m\u001b[0;34m\u001b[0m\u001b[0;34m\u001b[0m\u001b[0m\n\u001b[0;32m-> 1384\u001b[0;31m               \u001b[0mtmp_logs\u001b[0m \u001b[0;34m=\u001b[0m \u001b[0mself\u001b[0m\u001b[0;34m.\u001b[0m\u001b[0mtrain_function\u001b[0m\u001b[0;34m(\u001b[0m\u001b[0miterator\u001b[0m\u001b[0;34m)\u001b[0m\u001b[0;34m\u001b[0m\u001b[0;34m\u001b[0m\u001b[0m\n\u001b[0m\u001b[1;32m   1385\u001b[0m               \u001b[0;32mif\u001b[0m \u001b[0mdata_handler\u001b[0m\u001b[0;34m.\u001b[0m\u001b[0mshould_sync\u001b[0m\u001b[0;34m:\u001b[0m\u001b[0;34m\u001b[0m\u001b[0;34m\u001b[0m\u001b[0m\n\u001b[1;32m   1386\u001b[0m                 \u001b[0mcontext\u001b[0m\u001b[0;34m.\u001b[0m\u001b[0masync_wait\u001b[0m\u001b[0;34m(\u001b[0m\u001b[0;34m)\u001b[0m\u001b[0;34m\u001b[0m\u001b[0;34m\u001b[0m\u001b[0m\n",
            "\u001b[0;32m/usr/local/lib/python3.7/dist-packages/tensorflow/python/util/traceback_utils.py\u001b[0m in \u001b[0;36merror_handler\u001b[0;34m(*args, **kwargs)\u001b[0m\n\u001b[1;32m    148\u001b[0m     \u001b[0mfiltered_tb\u001b[0m \u001b[0;34m=\u001b[0m \u001b[0;32mNone\u001b[0m\u001b[0;34m\u001b[0m\u001b[0;34m\u001b[0m\u001b[0m\n\u001b[1;32m    149\u001b[0m     \u001b[0;32mtry\u001b[0m\u001b[0;34m:\u001b[0m\u001b[0;34m\u001b[0m\u001b[0;34m\u001b[0m\u001b[0m\n\u001b[0;32m--> 150\u001b[0;31m       \u001b[0;32mreturn\u001b[0m \u001b[0mfn\u001b[0m\u001b[0;34m(\u001b[0m\u001b[0;34m*\u001b[0m\u001b[0margs\u001b[0m\u001b[0;34m,\u001b[0m \u001b[0;34m**\u001b[0m\u001b[0mkwargs\u001b[0m\u001b[0;34m)\u001b[0m\u001b[0;34m\u001b[0m\u001b[0;34m\u001b[0m\u001b[0m\n\u001b[0m\u001b[1;32m    151\u001b[0m     \u001b[0;32mexcept\u001b[0m \u001b[0mException\u001b[0m \u001b[0;32mas\u001b[0m \u001b[0me\u001b[0m\u001b[0;34m:\u001b[0m\u001b[0;34m\u001b[0m\u001b[0;34m\u001b[0m\u001b[0m\n\u001b[1;32m    152\u001b[0m       \u001b[0mfiltered_tb\u001b[0m \u001b[0;34m=\u001b[0m \u001b[0m_process_traceback_frames\u001b[0m\u001b[0;34m(\u001b[0m\u001b[0me\u001b[0m\u001b[0;34m.\u001b[0m\u001b[0m__traceback__\u001b[0m\u001b[0;34m)\u001b[0m\u001b[0;34m\u001b[0m\u001b[0;34m\u001b[0m\u001b[0m\n",
            "\u001b[0;32m/usr/local/lib/python3.7/dist-packages/tensorflow/python/eager/def_function.py\u001b[0m in \u001b[0;36m__call__\u001b[0;34m(self, *args, **kwds)\u001b[0m\n\u001b[1;32m    913\u001b[0m \u001b[0;34m\u001b[0m\u001b[0m\n\u001b[1;32m    914\u001b[0m       \u001b[0;32mwith\u001b[0m \u001b[0mOptionalXlaContext\u001b[0m\u001b[0;34m(\u001b[0m\u001b[0mself\u001b[0m\u001b[0;34m.\u001b[0m\u001b[0m_jit_compile\u001b[0m\u001b[0;34m)\u001b[0m\u001b[0;34m:\u001b[0m\u001b[0;34m\u001b[0m\u001b[0;34m\u001b[0m\u001b[0m\n\u001b[0;32m--> 915\u001b[0;31m         \u001b[0mresult\u001b[0m \u001b[0;34m=\u001b[0m \u001b[0mself\u001b[0m\u001b[0;34m.\u001b[0m\u001b[0m_call\u001b[0m\u001b[0;34m(\u001b[0m\u001b[0;34m*\u001b[0m\u001b[0margs\u001b[0m\u001b[0;34m,\u001b[0m \u001b[0;34m**\u001b[0m\u001b[0mkwds\u001b[0m\u001b[0;34m)\u001b[0m\u001b[0;34m\u001b[0m\u001b[0;34m\u001b[0m\u001b[0m\n\u001b[0m\u001b[1;32m    916\u001b[0m \u001b[0;34m\u001b[0m\u001b[0m\n\u001b[1;32m    917\u001b[0m       \u001b[0mnew_tracing_count\u001b[0m \u001b[0;34m=\u001b[0m \u001b[0mself\u001b[0m\u001b[0;34m.\u001b[0m\u001b[0mexperimental_get_tracing_count\u001b[0m\u001b[0;34m(\u001b[0m\u001b[0;34m)\u001b[0m\u001b[0;34m\u001b[0m\u001b[0;34m\u001b[0m\u001b[0m\n",
            "\u001b[0;32m/usr/local/lib/python3.7/dist-packages/tensorflow/python/eager/def_function.py\u001b[0m in \u001b[0;36m_call\u001b[0;34m(self, *args, **kwds)\u001b[0m\n\u001b[1;32m    945\u001b[0m       \u001b[0;31m# In this case we have created variables on the first call, so we run the\u001b[0m\u001b[0;34m\u001b[0m\u001b[0;34m\u001b[0m\u001b[0;34m\u001b[0m\u001b[0m\n\u001b[1;32m    946\u001b[0m       \u001b[0;31m# defunned version which is guaranteed to never create variables.\u001b[0m\u001b[0;34m\u001b[0m\u001b[0;34m\u001b[0m\u001b[0;34m\u001b[0m\u001b[0m\n\u001b[0;32m--> 947\u001b[0;31m       \u001b[0;32mreturn\u001b[0m \u001b[0mself\u001b[0m\u001b[0;34m.\u001b[0m\u001b[0m_stateless_fn\u001b[0m\u001b[0;34m(\u001b[0m\u001b[0;34m*\u001b[0m\u001b[0margs\u001b[0m\u001b[0;34m,\u001b[0m \u001b[0;34m**\u001b[0m\u001b[0mkwds\u001b[0m\u001b[0;34m)\u001b[0m  \u001b[0;31m# pylint: disable=not-callable\u001b[0m\u001b[0;34m\u001b[0m\u001b[0;34m\u001b[0m\u001b[0m\n\u001b[0m\u001b[1;32m    948\u001b[0m     \u001b[0;32melif\u001b[0m \u001b[0mself\u001b[0m\u001b[0;34m.\u001b[0m\u001b[0m_stateful_fn\u001b[0m \u001b[0;32mis\u001b[0m \u001b[0;32mnot\u001b[0m \u001b[0;32mNone\u001b[0m\u001b[0;34m:\u001b[0m\u001b[0;34m\u001b[0m\u001b[0;34m\u001b[0m\u001b[0m\n\u001b[1;32m    949\u001b[0m       \u001b[0;31m# Release the lock early so that multiple threads can perform the call\u001b[0m\u001b[0;34m\u001b[0m\u001b[0;34m\u001b[0m\u001b[0;34m\u001b[0m\u001b[0m\n",
            "\u001b[0;32m/usr/local/lib/python3.7/dist-packages/tensorflow/python/eager/function.py\u001b[0m in \u001b[0;36m__call__\u001b[0;34m(self, *args, **kwargs)\u001b[0m\n\u001b[1;32m   2955\u001b[0m        filtered_flat_args) = self._maybe_define_function(args, kwargs)\n\u001b[1;32m   2956\u001b[0m     return graph_function._call_flat(\n\u001b[0;32m-> 2957\u001b[0;31m         filtered_flat_args, captured_inputs=graph_function.captured_inputs)  # pylint: disable=protected-access\n\u001b[0m\u001b[1;32m   2958\u001b[0m \u001b[0;34m\u001b[0m\u001b[0m\n\u001b[1;32m   2959\u001b[0m   \u001b[0;34m@\u001b[0m\u001b[0mproperty\u001b[0m\u001b[0;34m\u001b[0m\u001b[0;34m\u001b[0m\u001b[0m\n",
            "\u001b[0;32m/usr/local/lib/python3.7/dist-packages/tensorflow/python/eager/function.py\u001b[0m in \u001b[0;36m_call_flat\u001b[0;34m(self, args, captured_inputs, cancellation_manager)\u001b[0m\n\u001b[1;32m   1852\u001b[0m       \u001b[0;31m# No tape is watching; skip to running the function.\u001b[0m\u001b[0;34m\u001b[0m\u001b[0;34m\u001b[0m\u001b[0;34m\u001b[0m\u001b[0m\n\u001b[1;32m   1853\u001b[0m       return self._build_call_outputs(self._inference_function.call(\n\u001b[0;32m-> 1854\u001b[0;31m           ctx, args, cancellation_manager=cancellation_manager))\n\u001b[0m\u001b[1;32m   1855\u001b[0m     forward_backward = self._select_forward_and_backward_functions(\n\u001b[1;32m   1856\u001b[0m         \u001b[0margs\u001b[0m\u001b[0;34m,\u001b[0m\u001b[0;34m\u001b[0m\u001b[0;34m\u001b[0m\u001b[0m\n",
            "\u001b[0;32m/usr/local/lib/python3.7/dist-packages/tensorflow/python/eager/function.py\u001b[0m in \u001b[0;36mcall\u001b[0;34m(self, ctx, args, cancellation_manager)\u001b[0m\n\u001b[1;32m    502\u001b[0m               \u001b[0minputs\u001b[0m\u001b[0;34m=\u001b[0m\u001b[0margs\u001b[0m\u001b[0;34m,\u001b[0m\u001b[0;34m\u001b[0m\u001b[0;34m\u001b[0m\u001b[0m\n\u001b[1;32m    503\u001b[0m               \u001b[0mattrs\u001b[0m\u001b[0;34m=\u001b[0m\u001b[0mattrs\u001b[0m\u001b[0;34m,\u001b[0m\u001b[0;34m\u001b[0m\u001b[0;34m\u001b[0m\u001b[0m\n\u001b[0;32m--> 504\u001b[0;31m               ctx=ctx)\n\u001b[0m\u001b[1;32m    505\u001b[0m         \u001b[0;32melse\u001b[0m\u001b[0;34m:\u001b[0m\u001b[0;34m\u001b[0m\u001b[0;34m\u001b[0m\u001b[0m\n\u001b[1;32m    506\u001b[0m           outputs = execute.execute_with_cancellation(\n",
            "\u001b[0;32m/usr/local/lib/python3.7/dist-packages/tensorflow/python/eager/execute.py\u001b[0m in \u001b[0;36mquick_execute\u001b[0;34m(op_name, num_outputs, inputs, attrs, ctx, name)\u001b[0m\n\u001b[1;32m     53\u001b[0m     \u001b[0mctx\u001b[0m\u001b[0;34m.\u001b[0m\u001b[0mensure_initialized\u001b[0m\u001b[0;34m(\u001b[0m\u001b[0;34m)\u001b[0m\u001b[0;34m\u001b[0m\u001b[0;34m\u001b[0m\u001b[0m\n\u001b[1;32m     54\u001b[0m     tensors = pywrap_tfe.TFE_Py_Execute(ctx._handle, device_name, op_name,\n\u001b[0;32m---> 55\u001b[0;31m                                         inputs, attrs, num_outputs)\n\u001b[0m\u001b[1;32m     56\u001b[0m   \u001b[0;32mexcept\u001b[0m \u001b[0mcore\u001b[0m\u001b[0;34m.\u001b[0m\u001b[0m_NotOkStatusException\u001b[0m \u001b[0;32mas\u001b[0m \u001b[0me\u001b[0m\u001b[0;34m:\u001b[0m\u001b[0;34m\u001b[0m\u001b[0;34m\u001b[0m\u001b[0m\n\u001b[1;32m     57\u001b[0m     \u001b[0;32mif\u001b[0m \u001b[0mname\u001b[0m \u001b[0;32mis\u001b[0m \u001b[0;32mnot\u001b[0m \u001b[0;32mNone\u001b[0m\u001b[0;34m:\u001b[0m\u001b[0;34m\u001b[0m\u001b[0;34m\u001b[0m\u001b[0m\n",
            "\u001b[0;31mKeyboardInterrupt\u001b[0m: "
          ]
        }
      ]
    },
    {
      "cell_type": "code",
      "source": [
        "# # import numpy as np\n",
        "# # import tensorflow as tf\n",
        "\n",
        "# (x_train, y_train) = generate_real_samples(300000,filename = '/content/sample_train.csv')\n",
        "# (x_test, y_test) = generate_real_samples(2000,filename = '/content/sample_test.csv')\n",
        "\n",
        "\n",
        "# dataset_train = tf.data.Dataset.from_tensor_slices((y_train,x_train))\n",
        "# dataset_train = dataset_train.shuffle(buffer_size=1024).batch(batch_size)\n",
        "\n",
        "# dataset_test = tf.data.Dataset.from_tensor_slices((y_test,x_test))\n",
        "# dataset_test = dataset_test.shuffle(buffer_size=1024).batch(batch_size)\n"
      ],
      "metadata": {
        "id": "nqXfED27qHJZ"
      },
      "execution_count": null,
      "outputs": []
    },
    {
      "cell_type": "code",
      "source": [
        "import matplotlib.pyplot as plt\n",
        "import numpy as np\n",
        "\n",
        "(real_labels, real_pixels) = generate_real_samples(batch_size,filename = '/content/sample_test.csv')\n",
        "p_test = model.predict(real_pixels)\n",
        "\n",
        "\n",
        "err_vec = (p_test-real_labels)\n",
        "\n",
        "mean_err_vec = (np.mean(err_vec,axis=0))\n",
        "mean_label_vec = (np.mean(real_labels,axis=0))\n",
        "mean_pred_vec = (np.mean(p_test,axis=0))\n",
        "fig, ax = plt.subplots()\n",
        "m = 21\n",
        "for i in range(batch_size):\n",
        "  ax.plot(p_test[i],real_labels[i],label=i)\n",
        "\n",
        "# ax.plot(mean_label_vec,mean_err_vec,color='black')\n",
        "ax.plot(mean_pred_vec,mean_label_vec,color='black')\n",
        "# plt.plot([-0.02, 0.07], [-0.02, 0.07], 'k-', lw=2)\n",
        "ax.set(xlabel='predicted waveform', ylabel='truth waveform',\n",
        "       title='About as simple as it gets, folks')\n",
        "ax.grid()\n",
        "\n",
        "# fig.savefig(\"test.png\")\n",
        "plt.show()\n",
        "# print(np.mean(np.mean(p_test,axis=1)))"
      ],
      "metadata": {
        "id": "-7MICnxHhgk7",
        "colab": {
          "base_uri": "https://localhost:8080/",
          "height": 295
        },
        "outputId": "7b1a7e1a-696c-484e-e622-07aa2bfe5f7a"
      },
      "execution_count": null,
      "outputs": [
        {
          "output_type": "display_data",
          "data": {
            "text/plain": [
              "<Figure size 432x288 with 1 Axes>"
            ],
            "image/png": "[encoded data removed]"
          },
          "metadata": {
            "needs_background": "light"
          }
        }
      ]
    },
    {
      "cell_type": "code",
      "source": [
        "import matplotlib.pyplot as plt\n",
        "import numpy as np\n",
        "\n",
        "fig, ax = plt.subplots()\n",
        "m = 21\n",
        "for i in range(64):\n",
        "  ax.plot(p_test[i]*255, real_labels[i]*255,label=i)\n",
        "\n",
        "ax.set(xlabel='time (s)', ylabel='voltage (mV)',\n",
        "       title='About as simple as it gets, folks')\n",
        "ax.grid()\n",
        "\n",
        "# fig.savefig(\"test.png\")\n",
        "plt.show()"
      ],
      "metadata": {
        "id": "TQvcREk2mbBc",
        "colab": {
          "base_uri": "https://localhost:8080/",
          "height": 295
        },
        "outputId": "f54aaf2f-962f-4a51-de27-b9f4fe69671e"
      },
      "execution_count": null,
      "outputs": [
        {
          "output_type": "display_data",
          "data": {
            "text/plain": [
              "<Figure size 432x288 with 1 Axes>"
            ],
            "image/png": "[encoded data removed]"
          },
          "metadata": {
            "needs_background": "light"
          }
        }
      ]
    },
    {
      "cell_type": "code",
      "execution_count": null,
      "metadata": {
        "id": "Cua32XZzqtgf"
      },
      "outputs": [],
      "source": [
        "# We first extract the trained generator from our Conditiona GAN.\n",
        "trained_gen = cond_gan.generator\n",
        "(real_labels, real_pixels) = generate_real_samples(batch_size,filename = '/content/sample_test.csv')\n",
        "\n",
        "# batch_size = tf.shape(real_pixels)[0]\n",
        "random_latent_vectors = tf.random.normal(shape=(batch_size, latent_dim))\n",
        "# print(random_latent_vectors[0])\n",
        "random_vector_pixels = tf.concat(\n",
        "    [random_latent_vectors, real_pixels], axis=1\n",
        ")\n",
        "# print(real_labels[1])\n",
        "\n",
        "generated_waveform = trained_gen(random_vector_pixels)\n",
        "\n",
        "# print(generated_waveform[1])\n",
        "import matplotlib.pyplot as plt\n",
        "import numpy as np\n",
        "\n",
        "fig, ax = plt.subplots()\n",
        "ax.plot(generated_waveform[1], real_labels[1])\n",
        "\n",
        "ax.set(xlabel='time (s)', ylabel='voltage (mV)',\n",
        "       title='About as simple as it gets, folks')\n",
        "ax.grid()\n",
        "\n",
        "# fig.savefig(\"test.png\")\n",
        "plt.show()"
      ]
    },
    {
      "cell_type": "markdown",
      "metadata": {
        "id": "6mZ3cRFIqtgf"
      },
      "source": [
        "Here, we first sample noise from a normal distribution and then we repeat that for\n",
        "`num_interpolation` times and reshape the result accordingly.\n",
        "We then distribute it uniformly for `num_interpolation`\n",
        "with the label indentities being present in some proportion."
      ]
    },
    {
      "cell_type": "code",
      "execution_count": null,
      "metadata": {
        "id": "ecm5BFWJqtgg"
      },
      "outputs": [],
      "source": [
        "fake_images *= 255.0\n",
        "converted_images = fake_images.astype(np.uint8)\n",
        "converted_images = tf.image.resize(converted_images, (96, 96)).numpy().astype(np.uint8)\n",
        "imageio.mimsave(\"animation.gif\", converted_images, fps=1)\n",
        "embed.embed_file(\"animation.gif\")"
      ]
    },
    {
      "cell_type": "markdown",
      "metadata": {
        "id": "Rokmd_Wtqtgg"
      },
      "source": [
        "We can further improve the performance of this model with recipes like\n",
        "[WGAN-GP](https://keras.io/examples/generative/wgan_gp).\n",
        "Conditional generation is also widely used in many modern image generation architectures like\n",
        "[VQ-GANs](https://arxiv.org/abs/2012.09841), [DALL-E](https://openai.com/blog/dall-e/),\n",
        "etc.\n",
        "\n",
        "You can use the trained model hosted on [Hugging Face Hub](https://huggingface.co/keras-io/conditional-gan) and try the demo on [Hugging Face Spaces](https://huggingface.co/spaces/keras-io/conditional-GAN)."
      ]
    },
    {
      "cell_type": "code",
      "source": [
        "# train a generative adversarial network on a one-dimensional function\n",
        "from numpy import hstack\n",
        "from numpy import zeros\n",
        "from numpy import ones\n",
        "from numpy.random import rand\n",
        "from numpy.random import randn\n",
        "from keras.models import Sequential\n",
        "from keras.layers import Dense\n",
        "from matplotlib import pyplot\n",
        "import random"
      ],
      "metadata": {
        "id": "GimAJfFfeGFu"
      },
      "execution_count": null,
      "outputs": []
    },
    {
      "cell_type": "code",
      "source": [
        "        # layers.Dense(1024, activation='relu'),\n",
        "        # layers.Reshape(target_shape=(2,512)),\n",
        "        # layers.Dropout(.25),\n",
        "        # layers.LSTM(32, activation=\"relu\",return_sequences=True),\n",
        "     \n",
        "        # layers.Dense(512, activation='relu'),\n",
        "        # layers.Reshape(target_shape=(2,512)),\n",
        "        # layers.Dropout(.25),\n",
        "        # layers.LSTM(32, activation=\"relu\",return_sequences=True),\n",
        "     \n",
        "        # layers.Dense(512, activation='relu'),\n",
        "        # layers.Reshape(target_shape=(2,512)),\n",
        "        # layers.Dropout(.25),\n",
        "        # layers.LSTM(32, activation=\"relu\",return_sequences=True),\n",
        "     \n",
        "        # layers.Flatten(),\n",
        "        # layers.Dense(512, activation='relu'),"
      ],
      "metadata": {
        "id": "Glk9aBCdyb90"
      },
      "execution_count": null,
      "outputs": []
    },
    {
      "cell_type": "code",
      "source": [
        "# define the standalone discriminator model\n",
        "def define_discriminator(latent_dim=512,n_inputs=101):\n",
        "\tmodel = Sequential()\n",
        "\tmodel.add(Dense(1000, activation='relu', kernel_initializer='he_uniform', input_dim=n_inputs+latent_dim))\n",
        "\tmodel.add(Dense(1, activation='sigmoid'))\n",
        " \n",
        "\t# compile model\n",
        "\tmodel.compile(loss='binary_crossentropy', optimizer='adam', metrics=['accuracy'])\n",
        "\treturn model"
      ],
      "metadata": {
        "id": "PXkoDqtieHlG"
      },
      "execution_count": null,
      "outputs": []
    },
    {
      "cell_type": "code",
      "source": [
        "# define the standalone generator model\n",
        "def define_generator(latent_dim=512, n_outputs=101):\n",
        "  model = Sequential()\n",
        "\n",
        "  model.add(Dense(1024, activation='relu', kernel_initializer='he_uniform', input_dim=latent_dim+latent_dim))\n",
        "\n",
        "  # model.add(Reshape(target_shape = (2,512)))\n",
        "  # model.add(Dropout(0.25))\n",
        "  # model.add(LSTM(512,activation = \"relu\",return_sequences = True))\n",
        "  # model.add(Dense(512, activation='relu', kernel_initializer='he_uniform', input_dim=latent_dim))\n",
        "\n",
        "  # model.add(Flatten())\n",
        "\n",
        "  model.add(Dense(n_outputs, activation='linear'))\n",
        "  return model"
      ],
      "metadata": {
        "id": "Wz-8kwKqeJpI"
      },
      "execution_count": null,
      "outputs": []
    },
    {
      "cell_type": "code",
      "source": [
        "# define the combined generator and discriminator model, for updating the generator\n",
        "def define_gan(generator, discriminator):\n",
        "  # make weights in the discriminator not trainable\n",
        "  discriminator.trainable = False\n",
        "  # connect them\n",
        "  model = Sequential()\n",
        "  # add generator\n",
        "  model.add(generator)\n",
        "  # add the discriminator\n",
        "\n",
        "  # inp = Input((generator,))\n",
        "\n",
        "  # discriminator_condition = Model(discriminator,inp)\n",
        "\n",
        "  model.add(discriminator)\n",
        "  # compile model\n",
        "  model.compile(loss='binary_crossentropy', optimizer='adam')\n",
        "  return model"
      ],
      "metadata": {
        "id": "xAg52pmreLfZ"
      },
      "execution_count": null,
      "outputs": []
    },
    {
      "cell_type": "code",
      "source": [
        "# generate n real samples with class labels\n",
        "def generate_real_samples_2(real_labels,real_pixels):\n",
        "  # X = real_labels[random.sample(range(len(real_labels)), n)]\n",
        "  X = tf.concat([real_labels, real_pixels], axis=1)\n",
        "  # X = real_labels\n",
        "  y = ones((len(real_labels), 1))\n",
        "  return X, y"
      ],
      "metadata": {
        "id": "A6Tvp5z4eNW8"
      },
      "execution_count": null,
      "outputs": []
    },
    {
      "cell_type": "code",
      "source": [
        "# generate points in latent space as input for the generator\n",
        "def generate_latent_points(latent_dim,real_pixels):\n",
        "  # generate points in the latent space\n",
        "  rand_input = randn(latent_dim * len(real_pixels))\n",
        "  # reshape into a batch of inputs for the network\n",
        "  rand_input = rand_input.reshape(len(real_pixels), latent_dim)\n",
        "\n",
        "  random_vector_pixels = tf.concat([rand_input, real_pixels], axis=1)\n",
        "  # x_input = real_pixels[random.sample(range(len(real_pixels)), n)]\n",
        "  return random_vector_pixels"
      ],
      "metadata": {
        "id": "k5bh7PLOeO3L"
      },
      "execution_count": null,
      "outputs": []
    },
    {
      "cell_type": "code",
      "source": [
        "# use the generator to generate n fake examples, with class labels\n",
        "def generate_fake_samples(generator, latent_dim, real_pixels):\n",
        "\t# generate points in latent space\n",
        "\tx_input = generate_latent_points(latent_dim, real_pixels)\n",
        "\t# predict outputs\n",
        "\tX = generator.predict(x_input)\n",
        "\t# create class labels\n",
        "\ty = zeros((len(real_pixels), 1))\n",
        "\treturn X, y"
      ],
      "metadata": {
        "id": "J4oA6tlteQUz"
      },
      "execution_count": null,
      "outputs": []
    },
    {
      "cell_type": "code",
      "source": [
        "# evaluate the discriminator and plot real and fake points\n",
        "def summarize_performance(epoch, generator, discriminator, latent_dim, n=25):\n",
        "  n_sample = random.sample(range(len(real_pixels_sample)), n)\n",
        "\n",
        "  # prepare real samples\n",
        "  x_real, y_real = generate_real_samples_2(real_labels_sample[n_sample],real_pixels_sample[n_sample])\n",
        "\n",
        "  # evaluate discriminator on real examples\n",
        "  _, acc_real = discriminator.evaluate(x_real, y_real, verbose=0)\n",
        "\n",
        "  # prepare fake examples\n",
        "  x_fake, y_fake = generate_fake_samples(generator, latent_dim, real_pixels_sample[n_sample])\n",
        "\n",
        "  # evaluate discriminator on fake examples\n",
        "  _, acc_fake = discriminator.evaluate(x_fake, y_fake, verbose=0)\n",
        "  # summarize discriminator performance\n",
        "  print(epoch, acc_real, acc_fake)\n",
        "  # scatter plot real and fake data points\n",
        "  fig, ax = plt.subplots()\n",
        "  for i in range(n):\n",
        "    ax.plot(x_real[i],range(101),color='blue')\n",
        "    ax.plot(x_fake[i],range(101),color='red')\n",
        "  # ax.plot(mean_label_vec,mean_err_vec,color='black')\n",
        "  # ax.plot(mean_pred_vec,mean_label_vec,color='black')\n",
        "  # plt.plot([-0.02, 0.07], [-0.02, 0.07], 'k-', lw=2)\n",
        "  ax.set(xlabel='waveform (red = generated sample; blue = truth sample', ylabel='percentile',\n",
        "      title='About as simple as it gets, folks')\n",
        "  ax.grid()\n",
        "  plt.show()"
      ],
      "metadata": {
        "id": "qoE8dbMieSZ8"
      },
      "execution_count": null,
      "outputs": []
    },
    {
      "cell_type": "code",
      "source": [
        "# train the generator and discriminator\n",
        "def train(g_model, d_model, gan_model, latent_dim, n_epochs=10000, n_batch=1000, n_eval=300):\n",
        "\t# determine half the size of one batch, for updating the discriminator\n",
        "  half_batch = int(n_batch / 2)\n",
        "  n_sample = random.sample(range(len(real_pixels_sample)), half_batch)\n",
        "\n",
        "  # manually enumerate epochs\n",
        "  for i in range(n_epochs):\n",
        "    # prepare real samples\n",
        "    x_real, y_real = generate_real_samples_2(real_labels_sample[n_sample], real_pixels_sample[n_sample])\n",
        "\n",
        "    # prepare fake examples\n",
        "    x_fake, y_fake = generate_fake_samples(g_model, latent_dim, real_pixels_sample[n_sample])\n",
        "\n",
        "    # update discriminator\n",
        "    d_model.train_on_batch(x_real, y_real)\n",
        "    d_model.train_on_batch(x_fake, y_fake)\n",
        "\n",
        "    # prepare points in latent space as input for the generator\n",
        "    x_gan = generate_latent_points(latent_dim, real_pixels_sample[n_sample])\n",
        "\n",
        "    # create inverted labels for the fake samples\n",
        "    y_gan = ones((n_batch, 1))\n",
        "\n",
        "    # update the generator via the discriminator's error\n",
        "    gan_model.train_on_batch(x_gan, y_gan)\n",
        "\n",
        "    # evaluate the model every n_eval epochs\n",
        "    if (i+1) % n_eval == 0:\n",
        "      summarize_performance(i, g_model, d_model, latent_dim)"
      ],
      "metadata": {
        "id": "KW7aez4OeU_O"
      },
      "execution_count": null,
      "outputs": []
    },
    {
      "cell_type": "code",
      "source": [
        "# (real_labels_sample, real_pixels_sample) = generate_real_samples(200000,filename = '/content/sample_train.csv')\n",
        "# size of the latent space\n",
        "latent_dim = 512\n",
        "# create the discriminator\n",
        "discriminator = define_discriminator()\n",
        "\n",
        "# discriminator.summary()\n",
        "# create the generator\n",
        "generator = define_generator(latent_dim)\n",
        "\n",
        "# print(generator.input)\n",
        "# generator.summary()\n",
        "# create the gan\n",
        "gan_model = define_gan(generator, discriminator)\n",
        "\n",
        "# train model\n",
        "train(generator, discriminator, gan_model, latent_dim)"
      ],
      "metadata": {
        "colab": {
          "base_uri": "https://localhost:8080/",
          "height": 592
        },
        "id": "yYWpe0mbb9s4",
        "outputId": "a172aa52-cf3b-4bad-9cee-ee6f8906d4e7"
      },
      "execution_count": null,
      "outputs": [
        {
          "output_type": "stream",
          "name": "stdout",
          "text": [
            "KerasTensor(type_spec=TensorSpec(shape=(None, 1024), dtype=tf.float32, name='dense_369_input'), name='dense_369_input', description=\"created by layer 'dense_369_input'\")\n",
            "WARNING:tensorflow:Model was constructed with shape (None, 613) for input KerasTensor(type_spec=TensorSpec(shape=(None, 613), dtype=tf.float32, name='dense_367_input'), name='dense_367_input', description=\"created by layer 'dense_367_input'\"), but it was called on an input with incompatible shape (None, 101).\n"
          ]
        },
        {
          "output_type": "error",
          "ename": "ValueError",
          "evalue": "ignored",
          "traceback": [
            "\u001b[0;31m---------------------------------------------------------------------------\u001b[0m",
            "\u001b[0;31mValueError\u001b[0m                                Traceback (most recent call last)",
            "\u001b[0;32m<ipython-input-485-e2546bc1ca4f>\u001b[0m in \u001b[0;36m<module>\u001b[0;34m()\u001b[0m\n\u001b[1;32m     12\u001b[0m \u001b[0;31m# generator.summary()\u001b[0m\u001b[0;34m\u001b[0m\u001b[0;34m\u001b[0m\u001b[0;34m\u001b[0m\u001b[0m\n\u001b[1;32m     13\u001b[0m \u001b[0;31m# create the gan\u001b[0m\u001b[0;34m\u001b[0m\u001b[0;34m\u001b[0m\u001b[0;34m\u001b[0m\u001b[0m\n\u001b[0;32m---> 14\u001b[0;31m \u001b[0mgan_model\u001b[0m \u001b[0;34m=\u001b[0m \u001b[0mdefine_gan\u001b[0m\u001b[0;34m(\u001b[0m\u001b[0mgenerator\u001b[0m\u001b[0;34m,\u001b[0m \u001b[0mdiscriminator\u001b[0m\u001b[0;34m)\u001b[0m\u001b[0;34m\u001b[0m\u001b[0;34m\u001b[0m\u001b[0m\n\u001b[0m\u001b[1;32m     15\u001b[0m \u001b[0;34m\u001b[0m\u001b[0m\n\u001b[1;32m     16\u001b[0m \u001b[0;31m# train model\u001b[0m\u001b[0;34m\u001b[0m\u001b[0;34m\u001b[0m\u001b[0;34m\u001b[0m\u001b[0m\n",
            "\u001b[0;32m<ipython-input-483-f93275a724d7>\u001b[0m in \u001b[0;36mdefine_gan\u001b[0;34m(generator, discriminator)\u001b[0m\n\u001b[1;32m     13\u001b[0m   \u001b[0;31m# discriminator_condition = Model(discriminator,inp)\u001b[0m\u001b[0;34m\u001b[0m\u001b[0;34m\u001b[0m\u001b[0;34m\u001b[0m\u001b[0m\n\u001b[1;32m     14\u001b[0m \u001b[0;34m\u001b[0m\u001b[0m\n\u001b[0;32m---> 15\u001b[0;31m   \u001b[0mmodel\u001b[0m\u001b[0;34m.\u001b[0m\u001b[0madd\u001b[0m\u001b[0;34m(\u001b[0m\u001b[0mdiscriminator\u001b[0m\u001b[0;34m)\u001b[0m\u001b[0;34m\u001b[0m\u001b[0;34m\u001b[0m\u001b[0m\n\u001b[0m\u001b[1;32m     16\u001b[0m   \u001b[0;31m# compile model\u001b[0m\u001b[0;34m\u001b[0m\u001b[0;34m\u001b[0m\u001b[0;34m\u001b[0m\u001b[0m\n\u001b[1;32m     17\u001b[0m   \u001b[0mmodel\u001b[0m\u001b[0;34m.\u001b[0m\u001b[0mcompile\u001b[0m\u001b[0;34m(\u001b[0m\u001b[0mloss\u001b[0m\u001b[0;34m=\u001b[0m\u001b[0;34m'binary_crossentropy'\u001b[0m\u001b[0;34m,\u001b[0m \u001b[0moptimizer\u001b[0m\u001b[0;34m=\u001b[0m\u001b[0;34m'adam'\u001b[0m\u001b[0;34m)\u001b[0m\u001b[0;34m\u001b[0m\u001b[0;34m\u001b[0m\u001b[0m\n",
            "\u001b[0;32m/usr/local/lib/python3.7/dist-packages/tensorflow/python/training/tracking/base.py\u001b[0m in \u001b[0;36m_method_wrapper\u001b[0;34m(self, *args, **kwargs)\u001b[0m\n\u001b[1;32m    627\u001b[0m     \u001b[0mself\u001b[0m\u001b[0;34m.\u001b[0m\u001b[0m_self_setattr_tracking\u001b[0m \u001b[0;34m=\u001b[0m \u001b[0;32mFalse\u001b[0m  \u001b[0;31m# pylint: disable=protected-access\u001b[0m\u001b[0;34m\u001b[0m\u001b[0;34m\u001b[0m\u001b[0m\n\u001b[1;32m    628\u001b[0m     \u001b[0;32mtry\u001b[0m\u001b[0;34m:\u001b[0m\u001b[0;34m\u001b[0m\u001b[0;34m\u001b[0m\u001b[0m\n\u001b[0;32m--> 629\u001b[0;31m       \u001b[0mresult\u001b[0m \u001b[0;34m=\u001b[0m \u001b[0mmethod\u001b[0m\u001b[0;34m(\u001b[0m\u001b[0mself\u001b[0m\u001b[0;34m,\u001b[0m \u001b[0;34m*\u001b[0m\u001b[0margs\u001b[0m\u001b[0;34m,\u001b[0m \u001b[0;34m**\u001b[0m\u001b[0mkwargs\u001b[0m\u001b[0;34m)\u001b[0m\u001b[0;34m\u001b[0m\u001b[0;34m\u001b[0m\u001b[0m\n\u001b[0m\u001b[1;32m    630\u001b[0m     \u001b[0;32mfinally\u001b[0m\u001b[0;34m:\u001b[0m\u001b[0;34m\u001b[0m\u001b[0;34m\u001b[0m\u001b[0m\n\u001b[1;32m    631\u001b[0m       \u001b[0mself\u001b[0m\u001b[0;34m.\u001b[0m\u001b[0m_self_setattr_tracking\u001b[0m \u001b[0;34m=\u001b[0m \u001b[0mprevious_value\u001b[0m  \u001b[0;31m# pylint: disable=protected-access\u001b[0m\u001b[0;34m\u001b[0m\u001b[0;34m\u001b[0m\u001b[0m\n",
            "\u001b[0;32m/usr/local/lib/python3.7/dist-packages/keras/utils/traceback_utils.py\u001b[0m in \u001b[0;36merror_handler\u001b[0;34m(*args, **kwargs)\u001b[0m\n\u001b[1;32m     65\u001b[0m     \u001b[0;32mexcept\u001b[0m \u001b[0mException\u001b[0m \u001b[0;32mas\u001b[0m \u001b[0me\u001b[0m\u001b[0;34m:\u001b[0m  \u001b[0;31m# pylint: disable=broad-except\u001b[0m\u001b[0;34m\u001b[0m\u001b[0;34m\u001b[0m\u001b[0m\n\u001b[1;32m     66\u001b[0m       \u001b[0mfiltered_tb\u001b[0m \u001b[0;34m=\u001b[0m \u001b[0m_process_traceback_frames\u001b[0m\u001b[0;34m(\u001b[0m\u001b[0me\u001b[0m\u001b[0;34m.\u001b[0m\u001b[0m__traceback__\u001b[0m\u001b[0;34m)\u001b[0m\u001b[0;34m\u001b[0m\u001b[0;34m\u001b[0m\u001b[0m\n\u001b[0;32m---> 67\u001b[0;31m       \u001b[0;32mraise\u001b[0m \u001b[0me\u001b[0m\u001b[0;34m.\u001b[0m\u001b[0mwith_traceback\u001b[0m\u001b[0;34m(\u001b[0m\u001b[0mfiltered_tb\u001b[0m\u001b[0;34m)\u001b[0m \u001b[0;32mfrom\u001b[0m \u001b[0;32mNone\u001b[0m\u001b[0;34m\u001b[0m\u001b[0;34m\u001b[0m\u001b[0m\n\u001b[0m\u001b[1;32m     68\u001b[0m     \u001b[0;32mfinally\u001b[0m\u001b[0;34m:\u001b[0m\u001b[0;34m\u001b[0m\u001b[0;34m\u001b[0m\u001b[0m\n\u001b[1;32m     69\u001b[0m       \u001b[0;32mdel\u001b[0m \u001b[0mfiltered_tb\u001b[0m\u001b[0;34m\u001b[0m\u001b[0;34m\u001b[0m\u001b[0m\n",
            "\u001b[0;32m/usr/local/lib/python3.7/dist-packages/keras/engine/input_spec.py\u001b[0m in \u001b[0;36massert_input_compatibility\u001b[0;34m(input_spec, inputs, layer_name)\u001b[0m\n\u001b[1;32m    247\u001b[0m         \u001b[0;32mif\u001b[0m \u001b[0mvalue\u001b[0m \u001b[0;32mis\u001b[0m \u001b[0;32mnot\u001b[0m \u001b[0;32mNone\u001b[0m \u001b[0;32mand\u001b[0m \u001b[0mshape_as_list\u001b[0m\u001b[0;34m[\u001b[0m\u001b[0mint\u001b[0m\u001b[0;34m(\u001b[0m\u001b[0maxis\u001b[0m\u001b[0;34m)\u001b[0m\u001b[0;34m]\u001b[0m \u001b[0;32mnot\u001b[0m \u001b[0;32min\u001b[0m \u001b[0;34m{\u001b[0m\u001b[0mvalue\u001b[0m\u001b[0;34m,\u001b[0m \u001b[0;32mNone\u001b[0m\u001b[0;34m}\u001b[0m\u001b[0;34m:\u001b[0m\u001b[0;34m\u001b[0m\u001b[0;34m\u001b[0m\u001b[0m\n\u001b[1;32m    248\u001b[0m           raise ValueError(\n\u001b[0;32m--> 249\u001b[0;31m               \u001b[0;34mf'Input {input_index} of layer \"{layer_name}\" is '\u001b[0m\u001b[0;34m\u001b[0m\u001b[0;34m\u001b[0m\u001b[0m\n\u001b[0m\u001b[1;32m    250\u001b[0m               \u001b[0;34mf'incompatible with the layer: expected axis {axis} '\u001b[0m\u001b[0;34m\u001b[0m\u001b[0;34m\u001b[0m\u001b[0m\n\u001b[1;32m    251\u001b[0m               \u001b[0;34mf'of input shape to have value {value}, '\u001b[0m\u001b[0;34m\u001b[0m\u001b[0;34m\u001b[0m\u001b[0m\n",
            "\u001b[0;31mValueError\u001b[0m: Exception encountered when calling layer \"sequential_177\" (type Sequential).\n\nInput 0 of layer \"dense_367\" is incompatible with the layer: expected axis -1 of input shape to have value 613, but received input with shape (None, 101)\n\nCall arguments received:\n  • inputs=tf.Tensor(shape=(None, 101), dtype=float32)\n  • training=False\n  • mask=None"
          ]
        }
      ]
    },
    {
      "cell_type": "code",
      "source": [
        "import os\n",
        "os.environ[\"KERAS_BACKEND\"] = \"tensorflow\"\n",
        "\n",
        "import numpy as np\n",
        "import matplotlib.pyplot as plt\n",
        "from keras.layers import LeakyReLU, Activation, Input, Dense, Dropout, Concatenate, BatchNormalization\n",
        "from keras.models import Model\n",
        "from keras.regularizers import l1_l2\n",
        "from tensorflow.keras.optimizers import Adam, SGD\n",
        "from tensorflow.keras.utils import to_categorical\n",
        "from keras.datasets import mnist"
      ],
      "metadata": {
        "id": "j6AXF9CVl-Qk"
      },
      "execution_count": null,
      "outputs": []
    },
    {
      "cell_type": "code",
      "source": [
        "def build_gan(generator, discriminator, name=\"gan\"):\n",
        "    '''Build the GAN from a generator and a discriminator'''\n",
        "    yfake = Activation(\"linear\", name=\"yfake\")(discriminator(generator(generator.inputs)))\n",
        "    yreal = Activation(\"linear\", name=\"yreal\")(discriminator(discriminator.inputs))\n",
        "    model = Model(generator.inputs + discriminator.inputs, [yfake, yreal], name=name)\n",
        "    return model\n",
        "    "
      ],
      "metadata": {
        "id": "wPyXK81VmBVK"
      },
      "execution_count": null,
      "outputs": []
    },
    {
      "cell_type": "code",
      "source": [
        "def disc(image_dim, label_dim, layer_dim=1024, reg=lambda: l1_l2(1e-5, 1e-5)):\n",
        "    '''Discriminator network'''\n",
        "    x      = (Input(shape=(image_dim,), name='discriminator_input'))\n",
        "    label  = (Input(shape=(label_dim,), name='discriminator_label'))\n",
        "    inputs = (Concatenate(name='input_concatenation'))([x, label])\n",
        "    a = (Dense(layer_dim, name=\"discriminator_h1\", kernel_regularizer=reg()))(inputs)\n",
        "    a = (LeakyReLU(0.2))(a)\n",
        "    a = (Dense(int(layer_dim / 2), name=\"discriminator_h2\", kernel_regularizer=reg()))(a)\n",
        "    a = (LeakyReLU(0.2))(a)\n",
        "    a = (Dense(int(layer_dim / 4), name=\"discriminator_h3\", kernel_regularizer=reg()))(a)\n",
        "    a = (LeakyReLU(0.2))(a)\n",
        "    a = (Dense(1, name=\"discriminator_y\", kernel_regularizer=reg()))(a)\n",
        "    a = (Activation('sigmoid'))(a)\n",
        "    model = Model(inputs=[x, label], outputs=a, name=\"discriminator\")\n",
        "    return model"
      ],
      "metadata": {
        "id": "f96gDr-KmCs1"
      },
      "execution_count": null,
      "outputs": []
    },
    {
      "cell_type": "code",
      "source": [
        "def gen(noise_dim, label_dim, image_dim, layer_dim=1024, activ='tanh', reg=lambda: l1_l2(1e-5, 1e-5)):\n",
        "    '''Generator network'''\n",
        "    z      = (Input(shape=(noise_dim,), name='generator_input'))\n",
        "    label  = (Input(shape=(label_dim,), name='generator_label'))\n",
        "    inputs = (Concatenate(name='input_concatenation'))([z, label])\n",
        "    a = (Dense(int(layer_dim / 4), name=\"generator_h1\", kernel_regularizer=reg()))(inputs)\n",
        "    a = (LeakyReLU(0.2))(a)    # Trick 5\n",
        "    a = (Dense(int(layer_dim / 2), name=\"generator_h2\", kernel_regularizer=reg()))(a)\n",
        "    a = (LeakyReLU(0.2))(a)\n",
        "    a = (Dense(layer_dim, name=\"generator_h3\", kernel_regularizer=reg()))(a)\n",
        "    a = (LeakyReLU(0.2))(a)\n",
        "    a = (Dense(np.prod(image_dim), name=\"generator_x_flat\", kernel_regularizer=reg()))(a)\n",
        "    a = (Activation(activ))(a)    \n",
        "    model = Model(inputs=[z, label], outputs=[a, label], name=\"generator\")\n",
        "    return model"
      ],
      "metadata": {
        "id": "-JGc38DpmEjc"
      },
      "execution_count": null,
      "outputs": []
    },
    {
      "cell_type": "code",
      "source": [
        "def gen(noise_dim, label_dim, image_dim, layer_dim=1024, activ='tanh', reg=lambda: l1_l2(1e-5, 1e-5)):\n",
        "    '''Generator network'''\n",
        "    z      = (Input(shape=(noise_dim,), name='generator_input'))\n",
        "    label  = (Input(shape=(label_dim,), name='generator_label'))\n",
        "    inputs = (Concatenate(name='input_concatenation'))([z, label])\n",
        "    a = (Dense(int(layer_dim / 4), name=\"generator_h1\", kernel_regularizer=reg()))(inputs)\n",
        "    a = (LeakyReLU(0.2))(a)    # Trick 5\n",
        "    a = (Dense(int(layer_dim / 2), name=\"generator_h2\", kernel_regularizer=reg()))(a)\n",
        "    a = (LeakyReLU(0.2))(a)\n",
        "    a = (Dense(layer_dim, name=\"generator_h3\", kernel_regularizer=reg()))(a)\n",
        "    a = (LeakyReLU(0.2))(a)\n",
        "    a = (Dense(np.prod(image_dim), name=\"generator_x_flat\", kernel_regularizer=reg()))(a)\n",
        "    a = (Activation(activ))(a)    \n",
        "    model = Model(inputs=[z, label], outputs=[a, label], name=\"generator\")\n",
        "    return model"
      ],
      "metadata": {
        "id": "k_mbMm_nXr5r"
      },
      "execution_count": null,
      "outputs": []
    },
    {
      "cell_type": "code",
      "source": [
        "def make_trainable(net, val):\n",
        "    '''Changes the trainable property of a model as a whole and layer by layer'''\n",
        "    net.trainable = val\n",
        "    for l in net.layers:\n",
        "        l.trainable = val"
      ],
      "metadata": {
        "id": "Y7JUlzRqmH41"
      },
      "execution_count": null,
      "outputs": []
    },
    {
      "cell_type": "code",
      "source": [
        "# ------------------------------------------------------------------------------\n",
        "# Data preparation\n",
        "# ------------------------------------------------------------------------------\n",
        "# (x_train, l_train), (x_test, l_test) = mnist.load_data()\n",
        "# x_train = np.concatenate((x_train, x_test))\n",
        "# l_train = np.concatenate((l_train, l_test))\n",
        "\n",
        "# # Normalization according to Trick 1\n",
        "# x_train = x_train.reshape(x_train.shape[0], 784)\n",
        "# x_train = (x_train - 127.5) / 127.5\n",
        "# l_train = to_categorical(l_train)"
      ],
      "metadata": {
        "id": "x-7jCP8MmR_S"
      },
      "execution_count": null,
      "outputs": []
    },
    {
      "cell_type": "code",
      "source": [
        "(real_labels_sample, real_pixels_sample) = generate_real_samples(200000,filename = '/content/sample_train.csv')"
      ],
      "metadata": {
        "id": "2PxhfBz67OCx"
      },
      "execution_count": null,
      "outputs": []
    },
    {
      "cell_type": "code",
      "source": [
        "# real_pixels_sample[0]"
      ],
      "metadata": {
        "id": "zKBJuKmIBF8t"
      },
      "execution_count": null,
      "outputs": []
    },
    {
      "cell_type": "code",
      "source": [
        "# x_train = real_pixels_sample\n",
        "# l_train = real_labels_sample\n",
        "\n",
        "l_train = real_pixels_sample\n",
        "x_train = real_labels_sample"
      ],
      "metadata": {
        "id": "SPFUWOaT7d1i"
      },
      "execution_count": null,
      "outputs": []
    },
    {
      "cell_type": "code",
      "source": [
        "x_train[0]"
      ],
      "metadata": {
        "colab": {
          "base_uri": "https://localhost:8080/"
        },
        "id": "wFnxxl7SH1Oh",
        "outputId": "44e1f87e-b53d-48fc-f56f-39a5b9830082"
      },
      "execution_count": null,
      "outputs": [
        {
          "output_type": "execute_result",
          "data": {
            "text/plain": [
              "array([0.35894117, 0.36172548, 0.36392158, 0.36580393, 0.36756864,\n",
              "       0.36890197, 0.37019607, 0.3712157 , 0.37227452, 0.37313727,\n",
              "       0.374     , 0.37490195, 0.37560785, 0.3761961 , 0.37694117,\n",
              "       0.3775294 , 0.37811765, 0.3787059 , 0.37929413, 0.37988237,\n",
              "       0.38031372, 0.38074508, 0.38133332, 0.3817647 , 0.3822353 ,\n",
              "       0.38266668, 0.38309804, 0.38352942, 0.3839608 , 0.38443136,\n",
              "       0.38470587, 0.38513726, 0.38556862, 0.38603923, 0.38631374,\n",
              "       0.3867451 , 0.38705882, 0.38749018, 0.3877647 , 0.3882353 ,\n",
              "       0.3885098 , 0.38894117, 0.3892549 , 0.3895294 , 0.3899608 ,\n",
              "       0.3902745 , 0.390549  , 0.3910196 , 0.39129412, 0.39160785,\n",
              "       0.3920392 , 0.3922745 , 0.39258823, 0.39301962, 0.39329413,\n",
              "       0.39360785, 0.39403924, 0.39435294, 0.39462745, 0.3950588 ,\n",
              "       0.39537254, 0.39580393, 0.39607844, 0.39654902, 0.39682353,\n",
              "       0.3972549 , 0.3976863 , 0.398     , 0.39843136, 0.39886275,\n",
              "       0.39933333, 0.39976472, 0.4001961 , 0.40062746, 0.40105882,\n",
              "       0.40164706, 0.40207842, 0.40266666, 0.40313727, 0.40372548,\n",
              "       0.4042745 , 0.40486273, 0.40545097, 0.4060392 , 0.40678433,\n",
              "       0.40737253, 0.40811765, 0.4089804 , 0.40972552, 0.41074508,\n",
              "       0.41160783, 0.41262746, 0.4138039 , 0.41498038, 0.41643137,\n",
              "       0.41792157, 0.41968626, 0.42172548, 0.42407843, 0.4272941 ,\n",
              "       0.43211767], dtype=float32)"
            ]
          },
          "metadata": {},
          "execution_count": 17
        }
      ]
    },
    {
      "cell_type": "code",
      "source": [
        "# ------------------------------------------------------------------------------\n",
        "# Parameter choice\n",
        "# ------------------------------------------------------------------------------    \n",
        "# Dimension of noise to be fed to the generator\n",
        "noise_dim = 512\n",
        "# Dimension of images generated\n",
        "image_dim = 101\n",
        "# Dimension of labels\n",
        "label_dim = 512\n",
        "\n",
        "batch_size  = 20000\n",
        "num_batches = int(x_train.shape[0] / batch_size)\n",
        "num_epochs  = 100"
      ],
      "metadata": {
        "id": "OaXDg4DEmX7V"
      },
      "execution_count": null,
      "outputs": []
    },
    {
      "cell_type": "code",
      "source": [
        "# ------------------------------------------------------------------------------\n",
        "# Network creation\n",
        "# ------------------------------------------------------------------------------\n",
        "# Create generator ((z, l) -> (x, l))\n",
        "generator = gen(noise_dim, label_dim, image_dim)\n",
        "adam = Adam(lr=0.0002, beta_1=0.5)\n",
        "generator.compile(loss='linear', optimizer=adam)    # Trick 9\n",
        "\n",
        "# Create discriminator ((x, l) -> y)\n",
        "discriminator = disc(image_dim, label_dim)\n",
        "discriminator.compile(loss='binary_crossentropy', optimizer='SGD')    # Trick 9\n",
        "\n",
        "# Build GAN. Note how the discriminator is set to be not trainable since the beginning\n",
        "make_trainable(discriminator, False)\n",
        "gan = build_gan(generator, discriminator)\n",
        "gan.compile(loss='binary_crossentropy', optimizer=adam)"
      ],
      "metadata": {
        "colab": {
          "base_uri": "https://localhost:8080/"
        },
        "id": "qPPV6xEImaHp",
        "outputId": "2a757682-073e-449b-905d-7082513ac4f2"
      },
      "execution_count": null,
      "outputs": [
        {
          "output_type": "stream",
          "name": "stderr",
          "text": [
            "/usr/local/lib/python3.7/dist-packages/keras/optimizer_v2/adam.py:105: UserWarning: The `lr` argument is deprecated, use `learning_rate` instead.\n",
            "  super(Adam, self).__init__(name, **kwargs)\n"
          ]
        }
      ]
    },
    {
      "cell_type": "markdown",
      "source": [
        "https://gist.github.com/apozas/38d4640d9e6525b43db62dac846f1c19"
      ],
      "metadata": {
        "id": "m7CmjUNKMPx1"
      }
    },
    {
      "cell_type": "code",
      "source": [
        "# ------------------------------------------------------------------------------\n",
        "# Training\n",
        "# ------------------------------------------------------------------------------\n",
        "for epoch in range(num_epochs):\n",
        "    print(\"Epoch {}/{}\".format(epoch + 1, num_epochs))\n",
        "    for index in range(num_batches):\n",
        "        # Train the discriminator. It looks like training works best if it is trained first on only real data, and then only\n",
        "        # on fake data, so let's do that. This is Trick 4.\n",
        "        make_trainable(discriminator, True)\n",
        "        # Train dicriminator on real data\n",
        "        batch       = np.random.randint(0, x_train.shape[0], size=batch_size)\n",
        "        image_batch = x_train[batch]\n",
        "        label_batch = l_train[batch]\n",
        "        y_real      = np.ones(batch_size) + 0.2 * np.random.uniform(-1, 1, size=batch_size)    # Label smoothing. Trick 6\n",
        "        discriminator.train_on_batch([image_batch, label_batch], y_real)\n",
        "        # Train the discriminator on fake data\n",
        "        noise_batch      = np.random.normal(0, 1, (batch_size, noise_dim))    # Trick 3\n",
        "        generated_images = generator.predict([noise_batch, label_batch])\n",
        "        y_fake           = np.zeros(batch_size) + 0.2 * np.random.uniform(0, 1, size=batch_size)    # Label smoothing\n",
        "        d_loss = discriminator.train_on_batch(generated_images, y_fake)\n",
        "        \n",
        "        # Recall that generated_images already contains the labels\n",
        "        # Train the generator. We train it through the whole model. There is a very subtle point here. We want to minimize the error\n",
        "        # of the discriminator, but on the other hand we want to have the generator maximizing the loss of the discriminator (make him\n",
        "        # not capable of distinguishing which images are real). One way to achieve this is to change the loss function of the generator\n",
        "        # by some kind of \"negative loss\", which in practice is implemented by switching the labels of the real and the fake\n",
        "        # images. Note that when training the discriminator we were doing the assignment real_image->1, fake_image->0, so now\n",
        "        # we will do real_image->0, fake_image->1. The order of the outputs is [fake, real], as given by build_gan(). This is Trick 2.\n",
        "        \n",
        "        make_trainable(discriminator, False)\n",
        "        gan_loss = gan.train_on_batch([noise_batch, label_batch, image_batch, label_batch], [y_real, y_fake])\n",
        "\n",
        "    print(\n",
        "        \"Batch {}/{}: Discriminator loss = {}, GAN loss = {}\".format(index + 1, num_batches, d_loss,\n",
        "                                                                      gan_loss))\n",
        "# Save weights. Just saving the whole GAN should work as well\n",
        "generator.save_weights('generator_cGAN.h5')\n",
        "discriminator.save_weights('discriminator_cGAN.h5')\n",
        "gan.save_weights('gan_cGAN.h5')\n"
      ],
      "metadata": {
        "colab": {
          "base_uri": "https://localhost:8080/"
        },
        "id": "RnOBh6helcOv",
        "outputId": "31f11ecb-05cc-475e-cea2-e2a116b2c167"
      },
      "execution_count": null,
      "outputs": [
        {
          "output_type": "stream",
          "name": "stdout",
          "text": [
            "Epoch 1/100\n",
            "Batch 10/10: Discriminator loss = 1.2220244407653809, GAN loss = [2.142899513244629, 0.6300979256629944, 0.7511997222900391]\n",
            "Epoch 2/100\n",
            "Batch 10/10: Discriminator loss = 1.221388339996338, GAN loss = [2.1390552520751953, 0.627986490726471, 0.7524259686470032]\n",
            "Epoch 3/100\n",
            "Batch 10/10: Discriminator loss = 1.220507264137268, GAN loss = [2.1349000930786133, 0.6264059543609619, 0.7528268694877625]\n",
            "Epoch 4/100\n",
            "Batch 10/10: Discriminator loss = 1.2189817428588867, GAN loss = [2.131662368774414, 0.626137375831604, 0.7528547048568726]\n",
            "Epoch 5/100\n",
            "Batch 10/10: Discriminator loss = 1.2178642749786377, GAN loss = [2.128270149230957, 0.6252326369285583, 0.7533897757530212]\n",
            "Epoch 6/100\n",
            "Batch 10/10: Discriminator loss = 1.2172073125839233, GAN loss = [2.1247072219848633, 0.6235069632530212, 0.7545945048332214]\n",
            "Epoch 7/100\n",
            "Batch 10/10: Discriminator loss = 1.216864824295044, GAN loss = [2.1214215755462646, 0.6220585703849792, 0.7558053731918335]\n",
            "Epoch 8/100\n",
            "Batch 10/10: Discriminator loss = 1.2172664403915405, GAN loss = [2.117990732192993, 0.6202667951583862, 0.7572163343429565]\n",
            "Epoch 9/100\n",
            "Batch 10/10: Discriminator loss = 1.2172943353652954, GAN loss = [2.114344596862793, 0.6188509464263916, 0.7580373287200928]\n",
            "Epoch 10/100\n",
            "Batch 10/10: Discriminator loss = 1.2159634828567505, GAN loss = [2.1111369132995605, 0.6190221309661865, 0.7577152848243713]\n",
            "Epoch 11/100\n",
            "Batch 10/10: Discriminator loss = 1.214367389678955, GAN loss = [2.1081349849700928, 0.6195273399353027, 0.7572751641273499]\n",
            "Epoch 12/100\n",
            "Batch 10/10: Discriminator loss = 1.2133002281188965, GAN loss = [2.1048812866210938, 0.6195104718208313, 0.7571138143539429]\n",
            "Epoch 13/100\n",
            "Batch 10/10: Discriminator loss = 1.2128007411956787, GAN loss = [2.101740837097168, 0.6184123754501343, 0.7581471800804138]\n",
            "Epoch 14/100\n",
            "Batch 10/10: Discriminator loss = 1.2140793800354004, GAN loss = [2.09784197807312, 0.6162222623825073, 0.7595003843307495]\n",
            "Epoch 15/100\n",
            "Batch 10/10: Discriminator loss = 1.2136597633361816, GAN loss = [2.095674753189087, 0.6158255934715271, 0.7607847452163696]\n",
            "Epoch 16/100\n",
            "Batch 10/10: Discriminator loss = 1.2138760089874268, GAN loss = [2.0920801162719727, 0.6153841614723206, 0.7606843113899231]\n",
            "Epoch 17/100\n",
            "Batch 10/10: Discriminator loss = 1.2133700847625732, GAN loss = [2.088010549545288, 0.6152439117431641, 0.7597998380661011]\n",
            "Epoch 18/100\n",
            "Batch 10/10: Discriminator loss = 1.2113921642303467, GAN loss = [2.0860977172851562, 0.6163431406021118, 0.7598381638526917]\n",
            "Epoch 19/100\n",
            "Batch 10/10: Discriminator loss = 1.2113828659057617, GAN loss = [2.083724021911621, 0.6154519319534302, 0.7613908052444458]\n",
            "Epoch 20/100\n",
            "Batch 10/10: Discriminator loss = 1.2141164541244507, GAN loss = [2.0777573585510254, 0.6122337579727173, 0.7616288065910339]\n",
            "Epoch 21/100\n",
            "Batch 10/10: Discriminator loss = 1.210986852645874, GAN loss = [2.078666925430298, 0.6150387525558472, 0.7627146244049072]\n",
            "Epoch 22/100\n",
            "Batch 10/10: Discriminator loss = 1.2121787071228027, GAN loss = [2.075434923171997, 0.6138513684272766, 0.7636715173721313]\n",
            "Epoch 23/100\n",
            "Batch 10/10: Discriminator loss = 1.214950442314148, GAN loss = [2.068808078765869, 0.6106934547424316, 0.7631617188453674]\n",
            "Epoch 24/100\n",
            "Batch 10/10: Discriminator loss = 1.2121284008026123, GAN loss = [2.067121744155884, 0.6139382719993591, 0.7611455321311951]\n",
            "Epoch 25/100\n",
            "Batch 10/10: Discriminator loss = 1.2089180946350098, GAN loss = [2.0674548149108887, 0.61598140001297, 0.762408435344696]\n",
            "Epoch 26/100\n",
            "Batch 10/10: Discriminator loss = 1.211477518081665, GAN loss = [2.061400890350342, 0.612898051738739, 0.7623587846755981]\n",
            "Epoch 27/100\n",
            "Batch 10/10: Discriminator loss = 1.2114542722702026, GAN loss = [2.0575332641601562, 0.612375020980835, 0.7618895769119263]\n",
            "Epoch 28/100\n",
            "Batch 10/10: Discriminator loss = 1.2113168239593506, GAN loss = [2.0556063652038574, 0.612128496170044, 0.7630881071090698]\n",
            "Epoch 29/100\n",
            "Batch 10/10: Discriminator loss = 1.2106424570083618, GAN loss = [2.061567544937134, 0.6131033301353455, 0.7708917260169983]\n",
            "Epoch 30/100\n",
            "Batch 10/10: Discriminator loss = 1.2230772972106934, GAN loss = [2.0494916439056396, 0.6030391454696655, 0.771643340587616]\n",
            "Epoch 31/100\n",
            "Batch 10/10: Discriminator loss = 1.2146151065826416, GAN loss = [2.0459954738616943, 0.6126784086227417, 0.7612152695655823]\n",
            "Epoch 32/100\n",
            "Batch 10/10: Discriminator loss = 1.209625244140625, GAN loss = [2.0446853637695312, 0.6147891879081726, 0.7606260776519775]\n",
            "Epoch 33/100\n",
            "Batch 10/10: Discriminator loss = 1.2092201709747314, GAN loss = [2.043088912963867, 0.6136531829833984, 0.7629640698432922]\n",
            "Epoch 34/100\n",
            "Batch 10/10: Discriminator loss = 1.2107371091842651, GAN loss = [2.039635419845581, 0.6121169924736023, 0.7638372778892517]\n",
            "Epoch 35/100\n",
            "Batch 10/10: Discriminator loss = 1.2102166414260864, GAN loss = [2.035151720046997, 0.61234050989151, 0.7618765830993652]\n",
            "Epoch 36/100\n",
            "Batch 10/10: Discriminator loss = 1.2083526849746704, GAN loss = [2.0327560901641846, 0.6137077212333679, 0.7608241438865662]\n",
            "Epoch 37/100\n",
            "Batch 10/10: Discriminator loss = 1.2081308364868164, GAN loss = [2.0305588245391846, 0.6127412915229797, 0.7622869610786438]\n",
            "Epoch 38/100\n",
            "Batch 10/10: Discriminator loss = 1.2103297710418701, GAN loss = [2.027890205383301, 0.6104658842086792, 0.764538049697876]\n",
            "Epoch 39/100\n",
            "Batch 10/10: Discriminator loss = 1.2112038135528564, GAN loss = [2.025092124938965, 0.6092387437820435, 0.7655714154243469]\n",
            "Epoch 40/100\n",
            "Batch 10/10: Discriminator loss = 1.2110309600830078, GAN loss = [2.0223004817962646, 0.6091469526290894, 0.7654436230659485]\n",
            "Epoch 41/100\n",
            "Batch 10/10: Discriminator loss = 1.20973801612854, GAN loss = [2.019611358642578, 0.6101176142692566, 0.7643271088600159]\n",
            "Epoch 42/100\n",
            "Batch 10/10: Discriminator loss = 1.2086615562438965, GAN loss = [2.0173234939575195, 0.610896110534668, 0.7637742161750793]\n",
            "Epoch 43/100\n",
            "Batch 10/10: Discriminator loss = 1.2083706855773926, GAN loss = [2.014815330505371, 0.6105502843856812, 0.764091432094574]\n",
            "Epoch 44/100\n",
            "Batch 10/10: Discriminator loss = 1.2093744277954102, GAN loss = [2.012223482131958, 0.6087148189544678, 0.7657858729362488]\n",
            "Epoch 45/100\n",
            "Batch 10/10: Discriminator loss = 1.2110360860824585, GAN loss = [2.0096335411071777, 0.6071431636810303, 0.7671768665313721]\n",
            "Epoch 46/100\n",
            "Batch 10/10: Discriminator loss = 1.210613489151001, GAN loss = [2.0075767040252686, 0.6075478792190552, 0.7670936584472656]\n",
            "Epoch 47/100\n",
            "Batch 10/10: Discriminator loss = 1.2101073265075684, GAN loss = [2.004779815673828, 0.6081928014755249, 0.7659863233566284]\n",
            "Epoch 48/100\n",
            "Batch 10/10: Discriminator loss = 1.2085520029067993, GAN loss = [2.0038084983825684, 0.6096726655960083, 0.7658014893531799]\n",
            "Epoch 49/100\n",
            "Batch 10/10: Discriminator loss = 1.2102941274642944, GAN loss = [2.002700090408325, 0.6073909997940063, 0.7692579627037048]\n",
            "Epoch 50/100\n",
            "Batch 10/10: Discriminator loss = 1.215294361114502, GAN loss = [1.9969717264175415, 0.6033914685249329, 0.7697169780731201]\n",
            "Epoch 51/100\n",
            "Batch 10/10: Discriminator loss = 1.2112758159637451, GAN loss = [1.9961285591125488, 0.6073877215385437, 0.7671010494232178]\n",
            "Epoch 52/100\n",
            "Batch 10/10: Discriminator loss = 1.2081040143966675, GAN loss = [1.9948663711547852, 0.6098617911338806, 0.765648365020752]\n",
            "Epoch 53/100\n",
            "Batch 10/10: Discriminator loss = 1.2084391117095947, GAN loss = [1.9911047220230103, 0.6091820597648621, 0.7647902369499207]\n",
            "Epoch 54/100\n",
            "Batch 10/10: Discriminator loss = 1.2072710990905762, GAN loss = [1.9893072843551636, 0.6095532178878784, 0.7648192048072815]\n",
            "Epoch 55/100\n",
            "Batch 10/10: Discriminator loss = 1.2092583179473877, GAN loss = [1.98702073097229, 0.6072128415107727, 0.7670702338218689]\n",
            "Epoch 56/100\n",
            "Batch 10/10: Discriminator loss = 1.2110720872879028, GAN loss = [1.9857027530670166, 0.6055290102958679, 0.7695913314819336]\n",
            "Epoch 57/100\n",
            "Batch 10/10: Discriminator loss = 1.2117259502410889, GAN loss = [1.9831794500350952, 0.6054577231407166, 0.7692890763282776]\n",
            "Epoch 58/100\n",
            "Batch 10/10: Discriminator loss = 1.2096515893936157, GAN loss = [1.9803080558776855, 0.6081289052963257, 0.765818178653717]\n",
            "Epoch 59/100\n",
            "Batch 10/10: Discriminator loss = 1.2063068151474, GAN loss = [1.9798005819320679, 0.6103711128234863, 0.7651444673538208]\n",
            "Epoch 60/100\n",
            "Batch 10/10: Discriminator loss = 1.2080360651016235, GAN loss = [1.978514313697815, 0.6085322499275208, 0.7677738070487976]\n",
            "Epoch 61/100\n",
            "Batch 10/10: Discriminator loss = 1.212003231048584, GAN loss = [1.9742640256881714, 0.604490339756012, 0.76959627866745]\n",
            "Epoch 62/100\n",
            "Batch 10/10: Discriminator loss = 1.211186170578003, GAN loss = [1.9716362953186035, 0.6060338020324707, 0.7674289345741272]\n",
            "Epoch 63/100\n",
            "Batch 10/10: Discriminator loss = 1.2065237760543823, GAN loss = [1.9718647003173828, 0.6102470755577087, 0.7655373811721802]\n",
            "Epoch 64/100\n",
            "Batch 10/10: Discriminator loss = 1.206860899925232, GAN loss = [1.9693890810012817, 0.6091877222061157, 0.7662338614463806]\n",
            "Epoch 65/100\n",
            "Batch 10/10: Discriminator loss = 1.2087620496749878, GAN loss = [1.9651148319244385, 0.60685133934021, 0.7662794589996338]\n",
            "Epoch 66/100\n",
            "Batch 10/10: Discriminator loss = 1.2072815895080566, GAN loss = [1.9643685817718506, 0.6085551977157593, 0.765831470489502]\n",
            "Epoch 67/100\n",
            "Batch 10/10: Discriminator loss = 1.206658959388733, GAN loss = [1.9632904529571533, 0.608936607837677, 0.7664052844047546]\n",
            "Epoch 68/100\n",
            "Batch 10/10: Discriminator loss = 1.207383394241333, GAN loss = [1.9608632326126099, 0.6079297661781311, 0.766982913017273]\n",
            "Epoch 69/100\n",
            "Batch 10/10: Discriminator loss = 1.2083081007003784, GAN loss = [1.9579163789749146, 0.6067384481430054, 0.7671555876731873]\n",
            "Epoch 70/100\n",
            "Batch 10/10: Discriminator loss = 1.2081444263458252, GAN loss = [1.9562785625457764, 0.6064921617507935, 0.767676830291748]\n",
            "Epoch 71/100\n",
            "Batch 10/10: Discriminator loss = 1.2077350616455078, GAN loss = [1.9556012153625488, 0.6070387959480286, 0.768399715423584]\n",
            "Epoch 72/100\n",
            "Batch 10/10: Discriminator loss = 1.2083863019943237, GAN loss = [1.9525914192199707, 0.606452226638794, 0.7678614258766174]\n",
            "Epoch 73/100\n",
            "Batch 10/10: Discriminator loss = 1.2072839736938477, GAN loss = [1.950373649597168, 0.6075705885887146, 0.7663397192955017]\n",
            "Epoch 74/100\n",
            "Batch 10/10: Discriminator loss = 1.2056279182434082, GAN loss = [1.9499017000198364, 0.6087484359741211, 0.7665724754333496]\n",
            "Epoch 75/100\n",
            "Batch 10/10: Discriminator loss = 1.2072595357894897, GAN loss = [1.9476391077041626, 0.6066628694534302, 0.7682766914367676]\n",
            "Epoch 76/100\n",
            "Batch 10/10: Discriminator loss = 1.2086818218231201, GAN loss = [1.945560097694397, 0.6050690412521362, 0.7696083784103394]\n",
            "Epoch 77/100\n",
            "Batch 10/10: Discriminator loss = 1.2094601392745972, GAN loss = [1.9429824352264404, 0.604576587677002, 0.7692849636077881]\n",
            "Epoch 78/100\n",
            "Batch 10/10: Discriminator loss = 1.2071152925491333, GAN loss = [1.9423733949661255, 0.6069479584693909, 0.7681014537811279]\n",
            "Epoch 79/100\n",
            "Batch 10/10: Discriminator loss = 1.2069602012634277, GAN loss = [1.9406790733337402, 0.6066911220550537, 0.7685056924819946]\n",
            "Epoch 80/100\n",
            "Batch 10/10: Discriminator loss = 1.2080305814743042, GAN loss = [1.9379056692123413, 0.6053985357284546, 0.768737256526947]\n",
            "Epoch 81/100\n",
            "Batch 10/10: Discriminator loss = 1.2076098918914795, GAN loss = [1.9369640350341797, 0.606084942817688, 0.7688155174255371]\n",
            "Epoch 82/100\n",
            "Batch 10/10: Discriminator loss = 1.20696222782135, GAN loss = [1.9357857704162598, 0.6068727970123291, 0.7685945630073547]\n",
            "Epoch 83/100\n",
            "Batch 10/10: Discriminator loss = 1.2068685293197632, GAN loss = [1.933584213256836, 0.6063463091850281, 0.7685886025428772]\n",
            "Epoch 84/100\n",
            "Batch 10/10: Discriminator loss = 1.2070813179016113, GAN loss = [1.9325180053710938, 0.6061448454856873, 0.7693946361541748]\n",
            "Epoch 85/100\n",
            "Batch 10/10: Discriminator loss = 1.2092262506484985, GAN loss = [1.9295700788497925, 0.6039471626281738, 0.7702140808105469]\n",
            "Epoch 86/100\n",
            "Batch 10/10: Discriminator loss = 1.2084413766860962, GAN loss = [1.9297828674316406, 0.6047161817550659, 0.771308958530426]\n",
            "Epoch 87/100\n",
            "Batch 10/10: Discriminator loss = 1.209147334098816, GAN loss = [1.9269168376922607, 0.60414719581604, 0.7706719040870667]\n",
            "Epoch 88/100\n",
            "Batch 10/10: Discriminator loss = 1.2075668573379517, GAN loss = [1.9245213270187378, 0.6053668260574341, 0.7685695290565491]\n",
            "Epoch 89/100\n",
            "Batch 10/10: Discriminator loss = 1.2055684328079224, GAN loss = [1.9254318475723267, 0.6071829795837402, 0.7692872285842896]\n",
            "Epoch 90/100\n",
            "Batch 10/10: Discriminator loss = 1.208867073059082, GAN loss = [1.9219462871551514, 0.6036559343338013, 0.7709095478057861]\n",
            "Epoch 91/100\n",
            "Batch 10/10: Discriminator loss = 1.2093695402145386, GAN loss = [1.9215956926345825, 0.6036227345466614, 0.7719983458518982]\n",
            "Epoch 92/100\n",
            "Batch 10/10: Discriminator loss = 1.2087352275848389, GAN loss = [1.9220359325408936, 0.6042340397834778, 0.7733830809593201]\n",
            "Epoch 93/100\n",
            "Batch 10/10: Discriminator loss = 1.2110662460327148, GAN loss = [1.9159640073776245, 0.6025536060333252, 0.7703399658203125]\n",
            "Epoch 94/100\n",
            "Batch 10/10: Discriminator loss = 1.2055649757385254, GAN loss = [1.9177724123001099, 0.6074354648590088, 0.7688195109367371]\n",
            "Epoch 95/100\n",
            "Batch 10/10: Discriminator loss = 1.2073476314544678, GAN loss = [1.91521155834198, 0.605358898639679, 0.769935131072998]\n",
            "Epoch 96/100\n",
            "Batch 10/10: Discriminator loss = 1.2079236507415771, GAN loss = [1.913520097732544, 0.6052360534667969, 0.7698670625686646]\n",
            "Epoch 97/100\n",
            "Batch 10/10: Discriminator loss = 1.205985188484192, GAN loss = [1.9121010303497314, 0.6065352559089661, 0.768688976764679]\n",
            "Epoch 98/100\n",
            "Batch 10/10: Discriminator loss = 1.2056331634521484, GAN loss = [1.9104818105697632, 0.6070053577423096, 0.7680929899215698]\n",
            "Epoch 99/100\n",
            "Batch 10/10: Discriminator loss = 1.2051230669021606, GAN loss = [1.9092013835906982, 0.60697340965271, 0.7683155536651611]\n",
            "Epoch 100/100\n",
            "Batch 10/10: Discriminator loss = 1.2056366205215454, GAN loss = [1.9069092273712158, 0.6057460904121399, 0.7686766386032104]\n"
          ]
        }
      ]
    },
    {
      "cell_type": "code",
      "source": [
        "batch       = range(10)\n",
        "image_batch = x_train[batch]\n",
        "label_batch = l_train[batch]\n",
        "# print(image_batch)\n",
        "y_real      = np.ones(10) + 0.2 * np.random.uniform(-1, 1, size=10)    # Label smoothing. Trick 6\n",
        "# discriminator.train_on_batch([image_batch, label_batch], y_real)\n",
        "# Train the discriminator on fake data\n",
        "noise_batch      = np.random.normal(0, 1, (10, noise_dim))    # Trick 3\n",
        "generated_images = generator.predict([noise_batch, label_batch])"
      ],
      "metadata": {
        "id": "NyIFyaMZuYDP"
      },
      "execution_count": null,
      "outputs": []
    },
    {
      "cell_type": "code",
      "source": [
        "# generated_images[0][1]"
      ],
      "metadata": {
        "id": "8RDLYRtU-QfC"
      },
      "execution_count": null,
      "outputs": []
    },
    {
      "cell_type": "code",
      "source": [
        "# generated_images[0][0]"
      ],
      "metadata": {
        "id": "lfxef54A2BuS"
      },
      "execution_count": null,
      "outputs": []
    },
    {
      "cell_type": "code",
      "source": [
        "# ------------------------------------------------------------------------------\n",
        "# Plotting\n",
        "# ------------------------------------------------------------------------------\n",
        "# plt.figure(figsize=(20, 2))\n",
        "# # print(label_dim)\n",
        "# for i in range(len(generated_images[0])):\n",
        "#     im =generated_images[0][i].reshape(28,28)\n",
        "#     plt.subplot(1, label_dim, i+1)\n",
        "#     plt.axis('off')\n",
        "#     plt.imshow(im, cmap='Greys_r')\n",
        "# plt.show()\n",
        "\n",
        "\n",
        "fig, ax = plt.subplots()\n",
        "# m = 21\n",
        "for i in range(len(generated_images[0])):\n",
        "  ax.plot(generated_images[0][i]*255-100, image_batch[i]*255-100,label=i)\n",
        "\n",
        "ax.set(xlabel='time (s)', ylabel='voltage (mV)',\n",
        "       title='About as simple as it gets, folks')\n",
        "ax.grid()\n",
        "\n",
        "# fig.savefig(\"test.png\")\n",
        "plt.show()"
      ],
      "metadata": {
        "colab": {
          "base_uri": "https://localhost:8080/",
          "height": 295
        },
        "id": "DxJUz5SAmfXJ",
        "outputId": "f99b2352-a93f-41ca-e2a2-35477950ce7a"
      },
      "execution_count": null,
      "outputs": [
        {
          "output_type": "display_data",
          "data": {
            "text/plain": [
              "<Figure size 432x288 with 1 Axes>"
            ],
            "image/png": "[encoded data removed]"
          },
          "metadata": {
            "needs_background": "light"
          }
        }
      ]
    }
  ],
  "metadata": {
    "colab": {
      "collapsed_sections": [],
      "name": "revised_conditional_gan",
      "provenance": [],
      "machine_shape": "hm",
      "include_colab_link": true
    },
    "kernelspec": {
      "display_name": "Python 3",
      "language": "python",
      "name": "python3"
    },
    "language_info": {
      "codemirror_mode": {
        "name": "ipython",
        "version": 3
      },
      "file_extension": ".py",
      "mimetype": "text/x-python",
      "name": "python",
      "nbconvert_exporter": "python",
      "pygments_lexer": "ipython3",
      "version": "3.7.0"
    },
    "accelerator": "GPU"
  },
  "nbformat": 4,
  "nbformat_minor": 0
}
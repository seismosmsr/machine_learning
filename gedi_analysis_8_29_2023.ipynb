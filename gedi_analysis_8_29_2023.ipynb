{
  "nbformat": 4,
  "nbformat_minor": 0,
  "metadata": {
    "colab": {
      "provenance": [],
      "machine_shape": "hm",
      "authorship_tag": "ABX9TyPgO1jdQZwswQvVVvre8G/1",
      "include_colab_link": true
    },
    "kernelspec": {
      "name": "ir",
      "display_name": "R"
    },
    "language_info": {
      "name": "R"
    }
  },
  "cells": [
    {
      "cell_type": "markdown",
      "metadata": {
        "id": "view-in-github",
        "colab_type": "text"
      },
      "source": [
        "<a href=\"https://colab.research.google.com/github/seismosmsr/machine_learning/blob/main/gedi_analysis_8_29_2023.ipynb\" target=\"_parent\"><img src=\"https://colab.research.google.com/assets/colab-badge.svg\" alt=\"Open In Colab\"/></a>"
      ]
    },
    {
      "cell_type": "code",
      "source": [
        "install.packages('sf')\n",
        "install.packages('raster')\n",
        "install.packages('exactextractr')\n",
        "install.packages(\"googledrive\")\n",
        "install.packages(\"googletoken\")\n",
        "install.packages(\"DBI\")\n",
        "install.packages(\"RSQLite\")\n",
        "install.packages(\"RPostgreSQL\")"
      ],
      "metadata": {
        "colab": {
          "base_uri": "https://localhost:8080/"
        },
        "id": "rC3Pg61Wq8On",
        "outputId": "fc6431f8-116a-443d-e9a3-0c569b5e0817"
      },
      "execution_count": 1,
      "outputs": [
        {
          "output_type": "stream",
          "name": "stderr",
          "text": [
            "Installing package into ‘/usr/local/lib/R/site-library’\n",
            "(as ‘lib’ is unspecified)\n",
            "\n",
            "also installing the dependencies ‘proxy’, ‘e1071’, ‘wk’, ‘classInt’, ‘Rcpp’, ‘s2’, ‘units’\n",
            "\n",
            "\n",
            "Installing package into ‘/usr/local/lib/R/site-library’\n",
            "(as ‘lib’ is unspecified)\n",
            "\n",
            "also installing the dependencies ‘sp’, ‘terra’\n",
            "\n",
            "\n",
            "Installing package into ‘/usr/local/lib/R/site-library’\n",
            "(as ‘lib’ is unspecified)\n",
            "\n",
            "Installing package into ‘/usr/local/lib/R/site-library’\n",
            "(as ‘lib’ is unspecified)\n",
            "\n",
            "Installing package into ‘/usr/local/lib/R/site-library’\n",
            "(as ‘lib’ is unspecified)\n",
            "\n",
            "Warning message:\n",
            "“package ‘googletoken’ is not available for this version of R\n",
            "\n",
            "A version of this package for your version of R might be available elsewhere,\n",
            "see the ideas at\n",
            "https://cran.r-project.org/doc/manuals/r-patched/R-admin.html#Installing-packages”\n",
            "Installing package into ‘/usr/local/lib/R/site-library’\n",
            "(as ‘lib’ is unspecified)\n",
            "\n",
            "Installing package into ‘/usr/local/lib/R/site-library’\n",
            "(as ‘lib’ is unspecified)\n",
            "\n",
            "also installing the dependency ‘plogr’\n",
            "\n",
            "\n",
            "Installing package into ‘/usr/local/lib/R/site-library’\n",
            "(as ‘lib’ is unspecified)\n",
            "\n"
          ]
        }
      ]
    },
    {
      "cell_type": "code",
      "execution_count": 1,
      "metadata": {
        "colab": {
          "base_uri": "https://localhost:8080/"
        },
        "id": "ohy4torjkZq2",
        "outputId": "fe8afa20-e6c9-4388-bf30-1f4f603efba3"
      },
      "outputs": [
        {
          "output_type": "stream",
          "name": "stderr",
          "text": [
            "Linking to GEOS 3.10.2, GDAL 3.4.3, PROJ 8.2.1; sf_use_s2() is TRUE\n",
            "\n",
            "Loading required package: sp\n",
            "\n",
            "The legacy packages maptools, rgdal, and rgeos, underpinning the sp package,\n",
            "which was just loaded, will retire in October 2023.\n",
            "Please refer to R-spatial evolution reports for details, especially\n",
            "https://r-spatial.org/r/2023/05/15/evolution4.html.\n",
            "It may be desirable to make the sf package available;\n",
            "package maintainers should consider adding sf to Suggests:.\n",
            "The sp package is now running under evolution status 2\n",
            "     (status 2 uses the sf package in place of rgdal)\n",
            "\n"
          ]
        }
      ],
      "source": [
        "library(ggplot2)\n",
        "library(sf)\n",
        "library(magrittr)\n",
        "library(data.table)\n",
        "library(raster)\n",
        "library(exactextractr)\n",
        "library(googledrive)\n",
        "library(DBI)"
      ]
    },
    {
      "cell_type": "code",
      "source": [
        "# while(TRUE){}"
      ],
      "metadata": {
        "id": "neOkVr_mkd8m"
      },
      "execution_count": 3,
      "outputs": []
    },
    {
      "cell_type": "code",
      "source": [
        "# drive_deauth()\n",
        "# drive_auth(use_oob = TRUE, cache = FALSE)"
      ],
      "metadata": {
        "id": "hVkqfgfpnel2"
      },
      "execution_count": 4,
      "outputs": []
    },
    {
      "cell_type": "code",
      "source": [
        "# GEDI data\n",
        "# https://drive.google.com/file/d/14jTxo28D2bsC68EpVsbSaY7SpYM5MIA4/view?usp=drive_link\n",
        "\n",
        "# Landtrendr data\n",
        "# https://drive.google.com/file/d/1FrN1tUojGV80f3kDtmezsFsvLabIoGiW/view?usp=drive_link\n",
        "\n",
        "# HUC 8\n",
        "# https://drive.google.com/file/d/1r6CIYLOy01N8B1jc7Hr8AJUkA0jPXp9z/view?usp=drive_link\n",
        "\n",
        "# HUC 10\n",
        "# https://drive.google.com/file/d/1m86VWKw3nys-oY931eq9dC6xv0cEfs4a/view?usp=drive_link\n",
        "\n",
        "# HUC 12\n",
        "# https://drive.google.com/file/d/18ayVCWhBkP1Tb_wrWgPJea8vaWEiPgOL/view?usp=drive_link\n",
        "\n",
        "# GEDI vectorized by YOD, Queen's rule.\n",
        "# https://drive.google.com/file/d/1miOMqCh081yceVUfVVOL5JtxpKUgBO-2/view?usp=drive_link"
      ],
      "metadata": {
        "id": "O3df1Ii3npf3"
      },
      "execution_count": 5,
      "outputs": []
    },
    {
      "cell_type": "code",
      "source": [
        "drive_download(file = as_id('1FrN1tUojGV80f3kDtmezsFsvLabIoGiW'), path =  '/content/HJA_LandTrendr_84_23.tif', overwrite = TRUE)"
      ],
      "metadata": {
        "colab": {
          "base_uri": "https://localhost:8080/"
        },
        "id": "LUX0iDBQo3bB",
        "outputId": "f759c966-d0e7-42e2-9ef6-03a9c3b93591"
      },
      "execution_count": 6,
      "outputs": [
        {
          "output_type": "stream",
          "name": "stderr",
          "text": [
            "\u001b[1m\u001b[22mIs it OK to cache OAuth access credentials in the folder \u001b[34m~/.cache/gargle\u001b[39m\n",
            "between R sessions?\n",
            "\u001b[1m1\u001b[22m: Yes\n",
            "\u001b[1m2\u001b[22m: No\n"
          ]
        },
        {
          "name": "stdout",
          "output_type": "stream",
          "text": [
            "Selection: 1\n"
          ]
        },
        {
          "output_type": "stream",
          "name": "stderr",
          "text": [
            "Please point your browser to the following url: \n",
            "\n",
            "https://accounts.google.com/o/oauth2/v2/auth?client_id=603366585132-frjlouoa3s2ono25d2l9ukvhlsrlnr7k.apps.googleusercontent.com&scope=https%3A%2F%2Fwww.googleapis.com%2Fauth%2Fdrive%20https%3A%2F%2Fwww.googleapis.com%2Fauth%2Fuserinfo.email&redirect_uri=https%3A%2F%2Fwww.tidyverse.org%2Fgoogle-callback%2F&response_type=code&state=bfdfc4c69b916bd18fbe9af0e22f6bd3&access_type=offline&prompt=consent\n",
            "\n"
          ]
        },
        {
          "name": "stdout",
          "output_type": "stream",
          "text": [
            "Enter authorization code: eyJjb2RlIjoiNC8wQWRldTVCVXlFdlBCemRlWDlmWWFwMFRXRWtrQlhrUTZKeVRITmlPUk9Sc3VXTFczcXdicEcwN3J0a3NPbF9senU5c2dvQSIsInN0YXRlIjoiYmZkZmM0YzY5YjkxNmJkMThmYmU5YWYwZTIyZjZiZDMifQ==\n"
          ]
        },
        {
          "output_type": "stream",
          "name": "stderr",
          "text": [
            "File downloaded:\n",
            "\n",
            "• \u001b[36mHJA_LandTrendr_84_23_2.tif\u001b[39m \u001b[90m<id: 1FrN1tUojGV80f3kDtmezsFsvLabIoGiW>\u001b[39m\n",
            "\n",
            "Saved locally as:\n",
            "\n",
            "• \u001b[34m/content/HJA_LandTrendr_84_23.tif\u001b[39m\n",
            "\n"
          ]
        }
      ]
    },
    {
      "cell_type": "code",
      "source": [
        "drive_download(file = as_id('14jTxo28D2bsC68EpVsbSaY7SpYM5MIA4'), path =  '/content/HJA_gedi.gpkg', overwrite = TRUE)"
      ],
      "metadata": {
        "id": "p6BrSHZVpEnI",
        "outputId": "61c8d964-5cc1-45aa-ddb4-6f910e0fcd54",
        "colab": {
          "base_uri": "https://localhost:8080/"
        }
      },
      "execution_count": 7,
      "outputs": [
        {
          "output_type": "stream",
          "name": "stderr",
          "text": [
            "File downloaded:\n",
            "\n",
            "• \u001b[36mHJA_GEDI_4.gpkg\u001b[39m \u001b[90m<id: 14jTxo28D2bsC68EpVsbSaY7SpYM5MIA4>\u001b[39m\n",
            "\n",
            "Saved locally as:\n",
            "\n",
            "• \u001b[34m/content/HJA_gedi.gpkg\u001b[39m\n",
            "\n"
          ]
        }
      ]
    },
    {
      "cell_type": "code",
      "source": [
        "drive_download(file = as_id('1r6CIYLOy01N8B1jc7Hr8AJUkA0jPXp9z'), path =  '/content/huc_8.gpkg', overwrite = TRUE)\n",
        "drive_download(file = as_id('1m86VWKw3nys-oY931eq9dC6xv0cEfs4a'), path =  '/content/huc_10.gpkg', overwrite = TRUE)\n",
        "drive_download(file = as_id('18ayVCWhBkP1Tb_wrWgPJea8vaWEiPgOL'), path =  '/content/huc_12.gpkg', overwrite = TRUE)"
      ],
      "metadata": {
        "id": "FCrU4s8erbks",
        "outputId": "544d6b98-e281-4336-d740-14fca24a0ee5",
        "colab": {
          "base_uri": "https://localhost:8080/"
        }
      },
      "execution_count": 8,
      "outputs": [
        {
          "output_type": "stream",
          "name": "stderr",
          "text": [
            "File downloaded:\n",
            "\n",
            "• \u001b[36mWBDHU8.gpkg\u001b[39m \u001b[90m<id: 1r6CIYLOy01N8B1jc7Hr8AJUkA0jPXp9z>\u001b[39m\n",
            "\n",
            "Saved locally as:\n",
            "\n",
            "• \u001b[34m/content/huc_8.gpkg\u001b[39m\n",
            "\n",
            "File downloaded:\n",
            "\n",
            "• \u001b[36mWBDHU10.gpkg\u001b[39m \u001b[90m<id: 1m86VWKw3nys-oY931eq9dC6xv0cEfs4a>\u001b[39m\n",
            "\n",
            "Saved locally as:\n",
            "\n",
            "• \u001b[34m/content/huc_10.gpkg\u001b[39m\n",
            "\n",
            "File downloaded:\n",
            "\n",
            "• \u001b[36mWBDHU12.gpkg\u001b[39m \u001b[90m<id: 18ayVCWhBkP1Tb_wrWgPJea8vaWEiPgOL>\u001b[39m\n",
            "\n",
            "Saved locally as:\n",
            "\n",
            "• \u001b[34m/content/huc_12.gpkg\u001b[39m\n",
            "\n"
          ]
        }
      ]
    },
    {
      "cell_type": "code",
      "source": [
        "# https://drive.google.com/file/d/1miOMqCh081yceVUfVVOL5JtxpKUgBO-2/view?usp=drive_link\n",
        "drive_download(file = as_id('1miOMqCh081yceVUfVVOL5JtxpKUgBO-2'), path =  '/content/gedi_vector.gpkg', overwrite = TRUE)"
      ],
      "metadata": {
        "id": "N4HyYrKXpvw0",
        "outputId": "fbb3a5a7-e9aa-4643-af5d-939f8c2c8cdb",
        "colab": {
          "base_uri": "https://localhost:8080/"
        }
      },
      "execution_count": 9,
      "outputs": [
        {
          "output_type": "stream",
          "name": "stderr",
          "text": [
            "File downloaded:\n",
            "\n",
            "• \u001b[36myod_vector.gpkg\u001b[39m \u001b[90m<id: 1miOMqCh081yceVUfVVOL5JtxpKUgBO-2>\u001b[39m\n",
            "\n",
            "Saved locally as:\n",
            "\n",
            "• \u001b[34m/content/gedi_vector.gpkg\u001b[39m\n",
            "\n"
          ]
        }
      ]
    },
    {
      "cell_type": "code",
      "source": [
        "landtrendr_tif <- stack('/content/HJA_LandTrendr_84_23.tif')"
      ],
      "metadata": {
        "id": "wOk8T8AEp1Pe"
      },
      "execution_count": 2,
      "outputs": []
    },
    {
      "cell_type": "code",
      "source": [
        "gedi_vec_gpkg <- st_read('/content/gedi_vector.gpkg') %>% st_transform(st_crs('EPSG:4326'))"
      ],
      "metadata": {
        "id": "F7ZEup6Q5TAJ",
        "outputId": "a7fb296b-7989-407c-dd35-e6ad8d86a692",
        "colab": {
          "base_uri": "https://localhost:8080/"
        }
      },
      "execution_count": 3,
      "outputs": [
        {
          "output_type": "stream",
          "name": "stdout",
          "text": [
            "Multiple layers are present in data source /content/gedi_vector.gpkg, reading layer `vectorized'.\n",
            "Use `st_layers' to list all layer names and their type in a data source.\n",
            "Set the `layer' argument in `st_read' to read a particular layer.\n"
          ]
        },
        {
          "output_type": "stream",
          "name": "stderr",
          "text": [
            "Warning message in CPL_read_ogr(dsn, layer, query, as.character(options), quiet, :\n",
            "“automatically selected the first layer in a data source containing more than one.”\n"
          ]
        },
        {
          "output_type": "stream",
          "name": "stdout",
          "text": [
            "Reading layer `vectorized' from data source `/content/gedi_vector.gpkg' using driver `GPKG'\n",
            "Simple feature collection with 478987 features and 4 fields\n",
            "Geometry type: POLYGON\n",
            "Dimension:     XY\n",
            "Bounding box:  xmin: -123.6643 ymin: 43.85836 xmax: -121.7595 ymax: 44.90912\n",
            "Geodetic CRS:  WGS 84\n"
          ]
        }
      ]
    },
    {
      "cell_type": "code",
      "source": [
        "huc_8_gpgk <- st_read('/content/huc_8.gpkg') %>% st_transform(st_crs('EPSG:4326'))\n",
        "huc_10_gpgk <- st_read('/content/huc_10.gpkg')  %>% st_transform(st_crs('EPSG:4326'))\n",
        "huc_12_gpgk <- st_read('/content/huc_12.gpkg')  %>% st_transform(st_crs('EPSG:4326'))"
      ],
      "metadata": {
        "colab": {
          "base_uri": "https://localhost:8080/"
        },
        "id": "JWNfPb2OqNfJ",
        "outputId": "85a5fef4-b69f-4a18-8d98-791b2a501ff8"
      },
      "execution_count": 4,
      "outputs": [
        {
          "output_type": "stream",
          "name": "stdout",
          "text": [
            "Reading layer `wbdhu8_central_oregon__wdb_oregon_state_gdb__wbdhu8' from data source `/content/huc_8.gpkg' using driver `GPKG'\n",
            "Simple feature collection with 4 features and 15 fields\n",
            "Geometry type: MULTIPOLYGON\n",
            "Dimension:     XY\n",
            "Bounding box:  xmin: -123.6643 ymin: 43.85856 xmax: -121.7597 ymax: 44.90894\n",
            "Geodetic CRS:  NAD83\n",
            "Reading layer `wdb_oregon_state_gdb__wbdhu10' from data source \n",
            "  `/content/huc_10.gpkg' using driver `GPKG'\n",
            "Simple feature collection with 27 features and 17 fields\n",
            "Geometry type: MULTIPOLYGON\n",
            "Dimension:     XY\n",
            "Bounding box:  xmin: -123.6643 ymin: 43.85856 xmax: -121.7597 ymax: 44.90894\n",
            "Geodetic CRS:  NAD83\n",
            "Reading layer `wdb_oregon_state_gdb__wbdhu12' from data source \n",
            "  `/content/huc_12.gpkg' using driver `GPKG'\n",
            "Simple feature collection with 161 features and 20 fields\n",
            "Geometry type: MULTIPOLYGON\n",
            "Dimension:     XY\n",
            "Bounding box:  xmin: -123.6643 ymin: 43.85856 xmax: -121.7597 ymax: 44.90894\n",
            "Geodetic CRS:  NAD83\n"
          ]
        }
      ]
    },
    {
      "cell_type": "code",
      "source": [
        "# [# Install and load required packages\n",
        "# # install.packages(c(\"sf\", \"DBI\"))\n",
        "# library(sf)\n",
        "# library(DBI)\n",
        "\n",
        "# # Read a spatial dataset (e.g., a shapefile) into R\n",
        "# # dataset <- st_read(\"path_to_your_dataset.shp\")\n",
        "\n",
        "# # Connect to the PostgreSQL database\n",
        "# conn <- RPostgreSQL::dbConnect(\"PostgreSQL\",\n",
        "#                  dbname = \"jifesypi\",\n",
        "#                  host = \"mild-williams-pear.db.elephantsql.com\",\n",
        "#                 #  port = \"your_port\",\n",
        "#                  user = \"jifesypi\",\n",
        "#                  password = \"Qxds23zjkpIIU343-GGHNlxqFdD3Pdlr\")\n",
        "\n",
        "# # # Ensure the connection is PostGIS-enabled\n",
        "# # if (!st_is_postgis(con)) {\n",
        "# #   stop(\"The database is not PostGIS enabled!\")\n",
        "# # }\n",
        "\n",
        "# # Upload the dataset to PostgreSQL\n",
        "# # 'name' parameter determines the name of the table in the database\n",
        "# st_write(gedi_sf, conn, layer = \"hja_gedi\", delete_layer = TRUE)\n",
        "\n",
        "# # Close the database connection\n",
        "# dbDisconnect(conn)\n"
      ],
      "metadata": {
        "id": "QSEKdc8BtBLK"
      },
      "execution_count": 5,
      "outputs": []
    },
    {
      "cell_type": "code",
      "source": [
        "huc_index <- sample(1:nrow(huc_10_gpgk),1)\n",
        "plot(huc_10_gpgk[huc_index,]$geom)\n",
        "print(huc_10_gpgk[huc_index,])\n",
        "query_wkt <- st_as_text(huc_10_gpgk[huc_index,]$geom, crs = 4326, EWKT = TRUE)\n",
        "\n",
        "query_sql <- paste0(\"SELECT * FROM hja_gedi WHERE ST_Intersects(geom,'\",query_wkt,\"')\")\n",
        "# print(query_sql)\n",
        "# Connect to the PostgreSQL database\n",
        "conn <- RPostgreSQL::dbConnect(\"PostgreSQL\",\n",
        "                 dbname = \"jifesypi\",\n",
        "                 host = \"mild-williams-pear.db.elephantsql.com\",\n",
        "                #  port = \"your_port\",\n",
        "                 user = \"jifesypi\",\n",
        "                 password = \"Qxds23zjkpIIU343-GGHNlxqFdD3Pdlr\")\n",
        "\n",
        "gedi_sf <- st_read(conn,query=query_sql)\n",
        "\n",
        "dbDisconnect(conn)"
      ],
      "metadata": {
        "colab": {
          "base_uri": "https://localhost:8080/",
          "height": 684
        },
        "id": "MuVS5-4awt6_",
        "outputId": "0e57a6c5-2c77-469a-8200-9a38d6b09eda"
      },
      "execution_count": 6,
      "outputs": [
        {
          "output_type": "stream",
          "name": "stdout",
          "text": [
            "Simple feature collection with 1 feature and 17 fields\n",
            "Geometry type: MULTIPOLYGON\n",
            "Dimension:     XY\n",
            "Bounding box:  xmin: -122.1787 ymin: 44.46379 xmax: -121.7935 ymax: 44.74952\n",
            "Geodetic CRS:  WGS 84\n",
            "  OBJECTID                                  TNMID MetaSourceID SourceDataDesc\n",
            "2      523 {ED39C5F1-2255-45AE-8A3D-61F464F52D80}         <NA>           <NA>\n",
            "  SourceOriginator SourceFeatureID            LoadDate GNIS_ID AreaAcres\n",
            "2             <NA>            <NA> 2013-01-18 08:56:26      NA  146500.8\n",
            "  AreaSqKm States      HUC10                           Name HUType HUMod\n",
            "2   592.87     OR 1709000502 Headwaters North Santiam River      S  <NA>\n",
            "  Shape_Length Shape_Area                           geom\n",
            "2     1.482265 0.06721638 MULTIPOLYGON (((-122.011 44...\n"
          ]
        },
        {
          "output_type": "display_data",
          "data": {
            "text/html": [
              "TRUE"
            ],
            "text/markdown": "TRUE",
            "text/latex": "TRUE",
            "text/plain": [
              "[1] TRUE"
            ]
          },
          "metadata": {}
        },
        {
          "output_type": "display_data",
          "data": {
            "text/plain": [
              "plot without title"
            ],
            "image/png": "[encoded data removed]"
          },
          "metadata": {
            "image/png": {
              "width": 420,
              "height": 420
            }
          }
        }
      ]
    },
    {
      "cell_type": "code",
      "source": [
        "gedi_dt <- gedi_sf %>% data.table\n",
        "gedi_dt %>% nrow\n",
        "gedi_dt[l4_quality_flag ==1,] %>% nrow"
      ],
      "metadata": {
        "colab": {
          "base_uri": "https://localhost:8080/",
          "height": 52
        },
        "id": "yY2m88HCvvGG",
        "outputId": "7483bf8d-1654-46ec-a79b-816d207f3a3d"
      },
      "execution_count": 7,
      "outputs": [
        {
          "output_type": "display_data",
          "data": {
            "text/html": [
              "224063"
            ],
            "text/markdown": "224063",
            "text/latex": "224063",
            "text/plain": [
              "[1] 224063"
            ]
          },
          "metadata": {}
        },
        {
          "output_type": "display_data",
          "data": {
            "text/html": [
              "78963"
            ],
            "text/markdown": "78963",
            "text/latex": "78963",
            "text/plain": [
              "[1] 78963"
            ]
          },
          "metadata": {}
        }
      ]
    },
    {
      "cell_type": "code",
      "source": [
        "# landtrendr_tif[landtrendr_tif < 0] <- NA"
      ],
      "metadata": {
        "id": "qDWjOzfTh3bY"
      },
      "execution_count": 8,
      "outputs": []
    },
    {
      "cell_type": "code",
      "source": [
        "gedi_dt[,geom_buffer := geom %>% st_transform('EPSG:6822') %>% st_buffer(12.5)]\n",
        "#consider 12.5"
      ],
      "metadata": {
        "id": "TSV_h0JN0HRR"
      },
      "execution_count": 9,
      "outputs": []
    },
    {
      "cell_type": "code",
      "source": [
        "landtrendr_rast <- terra::rast(landtrendr_tif)\n",
        "\n",
        "extract_dt <-\n",
        "\n",
        "gedi_dt[,geom_buffer] %>% st_as_sf %>%\n",
        "exact_extract(landtrendr_rast,.,force_df=T,c('min','max','mean','median'))"
      ],
      "metadata": {
        "colab": {
          "base_uri": "https://localhost:8080/"
        },
        "id": "UDhKDve71phw",
        "outputId": "0829edae-80e9-4613-ec30-466f866a10b8"
      },
      "execution_count": 10,
      "outputs": [
        {
          "output_type": "stream",
          "name": "stderr",
          "text": [
            "Warning message in .local(x, y, ...):\n",
            "“Polygons transformed to raster CRS (EPSG:NA)”\n"
          ]
        },
        {
          "output_type": "stream",
          "name": "stdout",
          "text": [
            "  |======================================================================| 100%\n"
          ]
        }
      ]
    },
    {
      "cell_type": "code",
      "source": [
        "summary_dt <- data.table(gedi_dt,extract_dt[,names(extract_dt) %>% strsplit('[.]') %>% lapply(function(x){x[[1]]}) %>% unlist %>% order])"
      ],
      "metadata": {
        "id": "WVn5AfpeaWhT"
      },
      "execution_count": 11,
      "outputs": []
    },
    {
      "cell_type": "code",
      "source": [
        "summary_dt$agbd[summary_dt$agbd<0] <- NA"
      ],
      "metadata": {
        "id": "NYY1NJgNjEa0"
      },
      "execution_count": 12,
      "outputs": []
    },
    {
      "cell_type": "code",
      "source": [
        "delta_time_to_timestamp <- function(delta_time) {\n",
        "  # Define the reference date\n",
        "  reference_date <- as.POSIXct(\"2018-01-01 00:00:00\", tz = \"UTC\")\n",
        "\n",
        "  # Add the delta_time (in seconds) to the reference date\n",
        "  timestamp <- reference_date + delta_time\n",
        "\n",
        "  return(timestamp)\n",
        "}"
      ],
      "metadata": {
        "id": "62u1dwPjE95t"
      },
      "execution_count": 13,
      "outputs": []
    },
    {
      "cell_type": "code",
      "source": [
        "summary_dt$year <- delta_time_to_timestamp(summary_dt$delta_time) %>% format(\"%Y\")"
      ],
      "metadata": {
        "id": "S7alGTwPCIwz"
      },
      "execution_count": 14,
      "outputs": []
    },
    {
      "cell_type": "code",
      "source": [
        "# summary_dt[,group:=as.integer(cut((median.preval-median.mag)/median.preval, breaks = quantile((median.preval[!is.na(agbd) & median.preval > 0]-median.mag[!is.na(agbd) & median.preval > 0])/median.preval[!is.na(agbd) & median.preval > 0], probs = seq(0, 1, by = 1/3)), labels = FALSE, include.lowest = TRUE)) ]\n",
        "# summary_dt$group <- NA\n",
        "# summary_dt[!is.na(agbd) & median.preval > 0, group := kmeans(((median.preval - median.mag) / median.preval)[.I], centers = 4)$cluster]"
      ],
      "metadata": {
        "id": "Fc_rzdmhmkcM"
      },
      "execution_count": 15,
      "outputs": []
    },
    {
      "cell_type": "code",
      "source": [],
      "metadata": {
        "id": "lEHJpuylaVOr"
      },
      "execution_count": null,
      "outputs": []
    },
    {
      "cell_type": "code",
      "source": [
        "year_off <- 1\n",
        "\n",
        "agbd_preval_lm <-\n",
        "summary_dt[l4_quality_flag ==1 & min.yod>1984 & round(min.yod) == (year %>% as.numeric-year_off) & round(max.yod) == (year %>% as.numeric-year_off),][,agbd_group:= round(min.preval,-1)][,agbd_group:= round(min.preval,-2)][,mag_group:= round(min.mag,-2)][,yod_group:= round(2023 - min.yod)][,list(min.preval = mean(mean.preval,na.rm=T),min.mag= mean(mean.mag,na.rm=T),agbd= mean(agbd,na.rm=T)),by=c('agbd_group','mag_group','yod_group')][,min.endval:=(min.preval-min.mag)] %>%\n",
        "  lm(agbd~min.endval,.)\n",
        "\n",
        "summary_dt$agbd_postval <- predict(agbd_preval_lm,summary_dt[,min.endval:=(min.preval-min.mag)])\n",
        "summary_dt[min.preval ==0]$agbd_postval <-NA\n",
        "\n",
        "summary_dt$agbd_preval <- predict(agbd_preval_lm,summary_dt[,min.endval:=(min.preval)])\n",
        "summary_dt[min.preval ==0]$agbd_preval <-NA"
      ],
      "metadata": {
        "id": "GFZpLY_CymGX"
      },
      "execution_count": 16,
      "outputs": []
    },
    {
      "cell_type": "code",
      "source": [
        "fire_history_gpkg <- st_read('/content/Fire_History_polygon.gpkg')"
      ],
      "metadata": {
        "id": "cO4ekD-fmhva",
        "outputId": "d0f0987e-14e3-4c99-c076-49ce560ae132",
        "colab": {
          "base_uri": "https://localhost:8080/"
        }
      },
      "execution_count": 45,
      "outputs": [
        {
          "output_type": "stream",
          "name": "stdout",
          "text": [
            "Reading layer `buffered' from data source `/content/Fire_History_polygon.gpkg' using driver `GPKG'\n",
            "Simple feature collection with 6858 features and 23 fields\n",
            "Geometry type: MULTIPOLYGON\n",
            "Dimension:     XY\n",
            "Bounding box:  xmin: -13860290 ymin: 5106055 xmax: -12951640 ymax: 6304889\n",
            "Projected CRS: WGS 84 / Pseudo-Mercator\n"
          ]
        }
      ]
    },
    {
      "cell_type": "code",
      "source": [
        "fire_history_gpkg <- fire_history_gpkg %>% st_cast('POLYGON')"
      ],
      "metadata": {
        "id": "pyosdJnBad9u",
        "outputId": "fd599893-223c-45d6-cba2-4cbe9cc71351",
        "colab": {
          "base_uri": "https://localhost:8080/"
        }
      },
      "execution_count": 47,
      "outputs": [
        {
          "output_type": "stream",
          "name": "stderr",
          "text": [
            "Warning message in st_cast.sf(., \"POLYGON\"):\n",
            "“repeating attributes for all sub-geometries for which they may not be constant”\n"
          ]
        }
      ]
    },
    {
      "cell_type": "code",
      "source": [
        "fire_history_int <- summary_dt %>% st_as_sf %>% st_intersects(fire_history_gpkg %>% st_transform(st_crs(summary_dt$geom)))"
      ],
      "metadata": {
        "id": "dvstL_1Pc7Io"
      },
      "execution_count": 50,
      "outputs": []
    },
    {
      "cell_type": "code",
      "source": [
        "(fire_history_int %>% unlist)[1:5]"
      ],
      "metadata": {
        "id": "ybCO9BCjdKl8",
        "outputId": "bd2ef42f-8db0-4fa8-a6bf-7fea7a005ccd",
        "colab": {
          "base_uri": "https://localhost:8080/"
        }
      },
      "execution_count": 53,
      "outputs": [
        {
          "output_type": "display_data",
          "data": {
            "text/html": [
              "<style>\n",
              ".list-inline {list-style: none; margin:0; padding: 0}\n",
              ".list-inline>li {display: inline-block}\n",
              ".list-inline>li:not(:last-child)::after {content: \"\\00b7\"; padding: 0 .5ex}\n",
              "</style>\n",
              "<ol class=list-inline><li>7378</li><li>7378</li><li>7378</li><li>7378</li><li>7378</li></ol>\n"
            ],
            "text/markdown": "1. 7378\n2. 7378\n3. 7378\n4. 7378\n5. 7378\n\n\n",
            "text/latex": "\\begin{enumerate*}\n\\item 7378\n\\item 7378\n\\item 7378\n\\item 7378\n\\item 7378\n\\end{enumerate*}\n",
            "text/plain": [
              "[1] 7378 7378 7378 7378 7378"
            ]
          },
          "metadata": {}
        }
      ]
    },
    {
      "cell_type": "code",
      "source": [
        "huc_8_int <- summary_dt %>% st_as_sf %>% st_intersects(huc_8_gpgk)\n",
        "\n",
        "huc_10_int <- summary_dt %>% st_as_sf %>% st_intersects(huc_10_gpgk)\n",
        "\n",
        "huc_12_int <- summary_dt %>% st_as_sf %>% st_intersects(huc_12_gpgk)"
      ],
      "metadata": {
        "id": "jewVgANZyuUp"
      },
      "execution_count": 18,
      "outputs": []
    },
    {
      "cell_type": "code",
      "source": [
        "fire_history_gpkg %>% data.table %>% head %>% names\n"
      ],
      "metadata": {
        "id": "sgvQk7F2rCQw",
        "outputId": "10e50306-30d5-427b-96f7-78cc2943dd06",
        "colab": {
          "base_uri": "https://localhost:8080/",
          "height": 69
        }
      },
      "execution_count": 62,
      "outputs": [
        {
          "output_type": "display_data",
          "data": {
            "text/html": [
              "<style>\n",
              ".list-inline {list-style: none; margin:0; padding: 0}\n",
              ".list-inline>li {display: inline-block}\n",
              ".list-inline>li:not(:last-child)::after {content: \"\\00b7\"; padding: 0 .5ex}\n",
              "</style>\n",
              "<ol class=list-inline><li>'OBJECTID'</li><li>'UNIT_ID'</li><li>'FIRE_NUM'</li><li>'FIRE_CODE'</li><li>'FIRE_NAME'</li><li>'FIRE_YEAR'</li><li>'COMPLEX_NAME'</li><li>'INC_ID'</li><li>'WFMI_ID'</li><li>'BLM_ORG_CD'</li><li>'FIRE_DSCRV_DATE'</li><li>'CAUSE_CAT'</li><li>'CAUSE_DET'</li><li>'CLASSIFIER'</li><li>'COORD_SRC'</li><li>'COORD_DATE'</li><li>'ACCURACY_FT'</li><li>'COMMENTS'</li><li>'TOT_ACRES_RPTD'</li><li>'GIS_ACRES'</li><li>'GLOBALID'</li><li>'SHAPE_Length'</li><li>'SHAPE_Area'</li><li>'geom'</li></ol>\n"
            ],
            "text/markdown": "1. 'OBJECTID'\n2. 'UNIT_ID'\n3. 'FIRE_NUM'\n4. 'FIRE_CODE'\n5. 'FIRE_NAME'\n6. 'FIRE_YEAR'\n7. 'COMPLEX_NAME'\n8. 'INC_ID'\n9. 'WFMI_ID'\n10. 'BLM_ORG_CD'\n11. 'FIRE_DSCRV_DATE'\n12. 'CAUSE_CAT'\n13. 'CAUSE_DET'\n14. 'CLASSIFIER'\n15. 'COORD_SRC'\n16. 'COORD_DATE'\n17. 'ACCURACY_FT'\n18. 'COMMENTS'\n19. 'TOT_ACRES_RPTD'\n20. 'GIS_ACRES'\n21. 'GLOBALID'\n22. 'SHAPE_Length'\n23. 'SHAPE_Area'\n24. 'geom'\n\n\n",
            "text/latex": "\\begin{enumerate*}\n\\item 'OBJECTID'\n\\item 'UNIT\\_ID'\n\\item 'FIRE\\_NUM'\n\\item 'FIRE\\_CODE'\n\\item 'FIRE\\_NAME'\n\\item 'FIRE\\_YEAR'\n\\item 'COMPLEX\\_NAME'\n\\item 'INC\\_ID'\n\\item 'WFMI\\_ID'\n\\item 'BLM\\_ORG\\_CD'\n\\item 'FIRE\\_DSCRV\\_DATE'\n\\item 'CAUSE\\_CAT'\n\\item 'CAUSE\\_DET'\n\\item 'CLASSIFIER'\n\\item 'COORD\\_SRC'\n\\item 'COORD\\_DATE'\n\\item 'ACCURACY\\_FT'\n\\item 'COMMENTS'\n\\item 'TOT\\_ACRES\\_RPTD'\n\\item 'GIS\\_ACRES'\n\\item 'GLOBALID'\n\\item 'SHAPE\\_Length'\n\\item 'SHAPE\\_Area'\n\\item 'geom'\n\\end{enumerate*}\n",
            "text/plain": [
              " [1] \"OBJECTID\"        \"UNIT_ID\"         \"FIRE_NUM\"        \"FIRE_CODE\"      \n",
              " [5] \"FIRE_NAME\"       \"FIRE_YEAR\"       \"COMPLEX_NAME\"    \"INC_ID\"         \n",
              " [9] \"WFMI_ID\"         \"BLM_ORG_CD\"      \"FIRE_DSCRV_DATE\" \"CAUSE_CAT\"      \n",
              "[13] \"CAUSE_DET\"       \"CLASSIFIER\"      \"COORD_SRC\"       \"COORD_DATE\"     \n",
              "[17] \"ACCURACY_FT\"     \"COMMENTS\"        \"TOT_ACRES_RPTD\"  \"GIS_ACRES\"      \n",
              "[21] \"GLOBALID\"        \"SHAPE_Length\"    \"SHAPE_Area\"      \"geom\"           "
            ]
          },
          "metadata": {}
        }
      ]
    },
    {
      "cell_type": "code",
      "source": [
        "fire_summary_dt <- data.table(summary_dt, (fire_history_gpkg %>% data.table)[,c('FIRE_NUM','FIRE_CODE','FIRE_NAME','FIRE_YEAR')][fire_history_int %>% lapply(function(x){x[1]}) %>% unlist,])\n"
      ],
      "metadata": {
        "id": "Y7YpelbKqvp4"
      },
      "execution_count": 63,
      "outputs": []
    },
    {
      "cell_type": "code",
      "source": [
        "fire_summary_dt$FIRE_YEAR %>% table"
      ],
      "metadata": {
        "id": "2yraBkoHrbMT",
        "outputId": "a1867679-186f-4508-f8d0-f2b8558d424a",
        "colab": {
          "base_uri": "https://localhost:8080/",
          "height": 70
        }
      },
      "execution_count": 65,
      "outputs": [
        {
          "output_type": "display_data",
          "data": {
            "text/plain": [
              ".\n",
              " 1900  2002  2003  2006  2014  2017  2020 \n",
              " 1055 19809 21768 10128   695 11966 42256 "
            ]
          },
          "metadata": {}
        }
      ]
    },
    {
      "cell_type": "code",
      "source": [
        "huc_8_summary_dt"
      ],
      "metadata": {
        "id": "l7PC-ctcq3lq",
        "outputId": "774118e9-3123-4e1a-da57-c4c2084ddc74",
        "colab": {
          "base_uri": "https://localhost:8080/",
          "height": 1000
        }
      },
      "execution_count": 59,
      "outputs": [
        {
          "output_type": "display_data",
          "data": {
            "text/html": [
              "<table class=\"dataframe\">\n",
              "<caption>A data.table: 224063 × 50</caption>\n",
              "<thead>\n",
              "\t<tr><th scope=col>agbd</th><th scope=col>lat_lowestmode</th><th scope=col>lon_lowestmode</th><th scope=col>agbd_pi_lower</th><th scope=col>agbd_pi_upper</th><th scope=col>agbd_se</th><th scope=col>agbd_t</th><th scope=col>agbd_t_se</th><th scope=col>algorithm_run_flag</th><th scope=col>channel</th><th scope=col>⋯</th><th scope=col>min.dsnr</th><th scope=col>year</th><th scope=col>min.endval</th><th scope=col>agbd_postval</th><th scope=col>agbd_preval</th><th scope=col>group_quantile</th><th scope=col>group</th><th scope=col>TNMID</th><th scope=col>HUC8</th><th scope=col>Name</th></tr>\n",
              "\t<tr><th scope=col>&lt;dbl&gt;</th><th scope=col>&lt;dbl&gt;</th><th scope=col>&lt;dbl&gt;</th><th scope=col>&lt;dbl&gt;</th><th scope=col>&lt;dbl&gt;</th><th scope=col>&lt;dbl&gt;</th><th scope=col>&lt;dbl&gt;</th><th scope=col>&lt;dbl&gt;</th><th scope=col>&lt;dbl&gt;</th><th scope=col>&lt;dbl&gt;</th><th scope=col>⋯</th><th scope=col>&lt;dbl&gt;</th><th scope=col>&lt;chr&gt;</th><th scope=col>&lt;dbl&gt;</th><th scope=col>&lt;dbl&gt;</th><th scope=col>&lt;dbl&gt;</th><th scope=col>&lt;int&gt;</th><th scope=col>&lt;int&gt;</th><th scope=col>&lt;chr&gt;</th><th scope=col>&lt;chr&gt;</th><th scope=col>&lt;chr&gt;</th></tr>\n",
              "</thead>\n",
              "<tbody>\n",
              "\t<tr><td>NA</td><td>44.56872</td><td>-122.0708</td><td>-9999</td><td>-9999</td><td>-9999</td><td>-9999</td><td>-9999</td><td>0</td><td>0</td><td>⋯</td><td>0</td><td>2021</td><td>0</td><td>NA</td><td>NA</td><td>NA</td><td>NA</td><td>NA</td><td>NA</td><td>NA</td></tr>\n",
              "\t<tr><td>NA</td><td>44.57478</td><td>-122.0849</td><td>-9999</td><td>-9999</td><td>-9999</td><td>-9999</td><td>-9999</td><td>0</td><td>0</td><td>⋯</td><td>0</td><td>2021</td><td>0</td><td>NA</td><td>NA</td><td>NA</td><td>NA</td><td>NA</td><td>NA</td><td>NA</td></tr>\n",
              "\t<tr><td>NA</td><td>44.57452</td><td>-122.0843</td><td>-9999</td><td>-9999</td><td>-9999</td><td>-9999</td><td>-9999</td><td>0</td><td>0</td><td>⋯</td><td>0</td><td>2021</td><td>0</td><td>NA</td><td>NA</td><td>NA</td><td>NA</td><td>NA</td><td>NA</td><td>NA</td></tr>\n",
              "\t<tr><td>NA</td><td>44.57425</td><td>-122.0837</td><td>-9999</td><td>-9999</td><td>-9999</td><td>-9999</td><td>-9999</td><td>0</td><td>0</td><td>⋯</td><td>0</td><td>2021</td><td>0</td><td>NA</td><td>NA</td><td>NA</td><td>NA</td><td>NA</td><td>NA</td><td>NA</td></tr>\n",
              "\t<tr><td>NA</td><td>44.57399</td><td>-122.0831</td><td>-9999</td><td>-9999</td><td>-9999</td><td>-9999</td><td>-9999</td><td>0</td><td>0</td><td>⋯</td><td>0</td><td>2021</td><td>0</td><td>NA</td><td>NA</td><td>NA</td><td>NA</td><td>NA</td><td>NA</td><td>NA</td></tr>\n",
              "\t<tr><td>NA</td><td>44.57373</td><td>-122.0825</td><td>-9999</td><td>-9999</td><td>-9999</td><td>-9999</td><td>-9999</td><td>0</td><td>0</td><td>⋯</td><td>0</td><td>2021</td><td>0</td><td>NA</td><td>NA</td><td>NA</td><td>NA</td><td>NA</td><td>NA</td><td>NA</td></tr>\n",
              "\t<tr><td>NA</td><td>44.57346</td><td>-122.0818</td><td>-9999</td><td>-9999</td><td>-9999</td><td>-9999</td><td>-9999</td><td>0</td><td>0</td><td>⋯</td><td>0</td><td>2021</td><td>0</td><td>NA</td><td>NA</td><td>NA</td><td>NA</td><td>NA</td><td>NA</td><td>NA</td></tr>\n",
              "\t<tr><td>NA</td><td>44.57320</td><td>-122.0812</td><td>-9999</td><td>-9999</td><td>-9999</td><td>-9999</td><td>-9999</td><td>0</td><td>0</td><td>⋯</td><td>0</td><td>2021</td><td>0</td><td>NA</td><td>NA</td><td>NA</td><td>NA</td><td>NA</td><td>NA</td><td>NA</td></tr>\n",
              "\t<tr><td>NA</td><td>44.57294</td><td>-122.0806</td><td>-9999</td><td>-9999</td><td>-9999</td><td>-9999</td><td>-9999</td><td>0</td><td>0</td><td>⋯</td><td>0</td><td>2021</td><td>0</td><td>NA</td><td>NA</td><td>NA</td><td>NA</td><td>NA</td><td>NA</td><td>NA</td></tr>\n",
              "\t<tr><td>NA</td><td>44.57267</td><td>-122.0800</td><td>-9999</td><td>-9999</td><td>-9999</td><td>-9999</td><td>-9999</td><td>0</td><td>0</td><td>⋯</td><td>0</td><td>2021</td><td>0</td><td>NA</td><td>NA</td><td>NA</td><td>NA</td><td>NA</td><td>NA</td><td>NA</td></tr>\n",
              "\t<tr><td>NA</td><td>44.57241</td><td>-122.0794</td><td>-9999</td><td>-9999</td><td>-9999</td><td>-9999</td><td>-9999</td><td>0</td><td>0</td><td>⋯</td><td>0</td><td>2021</td><td>0</td><td>NA</td><td>NA</td><td>NA</td><td>NA</td><td>NA</td><td>NA</td><td>NA</td></tr>\n",
              "\t<tr><td>NA</td><td>44.57214</td><td>-122.0788</td><td>-9999</td><td>-9999</td><td>-9999</td><td>-9999</td><td>-9999</td><td>0</td><td>0</td><td>⋯</td><td>0</td><td>2021</td><td>0</td><td>NA</td><td>NA</td><td>NA</td><td>NA</td><td>NA</td><td>NA</td><td>NA</td></tr>\n",
              "\t<tr><td>NA</td><td>44.57188</td><td>-122.0781</td><td>-9999</td><td>-9999</td><td>-9999</td><td>-9999</td><td>-9999</td><td>0</td><td>0</td><td>⋯</td><td>0</td><td>2021</td><td>0</td><td>NA</td><td>NA</td><td>NA</td><td>NA</td><td>NA</td><td>NA</td><td>NA</td></tr>\n",
              "\t<tr><td>NA</td><td>44.57162</td><td>-122.0775</td><td>-9999</td><td>-9999</td><td>-9999</td><td>-9999</td><td>-9999</td><td>0</td><td>0</td><td>⋯</td><td>0</td><td>2021</td><td>0</td><td>NA</td><td>NA</td><td>NA</td><td>NA</td><td>NA</td><td>NA</td><td>NA</td></tr>\n",
              "\t<tr><td>NA</td><td>44.57135</td><td>-122.0769</td><td>-9999</td><td>-9999</td><td>-9999</td><td>-9999</td><td>-9999</td><td>0</td><td>0</td><td>⋯</td><td>0</td><td>2021</td><td>0</td><td>NA</td><td>NA</td><td>NA</td><td>NA</td><td>NA</td><td>NA</td><td>NA</td></tr>\n",
              "\t<tr><td>NA</td><td>44.57109</td><td>-122.0763</td><td>-9999</td><td>-9999</td><td>-9999</td><td>-9999</td><td>-9999</td><td>0</td><td>0</td><td>⋯</td><td>0</td><td>2021</td><td>0</td><td>NA</td><td>NA</td><td>NA</td><td>NA</td><td>NA</td><td>NA</td><td>NA</td></tr>\n",
              "\t<tr><td>NA</td><td>44.57083</td><td>-122.0757</td><td>-9999</td><td>-9999</td><td>-9999</td><td>-9999</td><td>-9999</td><td>0</td><td>0</td><td>⋯</td><td>0</td><td>2021</td><td>0</td><td>NA</td><td>NA</td><td>NA</td><td>NA</td><td>NA</td><td>NA</td><td>NA</td></tr>\n",
              "\t<tr><td>NA</td><td>44.57057</td><td>-122.0751</td><td>-9999</td><td>-9999</td><td>-9999</td><td>-9999</td><td>-9999</td><td>0</td><td>0</td><td>⋯</td><td>0</td><td>2021</td><td>0</td><td>NA</td><td>NA</td><td>NA</td><td>NA</td><td>NA</td><td>NA</td><td>NA</td></tr>\n",
              "\t<tr><td>NA</td><td>44.57030</td><td>-122.0745</td><td>-9999</td><td>-9999</td><td>-9999</td><td>-9999</td><td>-9999</td><td>0</td><td>0</td><td>⋯</td><td>0</td><td>2021</td><td>0</td><td>NA</td><td>NA</td><td>NA</td><td>NA</td><td>NA</td><td>NA</td><td>NA</td></tr>\n",
              "\t<tr><td>NA</td><td>44.57004</td><td>-122.0738</td><td>-9999</td><td>-9999</td><td>-9999</td><td>-9999</td><td>-9999</td><td>0</td><td>0</td><td>⋯</td><td>0</td><td>2021</td><td>0</td><td>NA</td><td>NA</td><td>NA</td><td>NA</td><td>NA</td><td>NA</td><td>NA</td></tr>\n",
              "\t<tr><td>NA</td><td>44.56977</td><td>-122.0732</td><td>-9999</td><td>-9999</td><td>-9999</td><td>-9999</td><td>-9999</td><td>0</td><td>0</td><td>⋯</td><td>0</td><td>2021</td><td>0</td><td>NA</td><td>NA</td><td>NA</td><td>NA</td><td>NA</td><td>NA</td><td>NA</td></tr>\n",
              "\t<tr><td>NA</td><td>44.56951</td><td>-122.0726</td><td>-9999</td><td>-9999</td><td>-9999</td><td>-9999</td><td>-9999</td><td>0</td><td>0</td><td>⋯</td><td>0</td><td>2021</td><td>0</td><td>NA</td><td>NA</td><td>NA</td><td>NA</td><td>NA</td><td>NA</td><td>NA</td></tr>\n",
              "\t<tr><td>NA</td><td>44.56925</td><td>-122.0720</td><td>-9999</td><td>-9999</td><td>-9999</td><td>-9999</td><td>-9999</td><td>0</td><td>0</td><td>⋯</td><td>0</td><td>2021</td><td>0</td><td>NA</td><td>NA</td><td>NA</td><td>NA</td><td>NA</td><td>NA</td><td>NA</td></tr>\n",
              "\t<tr><td>NA</td><td>44.56898</td><td>-122.0714</td><td>-9999</td><td>-9999</td><td>-9999</td><td>-9999</td><td>-9999</td><td>0</td><td>0</td><td>⋯</td><td>0</td><td>2021</td><td>0</td><td>NA</td><td>NA</td><td>NA</td><td>NA</td><td>NA</td><td>NA</td><td>NA</td></tr>\n",
              "\t<tr><td>NA</td><td>44.55682</td><td>-122.0431</td><td>-9999</td><td>-9999</td><td>-9999</td><td>-9999</td><td>-9999</td><td>0</td><td>0</td><td>⋯</td><td>0</td><td>2021</td><td>0</td><td>NA</td><td>NA</td><td>NA</td><td>NA</td><td>NA</td><td>NA</td><td>NA</td></tr>\n",
              "\t<tr><td>NA</td><td>44.55656</td><td>-122.0425</td><td>-9999</td><td>-9999</td><td>-9999</td><td>-9999</td><td>-9999</td><td>0</td><td>0</td><td>⋯</td><td>0</td><td>2021</td><td>0</td><td>NA</td><td>NA</td><td>NA</td><td>NA</td><td>NA</td><td>NA</td><td>NA</td></tr>\n",
              "\t<tr><td>NA</td><td>44.55629</td><td>-122.0419</td><td>-9999</td><td>-9999</td><td>-9999</td><td>-9999</td><td>-9999</td><td>0</td><td>0</td><td>⋯</td><td>0</td><td>2021</td><td>0</td><td>NA</td><td>NA</td><td>NA</td><td>NA</td><td>NA</td><td>NA</td><td>NA</td></tr>\n",
              "\t<tr><td>NA</td><td>44.55603</td><td>-122.0413</td><td>-9999</td><td>-9999</td><td>-9999</td><td>-9999</td><td>-9999</td><td>0</td><td>0</td><td>⋯</td><td>0</td><td>2021</td><td>0</td><td>NA</td><td>NA</td><td>NA</td><td>NA</td><td>NA</td><td>NA</td><td>NA</td></tr>\n",
              "\t<tr><td>NA</td><td>44.55576</td><td>-122.0407</td><td>-9999</td><td>-9999</td><td>-9999</td><td>-9999</td><td>-9999</td><td>0</td><td>0</td><td>⋯</td><td>0</td><td>2021</td><td>0</td><td>NA</td><td>NA</td><td>NA</td><td>NA</td><td>NA</td><td>NA</td><td>NA</td></tr>\n",
              "\t<tr><td>NA</td><td>44.55550</td><td>-122.0401</td><td>-9999</td><td>-9999</td><td>-9999</td><td>-9999</td><td>-9999</td><td>0</td><td>0</td><td>⋯</td><td>0</td><td>2021</td><td>0</td><td>NA</td><td>NA</td><td>NA</td><td>NA</td><td>NA</td><td>NA</td><td>NA</td></tr>\n",
              "\t<tr><td>⋮</td><td>⋮</td><td>⋮</td><td>⋮</td><td>⋮</td><td>⋮</td><td>⋮</td><td>⋮</td><td>⋮</td><td>⋮</td><td>⋱</td><td>⋮</td><td>⋮</td><td>⋮</td><td>⋮</td><td>⋮</td><td>⋮</td><td>⋮</td><td>⋮</td><td>⋮</td><td>⋮</td></tr>\n",
              "\t<tr><td>NA</td><td>44.50876</td><td>-121.8818</td><td>-9999</td><td>-9999</td><td>-9999</td><td>-9999</td><td>-9999</td><td>0</td><td>5</td><td>⋯</td><td> 5</td><td>2021</td><td>277</td><td>70.24853</td><td>224.6271</td><td> 2</td><td> 1</td><td>NA</td><td>NA</td><td>NA</td></tr>\n",
              "\t<tr><td>NA</td><td>44.50903</td><td>-121.8812</td><td>-9999</td><td>-9999</td><td>-9999</td><td>-9999</td><td>-9999</td><td>0</td><td>5</td><td>⋯</td><td>12</td><td>2021</td><td>220</td><td>46.27147</td><td>206.9598</td><td> 1</td><td> 1</td><td>NA</td><td>NA</td><td>NA</td></tr>\n",
              "\t<tr><td>NA</td><td>44.50930</td><td>-121.8806</td><td>-9999</td><td>-9999</td><td>-9999</td><td>-9999</td><td>-9999</td><td>0</td><td>5</td><td>⋯</td><td>10</td><td>2021</td><td>165</td><td>23.13571</td><td>206.5392</td><td> 1</td><td> 1</td><td>NA</td><td>NA</td><td>NA</td></tr>\n",
              "\t<tr><td>NA</td><td>44.50956</td><td>-121.8800</td><td>-9999</td><td>-9999</td><td>-9999</td><td>-9999</td><td>-9999</td><td>0</td><td>5</td><td>⋯</td><td>15</td><td>2021</td><td>143</td><td>13.88140</td><td>247.7629</td><td> 1</td><td> 1</td><td>NA</td><td>NA</td><td>NA</td></tr>\n",
              "\t<tr><td>NA</td><td>44.50983</td><td>-121.8793</td><td>-9999</td><td>-9999</td><td>-9999</td><td>-9999</td><td>-9999</td><td>0</td><td>5</td><td>⋯</td><td>10</td><td>2021</td><td>154</td><td>18.50856</td><td>132.5048</td><td> 1</td><td> 1</td><td>NA</td><td>NA</td><td>NA</td></tr>\n",
              "\t<tr><td>NA</td><td>44.51009</td><td>-121.8787</td><td>-9999</td><td>-9999</td><td>-9999</td><td>-9999</td><td>-9999</td><td>0</td><td>5</td><td>⋯</td><td> 0</td><td>2021</td><td>  0</td><td>      NA</td><td>      NA</td><td>NA</td><td>NA</td><td>NA</td><td>NA</td><td>NA</td></tr>\n",
              "\t<tr><td>NA</td><td>44.51036</td><td>-121.8781</td><td>-9999</td><td>-9999</td><td>-9999</td><td>-9999</td><td>-9999</td><td>0</td><td>5</td><td>⋯</td><td> 0</td><td>2021</td><td>  0</td><td>      NA</td><td>      NA</td><td>NA</td><td>NA</td><td>NA</td><td>NA</td><td>NA</td></tr>\n",
              "\t<tr><td>NA</td><td>44.51062</td><td>-121.8775</td><td>-9999</td><td>-9999</td><td>-9999</td><td>-9999</td><td>-9999</td><td>0</td><td>5</td><td>⋯</td><td> 0</td><td>2021</td><td>  0</td><td>      NA</td><td>      NA</td><td>NA</td><td>NA</td><td>NA</td><td>NA</td><td>NA</td></tr>\n",
              "\t<tr><td>NA</td><td>44.51089</td><td>-121.8769</td><td>-9999</td><td>-9999</td><td>-9999</td><td>-9999</td><td>-9999</td><td>0</td><td>5</td><td>⋯</td><td> 7</td><td>2021</td><td>293</td><td>76.97893</td><td>181.3002</td><td> 2</td><td> 1</td><td>NA</td><td>NA</td><td>NA</td></tr>\n",
              "\t<tr><td>NA</td><td>44.51116</td><td>-121.8763</td><td>-9999</td><td>-9999</td><td>-9999</td><td>-9999</td><td>-9999</td><td>0</td><td>5</td><td>⋯</td><td> 5</td><td>2021</td><td>334</td><td>94.22559</td><td>226.7304</td><td> 2</td><td> 2</td><td>NA</td><td>NA</td><td>NA</td></tr>\n",
              "\t<tr><td>NA</td><td>44.51142</td><td>-121.8757</td><td>-9999</td><td>-9999</td><td>-9999</td><td>-9999</td><td>-9999</td><td>0</td><td>5</td><td>⋯</td><td> 7</td><td>2021</td><td>290</td><td>75.71698</td><td>248.6042</td><td> 2</td><td> 1</td><td>NA</td><td>NA</td><td>NA</td></tr>\n",
              "\t<tr><td>NA</td><td>44.55744</td><td>-121.8171</td><td>-9999</td><td>-9999</td><td>-9999</td><td>-9999</td><td>-9999</td><td>0</td><td>2</td><td>⋯</td><td> 0</td><td>2021</td><td>  0</td><td>      NA</td><td>      NA</td><td>NA</td><td>NA</td><td>NA</td><td>NA</td><td>NA</td></tr>\n",
              "\t<tr><td>NA</td><td>44.55771</td><td>-121.8165</td><td>-9999</td><td>-9999</td><td>-9999</td><td>-9999</td><td>-9999</td><td>0</td><td>2</td><td>⋯</td><td> 0</td><td>2021</td><td>  0</td><td>      NA</td><td>      NA</td><td>NA</td><td>NA</td><td>NA</td><td>NA</td><td>NA</td></tr>\n",
              "\t<tr><td>NA</td><td>44.55797</td><td>-121.8159</td><td>-9999</td><td>-9999</td><td>-9999</td><td>-9999</td><td>-9999</td><td>0</td><td>2</td><td>⋯</td><td> 0</td><td>2021</td><td>  0</td><td>      NA</td><td>      NA</td><td>NA</td><td>NA</td><td>NA</td><td>NA</td><td>NA</td></tr>\n",
              "\t<tr><td>NA</td><td>44.55824</td><td>-121.8153</td><td>-9999</td><td>-9999</td><td>-9999</td><td>-9999</td><td>-9999</td><td>0</td><td>2</td><td>⋯</td><td> 0</td><td>2021</td><td>  0</td><td>      NA</td><td>      NA</td><td>NA</td><td>NA</td><td>NA</td><td>NA</td><td>NA</td></tr>\n",
              "\t<tr><td>NA</td><td>44.55850</td><td>-121.8147</td><td>-9999</td><td>-9999</td><td>-9999</td><td>-9999</td><td>-9999</td><td>0</td><td>2</td><td>⋯</td><td> 0</td><td>2021</td><td>  0</td><td>      NA</td><td>      NA</td><td>NA</td><td>NA</td><td>NA</td><td>NA</td><td>NA</td></tr>\n",
              "\t<tr><td>NA</td><td>44.55877</td><td>-121.8140</td><td>-9999</td><td>-9999</td><td>-9999</td><td>-9999</td><td>-9999</td><td>0</td><td>2</td><td>⋯</td><td> 0</td><td>2021</td><td>  0</td><td>      NA</td><td>      NA</td><td>NA</td><td>NA</td><td>NA</td><td>NA</td><td>NA</td></tr>\n",
              "\t<tr><td>NA</td><td>44.55903</td><td>-121.8134</td><td>-9999</td><td>-9999</td><td>-9999</td><td>-9999</td><td>-9999</td><td>0</td><td>2</td><td>⋯</td><td> 0</td><td>2021</td><td>  0</td><td>      NA</td><td>      NA</td><td>NA</td><td>NA</td><td>NA</td><td>NA</td><td>NA</td></tr>\n",
              "\t<tr><td>NA</td><td>44.55930</td><td>-121.8128</td><td>-9999</td><td>-9999</td><td>-9999</td><td>-9999</td><td>-9999</td><td>0</td><td>2</td><td>⋯</td><td> 0</td><td>2021</td><td>  0</td><td>      NA</td><td>      NA</td><td>NA</td><td>NA</td><td>NA</td><td>NA</td><td>NA</td></tr>\n",
              "\t<tr><td>NA</td><td>44.55956</td><td>-121.8122</td><td>-9999</td><td>-9999</td><td>-9999</td><td>-9999</td><td>-9999</td><td>0</td><td>2</td><td>⋯</td><td> 0</td><td>2021</td><td>  0</td><td>      NA</td><td>      NA</td><td>NA</td><td>NA</td><td>NA</td><td>NA</td><td>NA</td></tr>\n",
              "\t<tr><td>NA</td><td>44.55982</td><td>-121.8116</td><td>-9999</td><td>-9999</td><td>-9999</td><td>-9999</td><td>-9999</td><td>0</td><td>2</td><td>⋯</td><td> 0</td><td>2021</td><td>  0</td><td>      NA</td><td>      NA</td><td>NA</td><td>NA</td><td>NA</td><td>NA</td><td>NA</td></tr>\n",
              "\t<tr><td>NA</td><td>44.56009</td><td>-121.8110</td><td>-9999</td><td>-9999</td><td>-9999</td><td>-9999</td><td>-9999</td><td>0</td><td>2</td><td>⋯</td><td> 0</td><td>2021</td><td>  0</td><td>      NA</td><td>      NA</td><td>NA</td><td>NA</td><td>NA</td><td>NA</td><td>NA</td></tr>\n",
              "\t<tr><td>NA</td><td>44.56035</td><td>-121.8104</td><td>-9999</td><td>-9999</td><td>-9999</td><td>-9999</td><td>-9999</td><td>0</td><td>2</td><td>⋯</td><td> 0</td><td>2021</td><td>  0</td><td>      NA</td><td>      NA</td><td>NA</td><td>NA</td><td>NA</td><td>NA</td><td>NA</td></tr>\n",
              "\t<tr><td>NA</td><td>44.56062</td><td>-121.8097</td><td>-9999</td><td>-9999</td><td>-9999</td><td>-9999</td><td>-9999</td><td>0</td><td>2</td><td>⋯</td><td> 0</td><td>2021</td><td>  0</td><td>      NA</td><td>      NA</td><td>NA</td><td>NA</td><td>NA</td><td>NA</td><td>NA</td></tr>\n",
              "\t<tr><td>NA</td><td>44.56088</td><td>-121.8091</td><td>-9999</td><td>-9999</td><td>-9999</td><td>-9999</td><td>-9999</td><td>0</td><td>2</td><td>⋯</td><td> 6</td><td>2021</td><td>345</td><td>98.85274</td><td>224.2065</td><td> 2</td><td> 2</td><td>NA</td><td>NA</td><td>NA</td></tr>\n",
              "\t<tr><td>NA</td><td>44.56115</td><td>-121.8085</td><td>-9999</td><td>-9999</td><td>-9999</td><td>-9999</td><td>-9999</td><td>0</td><td>2</td><td>⋯</td><td> 8</td><td>2021</td><td>233</td><td>51.73992</td><td>198.1262</td><td> 1</td><td> 1</td><td>NA</td><td>NA</td><td>NA</td></tr>\n",
              "\t<tr><td>NA</td><td>44.56141</td><td>-121.8079</td><td>-9999</td><td>-9999</td><td>-9999</td><td>-9999</td><td>-9999</td><td>0</td><td>2</td><td>⋯</td><td> 6</td><td>2021</td><td>215</td><td>44.16822</td><td>144.7036</td><td> 1</td><td> 1</td><td>NA</td><td>NA</td><td>NA</td></tr>\n",
              "\t<tr><td>NA</td><td>44.56167</td><td>-121.8073</td><td>-9999</td><td>-9999</td><td>-9999</td><td>-9999</td><td>-9999</td><td>0</td><td>2</td><td>⋯</td><td> 0</td><td>2021</td><td>  0</td><td>      NA</td><td>      NA</td><td>NA</td><td>NA</td><td>NA</td><td>NA</td><td>NA</td></tr>\n",
              "\t<tr><td>NA</td><td>44.56194</td><td>-121.8067</td><td>-9999</td><td>-9999</td><td>-9999</td><td>-9999</td><td>-9999</td><td>0</td><td>2</td><td>⋯</td><td> 0</td><td>2021</td><td>  0</td><td>      NA</td><td>      NA</td><td>NA</td><td>NA</td><td>NA</td><td>NA</td><td>NA</td></tr>\n",
              "\t<tr><td>NA</td><td>44.56220</td><td>-121.8061</td><td>-9999</td><td>-9999</td><td>-9999</td><td>-9999</td><td>-9999</td><td>0</td><td>2</td><td>⋯</td><td> 0</td><td>2021</td><td>  0</td><td>      NA</td><td>      NA</td><td>NA</td><td>NA</td><td>NA</td><td>NA</td><td>NA</td></tr>\n",
              "</tbody>\n",
              "</table>\n"
            ],
            "text/markdown": "\nA data.table: 224063 × 50\n\n| agbd &lt;dbl&gt; | lat_lowestmode &lt;dbl&gt; | lon_lowestmode &lt;dbl&gt; | agbd_pi_lower &lt;dbl&gt; | agbd_pi_upper &lt;dbl&gt; | agbd_se &lt;dbl&gt; | agbd_t &lt;dbl&gt; | agbd_t_se &lt;dbl&gt; | algorithm_run_flag &lt;dbl&gt; | channel &lt;dbl&gt; | ⋯ ⋯ | min.dsnr &lt;dbl&gt; | year &lt;chr&gt; | min.endval &lt;dbl&gt; | agbd_postval &lt;dbl&gt; | agbd_preval &lt;dbl&gt; | group_quantile &lt;int&gt; | group &lt;int&gt; | TNMID &lt;chr&gt; | HUC8 &lt;chr&gt; | Name &lt;chr&gt; |\n|---|---|---|---|---|---|---|---|---|---|---|---|---|---|---|---|---|---|---|---|---|\n| NA | 44.56872 | -122.0708 | -9999 | -9999 | -9999 | -9999 | -9999 | 0 | 0 | ⋯ | 0 | 2021 | 0 | NA | NA | NA | NA | NA | NA | NA |\n| NA | 44.57478 | -122.0849 | -9999 | -9999 | -9999 | -9999 | -9999 | 0 | 0 | ⋯ | 0 | 2021 | 0 | NA | NA | NA | NA | NA | NA | NA |\n| NA | 44.57452 | -122.0843 | -9999 | -9999 | -9999 | -9999 | -9999 | 0 | 0 | ⋯ | 0 | 2021 | 0 | NA | NA | NA | NA | NA | NA | NA |\n| NA | 44.57425 | -122.0837 | -9999 | -9999 | -9999 | -9999 | -9999 | 0 | 0 | ⋯ | 0 | 2021 | 0 | NA | NA | NA | NA | NA | NA | NA |\n| NA | 44.57399 | -122.0831 | -9999 | -9999 | -9999 | -9999 | -9999 | 0 | 0 | ⋯ | 0 | 2021 | 0 | NA | NA | NA | NA | NA | NA | NA |\n| NA | 44.57373 | -122.0825 | -9999 | -9999 | -9999 | -9999 | -9999 | 0 | 0 | ⋯ | 0 | 2021 | 0 | NA | NA | NA | NA | NA | NA | NA |\n| NA | 44.57346 | -122.0818 | -9999 | -9999 | -9999 | -9999 | -9999 | 0 | 0 | ⋯ | 0 | 2021 | 0 | NA | NA | NA | NA | NA | NA | NA |\n| NA | 44.57320 | -122.0812 | -9999 | -9999 | -9999 | -9999 | -9999 | 0 | 0 | ⋯ | 0 | 2021 | 0 | NA | NA | NA | NA | NA | NA | NA |\n| NA | 44.57294 | -122.0806 | -9999 | -9999 | -9999 | -9999 | -9999 | 0 | 0 | ⋯ | 0 | 2021 | 0 | NA | NA | NA | NA | NA | NA | NA |\n| NA | 44.57267 | -122.0800 | -9999 | -9999 | -9999 | -9999 | -9999 | 0 | 0 | ⋯ | 0 | 2021 | 0 | NA | NA | NA | NA | NA | NA | NA |\n| NA | 44.57241 | -122.0794 | -9999 | -9999 | -9999 | -9999 | -9999 | 0 | 0 | ⋯ | 0 | 2021 | 0 | NA | NA | NA | NA | NA | NA | NA |\n| NA | 44.57214 | -122.0788 | -9999 | -9999 | -9999 | -9999 | -9999 | 0 | 0 | ⋯ | 0 | 2021 | 0 | NA | NA | NA | NA | NA | NA | NA |\n| NA | 44.57188 | -122.0781 | -9999 | -9999 | -9999 | -9999 | -9999 | 0 | 0 | ⋯ | 0 | 2021 | 0 | NA | NA | NA | NA | NA | NA | NA |\n| NA | 44.57162 | -122.0775 | -9999 | -9999 | -9999 | -9999 | -9999 | 0 | 0 | ⋯ | 0 | 2021 | 0 | NA | NA | NA | NA | NA | NA | NA |\n| NA | 44.57135 | -122.0769 | -9999 | -9999 | -9999 | -9999 | -9999 | 0 | 0 | ⋯ | 0 | 2021 | 0 | NA | NA | NA | NA | NA | NA | NA |\n| NA | 44.57109 | -122.0763 | -9999 | -9999 | -9999 | -9999 | -9999 | 0 | 0 | ⋯ | 0 | 2021 | 0 | NA | NA | NA | NA | NA | NA | NA |\n| NA | 44.57083 | -122.0757 | -9999 | -9999 | -9999 | -9999 | -9999 | 0 | 0 | ⋯ | 0 | 2021 | 0 | NA | NA | NA | NA | NA | NA | NA |\n| NA | 44.57057 | -122.0751 | -9999 | -9999 | -9999 | -9999 | -9999 | 0 | 0 | ⋯ | 0 | 2021 | 0 | NA | NA | NA | NA | NA | NA | NA |\n| NA | 44.57030 | -122.0745 | -9999 | -9999 | -9999 | -9999 | -9999 | 0 | 0 | ⋯ | 0 | 2021 | 0 | NA | NA | NA | NA | NA | NA | NA |\n| NA | 44.57004 | -122.0738 | -9999 | -9999 | -9999 | -9999 | -9999 | 0 | 0 | ⋯ | 0 | 2021 | 0 | NA | NA | NA | NA | NA | NA | NA |\n| NA | 44.56977 | -122.0732 | -9999 | -9999 | -9999 | -9999 | -9999 | 0 | 0 | ⋯ | 0 | 2021 | 0 | NA | NA | NA | NA | NA | NA | NA |\n| NA | 44.56951 | -122.0726 | -9999 | -9999 | -9999 | -9999 | -9999 | 0 | 0 | ⋯ | 0 | 2021 | 0 | NA | NA | NA | NA | NA | NA | NA |\n| NA | 44.56925 | -122.0720 | -9999 | -9999 | -9999 | -9999 | -9999 | 0 | 0 | ⋯ | 0 | 2021 | 0 | NA | NA | NA | NA | NA | NA | NA |\n| NA | 44.56898 | -122.0714 | -9999 | -9999 | -9999 | -9999 | -9999 | 0 | 0 | ⋯ | 0 | 2021 | 0 | NA | NA | NA | NA | NA | NA | NA |\n| NA | 44.55682 | -122.0431 | -9999 | -9999 | -9999 | -9999 | -9999 | 0 | 0 | ⋯ | 0 | 2021 | 0 | NA | NA | NA | NA | NA | NA | NA |\n| NA | 44.55656 | -122.0425 | -9999 | -9999 | -9999 | -9999 | -9999 | 0 | 0 | ⋯ | 0 | 2021 | 0 | NA | NA | NA | NA | NA | NA | NA |\n| NA | 44.55629 | -122.0419 | -9999 | -9999 | -9999 | -9999 | -9999 | 0 | 0 | ⋯ | 0 | 2021 | 0 | NA | NA | NA | NA | NA | NA | NA |\n| NA | 44.55603 | -122.0413 | -9999 | -9999 | -9999 | -9999 | -9999 | 0 | 0 | ⋯ | 0 | 2021 | 0 | NA | NA | NA | NA | NA | NA | NA |\n| NA | 44.55576 | -122.0407 | -9999 | -9999 | -9999 | -9999 | -9999 | 0 | 0 | ⋯ | 0 | 2021 | 0 | NA | NA | NA | NA | NA | NA | NA |\n| NA | 44.55550 | -122.0401 | -9999 | -9999 | -9999 | -9999 | -9999 | 0 | 0 | ⋯ | 0 | 2021 | 0 | NA | NA | NA | NA | NA | NA | NA |\n| ⋮ | ⋮ | ⋮ | ⋮ | ⋮ | ⋮ | ⋮ | ⋮ | ⋮ | ⋮ | ⋱ | ⋮ | ⋮ | ⋮ | ⋮ | ⋮ | ⋮ | ⋮ | ⋮ | ⋮ | ⋮ |\n| NA | 44.50876 | -121.8818 | -9999 | -9999 | -9999 | -9999 | -9999 | 0 | 5 | ⋯ |  5 | 2021 | 277 | 70.24853 | 224.6271 |  2 |  1 | NA | NA | NA |\n| NA | 44.50903 | -121.8812 | -9999 | -9999 | -9999 | -9999 | -9999 | 0 | 5 | ⋯ | 12 | 2021 | 220 | 46.27147 | 206.9598 |  1 |  1 | NA | NA | NA |\n| NA | 44.50930 | -121.8806 | -9999 | -9999 | -9999 | -9999 | -9999 | 0 | 5 | ⋯ | 10 | 2021 | 165 | 23.13571 | 206.5392 |  1 |  1 | NA | NA | NA |\n| NA | 44.50956 | -121.8800 | -9999 | -9999 | -9999 | -9999 | -9999 | 0 | 5 | ⋯ | 15 | 2021 | 143 | 13.88140 | 247.7629 |  1 |  1 | NA | NA | NA |\n| NA | 44.50983 | -121.8793 | -9999 | -9999 | -9999 | -9999 | -9999 | 0 | 5 | ⋯ | 10 | 2021 | 154 | 18.50856 | 132.5048 |  1 |  1 | NA | NA | NA |\n| NA | 44.51009 | -121.8787 | -9999 | -9999 | -9999 | -9999 | -9999 | 0 | 5 | ⋯ |  0 | 2021 |   0 |       NA |       NA | NA | NA | NA | NA | NA |\n| NA | 44.51036 | -121.8781 | -9999 | -9999 | -9999 | -9999 | -9999 | 0 | 5 | ⋯ |  0 | 2021 |   0 |       NA |       NA | NA | NA | NA | NA | NA |\n| NA | 44.51062 | -121.8775 | -9999 | -9999 | -9999 | -9999 | -9999 | 0 | 5 | ⋯ |  0 | 2021 |   0 |       NA |       NA | NA | NA | NA | NA | NA |\n| NA | 44.51089 | -121.8769 | -9999 | -9999 | -9999 | -9999 | -9999 | 0 | 5 | ⋯ |  7 | 2021 | 293 | 76.97893 | 181.3002 |  2 |  1 | NA | NA | NA |\n| NA | 44.51116 | -121.8763 | -9999 | -9999 | -9999 | -9999 | -9999 | 0 | 5 | ⋯ |  5 | 2021 | 334 | 94.22559 | 226.7304 |  2 |  2 | NA | NA | NA |\n| NA | 44.51142 | -121.8757 | -9999 | -9999 | -9999 | -9999 | -9999 | 0 | 5 | ⋯ |  7 | 2021 | 290 | 75.71698 | 248.6042 |  2 |  1 | NA | NA | NA |\n| NA | 44.55744 | -121.8171 | -9999 | -9999 | -9999 | -9999 | -9999 | 0 | 2 | ⋯ |  0 | 2021 |   0 |       NA |       NA | NA | NA | NA | NA | NA |\n| NA | 44.55771 | -121.8165 | -9999 | -9999 | -9999 | -9999 | -9999 | 0 | 2 | ⋯ |  0 | 2021 |   0 |       NA |       NA | NA | NA | NA | NA | NA |\n| NA | 44.55797 | -121.8159 | -9999 | -9999 | -9999 | -9999 | -9999 | 0 | 2 | ⋯ |  0 | 2021 |   0 |       NA |       NA | NA | NA | NA | NA | NA |\n| NA | 44.55824 | -121.8153 | -9999 | -9999 | -9999 | -9999 | -9999 | 0 | 2 | ⋯ |  0 | 2021 |   0 |       NA |       NA | NA | NA | NA | NA | NA |\n| NA | 44.55850 | -121.8147 | -9999 | -9999 | -9999 | -9999 | -9999 | 0 | 2 | ⋯ |  0 | 2021 |   0 |       NA |       NA | NA | NA | NA | NA | NA |\n| NA | 44.55877 | -121.8140 | -9999 | -9999 | -9999 | -9999 | -9999 | 0 | 2 | ⋯ |  0 | 2021 |   0 |       NA |       NA | NA | NA | NA | NA | NA |\n| NA | 44.55903 | -121.8134 | -9999 | -9999 | -9999 | -9999 | -9999 | 0 | 2 | ⋯ |  0 | 2021 |   0 |       NA |       NA | NA | NA | NA | NA | NA |\n| NA | 44.55930 | -121.8128 | -9999 | -9999 | -9999 | -9999 | -9999 | 0 | 2 | ⋯ |  0 | 2021 |   0 |       NA |       NA | NA | NA | NA | NA | NA |\n| NA | 44.55956 | -121.8122 | -9999 | -9999 | -9999 | -9999 | -9999 | 0 | 2 | ⋯ |  0 | 2021 |   0 |       NA |       NA | NA | NA | NA | NA | NA |\n| NA | 44.55982 | -121.8116 | -9999 | -9999 | -9999 | -9999 | -9999 | 0 | 2 | ⋯ |  0 | 2021 |   0 |       NA |       NA | NA | NA | NA | NA | NA |\n| NA | 44.56009 | -121.8110 | -9999 | -9999 | -9999 | -9999 | -9999 | 0 | 2 | ⋯ |  0 | 2021 |   0 |       NA |       NA | NA | NA | NA | NA | NA |\n| NA | 44.56035 | -121.8104 | -9999 | -9999 | -9999 | -9999 | -9999 | 0 | 2 | ⋯ |  0 | 2021 |   0 |       NA |       NA | NA | NA | NA | NA | NA |\n| NA | 44.56062 | -121.8097 | -9999 | -9999 | -9999 | -9999 | -9999 | 0 | 2 | ⋯ |  0 | 2021 |   0 |       NA |       NA | NA | NA | NA | NA | NA |\n| NA | 44.56088 | -121.8091 | -9999 | -9999 | -9999 | -9999 | -9999 | 0 | 2 | ⋯ |  6 | 2021 | 345 | 98.85274 | 224.2065 |  2 |  2 | NA | NA | NA |\n| NA | 44.56115 | -121.8085 | -9999 | -9999 | -9999 | -9999 | -9999 | 0 | 2 | ⋯ |  8 | 2021 | 233 | 51.73992 | 198.1262 |  1 |  1 | NA | NA | NA |\n| NA | 44.56141 | -121.8079 | -9999 | -9999 | -9999 | -9999 | -9999 | 0 | 2 | ⋯ |  6 | 2021 | 215 | 44.16822 | 144.7036 |  1 |  1 | NA | NA | NA |\n| NA | 44.56167 | -121.8073 | -9999 | -9999 | -9999 | -9999 | -9999 | 0 | 2 | ⋯ |  0 | 2021 |   0 |       NA |       NA | NA | NA | NA | NA | NA |\n| NA | 44.56194 | -121.8067 | -9999 | -9999 | -9999 | -9999 | -9999 | 0 | 2 | ⋯ |  0 | 2021 |   0 |       NA |       NA | NA | NA | NA | NA | NA |\n| NA | 44.56220 | -121.8061 | -9999 | -9999 | -9999 | -9999 | -9999 | 0 | 2 | ⋯ |  0 | 2021 |   0 |       NA |       NA | NA | NA | NA | NA | NA |\n\n",
            "text/latex": "A data.table: 224063 × 50\n\\begin{tabular}{lllllllllllllllllllll}\n agbd & lat\\_lowestmode & lon\\_lowestmode & agbd\\_pi\\_lower & agbd\\_pi\\_upper & agbd\\_se & agbd\\_t & agbd\\_t\\_se & algorithm\\_run\\_flag & channel & ⋯ & min.dsnr & year & min.endval & agbd\\_postval & agbd\\_preval & group\\_quantile & group & TNMID & HUC8 & Name\\\\\n <dbl> & <dbl> & <dbl> & <dbl> & <dbl> & <dbl> & <dbl> & <dbl> & <dbl> & <dbl> & ⋯ & <dbl> & <chr> & <dbl> & <dbl> & <dbl> & <int> & <int> & <chr> & <chr> & <chr>\\\\\n\\hline\n\t NA & 44.56872 & -122.0708 & -9999 & -9999 & -9999 & -9999 & -9999 & 0 & 0 & ⋯ & 0 & 2021 & 0 & NA & NA & NA & NA & NA & NA & NA\\\\\n\t NA & 44.57478 & -122.0849 & -9999 & -9999 & -9999 & -9999 & -9999 & 0 & 0 & ⋯ & 0 & 2021 & 0 & NA & NA & NA & NA & NA & NA & NA\\\\\n\t NA & 44.57452 & -122.0843 & -9999 & -9999 & -9999 & -9999 & -9999 & 0 & 0 & ⋯ & 0 & 2021 & 0 & NA & NA & NA & NA & NA & NA & NA\\\\\n\t NA & 44.57425 & -122.0837 & -9999 & -9999 & -9999 & -9999 & -9999 & 0 & 0 & ⋯ & 0 & 2021 & 0 & NA & NA & NA & NA & NA & NA & NA\\\\\n\t NA & 44.57399 & -122.0831 & -9999 & -9999 & -9999 & -9999 & -9999 & 0 & 0 & ⋯ & 0 & 2021 & 0 & NA & NA & NA & NA & NA & NA & NA\\\\\n\t NA & 44.57373 & -122.0825 & -9999 & -9999 & -9999 & -9999 & -9999 & 0 & 0 & ⋯ & 0 & 2021 & 0 & NA & NA & NA & NA & NA & NA & NA\\\\\n\t NA & 44.57346 & -122.0818 & -9999 & -9999 & -9999 & -9999 & -9999 & 0 & 0 & ⋯ & 0 & 2021 & 0 & NA & NA & NA & NA & NA & NA & NA\\\\\n\t NA & 44.57320 & -122.0812 & -9999 & -9999 & -9999 & -9999 & -9999 & 0 & 0 & ⋯ & 0 & 2021 & 0 & NA & NA & NA & NA & NA & NA & NA\\\\\n\t NA & 44.57294 & -122.0806 & -9999 & -9999 & -9999 & -9999 & -9999 & 0 & 0 & ⋯ & 0 & 2021 & 0 & NA & NA & NA & NA & NA & NA & NA\\\\\n\t NA & 44.57267 & -122.0800 & -9999 & -9999 & -9999 & -9999 & -9999 & 0 & 0 & ⋯ & 0 & 2021 & 0 & NA & NA & NA & NA & NA & NA & NA\\\\\n\t NA & 44.57241 & -122.0794 & -9999 & -9999 & -9999 & -9999 & -9999 & 0 & 0 & ⋯ & 0 & 2021 & 0 & NA & NA & NA & NA & NA & NA & NA\\\\\n\t NA & 44.57214 & -122.0788 & -9999 & -9999 & -9999 & -9999 & -9999 & 0 & 0 & ⋯ & 0 & 2021 & 0 & NA & NA & NA & NA & NA & NA & NA\\\\\n\t NA & 44.57188 & -122.0781 & -9999 & -9999 & -9999 & -9999 & -9999 & 0 & 0 & ⋯ & 0 & 2021 & 0 & NA & NA & NA & NA & NA & NA & NA\\\\\n\t NA & 44.57162 & -122.0775 & -9999 & -9999 & -9999 & -9999 & -9999 & 0 & 0 & ⋯ & 0 & 2021 & 0 & NA & NA & NA & NA & NA & NA & NA\\\\\n\t NA & 44.57135 & -122.0769 & -9999 & -9999 & -9999 & -9999 & -9999 & 0 & 0 & ⋯ & 0 & 2021 & 0 & NA & NA & NA & NA & NA & NA & NA\\\\\n\t NA & 44.57109 & -122.0763 & -9999 & -9999 & -9999 & -9999 & -9999 & 0 & 0 & ⋯ & 0 & 2021 & 0 & NA & NA & NA & NA & NA & NA & NA\\\\\n\t NA & 44.57083 & -122.0757 & -9999 & -9999 & -9999 & -9999 & -9999 & 0 & 0 & ⋯ & 0 & 2021 & 0 & NA & NA & NA & NA & NA & NA & NA\\\\\n\t NA & 44.57057 & -122.0751 & -9999 & -9999 & -9999 & -9999 & -9999 & 0 & 0 & ⋯ & 0 & 2021 & 0 & NA & NA & NA & NA & NA & NA & NA\\\\\n\t NA & 44.57030 & -122.0745 & -9999 & -9999 & -9999 & -9999 & -9999 & 0 & 0 & ⋯ & 0 & 2021 & 0 & NA & NA & NA & NA & NA & NA & NA\\\\\n\t NA & 44.57004 & -122.0738 & -9999 & -9999 & -9999 & -9999 & -9999 & 0 & 0 & ⋯ & 0 & 2021 & 0 & NA & NA & NA & NA & NA & NA & NA\\\\\n\t NA & 44.56977 & -122.0732 & -9999 & -9999 & -9999 & -9999 & -9999 & 0 & 0 & ⋯ & 0 & 2021 & 0 & NA & NA & NA & NA & NA & NA & NA\\\\\n\t NA & 44.56951 & -122.0726 & -9999 & -9999 & -9999 & -9999 & -9999 & 0 & 0 & ⋯ & 0 & 2021 & 0 & NA & NA & NA & NA & NA & NA & NA\\\\\n\t NA & 44.56925 & -122.0720 & -9999 & -9999 & -9999 & -9999 & -9999 & 0 & 0 & ⋯ & 0 & 2021 & 0 & NA & NA & NA & NA & NA & NA & NA\\\\\n\t NA & 44.56898 & -122.0714 & -9999 & -9999 & -9999 & -9999 & -9999 & 0 & 0 & ⋯ & 0 & 2021 & 0 & NA & NA & NA & NA & NA & NA & NA\\\\\n\t NA & 44.55682 & -122.0431 & -9999 & -9999 & -9999 & -9999 & -9999 & 0 & 0 & ⋯ & 0 & 2021 & 0 & NA & NA & NA & NA & NA & NA & NA\\\\\n\t NA & 44.55656 & -122.0425 & -9999 & -9999 & -9999 & -9999 & -9999 & 0 & 0 & ⋯ & 0 & 2021 & 0 & NA & NA & NA & NA & NA & NA & NA\\\\\n\t NA & 44.55629 & -122.0419 & -9999 & -9999 & -9999 & -9999 & -9999 & 0 & 0 & ⋯ & 0 & 2021 & 0 & NA & NA & NA & NA & NA & NA & NA\\\\\n\t NA & 44.55603 & -122.0413 & -9999 & -9999 & -9999 & -9999 & -9999 & 0 & 0 & ⋯ & 0 & 2021 & 0 & NA & NA & NA & NA & NA & NA & NA\\\\\n\t NA & 44.55576 & -122.0407 & -9999 & -9999 & -9999 & -9999 & -9999 & 0 & 0 & ⋯ & 0 & 2021 & 0 & NA & NA & NA & NA & NA & NA & NA\\\\\n\t NA & 44.55550 & -122.0401 & -9999 & -9999 & -9999 & -9999 & -9999 & 0 & 0 & ⋯ & 0 & 2021 & 0 & NA & NA & NA & NA & NA & NA & NA\\\\\n\t ⋮ & ⋮ & ⋮ & ⋮ & ⋮ & ⋮ & ⋮ & ⋮ & ⋮ & ⋮ & ⋱ & ⋮ & ⋮ & ⋮ & ⋮ & ⋮ & ⋮ & ⋮ & ⋮ & ⋮ & ⋮\\\\\n\t NA & 44.50876 & -121.8818 & -9999 & -9999 & -9999 & -9999 & -9999 & 0 & 5 & ⋯ &  5 & 2021 & 277 & 70.24853 & 224.6271 &  2 &  1 & NA & NA & NA\\\\\n\t NA & 44.50903 & -121.8812 & -9999 & -9999 & -9999 & -9999 & -9999 & 0 & 5 & ⋯ & 12 & 2021 & 220 & 46.27147 & 206.9598 &  1 &  1 & NA & NA & NA\\\\\n\t NA & 44.50930 & -121.8806 & -9999 & -9999 & -9999 & -9999 & -9999 & 0 & 5 & ⋯ & 10 & 2021 & 165 & 23.13571 & 206.5392 &  1 &  1 & NA & NA & NA\\\\\n\t NA & 44.50956 & -121.8800 & -9999 & -9999 & -9999 & -9999 & -9999 & 0 & 5 & ⋯ & 15 & 2021 & 143 & 13.88140 & 247.7629 &  1 &  1 & NA & NA & NA\\\\\n\t NA & 44.50983 & -121.8793 & -9999 & -9999 & -9999 & -9999 & -9999 & 0 & 5 & ⋯ & 10 & 2021 & 154 & 18.50856 & 132.5048 &  1 &  1 & NA & NA & NA\\\\\n\t NA & 44.51009 & -121.8787 & -9999 & -9999 & -9999 & -9999 & -9999 & 0 & 5 & ⋯ &  0 & 2021 &   0 &       NA &       NA & NA & NA & NA & NA & NA\\\\\n\t NA & 44.51036 & -121.8781 & -9999 & -9999 & -9999 & -9999 & -9999 & 0 & 5 & ⋯ &  0 & 2021 &   0 &       NA &       NA & NA & NA & NA & NA & NA\\\\\n\t NA & 44.51062 & -121.8775 & -9999 & -9999 & -9999 & -9999 & -9999 & 0 & 5 & ⋯ &  0 & 2021 &   0 &       NA &       NA & NA & NA & NA & NA & NA\\\\\n\t NA & 44.51089 & -121.8769 & -9999 & -9999 & -9999 & -9999 & -9999 & 0 & 5 & ⋯ &  7 & 2021 & 293 & 76.97893 & 181.3002 &  2 &  1 & NA & NA & NA\\\\\n\t NA & 44.51116 & -121.8763 & -9999 & -9999 & -9999 & -9999 & -9999 & 0 & 5 & ⋯ &  5 & 2021 & 334 & 94.22559 & 226.7304 &  2 &  2 & NA & NA & NA\\\\\n\t NA & 44.51142 & -121.8757 & -9999 & -9999 & -9999 & -9999 & -9999 & 0 & 5 & ⋯ &  7 & 2021 & 290 & 75.71698 & 248.6042 &  2 &  1 & NA & NA & NA\\\\\n\t NA & 44.55744 & -121.8171 & -9999 & -9999 & -9999 & -9999 & -9999 & 0 & 2 & ⋯ &  0 & 2021 &   0 &       NA &       NA & NA & NA & NA & NA & NA\\\\\n\t NA & 44.55771 & -121.8165 & -9999 & -9999 & -9999 & -9999 & -9999 & 0 & 2 & ⋯ &  0 & 2021 &   0 &       NA &       NA & NA & NA & NA & NA & NA\\\\\n\t NA & 44.55797 & -121.8159 & -9999 & -9999 & -9999 & -9999 & -9999 & 0 & 2 & ⋯ &  0 & 2021 &   0 &       NA &       NA & NA & NA & NA & NA & NA\\\\\n\t NA & 44.55824 & -121.8153 & -9999 & -9999 & -9999 & -9999 & -9999 & 0 & 2 & ⋯ &  0 & 2021 &   0 &       NA &       NA & NA & NA & NA & NA & NA\\\\\n\t NA & 44.55850 & -121.8147 & -9999 & -9999 & -9999 & -9999 & -9999 & 0 & 2 & ⋯ &  0 & 2021 &   0 &       NA &       NA & NA & NA & NA & NA & NA\\\\\n\t NA & 44.55877 & -121.8140 & -9999 & -9999 & -9999 & -9999 & -9999 & 0 & 2 & ⋯ &  0 & 2021 &   0 &       NA &       NA & NA & NA & NA & NA & NA\\\\\n\t NA & 44.55903 & -121.8134 & -9999 & -9999 & -9999 & -9999 & -9999 & 0 & 2 & ⋯ &  0 & 2021 &   0 &       NA &       NA & NA & NA & NA & NA & NA\\\\\n\t NA & 44.55930 & -121.8128 & -9999 & -9999 & -9999 & -9999 & -9999 & 0 & 2 & ⋯ &  0 & 2021 &   0 &       NA &       NA & NA & NA & NA & NA & NA\\\\\n\t NA & 44.55956 & -121.8122 & -9999 & -9999 & -9999 & -9999 & -9999 & 0 & 2 & ⋯ &  0 & 2021 &   0 &       NA &       NA & NA & NA & NA & NA & NA\\\\\n\t NA & 44.55982 & -121.8116 & -9999 & -9999 & -9999 & -9999 & -9999 & 0 & 2 & ⋯ &  0 & 2021 &   0 &       NA &       NA & NA & NA & NA & NA & NA\\\\\n\t NA & 44.56009 & -121.8110 & -9999 & -9999 & -9999 & -9999 & -9999 & 0 & 2 & ⋯ &  0 & 2021 &   0 &       NA &       NA & NA & NA & NA & NA & NA\\\\\n\t NA & 44.56035 & -121.8104 & -9999 & -9999 & -9999 & -9999 & -9999 & 0 & 2 & ⋯ &  0 & 2021 &   0 &       NA &       NA & NA & NA & NA & NA & NA\\\\\n\t NA & 44.56062 & -121.8097 & -9999 & -9999 & -9999 & -9999 & -9999 & 0 & 2 & ⋯ &  0 & 2021 &   0 &       NA &       NA & NA & NA & NA & NA & NA\\\\\n\t NA & 44.56088 & -121.8091 & -9999 & -9999 & -9999 & -9999 & -9999 & 0 & 2 & ⋯ &  6 & 2021 & 345 & 98.85274 & 224.2065 &  2 &  2 & NA & NA & NA\\\\\n\t NA & 44.56115 & -121.8085 & -9999 & -9999 & -9999 & -9999 & -9999 & 0 & 2 & ⋯ &  8 & 2021 & 233 & 51.73992 & 198.1262 &  1 &  1 & NA & NA & NA\\\\\n\t NA & 44.56141 & -121.8079 & -9999 & -9999 & -9999 & -9999 & -9999 & 0 & 2 & ⋯ &  6 & 2021 & 215 & 44.16822 & 144.7036 &  1 &  1 & NA & NA & NA\\\\\n\t NA & 44.56167 & -121.8073 & -9999 & -9999 & -9999 & -9999 & -9999 & 0 & 2 & ⋯ &  0 & 2021 &   0 &       NA &       NA & NA & NA & NA & NA & NA\\\\\n\t NA & 44.56194 & -121.8067 & -9999 & -9999 & -9999 & -9999 & -9999 & 0 & 2 & ⋯ &  0 & 2021 &   0 &       NA &       NA & NA & NA & NA & NA & NA\\\\\n\t NA & 44.56220 & -121.8061 & -9999 & -9999 & -9999 & -9999 & -9999 & 0 & 2 & ⋯ &  0 & 2021 &   0 &       NA &       NA & NA & NA & NA & NA & NA\\\\\n\\end{tabular}\n",
            "text/plain": [
              "       agbd lat_lowestmode lon_lowestmode agbd_pi_lower agbd_pi_upper agbd_se\n",
              "1      NA   44.56872       -122.0708      -9999         -9999         -9999  \n",
              "2      NA   44.57478       -122.0849      -9999         -9999         -9999  \n",
              "3      NA   44.57452       -122.0843      -9999         -9999         -9999  \n",
              "4      NA   44.57425       -122.0837      -9999         -9999         -9999  \n",
              "5      NA   44.57399       -122.0831      -9999         -9999         -9999  \n",
              "6      NA   44.57373       -122.0825      -9999         -9999         -9999  \n",
              "7      NA   44.57346       -122.0818      -9999         -9999         -9999  \n",
              "8      NA   44.57320       -122.0812      -9999         -9999         -9999  \n",
              "9      NA   44.57294       -122.0806      -9999         -9999         -9999  \n",
              "10     NA   44.57267       -122.0800      -9999         -9999         -9999  \n",
              "11     NA   44.57241       -122.0794      -9999         -9999         -9999  \n",
              "12     NA   44.57214       -122.0788      -9999         -9999         -9999  \n",
              "13     NA   44.57188       -122.0781      -9999         -9999         -9999  \n",
              "14     NA   44.57162       -122.0775      -9999         -9999         -9999  \n",
              "15     NA   44.57135       -122.0769      -9999         -9999         -9999  \n",
              "16     NA   44.57109       -122.0763      -9999         -9999         -9999  \n",
              "17     NA   44.57083       -122.0757      -9999         -9999         -9999  \n",
              "18     NA   44.57057       -122.0751      -9999         -9999         -9999  \n",
              "19     NA   44.57030       -122.0745      -9999         -9999         -9999  \n",
              "20     NA   44.57004       -122.0738      -9999         -9999         -9999  \n",
              "21     NA   44.56977       -122.0732      -9999         -9999         -9999  \n",
              "22     NA   44.56951       -122.0726      -9999         -9999         -9999  \n",
              "23     NA   44.56925       -122.0720      -9999         -9999         -9999  \n",
              "24     NA   44.56898       -122.0714      -9999         -9999         -9999  \n",
              "25     NA   44.55682       -122.0431      -9999         -9999         -9999  \n",
              "26     NA   44.55656       -122.0425      -9999         -9999         -9999  \n",
              "27     NA   44.55629       -122.0419      -9999         -9999         -9999  \n",
              "28     NA   44.55603       -122.0413      -9999         -9999         -9999  \n",
              "29     NA   44.55576       -122.0407      -9999         -9999         -9999  \n",
              "30     NA   44.55550       -122.0401      -9999         -9999         -9999  \n",
              "⋮      ⋮    ⋮              ⋮              ⋮             ⋮             ⋮      \n",
              "224034 NA   44.50876       -121.8818      -9999         -9999         -9999  \n",
              "224035 NA   44.50903       -121.8812      -9999         -9999         -9999  \n",
              "224036 NA   44.50930       -121.8806      -9999         -9999         -9999  \n",
              "224037 NA   44.50956       -121.8800      -9999         -9999         -9999  \n",
              "224038 NA   44.50983       -121.8793      -9999         -9999         -9999  \n",
              "224039 NA   44.51009       -121.8787      -9999         -9999         -9999  \n",
              "224040 NA   44.51036       -121.8781      -9999         -9999         -9999  \n",
              "224041 NA   44.51062       -121.8775      -9999         -9999         -9999  \n",
              "224042 NA   44.51089       -121.8769      -9999         -9999         -9999  \n",
              "224043 NA   44.51116       -121.8763      -9999         -9999         -9999  \n",
              "224044 NA   44.51142       -121.8757      -9999         -9999         -9999  \n",
              "224045 NA   44.55744       -121.8171      -9999         -9999         -9999  \n",
              "224046 NA   44.55771       -121.8165      -9999         -9999         -9999  \n",
              "224047 NA   44.55797       -121.8159      -9999         -9999         -9999  \n",
              "224048 NA   44.55824       -121.8153      -9999         -9999         -9999  \n",
              "224049 NA   44.55850       -121.8147      -9999         -9999         -9999  \n",
              "224050 NA   44.55877       -121.8140      -9999         -9999         -9999  \n",
              "224051 NA   44.55903       -121.8134      -9999         -9999         -9999  \n",
              "224052 NA   44.55930       -121.8128      -9999         -9999         -9999  \n",
              "224053 NA   44.55956       -121.8122      -9999         -9999         -9999  \n",
              "224054 NA   44.55982       -121.8116      -9999         -9999         -9999  \n",
              "224055 NA   44.56009       -121.8110      -9999         -9999         -9999  \n",
              "224056 NA   44.56035       -121.8104      -9999         -9999         -9999  \n",
              "224057 NA   44.56062       -121.8097      -9999         -9999         -9999  \n",
              "224058 NA   44.56088       -121.8091      -9999         -9999         -9999  \n",
              "224059 NA   44.56115       -121.8085      -9999         -9999         -9999  \n",
              "224060 NA   44.56141       -121.8079      -9999         -9999         -9999  \n",
              "224061 NA   44.56167       -121.8073      -9999         -9999         -9999  \n",
              "224062 NA   44.56194       -121.8067      -9999         -9999         -9999  \n",
              "224063 NA   44.56220       -121.8061      -9999         -9999         -9999  \n",
              "       agbd_t agbd_t_se algorithm_run_flag channel ⋯ min.dsnr year min.endval\n",
              "1      -9999  -9999     0                  0       ⋯ 0        2021 0         \n",
              "2      -9999  -9999     0                  0       ⋯ 0        2021 0         \n",
              "3      -9999  -9999     0                  0       ⋯ 0        2021 0         \n",
              "4      -9999  -9999     0                  0       ⋯ 0        2021 0         \n",
              "5      -9999  -9999     0                  0       ⋯ 0        2021 0         \n",
              "6      -9999  -9999     0                  0       ⋯ 0        2021 0         \n",
              "7      -9999  -9999     0                  0       ⋯ 0        2021 0         \n",
              "8      -9999  -9999     0                  0       ⋯ 0        2021 0         \n",
              "9      -9999  -9999     0                  0       ⋯ 0        2021 0         \n",
              "10     -9999  -9999     0                  0       ⋯ 0        2021 0         \n",
              "11     -9999  -9999     0                  0       ⋯ 0        2021 0         \n",
              "12     -9999  -9999     0                  0       ⋯ 0        2021 0         \n",
              "13     -9999  -9999     0                  0       ⋯ 0        2021 0         \n",
              "14     -9999  -9999     0                  0       ⋯ 0        2021 0         \n",
              "15     -9999  -9999     0                  0       ⋯ 0        2021 0         \n",
              "16     -9999  -9999     0                  0       ⋯ 0        2021 0         \n",
              "17     -9999  -9999     0                  0       ⋯ 0        2021 0         \n",
              "18     -9999  -9999     0                  0       ⋯ 0        2021 0         \n",
              "19     -9999  -9999     0                  0       ⋯ 0        2021 0         \n",
              "20     -9999  -9999     0                  0       ⋯ 0        2021 0         \n",
              "21     -9999  -9999     0                  0       ⋯ 0        2021 0         \n",
              "22     -9999  -9999     0                  0       ⋯ 0        2021 0         \n",
              "23     -9999  -9999     0                  0       ⋯ 0        2021 0         \n",
              "24     -9999  -9999     0                  0       ⋯ 0        2021 0         \n",
              "25     -9999  -9999     0                  0       ⋯ 0        2021 0         \n",
              "26     -9999  -9999     0                  0       ⋯ 0        2021 0         \n",
              "27     -9999  -9999     0                  0       ⋯ 0        2021 0         \n",
              "28     -9999  -9999     0                  0       ⋯ 0        2021 0         \n",
              "29     -9999  -9999     0                  0       ⋯ 0        2021 0         \n",
              "30     -9999  -9999     0                  0       ⋯ 0        2021 0         \n",
              "⋮      ⋮      ⋮         ⋮                  ⋮       ⋱ ⋮        ⋮    ⋮         \n",
              "224034 -9999  -9999     0                  5       ⋯  5       2021 277       \n",
              "224035 -9999  -9999     0                  5       ⋯ 12       2021 220       \n",
              "224036 -9999  -9999     0                  5       ⋯ 10       2021 165       \n",
              "224037 -9999  -9999     0                  5       ⋯ 15       2021 143       \n",
              "224038 -9999  -9999     0                  5       ⋯ 10       2021 154       \n",
              "224039 -9999  -9999     0                  5       ⋯  0       2021   0       \n",
              "224040 -9999  -9999     0                  5       ⋯  0       2021   0       \n",
              "224041 -9999  -9999     0                  5       ⋯  0       2021   0       \n",
              "224042 -9999  -9999     0                  5       ⋯  7       2021 293       \n",
              "224043 -9999  -9999     0                  5       ⋯  5       2021 334       \n",
              "224044 -9999  -9999     0                  5       ⋯  7       2021 290       \n",
              "224045 -9999  -9999     0                  2       ⋯  0       2021   0       \n",
              "224046 -9999  -9999     0                  2       ⋯  0       2021   0       \n",
              "224047 -9999  -9999     0                  2       ⋯  0       2021   0       \n",
              "224048 -9999  -9999     0                  2       ⋯  0       2021   0       \n",
              "224049 -9999  -9999     0                  2       ⋯  0       2021   0       \n",
              "224050 -9999  -9999     0                  2       ⋯  0       2021   0       \n",
              "224051 -9999  -9999     0                  2       ⋯  0       2021   0       \n",
              "224052 -9999  -9999     0                  2       ⋯  0       2021   0       \n",
              "224053 -9999  -9999     0                  2       ⋯  0       2021   0       \n",
              "224054 -9999  -9999     0                  2       ⋯  0       2021   0       \n",
              "224055 -9999  -9999     0                  2       ⋯  0       2021   0       \n",
              "224056 -9999  -9999     0                  2       ⋯  0       2021   0       \n",
              "224057 -9999  -9999     0                  2       ⋯  0       2021   0       \n",
              "224058 -9999  -9999     0                  2       ⋯  6       2021 345       \n",
              "224059 -9999  -9999     0                  2       ⋯  8       2021 233       \n",
              "224060 -9999  -9999     0                  2       ⋯  6       2021 215       \n",
              "224061 -9999  -9999     0                  2       ⋯  0       2021   0       \n",
              "224062 -9999  -9999     0                  2       ⋯  0       2021   0       \n",
              "224063 -9999  -9999     0                  2       ⋯  0       2021   0       \n",
              "       agbd_postval agbd_preval group_quantile group TNMID HUC8 Name\n",
              "1      NA           NA          NA             NA    NA    NA   NA  \n",
              "2      NA           NA          NA             NA    NA    NA   NA  \n",
              "3      NA           NA          NA             NA    NA    NA   NA  \n",
              "4      NA           NA          NA             NA    NA    NA   NA  \n",
              "5      NA           NA          NA             NA    NA    NA   NA  \n",
              "6      NA           NA          NA             NA    NA    NA   NA  \n",
              "7      NA           NA          NA             NA    NA    NA   NA  \n",
              "8      NA           NA          NA             NA    NA    NA   NA  \n",
              "9      NA           NA          NA             NA    NA    NA   NA  \n",
              "10     NA           NA          NA             NA    NA    NA   NA  \n",
              "11     NA           NA          NA             NA    NA    NA   NA  \n",
              "12     NA           NA          NA             NA    NA    NA   NA  \n",
              "13     NA           NA          NA             NA    NA    NA   NA  \n",
              "14     NA           NA          NA             NA    NA    NA   NA  \n",
              "15     NA           NA          NA             NA    NA    NA   NA  \n",
              "16     NA           NA          NA             NA    NA    NA   NA  \n",
              "17     NA           NA          NA             NA    NA    NA   NA  \n",
              "18     NA           NA          NA             NA    NA    NA   NA  \n",
              "19     NA           NA          NA             NA    NA    NA   NA  \n",
              "20     NA           NA          NA             NA    NA    NA   NA  \n",
              "21     NA           NA          NA             NA    NA    NA   NA  \n",
              "22     NA           NA          NA             NA    NA    NA   NA  \n",
              "23     NA           NA          NA             NA    NA    NA   NA  \n",
              "24     NA           NA          NA             NA    NA    NA   NA  \n",
              "25     NA           NA          NA             NA    NA    NA   NA  \n",
              "26     NA           NA          NA             NA    NA    NA   NA  \n",
              "27     NA           NA          NA             NA    NA    NA   NA  \n",
              "28     NA           NA          NA             NA    NA    NA   NA  \n",
              "29     NA           NA          NA             NA    NA    NA   NA  \n",
              "30     NA           NA          NA             NA    NA    NA   NA  \n",
              "⋮      ⋮            ⋮           ⋮              ⋮     ⋮     ⋮    ⋮   \n",
              "224034 70.24853     224.6271     2              1    NA    NA   NA  \n",
              "224035 46.27147     206.9598     1              1    NA    NA   NA  \n",
              "224036 23.13571     206.5392     1              1    NA    NA   NA  \n",
              "224037 13.88140     247.7629     1              1    NA    NA   NA  \n",
              "224038 18.50856     132.5048     1              1    NA    NA   NA  \n",
              "224039       NA           NA    NA             NA    NA    NA   NA  \n",
              "224040       NA           NA    NA             NA    NA    NA   NA  \n",
              "224041       NA           NA    NA             NA    NA    NA   NA  \n",
              "224042 76.97893     181.3002     2              1    NA    NA   NA  \n",
              "224043 94.22559     226.7304     2              2    NA    NA   NA  \n",
              "224044 75.71698     248.6042     2              1    NA    NA   NA  \n",
              "224045       NA           NA    NA             NA    NA    NA   NA  \n",
              "224046       NA           NA    NA             NA    NA    NA   NA  \n",
              "224047       NA           NA    NA             NA    NA    NA   NA  \n",
              "224048       NA           NA    NA             NA    NA    NA   NA  \n",
              "224049       NA           NA    NA             NA    NA    NA   NA  \n",
              "224050       NA           NA    NA             NA    NA    NA   NA  \n",
              "224051       NA           NA    NA             NA    NA    NA   NA  \n",
              "224052       NA           NA    NA             NA    NA    NA   NA  \n",
              "224053       NA           NA    NA             NA    NA    NA   NA  \n",
              "224054       NA           NA    NA             NA    NA    NA   NA  \n",
              "224055       NA           NA    NA             NA    NA    NA   NA  \n",
              "224056       NA           NA    NA             NA    NA    NA   NA  \n",
              "224057       NA           NA    NA             NA    NA    NA   NA  \n",
              "224058 98.85274     224.2065     2              2    NA    NA   NA  \n",
              "224059 51.73992     198.1262     1              1    NA    NA   NA  \n",
              "224060 44.16822     144.7036     1              1    NA    NA   NA  \n",
              "224061       NA           NA    NA             NA    NA    NA   NA  \n",
              "224062       NA           NA    NA             NA    NA    NA   NA  \n",
              "224063       NA           NA    NA             NA    NA    NA   NA  "
            ]
          },
          "metadata": {}
        }
      ]
    },
    {
      "cell_type": "code",
      "source": [
        "huc_8_summary_dt <- data.table(summary_dt, (huc_8_gpgk %>% data.table)[,c('TNMID','HUC8','Name')][huc_8_int %>% lapply(function(x){x[1]}) %>% unlist,])\n",
        "huc_10_summary_dt <- data.table(summary_dt, (huc_10_gpgk %>% data.table)[,c('TNMID','HUC10','Name')][huc_10_int %>% lapply(function(x){x[1]}) %>% unlist,])\n",
        "huc_12_summary_dt <- data.table(summary_dt, (huc_12_gpgk %>% data.table)[,c('TNMID','HUC12','Name')][huc_12_int %>% lapply(function(x){x[1]}) %>% unlist,])"
      ],
      "metadata": {
        "id": "iOz_SsQsyvv8"
      },
      "execution_count": 19,
      "outputs": []
    },
    {
      "cell_type": "code",
      "source": [
        "# # resample_dt[,agbd := rnorm(1,agbd,agbd_se),by=row_id]\n",
        "# # gc()\n",
        "# resamp_vec <-\n",
        "# 1:nrow(resample_dt) %>%\n",
        "#   lapply(function(x){\n",
        "#     if(!is.na())\n",
        "#     rnorm(1,resample_dt$agbd[[x]],resample_dt$agbd_sd[[x]])\n",
        "#   })\n",
        "resample_dt <- NULL\n",
        "gc()"
      ],
      "metadata": {
        "id": "pYI05ddv2IVy",
        "outputId": "625bcb0a-733a-41ba-b6f2-438606ada6a0",
        "colab": {
          "base_uri": "https://localhost:8080/",
          "height": 129
        }
      },
      "execution_count": 20,
      "outputs": [
        {
          "output_type": "display_data",
          "data": {
            "text/html": [
              "<table class=\"dataframe\">\n",
              "<caption>A matrix: 2 × 6 of type dbl</caption>\n",
              "<thead>\n",
              "\t<tr><th></th><th scope=col>used</th><th scope=col>(Mb)</th><th scope=col>gc trigger</th><th scope=col>(Mb)</th><th scope=col>max used</th><th scope=col>(Mb)</th></tr>\n",
              "</thead>\n",
              "<tbody>\n",
              "\t<tr><th scope=row>Ncells</th><td> 17572389</td><td> 938.5</td><td> 29231660</td><td>1561.2</td><td> 29231660</td><td>1561.2</td></tr>\n",
              "\t<tr><th scope=row>Vcells</th><td>364972960</td><td>2784.6</td><td>595222802</td><td>4541.2</td><td>368353392</td><td>2810.4</td></tr>\n",
              "</tbody>\n",
              "</table>\n"
            ],
            "text/markdown": "\nA matrix: 2 × 6 of type dbl\n\n| <!--/--> | used | (Mb) | gc trigger | (Mb) | max used | (Mb) |\n|---|---|---|---|---|---|---|\n| Ncells |  17572389 |  938.5 |  29231660 | 1561.2 |  29231660 | 1561.2 |\n| Vcells | 364972960 | 2784.6 | 595222802 | 4541.2 | 368353392 | 2810.4 |\n\n",
            "text/latex": "A matrix: 2 × 6 of type dbl\n\\begin{tabular}{r|llllll}\n  & used & (Mb) & gc trigger & (Mb) & max used & (Mb)\\\\\n\\hline\n\tNcells &  17572389 &  938.5 &  29231660 & 1561.2 &  29231660 & 1561.2\\\\\n\tVcells & 364972960 & 2784.6 & 595222802 & 4541.2 & 368353392 & 2810.4\\\\\n\\end{tabular}\n",
            "text/plain": [
              "       used      (Mb)   gc trigger (Mb)   max used  (Mb)  \n",
              "Ncells  17572389  938.5  29231660  1561.2  29231660 1561.2\n",
              "Vcells 364972960 2784.6 595222802  4541.2 368353392 2810.4"
            ]
          },
          "metadata": {}
        }
      ]
    },
    {
      "cell_type": "code",
      "source": [
        "summary_dt[,group_quantile:=as.integer(cut(agbd_postval, breaks = quantile(agbd_postval[!is.na(agbd) & median.preval > 0], probs = seq(0, 1, by = 1/3),na.rm=T), labels = FALSE, include.lowest = TRUE)) ]\n",
        "summary_dt$group <- NA\n",
        "# summary_dt[!is.na(agbd) & median.preval > 0, group_quantile := kmeans(((median.preval - median.mag) / median.preval)[.I], centers = 4)$cluster]\n",
        "\n",
        "\n",
        "\n",
        "summary_dt$group <- NA\n",
        "summary_dt[!is.na(agbd_postval), group := kmeans((agbd_postval)[.I], centers = 3)$cluster]\n",
        "\n",
        "\n",
        "cluster_dt <- summary_dt[!is.na(agbd) & median.preval > 0,list(agbd_postval = mean(agbd_postval)),by=group][order(agbd_postval)]\n",
        "cluster_dt$group_new <- 1:nrow(cluster_dt)\n",
        "cluster_dt <- cluster_dt[order(group)]\n",
        "# print(cluster_dt)\n",
        "summary_dt$group <- cluster_dt$group_new[summary_dt$group]\n",
        "\n",
        "summary_dt[,list(agbd_postval = mean(agbd_postval),n = length(agbd_postval)),by=group_quantile][order(agbd_postval)]\n",
        "\n",
        "summary_dt[,list(agbd_postval = mean(agbd_postval),n = length(agbd_postval)),by=group][order(agbd_postval)]"
      ],
      "metadata": {
        "id": "S-SATZn8zk19",
        "outputId": "b25251b5-25e0-46b2-e85e-26cb11d73ef1",
        "colab": {
          "base_uri": "https://localhost:8080/",
          "height": 429
        }
      },
      "execution_count": 56,
      "outputs": [
        {
          "output_type": "display_data",
          "data": {
            "text/html": [
              "<table class=\"dataframe\">\n",
              "<caption>A data.table: 4 × 3</caption>\n",
              "<thead>\n",
              "\t<tr><th scope=col>group_quantile</th><th scope=col>agbd_postval</th><th scope=col>n</th></tr>\n",
              "\t<tr><th scope=col>&lt;int&gt;</th><th scope=col>&lt;dbl&gt;</th><th scope=col>&lt;int&gt;</th></tr>\n",
              "</thead>\n",
              "<tbody>\n",
              "\t<tr><td> 1</td><td> 41.82517</td><td> 18356</td></tr>\n",
              "\t<tr><td> 2</td><td> 87.43930</td><td> 18319</td></tr>\n",
              "\t<tr><td> 3</td><td>161.31282</td><td> 18850</td></tr>\n",
              "\t<tr><td>NA</td><td>       NA</td><td>168538</td></tr>\n",
              "</tbody>\n",
              "</table>\n"
            ],
            "text/markdown": "\nA data.table: 4 × 3\n\n| group_quantile &lt;int&gt; | agbd_postval &lt;dbl&gt; | n &lt;int&gt; |\n|---|---|---|\n|  1 |  41.82517 |  18356 |\n|  2 |  87.43930 |  18319 |\n|  3 | 161.31282 |  18850 |\n| NA |        NA | 168538 |\n\n",
            "text/latex": "A data.table: 4 × 3\n\\begin{tabular}{lll}\n group\\_quantile & agbd\\_postval & n\\\\\n <int> & <dbl> & <int>\\\\\n\\hline\n\t  1 &  41.82517 &  18356\\\\\n\t  2 &  87.43930 &  18319\\\\\n\t  3 & 161.31282 &  18850\\\\\n\t NA &        NA & 168538\\\\\n\\end{tabular}\n",
            "text/plain": [
              "  group_quantile agbd_postval n     \n",
              "1  1              41.82517     18356\n",
              "2  2              87.43930     18319\n",
              "3  3             161.31282     18850\n",
              "4 NA                    NA    168538"
            ]
          },
          "metadata": {}
        },
        {
          "output_type": "display_data",
          "data": {
            "text/html": [
              "<table class=\"dataframe\">\n",
              "<caption>A data.table: 4 × 3</caption>\n",
              "<thead>\n",
              "\t<tr><th scope=col>group</th><th scope=col>agbd_postval</th><th scope=col>n</th></tr>\n",
              "\t<tr><th scope=col>&lt;int&gt;</th><th scope=col>&lt;dbl&gt;</th><th scope=col>&lt;int&gt;</th></tr>\n",
              "</thead>\n",
              "<tbody>\n",
              "\t<tr><td> 1</td><td> 49.92402</td><td> 25343</td></tr>\n",
              "\t<tr><td> 2</td><td>110.27562</td><td> 18474</td></tr>\n",
              "\t<tr><td> 3</td><td>180.03363</td><td> 11708</td></tr>\n",
              "\t<tr><td>NA</td><td>       NA</td><td>168538</td></tr>\n",
              "</tbody>\n",
              "</table>\n"
            ],
            "text/markdown": "\nA data.table: 4 × 3\n\n| group &lt;int&gt; | agbd_postval &lt;dbl&gt; | n &lt;int&gt; |\n|---|---|---|\n|  1 |  49.92402 |  25343 |\n|  2 | 110.27562 |  18474 |\n|  3 | 180.03363 |  11708 |\n| NA |        NA | 168538 |\n\n",
            "text/latex": "A data.table: 4 × 3\n\\begin{tabular}{lll}\n group & agbd\\_postval & n\\\\\n <int> & <dbl> & <int>\\\\\n\\hline\n\t  1 &  49.92402 &  25343\\\\\n\t  2 & 110.27562 &  18474\\\\\n\t  3 & 180.03363 &  11708\\\\\n\t NA &        NA & 168538\\\\\n\\end{tabular}\n",
            "text/plain": [
              "  group agbd_postval n     \n",
              "1  1     49.92402     25343\n",
              "2  2    110.27562     18474\n",
              "3  3    180.03363     11708\n",
              "4 NA           NA    168538"
            ]
          },
          "metadata": {}
        }
      ]
    },
    {
      "cell_type": "code",
      "source": [
        "# install.packages('randomForest')"
      ],
      "metadata": {
        "id": "ktLhWRVBWofl",
        "outputId": "aec68024-22b2-4d90-d727-2cba968f9bca",
        "colab": {
          "base_uri": "https://localhost:8080/"
        }
      },
      "execution_count": 351,
      "outputs": [
        {
          "output_type": "stream",
          "name": "stderr",
          "text": [
            "Installing package into ‘/usr/local/lib/R/site-library’\n",
            "(as ‘lib’ is unspecified)\n",
            "\n"
          ]
        }
      ]
    },
    {
      "cell_type": "code",
      "source": [
        "# library(randomForest)"
      ],
      "metadata": {
        "id": "ou99rvW2WmRt",
        "outputId": "256787c5-60ab-4702-9e0a-8e384b5070d2",
        "colab": {
          "base_uri": "https://localhost:8080/"
        }
      },
      "execution_count": 352,
      "outputs": [
        {
          "output_type": "stream",
          "name": "stderr",
          "text": [
            "randomForest 4.7-1.1\n",
            "\n",
            "Type rfNews() to see new features/changes/bug fixes.\n",
            "\n",
            "\n",
            "Attaching package: ‘randomForest’\n",
            "\n",
            "\n",
            "The following object is masked from ‘package:ggplot2’:\n",
            "\n",
            "    margin\n",
            "\n",
            "\n"
          ]
        }
      ]
    },
    {
      "cell_type": "code",
      "source": [
        "rf_result %>% varImpPlot"
      ],
      "metadata": {
        "id": "icMSSOV1X2Rr",
        "outputId": "f2176731-9b3c-41fc-c5da-186388af420d",
        "colab": {
          "base_uri": "https://localhost:8080/",
          "height": 437
        }
      },
      "execution_count": 389,
      "outputs": [
        {
          "output_type": "display_data",
          "data": {
            "text/plain": [
              "Plot with title “.”"
            ],
            "image/png": "[encoded data removed]"
          },
          "metadata": {
            "image/png": {
              "width": 420,
              "height": 420
            }
          }
        }
      ]
    },
    {
      "cell_type": "code",
      "source": [
        "calibration_post_dt <- resample_dt[min.yod>1984 & !is.na(agbd) & min.yod > (year %>% as.numeric) & max.yod < (year %>% as.numeric)+5,]\n",
        "calibration_dt$id <- 1:nrow(calibration_dt)\n",
        "calibration_dt[,post_val := mean(mean.preval - mean.mag),by = id]\n",
        "calibration_dt[,group_quantile:=as.integer(cut(agbd, breaks = quantile(agbd, probs = seq(0, 1, by = 1/3),na.rm=T), labels = FALSE, include.lowest = TRUE)) %>% factor ]\n",
        "calibration_dt %>%\n",
        "  ggplot(aes(x=agbd))+\n",
        "  geom_boxplot(aes(color=group_quantile))\n",
        "names(calibration_dt)\n",
        "rf_form <- as.formula(paste('group_quantile ~',c('post_val',(calibration_dt %>% names)[18:41]) %>% paste(.,collapse = '+')))\n",
        "resample_dt$id <- 1:nrow(resample_dt)\n",
        "\n",
        "resample_dt[,group_quantile:=as.integer(cut(agbd, breaks = quantile(agbd, probs = seq(0, 1, by = 1/3),na.rm=T), labels = FALSE, include.lowest = TRUE)) %>% factor ]\n",
        "\n",
        "resample_dt[,post_val := mean(mean.preval - mean.mag),by = id]\n",
        "rf_result <-  randomForest(rf_form,resample_dt[min.yod>1984 & !is.na(agbd)])\n"
      ],
      "metadata": {
        "id": "_3MjrahgsDKj",
        "outputId": "8dd227dc-d83c-4b48-ce43-2393575bb525",
        "colab": {
          "base_uri": "https://localhost:8080/",
          "height": 541
        }
      },
      "execution_count": 386,
      "outputs": [
        {
          "output_type": "display_data",
          "data": {
            "text/html": [
              "<style>\n",
              ".list-inline {list-style: none; margin:0; padding: 0}\n",
              ".list-inline>li {display: inline-block}\n",
              ".list-inline>li:not(:last-child)::after {content: \"\\00b7\"; padding: 0 .5ex}\n",
              "</style>\n",
              "<ol class=list-inline><li>'agbd'</li><li>'lat_lowestmode'</li><li>'lon_lowestmode'</li><li>'agbd_pi_lower'</li><li>'agbd_pi_upper'</li><li>'agbd_se'</li><li>'agbd_t'</li><li>'agbd_t_se'</li><li>'algorithm_run_flag'</li><li>'channel'</li><li>'degrade_flag'</li><li>'delta_time'</li><li>'elev_lowestmode'</li><li>'l2_quality_flag'</li><li>'l4_quality_flag'</li><li>'geom'</li><li>'geom_buffer'</li><li>'max.yod'</li><li>'max.mag'</li><li>'max.dur'</li><li>'max.preval'</li><li>'max.rate'</li><li>'max.dsnr'</li><li>'mean.yod'</li><li>'mean.mag'</li><li>'mean.dur'</li><li>'mean.preval'</li><li>'mean.rate'</li><li>'mean.dsnr'</li><li>'median.yod'</li><li>'median.mag'</li><li>'median.dur'</li><li>'median.preval'</li><li>'median.rate'</li><li>'median.dsnr'</li><li>'min.yod'</li><li>'min.mag'</li><li>'min.dur'</li><li>'min.preval'</li><li>'min.rate'</li><li>'min.dsnr'</li><li>'year'</li><li>'min.endval'</li><li>'agbd_postval'</li><li>'agbd_preval'</li><li>'group_quantile'</li><li>'group'</li><li>'FIRE_NUM'</li><li>'FIRE_CODE'</li><li>'FIRE_NAME'</li><li>'FIRE_YEAR'</li><li>'group_agbd_preval'</li><li>'group_agbd_postval'</li><li>'id'</li><li>'post_val'</li></ol>\n"
            ],
            "text/markdown": "1. 'agbd'\n2. 'lat_lowestmode'\n3. 'lon_lowestmode'\n4. 'agbd_pi_lower'\n5. 'agbd_pi_upper'\n6. 'agbd_se'\n7. 'agbd_t'\n8. 'agbd_t_se'\n9. 'algorithm_run_flag'\n10. 'channel'\n11. 'degrade_flag'\n12. 'delta_time'\n13. 'elev_lowestmode'\n14. 'l2_quality_flag'\n15. 'l4_quality_flag'\n16. 'geom'\n17. 'geom_buffer'\n18. 'max.yod'\n19. 'max.mag'\n20. 'max.dur'\n21. 'max.preval'\n22. 'max.rate'\n23. 'max.dsnr'\n24. 'mean.yod'\n25. 'mean.mag'\n26. 'mean.dur'\n27. 'mean.preval'\n28. 'mean.rate'\n29. 'mean.dsnr'\n30. 'median.yod'\n31. 'median.mag'\n32. 'median.dur'\n33. 'median.preval'\n34. 'median.rate'\n35. 'median.dsnr'\n36. 'min.yod'\n37. 'min.mag'\n38. 'min.dur'\n39. 'min.preval'\n40. 'min.rate'\n41. 'min.dsnr'\n42. 'year'\n43. 'min.endval'\n44. 'agbd_postval'\n45. 'agbd_preval'\n46. 'group_quantile'\n47. 'group'\n48. 'FIRE_NUM'\n49. 'FIRE_CODE'\n50. 'FIRE_NAME'\n51. 'FIRE_YEAR'\n52. 'group_agbd_preval'\n53. 'group_agbd_postval'\n54. 'id'\n55. 'post_val'\n\n\n",
            "text/latex": "\\begin{enumerate*}\n\\item 'agbd'\n\\item 'lat\\_lowestmode'\n\\item 'lon\\_lowestmode'\n\\item 'agbd\\_pi\\_lower'\n\\item 'agbd\\_pi\\_upper'\n\\item 'agbd\\_se'\n\\item 'agbd\\_t'\n\\item 'agbd\\_t\\_se'\n\\item 'algorithm\\_run\\_flag'\n\\item 'channel'\n\\item 'degrade\\_flag'\n\\item 'delta\\_time'\n\\item 'elev\\_lowestmode'\n\\item 'l2\\_quality\\_flag'\n\\item 'l4\\_quality\\_flag'\n\\item 'geom'\n\\item 'geom\\_buffer'\n\\item 'max.yod'\n\\item 'max.mag'\n\\item 'max.dur'\n\\item 'max.preval'\n\\item 'max.rate'\n\\item 'max.dsnr'\n\\item 'mean.yod'\n\\item 'mean.mag'\n\\item 'mean.dur'\n\\item 'mean.preval'\n\\item 'mean.rate'\n\\item 'mean.dsnr'\n\\item 'median.yod'\n\\item 'median.mag'\n\\item 'median.dur'\n\\item 'median.preval'\n\\item 'median.rate'\n\\item 'median.dsnr'\n\\item 'min.yod'\n\\item 'min.mag'\n\\item 'min.dur'\n\\item 'min.preval'\n\\item 'min.rate'\n\\item 'min.dsnr'\n\\item 'year'\n\\item 'min.endval'\n\\item 'agbd\\_postval'\n\\item 'agbd\\_preval'\n\\item 'group\\_quantile'\n\\item 'group'\n\\item 'FIRE\\_NUM'\n\\item 'FIRE\\_CODE'\n\\item 'FIRE\\_NAME'\n\\item 'FIRE\\_YEAR'\n\\item 'group\\_agbd\\_preval'\n\\item 'group\\_agbd\\_postval'\n\\item 'id'\n\\item 'post\\_val'\n\\end{enumerate*}\n",
            "text/plain": [
              " [1] \"agbd\"               \"lat_lowestmode\"     \"lon_lowestmode\"    \n",
              " [4] \"agbd_pi_lower\"      \"agbd_pi_upper\"      \"agbd_se\"           \n",
              " [7] \"agbd_t\"             \"agbd_t_se\"          \"algorithm_run_flag\"\n",
              "[10] \"channel\"            \"degrade_flag\"       \"delta_time\"        \n",
              "[13] \"elev_lowestmode\"    \"l2_quality_flag\"    \"l4_quality_flag\"   \n",
              "[16] \"geom\"               \"geom_buffer\"        \"max.yod\"           \n",
              "[19] \"max.mag\"            \"max.dur\"            \"max.preval\"        \n",
              "[22] \"max.rate\"           \"max.dsnr\"           \"mean.yod\"          \n",
              "[25] \"mean.mag\"           \"mean.dur\"           \"mean.preval\"       \n",
              "[28] \"mean.rate\"          \"mean.dsnr\"          \"median.yod\"        \n",
              "[31] \"median.mag\"         \"median.dur\"         \"median.preval\"     \n",
              "[34] \"median.rate\"        \"median.dsnr\"        \"min.yod\"           \n",
              "[37] \"min.mag\"            \"min.dur\"            \"min.preval\"        \n",
              "[40] \"min.rate\"           \"min.dsnr\"           \"year\"              \n",
              "[43] \"min.endval\"         \"agbd_postval\"       \"agbd_preval\"       \n",
              "[46] \"group_quantile\"     \"group\"              \"FIRE_NUM\"          \n",
              "[49] \"FIRE_CODE\"          \"FIRE_NAME\"          \"FIRE_YEAR\"         \n",
              "[52] \"group_agbd_preval\"  \"group_agbd_postval\" \"id\"                \n",
              "[55] \"post_val\"          "
            ]
          },
          "metadata": {}
        },
        {
          "output_type": "display_data",
          "data": {
            "text/plain": [
              "plot without title"
            ],
            "image/png": "[encoded data removed]"
          },
          "metadata": {
            "image/png": {
              "width": 420,
              "height": 420
            }
          }
        }
      ]
    },
    {
      "cell_type": "code",
      "source": [
        "# 1:1000\n",
        "resample_dt <- fire_summary_dt\n",
        "resample_dt <- fire_summary_dt[is.na(FIRE_YEAR)]\n",
        "# resample_dt$group <- resample_dt$group_quantile\n",
        "year_off <- 1\n",
        "\n",
        "# resample_dt$row_id <- 1:nrow(resample_dt)\n",
        "\n",
        "# resample_dt[,agbd := rnorm(1,agbd,agbd_se),by=row_id]\n",
        "\n",
        "# agbd_preval_lm <-\n",
        "# resample_dt[agbd_pi_lower>0&l4_quality_flag ==1 & min.yod>1984 &\n",
        "#    round(min.yod) %in% c(round(year %>% as.numeric)-c(1,2)) &\n",
        "#        round(max.yod) %in% c(round(year%>% as.numeric)-c(1,2)),][,agbd_group:= round(min.preval,-1)][,agbd_group:= round(min.preval,-2)][,mag_group:= round(min.mag,-2)][,yod_group:= round(2023 - min.yod)][,list(min.preval = mean(mean.preval,na.rm=T),min.mag= mean(mean.mag,na.rm=T),agbd= mean(agbd,na.rm=T)),by=c('agbd_group','mag_group','yod_group')][,min.endval:=(min.preval-min.mag)] %>%\n",
        "#   lm(agbd~min.endval,.)\n",
        "# min.yod>1984 & round(min.yod) %in% c(round(year %>% as.numeric)-c(1,2)) &  round(max.yod) %in% c(round(year%>% as.numeric)-c(1,2))\n",
        "# resample_dt$agbd_postval <- predict(agbd_preval_lm,resample_dt[,min.endval:=(min.preval-min.mag)])\n",
        "\n",
        "# resample_dt$agbd_preval <- predict(agbd_preval_lm,resample_dt[,min.endval:=(min.preval)])\n",
        "# resample_dt[,agbd_postval:=mean(agbd[min.yod>1984 & round(min.yod) %in% c(round(year %>% as.numeric)+c(1,2)) &  round(max.yod) %in% c(round(year%>% as.numeric)+c(1,2))],na.rm=T),by = group]\n",
        "# resample_dt[,agbd_preval:=mean(agbd[min.yod>1984 & round(min.yod) %in% c(round(year %>% as.numeric)+c(1,2)) &  round(max.yod) %in% c(round(year%>% as.numeric)+c(1,2))],na.rm=T),by = group]\n",
        "\n",
        "resample_dt[,group_agbd_preval:=mean(agbd[min.yod>1984 & round(mean.yod) %in% c(round(year %>% as.numeric)+c(1,2,3))],na.rm=T) ,by=group]\n",
        "\n",
        "resample_dt[,group_agbd_postval:=mean(agbd[min.yod>1984 & round(mean.yod) < round(year %>% as.numeric) ],na.rm=T) ,by=group]\n",
        "\n",
        "\n",
        "plot_dt <- resample_dt[min.yod>1984 & round(max.yod) < (year %>% as.numeric-1) &l4_quality_flag ==1,][,yod_round := round(mean.yod)][,list(agbd = mean(agbd,na.rm=T),yad = mean(2023-mean.yod),group_agbd_preval=mean(group_agbd_preval,na.rm=T),group_agbd_postval=mean(group_agbd_postval,na.rm=T),n = length(mean.yod)),by = .(group,yod_round)][yad>1]\n",
        "\n",
        "\n",
        "plot_dt[,agbd_yr:=(agbd)/yad,by=group]\n",
        "\n",
        "plot_dt[order(yad),agbd_yr_cumsum := cumsum(agbd_yr),by = group]\n",
        "\n",
        "summary_dt[,group_quantile:=as.integer(cut(agbd_postval, breaks = quantile(agbd_postval[!is.na(agbd) & median.preval > 0], probs = seq(0, 1, by = 1/3),na.rm=T), labels = FALSE, include.lowest = TRUE)) ]\n",
        "summary_dt$group <- NA\n",
        "# summary_dt[!is.na(agbd) & median.preval > 0, group_quantile := kmeans(((median.preval - median.mag) / median.preval)[.I], centers = 4)$cluster]\n",
        "\n",
        "\n",
        "\n",
        "summary_dt$group <- NA\n",
        "summary_dt[!is.na(agbd_postval), group := kmeans((agbd_postval)[.I], centers = 3)$cluster]\n",
        "\n",
        "\n",
        "cluster_dt <- summary_dt[!is.na(agbd) & median.preval > 0,list(agbd_postval = mean(agbd_postval)),by=group][order(agbd_postval)]\n",
        "cluster_dt$group_new <- 1:nrow(cluster_dt)\n",
        "cluster_dt <- cluster_dt[order(group)]\n",
        "# print(cluster_dt)\n",
        "summary_dt$group <- cluster_dt$group_new[summary_dt$group]\n",
        "\n",
        "summary_dt[,list(agbd_postval = mean(agbd_postval),n = length(agbd_postval)),by=group_quantile][order(agbd_postval)]\n",
        "\n",
        "summary_dt[,list(agbd_postval = mean(agbd_postval),n = length(agbd_postval)),by=group][order(agbd_postval)]\n",
        "\n",
        "plot_dt %>% head\n",
        "\n",
        "plot_dt %>%\n",
        "\n",
        "ggplot(aes(x=yad,y=agbd_yr_cumsum/yad,group=group))+\n",
        "\n",
        "geom_point()+\n",
        "\n",
        "geom_smooth(aes(color=group))\n",
        "\n",
        "\n",
        "# plot_dt %>%\n",
        "# ggplot(aes(x=yad,y=agbd_yr_cumsum,group=group_quantile))+\n",
        "# geom_point()+\n",
        "# geom_line(aes(color=group_quantile))\n",
        "# geom_smooth(data=pred_dt,aes(),color='red')"
      ],
      "metadata": {
        "id": "_X_pF4TT9vRB",
        "colab": {
          "base_uri": "https://localhost:8080/",
          "height": 1000
        },
        "outputId": "4cffd19d-b5eb-4aa2-8b8f-4faa43c6faa0"
      },
      "execution_count": 378,
      "outputs": [
        {
          "output_type": "stream",
          "name": "stderr",
          "text": [
            "Warning message in round(year %>% as.numeric) + c(1, 2, 3):\n",
            "“longer object length is not a multiple of shorter object length”\n"
          ]
        },
        {
          "output_type": "display_data",
          "data": {
            "text/html": [
              "<table class=\"dataframe\">\n",
              "<caption>A data.table: 4 × 3</caption>\n",
              "<thead>\n",
              "\t<tr><th scope=col>group_quantile</th><th scope=col>agbd_postval</th><th scope=col>n</th></tr>\n",
              "\t<tr><th scope=col>&lt;int&gt;</th><th scope=col>&lt;dbl&gt;</th><th scope=col>&lt;int&gt;</th></tr>\n",
              "</thead>\n",
              "<tbody>\n",
              "\t<tr><td> 1</td><td> 41.82517</td><td> 18356</td></tr>\n",
              "\t<tr><td> 2</td><td> 87.43930</td><td> 18319</td></tr>\n",
              "\t<tr><td> 3</td><td>161.31282</td><td> 18850</td></tr>\n",
              "\t<tr><td>NA</td><td>       NA</td><td>168538</td></tr>\n",
              "</tbody>\n",
              "</table>\n"
            ],
            "text/markdown": "\nA data.table: 4 × 3\n\n| group_quantile &lt;int&gt; | agbd_postval &lt;dbl&gt; | n &lt;int&gt; |\n|---|---|---|\n|  1 |  41.82517 |  18356 |\n|  2 |  87.43930 |  18319 |\n|  3 | 161.31282 |  18850 |\n| NA |        NA | 168538 |\n\n",
            "text/latex": "A data.table: 4 × 3\n\\begin{tabular}{lll}\n group\\_quantile & agbd\\_postval & n\\\\\n <int> & <dbl> & <int>\\\\\n\\hline\n\t  1 &  41.82517 &  18356\\\\\n\t  2 &  87.43930 &  18319\\\\\n\t  3 & 161.31282 &  18850\\\\\n\t NA &        NA & 168538\\\\\n\\end{tabular}\n",
            "text/plain": [
              "  group_quantile agbd_postval n     \n",
              "1  1              41.82517     18356\n",
              "2  2              87.43930     18319\n",
              "3  3             161.31282     18850\n",
              "4 NA                    NA    168538"
            ]
          },
          "metadata": {}
        },
        {
          "output_type": "display_data",
          "data": {
            "text/html": [
              "<table class=\"dataframe\">\n",
              "<caption>A data.table: 4 × 3</caption>\n",
              "<thead>\n",
              "\t<tr><th scope=col>group</th><th scope=col>agbd_postval</th><th scope=col>n</th></tr>\n",
              "\t<tr><th scope=col>&lt;int&gt;</th><th scope=col>&lt;dbl&gt;</th><th scope=col>&lt;int&gt;</th></tr>\n",
              "</thead>\n",
              "<tbody>\n",
              "\t<tr><td> 1</td><td> 49.92402</td><td> 25343</td></tr>\n",
              "\t<tr><td> 2</td><td>110.27562</td><td> 18474</td></tr>\n",
              "\t<tr><td> 3</td><td>180.03363</td><td> 11708</td></tr>\n",
              "\t<tr><td>NA</td><td>       NA</td><td>168538</td></tr>\n",
              "</tbody>\n",
              "</table>\n"
            ],
            "text/markdown": "\nA data.table: 4 × 3\n\n| group &lt;int&gt; | agbd_postval &lt;dbl&gt; | n &lt;int&gt; |\n|---|---|---|\n|  1 |  49.92402 |  25343 |\n|  2 | 110.27562 |  18474 |\n|  3 | 180.03363 |  11708 |\n| NA |        NA | 168538 |\n\n",
            "text/latex": "A data.table: 4 × 3\n\\begin{tabular}{lll}\n group & agbd\\_postval & n\\\\\n <int> & <dbl> & <int>\\\\\n\\hline\n\t  1 &  49.92402 &  25343\\\\\n\t  2 & 110.27562 &  18474\\\\\n\t  3 & 180.03363 &  11708\\\\\n\t NA &        NA & 168538\\\\\n\\end{tabular}\n",
            "text/plain": [
              "  group agbd_postval n     \n",
              "1  1     49.92402     25343\n",
              "2  2    110.27562     18474\n",
              "3  3    180.03363     11708\n",
              "4 NA           NA    168538"
            ]
          },
          "metadata": {}
        },
        {
          "output_type": "display_data",
          "data": {
            "text/html": [
              "<table class=\"dataframe\">\n",
              "<caption>A data.table: 6 × 9</caption>\n",
              "<thead>\n",
              "\t<tr><th scope=col>group</th><th scope=col>yod_round</th><th scope=col>agbd</th><th scope=col>yad</th><th scope=col>group_agbd_preval</th><th scope=col>group_agbd_postval</th><th scope=col>n</th><th scope=col>agbd_yr</th><th scope=col>agbd_yr_cumsum</th></tr>\n",
              "\t<tr><th scope=col>&lt;int&gt;</th><th scope=col>&lt;dbl&gt;</th><th scope=col>&lt;dbl&gt;</th><th scope=col>&lt;dbl&gt;</th><th scope=col>&lt;dbl&gt;</th><th scope=col>&lt;dbl&gt;</th><th scope=col>&lt;int&gt;</th><th scope=col>&lt;dbl&gt;</th><th scope=col>&lt;dbl&gt;</th></tr>\n",
              "</thead>\n",
              "<tbody>\n",
              "\t<tr><td>3</td><td>1987</td><td>107.12758</td><td>35.99906</td><td>299.4243</td><td>97.58169</td><td> 75</td><td>2.975844</td><td>155.00189</td></tr>\n",
              "\t<tr><td>1</td><td>1989</td><td> 70.73407</td><td>34.01110</td><td>     NaN</td><td>61.19608</td><td> 16</td><td>2.079735</td><td> 24.40203</td></tr>\n",
              "\t<tr><td>2</td><td>1989</td><td> 73.03680</td><td>33.99583</td><td>246.1952</td><td>74.33567</td><td>287</td><td>2.148405</td><td> 82.28267</td></tr>\n",
              "\t<tr><td>3</td><td>1989</td><td>103.25474</td><td>34.00336</td><td>299.4243</td><td>97.58169</td><td> 90</td><td>3.036604</td><td>149.15959</td></tr>\n",
              "\t<tr><td>2</td><td>1987</td><td> 84.77635</td><td>36.00066</td><td>246.1952</td><td>74.33567</td><td> 86</td><td>2.354855</td><td> 87.20266</td></tr>\n",
              "\t<tr><td>3</td><td>1997</td><td> 49.47276</td><td>26.04311</td><td>299.4243</td><td>97.58169</td><td> 12</td><td>1.899649</td><td>130.62291</td></tr>\n",
              "</tbody>\n",
              "</table>\n"
            ],
            "text/markdown": "\nA data.table: 6 × 9\n\n| group &lt;int&gt; | yod_round &lt;dbl&gt; | agbd &lt;dbl&gt; | yad &lt;dbl&gt; | group_agbd_preval &lt;dbl&gt; | group_agbd_postval &lt;dbl&gt; | n &lt;int&gt; | agbd_yr &lt;dbl&gt; | agbd_yr_cumsum &lt;dbl&gt; |\n|---|---|---|---|---|---|---|---|---|\n| 3 | 1987 | 107.12758 | 35.99906 | 299.4243 | 97.58169 |  75 | 2.975844 | 155.00189 |\n| 1 | 1989 |  70.73407 | 34.01110 |      NaN | 61.19608 |  16 | 2.079735 |  24.40203 |\n| 2 | 1989 |  73.03680 | 33.99583 | 246.1952 | 74.33567 | 287 | 2.148405 |  82.28267 |\n| 3 | 1989 | 103.25474 | 34.00336 | 299.4243 | 97.58169 |  90 | 3.036604 | 149.15959 |\n| 2 | 1987 |  84.77635 | 36.00066 | 246.1952 | 74.33567 |  86 | 2.354855 |  87.20266 |\n| 3 | 1997 |  49.47276 | 26.04311 | 299.4243 | 97.58169 |  12 | 1.899649 | 130.62291 |\n\n",
            "text/latex": "A data.table: 6 × 9\n\\begin{tabular}{lllllllll}\n group & yod\\_round & agbd & yad & group\\_agbd\\_preval & group\\_agbd\\_postval & n & agbd\\_yr & agbd\\_yr\\_cumsum\\\\\n <int> & <dbl> & <dbl> & <dbl> & <dbl> & <dbl> & <int> & <dbl> & <dbl>\\\\\n\\hline\n\t 3 & 1987 & 107.12758 & 35.99906 & 299.4243 & 97.58169 &  75 & 2.975844 & 155.00189\\\\\n\t 1 & 1989 &  70.73407 & 34.01110 &      NaN & 61.19608 &  16 & 2.079735 &  24.40203\\\\\n\t 2 & 1989 &  73.03680 & 33.99583 & 246.1952 & 74.33567 & 287 & 2.148405 &  82.28267\\\\\n\t 3 & 1989 & 103.25474 & 34.00336 & 299.4243 & 97.58169 &  90 & 3.036604 & 149.15959\\\\\n\t 2 & 1987 &  84.77635 & 36.00066 & 246.1952 & 74.33567 &  86 & 2.354855 &  87.20266\\\\\n\t 3 & 1997 &  49.47276 & 26.04311 & 299.4243 & 97.58169 &  12 & 1.899649 & 130.62291\\\\\n\\end{tabular}\n",
            "text/plain": [
              "  group yod_round agbd      yad      group_agbd_preval group_agbd_postval n  \n",
              "1 3     1987      107.12758 35.99906 299.4243          97.58169            75\n",
              "2 1     1989       70.73407 34.01110      NaN          61.19608            16\n",
              "3 2     1989       73.03680 33.99583 246.1952          74.33567           287\n",
              "4 3     1989      103.25474 34.00336 299.4243          97.58169            90\n",
              "5 2     1987       84.77635 36.00066 246.1952          74.33567            86\n",
              "6 3     1997       49.47276 26.04311 299.4243          97.58169            12\n",
              "  agbd_yr  agbd_yr_cumsum\n",
              "1 2.975844 155.00189     \n",
              "2 2.079735  24.40203     \n",
              "3 2.148405  82.28267     \n",
              "4 3.036604 149.15959     \n",
              "5 2.354855  87.20266     \n",
              "6 1.899649 130.62291     "
            ]
          },
          "metadata": {}
        },
        {
          "output_type": "stream",
          "name": "stderr",
          "text": [
            "\u001b[1m\u001b[22m`geom_smooth()` using method = 'loess' and formula = 'y ~ x'\n"
          ]
        },
        {
          "output_type": "display_data",
          "data": {
            "text/plain": [
              "plot without title"
            ],
            "image/png": "[encoded data removed]"
          },
          "metadata": {
            "image/png": {
              "width": 420,
              "height": 420
            }
          }
        }
      ]
    },
    {
      "cell_type": "code",
      "source": [
        "gedi_vec_gpkg$area <- st_area(gedi_vec_gpkg)\n",
        "\n",
        "summary_dt$gedi_clust <- st_intersects(summary_dt$geom,gedi_vec_gpkg) %>% lapply(function(x){x[1]}) %>% unlist\n",
        "summary_dt$gedi_clust_area <- gedi_vec_gpkg$area[summary_dt$gedi_clust]"
      ],
      "metadata": {
        "id": "W-VRWy919p2O"
      },
      "execution_count": null,
      "outputs": []
    },
    {
      "cell_type": "code",
      "source": [
        "summary_dt[min.yod > 1984 & agbd>0 &l4_quality_flag ==1,] %>%\n",
        "  ggplot(aes(y=(agbd - agbd_preval)/(2023-max.yod),x=max.yod,group=group))+\n",
        "  geom_point() +\n",
        "  # geom_line(aes(color=group))+\n",
        "  geom_smooth(aes(color=group))"
      ],
      "metadata": {
        "id": "ooqmNof1AuNl"
      },
      "execution_count": null,
      "outputs": []
    },
    {
      "cell_type": "code",
      "source": [
        "huc_8_int <- summary_dt %>% st_as_sf %>% st_intersects(huc_8_gpgk)\n",
        "\n",
        "huc_10_int <- summary_dt %>% st_as_sf %>% st_intersects(huc_10_gpgk)\n",
        "\n",
        "huc_12_int <- summary_dt %>% st_as_sf %>% st_intersects(huc_12_gpgk)"
      ],
      "metadata": {
        "id": "ioGSIgshMojf"
      },
      "execution_count": null,
      "outputs": []
    },
    {
      "cell_type": "code",
      "source": [
        "huc_8_summary_dt <- data.table(summary_dt, (huc_8_gpgk %>% data.table)[,c('TNMID','HUC8','Name')][huc_8_int %>% lapply(function(x){x[1]}) %>% unlist,])\n",
        "huc_10_summary_dt <- data.table(summary_dt, (huc_10_gpgk %>% data.table)[,c('TNMID','HUC10','Name')][huc_10_int %>% lapply(function(x){x[1]}) %>% unlist,])\n",
        "huc_12_summary_dt <- data.table(summary_dt, (huc_12_gpgk %>% data.table)[,c('TNMID','HUC12','Name')][huc_12_int %>% lapply(function(x){x[1]}) %>% unlist,])"
      ],
      "metadata": {
        "id": "Oh3ejwKJOF8z"
      },
      "execution_count": null,
      "outputs": []
    },
    {
      "cell_type": "code",
      "source": [
        "targ_dt <- huc_10_summary_dt[Name == 'Thomas Creek' & group ==1]\n",
        "\n",
        "loess_dt <- huc_10_summary_dt[min.yod>1984 &agbd>0 ,][,yod_round := round(mean.yod)][,list(agbd = mean(agbd-agbd_preval,na.rm=T),yad = mean(2023-mean.yod),n = length(mean.yod)),by = .(group,Name,yod_round)][yad>3]\n",
        "\n",
        "huc_10_summary_dt[,yad := 2023-mean.yod]\n",
        "targ_dt$agbd_pred <-\n",
        "predict(loess_dt[Name == 'Thomas Creek' & group == 1] %>%\n",
        "  loess(agbd~yad,.), targ_dt)"
      ],
      "metadata": {
        "id": "rHcRc44CoZUB"
      },
      "execution_count": null,
      "outputs": []
    },
    {
      "cell_type": "code",
      "source": [
        "targ_dt[yad>3,] %>%\n",
        "  ggplot(aes(x=agbd_pred-agbd))+\n",
        "  geom_histogram(bins=100)"
      ],
      "metadata": {
        "id": "VHXKFI43qb6o"
      },
      "execution_count": null,
      "outputs": []
    },
    {
      "cell_type": "code",
      "source": [
        "targ_dt[yad>3,] %>% st_as_sf() %>% st_write('/content/example.gpkg')"
      ],
      "metadata": {
        "id": "zTczNC-psVkZ"
      },
      "execution_count": null,
      "outputs": []
    },
    {
      "cell_type": "code",
      "source": [
        "huc_10_dist_table <- huc_10_summary_dt$Name %>% table\n",
        "huc_10_summary_dt <- huc_10_summary_dt[Name %in% c(huc_10_dist_table[huc_10_dist_table>100] %>% names),]\n",
        "\n",
        "huc_10_summary_dt[,group:=as.integer(cut((median.preval-median.mag)/median.preval, breaks = quantile((median.preval[!is.na(agbd) & median.preval > 0]-median.mag[!is.na(agbd) & median.preval > 0])/median.preval[!is.na(agbd) & median.preval > 0], probs = seq(0, 1, by = 0.25)), labels = FALSE, include.lowest = TRUE)) ,by = 'Name']\n",
        "\n",
        "\n",
        "\n",
        "fit <- loess(y ~ x)\n",
        "predictions <- predict(fit, newdata = data.frame(x = x))\n",
        "\n",
        "huc_10_summary_dt[min.yod>1984 &agbd>0 ,][,yod_round := round(mean.yod)][,list(agbd = mean(agbd-agbd_preval,na.rm=T),yad = mean(2023-mean.yod),n = length(mean.yod)),by = .(group,Name,yod_round)][yad>3] %>%\n",
        "ggplot(aes(x=yad,y=(floor(agbd))/ceiling(yad),group=group))+\n",
        "geom_point()+\n",
        "geom_smooth(aes(color=group)) +\n",
        "facet_wrap(Name~.)\n"
      ],
      "metadata": {
        "id": "uR3Sr08MgzjT"
      },
      "execution_count": null,
      "outputs": []
    },
    {
      "cell_type": "code",
      "source": [
        "huc_12_dist_table <- huc_12_summary_dt$Name %>% table\n",
        "huc_12_summary_dt <- huc_12_summary_dt[Name %in% c(huc_12_dist_table[huc_12_dist_table>100] %>% names),]\n",
        "\n",
        "huc_12_summary_dt[,group:=as.integer(cut((median.preval-median.mag)/median.preval, breaks = quantile((median.preval[!is.na(agbd) & median.preval > 0]-median.mag[!is.na(agbd) & median.preval > 0])/median.preval[!is.na(agbd) & median.preval > 0], probs = seq(0, 1, by = 0.25)), labels = FALSE, include.lowest = TRUE)) ,by = 'Name']\n",
        "\n",
        "\n",
        "\n",
        "\n",
        "\n",
        "huc_12_summary_dt[min.yod>1984 &agbd>0 ,][,yod_round := round(mean.yod)][,list(agbd = mean(agbd-agbd_preval,na.rm=T),yad = mean(2023-mean.yod),n = length(mean.yod)),by = .(group,Name,yod_round)][yad>3] %>%\n",
        "ggplot(aes(x=yad,y=(floor(agbd))/ceiling(yad),group=group))+\n",
        "geom_point()+\n",
        "geom_smooth(aes(color=group)) +\n",
        "facet_wrap(Name~.)"
      ],
      "metadata": {
        "id": "SCNJ9gdGk68j"
      },
      "execution_count": null,
      "outputs": []
    }
  ]
}
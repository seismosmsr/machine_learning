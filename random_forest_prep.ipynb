{
  "cells": [
    {
      "cell_type": "markdown",
      "metadata": {
        "id": "view-in-github",
        "colab_type": "text"
      },
      "source": [
        "<a href=\"https://colab.research.google.com/github/seismosmsr/machine_learning/blob/main/random_forest_prep.ipynb\" target=\"_parent\"><img src=\"https://colab.research.google.com/assets/colab-badge.svg\" alt=\"Open In Colab\"/></a>"
      ]
    },
    {
      "cell_type": "code",
      "execution_count": 1,
      "metadata": {
        "colab": {
          "base_uri": "https://localhost:8080/"
        },
        "id": "7U2mLc_qLEhT",
        "outputId": "4577c8be-9cb3-4c48-a4b8-687dc98b000f"
      },
      "outputs": [
        {
          "output_type": "stream",
          "name": "stderr",
          "text": [
            "Installing package into ‘/usr/local/lib/R/site-library’\n",
            "(as ‘lib’ is unspecified)\n",
            "\n",
            "also installing the dependencies ‘proxy’, ‘e1071’, ‘wk’, ‘classInt’, ‘s2’, ‘units’\n",
            "\n",
            "\n",
            "Installing package into ‘/usr/local/lib/R/site-library’\n",
            "(as ‘lib’ is unspecified)\n",
            "\n",
            "Installing package into ‘/usr/local/lib/R/site-library’\n",
            "(as ‘lib’ is unspecified)\n",
            "\n",
            "also installing the dependencies ‘sp’, ‘terra’\n",
            "\n",
            "\n",
            "Installing package into ‘/usr/local/lib/R/site-library’\n",
            "(as ‘lib’ is unspecified)\n",
            "\n",
            "Installing package into ‘/usr/local/lib/R/site-library’\n",
            "(as ‘lib’ is unspecified)\n",
            "\n",
            "Installing package into ‘/usr/local/lib/R/site-library’\n",
            "(as ‘lib’ is unspecified)\n",
            "\n",
            "Warning message:\n",
            "“package ‘googletoken’ is not available for this version of R\n",
            "\n",
            "A version of this package for your version of R might be available elsewhere,\n",
            "see the ideas at\n",
            "https://cran.r-project.org/doc/manuals/r-patched/R-admin.html#Installing-packages”\n",
            "Installing package into ‘/usr/local/lib/R/site-library’\n",
            "(as ‘lib’ is unspecified)\n",
            "\n",
            "also installing the dependency ‘plogr’\n",
            "\n",
            "\n",
            "Installing package into ‘/usr/local/lib/R/site-library’\n",
            "(as ‘lib’ is unspecified)\n",
            "\n"
          ]
        }
      ],
      "source": [
        "install.packages('sf')\n",
        "install.packages(\"DBI\")\n",
        "install.packages('raster')\n",
        "install.packages('exactextractr')\n",
        "install.packages(\"googledrive\")\n",
        "install.packages(\"googletoken\")\n",
        "install.packages(\"RSQLite\")\n",
        "install.packages(\"RPostgreSQL\")"
      ]
    },
    {
      "cell_type": "code",
      "execution_count": 2,
      "metadata": {
        "colab": {
          "base_uri": "https://localhost:8080/"
        },
        "id": "O7E_YBk3SfPE",
        "outputId": "a79aa301-69fb-4f20-d88c-d18c5f925915"
      },
      "outputs": [
        {
          "output_type": "stream",
          "name": "stderr",
          "text": [
            "Linking to GEOS 3.11.1, GDAL 3.6.4, PROJ 9.1.1; sf_use_s2() is TRUE\n",
            "\n",
            "Loading required package: sp\n",
            "\n",
            "terra 1.7.78\n",
            "\n",
            "\n",
            "Attaching package: ‘terra’\n",
            "\n",
            "\n",
            "The following object is masked from ‘package:data.table’:\n",
            "\n",
            "    shift\n",
            "\n",
            "\n",
            "The following objects are masked from ‘package:magrittr’:\n",
            "\n",
            "    extract, inset\n",
            "\n",
            "\n"
          ]
        }
      ],
      "source": [
        "library(ggplot2)\n",
        "library(sf)\n",
        "library(magrittr)\n",
        "library(data.table)\n",
        "library(raster)\n",
        "library(exactextractr)\n",
        "library(googledrive)\n",
        "library(DBI)\n",
        "library(utils)\n",
        "library(terra)"
      ]
    },
    {
      "cell_type": "code",
      "execution_count": 3,
      "metadata": {
        "colab": {
          "base_uri": "https://localhost:8080/"
        },
        "id": "NlSh_bTkSjMf",
        "outputId": "3a994853-6951-4202-dcd8-94c97efdc0e0"
      },
      "outputs": [
        {
          "output_type": "stream",
          "name": "stderr",
          "text": [
            "\u001b[1m\u001b[22mIs it OK to cache OAuth access credentials in the folder \u001b[34m~/.cache/gargle\u001b[39m\n",
            "between R sessions?\n",
            "\u001b[1m1\u001b[22m: Yes\n",
            "\u001b[1m2\u001b[22m: No\n"
          ]
        },
        {
          "name": "stdout",
          "output_type": "stream",
          "text": [
            "Selection: 1\n"
          ]
        },
        {
          "output_type": "stream",
          "name": "stderr",
          "text": [
            "Please point your browser to the following url: \n",
            "\n",
            "https://accounts.google.com/o/oauth2/v2/auth?client_id=603366585132-frjlouoa3s2ono25d2l9ukvhlsrlnr7k.apps.googleusercontent.com&scope=https%3A%2F%2Fwww.googleapis.com%2Fauth%2Fdrive%20https%3A%2F%2Fwww.googleapis.com%2Fauth%2Fuserinfo.email&redirect_uri=https%3A%2F%2Fwww.tidyverse.org%2Fgoogle-callback%2F&response_type=code&state=f96a8f0d329e8b4c520f65364ff18124&access_type=offline&prompt=consent\n",
            "\n"
          ]
        },
        {
          "name": "stdout",
          "output_type": "stream",
          "text": [
            "Enter authorization code: eyJjb2RlIjoiNC8wQWN2RE1yRHhjMlNMZEVmd0p1UTNyUS1ibW5heGpPSlFpNHFhMnVUOU04OEpKdC10R19NODRaeTZDWnBGYjA0UXBWNFZYUSIsInN0YXRlIjoiZjk2YThmMGQzMjllOGI0YzUyMGY2NTM2NGZmMTgxMjQifQ==\n"
          ]
        }
      ],
      "source": [
        "drive_auth()"
      ]
    },
    {
      "cell_type": "code",
      "execution_count": 4,
      "metadata": {
        "colab": {
          "base_uri": "https://localhost:8080/"
        },
        "id": "4sfoDBPxTYz9",
        "outputId": "bb70e57c-f4e3-4362-a0b9-febee458a3c8"
      },
      "outputs": [
        {
          "output_type": "stream",
          "name": "stderr",
          "text": [
            "File downloaded:\n",
            "\n",
            "• \u001b[36mgedi_intersection.gpkg\u001b[39m \u001b[90m<id: 1jS2G5WoTspv9SAe5p9ge5CU2BcMXqO-I>\u001b[39m\n",
            "\n",
            "Saved locally as:\n",
            "\n",
            "• \u001b[34m/content/oregon_disturbance.gpkg\u001b[39m\n",
            "\n"
          ]
        }
      ],
      "source": [
        "# https://drive.google.com/file/d/1jS2G5WoTspv9SAe5p9ge5CU2BcMXqO-I/view?usp=drive_link\n",
        "drive_download(file = as_id('1jS2G5WoTspv9SAe5p9ge5CU2BcMXqO-I'), path =  '/content/oregon_disturbance.gpkg', overwrite = TRUE)"
      ]
    },
    {
      "cell_type": "code",
      "execution_count": 5,
      "metadata": {
        "colab": {
          "base_uri": "https://localhost:8080/"
        },
        "id": "plhN6K99TmFs",
        "outputId": "a55f5902-5331-4b79-8632-ba9fe49e4f10"
      },
      "outputs": [
        {
          "output_type": "stream",
          "name": "stderr",
          "text": [
            "File downloaded:\n",
            "\n",
            "• \u001b[36mOregon_SRTM_mTPI_Buffer.tif\u001b[39m \u001b[90m<id: 194ZZ53SpgAWr9NgcCQO7ElpEiX7W8pny>\u001b[39m\n",
            "\n",
            "Saved locally as:\n",
            "\n",
            "• \u001b[34m/content/Oregon_SRTM_mTPI_Buffer.tif\u001b[39m\n",
            "\n"
          ]
        }
      ],
      "source": [
        "# https://drive.google.com/file/d/194ZZ53SpgAWr9NgcCQO7ElpEiX7W8pny/view?usp=drive_link\n",
        "drive_download(file = as_id('194ZZ53SpgAWr9NgcCQO7ElpEiX7W8pny'), path =  '/content/Oregon_SRTM_mTPI_Buffer.tif', overwrite = TRUE)"
      ]
    },
    {
      "cell_type": "code",
      "execution_count": 6,
      "metadata": {
        "colab": {
          "base_uri": "https://localhost:8080/"
        },
        "id": "elvZO0dRTqWj",
        "outputId": "5655c837-3102-4bd0-9dcd-65e1b2cb2754"
      },
      "outputs": [
        {
          "output_type": "stream",
          "name": "stderr",
          "text": [
            "File downloaded:\n",
            "\n",
            "• \u001b[36mOregon_disturbance_TimeSeries_Export_Full.tif\u001b[39m\n",
            "  \u001b[90m<id: 1IxW-3KryNPQOxF2qabPWZ50yifL-9FCA>\u001b[39m\n",
            "\n",
            "Saved locally as:\n",
            "\n",
            "• \u001b[34m/content/Oregon_disturbance_TimeSeries_Export_Full.tif\u001b[39m\n",
            "\n"
          ]
        }
      ],
      "source": [
        "# https://drive.google.com/file/d/1IxW-3KryNPQOxF2qabPWZ50yifL-9FCA/view?usp=drive_link\n",
        "drive_download(file = as_id('1IxW-3KryNPQOxF2qabPWZ50yifL-9FCA'), path =  '/content/Oregon_disturbance_TimeSeries_Export_Full.tif', overwrite = TRUE)"
      ]
    },
    {
      "cell_type": "code",
      "execution_count": 7,
      "metadata": {
        "colab": {
          "base_uri": "https://localhost:8080/"
        },
        "id": "QppPJ9VmUAjJ",
        "outputId": "aa0f34f0-bdb7-4607-a669-1a49ac3a1b03"
      },
      "outputs": [
        {
          "output_type": "stream",
          "name": "stderr",
          "text": [
            "File downloaded:\n",
            "\n",
            "• \u001b[36mOregon_elevation.tif\u001b[39m \u001b[90m<id: 1BS1dlRA0r6i9LOwB6OXfT4vZirbtPI2r>\u001b[39m\n",
            "\n",
            "Saved locally as:\n",
            "\n",
            "• \u001b[34m/content/Oregon_elevation.tif\u001b[39m\n",
            "\n"
          ]
        }
      ],
      "source": [
        "# https://drive.google.com/file/d/1BS1dlRA0r6i9LOwB6OXfT4vZirbtPI2r/view?usp=drive_link\n",
        "drive_download(file = as_id('1BS1dlRA0r6i9LOwB6OXfT4vZirbtPI2r'), path =  '/content/Oregon_elevation.tif', overwrite = TRUE)"
      ]
    },
    {
      "cell_type": "code",
      "source": [
        "# https://drive.google.com/file/d/1TM0cZQhMl7Q79roTMmHkurheoWfCqE7e/view?usp=sharing\n",
        "\n",
        "drive_download(file = as_id('1TM0cZQhMl7Q79roTMmHkurheoWfCqE7e'), path =  '/content/Oregon_climate.tif', overwrite = TRUE)"
      ],
      "metadata": {
        "colab": {
          "base_uri": "https://localhost:8080/"
        },
        "id": "xs-veSkv5xyp",
        "outputId": "4b5a2a2f-55aa-4239-cf0e-9209c2721111"
      },
      "execution_count": 26,
      "outputs": [
        {
          "output_type": "stream",
          "name": "stderr",
          "text": [
            "Auto-refreshing stale OAuth token.\n",
            "\n",
            "File downloaded:\n",
            "\n",
            "• \u001b[36mOregon_Average_Climate_out1_1958_to_2023.tif\u001b[39m\n",
            "  \u001b[90m<id: 1TM0cZQhMl7Q79roTMmHkurheoWfCqE7e>\u001b[39m\n",
            "\n",
            "Saved locally as:\n",
            "\n",
            "• \u001b[34m/content/Oregon_climate.tif\u001b[39m\n",
            "\n"
          ]
        }
      ]
    },
    {
      "cell_type": "code",
      "execution_count": 8,
      "metadata": {
        "colab": {
          "base_uri": "https://localhost:8080/"
        },
        "id": "xPIIAHFZUG_8",
        "outputId": "ac68545a-3536-46cb-8568-ea99ea23b112"
      },
      "outputs": [
        {
          "output_type": "stream",
          "name": "stdout",
          "text": [
            "Reading layer `gedi_intersection' from data source \n",
            "  `/content/oregon_disturbance.gpkg' using driver `GPKG'\n",
            "Simple feature collection with 1711491 features and 94 fields\n",
            "Geometry type: POINT\n",
            "Dimension:     XY\n",
            "Bounding box:  xmin: -123.6631 ymin: 43.85916 xmax: -121.7653 ymax: 44.90617\n",
            "Geodetic CRS:  WGS 84\n"
          ]
        }
      ],
      "source": [
        "gedi_dist_gpkg <- st_read('/content/oregon_disturbance.gpkg')"
      ]
    },
    {
      "cell_type": "code",
      "execution_count": 9,
      "metadata": {
        "id": "-FRx2jNAUNMQ"
      },
      "outputs": [],
      "source": [
        "elevation_tif <- stack('/content/Oregon_elevation.tif')"
      ]
    },
    {
      "cell_type": "code",
      "execution_count": 10,
      "metadata": {
        "id": "LKTtuh2TU1yn"
      },
      "outputs": [],
      "source": [
        "aspect_tif <- terrain(elevation_tif$elevation,'aspect',\"degrees\")\n",
        "slope_tif <- terrain(elevation_tif$elevation,'slope',\"degrees\")"
      ]
    },
    {
      "cell_type": "code",
      "execution_count": 11,
      "metadata": {
        "id": "5JgqnR5zVALN"
      },
      "outputs": [],
      "source": [
        "esa_tif <- stack(elevation_tif$elevation,slope_tif,aspect_tif)"
      ]
    },
    {
      "cell_type": "code",
      "execution_count": 12,
      "metadata": {
        "id": "WmKr-PGdW20P"
      },
      "outputs": [],
      "source": [
        "esa_terra <- esa_tif %>% rast"
      ]
    },
    {
      "cell_type": "code",
      "execution_count": 13,
      "metadata": {
        "id": "vw5bu7b2X944"
      },
      "outputs": [],
      "source": [
        "tpi_tif <- stack('/content/Oregon_SRTM_mTPI_Buffer.tif')"
      ]
    },
    {
      "cell_type": "code",
      "execution_count": 14,
      "metadata": {
        "id": "eM7I8hOkYfyA"
      },
      "outputs": [],
      "source": [
        "tpi_terra <- tpi_tif %>% rast"
      ]
    },
    {
      "cell_type": "code",
      "execution_count": 29,
      "metadata": {
        "id": "umbIoUygYpJY"
      },
      "outputs": [],
      "source": [
        "climate_tif <- stack('/content/Oregon_climate.tif')"
      ]
    },
    {
      "cell_type": "code",
      "source": [
        "# climate_tif"
      ],
      "metadata": {
        "id": "eS_sM1d16DAg"
      },
      "execution_count": 28,
      "outputs": []
    },
    {
      "cell_type": "code",
      "execution_count": 30,
      "metadata": {
        "id": "3AGOkBm1Y-mI"
      },
      "outputs": [],
      "source": [
        "climate_terra <- climate_tif %>% rast"
      ]
    },
    {
      "cell_type": "code",
      "execution_count": 17,
      "metadata": {
        "id": "vZI47HzoVbVj"
      },
      "outputs": [],
      "source": [
        "gedi_dist_dt <- gedi_dist_gpkg %>% data.table"
      ]
    },
    {
      "cell_type": "code",
      "execution_count": 18,
      "metadata": {
        "id": "dFjEyrt9Vuxb"
      },
      "outputs": [],
      "source": [
        "gedi_dist_dt <- gedi_dist_dt[agbd !=-9999]"
      ]
    },
    {
      "cell_type": "code",
      "execution_count": 19,
      "metadata": {
        "id": "rN-MnzirV1nF"
      },
      "outputs": [],
      "source": [
        "buffer_gedi_dist_dt <- gedi_dist_dt %>% st_as_sf  %>% st_transform('EPSG:6339') %>% st_buffer(12.5) %>% st_transform(st_crs(esa_tif))"
      ]
    },
    {
      "cell_type": "code",
      "execution_count": 20,
      "metadata": {
        "colab": {
          "base_uri": "https://localhost:8080/"
        },
        "id": "9pQE9Lt0Vd3I",
        "outputId": "86639fa7-44f9-4d9e-c8e0-95ad8eb25b1f"
      },
      "outputs": [
        {
          "output_type": "stream",
          "name": "stderr",
          "text": [
            "Cannot preload entire working area of 82128423 cells with max_cells_in_memory = 3e+07. Raster values will be read for each feature individually.\n",
            "\n"
          ]
        },
        {
          "output_type": "stream",
          "name": "stdout",
          "text": [
            "  |======================================================================| 100%\n"
          ]
        }
      ],
      "source": [
        "esa_gpkg <- exact_extract(esa_terra,buffer_gedi_dist_dt,'mean')"
      ]
    },
    {
      "cell_type": "code",
      "execution_count": 21,
      "metadata": {
        "colab": {
          "base_uri": "https://localhost:8080/"
        },
        "id": "_H2C56zsYin8",
        "outputId": "db912645-4389-4493-bed7-f6ccf5592542"
      },
      "outputs": [
        {
          "output_type": "stream",
          "name": "stdout",
          "text": [
            "  |======================================================================| 100%\n"
          ]
        }
      ],
      "source": [
        "tpi_gpkg <- exact_extract(tpi_terra,buffer_gedi_dist_dt,'mean')"
      ]
    },
    {
      "cell_type": "code",
      "execution_count": 22,
      "metadata": {
        "colab": {
          "base_uri": "https://localhost:8080/",
          "height": 156
        },
        "id": "3T0i1bPQZOYf",
        "outputId": "498b7a9c-80e7-4edf-df51-3c31d613d3e2"
      },
      "outputs": [
        {
          "output_type": "display_data",
          "data": {
            "text/plain": [
              "class      : RasterStack \n",
              "dimensions : 118, 213, 25134, 532  (nrow, ncol, ncell, nlayers)\n",
              "resolution : 0.008983153, 0.008983153  (x, y)\n",
              "extent     : -123.6711, -121.7577, 43.85575, 44.91576  (xmin, xmax, ymin, ymax)\n",
              "crs        : +proj=longlat +datum=WGS84 +no_defs \n",
              "names      : X198401_aet, X198401_def, X198401_pdsi, X198401_pet, X198401_pr, X198401_ro, X198401_soil, X198401_srad, X198401_swe, X198401_tmmn, X198401_tmmx, X198401_vap, X198401_vpd, X198401_vs, X198501_aet, ... \n"
            ]
          },
          "metadata": {}
        }
      ],
      "source": [
        "climate_tif"
      ]
    },
    {
      "cell_type": "code",
      "execution_count": 31,
      "metadata": {
        "colab": {
          "base_uri": "https://localhost:8080/"
        },
        "id": "EjpeOMR9ZDmU",
        "outputId": "b893314a-2f84-4dc8-dfdd-530d36b91f41"
      },
      "outputs": [
        {
          "output_type": "stream",
          "name": "stdout",
          "text": [
            "  |======================================================================| 100%\n"
          ]
        }
      ],
      "source": [
        "climate_gpkg <- exact_extract(climate_terra,buffer_gedi_dist_dt,'mean')"
      ]
    },
    {
      "cell_type": "code",
      "execution_count": 32,
      "metadata": {
        "id": "G6CQ5pONeFvY"
      },
      "outputs": [],
      "source": [
        "climate_years <- climate_gpkg %>% names %>% gsub('mean.X','',.) %>% lapply(function(x){x %>% strsplit('_') %>% unlist}) %>% lapply(function(x){x[1]}) %>% substr(1,4)"
      ]
    },
    {
      "cell_type": "code",
      "source": [
        "climate_years"
      ],
      "metadata": {
        "colab": {
          "base_uri": "https://localhost:8080/",
          "height": 555
        },
        "id": "t65pNv3p9PbH",
        "outputId": "a0ea6499-e02a-49ef-98f9-a8625a1fc4b2"
      },
      "execution_count": 33,
      "outputs": [
        {
          "output_type": "display_data",
          "data": {
            "text/html": [
              "<style>\n",
              ".list-inline {list-style: none; margin:0; padding: 0}\n",
              ".list-inline>li {display: inline-block}\n",
              ".list-inline>li:not(:last-child)::after {content: \"\\00b7\"; padding: 0 .5ex}\n",
              "</style>\n",
              "<ol class=list-inline><li>'1958'</li><li>'1958'</li><li>'1958'</li><li>'1958'</li><li>'1958'</li><li>'1958'</li><li>'1958'</li><li>'1958'</li><li>'1958'</li><li>'1958'</li><li>'1958'</li><li>'1958'</li><li>'1958'</li><li>'1958'</li><li>'1959'</li><li>'1959'</li><li>'1959'</li><li>'1959'</li><li>'1959'</li><li>'1959'</li><li>'1959'</li><li>'1959'</li><li>'1959'</li><li>'1959'</li><li>'1959'</li><li>'1959'</li><li>'1959'</li><li>'1959'</li><li>'1960'</li><li>'1960'</li><li>'1960'</li><li>'1960'</li><li>'1960'</li><li>'1960'</li><li>'1960'</li><li>'1960'</li><li>'1960'</li><li>'1960'</li><li>'1960'</li><li>'1960'</li><li>'1960'</li><li>'1960'</li><li>'1961'</li><li>'1961'</li><li>'1961'</li><li>'1961'</li><li>'1961'</li><li>'1961'</li><li>'1961'</li><li>'1961'</li><li>'1961'</li><li>'1961'</li><li>'1961'</li><li>'1961'</li><li>'1961'</li><li>'1961'</li><li>'1962'</li><li>'1962'</li><li>'1962'</li><li>'1962'</li><li>'1962'</li><li>'1962'</li><li>'1962'</li><li>'1962'</li><li>'1962'</li><li>'1962'</li><li>'1962'</li><li>'1962'</li><li>'1962'</li><li>'1962'</li><li>'1963'</li><li>'1963'</li><li>'1963'</li><li>'1963'</li><li>'1963'</li><li>'1963'</li><li>'1963'</li><li>'1963'</li><li>'1963'</li><li>'1963'</li><li>'1963'</li><li>'1963'</li><li>'1963'</li><li>'1963'</li><li>'1964'</li><li>'1964'</li><li>'1964'</li><li>'1964'</li><li>'1964'</li><li>'1964'</li><li>'1964'</li><li>'1964'</li><li>'1964'</li><li>'1964'</li><li>'1964'</li><li>'1964'</li><li>'1964'</li><li>'1964'</li><li>'1965'</li><li>'1965'</li><li>'1965'</li><li>'1965'</li><li>'1965'</li><li>'1965'</li><li>'1965'</li><li>'1965'</li><li>'1965'</li><li>'1965'</li><li>'1965'</li><li>'1965'</li><li>'1965'</li><li>'1965'</li><li>'1966'</li><li>'1966'</li><li>'1966'</li><li>'1966'</li><li>'1966'</li><li>'1966'</li><li>'1966'</li><li>'1966'</li><li>'1966'</li><li>'1966'</li><li>'1966'</li><li>'1966'</li><li>'1966'</li><li>'1966'</li><li>'1967'</li><li>'1967'</li><li>'1967'</li><li>'1967'</li><li>'1967'</li><li>'1967'</li><li>'1967'</li><li>'1967'</li><li>'1967'</li><li>'1967'</li><li>'1967'</li><li>'1967'</li><li>'1967'</li><li>'1967'</li><li>'1968'</li><li>'1968'</li><li>'1968'</li><li>'1968'</li><li>'1968'</li><li>'1968'</li><li>'1968'</li><li>'1968'</li><li>'1968'</li><li>'1968'</li><li>'1968'</li><li>'1968'</li><li>'1968'</li><li>'1968'</li><li>'1969'</li><li>'1969'</li><li>'1969'</li><li>'1969'</li><li>'1969'</li><li>'1969'</li><li>'1969'</li><li>'1969'</li><li>'1969'</li><li>'1969'</li><li>'1969'</li><li>'1969'</li><li>'1969'</li><li>'1969'</li><li>'1970'</li><li>'1970'</li><li>'1970'</li><li>'1970'</li><li>'1970'</li><li>'1970'</li><li>'1970'</li><li>'1970'</li><li>'1970'</li><li>'1970'</li><li>'1970'</li><li>'1970'</li><li>'1970'</li><li>'1970'</li><li>'1971'</li><li>'1971'</li><li>'1971'</li><li>'1971'</li><li>'1971'</li><li>'1971'</li><li>'1971'</li><li>'1971'</li><li>'1971'</li><li>'1971'</li><li>'1971'</li><li>'1971'</li><li>'1971'</li><li>'1971'</li><li>'1972'</li><li>'1972'</li><li>'1972'</li><li>'1972'</li><li>⋯</li><li>'2009'</li><li>'2009'</li><li>'2009'</li><li>'2009'</li><li>'2010'</li><li>'2010'</li><li>'2010'</li><li>'2010'</li><li>'2010'</li><li>'2010'</li><li>'2010'</li><li>'2010'</li><li>'2010'</li><li>'2010'</li><li>'2010'</li><li>'2010'</li><li>'2010'</li><li>'2010'</li><li>'2011'</li><li>'2011'</li><li>'2011'</li><li>'2011'</li><li>'2011'</li><li>'2011'</li><li>'2011'</li><li>'2011'</li><li>'2011'</li><li>'2011'</li><li>'2011'</li><li>'2011'</li><li>'2011'</li><li>'2011'</li><li>'2012'</li><li>'2012'</li><li>'2012'</li><li>'2012'</li><li>'2012'</li><li>'2012'</li><li>'2012'</li><li>'2012'</li><li>'2012'</li><li>'2012'</li><li>'2012'</li><li>'2012'</li><li>'2012'</li><li>'2012'</li><li>'2013'</li><li>'2013'</li><li>'2013'</li><li>'2013'</li><li>'2013'</li><li>'2013'</li><li>'2013'</li><li>'2013'</li><li>'2013'</li><li>'2013'</li><li>'2013'</li><li>'2013'</li><li>'2013'</li><li>'2013'</li><li>'2014'</li><li>'2014'</li><li>'2014'</li><li>'2014'</li><li>'2014'</li><li>'2014'</li><li>'2014'</li><li>'2014'</li><li>'2014'</li><li>'2014'</li><li>'2014'</li><li>'2014'</li><li>'2014'</li><li>'2014'</li><li>'2015'</li><li>'2015'</li><li>'2015'</li><li>'2015'</li><li>'2015'</li><li>'2015'</li><li>'2015'</li><li>'2015'</li><li>'2015'</li><li>'2015'</li><li>'2015'</li><li>'2015'</li><li>'2015'</li><li>'2015'</li><li>'2016'</li><li>'2016'</li><li>'2016'</li><li>'2016'</li><li>'2016'</li><li>'2016'</li><li>'2016'</li><li>'2016'</li><li>'2016'</li><li>'2016'</li><li>'2016'</li><li>'2016'</li><li>'2016'</li><li>'2016'</li><li>'2017'</li><li>'2017'</li><li>'2017'</li><li>'2017'</li><li>'2017'</li><li>'2017'</li><li>'2017'</li><li>'2017'</li><li>'2017'</li><li>'2017'</li><li>'2017'</li><li>'2017'</li><li>'2017'</li><li>'2017'</li><li>'2018'</li><li>'2018'</li><li>'2018'</li><li>'2018'</li><li>'2018'</li><li>'2018'</li><li>'2018'</li><li>'2018'</li><li>'2018'</li><li>'2018'</li><li>'2018'</li><li>'2018'</li><li>'2018'</li><li>'2018'</li><li>'2019'</li><li>'2019'</li><li>'2019'</li><li>'2019'</li><li>'2019'</li><li>'2019'</li><li>'2019'</li><li>'2019'</li><li>'2019'</li><li>'2019'</li><li>'2019'</li><li>'2019'</li><li>'2019'</li><li>'2019'</li><li>'2020'</li><li>'2020'</li><li>'2020'</li><li>'2020'</li><li>'2020'</li><li>'2020'</li><li>'2020'</li><li>'2020'</li><li>'2020'</li><li>'2020'</li><li>'2020'</li><li>'2020'</li><li>'2020'</li><li>'2020'</li><li>'2021'</li><li>'2021'</li><li>'2021'</li><li>'2021'</li><li>'2021'</li><li>'2021'</li><li>'2021'</li><li>'2021'</li><li>'2021'</li><li>'2021'</li><li>'2021'</li><li>'2021'</li><li>'2021'</li><li>'2021'</li><li>'2022'</li><li>'2022'</li><li>'2022'</li><li>'2022'</li><li>'2022'</li><li>'2022'</li><li>'2022'</li><li>'2022'</li><li>'2022'</li><li>'2022'</li><li>'2022'</li><li>'2022'</li><li>'2022'</li><li>'2022'</li><li>'2023'</li><li>'2023'</li><li>'2023'</li><li>'2023'</li><li>'2023'</li><li>'2023'</li><li>'2023'</li><li>'2023'</li><li>'2023'</li><li>'2023'</li><li>'2023'</li><li>'2023'</li><li>'2023'</li><li>'2023'</li></ol>\n"
            ],
            "text/markdown": "1. '1958'\n2. '1958'\n3. '1958'\n4. '1958'\n5. '1958'\n6. '1958'\n7. '1958'\n8. '1958'\n9. '1958'\n10. '1958'\n11. '1958'\n12. '1958'\n13. '1958'\n14. '1958'\n15. '1959'\n16. '1959'\n17. '1959'\n18. '1959'\n19. '1959'\n20. '1959'\n21. '1959'\n22. '1959'\n23. '1959'\n24. '1959'\n25. '1959'\n26. '1959'\n27. '1959'\n28. '1959'\n29. '1960'\n30. '1960'\n31. '1960'\n32. '1960'\n33. '1960'\n34. '1960'\n35. '1960'\n36. '1960'\n37. '1960'\n38. '1960'\n39. '1960'\n40. '1960'\n41. '1960'\n42. '1960'\n43. '1961'\n44. '1961'\n45. '1961'\n46. '1961'\n47. '1961'\n48. '1961'\n49. '1961'\n50. '1961'\n51. '1961'\n52. '1961'\n53. '1961'\n54. '1961'\n55. '1961'\n56. '1961'\n57. '1962'\n58. '1962'\n59. '1962'\n60. '1962'\n61. '1962'\n62. '1962'\n63. '1962'\n64. '1962'\n65. '1962'\n66. '1962'\n67. '1962'\n68. '1962'\n69. '1962'\n70. '1962'\n71. '1963'\n72. '1963'\n73. '1963'\n74. '1963'\n75. '1963'\n76. '1963'\n77. '1963'\n78. '1963'\n79. '1963'\n80. '1963'\n81. '1963'\n82. '1963'\n83. '1963'\n84. '1963'\n85. '1964'\n86. '1964'\n87. '1964'\n88. '1964'\n89. '1964'\n90. '1964'\n91. '1964'\n92. '1964'\n93. '1964'\n94. '1964'\n95. '1964'\n96. '1964'\n97. '1964'\n98. '1964'\n99. '1965'\n100. '1965'\n101. '1965'\n102. '1965'\n103. '1965'\n104. '1965'\n105. '1965'\n106. '1965'\n107. '1965'\n108. '1965'\n109. '1965'\n110. '1965'\n111. '1965'\n112. '1965'\n113. '1966'\n114. '1966'\n115. '1966'\n116. '1966'\n117. '1966'\n118. '1966'\n119. '1966'\n120. '1966'\n121. '1966'\n122. '1966'\n123. '1966'\n124. '1966'\n125. '1966'\n126. '1966'\n127. '1967'\n128. '1967'\n129. '1967'\n130. '1967'\n131. '1967'\n132. '1967'\n133. '1967'\n134. '1967'\n135. '1967'\n136. '1967'\n137. '1967'\n138. '1967'\n139. '1967'\n140. '1967'\n141. '1968'\n142. '1968'\n143. '1968'\n144. '1968'\n145. '1968'\n146. '1968'\n147. '1968'\n148. '1968'\n149. '1968'\n150. '1968'\n151. '1968'\n152. '1968'\n153. '1968'\n154. '1968'\n155. '1969'\n156. '1969'\n157. '1969'\n158. '1969'\n159. '1969'\n160. '1969'\n161. '1969'\n162. '1969'\n163. '1969'\n164. '1969'\n165. '1969'\n166. '1969'\n167. '1969'\n168. '1969'\n169. '1970'\n170. '1970'\n171. '1970'\n172. '1970'\n173. '1970'\n174. '1970'\n175. '1970'\n176. '1970'\n177. '1970'\n178. '1970'\n179. '1970'\n180. '1970'\n181. '1970'\n182. '1970'\n183. '1971'\n184. '1971'\n185. '1971'\n186. '1971'\n187. '1971'\n188. '1971'\n189. '1971'\n190. '1971'\n191. '1971'\n192. '1971'\n193. '1971'\n194. '1971'\n195. '1971'\n196. '1971'\n197. '1972'\n198. '1972'\n199. '1972'\n200. '1972'\n201. ⋯\n202. '2009'\n203. '2009'\n204. '2009'\n205. '2009'\n206. '2010'\n207. '2010'\n208. '2010'\n209. '2010'\n210. '2010'\n211. '2010'\n212. '2010'\n213. '2010'\n214. '2010'\n215. '2010'\n216. '2010'\n217. '2010'\n218. '2010'\n219. '2010'\n220. '2011'\n221. '2011'\n222. '2011'\n223. '2011'\n224. '2011'\n225. '2011'\n226. '2011'\n227. '2011'\n228. '2011'\n229. '2011'\n230. '2011'\n231. '2011'\n232. '2011'\n233. '2011'\n234. '2012'\n235. '2012'\n236. '2012'\n237. '2012'\n238. '2012'\n239. '2012'\n240. '2012'\n241. '2012'\n242. '2012'\n243. '2012'\n244. '2012'\n245. '2012'\n246. '2012'\n247. '2012'\n248. '2013'\n249. '2013'\n250. '2013'\n251. '2013'\n252. '2013'\n253. '2013'\n254. '2013'\n255. '2013'\n256. '2013'\n257. '2013'\n258. '2013'\n259. '2013'\n260. '2013'\n261. '2013'\n262. '2014'\n263. '2014'\n264. '2014'\n265. '2014'\n266. '2014'\n267. '2014'\n268. '2014'\n269. '2014'\n270. '2014'\n271. '2014'\n272. '2014'\n273. '2014'\n274. '2014'\n275. '2014'\n276. '2015'\n277. '2015'\n278. '2015'\n279. '2015'\n280. '2015'\n281. '2015'\n282. '2015'\n283. '2015'\n284. '2015'\n285. '2015'\n286. '2015'\n287. '2015'\n288. '2015'\n289. '2015'\n290. '2016'\n291. '2016'\n292. '2016'\n293. '2016'\n294. '2016'\n295. '2016'\n296. '2016'\n297. '2016'\n298. '2016'\n299. '2016'\n300. '2016'\n301. '2016'\n302. '2016'\n303. '2016'\n304. '2017'\n305. '2017'\n306. '2017'\n307. '2017'\n308. '2017'\n309. '2017'\n310. '2017'\n311. '2017'\n312. '2017'\n313. '2017'\n314. '2017'\n315. '2017'\n316. '2017'\n317. '2017'\n318. '2018'\n319. '2018'\n320. '2018'\n321. '2018'\n322. '2018'\n323. '2018'\n324. '2018'\n325. '2018'\n326. '2018'\n327. '2018'\n328. '2018'\n329. '2018'\n330. '2018'\n331. '2018'\n332. '2019'\n333. '2019'\n334. '2019'\n335. '2019'\n336. '2019'\n337. '2019'\n338. '2019'\n339. '2019'\n340. '2019'\n341. '2019'\n342. '2019'\n343. '2019'\n344. '2019'\n345. '2019'\n346. '2020'\n347. '2020'\n348. '2020'\n349. '2020'\n350. '2020'\n351. '2020'\n352. '2020'\n353. '2020'\n354. '2020'\n355. '2020'\n356. '2020'\n357. '2020'\n358. '2020'\n359. '2020'\n360. '2021'\n361. '2021'\n362. '2021'\n363. '2021'\n364. '2021'\n365. '2021'\n366. '2021'\n367. '2021'\n368. '2021'\n369. '2021'\n370. '2021'\n371. '2021'\n372. '2021'\n373. '2021'\n374. '2022'\n375. '2022'\n376. '2022'\n377. '2022'\n378. '2022'\n379. '2022'\n380. '2022'\n381. '2022'\n382. '2022'\n383. '2022'\n384. '2022'\n385. '2022'\n386. '2022'\n387. '2022'\n388. '2023'\n389. '2023'\n390. '2023'\n391. '2023'\n392. '2023'\n393. '2023'\n394. '2023'\n395. '2023'\n396. '2023'\n397. '2023'\n398. '2023'\n399. '2023'\n400. '2023'\n401. '2023'\n\n\n",
            "text/latex": "\\begin{enumerate*}\n\\item '1958'\n\\item '1958'\n\\item '1958'\n\\item '1958'\n\\item '1958'\n\\item '1958'\n\\item '1958'\n\\item '1958'\n\\item '1958'\n\\item '1958'\n\\item '1958'\n\\item '1958'\n\\item '1958'\n\\item '1958'\n\\item '1959'\n\\item '1959'\n\\item '1959'\n\\item '1959'\n\\item '1959'\n\\item '1959'\n\\item '1959'\n\\item '1959'\n\\item '1959'\n\\item '1959'\n\\item '1959'\n\\item '1959'\n\\item '1959'\n\\item '1959'\n\\item '1960'\n\\item '1960'\n\\item '1960'\n\\item '1960'\n\\item '1960'\n\\item '1960'\n\\item '1960'\n\\item '1960'\n\\item '1960'\n\\item '1960'\n\\item '1960'\n\\item '1960'\n\\item '1960'\n\\item '1960'\n\\item '1961'\n\\item '1961'\n\\item '1961'\n\\item '1961'\n\\item '1961'\n\\item '1961'\n\\item '1961'\n\\item '1961'\n\\item '1961'\n\\item '1961'\n\\item '1961'\n\\item '1961'\n\\item '1961'\n\\item '1961'\n\\item '1962'\n\\item '1962'\n\\item '1962'\n\\item '1962'\n\\item '1962'\n\\item '1962'\n\\item '1962'\n\\item '1962'\n\\item '1962'\n\\item '1962'\n\\item '1962'\n\\item '1962'\n\\item '1962'\n\\item '1962'\n\\item '1963'\n\\item '1963'\n\\item '1963'\n\\item '1963'\n\\item '1963'\n\\item '1963'\n\\item '1963'\n\\item '1963'\n\\item '1963'\n\\item '1963'\n\\item '1963'\n\\item '1963'\n\\item '1963'\n\\item '1963'\n\\item '1964'\n\\item '1964'\n\\item '1964'\n\\item '1964'\n\\item '1964'\n\\item '1964'\n\\item '1964'\n\\item '1964'\n\\item '1964'\n\\item '1964'\n\\item '1964'\n\\item '1964'\n\\item '1964'\n\\item '1964'\n\\item '1965'\n\\item '1965'\n\\item '1965'\n\\item '1965'\n\\item '1965'\n\\item '1965'\n\\item '1965'\n\\item '1965'\n\\item '1965'\n\\item '1965'\n\\item '1965'\n\\item '1965'\n\\item '1965'\n\\item '1965'\n\\item '1966'\n\\item '1966'\n\\item '1966'\n\\item '1966'\n\\item '1966'\n\\item '1966'\n\\item '1966'\n\\item '1966'\n\\item '1966'\n\\item '1966'\n\\item '1966'\n\\item '1966'\n\\item '1966'\n\\item '1966'\n\\item '1967'\n\\item '1967'\n\\item '1967'\n\\item '1967'\n\\item '1967'\n\\item '1967'\n\\item '1967'\n\\item '1967'\n\\item '1967'\n\\item '1967'\n\\item '1967'\n\\item '1967'\n\\item '1967'\n\\item '1967'\n\\item '1968'\n\\item '1968'\n\\item '1968'\n\\item '1968'\n\\item '1968'\n\\item '1968'\n\\item '1968'\n\\item '1968'\n\\item '1968'\n\\item '1968'\n\\item '1968'\n\\item '1968'\n\\item '1968'\n\\item '1968'\n\\item '1969'\n\\item '1969'\n\\item '1969'\n\\item '1969'\n\\item '1969'\n\\item '1969'\n\\item '1969'\n\\item '1969'\n\\item '1969'\n\\item '1969'\n\\item '1969'\n\\item '1969'\n\\item '1969'\n\\item '1969'\n\\item '1970'\n\\item '1970'\n\\item '1970'\n\\item '1970'\n\\item '1970'\n\\item '1970'\n\\item '1970'\n\\item '1970'\n\\item '1970'\n\\item '1970'\n\\item '1970'\n\\item '1970'\n\\item '1970'\n\\item '1970'\n\\item '1971'\n\\item '1971'\n\\item '1971'\n\\item '1971'\n\\item '1971'\n\\item '1971'\n\\item '1971'\n\\item '1971'\n\\item '1971'\n\\item '1971'\n\\item '1971'\n\\item '1971'\n\\item '1971'\n\\item '1971'\n\\item '1972'\n\\item '1972'\n\\item '1972'\n\\item '1972'\n\\item ⋯\n\\item '2009'\n\\item '2009'\n\\item '2009'\n\\item '2009'\n\\item '2010'\n\\item '2010'\n\\item '2010'\n\\item '2010'\n\\item '2010'\n\\item '2010'\n\\item '2010'\n\\item '2010'\n\\item '2010'\n\\item '2010'\n\\item '2010'\n\\item '2010'\n\\item '2010'\n\\item '2010'\n\\item '2011'\n\\item '2011'\n\\item '2011'\n\\item '2011'\n\\item '2011'\n\\item '2011'\n\\item '2011'\n\\item '2011'\n\\item '2011'\n\\item '2011'\n\\item '2011'\n\\item '2011'\n\\item '2011'\n\\item '2011'\n\\item '2012'\n\\item '2012'\n\\item '2012'\n\\item '2012'\n\\item '2012'\n\\item '2012'\n\\item '2012'\n\\item '2012'\n\\item '2012'\n\\item '2012'\n\\item '2012'\n\\item '2012'\n\\item '2012'\n\\item '2012'\n\\item '2013'\n\\item '2013'\n\\item '2013'\n\\item '2013'\n\\item '2013'\n\\item '2013'\n\\item '2013'\n\\item '2013'\n\\item '2013'\n\\item '2013'\n\\item '2013'\n\\item '2013'\n\\item '2013'\n\\item '2013'\n\\item '2014'\n\\item '2014'\n\\item '2014'\n\\item '2014'\n\\item '2014'\n\\item '2014'\n\\item '2014'\n\\item '2014'\n\\item '2014'\n\\item '2014'\n\\item '2014'\n\\item '2014'\n\\item '2014'\n\\item '2014'\n\\item '2015'\n\\item '2015'\n\\item '2015'\n\\item '2015'\n\\item '2015'\n\\item '2015'\n\\item '2015'\n\\item '2015'\n\\item '2015'\n\\item '2015'\n\\item '2015'\n\\item '2015'\n\\item '2015'\n\\item '2015'\n\\item '2016'\n\\item '2016'\n\\item '2016'\n\\item '2016'\n\\item '2016'\n\\item '2016'\n\\item '2016'\n\\item '2016'\n\\item '2016'\n\\item '2016'\n\\item '2016'\n\\item '2016'\n\\item '2016'\n\\item '2016'\n\\item '2017'\n\\item '2017'\n\\item '2017'\n\\item '2017'\n\\item '2017'\n\\item '2017'\n\\item '2017'\n\\item '2017'\n\\item '2017'\n\\item '2017'\n\\item '2017'\n\\item '2017'\n\\item '2017'\n\\item '2017'\n\\item '2018'\n\\item '2018'\n\\item '2018'\n\\item '2018'\n\\item '2018'\n\\item '2018'\n\\item '2018'\n\\item '2018'\n\\item '2018'\n\\item '2018'\n\\item '2018'\n\\item '2018'\n\\item '2018'\n\\item '2018'\n\\item '2019'\n\\item '2019'\n\\item '2019'\n\\item '2019'\n\\item '2019'\n\\item '2019'\n\\item '2019'\n\\item '2019'\n\\item '2019'\n\\item '2019'\n\\item '2019'\n\\item '2019'\n\\item '2019'\n\\item '2019'\n\\item '2020'\n\\item '2020'\n\\item '2020'\n\\item '2020'\n\\item '2020'\n\\item '2020'\n\\item '2020'\n\\item '2020'\n\\item '2020'\n\\item '2020'\n\\item '2020'\n\\item '2020'\n\\item '2020'\n\\item '2020'\n\\item '2021'\n\\item '2021'\n\\item '2021'\n\\item '2021'\n\\item '2021'\n\\item '2021'\n\\item '2021'\n\\item '2021'\n\\item '2021'\n\\item '2021'\n\\item '2021'\n\\item '2021'\n\\item '2021'\n\\item '2021'\n\\item '2022'\n\\item '2022'\n\\item '2022'\n\\item '2022'\n\\item '2022'\n\\item '2022'\n\\item '2022'\n\\item '2022'\n\\item '2022'\n\\item '2022'\n\\item '2022'\n\\item '2022'\n\\item '2022'\n\\item '2022'\n\\item '2023'\n\\item '2023'\n\\item '2023'\n\\item '2023'\n\\item '2023'\n\\item '2023'\n\\item '2023'\n\\item '2023'\n\\item '2023'\n\\item '2023'\n\\item '2023'\n\\item '2023'\n\\item '2023'\n\\item '2023'\n\\end{enumerate*}\n",
            "text/plain": [
              "  [1] \"1958\" \"1958\" \"1958\" \"1958\" \"1958\" \"1958\" \"1958\" \"1958\" \"1958\" \"1958\"\n",
              " [11] \"1958\" \"1958\" \"1958\" \"1958\" \"1959\" \"1959\" \"1959\" \"1959\" \"1959\" \"1959\"\n",
              " [21] \"1959\" \"1959\" \"1959\" \"1959\" \"1959\" \"1959\" \"1959\" \"1959\" \"1960\" \"1960\"\n",
              " [31] \"1960\" \"1960\" \"1960\" \"1960\" \"1960\" \"1960\" \"1960\" \"1960\" \"1960\" \"1960\"\n",
              " [41] \"1960\" \"1960\" \"1961\" \"1961\" \"1961\" \"1961\" \"1961\" \"1961\" \"1961\" \"1961\"\n",
              " [51] \"1961\" \"1961\" \"1961\" \"1961\" \"1961\" \"1961\" \"1962\" \"1962\" \"1962\" \"1962\"\n",
              " [61] \"1962\" \"1962\" \"1962\" \"1962\" \"1962\" \"1962\" \"1962\" \"1962\" \"1962\" \"1962\"\n",
              " [71] \"1963\" \"1963\" \"1963\" \"1963\" \"1963\" \"1963\" \"1963\" \"1963\" \"1963\" \"1963\"\n",
              " [81] \"1963\" \"1963\" \"1963\" \"1963\" \"1964\" \"1964\" \"1964\" \"1964\" \"1964\" \"1964\"\n",
              " [91] \"1964\" \"1964\" \"1964\" \"1964\" \"1964\" \"1964\" \"1964\" \"1964\" \"1965\" \"1965\"\n",
              "[101] \"1965\" \"1965\" \"1965\" \"1965\" \"1965\" \"1965\" \"1965\" \"1965\" \"1965\" \"1965\"\n",
              "[111] \"1965\" \"1965\" \"1966\" \"1966\" \"1966\" \"1966\" \"1966\" \"1966\" \"1966\" \"1966\"\n",
              "[121] \"1966\" \"1966\" \"1966\" \"1966\" \"1966\" \"1966\" \"1967\" \"1967\" \"1967\" \"1967\"\n",
              "[131] \"1967\" \"1967\" \"1967\" \"1967\" \"1967\" \"1967\" \"1967\" \"1967\" \"1967\" \"1967\"\n",
              "[141] \"1968\" \"1968\" \"1968\" \"1968\" \"1968\" \"1968\" \"1968\" \"1968\" \"1968\" \"1968\"\n",
              "[151] \"1968\" \"1968\" \"1968\" \"1968\" \"1969\" \"1969\" \"1969\" \"1969\" \"1969\" \"1969\"\n",
              "[161] \"1969\" \"1969\" \"1969\" \"1969\" \"1969\" \"1969\" \"1969\" \"1969\" \"1970\" \"1970\"\n",
              "[171] \"1970\" \"1970\" \"1970\" \"1970\" \"1970\" \"1970\" \"1970\" \"1970\" \"1970\" \"1970\"\n",
              "[181] \"1970\" \"1970\" \"1971\" \"1971\" \"1971\" \"1971\" \"1971\" \"1971\" \"1971\" \"1971\"\n",
              "[191] \"1971\" \"1971\" \"1971\" \"1971\" \"1971\" \"1971\" \"1972\" \"1972\" \"1972\" \"1972\"\n",
              "[201] \"1972\" \"1972\" \"1972\" \"1972\" \"1972\" \"1972\" \"1972\" \"1972\" \"1972\" \"1972\"\n",
              "[211] \"1973\" \"1973\" \"1973\" \"1973\" \"1973\" \"1973\" \"1973\" \"1973\" \"1973\" \"1973\"\n",
              "[221] \"1973\" \"1973\" \"1973\" \"1973\" \"1974\" \"1974\" \"1974\" \"1974\" \"1974\" \"1974\"\n",
              "[231] \"1974\" \"1974\" \"1974\" \"1974\" \"1974\" \"1974\" \"1974\" \"1974\" \"1975\" \"1975\"\n",
              "[241] \"1975\" \"1975\" \"1975\" \"1975\" \"1975\" \"1975\" \"1975\" \"1975\" \"1975\" \"1975\"\n",
              "[251] \"1975\" \"1975\" \"1976\" \"1976\" \"1976\" \"1976\" \"1976\" \"1976\" \"1976\" \"1976\"\n",
              "[261] \"1976\" \"1976\" \"1976\" \"1976\" \"1976\" \"1976\" \"1977\" \"1977\" \"1977\" \"1977\"\n",
              "[271] \"1977\" \"1977\" \"1977\" \"1977\" \"1977\" \"1977\" \"1977\" \"1977\" \"1977\" \"1977\"\n",
              "[281] \"1978\" \"1978\" \"1978\" \"1978\" \"1978\" \"1978\" \"1978\" \"1978\" \"1978\" \"1978\"\n",
              "[291] \"1978\" \"1978\" \"1978\" \"1978\" \"1979\" \"1979\" \"1979\" \"1979\" \"1979\" \"1979\"\n",
              "[301] \"1979\" \"1979\" \"1979\" \"1979\" \"1979\" \"1979\" \"1979\" \"1979\" \"1980\" \"1980\"\n",
              "[311] \"1980\" \"1980\" \"1980\" \"1980\" \"1980\" \"1980\" \"1980\" \"1980\" \"1980\" \"1980\"\n",
              "[321] \"1980\" \"1980\" \"1981\" \"1981\" \"1981\" \"1981\" \"1981\" \"1981\" \"1981\" \"1981\"\n",
              "[331] \"1981\" \"1981\" \"1981\" \"1981\" \"1981\" \"1981\" \"1982\" \"1982\" \"1982\" \"1982\"\n",
              "[341] \"1982\" \"1982\" \"1982\" \"1982\" \"1982\" \"1982\" \"1982\" \"1982\" \"1982\" \"1982\"\n",
              "[351] \"1983\" \"1983\" \"1983\" \"1983\" \"1983\" \"1983\" \"1983\" \"1983\" \"1983\" \"1983\"\n",
              "[361] \"1983\" \"1983\" \"1983\" \"1983\" \"1984\" \"1984\" \"1984\" \"1984\" \"1984\" \"1984\"\n",
              "[371] \"1984\" \"1984\" \"1984\" \"1984\" \"1984\" \"1984\" \"1984\" \"1984\" \"1985\" \"1985\"\n",
              "[381] \"1985\" \"1985\" \"1985\" \"1985\" \"1985\" \"1985\" \"1985\" \"1985\" \"1985\" \"1985\"\n",
              "[391] \"1985\" \"1985\" \"1986\" \"1986\" \"1986\" \"1986\" \"1986\" \"1986\" \"1986\" \"1986\"\n",
              "[401] \"1986\" \"1986\" \"1986\" \"1986\" \"1986\" \"1986\" \"1987\" \"1987\" \"1987\" \"1987\"\n",
              "[411] \"1987\" \"1987\" \"1987\" \"1987\" \"1987\" \"1987\" \"1987\" \"1987\" \"1987\" \"1987\"\n",
              "[421] \"1988\" \"1988\" \"1988\" \"1988\" \"1988\" \"1988\" \"1988\" \"1988\" \"1988\" \"1988\"\n",
              "[431] \"1988\" \"1988\" \"1988\" \"1988\" \"1989\" \"1989\" \"1989\" \"1989\" \"1989\" \"1989\"\n",
              "[441] \"1989\" \"1989\" \"1989\" \"1989\" \"1989\" \"1989\" \"1989\" \"1989\" \"1990\" \"1990\"\n",
              "[451] \"1990\" \"1990\" \"1990\" \"1990\" \"1990\" \"1990\" \"1990\" \"1990\" \"1990\" \"1990\"\n",
              "[461] \"1990\" \"1990\" \"1991\" \"1991\" \"1991\" \"1991\" \"1991\" \"1991\" \"1991\" \"1991\"\n",
              "[471] \"1991\" \"1991\" \"1991\" \"1991\" \"1991\" \"1991\" \"1992\" \"1992\" \"1992\" \"1992\"\n",
              "[481] \"1992\" \"1992\" \"1992\" \"1992\" \"1992\" \"1992\" \"1992\" \"1992\" \"1992\" \"1992\"\n",
              "[491] \"1993\" \"1993\" \"1993\" \"1993\" \"1993\" \"1993\" \"1993\" \"1993\" \"1993\" \"1993\"\n",
              "[501] \"1993\" \"1993\" \"1993\" \"1993\" \"1994\" \"1994\" \"1994\" \"1994\" \"1994\" \"1994\"\n",
              "[511] \"1994\" \"1994\" \"1994\" \"1994\" \"1994\" \"1994\" \"1994\" \"1994\" \"1995\" \"1995\"\n",
              "[521] \"1995\" \"1995\" \"1995\" \"1995\" \"1995\" \"1995\" \"1995\" \"1995\" \"1995\" \"1995\"\n",
              "[531] \"1995\" \"1995\" \"1996\" \"1996\" \"1996\" \"1996\" \"1996\" \"1996\" \"1996\" \"1996\"\n",
              "[541] \"1996\" \"1996\" \"1996\" \"1996\" \"1996\" \"1996\" \"1997\" \"1997\" \"1997\" \"1997\"\n",
              "[551] \"1997\" \"1997\" \"1997\" \"1997\" \"1997\" \"1997\" \"1997\" \"1997\" \"1997\" \"1997\"\n",
              "[561] \"1998\" \"1998\" \"1998\" \"1998\" \"1998\" \"1998\" \"1998\" \"1998\" \"1998\" \"1998\"\n",
              "[571] \"1998\" \"1998\" \"1998\" \"1998\" \"1999\" \"1999\" \"1999\" \"1999\" \"1999\" \"1999\"\n",
              "[581] \"1999\" \"1999\" \"1999\" \"1999\" \"1999\" \"1999\" \"1999\" \"1999\" \"2000\" \"2000\"\n",
              "[591] \"2000\" \"2000\" \"2000\" \"2000\" \"2000\" \"2000\" \"2000\" \"2000\" \"2000\" \"2000\"\n",
              "[601] \"2000\" \"2000\" \"2001\" \"2001\" \"2001\" \"2001\" \"2001\" \"2001\" \"2001\" \"2001\"\n",
              "[611] \"2001\" \"2001\" \"2001\" \"2001\" \"2001\" \"2001\" \"2002\" \"2002\" \"2002\" \"2002\"\n",
              "[621] \"2002\" \"2002\" \"2002\" \"2002\" \"2002\" \"2002\" \"2002\" \"2002\" \"2002\" \"2002\"\n",
              "[631] \"2003\" \"2003\" \"2003\" \"2003\" \"2003\" \"2003\" \"2003\" \"2003\" \"2003\" \"2003\"\n",
              "[641] \"2003\" \"2003\" \"2003\" \"2003\" \"2004\" \"2004\" \"2004\" \"2004\" \"2004\" \"2004\"\n",
              "[651] \"2004\" \"2004\" \"2004\" \"2004\" \"2004\" \"2004\" \"2004\" \"2004\" \"2005\" \"2005\"\n",
              "[661] \"2005\" \"2005\" \"2005\" \"2005\" \"2005\" \"2005\" \"2005\" \"2005\" \"2005\" \"2005\"\n",
              "[671] \"2005\" \"2005\" \"2006\" \"2006\" \"2006\" \"2006\" \"2006\" \"2006\" \"2006\" \"2006\"\n",
              "[681] \"2006\" \"2006\" \"2006\" \"2006\" \"2006\" \"2006\" \"2007\" \"2007\" \"2007\" \"2007\"\n",
              "[691] \"2007\" \"2007\" \"2007\" \"2007\" \"2007\" \"2007\" \"2007\" \"2007\" \"2007\" \"2007\"\n",
              "[701] \"2008\" \"2008\" \"2008\" \"2008\" \"2008\" \"2008\" \"2008\" \"2008\" \"2008\" \"2008\"\n",
              "[711] \"2008\" \"2008\" \"2008\" \"2008\" \"2009\" \"2009\" \"2009\" \"2009\" \"2009\" \"2009\"\n",
              "[721] \"2009\" \"2009\" \"2009\" \"2009\" \"2009\" \"2009\" \"2009\" \"2009\" \"2010\" \"2010\"\n",
              "[731] \"2010\" \"2010\" \"2010\" \"2010\" \"2010\" \"2010\" \"2010\" \"2010\" \"2010\" \"2010\"\n",
              "[741] \"2010\" \"2010\" \"2011\" \"2011\" \"2011\" \"2011\" \"2011\" \"2011\" \"2011\" \"2011\"\n",
              "[751] \"2011\" \"2011\" \"2011\" \"2011\" \"2011\" \"2011\" \"2012\" \"2012\" \"2012\" \"2012\"\n",
              "[761] \"2012\" \"2012\" \"2012\" \"2012\" \"2012\" \"2012\" \"2012\" \"2012\" \"2012\" \"2012\"\n",
              "[771] \"2013\" \"2013\" \"2013\" \"2013\" \"2013\" \"2013\" \"2013\" \"2013\" \"2013\" \"2013\"\n",
              "[781] \"2013\" \"2013\" \"2013\" \"2013\" \"2014\" \"2014\" \"2014\" \"2014\" \"2014\" \"2014\"\n",
              "[791] \"2014\" \"2014\" \"2014\" \"2014\" \"2014\" \"2014\" \"2014\" \"2014\" \"2015\" \"2015\"\n",
              "[801] \"2015\" \"2015\" \"2015\" \"2015\" \"2015\" \"2015\" \"2015\" \"2015\" \"2015\" \"2015\"\n",
              "[811] \"2015\" \"2015\" \"2016\" \"2016\" \"2016\" \"2016\" \"2016\" \"2016\" \"2016\" \"2016\"\n",
              "[821] \"2016\" \"2016\" \"2016\" \"2016\" \"2016\" \"2016\" \"2017\" \"2017\" \"2017\" \"2017\"\n",
              "[831] \"2017\" \"2017\" \"2017\" \"2017\" \"2017\" \"2017\" \"2017\" \"2017\" \"2017\" \"2017\"\n",
              "[841] \"2018\" \"2018\" \"2018\" \"2018\" \"2018\" \"2018\" \"2018\" \"2018\" \"2018\" \"2018\"\n",
              "[851] \"2018\" \"2018\" \"2018\" \"2018\" \"2019\" \"2019\" \"2019\" \"2019\" \"2019\" \"2019\"\n",
              "[861] \"2019\" \"2019\" \"2019\" \"2019\" \"2019\" \"2019\" \"2019\" \"2019\" \"2020\" \"2020\"\n",
              "[871] \"2020\" \"2020\" \"2020\" \"2020\" \"2020\" \"2020\" \"2020\" \"2020\" \"2020\" \"2020\"\n",
              "[881] \"2020\" \"2020\" \"2021\" \"2021\" \"2021\" \"2021\" \"2021\" \"2021\" \"2021\" \"2021\"\n",
              "[891] \"2021\" \"2021\" \"2021\" \"2021\" \"2021\" \"2021\" \"2022\" \"2022\" \"2022\" \"2022\"\n",
              "[901] \"2022\" \"2022\" \"2022\" \"2022\" \"2022\" \"2022\" \"2022\" \"2022\" \"2022\" \"2022\"\n",
              "[911] \"2023\" \"2023\" \"2023\" \"2023\" \"2023\" \"2023\" \"2023\" \"2023\" \"2023\" \"2023\"\n",
              "[921] \"2023\" \"2023\" \"2023\" \"2023\""
            ]
          },
          "metadata": {}
        }
      ]
    },
    {
      "cell_type": "code",
      "execution_count": 36,
      "metadata": {
        "id": "BNXu25ojfWi1"
      },
      "outputs": [],
      "source": [
        "by_year_climate_dt <-\n",
        "  1:nrow(gedi_dist_dt) %>% lapply(function(y){\n",
        "  year_y <- gedi_dist_dt$band_year[y] %>% as.numeric\n",
        "  climate_sub <- climate_gpkg[y,climate_years >= year_y]\n",
        "  var_list <- climate_sub %>% names %>% strsplit('_')  %>% lapply(function(x){x[2]}) %>% unlist\n",
        "  var_list_unique <- var_list %>% unique\n",
        "\n",
        "  var_list_unique %>% unique %>% lapply(function(x){\n",
        "    dt_out <- data.table(climate_sub[,var_list %in% x] %>% unlist %>% mean)\n",
        "    names(dt_out) <- x\n",
        "    return(dt_out)\n",
        "  }) %>% do.call(cbind,.) %>% return()\n",
        "  }) %>% rbindlist"
      ]
    },
    {
      "cell_type": "code",
      "source": [
        "by_year_climate_dt"
      ],
      "metadata": {
        "colab": {
          "base_uri": "https://localhost:8080/",
          "height": 1000
        },
        "id": "TDm5UNAv9W9g",
        "outputId": "fc383d29-9778-4418-ee84-9d40e0d1370b"
      },
      "execution_count": 37,
      "outputs": [
        {
          "output_type": "display_data",
          "data": {
            "text/html": [
              "<table class=\"dataframe\">\n",
              "<caption>A data.table: 893143 × 14</caption>\n",
              "<thead>\n",
              "\t<tr><th scope=col>aet</th><th scope=col>def</th><th scope=col>pdsi</th><th scope=col>pet</th><th scope=col>pr</th><th scope=col>ro</th><th scope=col>soil</th><th scope=col>srad</th><th scope=col>swe</th><th scope=col>tmmn</th><th scope=col>tmmx</th><th scope=col>vap</th><th scope=col>vpd</th><th scope=col>vs</th></tr>\n",
              "\t<tr><th scope=col>&lt;dbl&gt;</th><th scope=col>&lt;dbl&gt;</th><th scope=col>&lt;dbl&gt;</th><th scope=col>&lt;dbl&gt;</th><th scope=col>&lt;dbl&gt;</th><th scope=col>&lt;dbl&gt;</th><th scope=col>&lt;dbl&gt;</th><th scope=col>&lt;dbl&gt;</th><th scope=col>&lt;dbl&gt;</th><th scope=col>&lt;dbl&gt;</th><th scope=col>&lt;dbl&gt;</th><th scope=col>&lt;dbl&gt;</th><th scope=col>&lt;dbl&gt;</th><th scope=col>&lt;dbl&gt;</th></tr>\n",
              "</thead>\n",
              "<tbody>\n",
              "\t<tr><td>515.2500</td><td>230.6944</td><td>-82.58333</td><td>745.9167</td><td>156.1944</td><td>107.33334</td><td>1600.528</td><td>1598.306</td><td>97.91666</td><td>23.16667</td><td>127.1944</td><td>619.6111</td><td>59.72222</td><td>356.1111</td></tr>\n",
              "\t<tr><td>515.2500</td><td>230.6944</td><td>-82.58334</td><td>745.9167</td><td>156.1944</td><td>107.33334</td><td>1600.528</td><td>1598.306</td><td>97.91666</td><td>23.16667</td><td>127.1944</td><td>619.6111</td><td>59.72222</td><td>356.1111</td></tr>\n",
              "\t<tr><td>515.2500</td><td>230.6944</td><td>-82.58334</td><td>745.9167</td><td>156.1944</td><td>107.33334</td><td>1600.528</td><td>1598.306</td><td>97.91667</td><td>23.16667</td><td>127.1944</td><td>619.6111</td><td>59.72222</td><td>356.1111</td></tr>\n",
              "\t<tr><td>515.2500</td><td>230.6944</td><td>-82.58333</td><td>745.9167</td><td>156.1944</td><td>107.33334</td><td>1600.528</td><td>1598.306</td><td>97.91667</td><td>23.16667</td><td>127.1944</td><td>619.6111</td><td>59.72222</td><td>356.1111</td></tr>\n",
              "\t<tr><td>515.2500</td><td>230.6944</td><td>-82.58333</td><td>745.9167</td><td>156.1944</td><td>107.33333</td><td>1600.528</td><td>1598.306</td><td>97.91666</td><td>23.16667</td><td>127.1944</td><td>619.6111</td><td>59.72222</td><td>356.1111</td></tr>\n",
              "\t<tr><td>521.4444</td><td>266.3611</td><td>-85.13888</td><td>787.8333</td><td>144.2222</td><td> 93.61111</td><td>1662.722</td><td>1601.722</td><td>61.86111</td><td>30.91667</td><td>141.1667</td><td>693.6667</td><td>63.36111</td><td>345.2778</td></tr>\n",
              "\t<tr><td>521.4444</td><td>266.3611</td><td>-85.13889</td><td>787.8333</td><td>144.2222</td><td> 93.61111</td><td>1662.722</td><td>1601.722</td><td>61.86111</td><td>30.91667</td><td>141.1667</td><td>693.6667</td><td>63.36111</td><td>345.2778</td></tr>\n",
              "\t<tr><td>521.4444</td><td>266.3611</td><td>-85.13889</td><td>787.8333</td><td>144.2222</td><td> 93.61111</td><td>1662.722</td><td>1601.722</td><td>61.86111</td><td>30.91667</td><td>141.1667</td><td>693.6667</td><td>63.36111</td><td>345.2778</td></tr>\n",
              "\t<tr><td>521.4444</td><td>266.3611</td><td>-85.13889</td><td>787.8333</td><td>144.2222</td><td> 93.61111</td><td>1662.722</td><td>1601.722</td><td>61.86111</td><td>30.91667</td><td>141.1667</td><td>693.6667</td><td>63.36111</td><td>345.2778</td></tr>\n",
              "\t<tr><td>521.4444</td><td>266.3611</td><td>-85.13889</td><td>787.8333</td><td>144.2222</td><td> 93.61111</td><td>1662.722</td><td>1601.722</td><td>61.86111</td><td>30.91667</td><td>141.1667</td><td>693.6667</td><td>63.36111</td><td>345.2778</td></tr>\n",
              "\t<tr><td>521.4444</td><td>266.3611</td><td>-85.13889</td><td>787.8333</td><td>144.2222</td><td> 93.61111</td><td>1662.722</td><td>1601.722</td><td>61.86111</td><td>30.91667</td><td>141.1667</td><td>693.6667</td><td>63.36111</td><td>345.2778</td></tr>\n",
              "\t<tr><td>515.2500</td><td>230.6944</td><td>-82.58333</td><td>745.9167</td><td>156.1944</td><td>107.33333</td><td>1600.528</td><td>1598.306</td><td>97.91666</td><td>23.16667</td><td>127.1944</td><td>619.6111</td><td>59.72222</td><td>356.1111</td></tr>\n",
              "\t<tr><td>515.2500</td><td>230.6944</td><td>-82.58334</td><td>745.9167</td><td>156.1944</td><td>107.33333</td><td>1600.528</td><td>1598.306</td><td>97.91667</td><td>23.16667</td><td>127.1944</td><td>619.6111</td><td>59.72222</td><td>356.1111</td></tr>\n",
              "\t<tr><td>515.2500</td><td>230.6944</td><td>-82.58333</td><td>745.9167</td><td>156.1944</td><td>107.33334</td><td>1600.528</td><td>1598.306</td><td>97.91667</td><td>23.16667</td><td>127.1944</td><td>619.6111</td><td>59.72222</td><td>356.1111</td></tr>\n",
              "\t<tr><td>515.2500</td><td>230.6944</td><td>-82.58334</td><td>745.9167</td><td>156.1944</td><td>107.33334</td><td>1600.528</td><td>1598.306</td><td>97.91667</td><td>23.16667</td><td>127.1944</td><td>619.6111</td><td>59.72222</td><td>356.1111</td></tr>\n",
              "\t<tr><td>515.2500</td><td>230.6944</td><td>-82.58333</td><td>745.9167</td><td>156.1944</td><td>107.33333</td><td>1600.528</td><td>1598.306</td><td>97.91667</td><td>23.16667</td><td>127.1944</td><td>619.6111</td><td>59.72222</td><td>356.1111</td></tr>\n",
              "\t<tr><td>515.2500</td><td>230.6944</td><td>-82.58334</td><td>745.9166</td><td>156.1944</td><td>107.33334</td><td>1600.528</td><td>1598.306</td><td>97.91667</td><td>23.16667</td><td>127.1944</td><td>619.6111</td><td>59.72222</td><td>356.1111</td></tr>\n",
              "\t<tr><td>515.2500</td><td>230.6944</td><td>-82.58334</td><td>745.9166</td><td>156.1944</td><td>107.33333</td><td>1600.528</td><td>1598.306</td><td>97.91666</td><td>23.16667</td><td>127.1944</td><td>619.6111</td><td>59.72222</td><td>356.1111</td></tr>\n",
              "\t<tr><td>515.2500</td><td>230.6944</td><td>-82.58333</td><td>745.9167</td><td>156.1944</td><td>107.33334</td><td>1600.528</td><td>1598.306</td><td>97.91666</td><td>23.16667</td><td>127.1944</td><td>619.6111</td><td>59.72222</td><td>356.1111</td></tr>\n",
              "\t<tr><td>521.4445</td><td>266.3611</td><td>-85.13889</td><td>787.8333</td><td>144.2222</td><td> 93.61111</td><td>1662.722</td><td>1601.722</td><td>61.86111</td><td>30.91667</td><td>141.1667</td><td>693.6667</td><td>63.36111</td><td>345.2778</td></tr>\n",
              "\t<tr><td>515.2500</td><td>230.6944</td><td>-82.58333</td><td>745.9166</td><td>156.1944</td><td>107.33333</td><td>1600.528</td><td>1598.306</td><td>97.91667</td><td>23.16667</td><td>127.1944</td><td>619.6111</td><td>59.72222</td><td>356.1111</td></tr>\n",
              "\t<tr><td>514.7772</td><td>232.6924</td><td>-86.65537</td><td>747.4799</td><td>154.9515</td><td>105.80823</td><td>1588.891</td><td>1598.641</td><td>93.77600</td><td>23.09804</td><td>127.6977</td><td>621.0600</td><td>59.78323</td><td>356.1111</td></tr>\n",
              "\t<tr><td>515.2500</td><td>230.6944</td><td>-82.58333</td><td>745.9166</td><td>156.1944</td><td>107.33333</td><td>1600.528</td><td>1598.306</td><td>97.91666</td><td>23.16667</td><td>127.1944</td><td>619.6111</td><td>59.72222</td><td>356.1111</td></tr>\n",
              "\t<tr><td>521.4444</td><td>266.3611</td><td>-85.13889</td><td>787.8333</td><td>144.2222</td><td> 93.61111</td><td>1662.722</td><td>1601.722</td><td>61.86111</td><td>30.91667</td><td>141.1667</td><td>693.6667</td><td>63.36111</td><td>345.2778</td></tr>\n",
              "\t<tr><td>521.4444</td><td>266.3611</td><td>-85.13889</td><td>787.8333</td><td>144.2222</td><td> 93.61111</td><td>1662.722</td><td>1601.722</td><td>61.86111</td><td>30.91667</td><td>141.1667</td><td>693.6667</td><td>63.36111</td><td>345.2778</td></tr>\n",
              "\t<tr><td>521.4445</td><td>266.3611</td><td>-85.13889</td><td>787.8333</td><td>144.2222</td><td> 93.61111</td><td>1662.722</td><td>1601.722</td><td>61.86111</td><td>30.91667</td><td>141.1667</td><td>693.6667</td><td>63.36111</td><td>345.2778</td></tr>\n",
              "\t<tr><td>521.4445</td><td>266.3611</td><td>-85.13889</td><td>787.8333</td><td>144.2222</td><td> 93.61111</td><td>1662.722</td><td>1601.722</td><td>61.86111</td><td>30.91667</td><td>141.1667</td><td>693.6667</td><td>63.36111</td><td>345.2778</td></tr>\n",
              "\t<tr><td>521.4445</td><td>266.3611</td><td>-85.13889</td><td>787.8334</td><td>144.2222</td><td> 93.61111</td><td>1662.722</td><td>1601.722</td><td>61.86111</td><td>30.91667</td><td>141.1667</td><td>693.6666</td><td>63.36111</td><td>345.2778</td></tr>\n",
              "\t<tr><td>517.9508</td><td>246.2454</td><td>-83.69758</td><td>764.1927</td><td>150.9745</td><td>101.35033</td><td>1627.645</td><td>1599.795</td><td>82.19614</td><td>26.54573</td><td>133.2865</td><td>651.9000</td><td>61.30881</td><td>351.3877</td></tr>\n",
              "\t<tr><td>515.2500</td><td>230.6945</td><td>-82.58333</td><td>745.9167</td><td>156.1944</td><td>107.33333</td><td>1600.528</td><td>1598.306</td><td>97.91666</td><td>23.16667</td><td>127.1944</td><td>619.6111</td><td>59.72222</td><td>356.1111</td></tr>\n",
              "\t<tr><td>⋮</td><td>⋮</td><td>⋮</td><td>⋮</td><td>⋮</td><td>⋮</td><td>⋮</td><td>⋮</td><td>⋮</td><td>⋮</td><td>⋮</td><td>⋮</td><td>⋮</td><td>⋮</td></tr>\n",
              "\t<tr><td>638.0768</td><td>182.4803</td><td>-42.8443</td><td>823.6886</td><td>158.2018</td><td>94.48246</td><td>2415.351</td><td>1606.373</td><td>0.6951754</td><td>38.52412</td><td>154.2412</td><td>759.4847</td><td>60.4386</td><td>331.5219</td></tr>\n",
              "\t<tr><td>638.0768</td><td>182.4803</td><td>-42.8443</td><td>823.6886</td><td>158.2018</td><td>94.48246</td><td>2415.351</td><td>1606.373</td><td>0.6951754</td><td>38.52412</td><td>154.2412</td><td>759.4846</td><td>60.4386</td><td>331.5219</td></tr>\n",
              "\t<tr><td>638.0768</td><td>182.4803</td><td>-42.8443</td><td>823.6886</td><td>158.2018</td><td>94.48246</td><td>2415.351</td><td>1606.373</td><td>0.6951754</td><td>38.52412</td><td>154.2412</td><td>759.4847</td><td>60.4386</td><td>331.5219</td></tr>\n",
              "\t<tr><td>638.0768</td><td>182.4803</td><td>-42.8443</td><td>823.6886</td><td>158.2018</td><td>94.48246</td><td>2415.351</td><td>1606.373</td><td>0.6951755</td><td>38.52412</td><td>154.2412</td><td>759.4847</td><td>60.4386</td><td>331.5219</td></tr>\n",
              "\t<tr><td>638.0768</td><td>182.4803</td><td>-42.8443</td><td>823.6886</td><td>158.2018</td><td>94.48246</td><td>2415.351</td><td>1606.373</td><td>0.6951754</td><td>38.52412</td><td>154.2412</td><td>759.4846</td><td>60.4386</td><td>331.5219</td></tr>\n",
              "\t<tr><td>638.0768</td><td>182.4803</td><td>-42.8443</td><td>823.6886</td><td>158.2018</td><td>94.48245</td><td>2415.351</td><td>1606.373</td><td>0.6951754</td><td>38.52412</td><td>154.2412</td><td>759.4846</td><td>60.4386</td><td>331.5219</td></tr>\n",
              "\t<tr><td>638.0767</td><td>182.4803</td><td>-42.8443</td><td>823.6886</td><td>158.2018</td><td>94.48246</td><td>2415.351</td><td>1606.373</td><td>0.6951754</td><td>38.52412</td><td>154.2412</td><td>759.4846</td><td>60.4386</td><td>331.5219</td></tr>\n",
              "\t<tr><td>638.0767</td><td>182.4803</td><td>-42.8443</td><td>823.6886</td><td>158.2018</td><td>94.48246</td><td>2415.351</td><td>1606.373</td><td>0.6951754</td><td>38.52412</td><td>154.2412</td><td>759.4847</td><td>60.4386</td><td>331.5219</td></tr>\n",
              "\t<tr><td>638.0768</td><td>182.4803</td><td>-42.8443</td><td>823.6886</td><td>158.2018</td><td>94.48246</td><td>2415.351</td><td>1606.373</td><td>0.6951754</td><td>38.52412</td><td>154.2412</td><td>759.4846</td><td>60.4386</td><td>331.5219</td></tr>\n",
              "\t<tr><td>638.0768</td><td>182.4803</td><td>-42.8443</td><td>823.6886</td><td>158.2018</td><td>94.48246</td><td>2415.351</td><td>1606.373</td><td>0.6951754</td><td>38.52412</td><td>154.2412</td><td>759.4846</td><td>60.4386</td><td>331.5219</td></tr>\n",
              "\t<tr><td>638.0768</td><td>182.4803</td><td>-42.8443</td><td>823.6886</td><td>158.2018</td><td>94.48246</td><td>2415.351</td><td>1606.373</td><td>0.6951754</td><td>38.52412</td><td>154.2412</td><td>759.4846</td><td>60.4386</td><td>331.5219</td></tr>\n",
              "\t<tr><td>638.0768</td><td>182.4803</td><td>-42.8443</td><td>823.6886</td><td>158.2018</td><td>94.48246</td><td>2415.351</td><td>1606.373</td><td>0.6951754</td><td>38.52412</td><td>154.2412</td><td>759.4847</td><td>60.4386</td><td>331.5219</td></tr>\n",
              "\t<tr><td>638.0768</td><td>182.4803</td><td>-42.8443</td><td>823.6886</td><td>158.2018</td><td>94.48246</td><td>2415.351</td><td>1606.373</td><td>0.6951754</td><td>38.52412</td><td>154.2412</td><td>759.4847</td><td>60.4386</td><td>331.5219</td></tr>\n",
              "\t<tr><td>638.0768</td><td>182.4803</td><td>-42.8443</td><td>823.6886</td><td>158.2018</td><td>94.48246</td><td>2415.351</td><td>1606.373</td><td>0.6951754</td><td>38.52412</td><td>154.2412</td><td>759.4847</td><td>60.4386</td><td>331.5219</td></tr>\n",
              "\t<tr><td>638.0768</td><td>182.4803</td><td>-42.8443</td><td>823.6886</td><td>158.2018</td><td>94.48246</td><td>2415.351</td><td>1606.373</td><td>0.6951755</td><td>38.52412</td><td>154.2412</td><td>759.4847</td><td>60.4386</td><td>331.5219</td></tr>\n",
              "\t<tr><td>638.0768</td><td>182.4803</td><td>-42.8443</td><td>823.6886</td><td>158.2018</td><td>94.48246</td><td>2415.351</td><td>1606.373</td><td>0.6951754</td><td>38.52412</td><td>154.2412</td><td>759.4847</td><td>60.4386</td><td>331.5219</td></tr>\n",
              "\t<tr><td>638.0768</td><td>182.4803</td><td>-42.8443</td><td>823.6886</td><td>158.2018</td><td>94.48246</td><td>2415.351</td><td>1606.373</td><td>0.6951755</td><td>38.52412</td><td>154.2412</td><td>759.4847</td><td>60.4386</td><td>331.5219</td></tr>\n",
              "\t<tr><td>638.0768</td><td>182.4803</td><td>-42.8443</td><td>823.6886</td><td>158.2018</td><td>94.48246</td><td>2415.351</td><td>1606.373</td><td>0.6951754</td><td>38.52412</td><td>154.2412</td><td>759.4846</td><td>60.4386</td><td>331.5219</td></tr>\n",
              "\t<tr><td>638.0768</td><td>182.4803</td><td>-42.8443</td><td>823.6886</td><td>158.2018</td><td>94.48246</td><td>2415.351</td><td>1606.373</td><td>0.6951754</td><td>38.52412</td><td>154.2412</td><td>759.4846</td><td>60.4386</td><td>331.5219</td></tr>\n",
              "\t<tr><td>638.0768</td><td>182.4803</td><td>-42.8443</td><td>823.6886</td><td>158.2018</td><td>94.48246</td><td>2415.351</td><td>1606.373</td><td>0.6951754</td><td>38.52412</td><td>154.2412</td><td>759.4847</td><td>60.4386</td><td>331.5219</td></tr>\n",
              "\t<tr><td>638.0768</td><td>182.4803</td><td>-42.8443</td><td>823.6886</td><td>158.2018</td><td>94.48246</td><td>2415.351</td><td>1606.373</td><td>0.6951755</td><td>38.52412</td><td>154.2412</td><td>759.4847</td><td>60.4386</td><td>331.5219</td></tr>\n",
              "\t<tr><td>638.0768</td><td>182.4803</td><td>-42.8443</td><td>823.6886</td><td>158.2018</td><td>94.48246</td><td>2415.351</td><td>1606.373</td><td>0.6951754</td><td>38.52412</td><td>154.2412</td><td>759.4846</td><td>60.4386</td><td>331.5219</td></tr>\n",
              "\t<tr><td>638.0768</td><td>182.4803</td><td>-42.8443</td><td>823.6886</td><td>158.2018</td><td>94.48246</td><td>2415.351</td><td>1606.373</td><td>0.6951755</td><td>38.52412</td><td>154.2412</td><td>759.4846</td><td>60.4386</td><td>331.5219</td></tr>\n",
              "\t<tr><td>638.0768</td><td>182.4803</td><td>-42.8443</td><td>823.6886</td><td>158.2018</td><td>94.48245</td><td>2415.351</td><td>1606.373</td><td>0.6951754</td><td>38.52412</td><td>154.2412</td><td>759.4846</td><td>60.4386</td><td>331.5219</td></tr>\n",
              "\t<tr><td>638.0768</td><td>182.4803</td><td>-42.8443</td><td>823.6886</td><td>158.2018</td><td>94.48246</td><td>2415.351</td><td>1606.373</td><td>0.6951754</td><td>38.52412</td><td>154.2412</td><td>759.4846</td><td>60.4386</td><td>331.5219</td></tr>\n",
              "\t<tr><td>638.0768</td><td>182.4803</td><td>-42.8443</td><td>823.6886</td><td>158.2018</td><td>94.48246</td><td>2415.351</td><td>1606.373</td><td>0.6951754</td><td>38.52412</td><td>154.2412</td><td>759.4846</td><td>60.4386</td><td>331.5219</td></tr>\n",
              "\t<tr><td>638.0768</td><td>182.4803</td><td>-42.8443</td><td>823.6886</td><td>158.2018</td><td>94.48246</td><td>2415.351</td><td>1606.373</td><td>0.6951755</td><td>38.52412</td><td>154.2412</td><td>759.4846</td><td>60.4386</td><td>331.5219</td></tr>\n",
              "\t<tr><td>638.0768</td><td>182.4803</td><td>-42.8443</td><td>823.6886</td><td>158.2018</td><td>94.48246</td><td>2415.351</td><td>1606.373</td><td>0.6951754</td><td>38.52412</td><td>154.2412</td><td>759.4847</td><td>60.4386</td><td>331.5219</td></tr>\n",
              "\t<tr><td>638.0768</td><td>182.4803</td><td>-42.8443</td><td>823.6886</td><td>158.2018</td><td>94.48246</td><td>2415.351</td><td>1606.373</td><td>0.6951754</td><td>38.52412</td><td>154.2412</td><td>759.4846</td><td>60.4386</td><td>331.5219</td></tr>\n",
              "\t<tr><td>638.0768</td><td>182.4803</td><td>-42.8443</td><td>823.6886</td><td>158.2018</td><td>94.48246</td><td>2415.351</td><td>1606.373</td><td>0.6951754</td><td>38.52412</td><td>154.2412</td><td>759.4846</td><td>60.4386</td><td>331.5219</td></tr>\n",
              "</tbody>\n",
              "</table>\n"
            ],
            "text/markdown": "\nA data.table: 893143 × 14\n\n| aet &lt;dbl&gt; | def &lt;dbl&gt; | pdsi &lt;dbl&gt; | pet &lt;dbl&gt; | pr &lt;dbl&gt; | ro &lt;dbl&gt; | soil &lt;dbl&gt; | srad &lt;dbl&gt; | swe &lt;dbl&gt; | tmmn &lt;dbl&gt; | tmmx &lt;dbl&gt; | vap &lt;dbl&gt; | vpd &lt;dbl&gt; | vs &lt;dbl&gt; |\n|---|---|---|---|---|---|---|---|---|---|---|---|---|---|\n| 515.2500 | 230.6944 | -82.58333 | 745.9167 | 156.1944 | 107.33334 | 1600.528 | 1598.306 | 97.91666 | 23.16667 | 127.1944 | 619.6111 | 59.72222 | 356.1111 |\n| 515.2500 | 230.6944 | -82.58334 | 745.9167 | 156.1944 | 107.33334 | 1600.528 | 1598.306 | 97.91666 | 23.16667 | 127.1944 | 619.6111 | 59.72222 | 356.1111 |\n| 515.2500 | 230.6944 | -82.58334 | 745.9167 | 156.1944 | 107.33334 | 1600.528 | 1598.306 | 97.91667 | 23.16667 | 127.1944 | 619.6111 | 59.72222 | 356.1111 |\n| 515.2500 | 230.6944 | -82.58333 | 745.9167 | 156.1944 | 107.33334 | 1600.528 | 1598.306 | 97.91667 | 23.16667 | 127.1944 | 619.6111 | 59.72222 | 356.1111 |\n| 515.2500 | 230.6944 | -82.58333 | 745.9167 | 156.1944 | 107.33333 | 1600.528 | 1598.306 | 97.91666 | 23.16667 | 127.1944 | 619.6111 | 59.72222 | 356.1111 |\n| 521.4444 | 266.3611 | -85.13888 | 787.8333 | 144.2222 |  93.61111 | 1662.722 | 1601.722 | 61.86111 | 30.91667 | 141.1667 | 693.6667 | 63.36111 | 345.2778 |\n| 521.4444 | 266.3611 | -85.13889 | 787.8333 | 144.2222 |  93.61111 | 1662.722 | 1601.722 | 61.86111 | 30.91667 | 141.1667 | 693.6667 | 63.36111 | 345.2778 |\n| 521.4444 | 266.3611 | -85.13889 | 787.8333 | 144.2222 |  93.61111 | 1662.722 | 1601.722 | 61.86111 | 30.91667 | 141.1667 | 693.6667 | 63.36111 | 345.2778 |\n| 521.4444 | 266.3611 | -85.13889 | 787.8333 | 144.2222 |  93.61111 | 1662.722 | 1601.722 | 61.86111 | 30.91667 | 141.1667 | 693.6667 | 63.36111 | 345.2778 |\n| 521.4444 | 266.3611 | -85.13889 | 787.8333 | 144.2222 |  93.61111 | 1662.722 | 1601.722 | 61.86111 | 30.91667 | 141.1667 | 693.6667 | 63.36111 | 345.2778 |\n| 521.4444 | 266.3611 | -85.13889 | 787.8333 | 144.2222 |  93.61111 | 1662.722 | 1601.722 | 61.86111 | 30.91667 | 141.1667 | 693.6667 | 63.36111 | 345.2778 |\n| 515.2500 | 230.6944 | -82.58333 | 745.9167 | 156.1944 | 107.33333 | 1600.528 | 1598.306 | 97.91666 | 23.16667 | 127.1944 | 619.6111 | 59.72222 | 356.1111 |\n| 515.2500 | 230.6944 | -82.58334 | 745.9167 | 156.1944 | 107.33333 | 1600.528 | 1598.306 | 97.91667 | 23.16667 | 127.1944 | 619.6111 | 59.72222 | 356.1111 |\n| 515.2500 | 230.6944 | -82.58333 | 745.9167 | 156.1944 | 107.33334 | 1600.528 | 1598.306 | 97.91667 | 23.16667 | 127.1944 | 619.6111 | 59.72222 | 356.1111 |\n| 515.2500 | 230.6944 | -82.58334 | 745.9167 | 156.1944 | 107.33334 | 1600.528 | 1598.306 | 97.91667 | 23.16667 | 127.1944 | 619.6111 | 59.72222 | 356.1111 |\n| 515.2500 | 230.6944 | -82.58333 | 745.9167 | 156.1944 | 107.33333 | 1600.528 | 1598.306 | 97.91667 | 23.16667 | 127.1944 | 619.6111 | 59.72222 | 356.1111 |\n| 515.2500 | 230.6944 | -82.58334 | 745.9166 | 156.1944 | 107.33334 | 1600.528 | 1598.306 | 97.91667 | 23.16667 | 127.1944 | 619.6111 | 59.72222 | 356.1111 |\n| 515.2500 | 230.6944 | -82.58334 | 745.9166 | 156.1944 | 107.33333 | 1600.528 | 1598.306 | 97.91666 | 23.16667 | 127.1944 | 619.6111 | 59.72222 | 356.1111 |\n| 515.2500 | 230.6944 | -82.58333 | 745.9167 | 156.1944 | 107.33334 | 1600.528 | 1598.306 | 97.91666 | 23.16667 | 127.1944 | 619.6111 | 59.72222 | 356.1111 |\n| 521.4445 | 266.3611 | -85.13889 | 787.8333 | 144.2222 |  93.61111 | 1662.722 | 1601.722 | 61.86111 | 30.91667 | 141.1667 | 693.6667 | 63.36111 | 345.2778 |\n| 515.2500 | 230.6944 | -82.58333 | 745.9166 | 156.1944 | 107.33333 | 1600.528 | 1598.306 | 97.91667 | 23.16667 | 127.1944 | 619.6111 | 59.72222 | 356.1111 |\n| 514.7772 | 232.6924 | -86.65537 | 747.4799 | 154.9515 | 105.80823 | 1588.891 | 1598.641 | 93.77600 | 23.09804 | 127.6977 | 621.0600 | 59.78323 | 356.1111 |\n| 515.2500 | 230.6944 | -82.58333 | 745.9166 | 156.1944 | 107.33333 | 1600.528 | 1598.306 | 97.91666 | 23.16667 | 127.1944 | 619.6111 | 59.72222 | 356.1111 |\n| 521.4444 | 266.3611 | -85.13889 | 787.8333 | 144.2222 |  93.61111 | 1662.722 | 1601.722 | 61.86111 | 30.91667 | 141.1667 | 693.6667 | 63.36111 | 345.2778 |\n| 521.4444 | 266.3611 | -85.13889 | 787.8333 | 144.2222 |  93.61111 | 1662.722 | 1601.722 | 61.86111 | 30.91667 | 141.1667 | 693.6667 | 63.36111 | 345.2778 |\n| 521.4445 | 266.3611 | -85.13889 | 787.8333 | 144.2222 |  93.61111 | 1662.722 | 1601.722 | 61.86111 | 30.91667 | 141.1667 | 693.6667 | 63.36111 | 345.2778 |\n| 521.4445 | 266.3611 | -85.13889 | 787.8333 | 144.2222 |  93.61111 | 1662.722 | 1601.722 | 61.86111 | 30.91667 | 141.1667 | 693.6667 | 63.36111 | 345.2778 |\n| 521.4445 | 266.3611 | -85.13889 | 787.8334 | 144.2222 |  93.61111 | 1662.722 | 1601.722 | 61.86111 | 30.91667 | 141.1667 | 693.6666 | 63.36111 | 345.2778 |\n| 517.9508 | 246.2454 | -83.69758 | 764.1927 | 150.9745 | 101.35033 | 1627.645 | 1599.795 | 82.19614 | 26.54573 | 133.2865 | 651.9000 | 61.30881 | 351.3877 |\n| 515.2500 | 230.6945 | -82.58333 | 745.9167 | 156.1944 | 107.33333 | 1600.528 | 1598.306 | 97.91666 | 23.16667 | 127.1944 | 619.6111 | 59.72222 | 356.1111 |\n| ⋮ | ⋮ | ⋮ | ⋮ | ⋮ | ⋮ | ⋮ | ⋮ | ⋮ | ⋮ | ⋮ | ⋮ | ⋮ | ⋮ |\n| 638.0768 | 182.4803 | -42.8443 | 823.6886 | 158.2018 | 94.48246 | 2415.351 | 1606.373 | 0.6951754 | 38.52412 | 154.2412 | 759.4847 | 60.4386 | 331.5219 |\n| 638.0768 | 182.4803 | -42.8443 | 823.6886 | 158.2018 | 94.48246 | 2415.351 | 1606.373 | 0.6951754 | 38.52412 | 154.2412 | 759.4846 | 60.4386 | 331.5219 |\n| 638.0768 | 182.4803 | -42.8443 | 823.6886 | 158.2018 | 94.48246 | 2415.351 | 1606.373 | 0.6951754 | 38.52412 | 154.2412 | 759.4847 | 60.4386 | 331.5219 |\n| 638.0768 | 182.4803 | -42.8443 | 823.6886 | 158.2018 | 94.48246 | 2415.351 | 1606.373 | 0.6951755 | 38.52412 | 154.2412 | 759.4847 | 60.4386 | 331.5219 |\n| 638.0768 | 182.4803 | -42.8443 | 823.6886 | 158.2018 | 94.48246 | 2415.351 | 1606.373 | 0.6951754 | 38.52412 | 154.2412 | 759.4846 | 60.4386 | 331.5219 |\n| 638.0768 | 182.4803 | -42.8443 | 823.6886 | 158.2018 | 94.48245 | 2415.351 | 1606.373 | 0.6951754 | 38.52412 | 154.2412 | 759.4846 | 60.4386 | 331.5219 |\n| 638.0767 | 182.4803 | -42.8443 | 823.6886 | 158.2018 | 94.48246 | 2415.351 | 1606.373 | 0.6951754 | 38.52412 | 154.2412 | 759.4846 | 60.4386 | 331.5219 |\n| 638.0767 | 182.4803 | -42.8443 | 823.6886 | 158.2018 | 94.48246 | 2415.351 | 1606.373 | 0.6951754 | 38.52412 | 154.2412 | 759.4847 | 60.4386 | 331.5219 |\n| 638.0768 | 182.4803 | -42.8443 | 823.6886 | 158.2018 | 94.48246 | 2415.351 | 1606.373 | 0.6951754 | 38.52412 | 154.2412 | 759.4846 | 60.4386 | 331.5219 |\n| 638.0768 | 182.4803 | -42.8443 | 823.6886 | 158.2018 | 94.48246 | 2415.351 | 1606.373 | 0.6951754 | 38.52412 | 154.2412 | 759.4846 | 60.4386 | 331.5219 |\n| 638.0768 | 182.4803 | -42.8443 | 823.6886 | 158.2018 | 94.48246 | 2415.351 | 1606.373 | 0.6951754 | 38.52412 | 154.2412 | 759.4846 | 60.4386 | 331.5219 |\n| 638.0768 | 182.4803 | -42.8443 | 823.6886 | 158.2018 | 94.48246 | 2415.351 | 1606.373 | 0.6951754 | 38.52412 | 154.2412 | 759.4847 | 60.4386 | 331.5219 |\n| 638.0768 | 182.4803 | -42.8443 | 823.6886 | 158.2018 | 94.48246 | 2415.351 | 1606.373 | 0.6951754 | 38.52412 | 154.2412 | 759.4847 | 60.4386 | 331.5219 |\n| 638.0768 | 182.4803 | -42.8443 | 823.6886 | 158.2018 | 94.48246 | 2415.351 | 1606.373 | 0.6951754 | 38.52412 | 154.2412 | 759.4847 | 60.4386 | 331.5219 |\n| 638.0768 | 182.4803 | -42.8443 | 823.6886 | 158.2018 | 94.48246 | 2415.351 | 1606.373 | 0.6951755 | 38.52412 | 154.2412 | 759.4847 | 60.4386 | 331.5219 |\n| 638.0768 | 182.4803 | -42.8443 | 823.6886 | 158.2018 | 94.48246 | 2415.351 | 1606.373 | 0.6951754 | 38.52412 | 154.2412 | 759.4847 | 60.4386 | 331.5219 |\n| 638.0768 | 182.4803 | -42.8443 | 823.6886 | 158.2018 | 94.48246 | 2415.351 | 1606.373 | 0.6951755 | 38.52412 | 154.2412 | 759.4847 | 60.4386 | 331.5219 |\n| 638.0768 | 182.4803 | -42.8443 | 823.6886 | 158.2018 | 94.48246 | 2415.351 | 1606.373 | 0.6951754 | 38.52412 | 154.2412 | 759.4846 | 60.4386 | 331.5219 |\n| 638.0768 | 182.4803 | -42.8443 | 823.6886 | 158.2018 | 94.48246 | 2415.351 | 1606.373 | 0.6951754 | 38.52412 | 154.2412 | 759.4846 | 60.4386 | 331.5219 |\n| 638.0768 | 182.4803 | -42.8443 | 823.6886 | 158.2018 | 94.48246 | 2415.351 | 1606.373 | 0.6951754 | 38.52412 | 154.2412 | 759.4847 | 60.4386 | 331.5219 |\n| 638.0768 | 182.4803 | -42.8443 | 823.6886 | 158.2018 | 94.48246 | 2415.351 | 1606.373 | 0.6951755 | 38.52412 | 154.2412 | 759.4847 | 60.4386 | 331.5219 |\n| 638.0768 | 182.4803 | -42.8443 | 823.6886 | 158.2018 | 94.48246 | 2415.351 | 1606.373 | 0.6951754 | 38.52412 | 154.2412 | 759.4846 | 60.4386 | 331.5219 |\n| 638.0768 | 182.4803 | -42.8443 | 823.6886 | 158.2018 | 94.48246 | 2415.351 | 1606.373 | 0.6951755 | 38.52412 | 154.2412 | 759.4846 | 60.4386 | 331.5219 |\n| 638.0768 | 182.4803 | -42.8443 | 823.6886 | 158.2018 | 94.48245 | 2415.351 | 1606.373 | 0.6951754 | 38.52412 | 154.2412 | 759.4846 | 60.4386 | 331.5219 |\n| 638.0768 | 182.4803 | -42.8443 | 823.6886 | 158.2018 | 94.48246 | 2415.351 | 1606.373 | 0.6951754 | 38.52412 | 154.2412 | 759.4846 | 60.4386 | 331.5219 |\n| 638.0768 | 182.4803 | -42.8443 | 823.6886 | 158.2018 | 94.48246 | 2415.351 | 1606.373 | 0.6951754 | 38.52412 | 154.2412 | 759.4846 | 60.4386 | 331.5219 |\n| 638.0768 | 182.4803 | -42.8443 | 823.6886 | 158.2018 | 94.48246 | 2415.351 | 1606.373 | 0.6951755 | 38.52412 | 154.2412 | 759.4846 | 60.4386 | 331.5219 |\n| 638.0768 | 182.4803 | -42.8443 | 823.6886 | 158.2018 | 94.48246 | 2415.351 | 1606.373 | 0.6951754 | 38.52412 | 154.2412 | 759.4847 | 60.4386 | 331.5219 |\n| 638.0768 | 182.4803 | -42.8443 | 823.6886 | 158.2018 | 94.48246 | 2415.351 | 1606.373 | 0.6951754 | 38.52412 | 154.2412 | 759.4846 | 60.4386 | 331.5219 |\n| 638.0768 | 182.4803 | -42.8443 | 823.6886 | 158.2018 | 94.48246 | 2415.351 | 1606.373 | 0.6951754 | 38.52412 | 154.2412 | 759.4846 | 60.4386 | 331.5219 |\n\n",
            "text/latex": "A data.table: 893143 × 14\n\\begin{tabular}{llllllllllllll}\n aet & def & pdsi & pet & pr & ro & soil & srad & swe & tmmn & tmmx & vap & vpd & vs\\\\\n <dbl> & <dbl> & <dbl> & <dbl> & <dbl> & <dbl> & <dbl> & <dbl> & <dbl> & <dbl> & <dbl> & <dbl> & <dbl> & <dbl>\\\\\n\\hline\n\t 515.2500 & 230.6944 & -82.58333 & 745.9167 & 156.1944 & 107.33334 & 1600.528 & 1598.306 & 97.91666 & 23.16667 & 127.1944 & 619.6111 & 59.72222 & 356.1111\\\\\n\t 515.2500 & 230.6944 & -82.58334 & 745.9167 & 156.1944 & 107.33334 & 1600.528 & 1598.306 & 97.91666 & 23.16667 & 127.1944 & 619.6111 & 59.72222 & 356.1111\\\\\n\t 515.2500 & 230.6944 & -82.58334 & 745.9167 & 156.1944 & 107.33334 & 1600.528 & 1598.306 & 97.91667 & 23.16667 & 127.1944 & 619.6111 & 59.72222 & 356.1111\\\\\n\t 515.2500 & 230.6944 & -82.58333 & 745.9167 & 156.1944 & 107.33334 & 1600.528 & 1598.306 & 97.91667 & 23.16667 & 127.1944 & 619.6111 & 59.72222 & 356.1111\\\\\n\t 515.2500 & 230.6944 & -82.58333 & 745.9167 & 156.1944 & 107.33333 & 1600.528 & 1598.306 & 97.91666 & 23.16667 & 127.1944 & 619.6111 & 59.72222 & 356.1111\\\\\n\t 521.4444 & 266.3611 & -85.13888 & 787.8333 & 144.2222 &  93.61111 & 1662.722 & 1601.722 & 61.86111 & 30.91667 & 141.1667 & 693.6667 & 63.36111 & 345.2778\\\\\n\t 521.4444 & 266.3611 & -85.13889 & 787.8333 & 144.2222 &  93.61111 & 1662.722 & 1601.722 & 61.86111 & 30.91667 & 141.1667 & 693.6667 & 63.36111 & 345.2778\\\\\n\t 521.4444 & 266.3611 & -85.13889 & 787.8333 & 144.2222 &  93.61111 & 1662.722 & 1601.722 & 61.86111 & 30.91667 & 141.1667 & 693.6667 & 63.36111 & 345.2778\\\\\n\t 521.4444 & 266.3611 & -85.13889 & 787.8333 & 144.2222 &  93.61111 & 1662.722 & 1601.722 & 61.86111 & 30.91667 & 141.1667 & 693.6667 & 63.36111 & 345.2778\\\\\n\t 521.4444 & 266.3611 & -85.13889 & 787.8333 & 144.2222 &  93.61111 & 1662.722 & 1601.722 & 61.86111 & 30.91667 & 141.1667 & 693.6667 & 63.36111 & 345.2778\\\\\n\t 521.4444 & 266.3611 & -85.13889 & 787.8333 & 144.2222 &  93.61111 & 1662.722 & 1601.722 & 61.86111 & 30.91667 & 141.1667 & 693.6667 & 63.36111 & 345.2778\\\\\n\t 515.2500 & 230.6944 & -82.58333 & 745.9167 & 156.1944 & 107.33333 & 1600.528 & 1598.306 & 97.91666 & 23.16667 & 127.1944 & 619.6111 & 59.72222 & 356.1111\\\\\n\t 515.2500 & 230.6944 & -82.58334 & 745.9167 & 156.1944 & 107.33333 & 1600.528 & 1598.306 & 97.91667 & 23.16667 & 127.1944 & 619.6111 & 59.72222 & 356.1111\\\\\n\t 515.2500 & 230.6944 & -82.58333 & 745.9167 & 156.1944 & 107.33334 & 1600.528 & 1598.306 & 97.91667 & 23.16667 & 127.1944 & 619.6111 & 59.72222 & 356.1111\\\\\n\t 515.2500 & 230.6944 & -82.58334 & 745.9167 & 156.1944 & 107.33334 & 1600.528 & 1598.306 & 97.91667 & 23.16667 & 127.1944 & 619.6111 & 59.72222 & 356.1111\\\\\n\t 515.2500 & 230.6944 & -82.58333 & 745.9167 & 156.1944 & 107.33333 & 1600.528 & 1598.306 & 97.91667 & 23.16667 & 127.1944 & 619.6111 & 59.72222 & 356.1111\\\\\n\t 515.2500 & 230.6944 & -82.58334 & 745.9166 & 156.1944 & 107.33334 & 1600.528 & 1598.306 & 97.91667 & 23.16667 & 127.1944 & 619.6111 & 59.72222 & 356.1111\\\\\n\t 515.2500 & 230.6944 & -82.58334 & 745.9166 & 156.1944 & 107.33333 & 1600.528 & 1598.306 & 97.91666 & 23.16667 & 127.1944 & 619.6111 & 59.72222 & 356.1111\\\\\n\t 515.2500 & 230.6944 & -82.58333 & 745.9167 & 156.1944 & 107.33334 & 1600.528 & 1598.306 & 97.91666 & 23.16667 & 127.1944 & 619.6111 & 59.72222 & 356.1111\\\\\n\t 521.4445 & 266.3611 & -85.13889 & 787.8333 & 144.2222 &  93.61111 & 1662.722 & 1601.722 & 61.86111 & 30.91667 & 141.1667 & 693.6667 & 63.36111 & 345.2778\\\\\n\t 515.2500 & 230.6944 & -82.58333 & 745.9166 & 156.1944 & 107.33333 & 1600.528 & 1598.306 & 97.91667 & 23.16667 & 127.1944 & 619.6111 & 59.72222 & 356.1111\\\\\n\t 514.7772 & 232.6924 & -86.65537 & 747.4799 & 154.9515 & 105.80823 & 1588.891 & 1598.641 & 93.77600 & 23.09804 & 127.6977 & 621.0600 & 59.78323 & 356.1111\\\\\n\t 515.2500 & 230.6944 & -82.58333 & 745.9166 & 156.1944 & 107.33333 & 1600.528 & 1598.306 & 97.91666 & 23.16667 & 127.1944 & 619.6111 & 59.72222 & 356.1111\\\\\n\t 521.4444 & 266.3611 & -85.13889 & 787.8333 & 144.2222 &  93.61111 & 1662.722 & 1601.722 & 61.86111 & 30.91667 & 141.1667 & 693.6667 & 63.36111 & 345.2778\\\\\n\t 521.4444 & 266.3611 & -85.13889 & 787.8333 & 144.2222 &  93.61111 & 1662.722 & 1601.722 & 61.86111 & 30.91667 & 141.1667 & 693.6667 & 63.36111 & 345.2778\\\\\n\t 521.4445 & 266.3611 & -85.13889 & 787.8333 & 144.2222 &  93.61111 & 1662.722 & 1601.722 & 61.86111 & 30.91667 & 141.1667 & 693.6667 & 63.36111 & 345.2778\\\\\n\t 521.4445 & 266.3611 & -85.13889 & 787.8333 & 144.2222 &  93.61111 & 1662.722 & 1601.722 & 61.86111 & 30.91667 & 141.1667 & 693.6667 & 63.36111 & 345.2778\\\\\n\t 521.4445 & 266.3611 & -85.13889 & 787.8334 & 144.2222 &  93.61111 & 1662.722 & 1601.722 & 61.86111 & 30.91667 & 141.1667 & 693.6666 & 63.36111 & 345.2778\\\\\n\t 517.9508 & 246.2454 & -83.69758 & 764.1927 & 150.9745 & 101.35033 & 1627.645 & 1599.795 & 82.19614 & 26.54573 & 133.2865 & 651.9000 & 61.30881 & 351.3877\\\\\n\t 515.2500 & 230.6945 & -82.58333 & 745.9167 & 156.1944 & 107.33333 & 1600.528 & 1598.306 & 97.91666 & 23.16667 & 127.1944 & 619.6111 & 59.72222 & 356.1111\\\\\n\t ⋮ & ⋮ & ⋮ & ⋮ & ⋮ & ⋮ & ⋮ & ⋮ & ⋮ & ⋮ & ⋮ & ⋮ & ⋮ & ⋮\\\\\n\t 638.0768 & 182.4803 & -42.8443 & 823.6886 & 158.2018 & 94.48246 & 2415.351 & 1606.373 & 0.6951754 & 38.52412 & 154.2412 & 759.4847 & 60.4386 & 331.5219\\\\\n\t 638.0768 & 182.4803 & -42.8443 & 823.6886 & 158.2018 & 94.48246 & 2415.351 & 1606.373 & 0.6951754 & 38.52412 & 154.2412 & 759.4846 & 60.4386 & 331.5219\\\\\n\t 638.0768 & 182.4803 & -42.8443 & 823.6886 & 158.2018 & 94.48246 & 2415.351 & 1606.373 & 0.6951754 & 38.52412 & 154.2412 & 759.4847 & 60.4386 & 331.5219\\\\\n\t 638.0768 & 182.4803 & -42.8443 & 823.6886 & 158.2018 & 94.48246 & 2415.351 & 1606.373 & 0.6951755 & 38.52412 & 154.2412 & 759.4847 & 60.4386 & 331.5219\\\\\n\t 638.0768 & 182.4803 & -42.8443 & 823.6886 & 158.2018 & 94.48246 & 2415.351 & 1606.373 & 0.6951754 & 38.52412 & 154.2412 & 759.4846 & 60.4386 & 331.5219\\\\\n\t 638.0768 & 182.4803 & -42.8443 & 823.6886 & 158.2018 & 94.48245 & 2415.351 & 1606.373 & 0.6951754 & 38.52412 & 154.2412 & 759.4846 & 60.4386 & 331.5219\\\\\n\t 638.0767 & 182.4803 & -42.8443 & 823.6886 & 158.2018 & 94.48246 & 2415.351 & 1606.373 & 0.6951754 & 38.52412 & 154.2412 & 759.4846 & 60.4386 & 331.5219\\\\\n\t 638.0767 & 182.4803 & -42.8443 & 823.6886 & 158.2018 & 94.48246 & 2415.351 & 1606.373 & 0.6951754 & 38.52412 & 154.2412 & 759.4847 & 60.4386 & 331.5219\\\\\n\t 638.0768 & 182.4803 & -42.8443 & 823.6886 & 158.2018 & 94.48246 & 2415.351 & 1606.373 & 0.6951754 & 38.52412 & 154.2412 & 759.4846 & 60.4386 & 331.5219\\\\\n\t 638.0768 & 182.4803 & -42.8443 & 823.6886 & 158.2018 & 94.48246 & 2415.351 & 1606.373 & 0.6951754 & 38.52412 & 154.2412 & 759.4846 & 60.4386 & 331.5219\\\\\n\t 638.0768 & 182.4803 & -42.8443 & 823.6886 & 158.2018 & 94.48246 & 2415.351 & 1606.373 & 0.6951754 & 38.52412 & 154.2412 & 759.4846 & 60.4386 & 331.5219\\\\\n\t 638.0768 & 182.4803 & -42.8443 & 823.6886 & 158.2018 & 94.48246 & 2415.351 & 1606.373 & 0.6951754 & 38.52412 & 154.2412 & 759.4847 & 60.4386 & 331.5219\\\\\n\t 638.0768 & 182.4803 & -42.8443 & 823.6886 & 158.2018 & 94.48246 & 2415.351 & 1606.373 & 0.6951754 & 38.52412 & 154.2412 & 759.4847 & 60.4386 & 331.5219\\\\\n\t 638.0768 & 182.4803 & -42.8443 & 823.6886 & 158.2018 & 94.48246 & 2415.351 & 1606.373 & 0.6951754 & 38.52412 & 154.2412 & 759.4847 & 60.4386 & 331.5219\\\\\n\t 638.0768 & 182.4803 & -42.8443 & 823.6886 & 158.2018 & 94.48246 & 2415.351 & 1606.373 & 0.6951755 & 38.52412 & 154.2412 & 759.4847 & 60.4386 & 331.5219\\\\\n\t 638.0768 & 182.4803 & -42.8443 & 823.6886 & 158.2018 & 94.48246 & 2415.351 & 1606.373 & 0.6951754 & 38.52412 & 154.2412 & 759.4847 & 60.4386 & 331.5219\\\\\n\t 638.0768 & 182.4803 & -42.8443 & 823.6886 & 158.2018 & 94.48246 & 2415.351 & 1606.373 & 0.6951755 & 38.52412 & 154.2412 & 759.4847 & 60.4386 & 331.5219\\\\\n\t 638.0768 & 182.4803 & -42.8443 & 823.6886 & 158.2018 & 94.48246 & 2415.351 & 1606.373 & 0.6951754 & 38.52412 & 154.2412 & 759.4846 & 60.4386 & 331.5219\\\\\n\t 638.0768 & 182.4803 & -42.8443 & 823.6886 & 158.2018 & 94.48246 & 2415.351 & 1606.373 & 0.6951754 & 38.52412 & 154.2412 & 759.4846 & 60.4386 & 331.5219\\\\\n\t 638.0768 & 182.4803 & -42.8443 & 823.6886 & 158.2018 & 94.48246 & 2415.351 & 1606.373 & 0.6951754 & 38.52412 & 154.2412 & 759.4847 & 60.4386 & 331.5219\\\\\n\t 638.0768 & 182.4803 & -42.8443 & 823.6886 & 158.2018 & 94.48246 & 2415.351 & 1606.373 & 0.6951755 & 38.52412 & 154.2412 & 759.4847 & 60.4386 & 331.5219\\\\\n\t 638.0768 & 182.4803 & -42.8443 & 823.6886 & 158.2018 & 94.48246 & 2415.351 & 1606.373 & 0.6951754 & 38.52412 & 154.2412 & 759.4846 & 60.4386 & 331.5219\\\\\n\t 638.0768 & 182.4803 & -42.8443 & 823.6886 & 158.2018 & 94.48246 & 2415.351 & 1606.373 & 0.6951755 & 38.52412 & 154.2412 & 759.4846 & 60.4386 & 331.5219\\\\\n\t 638.0768 & 182.4803 & -42.8443 & 823.6886 & 158.2018 & 94.48245 & 2415.351 & 1606.373 & 0.6951754 & 38.52412 & 154.2412 & 759.4846 & 60.4386 & 331.5219\\\\\n\t 638.0768 & 182.4803 & -42.8443 & 823.6886 & 158.2018 & 94.48246 & 2415.351 & 1606.373 & 0.6951754 & 38.52412 & 154.2412 & 759.4846 & 60.4386 & 331.5219\\\\\n\t 638.0768 & 182.4803 & -42.8443 & 823.6886 & 158.2018 & 94.48246 & 2415.351 & 1606.373 & 0.6951754 & 38.52412 & 154.2412 & 759.4846 & 60.4386 & 331.5219\\\\\n\t 638.0768 & 182.4803 & -42.8443 & 823.6886 & 158.2018 & 94.48246 & 2415.351 & 1606.373 & 0.6951755 & 38.52412 & 154.2412 & 759.4846 & 60.4386 & 331.5219\\\\\n\t 638.0768 & 182.4803 & -42.8443 & 823.6886 & 158.2018 & 94.48246 & 2415.351 & 1606.373 & 0.6951754 & 38.52412 & 154.2412 & 759.4847 & 60.4386 & 331.5219\\\\\n\t 638.0768 & 182.4803 & -42.8443 & 823.6886 & 158.2018 & 94.48246 & 2415.351 & 1606.373 & 0.6951754 & 38.52412 & 154.2412 & 759.4846 & 60.4386 & 331.5219\\\\\n\t 638.0768 & 182.4803 & -42.8443 & 823.6886 & 158.2018 & 94.48246 & 2415.351 & 1606.373 & 0.6951754 & 38.52412 & 154.2412 & 759.4846 & 60.4386 & 331.5219\\\\\n\\end{tabular}\n",
            "text/plain": [
              "       aet      def      pdsi      pet      pr       ro        soil    \n",
              "1      515.2500 230.6944 -82.58333 745.9167 156.1944 107.33334 1600.528\n",
              "2      515.2500 230.6944 -82.58334 745.9167 156.1944 107.33334 1600.528\n",
              "3      515.2500 230.6944 -82.58334 745.9167 156.1944 107.33334 1600.528\n",
              "4      515.2500 230.6944 -82.58333 745.9167 156.1944 107.33334 1600.528\n",
              "5      515.2500 230.6944 -82.58333 745.9167 156.1944 107.33333 1600.528\n",
              "6      521.4444 266.3611 -85.13888 787.8333 144.2222  93.61111 1662.722\n",
              "7      521.4444 266.3611 -85.13889 787.8333 144.2222  93.61111 1662.722\n",
              "8      521.4444 266.3611 -85.13889 787.8333 144.2222  93.61111 1662.722\n",
              "9      521.4444 266.3611 -85.13889 787.8333 144.2222  93.61111 1662.722\n",
              "10     521.4444 266.3611 -85.13889 787.8333 144.2222  93.61111 1662.722\n",
              "11     521.4444 266.3611 -85.13889 787.8333 144.2222  93.61111 1662.722\n",
              "12     515.2500 230.6944 -82.58333 745.9167 156.1944 107.33333 1600.528\n",
              "13     515.2500 230.6944 -82.58334 745.9167 156.1944 107.33333 1600.528\n",
              "14     515.2500 230.6944 -82.58333 745.9167 156.1944 107.33334 1600.528\n",
              "15     515.2500 230.6944 -82.58334 745.9167 156.1944 107.33334 1600.528\n",
              "16     515.2500 230.6944 -82.58333 745.9167 156.1944 107.33333 1600.528\n",
              "17     515.2500 230.6944 -82.58334 745.9166 156.1944 107.33334 1600.528\n",
              "18     515.2500 230.6944 -82.58334 745.9166 156.1944 107.33333 1600.528\n",
              "19     515.2500 230.6944 -82.58333 745.9167 156.1944 107.33334 1600.528\n",
              "20     521.4445 266.3611 -85.13889 787.8333 144.2222  93.61111 1662.722\n",
              "21     515.2500 230.6944 -82.58333 745.9166 156.1944 107.33333 1600.528\n",
              "22     514.7772 232.6924 -86.65537 747.4799 154.9515 105.80823 1588.891\n",
              "23     515.2500 230.6944 -82.58333 745.9166 156.1944 107.33333 1600.528\n",
              "24     521.4444 266.3611 -85.13889 787.8333 144.2222  93.61111 1662.722\n",
              "25     521.4444 266.3611 -85.13889 787.8333 144.2222  93.61111 1662.722\n",
              "26     521.4445 266.3611 -85.13889 787.8333 144.2222  93.61111 1662.722\n",
              "27     521.4445 266.3611 -85.13889 787.8333 144.2222  93.61111 1662.722\n",
              "28     521.4445 266.3611 -85.13889 787.8334 144.2222  93.61111 1662.722\n",
              "29     517.9508 246.2454 -83.69758 764.1927 150.9745 101.35033 1627.645\n",
              "30     515.2500 230.6945 -82.58333 745.9167 156.1944 107.33333 1600.528\n",
              "⋮      ⋮        ⋮        ⋮         ⋮        ⋮        ⋮         ⋮       \n",
              "893114 638.0768 182.4803 -42.8443  823.6886 158.2018 94.48246  2415.351\n",
              "893115 638.0768 182.4803 -42.8443  823.6886 158.2018 94.48246  2415.351\n",
              "893116 638.0768 182.4803 -42.8443  823.6886 158.2018 94.48246  2415.351\n",
              "893117 638.0768 182.4803 -42.8443  823.6886 158.2018 94.48246  2415.351\n",
              "893118 638.0768 182.4803 -42.8443  823.6886 158.2018 94.48246  2415.351\n",
              "893119 638.0768 182.4803 -42.8443  823.6886 158.2018 94.48245  2415.351\n",
              "893120 638.0767 182.4803 -42.8443  823.6886 158.2018 94.48246  2415.351\n",
              "893121 638.0767 182.4803 -42.8443  823.6886 158.2018 94.48246  2415.351\n",
              "893122 638.0768 182.4803 -42.8443  823.6886 158.2018 94.48246  2415.351\n",
              "893123 638.0768 182.4803 -42.8443  823.6886 158.2018 94.48246  2415.351\n",
              "893124 638.0768 182.4803 -42.8443  823.6886 158.2018 94.48246  2415.351\n",
              "893125 638.0768 182.4803 -42.8443  823.6886 158.2018 94.48246  2415.351\n",
              "893126 638.0768 182.4803 -42.8443  823.6886 158.2018 94.48246  2415.351\n",
              "893127 638.0768 182.4803 -42.8443  823.6886 158.2018 94.48246  2415.351\n",
              "893128 638.0768 182.4803 -42.8443  823.6886 158.2018 94.48246  2415.351\n",
              "893129 638.0768 182.4803 -42.8443  823.6886 158.2018 94.48246  2415.351\n",
              "893130 638.0768 182.4803 -42.8443  823.6886 158.2018 94.48246  2415.351\n",
              "893131 638.0768 182.4803 -42.8443  823.6886 158.2018 94.48246  2415.351\n",
              "893132 638.0768 182.4803 -42.8443  823.6886 158.2018 94.48246  2415.351\n",
              "893133 638.0768 182.4803 -42.8443  823.6886 158.2018 94.48246  2415.351\n",
              "893134 638.0768 182.4803 -42.8443  823.6886 158.2018 94.48246  2415.351\n",
              "893135 638.0768 182.4803 -42.8443  823.6886 158.2018 94.48246  2415.351\n",
              "893136 638.0768 182.4803 -42.8443  823.6886 158.2018 94.48246  2415.351\n",
              "893137 638.0768 182.4803 -42.8443  823.6886 158.2018 94.48245  2415.351\n",
              "893138 638.0768 182.4803 -42.8443  823.6886 158.2018 94.48246  2415.351\n",
              "893139 638.0768 182.4803 -42.8443  823.6886 158.2018 94.48246  2415.351\n",
              "893140 638.0768 182.4803 -42.8443  823.6886 158.2018 94.48246  2415.351\n",
              "893141 638.0768 182.4803 -42.8443  823.6886 158.2018 94.48246  2415.351\n",
              "893142 638.0768 182.4803 -42.8443  823.6886 158.2018 94.48246  2415.351\n",
              "893143 638.0768 182.4803 -42.8443  823.6886 158.2018 94.48246  2415.351\n",
              "       srad     swe       tmmn     tmmx     vap      vpd      vs      \n",
              "1      1598.306 97.91666  23.16667 127.1944 619.6111 59.72222 356.1111\n",
              "2      1598.306 97.91666  23.16667 127.1944 619.6111 59.72222 356.1111\n",
              "3      1598.306 97.91667  23.16667 127.1944 619.6111 59.72222 356.1111\n",
              "4      1598.306 97.91667  23.16667 127.1944 619.6111 59.72222 356.1111\n",
              "5      1598.306 97.91666  23.16667 127.1944 619.6111 59.72222 356.1111\n",
              "6      1601.722 61.86111  30.91667 141.1667 693.6667 63.36111 345.2778\n",
              "7      1601.722 61.86111  30.91667 141.1667 693.6667 63.36111 345.2778\n",
              "8      1601.722 61.86111  30.91667 141.1667 693.6667 63.36111 345.2778\n",
              "9      1601.722 61.86111  30.91667 141.1667 693.6667 63.36111 345.2778\n",
              "10     1601.722 61.86111  30.91667 141.1667 693.6667 63.36111 345.2778\n",
              "11     1601.722 61.86111  30.91667 141.1667 693.6667 63.36111 345.2778\n",
              "12     1598.306 97.91666  23.16667 127.1944 619.6111 59.72222 356.1111\n",
              "13     1598.306 97.91667  23.16667 127.1944 619.6111 59.72222 356.1111\n",
              "14     1598.306 97.91667  23.16667 127.1944 619.6111 59.72222 356.1111\n",
              "15     1598.306 97.91667  23.16667 127.1944 619.6111 59.72222 356.1111\n",
              "16     1598.306 97.91667  23.16667 127.1944 619.6111 59.72222 356.1111\n",
              "17     1598.306 97.91667  23.16667 127.1944 619.6111 59.72222 356.1111\n",
              "18     1598.306 97.91666  23.16667 127.1944 619.6111 59.72222 356.1111\n",
              "19     1598.306 97.91666  23.16667 127.1944 619.6111 59.72222 356.1111\n",
              "20     1601.722 61.86111  30.91667 141.1667 693.6667 63.36111 345.2778\n",
              "21     1598.306 97.91667  23.16667 127.1944 619.6111 59.72222 356.1111\n",
              "22     1598.641 93.77600  23.09804 127.6977 621.0600 59.78323 356.1111\n",
              "23     1598.306 97.91666  23.16667 127.1944 619.6111 59.72222 356.1111\n",
              "24     1601.722 61.86111  30.91667 141.1667 693.6667 63.36111 345.2778\n",
              "25     1601.722 61.86111  30.91667 141.1667 693.6667 63.36111 345.2778\n",
              "26     1601.722 61.86111  30.91667 141.1667 693.6667 63.36111 345.2778\n",
              "27     1601.722 61.86111  30.91667 141.1667 693.6667 63.36111 345.2778\n",
              "28     1601.722 61.86111  30.91667 141.1667 693.6666 63.36111 345.2778\n",
              "29     1599.795 82.19614  26.54573 133.2865 651.9000 61.30881 351.3877\n",
              "30     1598.306 97.91666  23.16667 127.1944 619.6111 59.72222 356.1111\n",
              "⋮      ⋮        ⋮         ⋮        ⋮        ⋮        ⋮        ⋮       \n",
              "893114 1606.373 0.6951754 38.52412 154.2412 759.4847 60.4386  331.5219\n",
              "893115 1606.373 0.6951754 38.52412 154.2412 759.4846 60.4386  331.5219\n",
              "893116 1606.373 0.6951754 38.52412 154.2412 759.4847 60.4386  331.5219\n",
              "893117 1606.373 0.6951755 38.52412 154.2412 759.4847 60.4386  331.5219\n",
              "893118 1606.373 0.6951754 38.52412 154.2412 759.4846 60.4386  331.5219\n",
              "893119 1606.373 0.6951754 38.52412 154.2412 759.4846 60.4386  331.5219\n",
              "893120 1606.373 0.6951754 38.52412 154.2412 759.4846 60.4386  331.5219\n",
              "893121 1606.373 0.6951754 38.52412 154.2412 759.4847 60.4386  331.5219\n",
              "893122 1606.373 0.6951754 38.52412 154.2412 759.4846 60.4386  331.5219\n",
              "893123 1606.373 0.6951754 38.52412 154.2412 759.4846 60.4386  331.5219\n",
              "893124 1606.373 0.6951754 38.52412 154.2412 759.4846 60.4386  331.5219\n",
              "893125 1606.373 0.6951754 38.52412 154.2412 759.4847 60.4386  331.5219\n",
              "893126 1606.373 0.6951754 38.52412 154.2412 759.4847 60.4386  331.5219\n",
              "893127 1606.373 0.6951754 38.52412 154.2412 759.4847 60.4386  331.5219\n",
              "893128 1606.373 0.6951755 38.52412 154.2412 759.4847 60.4386  331.5219\n",
              "893129 1606.373 0.6951754 38.52412 154.2412 759.4847 60.4386  331.5219\n",
              "893130 1606.373 0.6951755 38.52412 154.2412 759.4847 60.4386  331.5219\n",
              "893131 1606.373 0.6951754 38.52412 154.2412 759.4846 60.4386  331.5219\n",
              "893132 1606.373 0.6951754 38.52412 154.2412 759.4846 60.4386  331.5219\n",
              "893133 1606.373 0.6951754 38.52412 154.2412 759.4847 60.4386  331.5219\n",
              "893134 1606.373 0.6951755 38.52412 154.2412 759.4847 60.4386  331.5219\n",
              "893135 1606.373 0.6951754 38.52412 154.2412 759.4846 60.4386  331.5219\n",
              "893136 1606.373 0.6951755 38.52412 154.2412 759.4846 60.4386  331.5219\n",
              "893137 1606.373 0.6951754 38.52412 154.2412 759.4846 60.4386  331.5219\n",
              "893138 1606.373 0.6951754 38.52412 154.2412 759.4846 60.4386  331.5219\n",
              "893139 1606.373 0.6951754 38.52412 154.2412 759.4846 60.4386  331.5219\n",
              "893140 1606.373 0.6951755 38.52412 154.2412 759.4846 60.4386  331.5219\n",
              "893141 1606.373 0.6951754 38.52412 154.2412 759.4847 60.4386  331.5219\n",
              "893142 1606.373 0.6951754 38.52412 154.2412 759.4846 60.4386  331.5219\n",
              "893143 1606.373 0.6951754 38.52412 154.2412 759.4846 60.4386  331.5219"
            ]
          },
          "metadata": {}
        }
      ]
    },
    {
      "cell_type": "code",
      "execution_count": 38,
      "metadata": {
        "id": "bm8iU_J9hwbc"
      },
      "outputs": [],
      "source": [
        "rf_dt <- data.table(gedi_dist_dt,esa_gpkg,tpi_gpkg,by_year_climate_dt)"
      ]
    },
    {
      "cell_type": "code",
      "source": [
        "rf_dt"
      ],
      "metadata": {
        "colab": {
          "base_uri": "https://localhost:8080/",
          "height": 1000
        },
        "id": "enykoUt19Wb6",
        "outputId": "afda88df-28a9-420f-fb87-497ec805e897"
      },
      "execution_count": 39,
      "outputs": [
        {
          "output_type": "display_data",
          "data": {
            "text/html": [
              "<table class=\"dataframe\">\n",
              "<caption>A data.table: 893143 × 113</caption>\n",
              "<thead>\n",
              "\t<tr><th scope=col>agbd</th><th scope=col>lat_lowestmode</th><th scope=col>lon_lowestmode</th><th scope=col>agbd_pi_lower</th><th scope=col>agbd_pi_upper</th><th scope=col>agbd_se</th><th scope=col>agbd_t</th><th scope=col>agbd_t_se</th><th scope=col>algorithm_run_flag</th><th scope=col>channel</th><th scope=col>⋯</th><th scope=col>pr</th><th scope=col>ro</th><th scope=col>soil</th><th scope=col>srad</th><th scope=col>swe</th><th scope=col>tmmn</th><th scope=col>tmmx</th><th scope=col>vap</th><th scope=col>vpd</th><th scope=col>vs</th></tr>\n",
              "\t<tr><th scope=col>&lt;dbl&gt;</th><th scope=col>&lt;dbl&gt;</th><th scope=col>&lt;dbl&gt;</th><th scope=col>&lt;dbl&gt;</th><th scope=col>&lt;dbl&gt;</th><th scope=col>&lt;dbl&gt;</th><th scope=col>&lt;dbl&gt;</th><th scope=col>&lt;dbl&gt;</th><th scope=col>&lt;dbl&gt;</th><th scope=col>&lt;dbl&gt;</th><th scope=col>⋯</th><th scope=col>&lt;dbl&gt;</th><th scope=col>&lt;dbl&gt;</th><th scope=col>&lt;dbl&gt;</th><th scope=col>&lt;dbl&gt;</th><th scope=col>&lt;dbl&gt;</th><th scope=col>&lt;dbl&gt;</th><th scope=col>&lt;dbl&gt;</th><th scope=col>&lt;dbl&gt;</th><th scope=col>&lt;dbl&gt;</th><th scope=col>&lt;dbl&gt;</th></tr>\n",
              "</thead>\n",
              "<tbody>\n",
              "\t<tr><td>202.49307</td><td>44.78238</td><td>-121.8913</td><td>   76.510269</td><td> 388.60226</td><td>11.10132</td><td>14.141659</td><td>3.311179</td><td>1</td><td>1</td><td>⋯</td><td>156.1944</td><td>107.33334</td><td>1600.528</td><td>1598.306</td><td>97.91666</td><td>23.16667</td><td>127.1944</td><td>619.6111</td><td>59.72222</td><td>356.1111</td></tr>\n",
              "\t<tr><td> 98.51974</td><td>44.78264</td><td>-121.8906</td><td>   19.739058</td><td> 237.42361</td><td>11.10073</td><td> 9.864087</td><td>3.311091</td><td>1</td><td>1</td><td>⋯</td><td>156.1944</td><td>107.33334</td><td>1600.528</td><td>1598.306</td><td>97.91666</td><td>23.16667</td><td>127.1944</td><td>619.6111</td><td>59.72222</td><td>356.1111</td></tr>\n",
              "\t<tr><td>351.77530</td><td>44.78259</td><td>-121.8909</td><td>  176.035446</td><td> 587.74792</td><td>11.12096</td><td>18.639229</td><td>3.314106</td><td>1</td><td>0</td><td>⋯</td><td>156.1944</td><td>107.33334</td><td>1600.528</td><td>1598.306</td><td>97.91667</td><td>23.16667</td><td>127.1944</td><td>619.6111</td><td>59.72222</td><td>356.1111</td></tr>\n",
              "\t<tr><td>205.08899</td><td>44.78133</td><td>-121.8937</td><td>   78.107780</td><td> 392.19824</td><td>11.10163</td><td>14.232017</td><td>3.311225</td><td>1</td><td>1</td><td>⋯</td><td>156.1944</td><td>107.33334</td><td>1600.528</td><td>1598.306</td><td>97.91667</td><td>23.16667</td><td>127.1944</td><td>619.6111</td><td>59.72222</td><td>356.1111</td></tr>\n",
              "\t<tr><td>296.17981</td><td>44.78128</td><td>-121.8940</td><td>  137.416382</td><td> 515.16638</td><td>11.11919</td><td>17.103027</td><td>3.313842</td><td>1</td><td>0</td><td>⋯</td><td>156.1944</td><td>107.33333</td><td>1600.528</td><td>1598.306</td><td>97.91666</td><td>23.16667</td><td>127.1944</td><td>619.6111</td><td>59.72222</td><td>356.1111</td></tr>\n",
              "\t<tr><td> 15.39457</td><td>44.77249</td><td>-121.9418</td><td>-9999.000000</td><td>  88.54436</td><td>11.11436</td><td> 3.899232</td><td>3.313122</td><td>1</td><td>1</td><td>⋯</td><td>144.2222</td><td> 93.61111</td><td>1662.722</td><td>1601.722</td><td>61.86111</td><td>30.91667</td><td>141.1667</td><td>693.6667</td><td>63.36111</td><td>345.2778</td></tr>\n",
              "\t<tr><td>514.52936</td><td>44.76986</td><td>-121.9357</td><td>  295.259125</td><td> 794.30255</td><td>11.17085</td><td>22.542410</td><td>3.321531</td><td>1</td><td>5</td><td>⋯</td><td>144.2222</td><td> 93.61111</td><td>1662.722</td><td>1601.722</td><td>61.86111</td><td>30.91667</td><td>141.1667</td><td>693.6667</td><td>63.36111</td><td>345.2778</td></tr>\n",
              "\t<tr><td> 40.56170</td><td>44.77014</td><td>-121.9363</td><td>    0.782423</td><td> 140.49518</td><td>11.10646</td><td> 6.329266</td><td>3.311945</td><td>1</td><td>1</td><td>⋯</td><td>144.2222</td><td> 93.61111</td><td>1662.722</td><td>1601.722</td><td>61.86111</td><td>30.91667</td><td>141.1667</td><td>693.6667</td><td>63.36111</td><td>345.2778</td></tr>\n",
              "\t<tr><td> 26.86498</td><td>44.76987</td><td>-121.9356</td><td>-9999.000000</td><td> 113.80793</td><td>11.10920</td><td> 5.150964</td><td>3.312353</td><td>1</td><td>1</td><td>⋯</td><td>144.2222</td><td> 93.61111</td><td>1662.722</td><td>1601.722</td><td>61.86111</td><td>30.91667</td><td>141.1667</td><td>693.6667</td><td>63.36111</td><td>345.2778</td></tr>\n",
              "\t<tr><td> 59.08430</td><td>44.76271</td><td>-121.9339</td><td>    4.855742</td><td> 173.44067</td><td>11.10159</td><td> 7.638908</td><td>3.311218</td><td>1</td><td>1</td><td>⋯</td><td>144.2222</td><td> 93.61111</td><td>1662.722</td><td>1601.722</td><td>61.86111</td><td>30.91667</td><td>141.1667</td><td>693.6667</td><td>63.36111</td><td>345.2778</td></tr>\n",
              "\t<tr><td>421.53067</td><td>44.76065</td><td>-121.9272</td><td>  226.305038</td><td> 676.98767</td><td>11.12070</td><td>20.403744</td><td>3.314067</td><td>1</td><td>0</td><td>⋯</td><td>144.2222</td><td> 93.61111</td><td>1662.722</td><td>1601.722</td><td>61.86111</td><td>30.91667</td><td>141.1667</td><td>693.6667</td><td>63.36111</td><td>345.2778</td></tr>\n",
              "\t<tr><td>649.36127</td><td>44.75767</td><td>-121.9156</td><td>  399.541382</td><td> 959.54999</td><td>11.14609</td><td>25.324358</td><td>3.317849</td><td>1</td><td>2</td><td>⋯</td><td>156.1944</td><td>107.33333</td><td>1600.528</td><td>1598.306</td><td>97.91666</td><td>23.16667</td><td>127.1944</td><td>619.6111</td><td>59.72222</td><td>356.1111</td></tr>\n",
              "\t<tr><td>594.64972</td><td>44.75793</td><td>-121.9150</td><td>  356.951721</td><td> 892.67792</td><td>11.13895</td><td>24.234043</td><td>3.316785</td><td>1</td><td>2</td><td>⋯</td><td>156.1944</td><td>107.33333</td><td>1600.528</td><td>1598.306</td><td>97.91667</td><td>23.16667</td><td>127.1944</td><td>619.6111</td><td>59.72222</td><td>356.1111</td></tr>\n",
              "\t<tr><td>547.39709</td><td>44.75820</td><td>-121.9143</td><td>  320.609711</td><td> 834.48535</td><td>11.13354</td><td>23.251261</td><td>3.315980</td><td>1</td><td>2</td><td>⋯</td><td>156.1944</td><td>107.33334</td><td>1600.528</td><td>1598.306</td><td>97.91667</td><td>23.16667</td><td>127.1944</td><td>619.6111</td><td>59.72222</td><td>356.1111</td></tr>\n",
              "\t<tr><td>615.96417</td><td>44.75847</td><td>-121.9137</td><td>  373.482819</td><td> 918.79004</td><td>11.14158</td><td>24.664539</td><td>3.317177</td><td>1</td><td>2</td><td>⋯</td><td>156.1944</td><td>107.33334</td><td>1600.528</td><td>1598.306</td><td>97.91667</td><td>23.16667</td><td>127.1944</td><td>619.6111</td><td>59.72222</td><td>356.1111</td></tr>\n",
              "\t<tr><td>555.78674</td><td>44.75873</td><td>-121.9131</td><td>  326.789948</td><td> 845.23505</td><td>11.16136</td><td>23.428762</td><td>3.320120</td><td>1</td><td>2</td><td>⋯</td><td>156.1944</td><td>107.33333</td><td>1600.528</td><td>1598.306</td><td>97.91667</td><td>23.16667</td><td>127.1944</td><td>619.6111</td><td>59.72222</td><td>356.1111</td></tr>\n",
              "\t<tr><td>864.96490</td><td>44.75841</td><td>-121.9133</td><td>  571.603821</td><td>1218.87097</td><td>11.17863</td><td>29.227692</td><td>3.322688</td><td>1</td><td>2</td><td>⋯</td><td>156.1944</td><td>107.33334</td><td>1600.528</td><td>1598.306</td><td>97.91667</td><td>23.16667</td><td>127.1944</td><td>619.6111</td><td>59.72222</td><td>356.1111</td></tr>\n",
              "\t<tr><td> 17.03511</td><td>44.75795</td><td>-121.9163</td><td>-9999.000000</td><td>  92.41876</td><td>11.11394</td><td> 4.101736</td><td>3.313061</td><td>1</td><td>0</td><td>⋯</td><td>156.1944</td><td>107.33333</td><td>1600.528</td><td>1598.306</td><td>97.91666</td><td>23.16667</td><td>127.1944</td><td>619.6111</td><td>59.72222</td><td>356.1111</td></tr>\n",
              "\t<tr><td>904.39124</td><td>44.75847</td><td>-121.9151</td><td>  603.704651</td><td>1265.63708</td><td>11.18126</td><td>29.886389</td><td>3.323078</td><td>1</td><td>0</td><td>⋯</td><td>156.1944</td><td>107.33334</td><td>1600.528</td><td>1598.306</td><td>97.91666</td><td>23.16667</td><td>127.1944</td><td>619.6111</td><td>59.72222</td><td>356.1111</td></tr>\n",
              "\t<tr><td>122.13786</td><td>44.75680</td><td>-121.9356</td><td>   31.011219</td><td> 273.38733</td><td>11.10066</td><td>10.982985</td><td>3.311080</td><td>1</td><td>1</td><td>⋯</td><td>144.2222</td><td> 93.61111</td><td>1662.722</td><td>1601.722</td><td>61.86111</td><td>30.91667</td><td>141.1667</td><td>693.6667</td><td>63.36111</td><td>345.2778</td></tr>\n",
              "\t<tr><td>247.18703</td><td>44.75514</td><td>-121.9009</td><td>  104.826660</td><td> 449.68918</td><td>11.10417</td><td>15.624571</td><td>3.311603</td><td>1</td><td>1</td><td>⋯</td><td>156.1944</td><td>107.33333</td><td>1600.528</td><td>1598.306</td><td>97.91667</td><td>23.16667</td><td>127.1944</td><td>619.6111</td><td>59.72222</td><td>356.1111</td></tr>\n",
              "\t<tr><td>101.47255</td><td>44.75411</td><td>-121.8999</td><td>   21.069368</td><td> 242.00716</td><td>11.10225</td><td>10.010818</td><td>3.311317</td><td>1</td><td>1</td><td>⋯</td><td>154.9515</td><td>105.80823</td><td>1588.891</td><td>1598.641</td><td>93.77600</td><td>23.09804</td><td>127.6977</td><td>621.0600</td><td>59.78323</td><td>356.1111</td></tr>\n",
              "\t<tr><td> 16.14140</td><td>44.75822</td><td>-121.9188</td><td>-9999.000000</td><td>  90.32846</td><td>11.11550</td><td> 3.992693</td><td>3.313293</td><td>1</td><td>1</td><td>⋯</td><td>156.1944</td><td>107.33333</td><td>1600.528</td><td>1598.306</td><td>97.91666</td><td>23.16667</td><td>127.1944</td><td>619.6111</td><td>59.72222</td><td>356.1111</td></tr>\n",
              "\t<tr><td> 65.88306</td><td>44.75472</td><td>-121.9225</td><td>    6.937531</td><td> 184.95337</td><td>11.10103</td><td> 8.066444</td><td>3.311135</td><td>1</td><td>2</td><td>⋯</td><td>144.2222</td><td> 93.61111</td><td>1662.722</td><td>1601.722</td><td>61.86111</td><td>30.91667</td><td>141.1667</td><td>693.6667</td><td>63.36111</td><td>345.2778</td></tr>\n",
              "\t<tr><td>838.60358</td><td>44.75499</td><td>-121.9218</td><td>  550.248474</td><td>1187.48694</td><td>11.17550</td><td>28.778862</td><td>3.322222</td><td>1</td><td>2</td><td>⋯</td><td>144.2222</td><td> 93.61111</td><td>1662.722</td><td>1601.722</td><td>61.86111</td><td>30.91667</td><td>141.1667</td><td>693.6667</td><td>63.36111</td><td>345.2778</td></tr>\n",
              "\t<tr><td>162.54333</td><td>44.75526</td><td>-121.9212</td><td>   52.022430</td><td> 334.37195</td><td>11.31943</td><td>12.670094</td><td>3.343548</td><td>1</td><td>2</td><td>⋯</td><td>144.2222</td><td> 93.61111</td><td>1662.722</td><td>1601.722</td><td>61.86111</td><td>30.91667</td><td>141.1667</td><td>693.6667</td><td>63.36111</td><td>345.2778</td></tr>\n",
              "\t<tr><td> 22.01863</td><td>44.75552</td><td>-121.9206</td><td>-9999.000000</td><td> 103.57902</td><td>11.10937</td><td> 4.663268</td><td>3.312378</td><td>1</td><td>2</td><td>⋯</td><td>144.2222</td><td> 93.61111</td><td>1662.722</td><td>1601.722</td><td>61.86111</td><td>30.91667</td><td>141.1667</td><td>693.6667</td><td>63.36111</td><td>345.2778</td></tr>\n",
              "\t<tr><td>442.72513</td><td>44.75579</td><td>-121.9200</td><td>  241.608856</td><td> 704.28113</td><td>11.15918</td><td>20.910400</td><td>3.319797</td><td>1</td><td>2</td><td>⋯</td><td>144.2222</td><td> 93.61111</td><td>1662.722</td><td>1601.722</td><td>61.86111</td><td>30.91667</td><td>141.1667</td><td>693.6666</td><td>63.36111</td><td>345.2778</td></tr>\n",
              "\t<tr><td> 78.14587</td><td>44.75606</td><td>-121.9193</td><td>   11.130984</td><td> 205.74222</td><td>11.18535</td><td> 8.785131</td><td>3.323686</td><td>1</td><td>2</td><td>⋯</td><td>150.9745</td><td>101.35033</td><td>1627.645</td><td>1599.795</td><td>82.19614</td><td>26.54573</td><td>133.2865</td><td>651.9000</td><td>61.30881</td><td>351.3877</td></tr>\n",
              "\t<tr><td>152.74023</td><td>44.75633</td><td>-121.9187</td><td>   47.283173</td><td> 318.31369</td><td>11.09948</td><td>12.282082</td><td>3.310904</td><td>1</td><td>2</td><td>⋯</td><td>156.1944</td><td>107.33333</td><td>1600.528</td><td>1598.306</td><td>97.91666</td><td>23.16667</td><td>127.1944</td><td>619.6111</td><td>59.72222</td><td>356.1111</td></tr>\n",
              "\t<tr><td>⋮</td><td>⋮</td><td>⋮</td><td>⋮</td><td>⋮</td><td>⋮</td><td>⋮</td><td>⋮</td><td>⋮</td><td>⋮</td><td>⋱</td><td>⋮</td><td>⋮</td><td>⋮</td><td>⋮</td><td>⋮</td><td>⋮</td><td>⋮</td><td>⋮</td><td>⋮</td><td>⋮</td></tr>\n",
              "\t<tr><td>258.93848</td><td>44.07425</td><td>-122.5900</td><td>  112.5098190</td><td>465.5266</td><td>11.10744</td><td>15.991660</td><td>3.312090</td><td>1</td><td>4</td><td>⋯</td><td>158.2018</td><td>94.48246</td><td>2415.351</td><td>1606.373</td><td>0.6951754</td><td>38.52412</td><td>154.2412</td><td>759.4847</td><td>60.4386</td><td>331.5219</td></tr>\n",
              "\t<tr><td>147.09892</td><td>44.07399</td><td>-122.5894</td><td>   44.1687050</td><td>310.1443</td><td>11.09925</td><td>12.053135</td><td>3.310870</td><td>1</td><td>4</td><td>⋯</td><td>158.2018</td><td>94.48246</td><td>2415.351</td><td>1606.373</td><td>0.6951754</td><td>38.52412</td><td>154.2412</td><td>759.4846</td><td>60.4386</td><td>331.5219</td></tr>\n",
              "\t<tr><td>218.94739</td><td>44.07372</td><td>-122.5888</td><td>   86.7362518</td><td>411.2991</td><td>11.10395</td><td>14.705004</td><td>3.311571</td><td>1</td><td>4</td><td>⋯</td><td>158.2018</td><td>94.48246</td><td>2415.351</td><td>1606.373</td><td>0.6951754</td><td>38.52412</td><td>154.2412</td><td>759.4847</td><td>60.4386</td><td>331.5219</td></tr>\n",
              "\t<tr><td>196.21808</td><td>44.07303</td><td>-122.5917</td><td>   72.6730423</td><td>379.8883</td><td>11.10111</td><td>13.920818</td><td>3.311146</td><td>1</td><td>1</td><td>⋯</td><td>158.2018</td><td>94.48246</td><td>2415.351</td><td>1606.373</td><td>0.6951755</td><td>38.52412</td><td>154.2412</td><td>759.4847</td><td>60.4386</td><td>331.5219</td></tr>\n",
              "\t<tr><td>144.39738</td><td>44.07330</td><td>-122.5911</td><td>   42.6941490</td><td>306.2156</td><td>11.09921</td><td>11.941941</td><td>3.310864</td><td>1</td><td>1</td><td>⋯</td><td>158.2018</td><td>94.48246</td><td>2415.351</td><td>1606.373</td><td>0.6951754</td><td>38.52412</td><td>154.2412</td><td>759.4846</td><td>60.4386</td><td>331.5219</td></tr>\n",
              "\t<tr><td>102.46932</td><td>44.07356</td><td>-122.5905</td><td>   21.5315037</td><td>243.5229</td><td>11.09937</td><td>10.059866</td><td>3.310887</td><td>1</td><td>1</td><td>⋯</td><td>158.2018</td><td>94.48245</td><td>2415.351</td><td>1606.373</td><td>0.6951754</td><td>38.52412</td><td>154.2412</td><td>759.4846</td><td>60.4386</td><td>331.5219</td></tr>\n",
              "\t<tr><td>157.44504</td><td>44.07383</td><td>-122.5899</td><td>   49.9164124</td><td>325.0905</td><td>11.09956</td><td>12.469808</td><td>3.310916</td><td>1</td><td>1</td><td>⋯</td><td>158.2018</td><td>94.48246</td><td>2415.351</td><td>1606.373</td><td>0.6951754</td><td>38.52412</td><td>154.2412</td><td>759.4846</td><td>60.4386</td><td>331.5219</td></tr>\n",
              "\t<tr><td>134.24043</td><td>44.07410</td><td>-122.5893</td><td>   37.2538528</td><td>291.3454</td><td>11.09984</td><td>11.514284</td><td>3.310957</td><td>1</td><td>1</td><td>⋯</td><td>158.2018</td><td>94.48246</td><td>2415.351</td><td>1606.373</td><td>0.6951754</td><td>38.52412</td><td>154.2412</td><td>759.4847</td><td>60.4386</td><td>331.5219</td></tr>\n",
              "\t<tr><td> 88.90730</td><td>44.07436</td><td>-122.5887</td><td>   15.5749493</td><td>222.3565</td><td>11.09956</td><td> 9.370526</td><td>3.310916</td><td>1</td><td>1</td><td>⋯</td><td>158.2018</td><td>94.48246</td><td>2415.351</td><td>1606.373</td><td>0.6951754</td><td>38.52412</td><td>154.2412</td><td>759.4846</td><td>60.4386</td><td>331.5219</td></tr>\n",
              "\t<tr><td> 41.04046</td><td>44.07463</td><td>-122.5881</td><td>    0.8512793</td><td>141.3701</td><td>11.10393</td><td> 6.366509</td><td>3.311568</td><td>1</td><td>1</td><td>⋯</td><td>158.2018</td><td>94.48246</td><td>2415.351</td><td>1606.373</td><td>0.6951754</td><td>38.52412</td><td>154.2412</td><td>759.4846</td><td>60.4386</td><td>331.5219</td></tr>\n",
              "\t<tr><td>167.99240</td><td>44.07093</td><td>-122.5925</td><td>   55.9283981</td><td>340.1755</td><td>11.09998</td><td>12.880718</td><td>3.310978</td><td>1</td><td>1</td><td>⋯</td><td>158.2018</td><td>94.48246</td><td>2415.351</td><td>1606.373</td><td>0.6951754</td><td>38.52412</td><td>154.2412</td><td>759.4846</td><td>60.4386</td><td>331.5219</td></tr>\n",
              "\t<tr><td> 90.90186</td><td>44.07120</td><td>-122.5919</td><td>   16.4151402</td><td>225.5083</td><td>11.10009</td><td> 9.475053</td><td>3.310995</td><td>1</td><td>1</td><td>⋯</td><td>158.2018</td><td>94.48246</td><td>2415.351</td><td>1606.373</td><td>0.6951754</td><td>38.52412</td><td>154.2412</td><td>759.4847</td><td>60.4386</td><td>331.5219</td></tr>\n",
              "\t<tr><td> 95.80682</td><td>44.07147</td><td>-122.5913</td><td>   18.5363731</td><td>233.1974</td><td>11.10017</td><td> 9.727326</td><td>3.311007</td><td>1</td><td>1</td><td>⋯</td><td>158.2018</td><td>94.48246</td><td>2415.351</td><td>1606.373</td><td>0.6951754</td><td>38.52412</td><td>154.2412</td><td>759.4847</td><td>60.4386</td><td>331.5219</td></tr>\n",
              "\t<tr><td> 91.06995</td><td>44.07174</td><td>-122.5907</td><td>   16.4857121</td><td>225.7764</td><td>11.10054</td><td> 9.483809</td><td>3.311062</td><td>1</td><td>1</td><td>⋯</td><td>158.2018</td><td>94.48246</td><td>2415.351</td><td>1606.373</td><td>0.6951754</td><td>38.52412</td><td>154.2412</td><td>759.4847</td><td>60.4386</td><td>331.5219</td></tr>\n",
              "\t<tr><td> 56.31649</td><td>44.07200</td><td>-122.5901</td><td>    4.0851908</td><td>168.6798</td><td>11.10235</td><td> 7.457840</td><td>3.311332</td><td>1</td><td>1</td><td>⋯</td><td>158.2018</td><td>94.48246</td><td>2415.351</td><td>1606.373</td><td>0.6951755</td><td>38.52412</td><td>154.2412</td><td>759.4847</td><td>60.4386</td><td>331.5219</td></tr>\n",
              "\t<tr><td> 96.80244</td><td>44.07227</td><td>-122.5895</td><td>   18.9749069</td><td>234.7522</td><td>11.10056</td><td> 9.777739</td><td>3.311065</td><td>1</td><td>1</td><td>⋯</td><td>158.2018</td><td>94.48246</td><td>2415.351</td><td>1606.373</td><td>0.6951754</td><td>38.52412</td><td>154.2412</td><td>759.4847</td><td>60.4386</td><td>331.5219</td></tr>\n",
              "\t<tr><td>271.47940</td><td>44.07253</td><td>-122.5920</td><td>  120.8022919</td><td>482.3406</td><td>11.11198</td><td>16.374336</td><td>3.312768</td><td>1</td><td>1</td><td>⋯</td><td>158.2018</td><td>94.48246</td><td>2415.351</td><td>1606.373</td><td>0.6951755</td><td>38.52412</td><td>154.2412</td><td>759.4847</td><td>60.4386</td><td>331.5219</td></tr>\n",
              "\t<tr><td>110.58319</td><td>44.07225</td><td>-122.5914</td><td>   25.3326378</td><td>255.9538</td><td>11.10015</td><td>10.450566</td><td>3.311003</td><td>1</td><td>1</td><td>⋯</td><td>158.2018</td><td>94.48246</td><td>2415.351</td><td>1606.373</td><td>0.6951754</td><td>38.52412</td><td>154.2412</td><td>759.4846</td><td>60.4386</td><td>331.5219</td></tr>\n",
              "\t<tr><td> 49.89533</td><td>44.07197</td><td>-122.5909</td><td>    2.4975975</td><td>157.4259</td><td>11.10251</td><td> 7.019808</td><td>3.311356</td><td>1</td><td>1</td><td>⋯</td><td>158.2018</td><td>94.48246</td><td>2415.351</td><td>1606.373</td><td>0.6951754</td><td>38.52412</td><td>154.2412</td><td>759.4846</td><td>60.4386</td><td>331.5219</td></tr>\n",
              "\t<tr><td>138.79854</td><td>44.06944</td><td>-122.5928</td><td>   39.6730881</td><td>298.0423</td><td>11.09982</td><td>11.708135</td><td>3.310955</td><td>1</td><td>0</td><td>⋯</td><td>158.2018</td><td>94.48246</td><td>2415.351</td><td>1606.373</td><td>0.6951754</td><td>38.52412</td><td>154.2412</td><td>759.4847</td><td>60.4386</td><td>331.5219</td></tr>\n",
              "\t<tr><td> 58.04548</td><td>44.07348</td><td>-122.5905</td><td>    4.5604801</td><td>171.6621</td><td>11.10229</td><td> 7.571457</td><td>3.311323</td><td>1</td><td>1</td><td>⋯</td><td>158.2018</td><td>94.48246</td><td>2415.351</td><td>1606.373</td><td>0.6951755</td><td>38.52412</td><td>154.2412</td><td>759.4847</td><td>60.4386</td><td>331.5219</td></tr>\n",
              "\t<tr><td>190.84642</td><td>44.07320</td><td>-122.5899</td><td>   69.3663635</td><td>372.5204</td><td>11.11380</td><td>13.728949</td><td>3.313038</td><td>1</td><td>1</td><td>⋯</td><td>158.2018</td><td>94.48246</td><td>2415.351</td><td>1606.373</td><td>0.6951754</td><td>38.52412</td><td>154.2412</td><td>759.4846</td><td>60.4386</td><td>331.5219</td></tr>\n",
              "\t<tr><td>110.00547</td><td>44.07293</td><td>-122.5892</td><td>   25.0590668</td><td>255.0663</td><td>11.09912</td><td>10.423232</td><td>3.310850</td><td>1</td><td>1</td><td>⋯</td><td>158.2018</td><td>94.48246</td><td>2415.351</td><td>1606.373</td><td>0.6951755</td><td>38.52412</td><td>154.2412</td><td>759.4846</td><td>60.4386</td><td>331.5219</td></tr>\n",
              "\t<tr><td> 48.15558</td><td>44.07045</td><td>-122.5926</td><td>    2.1202981</td><td>154.3240</td><td>11.10256</td><td> 6.896338</td><td>3.311364</td><td>1</td><td>3</td><td>⋯</td><td>158.2018</td><td>94.48245</td><td>2415.351</td><td>1606.373</td><td>0.6951754</td><td>38.52412</td><td>154.2412</td><td>759.4846</td><td>60.4386</td><td>331.5219</td></tr>\n",
              "\t<tr><td>103.64187</td><td>44.07072</td><td>-122.5920</td><td>   22.0709839</td><td>245.3281</td><td>11.09929</td><td>10.117259</td><td>3.310875</td><td>1</td><td>3</td><td>⋯</td><td>158.2018</td><td>94.48246</td><td>2415.351</td><td>1606.373</td><td>0.6951754</td><td>38.52412</td><td>154.2412</td><td>759.4846</td><td>60.4386</td><td>331.5219</td></tr>\n",
              "\t<tr><td> 41.65387</td><td>44.07429</td><td>-122.5911</td><td>    0.9404535</td><td>142.5204</td><td>11.10626</td><td> 6.413911</td><td>3.311915</td><td>1</td><td>2</td><td>⋯</td><td>158.2018</td><td>94.48246</td><td>2415.351</td><td>1606.373</td><td>0.6951754</td><td>38.52412</td><td>154.2412</td><td>759.4846</td><td>60.4386</td><td>331.5219</td></tr>\n",
              "\t<tr><td>100.48817</td><td>44.07402</td><td>-122.5905</td><td>   20.6284294</td><td>240.4641</td><td>11.09944</td><td> 9.962142</td><td>3.310898</td><td>1</td><td>2</td><td>⋯</td><td>158.2018</td><td>94.48246</td><td>2415.351</td><td>1606.373</td><td>0.6951755</td><td>38.52412</td><td>154.2412</td><td>759.4846</td><td>60.4386</td><td>331.5219</td></tr>\n",
              "\t<tr><td> 28.39315</td><td>44.07374</td><td>-122.5899</td><td>-9999.0000000</td><td>116.9155</td><td>11.10632</td><td> 5.295440</td><td>3.311923</td><td>1</td><td>2</td><td>⋯</td><td>158.2018</td><td>94.48246</td><td>2415.351</td><td>1606.373</td><td>0.6951754</td><td>38.52412</td><td>154.2412</td><td>759.4847</td><td>60.4386</td><td>331.5219</td></tr>\n",
              "\t<tr><td> 51.96273</td><td>44.07347</td><td>-122.5892</td><td>    2.9766045</td><td>161.0806</td><td>11.10231</td><td> 7.163764</td><td>3.311325</td><td>1</td><td>2</td><td>⋯</td><td>158.2018</td><td>94.48246</td><td>2415.351</td><td>1606.373</td><td>0.6951754</td><td>38.52412</td><td>154.2412</td><td>759.4846</td><td>60.4386</td><td>331.5219</td></tr>\n",
              "\t<tr><td>149.55153</td><td>44.07320</td><td>-122.5886</td><td>   45.5125427</td><td>313.7133</td><td>11.10066</td><td>12.153201</td><td>3.311080</td><td>1</td><td>2</td><td>⋯</td><td>158.2018</td><td>94.48246</td><td>2415.351</td><td>1606.373</td><td>0.6951754</td><td>38.52412</td><td>154.2412</td><td>759.4846</td><td>60.4386</td><td>331.5219</td></tr>\n",
              "</tbody>\n",
              "</table>\n"
            ],
            "text/markdown": "\nA data.table: 893143 × 113\n\n| agbd &lt;dbl&gt; | lat_lowestmode &lt;dbl&gt; | lon_lowestmode &lt;dbl&gt; | agbd_pi_lower &lt;dbl&gt; | agbd_pi_upper &lt;dbl&gt; | agbd_se &lt;dbl&gt; | agbd_t &lt;dbl&gt; | agbd_t_se &lt;dbl&gt; | algorithm_run_flag &lt;dbl&gt; | channel &lt;dbl&gt; | ⋯ ⋯ | pr &lt;dbl&gt; | ro &lt;dbl&gt; | soil &lt;dbl&gt; | srad &lt;dbl&gt; | swe &lt;dbl&gt; | tmmn &lt;dbl&gt; | tmmx &lt;dbl&gt; | vap &lt;dbl&gt; | vpd &lt;dbl&gt; | vs &lt;dbl&gt; |\n|---|---|---|---|---|---|---|---|---|---|---|---|---|---|---|---|---|---|---|---|---|\n| 202.49307 | 44.78238 | -121.8913 |    76.510269 |  388.60226 | 11.10132 | 14.141659 | 3.311179 | 1 | 1 | ⋯ | 156.1944 | 107.33334 | 1600.528 | 1598.306 | 97.91666 | 23.16667 | 127.1944 | 619.6111 | 59.72222 | 356.1111 |\n|  98.51974 | 44.78264 | -121.8906 |    19.739058 |  237.42361 | 11.10073 |  9.864087 | 3.311091 | 1 | 1 | ⋯ | 156.1944 | 107.33334 | 1600.528 | 1598.306 | 97.91666 | 23.16667 | 127.1944 | 619.6111 | 59.72222 | 356.1111 |\n| 351.77530 | 44.78259 | -121.8909 |   176.035446 |  587.74792 | 11.12096 | 18.639229 | 3.314106 | 1 | 0 | ⋯ | 156.1944 | 107.33334 | 1600.528 | 1598.306 | 97.91667 | 23.16667 | 127.1944 | 619.6111 | 59.72222 | 356.1111 |\n| 205.08899 | 44.78133 | -121.8937 |    78.107780 |  392.19824 | 11.10163 | 14.232017 | 3.311225 | 1 | 1 | ⋯ | 156.1944 | 107.33334 | 1600.528 | 1598.306 | 97.91667 | 23.16667 | 127.1944 | 619.6111 | 59.72222 | 356.1111 |\n| 296.17981 | 44.78128 | -121.8940 |   137.416382 |  515.16638 | 11.11919 | 17.103027 | 3.313842 | 1 | 0 | ⋯ | 156.1944 | 107.33333 | 1600.528 | 1598.306 | 97.91666 | 23.16667 | 127.1944 | 619.6111 | 59.72222 | 356.1111 |\n|  15.39457 | 44.77249 | -121.9418 | -9999.000000 |   88.54436 | 11.11436 |  3.899232 | 3.313122 | 1 | 1 | ⋯ | 144.2222 |  93.61111 | 1662.722 | 1601.722 | 61.86111 | 30.91667 | 141.1667 | 693.6667 | 63.36111 | 345.2778 |\n| 514.52936 | 44.76986 | -121.9357 |   295.259125 |  794.30255 | 11.17085 | 22.542410 | 3.321531 | 1 | 5 | ⋯ | 144.2222 |  93.61111 | 1662.722 | 1601.722 | 61.86111 | 30.91667 | 141.1667 | 693.6667 | 63.36111 | 345.2778 |\n|  40.56170 | 44.77014 | -121.9363 |     0.782423 |  140.49518 | 11.10646 |  6.329266 | 3.311945 | 1 | 1 | ⋯ | 144.2222 |  93.61111 | 1662.722 | 1601.722 | 61.86111 | 30.91667 | 141.1667 | 693.6667 | 63.36111 | 345.2778 |\n|  26.86498 | 44.76987 | -121.9356 | -9999.000000 |  113.80793 | 11.10920 |  5.150964 | 3.312353 | 1 | 1 | ⋯ | 144.2222 |  93.61111 | 1662.722 | 1601.722 | 61.86111 | 30.91667 | 141.1667 | 693.6667 | 63.36111 | 345.2778 |\n|  59.08430 | 44.76271 | -121.9339 |     4.855742 |  173.44067 | 11.10159 |  7.638908 | 3.311218 | 1 | 1 | ⋯ | 144.2222 |  93.61111 | 1662.722 | 1601.722 | 61.86111 | 30.91667 | 141.1667 | 693.6667 | 63.36111 | 345.2778 |\n| 421.53067 | 44.76065 | -121.9272 |   226.305038 |  676.98767 | 11.12070 | 20.403744 | 3.314067 | 1 | 0 | ⋯ | 144.2222 |  93.61111 | 1662.722 | 1601.722 | 61.86111 | 30.91667 | 141.1667 | 693.6667 | 63.36111 | 345.2778 |\n| 649.36127 | 44.75767 | -121.9156 |   399.541382 |  959.54999 | 11.14609 | 25.324358 | 3.317849 | 1 | 2 | ⋯ | 156.1944 | 107.33333 | 1600.528 | 1598.306 | 97.91666 | 23.16667 | 127.1944 | 619.6111 | 59.72222 | 356.1111 |\n| 594.64972 | 44.75793 | -121.9150 |   356.951721 |  892.67792 | 11.13895 | 24.234043 | 3.316785 | 1 | 2 | ⋯ | 156.1944 | 107.33333 | 1600.528 | 1598.306 | 97.91667 | 23.16667 | 127.1944 | 619.6111 | 59.72222 | 356.1111 |\n| 547.39709 | 44.75820 | -121.9143 |   320.609711 |  834.48535 | 11.13354 | 23.251261 | 3.315980 | 1 | 2 | ⋯ | 156.1944 | 107.33334 | 1600.528 | 1598.306 | 97.91667 | 23.16667 | 127.1944 | 619.6111 | 59.72222 | 356.1111 |\n| 615.96417 | 44.75847 | -121.9137 |   373.482819 |  918.79004 | 11.14158 | 24.664539 | 3.317177 | 1 | 2 | ⋯ | 156.1944 | 107.33334 | 1600.528 | 1598.306 | 97.91667 | 23.16667 | 127.1944 | 619.6111 | 59.72222 | 356.1111 |\n| 555.78674 | 44.75873 | -121.9131 |   326.789948 |  845.23505 | 11.16136 | 23.428762 | 3.320120 | 1 | 2 | ⋯ | 156.1944 | 107.33333 | 1600.528 | 1598.306 | 97.91667 | 23.16667 | 127.1944 | 619.6111 | 59.72222 | 356.1111 |\n| 864.96490 | 44.75841 | -121.9133 |   571.603821 | 1218.87097 | 11.17863 | 29.227692 | 3.322688 | 1 | 2 | ⋯ | 156.1944 | 107.33334 | 1600.528 | 1598.306 | 97.91667 | 23.16667 | 127.1944 | 619.6111 | 59.72222 | 356.1111 |\n|  17.03511 | 44.75795 | -121.9163 | -9999.000000 |   92.41876 | 11.11394 |  4.101736 | 3.313061 | 1 | 0 | ⋯ | 156.1944 | 107.33333 | 1600.528 | 1598.306 | 97.91666 | 23.16667 | 127.1944 | 619.6111 | 59.72222 | 356.1111 |\n| 904.39124 | 44.75847 | -121.9151 |   603.704651 | 1265.63708 | 11.18126 | 29.886389 | 3.323078 | 1 | 0 | ⋯ | 156.1944 | 107.33334 | 1600.528 | 1598.306 | 97.91666 | 23.16667 | 127.1944 | 619.6111 | 59.72222 | 356.1111 |\n| 122.13786 | 44.75680 | -121.9356 |    31.011219 |  273.38733 | 11.10066 | 10.982985 | 3.311080 | 1 | 1 | ⋯ | 144.2222 |  93.61111 | 1662.722 | 1601.722 | 61.86111 | 30.91667 | 141.1667 | 693.6667 | 63.36111 | 345.2778 |\n| 247.18703 | 44.75514 | -121.9009 |   104.826660 |  449.68918 | 11.10417 | 15.624571 | 3.311603 | 1 | 1 | ⋯ | 156.1944 | 107.33333 | 1600.528 | 1598.306 | 97.91667 | 23.16667 | 127.1944 | 619.6111 | 59.72222 | 356.1111 |\n| 101.47255 | 44.75411 | -121.8999 |    21.069368 |  242.00716 | 11.10225 | 10.010818 | 3.311317 | 1 | 1 | ⋯ | 154.9515 | 105.80823 | 1588.891 | 1598.641 | 93.77600 | 23.09804 | 127.6977 | 621.0600 | 59.78323 | 356.1111 |\n|  16.14140 | 44.75822 | -121.9188 | -9999.000000 |   90.32846 | 11.11550 |  3.992693 | 3.313293 | 1 | 1 | ⋯ | 156.1944 | 107.33333 | 1600.528 | 1598.306 | 97.91666 | 23.16667 | 127.1944 | 619.6111 | 59.72222 | 356.1111 |\n|  65.88306 | 44.75472 | -121.9225 |     6.937531 |  184.95337 | 11.10103 |  8.066444 | 3.311135 | 1 | 2 | ⋯ | 144.2222 |  93.61111 | 1662.722 | 1601.722 | 61.86111 | 30.91667 | 141.1667 | 693.6667 | 63.36111 | 345.2778 |\n| 838.60358 | 44.75499 | -121.9218 |   550.248474 | 1187.48694 | 11.17550 | 28.778862 | 3.322222 | 1 | 2 | ⋯ | 144.2222 |  93.61111 | 1662.722 | 1601.722 | 61.86111 | 30.91667 | 141.1667 | 693.6667 | 63.36111 | 345.2778 |\n| 162.54333 | 44.75526 | -121.9212 |    52.022430 |  334.37195 | 11.31943 | 12.670094 | 3.343548 | 1 | 2 | ⋯ | 144.2222 |  93.61111 | 1662.722 | 1601.722 | 61.86111 | 30.91667 | 141.1667 | 693.6667 | 63.36111 | 345.2778 |\n|  22.01863 | 44.75552 | -121.9206 | -9999.000000 |  103.57902 | 11.10937 |  4.663268 | 3.312378 | 1 | 2 | ⋯ | 144.2222 |  93.61111 | 1662.722 | 1601.722 | 61.86111 | 30.91667 | 141.1667 | 693.6667 | 63.36111 | 345.2778 |\n| 442.72513 | 44.75579 | -121.9200 |   241.608856 |  704.28113 | 11.15918 | 20.910400 | 3.319797 | 1 | 2 | ⋯ | 144.2222 |  93.61111 | 1662.722 | 1601.722 | 61.86111 | 30.91667 | 141.1667 | 693.6666 | 63.36111 | 345.2778 |\n|  78.14587 | 44.75606 | -121.9193 |    11.130984 |  205.74222 | 11.18535 |  8.785131 | 3.323686 | 1 | 2 | ⋯ | 150.9745 | 101.35033 | 1627.645 | 1599.795 | 82.19614 | 26.54573 | 133.2865 | 651.9000 | 61.30881 | 351.3877 |\n| 152.74023 | 44.75633 | -121.9187 |    47.283173 |  318.31369 | 11.09948 | 12.282082 | 3.310904 | 1 | 2 | ⋯ | 156.1944 | 107.33333 | 1600.528 | 1598.306 | 97.91666 | 23.16667 | 127.1944 | 619.6111 | 59.72222 | 356.1111 |\n| ⋮ | ⋮ | ⋮ | ⋮ | ⋮ | ⋮ | ⋮ | ⋮ | ⋮ | ⋮ | ⋱ | ⋮ | ⋮ | ⋮ | ⋮ | ⋮ | ⋮ | ⋮ | ⋮ | ⋮ | ⋮ |\n| 258.93848 | 44.07425 | -122.5900 |   112.5098190 | 465.5266 | 11.10744 | 15.991660 | 3.312090 | 1 | 4 | ⋯ | 158.2018 | 94.48246 | 2415.351 | 1606.373 | 0.6951754 | 38.52412 | 154.2412 | 759.4847 | 60.4386 | 331.5219 |\n| 147.09892 | 44.07399 | -122.5894 |    44.1687050 | 310.1443 | 11.09925 | 12.053135 | 3.310870 | 1 | 4 | ⋯ | 158.2018 | 94.48246 | 2415.351 | 1606.373 | 0.6951754 | 38.52412 | 154.2412 | 759.4846 | 60.4386 | 331.5219 |\n| 218.94739 | 44.07372 | -122.5888 |    86.7362518 | 411.2991 | 11.10395 | 14.705004 | 3.311571 | 1 | 4 | ⋯ | 158.2018 | 94.48246 | 2415.351 | 1606.373 | 0.6951754 | 38.52412 | 154.2412 | 759.4847 | 60.4386 | 331.5219 |\n| 196.21808 | 44.07303 | -122.5917 |    72.6730423 | 379.8883 | 11.10111 | 13.920818 | 3.311146 | 1 | 1 | ⋯ | 158.2018 | 94.48246 | 2415.351 | 1606.373 | 0.6951755 | 38.52412 | 154.2412 | 759.4847 | 60.4386 | 331.5219 |\n| 144.39738 | 44.07330 | -122.5911 |    42.6941490 | 306.2156 | 11.09921 | 11.941941 | 3.310864 | 1 | 1 | ⋯ | 158.2018 | 94.48246 | 2415.351 | 1606.373 | 0.6951754 | 38.52412 | 154.2412 | 759.4846 | 60.4386 | 331.5219 |\n| 102.46932 | 44.07356 | -122.5905 |    21.5315037 | 243.5229 | 11.09937 | 10.059866 | 3.310887 | 1 | 1 | ⋯ | 158.2018 | 94.48245 | 2415.351 | 1606.373 | 0.6951754 | 38.52412 | 154.2412 | 759.4846 | 60.4386 | 331.5219 |\n| 157.44504 | 44.07383 | -122.5899 |    49.9164124 | 325.0905 | 11.09956 | 12.469808 | 3.310916 | 1 | 1 | ⋯ | 158.2018 | 94.48246 | 2415.351 | 1606.373 | 0.6951754 | 38.52412 | 154.2412 | 759.4846 | 60.4386 | 331.5219 |\n| 134.24043 | 44.07410 | -122.5893 |    37.2538528 | 291.3454 | 11.09984 | 11.514284 | 3.310957 | 1 | 1 | ⋯ | 158.2018 | 94.48246 | 2415.351 | 1606.373 | 0.6951754 | 38.52412 | 154.2412 | 759.4847 | 60.4386 | 331.5219 |\n|  88.90730 | 44.07436 | -122.5887 |    15.5749493 | 222.3565 | 11.09956 |  9.370526 | 3.310916 | 1 | 1 | ⋯ | 158.2018 | 94.48246 | 2415.351 | 1606.373 | 0.6951754 | 38.52412 | 154.2412 | 759.4846 | 60.4386 | 331.5219 |\n|  41.04046 | 44.07463 | -122.5881 |     0.8512793 | 141.3701 | 11.10393 |  6.366509 | 3.311568 | 1 | 1 | ⋯ | 158.2018 | 94.48246 | 2415.351 | 1606.373 | 0.6951754 | 38.52412 | 154.2412 | 759.4846 | 60.4386 | 331.5219 |\n| 167.99240 | 44.07093 | -122.5925 |    55.9283981 | 340.1755 | 11.09998 | 12.880718 | 3.310978 | 1 | 1 | ⋯ | 158.2018 | 94.48246 | 2415.351 | 1606.373 | 0.6951754 | 38.52412 | 154.2412 | 759.4846 | 60.4386 | 331.5219 |\n|  90.90186 | 44.07120 | -122.5919 |    16.4151402 | 225.5083 | 11.10009 |  9.475053 | 3.310995 | 1 | 1 | ⋯ | 158.2018 | 94.48246 | 2415.351 | 1606.373 | 0.6951754 | 38.52412 | 154.2412 | 759.4847 | 60.4386 | 331.5219 |\n|  95.80682 | 44.07147 | -122.5913 |    18.5363731 | 233.1974 | 11.10017 |  9.727326 | 3.311007 | 1 | 1 | ⋯ | 158.2018 | 94.48246 | 2415.351 | 1606.373 | 0.6951754 | 38.52412 | 154.2412 | 759.4847 | 60.4386 | 331.5219 |\n|  91.06995 | 44.07174 | -122.5907 |    16.4857121 | 225.7764 | 11.10054 |  9.483809 | 3.311062 | 1 | 1 | ⋯ | 158.2018 | 94.48246 | 2415.351 | 1606.373 | 0.6951754 | 38.52412 | 154.2412 | 759.4847 | 60.4386 | 331.5219 |\n|  56.31649 | 44.07200 | -122.5901 |     4.0851908 | 168.6798 | 11.10235 |  7.457840 | 3.311332 | 1 | 1 | ⋯ | 158.2018 | 94.48246 | 2415.351 | 1606.373 | 0.6951755 | 38.52412 | 154.2412 | 759.4847 | 60.4386 | 331.5219 |\n|  96.80244 | 44.07227 | -122.5895 |    18.9749069 | 234.7522 | 11.10056 |  9.777739 | 3.311065 | 1 | 1 | ⋯ | 158.2018 | 94.48246 | 2415.351 | 1606.373 | 0.6951754 | 38.52412 | 154.2412 | 759.4847 | 60.4386 | 331.5219 |\n| 271.47940 | 44.07253 | -122.5920 |   120.8022919 | 482.3406 | 11.11198 | 16.374336 | 3.312768 | 1 | 1 | ⋯ | 158.2018 | 94.48246 | 2415.351 | 1606.373 | 0.6951755 | 38.52412 | 154.2412 | 759.4847 | 60.4386 | 331.5219 |\n| 110.58319 | 44.07225 | -122.5914 |    25.3326378 | 255.9538 | 11.10015 | 10.450566 | 3.311003 | 1 | 1 | ⋯ | 158.2018 | 94.48246 | 2415.351 | 1606.373 | 0.6951754 | 38.52412 | 154.2412 | 759.4846 | 60.4386 | 331.5219 |\n|  49.89533 | 44.07197 | -122.5909 |     2.4975975 | 157.4259 | 11.10251 |  7.019808 | 3.311356 | 1 | 1 | ⋯ | 158.2018 | 94.48246 | 2415.351 | 1606.373 | 0.6951754 | 38.52412 | 154.2412 | 759.4846 | 60.4386 | 331.5219 |\n| 138.79854 | 44.06944 | -122.5928 |    39.6730881 | 298.0423 | 11.09982 | 11.708135 | 3.310955 | 1 | 0 | ⋯ | 158.2018 | 94.48246 | 2415.351 | 1606.373 | 0.6951754 | 38.52412 | 154.2412 | 759.4847 | 60.4386 | 331.5219 |\n|  58.04548 | 44.07348 | -122.5905 |     4.5604801 | 171.6621 | 11.10229 |  7.571457 | 3.311323 | 1 | 1 | ⋯ | 158.2018 | 94.48246 | 2415.351 | 1606.373 | 0.6951755 | 38.52412 | 154.2412 | 759.4847 | 60.4386 | 331.5219 |\n| 190.84642 | 44.07320 | -122.5899 |    69.3663635 | 372.5204 | 11.11380 | 13.728949 | 3.313038 | 1 | 1 | ⋯ | 158.2018 | 94.48246 | 2415.351 | 1606.373 | 0.6951754 | 38.52412 | 154.2412 | 759.4846 | 60.4386 | 331.5219 |\n| 110.00547 | 44.07293 | -122.5892 |    25.0590668 | 255.0663 | 11.09912 | 10.423232 | 3.310850 | 1 | 1 | ⋯ | 158.2018 | 94.48246 | 2415.351 | 1606.373 | 0.6951755 | 38.52412 | 154.2412 | 759.4846 | 60.4386 | 331.5219 |\n|  48.15558 | 44.07045 | -122.5926 |     2.1202981 | 154.3240 | 11.10256 |  6.896338 | 3.311364 | 1 | 3 | ⋯ | 158.2018 | 94.48245 | 2415.351 | 1606.373 | 0.6951754 | 38.52412 | 154.2412 | 759.4846 | 60.4386 | 331.5219 |\n| 103.64187 | 44.07072 | -122.5920 |    22.0709839 | 245.3281 | 11.09929 | 10.117259 | 3.310875 | 1 | 3 | ⋯ | 158.2018 | 94.48246 | 2415.351 | 1606.373 | 0.6951754 | 38.52412 | 154.2412 | 759.4846 | 60.4386 | 331.5219 |\n|  41.65387 | 44.07429 | -122.5911 |     0.9404535 | 142.5204 | 11.10626 |  6.413911 | 3.311915 | 1 | 2 | ⋯ | 158.2018 | 94.48246 | 2415.351 | 1606.373 | 0.6951754 | 38.52412 | 154.2412 | 759.4846 | 60.4386 | 331.5219 |\n| 100.48817 | 44.07402 | -122.5905 |    20.6284294 | 240.4641 | 11.09944 |  9.962142 | 3.310898 | 1 | 2 | ⋯ | 158.2018 | 94.48246 | 2415.351 | 1606.373 | 0.6951755 | 38.52412 | 154.2412 | 759.4846 | 60.4386 | 331.5219 |\n|  28.39315 | 44.07374 | -122.5899 | -9999.0000000 | 116.9155 | 11.10632 |  5.295440 | 3.311923 | 1 | 2 | ⋯ | 158.2018 | 94.48246 | 2415.351 | 1606.373 | 0.6951754 | 38.52412 | 154.2412 | 759.4847 | 60.4386 | 331.5219 |\n|  51.96273 | 44.07347 | -122.5892 |     2.9766045 | 161.0806 | 11.10231 |  7.163764 | 3.311325 | 1 | 2 | ⋯ | 158.2018 | 94.48246 | 2415.351 | 1606.373 | 0.6951754 | 38.52412 | 154.2412 | 759.4846 | 60.4386 | 331.5219 |\n| 149.55153 | 44.07320 | -122.5886 |    45.5125427 | 313.7133 | 11.10066 | 12.153201 | 3.311080 | 1 | 2 | ⋯ | 158.2018 | 94.48246 | 2415.351 | 1606.373 | 0.6951754 | 38.52412 | 154.2412 | 759.4846 | 60.4386 | 331.5219 |\n\n",
            "text/latex": "A data.table: 893143 × 113\n\\begin{tabular}{lllllllllllllllllllll}\n agbd & lat\\_lowestmode & lon\\_lowestmode & agbd\\_pi\\_lower & agbd\\_pi\\_upper & agbd\\_se & agbd\\_t & agbd\\_t\\_se & algorithm\\_run\\_flag & channel & ⋯ & pr & ro & soil & srad & swe & tmmn & tmmx & vap & vpd & vs\\\\\n <dbl> & <dbl> & <dbl> & <dbl> & <dbl> & <dbl> & <dbl> & <dbl> & <dbl> & <dbl> & ⋯ & <dbl> & <dbl> & <dbl> & <dbl> & <dbl> & <dbl> & <dbl> & <dbl> & <dbl> & <dbl>\\\\\n\\hline\n\t 202.49307 & 44.78238 & -121.8913 &    76.510269 &  388.60226 & 11.10132 & 14.141659 & 3.311179 & 1 & 1 & ⋯ & 156.1944 & 107.33334 & 1600.528 & 1598.306 & 97.91666 & 23.16667 & 127.1944 & 619.6111 & 59.72222 & 356.1111\\\\\n\t  98.51974 & 44.78264 & -121.8906 &    19.739058 &  237.42361 & 11.10073 &  9.864087 & 3.311091 & 1 & 1 & ⋯ & 156.1944 & 107.33334 & 1600.528 & 1598.306 & 97.91666 & 23.16667 & 127.1944 & 619.6111 & 59.72222 & 356.1111\\\\\n\t 351.77530 & 44.78259 & -121.8909 &   176.035446 &  587.74792 & 11.12096 & 18.639229 & 3.314106 & 1 & 0 & ⋯ & 156.1944 & 107.33334 & 1600.528 & 1598.306 & 97.91667 & 23.16667 & 127.1944 & 619.6111 & 59.72222 & 356.1111\\\\\n\t 205.08899 & 44.78133 & -121.8937 &    78.107780 &  392.19824 & 11.10163 & 14.232017 & 3.311225 & 1 & 1 & ⋯ & 156.1944 & 107.33334 & 1600.528 & 1598.306 & 97.91667 & 23.16667 & 127.1944 & 619.6111 & 59.72222 & 356.1111\\\\\n\t 296.17981 & 44.78128 & -121.8940 &   137.416382 &  515.16638 & 11.11919 & 17.103027 & 3.313842 & 1 & 0 & ⋯ & 156.1944 & 107.33333 & 1600.528 & 1598.306 & 97.91666 & 23.16667 & 127.1944 & 619.6111 & 59.72222 & 356.1111\\\\\n\t  15.39457 & 44.77249 & -121.9418 & -9999.000000 &   88.54436 & 11.11436 &  3.899232 & 3.313122 & 1 & 1 & ⋯ & 144.2222 &  93.61111 & 1662.722 & 1601.722 & 61.86111 & 30.91667 & 141.1667 & 693.6667 & 63.36111 & 345.2778\\\\\n\t 514.52936 & 44.76986 & -121.9357 &   295.259125 &  794.30255 & 11.17085 & 22.542410 & 3.321531 & 1 & 5 & ⋯ & 144.2222 &  93.61111 & 1662.722 & 1601.722 & 61.86111 & 30.91667 & 141.1667 & 693.6667 & 63.36111 & 345.2778\\\\\n\t  40.56170 & 44.77014 & -121.9363 &     0.782423 &  140.49518 & 11.10646 &  6.329266 & 3.311945 & 1 & 1 & ⋯ & 144.2222 &  93.61111 & 1662.722 & 1601.722 & 61.86111 & 30.91667 & 141.1667 & 693.6667 & 63.36111 & 345.2778\\\\\n\t  26.86498 & 44.76987 & -121.9356 & -9999.000000 &  113.80793 & 11.10920 &  5.150964 & 3.312353 & 1 & 1 & ⋯ & 144.2222 &  93.61111 & 1662.722 & 1601.722 & 61.86111 & 30.91667 & 141.1667 & 693.6667 & 63.36111 & 345.2778\\\\\n\t  59.08430 & 44.76271 & -121.9339 &     4.855742 &  173.44067 & 11.10159 &  7.638908 & 3.311218 & 1 & 1 & ⋯ & 144.2222 &  93.61111 & 1662.722 & 1601.722 & 61.86111 & 30.91667 & 141.1667 & 693.6667 & 63.36111 & 345.2778\\\\\n\t 421.53067 & 44.76065 & -121.9272 &   226.305038 &  676.98767 & 11.12070 & 20.403744 & 3.314067 & 1 & 0 & ⋯ & 144.2222 &  93.61111 & 1662.722 & 1601.722 & 61.86111 & 30.91667 & 141.1667 & 693.6667 & 63.36111 & 345.2778\\\\\n\t 649.36127 & 44.75767 & -121.9156 &   399.541382 &  959.54999 & 11.14609 & 25.324358 & 3.317849 & 1 & 2 & ⋯ & 156.1944 & 107.33333 & 1600.528 & 1598.306 & 97.91666 & 23.16667 & 127.1944 & 619.6111 & 59.72222 & 356.1111\\\\\n\t 594.64972 & 44.75793 & -121.9150 &   356.951721 &  892.67792 & 11.13895 & 24.234043 & 3.316785 & 1 & 2 & ⋯ & 156.1944 & 107.33333 & 1600.528 & 1598.306 & 97.91667 & 23.16667 & 127.1944 & 619.6111 & 59.72222 & 356.1111\\\\\n\t 547.39709 & 44.75820 & -121.9143 &   320.609711 &  834.48535 & 11.13354 & 23.251261 & 3.315980 & 1 & 2 & ⋯ & 156.1944 & 107.33334 & 1600.528 & 1598.306 & 97.91667 & 23.16667 & 127.1944 & 619.6111 & 59.72222 & 356.1111\\\\\n\t 615.96417 & 44.75847 & -121.9137 &   373.482819 &  918.79004 & 11.14158 & 24.664539 & 3.317177 & 1 & 2 & ⋯ & 156.1944 & 107.33334 & 1600.528 & 1598.306 & 97.91667 & 23.16667 & 127.1944 & 619.6111 & 59.72222 & 356.1111\\\\\n\t 555.78674 & 44.75873 & -121.9131 &   326.789948 &  845.23505 & 11.16136 & 23.428762 & 3.320120 & 1 & 2 & ⋯ & 156.1944 & 107.33333 & 1600.528 & 1598.306 & 97.91667 & 23.16667 & 127.1944 & 619.6111 & 59.72222 & 356.1111\\\\\n\t 864.96490 & 44.75841 & -121.9133 &   571.603821 & 1218.87097 & 11.17863 & 29.227692 & 3.322688 & 1 & 2 & ⋯ & 156.1944 & 107.33334 & 1600.528 & 1598.306 & 97.91667 & 23.16667 & 127.1944 & 619.6111 & 59.72222 & 356.1111\\\\\n\t  17.03511 & 44.75795 & -121.9163 & -9999.000000 &   92.41876 & 11.11394 &  4.101736 & 3.313061 & 1 & 0 & ⋯ & 156.1944 & 107.33333 & 1600.528 & 1598.306 & 97.91666 & 23.16667 & 127.1944 & 619.6111 & 59.72222 & 356.1111\\\\\n\t 904.39124 & 44.75847 & -121.9151 &   603.704651 & 1265.63708 & 11.18126 & 29.886389 & 3.323078 & 1 & 0 & ⋯ & 156.1944 & 107.33334 & 1600.528 & 1598.306 & 97.91666 & 23.16667 & 127.1944 & 619.6111 & 59.72222 & 356.1111\\\\\n\t 122.13786 & 44.75680 & -121.9356 &    31.011219 &  273.38733 & 11.10066 & 10.982985 & 3.311080 & 1 & 1 & ⋯ & 144.2222 &  93.61111 & 1662.722 & 1601.722 & 61.86111 & 30.91667 & 141.1667 & 693.6667 & 63.36111 & 345.2778\\\\\n\t 247.18703 & 44.75514 & -121.9009 &   104.826660 &  449.68918 & 11.10417 & 15.624571 & 3.311603 & 1 & 1 & ⋯ & 156.1944 & 107.33333 & 1600.528 & 1598.306 & 97.91667 & 23.16667 & 127.1944 & 619.6111 & 59.72222 & 356.1111\\\\\n\t 101.47255 & 44.75411 & -121.8999 &    21.069368 &  242.00716 & 11.10225 & 10.010818 & 3.311317 & 1 & 1 & ⋯ & 154.9515 & 105.80823 & 1588.891 & 1598.641 & 93.77600 & 23.09804 & 127.6977 & 621.0600 & 59.78323 & 356.1111\\\\\n\t  16.14140 & 44.75822 & -121.9188 & -9999.000000 &   90.32846 & 11.11550 &  3.992693 & 3.313293 & 1 & 1 & ⋯ & 156.1944 & 107.33333 & 1600.528 & 1598.306 & 97.91666 & 23.16667 & 127.1944 & 619.6111 & 59.72222 & 356.1111\\\\\n\t  65.88306 & 44.75472 & -121.9225 &     6.937531 &  184.95337 & 11.10103 &  8.066444 & 3.311135 & 1 & 2 & ⋯ & 144.2222 &  93.61111 & 1662.722 & 1601.722 & 61.86111 & 30.91667 & 141.1667 & 693.6667 & 63.36111 & 345.2778\\\\\n\t 838.60358 & 44.75499 & -121.9218 &   550.248474 & 1187.48694 & 11.17550 & 28.778862 & 3.322222 & 1 & 2 & ⋯ & 144.2222 &  93.61111 & 1662.722 & 1601.722 & 61.86111 & 30.91667 & 141.1667 & 693.6667 & 63.36111 & 345.2778\\\\\n\t 162.54333 & 44.75526 & -121.9212 &    52.022430 &  334.37195 & 11.31943 & 12.670094 & 3.343548 & 1 & 2 & ⋯ & 144.2222 &  93.61111 & 1662.722 & 1601.722 & 61.86111 & 30.91667 & 141.1667 & 693.6667 & 63.36111 & 345.2778\\\\\n\t  22.01863 & 44.75552 & -121.9206 & -9999.000000 &  103.57902 & 11.10937 &  4.663268 & 3.312378 & 1 & 2 & ⋯ & 144.2222 &  93.61111 & 1662.722 & 1601.722 & 61.86111 & 30.91667 & 141.1667 & 693.6667 & 63.36111 & 345.2778\\\\\n\t 442.72513 & 44.75579 & -121.9200 &   241.608856 &  704.28113 & 11.15918 & 20.910400 & 3.319797 & 1 & 2 & ⋯ & 144.2222 &  93.61111 & 1662.722 & 1601.722 & 61.86111 & 30.91667 & 141.1667 & 693.6666 & 63.36111 & 345.2778\\\\\n\t  78.14587 & 44.75606 & -121.9193 &    11.130984 &  205.74222 & 11.18535 &  8.785131 & 3.323686 & 1 & 2 & ⋯ & 150.9745 & 101.35033 & 1627.645 & 1599.795 & 82.19614 & 26.54573 & 133.2865 & 651.9000 & 61.30881 & 351.3877\\\\\n\t 152.74023 & 44.75633 & -121.9187 &    47.283173 &  318.31369 & 11.09948 & 12.282082 & 3.310904 & 1 & 2 & ⋯ & 156.1944 & 107.33333 & 1600.528 & 1598.306 & 97.91666 & 23.16667 & 127.1944 & 619.6111 & 59.72222 & 356.1111\\\\\n\t ⋮ & ⋮ & ⋮ & ⋮ & ⋮ & ⋮ & ⋮ & ⋮ & ⋮ & ⋮ & ⋱ & ⋮ & ⋮ & ⋮ & ⋮ & ⋮ & ⋮ & ⋮ & ⋮ & ⋮ & ⋮\\\\\n\t 258.93848 & 44.07425 & -122.5900 &   112.5098190 & 465.5266 & 11.10744 & 15.991660 & 3.312090 & 1 & 4 & ⋯ & 158.2018 & 94.48246 & 2415.351 & 1606.373 & 0.6951754 & 38.52412 & 154.2412 & 759.4847 & 60.4386 & 331.5219\\\\\n\t 147.09892 & 44.07399 & -122.5894 &    44.1687050 & 310.1443 & 11.09925 & 12.053135 & 3.310870 & 1 & 4 & ⋯ & 158.2018 & 94.48246 & 2415.351 & 1606.373 & 0.6951754 & 38.52412 & 154.2412 & 759.4846 & 60.4386 & 331.5219\\\\\n\t 218.94739 & 44.07372 & -122.5888 &    86.7362518 & 411.2991 & 11.10395 & 14.705004 & 3.311571 & 1 & 4 & ⋯ & 158.2018 & 94.48246 & 2415.351 & 1606.373 & 0.6951754 & 38.52412 & 154.2412 & 759.4847 & 60.4386 & 331.5219\\\\\n\t 196.21808 & 44.07303 & -122.5917 &    72.6730423 & 379.8883 & 11.10111 & 13.920818 & 3.311146 & 1 & 1 & ⋯ & 158.2018 & 94.48246 & 2415.351 & 1606.373 & 0.6951755 & 38.52412 & 154.2412 & 759.4847 & 60.4386 & 331.5219\\\\\n\t 144.39738 & 44.07330 & -122.5911 &    42.6941490 & 306.2156 & 11.09921 & 11.941941 & 3.310864 & 1 & 1 & ⋯ & 158.2018 & 94.48246 & 2415.351 & 1606.373 & 0.6951754 & 38.52412 & 154.2412 & 759.4846 & 60.4386 & 331.5219\\\\\n\t 102.46932 & 44.07356 & -122.5905 &    21.5315037 & 243.5229 & 11.09937 & 10.059866 & 3.310887 & 1 & 1 & ⋯ & 158.2018 & 94.48245 & 2415.351 & 1606.373 & 0.6951754 & 38.52412 & 154.2412 & 759.4846 & 60.4386 & 331.5219\\\\\n\t 157.44504 & 44.07383 & -122.5899 &    49.9164124 & 325.0905 & 11.09956 & 12.469808 & 3.310916 & 1 & 1 & ⋯ & 158.2018 & 94.48246 & 2415.351 & 1606.373 & 0.6951754 & 38.52412 & 154.2412 & 759.4846 & 60.4386 & 331.5219\\\\\n\t 134.24043 & 44.07410 & -122.5893 &    37.2538528 & 291.3454 & 11.09984 & 11.514284 & 3.310957 & 1 & 1 & ⋯ & 158.2018 & 94.48246 & 2415.351 & 1606.373 & 0.6951754 & 38.52412 & 154.2412 & 759.4847 & 60.4386 & 331.5219\\\\\n\t  88.90730 & 44.07436 & -122.5887 &    15.5749493 & 222.3565 & 11.09956 &  9.370526 & 3.310916 & 1 & 1 & ⋯ & 158.2018 & 94.48246 & 2415.351 & 1606.373 & 0.6951754 & 38.52412 & 154.2412 & 759.4846 & 60.4386 & 331.5219\\\\\n\t  41.04046 & 44.07463 & -122.5881 &     0.8512793 & 141.3701 & 11.10393 &  6.366509 & 3.311568 & 1 & 1 & ⋯ & 158.2018 & 94.48246 & 2415.351 & 1606.373 & 0.6951754 & 38.52412 & 154.2412 & 759.4846 & 60.4386 & 331.5219\\\\\n\t 167.99240 & 44.07093 & -122.5925 &    55.9283981 & 340.1755 & 11.09998 & 12.880718 & 3.310978 & 1 & 1 & ⋯ & 158.2018 & 94.48246 & 2415.351 & 1606.373 & 0.6951754 & 38.52412 & 154.2412 & 759.4846 & 60.4386 & 331.5219\\\\\n\t  90.90186 & 44.07120 & -122.5919 &    16.4151402 & 225.5083 & 11.10009 &  9.475053 & 3.310995 & 1 & 1 & ⋯ & 158.2018 & 94.48246 & 2415.351 & 1606.373 & 0.6951754 & 38.52412 & 154.2412 & 759.4847 & 60.4386 & 331.5219\\\\\n\t  95.80682 & 44.07147 & -122.5913 &    18.5363731 & 233.1974 & 11.10017 &  9.727326 & 3.311007 & 1 & 1 & ⋯ & 158.2018 & 94.48246 & 2415.351 & 1606.373 & 0.6951754 & 38.52412 & 154.2412 & 759.4847 & 60.4386 & 331.5219\\\\\n\t  91.06995 & 44.07174 & -122.5907 &    16.4857121 & 225.7764 & 11.10054 &  9.483809 & 3.311062 & 1 & 1 & ⋯ & 158.2018 & 94.48246 & 2415.351 & 1606.373 & 0.6951754 & 38.52412 & 154.2412 & 759.4847 & 60.4386 & 331.5219\\\\\n\t  56.31649 & 44.07200 & -122.5901 &     4.0851908 & 168.6798 & 11.10235 &  7.457840 & 3.311332 & 1 & 1 & ⋯ & 158.2018 & 94.48246 & 2415.351 & 1606.373 & 0.6951755 & 38.52412 & 154.2412 & 759.4847 & 60.4386 & 331.5219\\\\\n\t  96.80244 & 44.07227 & -122.5895 &    18.9749069 & 234.7522 & 11.10056 &  9.777739 & 3.311065 & 1 & 1 & ⋯ & 158.2018 & 94.48246 & 2415.351 & 1606.373 & 0.6951754 & 38.52412 & 154.2412 & 759.4847 & 60.4386 & 331.5219\\\\\n\t 271.47940 & 44.07253 & -122.5920 &   120.8022919 & 482.3406 & 11.11198 & 16.374336 & 3.312768 & 1 & 1 & ⋯ & 158.2018 & 94.48246 & 2415.351 & 1606.373 & 0.6951755 & 38.52412 & 154.2412 & 759.4847 & 60.4386 & 331.5219\\\\\n\t 110.58319 & 44.07225 & -122.5914 &    25.3326378 & 255.9538 & 11.10015 & 10.450566 & 3.311003 & 1 & 1 & ⋯ & 158.2018 & 94.48246 & 2415.351 & 1606.373 & 0.6951754 & 38.52412 & 154.2412 & 759.4846 & 60.4386 & 331.5219\\\\\n\t  49.89533 & 44.07197 & -122.5909 &     2.4975975 & 157.4259 & 11.10251 &  7.019808 & 3.311356 & 1 & 1 & ⋯ & 158.2018 & 94.48246 & 2415.351 & 1606.373 & 0.6951754 & 38.52412 & 154.2412 & 759.4846 & 60.4386 & 331.5219\\\\\n\t 138.79854 & 44.06944 & -122.5928 &    39.6730881 & 298.0423 & 11.09982 & 11.708135 & 3.310955 & 1 & 0 & ⋯ & 158.2018 & 94.48246 & 2415.351 & 1606.373 & 0.6951754 & 38.52412 & 154.2412 & 759.4847 & 60.4386 & 331.5219\\\\\n\t  58.04548 & 44.07348 & -122.5905 &     4.5604801 & 171.6621 & 11.10229 &  7.571457 & 3.311323 & 1 & 1 & ⋯ & 158.2018 & 94.48246 & 2415.351 & 1606.373 & 0.6951755 & 38.52412 & 154.2412 & 759.4847 & 60.4386 & 331.5219\\\\\n\t 190.84642 & 44.07320 & -122.5899 &    69.3663635 & 372.5204 & 11.11380 & 13.728949 & 3.313038 & 1 & 1 & ⋯ & 158.2018 & 94.48246 & 2415.351 & 1606.373 & 0.6951754 & 38.52412 & 154.2412 & 759.4846 & 60.4386 & 331.5219\\\\\n\t 110.00547 & 44.07293 & -122.5892 &    25.0590668 & 255.0663 & 11.09912 & 10.423232 & 3.310850 & 1 & 1 & ⋯ & 158.2018 & 94.48246 & 2415.351 & 1606.373 & 0.6951755 & 38.52412 & 154.2412 & 759.4846 & 60.4386 & 331.5219\\\\\n\t  48.15558 & 44.07045 & -122.5926 &     2.1202981 & 154.3240 & 11.10256 &  6.896338 & 3.311364 & 1 & 3 & ⋯ & 158.2018 & 94.48245 & 2415.351 & 1606.373 & 0.6951754 & 38.52412 & 154.2412 & 759.4846 & 60.4386 & 331.5219\\\\\n\t 103.64187 & 44.07072 & -122.5920 &    22.0709839 & 245.3281 & 11.09929 & 10.117259 & 3.310875 & 1 & 3 & ⋯ & 158.2018 & 94.48246 & 2415.351 & 1606.373 & 0.6951754 & 38.52412 & 154.2412 & 759.4846 & 60.4386 & 331.5219\\\\\n\t  41.65387 & 44.07429 & -122.5911 &     0.9404535 & 142.5204 & 11.10626 &  6.413911 & 3.311915 & 1 & 2 & ⋯ & 158.2018 & 94.48246 & 2415.351 & 1606.373 & 0.6951754 & 38.52412 & 154.2412 & 759.4846 & 60.4386 & 331.5219\\\\\n\t 100.48817 & 44.07402 & -122.5905 &    20.6284294 & 240.4641 & 11.09944 &  9.962142 & 3.310898 & 1 & 2 & ⋯ & 158.2018 & 94.48246 & 2415.351 & 1606.373 & 0.6951755 & 38.52412 & 154.2412 & 759.4846 & 60.4386 & 331.5219\\\\\n\t  28.39315 & 44.07374 & -122.5899 & -9999.0000000 & 116.9155 & 11.10632 &  5.295440 & 3.311923 & 1 & 2 & ⋯ & 158.2018 & 94.48246 & 2415.351 & 1606.373 & 0.6951754 & 38.52412 & 154.2412 & 759.4847 & 60.4386 & 331.5219\\\\\n\t  51.96273 & 44.07347 & -122.5892 &     2.9766045 & 161.0806 & 11.10231 &  7.163764 & 3.311325 & 1 & 2 & ⋯ & 158.2018 & 94.48246 & 2415.351 & 1606.373 & 0.6951754 & 38.52412 & 154.2412 & 759.4846 & 60.4386 & 331.5219\\\\\n\t 149.55153 & 44.07320 & -122.5886 &    45.5125427 & 313.7133 & 11.10066 & 12.153201 & 3.311080 & 1 & 2 & ⋯ & 158.2018 & 94.48246 & 2415.351 & 1606.373 & 0.6951754 & 38.52412 & 154.2412 & 759.4846 & 60.4386 & 331.5219\\\\\n\\end{tabular}\n",
            "text/plain": [
              "       agbd      lat_lowestmode lon_lowestmode agbd_pi_lower agbd_pi_upper\n",
              "1      202.49307 44.78238       -121.8913         76.510269   388.60226   \n",
              "2       98.51974 44.78264       -121.8906         19.739058   237.42361   \n",
              "3      351.77530 44.78259       -121.8909        176.035446   587.74792   \n",
              "4      205.08899 44.78133       -121.8937         78.107780   392.19824   \n",
              "5      296.17981 44.78128       -121.8940        137.416382   515.16638   \n",
              "6       15.39457 44.77249       -121.9418      -9999.000000    88.54436   \n",
              "7      514.52936 44.76986       -121.9357        295.259125   794.30255   \n",
              "8       40.56170 44.77014       -121.9363          0.782423   140.49518   \n",
              "9       26.86498 44.76987       -121.9356      -9999.000000   113.80793   \n",
              "10      59.08430 44.76271       -121.9339          4.855742   173.44067   \n",
              "11     421.53067 44.76065       -121.9272        226.305038   676.98767   \n",
              "12     649.36127 44.75767       -121.9156        399.541382   959.54999   \n",
              "13     594.64972 44.75793       -121.9150        356.951721   892.67792   \n",
              "14     547.39709 44.75820       -121.9143        320.609711   834.48535   \n",
              "15     615.96417 44.75847       -121.9137        373.482819   918.79004   \n",
              "16     555.78674 44.75873       -121.9131        326.789948   845.23505   \n",
              "17     864.96490 44.75841       -121.9133        571.603821  1218.87097   \n",
              "18      17.03511 44.75795       -121.9163      -9999.000000    92.41876   \n",
              "19     904.39124 44.75847       -121.9151        603.704651  1265.63708   \n",
              "20     122.13786 44.75680       -121.9356         31.011219   273.38733   \n",
              "21     247.18703 44.75514       -121.9009        104.826660   449.68918   \n",
              "22     101.47255 44.75411       -121.8999         21.069368   242.00716   \n",
              "23      16.14140 44.75822       -121.9188      -9999.000000    90.32846   \n",
              "24      65.88306 44.75472       -121.9225          6.937531   184.95337   \n",
              "25     838.60358 44.75499       -121.9218        550.248474  1187.48694   \n",
              "26     162.54333 44.75526       -121.9212         52.022430   334.37195   \n",
              "27      22.01863 44.75552       -121.9206      -9999.000000   103.57902   \n",
              "28     442.72513 44.75579       -121.9200        241.608856   704.28113   \n",
              "29      78.14587 44.75606       -121.9193         11.130984   205.74222   \n",
              "30     152.74023 44.75633       -121.9187         47.283173   318.31369   \n",
              "⋮      ⋮         ⋮              ⋮              ⋮             ⋮            \n",
              "893114 258.93848 44.07425       -122.5900        112.5098190 465.5266     \n",
              "893115 147.09892 44.07399       -122.5894         44.1687050 310.1443     \n",
              "893116 218.94739 44.07372       -122.5888         86.7362518 411.2991     \n",
              "893117 196.21808 44.07303       -122.5917         72.6730423 379.8883     \n",
              "893118 144.39738 44.07330       -122.5911         42.6941490 306.2156     \n",
              "893119 102.46932 44.07356       -122.5905         21.5315037 243.5229     \n",
              "893120 157.44504 44.07383       -122.5899         49.9164124 325.0905     \n",
              "893121 134.24043 44.07410       -122.5893         37.2538528 291.3454     \n",
              "893122  88.90730 44.07436       -122.5887         15.5749493 222.3565     \n",
              "893123  41.04046 44.07463       -122.5881          0.8512793 141.3701     \n",
              "893124 167.99240 44.07093       -122.5925         55.9283981 340.1755     \n",
              "893125  90.90186 44.07120       -122.5919         16.4151402 225.5083     \n",
              "893126  95.80682 44.07147       -122.5913         18.5363731 233.1974     \n",
              "893127  91.06995 44.07174       -122.5907         16.4857121 225.7764     \n",
              "893128  56.31649 44.07200       -122.5901          4.0851908 168.6798     \n",
              "893129  96.80244 44.07227       -122.5895         18.9749069 234.7522     \n",
              "893130 271.47940 44.07253       -122.5920        120.8022919 482.3406     \n",
              "893131 110.58319 44.07225       -122.5914         25.3326378 255.9538     \n",
              "893132  49.89533 44.07197       -122.5909          2.4975975 157.4259     \n",
              "893133 138.79854 44.06944       -122.5928         39.6730881 298.0423     \n",
              "893134  58.04548 44.07348       -122.5905          4.5604801 171.6621     \n",
              "893135 190.84642 44.07320       -122.5899         69.3663635 372.5204     \n",
              "893136 110.00547 44.07293       -122.5892         25.0590668 255.0663     \n",
              "893137  48.15558 44.07045       -122.5926          2.1202981 154.3240     \n",
              "893138 103.64187 44.07072       -122.5920         22.0709839 245.3281     \n",
              "893139  41.65387 44.07429       -122.5911          0.9404535 142.5204     \n",
              "893140 100.48817 44.07402       -122.5905         20.6284294 240.4641     \n",
              "893141  28.39315 44.07374       -122.5899      -9999.0000000 116.9155     \n",
              "893142  51.96273 44.07347       -122.5892          2.9766045 161.0806     \n",
              "893143 149.55153 44.07320       -122.5886         45.5125427 313.7133     \n",
              "       agbd_se  agbd_t    agbd_t_se algorithm_run_flag channel ⋯ pr      \n",
              "1      11.10132 14.141659 3.311179  1                  1       ⋯ 156.1944\n",
              "2      11.10073  9.864087 3.311091  1                  1       ⋯ 156.1944\n",
              "3      11.12096 18.639229 3.314106  1                  0       ⋯ 156.1944\n",
              "4      11.10163 14.232017 3.311225  1                  1       ⋯ 156.1944\n",
              "5      11.11919 17.103027 3.313842  1                  0       ⋯ 156.1944\n",
              "6      11.11436  3.899232 3.313122  1                  1       ⋯ 144.2222\n",
              "7      11.17085 22.542410 3.321531  1                  5       ⋯ 144.2222\n",
              "8      11.10646  6.329266 3.311945  1                  1       ⋯ 144.2222\n",
              "9      11.10920  5.150964 3.312353  1                  1       ⋯ 144.2222\n",
              "10     11.10159  7.638908 3.311218  1                  1       ⋯ 144.2222\n",
              "11     11.12070 20.403744 3.314067  1                  0       ⋯ 144.2222\n",
              "12     11.14609 25.324358 3.317849  1                  2       ⋯ 156.1944\n",
              "13     11.13895 24.234043 3.316785  1                  2       ⋯ 156.1944\n",
              "14     11.13354 23.251261 3.315980  1                  2       ⋯ 156.1944\n",
              "15     11.14158 24.664539 3.317177  1                  2       ⋯ 156.1944\n",
              "16     11.16136 23.428762 3.320120  1                  2       ⋯ 156.1944\n",
              "17     11.17863 29.227692 3.322688  1                  2       ⋯ 156.1944\n",
              "18     11.11394  4.101736 3.313061  1                  0       ⋯ 156.1944\n",
              "19     11.18126 29.886389 3.323078  1                  0       ⋯ 156.1944\n",
              "20     11.10066 10.982985 3.311080  1                  1       ⋯ 144.2222\n",
              "21     11.10417 15.624571 3.311603  1                  1       ⋯ 156.1944\n",
              "22     11.10225 10.010818 3.311317  1                  1       ⋯ 154.9515\n",
              "23     11.11550  3.992693 3.313293  1                  1       ⋯ 156.1944\n",
              "24     11.10103  8.066444 3.311135  1                  2       ⋯ 144.2222\n",
              "25     11.17550 28.778862 3.322222  1                  2       ⋯ 144.2222\n",
              "26     11.31943 12.670094 3.343548  1                  2       ⋯ 144.2222\n",
              "27     11.10937  4.663268 3.312378  1                  2       ⋯ 144.2222\n",
              "28     11.15918 20.910400 3.319797  1                  2       ⋯ 144.2222\n",
              "29     11.18535  8.785131 3.323686  1                  2       ⋯ 150.9745\n",
              "30     11.09948 12.282082 3.310904  1                  2       ⋯ 156.1944\n",
              "⋮      ⋮        ⋮         ⋮         ⋮                  ⋮       ⋱ ⋮       \n",
              "893114 11.10744 15.991660 3.312090  1                  4       ⋯ 158.2018\n",
              "893115 11.09925 12.053135 3.310870  1                  4       ⋯ 158.2018\n",
              "893116 11.10395 14.705004 3.311571  1                  4       ⋯ 158.2018\n",
              "893117 11.10111 13.920818 3.311146  1                  1       ⋯ 158.2018\n",
              "893118 11.09921 11.941941 3.310864  1                  1       ⋯ 158.2018\n",
              "893119 11.09937 10.059866 3.310887  1                  1       ⋯ 158.2018\n",
              "893120 11.09956 12.469808 3.310916  1                  1       ⋯ 158.2018\n",
              "893121 11.09984 11.514284 3.310957  1                  1       ⋯ 158.2018\n",
              "893122 11.09956  9.370526 3.310916  1                  1       ⋯ 158.2018\n",
              "893123 11.10393  6.366509 3.311568  1                  1       ⋯ 158.2018\n",
              "893124 11.09998 12.880718 3.310978  1                  1       ⋯ 158.2018\n",
              "893125 11.10009  9.475053 3.310995  1                  1       ⋯ 158.2018\n",
              "893126 11.10017  9.727326 3.311007  1                  1       ⋯ 158.2018\n",
              "893127 11.10054  9.483809 3.311062  1                  1       ⋯ 158.2018\n",
              "893128 11.10235  7.457840 3.311332  1                  1       ⋯ 158.2018\n",
              "893129 11.10056  9.777739 3.311065  1                  1       ⋯ 158.2018\n",
              "893130 11.11198 16.374336 3.312768  1                  1       ⋯ 158.2018\n",
              "893131 11.10015 10.450566 3.311003  1                  1       ⋯ 158.2018\n",
              "893132 11.10251  7.019808 3.311356  1                  1       ⋯ 158.2018\n",
              "893133 11.09982 11.708135 3.310955  1                  0       ⋯ 158.2018\n",
              "893134 11.10229  7.571457 3.311323  1                  1       ⋯ 158.2018\n",
              "893135 11.11380 13.728949 3.313038  1                  1       ⋯ 158.2018\n",
              "893136 11.09912 10.423232 3.310850  1                  1       ⋯ 158.2018\n",
              "893137 11.10256  6.896338 3.311364  1                  3       ⋯ 158.2018\n",
              "893138 11.09929 10.117259 3.310875  1                  3       ⋯ 158.2018\n",
              "893139 11.10626  6.413911 3.311915  1                  2       ⋯ 158.2018\n",
              "893140 11.09944  9.962142 3.310898  1                  2       ⋯ 158.2018\n",
              "893141 11.10632  5.295440 3.311923  1                  2       ⋯ 158.2018\n",
              "893142 11.10231  7.163764 3.311325  1                  2       ⋯ 158.2018\n",
              "893143 11.10066 12.153201 3.311080  1                  2       ⋯ 158.2018\n",
              "       ro        soil     srad     swe       tmmn     tmmx     vap     \n",
              "1      107.33334 1600.528 1598.306 97.91666  23.16667 127.1944 619.6111\n",
              "2      107.33334 1600.528 1598.306 97.91666  23.16667 127.1944 619.6111\n",
              "3      107.33334 1600.528 1598.306 97.91667  23.16667 127.1944 619.6111\n",
              "4      107.33334 1600.528 1598.306 97.91667  23.16667 127.1944 619.6111\n",
              "5      107.33333 1600.528 1598.306 97.91666  23.16667 127.1944 619.6111\n",
              "6       93.61111 1662.722 1601.722 61.86111  30.91667 141.1667 693.6667\n",
              "7       93.61111 1662.722 1601.722 61.86111  30.91667 141.1667 693.6667\n",
              "8       93.61111 1662.722 1601.722 61.86111  30.91667 141.1667 693.6667\n",
              "9       93.61111 1662.722 1601.722 61.86111  30.91667 141.1667 693.6667\n",
              "10      93.61111 1662.722 1601.722 61.86111  30.91667 141.1667 693.6667\n",
              "11      93.61111 1662.722 1601.722 61.86111  30.91667 141.1667 693.6667\n",
              "12     107.33333 1600.528 1598.306 97.91666  23.16667 127.1944 619.6111\n",
              "13     107.33333 1600.528 1598.306 97.91667  23.16667 127.1944 619.6111\n",
              "14     107.33334 1600.528 1598.306 97.91667  23.16667 127.1944 619.6111\n",
              "15     107.33334 1600.528 1598.306 97.91667  23.16667 127.1944 619.6111\n",
              "16     107.33333 1600.528 1598.306 97.91667  23.16667 127.1944 619.6111\n",
              "17     107.33334 1600.528 1598.306 97.91667  23.16667 127.1944 619.6111\n",
              "18     107.33333 1600.528 1598.306 97.91666  23.16667 127.1944 619.6111\n",
              "19     107.33334 1600.528 1598.306 97.91666  23.16667 127.1944 619.6111\n",
              "20      93.61111 1662.722 1601.722 61.86111  30.91667 141.1667 693.6667\n",
              "21     107.33333 1600.528 1598.306 97.91667  23.16667 127.1944 619.6111\n",
              "22     105.80823 1588.891 1598.641 93.77600  23.09804 127.6977 621.0600\n",
              "23     107.33333 1600.528 1598.306 97.91666  23.16667 127.1944 619.6111\n",
              "24      93.61111 1662.722 1601.722 61.86111  30.91667 141.1667 693.6667\n",
              "25      93.61111 1662.722 1601.722 61.86111  30.91667 141.1667 693.6667\n",
              "26      93.61111 1662.722 1601.722 61.86111  30.91667 141.1667 693.6667\n",
              "27      93.61111 1662.722 1601.722 61.86111  30.91667 141.1667 693.6667\n",
              "28      93.61111 1662.722 1601.722 61.86111  30.91667 141.1667 693.6666\n",
              "29     101.35033 1627.645 1599.795 82.19614  26.54573 133.2865 651.9000\n",
              "30     107.33333 1600.528 1598.306 97.91666  23.16667 127.1944 619.6111\n",
              "⋮      ⋮         ⋮        ⋮        ⋮         ⋮        ⋮        ⋮       \n",
              "893114 94.48246  2415.351 1606.373 0.6951754 38.52412 154.2412 759.4847\n",
              "893115 94.48246  2415.351 1606.373 0.6951754 38.52412 154.2412 759.4846\n",
              "893116 94.48246  2415.351 1606.373 0.6951754 38.52412 154.2412 759.4847\n",
              "893117 94.48246  2415.351 1606.373 0.6951755 38.52412 154.2412 759.4847\n",
              "893118 94.48246  2415.351 1606.373 0.6951754 38.52412 154.2412 759.4846\n",
              "893119 94.48245  2415.351 1606.373 0.6951754 38.52412 154.2412 759.4846\n",
              "893120 94.48246  2415.351 1606.373 0.6951754 38.52412 154.2412 759.4846\n",
              "893121 94.48246  2415.351 1606.373 0.6951754 38.52412 154.2412 759.4847\n",
              "893122 94.48246  2415.351 1606.373 0.6951754 38.52412 154.2412 759.4846\n",
              "893123 94.48246  2415.351 1606.373 0.6951754 38.52412 154.2412 759.4846\n",
              "893124 94.48246  2415.351 1606.373 0.6951754 38.52412 154.2412 759.4846\n",
              "893125 94.48246  2415.351 1606.373 0.6951754 38.52412 154.2412 759.4847\n",
              "893126 94.48246  2415.351 1606.373 0.6951754 38.52412 154.2412 759.4847\n",
              "893127 94.48246  2415.351 1606.373 0.6951754 38.52412 154.2412 759.4847\n",
              "893128 94.48246  2415.351 1606.373 0.6951755 38.52412 154.2412 759.4847\n",
              "893129 94.48246  2415.351 1606.373 0.6951754 38.52412 154.2412 759.4847\n",
              "893130 94.48246  2415.351 1606.373 0.6951755 38.52412 154.2412 759.4847\n",
              "893131 94.48246  2415.351 1606.373 0.6951754 38.52412 154.2412 759.4846\n",
              "893132 94.48246  2415.351 1606.373 0.6951754 38.52412 154.2412 759.4846\n",
              "893133 94.48246  2415.351 1606.373 0.6951754 38.52412 154.2412 759.4847\n",
              "893134 94.48246  2415.351 1606.373 0.6951755 38.52412 154.2412 759.4847\n",
              "893135 94.48246  2415.351 1606.373 0.6951754 38.52412 154.2412 759.4846\n",
              "893136 94.48246  2415.351 1606.373 0.6951755 38.52412 154.2412 759.4846\n",
              "893137 94.48245  2415.351 1606.373 0.6951754 38.52412 154.2412 759.4846\n",
              "893138 94.48246  2415.351 1606.373 0.6951754 38.52412 154.2412 759.4846\n",
              "893139 94.48246  2415.351 1606.373 0.6951754 38.52412 154.2412 759.4846\n",
              "893140 94.48246  2415.351 1606.373 0.6951755 38.52412 154.2412 759.4846\n",
              "893141 94.48246  2415.351 1606.373 0.6951754 38.52412 154.2412 759.4847\n",
              "893142 94.48246  2415.351 1606.373 0.6951754 38.52412 154.2412 759.4846\n",
              "893143 94.48246  2415.351 1606.373 0.6951754 38.52412 154.2412 759.4846\n",
              "       vpd      vs      \n",
              "1      59.72222 356.1111\n",
              "2      59.72222 356.1111\n",
              "3      59.72222 356.1111\n",
              "4      59.72222 356.1111\n",
              "5      59.72222 356.1111\n",
              "6      63.36111 345.2778\n",
              "7      63.36111 345.2778\n",
              "8      63.36111 345.2778\n",
              "9      63.36111 345.2778\n",
              "10     63.36111 345.2778\n",
              "11     63.36111 345.2778\n",
              "12     59.72222 356.1111\n",
              "13     59.72222 356.1111\n",
              "14     59.72222 356.1111\n",
              "15     59.72222 356.1111\n",
              "16     59.72222 356.1111\n",
              "17     59.72222 356.1111\n",
              "18     59.72222 356.1111\n",
              "19     59.72222 356.1111\n",
              "20     63.36111 345.2778\n",
              "21     59.72222 356.1111\n",
              "22     59.78323 356.1111\n",
              "23     59.72222 356.1111\n",
              "24     63.36111 345.2778\n",
              "25     63.36111 345.2778\n",
              "26     63.36111 345.2778\n",
              "27     63.36111 345.2778\n",
              "28     63.36111 345.2778\n",
              "29     61.30881 351.3877\n",
              "30     59.72222 356.1111\n",
              "⋮      ⋮        ⋮       \n",
              "893114 60.4386  331.5219\n",
              "893115 60.4386  331.5219\n",
              "893116 60.4386  331.5219\n",
              "893117 60.4386  331.5219\n",
              "893118 60.4386  331.5219\n",
              "893119 60.4386  331.5219\n",
              "893120 60.4386  331.5219\n",
              "893121 60.4386  331.5219\n",
              "893122 60.4386  331.5219\n",
              "893123 60.4386  331.5219\n",
              "893124 60.4386  331.5219\n",
              "893125 60.4386  331.5219\n",
              "893126 60.4386  331.5219\n",
              "893127 60.4386  331.5219\n",
              "893128 60.4386  331.5219\n",
              "893129 60.4386  331.5219\n",
              "893130 60.4386  331.5219\n",
              "893131 60.4386  331.5219\n",
              "893132 60.4386  331.5219\n",
              "893133 60.4386  331.5219\n",
              "893134 60.4386  331.5219\n",
              "893135 60.4386  331.5219\n",
              "893136 60.4386  331.5219\n",
              "893137 60.4386  331.5219\n",
              "893138 60.4386  331.5219\n",
              "893139 60.4386  331.5219\n",
              "893140 60.4386  331.5219\n",
              "893141 60.4386  331.5219\n",
              "893142 60.4386  331.5219\n",
              "893143 60.4386  331.5219"
            ]
          },
          "metadata": {}
        }
      ]
    },
    {
      "cell_type": "code",
      "execution_count": 40,
      "metadata": {
        "id": "w3BnvTUZ8JLy"
      },
      "outputs": [],
      "source": [
        "convert_delta_time_to_year <- function(delta_time, start_date = \"2018-01-01\") {\n",
        "  # Convert start_date to POSIXct (DateTime object in R)\n",
        "  start_datetime <- as.POSIXct(start_date, tz = \"UTC\")\n",
        "\n",
        "  # Calculate the actual datetime by adding delta_time seconds to start_datetime\n",
        "  actual_datetime <- start_datetime + as.numeric(delta_time)\n",
        "\n",
        "  # Extract the year part of the date\n",
        "  year <- format(actual_datetime, \"%Y\")\n",
        "\n",
        "  return(year)\n",
        "}"
      ]
    },
    {
      "cell_type": "code",
      "execution_count": 41,
      "metadata": {
        "id": "G6gjFBfT8Kak"
      },
      "outputs": [],
      "source": [
        "rf_dt$gedi_year <- convert_delta_time_to_year(rf_dt$delta_time) %>% as.numeric"
      ]
    },
    {
      "cell_type": "code",
      "execution_count": 42,
      "metadata": {
        "id": "918wPUd58hNl"
      },
      "outputs": [],
      "source": [
        "rf_dt[order(yod_mean),dist_count := length(agbd),\n",
        "                by = .(lat_lowestmode,lon_lowestmode)]"
      ]
    },
    {
      "cell_type": "code",
      "execution_count": 43,
      "metadata": {
        "id": "e2ZHXgIWYVVV"
      },
      "outputs": [],
      "source": [
        "rf_dt$one_column <- 1"
      ]
    },
    {
      "cell_type": "code",
      "execution_count": null,
      "metadata": {
        "id": "fQ8mbKTJtJfh"
      },
      "outputs": [],
      "source": [
        "gc()"
      ]
    },
    {
      "cell_type": "code",
      "execution_count": null,
      "metadata": {
        "id": "3dMSORSUsvLM"
      },
      "outputs": [],
      "source": [
        "rf_dt$geom %>% paste"
      ]
    },
    {
      "cell_type": "code",
      "execution_count": 44,
      "metadata": {
        "id": "T094ahzfr3ZR",
        "colab": {
          "base_uri": "https://localhost:8080/",
          "height": 1000
        },
        "outputId": "92af9bc2-1924-44b3-8ba3-5b5ec3c35c62"
      },
      "outputs": [
        {
          "output_type": "display_data",
          "data": {
            "text/html": [
              "<table class=\"dataframe\">\n",
              "<caption>A data.table: 176 × 116</caption>\n",
              "<thead>\n",
              "\t<tr><th scope=col>agbd</th><th scope=col>lat_lowestmode</th><th scope=col>lon_lowestmode</th><th scope=col>agbd_pi_lower</th><th scope=col>agbd_pi_upper</th><th scope=col>agbd_se</th><th scope=col>agbd_t</th><th scope=col>agbd_t_se</th><th scope=col>algorithm_run_flag</th><th scope=col>channel</th><th scope=col>⋯</th><th scope=col>srad</th><th scope=col>swe</th><th scope=col>tmmn</th><th scope=col>tmmx</th><th scope=col>vap</th><th scope=col>vpd</th><th scope=col>vs</th><th scope=col>gedi_year</th><th scope=col>dist_count</th><th scope=col>one_column</th></tr>\n",
              "\t<tr><th scope=col>&lt;dbl&gt;</th><th scope=col>&lt;dbl&gt;</th><th scope=col>&lt;dbl&gt;</th><th scope=col>&lt;dbl&gt;</th><th scope=col>&lt;dbl&gt;</th><th scope=col>&lt;dbl&gt;</th><th scope=col>&lt;dbl&gt;</th><th scope=col>&lt;dbl&gt;</th><th scope=col>&lt;dbl&gt;</th><th scope=col>&lt;dbl&gt;</th><th scope=col>⋯</th><th scope=col>&lt;dbl&gt;</th><th scope=col>&lt;dbl&gt;</th><th scope=col>&lt;dbl&gt;</th><th scope=col>&lt;dbl&gt;</th><th scope=col>&lt;dbl&gt;</th><th scope=col>&lt;dbl&gt;</th><th scope=col>&lt;dbl&gt;</th><th scope=col>&lt;dbl&gt;</th><th scope=col>&lt;int&gt;</th><th scope=col>&lt;dbl&gt;</th></tr>\n",
              "</thead>\n",
              "<tbody>\n",
              "\t<tr><td>14.43202</td><td>44.75466</td><td>-123.0796</td><td>-9999</td><td>86.21816</td><td>11.11522</td><td>3.775364</td><td>3.313251</td><td>1</td><td>5</td><td>⋯</td><td>1512.875</td><td>0.09429825</td><td>61.85526</td><td>178.6294</td><td>1012.419</td><td>60.09430</td><td>299.1535</td><td>2022</td><td>7</td><td>1</td></tr>\n",
              "\t<tr><td>14.50465</td><td>44.75781</td><td>-123.0851</td><td>-9999</td><td>86.39748</td><td>11.11565</td><td>3.784852</td><td>3.313314</td><td>1</td><td>2</td><td>⋯</td><td>1512.875</td><td>0.09429824</td><td>61.85526</td><td>178.6294</td><td>1012.419</td><td>60.09430</td><td>299.1535</td><td>2019</td><td>6</td><td>1</td></tr>\n",
              "\t<tr><td>14.42704</td><td>44.75807</td><td>-123.0844</td><td>-9999</td><td>86.20717</td><td>11.11548</td><td>3.774712</td><td>3.313290</td><td>1</td><td>2</td><td>⋯</td><td>1512.875</td><td>0.09429825</td><td>61.85526</td><td>178.6294</td><td>1012.419</td><td>60.09430</td><td>299.1535</td><td>2019</td><td>6</td><td>1</td></tr>\n",
              "\t<tr><td>14.11616</td><td>44.27430</td><td>-123.1896</td><td>-9999</td><td>85.44536</td><td>11.11561</td><td>3.733822</td><td>3.313308</td><td>1</td><td>3</td><td>⋯</td><td>1548.521</td><td>0.09285714</td><td>66.35000</td><td>177.4905</td><td>1014.757</td><td>60.93809</td><td>308.4619</td><td>2021</td><td>6</td><td>1</td></tr>\n",
              "\t<tr><td>14.74623</td><td>44.28872</td><td>-123.2401</td><td>-9999</td><td>86.98313</td><td>11.11510</td><td>3.816240</td><td>3.313233</td><td>1</td><td>1</td><td>⋯</td><td>1547.250</td><td>0.10000000</td><td>65.99286</td><td>177.3381</td><td>1016.621</td><td>60.44048</td><td>307.7738</td><td>2020</td><td>6</td><td>1</td></tr>\n",
              "\t<tr><td>14.74623</td><td>44.28900</td><td>-123.2395</td><td>-9999</td><td>86.98313</td><td>11.11510</td><td>3.816240</td><td>3.313233</td><td>1</td><td>1</td><td>⋯</td><td>1547.250</td><td>0.10000000</td><td>65.99286</td><td>177.3381</td><td>1016.621</td><td>60.44048</td><td>307.7738</td><td>2020</td><td>6</td><td>1</td></tr>\n",
              "\t<tr><td>14.83750</td><td>44.28927</td><td>-123.2389</td><td>-9999</td><td>87.20521</td><td>11.11523</td><td>3.828033</td><td>3.313252</td><td>1</td><td>1</td><td>⋯</td><td>1547.250</td><td>0.10000000</td><td>65.99286</td><td>177.3381</td><td>1016.621</td><td>60.44048</td><td>307.7738</td><td>2020</td><td>6</td><td>1</td></tr>\n",
              "\t<tr><td>15.10932</td><td>44.36676</td><td>-123.2655</td><td>-9999</td><td>87.86120</td><td>11.11496</td><td>3.862938</td><td>3.313212</td><td>1</td><td>0</td><td>⋯</td><td>1539.221</td><td>0.09761905</td><td>65.56905</td><td>177.0524</td><td>1020.802</td><td>59.43095</td><td>306.5286</td><td>2021</td><td>6</td><td>1</td></tr>\n",
              "\t<tr><td>15.52197</td><td>44.36688</td><td>-123.2655</td><td>-9999</td><td>88.85085</td><td>11.11465</td><td>3.915332</td><td>3.313165</td><td>1</td><td>0</td><td>⋯</td><td>1539.221</td><td>0.09761905</td><td>65.56905</td><td>177.0524</td><td>1020.802</td><td>59.43095</td><td>306.5286</td><td>2022</td><td>6</td><td>1</td></tr>\n",
              "\t<tr><td>14.15471</td><td>44.26545</td><td>-123.2060</td><td>-9999</td><td>85.54756</td><td>11.11723</td><td>3.738917</td><td>3.313550</td><td>1</td><td>1</td><td>⋯</td><td>1547.174</td><td>0.09068628</td><td>66.19118</td><td>177.4216</td><td>1016.539</td><td>60.57843</td><td>308.5637</td><td>2020</td><td>6</td><td>1</td></tr>\n",
              "\t<tr><td>14.32778</td><td>44.26546</td><td>-123.2048</td><td>-9999</td><td>85.96694</td><td>11.11606</td><td>3.761705</td><td>3.313376</td><td>1</td><td>1</td><td>⋯</td><td>1547.174</td><td>0.09068627</td><td>66.19118</td><td>177.4216</td><td>1016.539</td><td>60.57843</td><td>308.5637</td><td>2022</td><td>8</td><td>1</td></tr>\n",
              "\t<tr><td>14.11616</td><td>44.27430</td><td>-123.1896</td><td>-9999</td><td>85.44536</td><td>11.11561</td><td>3.733822</td><td>3.313308</td><td>1</td><td>3</td><td>⋯</td><td>1549.326</td><td>0.03787879</td><td>66.67172</td><td>177.6035</td><td>1013.460</td><td>61.22222</td><td>309.5985</td><td>2021</td><td>6</td><td>1</td></tr>\n",
              "\t<tr><td>14.74623</td><td>44.28872</td><td>-123.2401</td><td>-9999</td><td>86.98313</td><td>11.11510</td><td>3.816240</td><td>3.313233</td><td>1</td><td>1</td><td>⋯</td><td>1547.654</td><td>0.03906250</td><td>66.45313</td><td>177.4349</td><td>1014.977</td><td>60.79687</td><td>309.4740</td><td>2020</td><td>6</td><td>1</td></tr>\n",
              "\t<tr><td>14.74623</td><td>44.28900</td><td>-123.2395</td><td>-9999</td><td>86.98313</td><td>11.11510</td><td>3.816240</td><td>3.313233</td><td>1</td><td>1</td><td>⋯</td><td>1547.654</td><td>0.03906250</td><td>66.45313</td><td>177.4349</td><td>1014.977</td><td>60.79687</td><td>309.4740</td><td>2020</td><td>6</td><td>1</td></tr>\n",
              "\t<tr><td>14.83750</td><td>44.28927</td><td>-123.2389</td><td>-9999</td><td>87.20521</td><td>11.11523</td><td>3.828033</td><td>3.313252</td><td>1</td><td>1</td><td>⋯</td><td>1547.654</td><td>0.03906250</td><td>66.45313</td><td>177.4349</td><td>1014.977</td><td>60.79688</td><td>309.4740</td><td>2020</td><td>6</td><td>1</td></tr>\n",
              "\t<tr><td>14.51558</td><td>44.31516</td><td>-123.2264</td><td>-9999</td><td>86.42250</td><td>11.11528</td><td>3.786278</td><td>3.313260</td><td>1</td><td>2</td><td>⋯</td><td>1545.263</td><td>0.03645833</td><td>66.48958</td><td>177.6693</td><td>1016.078</td><td>60.75521</td><td>308.3958</td><td>2022</td><td>6</td><td>1</td></tr>\n",
              "\t<tr><td>13.91838</td><td>44.74350</td><td>-123.0552</td><td>-9999</td><td>84.96147</td><td>11.11643</td><td>3.707573</td><td>3.313430</td><td>1</td><td>4</td><td>⋯</td><td>1516.227</td><td>0.03906250</td><td>63.45052</td><td>178.4036</td><td>1010.307</td><td>60.82552</td><td>302.6979</td><td>2020</td><td>7</td><td>1</td></tr>\n",
              "\t<tr><td>14.02879</td><td>44.74410</td><td>-123.0556</td><td>-9999</td><td>85.23113</td><td>11.11581</td><td>3.722249</td><td>3.313339</td><td>1</td><td>4</td><td>⋯</td><td>1516.227</td><td>0.03906250</td><td>63.45052</td><td>178.4036</td><td>1010.307</td><td>60.82552</td><td>302.6979</td><td>2021</td><td>7</td><td>1</td></tr>\n",
              "\t<tr><td>14.15471</td><td>44.26545</td><td>-123.2060</td><td>-9999</td><td>85.54756</td><td>11.11723</td><td>3.738917</td><td>3.313550</td><td>1</td><td>1</td><td>⋯</td><td>1544.648</td><td>0.04032258</td><td>66.33602</td><td>176.9382</td><td>1013.465</td><td>60.57258</td><td>310.1075</td><td>2020</td><td>6</td><td>1</td></tr>\n",
              "\t<tr><td>14.32778</td><td>44.26546</td><td>-123.2048</td><td>-9999</td><td>85.96694</td><td>11.11606</td><td>3.761705</td><td>3.313376</td><td>1</td><td>1</td><td>⋯</td><td>1544.648</td><td>0.04032258</td><td>66.33602</td><td>176.9382</td><td>1013.465</td><td>60.57258</td><td>310.1075</td><td>2022</td><td>8</td><td>1</td></tr>\n",
              "\t<tr><td>14.63330</td><td>44.36527</td><td>-123.2692</td><td>-9999</td><td>86.71126</td><td>11.11569</td><td>3.801599</td><td>3.313321</td><td>1</td><td>0</td><td>⋯</td><td>1536.634</td><td>0.03763441</td><td>65.93011</td><td>176.6613</td><td>1017.613</td><td>59.57527</td><td>308.8145</td><td>2022</td><td>6</td><td>1</td></tr>\n",
              "\t<tr><td>14.76203</td><td>44.36533</td><td>-123.2617</td><td>-9999</td><td>87.01877</td><td>11.11451</td><td>3.818284</td><td>3.313145</td><td>1</td><td>3</td><td>⋯</td><td>1536.634</td><td>0.03763441</td><td>65.93011</td><td>176.6613</td><td>1017.613</td><td>59.57527</td><td>308.8145</td><td>2020</td><td>6</td><td>1</td></tr>\n",
              "\t<tr><td>14.89971</td><td>44.36595</td><td>-123.2673</td><td>-9999</td><td>87.35379</td><td>11.11477</td><td>3.836050</td><td>3.313183</td><td>1</td><td>0</td><td>⋯</td><td>1536.634</td><td>0.03763441</td><td>65.93011</td><td>176.6613</td><td>1017.613</td><td>59.57527</td><td>308.8145</td><td>2021</td><td>6</td><td>1</td></tr>\n",
              "\t<tr><td>15.10932</td><td>44.36603</td><td>-123.2619</td><td>-9999</td><td>87.86120</td><td>11.11496</td><td>3.862938</td><td>3.313212</td><td>1</td><td>0</td><td>⋯</td><td>1536.634</td><td>0.03763441</td><td>65.93011</td><td>176.6613</td><td>1017.613</td><td>59.57527</td><td>308.8145</td><td>2019</td><td>6</td><td>1</td></tr>\n",
              "\t<tr><td>15.01722</td><td>44.36607</td><td>-123.2673</td><td>-9999</td><td>87.63830</td><td>11.11484</td><td>3.851146</td><td>3.313194</td><td>1</td><td>0</td><td>⋯</td><td>1536.634</td><td>0.03763441</td><td>65.93011</td><td>176.6613</td><td>1017.613</td><td>59.57527</td><td>308.8145</td><td>2022</td><td>7</td><td>1</td></tr>\n",
              "\t<tr><td>14.47760</td><td>44.36622</td><td>-123.2667</td><td>-9999</td><td>86.33017</td><td>11.11537</td><td>3.781322</td><td>3.313273</td><td>1</td><td>0</td><td>⋯</td><td>1536.634</td><td>0.03763441</td><td>65.93011</td><td>176.6613</td><td>1017.613</td><td>59.57527</td><td>308.8145</td><td>2021</td><td>7</td><td>1</td></tr>\n",
              "\t<tr><td>15.06370</td><td>44.36634</td><td>-123.2667</td><td>-9999</td><td>87.75121</td><td>11.11498</td><td>3.857102</td><td>3.313215</td><td>1</td><td>0</td><td>⋯</td><td>1536.634</td><td>0.03763441</td><td>65.93011</td><td>176.6613</td><td>1017.613</td><td>59.57527</td><td>308.8145</td><td>2022</td><td>7</td><td>1</td></tr>\n",
              "\t<tr><td>14.33115</td><td>44.36649</td><td>-123.2661</td><td>-9999</td><td>85.97239</td><td>11.11545</td><td>3.762147</td><td>3.313285</td><td>1</td><td>0</td><td>⋯</td><td>1536.634</td><td>0.03763441</td><td>65.93011</td><td>176.6613</td><td>1017.613</td><td>59.57527</td><td>308.8145</td><td>2021</td><td>6</td><td>1</td></tr>\n",
              "\t<tr><td>13.67802</td><td>44.36659</td><td>-123.2678</td><td>-9999</td><td>84.37009</td><td>11.11731</td><td>3.675420</td><td>3.313562</td><td>1</td><td>0</td><td>⋯</td><td>1536.634</td><td>0.03763441</td><td>65.93011</td><td>176.6613</td><td>1017.613</td><td>59.57527</td><td>308.8145</td><td>2021</td><td>6</td><td>1</td></tr>\n",
              "\t<tr><td>15.38954</td><td>44.36661</td><td>-123.2661</td><td>-9999</td><td>88.53343</td><td>11.11460</td><td>3.898594</td><td>3.313159</td><td>1</td><td>0</td><td>⋯</td><td>1536.634</td><td>0.03763441</td><td>65.93011</td><td>176.6613</td><td>1017.613</td><td>59.57527</td><td>308.8145</td><td>2022</td><td>6</td><td>1</td></tr>\n",
              "\t<tr><td>⋮</td><td>⋮</td><td>⋮</td><td>⋮</td><td>⋮</td><td>⋮</td><td>⋮</td><td>⋮</td><td>⋮</td><td>⋮</td><td>⋱</td><td>⋮</td><td>⋮</td><td>⋮</td><td>⋮</td><td>⋮</td><td>⋮</td><td>⋮</td><td>⋮</td><td>⋮</td><td>⋮</td></tr>\n",
              "\t<tr><td>14.89971</td><td>44.36595</td><td>-123.2673</td><td>-9999.000000</td><td> 87.35379</td><td>11.11477</td><td>3.836050</td><td>3.313183</td><td>1</td><td>0</td><td>⋯</td><td>1559.933</td><td>0.02500000</td><td>70.64167</td><td>183.8083</td><td>1041.7667</td><td>64.38333</td><td>310.6750</td><td>2021</td><td>6</td><td>1</td></tr>\n",
              "\t<tr><td>15.10932</td><td>44.36603</td><td>-123.2619</td><td>-9999.000000</td><td> 87.86120</td><td>11.11496</td><td>3.862938</td><td>3.313212</td><td>1</td><td>0</td><td>⋯</td><td>1559.933</td><td>0.02500000</td><td>70.64167</td><td>183.8083</td><td>1041.7667</td><td>64.38333</td><td>310.6750</td><td>2019</td><td>6</td><td>1</td></tr>\n",
              "\t<tr><td>15.01722</td><td>44.36607</td><td>-123.2673</td><td>-9999.000000</td><td> 87.63830</td><td>11.11484</td><td>3.851146</td><td>3.313194</td><td>1</td><td>0</td><td>⋯</td><td>1559.933</td><td>0.02500000</td><td>70.64167</td><td>183.8083</td><td>1041.7667</td><td>64.38333</td><td>310.6750</td><td>2022</td><td>7</td><td>1</td></tr>\n",
              "\t<tr><td>14.02879</td><td>44.74410</td><td>-123.0556</td><td>-9999.000000</td><td> 85.23113</td><td>11.11581</td><td>3.722249</td><td>3.313339</td><td>1</td><td>4</td><td>⋯</td><td>1533.942</td><td>0.04166667</td><td>68.25000</td><td>185.1583</td><td>1031.9167</td><td>65.97500</td><td>303.9583</td><td>2021</td><td>7</td><td>1</td></tr>\n",
              "\t<tr><td>14.50465</td><td>44.75781</td><td>-123.0851</td><td>-9999.000000</td><td> 86.39748</td><td>11.11565</td><td>3.784852</td><td>3.313314</td><td>1</td><td>2</td><td>⋯</td><td>1529.958</td><td>0.04166666</td><td>67.47500</td><td>185.2167</td><td>1031.3250</td><td>65.63333</td><td>302.7833</td><td>2019</td><td>6</td><td>1</td></tr>\n",
              "\t<tr><td>14.42704</td><td>44.75807</td><td>-123.0844</td><td>-9999.000000</td><td> 86.20717</td><td>11.11548</td><td>3.774712</td><td>3.313290</td><td>1</td><td>2</td><td>⋯</td><td>1529.958</td><td>0.04166667</td><td>67.47500</td><td>185.2167</td><td>1031.3250</td><td>65.63334</td><td>302.7833</td><td>2019</td><td>6</td><td>1</td></tr>\n",
              "\t<tr><td>10.69252</td><td>44.64252</td><td>-122.7520</td><td>-9999.000000</td><td> 73.15165</td><td>10.30724</td><td>3.187463</td><td>3.129510</td><td>1</td><td>4</td><td>⋯</td><td>1542.875</td><td>0.19791666</td><td>65.64583</td><td>179.4271</td><td> 987.7396</td><td>66.00000</td><td>314.3646</td><td>2019</td><td>6</td><td>1</td></tr>\n",
              "\t<tr><td>10.38884</td><td>44.64304</td><td>-122.7532</td><td>-9999.000000</td><td> 72.35423</td><td>10.30734</td><td>3.141873</td><td>3.129525</td><td>1</td><td>4</td><td>⋯</td><td>1542.875</td><td>0.19791667</td><td>65.64583</td><td>179.4271</td><td> 987.7396</td><td>66.00000</td><td>314.3646</td><td>2019</td><td>6</td><td>1</td></tr>\n",
              "\t<tr><td>14.43202</td><td>44.75466</td><td>-123.0796</td><td>-9999.000000</td><td> 86.21816</td><td>11.11522</td><td>3.775364</td><td>3.313251</td><td>1</td><td>5</td><td>⋯</td><td>1523.714</td><td>0.04761905</td><td>65.48810</td><td>182.7857</td><td>1016.3095</td><td>65.47619</td><td>299.8333</td><td>2022</td><td>7</td><td>1</td></tr>\n",
              "\t<tr><td>14.38155</td><td>44.75543</td><td>-123.0808</td><td>-9999.000000</td><td> 86.09525</td><td>11.11534</td><td>3.768757</td><td>3.313268</td><td>1</td><td>1</td><td>⋯</td><td>1523.714</td><td>0.04761905</td><td>65.48810</td><td>182.7857</td><td>1016.3095</td><td>65.47619</td><td>299.8333</td><td>2021</td><td>6</td><td>1</td></tr>\n",
              "\t<tr><td>43.54128</td><td>44.14651</td><td>-123.0940</td><td>    1.242547</td><td>145.98604</td><td>11.10495</td><td>6.557614</td><td>3.311719</td><td>1</td><td>3</td><td>⋯</td><td>1586.111</td><td>0.00000000</td><td>70.86111</td><td>181.9722</td><td>1006.5972</td><td>68.59722</td><td>309.0278</td><td>2019</td><td>6</td><td>1</td></tr>\n",
              "\t<tr><td>14.15471</td><td>44.26545</td><td>-123.2060</td><td>-9999.000000</td><td> 85.54756</td><td>11.11723</td><td>3.738917</td><td>3.313550</td><td>1</td><td>1</td><td>⋯</td><td>1573.819</td><td>0.00000000</td><td>69.48611</td><td>182.3611</td><td>1020.8889</td><td>66.16667</td><td>307.3611</td><td>2020</td><td>6</td><td>1</td></tr>\n",
              "\t<tr><td>14.32778</td><td>44.26546</td><td>-123.2048</td><td>-9999.000000</td><td> 85.96694</td><td>11.11606</td><td>3.761705</td><td>3.313376</td><td>1</td><td>1</td><td>⋯</td><td>1573.819</td><td>0.00000000</td><td>69.48611</td><td>182.3611</td><td>1020.8889</td><td>66.16667</td><td>307.3611</td><td>2022</td><td>8</td><td>1</td></tr>\n",
              "\t<tr><td>10.69252</td><td>44.64252</td><td>-122.7520</td><td>-9999.000000</td><td> 73.15165</td><td>10.30724</td><td>3.187463</td><td>3.129510</td><td>1</td><td>4</td><td>⋯</td><td>1555.403</td><td>0.02777778</td><td>65.27778</td><td>179.8750</td><td> 979.4166</td><td>67.90278</td><td>310.4167</td><td>2019</td><td>6</td><td>1</td></tr>\n",
              "\t<tr><td>10.38884</td><td>44.64304</td><td>-122.7532</td><td>-9999.000000</td><td> 72.35423</td><td>10.30734</td><td>3.141873</td><td>3.129525</td><td>1</td><td>4</td><td>⋯</td><td>1555.403</td><td>0.02777778</td><td>65.27778</td><td>179.8750</td><td> 979.4167</td><td>67.90278</td><td>310.4167</td><td>2019</td><td>6</td><td>1</td></tr>\n",
              "\t<tr><td>14.42704</td><td>44.75807</td><td>-123.0844</td><td>-9999.000000</td><td> 86.20717</td><td>11.11548</td><td>3.774712</td><td>3.313290</td><td>1</td><td>2</td><td>⋯</td><td>1534.014</td><td>0.00000000</td><td>66.00000</td><td>183.6667</td><td>1013.4444</td><td>66.86111</td><td>296.8055</td><td>2019</td><td>6</td><td>1</td></tr>\n",
              "\t<tr><td>14.43202</td><td>44.75466</td><td>-123.0796</td><td>-9999.000000</td><td> 86.21816</td><td>11.11522</td><td>3.775364</td><td>3.313251</td><td>1</td><td>5</td><td>⋯</td><td>1525.483</td><td>0.00000000</td><td>66.33333</td><td>183.4167</td><td>1009.1167</td><td>66.85000</td><td>294.8333</td><td>2022</td><td>7</td><td>1</td></tr>\n",
              "\t<tr><td>14.38155</td><td>44.75543</td><td>-123.0808</td><td>-9999.000000</td><td> 86.09525</td><td>11.11534</td><td>3.768757</td><td>3.313268</td><td>1</td><td>1</td><td>⋯</td><td>1525.483</td><td>0.00000000</td><td>66.33333</td><td>183.4167</td><td>1009.1166</td><td>66.85000</td><td>294.8333</td><td>2021</td><td>6</td><td>1</td></tr>\n",
              "\t<tr><td>13.91838</td><td>44.74350</td><td>-123.0552</td><td>-9999.000000</td><td> 84.96147</td><td>11.11643</td><td>3.707573</td><td>3.313430</td><td>1</td><td>4</td><td>⋯</td><td>1535.583</td><td>0.00000000</td><td>69.12500</td><td>184.7708</td><td>1011.3333</td><td>68.85417</td><td>302.7083</td><td>2020</td><td>7</td><td>1</td></tr>\n",
              "\t<tr><td>14.63330</td><td>44.36527</td><td>-123.2692</td><td>-9999.000000</td><td> 86.71126</td><td>11.11569</td><td>3.801599</td><td>3.313321</td><td>1</td><td>0</td><td>⋯</td><td>1561.167</td><td>0.00000000</td><td>71.47222</td><td>183.0278</td><td>1027.0556</td><td>67.11111</td><td>306.9444</td><td>2022</td><td>6</td><td>1</td></tr>\n",
              "\t<tr><td>14.76203</td><td>44.36533</td><td>-123.2617</td><td>-9999.000000</td><td> 87.01877</td><td>11.11451</td><td>3.818284</td><td>3.313145</td><td>1</td><td>3</td><td>⋯</td><td>1561.167</td><td>0.00000000</td><td>71.47222</td><td>183.0278</td><td>1027.0556</td><td>67.11111</td><td>306.9444</td><td>2020</td><td>6</td><td>1</td></tr>\n",
              "\t<tr><td>15.10932</td><td>44.36603</td><td>-123.2619</td><td>-9999.000000</td><td> 87.86120</td><td>11.11496</td><td>3.862938</td><td>3.313212</td><td>1</td><td>0</td><td>⋯</td><td>1561.167</td><td>0.00000000</td><td>71.47222</td><td>183.0278</td><td>1027.0556</td><td>67.11111</td><td>306.9444</td><td>2019</td><td>6</td><td>1</td></tr>\n",
              "\t<tr><td>14.47760</td><td>44.36622</td><td>-123.2667</td><td>-9999.000000</td><td> 86.33017</td><td>11.11537</td><td>3.781322</td><td>3.313273</td><td>1</td><td>0</td><td>⋯</td><td>1561.167</td><td>0.00000000</td><td>71.47222</td><td>183.0278</td><td>1027.0555</td><td>67.11111</td><td>306.9444</td><td>2021</td><td>7</td><td>1</td></tr>\n",
              "\t<tr><td>15.06370</td><td>44.36634</td><td>-123.2667</td><td>-9999.000000</td><td> 87.75121</td><td>11.11498</td><td>3.857102</td><td>3.313215</td><td>1</td><td>0</td><td>⋯</td><td>1561.167</td><td>0.00000000</td><td>71.47222</td><td>183.0278</td><td>1027.0555</td><td>67.11111</td><td>306.9444</td><td>2022</td><td>7</td><td>1</td></tr>\n",
              "\t<tr><td>13.67802</td><td>44.36659</td><td>-123.2678</td><td>-9999.000000</td><td> 84.37009</td><td>11.11731</td><td>3.675420</td><td>3.313562</td><td>1</td><td>0</td><td>⋯</td><td>1561.167</td><td>0.00000000</td><td>71.47222</td><td>183.0278</td><td>1027.0556</td><td>67.11111</td><td>306.9444</td><td>2021</td><td>6</td><td>1</td></tr>\n",
              "\t<tr><td>10.69252</td><td>44.64252</td><td>-122.7520</td><td>-9999.000000</td><td> 73.15165</td><td>10.30724</td><td>3.187463</td><td>3.129510</td><td>1</td><td>4</td><td>⋯</td><td>1557.500</td><td>0.00000000</td><td>66.83333</td><td>179.5000</td><td> 978.7500</td><td>68.83333</td><td>310.0000</td><td>2019</td><td>6</td><td>1</td></tr>\n",
              "\t<tr><td>10.38884</td><td>44.64304</td><td>-122.7532</td><td>-9999.000000</td><td> 72.35423</td><td>10.30734</td><td>3.141873</td><td>3.129525</td><td>1</td><td>4</td><td>⋯</td><td>1557.500</td><td>0.00000000</td><td>66.83334</td><td>179.5000</td><td> 978.7500</td><td>68.83333</td><td>310.0000</td><td>2019</td><td>6</td><td>1</td></tr>\n",
              "\t<tr><td>14.74623</td><td>44.28872</td><td>-123.2401</td><td>-9999.000000</td><td> 86.98313</td><td>11.11510</td><td>3.816240</td><td>3.313233</td><td>1</td><td>1</td><td>⋯</td><td>1608.417</td><td>0.00000000</td><td>72.41666</td><td>183.7500</td><td>1012.5833</td><td>70.33334</td><td>307.5000</td><td>2020</td><td>6</td><td>1</td></tr>\n",
              "\t<tr><td>14.74623</td><td>44.28900</td><td>-123.2395</td><td>-9999.000000</td><td> 86.98313</td><td>11.11510</td><td>3.816240</td><td>3.313233</td><td>1</td><td>1</td><td>⋯</td><td>1608.417</td><td>0.00000000</td><td>72.41667</td><td>183.7500</td><td>1012.5833</td><td>70.33333</td><td>307.5000</td><td>2020</td><td>6</td><td>1</td></tr>\n",
              "\t<tr><td>14.83750</td><td>44.28927</td><td>-123.2389</td><td>-9999.000000</td><td> 87.20521</td><td>11.11523</td><td>3.828033</td><td>3.313252</td><td>1</td><td>1</td><td>⋯</td><td>1608.417</td><td>0.00000000</td><td>72.41667</td><td>183.7500</td><td>1012.5834</td><td>70.33334</td><td>307.5000</td><td>2020</td><td>6</td><td>1</td></tr>\n",
              "</tbody>\n",
              "</table>\n"
            ],
            "text/markdown": "\nA data.table: 176 × 116\n\n| agbd &lt;dbl&gt; | lat_lowestmode &lt;dbl&gt; | lon_lowestmode &lt;dbl&gt; | agbd_pi_lower &lt;dbl&gt; | agbd_pi_upper &lt;dbl&gt; | agbd_se &lt;dbl&gt; | agbd_t &lt;dbl&gt; | agbd_t_se &lt;dbl&gt; | algorithm_run_flag &lt;dbl&gt; | channel &lt;dbl&gt; | ⋯ ⋯ | srad &lt;dbl&gt; | swe &lt;dbl&gt; | tmmn &lt;dbl&gt; | tmmx &lt;dbl&gt; | vap &lt;dbl&gt; | vpd &lt;dbl&gt; | vs &lt;dbl&gt; | gedi_year &lt;dbl&gt; | dist_count &lt;int&gt; | one_column &lt;dbl&gt; |\n|---|---|---|---|---|---|---|---|---|---|---|---|---|---|---|---|---|---|---|---|---|\n| 14.43202 | 44.75466 | -123.0796 | -9999 | 86.21816 | 11.11522 | 3.775364 | 3.313251 | 1 | 5 | ⋯ | 1512.875 | 0.09429825 | 61.85526 | 178.6294 | 1012.419 | 60.09430 | 299.1535 | 2022 | 7 | 1 |\n| 14.50465 | 44.75781 | -123.0851 | -9999 | 86.39748 | 11.11565 | 3.784852 | 3.313314 | 1 | 2 | ⋯ | 1512.875 | 0.09429824 | 61.85526 | 178.6294 | 1012.419 | 60.09430 | 299.1535 | 2019 | 6 | 1 |\n| 14.42704 | 44.75807 | -123.0844 | -9999 | 86.20717 | 11.11548 | 3.774712 | 3.313290 | 1 | 2 | ⋯ | 1512.875 | 0.09429825 | 61.85526 | 178.6294 | 1012.419 | 60.09430 | 299.1535 | 2019 | 6 | 1 |\n| 14.11616 | 44.27430 | -123.1896 | -9999 | 85.44536 | 11.11561 | 3.733822 | 3.313308 | 1 | 3 | ⋯ | 1548.521 | 0.09285714 | 66.35000 | 177.4905 | 1014.757 | 60.93809 | 308.4619 | 2021 | 6 | 1 |\n| 14.74623 | 44.28872 | -123.2401 | -9999 | 86.98313 | 11.11510 | 3.816240 | 3.313233 | 1 | 1 | ⋯ | 1547.250 | 0.10000000 | 65.99286 | 177.3381 | 1016.621 | 60.44048 | 307.7738 | 2020 | 6 | 1 |\n| 14.74623 | 44.28900 | -123.2395 | -9999 | 86.98313 | 11.11510 | 3.816240 | 3.313233 | 1 | 1 | ⋯ | 1547.250 | 0.10000000 | 65.99286 | 177.3381 | 1016.621 | 60.44048 | 307.7738 | 2020 | 6 | 1 |\n| 14.83750 | 44.28927 | -123.2389 | -9999 | 87.20521 | 11.11523 | 3.828033 | 3.313252 | 1 | 1 | ⋯ | 1547.250 | 0.10000000 | 65.99286 | 177.3381 | 1016.621 | 60.44048 | 307.7738 | 2020 | 6 | 1 |\n| 15.10932 | 44.36676 | -123.2655 | -9999 | 87.86120 | 11.11496 | 3.862938 | 3.313212 | 1 | 0 | ⋯ | 1539.221 | 0.09761905 | 65.56905 | 177.0524 | 1020.802 | 59.43095 | 306.5286 | 2021 | 6 | 1 |\n| 15.52197 | 44.36688 | -123.2655 | -9999 | 88.85085 | 11.11465 | 3.915332 | 3.313165 | 1 | 0 | ⋯ | 1539.221 | 0.09761905 | 65.56905 | 177.0524 | 1020.802 | 59.43095 | 306.5286 | 2022 | 6 | 1 |\n| 14.15471 | 44.26545 | -123.2060 | -9999 | 85.54756 | 11.11723 | 3.738917 | 3.313550 | 1 | 1 | ⋯ | 1547.174 | 0.09068628 | 66.19118 | 177.4216 | 1016.539 | 60.57843 | 308.5637 | 2020 | 6 | 1 |\n| 14.32778 | 44.26546 | -123.2048 | -9999 | 85.96694 | 11.11606 | 3.761705 | 3.313376 | 1 | 1 | ⋯ | 1547.174 | 0.09068627 | 66.19118 | 177.4216 | 1016.539 | 60.57843 | 308.5637 | 2022 | 8 | 1 |\n| 14.11616 | 44.27430 | -123.1896 | -9999 | 85.44536 | 11.11561 | 3.733822 | 3.313308 | 1 | 3 | ⋯ | 1549.326 | 0.03787879 | 66.67172 | 177.6035 | 1013.460 | 61.22222 | 309.5985 | 2021 | 6 | 1 |\n| 14.74623 | 44.28872 | -123.2401 | -9999 | 86.98313 | 11.11510 | 3.816240 | 3.313233 | 1 | 1 | ⋯ | 1547.654 | 0.03906250 | 66.45313 | 177.4349 | 1014.977 | 60.79687 | 309.4740 | 2020 | 6 | 1 |\n| 14.74623 | 44.28900 | -123.2395 | -9999 | 86.98313 | 11.11510 | 3.816240 | 3.313233 | 1 | 1 | ⋯ | 1547.654 | 0.03906250 | 66.45313 | 177.4349 | 1014.977 | 60.79687 | 309.4740 | 2020 | 6 | 1 |\n| 14.83750 | 44.28927 | -123.2389 | -9999 | 87.20521 | 11.11523 | 3.828033 | 3.313252 | 1 | 1 | ⋯ | 1547.654 | 0.03906250 | 66.45313 | 177.4349 | 1014.977 | 60.79688 | 309.4740 | 2020 | 6 | 1 |\n| 14.51558 | 44.31516 | -123.2264 | -9999 | 86.42250 | 11.11528 | 3.786278 | 3.313260 | 1 | 2 | ⋯ | 1545.263 | 0.03645833 | 66.48958 | 177.6693 | 1016.078 | 60.75521 | 308.3958 | 2022 | 6 | 1 |\n| 13.91838 | 44.74350 | -123.0552 | -9999 | 84.96147 | 11.11643 | 3.707573 | 3.313430 | 1 | 4 | ⋯ | 1516.227 | 0.03906250 | 63.45052 | 178.4036 | 1010.307 | 60.82552 | 302.6979 | 2020 | 7 | 1 |\n| 14.02879 | 44.74410 | -123.0556 | -9999 | 85.23113 | 11.11581 | 3.722249 | 3.313339 | 1 | 4 | ⋯ | 1516.227 | 0.03906250 | 63.45052 | 178.4036 | 1010.307 | 60.82552 | 302.6979 | 2021 | 7 | 1 |\n| 14.15471 | 44.26545 | -123.2060 | -9999 | 85.54756 | 11.11723 | 3.738917 | 3.313550 | 1 | 1 | ⋯ | 1544.648 | 0.04032258 | 66.33602 | 176.9382 | 1013.465 | 60.57258 | 310.1075 | 2020 | 6 | 1 |\n| 14.32778 | 44.26546 | -123.2048 | -9999 | 85.96694 | 11.11606 | 3.761705 | 3.313376 | 1 | 1 | ⋯ | 1544.648 | 0.04032258 | 66.33602 | 176.9382 | 1013.465 | 60.57258 | 310.1075 | 2022 | 8 | 1 |\n| 14.63330 | 44.36527 | -123.2692 | -9999 | 86.71126 | 11.11569 | 3.801599 | 3.313321 | 1 | 0 | ⋯ | 1536.634 | 0.03763441 | 65.93011 | 176.6613 | 1017.613 | 59.57527 | 308.8145 | 2022 | 6 | 1 |\n| 14.76203 | 44.36533 | -123.2617 | -9999 | 87.01877 | 11.11451 | 3.818284 | 3.313145 | 1 | 3 | ⋯ | 1536.634 | 0.03763441 | 65.93011 | 176.6613 | 1017.613 | 59.57527 | 308.8145 | 2020 | 6 | 1 |\n| 14.89971 | 44.36595 | -123.2673 | -9999 | 87.35379 | 11.11477 | 3.836050 | 3.313183 | 1 | 0 | ⋯ | 1536.634 | 0.03763441 | 65.93011 | 176.6613 | 1017.613 | 59.57527 | 308.8145 | 2021 | 6 | 1 |\n| 15.10932 | 44.36603 | -123.2619 | -9999 | 87.86120 | 11.11496 | 3.862938 | 3.313212 | 1 | 0 | ⋯ | 1536.634 | 0.03763441 | 65.93011 | 176.6613 | 1017.613 | 59.57527 | 308.8145 | 2019 | 6 | 1 |\n| 15.01722 | 44.36607 | -123.2673 | -9999 | 87.63830 | 11.11484 | 3.851146 | 3.313194 | 1 | 0 | ⋯ | 1536.634 | 0.03763441 | 65.93011 | 176.6613 | 1017.613 | 59.57527 | 308.8145 | 2022 | 7 | 1 |\n| 14.47760 | 44.36622 | -123.2667 | -9999 | 86.33017 | 11.11537 | 3.781322 | 3.313273 | 1 | 0 | ⋯ | 1536.634 | 0.03763441 | 65.93011 | 176.6613 | 1017.613 | 59.57527 | 308.8145 | 2021 | 7 | 1 |\n| 15.06370 | 44.36634 | -123.2667 | -9999 | 87.75121 | 11.11498 | 3.857102 | 3.313215 | 1 | 0 | ⋯ | 1536.634 | 0.03763441 | 65.93011 | 176.6613 | 1017.613 | 59.57527 | 308.8145 | 2022 | 7 | 1 |\n| 14.33115 | 44.36649 | -123.2661 | -9999 | 85.97239 | 11.11545 | 3.762147 | 3.313285 | 1 | 0 | ⋯ | 1536.634 | 0.03763441 | 65.93011 | 176.6613 | 1017.613 | 59.57527 | 308.8145 | 2021 | 6 | 1 |\n| 13.67802 | 44.36659 | -123.2678 | -9999 | 84.37009 | 11.11731 | 3.675420 | 3.313562 | 1 | 0 | ⋯ | 1536.634 | 0.03763441 | 65.93011 | 176.6613 | 1017.613 | 59.57527 | 308.8145 | 2021 | 6 | 1 |\n| 15.38954 | 44.36661 | -123.2661 | -9999 | 88.53343 | 11.11460 | 3.898594 | 3.313159 | 1 | 0 | ⋯ | 1536.634 | 0.03763441 | 65.93011 | 176.6613 | 1017.613 | 59.57527 | 308.8145 | 2022 | 6 | 1 |\n| ⋮ | ⋮ | ⋮ | ⋮ | ⋮ | ⋮ | ⋮ | ⋮ | ⋮ | ⋮ | ⋱ | ⋮ | ⋮ | ⋮ | ⋮ | ⋮ | ⋮ | ⋮ | ⋮ | ⋮ | ⋮ |\n| 14.89971 | 44.36595 | -123.2673 | -9999.000000 |  87.35379 | 11.11477 | 3.836050 | 3.313183 | 1 | 0 | ⋯ | 1559.933 | 0.02500000 | 70.64167 | 183.8083 | 1041.7667 | 64.38333 | 310.6750 | 2021 | 6 | 1 |\n| 15.10932 | 44.36603 | -123.2619 | -9999.000000 |  87.86120 | 11.11496 | 3.862938 | 3.313212 | 1 | 0 | ⋯ | 1559.933 | 0.02500000 | 70.64167 | 183.8083 | 1041.7667 | 64.38333 | 310.6750 | 2019 | 6 | 1 |\n| 15.01722 | 44.36607 | -123.2673 | -9999.000000 |  87.63830 | 11.11484 | 3.851146 | 3.313194 | 1 | 0 | ⋯ | 1559.933 | 0.02500000 | 70.64167 | 183.8083 | 1041.7667 | 64.38333 | 310.6750 | 2022 | 7 | 1 |\n| 14.02879 | 44.74410 | -123.0556 | -9999.000000 |  85.23113 | 11.11581 | 3.722249 | 3.313339 | 1 | 4 | ⋯ | 1533.942 | 0.04166667 | 68.25000 | 185.1583 | 1031.9167 | 65.97500 | 303.9583 | 2021 | 7 | 1 |\n| 14.50465 | 44.75781 | -123.0851 | -9999.000000 |  86.39748 | 11.11565 | 3.784852 | 3.313314 | 1 | 2 | ⋯ | 1529.958 | 0.04166666 | 67.47500 | 185.2167 | 1031.3250 | 65.63333 | 302.7833 | 2019 | 6 | 1 |\n| 14.42704 | 44.75807 | -123.0844 | -9999.000000 |  86.20717 | 11.11548 | 3.774712 | 3.313290 | 1 | 2 | ⋯ | 1529.958 | 0.04166667 | 67.47500 | 185.2167 | 1031.3250 | 65.63334 | 302.7833 | 2019 | 6 | 1 |\n| 10.69252 | 44.64252 | -122.7520 | -9999.000000 |  73.15165 | 10.30724 | 3.187463 | 3.129510 | 1 | 4 | ⋯ | 1542.875 | 0.19791666 | 65.64583 | 179.4271 |  987.7396 | 66.00000 | 314.3646 | 2019 | 6 | 1 |\n| 10.38884 | 44.64304 | -122.7532 | -9999.000000 |  72.35423 | 10.30734 | 3.141873 | 3.129525 | 1 | 4 | ⋯ | 1542.875 | 0.19791667 | 65.64583 | 179.4271 |  987.7396 | 66.00000 | 314.3646 | 2019 | 6 | 1 |\n| 14.43202 | 44.75466 | -123.0796 | -9999.000000 |  86.21816 | 11.11522 | 3.775364 | 3.313251 | 1 | 5 | ⋯ | 1523.714 | 0.04761905 | 65.48810 | 182.7857 | 1016.3095 | 65.47619 | 299.8333 | 2022 | 7 | 1 |\n| 14.38155 | 44.75543 | -123.0808 | -9999.000000 |  86.09525 | 11.11534 | 3.768757 | 3.313268 | 1 | 1 | ⋯ | 1523.714 | 0.04761905 | 65.48810 | 182.7857 | 1016.3095 | 65.47619 | 299.8333 | 2021 | 6 | 1 |\n| 43.54128 | 44.14651 | -123.0940 |     1.242547 | 145.98604 | 11.10495 | 6.557614 | 3.311719 | 1 | 3 | ⋯ | 1586.111 | 0.00000000 | 70.86111 | 181.9722 | 1006.5972 | 68.59722 | 309.0278 | 2019 | 6 | 1 |\n| 14.15471 | 44.26545 | -123.2060 | -9999.000000 |  85.54756 | 11.11723 | 3.738917 | 3.313550 | 1 | 1 | ⋯ | 1573.819 | 0.00000000 | 69.48611 | 182.3611 | 1020.8889 | 66.16667 | 307.3611 | 2020 | 6 | 1 |\n| 14.32778 | 44.26546 | -123.2048 | -9999.000000 |  85.96694 | 11.11606 | 3.761705 | 3.313376 | 1 | 1 | ⋯ | 1573.819 | 0.00000000 | 69.48611 | 182.3611 | 1020.8889 | 66.16667 | 307.3611 | 2022 | 8 | 1 |\n| 10.69252 | 44.64252 | -122.7520 | -9999.000000 |  73.15165 | 10.30724 | 3.187463 | 3.129510 | 1 | 4 | ⋯ | 1555.403 | 0.02777778 | 65.27778 | 179.8750 |  979.4166 | 67.90278 | 310.4167 | 2019 | 6 | 1 |\n| 10.38884 | 44.64304 | -122.7532 | -9999.000000 |  72.35423 | 10.30734 | 3.141873 | 3.129525 | 1 | 4 | ⋯ | 1555.403 | 0.02777778 | 65.27778 | 179.8750 |  979.4167 | 67.90278 | 310.4167 | 2019 | 6 | 1 |\n| 14.42704 | 44.75807 | -123.0844 | -9999.000000 |  86.20717 | 11.11548 | 3.774712 | 3.313290 | 1 | 2 | ⋯ | 1534.014 | 0.00000000 | 66.00000 | 183.6667 | 1013.4444 | 66.86111 | 296.8055 | 2019 | 6 | 1 |\n| 14.43202 | 44.75466 | -123.0796 | -9999.000000 |  86.21816 | 11.11522 | 3.775364 | 3.313251 | 1 | 5 | ⋯ | 1525.483 | 0.00000000 | 66.33333 | 183.4167 | 1009.1167 | 66.85000 | 294.8333 | 2022 | 7 | 1 |\n| 14.38155 | 44.75543 | -123.0808 | -9999.000000 |  86.09525 | 11.11534 | 3.768757 | 3.313268 | 1 | 1 | ⋯ | 1525.483 | 0.00000000 | 66.33333 | 183.4167 | 1009.1166 | 66.85000 | 294.8333 | 2021 | 6 | 1 |\n| 13.91838 | 44.74350 | -123.0552 | -9999.000000 |  84.96147 | 11.11643 | 3.707573 | 3.313430 | 1 | 4 | ⋯ | 1535.583 | 0.00000000 | 69.12500 | 184.7708 | 1011.3333 | 68.85417 | 302.7083 | 2020 | 7 | 1 |\n| 14.63330 | 44.36527 | -123.2692 | -9999.000000 |  86.71126 | 11.11569 | 3.801599 | 3.313321 | 1 | 0 | ⋯ | 1561.167 | 0.00000000 | 71.47222 | 183.0278 | 1027.0556 | 67.11111 | 306.9444 | 2022 | 6 | 1 |\n| 14.76203 | 44.36533 | -123.2617 | -9999.000000 |  87.01877 | 11.11451 | 3.818284 | 3.313145 | 1 | 3 | ⋯ | 1561.167 | 0.00000000 | 71.47222 | 183.0278 | 1027.0556 | 67.11111 | 306.9444 | 2020 | 6 | 1 |\n| 15.10932 | 44.36603 | -123.2619 | -9999.000000 |  87.86120 | 11.11496 | 3.862938 | 3.313212 | 1 | 0 | ⋯ | 1561.167 | 0.00000000 | 71.47222 | 183.0278 | 1027.0556 | 67.11111 | 306.9444 | 2019 | 6 | 1 |\n| 14.47760 | 44.36622 | -123.2667 | -9999.000000 |  86.33017 | 11.11537 | 3.781322 | 3.313273 | 1 | 0 | ⋯ | 1561.167 | 0.00000000 | 71.47222 | 183.0278 | 1027.0555 | 67.11111 | 306.9444 | 2021 | 7 | 1 |\n| 15.06370 | 44.36634 | -123.2667 | -9999.000000 |  87.75121 | 11.11498 | 3.857102 | 3.313215 | 1 | 0 | ⋯ | 1561.167 | 0.00000000 | 71.47222 | 183.0278 | 1027.0555 | 67.11111 | 306.9444 | 2022 | 7 | 1 |\n| 13.67802 | 44.36659 | -123.2678 | -9999.000000 |  84.37009 | 11.11731 | 3.675420 | 3.313562 | 1 | 0 | ⋯ | 1561.167 | 0.00000000 | 71.47222 | 183.0278 | 1027.0556 | 67.11111 | 306.9444 | 2021 | 6 | 1 |\n| 10.69252 | 44.64252 | -122.7520 | -9999.000000 |  73.15165 | 10.30724 | 3.187463 | 3.129510 | 1 | 4 | ⋯ | 1557.500 | 0.00000000 | 66.83333 | 179.5000 |  978.7500 | 68.83333 | 310.0000 | 2019 | 6 | 1 |\n| 10.38884 | 44.64304 | -122.7532 | -9999.000000 |  72.35423 | 10.30734 | 3.141873 | 3.129525 | 1 | 4 | ⋯ | 1557.500 | 0.00000000 | 66.83334 | 179.5000 |  978.7500 | 68.83333 | 310.0000 | 2019 | 6 | 1 |\n| 14.74623 | 44.28872 | -123.2401 | -9999.000000 |  86.98313 | 11.11510 | 3.816240 | 3.313233 | 1 | 1 | ⋯ | 1608.417 | 0.00000000 | 72.41666 | 183.7500 | 1012.5833 | 70.33334 | 307.5000 | 2020 | 6 | 1 |\n| 14.74623 | 44.28900 | -123.2395 | -9999.000000 |  86.98313 | 11.11510 | 3.816240 | 3.313233 | 1 | 1 | ⋯ | 1608.417 | 0.00000000 | 72.41667 | 183.7500 | 1012.5833 | 70.33333 | 307.5000 | 2020 | 6 | 1 |\n| 14.83750 | 44.28927 | -123.2389 | -9999.000000 |  87.20521 | 11.11523 | 3.828033 | 3.313252 | 1 | 1 | ⋯ | 1608.417 | 0.00000000 | 72.41667 | 183.7500 | 1012.5834 | 70.33334 | 307.5000 | 2020 | 6 | 1 |\n\n",
            "text/latex": "A data.table: 176 × 116\n\\begin{tabular}{lllllllllllllllllllll}\n agbd & lat\\_lowestmode & lon\\_lowestmode & agbd\\_pi\\_lower & agbd\\_pi\\_upper & agbd\\_se & agbd\\_t & agbd\\_t\\_se & algorithm\\_run\\_flag & channel & ⋯ & srad & swe & tmmn & tmmx & vap & vpd & vs & gedi\\_year & dist\\_count & one\\_column\\\\\n <dbl> & <dbl> & <dbl> & <dbl> & <dbl> & <dbl> & <dbl> & <dbl> & <dbl> & <dbl> & ⋯ & <dbl> & <dbl> & <dbl> & <dbl> & <dbl> & <dbl> & <dbl> & <dbl> & <int> & <dbl>\\\\\n\\hline\n\t 14.43202 & 44.75466 & -123.0796 & -9999 & 86.21816 & 11.11522 & 3.775364 & 3.313251 & 1 & 5 & ⋯ & 1512.875 & 0.09429825 & 61.85526 & 178.6294 & 1012.419 & 60.09430 & 299.1535 & 2022 & 7 & 1\\\\\n\t 14.50465 & 44.75781 & -123.0851 & -9999 & 86.39748 & 11.11565 & 3.784852 & 3.313314 & 1 & 2 & ⋯ & 1512.875 & 0.09429824 & 61.85526 & 178.6294 & 1012.419 & 60.09430 & 299.1535 & 2019 & 6 & 1\\\\\n\t 14.42704 & 44.75807 & -123.0844 & -9999 & 86.20717 & 11.11548 & 3.774712 & 3.313290 & 1 & 2 & ⋯ & 1512.875 & 0.09429825 & 61.85526 & 178.6294 & 1012.419 & 60.09430 & 299.1535 & 2019 & 6 & 1\\\\\n\t 14.11616 & 44.27430 & -123.1896 & -9999 & 85.44536 & 11.11561 & 3.733822 & 3.313308 & 1 & 3 & ⋯ & 1548.521 & 0.09285714 & 66.35000 & 177.4905 & 1014.757 & 60.93809 & 308.4619 & 2021 & 6 & 1\\\\\n\t 14.74623 & 44.28872 & -123.2401 & -9999 & 86.98313 & 11.11510 & 3.816240 & 3.313233 & 1 & 1 & ⋯ & 1547.250 & 0.10000000 & 65.99286 & 177.3381 & 1016.621 & 60.44048 & 307.7738 & 2020 & 6 & 1\\\\\n\t 14.74623 & 44.28900 & -123.2395 & -9999 & 86.98313 & 11.11510 & 3.816240 & 3.313233 & 1 & 1 & ⋯ & 1547.250 & 0.10000000 & 65.99286 & 177.3381 & 1016.621 & 60.44048 & 307.7738 & 2020 & 6 & 1\\\\\n\t 14.83750 & 44.28927 & -123.2389 & -9999 & 87.20521 & 11.11523 & 3.828033 & 3.313252 & 1 & 1 & ⋯ & 1547.250 & 0.10000000 & 65.99286 & 177.3381 & 1016.621 & 60.44048 & 307.7738 & 2020 & 6 & 1\\\\\n\t 15.10932 & 44.36676 & -123.2655 & -9999 & 87.86120 & 11.11496 & 3.862938 & 3.313212 & 1 & 0 & ⋯ & 1539.221 & 0.09761905 & 65.56905 & 177.0524 & 1020.802 & 59.43095 & 306.5286 & 2021 & 6 & 1\\\\\n\t 15.52197 & 44.36688 & -123.2655 & -9999 & 88.85085 & 11.11465 & 3.915332 & 3.313165 & 1 & 0 & ⋯ & 1539.221 & 0.09761905 & 65.56905 & 177.0524 & 1020.802 & 59.43095 & 306.5286 & 2022 & 6 & 1\\\\\n\t 14.15471 & 44.26545 & -123.2060 & -9999 & 85.54756 & 11.11723 & 3.738917 & 3.313550 & 1 & 1 & ⋯ & 1547.174 & 0.09068628 & 66.19118 & 177.4216 & 1016.539 & 60.57843 & 308.5637 & 2020 & 6 & 1\\\\\n\t 14.32778 & 44.26546 & -123.2048 & -9999 & 85.96694 & 11.11606 & 3.761705 & 3.313376 & 1 & 1 & ⋯ & 1547.174 & 0.09068627 & 66.19118 & 177.4216 & 1016.539 & 60.57843 & 308.5637 & 2022 & 8 & 1\\\\\n\t 14.11616 & 44.27430 & -123.1896 & -9999 & 85.44536 & 11.11561 & 3.733822 & 3.313308 & 1 & 3 & ⋯ & 1549.326 & 0.03787879 & 66.67172 & 177.6035 & 1013.460 & 61.22222 & 309.5985 & 2021 & 6 & 1\\\\\n\t 14.74623 & 44.28872 & -123.2401 & -9999 & 86.98313 & 11.11510 & 3.816240 & 3.313233 & 1 & 1 & ⋯ & 1547.654 & 0.03906250 & 66.45313 & 177.4349 & 1014.977 & 60.79687 & 309.4740 & 2020 & 6 & 1\\\\\n\t 14.74623 & 44.28900 & -123.2395 & -9999 & 86.98313 & 11.11510 & 3.816240 & 3.313233 & 1 & 1 & ⋯ & 1547.654 & 0.03906250 & 66.45313 & 177.4349 & 1014.977 & 60.79687 & 309.4740 & 2020 & 6 & 1\\\\\n\t 14.83750 & 44.28927 & -123.2389 & -9999 & 87.20521 & 11.11523 & 3.828033 & 3.313252 & 1 & 1 & ⋯ & 1547.654 & 0.03906250 & 66.45313 & 177.4349 & 1014.977 & 60.79688 & 309.4740 & 2020 & 6 & 1\\\\\n\t 14.51558 & 44.31516 & -123.2264 & -9999 & 86.42250 & 11.11528 & 3.786278 & 3.313260 & 1 & 2 & ⋯ & 1545.263 & 0.03645833 & 66.48958 & 177.6693 & 1016.078 & 60.75521 & 308.3958 & 2022 & 6 & 1\\\\\n\t 13.91838 & 44.74350 & -123.0552 & -9999 & 84.96147 & 11.11643 & 3.707573 & 3.313430 & 1 & 4 & ⋯ & 1516.227 & 0.03906250 & 63.45052 & 178.4036 & 1010.307 & 60.82552 & 302.6979 & 2020 & 7 & 1\\\\\n\t 14.02879 & 44.74410 & -123.0556 & -9999 & 85.23113 & 11.11581 & 3.722249 & 3.313339 & 1 & 4 & ⋯ & 1516.227 & 0.03906250 & 63.45052 & 178.4036 & 1010.307 & 60.82552 & 302.6979 & 2021 & 7 & 1\\\\\n\t 14.15471 & 44.26545 & -123.2060 & -9999 & 85.54756 & 11.11723 & 3.738917 & 3.313550 & 1 & 1 & ⋯ & 1544.648 & 0.04032258 & 66.33602 & 176.9382 & 1013.465 & 60.57258 & 310.1075 & 2020 & 6 & 1\\\\\n\t 14.32778 & 44.26546 & -123.2048 & -9999 & 85.96694 & 11.11606 & 3.761705 & 3.313376 & 1 & 1 & ⋯ & 1544.648 & 0.04032258 & 66.33602 & 176.9382 & 1013.465 & 60.57258 & 310.1075 & 2022 & 8 & 1\\\\\n\t 14.63330 & 44.36527 & -123.2692 & -9999 & 86.71126 & 11.11569 & 3.801599 & 3.313321 & 1 & 0 & ⋯ & 1536.634 & 0.03763441 & 65.93011 & 176.6613 & 1017.613 & 59.57527 & 308.8145 & 2022 & 6 & 1\\\\\n\t 14.76203 & 44.36533 & -123.2617 & -9999 & 87.01877 & 11.11451 & 3.818284 & 3.313145 & 1 & 3 & ⋯ & 1536.634 & 0.03763441 & 65.93011 & 176.6613 & 1017.613 & 59.57527 & 308.8145 & 2020 & 6 & 1\\\\\n\t 14.89971 & 44.36595 & -123.2673 & -9999 & 87.35379 & 11.11477 & 3.836050 & 3.313183 & 1 & 0 & ⋯ & 1536.634 & 0.03763441 & 65.93011 & 176.6613 & 1017.613 & 59.57527 & 308.8145 & 2021 & 6 & 1\\\\\n\t 15.10932 & 44.36603 & -123.2619 & -9999 & 87.86120 & 11.11496 & 3.862938 & 3.313212 & 1 & 0 & ⋯ & 1536.634 & 0.03763441 & 65.93011 & 176.6613 & 1017.613 & 59.57527 & 308.8145 & 2019 & 6 & 1\\\\\n\t 15.01722 & 44.36607 & -123.2673 & -9999 & 87.63830 & 11.11484 & 3.851146 & 3.313194 & 1 & 0 & ⋯ & 1536.634 & 0.03763441 & 65.93011 & 176.6613 & 1017.613 & 59.57527 & 308.8145 & 2022 & 7 & 1\\\\\n\t 14.47760 & 44.36622 & -123.2667 & -9999 & 86.33017 & 11.11537 & 3.781322 & 3.313273 & 1 & 0 & ⋯ & 1536.634 & 0.03763441 & 65.93011 & 176.6613 & 1017.613 & 59.57527 & 308.8145 & 2021 & 7 & 1\\\\\n\t 15.06370 & 44.36634 & -123.2667 & -9999 & 87.75121 & 11.11498 & 3.857102 & 3.313215 & 1 & 0 & ⋯ & 1536.634 & 0.03763441 & 65.93011 & 176.6613 & 1017.613 & 59.57527 & 308.8145 & 2022 & 7 & 1\\\\\n\t 14.33115 & 44.36649 & -123.2661 & -9999 & 85.97239 & 11.11545 & 3.762147 & 3.313285 & 1 & 0 & ⋯ & 1536.634 & 0.03763441 & 65.93011 & 176.6613 & 1017.613 & 59.57527 & 308.8145 & 2021 & 6 & 1\\\\\n\t 13.67802 & 44.36659 & -123.2678 & -9999 & 84.37009 & 11.11731 & 3.675420 & 3.313562 & 1 & 0 & ⋯ & 1536.634 & 0.03763441 & 65.93011 & 176.6613 & 1017.613 & 59.57527 & 308.8145 & 2021 & 6 & 1\\\\\n\t 15.38954 & 44.36661 & -123.2661 & -9999 & 88.53343 & 11.11460 & 3.898594 & 3.313159 & 1 & 0 & ⋯ & 1536.634 & 0.03763441 & 65.93011 & 176.6613 & 1017.613 & 59.57527 & 308.8145 & 2022 & 6 & 1\\\\\n\t ⋮ & ⋮ & ⋮ & ⋮ & ⋮ & ⋮ & ⋮ & ⋮ & ⋮ & ⋮ & ⋱ & ⋮ & ⋮ & ⋮ & ⋮ & ⋮ & ⋮ & ⋮ & ⋮ & ⋮ & ⋮\\\\\n\t 14.89971 & 44.36595 & -123.2673 & -9999.000000 &  87.35379 & 11.11477 & 3.836050 & 3.313183 & 1 & 0 & ⋯ & 1559.933 & 0.02500000 & 70.64167 & 183.8083 & 1041.7667 & 64.38333 & 310.6750 & 2021 & 6 & 1\\\\\n\t 15.10932 & 44.36603 & -123.2619 & -9999.000000 &  87.86120 & 11.11496 & 3.862938 & 3.313212 & 1 & 0 & ⋯ & 1559.933 & 0.02500000 & 70.64167 & 183.8083 & 1041.7667 & 64.38333 & 310.6750 & 2019 & 6 & 1\\\\\n\t 15.01722 & 44.36607 & -123.2673 & -9999.000000 &  87.63830 & 11.11484 & 3.851146 & 3.313194 & 1 & 0 & ⋯ & 1559.933 & 0.02500000 & 70.64167 & 183.8083 & 1041.7667 & 64.38333 & 310.6750 & 2022 & 7 & 1\\\\\n\t 14.02879 & 44.74410 & -123.0556 & -9999.000000 &  85.23113 & 11.11581 & 3.722249 & 3.313339 & 1 & 4 & ⋯ & 1533.942 & 0.04166667 & 68.25000 & 185.1583 & 1031.9167 & 65.97500 & 303.9583 & 2021 & 7 & 1\\\\\n\t 14.50465 & 44.75781 & -123.0851 & -9999.000000 &  86.39748 & 11.11565 & 3.784852 & 3.313314 & 1 & 2 & ⋯ & 1529.958 & 0.04166666 & 67.47500 & 185.2167 & 1031.3250 & 65.63333 & 302.7833 & 2019 & 6 & 1\\\\\n\t 14.42704 & 44.75807 & -123.0844 & -9999.000000 &  86.20717 & 11.11548 & 3.774712 & 3.313290 & 1 & 2 & ⋯ & 1529.958 & 0.04166667 & 67.47500 & 185.2167 & 1031.3250 & 65.63334 & 302.7833 & 2019 & 6 & 1\\\\\n\t 10.69252 & 44.64252 & -122.7520 & -9999.000000 &  73.15165 & 10.30724 & 3.187463 & 3.129510 & 1 & 4 & ⋯ & 1542.875 & 0.19791666 & 65.64583 & 179.4271 &  987.7396 & 66.00000 & 314.3646 & 2019 & 6 & 1\\\\\n\t 10.38884 & 44.64304 & -122.7532 & -9999.000000 &  72.35423 & 10.30734 & 3.141873 & 3.129525 & 1 & 4 & ⋯ & 1542.875 & 0.19791667 & 65.64583 & 179.4271 &  987.7396 & 66.00000 & 314.3646 & 2019 & 6 & 1\\\\\n\t 14.43202 & 44.75466 & -123.0796 & -9999.000000 &  86.21816 & 11.11522 & 3.775364 & 3.313251 & 1 & 5 & ⋯ & 1523.714 & 0.04761905 & 65.48810 & 182.7857 & 1016.3095 & 65.47619 & 299.8333 & 2022 & 7 & 1\\\\\n\t 14.38155 & 44.75543 & -123.0808 & -9999.000000 &  86.09525 & 11.11534 & 3.768757 & 3.313268 & 1 & 1 & ⋯ & 1523.714 & 0.04761905 & 65.48810 & 182.7857 & 1016.3095 & 65.47619 & 299.8333 & 2021 & 6 & 1\\\\\n\t 43.54128 & 44.14651 & -123.0940 &     1.242547 & 145.98604 & 11.10495 & 6.557614 & 3.311719 & 1 & 3 & ⋯ & 1586.111 & 0.00000000 & 70.86111 & 181.9722 & 1006.5972 & 68.59722 & 309.0278 & 2019 & 6 & 1\\\\\n\t 14.15471 & 44.26545 & -123.2060 & -9999.000000 &  85.54756 & 11.11723 & 3.738917 & 3.313550 & 1 & 1 & ⋯ & 1573.819 & 0.00000000 & 69.48611 & 182.3611 & 1020.8889 & 66.16667 & 307.3611 & 2020 & 6 & 1\\\\\n\t 14.32778 & 44.26546 & -123.2048 & -9999.000000 &  85.96694 & 11.11606 & 3.761705 & 3.313376 & 1 & 1 & ⋯ & 1573.819 & 0.00000000 & 69.48611 & 182.3611 & 1020.8889 & 66.16667 & 307.3611 & 2022 & 8 & 1\\\\\n\t 10.69252 & 44.64252 & -122.7520 & -9999.000000 &  73.15165 & 10.30724 & 3.187463 & 3.129510 & 1 & 4 & ⋯ & 1555.403 & 0.02777778 & 65.27778 & 179.8750 &  979.4166 & 67.90278 & 310.4167 & 2019 & 6 & 1\\\\\n\t 10.38884 & 44.64304 & -122.7532 & -9999.000000 &  72.35423 & 10.30734 & 3.141873 & 3.129525 & 1 & 4 & ⋯ & 1555.403 & 0.02777778 & 65.27778 & 179.8750 &  979.4167 & 67.90278 & 310.4167 & 2019 & 6 & 1\\\\\n\t 14.42704 & 44.75807 & -123.0844 & -9999.000000 &  86.20717 & 11.11548 & 3.774712 & 3.313290 & 1 & 2 & ⋯ & 1534.014 & 0.00000000 & 66.00000 & 183.6667 & 1013.4444 & 66.86111 & 296.8055 & 2019 & 6 & 1\\\\\n\t 14.43202 & 44.75466 & -123.0796 & -9999.000000 &  86.21816 & 11.11522 & 3.775364 & 3.313251 & 1 & 5 & ⋯ & 1525.483 & 0.00000000 & 66.33333 & 183.4167 & 1009.1167 & 66.85000 & 294.8333 & 2022 & 7 & 1\\\\\n\t 14.38155 & 44.75543 & -123.0808 & -9999.000000 &  86.09525 & 11.11534 & 3.768757 & 3.313268 & 1 & 1 & ⋯ & 1525.483 & 0.00000000 & 66.33333 & 183.4167 & 1009.1166 & 66.85000 & 294.8333 & 2021 & 6 & 1\\\\\n\t 13.91838 & 44.74350 & -123.0552 & -9999.000000 &  84.96147 & 11.11643 & 3.707573 & 3.313430 & 1 & 4 & ⋯ & 1535.583 & 0.00000000 & 69.12500 & 184.7708 & 1011.3333 & 68.85417 & 302.7083 & 2020 & 7 & 1\\\\\n\t 14.63330 & 44.36527 & -123.2692 & -9999.000000 &  86.71126 & 11.11569 & 3.801599 & 3.313321 & 1 & 0 & ⋯ & 1561.167 & 0.00000000 & 71.47222 & 183.0278 & 1027.0556 & 67.11111 & 306.9444 & 2022 & 6 & 1\\\\\n\t 14.76203 & 44.36533 & -123.2617 & -9999.000000 &  87.01877 & 11.11451 & 3.818284 & 3.313145 & 1 & 3 & ⋯ & 1561.167 & 0.00000000 & 71.47222 & 183.0278 & 1027.0556 & 67.11111 & 306.9444 & 2020 & 6 & 1\\\\\n\t 15.10932 & 44.36603 & -123.2619 & -9999.000000 &  87.86120 & 11.11496 & 3.862938 & 3.313212 & 1 & 0 & ⋯ & 1561.167 & 0.00000000 & 71.47222 & 183.0278 & 1027.0556 & 67.11111 & 306.9444 & 2019 & 6 & 1\\\\\n\t 14.47760 & 44.36622 & -123.2667 & -9999.000000 &  86.33017 & 11.11537 & 3.781322 & 3.313273 & 1 & 0 & ⋯ & 1561.167 & 0.00000000 & 71.47222 & 183.0278 & 1027.0555 & 67.11111 & 306.9444 & 2021 & 7 & 1\\\\\n\t 15.06370 & 44.36634 & -123.2667 & -9999.000000 &  87.75121 & 11.11498 & 3.857102 & 3.313215 & 1 & 0 & ⋯ & 1561.167 & 0.00000000 & 71.47222 & 183.0278 & 1027.0555 & 67.11111 & 306.9444 & 2022 & 7 & 1\\\\\n\t 13.67802 & 44.36659 & -123.2678 & -9999.000000 &  84.37009 & 11.11731 & 3.675420 & 3.313562 & 1 & 0 & ⋯ & 1561.167 & 0.00000000 & 71.47222 & 183.0278 & 1027.0556 & 67.11111 & 306.9444 & 2021 & 6 & 1\\\\\n\t 10.69252 & 44.64252 & -122.7520 & -9999.000000 &  73.15165 & 10.30724 & 3.187463 & 3.129510 & 1 & 4 & ⋯ & 1557.500 & 0.00000000 & 66.83333 & 179.5000 &  978.7500 & 68.83333 & 310.0000 & 2019 & 6 & 1\\\\\n\t 10.38884 & 44.64304 & -122.7532 & -9999.000000 &  72.35423 & 10.30734 & 3.141873 & 3.129525 & 1 & 4 & ⋯ & 1557.500 & 0.00000000 & 66.83334 & 179.5000 &  978.7500 & 68.83333 & 310.0000 & 2019 & 6 & 1\\\\\n\t 14.74623 & 44.28872 & -123.2401 & -9999.000000 &  86.98313 & 11.11510 & 3.816240 & 3.313233 & 1 & 1 & ⋯ & 1608.417 & 0.00000000 & 72.41666 & 183.7500 & 1012.5833 & 70.33334 & 307.5000 & 2020 & 6 & 1\\\\\n\t 14.74623 & 44.28900 & -123.2395 & -9999.000000 &  86.98313 & 11.11510 & 3.816240 & 3.313233 & 1 & 1 & ⋯ & 1608.417 & 0.00000000 & 72.41667 & 183.7500 & 1012.5833 & 70.33333 & 307.5000 & 2020 & 6 & 1\\\\\n\t 14.83750 & 44.28927 & -123.2389 & -9999.000000 &  87.20521 & 11.11523 & 3.828033 & 3.313252 & 1 & 1 & ⋯ & 1608.417 & 0.00000000 & 72.41667 & 183.7500 & 1012.5834 & 70.33334 & 307.5000 & 2020 & 6 & 1\\\\\n\\end{tabular}\n",
            "text/plain": [
              "    agbd     lat_lowestmode lon_lowestmode agbd_pi_lower agbd_pi_upper agbd_se \n",
              "1   14.43202 44.75466       -123.0796      -9999         86.21816      11.11522\n",
              "2   14.50465 44.75781       -123.0851      -9999         86.39748      11.11565\n",
              "3   14.42704 44.75807       -123.0844      -9999         86.20717      11.11548\n",
              "4   14.11616 44.27430       -123.1896      -9999         85.44536      11.11561\n",
              "5   14.74623 44.28872       -123.2401      -9999         86.98313      11.11510\n",
              "6   14.74623 44.28900       -123.2395      -9999         86.98313      11.11510\n",
              "7   14.83750 44.28927       -123.2389      -9999         87.20521      11.11523\n",
              "8   15.10932 44.36676       -123.2655      -9999         87.86120      11.11496\n",
              "9   15.52197 44.36688       -123.2655      -9999         88.85085      11.11465\n",
              "10  14.15471 44.26545       -123.2060      -9999         85.54756      11.11723\n",
              "11  14.32778 44.26546       -123.2048      -9999         85.96694      11.11606\n",
              "12  14.11616 44.27430       -123.1896      -9999         85.44536      11.11561\n",
              "13  14.74623 44.28872       -123.2401      -9999         86.98313      11.11510\n",
              "14  14.74623 44.28900       -123.2395      -9999         86.98313      11.11510\n",
              "15  14.83750 44.28927       -123.2389      -9999         87.20521      11.11523\n",
              "16  14.51558 44.31516       -123.2264      -9999         86.42250      11.11528\n",
              "17  13.91838 44.74350       -123.0552      -9999         84.96147      11.11643\n",
              "18  14.02879 44.74410       -123.0556      -9999         85.23113      11.11581\n",
              "19  14.15471 44.26545       -123.2060      -9999         85.54756      11.11723\n",
              "20  14.32778 44.26546       -123.2048      -9999         85.96694      11.11606\n",
              "21  14.63330 44.36527       -123.2692      -9999         86.71126      11.11569\n",
              "22  14.76203 44.36533       -123.2617      -9999         87.01877      11.11451\n",
              "23  14.89971 44.36595       -123.2673      -9999         87.35379      11.11477\n",
              "24  15.10932 44.36603       -123.2619      -9999         87.86120      11.11496\n",
              "25  15.01722 44.36607       -123.2673      -9999         87.63830      11.11484\n",
              "26  14.47760 44.36622       -123.2667      -9999         86.33017      11.11537\n",
              "27  15.06370 44.36634       -123.2667      -9999         87.75121      11.11498\n",
              "28  14.33115 44.36649       -123.2661      -9999         85.97239      11.11545\n",
              "29  13.67802 44.36659       -123.2678      -9999         84.37009      11.11731\n",
              "30  15.38954 44.36661       -123.2661      -9999         88.53343      11.11460\n",
              "⋮   ⋮        ⋮              ⋮              ⋮             ⋮             ⋮       \n",
              "147 14.89971 44.36595       -123.2673      -9999.000000   87.35379     11.11477\n",
              "148 15.10932 44.36603       -123.2619      -9999.000000   87.86120     11.11496\n",
              "149 15.01722 44.36607       -123.2673      -9999.000000   87.63830     11.11484\n",
              "150 14.02879 44.74410       -123.0556      -9999.000000   85.23113     11.11581\n",
              "151 14.50465 44.75781       -123.0851      -9999.000000   86.39748     11.11565\n",
              "152 14.42704 44.75807       -123.0844      -9999.000000   86.20717     11.11548\n",
              "153 10.69252 44.64252       -122.7520      -9999.000000   73.15165     10.30724\n",
              "154 10.38884 44.64304       -122.7532      -9999.000000   72.35423     10.30734\n",
              "155 14.43202 44.75466       -123.0796      -9999.000000   86.21816     11.11522\n",
              "156 14.38155 44.75543       -123.0808      -9999.000000   86.09525     11.11534\n",
              "157 43.54128 44.14651       -123.0940          1.242547  145.98604     11.10495\n",
              "158 14.15471 44.26545       -123.2060      -9999.000000   85.54756     11.11723\n",
              "159 14.32778 44.26546       -123.2048      -9999.000000   85.96694     11.11606\n",
              "160 10.69252 44.64252       -122.7520      -9999.000000   73.15165     10.30724\n",
              "161 10.38884 44.64304       -122.7532      -9999.000000   72.35423     10.30734\n",
              "162 14.42704 44.75807       -123.0844      -9999.000000   86.20717     11.11548\n",
              "163 14.43202 44.75466       -123.0796      -9999.000000   86.21816     11.11522\n",
              "164 14.38155 44.75543       -123.0808      -9999.000000   86.09525     11.11534\n",
              "165 13.91838 44.74350       -123.0552      -9999.000000   84.96147     11.11643\n",
              "166 14.63330 44.36527       -123.2692      -9999.000000   86.71126     11.11569\n",
              "167 14.76203 44.36533       -123.2617      -9999.000000   87.01877     11.11451\n",
              "168 15.10932 44.36603       -123.2619      -9999.000000   87.86120     11.11496\n",
              "169 14.47760 44.36622       -123.2667      -9999.000000   86.33017     11.11537\n",
              "170 15.06370 44.36634       -123.2667      -9999.000000   87.75121     11.11498\n",
              "171 13.67802 44.36659       -123.2678      -9999.000000   84.37009     11.11731\n",
              "172 10.69252 44.64252       -122.7520      -9999.000000   73.15165     10.30724\n",
              "173 10.38884 44.64304       -122.7532      -9999.000000   72.35423     10.30734\n",
              "174 14.74623 44.28872       -123.2401      -9999.000000   86.98313     11.11510\n",
              "175 14.74623 44.28900       -123.2395      -9999.000000   86.98313     11.11510\n",
              "176 14.83750 44.28927       -123.2389      -9999.000000   87.20521     11.11523\n",
              "    agbd_t   agbd_t_se algorithm_run_flag channel ⋯ srad     swe       \n",
              "1   3.775364 3.313251  1                  5       ⋯ 1512.875 0.09429825\n",
              "2   3.784852 3.313314  1                  2       ⋯ 1512.875 0.09429824\n",
              "3   3.774712 3.313290  1                  2       ⋯ 1512.875 0.09429825\n",
              "4   3.733822 3.313308  1                  3       ⋯ 1548.521 0.09285714\n",
              "5   3.816240 3.313233  1                  1       ⋯ 1547.250 0.10000000\n",
              "6   3.816240 3.313233  1                  1       ⋯ 1547.250 0.10000000\n",
              "7   3.828033 3.313252  1                  1       ⋯ 1547.250 0.10000000\n",
              "8   3.862938 3.313212  1                  0       ⋯ 1539.221 0.09761905\n",
              "9   3.915332 3.313165  1                  0       ⋯ 1539.221 0.09761905\n",
              "10  3.738917 3.313550  1                  1       ⋯ 1547.174 0.09068628\n",
              "11  3.761705 3.313376  1                  1       ⋯ 1547.174 0.09068627\n",
              "12  3.733822 3.313308  1                  3       ⋯ 1549.326 0.03787879\n",
              "13  3.816240 3.313233  1                  1       ⋯ 1547.654 0.03906250\n",
              "14  3.816240 3.313233  1                  1       ⋯ 1547.654 0.03906250\n",
              "15  3.828033 3.313252  1                  1       ⋯ 1547.654 0.03906250\n",
              "16  3.786278 3.313260  1                  2       ⋯ 1545.263 0.03645833\n",
              "17  3.707573 3.313430  1                  4       ⋯ 1516.227 0.03906250\n",
              "18  3.722249 3.313339  1                  4       ⋯ 1516.227 0.03906250\n",
              "19  3.738917 3.313550  1                  1       ⋯ 1544.648 0.04032258\n",
              "20  3.761705 3.313376  1                  1       ⋯ 1544.648 0.04032258\n",
              "21  3.801599 3.313321  1                  0       ⋯ 1536.634 0.03763441\n",
              "22  3.818284 3.313145  1                  3       ⋯ 1536.634 0.03763441\n",
              "23  3.836050 3.313183  1                  0       ⋯ 1536.634 0.03763441\n",
              "24  3.862938 3.313212  1                  0       ⋯ 1536.634 0.03763441\n",
              "25  3.851146 3.313194  1                  0       ⋯ 1536.634 0.03763441\n",
              "26  3.781322 3.313273  1                  0       ⋯ 1536.634 0.03763441\n",
              "27  3.857102 3.313215  1                  0       ⋯ 1536.634 0.03763441\n",
              "28  3.762147 3.313285  1                  0       ⋯ 1536.634 0.03763441\n",
              "29  3.675420 3.313562  1                  0       ⋯ 1536.634 0.03763441\n",
              "30  3.898594 3.313159  1                  0       ⋯ 1536.634 0.03763441\n",
              "⋮   ⋮        ⋮         ⋮                  ⋮       ⋱ ⋮        ⋮         \n",
              "147 3.836050 3.313183  1                  0       ⋯ 1559.933 0.02500000\n",
              "148 3.862938 3.313212  1                  0       ⋯ 1559.933 0.02500000\n",
              "149 3.851146 3.313194  1                  0       ⋯ 1559.933 0.02500000\n",
              "150 3.722249 3.313339  1                  4       ⋯ 1533.942 0.04166667\n",
              "151 3.784852 3.313314  1                  2       ⋯ 1529.958 0.04166666\n",
              "152 3.774712 3.313290  1                  2       ⋯ 1529.958 0.04166667\n",
              "153 3.187463 3.129510  1                  4       ⋯ 1542.875 0.19791666\n",
              "154 3.141873 3.129525  1                  4       ⋯ 1542.875 0.19791667\n",
              "155 3.775364 3.313251  1                  5       ⋯ 1523.714 0.04761905\n",
              "156 3.768757 3.313268  1                  1       ⋯ 1523.714 0.04761905\n",
              "157 6.557614 3.311719  1                  3       ⋯ 1586.111 0.00000000\n",
              "158 3.738917 3.313550  1                  1       ⋯ 1573.819 0.00000000\n",
              "159 3.761705 3.313376  1                  1       ⋯ 1573.819 0.00000000\n",
              "160 3.187463 3.129510  1                  4       ⋯ 1555.403 0.02777778\n",
              "161 3.141873 3.129525  1                  4       ⋯ 1555.403 0.02777778\n",
              "162 3.774712 3.313290  1                  2       ⋯ 1534.014 0.00000000\n",
              "163 3.775364 3.313251  1                  5       ⋯ 1525.483 0.00000000\n",
              "164 3.768757 3.313268  1                  1       ⋯ 1525.483 0.00000000\n",
              "165 3.707573 3.313430  1                  4       ⋯ 1535.583 0.00000000\n",
              "166 3.801599 3.313321  1                  0       ⋯ 1561.167 0.00000000\n",
              "167 3.818284 3.313145  1                  3       ⋯ 1561.167 0.00000000\n",
              "168 3.862938 3.313212  1                  0       ⋯ 1561.167 0.00000000\n",
              "169 3.781322 3.313273  1                  0       ⋯ 1561.167 0.00000000\n",
              "170 3.857102 3.313215  1                  0       ⋯ 1561.167 0.00000000\n",
              "171 3.675420 3.313562  1                  0       ⋯ 1561.167 0.00000000\n",
              "172 3.187463 3.129510  1                  4       ⋯ 1557.500 0.00000000\n",
              "173 3.141873 3.129525  1                  4       ⋯ 1557.500 0.00000000\n",
              "174 3.816240 3.313233  1                  1       ⋯ 1608.417 0.00000000\n",
              "175 3.816240 3.313233  1                  1       ⋯ 1608.417 0.00000000\n",
              "176 3.828033 3.313252  1                  1       ⋯ 1608.417 0.00000000\n",
              "    tmmn     tmmx     vap       vpd      vs       gedi_year dist_count\n",
              "1   61.85526 178.6294 1012.419  60.09430 299.1535 2022      7         \n",
              "2   61.85526 178.6294 1012.419  60.09430 299.1535 2019      6         \n",
              "3   61.85526 178.6294 1012.419  60.09430 299.1535 2019      6         \n",
              "4   66.35000 177.4905 1014.757  60.93809 308.4619 2021      6         \n",
              "5   65.99286 177.3381 1016.621  60.44048 307.7738 2020      6         \n",
              "6   65.99286 177.3381 1016.621  60.44048 307.7738 2020      6         \n",
              "7   65.99286 177.3381 1016.621  60.44048 307.7738 2020      6         \n",
              "8   65.56905 177.0524 1020.802  59.43095 306.5286 2021      6         \n",
              "9   65.56905 177.0524 1020.802  59.43095 306.5286 2022      6         \n",
              "10  66.19118 177.4216 1016.539  60.57843 308.5637 2020      6         \n",
              "11  66.19118 177.4216 1016.539  60.57843 308.5637 2022      8         \n",
              "12  66.67172 177.6035 1013.460  61.22222 309.5985 2021      6         \n",
              "13  66.45313 177.4349 1014.977  60.79687 309.4740 2020      6         \n",
              "14  66.45313 177.4349 1014.977  60.79687 309.4740 2020      6         \n",
              "15  66.45313 177.4349 1014.977  60.79688 309.4740 2020      6         \n",
              "16  66.48958 177.6693 1016.078  60.75521 308.3958 2022      6         \n",
              "17  63.45052 178.4036 1010.307  60.82552 302.6979 2020      7         \n",
              "18  63.45052 178.4036 1010.307  60.82552 302.6979 2021      7         \n",
              "19  66.33602 176.9382 1013.465  60.57258 310.1075 2020      6         \n",
              "20  66.33602 176.9382 1013.465  60.57258 310.1075 2022      8         \n",
              "21  65.93011 176.6613 1017.613  59.57527 308.8145 2022      6         \n",
              "22  65.93011 176.6613 1017.613  59.57527 308.8145 2020      6         \n",
              "23  65.93011 176.6613 1017.613  59.57527 308.8145 2021      6         \n",
              "24  65.93011 176.6613 1017.613  59.57527 308.8145 2019      6         \n",
              "25  65.93011 176.6613 1017.613  59.57527 308.8145 2022      7         \n",
              "26  65.93011 176.6613 1017.613  59.57527 308.8145 2021      7         \n",
              "27  65.93011 176.6613 1017.613  59.57527 308.8145 2022      7         \n",
              "28  65.93011 176.6613 1017.613  59.57527 308.8145 2021      6         \n",
              "29  65.93011 176.6613 1017.613  59.57527 308.8145 2021      6         \n",
              "30  65.93011 176.6613 1017.613  59.57527 308.8145 2022      6         \n",
              "⋮   ⋮        ⋮        ⋮         ⋮        ⋮        ⋮         ⋮         \n",
              "147 70.64167 183.8083 1041.7667 64.38333 310.6750 2021      6         \n",
              "148 70.64167 183.8083 1041.7667 64.38333 310.6750 2019      6         \n",
              "149 70.64167 183.8083 1041.7667 64.38333 310.6750 2022      7         \n",
              "150 68.25000 185.1583 1031.9167 65.97500 303.9583 2021      7         \n",
              "151 67.47500 185.2167 1031.3250 65.63333 302.7833 2019      6         \n",
              "152 67.47500 185.2167 1031.3250 65.63334 302.7833 2019      6         \n",
              "153 65.64583 179.4271  987.7396 66.00000 314.3646 2019      6         \n",
              "154 65.64583 179.4271  987.7396 66.00000 314.3646 2019      6         \n",
              "155 65.48810 182.7857 1016.3095 65.47619 299.8333 2022      7         \n",
              "156 65.48810 182.7857 1016.3095 65.47619 299.8333 2021      6         \n",
              "157 70.86111 181.9722 1006.5972 68.59722 309.0278 2019      6         \n",
              "158 69.48611 182.3611 1020.8889 66.16667 307.3611 2020      6         \n",
              "159 69.48611 182.3611 1020.8889 66.16667 307.3611 2022      8         \n",
              "160 65.27778 179.8750  979.4166 67.90278 310.4167 2019      6         \n",
              "161 65.27778 179.8750  979.4167 67.90278 310.4167 2019      6         \n",
              "162 66.00000 183.6667 1013.4444 66.86111 296.8055 2019      6         \n",
              "163 66.33333 183.4167 1009.1167 66.85000 294.8333 2022      7         \n",
              "164 66.33333 183.4167 1009.1166 66.85000 294.8333 2021      6         \n",
              "165 69.12500 184.7708 1011.3333 68.85417 302.7083 2020      7         \n",
              "166 71.47222 183.0278 1027.0556 67.11111 306.9444 2022      6         \n",
              "167 71.47222 183.0278 1027.0556 67.11111 306.9444 2020      6         \n",
              "168 71.47222 183.0278 1027.0556 67.11111 306.9444 2019      6         \n",
              "169 71.47222 183.0278 1027.0555 67.11111 306.9444 2021      7         \n",
              "170 71.47222 183.0278 1027.0555 67.11111 306.9444 2022      7         \n",
              "171 71.47222 183.0278 1027.0556 67.11111 306.9444 2021      6         \n",
              "172 66.83333 179.5000  978.7500 68.83333 310.0000 2019      6         \n",
              "173 66.83334 179.5000  978.7500 68.83333 310.0000 2019      6         \n",
              "174 72.41666 183.7500 1012.5833 70.33334 307.5000 2020      6         \n",
              "175 72.41667 183.7500 1012.5833 70.33333 307.5000 2020      6         \n",
              "176 72.41667 183.7500 1012.5834 70.33334 307.5000 2020      6         \n",
              "    one_column\n",
              "1   1         \n",
              "2   1         \n",
              "3   1         \n",
              "4   1         \n",
              "5   1         \n",
              "6   1         \n",
              "7   1         \n",
              "8   1         \n",
              "9   1         \n",
              "10  1         \n",
              "11  1         \n",
              "12  1         \n",
              "13  1         \n",
              "14  1         \n",
              "15  1         \n",
              "16  1         \n",
              "17  1         \n",
              "18  1         \n",
              "19  1         \n",
              "20  1         \n",
              "21  1         \n",
              "22  1         \n",
              "23  1         \n",
              "24  1         \n",
              "25  1         \n",
              "26  1         \n",
              "27  1         \n",
              "28  1         \n",
              "29  1         \n",
              "30  1         \n",
              "⋮   ⋮         \n",
              "147 1         \n",
              "148 1         \n",
              "149 1         \n",
              "150 1         \n",
              "151 1         \n",
              "152 1         \n",
              "153 1         \n",
              "154 1         \n",
              "155 1         \n",
              "156 1         \n",
              "157 1         \n",
              "158 1         \n",
              "159 1         \n",
              "160 1         \n",
              "161 1         \n",
              "162 1         \n",
              "163 1         \n",
              "164 1         \n",
              "165 1         \n",
              "166 1         \n",
              "167 1         \n",
              "168 1         \n",
              "169 1         \n",
              "170 1         \n",
              "171 1         \n",
              "172 1         \n",
              "173 1         \n",
              "174 1         \n",
              "175 1         \n",
              "176 1         "
            ]
          },
          "metadata": {}
        }
      ],
      "source": [
        "rf_dt[dist_count>5][order(yod_mean,lat_lowestmode,lon_lowestmode)]"
      ]
    },
    {
      "cell_type": "code",
      "execution_count": 45,
      "metadata": {
        "id": "FEe1s6kEIyvJ"
      },
      "outputs": [],
      "source": [
        "rf_dt[order(yod_mean),dist_instance := cumsum(one_column),\n",
        "                by = .(lat_lowestmode,lon_lowestmode)]"
      ]
    },
    {
      "cell_type": "code",
      "execution_count": 46,
      "metadata": {
        "id": "BshLO-FIJEm-",
        "colab": {
          "base_uri": "https://localhost:8080/",
          "height": 69
        },
        "outputId": "5808b7f8-4db9-4644-d1b3-dea1fb7b8d4e"
      },
      "outputs": [
        {
          "output_type": "display_data",
          "data": {
            "text/plain": [
              ".\n",
              "     1      2      3      4      5      6      7      8 \n",
              "710112  78485   7301    858    110     21      6      1 "
            ]
          },
          "metadata": {}
        }
      ],
      "source": [
        "rf_dt[dist_count == dist_instance]$dist_count %>% table"
      ]
    },
    {
      "cell_type": "code",
      "execution_count": 47,
      "metadata": {
        "id": "S5Yx2BeiIUId",
        "colab": {
          "base_uri": "https://localhost:8080/",
          "height": 69
        },
        "outputId": "bd6c9503-abf0-48c7-f067-cd23e189631a"
      },
      "outputs": [
        {
          "output_type": "display_data",
          "data": {
            "text/plain": [
              ".\n",
              "     1      2      3      4      5      6      7      8 \n",
              "796894  86782   8297    996    138     28      7      1 "
            ]
          },
          "metadata": {}
        }
      ],
      "source": [
        "rf_dt$dist_instance %>% table"
      ]
    },
    {
      "cell_type": "code",
      "execution_count": 51,
      "metadata": {
        "id": "Geh1Eg46C3km",
        "colab": {
          "base_uri": "https://localhost:8080/"
        },
        "outputId": "4993a2e3-840d-40d8-e0a2-a88097f84952"
      },
      "outputs": [
        {
          "output_type": "stream",
          "name": "stdout",
          "text": [
            "Writing layer `summarized_disturbance_output_with_env_var' to data source \n",
            "  `summarized_disturbance_output_with_env_var.gpkg' using driver `GPKG'\n",
            "Writing 893143 features with 116 fields and geometry type Point.\n"
          ]
        }
      ],
      "source": [
        "rf_dt %>% st_write('summarized_disturbance_output_with_env_var.gpkg')"
      ]
    },
    {
      "cell_type": "code",
      "execution_count": 48,
      "metadata": {
        "id": "ltKhCiDfx0iQ"
      },
      "outputs": [],
      "source": [
        "last_dist_dt <-\n",
        "rf_dt$dist_id %>% unique %>% lapply(function(x){\n",
        "\n",
        "out_dt <- rf_dt[dist_id == x]\n",
        "\n",
        "out_dt<- out_dt[dist_instance == max(dist_instance)]\n",
        "\n",
        "\n",
        "}) %>% rbindlist()"
      ]
    },
    {
      "cell_type": "code",
      "execution_count": null,
      "metadata": {
        "id": "7-wOkY2MC3eh"
      },
      "outputs": [],
      "source": [
        "# rf_dt %>% names"
      ]
    },
    {
      "cell_type": "code",
      "execution_count": null,
      "metadata": {
        "id": "NGGilJbUeJ9j"
      },
      "outputs": [],
      "source": [
        "# rf_dt$dur_sum"
      ]
    },
    {
      "cell_type": "code",
      "execution_count": 49,
      "metadata": {
        "id": "YJBh9bDox1zo"
      },
      "outputs": [],
      "source": [
        "plot_test_dt <- rf_dt[][agbd!=-9999 & yod_mean < gedi_year,list(\n",
        "                      dist_area = mean(dur_sum),\n",
        "                      agbd_length = length(agbd),\n",
        "                      agbd_median = quantile(agbd,.5),\n",
        "                      yad = gedi_year %>% round - yod_mean\n",
        "                      ),\n",
        "                by = .(dist_count,dist_instance,yod_mean,gedi_year,HUC8,HUC10,HUC12)][!is.na(yod_mean)]"
      ]
    },
    {
      "cell_type": "code",
      "execution_count": null,
      "metadata": {
        "id": "iIwh1tLR05A1"
      },
      "outputs": [],
      "source": [
        "plot_test_dt %>% nrow"
      ]
    },
    {
      "cell_type": "code",
      "execution_count": null,
      "metadata": {
        "id": "9jO9BhDgdmkW"
      },
      "outputs": [],
      "source": [
        "plot_test_dt %>% head"
      ]
    },
    {
      "cell_type": "code",
      "execution_count": 50,
      "metadata": {
        "id": "iTXGTAQ2-nP3",
        "colab": {
          "base_uri": "https://localhost:8080/",
          "height": 454
        },
        "outputId": "7d88b2e0-4f72-4307-bf88-84f690ce4403"
      },
      "outputs": [
        {
          "output_type": "stream",
          "name": "stderr",
          "text": [
            "\u001b[1m\u001b[22m`geom_smooth()` using formula = 'y ~ x'\n"
          ]
        },
        {
          "output_type": "display_data",
          "data": {
            "text/plain": [
              "plot without title"
            ],
            "image/png": "[encoded data removed]"
          },
          "metadata": {
            "image/png": {
              "width": 420,
              "height": 420
            }
          }
        }
      ],
      "source": [
        "plot_test_dt[dist_count == dist_instance ] %>%\n",
        "                ggplot(aes(x= yad, y= agbd_median))+\n",
        "                # xlim(0,40)+\n",
        "                # ylim(0,200)+\n",
        "                # # geom_point(aes(color=dist_count %>% factor))+\n",
        "                # geom_bin2d()+\n",
        "                geom_smooth(aes(color=dist_count %>% factor),se=F,method = 'lm')\n",
        "                # facet_wrap(~dist_count,scales='free')"
      ]
    },
    {
      "cell_type": "code",
      "execution_count": null,
      "metadata": {
        "id": "X6gYEs6ykKyY"
      },
      "outputs": [],
      "source": []
    }
  ],
  "metadata": {
    "colab": {
      "machine_shape": "hm",
      "provenance": [],
      "authorship_tag": "ABX9TyMjaRlBY3b2vxwDvfjZ9n3v",
      "include_colab_link": true
    },
    "kernelspec": {
      "display_name": "R",
      "name": "ir"
    },
    "language_info": {
      "name": "R"
    }
  },
  "nbformat": 4,
  "nbformat_minor": 0
}
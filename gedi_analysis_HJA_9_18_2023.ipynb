{
  "nbformat": 4,
  "nbformat_minor": 0,
  "metadata": {
    "colab": {
      "provenance": [],
      "machine_shape": "hm",
      "authorship_tag": "ABX9TyOzjWE5D5AbmExXXoZA8h0R",
      "include_colab_link": true
    },
    "kernelspec": {
      "name": "ir",
      "display_name": "R"
    },
    "language_info": {
      "name": "R"
    }
  },
  "cells": [
    {
      "cell_type": "markdown",
      "metadata": {
        "id": "view-in-github",
        "colab_type": "text"
      },
      "source": [
        "<a href=\"https://colab.research.google.com/github/seismosmsr/machine_learning/blob/main/gedi_analysis_HJA_9_18_2023.ipynb\" target=\"_parent\"><img src=\"https://colab.research.google.com/assets/colab-badge.svg\" alt=\"Open In Colab\"/></a>"
      ]
    },
    {
      "cell_type": "code",
      "source": [
        "install.packages('sf')\n",
        "install.packages('raster')\n",
        "install.packages('exactextractr')\n",
        "install.packages(\"googledrive\")\n",
        "install.packages(\"googletoken\")\n",
        "install.packages(\"DBI\")\n",
        "install.packages(\"RSQLite\")\n",
        "install.packages(\"RPostgreSQL\")"
      ],
      "metadata": {
        "colab": {
          "base_uri": "https://localhost:8080/"
        },
        "id": "rC3Pg61Wq8On",
        "outputId": "df10236d-88f2-4d1e-f7ee-29d682e51ca1"
      },
      "execution_count": 1,
      "outputs": [
        {
          "output_type": "stream",
          "name": "stderr",
          "text": [
            "Installing package into ‘/usr/local/lib/R/site-library’\n",
            "(as ‘lib’ is unspecified)\n",
            "\n",
            "also installing the dependencies ‘proxy’, ‘e1071’, ‘wk’, ‘classInt’, ‘Rcpp’, ‘s2’, ‘units’\n",
            "\n",
            "\n",
            "Installing package into ‘/usr/local/lib/R/site-library’\n",
            "(as ‘lib’ is unspecified)\n",
            "\n",
            "also installing the dependencies ‘sp’, ‘terra’\n",
            "\n",
            "\n",
            "Installing package into ‘/usr/local/lib/R/site-library’\n",
            "(as ‘lib’ is unspecified)\n",
            "\n",
            "Installing package into ‘/usr/local/lib/R/site-library’\n",
            "(as ‘lib’ is unspecified)\n",
            "\n",
            "Installing package into ‘/usr/local/lib/R/site-library’\n",
            "(as ‘lib’ is unspecified)\n",
            "\n",
            "Warning message:\n",
            "“package ‘googletoken’ is not available for this version of R\n",
            "\n",
            "A version of this package for your version of R might be available elsewhere,\n",
            "see the ideas at\n",
            "https://cran.r-project.org/doc/manuals/r-patched/R-admin.html#Installing-packages”\n",
            "Installing package into ‘/usr/local/lib/R/site-library’\n",
            "(as ‘lib’ is unspecified)\n",
            "\n",
            "Installing package into ‘/usr/local/lib/R/site-library’\n",
            "(as ‘lib’ is unspecified)\n",
            "\n",
            "also installing the dependency ‘plogr’\n",
            "\n",
            "\n",
            "Installing package into ‘/usr/local/lib/R/site-library’\n",
            "(as ‘lib’ is unspecified)\n",
            "\n"
          ]
        }
      ]
    },
    {
      "cell_type": "code",
      "execution_count": 14,
      "metadata": {
        "id": "ohy4torjkZq2"
      },
      "outputs": [],
      "source": [
        "library(ggplot2)\n",
        "library(sf)\n",
        "library(magrittr)\n",
        "library(data.table)\n",
        "library(raster)\n",
        "library(exactextractr)\n",
        "library(googledrive)\n",
        "library(DBI)\n",
        "library(utils)"
      ]
    },
    {
      "cell_type": "code",
      "source": [
        "drive_auth(use_oob = TRUE, cache = FALSE)"
      ],
      "metadata": {
        "id": "oFc9lzeokYuK",
        "outputId": "2cdee009-2be7-487d-dc96-7e84f387892e",
        "colab": {
          "base_uri": "https://localhost:8080/"
        }
      },
      "execution_count": 2,
      "outputs": [
        {
          "output_type": "stream",
          "name": "stderr",
          "text": [
            "Please point your browser to the following url: \n",
            "\n",
            "https://accounts.google.com/o/oauth2/v2/auth?client_id=603366585132-frjlouoa3s2ono25d2l9ukvhlsrlnr7k.apps.googleusercontent.com&scope=https%3A%2F%2Fwww.googleapis.com%2Fauth%2Fdrive%20https%3A%2F%2Fwww.googleapis.com%2Fauth%2Fuserinfo.email&redirect_uri=https%3A%2F%2Fwww.tidyverse.org%2Fgoogle-callback%2F&response_type=code&state=1c71bc06bd9b849ba4b51c8d083c3bc4&access_type=offline&prompt=consent\n",
            "\n"
          ]
        },
        {
          "name": "stdout",
          "output_type": "stream",
          "text": [
            "Enter authorization code: eyJjb2RlIjoiNC8wQWZKb2hYbG5PQ2xjWjZXX25TcHZ5RUJPMTZydDhvM1lWTVVSMmlCYnRjOFBLSzdMNThvUzFXaGx5cmdjZkwyczN6REZfQSIsInN0YXRlIjoiMWM3MWJjMDZiZDliODQ5YmE0YjUxYzhkMDgzYzNiYzQifQ==\n"
          ]
        }
      ]
    },
    {
      "cell_type": "code",
      "source": [
        "# while(TRUE){}"
      ],
      "metadata": {
        "id": "neOkVr_mkd8m"
      },
      "execution_count": null,
      "outputs": []
    },
    {
      "cell_type": "code",
      "source": [
        "# drive_deauth()\n",
        "# drive_auth(use_oob = TRUE, cache = FALSE)"
      ],
      "metadata": {
        "id": "hVkqfgfpnel2"
      },
      "execution_count": null,
      "outputs": []
    },
    {
      "cell_type": "code",
      "source": [
        "# GEDI data\n",
        "# https://drive.google.com/file/d/14jTxo28D2bsC68EpVsbSaY7SpYM5MIA4/view?usp=drive_link\n",
        "\n",
        "# Landtrendr data\n",
        "# https://drive.google.com/file/d/1FrN1tUojGV80f3kDtmezsFsvLabIoGiW/view?usp=drive_link\n",
        "\n",
        "# HUC 8\n",
        "# https://drive.google.com/file/d/1r6CIYLOy01N8B1jc7Hr8AJUkA0jPXp9z/view?usp=drive_link\n",
        "\n",
        "# HUC 10\n",
        "# https://drive.google.com/file/d/1m86VWKw3nys-oY931eq9dC6xv0cEfs4a/view?usp=drive_link\n",
        "\n",
        "# HUC 12\n",
        "# https://drive.google.com/file/d/18ayVCWhBkP1Tb_wrWgPJea8vaWEiPgOL/view?usp=drive_link\n",
        "\n",
        "# GEDI vectorized by YOD, Queen's rule.\n",
        "# https://drive.google.com/file/d/1miOMqCh081yceVUfVVOL5JtxpKUgBO-2/view?usp=drive_link"
      ],
      "metadata": {
        "id": "O3df1Ii3npf3"
      },
      "execution_count": null,
      "outputs": []
    },
    {
      "cell_type": "code",
      "source": [
        "drive_download(file = as_id('1FrN1tUojGV80f3kDtmezsFsvLabIoGiW'), path =  '/content/HJA_LandTrendr_84_23.tif', overwrite = FALSE)"
      ],
      "metadata": {
        "colab": {
          "base_uri": "https://localhost:8080/"
        },
        "id": "LUX0iDBQo3bB",
        "outputId": "aa7bd51f-dfda-492e-cd49-54ef6a7b7b43"
      },
      "execution_count": 4,
      "outputs": [
        {
          "output_type": "stream",
          "name": "stderr",
          "text": [
            "File downloaded:\n",
            "\n",
            "• \u001b[36mHJA_LandTrendr_84_23_2.tif\u001b[39m \u001b[90m<id: 1FrN1tUojGV80f3kDtmezsFsvLabIoGiW>\u001b[39m\n",
            "\n",
            "Saved locally as:\n",
            "\n",
            "• \u001b[34m/content/HJA_LandTrendr_84_23.tif\u001b[39m\n",
            "\n"
          ]
        }
      ]
    },
    {
      "cell_type": "code",
      "source": [
        "drive_download(file = as_id('14jTxo28D2bsC68EpVsbSaY7SpYM5MIA4'), path =  '/content/HJA_gedi.gpkg', overwrite = TRUE)"
      ],
      "metadata": {
        "id": "p6BrSHZVpEnI",
        "outputId": "79c89b1e-a8db-4071-896a-56c0ff78ae1a",
        "colab": {
          "base_uri": "https://localhost:8080/"
        }
      },
      "execution_count": 5,
      "outputs": [
        {
          "output_type": "stream",
          "name": "stderr",
          "text": [
            "File downloaded:\n",
            "\n",
            "• \u001b[36mHJA_GEDI_4.gpkg\u001b[39m \u001b[90m<id: 14jTxo28D2bsC68EpVsbSaY7SpYM5MIA4>\u001b[39m\n",
            "\n",
            "Saved locally as:\n",
            "\n",
            "• \u001b[34m/content/HJA_gedi.gpkg\u001b[39m\n",
            "\n"
          ]
        }
      ]
    },
    {
      "cell_type": "code",
      "source": [
        "drive_download(file = as_id('1r6CIYLOy01N8B1jc7Hr8AJUkA0jPXp9z'), path =  '/content/huc_8.gpkg', overwrite = TRUE)\n",
        "drive_download(file = as_id('1m86VWKw3nys-oY931eq9dC6xv0cEfs4a'), path =  '/content/huc_10.gpkg', overwrite = TRUE)\n",
        "drive_download(file = as_id('18ayVCWhBkP1Tb_wrWgPJea8vaWEiPgOL'), path =  '/content/huc_12.gpkg', overwrite = TRUE)"
      ],
      "metadata": {
        "id": "FCrU4s8erbks",
        "outputId": "be225700-fdc7-4c4b-83c9-0c732f2ada10",
        "colab": {
          "base_uri": "https://localhost:8080/"
        }
      },
      "execution_count": 6,
      "outputs": [
        {
          "output_type": "stream",
          "name": "stderr",
          "text": [
            "File downloaded:\n",
            "\n",
            "• \u001b[36mWBDHU8.gpkg\u001b[39m \u001b[90m<id: 1r6CIYLOy01N8B1jc7Hr8AJUkA0jPXp9z>\u001b[39m\n",
            "\n",
            "Saved locally as:\n",
            "\n",
            "• \u001b[34m/content/huc_8.gpkg\u001b[39m\n",
            "\n",
            "File downloaded:\n",
            "\n",
            "• \u001b[36mWBDHU10.gpkg\u001b[39m \u001b[90m<id: 1m86VWKw3nys-oY931eq9dC6xv0cEfs4a>\u001b[39m\n",
            "\n",
            "Saved locally as:\n",
            "\n",
            "• \u001b[34m/content/huc_10.gpkg\u001b[39m\n",
            "\n",
            "File downloaded:\n",
            "\n",
            "• \u001b[36mWBDHU12.gpkg\u001b[39m \u001b[90m<id: 18ayVCWhBkP1Tb_wrWgPJea8vaWEiPgOL>\u001b[39m\n",
            "\n",
            "Saved locally as:\n",
            "\n",
            "• \u001b[34m/content/huc_12.gpkg\u001b[39m\n",
            "\n"
          ]
        }
      ]
    },
    {
      "cell_type": "code",
      "source": [
        "# https://drive.google.com/file/d/1miOMqCh081yceVUfVVOL5JtxpKUgBO-2/view?usp=drive_link\n",
        "drive_download(file = as_id('1miOMqCh081yceVUfVVOL5JtxpKUgBO-2'), path =  '/content/gedi_vector.gpkg', overwrite = TRUE)"
      ],
      "metadata": {
        "id": "N4HyYrKXpvw0",
        "outputId": "842c6d11-8739-4ebf-b35c-02cb12deea27",
        "colab": {
          "base_uri": "https://localhost:8080/"
        }
      },
      "execution_count": 7,
      "outputs": [
        {
          "output_type": "stream",
          "name": "stderr",
          "text": [
            "File downloaded:\n",
            "\n",
            "• \u001b[36myod_vector.gpkg\u001b[39m \u001b[90m<id: 1miOMqCh081yceVUfVVOL5JtxpKUgBO-2>\u001b[39m\n",
            "\n",
            "Saved locally as:\n",
            "\n",
            "• \u001b[34m/content/gedi_vector.gpkg\u001b[39m\n",
            "\n"
          ]
        }
      ]
    },
    {
      "cell_type": "code",
      "source": [
        "# https://drive.google.com/file/d/1qpVnW4V_qbE1rAR4wAq1yMNRIZniVFsa/view?usp=drive_link\n",
        "drive_download(file = as_id('1qpVnW4V_qbE1rAR4wAq1yMNRIZniVFsa'), path =  '/content/conus_2003.tif', overwrite = TRUE)"
      ],
      "metadata": {
        "id": "4nQRIAg6EU5c",
        "outputId": "1f16e57a-29c5-4980-c1b8-f9394c8323e8",
        "colab": {
          "base_uri": "https://localhost:8080/"
        }
      },
      "execution_count": 17,
      "outputs": [
        {
          "output_type": "stream",
          "name": "stderr",
          "text": [
            "Auto-refreshing stale OAuth token.\n",
            "\n",
            "File downloaded:\n",
            "\n",
            "• \u001b[36mconus_forest_biomass_mg_per_ha.img\u001b[39m \u001b[90m<id: 1qpVnW4V_qbE1rAR4wAq1yMNRIZniVFsa>\u001b[39m\n",
            "\n",
            "Saved locally as:\n",
            "\n",
            "• \u001b[34m/content/conus_2003.tif\u001b[39m\n",
            "\n"
          ]
        }
      ]
    },
    {
      "cell_type": "code",
      "source": [
        "# https://drive.google.com/file/d/1X-D5SIaH18skJ5Wshzge1BxlvRZOOWCh/view?usp=drive_link\n",
        "\n",
        "drive_download(file = as_id('1X-D5SIaH18skJ5Wshzge1BxlvRZOOWCh'), path =  '/content/conus_2016.tif', overwrite = TRUE)"
      ],
      "metadata": {
        "id": "fes2c4X1Yi8L",
        "outputId": "c45c54f1-2379-4a6c-ce33-4fac69ace723",
        "colab": {
          "base_uri": "https://localhost:8080/"
        }
      },
      "execution_count": 18,
      "outputs": [
        {
          "output_type": "stream",
          "name": "stderr",
          "text": [
            "File downloaded:\n",
            "\n",
            "• \u001b[36mbiomass_k10_2016.tif\u001b[39m \u001b[90m<id: 1X-D5SIaH18skJ5Wshzge1BxlvRZOOWCh>\u001b[39m\n",
            "\n",
            "Saved locally as:\n",
            "\n",
            "• \u001b[34m/content/conus_2016.tif\u001b[39m\n",
            "\n"
          ]
        }
      ]
    },
    {
      "cell_type": "code",
      "source": [
        "# https://drive.google.com/file/d/1HGLy-drZfu5wmWW9xVbCkQjHGdqFbGF4/view?usp=drive_link\n",
        "\n",
        "drive_download(file = as_id('1HGLy-drZfu5wmWW9xVbCkQjHGdqFbGF4'), path =  '/content/hja_2008.tif', overwrite = TRUE)"
      ],
      "metadata": {
        "id": "JzNqFcUeO0-o",
        "outputId": "6494f999-3969-4982-aff8-b204363287d6",
        "colab": {
          "base_uri": "https://localhost:8080/"
        }
      },
      "execution_count": 19,
      "outputs": [
        {
          "output_type": "stream",
          "name": "stderr",
          "text": [
            "File downloaded:\n",
            "\n",
            "• \u001b[36mAGLB_2008.tif\u001b[39m \u001b[90m<id: 1HGLy-drZfu5wmWW9xVbCkQjHGdqFbGF4>\u001b[39m\n",
            "\n",
            "Saved locally as:\n",
            "\n",
            "• \u001b[34m/content/hja_2008.tif\u001b[39m\n",
            "\n"
          ]
        }
      ]
    },
    {
      "cell_type": "code",
      "source": [
        "# https://drive.google.com/file/d/1MXa0GC0bWAbMSVpR7Gpc4cOFyCRxpJfI/view?usp=drive_link\n",
        "drive_download(file = as_id('1MXa0GC0bWAbMSVpR7Gpc4cOFyCRxpJfI'), path =  '/content/wnf_history.gpkg', overwrite = TRUE)\n",
        "\n",
        "# https://drive.google.com/file/d/1PFW8YtCJ-Afxb7XTM94j7IcZDQc6r3FS/view?usp=drive_link\n",
        "drive_download(file = as_id('1PFW8YtCJ-Afxb7XTM94j7IcZDQc6r3FS'), path =  '/content/fire_history.gpkg', overwrite = TRUE)\n",
        "\n",
        "# https://drive.google.com/file/d/1igHhc0FY2TBm7DMHNWMoqTbLHv2qvgms/view?usp=drive_link\n",
        "drive_download(file = as_id('1igHhc0FY2TBm7DMHNWMoqTbLHv2qvgms'), path =  '/content/harvest_history.gpkg', overwrite = TRUE)\n",
        "\n",
        "# https://drive.google.com/file/d/1XluoE3kGZ1u5-az0EmimhRpe__qzApM4/view?usp=drive_link\n",
        "drive_download(file = as_id('1XluoE3kGZ1u5-az0EmimhRpe__qzApM4'), path =  '/content/aoi_boundary.geojson', overwrite = TRUE)"
      ],
      "metadata": {
        "id": "weLodNamLqQP",
        "outputId": "16863d10-4233-4ec1-979e-2850195a0954",
        "colab": {
          "base_uri": "https://localhost:8080/"
        }
      },
      "execution_count": 20,
      "outputs": [
        {
          "output_type": "stream",
          "name": "stderr",
          "text": [
            "File downloaded:\n",
            "\n",
            "• \u001b[36mclip_wnfveg6.gpkg\u001b[39m \u001b[90m<id: 1MXa0GC0bWAbMSVpR7Gpc4cOFyCRxpJfI>\u001b[39m\n",
            "\n",
            "Saved locally as:\n",
            "\n",
            "• \u001b[34m/content/wnf_history.gpkg\u001b[39m\n",
            "\n",
            "File downloaded:\n",
            "\n",
            "• \u001b[36mFire_History_HJA.gpkg\u001b[39m \u001b[90m<id: 1PFW8YtCJ-Afxb7XTM94j7IcZDQc6r3FS>\u001b[39m\n",
            "\n",
            "Saved locally as:\n",
            "\n",
            "• \u001b[34m/content/fire_history.gpkg\u001b[39m\n",
            "\n",
            "File downloaded:\n",
            "\n",
            "• \u001b[36mHJA_Harvest_Sites.gpkg\u001b[39m \u001b[90m<id: 1igHhc0FY2TBm7DMHNWMoqTbLHv2qvgms>\u001b[39m\n",
            "\n",
            "Saved locally as:\n",
            "\n",
            "• \u001b[34m/content/harvest_history.gpkg\u001b[39m\n",
            "\n",
            "File downloaded:\n",
            "\n",
            "• \u001b[36mhja_boundary.geojson\u001b[39m \u001b[90m<id: 1XluoE3kGZ1u5-az0EmimhRpe__qzApM4>\u001b[39m\n",
            "\n",
            "Saved locally as:\n",
            "\n",
            "• \u001b[34m/content/aoi_boundary.geojson\u001b[39m\n",
            "\n"
          ]
        }
      ]
    },
    {
      "cell_type": "code",
      "source": [
        "# https://drive.google.com/file/d/1rIueY7IXML2Gu06MR2pijfgqOFydKTzh/view?usp=drive_link\n",
        "drive_download(file = as_id('1rIueY7IXML2Gu06MR2pijfgqOFydKTzh'), path =  '/content/Huc_Intersection_Set.zip', overwrite = TRUE)"
      ],
      "metadata": {
        "id": "YJn39TJF9shO",
        "outputId": "33138949-0563-45ee-96ba-e7d7056e4a21",
        "colab": {
          "base_uri": "https://localhost:8080/"
        }
      },
      "execution_count": 21,
      "outputs": [
        {
          "output_type": "stream",
          "name": "stderr",
          "text": [
            "File downloaded:\n",
            "\n",
            "• \u001b[36mHUC_Intersection_Set.zip\u001b[39m \u001b[90m<id: 1rIueY7IXML2Gu06MR2pijfgqOFydKTzh>\u001b[39m\n",
            "\n",
            "Saved locally as:\n",
            "\n",
            "• \u001b[34m/content/Huc_Intersection_Set.zip\u001b[39m\n",
            "\n"
          ]
        }
      ]
    },
    {
      "cell_type": "code",
      "source": [
        "# Set the file path to the downloaded zip file and the destination where it should be extracted\n",
        "zip_file_path <- '/content/Huc_Intersection_Set.zip'\n",
        "extraction_path <- '/content/Huc_Intersection_Set'\n",
        "\n",
        "# Unzip the file\n",
        "unzip(zip_file_path, exdir = extraction_path)"
      ],
      "metadata": {
        "id": "ICSjj78kUY3s"
      },
      "execution_count": 15,
      "outputs": []
    },
    {
      "cell_type": "code",
      "source": [
        "while(TRUE){}"
      ],
      "metadata": {
        "id": "WiNdGjYOK0mz"
      },
      "execution_count": 12,
      "outputs": []
    },
    {
      "cell_type": "code",
      "source": [
        "hja_2008_tif <- stack('/content/hja_2008.tif')\n",
        "conus_2003_tif <- stack('/content/conus_2003.tif')\n",
        "conus_2016_tif  <- stack('/content/conus_2016.tif')"
      ],
      "metadata": {
        "id": "HJdYvfpltaAi"
      },
      "execution_count": 22,
      "outputs": []
    },
    {
      "cell_type": "code",
      "source": [
        "landtrendr_tif <- stack('/content/HJA_LandTrendr_84_23.tif')"
      ],
      "metadata": {
        "id": "wOk8T8AEp1Pe"
      },
      "execution_count": 23,
      "outputs": []
    },
    {
      "cell_type": "code",
      "source": [
        "gedi_int_dt <-\n",
        "\"/content/Huc_Intersection_Set/content/HUC_Intersection_Set\" %>%\n",
        "  list.files(full.names = T) %>%\n",
        "  lapply(st_read) %>%\n",
        "  lapply(data.table) %>%\n",
        "  rbindlist()"
      ],
      "metadata": {
        "id": "F7ZEup6Q5TAJ",
        "outputId": "5b361315-aeba-473e-8b10-644a7c8376cf",
        "colab": {
          "base_uri": "https://localhost:8080/"
        }
      },
      "execution_count": 29,
      "outputs": [
        {
          "output_type": "stream",
          "name": "stdout",
          "text": [
            "Reading layer `huc_10_1' from data source \n",
            "  `/content/Huc_Intersection_Set/content/HUC_Intersection_Set/huc_10_1.gpkg' \n",
            "  using driver `GPKG'\n",
            "Simple feature collection with 94451 features and 40 fields\n",
            "Geometry type: POINT\n",
            "Dimension:     XY\n",
            "Bounding box:  xmin: -122.1598 ymin: 44.70176 xmax: -121.7601 ymax: 44.84941\n",
            "Geodetic CRS:  WGS 84\n",
            "Reading layer `huc_10_10' from data source \n",
            "  `/content/Huc_Intersection_Set/content/HUC_Intersection_Set/huc_10_10.gpkg' \n",
            "  using driver `GPKG'\n",
            "Simple feature collection with 73478 features and 40 fields\n",
            "Geometry type: POINT\n",
            "Dimension:     XY\n",
            "Bounding box:  xmin: -122.6751 ymin: 44.31805 xmax: -122.4225 ymax: 44.48284\n",
            "Geodetic CRS:  WGS 84\n",
            "Reading layer `huc_10_11' from data source \n",
            "  `/content/Huc_Intersection_Set/content/HUC_Intersection_Set/huc_10_11.gpkg' \n",
            "  using driver `GPKG'\n",
            "Simple feature collection with 85232 features and 40 fields\n",
            "Geometry type: POINT\n",
            "Dimension:     XY\n",
            "Bounding box:  xmin: -122.6787 ymin: 44.26722 xmax: -122.415 ymax: 44.4138\n",
            "Geodetic CRS:  WGS 84\n",
            "Reading layer `huc_10_12' from data source \n",
            "  `/content/Huc_Intersection_Set/content/HUC_Intersection_Set/huc_10_12.gpkg' \n",
            "  using driver `GPKG'\n",
            "Simple feature collection with 166553 features and 40 fields\n",
            "Geometry type: POINT\n",
            "Dimension:     XY\n",
            "Bounding box:  xmin: -122.9466 ymin: 44.49646 xmax: -122.4402 ymax: 44.69994\n",
            "Geodetic CRS:  WGS 84\n",
            "Reading layer `huc_10_13' from data source \n",
            "  `/content/Huc_Intersection_Set/content/HUC_Intersection_Set/huc_10_13.gpkg' \n",
            "  using driver `GPKG'\n",
            "Simple feature collection with 133942 features and 40 fields\n",
            "Geometry type: POINT\n",
            "Dimension:     XY\n",
            "Bounding box:  xmin: -122.9726 ymin: 44.62447 xmax: -122.3103 ymax: 44.76997\n",
            "Geodetic CRS:  WGS 84\n",
            "Reading layer `huc_10_14' from data source \n",
            "  `/content/Huc_Intersection_Set/content/HUC_Intersection_Set/huc_10_14.gpkg' \n",
            "  using driver `GPKG'\n",
            "Simple feature collection with 215711 features and 40 fields\n",
            "Geometry type: POINT\n",
            "Dimension:     XY\n",
            "Bounding box:  xmin: -123.0157 ymin: 44.32236 xmax: -122.5776 ymax: 44.71778\n",
            "Geodetic CRS:  WGS 84\n",
            "Reading layer `huc_10_15' from data source \n",
            "  `/content/Huc_Intersection_Set/content/HUC_Intersection_Set/huc_10_15.gpkg' \n",
            "  using driver `GPKG'\n",
            "Simple feature collection with 221438 features and 40 fields\n",
            "Geometry type: POINT\n",
            "Dimension:     XY\n",
            "Bounding box:  xmin: -122.2119 ymin: 43.96455 xmax: -121.7681 ymax: 44.17517\n",
            "Geodetic CRS:  WGS 84\n",
            "Reading layer `huc_10_16' from data source \n",
            "  `/content/Huc_Intersection_Set/content/HUC_Intersection_Set/huc_10_16.gpkg' \n",
            "  using driver `GPKG'\n",
            "Simple feature collection with 453951 features and 40 fields\n",
            "Geometry type: POINT\n",
            "Dimension:     XY\n",
            "Bounding box:  xmin: -122.2068 ymin: 44.11485 xmax: -121.7709 ymax: 44.50823\n",
            "Geodetic CRS:  WGS 84\n",
            "Reading layer `huc_10_17' from data source \n",
            "  `/content/Huc_Intersection_Set/content/HUC_Intersection_Set/huc_10_17.gpkg' \n",
            "  using driver `GPKG'\n",
            "Simple feature collection with 279057 features and 40 fields\n",
            "Geometry type: POINT\n",
            "Dimension:     XY\n",
            "Bounding box:  xmin: -122.2925 ymin: 43.85895 xmax: -121.8578 ymax: 44.16177\n",
            "Geodetic CRS:  WGS 84\n",
            "Reading layer `huc_10_18' from data source \n",
            "  `/content/Huc_Intersection_Set/content/HUC_Intersection_Set/huc_10_18.gpkg' \n",
            "  using driver `GPKG'\n",
            "Simple feature collection with 129685 features and 40 fields\n",
            "Geometry type: POINT\n",
            "Dimension:     XY\n",
            "Bounding box:  xmin: -122.383 ymin: 44.15338 xmax: -122.1017 ymax: 44.33783\n",
            "Geodetic CRS:  WGS 84\n",
            "Reading layer `huc_10_19' from data source \n",
            "  `/content/Huc_Intersection_Set/content/HUC_Intersection_Set/huc_10_19.gpkg' \n",
            "  using driver `GPKG'\n",
            "Simple feature collection with 97113 features and 40 fields\n",
            "Geometry type: POINT\n",
            "Dimension:     XY\n",
            "Bounding box:  xmin: -122.4269 ymin: 43.96919 xmax: -122.1902 ymax: 44.21138\n",
            "Geodetic CRS:  WGS 84\n",
            "Reading layer `huc_10_2' from data source \n",
            "  `/content/Huc_Intersection_Set/content/HUC_Intersection_Set/huc_10_2.gpkg' \n",
            "  using driver `GPKG'\n",
            "Simple feature collection with 224063 features and 40 fields\n",
            "Geometry type: POINT\n",
            "Dimension:     XY\n",
            "Bounding box:  xmin: -122.1784 ymin: 44.46405 xmax: -121.7936 ymax: 44.74934\n",
            "Geodetic CRS:  WGS 84\n",
            "Reading layer `huc_10_20' from data source \n",
            "  `/content/Huc_Intersection_Set/content/HUC_Intersection_Set/huc_10_20.gpkg' \n",
            "  using driver `GPKG'\n",
            "Simple feature collection with 286439 features and 40 fields\n",
            "Geometry type: POINT\n",
            "Dimension:     XY\n",
            "Bounding box:  xmin: -123.1053 ymin: 44.01968 xmax: -122.3486 ymax: 44.23505\n",
            "Geodetic CRS:  WGS 84\n",
            "Reading layer `huc_10_21' from data source \n",
            "  `/content/Huc_Intersection_Set/content/HUC_Intersection_Set/huc_10_21.gpkg' \n",
            "  using driver `GPKG'\n",
            "Simple feature collection with 198076 features and 40 fields\n",
            "Geometry type: POINT\n",
            "Dimension:     XY\n",
            "Bounding box:  xmin: -123.0078 ymin: 44.07926 xmax: -122.5756 ymax: 44.30043\n",
            "Geodetic CRS:  WGS 84\n",
            "Reading layer `huc_10_22' from data source \n",
            "  `/content/Huc_Intersection_Set/content/HUC_Intersection_Set/huc_10_22.gpkg' \n",
            "  using driver `GPKG'\n",
            "Simple feature collection with 102842 features and 40 fields\n",
            "Geometry type: POINT\n",
            "Dimension:     XY\n",
            "Bounding box:  xmin: -123.181 ymin: 44.43246 xmax: -122.8449 ymax: 44.63975\n",
            "Geodetic CRS:  WGS 84\n",
            "Reading layer `huc_10_23' from data source \n",
            "  `/content/Huc_Intersection_Set/content/HUC_Intersection_Set/huc_10_23.gpkg' \n",
            "  using driver `GPKG'\n",
            "Simple feature collection with 365606 features and 40 fields\n",
            "Geometry type: POINT\n",
            "Dimension:     XY\n",
            "Bounding box:  xmin: -123.5579 ymin: 43.86418 xmax: -123.0587 ymax: 44.41431\n",
            "Geodetic CRS:  WGS 84\n",
            "Reading layer `huc_10_24' from data source \n",
            "  `/content/Huc_Intersection_Set/content/HUC_Intersection_Set/huc_10_24.gpkg' \n",
            "  using driver `GPKG'\n",
            "Simple feature collection with 280432 features and 40 fields\n",
            "Geometry type: POINT\n",
            "Dimension:     XY\n",
            "Bounding box:  xmin: -123.6642 ymin: 44.27531 xmax: -123.2534 ymax: 44.73747\n",
            "Geodetic CRS:  WGS 84\n",
            "Reading layer `huc_10_25' from data source \n",
            "  `/content/Huc_Intersection_Set/content/HUC_Intersection_Set/huc_10_25.gpkg' \n",
            "  using driver `GPKG'\n",
            "Simple feature collection with 351107 features and 40 fields\n",
            "Geometry type: POINT\n",
            "Dimension:     XY\n",
            "Bounding box:  xmin: -123.6533 ymin: 44.62171 xmax: -123.1298 ymax: 44.90786\n",
            "Geodetic CRS:  WGS 84\n",
            "Reading layer `huc_10_26' from data source \n",
            "  `/content/Huc_Intersection_Set/content/HUC_Intersection_Set/huc_10_26.gpkg' \n",
            "  using driver `GPKG'\n",
            "Simple feature collection with 344865 features and 40 fields\n",
            "Geometry type: POINT\n",
            "Dimension:     XY\n",
            "Bounding box:  xmin: -123.1466 ymin: 44.20945 xmax: -122.3218 ymax: 44.52751\n",
            "Geodetic CRS:  WGS 84\n",
            "Reading layer `huc_10_27' from data source \n",
            "  `/content/Huc_Intersection_Set/content/HUC_Intersection_Set/huc_10_27.gpkg' \n",
            "  using driver `GPKG'\n",
            "Simple feature collection with 480731 features and 40 fields\n",
            "Geometry type: POINT\n",
            "Dimension:     XY\n",
            "Bounding box:  xmin: -123.3187 ymin: 44.01938 xmax: -122.8952 ymax: 44.75528\n",
            "Geodetic CRS:  WGS 84\n",
            "Reading layer `huc_10_3' from data source \n",
            "  `/content/Huc_Intersection_Set/content/HUC_Intersection_Set/huc_10_3.gpkg' \n",
            "  using driver `GPKG'\n",
            "Simple feature collection with 94266 features and 40 fields\n",
            "Geometry type: POINT\n",
            "Dimension:     XY\n",
            "Bounding box:  xmin: -122.3286 ymin: 44.56358 xmax: -122.0444 ymax: 44.80096\n",
            "Geodetic CRS:  WGS 84\n",
            "Reading layer `huc_10_4' from data source \n",
            "  `/content/Huc_Intersection_Set/content/HUC_Intersection_Set/huc_10_4.gpkg' \n",
            "  using driver `GPKG'\n",
            "Simple feature collection with 77090 features and 40 fields\n",
            "Geometry type: POINT\n",
            "Dimension:     XY\n",
            "Bounding box:  xmin: -122.6129 ymin: 44.66192 xmax: -122.2717 ymax: 44.79476\n",
            "Geodetic CRS:  WGS 84\n",
            "Reading layer `huc_10_5' from data source \n",
            "  `/content/Huc_Intersection_Set/content/HUC_Intersection_Set/huc_10_5.gpkg' \n",
            "  using driver `GPKG'\n",
            "Simple feature collection with 98313 features and 40 fields\n",
            "Geometry type: POINT\n",
            "Dimension:     XY\n",
            "Bounding box:  xmin: -122.6092 ymin: 44.77731 xmax: -122.1315 ymax: 44.89981\n",
            "Geodetic CRS:  WGS 84\n",
            "Reading layer `huc_10_6' from data source \n",
            "  `/content/Huc_Intersection_Set/content/HUC_Intersection_Set/huc_10_6.gpkg' \n",
            "  using driver `GPKG'\n",
            "Simple feature collection with 96337 features and 40 fields\n",
            "Geometry type: POINT\n",
            "Dimension:     XY\n",
            "Bounding box:  xmin: -123.1425 ymin: 44.68454 xmax: -122.5136 ymax: 44.83628\n",
            "Geodetic CRS:  WGS 84\n",
            "Reading layer `huc_10_7' from data source \n",
            "  `/content/Huc_Intersection_Set/content/HUC_Intersection_Set/huc_10_7.gpkg' \n",
            "  using driver `GPKG'\n",
            "Simple feature collection with 117893 features and 40 fields\n",
            "Geometry type: POINT\n",
            "Dimension:     XY\n",
            "Bounding box:  xmin: -122.4033 ymin: 44.39856 xmax: -122.028 ymax: 44.56898\n",
            "Geodetic CRS:  WGS 84\n",
            "Reading layer `huc_10_8' from data source \n",
            "  `/content/Huc_Intersection_Set/content/HUC_Intersection_Set/huc_10_8.gpkg' \n",
            "  using driver `GPKG'\n",
            "Simple feature collection with 206069 features and 40 fields\n",
            "Geometry type: POINT\n",
            "Dimension:     XY\n",
            "Bounding box:  xmin: -122.4617 ymin: 44.26728 xmax: -122.1245 ymax: 44.48733\n",
            "Geodetic CRS:  WGS 84\n",
            "Reading layer `huc_10_9' from data source \n",
            "  `/content/Huc_Intersection_Set/content/HUC_Intersection_Set/huc_10_9.gpkg' \n",
            "  using driver `GPKG'\n",
            "Simple feature collection with 172908 features and 40 fields\n",
            "Geometry type: POINT\n",
            "Dimension:     XY\n",
            "Bounding box:  xmin: -122.5833 ymin: 44.42861 xmax: -122.1141 ymax: 44.6688\n",
            "Geodetic CRS:  WGS 84\n"
          ]
        }
      ]
    },
    {
      "cell_type": "code",
      "source": [
        "gedi_int_dt$mean_landtrendr %>% table"
      ],
      "metadata": {
        "id": "pJ63dzicWXjw",
        "outputId": "e440794c-9554-43fc-9de3-04b603293539",
        "colab": {
          "base_uri": "https://localhost:8080/",
          "height": 69
        }
      },
      "execution_count": 38,
      "outputs": [
        {
          "output_type": "display_data",
          "data": {
            "text/plain": [
              ".\n",
              "      0       1       2       3 \n",
              "4249926 1148941   25128   23653 "
            ]
          },
          "metadata": {}
        }
      ]
    },
    {
      "cell_type": "code",
      "source": [
        "gedi_int_dt %>% nrow\n",
        "gedi_int_dt[l4_quality_flag ==1,] %>% nrow\n",
        "\n",
        "gedi_int_dt %>% names"
      ],
      "metadata": {
        "colab": {
          "base_uri": "https://localhost:8080/",
          "height": 173
        },
        "id": "yY2m88HCvvGG",
        "outputId": "4244eef0-c4d6-42de-f65a-7e277114a4f8"
      },
      "execution_count": 43,
      "outputs": [
        {
          "output_type": "display_data",
          "data": {
            "text/html": [
              "5447648"
            ],
            "text/markdown": "5447648",
            "text/latex": "5447648",
            "text/plain": [
              "[1] 5447648"
            ]
          },
          "metadata": {}
        },
        {
          "output_type": "display_data",
          "data": {
            "text/html": [
              "1796045"
            ],
            "text/markdown": "1796045",
            "text/latex": "1796045",
            "text/plain": [
              "[1] 1796045"
            ]
          },
          "metadata": {}
        },
        {
          "output_type": "display_data",
          "data": {
            "text/html": [
              "<style>\n",
              ".list-inline {list-style: none; margin:0; padding: 0}\n",
              ".list-inline>li {display: inline-block}\n",
              ".list-inline>li:not(:last-child)::after {content: \"\\00b7\"; padding: 0 .5ex}\n",
              "</style>\n",
              "<ol class=list-inline><li>'agbd'</li><li>'lat_lowestmode'</li><li>'lon_lowestmode'</li><li>'agbd_pi_lower'</li><li>'agbd_pi_upper'</li><li>'agbd_se'</li><li>'agbd_t'</li><li>'agbd_t_se'</li><li>'algorithm_run_flag'</li><li>'channel'</li><li>'degrade_flag'</li><li>'delta_time'</li><li>'elev_lowestmode'</li><li>'l2_quality_flag'</li><li>'l4_quality_flag'</li><li>'gedi_year'</li><li>'min_landtrendr'</li><li>'max_landtrendr'</li><li>'mean_landtrendr'</li><li>'median_landtrendr'</li><li>'min_hja_2008'</li><li>'max_hja_2008'</li><li>'mean_hja_2008'</li><li>'median_hja_2008'</li><li>'min_conus_2003'</li><li>'max_conus_2003'</li><li>'mean_conus_2003'</li><li>'median_conus_2003'</li><li>'min_conus_2016'</li><li>'max_conus_2016'</li><li>'mean_conus_2016'</li><li>'median_conus_2016'</li><li>'gedi_vec_id'</li><li>'gedi_vec_year'</li><li>'gedi_vec_area'</li><li>'Ownership'</li><li>'LandManager'</li><li>'FIRE_INC_ID'</li><li>'FIRE_NAME'</li><li>'FIRE_YEAR'</li><li>'geom'</li></ol>\n"
            ],
            "text/markdown": "1. 'agbd'\n2. 'lat_lowestmode'\n3. 'lon_lowestmode'\n4. 'agbd_pi_lower'\n5. 'agbd_pi_upper'\n6. 'agbd_se'\n7. 'agbd_t'\n8. 'agbd_t_se'\n9. 'algorithm_run_flag'\n10. 'channel'\n11. 'degrade_flag'\n12. 'delta_time'\n13. 'elev_lowestmode'\n14. 'l2_quality_flag'\n15. 'l4_quality_flag'\n16. 'gedi_year'\n17. 'min_landtrendr'\n18. 'max_landtrendr'\n19. 'mean_landtrendr'\n20. 'median_landtrendr'\n21. 'min_hja_2008'\n22. 'max_hja_2008'\n23. 'mean_hja_2008'\n24. 'median_hja_2008'\n25. 'min_conus_2003'\n26. 'max_conus_2003'\n27. 'mean_conus_2003'\n28. 'median_conus_2003'\n29. 'min_conus_2016'\n30. 'max_conus_2016'\n31. 'mean_conus_2016'\n32. 'median_conus_2016'\n33. 'gedi_vec_id'\n34. 'gedi_vec_year'\n35. 'gedi_vec_area'\n36. 'Ownership'\n37. 'LandManager'\n38. 'FIRE_INC_ID'\n39. 'FIRE_NAME'\n40. 'FIRE_YEAR'\n41. 'geom'\n\n\n",
            "text/latex": "\\begin{enumerate*}\n\\item 'agbd'\n\\item 'lat\\_lowestmode'\n\\item 'lon\\_lowestmode'\n\\item 'agbd\\_pi\\_lower'\n\\item 'agbd\\_pi\\_upper'\n\\item 'agbd\\_se'\n\\item 'agbd\\_t'\n\\item 'agbd\\_t\\_se'\n\\item 'algorithm\\_run\\_flag'\n\\item 'channel'\n\\item 'degrade\\_flag'\n\\item 'delta\\_time'\n\\item 'elev\\_lowestmode'\n\\item 'l2\\_quality\\_flag'\n\\item 'l4\\_quality\\_flag'\n\\item 'gedi\\_year'\n\\item 'min\\_landtrendr'\n\\item 'max\\_landtrendr'\n\\item 'mean\\_landtrendr'\n\\item 'median\\_landtrendr'\n\\item 'min\\_hja\\_2008'\n\\item 'max\\_hja\\_2008'\n\\item 'mean\\_hja\\_2008'\n\\item 'median\\_hja\\_2008'\n\\item 'min\\_conus\\_2003'\n\\item 'max\\_conus\\_2003'\n\\item 'mean\\_conus\\_2003'\n\\item 'median\\_conus\\_2003'\n\\item 'min\\_conus\\_2016'\n\\item 'max\\_conus\\_2016'\n\\item 'mean\\_conus\\_2016'\n\\item 'median\\_conus\\_2016'\n\\item 'gedi\\_vec\\_id'\n\\item 'gedi\\_vec\\_year'\n\\item 'gedi\\_vec\\_area'\n\\item 'Ownership'\n\\item 'LandManager'\n\\item 'FIRE\\_INC\\_ID'\n\\item 'FIRE\\_NAME'\n\\item 'FIRE\\_YEAR'\n\\item 'geom'\n\\end{enumerate*}\n",
            "text/plain": [
              " [1] \"agbd\"               \"lat_lowestmode\"     \"lon_lowestmode\"    \n",
              " [4] \"agbd_pi_lower\"      \"agbd_pi_upper\"      \"agbd_se\"           \n",
              " [7] \"agbd_t\"             \"agbd_t_se\"          \"algorithm_run_flag\"\n",
              "[10] \"channel\"            \"degrade_flag\"       \"delta_time\"        \n",
              "[13] \"elev_lowestmode\"    \"l2_quality_flag\"    \"l4_quality_flag\"   \n",
              "[16] \"gedi_year\"          \"min_landtrendr\"     \"max_landtrendr\"    \n",
              "[19] \"mean_landtrendr\"    \"median_landtrendr\"  \"min_hja_2008\"      \n",
              "[22] \"max_hja_2008\"       \"mean_hja_2008\"      \"median_hja_2008\"   \n",
              "[25] \"min_conus_2003\"     \"max_conus_2003\"     \"mean_conus_2003\"   \n",
              "[28] \"median_conus_2003\"  \"min_conus_2016\"     \"max_conus_2016\"    \n",
              "[31] \"mean_conus_2016\"    \"median_conus_2016\"  \"gedi_vec_id\"       \n",
              "[34] \"gedi_vec_year\"      \"gedi_vec_area\"      \"Ownership\"         \n",
              "[37] \"LandManager\"        \"FIRE_INC_ID\"        \"FIRE_NAME\"         \n",
              "[40] \"FIRE_YEAR\"          \"geom\"              "
            ]
          },
          "metadata": {}
        }
      ]
    },
    {
      "cell_type": "code",
      "source": [
        "gedi_int_dt[!is.na(mean_hja_2008) &!is.na(agbd) ,][,list(agbd = mean(agbd,na.rm=T),mean_conus_2003 = mean(mean_conus_2003,na.rm=T),mean_hja_2008 = mean(mean_hja_2008,na.rm=T),mean_conus_2016 = mean(mean_conus_2016,na.rm=T)),by=.(gedi_year,min_landtrendr)] %>%\n",
        "  ggplot(aes(x=2023-mean_conus_2016,y=agbd,color='GEDI' %>% factor(levels = c('GEDI','ALS, 2008','MODIS 2003','LS, 2016'))))+\n",
        "  geom_point( ) +\n",
        "  geom_point(aes(y=mean_conus_2003,color='MODIS 2003' %>% factor(levels = c('GEDI','ALS, 2008','MODIS 2003','LS, 2016'))) ) +\n",
        "  geom_point(aes(y=mean_hja_2008,color='ALS, 2008' %>% factor(levels = c('GEDI','ALS, 2008','MODIS 2003','LS, 2016')))  ) +\n",
        "  geom_point(aes(y=mean_conus_2016,color='LS, 2016' %>% factor(levels = c('GEDI','ALS, 2008','MODIS 2003','LS, 2016')))  )+\n",
        "  # geom_abline(color='red') +\n",
        "  geom_smooth( ) +\n",
        "  geom_smooth(aes(y=mean_conus_2003,color='MODIS 2003' %>% factor(levels = c('GEDI','ALS, 2008','MODIS 2003','LS, 2016'))) ) +\n",
        "  geom_smooth(aes(y=mean_hja_2008,color='ALS, 2008' %>% factor(levels = c('GEDI','ALS, 2008','MODIS 2003','LS, 2016'))) ) +\n",
        "  geom_smooth(aes(y=mean_conus_2016,color='LS, 2016' %>% factor(levels = c('GEDI','ALS, 2008','MODIS 2003','LS, 2016'))) ) +\n",
        "  # Hide the annotations\n",
        "  # Manually add custom legend\n",
        "  xlab('years after disturbance')+\n",
        "  scale_color_manual(\n",
        "    values = c('GEDI' = 'green', 'MODIS 2003' = 'red', 'ALS, 2008' = 'purple', 'LS, 2016' = 'salmon'),\n",
        "    name = 'agbd source',  # Changing the name of the legend here\n",
        "    breaks = c('GEDI','MODIS 2003','ALS, 2008','LS, 2016'),\n",
        "    labels = c('GEDI', 'MODIS 2003', 'ALS, 2008','LS, 2016'),\n",
        "    position = 'bottom') +\n",
        "  theme(legend.position = 'bottom')"
      ],
      "metadata": {
        "id": "Fc_rzdmhmkcM",
        "outputId": "2501e824-3f3c-4af6-91ae-8d15d58f5b1d",
        "colab": {
          "base_uri": "https://localhost:8080/",
          "height": 506
        }
      },
      "execution_count": 44,
      "outputs": [
        {
          "output_type": "stream",
          "name": "stderr",
          "text": [
            "\u001b[1m\u001b[22m`geom_smooth()` using method = 'loess' and formula = 'y ~ x'\n",
            "\u001b[1m\u001b[22m`geom_smooth()` using method = 'loess' and formula = 'y ~ x'\n",
            "\u001b[1m\u001b[22m`geom_smooth()` using method = 'loess' and formula = 'y ~ x'\n",
            "\u001b[1m\u001b[22m`geom_smooth()` using method = 'loess' and formula = 'y ~ x'\n"
          ]
        },
        {
          "output_type": "display_data",
          "data": {
            "text/plain": [
              "plot without title"
            ],
            "image/png": "[encoded data removed]"
          },
          "metadata": {
            "image/png": {
              "width": 420,
              "height": 420
            }
          }
        }
      ]
    },
    {
      "cell_type": "code",
      "source": [],
      "metadata": {
        "id": "lEHJpuylaVOr"
      },
      "execution_count": null,
      "outputs": []
    },
    {
      "cell_type": "code",
      "source": [
        "year_off <- 1\n",
        "\n",
        "agbd_preval_lm <-\n",
        "summary_dt[l4_quality_flag ==1 & min.yod>1984 & round(min.yod) == (year %>% as.numeric-year_off) & round(max.yod) == (year %>% as.numeric-year_off),][,agbd_group:= round(min.preval,-1)][,agbd_group:= round(min.preval,-2)][,mag_group:= round(min.mag,-2)][,yod_group:= round(2023 - min.yod)][,list(min.preval = mean(mean.preval,na.rm=T),min.mag= mean(mean.mag,na.rm=T),agbd= mean(agbd,na.rm=T)),by=c('agbd_group','mag_group','yod_group')][,min.endval:=(min.preval-min.mag)] %>%\n",
        "  lm(agbd~min.endval,.)\n",
        "\n",
        "summary_dt$agbd_postval <- predict(agbd_preval_lm,summary_dt[,min.endval:=(min.preval-min.mag)])\n",
        "summary_dt[min.preval ==0]$agbd_postval <-NA\n",
        "\n",
        "summary_dt$agbd_preval <- predict(agbd_preval_lm,summary_dt[,min.endval:=(min.preval)])\n",
        "summary_dt[min.preval ==0]$agbd_preval <-NA"
      ],
      "metadata": {
        "id": "GFZpLY_CymGX",
        "colab": {
          "base_uri": "https://localhost:8080/",
          "height": 333
        },
        "outputId": "af46993d-9d53-4f9f-c6f6-c12028fe79af"
      },
      "execution_count": null,
      "outputs": [
        {
          "output_type": "error",
          "ename": "ERROR",
          "evalue": "ignored",
          "traceback": [
            "Error in lm.fit(x, y, offset = offset, singular.ok = singular.ok, ...): 0 (non-NA) cases\nTraceback:\n",
            "1. summary_dt[l4_quality_flag == 1 & min.yod > 1984 & round(min.yod) == \n .     (year %>% as.numeric - year_off) & round(max.yod) == (year %>% \n .     as.numeric - year_off), ][, `:=`(agbd_group, round(min.preval, \n .     -1))][, `:=`(agbd_group, round(min.preval, -2))][, `:=`(mag_group, \n .     round(min.mag, -2))][, `:=`(yod_group, round(2023 - min.yod))][, \n .     list(min.preval = mean(mean.preval, na.rm = T), min.mag = mean(mean.mag, \n .         na.rm = T), agbd = mean(agbd, na.rm = T)), by = c(\"agbd_group\", \n .         \"mag_group\", \"yod_group\")][, `:=`(min.endval, (min.preval - \n .     min.mag))] %>% lm(agbd ~ min.endval, .)",
            "2. lm(agbd ~ min.endval, .)",
            "3. lm.fit(x, y, offset = offset, singular.ok = singular.ok, ...)",
            "4. stop(\"0 (non-NA) cases\")"
          ]
        }
      ]
    },
    {
      "cell_type": "code",
      "source": [
        "fire_history_gpkg <- st_read('/content/Fire_History_polygon.gpkg')"
      ],
      "metadata": {
        "id": "cO4ekD-fmhva"
      },
      "execution_count": null,
      "outputs": []
    },
    {
      "cell_type": "code",
      "source": [
        "fire_history_gpkg <- fire_history_gpkg %>% st_cast('POLYGON')"
      ],
      "metadata": {
        "id": "pyosdJnBad9u"
      },
      "execution_count": null,
      "outputs": []
    },
    {
      "cell_type": "code",
      "source": [
        "fire_history_int <- summary_dt %>% st_as_sf %>% st_intersects(fire_history_gpkg %>% st_transform(st_crs(summary_dt$geom)))"
      ],
      "metadata": {
        "id": "dvstL_1Pc7Io"
      },
      "execution_count": null,
      "outputs": []
    },
    {
      "cell_type": "code",
      "source": [
        "(fire_history_int %>% unlist)[1:5]"
      ],
      "metadata": {
        "id": "ybCO9BCjdKl8"
      },
      "execution_count": null,
      "outputs": []
    },
    {
      "cell_type": "code",
      "source": [
        "huc_8_int <- summary_dt %>% st_as_sf %>% st_intersects(huc_8_gpgk)\n",
        "\n",
        "huc_10_int <- summary_dt %>% st_as_sf %>% st_intersects(huc_10_gpgk)\n",
        "\n",
        "huc_12_int <- summary_dt %>% st_as_sf %>% st_intersects(huc_12_gpgk)"
      ],
      "metadata": {
        "id": "jewVgANZyuUp"
      },
      "execution_count": null,
      "outputs": []
    },
    {
      "cell_type": "code",
      "source": [
        "fire_history_gpkg %>% data.table %>% head %>% names\n"
      ],
      "metadata": {
        "id": "sgvQk7F2rCQw"
      },
      "execution_count": null,
      "outputs": []
    },
    {
      "cell_type": "code",
      "source": [
        "fire_summary_dt <- data.table(summary_dt, (fire_history_gpkg %>% data.table)[,c('FIRE_NUM','FIRE_CODE','FIRE_NAME','FIRE_YEAR')][fire_history_int %>% lapply(function(x){x[1]}) %>% unlist,])\n"
      ],
      "metadata": {
        "id": "Y7YpelbKqvp4"
      },
      "execution_count": null,
      "outputs": []
    },
    {
      "cell_type": "code",
      "source": [
        "fire_summary_dt$FIRE_YEAR %>% table"
      ],
      "metadata": {
        "id": "2yraBkoHrbMT"
      },
      "execution_count": null,
      "outputs": []
    },
    {
      "cell_type": "code",
      "source": [
        "# huc_8_summary_dt"
      ],
      "metadata": {
        "id": "l7PC-ctcq3lq"
      },
      "execution_count": null,
      "outputs": []
    },
    {
      "cell_type": "code",
      "source": [
        "huc_8_summary_dt <- data.table(summary_dt, (huc_8_gpgk %>% data.table)[,c('TNMID','HUC8','Name')][huc_8_int %>% lapply(function(x){x[1]}) %>% unlist,])\n",
        "huc_10_summary_dt <- data.table(summary_dt, (huc_10_gpgk %>% data.table)[,c('TNMID','HUC10','Name')][huc_10_int %>% lapply(function(x){x[1]}) %>% unlist,])\n",
        "huc_12_summary_dt <- data.table(summary_dt, (huc_12_gpgk %>% data.table)[,c('TNMID','HUC12','Name')][huc_12_int %>% lapply(function(x){x[1]}) %>% unlist,])"
      ],
      "metadata": {
        "id": "iOz_SsQsyvv8"
      },
      "execution_count": null,
      "outputs": []
    },
    {
      "cell_type": "code",
      "source": [
        "# # resample_dt[,agbd := rnorm(1,agbd,agbd_se),by=row_id]\n",
        "# # gc()\n",
        "# resamp_vec <-\n",
        "# 1:nrow(resample_dt) %>%\n",
        "#   lapply(function(x){\n",
        "#     if(!is.na())\n",
        "#     rnorm(1,resample_dt$agbd[[x]],resample_dt$agbd_sd[[x]])\n",
        "#   })\n",
        "resample_dt <- NULL\n",
        "gc()"
      ],
      "metadata": {
        "id": "pYI05ddv2IVy"
      },
      "execution_count": null,
      "outputs": []
    },
    {
      "cell_type": "code",
      "source": [
        "summary_dt[,group_quantile:=as.integer(cut(agbd_postval, breaks = quantile(agbd_postval[!is.na(agbd) & median.preval > 0], probs = seq(0, 1, by = 1/3),na.rm=T), labels = FALSE, include.lowest = TRUE)) ]\n",
        "summary_dt$group <- NA\n",
        "# summary_dt[!is.na(agbd) & median.preval > 0, group_quantile := kmeans(((median.preval - median.mag) / median.preval)[.I], centers = 4)$cluster]\n",
        "\n",
        "\n",
        "\n",
        "summary_dt$group <- NA\n",
        "summary_dt[!is.na(agbd_postval), group := kmeans((agbd_postval)[.I], centers = 3)$cluster]\n",
        "\n",
        "\n",
        "cluster_dt <- summary_dt[!is.na(agbd) & median.preval > 0,list(agbd_postval = mean(agbd_postval)),by=group][order(agbd_postval)]\n",
        "cluster_dt$group_new <- 1:nrow(cluster_dt)\n",
        "cluster_dt <- cluster_dt[order(group)]\n",
        "# print(cluster_dt)\n",
        "summary_dt$group <- cluster_dt$group_new[summary_dt$group]\n",
        "\n",
        "summary_dt[,list(agbd_postval = mean(agbd_postval),n = length(agbd_postval)),by=group_quantile][order(agbd_postval)]\n",
        "\n",
        "summary_dt[,list(agbd_postval = mean(agbd_postval),n = length(agbd_postval)),by=group][order(agbd_postval)]"
      ],
      "metadata": {
        "id": "S-SATZn8zk19"
      },
      "execution_count": null,
      "outputs": []
    },
    {
      "cell_type": "code",
      "source": [
        "install.packages('randomForest')"
      ],
      "metadata": {
        "id": "ktLhWRVBWofl"
      },
      "execution_count": null,
      "outputs": []
    },
    {
      "cell_type": "code",
      "source": [
        "library(randomForest)"
      ],
      "metadata": {
        "id": "ou99rvW2WmRt"
      },
      "execution_count": null,
      "outputs": []
    },
    {
      "cell_type": "code",
      "source": [
        "calibration_dt[,group_quantile:=as.integer(cut(mean.preval-mean.mag, breaks = quantile((mean.preval-mean.mag)[!is.na(agbd) & median.preval > 0], probs = seq(0, 1, by = 1/3),na.rm=T), labels = FALSE, include.lowest = TRUE))  %>%as.factor()]\n",
        "\n",
        "calibration_dt %>%\n",
        "  ggplot(aes(x = mean.preval-mean.mag,y=agbd))+\n",
        "  geom_point(aes(color=group_quantile))"
      ],
      "metadata": {
        "id": "icMSSOV1X2Rr"
      },
      "execution_count": null,
      "outputs": []
    },
    {
      "cell_type": "code",
      "source": [
        "calibration_dt <- resample_dt[min.yod>1984 & !is.na(agbd) ,]\n",
        "calibration_dt$id <- 1:nrow(calibration_dt)\n",
        "calibration_dt[,post_val := mean(mean.preval - mean.mag),by = id]\n",
        "# calibration_dt[,group_quantile:=as.integer(cut(agbd, breaks = quantile(agbd, probs = seq(0, 1, by = 1/3),na.rm=T), labels = FALSE, include.lowest = TRUE)) %>% factor ]\n",
        "# calibration_dt[,agbd_quantile:=as.integer(cut(agbd, breaks = quantile(agbd, probs = seq(0, 1, by = 1/3),na.rm=T), labels = FALSE, include.lowest = TRUE)) %>% factor ]\n",
        "# calibration_dt[,postval_quantile:=as.integer(cut(mean.preval - mean.mag, breaks = quantile(mean.preval - mean.mag, probs = seq(0, 1, by = 1/3),na.rm=T), labels = FALSE, include.lowest = TRUE)) %>% factor ]\n",
        "\n",
        "\n",
        "# calibration_dt %>%\n",
        "#   ggplot(aes(x=agbd))+\n",
        "#   geom_boxplot(aes(color=postval_quantile))\n",
        "# names(calibration_dt)\n",
        "# rf_form <- as.formula(paste('group_quantile ~',c('post_val',(calibration_dt %>% names)[18:41]) %>% paste(.,collapse = '+')))\n",
        "# resample_dt$id <- 1:nrow(resample_dt)\n",
        "\n",
        "# resample_dt[,agbd_quantile:=as.integer(cut(agbd, breaks = quantile(agbd, probs = seq(0, 1, by = 1/3),na.rm=T), labels = FALSE, include.lowest = TRUE)) %>% factor ]\n",
        "# resample_dt[,postval_quantile:=as.integer(cut(mean.preval - mean.mag, breaks = quantile(mean.preval - mean.mag, probs = seq(0, 1, by = 1/3),na.rm=T), labels = FALSE, include.lowest = TRUE)) %>% factor ]\n",
        "\n",
        "# resample_dt[,post_val := mean(mean.preval - mean.mag),by = id]\n",
        "# rf_result <-  randomForest(rf_form,resample_dt[min.yod>1984 & !is.na(agbd)])\n"
      ],
      "metadata": {
        "id": "_3MjrahgsDKj"
      },
      "execution_count": null,
      "outputs": []
    },
    {
      "cell_type": "code",
      "source": [
        "while(TRUE){}"
      ],
      "metadata": {
        "id": "XoAKNT-0JuCv"
      },
      "execution_count": null,
      "outputs": []
    },
    {
      "cell_type": "code",
      "source": [
        "post_gedi_dt %>%head"
      ],
      "metadata": {
        "id": "aevTfUHjonTI"
      },
      "execution_count": null,
      "outputs": []
    },
    {
      "cell_type": "code",
      "source": [
        "resample_dt[,group:=as.integer(cut(agbd, breaks = quantile(agbd, probs = seq(0, 1, by = 1/3),na.rm=T), labels = FALSE, include.lowest = TRUE)),by = .(round(median.yod/5)*5)]\n",
        "\n",
        "# table(resample_dt$group,round(resample_dt$median.yod /1)*1)"
      ],
      "metadata": {
        "id": "L7YPi2xuJt9J"
      },
      "execution_count": null,
      "outputs": []
    },
    {
      "cell_type": "code",
      "source": [
        "fire_summary_dt$gedi_era <-  fire_summary_dt$min.yod > min(fire_summary_dt$year %>% as.numeric)\n",
        "\n",
        "fire_summary_dt$post_gedi <-  (fire_summary_dt$year %>% as.numeric) - fire_summary_dt$mean.yod\n",
        "\n",
        "# fire_summary_dt$pre_gedi <-"
      ],
      "metadata": {
        "id": "onLPiWaTtaCZ"
      },
      "execution_count": null,
      "outputs": []
    },
    {
      "cell_type": "code",
      "source": [
        "post_gedi_dt <- fire_summary_dt[l4_quality_flag ==1 & min.yod>1984 & gedi_era  ]\n",
        "post_gedi_dt[agbd >0 &year %>% as.numeric == round(mean.yod+1) |year %>% as.numeric == round(mean.yod+1) | year %>% as.numeric == round(mean.yod+2)| year %>% as.numeric == round(mean.yod+3)| year %>% as.numeric == round(mean.yod+4)| year %>% as.numeric == round(mean.yod+5)]    %>%\n",
        "  ggplot(aes(y=agbd,x=mean.preval-mean.mag))+\n",
        "  geom_bin2d()+\n",
        "  geom_smooth(method='lm')"
      ],
      "metadata": {
        "id": "vC1GxTOqvcjm"
      },
      "execution_count": null,
      "outputs": []
    },
    {
      "cell_type": "code",
      "source": [
        "fire_summary_dt$gedi_era %>% table"
      ],
      "metadata": {
        "id": "up0OQLwBue38"
      },
      "execution_count": null,
      "outputs": []
    },
    {
      "cell_type": "code",
      "source": [
        "# 1:1000\n",
        "resample_dt <- fire_summary_dt\n",
        "# resample_dt <- fire_summary_dt[min.yod>1984 & !is.na(agbd) & is.na(FIRE_YEAR) & l4_quality_flag ==1 &min.endval>0]\n",
        "\n",
        "# resample_dt %>% head\n",
        "\n",
        "\n",
        "# agbd_preval_lm <-resample_dt[] %>%\n",
        "#   lm(agbd~min.endval,.)\n",
        "\n",
        "# agbd_preval_lm %>% summary\n",
        "\n",
        "resample_dt$agbd_postval <- predict(agbd_preval_lm,resample_dt[,min.endval:=(min.preval-min.mag)])\n",
        "resample_dt$agbd_preval <- predict(agbd_preval_lm,resample_dt[,min.endval:=(min.preval)])\n",
        "\n",
        "# min.yod>1984 & round(min.yod) %in% c(round(year %>% as.numeric)-c(1,2)) &  round(max.yod) %in% c(round(year%>% as.numeric)-c(1,2))\n",
        "resample_dt[,min.endval:=(min.preval-min.mag)]\n",
        "# resample_dt$min.endval\n",
        "# # resample_dt$agbd_postval\n",
        "# # resample_dt[,agbd_postval:=mean(agbd[min.yod>1984 & round(min.yod) %in% c(round(year %>% as.numeric)+c(1,2)) &  round(max.yod) %in% c(round(year%>% as.numeric)+c(1,2))],na.rm=T),by = group]\n",
        "# # resample_dt[,agbd_preval:=mean(agbd[min.yod>1984 & round(min.yod) %in% c(round(year %>% as.numeric)+c(1,2)) &  round(max.yod) %in% c(round(year%>% as.numeric)+c(1,2))],na.rm=T),by = group]\n",
        "resample_dt[,group:=as.integer(cut(agbd, breaks = quantile(agbd, probs = seq(0, 1, by = 1/3),na.rm=T), labels = FALSE, include.lowest = TRUE)) ]\n",
        "\n",
        "resample_dt[,group_agbd_preval:=mean(agbd[min.yod>1984 & round(mean.yod) %in% c(round(year %>% as.numeric)+c(1,2,3))],na.rm=T) ,by=group]\n",
        "\n",
        "resample_dt[,group_agbd_postval:=mean(agbd[min.yod>1984 & round(mean.yod) < round(year %>% as.numeric) ],na.rm=T) ,by=group]\n",
        "\n",
        "\n",
        "plot_dt <- resample_dt[min.yod>1984 &l4_quality_flag ==1,][,yod_round := round(mean.yod)][,list(agbd = mean(agbd,na.rm=T),yad = mean(2023-mean.yod),group_agbd_preval=mean(group_agbd_preval,na.rm=T),group_agbd_postval=mean(group_agbd_postval,na.rm=T),n = length(mean.yod)),by = .(group,yod_round)][yad>1]\n",
        "\n",
        "\n",
        "plot_dt[,agbd_yr:=(agbd/yad),by=group]\n",
        "\n",
        "plot_dt[order(yad),agbd_yr_cumsum := cumsum(agbd/yad)-group_agbd_postval,by = group]\n",
        "\n",
        "# summary_dt[,group_quantile:=as.integer(cut(agbd_postval, breaks = quantile(agbd_postval[!is.na(agbd) & median.preval > 0], probs = seq(0, 1, by = 1/3),na.rm=T), labels = FALSE, include.lowest = TRUE)) ]\n",
        "# summary_dt$group <- NA\n",
        "# # summary_dt[!is.na(agbd) & median.preval > 0, group_quantile := kmeans(((median.preval - median.mag) / median.preval)[.I], centers = 4)$cluster]\n",
        "\n",
        "\n",
        "\n",
        "# summary_dt$group <- NA\n",
        "# summary_dt[!is.na(agbd_postval), group := kmeans((agbd_postval)[.I], centers = 3)$cluster]\n",
        "\n",
        "\n",
        "# cluster_dt <- summary_dt[!is.na(agbd) & median.preval > 0,list(agbd_postval = mean(agbd_postval)),by=group][order(agbd_postval)]\n",
        "# cluster_dt$group_new <- 1:nrow(cluster_dt)\n",
        "# cluster_dt <- cluster_dt[order(group)]\n",
        "# # print(cluster_dt)\n",
        "# summary_dt$group <- cluster_dt$group_new[summary_dt$group]\n",
        "\n",
        "# summary_dt[,list(agbd_postval = mean(agbd_postval),n = length(agbd_postval)),by=group_quantile][order(agbd_postval)]\n",
        "\n",
        "# summary_dt[,list(agbd_postval = mean(agbd_postval),n = length(agbd_postval)),by=group][order(agbd_postval)]\n",
        "\n",
        "plot_dt$yod %>% max\n",
        "\n",
        "plot_dt %>%\n",
        "\n",
        "ggplot(aes(x=yad,y=agbd_yr,group=group))+\n",
        "\n",
        "geom_point()+\n",
        "\n",
        "geom_smooth(aes(color=group))\n",
        "\n",
        "\n",
        "# plot_dt %>%\n",
        "# ggplot(aes(x=yad,y=agbd_yr_cumsum,group=group_quantile))+\n",
        "# geom_point()+\n",
        "# geom_line(aes(color=group_quantile))\n",
        "# geom_smooth(data=pred_dt,aes(),color='red')"
      ],
      "metadata": {
        "id": "_X_pF4TT9vRB"
      },
      "execution_count": null,
      "outputs": []
    },
    {
      "cell_type": "code",
      "source": [
        "gedi_vec_gpkg$area <- st_area(gedi_vec_gpkg)\n",
        "\n",
        "summary_dt$gedi_clust <- st_intersects(summary_dt$geom,gedi_vec_gpkg) %>% lapply(function(x){x[1]}) %>% unlist\n",
        "summary_dt$gedi_clust_area <- gedi_vec_gpkg$area[summary_dt$gedi_clust]"
      ],
      "metadata": {
        "id": "W-VRWy919p2O"
      },
      "execution_count": null,
      "outputs": []
    },
    {
      "cell_type": "code",
      "source": [
        "summary_dt[min.yod > 1984 & agbd>0 &l4_quality_flag ==1,] %>%\n",
        "  ggplot(aes(y=(agbd - agbd_preval)/(2023-max.yod),x=max.yod,group=group))+\n",
        "  geom_point() +\n",
        "  # geom_line(aes(color=group))+\n",
        "  geom_smooth(aes(color=group))"
      ],
      "metadata": {
        "id": "ooqmNof1AuNl"
      },
      "execution_count": null,
      "outputs": []
    },
    {
      "cell_type": "code",
      "source": [
        "huc_8_int <- summary_dt %>% st_as_sf %>% st_intersects(huc_8_gpgk)\n",
        "\n",
        "huc_10_int <- summary_dt %>% st_as_sf %>% st_intersects(huc_10_gpgk)\n",
        "\n",
        "huc_12_int <- summary_dt %>% st_as_sf %>% st_intersects(huc_12_gpgk)"
      ],
      "metadata": {
        "id": "ioGSIgshMojf"
      },
      "execution_count": null,
      "outputs": []
    },
    {
      "cell_type": "code",
      "source": [
        "huc_8_summary_dt <- data.table(summary_dt, (huc_8_gpgk %>% data.table)[,c('TNMID','HUC8','Name')][huc_8_int %>% lapply(function(x){x[1]}) %>% unlist,])\n",
        "huc_10_summary_dt <- data.table(summary_dt, (huc_10_gpgk %>% data.table)[,c('TNMID','HUC10','Name')][huc_10_int %>% lapply(function(x){x[1]}) %>% unlist,])\n",
        "huc_12_summary_dt <- data.table(summary_dt, (huc_12_gpgk %>% data.table)[,c('TNMID','HUC12','Name')][huc_12_int %>% lapply(function(x){x[1]}) %>% unlist,])"
      ],
      "metadata": {
        "id": "Oh3ejwKJOF8z"
      },
      "execution_count": null,
      "outputs": []
    },
    {
      "cell_type": "code",
      "source": [
        "targ_dt <- huc_10_summary_dt[Name == 'Thomas Creek' & group ==1]\n",
        "\n",
        "loess_dt <- huc_10_summary_dt[min.yod>1984 &agbd>0 ,][,yod_round := round(mean.yod)][,list(agbd = mean(agbd-agbd_preval,na.rm=T),yad = mean(2023-mean.yod),n = length(mean.yod)),by = .(group,Name,yod_round)][yad>3]\n",
        "\n",
        "huc_10_summary_dt[,yad := 2023-mean.yod]\n",
        "targ_dt$agbd_pred <-\n",
        "predict(loess_dt[Name == 'Thomas Creek' & group == 1] %>%\n",
        "  loess(agbd~yad,.), targ_dt)"
      ],
      "metadata": {
        "id": "rHcRc44CoZUB"
      },
      "execution_count": null,
      "outputs": []
    },
    {
      "cell_type": "code",
      "source": [
        "targ_dt[yad>3,] %>%\n",
        "  ggplot(aes(x=agbd_pred-agbd))+\n",
        "  geom_histogram(bins=100)"
      ],
      "metadata": {
        "id": "VHXKFI43qb6o"
      },
      "execution_count": null,
      "outputs": []
    },
    {
      "cell_type": "code",
      "source": [
        "targ_dt[yad>3,] %>% st_as_sf() %>% st_write('/content/example.gpkg')"
      ],
      "metadata": {
        "id": "zTczNC-psVkZ"
      },
      "execution_count": null,
      "outputs": []
    },
    {
      "cell_type": "code",
      "source": [
        "huc_10_dist_table <- huc_10_summary_dt$Name %>% table\n",
        "huc_10_summary_dt <- huc_10_summary_dt[Name %in% c(huc_10_dist_table[huc_10_dist_table>100] %>% names),]\n",
        "\n",
        "huc_10_summary_dt[,group:=as.integer(cut((median.preval-median.mag)/median.preval, breaks = quantile((median.preval[!is.na(agbd) & median.preval > 0]-median.mag[!is.na(agbd) & median.preval > 0])/median.preval[!is.na(agbd) & median.preval > 0], probs = seq(0, 1, by = 0.25)), labels = FALSE, include.lowest = TRUE)) ,by = 'Name']\n",
        "\n",
        "\n",
        "\n",
        "fit <- loess(y ~ x)\n",
        "predictions <- predict(fit, newdata = data.frame(x = x))\n",
        "\n",
        "huc_10_summary_dt[min.yod>1984 &agbd>0 ,][,yod_round := round(mean.yod)][,list(agbd = mean(agbd-agbd_preval,na.rm=T),yad = mean(2023-mean.yod),n = length(mean.yod)),by = .(group,Name,yod_round)][yad>3] %>%\n",
        "ggplot(aes(x=yad,y=(floor(agbd))/ceiling(yad),group=group))+\n",
        "geom_point()+\n",
        "geom_smooth(aes(color=group)) +\n",
        "facet_wrap(Name~.)\n"
      ],
      "metadata": {
        "id": "uR3Sr08MgzjT"
      },
      "execution_count": null,
      "outputs": []
    },
    {
      "cell_type": "code",
      "source": [
        "huc_12_dist_table <- huc_12_summary_dt$Name %>% table\n",
        "huc_12_summary_dt <- huc_12_summary_dt[Name %in% c(huc_12_dist_table[huc_12_dist_table>100] %>% names),]\n",
        "\n",
        "huc_12_summary_dt[,group:=as.integer(cut((median.preval-median.mag)/median.preval, breaks = quantile((median.preval[!is.na(agbd) & median.preval > 0]-median.mag[!is.na(agbd) & median.preval > 0])/median.preval[!is.na(agbd) & median.preval > 0], probs = seq(0, 1, by = 0.25)), labels = FALSE, include.lowest = TRUE)) ,by = 'Name']\n",
        "\n",
        "\n",
        "\n",
        "\n",
        "\n",
        "huc_12_summary_dt[min.yod>1984 &agbd>0 ,][,yod_round := round(mean.yod)][,list(agbd = mean(agbd-agbd_preval,na.rm=T),yad = mean(2023-mean.yod),n = length(mean.yod)),by = .(group,Name,yod_round)][yad>3] %>%\n",
        "ggplot(aes(x=yad,y=(floor(agbd))/ceiling(yad),group=group))+\n",
        "geom_point()+\n",
        "geom_smooth(aes(color=group)) +\n",
        "facet_wrap(Name~.)"
      ],
      "metadata": {
        "id": "SCNJ9gdGk68j"
      },
      "execution_count": null,
      "outputs": []
    }
  ]
}
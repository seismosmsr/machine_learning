{
  "nbformat": 4,
  "nbformat_minor": 0,
  "metadata": {
    "colab": {
      "provenance": [],
      "machine_shape": "hm"
    },
    "kernelspec": {
      "name": "ir",
      "display_name": "R"
    },
    "language_info": {
      "name": "R"
    }
  },
  "cells": [
    {
      "cell_type": "code",
      "source": [
        "install.packages('sf')\n",
        "install.packages('raster')\n",
        "install.packages('exactextractr')\n",
        "install.packages(\"googledrive\")\n",
        "install.packages(\"googletoken\")\n",
        "install.packages(\"DBI\")\n",
        "install.packages(\"RSQLite\")\n",
        "install.packages(\"RPostgreSQL\")"
      ],
      "metadata": {
        "colab": {
          "base_uri": "https://localhost:8080/"
        },
        "id": "rC3Pg61Wq8On",
        "outputId": "7160bddf-bbbb-4586-b00d-be3578250591"
      },
      "execution_count": 1,
      "outputs": [
        {
          "output_type": "stream",
          "name": "stderr",
          "text": [
            "Installing package into ‘/usr/local/lib/R/site-library’\n",
            "(as ‘lib’ is unspecified)\n",
            "\n",
            "also installing the dependencies ‘proxy’, ‘e1071’, ‘wk’, ‘classInt’, ‘Rcpp’, ‘s2’, ‘units’\n",
            "\n",
            "\n",
            "Installing package into ‘/usr/local/lib/R/site-library’\n",
            "(as ‘lib’ is unspecified)\n",
            "\n",
            "also installing the dependencies ‘sp’, ‘terra’\n",
            "\n",
            "\n",
            "Installing package into ‘/usr/local/lib/R/site-library’\n",
            "(as ‘lib’ is unspecified)\n",
            "\n",
            "Installing package into ‘/usr/local/lib/R/site-library’\n",
            "(as ‘lib’ is unspecified)\n",
            "\n",
            "Installing package into ‘/usr/local/lib/R/site-library’\n",
            "(as ‘lib’ is unspecified)\n",
            "\n",
            "Warning message:\n",
            "“package ‘googletoken’ is not available for this version of R\n",
            "\n",
            "A version of this package for your version of R might be available elsewhere,\n",
            "see the ideas at\n",
            "https://cran.r-project.org/doc/manuals/r-patched/R-admin.html#Installing-packages”\n",
            "Installing package into ‘/usr/local/lib/R/site-library’\n",
            "(as ‘lib’ is unspecified)\n",
            "\n",
            "Installing package into ‘/usr/local/lib/R/site-library’\n",
            "(as ‘lib’ is unspecified)\n",
            "\n",
            "also installing the dependency ‘plogr’\n",
            "\n",
            "\n",
            "Installing package into ‘/usr/local/lib/R/site-library’\n",
            "(as ‘lib’ is unspecified)\n",
            "\n"
          ]
        }
      ]
    },
    {
      "cell_type": "code",
      "execution_count": 2,
      "metadata": {
        "id": "ohy4torjkZq2",
        "outputId": "dd61541a-8881-4b23-81e5-fb76518f0e2e",
        "colab": {
          "base_uri": "https://localhost:8080/"
        }
      },
      "outputs": [
        {
          "output_type": "stream",
          "name": "stderr",
          "text": [
            "Linking to GEOS 3.10.2, GDAL 3.4.3, PROJ 8.2.1; sf_use_s2() is TRUE\n",
            "\n",
            "Loading required package: sp\n",
            "\n",
            "The legacy packages maptools, rgdal, and rgeos, underpinning the sp package,\n",
            "which was just loaded, will retire in October 2023.\n",
            "Please refer to R-spatial evolution reports for details, especially\n",
            "https://r-spatial.org/r/2023/05/15/evolution4.html.\n",
            "It may be desirable to make the sf package available;\n",
            "package maintainers should consider adding sf to Suggests:.\n",
            "The sp package is now running under evolution status 2\n",
            "     (status 2 uses the sf package in place of rgdal)\n",
            "\n"
          ]
        }
      ],
      "source": [
        "library(ggplot2)\n",
        "library(sf)\n",
        "library(magrittr)\n",
        "library(data.table)\n",
        "library(raster)\n",
        "library(exactextractr)\n",
        "library(googledrive)\n",
        "library(DBI)\n",
        "library(utils)"
      ]
    },
    {
      "cell_type": "code",
      "source": [
        "drive_auth(use_oob = TRUE, cache = FALSE)"
      ],
      "metadata": {
        "id": "oFc9lzeokYuK",
        "outputId": "a70a8b1d-b874-46c3-b363-e926ab0af14a",
        "colab": {
          "base_uri": "https://localhost:8080/"
        }
      },
      "execution_count": 3,
      "outputs": [
        {
          "output_type": "stream",
          "name": "stderr",
          "text": [
            "Please point your browser to the following url: \n",
            "\n",
            "https://accounts.google.com/o/oauth2/v2/auth?client_id=603366585132-frjlouoa3s2ono25d2l9ukvhlsrlnr7k.apps.googleusercontent.com&scope=https%3A%2F%2Fwww.googleapis.com%2Fauth%2Fdrive%20https%3A%2F%2Fwww.googleapis.com%2Fauth%2Fuserinfo.email&redirect_uri=https%3A%2F%2Fwww.tidyverse.org%2Fgoogle-callback%2F&response_type=code&state=7a5c65ad581c2d96d01e71bbd27abbb5&access_type=offline&prompt=consent\n",
            "\n"
          ]
        },
        {
          "name": "stdout",
          "output_type": "stream",
          "text": [
            "Enter authorization code: eyJjb2RlIjoiNC8wQWZKb2hYbjIwV3czbGctcVVRZW0zOF9SR1I5WHhIbURVR0lvc29xT1pRZTltX0xXMDNmUWktSEk2Y1ZIdmxZZFNRR21BZyIsInN0YXRlIjoiN2E1YzY1YWQ1ODFjMmQ5NmQwMWU3MWJiZDI3YWJiYjUifQ==\n"
          ]
        }
      ]
    },
    {
      "cell_type": "code",
      "source": [
        "# while(TRUE){}"
      ],
      "metadata": {
        "id": "neOkVr_mkd8m"
      },
      "execution_count": 4,
      "outputs": []
    },
    {
      "cell_type": "code",
      "source": [
        "# drive_deauth()\n",
        "# drive_auth(use_oob = TRUE, cache = FALSE)"
      ],
      "metadata": {
        "id": "hVkqfgfpnel2"
      },
      "execution_count": 5,
      "outputs": []
    },
    {
      "cell_type": "code",
      "source": [
        "# GEDI data\n",
        "# https://drive.google.com/file/d/14jTxo28D2bsC68EpVsbSaY7SpYM5MIA4/view?usp=drive_link\n",
        "\n",
        "# Landtrendr data\n",
        "# https://drive.google.com/file/d/1FrN1tUojGV80f3kDtmezsFsvLabIoGiW/view?usp=drive_link\n",
        "\n",
        "# HUC 8\n",
        "# https://drive.google.com/file/d/1r6CIYLOy01N8B1jc7Hr8AJUkA0jPXp9z/view?usp=drive_link\n",
        "\n",
        "# HUC 10\n",
        "# https://drive.google.com/file/d/1m86VWKw3nys-oY931eq9dC6xv0cEfs4a/view?usp=drive_link\n",
        "\n",
        "# HUC 12\n",
        "# https://drive.google.com/file/d/18ayVCWhBkP1Tb_wrWgPJea8vaWEiPgOL/view?usp=drive_link\n",
        "\n",
        "# GEDI vectorized by YOD, Queen's rule.\n",
        "# https://drive.google.com/file/d/1miOMqCh081yceVUfVVOL5JtxpKUgBO-2/view?usp=drive_link"
      ],
      "metadata": {
        "id": "O3df1Ii3npf3"
      },
      "execution_count": 6,
      "outputs": []
    },
    {
      "cell_type": "code",
      "source": [
        "drive_download(file = as_id('1FrN1tUojGV80f3kDtmezsFsvLabIoGiW'), path =  '/content/HJA_LandTrendr_84_23.tif', overwrite = FALSE)"
      ],
      "metadata": {
        "id": "LUX0iDBQo3bB",
        "outputId": "5b50ed31-e0e1-473d-d368-b3ab24264b8d",
        "colab": {
          "base_uri": "https://localhost:8080/"
        }
      },
      "execution_count": 7,
      "outputs": [
        {
          "output_type": "stream",
          "name": "stderr",
          "text": [
            "File downloaded:\n",
            "\n",
            "• \u001b[36mHJA_LandTrendr_84_23_2.tif\u001b[39m \u001b[90m<id: 1FrN1tUojGV80f3kDtmezsFsvLabIoGiW>\u001b[39m\n",
            "\n",
            "Saved locally as:\n",
            "\n",
            "• \u001b[34m/content/HJA_LandTrendr_84_23.tif\u001b[39m\n",
            "\n"
          ]
        }
      ]
    },
    {
      "cell_type": "code",
      "source": [
        "drive_download(file = as_id('14jTxo28D2bsC68EpVsbSaY7SpYM5MIA4'), path =  '/content/HJA_gedi.gpkg', overwrite = TRUE)"
      ],
      "metadata": {
        "id": "p6BrSHZVpEnI",
        "outputId": "a7da783a-e9ee-4877-f209-80741641bedb",
        "colab": {
          "base_uri": "https://localhost:8080/"
        }
      },
      "execution_count": 8,
      "outputs": [
        {
          "output_type": "stream",
          "name": "stderr",
          "text": [
            "File downloaded:\n",
            "\n",
            "• \u001b[36mHJA_GEDI_4.gpkg\u001b[39m \u001b[90m<id: 14jTxo28D2bsC68EpVsbSaY7SpYM5MIA4>\u001b[39m\n",
            "\n",
            "Saved locally as:\n",
            "\n",
            "• \u001b[34m/content/HJA_gedi.gpkg\u001b[39m\n",
            "\n"
          ]
        }
      ]
    },
    {
      "cell_type": "code",
      "source": [
        "drive_download(file = as_id('1r6CIYLOy01N8B1jc7Hr8AJUkA0jPXp9z'), path =  '/content/huc_8.gpkg', overwrite = TRUE)\n",
        "drive_download(file = as_id('1m86VWKw3nys-oY931eq9dC6xv0cEfs4a'), path =  '/content/huc_10.gpkg', overwrite = TRUE)\n",
        "drive_download(file = as_id('18ayVCWhBkP1Tb_wrWgPJea8vaWEiPgOL'), path =  '/content/huc_12.gpkg', overwrite = TRUE)"
      ],
      "metadata": {
        "id": "FCrU4s8erbks",
        "outputId": "5d981c45-d538-4f36-e9d3-145be468d592",
        "colab": {
          "base_uri": "https://localhost:8080/"
        }
      },
      "execution_count": 9,
      "outputs": [
        {
          "output_type": "stream",
          "name": "stderr",
          "text": [
            "File downloaded:\n",
            "\n",
            "• \u001b[36mWBDHU8.gpkg\u001b[39m \u001b[90m<id: 1r6CIYLOy01N8B1jc7Hr8AJUkA0jPXp9z>\u001b[39m\n",
            "\n",
            "Saved locally as:\n",
            "\n",
            "• \u001b[34m/content/huc_8.gpkg\u001b[39m\n",
            "\n",
            "File downloaded:\n",
            "\n",
            "• \u001b[36mWBDHU10.gpkg\u001b[39m \u001b[90m<id: 1m86VWKw3nys-oY931eq9dC6xv0cEfs4a>\u001b[39m\n",
            "\n",
            "Saved locally as:\n",
            "\n",
            "• \u001b[34m/content/huc_10.gpkg\u001b[39m\n",
            "\n",
            "File downloaded:\n",
            "\n",
            "• \u001b[36mWBDHU12.gpkg\u001b[39m \u001b[90m<id: 18ayVCWhBkP1Tb_wrWgPJea8vaWEiPgOL>\u001b[39m\n",
            "\n",
            "Saved locally as:\n",
            "\n",
            "• \u001b[34m/content/huc_12.gpkg\u001b[39m\n",
            "\n"
          ]
        }
      ]
    },
    {
      "cell_type": "code",
      "source": [
        "# https://drive.google.com/file/d/1miOMqCh081yceVUfVVOL5JtxpKUgBO-2/view?usp=drive_link\n",
        "drive_download(file = as_id('1miOMqCh081yceVUfVVOL5JtxpKUgBO-2'), path =  '/content/gedi_vector.gpkg', overwrite = TRUE)"
      ],
      "metadata": {
        "id": "N4HyYrKXpvw0",
        "outputId": "97614ab9-d825-48c4-fb0d-a7999fe7c434",
        "colab": {
          "base_uri": "https://localhost:8080/"
        }
      },
      "execution_count": 10,
      "outputs": [
        {
          "output_type": "stream",
          "name": "stderr",
          "text": [
            "File downloaded:\n",
            "\n",
            "• \u001b[36myod_vector.gpkg\u001b[39m \u001b[90m<id: 1miOMqCh081yceVUfVVOL5JtxpKUgBO-2>\u001b[39m\n",
            "\n",
            "Saved locally as:\n",
            "\n",
            "• \u001b[34m/content/gedi_vector.gpkg\u001b[39m\n",
            "\n"
          ]
        }
      ]
    },
    {
      "cell_type": "code",
      "source": [
        "# https://drive.google.com/file/d/1qpVnW4V_qbE1rAR4wAq1yMNRIZniVFsa/view?usp=drive_link\n",
        "drive_download(file = as_id('1qpVnW4V_qbE1rAR4wAq1yMNRIZniVFsa'), path =  '/content/conus_2003.tif', overwrite = TRUE)"
      ],
      "metadata": {
        "id": "4nQRIAg6EU5c",
        "outputId": "d6dcc443-edf9-44ab-c30d-a9168207ad80",
        "colab": {
          "base_uri": "https://localhost:8080/"
        }
      },
      "execution_count": 11,
      "outputs": [
        {
          "output_type": "stream",
          "name": "stderr",
          "text": [
            "File downloaded:\n",
            "\n",
            "• \u001b[36mconus_forest_biomass_mg_per_ha.img\u001b[39m \u001b[90m<id: 1qpVnW4V_qbE1rAR4wAq1yMNRIZniVFsa>\u001b[39m\n",
            "\n",
            "Saved locally as:\n",
            "\n",
            "• \u001b[34m/content/conus_2003.tif\u001b[39m\n",
            "\n"
          ]
        }
      ]
    },
    {
      "cell_type": "code",
      "source": [
        "# https://drive.google.com/file/d/1X-D5SIaH18skJ5Wshzge1BxlvRZOOWCh/view?usp=drive_link\n",
        "\n",
        "drive_download(file = as_id('1X-D5SIaH18skJ5Wshzge1BxlvRZOOWCh'), path =  '/content/conus_2016.tif', overwrite = TRUE)"
      ],
      "metadata": {
        "id": "fes2c4X1Yi8L",
        "outputId": "1b724c34-ae7a-4d3f-832d-fae6d922a9bb",
        "colab": {
          "base_uri": "https://localhost:8080/"
        }
      },
      "execution_count": 12,
      "outputs": [
        {
          "output_type": "stream",
          "name": "stderr",
          "text": [
            "File downloaded:\n",
            "\n",
            "• \u001b[36mbiomass_k10_2016.tif\u001b[39m \u001b[90m<id: 1X-D5SIaH18skJ5Wshzge1BxlvRZOOWCh>\u001b[39m\n",
            "\n",
            "Saved locally as:\n",
            "\n",
            "• \u001b[34m/content/conus_2016.tif\u001b[39m\n",
            "\n"
          ]
        }
      ]
    },
    {
      "cell_type": "code",
      "source": [
        "# https://drive.google.com/file/d/1HGLy-drZfu5wmWW9xVbCkQjHGdqFbGF4/view?usp=drive_link\n",
        "\n",
        "drive_download(file = as_id('1HGLy-drZfu5wmWW9xVbCkQjHGdqFbGF4'), path =  '/content/hja_2008.tif', overwrite = TRUE)"
      ],
      "metadata": {
        "id": "JzNqFcUeO0-o",
        "outputId": "b8dd1b77-26d9-4f05-98d7-c12d4ebedb08",
        "colab": {
          "base_uri": "https://localhost:8080/"
        }
      },
      "execution_count": 13,
      "outputs": [
        {
          "output_type": "stream",
          "name": "stderr",
          "text": [
            "File downloaded:\n",
            "\n",
            "• \u001b[36mAGLB_2008.tif\u001b[39m \u001b[90m<id: 1HGLy-drZfu5wmWW9xVbCkQjHGdqFbGF4>\u001b[39m\n",
            "\n",
            "Saved locally as:\n",
            "\n",
            "• \u001b[34m/content/hja_2008.tif\u001b[39m\n",
            "\n"
          ]
        }
      ]
    },
    {
      "cell_type": "code",
      "source": [
        "# https://drive.google.com/file/d/1MXa0GC0bWAbMSVpR7Gpc4cOFyCRxpJfI/view?usp=drive_link\n",
        "drive_download(file = as_id('1MXa0GC0bWAbMSVpR7Gpc4cOFyCRxpJfI'), path =  '/content/wnf_history.gpkg', overwrite = TRUE)\n",
        "\n",
        "# https://drive.google.com/file/d/1PFW8YtCJ-Afxb7XTM94j7IcZDQc6r3FS/view?usp=drive_link\n",
        "drive_download(file = as_id('1PFW8YtCJ-Afxb7XTM94j7IcZDQc6r3FS'), path =  '/content/fire_history.gpkg', overwrite = TRUE)\n",
        "\n",
        "# https://drive.google.com/file/d/1igHhc0FY2TBm7DMHNWMoqTbLHv2qvgms/view?usp=drive_link\n",
        "drive_download(file = as_id('1igHhc0FY2TBm7DMHNWMoqTbLHv2qvgms'), path =  '/content/harvest_history.gpkg', overwrite = TRUE)\n",
        "\n",
        "# https://drive.google.com/file/d/1XluoE3kGZ1u5-az0EmimhRpe__qzApM4/view?usp=drive_link\n",
        "drive_download(file = as_id('1XluoE3kGZ1u5-az0EmimhRpe__qzApM4'), path =  '/content/aoi_boundary.geojson', overwrite = TRUE)"
      ],
      "metadata": {
        "id": "weLodNamLqQP",
        "outputId": "5978eecd-d8a5-4ec9-ced0-e5346dc637d9",
        "colab": {
          "base_uri": "https://localhost:8080/"
        }
      },
      "execution_count": 14,
      "outputs": [
        {
          "output_type": "stream",
          "name": "stderr",
          "text": [
            "File downloaded:\n",
            "\n",
            "• \u001b[36mclip_wnfveg6.gpkg\u001b[39m \u001b[90m<id: 1MXa0GC0bWAbMSVpR7Gpc4cOFyCRxpJfI>\u001b[39m\n",
            "\n",
            "Saved locally as:\n",
            "\n",
            "• \u001b[34m/content/wnf_history.gpkg\u001b[39m\n",
            "\n",
            "File downloaded:\n",
            "\n",
            "• \u001b[36mFire_History_HJA.gpkg\u001b[39m \u001b[90m<id: 1PFW8YtCJ-Afxb7XTM94j7IcZDQc6r3FS>\u001b[39m\n",
            "\n",
            "Saved locally as:\n",
            "\n",
            "• \u001b[34m/content/fire_history.gpkg\u001b[39m\n",
            "\n",
            "File downloaded:\n",
            "\n",
            "• \u001b[36mHJA_Harvest_Sites.gpkg\u001b[39m \u001b[90m<id: 1igHhc0FY2TBm7DMHNWMoqTbLHv2qvgms>\u001b[39m\n",
            "\n",
            "Saved locally as:\n",
            "\n",
            "• \u001b[34m/content/harvest_history.gpkg\u001b[39m\n",
            "\n",
            "File downloaded:\n",
            "\n",
            "• \u001b[36mhja_boundary.geojson\u001b[39m \u001b[90m<id: 1XluoE3kGZ1u5-az0EmimhRpe__qzApM4>\u001b[39m\n",
            "\n",
            "Saved locally as:\n",
            "\n",
            "• \u001b[34m/content/aoi_boundary.geojson\u001b[39m\n",
            "\n"
          ]
        }
      ]
    },
    {
      "cell_type": "code",
      "source": [
        "# https://drive.google.com/file/d/16h1dV9JEpYwts4grE959eTfqCc5yP05I/view?usp=drive_link\n",
        "drive_download(file = as_id('16h1dV9JEpYwts4grE959eTfqCc5yP05I'), path =  '/content/Huc_Intersection_Set_2.zip', overwrite = TRUE)"
      ],
      "metadata": {
        "id": "YJn39TJF9shO",
        "outputId": "bd730fdc-ab10-4409-ed75-73b6db139c23",
        "colab": {
          "base_uri": "https://localhost:8080/"
        }
      },
      "execution_count": 15,
      "outputs": [
        {
          "output_type": "stream",
          "name": "stderr",
          "text": [
            "File downloaded:\n",
            "\n",
            "• \u001b[36mHUC_Intersection_Set_2.zip\u001b[39m \u001b[90m<id: 16h1dV9JEpYwts4grE959eTfqCc5yP05I>\u001b[39m\n",
            "\n",
            "Saved locally as:\n",
            "\n",
            "• \u001b[34m/content/Huc_Intersection_Set_2.zip\u001b[39m\n",
            "\n"
          ]
        }
      ]
    },
    {
      "cell_type": "code",
      "source": [
        "# Set the file path to the downloaded zip file and the destination where it should be extracted\n",
        "zip_file_path <- '/content/Huc_Intersection_Set_2.zip'\n",
        "extraction_path <- '/content/Huc_Intersection_Set_2'\n",
        "\n",
        "# Unzip the file\n",
        "unzip(zip_file_path, exdir = extraction_path)"
      ],
      "metadata": {
        "id": "ICSjj78kUY3s"
      },
      "execution_count": 16,
      "outputs": []
    },
    {
      "cell_type": "code",
      "source": [
        "while(TRUE){}"
      ],
      "metadata": {
        "id": "WiNdGjYOK0mz"
      },
      "execution_count": 17,
      "outputs": []
    },
    {
      "cell_type": "code",
      "source": [
        "huc_8_gpgk <- st_read('/content/huc_8.gpkg') %>% st_transform(st_crs('EPSG:4326'))\n",
        "huc_10_gpgk <- st_read('/content/huc_10.gpkg')  %>% st_transform(st_crs('EPSG:4326'))\n",
        "huc_12_gpgk <- st_read('/content/huc_12.gpkg')  %>% st_transform(st_crs('EPSG:4326'))"
      ],
      "metadata": {
        "id": "WN7DHPZQWazx",
        "outputId": "d7151688-c177-4f1c-d83e-b9e743260d6d",
        "colab": {
          "base_uri": "https://localhost:8080/"
        }
      },
      "execution_count": 18,
      "outputs": [
        {
          "output_type": "stream",
          "name": "stdout",
          "text": [
            "Reading layer `wbdhu8_central_oregon__wdb_oregon_state_gdb__wbdhu8' from data source `/content/huc_8.gpkg' using driver `GPKG'\n",
            "Simple feature collection with 4 features and 15 fields\n",
            "Geometry type: MULTIPOLYGON\n",
            "Dimension:     XY\n",
            "Bounding box:  xmin: -123.6643 ymin: 43.85856 xmax: -121.7597 ymax: 44.90894\n",
            "Geodetic CRS:  NAD83\n",
            "Reading layer `wdb_oregon_state_gdb__wbdhu10' from data source \n",
            "  `/content/huc_10.gpkg' using driver `GPKG'\n",
            "Simple feature collection with 27 features and 17 fields\n",
            "Geometry type: MULTIPOLYGON\n",
            "Dimension:     XY\n",
            "Bounding box:  xmin: -123.6643 ymin: 43.85856 xmax: -121.7597 ymax: 44.90894\n",
            "Geodetic CRS:  NAD83\n",
            "Reading layer `wdb_oregon_state_gdb__wbdhu12' from data source \n",
            "  `/content/huc_12.gpkg' using driver `GPKG'\n",
            "Simple feature collection with 161 features and 20 fields\n",
            "Geometry type: MULTIPOLYGON\n",
            "Dimension:     XY\n",
            "Bounding box:  xmin: -123.6643 ymin: 43.85856 xmax: -121.7597 ymax: 44.90894\n",
            "Geodetic CRS:  NAD83\n"
          ]
        }
      ]
    },
    {
      "cell_type": "code",
      "source": [
        "hja_2008_tif <- stack('/content/hja_2008.tif')\n",
        "conus_2003_tif <- stack('/content/conus_2003.tif')\n",
        "conus_2016_tif  <- stack('/content/conus_2016.tif')"
      ],
      "metadata": {
        "id": "HJdYvfpltaAi"
      },
      "execution_count": 19,
      "outputs": []
    },
    {
      "cell_type": "code",
      "source": [
        "landtrendr_tif <- stack('/content/HJA_LandTrendr_84_23.tif')"
      ],
      "metadata": {
        "id": "wOk8T8AEp1Pe"
      },
      "execution_count": 20,
      "outputs": []
    },
    {
      "cell_type": "code",
      "source": [
        "# huc_8_gpgk$HUC8"
      ],
      "metadata": {
        "id": "I_CtpkxSbtQJ"
      },
      "execution_count": 21,
      "outputs": []
    },
    {
      "cell_type": "code",
      "source": [
        "gedi_int_dt <-\n",
        "\"/content/Huc_Intersection_Set_2/content/HUC_Intersection_Set_2\" %>%\n",
        "  list.files(full.names = T) %>%\n",
        "  lapply(function(x){\n",
        "  x_sf <- st_read(x)\n",
        "  # x_sf$HUC_8 <- huc_8_gpgk$HUC_8[x_sf %>% st_intersects(huc_8_gpgk)  %>% lapply(function(z){z[1]}) %>% unlist]\n",
        "  # x_sf$HUC_10 <- huc_10_gpgk$HUC_10[x_sf %>% st_intersects(huc_10_gpgk)  %>% lapply(function(z){z[1]}) %>% unlist]\n",
        "  # x_sf$HUC_12 <- huc_12_gpgk$HUC_12[x_sf %>% st_intersects(huc_12_gpgk)  %>% lapply(function(z){z[1]}) %>% unlist]\n",
        "  return(x_sf)\n",
        "  }) %>%\n",
        "  lapply(data.table) %>%\n",
        "  rbindlist()"
      ],
      "metadata": {
        "id": "F7ZEup6Q5TAJ",
        "outputId": "da7e6eef-01e0-4dbe-f89c-78189adefe4a",
        "colab": {
          "base_uri": "https://localhost:8080/"
        }
      },
      "execution_count": 22,
      "outputs": [
        {
          "output_type": "stream",
          "name": "stdout",
          "text": [
            "Reading layer `huc_10_1' from data source \n",
            "  `/content/Huc_Intersection_Set_2/content/HUC_Intersection_Set_2/huc_10_1.gpkg' \n",
            "  using driver `GPKG'\n",
            "Simple feature collection with 94451 features and 60 fields\n",
            "Geometry type: POINT\n",
            "Dimension:     XY\n",
            "Bounding box:  xmin: -122.1598 ymin: 44.70176 xmax: -121.7601 ymax: 44.84941\n",
            "Geodetic CRS:  WGS 84\n",
            "Reading layer `huc_10_10' from data source \n",
            "  `/content/Huc_Intersection_Set_2/content/HUC_Intersection_Set_2/huc_10_10.gpkg' \n",
            "  using driver `GPKG'\n",
            "Simple feature collection with 73478 features and 60 fields\n",
            "Geometry type: POINT\n",
            "Dimension:     XY\n",
            "Bounding box:  xmin: -122.6751 ymin: 44.31805 xmax: -122.4225 ymax: 44.48284\n",
            "Geodetic CRS:  WGS 84\n",
            "Reading layer `huc_10_11' from data source \n",
            "  `/content/Huc_Intersection_Set_2/content/HUC_Intersection_Set_2/huc_10_11.gpkg' \n",
            "  using driver `GPKG'\n",
            "Simple feature collection with 85232 features and 60 fields\n",
            "Geometry type: POINT\n",
            "Dimension:     XY\n",
            "Bounding box:  xmin: -122.6787 ymin: 44.26722 xmax: -122.415 ymax: 44.4138\n",
            "Geodetic CRS:  WGS 84\n",
            "Reading layer `huc_10_12' from data source \n",
            "  `/content/Huc_Intersection_Set_2/content/HUC_Intersection_Set_2/huc_10_12.gpkg' \n",
            "  using driver `GPKG'\n",
            "Simple feature collection with 166553 features and 60 fields\n",
            "Geometry type: POINT\n",
            "Dimension:     XY\n",
            "Bounding box:  xmin: -122.9466 ymin: 44.49646 xmax: -122.4402 ymax: 44.69994\n",
            "Geodetic CRS:  WGS 84\n",
            "Reading layer `huc_10_13' from data source \n",
            "  `/content/Huc_Intersection_Set_2/content/HUC_Intersection_Set_2/huc_10_13.gpkg' \n",
            "  using driver `GPKG'\n",
            "Simple feature collection with 133942 features and 60 fields\n",
            "Geometry type: POINT\n",
            "Dimension:     XY\n",
            "Bounding box:  xmin: -122.9726 ymin: 44.62447 xmax: -122.3103 ymax: 44.76997\n",
            "Geodetic CRS:  WGS 84\n",
            "Reading layer `huc_10_14' from data source \n",
            "  `/content/Huc_Intersection_Set_2/content/HUC_Intersection_Set_2/huc_10_14.gpkg' \n",
            "  using driver `GPKG'\n",
            "Simple feature collection with 215711 features and 60 fields\n",
            "Geometry type: POINT\n",
            "Dimension:     XY\n",
            "Bounding box:  xmin: -123.0157 ymin: 44.32236 xmax: -122.5776 ymax: 44.71778\n",
            "Geodetic CRS:  WGS 84\n",
            "Reading layer `huc_10_15' from data source \n",
            "  `/content/Huc_Intersection_Set_2/content/HUC_Intersection_Set_2/huc_10_15.gpkg' \n",
            "  using driver `GPKG'\n",
            "Simple feature collection with 221438 features and 60 fields\n",
            "Geometry type: POINT\n",
            "Dimension:     XY\n",
            "Bounding box:  xmin: -122.2119 ymin: 43.96455 xmax: -121.7681 ymax: 44.17517\n",
            "Geodetic CRS:  WGS 84\n",
            "Reading layer `huc_10_16' from data source \n",
            "  `/content/Huc_Intersection_Set_2/content/HUC_Intersection_Set_2/huc_10_16.gpkg' \n",
            "  using driver `GPKG'\n",
            "Simple feature collection with 453951 features and 60 fields\n",
            "Geometry type: POINT\n",
            "Dimension:     XY\n",
            "Bounding box:  xmin: -122.2068 ymin: 44.11485 xmax: -121.7709 ymax: 44.50823\n",
            "Geodetic CRS:  WGS 84\n",
            "Reading layer `huc_10_17' from data source \n",
            "  `/content/Huc_Intersection_Set_2/content/HUC_Intersection_Set_2/huc_10_17.gpkg' \n",
            "  using driver `GPKG'\n",
            "Simple feature collection with 279057 features and 60 fields\n",
            "Geometry type: POINT\n",
            "Dimension:     XY\n",
            "Bounding box:  xmin: -122.2925 ymin: 43.85895 xmax: -121.8578 ymax: 44.16177\n",
            "Geodetic CRS:  WGS 84\n",
            "Reading layer `huc_10_18' from data source \n",
            "  `/content/Huc_Intersection_Set_2/content/HUC_Intersection_Set_2/huc_10_18.gpkg' \n",
            "  using driver `GPKG'\n",
            "Simple feature collection with 129685 features and 60 fields\n",
            "Geometry type: POINT\n",
            "Dimension:     XY\n",
            "Bounding box:  xmin: -122.383 ymin: 44.15338 xmax: -122.1017 ymax: 44.33783\n",
            "Geodetic CRS:  WGS 84\n",
            "Reading layer `huc_10_19' from data source \n",
            "  `/content/Huc_Intersection_Set_2/content/HUC_Intersection_Set_2/huc_10_19.gpkg' \n",
            "  using driver `GPKG'\n",
            "Simple feature collection with 97113 features and 60 fields\n",
            "Geometry type: POINT\n",
            "Dimension:     XY\n",
            "Bounding box:  xmin: -122.4269 ymin: 43.96919 xmax: -122.1902 ymax: 44.21138\n",
            "Geodetic CRS:  WGS 84\n",
            "Reading layer `huc_10_2' from data source \n",
            "  `/content/Huc_Intersection_Set_2/content/HUC_Intersection_Set_2/huc_10_2.gpkg' \n",
            "  using driver `GPKG'\n",
            "Simple feature collection with 224063 features and 60 fields\n",
            "Geometry type: POINT\n",
            "Dimension:     XY\n",
            "Bounding box:  xmin: -122.1784 ymin: 44.46405 xmax: -121.7936 ymax: 44.74934\n",
            "Geodetic CRS:  WGS 84\n",
            "Reading layer `huc_10_20' from data source \n",
            "  `/content/Huc_Intersection_Set_2/content/HUC_Intersection_Set_2/huc_10_20.gpkg' \n",
            "  using driver `GPKG'\n",
            "Simple feature collection with 286439 features and 60 fields\n",
            "Geometry type: POINT\n",
            "Dimension:     XY\n",
            "Bounding box:  xmin: -123.1053 ymin: 44.01968 xmax: -122.3486 ymax: 44.23505\n",
            "Geodetic CRS:  WGS 84\n",
            "Reading layer `huc_10_21' from data source \n",
            "  `/content/Huc_Intersection_Set_2/content/HUC_Intersection_Set_2/huc_10_21.gpkg' \n",
            "  using driver `GPKG'\n",
            "Simple feature collection with 198076 features and 60 fields\n",
            "Geometry type: POINT\n",
            "Dimension:     XY\n",
            "Bounding box:  xmin: -123.0078 ymin: 44.07926 xmax: -122.5756 ymax: 44.30043\n",
            "Geodetic CRS:  WGS 84\n",
            "Reading layer `huc_10_22' from data source \n",
            "  `/content/Huc_Intersection_Set_2/content/HUC_Intersection_Set_2/huc_10_22.gpkg' \n",
            "  using driver `GPKG'\n",
            "Simple feature collection with 102842 features and 60 fields\n",
            "Geometry type: POINT\n",
            "Dimension:     XY\n",
            "Bounding box:  xmin: -123.181 ymin: 44.43246 xmax: -122.8449 ymax: 44.63975\n",
            "Geodetic CRS:  WGS 84\n",
            "Reading layer `huc_10_23' from data source \n",
            "  `/content/Huc_Intersection_Set_2/content/HUC_Intersection_Set_2/huc_10_23.gpkg' \n",
            "  using driver `GPKG'\n",
            "Simple feature collection with 365606 features and 60 fields\n",
            "Geometry type: POINT\n",
            "Dimension:     XY\n",
            "Bounding box:  xmin: -123.5579 ymin: 43.86418 xmax: -123.0587 ymax: 44.41431\n",
            "Geodetic CRS:  WGS 84\n",
            "Reading layer `huc_10_24' from data source \n",
            "  `/content/Huc_Intersection_Set_2/content/HUC_Intersection_Set_2/huc_10_24.gpkg' \n",
            "  using driver `GPKG'\n",
            "Simple feature collection with 280432 features and 60 fields\n",
            "Geometry type: POINT\n",
            "Dimension:     XY\n",
            "Bounding box:  xmin: -123.6642 ymin: 44.27531 xmax: -123.2534 ymax: 44.73747\n",
            "Geodetic CRS:  WGS 84\n",
            "Reading layer `huc_10_25' from data source \n",
            "  `/content/Huc_Intersection_Set_2/content/HUC_Intersection_Set_2/huc_10_25.gpkg' \n",
            "  using driver `GPKG'\n",
            "Simple feature collection with 351107 features and 60 fields\n",
            "Geometry type: POINT\n",
            "Dimension:     XY\n",
            "Bounding box:  xmin: -123.6533 ymin: 44.62171 xmax: -123.1298 ymax: 44.90786\n",
            "Geodetic CRS:  WGS 84\n",
            "Reading layer `huc_10_26' from data source \n",
            "  `/content/Huc_Intersection_Set_2/content/HUC_Intersection_Set_2/huc_10_26.gpkg' \n",
            "  using driver `GPKG'\n",
            "Simple feature collection with 344865 features and 60 fields\n",
            "Geometry type: POINT\n",
            "Dimension:     XY\n",
            "Bounding box:  xmin: -123.1466 ymin: 44.20945 xmax: -122.3218 ymax: 44.52751\n",
            "Geodetic CRS:  WGS 84\n",
            "Reading layer `huc_10_27' from data source \n",
            "  `/content/Huc_Intersection_Set_2/content/HUC_Intersection_Set_2/huc_10_27.gpkg' \n",
            "  using driver `GPKG'\n",
            "Simple feature collection with 480731 features and 60 fields\n",
            "Geometry type: POINT\n",
            "Dimension:     XY\n",
            "Bounding box:  xmin: -123.3187 ymin: 44.01938 xmax: -122.8952 ymax: 44.75528\n",
            "Geodetic CRS:  WGS 84\n",
            "Reading layer `huc_10_3' from data source \n",
            "  `/content/Huc_Intersection_Set_2/content/HUC_Intersection_Set_2/huc_10_3.gpkg' \n",
            "  using driver `GPKG'\n",
            "Simple feature collection with 94266 features and 60 fields\n",
            "Geometry type: POINT\n",
            "Dimension:     XY\n",
            "Bounding box:  xmin: -122.3286 ymin: 44.56358 xmax: -122.0444 ymax: 44.80096\n",
            "Geodetic CRS:  WGS 84\n",
            "Reading layer `huc_10_4' from data source \n",
            "  `/content/Huc_Intersection_Set_2/content/HUC_Intersection_Set_2/huc_10_4.gpkg' \n",
            "  using driver `GPKG'\n",
            "Simple feature collection with 77090 features and 60 fields\n",
            "Geometry type: POINT\n",
            "Dimension:     XY\n",
            "Bounding box:  xmin: -122.6129 ymin: 44.66192 xmax: -122.2717 ymax: 44.79476\n",
            "Geodetic CRS:  WGS 84\n",
            "Reading layer `huc_10_5' from data source \n",
            "  `/content/Huc_Intersection_Set_2/content/HUC_Intersection_Set_2/huc_10_5.gpkg' \n",
            "  using driver `GPKG'\n",
            "Simple feature collection with 98313 features and 60 fields\n",
            "Geometry type: POINT\n",
            "Dimension:     XY\n",
            "Bounding box:  xmin: -122.6092 ymin: 44.77731 xmax: -122.1315 ymax: 44.89981\n",
            "Geodetic CRS:  WGS 84\n",
            "Reading layer `huc_10_6' from data source \n",
            "  `/content/Huc_Intersection_Set_2/content/HUC_Intersection_Set_2/huc_10_6.gpkg' \n",
            "  using driver `GPKG'\n",
            "Simple feature collection with 96337 features and 60 fields\n",
            "Geometry type: POINT\n",
            "Dimension:     XY\n",
            "Bounding box:  xmin: -123.1425 ymin: 44.68454 xmax: -122.5136 ymax: 44.83628\n",
            "Geodetic CRS:  WGS 84\n",
            "Reading layer `huc_10_7' from data source \n",
            "  `/content/Huc_Intersection_Set_2/content/HUC_Intersection_Set_2/huc_10_7.gpkg' \n",
            "  using driver `GPKG'\n",
            "Simple feature collection with 117893 features and 60 fields\n",
            "Geometry type: POINT\n",
            "Dimension:     XY\n",
            "Bounding box:  xmin: -122.4033 ymin: 44.39856 xmax: -122.028 ymax: 44.56898\n",
            "Geodetic CRS:  WGS 84\n",
            "Reading layer `huc_10_8' from data source \n",
            "  `/content/Huc_Intersection_Set_2/content/HUC_Intersection_Set_2/huc_10_8.gpkg' \n",
            "  using driver `GPKG'\n",
            "Simple feature collection with 206069 features and 60 fields\n",
            "Geometry type: POINT\n",
            "Dimension:     XY\n",
            "Bounding box:  xmin: -122.4617 ymin: 44.26728 xmax: -122.1245 ymax: 44.48733\n",
            "Geodetic CRS:  WGS 84\n",
            "Reading layer `huc_10_9' from data source \n",
            "  `/content/Huc_Intersection_Set_2/content/HUC_Intersection_Set_2/huc_10_9.gpkg' \n",
            "  using driver `GPKG'\n",
            "Simple feature collection with 172908 features and 60 fields\n",
            "Geometry type: POINT\n",
            "Dimension:     XY\n",
            "Bounding box:  xmin: -122.5833 ymin: 44.42861 xmax: -122.1141 ymax: 44.6688\n",
            "Geodetic CRS:  WGS 84\n"
          ]
        }
      ]
    },
    {
      "cell_type": "code",
      "source": [
        "huc_12_gpgk %>% head"
      ],
      "metadata": {
        "id": "RPAShMFJ--NH",
        "outputId": "0b2d0020-fcc7-47bc-bcaf-e97389b1f049",
        "colab": {
          "base_uri": "https://localhost:8080/",
          "height": 1000
        }
      },
      "execution_count": 23,
      "outputs": [
        {
          "output_type": "stream",
          "name": "stderr",
          "text": [
            "ERROR while rich displaying an object: Error in loadNamespace(x): there is no package called ‘geojsonio’\n",
            "\n",
            "Traceback:\n",
            "1. tryCatch(withCallingHandlers({\n",
            " .     if (!mime %in% names(repr::mime2repr)) \n",
            " .         stop(\"No repr_* for mimetype \", mime, \" in repr::mime2repr\")\n",
            " .     rpr <- repr::mime2repr[[mime]](obj)\n",
            " .     if (is.null(rpr)) \n",
            " .         return(NULL)\n",
            " .     prepare_content(is.raw(rpr), rpr)\n",
            " . }, error = error_handler), error = outer_handler)\n",
            "2. tryCatchList(expr, classes, parentenv, handlers)\n",
            "3. tryCatchOne(expr, names, parentenv, handlers[[1L]])\n",
            "4. doTryCatch(return(expr), name, parentenv, handler)\n",
            "5. withCallingHandlers({\n",
            " .     if (!mime %in% names(repr::mime2repr)) \n",
            " .         stop(\"No repr_* for mimetype \", mime, \" in repr::mime2repr\")\n",
            " .     rpr <- repr::mime2repr[[mime]](obj)\n",
            " .     if (is.null(rpr)) \n",
            " .         return(NULL)\n",
            " .     prepare_content(is.raw(rpr), rpr)\n",
            " . }, error = error_handler)\n",
            "6. repr::mime2repr[[mime]](obj)\n",
            "7. repr_geojson.sf(obj)\n",
            "8. repr_geojson(geojsonio::geojson_list(obj), ...)\n",
            "9. loadNamespace(x)\n",
            "10. withRestarts(stop(cond), retry_loadNamespace = function() NULL)\n",
            "11. withOneRestart(expr, restarts[[1L]])\n",
            "12. doWithOneRestart(return(expr), restart)\n"
          ]
        },
        {
          "output_type": "display_data",
          "data": {
            "text/html": [
              "<table class=\"dataframe\">\n",
              "<caption>A sf: 6 × 21</caption>\n",
              "<thead>\n",
              "\t<tr><th></th><th scope=col>OBJECTID</th><th scope=col>TNMID</th><th scope=col>MetaSourceID</th><th scope=col>SourceDataDesc</th><th scope=col>SourceOriginator</th><th scope=col>SourceFeatureID</th><th scope=col>LoadDate</th><th scope=col>GNIS_ID</th><th scope=col>AreaAcres</th><th scope=col>AreaSqKm</th><th scope=col>geom</th><th scope=col>⋯</th><th scope=col>HUC12</th><th scope=col>Name</th><th scope=col>HUType</th><th scope=col>HUMod</th><th scope=col>ToHUC</th><th scope=col>NonContributingAreaAcres</th><th scope=col>NonContributingAreaSqKm</th><th scope=col>Shape_Length</th><th scope=col>Shape_Area</th><th scope=col>geom</th></tr>\n",
              "\t<tr><th></th><th scope=col>&lt;dbl&gt;</th><th scope=col>&lt;chr&gt;</th><th scope=col>&lt;chr&gt;</th><th scope=col>&lt;chr&gt;</th><th scope=col>&lt;chr&gt;</th><th scope=col>&lt;chr&gt;</th><th scope=col>&lt;dttm&gt;</th><th scope=col>&lt;int&gt;</th><th scope=col>&lt;dbl&gt;</th><th scope=col>&lt;dbl&gt;</th><th scope=col>⋯</th><th scope=col>&lt;chr&gt;</th><th scope=col>&lt;chr&gt;</th><th scope=col>&lt;chr&gt;</th><th scope=col>&lt;chr&gt;</th><th scope=col>&lt;chr&gt;</th><th scope=col>&lt;dbl&gt;</th><th scope=col>&lt;dbl&gt;</th><th scope=col>&lt;dbl&gt;</th><th scope=col>&lt;dbl&gt;</th><th scope=col>&lt;MULTIPOLYGON [°]&gt;</th></tr>\n",
              "</thead>\n",
              "<tbody>\n",
              "\t<tr><th scope=row>1</th><td>2776</td><td>{C5422594-83A3-4387-934D-8A0A8D5CC177}</td><td>NA                                    </td><td>NA</td><td>NA</td><td>NA</td><td>2013-01-18 07:09:30</td><td>NA</td><td>13082.07</td><td>52.94</td><td>MULTIPOLYGON (((-121.8047 4...</td><td>⋯</td><td>170900050101</td><td>South Fork Breitenbush River      </td><td>S</td><td>NM</td><td>170900050104</td><td>0</td><td>0</td><td>0.4489297</td><td>0.006015605</td><td>MULTIPOLYGON (((-121.8047 4...</td></tr>\n",
              "\t<tr><th scope=row>2</th><td>2777</td><td>{D913B159-09A3-4CC9-910B-A34FF9BAD6DA}</td><td>NA                                    </td><td>NA</td><td>NA</td><td>NA</td><td>2013-01-18 07:09:30</td><td>NA</td><td>16254.91</td><td>65.78</td><td>MULTIPOLYGON (((-121.8202 4...</td><td>⋯</td><td>170900050102</td><td>North Fork Breitenbush River      </td><td>S</td><td>NM</td><td>170900050104</td><td>0</td><td>0</td><td>0.5418556</td><td>0.007478749</td><td>MULTIPOLYGON (((-121.8202 4...</td></tr>\n",
              "\t<tr><th scope=row>3</th><td>2778</td><td>{332D3955-AAB6-40A1-81DE-0BEDDD37BC7B}</td><td>NA                                    </td><td>NA</td><td>NA</td><td>NA</td><td>2013-01-18 07:09:30</td><td>NA</td><td>20395.17</td><td>82.54</td><td>MULTIPOLYGON (((-121.9297 4...</td><td>⋯</td><td>170900050104</td><td>Upper Breitenbush River           </td><td>S</td><td>NM</td><td>170900050105</td><td>0</td><td>0</td><td>0.5543546</td><td>0.009382288</td><td>MULTIPOLYGON (((-121.9297 4...</td></tr>\n",
              "\t<tr><th scope=row>4</th><td>2779</td><td>{1FDE3F77-F2D9-43F0-BC18-6636D10019B6}</td><td>NA                                    </td><td>NA</td><td>NA</td><td>NA</td><td>2013-01-18 07:09:30</td><td>NA</td><td> 9202.70</td><td>37.24</td><td>MULTIPOLYGON (((-122.0755 4...</td><td>⋯</td><td>170900050105</td><td>Lower Breitenbush River           </td><td>S</td><td>NM</td><td>170900050303</td><td>0</td><td>0</td><td>0.3504292</td><td>0.004232901</td><td>MULTIPOLYGON (((-122.0755 4...</td></tr>\n",
              "\t<tr><th scope=row>5</th><td>2780</td><td>{A45E413B-6867-41A6-9CF9-CEE67A190274}</td><td>{A4B99D2F-D7C5-4BCA-A07F-0B6FDF219B65}</td><td>NA</td><td>NA</td><td>NA</td><td>2016-12-01 09:32:19</td><td>NA</td><td>18204.50</td><td>73.67</td><td>MULTIPOLYGON (((-121.9255 4...</td><td>⋯</td><td>170900050201</td><td>Swede Creek-North Santiam River   </td><td>S</td><td>NM</td><td>170900050202</td><td>0</td><td>0</td><td>0.5759817</td><td>0.008335991</td><td>MULTIPOLYGON (((-121.9255 4...</td></tr>\n",
              "\t<tr><th scope=row>6</th><td>2781</td><td>{7EECAB49-4203-42E2-B952-2E0C244C208F}</td><td>{A4B99D2F-D7C5-4BCA-A07F-0B6FDF219B65}</td><td>NA</td><td>NA</td><td>NA</td><td>2016-12-01 09:32:19</td><td>NA</td><td>17233.08</td><td>69.74</td><td>MULTIPOLYGON (((-122.0499 4...</td><td>⋯</td><td>170900050202</td><td>Straight Creek-North Santiam River</td><td>S</td><td>NM</td><td>170900050205</td><td>0</td><td>0</td><td>0.4421352</td><td>0.007898973</td><td>MULTIPOLYGON (((-122.0499 4...</td></tr>\n",
              "</tbody>\n",
              "</table>\n"
            ],
            "text/markdown": "\nA sf: 6 × 21\n\n| <!--/--> | OBJECTID &lt;dbl&gt; | TNMID &lt;chr&gt; | MetaSourceID &lt;chr&gt; | SourceDataDesc &lt;chr&gt; | SourceOriginator &lt;chr&gt; | SourceFeatureID &lt;chr&gt; | LoadDate &lt;dttm&gt; | GNIS_ID &lt;int&gt; | AreaAcres &lt;dbl&gt; | AreaSqKm &lt;dbl&gt; | geom ⋯ | ⋯ &lt;chr&gt; | HUC12 &lt;chr&gt; | Name &lt;chr&gt; | HUType &lt;chr&gt; | HUMod &lt;chr&gt; | ToHUC &lt;dbl&gt; | NonContributingAreaAcres &lt;dbl&gt; | NonContributingAreaSqKm &lt;dbl&gt; | Shape_Length &lt;dbl&gt; | Shape_Area &lt;MULTIPOLYGON [°]&gt; | geom &lt;dbl&gt; |\n|---|---|---|---|---|---|---|---|---|---|---|---|---|---|---|---|---|---|---|---|---|---|\n| 1 | 2776 | {C5422594-83A3-4387-934D-8A0A8D5CC177} | NA                                     | NA | NA | NA | 2013-01-18 07:09:30 | NA | 13082.07 | 52.94 | MULTIPOLYGON (((-121.8047 4... | ⋯ | 170900050101 | South Fork Breitenbush River       | S | NM | 170900050104 | 0 | 0 | 0.4489297 | 0.006015605 | MULTIPOLYGON (((-121.8047 4... |\n| 2 | 2777 | {D913B159-09A3-4CC9-910B-A34FF9BAD6DA} | NA                                     | NA | NA | NA | 2013-01-18 07:09:30 | NA | 16254.91 | 65.78 | MULTIPOLYGON (((-121.8202 4... | ⋯ | 170900050102 | North Fork Breitenbush River       | S | NM | 170900050104 | 0 | 0 | 0.5418556 | 0.007478749 | MULTIPOLYGON (((-121.8202 4... |\n| 3 | 2778 | {332D3955-AAB6-40A1-81DE-0BEDDD37BC7B} | NA                                     | NA | NA | NA | 2013-01-18 07:09:30 | NA | 20395.17 | 82.54 | MULTIPOLYGON (((-121.9297 4... | ⋯ | 170900050104 | Upper Breitenbush River            | S | NM | 170900050105 | 0 | 0 | 0.5543546 | 0.009382288 | MULTIPOLYGON (((-121.9297 4... |\n| 4 | 2779 | {1FDE3F77-F2D9-43F0-BC18-6636D10019B6} | NA                                     | NA | NA | NA | 2013-01-18 07:09:30 | NA |  9202.70 | 37.24 | MULTIPOLYGON (((-122.0755 4... | ⋯ | 170900050105 | Lower Breitenbush River            | S | NM | 170900050303 | 0 | 0 | 0.3504292 | 0.004232901 | MULTIPOLYGON (((-122.0755 4... |\n| 5 | 2780 | {A45E413B-6867-41A6-9CF9-CEE67A190274} | {A4B99D2F-D7C5-4BCA-A07F-0B6FDF219B65} | NA | NA | NA | 2016-12-01 09:32:19 | NA | 18204.50 | 73.67 | MULTIPOLYGON (((-121.9255 4... | ⋯ | 170900050201 | Swede Creek-North Santiam River    | S | NM | 170900050202 | 0 | 0 | 0.5759817 | 0.008335991 | MULTIPOLYGON (((-121.9255 4... |\n| 6 | 2781 | {7EECAB49-4203-42E2-B952-2E0C244C208F} | {A4B99D2F-D7C5-4BCA-A07F-0B6FDF219B65} | NA | NA | NA | 2016-12-01 09:32:19 | NA | 17233.08 | 69.74 | MULTIPOLYGON (((-122.0499 4... | ⋯ | 170900050202 | Straight Creek-North Santiam River | S | NM | 170900050205 | 0 | 0 | 0.4421352 | 0.007898973 | MULTIPOLYGON (((-122.0499 4... |\n\n",
            "text/latex": "A sf: 6 × 21\n\\begin{tabular}{r|lllllllllllllllllllll}\n  & OBJECTID & TNMID & MetaSourceID & SourceDataDesc & SourceOriginator & SourceFeatureID & LoadDate & GNIS\\_ID & AreaAcres & AreaSqKm & geom & ⋯ & HUC12 & Name & HUType & HUMod & ToHUC & NonContributingAreaAcres & NonContributingAreaSqKm & Shape\\_Length & Shape\\_Area & geom\\\\\n  & <dbl> & <chr> & <chr> & <chr> & <chr> & <chr> & <dttm> & <int> & <dbl> & <dbl> & ⋯ & <chr> & <chr> & <chr> & <chr> & <chr> & <dbl> & <dbl> & <dbl> & <dbl> & <MULTIPOLYGON {[}°{]}>\\\\\n\\hline\n\t1 & 2776 & \\{C5422594-83A3-4387-934D-8A0A8D5CC177\\} & NA                                     & NA & NA & NA & 2013-01-18 07:09:30 & NA & 13082.07 & 52.94 & MULTIPOLYGON (((-121.8047 4... & ⋯ & 170900050101 & South Fork Breitenbush River       & S & NM & 170900050104 & 0 & 0 & 0.4489297 & 0.006015605 & MULTIPOLYGON (((-121.8047 4...\\\\\n\t2 & 2777 & \\{D913B159-09A3-4CC9-910B-A34FF9BAD6DA\\} & NA                                     & NA & NA & NA & 2013-01-18 07:09:30 & NA & 16254.91 & 65.78 & MULTIPOLYGON (((-121.8202 4... & ⋯ & 170900050102 & North Fork Breitenbush River       & S & NM & 170900050104 & 0 & 0 & 0.5418556 & 0.007478749 & MULTIPOLYGON (((-121.8202 4...\\\\\n\t3 & 2778 & \\{332D3955-AAB6-40A1-81DE-0BEDDD37BC7B\\} & NA                                     & NA & NA & NA & 2013-01-18 07:09:30 & NA & 20395.17 & 82.54 & MULTIPOLYGON (((-121.9297 4... & ⋯ & 170900050104 & Upper Breitenbush River            & S & NM & 170900050105 & 0 & 0 & 0.5543546 & 0.009382288 & MULTIPOLYGON (((-121.9297 4...\\\\\n\t4 & 2779 & \\{1FDE3F77-F2D9-43F0-BC18-6636D10019B6\\} & NA                                     & NA & NA & NA & 2013-01-18 07:09:30 & NA &  9202.70 & 37.24 & MULTIPOLYGON (((-122.0755 4... & ⋯ & 170900050105 & Lower Breitenbush River            & S & NM & 170900050303 & 0 & 0 & 0.3504292 & 0.004232901 & MULTIPOLYGON (((-122.0755 4...\\\\\n\t5 & 2780 & \\{A45E413B-6867-41A6-9CF9-CEE67A190274\\} & \\{A4B99D2F-D7C5-4BCA-A07F-0B6FDF219B65\\} & NA & NA & NA & 2016-12-01 09:32:19 & NA & 18204.50 & 73.67 & MULTIPOLYGON (((-121.9255 4... & ⋯ & 170900050201 & Swede Creek-North Santiam River    & S & NM & 170900050202 & 0 & 0 & 0.5759817 & 0.008335991 & MULTIPOLYGON (((-121.9255 4...\\\\\n\t6 & 2781 & \\{7EECAB49-4203-42E2-B952-2E0C244C208F\\} & \\{A4B99D2F-D7C5-4BCA-A07F-0B6FDF219B65\\} & NA & NA & NA & 2016-12-01 09:32:19 & NA & 17233.08 & 69.74 & MULTIPOLYGON (((-122.0499 4... & ⋯ & 170900050202 & Straight Creek-North Santiam River & S & NM & 170900050205 & 0 & 0 & 0.4421352 & 0.007898973 & MULTIPOLYGON (((-122.0499 4...\\\\\n\\end{tabular}\n",
            "text/plain": [
              "  OBJECTID TNMID                                 \n",
              "1 2776     {C5422594-83A3-4387-934D-8A0A8D5CC177}\n",
              "2 2777     {D913B159-09A3-4CC9-910B-A34FF9BAD6DA}\n",
              "3 2778     {332D3955-AAB6-40A1-81DE-0BEDDD37BC7B}\n",
              "4 2779     {1FDE3F77-F2D9-43F0-BC18-6636D10019B6}\n",
              "5 2780     {A45E413B-6867-41A6-9CF9-CEE67A190274}\n",
              "6 2781     {7EECAB49-4203-42E2-B952-2E0C244C208F}\n",
              "  MetaSourceID                           SourceDataDesc SourceOriginator\n",
              "1 NA                                     NA             NA              \n",
              "2 NA                                     NA             NA              \n",
              "3 NA                                     NA             NA              \n",
              "4 NA                                     NA             NA              \n",
              "5 {A4B99D2F-D7C5-4BCA-A07F-0B6FDF219B65} NA             NA              \n",
              "6 {A4B99D2F-D7C5-4BCA-A07F-0B6FDF219B65} NA             NA              \n",
              "  SourceFeatureID LoadDate            GNIS_ID AreaAcres AreaSqKm\n",
              "1 NA              2013-01-18 07:09:30 NA      13082.07  52.94   \n",
              "2 NA              2013-01-18 07:09:30 NA      16254.91  65.78   \n",
              "3 NA              2013-01-18 07:09:30 NA      20395.17  82.54   \n",
              "4 NA              2013-01-18 07:09:30 NA       9202.70  37.24   \n",
              "5 NA              2016-12-01 09:32:19 NA      18204.50  73.67   \n",
              "6 NA              2016-12-01 09:32:19 NA      17233.08  69.74   \n",
              "  geom                           ⋯ HUC12       \n",
              "1 MULTIPOLYGON (((-121.8047 4... ⋯ 170900050101\n",
              "2 MULTIPOLYGON (((-121.8202 4... ⋯ 170900050102\n",
              "3 MULTIPOLYGON (((-121.9297 4... ⋯ 170900050104\n",
              "4 MULTIPOLYGON (((-122.0755 4... ⋯ 170900050105\n",
              "5 MULTIPOLYGON (((-121.9255 4... ⋯ 170900050201\n",
              "6 MULTIPOLYGON (((-122.0499 4... ⋯ 170900050202\n",
              "  Name                               HUType HUMod ToHUC       \n",
              "1 South Fork Breitenbush River       S      NM    170900050104\n",
              "2 North Fork Breitenbush River       S      NM    170900050104\n",
              "3 Upper Breitenbush River            S      NM    170900050105\n",
              "4 Lower Breitenbush River            S      NM    170900050303\n",
              "5 Swede Creek-North Santiam River    S      NM    170900050202\n",
              "6 Straight Creek-North Santiam River S      NM    170900050205\n",
              "  NonContributingAreaAcres NonContributingAreaSqKm Shape_Length Shape_Area \n",
              "1 0                        0                       0.4489297    0.006015605\n",
              "2 0                        0                       0.5418556    0.007478749\n",
              "3 0                        0                       0.5543546    0.009382288\n",
              "4 0                        0                       0.3504292    0.004232901\n",
              "5 0                        0                       0.5759817    0.008335991\n",
              "6 0                        0                       0.4421352    0.007898973\n",
              "  geom                          \n",
              "1 MULTIPOLYGON (((-121.8047 4...\n",
              "2 MULTIPOLYGON (((-121.8202 4...\n",
              "3 MULTIPOLYGON (((-121.9297 4...\n",
              "4 MULTIPOLYGON (((-122.0755 4...\n",
              "5 MULTIPOLYGON (((-121.9255 4...\n",
              "6 MULTIPOLYGON (((-122.0499 4..."
            ]
          },
          "metadata": {}
        }
      ]
    },
    {
      "cell_type": "code",
      "source": [
        "  # x_sf <- gedi_int_dt %>% st_as_sf\n",
        "  gedi_int_dt$HUC8 <- huc_8_gpgk$HUC8[gedi_int_dt$geom %>% st_intersects(huc_8_gpgk)  %>% lapply(function(x){x[1]}) %>% unlist]\n",
        "  gedi_int_dt$HUC10 <- huc_10_gpgk$HUC10[gedi_int_dt$geom %>% st_intersects(huc_10_gpgk)  %>% lapply(function(x){x[1]}) %>% unlist]\n",
        "  gedi_int_dt$HUC12 <- huc_12_gpgk$HUC12[gedi_int_dt$geom %>% st_intersects(huc_12_gpgk)  %>% lapply(function(x){x[1]}) %>% unlist]"
      ],
      "metadata": {
        "id": "pJ63dzicWXjw"
      },
      "execution_count": 24,
      "outputs": []
    },
    {
      "cell_type": "code",
      "source": [
        "# gedi_int_dt$HUC12  %>% table"
      ],
      "metadata": {
        "id": "4quzZrccBqaZ"
      },
      "execution_count": 25,
      "outputs": []
    },
    {
      "cell_type": "code",
      "source": [
        "gedi_int_dt %>% nrow\n",
        "gedi_int_dt[l4_quality_flag ==1,] %>% nrow\n",
        "\n",
        "gedi_int_dt %>% names"
      ],
      "metadata": {
        "id": "yY2m88HCvvGG",
        "outputId": "2de02cc7-f123-4e94-90c3-16bbad4dbff1",
        "colab": {
          "base_uri": "https://localhost:8080/",
          "height": 139
        }
      },
      "execution_count": 26,
      "outputs": [
        {
          "output_type": "display_data",
          "data": {
            "text/html": [
              "5447648"
            ],
            "text/markdown": "5447648",
            "text/latex": "5447648",
            "text/plain": [
              "[1] 5447648"
            ]
          },
          "metadata": {}
        },
        {
          "output_type": "display_data",
          "data": {
            "text/html": [
              "1796045"
            ],
            "text/markdown": "1796045",
            "text/latex": "1796045",
            "text/plain": [
              "[1] 1796045"
            ]
          },
          "metadata": {}
        },
        {
          "output_type": "display_data",
          "data": {
            "text/html": [
              "<style>\n",
              ".list-inline {list-style: none; margin:0; padding: 0}\n",
              ".list-inline>li {display: inline-block}\n",
              ".list-inline>li:not(:last-child)::after {content: \"\\00b7\"; padding: 0 .5ex}\n",
              "</style>\n",
              "<ol class=list-inline><li>'agbd'</li><li>'lat_lowestmode'</li><li>'lon_lowestmode'</li><li>'agbd_pi_lower'</li><li>'agbd_pi_upper'</li><li>'agbd_se'</li><li>'agbd_t'</li><li>'agbd_t_se'</li><li>'algorithm_run_flag'</li><li>'channel'</li><li>'degrade_flag'</li><li>'delta_time'</li><li>'elev_lowestmode'</li><li>'l2_quality_flag'</li><li>'l4_quality_flag'</li><li>'gedi_year'</li><li>'min_yod'</li><li>'min_mag'</li><li>'min_dur'</li><li>'min_preval'</li><li>'min_rate'</li><li>'min_dsnr'</li><li>'max_yod'</li><li>'max_mag'</li><li>'max_dur'</li><li>'max_preval'</li><li>'max_rate'</li><li>'max_dsnr'</li><li>'mean_yod'</li><li>'mean_mag'</li><li>'mean_dur'</li><li>'mean_preval'</li><li>'mean_rate'</li><li>'mean_dsnr'</li><li>'median_yod'</li><li>'median_mag'</li><li>'median_dur'</li><li>'median_preval'</li><li>'median_rate'</li><li>'median_dsnr'</li><li>'min_hja_2008'</li><li>'max_hja_2008'</li><li>'mean_hja_2008'</li><li>'median_hja_2008'</li><li>'min_conus_2003'</li><li>'max_conus_2003'</li><li>'mean_conus_2003'</li><li>'median_conus_2003'</li><li>'min_conus_2016'</li><li>'max_conus_2016'</li><li>'mean_conus_2016'</li><li>'median_conus_2016'</li><li>'gedi_vec_id'</li><li>'gedi_vec_year'</li><li>'gedi_vec_area'</li><li>'Ownership'</li><li>'LandManager'</li><li>'FIRE_INC_ID'</li><li>'FIRE_NAME'</li><li>'FIRE_YEAR'</li><li>'geom'</li><li>'HUC8'</li><li>'HUC10'</li><li>'HUC12'</li></ol>\n"
            ],
            "text/markdown": "1. 'agbd'\n2. 'lat_lowestmode'\n3. 'lon_lowestmode'\n4. 'agbd_pi_lower'\n5. 'agbd_pi_upper'\n6. 'agbd_se'\n7. 'agbd_t'\n8. 'agbd_t_se'\n9. 'algorithm_run_flag'\n10. 'channel'\n11. 'degrade_flag'\n12. 'delta_time'\n13. 'elev_lowestmode'\n14. 'l2_quality_flag'\n15. 'l4_quality_flag'\n16. 'gedi_year'\n17. 'min_yod'\n18. 'min_mag'\n19. 'min_dur'\n20. 'min_preval'\n21. 'min_rate'\n22. 'min_dsnr'\n23. 'max_yod'\n24. 'max_mag'\n25. 'max_dur'\n26. 'max_preval'\n27. 'max_rate'\n28. 'max_dsnr'\n29. 'mean_yod'\n30. 'mean_mag'\n31. 'mean_dur'\n32. 'mean_preval'\n33. 'mean_rate'\n34. 'mean_dsnr'\n35. 'median_yod'\n36. 'median_mag'\n37. 'median_dur'\n38. 'median_preval'\n39. 'median_rate'\n40. 'median_dsnr'\n41. 'min_hja_2008'\n42. 'max_hja_2008'\n43. 'mean_hja_2008'\n44. 'median_hja_2008'\n45. 'min_conus_2003'\n46. 'max_conus_2003'\n47. 'mean_conus_2003'\n48. 'median_conus_2003'\n49. 'min_conus_2016'\n50. 'max_conus_2016'\n51. 'mean_conus_2016'\n52. 'median_conus_2016'\n53. 'gedi_vec_id'\n54. 'gedi_vec_year'\n55. 'gedi_vec_area'\n56. 'Ownership'\n57. 'LandManager'\n58. 'FIRE_INC_ID'\n59. 'FIRE_NAME'\n60. 'FIRE_YEAR'\n61. 'geom'\n62. 'HUC8'\n63. 'HUC10'\n64. 'HUC12'\n\n\n",
            "text/latex": "\\begin{enumerate*}\n\\item 'agbd'\n\\item 'lat\\_lowestmode'\n\\item 'lon\\_lowestmode'\n\\item 'agbd\\_pi\\_lower'\n\\item 'agbd\\_pi\\_upper'\n\\item 'agbd\\_se'\n\\item 'agbd\\_t'\n\\item 'agbd\\_t\\_se'\n\\item 'algorithm\\_run\\_flag'\n\\item 'channel'\n\\item 'degrade\\_flag'\n\\item 'delta\\_time'\n\\item 'elev\\_lowestmode'\n\\item 'l2\\_quality\\_flag'\n\\item 'l4\\_quality\\_flag'\n\\item 'gedi\\_year'\n\\item 'min\\_yod'\n\\item 'min\\_mag'\n\\item 'min\\_dur'\n\\item 'min\\_preval'\n\\item 'min\\_rate'\n\\item 'min\\_dsnr'\n\\item 'max\\_yod'\n\\item 'max\\_mag'\n\\item 'max\\_dur'\n\\item 'max\\_preval'\n\\item 'max\\_rate'\n\\item 'max\\_dsnr'\n\\item 'mean\\_yod'\n\\item 'mean\\_mag'\n\\item 'mean\\_dur'\n\\item 'mean\\_preval'\n\\item 'mean\\_rate'\n\\item 'mean\\_dsnr'\n\\item 'median\\_yod'\n\\item 'median\\_mag'\n\\item 'median\\_dur'\n\\item 'median\\_preval'\n\\item 'median\\_rate'\n\\item 'median\\_dsnr'\n\\item 'min\\_hja\\_2008'\n\\item 'max\\_hja\\_2008'\n\\item 'mean\\_hja\\_2008'\n\\item 'median\\_hja\\_2008'\n\\item 'min\\_conus\\_2003'\n\\item 'max\\_conus\\_2003'\n\\item 'mean\\_conus\\_2003'\n\\item 'median\\_conus\\_2003'\n\\item 'min\\_conus\\_2016'\n\\item 'max\\_conus\\_2016'\n\\item 'mean\\_conus\\_2016'\n\\item 'median\\_conus\\_2016'\n\\item 'gedi\\_vec\\_id'\n\\item 'gedi\\_vec\\_year'\n\\item 'gedi\\_vec\\_area'\n\\item 'Ownership'\n\\item 'LandManager'\n\\item 'FIRE\\_INC\\_ID'\n\\item 'FIRE\\_NAME'\n\\item 'FIRE\\_YEAR'\n\\item 'geom'\n\\item 'HUC8'\n\\item 'HUC10'\n\\item 'HUC12'\n\\end{enumerate*}\n",
            "text/plain": [
              " [1] \"agbd\"               \"lat_lowestmode\"     \"lon_lowestmode\"    \n",
              " [4] \"agbd_pi_lower\"      \"agbd_pi_upper\"      \"agbd_se\"           \n",
              " [7] \"agbd_t\"             \"agbd_t_se\"          \"algorithm_run_flag\"\n",
              "[10] \"channel\"            \"degrade_flag\"       \"delta_time\"        \n",
              "[13] \"elev_lowestmode\"    \"l2_quality_flag\"    \"l4_quality_flag\"   \n",
              "[16] \"gedi_year\"          \"min_yod\"            \"min_mag\"           \n",
              "[19] \"min_dur\"            \"min_preval\"         \"min_rate\"          \n",
              "[22] \"min_dsnr\"           \"max_yod\"            \"max_mag\"           \n",
              "[25] \"max_dur\"            \"max_preval\"         \"max_rate\"          \n",
              "[28] \"max_dsnr\"           \"mean_yod\"           \"mean_mag\"          \n",
              "[31] \"mean_dur\"           \"mean_preval\"        \"mean_rate\"         \n",
              "[34] \"mean_dsnr\"          \"median_yod\"         \"median_mag\"        \n",
              "[37] \"median_dur\"         \"median_preval\"      \"median_rate\"       \n",
              "[40] \"median_dsnr\"        \"min_hja_2008\"       \"max_hja_2008\"      \n",
              "[43] \"mean_hja_2008\"      \"median_hja_2008\"    \"min_conus_2003\"    \n",
              "[46] \"max_conus_2003\"     \"mean_conus_2003\"    \"median_conus_2003\" \n",
              "[49] \"min_conus_2016\"     \"max_conus_2016\"     \"mean_conus_2016\"   \n",
              "[52] \"median_conus_2016\"  \"gedi_vec_id\"        \"gedi_vec_year\"     \n",
              "[55] \"gedi_vec_area\"      \"Ownership\"          \"LandManager\"       \n",
              "[58] \"FIRE_INC_ID\"        \"FIRE_NAME\"          \"FIRE_YEAR\"         \n",
              "[61] \"geom\"               \"HUC8\"               \"HUC10\"             \n",
              "[64] \"HUC12\"             "
            ]
          },
          "metadata": {}
        }
      ]
    },
    {
      "cell_type": "code",
      "source": [
        "gedi_int_dt$Ownership %>% table\n",
        "gedi_int_dt$LandManager %>% table"
      ],
      "metadata": {
        "id": "vkEFtCQJGrlM",
        "outputId": "08c65572-3267-4265-dcd2-8311e486fa9a",
        "colab": {
          "base_uri": "https://localhost:8080/",
          "height": 191
        }
      },
      "execution_count": 27,
      "outputs": [
        {
          "output_type": "display_data",
          "data": {
            "text/plain": [
              ".\n",
              "    BIA     BLM     BPA     DOD     DOE     FWS     GSA      LG     ODF ODFODSL \n",
              "   1140  286014     325    1010      88    8759     659   13428   60692    1277 \n",
              "   ODFW    ODOT    ODSL    OPRD      OR     OSU      PV     PVI  TRIBAL   USACE \n",
              "   4473     477     315    6337     807   24871 2063725 1095308    2335   45358 \n",
              "   USDA    USFS   WATER \n",
              "     48 1826915    3287 "
            ]
          },
          "metadata": {}
        },
        {
          "output_type": "display_data",
          "data": {
            "text/plain": [
              ".\n",
              "    PNI     PVI \n",
              "  72979 1320867 "
            ]
          },
          "metadata": {}
        }
      ]
    },
    {
      "cell_type": "code",
      "source": [
        "gedi_int_dt %>% names"
      ],
      "metadata": {
        "id": "wocTnJQ735v3",
        "outputId": "5928f94d-61b5-46e4-b1ab-d38a5947078a",
        "colab": {
          "base_uri": "https://localhost:8080/",
          "height": 104
        }
      },
      "execution_count": 36,
      "outputs": [
        {
          "output_type": "display_data",
          "data": {
            "text/html": [
              "<style>\n",
              ".list-inline {list-style: none; margin:0; padding: 0}\n",
              ".list-inline>li {display: inline-block}\n",
              ".list-inline>li:not(:last-child)::after {content: \"\\00b7\"; padding: 0 .5ex}\n",
              "</style>\n",
              "<ol class=list-inline><li>'agbd'</li><li>'lat_lowestmode'</li><li>'lon_lowestmode'</li><li>'agbd_pi_lower'</li><li>'agbd_pi_upper'</li><li>'agbd_se'</li><li>'agbd_t'</li><li>'agbd_t_se'</li><li>'algorithm_run_flag'</li><li>'channel'</li><li>'degrade_flag'</li><li>'delta_time'</li><li>'elev_lowestmode'</li><li>'l2_quality_flag'</li><li>'l4_quality_flag'</li><li>'gedi_year'</li><li>'min_yod'</li><li>'min_mag'</li><li>'min_dur'</li><li>'min_preval'</li><li>'min_rate'</li><li>'min_dsnr'</li><li>'max_yod'</li><li>'max_mag'</li><li>'max_dur'</li><li>'max_preval'</li><li>'max_rate'</li><li>'max_dsnr'</li><li>'mean_yod'</li><li>'mean_mag'</li><li>'mean_dur'</li><li>'mean_preval'</li><li>'mean_rate'</li><li>'mean_dsnr'</li><li>'median_yod'</li><li>'median_mag'</li><li>'median_dur'</li><li>'median_preval'</li><li>'median_rate'</li><li>'median_dsnr'</li><li>'min_hja_2008'</li><li>'max_hja_2008'</li><li>'mean_hja_2008'</li><li>'median_hja_2008'</li><li>'min_conus_2003'</li><li>'max_conus_2003'</li><li>'mean_conus_2003'</li><li>'median_conus_2003'</li><li>'min_conus_2016'</li><li>'max_conus_2016'</li><li>'mean_conus_2016'</li><li>'median_conus_2016'</li><li>'gedi_vec_id'</li><li>'gedi_vec_year'</li><li>'gedi_vec_area'</li><li>'Ownership'</li><li>'LandManager'</li><li>'FIRE_INC_ID'</li><li>'FIRE_NAME'</li><li>'FIRE_YEAR'</li><li>'geom'</li><li>'HUC8'</li><li>'HUC10'</li><li>'HUC12'</li><li>'shot_id'</li></ol>\n"
            ],
            "text/markdown": "1. 'agbd'\n2. 'lat_lowestmode'\n3. 'lon_lowestmode'\n4. 'agbd_pi_lower'\n5. 'agbd_pi_upper'\n6. 'agbd_se'\n7. 'agbd_t'\n8. 'agbd_t_se'\n9. 'algorithm_run_flag'\n10. 'channel'\n11. 'degrade_flag'\n12. 'delta_time'\n13. 'elev_lowestmode'\n14. 'l2_quality_flag'\n15. 'l4_quality_flag'\n16. 'gedi_year'\n17. 'min_yod'\n18. 'min_mag'\n19. 'min_dur'\n20. 'min_preval'\n21. 'min_rate'\n22. 'min_dsnr'\n23. 'max_yod'\n24. 'max_mag'\n25. 'max_dur'\n26. 'max_preval'\n27. 'max_rate'\n28. 'max_dsnr'\n29. 'mean_yod'\n30. 'mean_mag'\n31. 'mean_dur'\n32. 'mean_preval'\n33. 'mean_rate'\n34. 'mean_dsnr'\n35. 'median_yod'\n36. 'median_mag'\n37. 'median_dur'\n38. 'median_preval'\n39. 'median_rate'\n40. 'median_dsnr'\n41. 'min_hja_2008'\n42. 'max_hja_2008'\n43. 'mean_hja_2008'\n44. 'median_hja_2008'\n45. 'min_conus_2003'\n46. 'max_conus_2003'\n47. 'mean_conus_2003'\n48. 'median_conus_2003'\n49. 'min_conus_2016'\n50. 'max_conus_2016'\n51. 'mean_conus_2016'\n52. 'median_conus_2016'\n53. 'gedi_vec_id'\n54. 'gedi_vec_year'\n55. 'gedi_vec_area'\n56. 'Ownership'\n57. 'LandManager'\n58. 'FIRE_INC_ID'\n59. 'FIRE_NAME'\n60. 'FIRE_YEAR'\n61. 'geom'\n62. 'HUC8'\n63. 'HUC10'\n64. 'HUC12'\n65. 'shot_id'\n\n\n",
            "text/latex": "\\begin{enumerate*}\n\\item 'agbd'\n\\item 'lat\\_lowestmode'\n\\item 'lon\\_lowestmode'\n\\item 'agbd\\_pi\\_lower'\n\\item 'agbd\\_pi\\_upper'\n\\item 'agbd\\_se'\n\\item 'agbd\\_t'\n\\item 'agbd\\_t\\_se'\n\\item 'algorithm\\_run\\_flag'\n\\item 'channel'\n\\item 'degrade\\_flag'\n\\item 'delta\\_time'\n\\item 'elev\\_lowestmode'\n\\item 'l2\\_quality\\_flag'\n\\item 'l4\\_quality\\_flag'\n\\item 'gedi\\_year'\n\\item 'min\\_yod'\n\\item 'min\\_mag'\n\\item 'min\\_dur'\n\\item 'min\\_preval'\n\\item 'min\\_rate'\n\\item 'min\\_dsnr'\n\\item 'max\\_yod'\n\\item 'max\\_mag'\n\\item 'max\\_dur'\n\\item 'max\\_preval'\n\\item 'max\\_rate'\n\\item 'max\\_dsnr'\n\\item 'mean\\_yod'\n\\item 'mean\\_mag'\n\\item 'mean\\_dur'\n\\item 'mean\\_preval'\n\\item 'mean\\_rate'\n\\item 'mean\\_dsnr'\n\\item 'median\\_yod'\n\\item 'median\\_mag'\n\\item 'median\\_dur'\n\\item 'median\\_preval'\n\\item 'median\\_rate'\n\\item 'median\\_dsnr'\n\\item 'min\\_hja\\_2008'\n\\item 'max\\_hja\\_2008'\n\\item 'mean\\_hja\\_2008'\n\\item 'median\\_hja\\_2008'\n\\item 'min\\_conus\\_2003'\n\\item 'max\\_conus\\_2003'\n\\item 'mean\\_conus\\_2003'\n\\item 'median\\_conus\\_2003'\n\\item 'min\\_conus\\_2016'\n\\item 'max\\_conus\\_2016'\n\\item 'mean\\_conus\\_2016'\n\\item 'median\\_conus\\_2016'\n\\item 'gedi\\_vec\\_id'\n\\item 'gedi\\_vec\\_year'\n\\item 'gedi\\_vec\\_area'\n\\item 'Ownership'\n\\item 'LandManager'\n\\item 'FIRE\\_INC\\_ID'\n\\item 'FIRE\\_NAME'\n\\item 'FIRE\\_YEAR'\n\\item 'geom'\n\\item 'HUC8'\n\\item 'HUC10'\n\\item 'HUC12'\n\\item 'shot\\_id'\n\\end{enumerate*}\n",
            "text/plain": [
              " [1] \"agbd\"               \"lat_lowestmode\"     \"lon_lowestmode\"    \n",
              " [4] \"agbd_pi_lower\"      \"agbd_pi_upper\"      \"agbd_se\"           \n",
              " [7] \"agbd_t\"             \"agbd_t_se\"          \"algorithm_run_flag\"\n",
              "[10] \"channel\"            \"degrade_flag\"       \"delta_time\"        \n",
              "[13] \"elev_lowestmode\"    \"l2_quality_flag\"    \"l4_quality_flag\"   \n",
              "[16] \"gedi_year\"          \"min_yod\"            \"min_mag\"           \n",
              "[19] \"min_dur\"            \"min_preval\"         \"min_rate\"          \n",
              "[22] \"min_dsnr\"           \"max_yod\"            \"max_mag\"           \n",
              "[25] \"max_dur\"            \"max_preval\"         \"max_rate\"          \n",
              "[28] \"max_dsnr\"           \"mean_yod\"           \"mean_mag\"          \n",
              "[31] \"mean_dur\"           \"mean_preval\"        \"mean_rate\"         \n",
              "[34] \"mean_dsnr\"          \"median_yod\"         \"median_mag\"        \n",
              "[37] \"median_dur\"         \"median_preval\"      \"median_rate\"       \n",
              "[40] \"median_dsnr\"        \"min_hja_2008\"       \"max_hja_2008\"      \n",
              "[43] \"mean_hja_2008\"      \"median_hja_2008\"    \"min_conus_2003\"    \n",
              "[46] \"max_conus_2003\"     \"mean_conus_2003\"    \"median_conus_2003\" \n",
              "[49] \"min_conus_2016\"     \"max_conus_2016\"     \"mean_conus_2016\"   \n",
              "[52] \"median_conus_2016\"  \"gedi_vec_id\"        \"gedi_vec_year\"     \n",
              "[55] \"gedi_vec_area\"      \"Ownership\"          \"LandManager\"       \n",
              "[58] \"FIRE_INC_ID\"        \"FIRE_NAME\"          \"FIRE_YEAR\"         \n",
              "[61] \"geom\"               \"HUC8\"               \"HUC10\"             \n",
              "[64] \"HUC12\"              \"shot_id\"           "
            ]
          },
          "metadata": {}
        }
      ]
    },
    {
      "cell_type": "code",
      "source": [
        "gedi_int_dt[,group_quantile:=as.integer(cut((mean_preval-mean_mag), breaks = quantile(((mean_preval-mean_mag))[!is.na(agbd) & median_preval > 0], probs = seq(0, 1, by = 1/3),na.rm=T), labels = FALSE, include.lowest = TRUE))  %>%as.factor(),by=.(HUC8)]"
      ],
      "metadata": {
        "id": "v1zLIuy_ASMx"
      },
      "execution_count": 49,
      "outputs": []
    },
    {
      "cell_type": "code",
      "source": [
        "gedi_int_dt[,biomass_init:=mean(agbd[!is.na(agbd) & median_preval > 0 & gedi_year>min_yod-5],na.rm=T),by=.(HUC8,group_quantile)]"
      ],
      "metadata": {
        "id": "3OaclqOt9ZQN"
      },
      "execution_count": 61,
      "outputs": []
    },
    {
      "cell_type": "code",
      "source": [
        "gedi_int_dt %>% names"
      ],
      "metadata": {
        "id": "0lNde-zABbLg",
        "outputId": "87af12f7-47e3-4255-84aa-dc9173f248e4",
        "colab": {
          "base_uri": "https://localhost:8080/",
          "height": 104
        }
      },
      "execution_count": 93,
      "outputs": [
        {
          "output_type": "display_data",
          "data": {
            "text/html": [
              "<style>\n",
              ".list-inline {list-style: none; margin:0; padding: 0}\n",
              ".list-inline>li {display: inline-block}\n",
              ".list-inline>li:not(:last-child)::after {content: \"\\00b7\"; padding: 0 .5ex}\n",
              "</style>\n",
              "<ol class=list-inline><li>'agbd'</li><li>'lat_lowestmode'</li><li>'lon_lowestmode'</li><li>'agbd_pi_lower'</li><li>'agbd_pi_upper'</li><li>'agbd_se'</li><li>'agbd_t'</li><li>'agbd_t_se'</li><li>'algorithm_run_flag'</li><li>'channel'</li><li>'degrade_flag'</li><li>'delta_time'</li><li>'elev_lowestmode'</li><li>'l2_quality_flag'</li><li>'l4_quality_flag'</li><li>'gedi_year'</li><li>'min_yod'</li><li>'min_mag'</li><li>'min_dur'</li><li>'min_preval'</li><li>'min_rate'</li><li>'min_dsnr'</li><li>'max_yod'</li><li>'max_mag'</li><li>'max_dur'</li><li>'max_preval'</li><li>'max_rate'</li><li>'max_dsnr'</li><li>'mean_yod'</li><li>'mean_mag'</li><li>'mean_dur'</li><li>'mean_preval'</li><li>'mean_rate'</li><li>'mean_dsnr'</li><li>'median_yod'</li><li>'median_mag'</li><li>'median_dur'</li><li>'median_preval'</li><li>'median_rate'</li><li>'median_dsnr'</li><li>'min_hja_2008'</li><li>'max_hja_2008'</li><li>'mean_hja_2008'</li><li>'median_hja_2008'</li><li>'min_conus_2003'</li><li>'max_conus_2003'</li><li>'mean_conus_2003'</li><li>'median_conus_2003'</li><li>'min_conus_2016'</li><li>'max_conus_2016'</li><li>'mean_conus_2016'</li><li>'median_conus_2016'</li><li>'gedi_vec_id'</li><li>'gedi_vec_year'</li><li>'gedi_vec_area'</li><li>'Ownership'</li><li>'LandManager'</li><li>'FIRE_INC_ID'</li><li>'FIRE_NAME'</li><li>'FIRE_YEAR'</li><li>'geom'</li><li>'HUC8'</li><li>'HUC10'</li><li>'HUC12'</li><li>'shot_id'</li><li>'group_quantile'</li><li>'biomass_init'</li></ol>\n"
            ],
            "text/markdown": "1. 'agbd'\n2. 'lat_lowestmode'\n3. 'lon_lowestmode'\n4. 'agbd_pi_lower'\n5. 'agbd_pi_upper'\n6. 'agbd_se'\n7. 'agbd_t'\n8. 'agbd_t_se'\n9. 'algorithm_run_flag'\n10. 'channel'\n11. 'degrade_flag'\n12. 'delta_time'\n13. 'elev_lowestmode'\n14. 'l2_quality_flag'\n15. 'l4_quality_flag'\n16. 'gedi_year'\n17. 'min_yod'\n18. 'min_mag'\n19. 'min_dur'\n20. 'min_preval'\n21. 'min_rate'\n22. 'min_dsnr'\n23. 'max_yod'\n24. 'max_mag'\n25. 'max_dur'\n26. 'max_preval'\n27. 'max_rate'\n28. 'max_dsnr'\n29. 'mean_yod'\n30. 'mean_mag'\n31. 'mean_dur'\n32. 'mean_preval'\n33. 'mean_rate'\n34. 'mean_dsnr'\n35. 'median_yod'\n36. 'median_mag'\n37. 'median_dur'\n38. 'median_preval'\n39. 'median_rate'\n40. 'median_dsnr'\n41. 'min_hja_2008'\n42. 'max_hja_2008'\n43. 'mean_hja_2008'\n44. 'median_hja_2008'\n45. 'min_conus_2003'\n46. 'max_conus_2003'\n47. 'mean_conus_2003'\n48. 'median_conus_2003'\n49. 'min_conus_2016'\n50. 'max_conus_2016'\n51. 'mean_conus_2016'\n52. 'median_conus_2016'\n53. 'gedi_vec_id'\n54. 'gedi_vec_year'\n55. 'gedi_vec_area'\n56. 'Ownership'\n57. 'LandManager'\n58. 'FIRE_INC_ID'\n59. 'FIRE_NAME'\n60. 'FIRE_YEAR'\n61. 'geom'\n62. 'HUC8'\n63. 'HUC10'\n64. 'HUC12'\n65. 'shot_id'\n66. 'group_quantile'\n67. 'biomass_init'\n\n\n",
            "text/latex": "\\begin{enumerate*}\n\\item 'agbd'\n\\item 'lat\\_lowestmode'\n\\item 'lon\\_lowestmode'\n\\item 'agbd\\_pi\\_lower'\n\\item 'agbd\\_pi\\_upper'\n\\item 'agbd\\_se'\n\\item 'agbd\\_t'\n\\item 'agbd\\_t\\_se'\n\\item 'algorithm\\_run\\_flag'\n\\item 'channel'\n\\item 'degrade\\_flag'\n\\item 'delta\\_time'\n\\item 'elev\\_lowestmode'\n\\item 'l2\\_quality\\_flag'\n\\item 'l4\\_quality\\_flag'\n\\item 'gedi\\_year'\n\\item 'min\\_yod'\n\\item 'min\\_mag'\n\\item 'min\\_dur'\n\\item 'min\\_preval'\n\\item 'min\\_rate'\n\\item 'min\\_dsnr'\n\\item 'max\\_yod'\n\\item 'max\\_mag'\n\\item 'max\\_dur'\n\\item 'max\\_preval'\n\\item 'max\\_rate'\n\\item 'max\\_dsnr'\n\\item 'mean\\_yod'\n\\item 'mean\\_mag'\n\\item 'mean\\_dur'\n\\item 'mean\\_preval'\n\\item 'mean\\_rate'\n\\item 'mean\\_dsnr'\n\\item 'median\\_yod'\n\\item 'median\\_mag'\n\\item 'median\\_dur'\n\\item 'median\\_preval'\n\\item 'median\\_rate'\n\\item 'median\\_dsnr'\n\\item 'min\\_hja\\_2008'\n\\item 'max\\_hja\\_2008'\n\\item 'mean\\_hja\\_2008'\n\\item 'median\\_hja\\_2008'\n\\item 'min\\_conus\\_2003'\n\\item 'max\\_conus\\_2003'\n\\item 'mean\\_conus\\_2003'\n\\item 'median\\_conus\\_2003'\n\\item 'min\\_conus\\_2016'\n\\item 'max\\_conus\\_2016'\n\\item 'mean\\_conus\\_2016'\n\\item 'median\\_conus\\_2016'\n\\item 'gedi\\_vec\\_id'\n\\item 'gedi\\_vec\\_year'\n\\item 'gedi\\_vec\\_area'\n\\item 'Ownership'\n\\item 'LandManager'\n\\item 'FIRE\\_INC\\_ID'\n\\item 'FIRE\\_NAME'\n\\item 'FIRE\\_YEAR'\n\\item 'geom'\n\\item 'HUC8'\n\\item 'HUC10'\n\\item 'HUC12'\n\\item 'shot\\_id'\n\\item 'group\\_quantile'\n\\item 'biomass\\_init'\n\\end{enumerate*}\n",
            "text/plain": [
              " [1] \"agbd\"               \"lat_lowestmode\"     \"lon_lowestmode\"    \n",
              " [4] \"agbd_pi_lower\"      \"agbd_pi_upper\"      \"agbd_se\"           \n",
              " [7] \"agbd_t\"             \"agbd_t_se\"          \"algorithm_run_flag\"\n",
              "[10] \"channel\"            \"degrade_flag\"       \"delta_time\"        \n",
              "[13] \"elev_lowestmode\"    \"l2_quality_flag\"    \"l4_quality_flag\"   \n",
              "[16] \"gedi_year\"          \"min_yod\"            \"min_mag\"           \n",
              "[19] \"min_dur\"            \"min_preval\"         \"min_rate\"          \n",
              "[22] \"min_dsnr\"           \"max_yod\"            \"max_mag\"           \n",
              "[25] \"max_dur\"            \"max_preval\"         \"max_rate\"          \n",
              "[28] \"max_dsnr\"           \"mean_yod\"           \"mean_mag\"          \n",
              "[31] \"mean_dur\"           \"mean_preval\"        \"mean_rate\"         \n",
              "[34] \"mean_dsnr\"          \"median_yod\"         \"median_mag\"        \n",
              "[37] \"median_dur\"         \"median_preval\"      \"median_rate\"       \n",
              "[40] \"median_dsnr\"        \"min_hja_2008\"       \"max_hja_2008\"      \n",
              "[43] \"mean_hja_2008\"      \"median_hja_2008\"    \"min_conus_2003\"    \n",
              "[46] \"max_conus_2003\"     \"mean_conus_2003\"    \"median_conus_2003\" \n",
              "[49] \"min_conus_2016\"     \"max_conus_2016\"     \"mean_conus_2016\"   \n",
              "[52] \"median_conus_2016\"  \"gedi_vec_id\"        \"gedi_vec_year\"     \n",
              "[55] \"gedi_vec_area\"      \"Ownership\"          \"LandManager\"       \n",
              "[58] \"FIRE_INC_ID\"        \"FIRE_NAME\"          \"FIRE_YEAR\"         \n",
              "[61] \"geom\"               \"HUC8\"               \"HUC10\"             \n",
              "[64] \"HUC12\"              \"shot_id\"            \"group_quantile\"    \n",
              "[67] \"biomass_init\"      "
            ]
          },
          "metadata": {}
        }
      ]
    },
    {
      "cell_type": "code",
      "source": [
        "pre_post_dt <- gedi_int_dt[mean_yod>1983,list(\n",
        "  biomass_pre = mean(agbd[!is.na(agbd) & median_preval > 0 & gedi_year < min_yod &l4_quality_flag==1],na.rm=T),\n",
        "  biomass_post = mean(agbd[!is.na(agbd) & median_preval > 0 & gedi_year > max_yod &l4_quality_flag==1],na.rm=T),\n",
        "  mean_preval = mean(mean_preval[!is.na(agbd) & median_preval > 0 & gedi_year > max_yod &l4_quality_flag==1],na.rm=T),\n",
        "  mean_mag = mean(mean_mag[!is.na(agbd) & median_preval > 0 & gedi_year > max_yod &l4_quality_flag==1],na.rm=T),\n",
        "  gedi_year_pre = mean(gedi_year[!is.na(agbd) & median_preval > 0 & gedi_year < min_yod &l4_quality_flag==1] %>% as.numeric,na.rm=T),\n",
        "  gedi_year_post = mean(gedi_year[!is.na(agbd) & median_preval > 0 & gedi_year > max_yod &l4_quality_flag==1] %>% as.numeric,na.rm=T),\n",
        "  mean_yod = mean(mean_yod[!is.na(agbd) & median_preval > 0 & gedi_year > max_yod &l4_quality_flag==1],na.rm=T),\n",
        "  n_pre=length(agbd[!is.na(agbd) & median_preval > 0 & gedi_year < min_yod &l4_quality_flag==1]),\n",
        "  n_post=length(agbd[!is.na(agbd) & median_preval > 0 & gedi_year > max_yod &l4_quality_flag==1])\n",
        "  ),by=.(HUC8,gedi_vec_id)][!is.na(biomass_pre) &!is.na(biomass_post)]"
      ],
      "metadata": {
        "id": "w7HRn5KK968v"
      },
      "execution_count": 238,
      "outputs": []
    },
    {
      "cell_type": "code",
      "source": [
        "pre_post_dt <- pre_post_dt[n_pre > 10 & n_post> 10]"
      ],
      "metadata": {
        "id": "d8UeG8MYN9hy"
      },
      "execution_count": 217,
      "outputs": []
    },
    {
      "cell_type": "code",
      "source": [
        "pre_post_dt[,group_quantile:=as.integer(cut((mean_preval-mean_mag)/mean_preval, breaks = quantile(((mean_preval-mean_mag)/mean_preval), probs = seq(0, 1, by = 1/3),na.rm=T), labels = FALSE, include.lowest = TRUE))  %>%as.factor(),by=.()]"
      ],
      "metadata": {
        "id": "UZu4oP0BGfP4"
      },
      "execution_count": 239,
      "outputs": []
    },
    {
      "cell_type": "code",
      "source": [
        "pre_post_dt"
      ],
      "metadata": {
        "id": "gCDtRvmCLr-v",
        "outputId": "43f7d8d8-bda8-492c-c804-9b39ca5f71b9",
        "colab": {
          "base_uri": "https://localhost:8080/",
          "height": 1000
        }
      },
      "execution_count": 220,
      "outputs": [
        {
          "output_type": "display_data",
          "data": {
            "text/html": [
              "<table class=\"dataframe\">\n",
              "<caption>A data.table: 69 × 12</caption>\n",
              "<thead>\n",
              "\t<tr><th scope=col>HUC8</th><th scope=col>gedi_vec_id</th><th scope=col>biomass_pre</th><th scope=col>biomass_post</th><th scope=col>mean_preval</th><th scope=col>mean_mag</th><th scope=col>gedi_year_pre</th><th scope=col>gedi_year_post</th><th scope=col>mean_yod</th><th scope=col>n_pre</th><th scope=col>n_post</th><th scope=col>group_quantile</th></tr>\n",
              "\t<tr><th scope=col>&lt;chr&gt;</th><th scope=col>&lt;int&gt;</th><th scope=col>&lt;dbl&gt;</th><th scope=col>&lt;dbl&gt;</th><th scope=col>&lt;dbl&gt;</th><th scope=col>&lt;dbl&gt;</th><th scope=col>&lt;dbl&gt;</th><th scope=col>&lt;dbl&gt;</th><th scope=col>&lt;dbl&gt;</th><th scope=col>&lt;int&gt;</th><th scope=col>&lt;int&gt;</th><th scope=col>&lt;fct&gt;</th></tr>\n",
              "</thead>\n",
              "<tbody>\n",
              "\t<tr><td>17090005</td><td>150075</td><td>317.2409</td><td>140.22870</td><td>839.4253</td><td>506.0675</td><td>2019.506</td><td>2022.000</td><td>2020.822</td><td>23067</td><td>13607</td><td>1</td></tr>\n",
              "\t<tr><td>17090005</td><td> 82432</td><td>247.3816</td><td>132.19351</td><td>828.3922</td><td>409.7367</td><td>2019.493</td><td>2022.000</td><td>2020.630</td><td>   73</td><td>   43</td><td>2</td></tr>\n",
              "\t<tr><td>17090005</td><td> 62990</td><td>423.5232</td><td>329.87371</td><td>863.0504</td><td>400.0714</td><td>2019.427</td><td>2022.000</td><td>2020.028</td><td>   96</td><td>   35</td><td>3</td></tr>\n",
              "\t<tr><td>17090006</td><td>293426</td><td>350.8394</td><td> 94.52339</td><td>860.6260</td><td>412.9524</td><td>2019.880</td><td>2022.000</td><td>2020.740</td><td>   25</td><td>   17</td><td>2</td></tr>\n",
              "\t<tr><td>17090006</td><td>274892</td><td>181.4478</td><td> 45.97725</td><td>895.7503</td><td>469.9654</td><td>2019.857</td><td>2022.000</td><td>2021.000</td><td>   28</td><td>   11</td><td>1</td></tr>\n",
              "\t<tr><td>17090006</td><td>296172</td><td>173.2347</td><td> 74.59752</td><td>894.1319</td><td>375.4252</td><td>2019.000</td><td>2021.583</td><td>2019.990</td><td>   13</td><td>   12</td><td>3</td></tr>\n",
              "\t<tr><td>17090006</td><td>184660</td><td>393.8597</td><td> 47.85769</td><td>873.9696</td><td>460.6426</td><td>2019.000</td><td>2021.062</td><td>2019.974</td><td>   15</td><td>   16</td><td>1</td></tr>\n",
              "\t<tr><td>17090006</td><td>167823</td><td>232.2902</td><td> 34.14143</td><td>869.3548</td><td>429.0919</td><td>2019.000</td><td>2021.364</td><td>2019.712</td><td>   14</td><td>   11</td><td>2</td></tr>\n",
              "\t<tr><td>17090006</td><td>166995</td><td>247.0439</td><td> 43.03721</td><td>880.6728</td><td>453.6803</td><td>2019.000</td><td>2021.238</td><td>2020.000</td><td>   17</td><td>   21</td><td>2</td></tr>\n",
              "\t<tr><td>17090006</td><td>134369</td><td>177.2602</td><td> 32.81680</td><td>855.7375</td><td>394.3561</td><td>2019.000</td><td>2021.370</td><td>2019.990</td><td>   18</td><td>   27</td><td>3</td></tr>\n",
              "\t<tr><td>17090004</td><td>419288</td><td>406.8808</td><td>156.67628</td><td>869.3033</td><td>477.4511</td><td>2019.772</td><td>2022.000</td><td>2020.617</td><td>31328</td><td> 3347</td><td>1</td></tr>\n",
              "\t<tr><td>17090004</td><td>348948</td><td>337.1791</td><td>263.10066</td><td>859.8688</td><td>452.6259</td><td>2019.721</td><td>2022.000</td><td>2020.693</td><td>  358</td><td>  140</td><td>1</td></tr>\n",
              "\t<tr><td>17090004</td><td>354343</td><td>541.3746</td><td>461.81499</td><td>879.6764</td><td>390.2243</td><td>2019.825</td><td>2022.000</td><td>2021.000</td><td>  211</td><td>   15</td><td>3</td></tr>\n",
              "\t<tr><td>17090004</td><td>350186</td><td>440.5770</td><td>339.87815</td><td>854.8342</td><td>401.4868</td><td>2019.859</td><td>2022.000</td><td>2019.339</td><td>  249</td><td>   76</td><td>2</td></tr>\n",
              "\t<tr><td>17090004</td><td>338727</td><td>441.0024</td><td>305.07305</td><td>858.2466</td><td>381.1888</td><td>2019.800</td><td>2022.000</td><td>2020.997</td><td>   20</td><td>   26</td><td>3</td></tr>\n",
              "\t<tr><td>17090004</td><td>344043</td><td>444.3918</td><td>325.18792</td><td>853.3996</td><td>417.1335</td><td>2019.806</td><td>2022.000</td><td>2020.971</td><td>  155</td><td>   61</td><td>2</td></tr>\n",
              "\t<tr><td>17090004</td><td>342941</td><td>861.7133</td><td>224.62773</td><td>872.0178</td><td>419.0680</td><td>2019.667</td><td>2022.000</td><td>2019.745</td><td>   27</td><td>   11</td><td>2</td></tr>\n",
              "\t<tr><td>17090004</td><td>347725</td><td>445.8593</td><td>233.70955</td><td>858.2608</td><td>355.1518</td><td>2019.795</td><td>2022.000</td><td>2017.528</td><td>   39</td><td>   17</td><td>3</td></tr>\n",
              "\t<tr><td>17090004</td><td>332130</td><td>474.5648</td><td>118.63755</td><td>841.4719</td><td>578.9597</td><td>2019.524</td><td>2022.000</td><td>2021.000</td><td>   21</td><td>   17</td><td>1</td></tr>\n",
              "\t<tr><td>17090004</td><td>337173</td><td>343.9223</td><td>309.14238</td><td>804.7299</td><td>391.3166</td><td>2019.703</td><td>2022.000</td><td>2020.599</td><td>   37</td><td>   21</td><td>2</td></tr>\n",
              "\t<tr><td>17090005</td><td>125941</td><td>375.7514</td><td>153.71429</td><td>845.5401</td><td>384.8125</td><td>2020.000</td><td>2022.000</td><td>2021.000</td><td>   28</td><td>   25</td><td>3</td></tr>\n",
              "\t<tr><td>17090005</td><td>128463</td><td>329.6291</td><td> 80.97312</td><td>872.5313</td><td>559.2458</td><td>2019.890</td><td>2022.000</td><td>2020.843</td><td>  154</td><td>   97</td><td>1</td></tr>\n",
              "\t<tr><td>17090005</td><td>118723</td><td>133.1146</td><td>101.31462</td><td>843.5905</td><td>360.1445</td><td>2019.442</td><td>2022.000</td><td>2020.124</td><td>   43</td><td>   15</td><td>3</td></tr>\n",
              "\t<tr><td>17090005</td><td>149406</td><td>263.5323</td><td>102.55520</td><td>831.9580</td><td>517.3652</td><td>2019.608</td><td>2022.000</td><td>2021.000</td><td>  475</td><td>   48</td><td>1</td></tr>\n",
              "\t<tr><td>17090004</td><td>414048</td><td>276.7421</td><td> 77.77500</td><td>886.2024</td><td>478.2558</td><td>2019.692</td><td>2022.000</td><td>2018.984</td><td>   52</td><td>   17</td><td>1</td></tr>\n",
              "\t<tr><td>17090004</td><td>371873</td><td>365.5452</td><td> 92.03889</td><td>894.0791</td><td>452.4755</td><td>2019.734</td><td>2022.000</td><td>2020.654</td><td> 1400</td><td>  391</td><td>2</td></tr>\n",
              "\t<tr><td>17090004</td><td>366166</td><td>266.0178</td><td>139.33176</td><td>867.0703</td><td>523.3851</td><td>2019.646</td><td>2022.000</td><td>2020.994</td><td>  178</td><td>   36</td><td>1</td></tr>\n",
              "\t<tr><td>17090004</td><td>375619</td><td>357.5143</td><td>125.68694</td><td>900.9772</td><td>391.6549</td><td>2019.620</td><td>2022.000</td><td>2019.766</td><td>  158</td><td>   29</td><td>3</td></tr>\n",
              "\t<tr><td>17090004</td><td>368509</td><td>175.4431</td><td> 22.20451</td><td>905.1343</td><td>509.5413</td><td>2019.667</td><td>2022.000</td><td>2019.264</td><td>   18</td><td>   14</td><td>1</td></tr>\n",
              "\t<tr><td>17090004</td><td>393272</td><td>391.9594</td><td> 27.36819</td><td>887.6202</td><td>382.2740</td><td>2019.000</td><td>2021.806</td><td>2019.655</td><td>   20</td><td>   36</td><td>3</td></tr>\n",
              "\t<tr><td>⋮</td><td>⋮</td><td>⋮</td><td>⋮</td><td>⋮</td><td>⋮</td><td>⋮</td><td>⋮</td><td>⋮</td><td>⋮</td><td>⋮</td><td>⋮</td></tr>\n",
              "\t<tr><td>17090003</td><td> 77688</td><td>259.7212</td><td> 92.03220</td><td>897.0456</td><td>455.0968</td><td>2019.320</td><td>2022.000</td><td>2020.167</td><td> 25</td><td> 31</td><td>2</td></tr>\n",
              "\t<tr><td>17090003</td><td> 68404</td><td>269.9088</td><td> 86.99435</td><td>879.7893</td><td>410.4484</td><td>2019.000</td><td>2021.500</td><td>2019.881</td><td> 12</td><td> 12</td><td>3</td></tr>\n",
              "\t<tr><td>17090003</td><td> 95298</td><td>181.2696</td><td> 98.15691</td><td>912.2033</td><td>451.2541</td><td>2019.619</td><td>2022.000</td><td>2019.910</td><td> 21</td><td> 19</td><td>2</td></tr>\n",
              "\t<tr><td>17090003</td><td>302288</td><td>336.6934</td><td> 38.02415</td><td>874.5237</td><td>421.2587</td><td>2019.000</td><td>2021.684</td><td>2019.107</td><td> 11</td><td> 38</td><td>2</td></tr>\n",
              "\t<tr><td>17090003</td><td>319932</td><td>208.7907</td><td> 28.06706</td><td>927.3298</td><td>508.8314</td><td>2019.000</td><td>2021.800</td><td>2020.029</td><td> 28</td><td> 15</td><td>1</td></tr>\n",
              "\t<tr><td>17090003</td><td>317206</td><td>263.1405</td><td>130.10411</td><td>859.3578</td><td>486.2639</td><td>2019.611</td><td>2022.000</td><td>2020.281</td><td>157</td><td> 66</td><td>1</td></tr>\n",
              "\t<tr><td>17090003</td><td>311460</td><td>241.6216</td><td>100.62663</td><td>847.0023</td><td>460.1468</td><td>2019.439</td><td>2022.000</td><td>2020.736</td><td> 66</td><td> 47</td><td>1</td></tr>\n",
              "\t<tr><td>17090003</td><td>309248</td><td>161.8641</td><td> 83.92013</td><td>804.5650</td><td>342.0390</td><td>2019.231</td><td>2022.000</td><td>2020.829</td><td> 13</td><td> 22</td><td>3</td></tr>\n",
              "\t<tr><td>17090003</td><td>328497</td><td>244.3999</td><td> 86.27568</td><td>883.8402</td><td>517.0488</td><td>2019.828</td><td>2022.000</td><td>2020.871</td><td> 99</td><td> 17</td><td>1</td></tr>\n",
              "\t<tr><td>17090003</td><td>293665</td><td>176.9126</td><td> 54.57940</td><td>883.2039</td><td>399.8902</td><td>2019.000</td><td>2021.609</td><td>2020.000</td><td> 12</td><td> 23</td><td>3</td></tr>\n",
              "\t<tr><td>17090003</td><td>316902</td><td>141.2554</td><td>137.19074</td><td>876.6256</td><td>544.7283</td><td>2019.500</td><td>2022.000</td><td>2019.228</td><td> 16</td><td> 15</td><td>1</td></tr>\n",
              "\t<tr><td>17090005</td><td>138716</td><td>359.3032</td><td> 88.74634</td><td>877.5808</td><td>418.9105</td><td>2019.000</td><td>2021.706</td><td>2020.000</td><td> 20</td><td> 17</td><td>2</td></tr>\n",
              "\t<tr><td>17090005</td><td> 97044</td><td>180.4966</td><td> 28.99520</td><td>793.6540</td><td>348.4844</td><td>2019.286</td><td>2022.000</td><td>2020.583</td><td> 42</td><td> 52</td><td>3</td></tr>\n",
              "\t<tr><td>17090005</td><td>114459</td><td>261.5536</td><td> 48.28453</td><td>875.8282</td><td>366.1852</td><td>2019.690</td><td>2022.000</td><td>2020.847</td><td> 29</td><td> 16</td><td>3</td></tr>\n",
              "\t<tr><td>17090005</td><td>140894</td><td>251.0487</td><td> 51.79461</td><td>894.6502</td><td>438.3001</td><td>2019.000</td><td>2021.692</td><td>2019.708</td><td> 17</td><td> 26</td><td>2</td></tr>\n",
              "\t<tr><td>17090005</td><td> 87005</td><td>355.8010</td><td>127.61470</td><td>886.1123</td><td>353.3253</td><td>2019.328</td><td>2022.000</td><td>2020.101</td><td> 61</td><td> 53</td><td>3</td></tr>\n",
              "\t<tr><td>17090005</td><td> 92763</td><td>256.8243</td><td> 35.80407</td><td>903.9367</td><td>460.8644</td><td>2019.381</td><td>2022.000</td><td>2020.822</td><td> 42</td><td> 17</td><td>2</td></tr>\n",
              "\t<tr><td>17090005</td><td>125030</td><td>226.3061</td><td> 79.92001</td><td>853.0528</td><td>480.4581</td><td>2019.000</td><td>2022.000</td><td>2020.955</td><td> 55</td><td> 42</td><td>1</td></tr>\n",
              "\t<tr><td>17090005</td><td>131324</td><td>189.7592</td><td> 65.30703</td><td>827.9261</td><td>456.2809</td><td>2019.000</td><td>2021.500</td><td>2019.999</td><td> 12</td><td> 32</td><td>1</td></tr>\n",
              "\t<tr><td>17090005</td><td> 74716</td><td>358.3290</td><td> 87.71063</td><td>887.5848</td><td>380.7063</td><td>2019.107</td><td>2022.000</td><td>2020.483</td><td>896</td><td>285</td><td>3</td></tr>\n",
              "\t<tr><td>17090005</td><td> 56541</td><td>182.1757</td><td> 30.67464</td><td>880.0460</td><td>448.9129</td><td>2019.486</td><td>2022.000</td><td>2020.710</td><td> 37</td><td> 16</td><td>2</td></tr>\n",
              "\t<tr><td>17090005</td><td> 50712</td><td>249.9328</td><td>301.71057</td><td>867.4884</td><td>331.0445</td><td>2019.636</td><td>2022.000</td><td>2018.715</td><td> 22</td><td> 20</td><td>3</td></tr>\n",
              "\t<tr><td>17090005</td><td> 74368</td><td>485.5599</td><td>151.55714</td><td>872.4503</td><td>354.0471</td><td>2019.168</td><td>2022.000</td><td>2020.613</td><td>441</td><td>178</td><td>3</td></tr>\n",
              "\t<tr><td>17090005</td><td> 45052</td><td>350.5846</td><td>198.59688</td><td>855.0240</td><td>399.4191</td><td>2019.233</td><td>2022.000</td><td>2020.287</td><td> 30</td><td> 15</td><td>2</td></tr>\n",
              "\t<tr><td>17090006</td><td>210154</td><td>560.2441</td><td> 61.19983</td><td>865.7212</td><td>368.3551</td><td>2019.000</td><td>2021.000</td><td>2019.662</td><td> 21</td><td> 17</td><td>3</td></tr>\n",
              "\t<tr><td>17090006</td><td>249910</td><td>215.8730</td><td> 65.02984</td><td>885.1615</td><td>489.6118</td><td>2019.000</td><td>2021.357</td><td>2020.000</td><td> 11</td><td> 14</td><td>1</td></tr>\n",
              "\t<tr><td>17090006</td><td>212512</td><td>396.3387</td><td> 41.01556</td><td>876.9066</td><td>446.0927</td><td>2019.000</td><td>2021.150</td><td>2019.931</td><td> 21</td><td> 20</td><td>2</td></tr>\n",
              "\t<tr><td>17090006</td><td>220260</td><td>231.8529</td><td> 79.64833</td><td>892.6925</td><td>361.9972</td><td>2019.000</td><td>2021.000</td><td>2019.271</td><td> 12</td><td> 16</td><td>3</td></tr>\n",
              "\t<tr><td>17090006</td><td>215988</td><td>314.7776</td><td> 18.07582</td><td>885.0666</td><td>529.9295</td><td>2019.000</td><td>2022.000</td><td>2019.967</td><td> 12</td><td> 11</td><td>1</td></tr>\n",
              "\t<tr><td>17090006</td><td>229890</td><td>364.4721</td><td> 48.57841</td><td>861.2106</td><td>380.5905</td><td>2019.868</td><td>2022.000</td><td>2020.856</td><td> 38</td><td> 17</td><td>3</td></tr>\n",
              "</tbody>\n",
              "</table>\n"
            ],
            "text/markdown": "\nA data.table: 69 × 12\n\n| HUC8 &lt;chr&gt; | gedi_vec_id &lt;int&gt; | biomass_pre &lt;dbl&gt; | biomass_post &lt;dbl&gt; | mean_preval &lt;dbl&gt; | mean_mag &lt;dbl&gt; | gedi_year_pre &lt;dbl&gt; | gedi_year_post &lt;dbl&gt; | mean_yod &lt;dbl&gt; | n_pre &lt;int&gt; | n_post &lt;int&gt; | group_quantile &lt;fct&gt; |\n|---|---|---|---|---|---|---|---|---|---|---|---|\n| 17090005 | 150075 | 317.2409 | 140.22870 | 839.4253 | 506.0675 | 2019.506 | 2022.000 | 2020.822 | 23067 | 13607 | 1 |\n| 17090005 |  82432 | 247.3816 | 132.19351 | 828.3922 | 409.7367 | 2019.493 | 2022.000 | 2020.630 |    73 |    43 | 2 |\n| 17090005 |  62990 | 423.5232 | 329.87371 | 863.0504 | 400.0714 | 2019.427 | 2022.000 | 2020.028 |    96 |    35 | 3 |\n| 17090006 | 293426 | 350.8394 |  94.52339 | 860.6260 | 412.9524 | 2019.880 | 2022.000 | 2020.740 |    25 |    17 | 2 |\n| 17090006 | 274892 | 181.4478 |  45.97725 | 895.7503 | 469.9654 | 2019.857 | 2022.000 | 2021.000 |    28 |    11 | 1 |\n| 17090006 | 296172 | 173.2347 |  74.59752 | 894.1319 | 375.4252 | 2019.000 | 2021.583 | 2019.990 |    13 |    12 | 3 |\n| 17090006 | 184660 | 393.8597 |  47.85769 | 873.9696 | 460.6426 | 2019.000 | 2021.062 | 2019.974 |    15 |    16 | 1 |\n| 17090006 | 167823 | 232.2902 |  34.14143 | 869.3548 | 429.0919 | 2019.000 | 2021.364 | 2019.712 |    14 |    11 | 2 |\n| 17090006 | 166995 | 247.0439 |  43.03721 | 880.6728 | 453.6803 | 2019.000 | 2021.238 | 2020.000 |    17 |    21 | 2 |\n| 17090006 | 134369 | 177.2602 |  32.81680 | 855.7375 | 394.3561 | 2019.000 | 2021.370 | 2019.990 |    18 |    27 | 3 |\n| 17090004 | 419288 | 406.8808 | 156.67628 | 869.3033 | 477.4511 | 2019.772 | 2022.000 | 2020.617 | 31328 |  3347 | 1 |\n| 17090004 | 348948 | 337.1791 | 263.10066 | 859.8688 | 452.6259 | 2019.721 | 2022.000 | 2020.693 |   358 |   140 | 1 |\n| 17090004 | 354343 | 541.3746 | 461.81499 | 879.6764 | 390.2243 | 2019.825 | 2022.000 | 2021.000 |   211 |    15 | 3 |\n| 17090004 | 350186 | 440.5770 | 339.87815 | 854.8342 | 401.4868 | 2019.859 | 2022.000 | 2019.339 |   249 |    76 | 2 |\n| 17090004 | 338727 | 441.0024 | 305.07305 | 858.2466 | 381.1888 | 2019.800 | 2022.000 | 2020.997 |    20 |    26 | 3 |\n| 17090004 | 344043 | 444.3918 | 325.18792 | 853.3996 | 417.1335 | 2019.806 | 2022.000 | 2020.971 |   155 |    61 | 2 |\n| 17090004 | 342941 | 861.7133 | 224.62773 | 872.0178 | 419.0680 | 2019.667 | 2022.000 | 2019.745 |    27 |    11 | 2 |\n| 17090004 | 347725 | 445.8593 | 233.70955 | 858.2608 | 355.1518 | 2019.795 | 2022.000 | 2017.528 |    39 |    17 | 3 |\n| 17090004 | 332130 | 474.5648 | 118.63755 | 841.4719 | 578.9597 | 2019.524 | 2022.000 | 2021.000 |    21 |    17 | 1 |\n| 17090004 | 337173 | 343.9223 | 309.14238 | 804.7299 | 391.3166 | 2019.703 | 2022.000 | 2020.599 |    37 |    21 | 2 |\n| 17090005 | 125941 | 375.7514 | 153.71429 | 845.5401 | 384.8125 | 2020.000 | 2022.000 | 2021.000 |    28 |    25 | 3 |\n| 17090005 | 128463 | 329.6291 |  80.97312 | 872.5313 | 559.2458 | 2019.890 | 2022.000 | 2020.843 |   154 |    97 | 1 |\n| 17090005 | 118723 | 133.1146 | 101.31462 | 843.5905 | 360.1445 | 2019.442 | 2022.000 | 2020.124 |    43 |    15 | 3 |\n| 17090005 | 149406 | 263.5323 | 102.55520 | 831.9580 | 517.3652 | 2019.608 | 2022.000 | 2021.000 |   475 |    48 | 1 |\n| 17090004 | 414048 | 276.7421 |  77.77500 | 886.2024 | 478.2558 | 2019.692 | 2022.000 | 2018.984 |    52 |    17 | 1 |\n| 17090004 | 371873 | 365.5452 |  92.03889 | 894.0791 | 452.4755 | 2019.734 | 2022.000 | 2020.654 |  1400 |   391 | 2 |\n| 17090004 | 366166 | 266.0178 | 139.33176 | 867.0703 | 523.3851 | 2019.646 | 2022.000 | 2020.994 |   178 |    36 | 1 |\n| 17090004 | 375619 | 357.5143 | 125.68694 | 900.9772 | 391.6549 | 2019.620 | 2022.000 | 2019.766 |   158 |    29 | 3 |\n| 17090004 | 368509 | 175.4431 |  22.20451 | 905.1343 | 509.5413 | 2019.667 | 2022.000 | 2019.264 |    18 |    14 | 1 |\n| 17090004 | 393272 | 391.9594 |  27.36819 | 887.6202 | 382.2740 | 2019.000 | 2021.806 | 2019.655 |    20 |    36 | 3 |\n| ⋮ | ⋮ | ⋮ | ⋮ | ⋮ | ⋮ | ⋮ | ⋮ | ⋮ | ⋮ | ⋮ | ⋮ |\n| 17090003 |  77688 | 259.7212 |  92.03220 | 897.0456 | 455.0968 | 2019.320 | 2022.000 | 2020.167 |  25 |  31 | 2 |\n| 17090003 |  68404 | 269.9088 |  86.99435 | 879.7893 | 410.4484 | 2019.000 | 2021.500 | 2019.881 |  12 |  12 | 3 |\n| 17090003 |  95298 | 181.2696 |  98.15691 | 912.2033 | 451.2541 | 2019.619 | 2022.000 | 2019.910 |  21 |  19 | 2 |\n| 17090003 | 302288 | 336.6934 |  38.02415 | 874.5237 | 421.2587 | 2019.000 | 2021.684 | 2019.107 |  11 |  38 | 2 |\n| 17090003 | 319932 | 208.7907 |  28.06706 | 927.3298 | 508.8314 | 2019.000 | 2021.800 | 2020.029 |  28 |  15 | 1 |\n| 17090003 | 317206 | 263.1405 | 130.10411 | 859.3578 | 486.2639 | 2019.611 | 2022.000 | 2020.281 | 157 |  66 | 1 |\n| 17090003 | 311460 | 241.6216 | 100.62663 | 847.0023 | 460.1468 | 2019.439 | 2022.000 | 2020.736 |  66 |  47 | 1 |\n| 17090003 | 309248 | 161.8641 |  83.92013 | 804.5650 | 342.0390 | 2019.231 | 2022.000 | 2020.829 |  13 |  22 | 3 |\n| 17090003 | 328497 | 244.3999 |  86.27568 | 883.8402 | 517.0488 | 2019.828 | 2022.000 | 2020.871 |  99 |  17 | 1 |\n| 17090003 | 293665 | 176.9126 |  54.57940 | 883.2039 | 399.8902 | 2019.000 | 2021.609 | 2020.000 |  12 |  23 | 3 |\n| 17090003 | 316902 | 141.2554 | 137.19074 | 876.6256 | 544.7283 | 2019.500 | 2022.000 | 2019.228 |  16 |  15 | 1 |\n| 17090005 | 138716 | 359.3032 |  88.74634 | 877.5808 | 418.9105 | 2019.000 | 2021.706 | 2020.000 |  20 |  17 | 2 |\n| 17090005 |  97044 | 180.4966 |  28.99520 | 793.6540 | 348.4844 | 2019.286 | 2022.000 | 2020.583 |  42 |  52 | 3 |\n| 17090005 | 114459 | 261.5536 |  48.28453 | 875.8282 | 366.1852 | 2019.690 | 2022.000 | 2020.847 |  29 |  16 | 3 |\n| 17090005 | 140894 | 251.0487 |  51.79461 | 894.6502 | 438.3001 | 2019.000 | 2021.692 | 2019.708 |  17 |  26 | 2 |\n| 17090005 |  87005 | 355.8010 | 127.61470 | 886.1123 | 353.3253 | 2019.328 | 2022.000 | 2020.101 |  61 |  53 | 3 |\n| 17090005 |  92763 | 256.8243 |  35.80407 | 903.9367 | 460.8644 | 2019.381 | 2022.000 | 2020.822 |  42 |  17 | 2 |\n| 17090005 | 125030 | 226.3061 |  79.92001 | 853.0528 | 480.4581 | 2019.000 | 2022.000 | 2020.955 |  55 |  42 | 1 |\n| 17090005 | 131324 | 189.7592 |  65.30703 | 827.9261 | 456.2809 | 2019.000 | 2021.500 | 2019.999 |  12 |  32 | 1 |\n| 17090005 |  74716 | 358.3290 |  87.71063 | 887.5848 | 380.7063 | 2019.107 | 2022.000 | 2020.483 | 896 | 285 | 3 |\n| 17090005 |  56541 | 182.1757 |  30.67464 | 880.0460 | 448.9129 | 2019.486 | 2022.000 | 2020.710 |  37 |  16 | 2 |\n| 17090005 |  50712 | 249.9328 | 301.71057 | 867.4884 | 331.0445 | 2019.636 | 2022.000 | 2018.715 |  22 |  20 | 3 |\n| 17090005 |  74368 | 485.5599 | 151.55714 | 872.4503 | 354.0471 | 2019.168 | 2022.000 | 2020.613 | 441 | 178 | 3 |\n| 17090005 |  45052 | 350.5846 | 198.59688 | 855.0240 | 399.4191 | 2019.233 | 2022.000 | 2020.287 |  30 |  15 | 2 |\n| 17090006 | 210154 | 560.2441 |  61.19983 | 865.7212 | 368.3551 | 2019.000 | 2021.000 | 2019.662 |  21 |  17 | 3 |\n| 17090006 | 249910 | 215.8730 |  65.02984 | 885.1615 | 489.6118 | 2019.000 | 2021.357 | 2020.000 |  11 |  14 | 1 |\n| 17090006 | 212512 | 396.3387 |  41.01556 | 876.9066 | 446.0927 | 2019.000 | 2021.150 | 2019.931 |  21 |  20 | 2 |\n| 17090006 | 220260 | 231.8529 |  79.64833 | 892.6925 | 361.9972 | 2019.000 | 2021.000 | 2019.271 |  12 |  16 | 3 |\n| 17090006 | 215988 | 314.7776 |  18.07582 | 885.0666 | 529.9295 | 2019.000 | 2022.000 | 2019.967 |  12 |  11 | 1 |\n| 17090006 | 229890 | 364.4721 |  48.57841 | 861.2106 | 380.5905 | 2019.868 | 2022.000 | 2020.856 |  38 |  17 | 3 |\n\n",
            "text/latex": "A data.table: 69 × 12\n\\begin{tabular}{llllllllllll}\n HUC8 & gedi\\_vec\\_id & biomass\\_pre & biomass\\_post & mean\\_preval & mean\\_mag & gedi\\_year\\_pre & gedi\\_year\\_post & mean\\_yod & n\\_pre & n\\_post & group\\_quantile\\\\\n <chr> & <int> & <dbl> & <dbl> & <dbl> & <dbl> & <dbl> & <dbl> & <dbl> & <int> & <int> & <fct>\\\\\n\\hline\n\t 17090005 & 150075 & 317.2409 & 140.22870 & 839.4253 & 506.0675 & 2019.506 & 2022.000 & 2020.822 & 23067 & 13607 & 1\\\\\n\t 17090005 &  82432 & 247.3816 & 132.19351 & 828.3922 & 409.7367 & 2019.493 & 2022.000 & 2020.630 &    73 &    43 & 2\\\\\n\t 17090005 &  62990 & 423.5232 & 329.87371 & 863.0504 & 400.0714 & 2019.427 & 2022.000 & 2020.028 &    96 &    35 & 3\\\\\n\t 17090006 & 293426 & 350.8394 &  94.52339 & 860.6260 & 412.9524 & 2019.880 & 2022.000 & 2020.740 &    25 &    17 & 2\\\\\n\t 17090006 & 274892 & 181.4478 &  45.97725 & 895.7503 & 469.9654 & 2019.857 & 2022.000 & 2021.000 &    28 &    11 & 1\\\\\n\t 17090006 & 296172 & 173.2347 &  74.59752 & 894.1319 & 375.4252 & 2019.000 & 2021.583 & 2019.990 &    13 &    12 & 3\\\\\n\t 17090006 & 184660 & 393.8597 &  47.85769 & 873.9696 & 460.6426 & 2019.000 & 2021.062 & 2019.974 &    15 &    16 & 1\\\\\n\t 17090006 & 167823 & 232.2902 &  34.14143 & 869.3548 & 429.0919 & 2019.000 & 2021.364 & 2019.712 &    14 &    11 & 2\\\\\n\t 17090006 & 166995 & 247.0439 &  43.03721 & 880.6728 & 453.6803 & 2019.000 & 2021.238 & 2020.000 &    17 &    21 & 2\\\\\n\t 17090006 & 134369 & 177.2602 &  32.81680 & 855.7375 & 394.3561 & 2019.000 & 2021.370 & 2019.990 &    18 &    27 & 3\\\\\n\t 17090004 & 419288 & 406.8808 & 156.67628 & 869.3033 & 477.4511 & 2019.772 & 2022.000 & 2020.617 & 31328 &  3347 & 1\\\\\n\t 17090004 & 348948 & 337.1791 & 263.10066 & 859.8688 & 452.6259 & 2019.721 & 2022.000 & 2020.693 &   358 &   140 & 1\\\\\n\t 17090004 & 354343 & 541.3746 & 461.81499 & 879.6764 & 390.2243 & 2019.825 & 2022.000 & 2021.000 &   211 &    15 & 3\\\\\n\t 17090004 & 350186 & 440.5770 & 339.87815 & 854.8342 & 401.4868 & 2019.859 & 2022.000 & 2019.339 &   249 &    76 & 2\\\\\n\t 17090004 & 338727 & 441.0024 & 305.07305 & 858.2466 & 381.1888 & 2019.800 & 2022.000 & 2020.997 &    20 &    26 & 3\\\\\n\t 17090004 & 344043 & 444.3918 & 325.18792 & 853.3996 & 417.1335 & 2019.806 & 2022.000 & 2020.971 &   155 &    61 & 2\\\\\n\t 17090004 & 342941 & 861.7133 & 224.62773 & 872.0178 & 419.0680 & 2019.667 & 2022.000 & 2019.745 &    27 &    11 & 2\\\\\n\t 17090004 & 347725 & 445.8593 & 233.70955 & 858.2608 & 355.1518 & 2019.795 & 2022.000 & 2017.528 &    39 &    17 & 3\\\\\n\t 17090004 & 332130 & 474.5648 & 118.63755 & 841.4719 & 578.9597 & 2019.524 & 2022.000 & 2021.000 &    21 &    17 & 1\\\\\n\t 17090004 & 337173 & 343.9223 & 309.14238 & 804.7299 & 391.3166 & 2019.703 & 2022.000 & 2020.599 &    37 &    21 & 2\\\\\n\t 17090005 & 125941 & 375.7514 & 153.71429 & 845.5401 & 384.8125 & 2020.000 & 2022.000 & 2021.000 &    28 &    25 & 3\\\\\n\t 17090005 & 128463 & 329.6291 &  80.97312 & 872.5313 & 559.2458 & 2019.890 & 2022.000 & 2020.843 &   154 &    97 & 1\\\\\n\t 17090005 & 118723 & 133.1146 & 101.31462 & 843.5905 & 360.1445 & 2019.442 & 2022.000 & 2020.124 &    43 &    15 & 3\\\\\n\t 17090005 & 149406 & 263.5323 & 102.55520 & 831.9580 & 517.3652 & 2019.608 & 2022.000 & 2021.000 &   475 &    48 & 1\\\\\n\t 17090004 & 414048 & 276.7421 &  77.77500 & 886.2024 & 478.2558 & 2019.692 & 2022.000 & 2018.984 &    52 &    17 & 1\\\\\n\t 17090004 & 371873 & 365.5452 &  92.03889 & 894.0791 & 452.4755 & 2019.734 & 2022.000 & 2020.654 &  1400 &   391 & 2\\\\\n\t 17090004 & 366166 & 266.0178 & 139.33176 & 867.0703 & 523.3851 & 2019.646 & 2022.000 & 2020.994 &   178 &    36 & 1\\\\\n\t 17090004 & 375619 & 357.5143 & 125.68694 & 900.9772 & 391.6549 & 2019.620 & 2022.000 & 2019.766 &   158 &    29 & 3\\\\\n\t 17090004 & 368509 & 175.4431 &  22.20451 & 905.1343 & 509.5413 & 2019.667 & 2022.000 & 2019.264 &    18 &    14 & 1\\\\\n\t 17090004 & 393272 & 391.9594 &  27.36819 & 887.6202 & 382.2740 & 2019.000 & 2021.806 & 2019.655 &    20 &    36 & 3\\\\\n\t ⋮ & ⋮ & ⋮ & ⋮ & ⋮ & ⋮ & ⋮ & ⋮ & ⋮ & ⋮ & ⋮ & ⋮\\\\\n\t 17090003 &  77688 & 259.7212 &  92.03220 & 897.0456 & 455.0968 & 2019.320 & 2022.000 & 2020.167 &  25 &  31 & 2\\\\\n\t 17090003 &  68404 & 269.9088 &  86.99435 & 879.7893 & 410.4484 & 2019.000 & 2021.500 & 2019.881 &  12 &  12 & 3\\\\\n\t 17090003 &  95298 & 181.2696 &  98.15691 & 912.2033 & 451.2541 & 2019.619 & 2022.000 & 2019.910 &  21 &  19 & 2\\\\\n\t 17090003 & 302288 & 336.6934 &  38.02415 & 874.5237 & 421.2587 & 2019.000 & 2021.684 & 2019.107 &  11 &  38 & 2\\\\\n\t 17090003 & 319932 & 208.7907 &  28.06706 & 927.3298 & 508.8314 & 2019.000 & 2021.800 & 2020.029 &  28 &  15 & 1\\\\\n\t 17090003 & 317206 & 263.1405 & 130.10411 & 859.3578 & 486.2639 & 2019.611 & 2022.000 & 2020.281 & 157 &  66 & 1\\\\\n\t 17090003 & 311460 & 241.6216 & 100.62663 & 847.0023 & 460.1468 & 2019.439 & 2022.000 & 2020.736 &  66 &  47 & 1\\\\\n\t 17090003 & 309248 & 161.8641 &  83.92013 & 804.5650 & 342.0390 & 2019.231 & 2022.000 & 2020.829 &  13 &  22 & 3\\\\\n\t 17090003 & 328497 & 244.3999 &  86.27568 & 883.8402 & 517.0488 & 2019.828 & 2022.000 & 2020.871 &  99 &  17 & 1\\\\\n\t 17090003 & 293665 & 176.9126 &  54.57940 & 883.2039 & 399.8902 & 2019.000 & 2021.609 & 2020.000 &  12 &  23 & 3\\\\\n\t 17090003 & 316902 & 141.2554 & 137.19074 & 876.6256 & 544.7283 & 2019.500 & 2022.000 & 2019.228 &  16 &  15 & 1\\\\\n\t 17090005 & 138716 & 359.3032 &  88.74634 & 877.5808 & 418.9105 & 2019.000 & 2021.706 & 2020.000 &  20 &  17 & 2\\\\\n\t 17090005 &  97044 & 180.4966 &  28.99520 & 793.6540 & 348.4844 & 2019.286 & 2022.000 & 2020.583 &  42 &  52 & 3\\\\\n\t 17090005 & 114459 & 261.5536 &  48.28453 & 875.8282 & 366.1852 & 2019.690 & 2022.000 & 2020.847 &  29 &  16 & 3\\\\\n\t 17090005 & 140894 & 251.0487 &  51.79461 & 894.6502 & 438.3001 & 2019.000 & 2021.692 & 2019.708 &  17 &  26 & 2\\\\\n\t 17090005 &  87005 & 355.8010 & 127.61470 & 886.1123 & 353.3253 & 2019.328 & 2022.000 & 2020.101 &  61 &  53 & 3\\\\\n\t 17090005 &  92763 & 256.8243 &  35.80407 & 903.9367 & 460.8644 & 2019.381 & 2022.000 & 2020.822 &  42 &  17 & 2\\\\\n\t 17090005 & 125030 & 226.3061 &  79.92001 & 853.0528 & 480.4581 & 2019.000 & 2022.000 & 2020.955 &  55 &  42 & 1\\\\\n\t 17090005 & 131324 & 189.7592 &  65.30703 & 827.9261 & 456.2809 & 2019.000 & 2021.500 & 2019.999 &  12 &  32 & 1\\\\\n\t 17090005 &  74716 & 358.3290 &  87.71063 & 887.5848 & 380.7063 & 2019.107 & 2022.000 & 2020.483 & 896 & 285 & 3\\\\\n\t 17090005 &  56541 & 182.1757 &  30.67464 & 880.0460 & 448.9129 & 2019.486 & 2022.000 & 2020.710 &  37 &  16 & 2\\\\\n\t 17090005 &  50712 & 249.9328 & 301.71057 & 867.4884 & 331.0445 & 2019.636 & 2022.000 & 2018.715 &  22 &  20 & 3\\\\\n\t 17090005 &  74368 & 485.5599 & 151.55714 & 872.4503 & 354.0471 & 2019.168 & 2022.000 & 2020.613 & 441 & 178 & 3\\\\\n\t 17090005 &  45052 & 350.5846 & 198.59688 & 855.0240 & 399.4191 & 2019.233 & 2022.000 & 2020.287 &  30 &  15 & 2\\\\\n\t 17090006 & 210154 & 560.2441 &  61.19983 & 865.7212 & 368.3551 & 2019.000 & 2021.000 & 2019.662 &  21 &  17 & 3\\\\\n\t 17090006 & 249910 & 215.8730 &  65.02984 & 885.1615 & 489.6118 & 2019.000 & 2021.357 & 2020.000 &  11 &  14 & 1\\\\\n\t 17090006 & 212512 & 396.3387 &  41.01556 & 876.9066 & 446.0927 & 2019.000 & 2021.150 & 2019.931 &  21 &  20 & 2\\\\\n\t 17090006 & 220260 & 231.8529 &  79.64833 & 892.6925 & 361.9972 & 2019.000 & 2021.000 & 2019.271 &  12 &  16 & 3\\\\\n\t 17090006 & 215988 & 314.7776 &  18.07582 & 885.0666 & 529.9295 & 2019.000 & 2022.000 & 2019.967 &  12 &  11 & 1\\\\\n\t 17090006 & 229890 & 364.4721 &  48.57841 & 861.2106 & 380.5905 & 2019.868 & 2022.000 & 2020.856 &  38 &  17 & 3\\\\\n\\end{tabular}\n",
            "text/plain": [
              "   HUC8     gedi_vec_id biomass_pre biomass_post mean_preval mean_mag\n",
              "1  17090005 150075      317.2409    140.22870    839.4253    506.0675\n",
              "2  17090005  82432      247.3816    132.19351    828.3922    409.7367\n",
              "3  17090005  62990      423.5232    329.87371    863.0504    400.0714\n",
              "4  17090006 293426      350.8394     94.52339    860.6260    412.9524\n",
              "5  17090006 274892      181.4478     45.97725    895.7503    469.9654\n",
              "6  17090006 296172      173.2347     74.59752    894.1319    375.4252\n",
              "7  17090006 184660      393.8597     47.85769    873.9696    460.6426\n",
              "8  17090006 167823      232.2902     34.14143    869.3548    429.0919\n",
              "9  17090006 166995      247.0439     43.03721    880.6728    453.6803\n",
              "10 17090006 134369      177.2602     32.81680    855.7375    394.3561\n",
              "11 17090004 419288      406.8808    156.67628    869.3033    477.4511\n",
              "12 17090004 348948      337.1791    263.10066    859.8688    452.6259\n",
              "13 17090004 354343      541.3746    461.81499    879.6764    390.2243\n",
              "14 17090004 350186      440.5770    339.87815    854.8342    401.4868\n",
              "15 17090004 338727      441.0024    305.07305    858.2466    381.1888\n",
              "16 17090004 344043      444.3918    325.18792    853.3996    417.1335\n",
              "17 17090004 342941      861.7133    224.62773    872.0178    419.0680\n",
              "18 17090004 347725      445.8593    233.70955    858.2608    355.1518\n",
              "19 17090004 332130      474.5648    118.63755    841.4719    578.9597\n",
              "20 17090004 337173      343.9223    309.14238    804.7299    391.3166\n",
              "21 17090005 125941      375.7514    153.71429    845.5401    384.8125\n",
              "22 17090005 128463      329.6291     80.97312    872.5313    559.2458\n",
              "23 17090005 118723      133.1146    101.31462    843.5905    360.1445\n",
              "24 17090005 149406      263.5323    102.55520    831.9580    517.3652\n",
              "25 17090004 414048      276.7421     77.77500    886.2024    478.2558\n",
              "26 17090004 371873      365.5452     92.03889    894.0791    452.4755\n",
              "27 17090004 366166      266.0178    139.33176    867.0703    523.3851\n",
              "28 17090004 375619      357.5143    125.68694    900.9772    391.6549\n",
              "29 17090004 368509      175.4431     22.20451    905.1343    509.5413\n",
              "30 17090004 393272      391.9594     27.36819    887.6202    382.2740\n",
              "⋮  ⋮        ⋮           ⋮           ⋮            ⋮           ⋮       \n",
              "40 17090003  77688      259.7212     92.03220    897.0456    455.0968\n",
              "41 17090003  68404      269.9088     86.99435    879.7893    410.4484\n",
              "42 17090003  95298      181.2696     98.15691    912.2033    451.2541\n",
              "43 17090003 302288      336.6934     38.02415    874.5237    421.2587\n",
              "44 17090003 319932      208.7907     28.06706    927.3298    508.8314\n",
              "45 17090003 317206      263.1405    130.10411    859.3578    486.2639\n",
              "46 17090003 311460      241.6216    100.62663    847.0023    460.1468\n",
              "47 17090003 309248      161.8641     83.92013    804.5650    342.0390\n",
              "48 17090003 328497      244.3999     86.27568    883.8402    517.0488\n",
              "49 17090003 293665      176.9126     54.57940    883.2039    399.8902\n",
              "50 17090003 316902      141.2554    137.19074    876.6256    544.7283\n",
              "51 17090005 138716      359.3032     88.74634    877.5808    418.9105\n",
              "52 17090005  97044      180.4966     28.99520    793.6540    348.4844\n",
              "53 17090005 114459      261.5536     48.28453    875.8282    366.1852\n",
              "54 17090005 140894      251.0487     51.79461    894.6502    438.3001\n",
              "55 17090005  87005      355.8010    127.61470    886.1123    353.3253\n",
              "56 17090005  92763      256.8243     35.80407    903.9367    460.8644\n",
              "57 17090005 125030      226.3061     79.92001    853.0528    480.4581\n",
              "58 17090005 131324      189.7592     65.30703    827.9261    456.2809\n",
              "59 17090005  74716      358.3290     87.71063    887.5848    380.7063\n",
              "60 17090005  56541      182.1757     30.67464    880.0460    448.9129\n",
              "61 17090005  50712      249.9328    301.71057    867.4884    331.0445\n",
              "62 17090005  74368      485.5599    151.55714    872.4503    354.0471\n",
              "63 17090005  45052      350.5846    198.59688    855.0240    399.4191\n",
              "64 17090006 210154      560.2441     61.19983    865.7212    368.3551\n",
              "65 17090006 249910      215.8730     65.02984    885.1615    489.6118\n",
              "66 17090006 212512      396.3387     41.01556    876.9066    446.0927\n",
              "67 17090006 220260      231.8529     79.64833    892.6925    361.9972\n",
              "68 17090006 215988      314.7776     18.07582    885.0666    529.9295\n",
              "69 17090006 229890      364.4721     48.57841    861.2106    380.5905\n",
              "   gedi_year_pre gedi_year_post mean_yod n_pre n_post group_quantile\n",
              "1  2019.506      2022.000       2020.822 23067 13607  1             \n",
              "2  2019.493      2022.000       2020.630    73    43  2             \n",
              "3  2019.427      2022.000       2020.028    96    35  3             \n",
              "4  2019.880      2022.000       2020.740    25    17  2             \n",
              "5  2019.857      2022.000       2021.000    28    11  1             \n",
              "6  2019.000      2021.583       2019.990    13    12  3             \n",
              "7  2019.000      2021.062       2019.974    15    16  1             \n",
              "8  2019.000      2021.364       2019.712    14    11  2             \n",
              "9  2019.000      2021.238       2020.000    17    21  2             \n",
              "10 2019.000      2021.370       2019.990    18    27  3             \n",
              "11 2019.772      2022.000       2020.617 31328  3347  1             \n",
              "12 2019.721      2022.000       2020.693   358   140  1             \n",
              "13 2019.825      2022.000       2021.000   211    15  3             \n",
              "14 2019.859      2022.000       2019.339   249    76  2             \n",
              "15 2019.800      2022.000       2020.997    20    26  3             \n",
              "16 2019.806      2022.000       2020.971   155    61  2             \n",
              "17 2019.667      2022.000       2019.745    27    11  2             \n",
              "18 2019.795      2022.000       2017.528    39    17  3             \n",
              "19 2019.524      2022.000       2021.000    21    17  1             \n",
              "20 2019.703      2022.000       2020.599    37    21  2             \n",
              "21 2020.000      2022.000       2021.000    28    25  3             \n",
              "22 2019.890      2022.000       2020.843   154    97  1             \n",
              "23 2019.442      2022.000       2020.124    43    15  3             \n",
              "24 2019.608      2022.000       2021.000   475    48  1             \n",
              "25 2019.692      2022.000       2018.984    52    17  1             \n",
              "26 2019.734      2022.000       2020.654  1400   391  2             \n",
              "27 2019.646      2022.000       2020.994   178    36  1             \n",
              "28 2019.620      2022.000       2019.766   158    29  3             \n",
              "29 2019.667      2022.000       2019.264    18    14  1             \n",
              "30 2019.000      2021.806       2019.655    20    36  3             \n",
              "⋮  ⋮             ⋮              ⋮        ⋮     ⋮      ⋮             \n",
              "40 2019.320      2022.000       2020.167  25    31    2             \n",
              "41 2019.000      2021.500       2019.881  12    12    3             \n",
              "42 2019.619      2022.000       2019.910  21    19    2             \n",
              "43 2019.000      2021.684       2019.107  11    38    2             \n",
              "44 2019.000      2021.800       2020.029  28    15    1             \n",
              "45 2019.611      2022.000       2020.281 157    66    1             \n",
              "46 2019.439      2022.000       2020.736  66    47    1             \n",
              "47 2019.231      2022.000       2020.829  13    22    3             \n",
              "48 2019.828      2022.000       2020.871  99    17    1             \n",
              "49 2019.000      2021.609       2020.000  12    23    3             \n",
              "50 2019.500      2022.000       2019.228  16    15    1             \n",
              "51 2019.000      2021.706       2020.000  20    17    2             \n",
              "52 2019.286      2022.000       2020.583  42    52    3             \n",
              "53 2019.690      2022.000       2020.847  29    16    3             \n",
              "54 2019.000      2021.692       2019.708  17    26    2             \n",
              "55 2019.328      2022.000       2020.101  61    53    3             \n",
              "56 2019.381      2022.000       2020.822  42    17    2             \n",
              "57 2019.000      2022.000       2020.955  55    42    1             \n",
              "58 2019.000      2021.500       2019.999  12    32    1             \n",
              "59 2019.107      2022.000       2020.483 896   285    3             \n",
              "60 2019.486      2022.000       2020.710  37    16    2             \n",
              "61 2019.636      2022.000       2018.715  22    20    3             \n",
              "62 2019.168      2022.000       2020.613 441   178    3             \n",
              "63 2019.233      2022.000       2020.287  30    15    2             \n",
              "64 2019.000      2021.000       2019.662  21    17    3             \n",
              "65 2019.000      2021.357       2020.000  11    14    1             \n",
              "66 2019.000      2021.150       2019.931  21    20    2             \n",
              "67 2019.000      2021.000       2019.271  12    16    3             \n",
              "68 2019.000      2022.000       2019.967  12    11    1             \n",
              "69 2019.868      2022.000       2020.856  38    17    3             "
            ]
          },
          "metadata": {}
        }
      ]
    },
    {
      "cell_type": "code",
      "source": [
        "pre_post_dt[n_pre > 4 & n_post> 4 &gedi_year_pre<mean_yod &gedi_year_post > mean_yod ] %>%\n",
        "  ggplot(aes(y=(biomass_pre),x=mean_preval))+\n",
        "  geom_point(aes(color = group_quantile))+\n",
        "  geom_point(aes(color = group_quantile))+\n",
        "  geom_smooth(method='lm')+\n",
        "  geom_smooth(aes(color = group_quantile),method='lm')\n",
        "\n"
      ],
      "metadata": {
        "id": "XFd5pRZCBK3g",
        "outputId": "b690ba32-259e-4549-a1f6-e05f291253ea",
        "colab": {
          "base_uri": "https://localhost:8080/",
          "height": 472
        }
      },
      "execution_count": 268,
      "outputs": [
        {
          "output_type": "stream",
          "name": "stderr",
          "text": [
            "\u001b[1m\u001b[22m`geom_smooth()` using formula = 'y ~ x'\n",
            "\u001b[1m\u001b[22m`geom_smooth()` using formula = 'y ~ x'\n"
          ]
        },
        {
          "output_type": "display_data",
          "data": {
            "text/plain": [
              "plot without title"
            ],
            "image/png": "[encoded data removed]"
          },
          "metadata": {
            "image/png": {
              "width": 420,
              "height": 420
            }
          }
        }
      ]
    },
    {
      "cell_type": "code",
      "source": [
        "gedi_int_dt"
      ],
      "metadata": {
        "id": "lkhD_n7dkRL9",
        "outputId": "62a78298-20dd-4bec-fbb1-281f26d537db",
        "colab": {
          "base_uri": "https://localhost:8080/",
          "height": 1000
        }
      },
      "execution_count": 299,
      "outputs": [
        {
          "output_type": "display_data",
          "data": {
            "text/html": [
              "<table class=\"dataframe\">\n",
              "<caption>A data.table: 5447648 × 67</caption>\n",
              "<thead>\n",
              "\t<tr><th scope=col>agbd</th><th scope=col>lat_lowestmode</th><th scope=col>lon_lowestmode</th><th scope=col>agbd_pi_lower</th><th scope=col>agbd_pi_upper</th><th scope=col>agbd_se</th><th scope=col>agbd_t</th><th scope=col>agbd_t_se</th><th scope=col>algorithm_run_flag</th><th scope=col>channel</th><th scope=col>⋯</th><th scope=col>FIRE_INC_ID</th><th scope=col>FIRE_NAME</th><th scope=col>FIRE_YEAR</th><th scope=col>geom</th><th scope=col>HUC8</th><th scope=col>HUC10</th><th scope=col>HUC12</th><th scope=col>shot_id</th><th scope=col>group_quantile</th><th scope=col>biomass_init</th></tr>\n",
              "\t<tr><th scope=col>&lt;dbl&gt;</th><th scope=col>&lt;dbl&gt;</th><th scope=col>&lt;dbl&gt;</th><th scope=col>&lt;dbl&gt;</th><th scope=col>&lt;dbl&gt;</th><th scope=col>&lt;dbl&gt;</th><th scope=col>&lt;dbl&gt;</th><th scope=col>&lt;dbl&gt;</th><th scope=col>&lt;dbl&gt;</th><th scope=col>&lt;dbl&gt;</th><th scope=col>⋯</th><th scope=col>&lt;chr&gt;</th><th scope=col>&lt;chr&gt;</th><th scope=col>&lt;chr&gt;</th><th scope=col>&lt;POINT [°]&gt;</th><th scope=col>&lt;chr&gt;</th><th scope=col>&lt;chr&gt;</th><th scope=col>&lt;chr&gt;</th><th scope=col>&lt;int&gt;</th><th scope=col>&lt;fct&gt;</th><th scope=col>&lt;dbl&gt;</th></tr>\n",
              "</thead>\n",
              "<tbody>\n",
              "\t<tr><td>NA</td><td>44.81151</td><td>-122.1321</td><td>-9999</td><td>-9999</td><td>-9999</td><td>-9999</td><td>-9999</td><td>0</td><td>1</td><td>⋯</td><td>NA</td><td>NA</td><td>NA</td><td>POINT (-122.1321 44.81151)</td><td>17090005</td><td>1709000501</td><td>170900050103</td><td> 1</td><td>2</td><td>22.11820</td></tr>\n",
              "\t<tr><td>NA</td><td>44.80826</td><td>-122.0978</td><td>-9999</td><td>-9999</td><td>-9999</td><td>-9999</td><td>-9999</td><td>0</td><td>0</td><td>⋯</td><td>NA</td><td>NA</td><td>NA</td><td>POINT (-122.0978 44.80826)</td><td>17090005</td><td>1709000501</td><td>170900050103</td><td> 2</td><td>1</td><td>17.29384</td></tr>\n",
              "\t<tr><td>NA</td><td>44.80799</td><td>-122.0972</td><td>-9999</td><td>-9999</td><td>-9999</td><td>-9999</td><td>-9999</td><td>0</td><td>0</td><td>⋯</td><td>NA</td><td>NA</td><td>NA</td><td>POINT (-122.0972 44.80799)</td><td>17090005</td><td>1709000501</td><td>170900050103</td><td> 3</td><td>1</td><td>17.29384</td></tr>\n",
              "\t<tr><td>NA</td><td>44.80773</td><td>-122.0966</td><td>-9999</td><td>-9999</td><td>-9999</td><td>-9999</td><td>-9999</td><td>0</td><td>0</td><td>⋯</td><td>NA</td><td>NA</td><td>NA</td><td>POINT (-122.0966 44.80773)</td><td>17090005</td><td>1709000501</td><td>170900050103</td><td> 4</td><td>1</td><td>17.29384</td></tr>\n",
              "\t<tr><td>NA</td><td>44.80747</td><td>-122.0960</td><td>-9999</td><td>-9999</td><td>-9999</td><td>-9999</td><td>-9999</td><td>0</td><td>0</td><td>⋯</td><td>NA</td><td>NA</td><td>NA</td><td>POINT (-122.096 44.80747)</td><td>17090005</td><td>1709000501</td><td>170900050103</td><td> 5</td><td>1</td><td>17.29384</td></tr>\n",
              "\t<tr><td>NA</td><td>44.80721</td><td>-122.0953</td><td>-9999</td><td>-9999</td><td>-9999</td><td>-9999</td><td>-9999</td><td>0</td><td>0</td><td>⋯</td><td>NA</td><td>NA</td><td>NA</td><td>POINT (-122.0953 44.80721)</td><td>17090005</td><td>1709000501</td><td>170900050103</td><td> 6</td><td>1</td><td>17.29384</td></tr>\n",
              "\t<tr><td>NA</td><td>44.80695</td><td>-122.0947</td><td>-9999</td><td>-9999</td><td>-9999</td><td>-9999</td><td>-9999</td><td>0</td><td>0</td><td>⋯</td><td>NA</td><td>NA</td><td>NA</td><td>POINT (-122.0947 44.80695)</td><td>17090005</td><td>1709000501</td><td>170900050103</td><td> 7</td><td>1</td><td>17.29384</td></tr>\n",
              "\t<tr><td>NA</td><td>44.80669</td><td>-122.0941</td><td>-9999</td><td>-9999</td><td>-9999</td><td>-9999</td><td>-9999</td><td>0</td><td>0</td><td>⋯</td><td>NA</td><td>NA</td><td>NA</td><td>POINT (-122.0941 44.80669)</td><td>17090005</td><td>1709000501</td><td>170900050103</td><td> 8</td><td>1</td><td>17.29384</td></tr>\n",
              "\t<tr><td>NA</td><td>44.80643</td><td>-122.0935</td><td>-9999</td><td>-9999</td><td>-9999</td><td>-9999</td><td>-9999</td><td>0</td><td>0</td><td>⋯</td><td>NA</td><td>NA</td><td>NA</td><td>POINT (-122.0935 44.80643)</td><td>17090005</td><td>1709000501</td><td>170900050103</td><td> 9</td><td>1</td><td>17.29384</td></tr>\n",
              "\t<tr><td>NA</td><td>44.80617</td><td>-122.0929</td><td>-9999</td><td>-9999</td><td>-9999</td><td>-9999</td><td>-9999</td><td>0</td><td>0</td><td>⋯</td><td>NA</td><td>NA</td><td>NA</td><td>POINT (-122.0929 44.80617)</td><td>17090005</td><td>1709000501</td><td>170900050103</td><td>10</td><td>1</td><td>17.29384</td></tr>\n",
              "\t<tr><td>NA</td><td>44.80590</td><td>-122.0923</td><td>-9999</td><td>-9999</td><td>-9999</td><td>-9999</td><td>-9999</td><td>0</td><td>0</td><td>⋯</td><td>NA</td><td>NA</td><td>NA</td><td>POINT (-122.0923 44.8059)</td><td>17090005</td><td>1709000501</td><td>170900050103</td><td>11</td><td>1</td><td>17.29384</td></tr>\n",
              "\t<tr><td>NA</td><td>44.80564</td><td>-122.0916</td><td>-9999</td><td>-9999</td><td>-9999</td><td>-9999</td><td>-9999</td><td>0</td><td>0</td><td>⋯</td><td>NA</td><td>NA</td><td>NA</td><td>POINT (-122.0916 44.80564)</td><td>17090005</td><td>1709000501</td><td>170900050103</td><td>12</td><td>1</td><td>17.29384</td></tr>\n",
              "\t<tr><td>NA</td><td>44.80538</td><td>-122.0910</td><td>-9999</td><td>-9999</td><td>-9999</td><td>-9999</td><td>-9999</td><td>0</td><td>0</td><td>⋯</td><td>NA</td><td>NA</td><td>NA</td><td>POINT (-122.091 44.80538)</td><td>17090005</td><td>1709000501</td><td>170900050103</td><td>13</td><td>1</td><td>17.29384</td></tr>\n",
              "\t<tr><td>NA</td><td>44.80512</td><td>-122.0904</td><td>-9999</td><td>-9999</td><td>-9999</td><td>-9999</td><td>-9999</td><td>0</td><td>0</td><td>⋯</td><td>NA</td><td>NA</td><td>NA</td><td>POINT (-122.0904 44.80512)</td><td>17090005</td><td>1709000501</td><td>170900050103</td><td>14</td><td>1</td><td>17.29384</td></tr>\n",
              "\t<tr><td>NA</td><td>44.80486</td><td>-122.0898</td><td>-9999</td><td>-9999</td><td>-9999</td><td>-9999</td><td>-9999</td><td>0</td><td>0</td><td>⋯</td><td>NA</td><td>NA</td><td>NA</td><td>POINT (-122.0898 44.80486)</td><td>17090005</td><td>1709000501</td><td>170900050103</td><td>15</td><td>1</td><td>17.29384</td></tr>\n",
              "\t<tr><td>NA</td><td>44.80460</td><td>-122.0892</td><td>-9999</td><td>-9999</td><td>-9999</td><td>-9999</td><td>-9999</td><td>0</td><td>0</td><td>⋯</td><td>NA</td><td>NA</td><td>NA</td><td>POINT (-122.0892 44.8046)</td><td>17090005</td><td>1709000501</td><td>170900050103</td><td>16</td><td>1</td><td>17.29384</td></tr>\n",
              "\t<tr><td>NA</td><td>44.80434</td><td>-122.0885</td><td>-9999</td><td>-9999</td><td>-9999</td><td>-9999</td><td>-9999</td><td>0</td><td>0</td><td>⋯</td><td>NA</td><td>NA</td><td>NA</td><td>POINT (-122.0885 44.80434)</td><td>17090005</td><td>1709000501</td><td>170900050103</td><td>17</td><td>1</td><td>17.29384</td></tr>\n",
              "\t<tr><td>NA</td><td>44.80407</td><td>-122.0879</td><td>-9999</td><td>-9999</td><td>-9999</td><td>-9999</td><td>-9999</td><td>0</td><td>0</td><td>⋯</td><td>NA</td><td>NA</td><td>NA</td><td>POINT (-122.0879 44.80407)</td><td>17090005</td><td>1709000501</td><td>170900050103</td><td>18</td><td>1</td><td>17.29384</td></tr>\n",
              "\t<tr><td>NA</td><td>44.80381</td><td>-122.0873</td><td>-9999</td><td>-9999</td><td>-9999</td><td>-9999</td><td>-9999</td><td>0</td><td>0</td><td>⋯</td><td>NA</td><td>NA</td><td>NA</td><td>POINT (-122.0873 44.80381)</td><td>17090005</td><td>1709000501</td><td>170900050103</td><td>19</td><td>1</td><td>17.29384</td></tr>\n",
              "\t<tr><td>NA</td><td>44.80355</td><td>-122.0867</td><td>-9999</td><td>-9999</td><td>-9999</td><td>-9999</td><td>-9999</td><td>0</td><td>0</td><td>⋯</td><td>NA</td><td>NA</td><td>NA</td><td>POINT (-122.0867 44.80355)</td><td>17090005</td><td>1709000501</td><td>170900050103</td><td>20</td><td>1</td><td>17.29384</td></tr>\n",
              "\t<tr><td>NA</td><td>44.80329</td><td>-122.0861</td><td>-9999</td><td>-9999</td><td>-9999</td><td>-9999</td><td>-9999</td><td>0</td><td>0</td><td>⋯</td><td>NA</td><td>NA</td><td>NA</td><td>POINT (-122.0861 44.80329)</td><td>17090005</td><td>1709000501</td><td>170900050103</td><td>21</td><td>1</td><td>17.29384</td></tr>\n",
              "\t<tr><td>NA</td><td>44.80303</td><td>-122.0854</td><td>-9999</td><td>-9999</td><td>-9999</td><td>-9999</td><td>-9999</td><td>0</td><td>0</td><td>⋯</td><td>NA</td><td>NA</td><td>NA</td><td>POINT (-122.0854 44.80303)</td><td>17090005</td><td>1709000501</td><td>170900050103</td><td>22</td><td>1</td><td>17.29384</td></tr>\n",
              "\t<tr><td>NA</td><td>44.80277</td><td>-122.0848</td><td>-9999</td><td>-9999</td><td>-9999</td><td>-9999</td><td>-9999</td><td>0</td><td>0</td><td>⋯</td><td>NA</td><td>NA</td><td>NA</td><td>POINT (-122.0848 44.80277)</td><td>17090005</td><td>1709000501</td><td>170900050103</td><td>23</td><td>1</td><td>17.29384</td></tr>\n",
              "\t<tr><td>NA</td><td>44.80251</td><td>-122.0842</td><td>-9999</td><td>-9999</td><td>-9999</td><td>-9999</td><td>-9999</td><td>0</td><td>0</td><td>⋯</td><td>NA</td><td>NA</td><td>NA</td><td>POINT (-122.0842 44.80251)</td><td>17090005</td><td>1709000501</td><td>170900050103</td><td>24</td><td>1</td><td>17.29384</td></tr>\n",
              "\t<tr><td>NA</td><td>44.80225</td><td>-122.0836</td><td>-9999</td><td>-9999</td><td>-9999</td><td>-9999</td><td>-9999</td><td>0</td><td>0</td><td>⋯</td><td>NA</td><td>NA</td><td>NA</td><td>POINT (-122.0836 44.80225)</td><td>17090005</td><td>1709000501</td><td>170900050103</td><td>25</td><td>1</td><td>17.29384</td></tr>\n",
              "\t<tr><td>NA</td><td>44.80198</td><td>-122.0830</td><td>-9999</td><td>-9999</td><td>-9999</td><td>-9999</td><td>-9999</td><td>0</td><td>0</td><td>⋯</td><td>NA</td><td>NA</td><td>NA</td><td>POINT (-122.083 44.80198)</td><td>17090005</td><td>1709000501</td><td>170900050103</td><td>26</td><td>1</td><td>17.29384</td></tr>\n",
              "\t<tr><td>NA</td><td>44.80172</td><td>-122.0824</td><td>-9999</td><td>-9999</td><td>-9999</td><td>-9999</td><td>-9999</td><td>0</td><td>0</td><td>⋯</td><td>NA</td><td>NA</td><td>NA</td><td>POINT (-122.0824 44.80172)</td><td>17090005</td><td>1709000501</td><td>170900050103</td><td>27</td><td>1</td><td>17.29384</td></tr>\n",
              "\t<tr><td>NA</td><td>44.80146</td><td>-122.0817</td><td>-9999</td><td>-9999</td><td>-9999</td><td>-9999</td><td>-9999</td><td>0</td><td>0</td><td>⋯</td><td>NA</td><td>NA</td><td>NA</td><td>POINT (-122.0817 44.80146)</td><td>17090005</td><td>1709000501</td><td>170900050103</td><td>28</td><td>1</td><td>17.29384</td></tr>\n",
              "\t<tr><td>NA</td><td>44.80120</td><td>-122.0811</td><td>-9999</td><td>-9999</td><td>-9999</td><td>-9999</td><td>-9999</td><td>0</td><td>0</td><td>⋯</td><td>NA</td><td>NA</td><td>NA</td><td>POINT (-122.0811 44.8012)</td><td>17090005</td><td>1709000501</td><td>170900050103</td><td>29</td><td>1</td><td>17.29384</td></tr>\n",
              "\t<tr><td>NA</td><td>44.80094</td><td>-122.0805</td><td>-9999</td><td>-9999</td><td>-9999</td><td>-9999</td><td>-9999</td><td>0</td><td>0</td><td>⋯</td><td>NA</td><td>NA</td><td>NA</td><td>POINT (-122.0805 44.80094)</td><td>17090005</td><td>1709000501</td><td>170900050103</td><td>30</td><td>1</td><td>17.29384</td></tr>\n",
              "\t<tr><td>⋮</td><td>⋮</td><td>⋮</td><td>⋮</td><td>⋮</td><td>⋮</td><td>⋮</td><td>⋮</td><td>⋮</td><td>⋮</td><td>⋱</td><td>⋮</td><td>⋮</td><td>⋮</td><td>⋮</td><td>⋮</td><td>⋮</td><td>⋮</td><td>⋮</td><td>⋮</td><td>⋮</td></tr>\n",
              "\t<tr><td>      NA</td><td>44.55016</td><td>-122.1495</td><td>-9.999000e+03</td><td>-9999.00000</td><td>-9999.00000</td><td>-9999.000000</td><td>-9999.000000</td><td>0</td><td>0</td><td>⋯</td><td>NA</td><td>NA</td><td>NA</td><td>POINT (-122.1495 44.55016)</td><td>17090006</td><td>1709000603</td><td>170900060301</td><td>5447619</td><td>1</td><td>22.04578</td></tr>\n",
              "\t<tr><td>      NA</td><td>44.55043</td><td>-122.1488</td><td>-9.999000e+03</td><td>-9999.00000</td><td>-9999.00000</td><td>-9999.000000</td><td>-9999.000000</td><td>0</td><td>0</td><td>⋯</td><td>NA</td><td>NA</td><td>NA</td><td>POINT (-122.1488 44.55043)</td><td>17090006</td><td>1709000603</td><td>170900060301</td><td>5447620</td><td>1</td><td>22.04578</td></tr>\n",
              "\t<tr><td>      NA</td><td>44.55069</td><td>-122.1482</td><td>-9.999000e+03</td><td>-9999.00000</td><td>-9999.00000</td><td>-9999.000000</td><td>-9999.000000</td><td>0</td><td>0</td><td>⋯</td><td>NA</td><td>NA</td><td>NA</td><td>POINT (-122.1482 44.55069)</td><td>17090006</td><td>1709000603</td><td>170900060301</td><td>5447621</td><td>1</td><td>22.04578</td></tr>\n",
              "\t<tr><td>      NA</td><td>44.55096</td><td>-122.1476</td><td>-9.999000e+03</td><td>-9999.00000</td><td>-9999.00000</td><td>-9999.000000</td><td>-9999.000000</td><td>0</td><td>0</td><td>⋯</td><td>NA</td><td>NA</td><td>NA</td><td>POINT (-122.1476 44.55096)</td><td>17090006</td><td>1709000603</td><td>170900060301</td><td>5447622</td><td>1</td><td>22.04578</td></tr>\n",
              "\t<tr><td>      NA</td><td>44.55123</td><td>-122.1470</td><td>-9.999000e+03</td><td>-9999.00000</td><td>-9999.00000</td><td>-9999.000000</td><td>-9999.000000</td><td>0</td><td>0</td><td>⋯</td><td>NA</td><td>NA</td><td>NA</td><td>POINT (-122.147 44.55123)</td><td>17090006</td><td>1709000603</td><td>170900060301</td><td>5447623</td><td>1</td><td>22.04578</td></tr>\n",
              "\t<tr><td>      NA</td><td>44.55149</td><td>-122.1464</td><td>-9.999000e+03</td><td>-9999.00000</td><td>-9999.00000</td><td>-9999.000000</td><td>-9999.000000</td><td>0</td><td>0</td><td>⋯</td><td>NA</td><td>NA</td><td>NA</td><td>POINT (-122.1464 44.55149)</td><td>17090006</td><td>1709000603</td><td>170900060301</td><td>5447624</td><td>1</td><td>22.04578</td></tr>\n",
              "\t<tr><td>      NA</td><td>44.55176</td><td>-122.1458</td><td>-9.999000e+03</td><td>-9999.00000</td><td>-9999.00000</td><td>-9999.000000</td><td>-9999.000000</td><td>0</td><td>0</td><td>⋯</td><td>NA</td><td>NA</td><td>NA</td><td>POINT (-122.1458 44.55176)</td><td>17090006</td><td>1709000603</td><td>170900060301</td><td>5447625</td><td>1</td><td>22.04578</td></tr>\n",
              "\t<tr><td>      NA</td><td>44.55202</td><td>-122.1451</td><td>-9.999000e+03</td><td>-9999.00000</td><td>-9999.00000</td><td>-9999.000000</td><td>-9999.000000</td><td>0</td><td>0</td><td>⋯</td><td>NA</td><td>NA</td><td>NA</td><td>POINT (-122.1451 44.55202)</td><td>17090006</td><td>1709000603</td><td>170900060301</td><td>5447626</td><td>1</td><td>22.04578</td></tr>\n",
              "\t<tr><td>      NA</td><td>44.55229</td><td>-122.1445</td><td>-9.999000e+03</td><td>-9999.00000</td><td>-9999.00000</td><td>-9999.000000</td><td>-9999.000000</td><td>0</td><td>0</td><td>⋯</td><td>NA</td><td>NA</td><td>NA</td><td>POINT (-122.1445 44.55229)</td><td>17090006</td><td>1709000603</td><td>170900060301</td><td>5447627</td><td>1</td><td>22.04578</td></tr>\n",
              "\t<tr><td>      NA</td><td>44.55256</td><td>-122.1439</td><td>-9.999000e+03</td><td>-9999.00000</td><td>-9999.00000</td><td>-9999.000000</td><td>-9999.000000</td><td>0</td><td>0</td><td>⋯</td><td>NA</td><td>NA</td><td>NA</td><td>POINT (-122.1439 44.55256)</td><td>17090006</td><td>1709000603</td><td>170900060301</td><td>5447628</td><td>1</td><td>22.04578</td></tr>\n",
              "\t<tr><td>      NA</td><td>44.55282</td><td>-122.1433</td><td>-9.999000e+03</td><td>-9999.00000</td><td>-9999.00000</td><td>-9999.000000</td><td>-9999.000000</td><td>0</td><td>0</td><td>⋯</td><td>NA</td><td>NA</td><td>NA</td><td>POINT (-122.1433 44.55282)</td><td>17090006</td><td>1709000603</td><td>170900060301</td><td>5447629</td><td>1</td><td>22.04578</td></tr>\n",
              "\t<tr><td>      NA</td><td>44.55309</td><td>-122.1427</td><td>-9.999000e+03</td><td>-9999.00000</td><td>-9999.00000</td><td>-9999.000000</td><td>-9999.000000</td><td>0</td><td>0</td><td>⋯</td><td>NA</td><td>NA</td><td>NA</td><td>POINT (-122.1427 44.55309)</td><td>17090006</td><td>1709000603</td><td>170900060301</td><td>5447630</td><td>1</td><td>22.04578</td></tr>\n",
              "\t<tr><td>      NA</td><td>44.55336</td><td>-122.1421</td><td>-9.999000e+03</td><td>-9999.00000</td><td>-9999.00000</td><td>-9999.000000</td><td>-9999.000000</td><td>0</td><td>0</td><td>⋯</td><td>NA</td><td>NA</td><td>NA</td><td>POINT (-122.1421 44.55336)</td><td>17090006</td><td>1709000603</td><td>170900060301</td><td>5447631</td><td>1</td><td>22.04578</td></tr>\n",
              "\t<tr><td>      NA</td><td>44.55362</td><td>-122.1414</td><td>-9.999000e+03</td><td>-9999.00000</td><td>-9999.00000</td><td>-9999.000000</td><td>-9999.000000</td><td>0</td><td>0</td><td>⋯</td><td>NA</td><td>NA</td><td>NA</td><td>POINT (-122.1414 44.55362)</td><td>17090006</td><td>1709000603</td><td>170900060301</td><td>5447632</td><td>1</td><td>22.04578</td></tr>\n",
              "\t<tr><td>      NA</td><td>44.55389</td><td>-122.1408</td><td>-9.999000e+03</td><td>-9999.00000</td><td>-9999.00000</td><td>-9999.000000</td><td>-9999.000000</td><td>0</td><td>0</td><td>⋯</td><td>NA</td><td>NA</td><td>NA</td><td>POINT (-122.1408 44.55389)</td><td>17090006</td><td>1709000603</td><td>170900060301</td><td>5447633</td><td>1</td><td>22.04578</td></tr>\n",
              "\t<tr><td>      NA</td><td>44.55417</td><td>-122.1402</td><td>-9.999000e+03</td><td>-9999.00000</td><td>-9999.00000</td><td>-9999.000000</td><td>-9999.000000</td><td>0</td><td>0</td><td>⋯</td><td>NA</td><td>NA</td><td>NA</td><td>POINT (-122.1402 44.55417)</td><td>17090006</td><td>1709000603</td><td>170900060301</td><td>5447634</td><td>1</td><td>22.04578</td></tr>\n",
              "\t<tr><td>      NA</td><td>44.55442</td><td>-122.1396</td><td>-9.999000e+03</td><td>-9999.00000</td><td>-9999.00000</td><td>-9999.000000</td><td>-9999.000000</td><td>0</td><td>0</td><td>⋯</td><td>NA</td><td>NA</td><td>NA</td><td>POINT (-122.1396 44.55442)</td><td>17090006</td><td>1709000603</td><td>170900060301</td><td>5447635</td><td>1</td><td>22.04578</td></tr>\n",
              "\t<tr><td>      NA</td><td>44.55469</td><td>-122.1390</td><td>-9.999000e+03</td><td>-9999.00000</td><td>-9999.00000</td><td>-9999.000000</td><td>-9999.000000</td><td>0</td><td>0</td><td>⋯</td><td>NA</td><td>NA</td><td>NA</td><td>POINT (-122.139 44.55469)</td><td>17090006</td><td>1709000603</td><td>170900060301</td><td>5447636</td><td>1</td><td>22.04578</td></tr>\n",
              "\t<tr><td>      NA</td><td>44.55495</td><td>-122.1384</td><td>-9.999000e+03</td><td>-9999.00000</td><td>-9999.00000</td><td>-9999.000000</td><td>-9999.000000</td><td>0</td><td>0</td><td>⋯</td><td>NA</td><td>NA</td><td>NA</td><td>POINT (-122.1384 44.55495)</td><td>17090006</td><td>1709000603</td><td>170900060301</td><td>5447637</td><td>1</td><td>22.04578</td></tr>\n",
              "\t<tr><td>      NA</td><td>44.55522</td><td>-122.1378</td><td>-9.999000e+03</td><td>-9999.00000</td><td>-9999.00000</td><td>-9999.000000</td><td>-9999.000000</td><td>0</td><td>0</td><td>⋯</td><td>NA</td><td>NA</td><td>NA</td><td>POINT (-122.1378 44.55522)</td><td>17090006</td><td>1709000603</td><td>170900060301</td><td>5447638</td><td>1</td><td>22.04578</td></tr>\n",
              "\t<tr><td>      NA</td><td>44.55549</td><td>-122.1371</td><td>-9.999000e+03</td><td>-9999.00000</td><td>-9999.00000</td><td>-9999.000000</td><td>-9999.000000</td><td>0</td><td>0</td><td>⋯</td><td>NA</td><td>NA</td><td>NA</td><td>POINT (-122.1371 44.55549)</td><td>17090006</td><td>1709000603</td><td>170900060301</td><td>5447639</td><td>1</td><td>22.04578</td></tr>\n",
              "\t<tr><td>      NA</td><td>44.55575</td><td>-122.1365</td><td>-9.999000e+03</td><td>-9999.00000</td><td>-9999.00000</td><td>-9999.000000</td><td>-9999.000000</td><td>0</td><td>0</td><td>⋯</td><td>NA</td><td>NA</td><td>NA</td><td>POINT (-122.1365 44.55575)</td><td>17090006</td><td>1709000603</td><td>170900060301</td><td>5447640</td><td>1</td><td>22.04578</td></tr>\n",
              "\t<tr><td>      NA</td><td>44.55602</td><td>-122.1359</td><td>-9.999000e+03</td><td>-9999.00000</td><td>-9999.00000</td><td>-9999.000000</td><td>-9999.000000</td><td>0</td><td>0</td><td>⋯</td><td>NA</td><td>NA</td><td>NA</td><td>POINT (-122.1359 44.55602)</td><td>17090006</td><td>1709000603</td><td>170900060301</td><td>5447641</td><td>1</td><td>22.04578</td></tr>\n",
              "\t<tr><td>      NA</td><td>44.55629</td><td>-122.1353</td><td>-9.999000e+03</td><td>-9999.00000</td><td>-9999.00000</td><td>-9999.000000</td><td>-9999.000000</td><td>0</td><td>0</td><td>⋯</td><td>NA</td><td>NA</td><td>NA</td><td>POINT (-122.1353 44.55629)</td><td>17090006</td><td>1709000603</td><td>170900060301</td><td>5447642</td><td>1</td><td>22.04578</td></tr>\n",
              "\t<tr><td>      NA</td><td>44.55655</td><td>-122.1347</td><td>-9.999000e+03</td><td>-9999.00000</td><td>-9999.00000</td><td>-9999.000000</td><td>-9999.000000</td><td>0</td><td>0</td><td>⋯</td><td>NA</td><td>NA</td><td>NA</td><td>POINT (-122.1347 44.55655)</td><td>17090006</td><td>1709000603</td><td>170900060301</td><td>5447643</td><td>1</td><td>22.04578</td></tr>\n",
              "\t<tr><td>      NA</td><td>44.55682</td><td>-122.1341</td><td>-9.999000e+03</td><td>-9999.00000</td><td>-9999.00000</td><td>-9999.000000</td><td>-9999.000000</td><td>0</td><td>0</td><td>⋯</td><td>NA</td><td>NA</td><td>NA</td><td>POINT (-122.1341 44.55682)</td><td>17090006</td><td>1709000603</td><td>170900060301</td><td>5447644</td><td>1</td><td>22.04578</td></tr>\n",
              "\t<tr><td>17.81096</td><td>44.55719</td><td>-122.1333</td><td>-9.999000e+03</td><td>   94.20887</td><td>   11.11279</td><td>    4.194101</td><td>    3.312888</td><td>1</td><td>0</td><td>⋯</td><td>NA</td><td>NA</td><td>NA</td><td>POINT (-122.1333 44.55719)</td><td>17090006</td><td>1709000603</td><td>170900060301</td><td>5447645</td><td>1</td><td>22.04578</td></tr>\n",
              "\t<tr><td>20.69173</td><td>44.55746</td><td>-122.1327</td><td>-9.999000e+03</td><td>  100.68329</td><td>   11.11063</td><td>    4.520576</td><td>    3.312567</td><td>1</td><td>0</td><td>⋯</td><td>NA</td><td>NA</td><td>NA</td><td>POINT (-122.1327 44.55746)</td><td>17090006</td><td>1709000603</td><td>170900060301</td><td>5447646</td><td>1</td><td>22.04578</td></tr>\n",
              "\t<tr><td>30.25932</td><td>44.55772</td><td>-122.1321</td><td> 2.818949e-04</td><td>  120.66814</td><td>   11.10564</td><td>    5.466695</td><td>    3.311823</td><td>1</td><td>0</td><td>⋯</td><td>NA</td><td>NA</td><td>NA</td><td>POINT (-122.1321 44.55772)</td><td>17090006</td><td>1709000603</td><td>170900060301</td><td>5447647</td><td>1</td><td>22.04578</td></tr>\n",
              "\t<tr><td>53.64056</td><td>44.55799</td><td>-122.1315</td><td> 3.387600e+00</td><td>  164.02948</td><td>   11.10309</td><td>    7.278501</td><td>    3.311443</td><td>1</td><td>0</td><td>⋯</td><td>NA</td><td>NA</td><td>NA</td><td>POINT (-122.1315 44.55799)</td><td>17090006</td><td>1709000603</td><td>170900060301</td><td>5447648</td><td>1</td><td>22.04578</td></tr>\n",
              "</tbody>\n",
              "</table>\n"
            ],
            "text/markdown": "\nA data.table: 5447648 × 67\n\n| agbd &lt;dbl&gt; | lat_lowestmode &lt;dbl&gt; | lon_lowestmode &lt;dbl&gt; | agbd_pi_lower &lt;dbl&gt; | agbd_pi_upper &lt;dbl&gt; | agbd_se &lt;dbl&gt; | agbd_t &lt;dbl&gt; | agbd_t_se &lt;dbl&gt; | algorithm_run_flag &lt;dbl&gt; | channel &lt;dbl&gt; | ⋯ ⋯ | FIRE_INC_ID &lt;chr&gt; | FIRE_NAME &lt;chr&gt; | FIRE_YEAR &lt;chr&gt; | geom &lt;POINT [°]&gt; | HUC8 &lt;chr&gt; | HUC10 &lt;chr&gt; | HUC12 &lt;chr&gt; | shot_id &lt;int&gt; | group_quantile &lt;fct&gt; | biomass_init &lt;dbl&gt; |\n|---|---|---|---|---|---|---|---|---|---|---|---|---|---|---|---|---|---|---|---|---|\n| NA | 44.81151 | -122.1321 | -9999 | -9999 | -9999 | -9999 | -9999 | 0 | 1 | ⋯ | NA | NA | NA | POINT (-122.1321 44.81151) | 17090005 | 1709000501 | 170900050103 |  1 | 2 | 22.11820 |\n| NA | 44.80826 | -122.0978 | -9999 | -9999 | -9999 | -9999 | -9999 | 0 | 0 | ⋯ | NA | NA | NA | POINT (-122.0978 44.80826) | 17090005 | 1709000501 | 170900050103 |  2 | 1 | 17.29384 |\n| NA | 44.80799 | -122.0972 | -9999 | -9999 | -9999 | -9999 | -9999 | 0 | 0 | ⋯ | NA | NA | NA | POINT (-122.0972 44.80799) | 17090005 | 1709000501 | 170900050103 |  3 | 1 | 17.29384 |\n| NA | 44.80773 | -122.0966 | -9999 | -9999 | -9999 | -9999 | -9999 | 0 | 0 | ⋯ | NA | NA | NA | POINT (-122.0966 44.80773) | 17090005 | 1709000501 | 170900050103 |  4 | 1 | 17.29384 |\n| NA | 44.80747 | -122.0960 | -9999 | -9999 | -9999 | -9999 | -9999 | 0 | 0 | ⋯ | NA | NA | NA | POINT (-122.096 44.80747) | 17090005 | 1709000501 | 170900050103 |  5 | 1 | 17.29384 |\n| NA | 44.80721 | -122.0953 | -9999 | -9999 | -9999 | -9999 | -9999 | 0 | 0 | ⋯ | NA | NA | NA | POINT (-122.0953 44.80721) | 17090005 | 1709000501 | 170900050103 |  6 | 1 | 17.29384 |\n| NA | 44.80695 | -122.0947 | -9999 | -9999 | -9999 | -9999 | -9999 | 0 | 0 | ⋯ | NA | NA | NA | POINT (-122.0947 44.80695) | 17090005 | 1709000501 | 170900050103 |  7 | 1 | 17.29384 |\n| NA | 44.80669 | -122.0941 | -9999 | -9999 | -9999 | -9999 | -9999 | 0 | 0 | ⋯ | NA | NA | NA | POINT (-122.0941 44.80669) | 17090005 | 1709000501 | 170900050103 |  8 | 1 | 17.29384 |\n| NA | 44.80643 | -122.0935 | -9999 | -9999 | -9999 | -9999 | -9999 | 0 | 0 | ⋯ | NA | NA | NA | POINT (-122.0935 44.80643) | 17090005 | 1709000501 | 170900050103 |  9 | 1 | 17.29384 |\n| NA | 44.80617 | -122.0929 | -9999 | -9999 | -9999 | -9999 | -9999 | 0 | 0 | ⋯ | NA | NA | NA | POINT (-122.0929 44.80617) | 17090005 | 1709000501 | 170900050103 | 10 | 1 | 17.29384 |\n| NA | 44.80590 | -122.0923 | -9999 | -9999 | -9999 | -9999 | -9999 | 0 | 0 | ⋯ | NA | NA | NA | POINT (-122.0923 44.8059) | 17090005 | 1709000501 | 170900050103 | 11 | 1 | 17.29384 |\n| NA | 44.80564 | -122.0916 | -9999 | -9999 | -9999 | -9999 | -9999 | 0 | 0 | ⋯ | NA | NA | NA | POINT (-122.0916 44.80564) | 17090005 | 1709000501 | 170900050103 | 12 | 1 | 17.29384 |\n| NA | 44.80538 | -122.0910 | -9999 | -9999 | -9999 | -9999 | -9999 | 0 | 0 | ⋯ | NA | NA | NA | POINT (-122.091 44.80538) | 17090005 | 1709000501 | 170900050103 | 13 | 1 | 17.29384 |\n| NA | 44.80512 | -122.0904 | -9999 | -9999 | -9999 | -9999 | -9999 | 0 | 0 | ⋯ | NA | NA | NA | POINT (-122.0904 44.80512) | 17090005 | 1709000501 | 170900050103 | 14 | 1 | 17.29384 |\n| NA | 44.80486 | -122.0898 | -9999 | -9999 | -9999 | -9999 | -9999 | 0 | 0 | ⋯ | NA | NA | NA | POINT (-122.0898 44.80486) | 17090005 | 1709000501 | 170900050103 | 15 | 1 | 17.29384 |\n| NA | 44.80460 | -122.0892 | -9999 | -9999 | -9999 | -9999 | -9999 | 0 | 0 | ⋯ | NA | NA | NA | POINT (-122.0892 44.8046) | 17090005 | 1709000501 | 170900050103 | 16 | 1 | 17.29384 |\n| NA | 44.80434 | -122.0885 | -9999 | -9999 | -9999 | -9999 | -9999 | 0 | 0 | ⋯ | NA | NA | NA | POINT (-122.0885 44.80434) | 17090005 | 1709000501 | 170900050103 | 17 | 1 | 17.29384 |\n| NA | 44.80407 | -122.0879 | -9999 | -9999 | -9999 | -9999 | -9999 | 0 | 0 | ⋯ | NA | NA | NA | POINT (-122.0879 44.80407) | 17090005 | 1709000501 | 170900050103 | 18 | 1 | 17.29384 |\n| NA | 44.80381 | -122.0873 | -9999 | -9999 | -9999 | -9999 | -9999 | 0 | 0 | ⋯ | NA | NA | NA | POINT (-122.0873 44.80381) | 17090005 | 1709000501 | 170900050103 | 19 | 1 | 17.29384 |\n| NA | 44.80355 | -122.0867 | -9999 | -9999 | -9999 | -9999 | -9999 | 0 | 0 | ⋯ | NA | NA | NA | POINT (-122.0867 44.80355) | 17090005 | 1709000501 | 170900050103 | 20 | 1 | 17.29384 |\n| NA | 44.80329 | -122.0861 | -9999 | -9999 | -9999 | -9999 | -9999 | 0 | 0 | ⋯ | NA | NA | NA | POINT (-122.0861 44.80329) | 17090005 | 1709000501 | 170900050103 | 21 | 1 | 17.29384 |\n| NA | 44.80303 | -122.0854 | -9999 | -9999 | -9999 | -9999 | -9999 | 0 | 0 | ⋯ | NA | NA | NA | POINT (-122.0854 44.80303) | 17090005 | 1709000501 | 170900050103 | 22 | 1 | 17.29384 |\n| NA | 44.80277 | -122.0848 | -9999 | -9999 | -9999 | -9999 | -9999 | 0 | 0 | ⋯ | NA | NA | NA | POINT (-122.0848 44.80277) | 17090005 | 1709000501 | 170900050103 | 23 | 1 | 17.29384 |\n| NA | 44.80251 | -122.0842 | -9999 | -9999 | -9999 | -9999 | -9999 | 0 | 0 | ⋯ | NA | NA | NA | POINT (-122.0842 44.80251) | 17090005 | 1709000501 | 170900050103 | 24 | 1 | 17.29384 |\n| NA | 44.80225 | -122.0836 | -9999 | -9999 | -9999 | -9999 | -9999 | 0 | 0 | ⋯ | NA | NA | NA | POINT (-122.0836 44.80225) | 17090005 | 1709000501 | 170900050103 | 25 | 1 | 17.29384 |\n| NA | 44.80198 | -122.0830 | -9999 | -9999 | -9999 | -9999 | -9999 | 0 | 0 | ⋯ | NA | NA | NA | POINT (-122.083 44.80198) | 17090005 | 1709000501 | 170900050103 | 26 | 1 | 17.29384 |\n| NA | 44.80172 | -122.0824 | -9999 | -9999 | -9999 | -9999 | -9999 | 0 | 0 | ⋯ | NA | NA | NA | POINT (-122.0824 44.80172) | 17090005 | 1709000501 | 170900050103 | 27 | 1 | 17.29384 |\n| NA | 44.80146 | -122.0817 | -9999 | -9999 | -9999 | -9999 | -9999 | 0 | 0 | ⋯ | NA | NA | NA | POINT (-122.0817 44.80146) | 17090005 | 1709000501 | 170900050103 | 28 | 1 | 17.29384 |\n| NA | 44.80120 | -122.0811 | -9999 | -9999 | -9999 | -9999 | -9999 | 0 | 0 | ⋯ | NA | NA | NA | POINT (-122.0811 44.8012) | 17090005 | 1709000501 | 170900050103 | 29 | 1 | 17.29384 |\n| NA | 44.80094 | -122.0805 | -9999 | -9999 | -9999 | -9999 | -9999 | 0 | 0 | ⋯ | NA | NA | NA | POINT (-122.0805 44.80094) | 17090005 | 1709000501 | 170900050103 | 30 | 1 | 17.29384 |\n| ⋮ | ⋮ | ⋮ | ⋮ | ⋮ | ⋮ | ⋮ | ⋮ | ⋮ | ⋮ | ⋱ | ⋮ | ⋮ | ⋮ | ⋮ | ⋮ | ⋮ | ⋮ | ⋮ | ⋮ | ⋮ |\n|       NA | 44.55016 | -122.1495 | -9.999000e+03 | -9999.00000 | -9999.00000 | -9999.000000 | -9999.000000 | 0 | 0 | ⋯ | NA | NA | NA | POINT (-122.1495 44.55016) | 17090006 | 1709000603 | 170900060301 | 5447619 | 1 | 22.04578 |\n|       NA | 44.55043 | -122.1488 | -9.999000e+03 | -9999.00000 | -9999.00000 | -9999.000000 | -9999.000000 | 0 | 0 | ⋯ | NA | NA | NA | POINT (-122.1488 44.55043) | 17090006 | 1709000603 | 170900060301 | 5447620 | 1 | 22.04578 |\n|       NA | 44.55069 | -122.1482 | -9.999000e+03 | -9999.00000 | -9999.00000 | -9999.000000 | -9999.000000 | 0 | 0 | ⋯ | NA | NA | NA | POINT (-122.1482 44.55069) | 17090006 | 1709000603 | 170900060301 | 5447621 | 1 | 22.04578 |\n|       NA | 44.55096 | -122.1476 | -9.999000e+03 | -9999.00000 | -9999.00000 | -9999.000000 | -9999.000000 | 0 | 0 | ⋯ | NA | NA | NA | POINT (-122.1476 44.55096) | 17090006 | 1709000603 | 170900060301 | 5447622 | 1 | 22.04578 |\n|       NA | 44.55123 | -122.1470 | -9.999000e+03 | -9999.00000 | -9999.00000 | -9999.000000 | -9999.000000 | 0 | 0 | ⋯ | NA | NA | NA | POINT (-122.147 44.55123) | 17090006 | 1709000603 | 170900060301 | 5447623 | 1 | 22.04578 |\n|       NA | 44.55149 | -122.1464 | -9.999000e+03 | -9999.00000 | -9999.00000 | -9999.000000 | -9999.000000 | 0 | 0 | ⋯ | NA | NA | NA | POINT (-122.1464 44.55149) | 17090006 | 1709000603 | 170900060301 | 5447624 | 1 | 22.04578 |\n|       NA | 44.55176 | -122.1458 | -9.999000e+03 | -9999.00000 | -9999.00000 | -9999.000000 | -9999.000000 | 0 | 0 | ⋯ | NA | NA | NA | POINT (-122.1458 44.55176) | 17090006 | 1709000603 | 170900060301 | 5447625 | 1 | 22.04578 |\n|       NA | 44.55202 | -122.1451 | -9.999000e+03 | -9999.00000 | -9999.00000 | -9999.000000 | -9999.000000 | 0 | 0 | ⋯ | NA | NA | NA | POINT (-122.1451 44.55202) | 17090006 | 1709000603 | 170900060301 | 5447626 | 1 | 22.04578 |\n|       NA | 44.55229 | -122.1445 | -9.999000e+03 | -9999.00000 | -9999.00000 | -9999.000000 | -9999.000000 | 0 | 0 | ⋯ | NA | NA | NA | POINT (-122.1445 44.55229) | 17090006 | 1709000603 | 170900060301 | 5447627 | 1 | 22.04578 |\n|       NA | 44.55256 | -122.1439 | -9.999000e+03 | -9999.00000 | -9999.00000 | -9999.000000 | -9999.000000 | 0 | 0 | ⋯ | NA | NA | NA | POINT (-122.1439 44.55256) | 17090006 | 1709000603 | 170900060301 | 5447628 | 1 | 22.04578 |\n|       NA | 44.55282 | -122.1433 | -9.999000e+03 | -9999.00000 | -9999.00000 | -9999.000000 | -9999.000000 | 0 | 0 | ⋯ | NA | NA | NA | POINT (-122.1433 44.55282) | 17090006 | 1709000603 | 170900060301 | 5447629 | 1 | 22.04578 |\n|       NA | 44.55309 | -122.1427 | -9.999000e+03 | -9999.00000 | -9999.00000 | -9999.000000 | -9999.000000 | 0 | 0 | ⋯ | NA | NA | NA | POINT (-122.1427 44.55309) | 17090006 | 1709000603 | 170900060301 | 5447630 | 1 | 22.04578 |\n|       NA | 44.55336 | -122.1421 | -9.999000e+03 | -9999.00000 | -9999.00000 | -9999.000000 | -9999.000000 | 0 | 0 | ⋯ | NA | NA | NA | POINT (-122.1421 44.55336) | 17090006 | 1709000603 | 170900060301 | 5447631 | 1 | 22.04578 |\n|       NA | 44.55362 | -122.1414 | -9.999000e+03 | -9999.00000 | -9999.00000 | -9999.000000 | -9999.000000 | 0 | 0 | ⋯ | NA | NA | NA | POINT (-122.1414 44.55362) | 17090006 | 1709000603 | 170900060301 | 5447632 | 1 | 22.04578 |\n|       NA | 44.55389 | -122.1408 | -9.999000e+03 | -9999.00000 | -9999.00000 | -9999.000000 | -9999.000000 | 0 | 0 | ⋯ | NA | NA | NA | POINT (-122.1408 44.55389) | 17090006 | 1709000603 | 170900060301 | 5447633 | 1 | 22.04578 |\n|       NA | 44.55417 | -122.1402 | -9.999000e+03 | -9999.00000 | -9999.00000 | -9999.000000 | -9999.000000 | 0 | 0 | ⋯ | NA | NA | NA | POINT (-122.1402 44.55417) | 17090006 | 1709000603 | 170900060301 | 5447634 | 1 | 22.04578 |\n|       NA | 44.55442 | -122.1396 | -9.999000e+03 | -9999.00000 | -9999.00000 | -9999.000000 | -9999.000000 | 0 | 0 | ⋯ | NA | NA | NA | POINT (-122.1396 44.55442) | 17090006 | 1709000603 | 170900060301 | 5447635 | 1 | 22.04578 |\n|       NA | 44.55469 | -122.1390 | -9.999000e+03 | -9999.00000 | -9999.00000 | -9999.000000 | -9999.000000 | 0 | 0 | ⋯ | NA | NA | NA | POINT (-122.139 44.55469) | 17090006 | 1709000603 | 170900060301 | 5447636 | 1 | 22.04578 |\n|       NA | 44.55495 | -122.1384 | -9.999000e+03 | -9999.00000 | -9999.00000 | -9999.000000 | -9999.000000 | 0 | 0 | ⋯ | NA | NA | NA | POINT (-122.1384 44.55495) | 17090006 | 1709000603 | 170900060301 | 5447637 | 1 | 22.04578 |\n|       NA | 44.55522 | -122.1378 | -9.999000e+03 | -9999.00000 | -9999.00000 | -9999.000000 | -9999.000000 | 0 | 0 | ⋯ | NA | NA | NA | POINT (-122.1378 44.55522) | 17090006 | 1709000603 | 170900060301 | 5447638 | 1 | 22.04578 |\n|       NA | 44.55549 | -122.1371 | -9.999000e+03 | -9999.00000 | -9999.00000 | -9999.000000 | -9999.000000 | 0 | 0 | ⋯ | NA | NA | NA | POINT (-122.1371 44.55549) | 17090006 | 1709000603 | 170900060301 | 5447639 | 1 | 22.04578 |\n|       NA | 44.55575 | -122.1365 | -9.999000e+03 | -9999.00000 | -9999.00000 | -9999.000000 | -9999.000000 | 0 | 0 | ⋯ | NA | NA | NA | POINT (-122.1365 44.55575) | 17090006 | 1709000603 | 170900060301 | 5447640 | 1 | 22.04578 |\n|       NA | 44.55602 | -122.1359 | -9.999000e+03 | -9999.00000 | -9999.00000 | -9999.000000 | -9999.000000 | 0 | 0 | ⋯ | NA | NA | NA | POINT (-122.1359 44.55602) | 17090006 | 1709000603 | 170900060301 | 5447641 | 1 | 22.04578 |\n|       NA | 44.55629 | -122.1353 | -9.999000e+03 | -9999.00000 | -9999.00000 | -9999.000000 | -9999.000000 | 0 | 0 | ⋯ | NA | NA | NA | POINT (-122.1353 44.55629) | 17090006 | 1709000603 | 170900060301 | 5447642 | 1 | 22.04578 |\n|       NA | 44.55655 | -122.1347 | -9.999000e+03 | -9999.00000 | -9999.00000 | -9999.000000 | -9999.000000 | 0 | 0 | ⋯ | NA | NA | NA | POINT (-122.1347 44.55655) | 17090006 | 1709000603 | 170900060301 | 5447643 | 1 | 22.04578 |\n|       NA | 44.55682 | -122.1341 | -9.999000e+03 | -9999.00000 | -9999.00000 | -9999.000000 | -9999.000000 | 0 | 0 | ⋯ | NA | NA | NA | POINT (-122.1341 44.55682) | 17090006 | 1709000603 | 170900060301 | 5447644 | 1 | 22.04578 |\n| 17.81096 | 44.55719 | -122.1333 | -9.999000e+03 |    94.20887 |    11.11279 |     4.194101 |     3.312888 | 1 | 0 | ⋯ | NA | NA | NA | POINT (-122.1333 44.55719) | 17090006 | 1709000603 | 170900060301 | 5447645 | 1 | 22.04578 |\n| 20.69173 | 44.55746 | -122.1327 | -9.999000e+03 |   100.68329 |    11.11063 |     4.520576 |     3.312567 | 1 | 0 | ⋯ | NA | NA | NA | POINT (-122.1327 44.55746) | 17090006 | 1709000603 | 170900060301 | 5447646 | 1 | 22.04578 |\n| 30.25932 | 44.55772 | -122.1321 |  2.818949e-04 |   120.66814 |    11.10564 |     5.466695 |     3.311823 | 1 | 0 | ⋯ | NA | NA | NA | POINT (-122.1321 44.55772) | 17090006 | 1709000603 | 170900060301 | 5447647 | 1 | 22.04578 |\n| 53.64056 | 44.55799 | -122.1315 |  3.387600e+00 |   164.02948 |    11.10309 |     7.278501 |     3.311443 | 1 | 0 | ⋯ | NA | NA | NA | POINT (-122.1315 44.55799) | 17090006 | 1709000603 | 170900060301 | 5447648 | 1 | 22.04578 |\n\n",
            "text/latex": "A data.table: 5447648 × 67\n\\begin{tabular}{lllllllllllllllllllll}\n agbd & lat\\_lowestmode & lon\\_lowestmode & agbd\\_pi\\_lower & agbd\\_pi\\_upper & agbd\\_se & agbd\\_t & agbd\\_t\\_se & algorithm\\_run\\_flag & channel & ⋯ & FIRE\\_INC\\_ID & FIRE\\_NAME & FIRE\\_YEAR & geom & HUC8 & HUC10 & HUC12 & shot\\_id & group\\_quantile & biomass\\_init\\\\\n <dbl> & <dbl> & <dbl> & <dbl> & <dbl> & <dbl> & <dbl> & <dbl> & <dbl> & <dbl> & ⋯ & <chr> & <chr> & <chr> & <POINT {[}°{]}> & <chr> & <chr> & <chr> & <int> & <fct> & <dbl>\\\\\n\\hline\n\t NA & 44.81151 & -122.1321 & -9999 & -9999 & -9999 & -9999 & -9999 & 0 & 1 & ⋯ & NA & NA & NA & POINT (-122.1321 44.81151) & 17090005 & 1709000501 & 170900050103 &  1 & 2 & 22.11820\\\\\n\t NA & 44.80826 & -122.0978 & -9999 & -9999 & -9999 & -9999 & -9999 & 0 & 0 & ⋯ & NA & NA & NA & POINT (-122.0978 44.80826) & 17090005 & 1709000501 & 170900050103 &  2 & 1 & 17.29384\\\\\n\t NA & 44.80799 & -122.0972 & -9999 & -9999 & -9999 & -9999 & -9999 & 0 & 0 & ⋯ & NA & NA & NA & POINT (-122.0972 44.80799) & 17090005 & 1709000501 & 170900050103 &  3 & 1 & 17.29384\\\\\n\t NA & 44.80773 & -122.0966 & -9999 & -9999 & -9999 & -9999 & -9999 & 0 & 0 & ⋯ & NA & NA & NA & POINT (-122.0966 44.80773) & 17090005 & 1709000501 & 170900050103 &  4 & 1 & 17.29384\\\\\n\t NA & 44.80747 & -122.0960 & -9999 & -9999 & -9999 & -9999 & -9999 & 0 & 0 & ⋯ & NA & NA & NA & POINT (-122.096 44.80747) & 17090005 & 1709000501 & 170900050103 &  5 & 1 & 17.29384\\\\\n\t NA & 44.80721 & -122.0953 & -9999 & -9999 & -9999 & -9999 & -9999 & 0 & 0 & ⋯ & NA & NA & NA & POINT (-122.0953 44.80721) & 17090005 & 1709000501 & 170900050103 &  6 & 1 & 17.29384\\\\\n\t NA & 44.80695 & -122.0947 & -9999 & -9999 & -9999 & -9999 & -9999 & 0 & 0 & ⋯ & NA & NA & NA & POINT (-122.0947 44.80695) & 17090005 & 1709000501 & 170900050103 &  7 & 1 & 17.29384\\\\\n\t NA & 44.80669 & -122.0941 & -9999 & -9999 & -9999 & -9999 & -9999 & 0 & 0 & ⋯ & NA & NA & NA & POINT (-122.0941 44.80669) & 17090005 & 1709000501 & 170900050103 &  8 & 1 & 17.29384\\\\\n\t NA & 44.80643 & -122.0935 & -9999 & -9999 & -9999 & -9999 & -9999 & 0 & 0 & ⋯ & NA & NA & NA & POINT (-122.0935 44.80643) & 17090005 & 1709000501 & 170900050103 &  9 & 1 & 17.29384\\\\\n\t NA & 44.80617 & -122.0929 & -9999 & -9999 & -9999 & -9999 & -9999 & 0 & 0 & ⋯ & NA & NA & NA & POINT (-122.0929 44.80617) & 17090005 & 1709000501 & 170900050103 & 10 & 1 & 17.29384\\\\\n\t NA & 44.80590 & -122.0923 & -9999 & -9999 & -9999 & -9999 & -9999 & 0 & 0 & ⋯ & NA & NA & NA & POINT (-122.0923 44.8059) & 17090005 & 1709000501 & 170900050103 & 11 & 1 & 17.29384\\\\\n\t NA & 44.80564 & -122.0916 & -9999 & -9999 & -9999 & -9999 & -9999 & 0 & 0 & ⋯ & NA & NA & NA & POINT (-122.0916 44.80564) & 17090005 & 1709000501 & 170900050103 & 12 & 1 & 17.29384\\\\\n\t NA & 44.80538 & -122.0910 & -9999 & -9999 & -9999 & -9999 & -9999 & 0 & 0 & ⋯ & NA & NA & NA & POINT (-122.091 44.80538) & 17090005 & 1709000501 & 170900050103 & 13 & 1 & 17.29384\\\\\n\t NA & 44.80512 & -122.0904 & -9999 & -9999 & -9999 & -9999 & -9999 & 0 & 0 & ⋯ & NA & NA & NA & POINT (-122.0904 44.80512) & 17090005 & 1709000501 & 170900050103 & 14 & 1 & 17.29384\\\\\n\t NA & 44.80486 & -122.0898 & -9999 & -9999 & -9999 & -9999 & -9999 & 0 & 0 & ⋯ & NA & NA & NA & POINT (-122.0898 44.80486) & 17090005 & 1709000501 & 170900050103 & 15 & 1 & 17.29384\\\\\n\t NA & 44.80460 & -122.0892 & -9999 & -9999 & -9999 & -9999 & -9999 & 0 & 0 & ⋯ & NA & NA & NA & POINT (-122.0892 44.8046) & 17090005 & 1709000501 & 170900050103 & 16 & 1 & 17.29384\\\\\n\t NA & 44.80434 & -122.0885 & -9999 & -9999 & -9999 & -9999 & -9999 & 0 & 0 & ⋯ & NA & NA & NA & POINT (-122.0885 44.80434) & 17090005 & 1709000501 & 170900050103 & 17 & 1 & 17.29384\\\\\n\t NA & 44.80407 & -122.0879 & -9999 & -9999 & -9999 & -9999 & -9999 & 0 & 0 & ⋯ & NA & NA & NA & POINT (-122.0879 44.80407) & 17090005 & 1709000501 & 170900050103 & 18 & 1 & 17.29384\\\\\n\t NA & 44.80381 & -122.0873 & -9999 & -9999 & -9999 & -9999 & -9999 & 0 & 0 & ⋯ & NA & NA & NA & POINT (-122.0873 44.80381) & 17090005 & 1709000501 & 170900050103 & 19 & 1 & 17.29384\\\\\n\t NA & 44.80355 & -122.0867 & -9999 & -9999 & -9999 & -9999 & -9999 & 0 & 0 & ⋯ & NA & NA & NA & POINT (-122.0867 44.80355) & 17090005 & 1709000501 & 170900050103 & 20 & 1 & 17.29384\\\\\n\t NA & 44.80329 & -122.0861 & -9999 & -9999 & -9999 & -9999 & -9999 & 0 & 0 & ⋯ & NA & NA & NA & POINT (-122.0861 44.80329) & 17090005 & 1709000501 & 170900050103 & 21 & 1 & 17.29384\\\\\n\t NA & 44.80303 & -122.0854 & -9999 & -9999 & -9999 & -9999 & -9999 & 0 & 0 & ⋯ & NA & NA & NA & POINT (-122.0854 44.80303) & 17090005 & 1709000501 & 170900050103 & 22 & 1 & 17.29384\\\\\n\t NA & 44.80277 & -122.0848 & -9999 & -9999 & -9999 & -9999 & -9999 & 0 & 0 & ⋯ & NA & NA & NA & POINT (-122.0848 44.80277) & 17090005 & 1709000501 & 170900050103 & 23 & 1 & 17.29384\\\\\n\t NA & 44.80251 & -122.0842 & -9999 & -9999 & -9999 & -9999 & -9999 & 0 & 0 & ⋯ & NA & NA & NA & POINT (-122.0842 44.80251) & 17090005 & 1709000501 & 170900050103 & 24 & 1 & 17.29384\\\\\n\t NA & 44.80225 & -122.0836 & -9999 & -9999 & -9999 & -9999 & -9999 & 0 & 0 & ⋯ & NA & NA & NA & POINT (-122.0836 44.80225) & 17090005 & 1709000501 & 170900050103 & 25 & 1 & 17.29384\\\\\n\t NA & 44.80198 & -122.0830 & -9999 & -9999 & -9999 & -9999 & -9999 & 0 & 0 & ⋯ & NA & NA & NA & POINT (-122.083 44.80198) & 17090005 & 1709000501 & 170900050103 & 26 & 1 & 17.29384\\\\\n\t NA & 44.80172 & -122.0824 & -9999 & -9999 & -9999 & -9999 & -9999 & 0 & 0 & ⋯ & NA & NA & NA & POINT (-122.0824 44.80172) & 17090005 & 1709000501 & 170900050103 & 27 & 1 & 17.29384\\\\\n\t NA & 44.80146 & -122.0817 & -9999 & -9999 & -9999 & -9999 & -9999 & 0 & 0 & ⋯ & NA & NA & NA & POINT (-122.0817 44.80146) & 17090005 & 1709000501 & 170900050103 & 28 & 1 & 17.29384\\\\\n\t NA & 44.80120 & -122.0811 & -9999 & -9999 & -9999 & -9999 & -9999 & 0 & 0 & ⋯ & NA & NA & NA & POINT (-122.0811 44.8012) & 17090005 & 1709000501 & 170900050103 & 29 & 1 & 17.29384\\\\\n\t NA & 44.80094 & -122.0805 & -9999 & -9999 & -9999 & -9999 & -9999 & 0 & 0 & ⋯ & NA & NA & NA & POINT (-122.0805 44.80094) & 17090005 & 1709000501 & 170900050103 & 30 & 1 & 17.29384\\\\\n\t ⋮ & ⋮ & ⋮ & ⋮ & ⋮ & ⋮ & ⋮ & ⋮ & ⋮ & ⋮ & ⋱ & ⋮ & ⋮ & ⋮ & ⋮ & ⋮ & ⋮ & ⋮ & ⋮ & ⋮ & ⋮\\\\\n\t       NA & 44.55016 & -122.1495 & -9.999000e+03 & -9999.00000 & -9999.00000 & -9999.000000 & -9999.000000 & 0 & 0 & ⋯ & NA & NA & NA & POINT (-122.1495 44.55016) & 17090006 & 1709000603 & 170900060301 & 5447619 & 1 & 22.04578\\\\\n\t       NA & 44.55043 & -122.1488 & -9.999000e+03 & -9999.00000 & -9999.00000 & -9999.000000 & -9999.000000 & 0 & 0 & ⋯ & NA & NA & NA & POINT (-122.1488 44.55043) & 17090006 & 1709000603 & 170900060301 & 5447620 & 1 & 22.04578\\\\\n\t       NA & 44.55069 & -122.1482 & -9.999000e+03 & -9999.00000 & -9999.00000 & -9999.000000 & -9999.000000 & 0 & 0 & ⋯ & NA & NA & NA & POINT (-122.1482 44.55069) & 17090006 & 1709000603 & 170900060301 & 5447621 & 1 & 22.04578\\\\\n\t       NA & 44.55096 & -122.1476 & -9.999000e+03 & -9999.00000 & -9999.00000 & -9999.000000 & -9999.000000 & 0 & 0 & ⋯ & NA & NA & NA & POINT (-122.1476 44.55096) & 17090006 & 1709000603 & 170900060301 & 5447622 & 1 & 22.04578\\\\\n\t       NA & 44.55123 & -122.1470 & -9.999000e+03 & -9999.00000 & -9999.00000 & -9999.000000 & -9999.000000 & 0 & 0 & ⋯ & NA & NA & NA & POINT (-122.147 44.55123) & 17090006 & 1709000603 & 170900060301 & 5447623 & 1 & 22.04578\\\\\n\t       NA & 44.55149 & -122.1464 & -9.999000e+03 & -9999.00000 & -9999.00000 & -9999.000000 & -9999.000000 & 0 & 0 & ⋯ & NA & NA & NA & POINT (-122.1464 44.55149) & 17090006 & 1709000603 & 170900060301 & 5447624 & 1 & 22.04578\\\\\n\t       NA & 44.55176 & -122.1458 & -9.999000e+03 & -9999.00000 & -9999.00000 & -9999.000000 & -9999.000000 & 0 & 0 & ⋯ & NA & NA & NA & POINT (-122.1458 44.55176) & 17090006 & 1709000603 & 170900060301 & 5447625 & 1 & 22.04578\\\\\n\t       NA & 44.55202 & -122.1451 & -9.999000e+03 & -9999.00000 & -9999.00000 & -9999.000000 & -9999.000000 & 0 & 0 & ⋯ & NA & NA & NA & POINT (-122.1451 44.55202) & 17090006 & 1709000603 & 170900060301 & 5447626 & 1 & 22.04578\\\\\n\t       NA & 44.55229 & -122.1445 & -9.999000e+03 & -9999.00000 & -9999.00000 & -9999.000000 & -9999.000000 & 0 & 0 & ⋯ & NA & NA & NA & POINT (-122.1445 44.55229) & 17090006 & 1709000603 & 170900060301 & 5447627 & 1 & 22.04578\\\\\n\t       NA & 44.55256 & -122.1439 & -9.999000e+03 & -9999.00000 & -9999.00000 & -9999.000000 & -9999.000000 & 0 & 0 & ⋯ & NA & NA & NA & POINT (-122.1439 44.55256) & 17090006 & 1709000603 & 170900060301 & 5447628 & 1 & 22.04578\\\\\n\t       NA & 44.55282 & -122.1433 & -9.999000e+03 & -9999.00000 & -9999.00000 & -9999.000000 & -9999.000000 & 0 & 0 & ⋯ & NA & NA & NA & POINT (-122.1433 44.55282) & 17090006 & 1709000603 & 170900060301 & 5447629 & 1 & 22.04578\\\\\n\t       NA & 44.55309 & -122.1427 & -9.999000e+03 & -9999.00000 & -9999.00000 & -9999.000000 & -9999.000000 & 0 & 0 & ⋯ & NA & NA & NA & POINT (-122.1427 44.55309) & 17090006 & 1709000603 & 170900060301 & 5447630 & 1 & 22.04578\\\\\n\t       NA & 44.55336 & -122.1421 & -9.999000e+03 & -9999.00000 & -9999.00000 & -9999.000000 & -9999.000000 & 0 & 0 & ⋯ & NA & NA & NA & POINT (-122.1421 44.55336) & 17090006 & 1709000603 & 170900060301 & 5447631 & 1 & 22.04578\\\\\n\t       NA & 44.55362 & -122.1414 & -9.999000e+03 & -9999.00000 & -9999.00000 & -9999.000000 & -9999.000000 & 0 & 0 & ⋯ & NA & NA & NA & POINT (-122.1414 44.55362) & 17090006 & 1709000603 & 170900060301 & 5447632 & 1 & 22.04578\\\\\n\t       NA & 44.55389 & -122.1408 & -9.999000e+03 & -9999.00000 & -9999.00000 & -9999.000000 & -9999.000000 & 0 & 0 & ⋯ & NA & NA & NA & POINT (-122.1408 44.55389) & 17090006 & 1709000603 & 170900060301 & 5447633 & 1 & 22.04578\\\\\n\t       NA & 44.55417 & -122.1402 & -9.999000e+03 & -9999.00000 & -9999.00000 & -9999.000000 & -9999.000000 & 0 & 0 & ⋯ & NA & NA & NA & POINT (-122.1402 44.55417) & 17090006 & 1709000603 & 170900060301 & 5447634 & 1 & 22.04578\\\\\n\t       NA & 44.55442 & -122.1396 & -9.999000e+03 & -9999.00000 & -9999.00000 & -9999.000000 & -9999.000000 & 0 & 0 & ⋯ & NA & NA & NA & POINT (-122.1396 44.55442) & 17090006 & 1709000603 & 170900060301 & 5447635 & 1 & 22.04578\\\\\n\t       NA & 44.55469 & -122.1390 & -9.999000e+03 & -9999.00000 & -9999.00000 & -9999.000000 & -9999.000000 & 0 & 0 & ⋯ & NA & NA & NA & POINT (-122.139 44.55469) & 17090006 & 1709000603 & 170900060301 & 5447636 & 1 & 22.04578\\\\\n\t       NA & 44.55495 & -122.1384 & -9.999000e+03 & -9999.00000 & -9999.00000 & -9999.000000 & -9999.000000 & 0 & 0 & ⋯ & NA & NA & NA & POINT (-122.1384 44.55495) & 17090006 & 1709000603 & 170900060301 & 5447637 & 1 & 22.04578\\\\\n\t       NA & 44.55522 & -122.1378 & -9.999000e+03 & -9999.00000 & -9999.00000 & -9999.000000 & -9999.000000 & 0 & 0 & ⋯ & NA & NA & NA & POINT (-122.1378 44.55522) & 17090006 & 1709000603 & 170900060301 & 5447638 & 1 & 22.04578\\\\\n\t       NA & 44.55549 & -122.1371 & -9.999000e+03 & -9999.00000 & -9999.00000 & -9999.000000 & -9999.000000 & 0 & 0 & ⋯ & NA & NA & NA & POINT (-122.1371 44.55549) & 17090006 & 1709000603 & 170900060301 & 5447639 & 1 & 22.04578\\\\\n\t       NA & 44.55575 & -122.1365 & -9.999000e+03 & -9999.00000 & -9999.00000 & -9999.000000 & -9999.000000 & 0 & 0 & ⋯ & NA & NA & NA & POINT (-122.1365 44.55575) & 17090006 & 1709000603 & 170900060301 & 5447640 & 1 & 22.04578\\\\\n\t       NA & 44.55602 & -122.1359 & -9.999000e+03 & -9999.00000 & -9999.00000 & -9999.000000 & -9999.000000 & 0 & 0 & ⋯ & NA & NA & NA & POINT (-122.1359 44.55602) & 17090006 & 1709000603 & 170900060301 & 5447641 & 1 & 22.04578\\\\\n\t       NA & 44.55629 & -122.1353 & -9.999000e+03 & -9999.00000 & -9999.00000 & -9999.000000 & -9999.000000 & 0 & 0 & ⋯ & NA & NA & NA & POINT (-122.1353 44.55629) & 17090006 & 1709000603 & 170900060301 & 5447642 & 1 & 22.04578\\\\\n\t       NA & 44.55655 & -122.1347 & -9.999000e+03 & -9999.00000 & -9999.00000 & -9999.000000 & -9999.000000 & 0 & 0 & ⋯ & NA & NA & NA & POINT (-122.1347 44.55655) & 17090006 & 1709000603 & 170900060301 & 5447643 & 1 & 22.04578\\\\\n\t       NA & 44.55682 & -122.1341 & -9.999000e+03 & -9999.00000 & -9999.00000 & -9999.000000 & -9999.000000 & 0 & 0 & ⋯ & NA & NA & NA & POINT (-122.1341 44.55682) & 17090006 & 1709000603 & 170900060301 & 5447644 & 1 & 22.04578\\\\\n\t 17.81096 & 44.55719 & -122.1333 & -9.999000e+03 &    94.20887 &    11.11279 &     4.194101 &     3.312888 & 1 & 0 & ⋯ & NA & NA & NA & POINT (-122.1333 44.55719) & 17090006 & 1709000603 & 170900060301 & 5447645 & 1 & 22.04578\\\\\n\t 20.69173 & 44.55746 & -122.1327 & -9.999000e+03 &   100.68329 &    11.11063 &     4.520576 &     3.312567 & 1 & 0 & ⋯ & NA & NA & NA & POINT (-122.1327 44.55746) & 17090006 & 1709000603 & 170900060301 & 5447646 & 1 & 22.04578\\\\\n\t 30.25932 & 44.55772 & -122.1321 &  2.818949e-04 &   120.66814 &    11.10564 &     5.466695 &     3.311823 & 1 & 0 & ⋯ & NA & NA & NA & POINT (-122.1321 44.55772) & 17090006 & 1709000603 & 170900060301 & 5447647 & 1 & 22.04578\\\\\n\t 53.64056 & 44.55799 & -122.1315 &  3.387600e+00 &   164.02948 &    11.10309 &     7.278501 &     3.311443 & 1 & 0 & ⋯ & NA & NA & NA & POINT (-122.1315 44.55799) & 17090006 & 1709000603 & 170900060301 & 5447648 & 1 & 22.04578\\\\\n\\end{tabular}\n",
            "text/plain": [
              "        agbd     lat_lowestmode lon_lowestmode agbd_pi_lower agbd_pi_upper\n",
              "1       NA       44.81151       -122.1321      -9999         -9999        \n",
              "2       NA       44.80826       -122.0978      -9999         -9999        \n",
              "3       NA       44.80799       -122.0972      -9999         -9999        \n",
              "4       NA       44.80773       -122.0966      -9999         -9999        \n",
              "5       NA       44.80747       -122.0960      -9999         -9999        \n",
              "6       NA       44.80721       -122.0953      -9999         -9999        \n",
              "7       NA       44.80695       -122.0947      -9999         -9999        \n",
              "8       NA       44.80669       -122.0941      -9999         -9999        \n",
              "9       NA       44.80643       -122.0935      -9999         -9999        \n",
              "10      NA       44.80617       -122.0929      -9999         -9999        \n",
              "11      NA       44.80590       -122.0923      -9999         -9999        \n",
              "12      NA       44.80564       -122.0916      -9999         -9999        \n",
              "13      NA       44.80538       -122.0910      -9999         -9999        \n",
              "14      NA       44.80512       -122.0904      -9999         -9999        \n",
              "15      NA       44.80486       -122.0898      -9999         -9999        \n",
              "16      NA       44.80460       -122.0892      -9999         -9999        \n",
              "17      NA       44.80434       -122.0885      -9999         -9999        \n",
              "18      NA       44.80407       -122.0879      -9999         -9999        \n",
              "19      NA       44.80381       -122.0873      -9999         -9999        \n",
              "20      NA       44.80355       -122.0867      -9999         -9999        \n",
              "21      NA       44.80329       -122.0861      -9999         -9999        \n",
              "22      NA       44.80303       -122.0854      -9999         -9999        \n",
              "23      NA       44.80277       -122.0848      -9999         -9999        \n",
              "24      NA       44.80251       -122.0842      -9999         -9999        \n",
              "25      NA       44.80225       -122.0836      -9999         -9999        \n",
              "26      NA       44.80198       -122.0830      -9999         -9999        \n",
              "27      NA       44.80172       -122.0824      -9999         -9999        \n",
              "28      NA       44.80146       -122.0817      -9999         -9999        \n",
              "29      NA       44.80120       -122.0811      -9999         -9999        \n",
              "30      NA       44.80094       -122.0805      -9999         -9999        \n",
              "⋮       ⋮        ⋮              ⋮              ⋮             ⋮            \n",
              "5447619       NA 44.55016       -122.1495      -9.999000e+03 -9999.00000  \n",
              "5447620       NA 44.55043       -122.1488      -9.999000e+03 -9999.00000  \n",
              "5447621       NA 44.55069       -122.1482      -9.999000e+03 -9999.00000  \n",
              "5447622       NA 44.55096       -122.1476      -9.999000e+03 -9999.00000  \n",
              "5447623       NA 44.55123       -122.1470      -9.999000e+03 -9999.00000  \n",
              "5447624       NA 44.55149       -122.1464      -9.999000e+03 -9999.00000  \n",
              "5447625       NA 44.55176       -122.1458      -9.999000e+03 -9999.00000  \n",
              "5447626       NA 44.55202       -122.1451      -9.999000e+03 -9999.00000  \n",
              "5447627       NA 44.55229       -122.1445      -9.999000e+03 -9999.00000  \n",
              "5447628       NA 44.55256       -122.1439      -9.999000e+03 -9999.00000  \n",
              "5447629       NA 44.55282       -122.1433      -9.999000e+03 -9999.00000  \n",
              "5447630       NA 44.55309       -122.1427      -9.999000e+03 -9999.00000  \n",
              "5447631       NA 44.55336       -122.1421      -9.999000e+03 -9999.00000  \n",
              "5447632       NA 44.55362       -122.1414      -9.999000e+03 -9999.00000  \n",
              "5447633       NA 44.55389       -122.1408      -9.999000e+03 -9999.00000  \n",
              "5447634       NA 44.55417       -122.1402      -9.999000e+03 -9999.00000  \n",
              "5447635       NA 44.55442       -122.1396      -9.999000e+03 -9999.00000  \n",
              "5447636       NA 44.55469       -122.1390      -9.999000e+03 -9999.00000  \n",
              "5447637       NA 44.55495       -122.1384      -9.999000e+03 -9999.00000  \n",
              "5447638       NA 44.55522       -122.1378      -9.999000e+03 -9999.00000  \n",
              "5447639       NA 44.55549       -122.1371      -9.999000e+03 -9999.00000  \n",
              "5447640       NA 44.55575       -122.1365      -9.999000e+03 -9999.00000  \n",
              "5447641       NA 44.55602       -122.1359      -9.999000e+03 -9999.00000  \n",
              "5447642       NA 44.55629       -122.1353      -9.999000e+03 -9999.00000  \n",
              "5447643       NA 44.55655       -122.1347      -9.999000e+03 -9999.00000  \n",
              "5447644       NA 44.55682       -122.1341      -9.999000e+03 -9999.00000  \n",
              "5447645 17.81096 44.55719       -122.1333      -9.999000e+03    94.20887  \n",
              "5447646 20.69173 44.55746       -122.1327      -9.999000e+03   100.68329  \n",
              "5447647 30.25932 44.55772       -122.1321       2.818949e-04   120.66814  \n",
              "5447648 53.64056 44.55799       -122.1315       3.387600e+00   164.02948  \n",
              "        agbd_se     agbd_t       agbd_t_se    algorithm_run_flag channel ⋯\n",
              "1       -9999       -9999        -9999        0                  1       ⋯\n",
              "2       -9999       -9999        -9999        0                  0       ⋯\n",
              "3       -9999       -9999        -9999        0                  0       ⋯\n",
              "4       -9999       -9999        -9999        0                  0       ⋯\n",
              "5       -9999       -9999        -9999        0                  0       ⋯\n",
              "6       -9999       -9999        -9999        0                  0       ⋯\n",
              "7       -9999       -9999        -9999        0                  0       ⋯\n",
              "8       -9999       -9999        -9999        0                  0       ⋯\n",
              "9       -9999       -9999        -9999        0                  0       ⋯\n",
              "10      -9999       -9999        -9999        0                  0       ⋯\n",
              "11      -9999       -9999        -9999        0                  0       ⋯\n",
              "12      -9999       -9999        -9999        0                  0       ⋯\n",
              "13      -9999       -9999        -9999        0                  0       ⋯\n",
              "14      -9999       -9999        -9999        0                  0       ⋯\n",
              "15      -9999       -9999        -9999        0                  0       ⋯\n",
              "16      -9999       -9999        -9999        0                  0       ⋯\n",
              "17      -9999       -9999        -9999        0                  0       ⋯\n",
              "18      -9999       -9999        -9999        0                  0       ⋯\n",
              "19      -9999       -9999        -9999        0                  0       ⋯\n",
              "20      -9999       -9999        -9999        0                  0       ⋯\n",
              "21      -9999       -9999        -9999        0                  0       ⋯\n",
              "22      -9999       -9999        -9999        0                  0       ⋯\n",
              "23      -9999       -9999        -9999        0                  0       ⋯\n",
              "24      -9999       -9999        -9999        0                  0       ⋯\n",
              "25      -9999       -9999        -9999        0                  0       ⋯\n",
              "26      -9999       -9999        -9999        0                  0       ⋯\n",
              "27      -9999       -9999        -9999        0                  0       ⋯\n",
              "28      -9999       -9999        -9999        0                  0       ⋯\n",
              "29      -9999       -9999        -9999        0                  0       ⋯\n",
              "30      -9999       -9999        -9999        0                  0       ⋯\n",
              "⋮       ⋮           ⋮            ⋮            ⋮                  ⋮       ⋱\n",
              "5447619 -9999.00000 -9999.000000 -9999.000000 0                  0       ⋯\n",
              "5447620 -9999.00000 -9999.000000 -9999.000000 0                  0       ⋯\n",
              "5447621 -9999.00000 -9999.000000 -9999.000000 0                  0       ⋯\n",
              "5447622 -9999.00000 -9999.000000 -9999.000000 0                  0       ⋯\n",
              "5447623 -9999.00000 -9999.000000 -9999.000000 0                  0       ⋯\n",
              "5447624 -9999.00000 -9999.000000 -9999.000000 0                  0       ⋯\n",
              "5447625 -9999.00000 -9999.000000 -9999.000000 0                  0       ⋯\n",
              "5447626 -9999.00000 -9999.000000 -9999.000000 0                  0       ⋯\n",
              "5447627 -9999.00000 -9999.000000 -9999.000000 0                  0       ⋯\n",
              "5447628 -9999.00000 -9999.000000 -9999.000000 0                  0       ⋯\n",
              "5447629 -9999.00000 -9999.000000 -9999.000000 0                  0       ⋯\n",
              "5447630 -9999.00000 -9999.000000 -9999.000000 0                  0       ⋯\n",
              "5447631 -9999.00000 -9999.000000 -9999.000000 0                  0       ⋯\n",
              "5447632 -9999.00000 -9999.000000 -9999.000000 0                  0       ⋯\n",
              "5447633 -9999.00000 -9999.000000 -9999.000000 0                  0       ⋯\n",
              "5447634 -9999.00000 -9999.000000 -9999.000000 0                  0       ⋯\n",
              "5447635 -9999.00000 -9999.000000 -9999.000000 0                  0       ⋯\n",
              "5447636 -9999.00000 -9999.000000 -9999.000000 0                  0       ⋯\n",
              "5447637 -9999.00000 -9999.000000 -9999.000000 0                  0       ⋯\n",
              "5447638 -9999.00000 -9999.000000 -9999.000000 0                  0       ⋯\n",
              "5447639 -9999.00000 -9999.000000 -9999.000000 0                  0       ⋯\n",
              "5447640 -9999.00000 -9999.000000 -9999.000000 0                  0       ⋯\n",
              "5447641 -9999.00000 -9999.000000 -9999.000000 0                  0       ⋯\n",
              "5447642 -9999.00000 -9999.000000 -9999.000000 0                  0       ⋯\n",
              "5447643 -9999.00000 -9999.000000 -9999.000000 0                  0       ⋯\n",
              "5447644 -9999.00000 -9999.000000 -9999.000000 0                  0       ⋯\n",
              "5447645    11.11279     4.194101     3.312888 1                  0       ⋯\n",
              "5447646    11.11063     4.520576     3.312567 1                  0       ⋯\n",
              "5447647    11.10564     5.466695     3.311823 1                  0       ⋯\n",
              "5447648    11.10309     7.278501     3.311443 1                  0       ⋯\n",
              "        FIRE_INC_ID FIRE_NAME FIRE_YEAR geom                       HUC8    \n",
              "1       NA          NA        NA        POINT (-122.1321 44.81151) 17090005\n",
              "2       NA          NA        NA        POINT (-122.0978 44.80826) 17090005\n",
              "3       NA          NA        NA        POINT (-122.0972 44.80799) 17090005\n",
              "4       NA          NA        NA        POINT (-122.0966 44.80773) 17090005\n",
              "5       NA          NA        NA        POINT (-122.096 44.80747)  17090005\n",
              "6       NA          NA        NA        POINT (-122.0953 44.80721) 17090005\n",
              "7       NA          NA        NA        POINT (-122.0947 44.80695) 17090005\n",
              "8       NA          NA        NA        POINT (-122.0941 44.80669) 17090005\n",
              "9       NA          NA        NA        POINT (-122.0935 44.80643) 17090005\n",
              "10      NA          NA        NA        POINT (-122.0929 44.80617) 17090005\n",
              "11      NA          NA        NA        POINT (-122.0923 44.8059)  17090005\n",
              "12      NA          NA        NA        POINT (-122.0916 44.80564) 17090005\n",
              "13      NA          NA        NA        POINT (-122.091 44.80538)  17090005\n",
              "14      NA          NA        NA        POINT (-122.0904 44.80512) 17090005\n",
              "15      NA          NA        NA        POINT (-122.0898 44.80486) 17090005\n",
              "16      NA          NA        NA        POINT (-122.0892 44.8046)  17090005\n",
              "17      NA          NA        NA        POINT (-122.0885 44.80434) 17090005\n",
              "18      NA          NA        NA        POINT (-122.0879 44.80407) 17090005\n",
              "19      NA          NA        NA        POINT (-122.0873 44.80381) 17090005\n",
              "20      NA          NA        NA        POINT (-122.0867 44.80355) 17090005\n",
              "21      NA          NA        NA        POINT (-122.0861 44.80329) 17090005\n",
              "22      NA          NA        NA        POINT (-122.0854 44.80303) 17090005\n",
              "23      NA          NA        NA        POINT (-122.0848 44.80277) 17090005\n",
              "24      NA          NA        NA        POINT (-122.0842 44.80251) 17090005\n",
              "25      NA          NA        NA        POINT (-122.0836 44.80225) 17090005\n",
              "26      NA          NA        NA        POINT (-122.083 44.80198)  17090005\n",
              "27      NA          NA        NA        POINT (-122.0824 44.80172) 17090005\n",
              "28      NA          NA        NA        POINT (-122.0817 44.80146) 17090005\n",
              "29      NA          NA        NA        POINT (-122.0811 44.8012)  17090005\n",
              "30      NA          NA        NA        POINT (-122.0805 44.80094) 17090005\n",
              "⋮       ⋮           ⋮         ⋮         ⋮                          ⋮       \n",
              "5447619 NA          NA        NA        POINT (-122.1495 44.55016) 17090006\n",
              "5447620 NA          NA        NA        POINT (-122.1488 44.55043) 17090006\n",
              "5447621 NA          NA        NA        POINT (-122.1482 44.55069) 17090006\n",
              "5447622 NA          NA        NA        POINT (-122.1476 44.55096) 17090006\n",
              "5447623 NA          NA        NA        POINT (-122.147 44.55123)  17090006\n",
              "5447624 NA          NA        NA        POINT (-122.1464 44.55149) 17090006\n",
              "5447625 NA          NA        NA        POINT (-122.1458 44.55176) 17090006\n",
              "5447626 NA          NA        NA        POINT (-122.1451 44.55202) 17090006\n",
              "5447627 NA          NA        NA        POINT (-122.1445 44.55229) 17090006\n",
              "5447628 NA          NA        NA        POINT (-122.1439 44.55256) 17090006\n",
              "5447629 NA          NA        NA        POINT (-122.1433 44.55282) 17090006\n",
              "5447630 NA          NA        NA        POINT (-122.1427 44.55309) 17090006\n",
              "5447631 NA          NA        NA        POINT (-122.1421 44.55336) 17090006\n",
              "5447632 NA          NA        NA        POINT (-122.1414 44.55362) 17090006\n",
              "5447633 NA          NA        NA        POINT (-122.1408 44.55389) 17090006\n",
              "5447634 NA          NA        NA        POINT (-122.1402 44.55417) 17090006\n",
              "5447635 NA          NA        NA        POINT (-122.1396 44.55442) 17090006\n",
              "5447636 NA          NA        NA        POINT (-122.139 44.55469)  17090006\n",
              "5447637 NA          NA        NA        POINT (-122.1384 44.55495) 17090006\n",
              "5447638 NA          NA        NA        POINT (-122.1378 44.55522) 17090006\n",
              "5447639 NA          NA        NA        POINT (-122.1371 44.55549) 17090006\n",
              "5447640 NA          NA        NA        POINT (-122.1365 44.55575) 17090006\n",
              "5447641 NA          NA        NA        POINT (-122.1359 44.55602) 17090006\n",
              "5447642 NA          NA        NA        POINT (-122.1353 44.55629) 17090006\n",
              "5447643 NA          NA        NA        POINT (-122.1347 44.55655) 17090006\n",
              "5447644 NA          NA        NA        POINT (-122.1341 44.55682) 17090006\n",
              "5447645 NA          NA        NA        POINT (-122.1333 44.55719) 17090006\n",
              "5447646 NA          NA        NA        POINT (-122.1327 44.55746) 17090006\n",
              "5447647 NA          NA        NA        POINT (-122.1321 44.55772) 17090006\n",
              "5447648 NA          NA        NA        POINT (-122.1315 44.55799) 17090006\n",
              "        HUC10      HUC12        shot_id group_quantile biomass_init\n",
              "1       1709000501 170900050103  1      2              22.11820    \n",
              "2       1709000501 170900050103  2      1              17.29384    \n",
              "3       1709000501 170900050103  3      1              17.29384    \n",
              "4       1709000501 170900050103  4      1              17.29384    \n",
              "5       1709000501 170900050103  5      1              17.29384    \n",
              "6       1709000501 170900050103  6      1              17.29384    \n",
              "7       1709000501 170900050103  7      1              17.29384    \n",
              "8       1709000501 170900050103  8      1              17.29384    \n",
              "9       1709000501 170900050103  9      1              17.29384    \n",
              "10      1709000501 170900050103 10      1              17.29384    \n",
              "11      1709000501 170900050103 11      1              17.29384    \n",
              "12      1709000501 170900050103 12      1              17.29384    \n",
              "13      1709000501 170900050103 13      1              17.29384    \n",
              "14      1709000501 170900050103 14      1              17.29384    \n",
              "15      1709000501 170900050103 15      1              17.29384    \n",
              "16      1709000501 170900050103 16      1              17.29384    \n",
              "17      1709000501 170900050103 17      1              17.29384    \n",
              "18      1709000501 170900050103 18      1              17.29384    \n",
              "19      1709000501 170900050103 19      1              17.29384    \n",
              "20      1709000501 170900050103 20      1              17.29384    \n",
              "21      1709000501 170900050103 21      1              17.29384    \n",
              "22      1709000501 170900050103 22      1              17.29384    \n",
              "23      1709000501 170900050103 23      1              17.29384    \n",
              "24      1709000501 170900050103 24      1              17.29384    \n",
              "25      1709000501 170900050103 25      1              17.29384    \n",
              "26      1709000501 170900050103 26      1              17.29384    \n",
              "27      1709000501 170900050103 27      1              17.29384    \n",
              "28      1709000501 170900050103 28      1              17.29384    \n",
              "29      1709000501 170900050103 29      1              17.29384    \n",
              "30      1709000501 170900050103 30      1              17.29384    \n",
              "⋮       ⋮          ⋮            ⋮       ⋮              ⋮           \n",
              "5447619 1709000603 170900060301 5447619 1              22.04578    \n",
              "5447620 1709000603 170900060301 5447620 1              22.04578    \n",
              "5447621 1709000603 170900060301 5447621 1              22.04578    \n",
              "5447622 1709000603 170900060301 5447622 1              22.04578    \n",
              "5447623 1709000603 170900060301 5447623 1              22.04578    \n",
              "5447624 1709000603 170900060301 5447624 1              22.04578    \n",
              "5447625 1709000603 170900060301 5447625 1              22.04578    \n",
              "5447626 1709000603 170900060301 5447626 1              22.04578    \n",
              "5447627 1709000603 170900060301 5447627 1              22.04578    \n",
              "5447628 1709000603 170900060301 5447628 1              22.04578    \n",
              "5447629 1709000603 170900060301 5447629 1              22.04578    \n",
              "5447630 1709000603 170900060301 5447630 1              22.04578    \n",
              "5447631 1709000603 170900060301 5447631 1              22.04578    \n",
              "5447632 1709000603 170900060301 5447632 1              22.04578    \n",
              "5447633 1709000603 170900060301 5447633 1              22.04578    \n",
              "5447634 1709000603 170900060301 5447634 1              22.04578    \n",
              "5447635 1709000603 170900060301 5447635 1              22.04578    \n",
              "5447636 1709000603 170900060301 5447636 1              22.04578    \n",
              "5447637 1709000603 170900060301 5447637 1              22.04578    \n",
              "5447638 1709000603 170900060301 5447638 1              22.04578    \n",
              "5447639 1709000603 170900060301 5447639 1              22.04578    \n",
              "5447640 1709000603 170900060301 5447640 1              22.04578    \n",
              "5447641 1709000603 170900060301 5447641 1              22.04578    \n",
              "5447642 1709000603 170900060301 5447642 1              22.04578    \n",
              "5447643 1709000603 170900060301 5447643 1              22.04578    \n",
              "5447644 1709000603 170900060301 5447644 1              22.04578    \n",
              "5447645 1709000603 170900060301 5447645 1              22.04578    \n",
              "5447646 1709000603 170900060301 5447646 1              22.04578    \n",
              "5447647 1709000603 170900060301 5447647 1              22.04578    \n",
              "5447648 1709000603 170900060301 5447648 1              22.04578    "
            ]
          },
          "metadata": {}
        }
      ]
    },
    {
      "cell_type": "code",
      "source": [
        "summary_dt <- gedi_int_dt[is.na(FIRE_NAME) & min_yod < gedi_year & max_yod < gedi_year%>% as.numeric &mean_yod>1983 &!is.na(agbd) & median_preval > 0 &l4_quality_flag==1,list(\n",
        "  agbd = mean(agbd,na.rm=T),\n",
        "  agbd_sd = sd(agbd,na.rm=T),\n",
        "  agbd_cvr = sd(agbd,na.rm=T)/mean(agbd,na.rm=T),\n",
        "  mean_preval = mean(mean_preval,na.rm=T),\n",
        "  mean_mag = mean(mean_mag,na.rm=T),\n",
        "  # gedi_year_pre = mean(gedi_year %>% as.numeric,na.rm=T),\n",
        "  mean_yod = mean(mean_yod,na.rm=T),\n",
        "  n=length(agbd)\n",
        "  ),by=.(HUC8,gedi_year,gedi_vec_id)]"
      ],
      "metadata": {
        "id": "rXGcE8lqghau"
      },
      "execution_count": 499,
      "outputs": []
    },
    {
      "cell_type": "code",
      "source": [
        "summary_dt[,group_quantile:=as.integer(cut((mean_preval-mean_mag)/mean_preval, breaks = quantile(((mean_preval[n>5]-mean_mag[n>5])/mean_preval[n>5]), probs = seq(0, 1, by = 1/3),na.rm=T), labels = FALSE, include.lowest = TRUE))  %>%as.factor(),by=.()]\n"
      ],
      "metadata": {
        "id": "O_aYUYsuAgWw"
      },
      "execution_count": 500,
      "outputs": []
    },
    {
      "cell_type": "code",
      "source": [
        "summary_dt$group_quantile %>% is.na %>% table"
      ],
      "metadata": {
        "id": "Ze5POsITIv_n",
        "outputId": "f1c89320-36c0-4fcf-815d-2fa920ae048f",
        "colab": {
          "base_uri": "https://localhost:8080/",
          "height": 69
        }
      },
      "execution_count": 501,
      "outputs": [
        {
          "output_type": "display_data",
          "data": {
            "text/plain": [
              ".\n",
              "FALSE  TRUE \n",
              "55002   327 "
            ]
          },
          "metadata": {}
        }
      ]
    },
    {
      "cell_type": "code",
      "source": [
        "# summary_dt<- summary_dt[n>5,\n",
        "#   list(\n",
        "#   agbd = mean(agbd,na.rm=T),\n",
        "#   agbd_sd = sd(agbd,na.rm=T),\n",
        "#   agbd_cvr = sd(agbd,na.rm=T)/mean(agbd,na.rm=T),\n",
        "#   mean_preval = mean(mean_preval,na.rm=T),\n",
        "#   mean_mag = mean(mean_mag,na.rm=T),\n",
        "#   # gedi_year_pre = mean(gedi_year %>% as.numeric,na.rm=T),\n",
        "#   mean_yod = mean(mean_yod,na.rm=T),\n",
        "#   n=sum(n)\n",
        "#   ),by=.(HUC8,group_quantile,gedi_year,round(mean_yod))][]"
      ],
      "metadata": {
        "id": "zduF-jcVl7BS"
      },
      "execution_count": 482,
      "outputs": []
    },
    {
      "cell_type": "code",
      "source": [],
      "metadata": {
        "id": "yf8scI3dlkLl"
      },
      "execution_count": 409,
      "outputs": []
    },
    {
      "cell_type": "code",
      "source": [
        "# while(TRUE){}"
      ],
      "metadata": {
        "id": "Ee2ZCp0v1Ps6"
      },
      "execution_count": 436,
      "outputs": []
    },
    {
      "cell_type": "code",
      "source": [
        "summary_dt[!is.na(agbd_cvr) & agbd_cvr < 1 & n>5,][mean_yod ==2020]"
      ],
      "metadata": {
        "id": "PtKmUT52nDJq",
        "outputId": "508437d2-b215-42e9-aaca-8656925d2cb4",
        "colab": {
          "base_uri": "https://localhost:8080/",
          "height": 349
        }
      },
      "execution_count": 502,
      "outputs": [
        {
          "output_type": "display_data",
          "data": {
            "text/html": [
              "<table class=\"dataframe\">\n",
              "<caption>A data.table: 8 × 11</caption>\n",
              "<thead>\n",
              "\t<tr><th scope=col>HUC8</th><th scope=col>gedi_year</th><th scope=col>gedi_vec_id</th><th scope=col>agbd</th><th scope=col>agbd_sd</th><th scope=col>agbd_cvr</th><th scope=col>mean_preval</th><th scope=col>mean_mag</th><th scope=col>mean_yod</th><th scope=col>n</th><th scope=col>group_quantile</th></tr>\n",
              "\t<tr><th scope=col>&lt;chr&gt;</th><th scope=col>&lt;chr&gt;</th><th scope=col>&lt;int&gt;</th><th scope=col>&lt;dbl&gt;</th><th scope=col>&lt;dbl&gt;</th><th scope=col>&lt;dbl&gt;</th><th scope=col>&lt;dbl&gt;</th><th scope=col>&lt;dbl&gt;</th><th scope=col>&lt;dbl&gt;</th><th scope=col>&lt;int&gt;</th><th scope=col>&lt;fct&gt;</th></tr>\n",
              "</thead>\n",
              "<tbody>\n",
              "\t<tr><td>17090006</td><td>2021</td><td>174083</td><td> 97.51620</td><td>43.968128</td><td>0.4508802</td><td>829.5616</td><td>424.7496</td><td>2020</td><td>11</td><td>2</td></tr>\n",
              "\t<tr><td>17090006</td><td>2021</td><td>177105</td><td> 39.45523</td><td>21.148581</td><td>0.5360147</td><td>887.9034</td><td>360.2891</td><td>2020</td><td> 7</td><td>3</td></tr>\n",
              "\t<tr><td>17090004</td><td>2022</td><td>398516</td><td> 17.04668</td><td> 1.802924</td><td>0.1057640</td><td>860.5183</td><td>452.1512</td><td>2020</td><td> 9</td><td>1</td></tr>\n",
              "\t<tr><td>17090003</td><td>2022</td><td>197242</td><td> 40.76487</td><td>18.373687</td><td>0.4507236</td><td>893.7209</td><td>373.1579</td><td>2020</td><td> 6</td><td>3</td></tr>\n",
              "\t<tr><td>17090003</td><td>2021</td><td>305023</td><td>108.88740</td><td>45.642841</td><td>0.4191747</td><td>905.5924</td><td>475.5574</td><td>2020</td><td>11</td><td>1</td></tr>\n",
              "\t<tr><td>17090005</td><td>2021</td><td>140894</td><td> 69.15240</td><td>34.136708</td><td>0.4936446</td><td>893.8809</td><td>462.3743</td><td>2020</td><td> 8</td><td>2</td></tr>\n",
              "\t<tr><td>17090006</td><td>2021</td><td>272877</td><td> 65.39997</td><td>37.801346</td><td>0.5780025</td><td>902.0170</td><td>474.2816</td><td>2020</td><td> 6</td><td>1</td></tr>\n",
              "\t<tr><td>17090006</td><td>2021</td><td>226702</td><td> 25.58555</td><td>10.004706</td><td>0.3910296</td><td>887.2298</td><td>392.7886</td><td>2020</td><td>20</td><td>3</td></tr>\n",
              "</tbody>\n",
              "</table>\n"
            ],
            "text/markdown": "\nA data.table: 8 × 11\n\n| HUC8 &lt;chr&gt; | gedi_year &lt;chr&gt; | gedi_vec_id &lt;int&gt; | agbd &lt;dbl&gt; | agbd_sd &lt;dbl&gt; | agbd_cvr &lt;dbl&gt; | mean_preval &lt;dbl&gt; | mean_mag &lt;dbl&gt; | mean_yod &lt;dbl&gt; | n &lt;int&gt; | group_quantile &lt;fct&gt; |\n|---|---|---|---|---|---|---|---|---|---|---|\n| 17090006 | 2021 | 174083 |  97.51620 | 43.968128 | 0.4508802 | 829.5616 | 424.7496 | 2020 | 11 | 2 |\n| 17090006 | 2021 | 177105 |  39.45523 | 21.148581 | 0.5360147 | 887.9034 | 360.2891 | 2020 |  7 | 3 |\n| 17090004 | 2022 | 398516 |  17.04668 |  1.802924 | 0.1057640 | 860.5183 | 452.1512 | 2020 |  9 | 1 |\n| 17090003 | 2022 | 197242 |  40.76487 | 18.373687 | 0.4507236 | 893.7209 | 373.1579 | 2020 |  6 | 3 |\n| 17090003 | 2021 | 305023 | 108.88740 | 45.642841 | 0.4191747 | 905.5924 | 475.5574 | 2020 | 11 | 1 |\n| 17090005 | 2021 | 140894 |  69.15240 | 34.136708 | 0.4936446 | 893.8809 | 462.3743 | 2020 |  8 | 2 |\n| 17090006 | 2021 | 272877 |  65.39997 | 37.801346 | 0.5780025 | 902.0170 | 474.2816 | 2020 |  6 | 1 |\n| 17090006 | 2021 | 226702 |  25.58555 | 10.004706 | 0.3910296 | 887.2298 | 392.7886 | 2020 | 20 | 3 |\n\n",
            "text/latex": "A data.table: 8 × 11\n\\begin{tabular}{lllllllllll}\n HUC8 & gedi\\_year & gedi\\_vec\\_id & agbd & agbd\\_sd & agbd\\_cvr & mean\\_preval & mean\\_mag & mean\\_yod & n & group\\_quantile\\\\\n <chr> & <chr> & <int> & <dbl> & <dbl> & <dbl> & <dbl> & <dbl> & <dbl> & <int> & <fct>\\\\\n\\hline\n\t 17090006 & 2021 & 174083 &  97.51620 & 43.968128 & 0.4508802 & 829.5616 & 424.7496 & 2020 & 11 & 2\\\\\n\t 17090006 & 2021 & 177105 &  39.45523 & 21.148581 & 0.5360147 & 887.9034 & 360.2891 & 2020 &  7 & 3\\\\\n\t 17090004 & 2022 & 398516 &  17.04668 &  1.802924 & 0.1057640 & 860.5183 & 452.1512 & 2020 &  9 & 1\\\\\n\t 17090003 & 2022 & 197242 &  40.76487 & 18.373687 & 0.4507236 & 893.7209 & 373.1579 & 2020 &  6 & 3\\\\\n\t 17090003 & 2021 & 305023 & 108.88740 & 45.642841 & 0.4191747 & 905.5924 & 475.5574 & 2020 & 11 & 1\\\\\n\t 17090005 & 2021 & 140894 &  69.15240 & 34.136708 & 0.4936446 & 893.8809 & 462.3743 & 2020 &  8 & 2\\\\\n\t 17090006 & 2021 & 272877 &  65.39997 & 37.801346 & 0.5780025 & 902.0170 & 474.2816 & 2020 &  6 & 1\\\\\n\t 17090006 & 2021 & 226702 &  25.58555 & 10.004706 & 0.3910296 & 887.2298 & 392.7886 & 2020 & 20 & 3\\\\\n\\end{tabular}\n",
            "text/plain": [
              "  HUC8     gedi_year gedi_vec_id agbd      agbd_sd   agbd_cvr  mean_preval\n",
              "1 17090006 2021      174083       97.51620 43.968128 0.4508802 829.5616   \n",
              "2 17090006 2021      177105       39.45523 21.148581 0.5360147 887.9034   \n",
              "3 17090004 2022      398516       17.04668  1.802924 0.1057640 860.5183   \n",
              "4 17090003 2022      197242       40.76487 18.373687 0.4507236 893.7209   \n",
              "5 17090003 2021      305023      108.88740 45.642841 0.4191747 905.5924   \n",
              "6 17090005 2021      140894       69.15240 34.136708 0.4936446 893.8809   \n",
              "7 17090006 2021      272877       65.39997 37.801346 0.5780025 902.0170   \n",
              "8 17090006 2021      226702       25.58555 10.004706 0.3910296 887.2298   \n",
              "  mean_mag mean_yod n  group_quantile\n",
              "1 424.7496 2020     11 2             \n",
              "2 360.2891 2020      7 3             \n",
              "3 452.1512 2020      9 1             \n",
              "4 373.1579 2020      6 3             \n",
              "5 475.5574 2020     11 1             \n",
              "6 462.3743 2020      8 2             \n",
              "7 474.2816 2020      6 1             \n",
              "8 392.7886 2020     20 3             "
            ]
          },
          "metadata": {}
        }
      ]
    },
    {
      "cell_type": "code",
      "source": [
        "summary_dt[n>5,] %>%\n",
        "  ggplot(aes(x=(2023-mean_yod),y=agbd/(2023-mean_yod),weight=n))+\n",
        "    # geom_point(aes(color=group_quantile))+\n",
        "    geom_smooth(aes(color=group_quantile)) +\n",
        "    facet_wrap(~HUC8)"
      ],
      "metadata": {
        "id": "mwzqhrfWhHi4",
        "outputId": "be0efb9a-4729-4e47-a2c1-94bf98d7d2e7",
        "colab": {
          "base_uri": "https://localhost:8080/",
          "height": 454
        }
      },
      "execution_count": 503,
      "outputs": [
        {
          "output_type": "stream",
          "name": "stderr",
          "text": [
            "\u001b[1m\u001b[22m`geom_smooth()` using method = 'gam' and formula = 'y ~ s(x, bs = \"cs\")'\n"
          ]
        },
        {
          "output_type": "display_data",
          "data": {
            "text/plain": [
              "plot without title"
            ],
            "image/png": "[encoded data removed]"
          },
          "metadata": {
            "image/png": {
              "width": 420,
              "height": 420
            }
          }
        }
      ]
    },
    {
      "cell_type": "code",
      "source": [
        "summary_dt[gedi_vec_id == '142615']"
      ],
      "metadata": {
        "id": "qdodlxfhhY10",
        "outputId": "97ea1140-a552-4edd-abfb-e0d0b2898904",
        "colab": {
          "base_uri": "https://localhost:8080/",
          "height": 474
        }
      },
      "execution_count": 282,
      "outputs": [
        {
          "output_type": "display_data",
          "data": {
            "text/html": [
              "<table class=\"dataframe\">\n",
              "<caption>A data.table: 12 × 11</caption>\n",
              "<thead>\n",
              "\t<tr><th scope=col>HUC8</th><th scope=col>HUC10</th><th scope=col>HUC12</th><th scope=col>gedi_year</th><th scope=col>gedi_vec_id</th><th scope=col>agbd</th><th scope=col>mean_preval</th><th scope=col>mean_mag</th><th scope=col>gedi_year_pre</th><th scope=col>mean_yod</th><th scope=col>n</th></tr>\n",
              "\t<tr><th scope=col>&lt;chr&gt;</th><th scope=col>&lt;chr&gt;</th><th scope=col>&lt;chr&gt;</th><th scope=col>&lt;chr&gt;</th><th scope=col>&lt;int&gt;</th><th scope=col>&lt;dbl&gt;</th><th scope=col>&lt;dbl&gt;</th><th scope=col>&lt;dbl&gt;</th><th scope=col>&lt;dbl&gt;</th><th scope=col>&lt;dbl&gt;</th><th scope=col>&lt;int&gt;</th></tr>\n",
              "</thead>\n",
              "<tbody>\n",
              "\t<tr><td>17090005</td><td>1709000501</td><td>170900050101</td><td>2019</td><td>142615</td><td>109.39169</td><td>761.8733</td><td>487.8310</td><td>2019</td><td>2018.006</td><td> 73</td></tr>\n",
              "\t<tr><td>17090005</td><td>1709000501</td><td>170900050101</td><td>2020</td><td>142615</td><td> 86.54429</td><td>760.1330</td><td>475.8446</td><td>2020</td><td>2018.012</td><td> 38</td></tr>\n",
              "\t<tr><td>17090005</td><td>1709000501</td><td>170900050101</td><td>2022</td><td>142615</td><td> 75.19495</td><td>758.9464</td><td>482.5294</td><td>2022</td><td>2017.724</td><td> 93</td></tr>\n",
              "\t<tr><td>17090005</td><td>1709000501</td><td>170900050101</td><td>2021</td><td>142615</td><td> 96.01946</td><td>771.4088</td><td>479.7210</td><td>2021</td><td>2018.026</td><td> 65</td></tr>\n",
              "\t<tr><td>17090005</td><td>1709000502</td><td>170900050206</td><td>2019</td><td>142615</td><td> 87.91749</td><td>784.1903</td><td>516.0391</td><td>2019</td><td>2018.001</td><td>223</td></tr>\n",
              "\t<tr><td>17090005</td><td>1709000502</td><td>170900050204</td><td>2019</td><td>142615</td><td> 90.34049</td><td>785.8902</td><td>365.9285</td><td>2019</td><td>2017.721</td><td> 37</td></tr>\n",
              "\t<tr><td>17090005</td><td>1709000502</td><td>170900050206</td><td>2022</td><td>142615</td><td> 67.91666</td><td>808.3347</td><td>525.1459</td><td>2022</td><td>2018.039</td><td>231</td></tr>\n",
              "\t<tr><td>17090005</td><td>1709000502</td><td>170900050204</td><td>2022</td><td>142615</td><td> 47.35596</td><td>789.1913</td><td>374.9901</td><td>2022</td><td>2017.824</td><td> 42</td></tr>\n",
              "\t<tr><td>17090005</td><td>1709000502</td><td>170900050206</td><td>2020</td><td>142615</td><td> 81.76872</td><td>806.6461</td><td>522.9308</td><td>2020</td><td>2018.017</td><td>219</td></tr>\n",
              "\t<tr><td>17090005</td><td>1709000502</td><td>170900050204</td><td>2020</td><td>142615</td><td> 72.71387</td><td>772.0012</td><td>386.3235</td><td>2020</td><td>2017.879</td><td> 44</td></tr>\n",
              "\t<tr><td>17090005</td><td>1709000502</td><td>170900050206</td><td>2021</td><td>142615</td><td> 69.00503</td><td>817.5100</td><td>533.2708</td><td>2021</td><td>2018.011</td><td>212</td></tr>\n",
              "\t<tr><td>17090005</td><td>1709000502</td><td>170900050204</td><td>2021</td><td>142615</td><td> 46.32875</td><td>774.0110</td><td>368.6585</td><td>2021</td><td>2017.404</td><td>121</td></tr>\n",
              "</tbody>\n",
              "</table>\n"
            ],
            "text/markdown": "\nA data.table: 12 × 11\n\n| HUC8 &lt;chr&gt; | HUC10 &lt;chr&gt; | HUC12 &lt;chr&gt; | gedi_year &lt;chr&gt; | gedi_vec_id &lt;int&gt; | agbd &lt;dbl&gt; | mean_preval &lt;dbl&gt; | mean_mag &lt;dbl&gt; | gedi_year_pre &lt;dbl&gt; | mean_yod &lt;dbl&gt; | n &lt;int&gt; |\n|---|---|---|---|---|---|---|---|---|---|---|\n| 17090005 | 1709000501 | 170900050101 | 2019 | 142615 | 109.39169 | 761.8733 | 487.8310 | 2019 | 2018.006 |  73 |\n| 17090005 | 1709000501 | 170900050101 | 2020 | 142615 |  86.54429 | 760.1330 | 475.8446 | 2020 | 2018.012 |  38 |\n| 17090005 | 1709000501 | 170900050101 | 2022 | 142615 |  75.19495 | 758.9464 | 482.5294 | 2022 | 2017.724 |  93 |\n| 17090005 | 1709000501 | 170900050101 | 2021 | 142615 |  96.01946 | 771.4088 | 479.7210 | 2021 | 2018.026 |  65 |\n| 17090005 | 1709000502 | 170900050206 | 2019 | 142615 |  87.91749 | 784.1903 | 516.0391 | 2019 | 2018.001 | 223 |\n| 17090005 | 1709000502 | 170900050204 | 2019 | 142615 |  90.34049 | 785.8902 | 365.9285 | 2019 | 2017.721 |  37 |\n| 17090005 | 1709000502 | 170900050206 | 2022 | 142615 |  67.91666 | 808.3347 | 525.1459 | 2022 | 2018.039 | 231 |\n| 17090005 | 1709000502 | 170900050204 | 2022 | 142615 |  47.35596 | 789.1913 | 374.9901 | 2022 | 2017.824 |  42 |\n| 17090005 | 1709000502 | 170900050206 | 2020 | 142615 |  81.76872 | 806.6461 | 522.9308 | 2020 | 2018.017 | 219 |\n| 17090005 | 1709000502 | 170900050204 | 2020 | 142615 |  72.71387 | 772.0012 | 386.3235 | 2020 | 2017.879 |  44 |\n| 17090005 | 1709000502 | 170900050206 | 2021 | 142615 |  69.00503 | 817.5100 | 533.2708 | 2021 | 2018.011 | 212 |\n| 17090005 | 1709000502 | 170900050204 | 2021 | 142615 |  46.32875 | 774.0110 | 368.6585 | 2021 | 2017.404 | 121 |\n\n",
            "text/latex": "A data.table: 12 × 11\n\\begin{tabular}{lllllllllll}\n HUC8 & HUC10 & HUC12 & gedi\\_year & gedi\\_vec\\_id & agbd & mean\\_preval & mean\\_mag & gedi\\_year\\_pre & mean\\_yod & n\\\\\n <chr> & <chr> & <chr> & <chr> & <int> & <dbl> & <dbl> & <dbl> & <dbl> & <dbl> & <int>\\\\\n\\hline\n\t 17090005 & 1709000501 & 170900050101 & 2019 & 142615 & 109.39169 & 761.8733 & 487.8310 & 2019 & 2018.006 &  73\\\\\n\t 17090005 & 1709000501 & 170900050101 & 2020 & 142615 &  86.54429 & 760.1330 & 475.8446 & 2020 & 2018.012 &  38\\\\\n\t 17090005 & 1709000501 & 170900050101 & 2022 & 142615 &  75.19495 & 758.9464 & 482.5294 & 2022 & 2017.724 &  93\\\\\n\t 17090005 & 1709000501 & 170900050101 & 2021 & 142615 &  96.01946 & 771.4088 & 479.7210 & 2021 & 2018.026 &  65\\\\\n\t 17090005 & 1709000502 & 170900050206 & 2019 & 142615 &  87.91749 & 784.1903 & 516.0391 & 2019 & 2018.001 & 223\\\\\n\t 17090005 & 1709000502 & 170900050204 & 2019 & 142615 &  90.34049 & 785.8902 & 365.9285 & 2019 & 2017.721 &  37\\\\\n\t 17090005 & 1709000502 & 170900050206 & 2022 & 142615 &  67.91666 & 808.3347 & 525.1459 & 2022 & 2018.039 & 231\\\\\n\t 17090005 & 1709000502 & 170900050204 & 2022 & 142615 &  47.35596 & 789.1913 & 374.9901 & 2022 & 2017.824 &  42\\\\\n\t 17090005 & 1709000502 & 170900050206 & 2020 & 142615 &  81.76872 & 806.6461 & 522.9308 & 2020 & 2018.017 & 219\\\\\n\t 17090005 & 1709000502 & 170900050204 & 2020 & 142615 &  72.71387 & 772.0012 & 386.3235 & 2020 & 2017.879 &  44\\\\\n\t 17090005 & 1709000502 & 170900050206 & 2021 & 142615 &  69.00503 & 817.5100 & 533.2708 & 2021 & 2018.011 & 212\\\\\n\t 17090005 & 1709000502 & 170900050204 & 2021 & 142615 &  46.32875 & 774.0110 & 368.6585 & 2021 & 2017.404 & 121\\\\\n\\end{tabular}\n",
            "text/plain": [
              "   HUC8     HUC10      HUC12        gedi_year gedi_vec_id agbd      mean_preval\n",
              "1  17090005 1709000501 170900050101 2019      142615      109.39169 761.8733   \n",
              "2  17090005 1709000501 170900050101 2020      142615       86.54429 760.1330   \n",
              "3  17090005 1709000501 170900050101 2022      142615       75.19495 758.9464   \n",
              "4  17090005 1709000501 170900050101 2021      142615       96.01946 771.4088   \n",
              "5  17090005 1709000502 170900050206 2019      142615       87.91749 784.1903   \n",
              "6  17090005 1709000502 170900050204 2019      142615       90.34049 785.8902   \n",
              "7  17090005 1709000502 170900050206 2022      142615       67.91666 808.3347   \n",
              "8  17090005 1709000502 170900050204 2022      142615       47.35596 789.1913   \n",
              "9  17090005 1709000502 170900050206 2020      142615       81.76872 806.6461   \n",
              "10 17090005 1709000502 170900050204 2020      142615       72.71387 772.0012   \n",
              "11 17090005 1709000502 170900050206 2021      142615       69.00503 817.5100   \n",
              "12 17090005 1709000502 170900050204 2021      142615       46.32875 774.0110   \n",
              "   mean_mag gedi_year_pre mean_yod n  \n",
              "1  487.8310 2019          2018.006  73\n",
              "2  475.8446 2020          2018.012  38\n",
              "3  482.5294 2022          2017.724  93\n",
              "4  479.7210 2021          2018.026  65\n",
              "5  516.0391 2019          2018.001 223\n",
              "6  365.9285 2019          2017.721  37\n",
              "7  525.1459 2022          2018.039 231\n",
              "8  374.9901 2022          2017.824  42\n",
              "9  522.9308 2020          2018.017 219\n",
              "10 386.3235 2020          2017.879  44\n",
              "11 533.2708 2021          2018.011 212\n",
              "12 368.6585 2021          2017.404 121"
            ]
          },
          "metadata": {}
        }
      ]
    },
    {
      "cell_type": "code",
      "source": [
        "gedi_int_dt[!(gedi_int_dt$HUC8 %>% is.na) & is.na(FIRE_NAME) & !(gedi_int_dt$HUC10 %>% is.na) &min_yod>1980 & gedi_year>min_yod  & gedi_year>max_yod   & !is.na(agbd) &l4_quality_flag==1,][,list(agbd = mean(agbd,na.rm=T),mean_conus_2003 = mean(mean_conus_2003,na.rm=T),mean_hja_2008 = mean(mean_hja_2008,na.rm=T),mean_conus_2016 = mean(mean_conus_2016,na.rm=T),min_yod = mean(min_yod,na.rm=T),biomass_init= mean(biomass_init,na.rm=T)),by=.(gedi_year,gedi_vec_id,group_quantile,HUC8,HUC10,HUC12)] %>%\n",
        "  ggplot(aes(x=2023-min_yod,y=(agbd)/(2023-min_yod)))+\n",
        "  # geom_point( ) +\n",
        "  # geom_point(aes(y=mean_conus_2003,color='MODIS 2003' %>% factor(levels = c('GEDI','ALS, 2008','MODIS 2003','LS, 2016'))) ) +\n",
        "  # geom_point(aes(y=mean_hja_2008,color='ALS, 2008' %>% factor(levels = c('GEDI','ALS, 2008','MODIS 2003','LS, 2016')))  ) +\n",
        "  # geom_point(aes(y=mean_conus_2016,color='LS, 2016' %>% factor(levels = c('GEDI','ALS, 2008','MODIS 2003','LS, 2016')))  )+\n",
        "  # geom_abline(color='red') +\n",
        "  geom_smooth(aes(color=group_quantile %>% as.factor,group = group_quantile) ) +\n",
        "  # geom_boxplot(aes(color=HUC8 %>% as.factor,group = 2023-min_yod) ) +\n",
        "  geom_smooth(aes(group = HUC8),color='red') +\n",
        "  # geom_smooth(aes(y=mean_conus_2003,color='MODIS 2003' %>% factor(levels = c('GEDI','ALS, 2008','MODIS 2003','LS, 2016'))) ) +\n",
        "  # geom_smooth(aes(y=mean_hja_2008,color='ALS, 2008' %>% factor(levels = c('GEDI','ALS, 2008','MODIS 2003','LS, 2016'))) ) +\n",
        "  # geom_smooth(aes(y=mean_conus_2016,color='LS, 2016' %>% factor(levels = c('GEDI','ALS, 2008','MODIS 2003','LS, 2016'))) ) +\n",
        "  # Hide the annotations\n",
        "  # Manually add custom legend\n",
        "  xlim(0,10)+\n",
        "  xlab('years after disturbance')+\n",
        "  # scale_color_manual(\n",
        "  #   values = c('GEDI' = 'green', 'MODIS 2003' = 'red', 'ALS, 2008' = 'purple', 'LS, 2016' = 'salmon'),\n",
        "  #   name = 'agbd source',  # Changing the name of the legend here  #   breaks = c('GEDI','MODIS 2003','ALS, 2008','LS, 2016'),\n",
        "  #   labels = c('GEDI', 'MODIS 2003', 'ALS, 2008','LS, 2016'),\n",
        "  #   position = 'bottom') +\n",
        "  theme(legend.position = 'bottom')+\n",
        "  facet_wrap(HUC8~.)\n"
      ],
      "metadata": {
        "id": "Fc_rzdmhmkcM",
        "outputId": "3f243645-1cd8-44eb-b10f-17b73d3db202",
        "colab": {
          "base_uri": "https://localhost:8080/",
          "height": 611
        }
      },
      "execution_count": 509,
      "outputs": [
        {
          "output_type": "stream",
          "name": "stderr",
          "text": [
            "\u001b[1m\u001b[22m`geom_smooth()` using method = 'gam' and formula = 'y ~ s(x, bs = \"cs\")'\n",
            "Warning message:\n",
            "“\u001b[1m\u001b[22mRemoved 63422 rows containing non-finite values (`stat_smooth()`).”\n",
            "Warning message:\n",
            "“\u001b[1m\u001b[22mComputation failed in `stat_smooth()`\n",
            "Caused by error in `smooth.construct.cr.smooth.spec()`:\n",
            "\u001b[33m!\u001b[39m x has insufficient unique values to support 10 knots: reduce k.”\n",
            "\u001b[1m\u001b[22m`geom_smooth()` using method = 'gam' and formula = 'y ~ s(x, bs = \"cs\")'\n",
            "Warning message:\n",
            "“\u001b[1m\u001b[22mRemoved 63422 rows containing non-finite values (`stat_smooth()`).”\n"
          ]
        },
        {
          "output_type": "display_data",
          "data": {
            "text/plain": [
              "plot without title"
            ],
            "image/png": "[encoded data removed]"
          },
          "metadata": {
            "image/png": {
              "width": 420,
              "height": 420
            }
          }
        }
      ]
    },
    {
      "cell_type": "code",
      "source": [
        "facet_labels <- c(\n",
        "  \"TRUE\" = \"Harvest related disturbance\",\n",
        "  \"FALSE\" = \"Fire related disturbance\"\n",
        ")\n",
        "gedi_int_dt[min_yod>1980 & gedi_year>min_yod+5 &gedi_vec_area>1000 & !is.na(agbd)  &l4_quality_flag==1,][,list(agbd = mean(agbd,na.rm=T),mean_conus_2003 = mean(mean_conus_2003,na.rm=T),mean_hja_2008 = mean(mean_hja_2008,na.rm=T),mean_conus_2016 = mean(mean_conus_2016,na.rm=T),min_yod = mean(min_yod,na.rm=T),class = is.na(FIRE_INC_ID)),by=.(FIRE_NAME,LandManager,gedi_year,gedi_vec_id)] %>%\n",
        "  ggplot(aes(x=2023-min_yod,y=agbd,color=LandManager))+\n",
        "  # geom_point( ) +\n",
        "  # geom_point(aes(y=mean_conus_2003,color='MODIS 2003' %>% factor(levels = c('GEDI','ALS, 2008','MODIS 2003','LS, 2016'))) ) +\n",
        "  # geom_point(aes(y=mean_hja_2008,color='ALS, 2008' %>% factor(levels = c('GEDI','ALS, 2008','MODIS 2003','LS, 2016')))  ) +\n",
        "  # geom_point(aes(y=mean_conus_2016,color='LS, 2016' %>% factor(levels = c('GEDI','ALS, 2008','MODIS 2003','LS, 2016')))  )+\n",
        "  # geom_abline(color='red') +\n",
        "  geom_smooth( ) +\n",
        "  # geom_smooth(aes(y=mean_conus_2003,color='MODIS 2003' %>% factor(levels = c('GEDI','ALS, 2008','MODIS 2003','LS, 2016'))) ) +\n",
        "  # geom_smooth(aes(y=mean_hja_2008,color='ALS, 2008' %>% factor(levels = c('GEDI','ALS, 2008','MODIS 2003','LS, 2016'))) ) +\n",
        "  # geom_smooth(aes(y=mean_conus_2016,color='LS, 2016' %>% factor(levels = c('GEDI','ALS, 2008','MODIS 2003','LS, 2016'))) ) +\n",
        "  # Hide the annotations\n",
        "  # Manually add custom legend\n",
        "  xlab('years after disturbance')+\n",
        "  # scale_color_manual(\n",
        "  #   values = c('GEDI' = 'green', 'MODIS 2003' = 'red', 'ALS, 2008' = 'purple', 'LS, 2016' = 'salmon'),\n",
        "  #   name = 'agbd source',  # Changing the name of the legend here\n",
        "  #   breaks = c('GEDI','MODIS 2003','ALS, 2008','LS, 2016'),\n",
        "  #   labels = c('GEDI', 'MODIS 2003', 'ALS, 2008','LS, 2016'),\n",
        "  #   position = 'bottom') +\n",
        "  theme(legend.position = 'bottom')+\n",
        "  facet_grid(class~., labeller = as_labeller(facet_labels))\n"
      ],
      "metadata": {
        "id": "SrtYZgNnNB_9",
        "outputId": "de3671b5-eb7e-4e65-a466-cd5053bf227b",
        "colab": {
          "base_uri": "https://localhost:8080/",
          "height": 454
        }
      },
      "execution_count": 30,
      "outputs": [
        {
          "output_type": "stream",
          "name": "stderr",
          "text": [
            "\u001b[1m\u001b[22m`geom_smooth()` using method = 'gam' and formula = 'y ~ s(x, bs = \"cs\")'\n"
          ]
        },
        {
          "output_type": "display_data",
          "data": {
            "text/plain": [
              "plot without title"
            ],
            "image/png": "[encoded data removed]"
          },
          "metadata": {
            "image/png": {
              "width": 420,
              "height": 420
            }
          }
        }
      ]
    },
    {
      "cell_type": "code",
      "source": [
        "gedi_int_dt %>% names"
      ],
      "metadata": {
        "id": "y7WkPJlGUU4L",
        "outputId": "a4df89bf-2c12-4506-a498-c86d00d11b51",
        "colab": {
          "base_uri": "https://localhost:8080/",
          "height": 104
        }
      },
      "execution_count": 31,
      "outputs": [
        {
          "output_type": "display_data",
          "data": {
            "text/html": [
              "<style>\n",
              ".list-inline {list-style: none; margin:0; padding: 0}\n",
              ".list-inline>li {display: inline-block}\n",
              ".list-inline>li:not(:last-child)::after {content: \"\\00b7\"; padding: 0 .5ex}\n",
              "</style>\n",
              "<ol class=list-inline><li>'agbd'</li><li>'lat_lowestmode'</li><li>'lon_lowestmode'</li><li>'agbd_pi_lower'</li><li>'agbd_pi_upper'</li><li>'agbd_se'</li><li>'agbd_t'</li><li>'agbd_t_se'</li><li>'algorithm_run_flag'</li><li>'channel'</li><li>'degrade_flag'</li><li>'delta_time'</li><li>'elev_lowestmode'</li><li>'l2_quality_flag'</li><li>'l4_quality_flag'</li><li>'gedi_year'</li><li>'min_yod'</li><li>'min_mag'</li><li>'min_dur'</li><li>'min_preval'</li><li>'min_rate'</li><li>'min_dsnr'</li><li>'max_yod'</li><li>'max_mag'</li><li>'max_dur'</li><li>'max_preval'</li><li>'max_rate'</li><li>'max_dsnr'</li><li>'mean_yod'</li><li>'mean_mag'</li><li>'mean_dur'</li><li>'mean_preval'</li><li>'mean_rate'</li><li>'mean_dsnr'</li><li>'median_yod'</li><li>'median_mag'</li><li>'median_dur'</li><li>'median_preval'</li><li>'median_rate'</li><li>'median_dsnr'</li><li>'min_hja_2008'</li><li>'max_hja_2008'</li><li>'mean_hja_2008'</li><li>'median_hja_2008'</li><li>'min_conus_2003'</li><li>'max_conus_2003'</li><li>'mean_conus_2003'</li><li>'median_conus_2003'</li><li>'min_conus_2016'</li><li>'max_conus_2016'</li><li>'mean_conus_2016'</li><li>'median_conus_2016'</li><li>'gedi_vec_id'</li><li>'gedi_vec_year'</li><li>'gedi_vec_area'</li><li>'Ownership'</li><li>'LandManager'</li><li>'FIRE_INC_ID'</li><li>'FIRE_NAME'</li><li>'FIRE_YEAR'</li><li>'geom'</li><li>'HUC8'</li><li>'HUC10'</li><li>'HUC12'</li></ol>\n"
            ],
            "text/markdown": "1. 'agbd'\n2. 'lat_lowestmode'\n3. 'lon_lowestmode'\n4. 'agbd_pi_lower'\n5. 'agbd_pi_upper'\n6. 'agbd_se'\n7. 'agbd_t'\n8. 'agbd_t_se'\n9. 'algorithm_run_flag'\n10. 'channel'\n11. 'degrade_flag'\n12. 'delta_time'\n13. 'elev_lowestmode'\n14. 'l2_quality_flag'\n15. 'l4_quality_flag'\n16. 'gedi_year'\n17. 'min_yod'\n18. 'min_mag'\n19. 'min_dur'\n20. 'min_preval'\n21. 'min_rate'\n22. 'min_dsnr'\n23. 'max_yod'\n24. 'max_mag'\n25. 'max_dur'\n26. 'max_preval'\n27. 'max_rate'\n28. 'max_dsnr'\n29. 'mean_yod'\n30. 'mean_mag'\n31. 'mean_dur'\n32. 'mean_preval'\n33. 'mean_rate'\n34. 'mean_dsnr'\n35. 'median_yod'\n36. 'median_mag'\n37. 'median_dur'\n38. 'median_preval'\n39. 'median_rate'\n40. 'median_dsnr'\n41. 'min_hja_2008'\n42. 'max_hja_2008'\n43. 'mean_hja_2008'\n44. 'median_hja_2008'\n45. 'min_conus_2003'\n46. 'max_conus_2003'\n47. 'mean_conus_2003'\n48. 'median_conus_2003'\n49. 'min_conus_2016'\n50. 'max_conus_2016'\n51. 'mean_conus_2016'\n52. 'median_conus_2016'\n53. 'gedi_vec_id'\n54. 'gedi_vec_year'\n55. 'gedi_vec_area'\n56. 'Ownership'\n57. 'LandManager'\n58. 'FIRE_INC_ID'\n59. 'FIRE_NAME'\n60. 'FIRE_YEAR'\n61. 'geom'\n62. 'HUC8'\n63. 'HUC10'\n64. 'HUC12'\n\n\n",
            "text/latex": "\\begin{enumerate*}\n\\item 'agbd'\n\\item 'lat\\_lowestmode'\n\\item 'lon\\_lowestmode'\n\\item 'agbd\\_pi\\_lower'\n\\item 'agbd\\_pi\\_upper'\n\\item 'agbd\\_se'\n\\item 'agbd\\_t'\n\\item 'agbd\\_t\\_se'\n\\item 'algorithm\\_run\\_flag'\n\\item 'channel'\n\\item 'degrade\\_flag'\n\\item 'delta\\_time'\n\\item 'elev\\_lowestmode'\n\\item 'l2\\_quality\\_flag'\n\\item 'l4\\_quality\\_flag'\n\\item 'gedi\\_year'\n\\item 'min\\_yod'\n\\item 'min\\_mag'\n\\item 'min\\_dur'\n\\item 'min\\_preval'\n\\item 'min\\_rate'\n\\item 'min\\_dsnr'\n\\item 'max\\_yod'\n\\item 'max\\_mag'\n\\item 'max\\_dur'\n\\item 'max\\_preval'\n\\item 'max\\_rate'\n\\item 'max\\_dsnr'\n\\item 'mean\\_yod'\n\\item 'mean\\_mag'\n\\item 'mean\\_dur'\n\\item 'mean\\_preval'\n\\item 'mean\\_rate'\n\\item 'mean\\_dsnr'\n\\item 'median\\_yod'\n\\item 'median\\_mag'\n\\item 'median\\_dur'\n\\item 'median\\_preval'\n\\item 'median\\_rate'\n\\item 'median\\_dsnr'\n\\item 'min\\_hja\\_2008'\n\\item 'max\\_hja\\_2008'\n\\item 'mean\\_hja\\_2008'\n\\item 'median\\_hja\\_2008'\n\\item 'min\\_conus\\_2003'\n\\item 'max\\_conus\\_2003'\n\\item 'mean\\_conus\\_2003'\n\\item 'median\\_conus\\_2003'\n\\item 'min\\_conus\\_2016'\n\\item 'max\\_conus\\_2016'\n\\item 'mean\\_conus\\_2016'\n\\item 'median\\_conus\\_2016'\n\\item 'gedi\\_vec\\_id'\n\\item 'gedi\\_vec\\_year'\n\\item 'gedi\\_vec\\_area'\n\\item 'Ownership'\n\\item 'LandManager'\n\\item 'FIRE\\_INC\\_ID'\n\\item 'FIRE\\_NAME'\n\\item 'FIRE\\_YEAR'\n\\item 'geom'\n\\item 'HUC8'\n\\item 'HUC10'\n\\item 'HUC12'\n\\end{enumerate*}\n",
            "text/plain": [
              " [1] \"agbd\"               \"lat_lowestmode\"     \"lon_lowestmode\"    \n",
              " [4] \"agbd_pi_lower\"      \"agbd_pi_upper\"      \"agbd_se\"           \n",
              " [7] \"agbd_t\"             \"agbd_t_se\"          \"algorithm_run_flag\"\n",
              "[10] \"channel\"            \"degrade_flag\"       \"delta_time\"        \n",
              "[13] \"elev_lowestmode\"    \"l2_quality_flag\"    \"l4_quality_flag\"   \n",
              "[16] \"gedi_year\"          \"min_yod\"            \"min_mag\"           \n",
              "[19] \"min_dur\"            \"min_preval\"         \"min_rate\"          \n",
              "[22] \"min_dsnr\"           \"max_yod\"            \"max_mag\"           \n",
              "[25] \"max_dur\"            \"max_preval\"         \"max_rate\"          \n",
              "[28] \"max_dsnr\"           \"mean_yod\"           \"mean_mag\"          \n",
              "[31] \"mean_dur\"           \"mean_preval\"        \"mean_rate\"         \n",
              "[34] \"mean_dsnr\"          \"median_yod\"         \"median_mag\"        \n",
              "[37] \"median_dur\"         \"median_preval\"      \"median_rate\"       \n",
              "[40] \"median_dsnr\"        \"min_hja_2008\"       \"max_hja_2008\"      \n",
              "[43] \"mean_hja_2008\"      \"median_hja_2008\"    \"min_conus_2003\"    \n",
              "[46] \"max_conus_2003\"     \"mean_conus_2003\"    \"median_conus_2003\" \n",
              "[49] \"min_conus_2016\"     \"max_conus_2016\"     \"mean_conus_2016\"   \n",
              "[52] \"median_conus_2016\"  \"gedi_vec_id\"        \"gedi_vec_year\"     \n",
              "[55] \"gedi_vec_area\"      \"Ownership\"          \"LandManager\"       \n",
              "[58] \"FIRE_INC_ID\"        \"FIRE_NAME\"          \"FIRE_YEAR\"         \n",
              "[61] \"geom\"               \"HUC8\"               \"HUC10\"             \n",
              "[64] \"HUC12\"             "
            ]
          },
          "metadata": {}
        }
      ]
    },
    {
      "cell_type": "code",
      "source": [
        "gedi_int_dt[,shot_id := 1:length(lat_lowestmode)]"
      ],
      "metadata": {
        "id": "CocQUasYqHUu"
      },
      "execution_count": 32,
      "outputs": []
    },
    {
      "cell_type": "code",
      "source": [
        "# distrubance_dt[n>5 &n <101][,nrow := length(agbd),by=gedi_vec_id][,include:= all(c(TRUE, FALSE) %in% pre_disturbance),by=gedi_vec_id][include == TRUE][nrow>3] %>% head"
      ],
      "metadata": {
        "id": "1CnAFLNvuKI2"
      },
      "execution_count": 33,
      "outputs": []
    },
    {
      "cell_type": "code",
      "source": [
        "# distrubance_dt <- gedi_int_dt[order(gedi_vec_id,gedi_year)][gedi_vec_area>0 &algorithm_run_flag==1&min_yod>0][,list( n=length(agbd),agbd = mean(agbd,na.rm=T),agbd_sd = sd(agbd,na.rm=T),mean_preval = mean(mean_preval,na.rm=T),mean_mag = mean(mean_mag,na.rm=T),mean_postval = mean(mean_preval,na.rm=T)-mean(mean_mag,na.rm=T),disturbance_min = mean(min_yod,na.rm=T),disturbance_max = mean(max_yod,na.rm=T),pre_disturbance = (gedi_year %>% as.numeric) < mean(min_yod,na.rm=T),shot_id = list(unique(shot_id))),by=.(gedi_vec_id,gedi_year)]\n",
        "# distrubance_dt %>% head()\n",
        "\n",
        "distrubance_summary_dt <-\n",
        "distrubance_dt[n>5 ][,nrow := length(agbd),by=gedi_vec_id][,include:= all(c(TRUE, FALSE) %in% pre_disturbance),by=gedi_vec_id][include == TRUE][nrow>1]  %>%\n",
        "split(.,.$gedi_vec_id) %>%\n",
        "lapply(function(x){\n",
        "data.table(\n",
        "  gedi_vec_id = (x$gedi_vec_id %>% unique) %>% unlist,\n",
        "  agbd_pre = mean(gedi_int_dt[x[gedi_year == min(gedi_year)]$shot_id %>% unlist,]$agbd,na.rm=T),\n",
        "  agbd_post = mean(gedi_int_dt[x[gedi_year == max(gedi_year)]$shot_id %>% unlist,]$agbd,na.rm=T),\n",
        "  mean_preval = mean(gedi_int_dt[x $shot_id %>% unlist,]$mean_preval,na.rm=T),\n",
        "  mean_mag = mean(gedi_int_dt[x $shot_id %>% unlist,]$mean_mag,na.rm=T))\n",
        "}) %>% rbindlist()\n",
        "# ggplot(aes(y=angbd,x=gedi_year %>% as.numeric))+\n",
        "\n",
        "# geom_smooth(aes(y=agbd,x=gedi_year %>% as.numeric,group=gedi_vec_id),method='lm',se=F)+\n",
        "# geom_smooth(aes(),method='lm',se=T,color='red')"
      ],
      "metadata": {
        "id": "lEHJpuylaVOr",
        "outputId": "0582bee0-f1f8-41bc-a916-37ffdc404f61",
        "colab": {
          "base_uri": "https://localhost:8080/",
          "height": 593
        }
      },
      "execution_count": 34,
      "outputs": [
        {
          "output_type": "error",
          "ename": "ERROR",
          "evalue": "ignored",
          "traceback": [
            "Error in h(simpleError(msg, call)): error in evaluating the argument 'x' in selecting a method for function 'split': object 'distrubance_dt' not found\nTraceback:\n",
            "1. distrubance_dt[n > 5][, `:=`(nrow, length(agbd)), by = gedi_vec_id][, \n .     `:=`(include, all(c(TRUE, FALSE) %in% pre_disturbance)), \n .     by = gedi_vec_id][include == TRUE][nrow > 1] %>% split(., \n .     .$gedi_vec_id) %>% lapply(function(x) {\n .     data.table(gedi_vec_id = (x$gedi_vec_id %>% unique) %>% unlist, \n .         agbd_pre = mean(gedi_int_dt[x[gedi_year == min(gedi_year)]$shot_id %>% \n .             unlist, ]$agbd, na.rm = T), agbd_post = mean(gedi_int_dt[x[gedi_year == \n .             max(gedi_year)]$shot_id %>% unlist, ]$agbd, na.rm = T), \n .         mean_preval = mean(gedi_int_dt[x$shot_id %>% unlist, \n .             ]$mean_preval, na.rm = T), mean_mag = mean(gedi_int_dt[x$shot_id %>% \n .             unlist, ]$mean_mag, na.rm = T))\n . }) %>% rbindlist()",
            "2. rbindlist(.)",
            "3. lapply(., function(x) {\n .     data.table(gedi_vec_id = (x$gedi_vec_id %>% unique) %>% unlist, \n .         agbd_pre = mean(gedi_int_dt[x[gedi_year == min(gedi_year)]$shot_id %>% \n .             unlist, ]$agbd, na.rm = T), agbd_post = mean(gedi_int_dt[x[gedi_year == \n .             max(gedi_year)]$shot_id %>% unlist, ]$agbd, na.rm = T), \n .         mean_preval = mean(gedi_int_dt[x$shot_id %>% unlist, \n .             ]$mean_preval, na.rm = T), mean_mag = mean(gedi_int_dt[x$shot_id %>% \n .             unlist, ]$mean_mag, na.rm = T))\n . })",
            "4. split(., .$gedi_vec_id)",
            "5. .handleSimpleError(function (cond) \n . .Internal(C_tryCatchHelper(addr, 1L, cond)), \"object 'distrubance_dt' not found\", \n .     base::quote(eval(expr, envir, enclos)))",
            "6. h(simpleError(msg, call))"
          ]
        }
      ]
    },
    {
      "cell_type": "code",
      "source": [
        "# 0.035*log(mean_preval) - 0.0036\n",
        "distrubance_summary_dt %>%\n",
        "  ggplot(aes(y=agbd_pre,x= (mean_preval) ))+\n",
        "    geom_point(color='blue') +\n",
        "    geom_smooth(method='lm')+\n",
        "    ylab('above ground biomass density')+\n",
        "    xlab('ndvi; blue: pre-disturbance; red:post-disturbance.')\n",
        "    # geom_point(aes(x=mean_preval-mean_mag,y=agbd_post),color='red') +\n",
        "    # geom_smooth(aes(x=mean_preval-mean_mag,y=agbd_post),color='red',method='lm')"
      ],
      "metadata": {
        "id": "8ohK6ojq1V5A"
      },
      "execution_count": null,
      "outputs": []
    },
    {
      "cell_type": "code",
      "source": [
        "# 0.035*log(mean_preval) - 0.0036\n",
        "distrubance_summary_dt %>%\n",
        "  ggplot(aes(y=(agbd_pre), x= mean_preval))+\n",
        "    geom_point(color='blue') +\n",
        "    geom_smooth(method='lm')+\n",
        "    ylab('above ground biomass density')+\n",
        "    xlab('ndvi; blue: pre-disturbance; red:post-disturbance.')+\n",
        "    geom_point(aes(x=mean_preval-mean_mag,y=agbd_post),color='red') +\n",
        "    geom_smooth(aes(x=mean_preval-mean_mag,y=agbd_post),color='red',method='lm')\n"
      ],
      "metadata": {
        "id": "9pJHMzgttU6-"
      },
      "execution_count": null,
      "outputs": []
    },
    {
      "cell_type": "code",
      "source": [
        "year_off <- 1\n",
        "\n",
        "agbd_preval_lm <-\n",
        "summary_dt[l4_quality_flag ==1 & min.yod>1984 & round(min.yod) == (year %>% as.numeric-year_off) & round(max.yod) == (year %>% as.numeric-year_off),][,agbd_group:= round(min.preval,-1)][,agbd_group:= round(min.preval,-2)][,mag_group:= round(min.mag,-2)][,yod_group:= round(2023 - min.yod)][,list(min.preval = mean(mean.preval,na.rm=T),min.mag= mean(mean.mag,na.rm=T),agbd= mean(agbd,na.rm=T)),by=c('agbd_group','mag_group','yod_group')][,min.endval:=(min.preval-min.mag)] %>%\n",
        "  lm(agbd~min.endval,.)\n",
        "\n",
        "summary_dt$agbd_postval <- predict(agbd_preval_lm,summary_dt[,min.endval:=(min.preval-min.mag)])\n",
        "summary_dt[min.preval ==0]$agbd_postval <-NA\n",
        "\n",
        "summary_dt$agbd_preval <- predict(agbd_preval_lm,summary_dt[,min.endval:=(min.preval)])\n",
        "summary_dt[min.preval ==0]$agbd_preval <-NA"
      ],
      "metadata": {
        "id": "GFZpLY_CymGX"
      },
      "execution_count": null,
      "outputs": []
    },
    {
      "cell_type": "code",
      "source": [
        "fire_history_gpkg <- st_read('/content/Fire_History_polygon.gpkg')"
      ],
      "metadata": {
        "id": "cO4ekD-fmhva"
      },
      "execution_count": null,
      "outputs": []
    },
    {
      "cell_type": "code",
      "source": [
        "fire_history_gpkg <- fire_history_gpkg %>% st_cast('POLYGON')"
      ],
      "metadata": {
        "id": "pyosdJnBad9u"
      },
      "execution_count": null,
      "outputs": []
    },
    {
      "cell_type": "code",
      "source": [
        "fire_history_int <- summary_dt %>% st_as_sf %>% st_intersects(fire_history_gpkg %>% st_transform(st_crs(summary_dt$geom)))"
      ],
      "metadata": {
        "id": "dvstL_1Pc7Io"
      },
      "execution_count": null,
      "outputs": []
    },
    {
      "cell_type": "code",
      "source": [
        "(fire_history_int %>% unlist)[1:5]"
      ],
      "metadata": {
        "id": "ybCO9BCjdKl8"
      },
      "execution_count": null,
      "outputs": []
    },
    {
      "cell_type": "code",
      "source": [
        "huc_8_int <- summary_dt %>% st_as_sf %>% st_intersects(huc_8_gpgk)\n",
        "\n",
        "huc_10_int <- summary_dt %>% st_as_sf %>% st_intersects(huc_10_gpgk)\n",
        "\n",
        "huc_12_int <- summary_dt %>% st_as_sf %>% st_intersects(huc_12_gpgk)"
      ],
      "metadata": {
        "id": "jewVgANZyuUp"
      },
      "execution_count": null,
      "outputs": []
    },
    {
      "cell_type": "code",
      "source": [
        "fire_history_gpkg %>% data.table %>% head %>% names\n"
      ],
      "metadata": {
        "id": "sgvQk7F2rCQw"
      },
      "execution_count": null,
      "outputs": []
    },
    {
      "cell_type": "code",
      "source": [
        "fire_summary_dt <- data.table(summary_dt, (fire_history_gpkg %>% data.table)[,c('FIRE_NUM','FIRE_CODE','FIRE_NAME','FIRE_YEAR')][fire_history_int %>% lapply(function(x){x[1]}) %>% unlist,])\n"
      ],
      "metadata": {
        "id": "Y7YpelbKqvp4"
      },
      "execution_count": null,
      "outputs": []
    },
    {
      "cell_type": "code",
      "source": [
        "fire_summary_dt$FIRE_YEAR %>% table"
      ],
      "metadata": {
        "id": "2yraBkoHrbMT"
      },
      "execution_count": null,
      "outputs": []
    },
    {
      "cell_type": "code",
      "source": [
        "# huc_8_summary_dt"
      ],
      "metadata": {
        "id": "l7PC-ctcq3lq"
      },
      "execution_count": null,
      "outputs": []
    },
    {
      "cell_type": "code",
      "source": [
        "huc_8_summary_dt <- data.table(summary_dt, (huc_8_gpgk %>% data.table)[,c('TNMID','HUC8','Name')][huc_8_int %>% lapply(function(x){x[1]}) %>% unlist,])\n",
        "huc_10_summary_dt <- data.table(summary_dt, (huc_10_gpgk %>% data.table)[,c('TNMID','HUC10','Name')][huc_10_int %>% lapply(function(x){x[1]}) %>% unlist,])\n",
        "huc_12_summary_dt <- data.table(summary_dt, (huc_12_gpgk %>% data.table)[,c('TNMID','HUC12','Name')][huc_12_int %>% lapply(function(x){x[1]}) %>% unlist,])"
      ],
      "metadata": {
        "id": "iOz_SsQsyvv8"
      },
      "execution_count": null,
      "outputs": []
    },
    {
      "cell_type": "code",
      "source": [
        "# # resample_dt[,agbd := rnorm(1,agbd,agbd_se),by=row_id]\n",
        "# # gc()\n",
        "# resamp_vec <-\n",
        "# 1:nrow(resample_dt) %>%\n",
        "#   lapply(function(x){\n",
        "#     if(!is.na())\n",
        "#     rnorm(1,resample_dt$agbd[[x]],resample_dt$agbd_sd[[x]])\n",
        "#   })\n",
        "resample_dt <- NULL\n",
        "gc()"
      ],
      "metadata": {
        "id": "pYI05ddv2IVy"
      },
      "execution_count": null,
      "outputs": []
    },
    {
      "cell_type": "code",
      "source": [
        "summary_dt[,group_quantile:=as.integer(cut(agbd_postval, breaks = quantile(agbd_postval[!is.na(agbd) & median.preval > 0], probs = seq(0, 1, by = 1/3),na.rm=T), labels = FALSE, include.lowest = TRUE)) ]\n",
        "summary_dt$group <- NA\n",
        "# summary_dt[!is.na(agbd) & median.preval > 0, group_quantile := kmeans(((median.preval - median.mag) / median.preval)[.I], centers = 4)$cluster]\n",
        "\n",
        "\n",
        "\n",
        "summary_dt$group <- NA\n",
        "summary_dt[!is.na(agbd_postval), group := kmeans((agbd_postval)[.I], centers = 3)$cluster]\n",
        "\n",
        "\n",
        "cluster_dt <- summary_dt[!is.na(agbd) & median.preval > 0,list(agbd_postval = mean(agbd_postval)),by=group][order(agbd_postval)]\n",
        "cluster_dt$group_new <- 1:nrow(cluster_dt)\n",
        "cluster_dt <- cluster_dt[order(group)]\n",
        "# print(cluster_dt)\n",
        "summary_dt$group <- cluster_dt$group_new[summary_dt$group]\n",
        "\n",
        "summary_dt[,list(agbd_postval = mean(agbd_postval),n = length(agbd_postval)),by=group_quantile][order(agbd_postval)]\n",
        "\n",
        "summary_dt[,list(agbd_postval = mean(agbd_postval),n = length(agbd_postval)),by=group][order(agbd_postval)]"
      ],
      "metadata": {
        "id": "S-SATZn8zk19"
      },
      "execution_count": null,
      "outputs": []
    },
    {
      "cell_type": "code",
      "source": [
        "install.packages('randomForest')"
      ],
      "metadata": {
        "id": "ktLhWRVBWofl"
      },
      "execution_count": null,
      "outputs": []
    },
    {
      "cell_type": "code",
      "source": [
        "library(randomForest)"
      ],
      "metadata": {
        "id": "ou99rvW2WmRt"
      },
      "execution_count": null,
      "outputs": []
    },
    {
      "cell_type": "code",
      "source": [
        "calibration_dt[,group_quantile:=as.integer(cut(mean.preval-mean.mag, breaks = quantile((mean.preval-mean.mag)[!is.na(agbd) & median.preval > 0], probs = seq(0, 1, by = 1/3),na.rm=T), labels = FALSE, include.lowest = TRUE))  %>%as.factor()]\n",
        "\n",
        "calibration_dt %>%\n",
        "  ggplot(aes(x = mean.preval-mean.mag,y=agbd))+\n",
        "  geom_point(aes(color=group_quantile))"
      ],
      "metadata": {
        "id": "icMSSOV1X2Rr"
      },
      "execution_count": null,
      "outputs": []
    },
    {
      "cell_type": "code",
      "source": [
        "calibration_dt <- resample_dt[min.yod>1984 & !is.na(agbd) ,]\n",
        "calibration_dt$id <- 1:nrow(calibration_dt)\n",
        "calibration_dt[,post_val := mean(mean.preval - mean.mag),by = id]\n",
        "# calibration_dt[,group_quantile:=as.integer(cut(agbd, breaks = quantile(agbd, probs = seq(0, 1, by = 1/3),na.rm=T), labels = FALSE, include.lowest = TRUE)) %>% factor ]\n",
        "# calibration_dt[,agbd_quantile:=as.integer(cut(agbd, breaks = quantile(agbd, probs = seq(0, 1, by = 1/3),na.rm=T), labels = FALSE, include.lowest = TRUE)) %>% factor ]\n",
        "# calibration_dt[,postval_quantile:=as.integer(cut(mean.preval - mean.mag, breaks = quantile(mean.preval - mean.mag, probs = seq(0, 1, by = 1/3),na.rm=T), labels = FALSE, include.lowest = TRUE)) %>% factor ]\n",
        "\n",
        "\n",
        "# calibration_dt %>%\n",
        "#   ggplot(aes(x=agbd))+\n",
        "#   geom_boxplot(aes(color=postval_quantile))\n",
        "# names(calibration_dt)\n",
        "# rf_form <- as.formula(paste('group_quantile ~',c('post_val',(calibration_dt %>% names)[18:41]) %>% paste(.,collapse = '+')))\n",
        "# resample_dt$id <- 1:nrow(resample_dt)\n",
        "\n",
        "# resample_dt[,agbd_quantile:=as.integer(cut(agbd, breaks = quantile(agbd, probs = seq(0, 1, by = 1/3),na.rm=T), labels = FALSE, include.lowest = TRUE)) %>% factor ]\n",
        "# resample_dt[,postval_quantile:=as.integer(cut(mean.preval - mean.mag, breaks = quantile(mean.preval - mean.mag, probs = seq(0, 1, by = 1/3),na.rm=T), labels = FALSE, include.lowest = TRUE)) %>% factor ]\n",
        "\n",
        "# resample_dt[,post_val := mean(mean.preval - mean.mag),by = id]\n",
        "# rf_result <-  randomForest(rf_form,resample_dt[min.yod>1984 & !is.na(agbd)])\n"
      ],
      "metadata": {
        "id": "_3MjrahgsDKj"
      },
      "execution_count": null,
      "outputs": []
    },
    {
      "cell_type": "code",
      "source": [
        "while(TRUE){}"
      ],
      "metadata": {
        "id": "XoAKNT-0JuCv"
      },
      "execution_count": null,
      "outputs": []
    },
    {
      "cell_type": "code",
      "source": [
        "post_gedi_dt %>%head"
      ],
      "metadata": {
        "id": "aevTfUHjonTI"
      },
      "execution_count": null,
      "outputs": []
    },
    {
      "cell_type": "code",
      "source": [
        "resample_dt[,group:=as.integer(cut(agbd, breaks = quantile(agbd, probs = seq(0, 1, by = 1/3),na.rm=T), labels = FALSE, include.lowest = TRUE)),by = .(round(median.yod/5)*5)]\n",
        "\n",
        "# table(resample_dt$group,round(resample_dt$median.yod /1)*1)"
      ],
      "metadata": {
        "id": "L7YPi2xuJt9J"
      },
      "execution_count": null,
      "outputs": []
    },
    {
      "cell_type": "code",
      "source": [
        "fire_summary_dt$gedi_era <-  fire_summary_dt$min.yod > min(fire_summary_dt$year %>% as.numeric)\n",
        "\n",
        "fire_summary_dt$post_gedi <-  (fire_summary_dt$year %>% as.numeric) - fire_summary_dt$mean.yod\n",
        "\n",
        "# fire_summary_dt$pre_gedi <-"
      ],
      "metadata": {
        "id": "onLPiWaTtaCZ"
      },
      "execution_count": null,
      "outputs": []
    },
    {
      "cell_type": "code",
      "source": [
        "post_gedi_dt <- fire_summary_dt[l4_quality_flag ==1 & min.yod>1984 & gedi_era  ]\n",
        "post_gedi_dt[agbd >0 &year %>% as.numeric == round(mean.yod+1) |year %>% as.numeric == round(mean.yod+1) | year %>% as.numeric == round(mean.yod+2)| year %>% as.numeric == round(mean.yod+3)| year %>% as.numeric == round(mean.yod+4)| year %>% as.numeric == round(mean.yod+5)]    %>%\n",
        "  ggplot(aes(y=agbd,x=mean.preval-mean.mag))+\n",
        "  geom_bin2d()+\n",
        "  geom_smooth(method='lm')"
      ],
      "metadata": {
        "id": "vC1GxTOqvcjm"
      },
      "execution_count": null,
      "outputs": []
    },
    {
      "cell_type": "code",
      "source": [
        "fire_summary_dt$gedi_era %>% table"
      ],
      "metadata": {
        "id": "up0OQLwBue38"
      },
      "execution_count": null,
      "outputs": []
    },
    {
      "cell_type": "code",
      "source": [
        "# 1:1000\n",
        "resample_dt <- fire_summary_dt\n",
        "# resample_dt <- fire_summary_dt[min.yod>1984 & !is.na(agbd) & is.na(FIRE_YEAR) & l4_quality_flag ==1 &min.endval>0]\n",
        "\n",
        "# resample_dt %>% head\n",
        "\n",
        "\n",
        "# agbd_preval_lm <-resample_dt[] %>%\n",
        "#   lm(agbd~min.endval,.)\n",
        "\n",
        "# agbd_preval_lm %>% summary\n",
        "\n",
        "resample_dt$agbd_postval <- predict(agbd_preval_lm,resample_dt[,min.endval:=(min.preval-min.mag)])\n",
        "resample_dt$agbd_preval <- predict(agbd_preval_lm,resample_dt[,min.endval:=(min.preval)])\n",
        "\n",
        "# min.yod>1984 & round(min.yod) %in% c(round(year %>% as.numeric)-c(1,2)) &  round(max.yod) %in% c(round(year%>% as.numeric)-c(1,2))\n",
        "resample_dt[,min.endval:=(min.preval-min.mag)]\n",
        "# resample_dt$min.endval\n",
        "# # resample_dt$agbd_postval\n",
        "# # resample_dt[,agbd_postval:=mean(agbd[min.yod>1984 & round(min.yod) %in% c(round(year %>% as.numeric)+c(1,2)) &  round(max.yod) %in% c(round(year%>% as.numeric)+c(1,2))],na.rm=T),by = group]\n",
        "# # resample_dt[,agbd_preval:=mean(agbd[min.yod>1984 & round(min.yod) %in% c(round(year %>% as.numeric)+c(1,2)) &  round(max.yod) %in% c(round(year%>% as.numeric)+c(1,2))],na.rm=T),by = group]\n",
        "resample_dt[,group:=as.integer(cut(agbd, breaks = quantile(agbd, probs = seq(0, 1, by = 1/3),na.rm=T), labels = FALSE, include.lowest = TRUE)) ]\n",
        "\n",
        "resample_dt[,group_agbd_preval:=mean(agbd[min.yod>1984 & round(mean.yod) %in% c(round(year %>% as.numeric)+c(1,2,3))],na.rm=T) ,by=group]\n",
        "\n",
        "resample_dt[,group_agbd_postval:=mean(agbd[min.yod>1984 & round(mean.yod) < round(year %>% as.numeric) ],na.rm=T) ,by=group]\n",
        "\n",
        "\n",
        "plot_dt <- resample_dt[min.yod>1984 &l4_quality_flag ==1,][,yod_round := round(mean.yod)][,list(agbd = mean(agbd,na.rm=T),yad = mean(2023-mean.yod),group_agbd_preval=mean(group_agbd_preval,na.rm=T),group_agbd_postval=mean(group_agbd_postval,na.rm=T),n = length(mean.yod)),by = .(group,yod_round)][yad>1]\n",
        "\n",
        "\n",
        "plot_dt[,agbd_yr:=(agbd/yad),by=group]\n",
        "\n",
        "plot_dt[order(yad),agbd_yr_cumsum := cumsum(agbd/yad)-group_agbd_postval,by = group]\n",
        "\n",
        "# summary_dt[,group_quantile:=as.integer(cut(agbd_postval, breaks = quantile(agbd_postval[!is.na(agbd) & median.preval > 0], probs = seq(0, 1, by = 1/3),na.rm=T), labels = FALSE, include.lowest = TRUE)) ]\n",
        "# summary_dt$group <- NA\n",
        "# # summary_dt[!is.na(agbd) & median.preval > 0, group_quantile := kmeans(((median.preval - median.mag) / median.preval)[.I], centers = 4)$cluster]\n",
        "\n",
        "\n",
        "\n",
        "# summary_dt$group <- NA\n",
        "# summary_dt[!is.na(agbd_postval), group := kmeans((agbd_postval)[.I], centers = 3)$cluster]\n",
        "\n",
        "\n",
        "# cluster_dt <- summary_dt[!is.na(agbd) & median.preval > 0,list(agbd_postval = mean(agbd_postval)),by=group][order(agbd_postval)]\n",
        "# cluster_dt$group_new <- 1:nrow(cluster_dt)\n",
        "# cluster_dt <- cluster_dt[order(group)]\n",
        "# # print(cluster_dt)\n",
        "# summary_dt$group <- cluster_dt$group_new[summary_dt$group]\n",
        "\n",
        "# summary_dt[,list(agbd_postval = mean(agbd_postval),n = length(agbd_postval)),by=group_quantile][order(agbd_postval)]\n",
        "\n",
        "# summary_dt[,list(agbd_postval = mean(agbd_postval),n = length(agbd_postval)),by=group][order(agbd_postval)]\n",
        "\n",
        "plot_dt$yod %>% max\n",
        "\n",
        "plot_dt %>%\n",
        "\n",
        "ggplot(aes(x=yad,y=agbd_yr,group=group))+\n",
        "\n",
        "geom_point()+\n",
        "\n",
        "geom_smooth(aes(color=group))\n",
        "\n",
        "\n",
        "# plot_dt %>%\n",
        "# ggplot(aes(x=yad,y=agbd_yr_cumsum,group=group_quantile))+\n",
        "# geom_point()+\n",
        "# geom_line(aes(color=group_quantile))\n",
        "# geom_smooth(data=pred_dt,aes(),color='red')"
      ],
      "metadata": {
        "id": "_X_pF4TT9vRB"
      },
      "execution_count": null,
      "outputs": []
    },
    {
      "cell_type": "code",
      "source": [
        "gedi_vec_gpkg$area <- st_area(gedi_vec_gpkg)\n",
        "\n",
        "summary_dt$gedi_clust <- st_intersects(summary_dt$geom,gedi_vec_gpkg) %>% lapply(function(x){x[1]}) %>% unlist\n",
        "summary_dt$gedi_clust_area <- gedi_vec_gpkg$area[summary_dt$gedi_clust]"
      ],
      "metadata": {
        "id": "W-VRWy919p2O"
      },
      "execution_count": null,
      "outputs": []
    },
    {
      "cell_type": "code",
      "source": [
        "summary_dt[min.yod > 1984 & agbd>0 &l4_quality_flag ==1,] %>%\n",
        "  ggplot(aes(y=(agbd - agbd_preval)/(2023-max.yod),x=max.yod,group=group))+\n",
        "  geom_point() +\n",
        "  # geom_line(aes(color=group))+\n",
        "  geom_smooth(aes(color=group))"
      ],
      "metadata": {
        "id": "ooqmNof1AuNl"
      },
      "execution_count": null,
      "outputs": []
    },
    {
      "cell_type": "code",
      "source": [
        "huc_8_int <- summary_dt %>% st_as_sf %>% st_intersects(huc_8_gpgk)\n",
        "\n",
        "huc_10_int <- summary_dt %>% st_as_sf %>% st_intersects(huc_10_gpgk)\n",
        "\n",
        "huc_12_int <- summary_dt %>% st_as_sf %>% st_intersects(huc_12_gpgk)"
      ],
      "metadata": {
        "id": "ioGSIgshMojf"
      },
      "execution_count": null,
      "outputs": []
    },
    {
      "cell_type": "code",
      "source": [
        "huc_8_summary_dt <- data.table(summary_dt, (huc_8_gpgk %>% data.table)[,c('TNMID','HUC8','Name')][huc_8_int %>% lapply(function(x){x[1]}) %>% unlist,])\n",
        "huc_10_summary_dt <- data.table(summary_dt, (huc_10_gpgk %>% data.table)[,c('TNMID','HUC10','Name')][huc_10_int %>% lapply(function(x){x[1]}) %>% unlist,])\n",
        "huc_12_summary_dt <- data.table(summary_dt, (huc_12_gpgk %>% data.table)[,c('TNMID','HUC12','Name')][huc_12_int %>% lapply(function(x){x[1]}) %>% unlist,])"
      ],
      "metadata": {
        "id": "Oh3ejwKJOF8z"
      },
      "execution_count": null,
      "outputs": []
    },
    {
      "cell_type": "code",
      "source": [
        "targ_dt <- huc_10_summary_dt[Name == 'Thomas Creek' & group ==1]\n",
        "\n",
        "loess_dt <- huc_10_summary_dt[min.yod>1984 &agbd>0 ,][,yod_round := round(mean.yod)][,list(agbd = mean(agbd-agbd_preval,na.rm=T),yad = mean(2023-mean.yod),n = length(mean.yod)),by = .(group,Name,yod_round)][yad>3]\n",
        "\n",
        "huc_10_summary_dt[,yad := 2023-mean.yod]\n",
        "targ_dt$agbd_pred <-\n",
        "predict(loess_dt[Name == 'Thomas Creek' & group == 1] %>%\n",
        "  loess(agbd~yad,.), targ_dt)"
      ],
      "metadata": {
        "id": "rHcRc44CoZUB"
      },
      "execution_count": null,
      "outputs": []
    },
    {
      "cell_type": "code",
      "source": [
        "targ_dt[yad>3,] %>%\n",
        "  ggplot(aes(x=agbd_pred-agbd))+\n",
        "  geom_histogram(bins=100)"
      ],
      "metadata": {
        "id": "VHXKFI43qb6o"
      },
      "execution_count": null,
      "outputs": []
    },
    {
      "cell_type": "code",
      "source": [
        "targ_dt[yad>3,] %>% st_as_sf() %>% st_write('/content/example.gpkg')"
      ],
      "metadata": {
        "id": "zTczNC-psVkZ"
      },
      "execution_count": null,
      "outputs": []
    },
    {
      "cell_type": "code",
      "source": [
        "huc_10_dist_table <- huc_10_summary_dt$Name %>% table\n",
        "huc_10_summary_dt <- huc_10_summary_dt[Name %in% c(huc_10_dist_table[huc_10_dist_table>100] %>% names),]\n",
        "\n",
        "huc_10_summary_dt[,group:=as.integer(cut((median.preval-median.mag)/median.preval, breaks = quantile((median.preval[!is.na(agbd) & median.preval > 0]-median.mag[!is.na(agbd) & median.preval > 0])/median.preval[!is.na(agbd) & median.preval > 0], probs = seq(0, 1, by = 0.25)), labels = FALSE, include.lowest = TRUE)) ,by = 'Name']\n",
        "\n",
        "\n",
        "\n",
        "fit <- loess(y ~ x)\n",
        "predictions <- predict(fit, newdata = data.frame(x = x))\n",
        "\n",
        "huc_10_summary_dt[min.yod>1984 &agbd>0 ,][,yod_round := round(mean.yod)][,list(agbd = mean(agbd-agbd_preval,na.rm=T),yad = mean(2023-mean.yod),n = length(mean.yod)),by = .(group,Name,yod_round)][yad>3] %>%\n",
        "ggplot(aes(x=yad,y=(floor(agbd))/ceiling(yad),group=group))+\n",
        "geom_point()+\n",
        "geom_smooth(aes(color=group)) +\n",
        "facet_wrap(Name~.)\n"
      ],
      "metadata": {
        "id": "uR3Sr08MgzjT"
      },
      "execution_count": null,
      "outputs": []
    },
    {
      "cell_type": "code",
      "source": [
        "huc_12_dist_table <- huc_12_summary_dt$Name %>% table\n",
        "huc_12_summary_dt <- huc_12_summary_dt[Name %in% c(huc_12_dist_table[huc_12_dist_table>100] %>% names),]\n",
        "\n",
        "huc_12_summary_dt[,group:=as.integer(cut((median.preval-median.mag)/median.preval, breaks = quantile((median.preval[!is.na(agbd) & median.preval > 0]-median.mag[!is.na(agbd) & median.preval > 0])/median.preval[!is.na(agbd) & median.preval > 0], probs = seq(0, 1, by = 0.25)), labels = FALSE, include.lowest = TRUE)) ,by = 'Name']\n",
        "\n",
        "\n",
        "\n",
        "\n",
        "\n",
        "huc_12_summary_dt[min.yod>1984 &agbd>0 ,][,yod_round := round(mean.yod)][,list(agbd = mean(agbd-agbd_preval,na.rm=T),yad = mean(2023-mean.yod),n = length(mean.yod)),by = .(group,Name,yod_round)][yad>3] %>%\n",
        "ggplot(aes(x=yad,y=(floor(agbd))/ceiling(yad),group=group))+\n",
        "geom_point()+\n",
        "geom_smooth(aes(color=group)) +\n",
        "facet_wrap(Name~.)"
      ],
      "metadata": {
        "id": "SCNJ9gdGk68j"
      },
      "execution_count": null,
      "outputs": []
    }
  ]
}
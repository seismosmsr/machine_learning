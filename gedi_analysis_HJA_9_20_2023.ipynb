{
  "nbformat": 4,
  "nbformat_minor": 0,
  "metadata": {
    "colab": {
      "provenance": [],
      "machine_shape": "hm",
      "authorship_tag": "ABX9TyP/UqbatxhGd6KSO7rOeMFo",
      "include_colab_link": true
    },
    "kernelspec": {
      "name": "ir",
      "display_name": "R"
    },
    "language_info": {
      "name": "R"
    }
  },
  "cells": [
    {
      "cell_type": "markdown",
      "metadata": {
        "id": "view-in-github",
        "colab_type": "text"
      },
      "source": [
        "<a href=\"https://colab.research.google.com/github/seismosmsr/machine_learning/blob/main/gedi_analysis_HJA_9_20_2023.ipynb\" target=\"_parent\"><img src=\"https://colab.research.google.com/assets/colab-badge.svg\" alt=\"Open In Colab\"/></a>"
      ]
    },
    {
      "cell_type": "code",
      "source": [
        "install.packages('sf')\n",
        "install.packages('raster')\n",
        "install.packages('exactextractr')\n",
        "install.packages(\"googledrive\")\n",
        "install.packages(\"googletoken\")\n",
        "install.packages(\"DBI\")\n",
        "install.packages(\"RSQLite\")\n",
        "install.packages(\"RPostgreSQL\")"
      ],
      "metadata": {
        "colab": {
          "base_uri": "https://localhost:8080/"
        },
        "id": "rC3Pg61Wq8On",
        "outputId": "c4169d39-e056-421d-9084-893a43f0997f"
      },
      "execution_count": null,
      "outputs": [
        {
          "output_type": "stream",
          "name": "stderr",
          "text": [
            "Installing package into ‘/usr/local/lib/R/site-library’\n",
            "(as ‘lib’ is unspecified)\n",
            "\n",
            "also installing the dependencies ‘proxy’, ‘e1071’, ‘wk’, ‘classInt’, ‘Rcpp’, ‘s2’, ‘units’\n",
            "\n",
            "\n"
          ]
        }
      ]
    },
    {
      "cell_type": "code",
      "execution_count": null,
      "metadata": {
        "id": "ohy4torjkZq2"
      },
      "outputs": [],
      "source": [
        "library(ggplot2)\n",
        "library(sf)\n",
        "library(magrittr)\n",
        "library(data.table)\n",
        "library(raster)\n",
        "library(exactextractr)\n",
        "library(googledrive)\n",
        "library(DBI)\n",
        "library(utils)"
      ]
    },
    {
      "cell_type": "code",
      "source": [
        "drive_auth(use_oob = TRUE, cache = FALSE)"
      ],
      "metadata": {
        "id": "oFc9lzeokYuK"
      },
      "execution_count": null,
      "outputs": []
    },
    {
      "cell_type": "code",
      "source": [
        "# while(TRUE){}"
      ],
      "metadata": {
        "id": "neOkVr_mkd8m"
      },
      "execution_count": null,
      "outputs": []
    },
    {
      "cell_type": "code",
      "source": [
        "# drive_deauth()\n",
        "# drive_auth(use_oob = TRUE, cache = FALSE)"
      ],
      "metadata": {
        "id": "hVkqfgfpnel2"
      },
      "execution_count": null,
      "outputs": []
    },
    {
      "cell_type": "code",
      "source": [
        "# GEDI data\n",
        "# https://drive.google.com/file/d/14jTxo28D2bsC68EpVsbSaY7SpYM5MIA4/view?usp=drive_link\n",
        "\n",
        "# Landtrendr data\n",
        "# https://drive.google.com/file/d/1FrN1tUojGV80f3kDtmezsFsvLabIoGiW/view?usp=drive_link\n",
        "\n",
        "# HUC 8\n",
        "# https://drive.google.com/file/d/1r6CIYLOy01N8B1jc7Hr8AJUkA0jPXp9z/view?usp=drive_link\n",
        "\n",
        "# HUC 10\n",
        "# https://drive.google.com/file/d/1m86VWKw3nys-oY931eq9dC6xv0cEfs4a/view?usp=drive_link\n",
        "\n",
        "# HUC 12\n",
        "# https://drive.google.com/file/d/18ayVCWhBkP1Tb_wrWgPJea8vaWEiPgOL/view?usp=drive_link\n",
        "\n",
        "# GEDI vectorized by YOD, Queen's rule.\n",
        "# https://drive.google.com/file/d/1miOMqCh081yceVUfVVOL5JtxpKUgBO-2/view?usp=drive_link"
      ],
      "metadata": {
        "id": "O3df1Ii3npf3"
      },
      "execution_count": null,
      "outputs": []
    },
    {
      "cell_type": "code",
      "source": [
        "drive_download(file = as_id('1FrN1tUojGV80f3kDtmezsFsvLabIoGiW'), path =  '/content/HJA_LandTrendr_84_23.tif', overwrite = FALSE)"
      ],
      "metadata": {
        "id": "LUX0iDBQo3bB"
      },
      "execution_count": null,
      "outputs": []
    },
    {
      "cell_type": "code",
      "source": [
        "drive_download(file = as_id('14jTxo28D2bsC68EpVsbSaY7SpYM5MIA4'), path =  '/content/HJA_gedi.gpkg', overwrite = TRUE)"
      ],
      "metadata": {
        "id": "p6BrSHZVpEnI"
      },
      "execution_count": null,
      "outputs": []
    },
    {
      "cell_type": "code",
      "source": [
        "drive_download(file = as_id('1r6CIYLOy01N8B1jc7Hr8AJUkA0jPXp9z'), path =  '/content/huc_8.gpkg', overwrite = TRUE)\n",
        "drive_download(file = as_id('1m86VWKw3nys-oY931eq9dC6xv0cEfs4a'), path =  '/content/huc_10.gpkg', overwrite = TRUE)\n",
        "drive_download(file = as_id('18ayVCWhBkP1Tb_wrWgPJea8vaWEiPgOL'), path =  '/content/huc_12.gpkg', overwrite = TRUE)"
      ],
      "metadata": {
        "id": "FCrU4s8erbks"
      },
      "execution_count": null,
      "outputs": []
    },
    {
      "cell_type": "code",
      "source": [
        "# https://drive.google.com/file/d/1miOMqCh081yceVUfVVOL5JtxpKUgBO-2/view?usp=drive_link\n",
        "drive_download(file = as_id('1miOMqCh081yceVUfVVOL5JtxpKUgBO-2'), path =  '/content/gedi_vector.gpkg', overwrite = TRUE)"
      ],
      "metadata": {
        "id": "N4HyYrKXpvw0"
      },
      "execution_count": null,
      "outputs": []
    },
    {
      "cell_type": "code",
      "source": [
        "# https://drive.google.com/file/d/1qpVnW4V_qbE1rAR4wAq1yMNRIZniVFsa/view?usp=drive_link\n",
        "drive_download(file = as_id('1qpVnW4V_qbE1rAR4wAq1yMNRIZniVFsa'), path =  '/content/conus_2003.tif', overwrite = TRUE)"
      ],
      "metadata": {
        "id": "4nQRIAg6EU5c"
      },
      "execution_count": null,
      "outputs": []
    },
    {
      "cell_type": "code",
      "source": [
        "# https://drive.google.com/file/d/1X-D5SIaH18skJ5Wshzge1BxlvRZOOWCh/view?usp=drive_link\n",
        "\n",
        "drive_download(file = as_id('1X-D5SIaH18skJ5Wshzge1BxlvRZOOWCh'), path =  '/content/conus_2016.tif', overwrite = TRUE)"
      ],
      "metadata": {
        "id": "fes2c4X1Yi8L"
      },
      "execution_count": null,
      "outputs": []
    },
    {
      "cell_type": "code",
      "source": [
        "# https://drive.google.com/file/d/1HGLy-drZfu5wmWW9xVbCkQjHGdqFbGF4/view?usp=drive_link\n",
        "\n",
        "drive_download(file = as_id('1HGLy-drZfu5wmWW9xVbCkQjHGdqFbGF4'), path =  '/content/hja_2008.tif', overwrite = TRUE)"
      ],
      "metadata": {
        "id": "JzNqFcUeO0-o"
      },
      "execution_count": null,
      "outputs": []
    },
    {
      "cell_type": "code",
      "source": [
        "# https://drive.google.com/file/d/1MXa0GC0bWAbMSVpR7Gpc4cOFyCRxpJfI/view?usp=drive_link\n",
        "drive_download(file = as_id('1MXa0GC0bWAbMSVpR7Gpc4cOFyCRxpJfI'), path =  '/content/wnf_history.gpkg', overwrite = TRUE)\n",
        "\n",
        "# https://drive.google.com/file/d/1PFW8YtCJ-Afxb7XTM94j7IcZDQc6r3FS/view?usp=drive_link\n",
        "drive_download(file = as_id('1PFW8YtCJ-Afxb7XTM94j7IcZDQc6r3FS'), path =  '/content/fire_history.gpkg', overwrite = TRUE)\n",
        "\n",
        "# https://drive.google.com/file/d/1igHhc0FY2TBm7DMHNWMoqTbLHv2qvgms/view?usp=drive_link\n",
        "drive_download(file = as_id('1igHhc0FY2TBm7DMHNWMoqTbLHv2qvgms'), path =  '/content/harvest_history.gpkg', overwrite = TRUE)\n",
        "\n",
        "# https://drive.google.com/file/d/1XluoE3kGZ1u5-az0EmimhRpe__qzApM4/view?usp=drive_link\n",
        "drive_download(file = as_id('1XluoE3kGZ1u5-az0EmimhRpe__qzApM4'), path =  '/content/aoi_boundary.geojson', overwrite = TRUE)"
      ],
      "metadata": {
        "id": "weLodNamLqQP"
      },
      "execution_count": null,
      "outputs": []
    },
    {
      "cell_type": "code",
      "source": [
        "# https://drive.google.com/file/d/16h1dV9JEpYwts4grE959eTfqCc5yP05I/view?usp=drive_link\n",
        "drive_download(file = as_id('16h1dV9JEpYwts4grE959eTfqCc5yP05I'), path =  '/content/Huc_Intersection_Set_2.zip', overwrite = TRUE)"
      ],
      "metadata": {
        "id": "YJn39TJF9shO"
      },
      "execution_count": null,
      "outputs": []
    },
    {
      "cell_type": "code",
      "source": [
        "# Set the file path to the downloaded zip file and the destination where it should be extracted\n",
        "zip_file_path <- '/content/Huc_Intersection_Set_2.zip'\n",
        "extraction_path <- '/content/Huc_Intersection_Set_2'\n",
        "\n",
        "# Unzip the file\n",
        "unzip(zip_file_path, exdir = extraction_path)"
      ],
      "metadata": {
        "id": "ICSjj78kUY3s"
      },
      "execution_count": null,
      "outputs": []
    },
    {
      "cell_type": "code",
      "source": [
        "while(TRUE){}"
      ],
      "metadata": {
        "id": "WiNdGjYOK0mz"
      },
      "execution_count": null,
      "outputs": []
    },
    {
      "cell_type": "code",
      "source": [
        "huc_8_gpgk <- st_read('/content/huc_8.gpkg') %>% st_transform(st_crs('EPSG:4326'))\n",
        "huc_10_gpgk <- st_read('/content/huc_10.gpkg')  %>% st_transform(st_crs('EPSG:4326'))\n",
        "huc_12_gpgk <- st_read('/content/huc_12.gpkg')  %>% st_transform(st_crs('EPSG:4326'))"
      ],
      "metadata": {
        "id": "WN7DHPZQWazx"
      },
      "execution_count": null,
      "outputs": []
    },
    {
      "cell_type": "code",
      "source": [
        "hja_2008_tif <- stack('/content/hja_2008.tif')\n",
        "conus_2003_tif <- stack('/content/conus_2003.tif')\n",
        "conus_2016_tif  <- stack('/content/conus_2016.tif')"
      ],
      "metadata": {
        "id": "HJdYvfpltaAi"
      },
      "execution_count": null,
      "outputs": []
    },
    {
      "cell_type": "code",
      "source": [
        "landtrendr_tif <- stack('/content/HJA_LandTrendr_84_23.tif')"
      ],
      "metadata": {
        "id": "wOk8T8AEp1Pe"
      },
      "execution_count": null,
      "outputs": []
    },
    {
      "cell_type": "code",
      "source": [
        "# huc_8_gpgk$HUC8"
      ],
      "metadata": {
        "id": "I_CtpkxSbtQJ"
      },
      "execution_count": null,
      "outputs": []
    },
    {
      "cell_type": "code",
      "source": [
        "gedi_int_dt <-\n",
        "\"/content/Huc_Intersection_Set_2/content/HUC_Intersection_Set_2\" %>%\n",
        "  list.files(full.names = T) %>%\n",
        "  lapply(function(x){\n",
        "  x_sf <- st_read(x)\n",
        "  # x_sf$HUC_8 <- huc_8_gpgk$HUC_8[x_sf %>% st_intersects(huc_8_gpgk)  %>% lapply(function(z){z[1]}) %>% unlist]\n",
        "  # x_sf$HUC_10 <- huc_10_gpgk$HUC_10[x_sf %>% st_intersects(huc_10_gpgk)  %>% lapply(function(z){z[1]}) %>% unlist]\n",
        "  # x_sf$HUC_12 <- huc_12_gpgk$HUC_12[x_sf %>% st_intersects(huc_12_gpgk)  %>% lapply(function(z){z[1]}) %>% unlist]\n",
        "  return(x_sf)\n",
        "  }) %>%\n",
        "  lapply(data.table) %>%\n",
        "  rbindlist()"
      ],
      "metadata": {
        "id": "F7ZEup6Q5TAJ"
      },
      "execution_count": null,
      "outputs": []
    },
    {
      "cell_type": "code",
      "source": [
        "huc_12_gpgk %>% head"
      ],
      "metadata": {
        "id": "RPAShMFJ--NH"
      },
      "execution_count": null,
      "outputs": []
    },
    {
      "cell_type": "code",
      "source": [
        "  # x_sf <- gedi_int_dt %>% st_as_sf\n",
        "  gedi_int_dt$HUC8 <- huc_8_gpgk$HUC8[gedi_int_dt$geom %>% st_intersects(huc_8_gpgk)  %>% lapply(function(x){x[1]}) %>% unlist]\n",
        "  gedi_int_dt$HUC10 <- huc_10_gpgk$HUC10[gedi_int_dt$geom %>% st_intersects(huc_10_gpgk)  %>% lapply(function(x){x[1]}) %>% unlist]\n",
        "  gedi_int_dt$HUC12 <- huc_12_gpgk$HUC12[gedi_int_dt$geom %>% st_intersects(huc_12_gpgk)  %>% lapply(function(x){x[1]}) %>% unlist]"
      ],
      "metadata": {
        "id": "pJ63dzicWXjw"
      },
      "execution_count": null,
      "outputs": []
    },
    {
      "cell_type": "code",
      "source": [
        "# gedi_int_dt$HUC12  %>% table"
      ],
      "metadata": {
        "id": "4quzZrccBqaZ"
      },
      "execution_count": null,
      "outputs": []
    },
    {
      "cell_type": "code",
      "source": [
        "gedi_int_dt %>% nrow\n",
        "gedi_int_dt[l4_quality_flag ==1,] %>% nrow\n",
        "\n",
        "gedi_int_dt %>% names"
      ],
      "metadata": {
        "id": "yY2m88HCvvGG"
      },
      "execution_count": null,
      "outputs": []
    },
    {
      "cell_type": "code",
      "source": [
        "gedi_int_dt$Ownership %>% table\n",
        "gedi_int_dt$LandManager %>% table"
      ],
      "metadata": {
        "id": "vkEFtCQJGrlM"
      },
      "execution_count": null,
      "outputs": []
    },
    {
      "cell_type": "code",
      "source": [
        "gedi_int_dt$HUC8 <- gedi_int_dt$HUC8 %>%factor()"
      ],
      "metadata": {
        "id": "v1zLIuy_ASMx"
      },
      "execution_count": null,
      "outputs": []
    },
    {
      "cell_type": "code",
      "source": [
        "gedi_int_dt[!(gedi_int_dt$HUC8 %>% is.na) & !(gedi_int_dt$HUC10 %>% is.na) &min_yod>1980 & gedi_year>min_yod+5 &gedi_vec_area>10000 & !is.na(agbd) &l4_quality_flag==1,][,list(agbd = mean(agbd,na.rm=T),mean_conus_2003 = mean(mean_conus_2003,na.rm=T),mean_hja_2008 = mean(mean_hja_2008,na.rm=T),mean_conus_2016 = mean(mean_conus_2016,na.rm=T),min_yod = mean(min_yod,na.rm=T)),by=.(gedi_year,gedi_vec_id,HUC8,HUC10,HUC12)] %>%\n",
        "  ggplot(aes(x=2023-min_yod,y=agbd/(2023-min_yod)))+\n",
        "  # geom_point( ) +\n",
        "  # geom_point(aes(y=mean_conus_2003,color='MODIS 2003' %>% factor(levels = c('GEDI','ALS, 2008','MODIS 2003','LS, 2016'))) ) +\n",
        "  # geom_point(aes(y=mean_hja_2008,color='ALS, 2008' %>% factor(levels = c('GEDI','ALS, 2008','MODIS 2003','LS, 2016')))  ) +\n",
        "  # geom_point(aes(y=mean_conus_2016,color='LS, 2016' %>% factor(levels = c('GEDI','ALS, 2008','MODIS 2003','LS, 2016')))  )+\n",
        "  # geom_abline(color='red') +\n",
        "  geom_smooth(aes(color=HUC8 %>% as.factor,group = HUC10) ) +\n",
        "  # geom_smooth(aes(y=mean_conus_2003,color='MODIS 2003' %>% factor(levels = c('GEDI','ALS, 2008','MODIS 2003','LS, 2016'))) ) +\n",
        "  # geom_smooth(aes(y=mean_hja_2008,color='ALS, 2008' %>% factor(levels = c('GEDI','ALS, 2008','MODIS 2003','LS, 2016'))) ) +\n",
        "  # geom_smooth(aes(y=mean_conus_2016,color='LS, 2016' %>% factor(levels = c('GEDI','ALS, 2008','MODIS 2003','LS, 2016'))) ) +\n",
        "  # Hide the annotations\n",
        "  # Manually add custom legend\n",
        "  xlab('years after disturbance')+\n",
        "  # scale_color_manual(\n",
        "  #   values = c('GEDI' = 'green', 'MODIS 2003' = 'red', 'ALS, 2008' = 'purple', 'LS, 2016' = 'salmon'),\n",
        "  #   name = 'agbd source',  # Changing the name of the legend here\n",
        "  #   breaks = c('GEDI','MODIS 2003','ALS, 2008','LS, 2016'),\n",
        "  #   labels = c('GEDI', 'MODIS 2003', 'ALS, 2008','LS, 2016'),\n",
        "  #   position = 'bottom') +\n",
        "  theme(legend.position = 'bottom')+\n",
        "  facet_wrap(HUC8~.)\n"
      ],
      "metadata": {
        "id": "Fc_rzdmhmkcM"
      },
      "execution_count": null,
      "outputs": []
    },
    {
      "cell_type": "code",
      "source": [
        "facet_labels <- c(\n",
        "  \"TRUE\" = \"Harvest related disturbance\",\n",
        "  \"FALSE\" = \"Fire related disturbance\"\n",
        ")\n",
        "gedi_int_dt[min_yod>1980 & gedi_year>min_yod+5 &gedi_vec_area>10000 & !is.na(agbd) ,][,list(agbd = mean(agbd,na.rm=T),mean_conus_2003 = mean(mean_conus_2003,na.rm=T),mean_hja_2008 = mean(mean_hja_2008,na.rm=T),mean_conus_2016 = mean(mean_conus_2016,na.rm=T),min_yod = mean(min_yod,na.rm=T),class = is.na(FIRE_INC_ID)),by=.(FIRE_NAME,LandManager,gedi_year,gedi_vec_id)] %>%\n",
        "  ggplot(aes(x=2023-min_yod,y=agbd,color=LandManager))+\n",
        "  # geom_point( ) +\n",
        "  # geom_point(aes(y=mean_conus_2003,color='MODIS 2003' %>% factor(levels = c('GEDI','ALS, 2008','MODIS 2003','LS, 2016'))) ) +\n",
        "  # geom_point(aes(y=mean_hja_2008,color='ALS, 2008' %>% factor(levels = c('GEDI','ALS, 2008','MODIS 2003','LS, 2016')))  ) +\n",
        "  # geom_point(aes(y=mean_conus_2016,color='LS, 2016' %>% factor(levels = c('GEDI','ALS, 2008','MODIS 2003','LS, 2016')))  )+\n",
        "  # geom_abline(color='red') +\n",
        "  geom_smooth( ) +\n",
        "  # geom_smooth(aes(y=mean_conus_2003,color='MODIS 2003' %>% factor(levels = c('GEDI','ALS, 2008','MODIS 2003','LS, 2016'))) ) +\n",
        "  # geom_smooth(aes(y=mean_hja_2008,color='ALS, 2008' %>% factor(levels = c('GEDI','ALS, 2008','MODIS 2003','LS, 2016'))) ) +\n",
        "  # geom_smooth(aes(y=mean_conus_2016,color='LS, 2016' %>% factor(levels = c('GEDI','ALS, 2008','MODIS 2003','LS, 2016'))) ) +\n",
        "  # Hide the annotations\n",
        "  # Manually add custom legend\n",
        "  xlab('years after disturbance')+\n",
        "  # scale_color_manual(\n",
        "  #   values = c('GEDI' = 'green', 'MODIS 2003' = 'red', 'ALS, 2008' = 'purple', 'LS, 2016' = 'salmon'),\n",
        "  #   name = 'agbd source',  # Changing the name of the legend here\n",
        "  #   breaks = c('GEDI','MODIS 2003','ALS, 2008','LS, 2016'),\n",
        "  #   labels = c('GEDI', 'MODIS 2003', 'ALS, 2008','LS, 2016'),\n",
        "  #   position = 'bottom') +\n",
        "  theme(legend.position = 'bottom')+\n",
        "  facet_grid(class~., labeller = as_labeller(facet_labels))\n"
      ],
      "metadata": {
        "id": "SrtYZgNnNB_9"
      },
      "execution_count": null,
      "outputs": []
    },
    {
      "cell_type": "code",
      "source": [],
      "metadata": {
        "id": "lEHJpuylaVOr"
      },
      "execution_count": null,
      "outputs": []
    },
    {
      "cell_type": "code",
      "source": [
        "year_off <- 1\n",
        "\n",
        "agbd_preval_lm <-\n",
        "summary_dt[l4_quality_flag ==1 & min.yod>1984 & round(min.yod) == (year %>% as.numeric-year_off) & round(max.yod) == (year %>% as.numeric-year_off),][,agbd_group:= round(min.preval,-1)][,agbd_group:= round(min.preval,-2)][,mag_group:= round(min.mag,-2)][,yod_group:= round(2023 - min.yod)][,list(min.preval = mean(mean.preval,na.rm=T),min.mag= mean(mean.mag,na.rm=T),agbd= mean(agbd,na.rm=T)),by=c('agbd_group','mag_group','yod_group')][,min.endval:=(min.preval-min.mag)] %>%\n",
        "  lm(agbd~min.endval,.)\n",
        "\n",
        "summary_dt$agbd_postval <- predict(agbd_preval_lm,summary_dt[,min.endval:=(min.preval-min.mag)])\n",
        "summary_dt[min.preval ==0]$agbd_postval <-NA\n",
        "\n",
        "summary_dt$agbd_preval <- predict(agbd_preval_lm,summary_dt[,min.endval:=(min.preval)])\n",
        "summary_dt[min.preval ==0]$agbd_preval <-NA"
      ],
      "metadata": {
        "id": "GFZpLY_CymGX"
      },
      "execution_count": null,
      "outputs": []
    },
    {
      "cell_type": "code",
      "source": [
        "fire_history_gpkg <- st_read('/content/Fire_History_polygon.gpkg')"
      ],
      "metadata": {
        "id": "cO4ekD-fmhva"
      },
      "execution_count": null,
      "outputs": []
    },
    {
      "cell_type": "code",
      "source": [
        "fire_history_gpkg <- fire_history_gpkg %>% st_cast('POLYGON')"
      ],
      "metadata": {
        "id": "pyosdJnBad9u"
      },
      "execution_count": null,
      "outputs": []
    },
    {
      "cell_type": "code",
      "source": [
        "fire_history_int <- summary_dt %>% st_as_sf %>% st_intersects(fire_history_gpkg %>% st_transform(st_crs(summary_dt$geom)))"
      ],
      "metadata": {
        "id": "dvstL_1Pc7Io"
      },
      "execution_count": null,
      "outputs": []
    },
    {
      "cell_type": "code",
      "source": [
        "(fire_history_int %>% unlist)[1:5]"
      ],
      "metadata": {
        "id": "ybCO9BCjdKl8"
      },
      "execution_count": null,
      "outputs": []
    },
    {
      "cell_type": "code",
      "source": [
        "huc_8_int <- summary_dt %>% st_as_sf %>% st_intersects(huc_8_gpgk)\n",
        "\n",
        "huc_10_int <- summary_dt %>% st_as_sf %>% st_intersects(huc_10_gpgk)\n",
        "\n",
        "huc_12_int <- summary_dt %>% st_as_sf %>% st_intersects(huc_12_gpgk)"
      ],
      "metadata": {
        "id": "jewVgANZyuUp"
      },
      "execution_count": null,
      "outputs": []
    },
    {
      "cell_type": "code",
      "source": [
        "fire_history_gpkg %>% data.table %>% head %>% names\n"
      ],
      "metadata": {
        "id": "sgvQk7F2rCQw"
      },
      "execution_count": null,
      "outputs": []
    },
    {
      "cell_type": "code",
      "source": [
        "fire_summary_dt <- data.table(summary_dt, (fire_history_gpkg %>% data.table)[,c('FIRE_NUM','FIRE_CODE','FIRE_NAME','FIRE_YEAR')][fire_history_int %>% lapply(function(x){x[1]}) %>% unlist,])\n"
      ],
      "metadata": {
        "id": "Y7YpelbKqvp4"
      },
      "execution_count": null,
      "outputs": []
    },
    {
      "cell_type": "code",
      "source": [
        "fire_summary_dt$FIRE_YEAR %>% table"
      ],
      "metadata": {
        "id": "2yraBkoHrbMT"
      },
      "execution_count": null,
      "outputs": []
    },
    {
      "cell_type": "code",
      "source": [
        "# huc_8_summary_dt"
      ],
      "metadata": {
        "id": "l7PC-ctcq3lq"
      },
      "execution_count": null,
      "outputs": []
    },
    {
      "cell_type": "code",
      "source": [
        "huc_8_summary_dt <- data.table(summary_dt, (huc_8_gpgk %>% data.table)[,c('TNMID','HUC8','Name')][huc_8_int %>% lapply(function(x){x[1]}) %>% unlist,])\n",
        "huc_10_summary_dt <- data.table(summary_dt, (huc_10_gpgk %>% data.table)[,c('TNMID','HUC10','Name')][huc_10_int %>% lapply(function(x){x[1]}) %>% unlist,])\n",
        "huc_12_summary_dt <- data.table(summary_dt, (huc_12_gpgk %>% data.table)[,c('TNMID','HUC12','Name')][huc_12_int %>% lapply(function(x){x[1]}) %>% unlist,])"
      ],
      "metadata": {
        "id": "iOz_SsQsyvv8"
      },
      "execution_count": null,
      "outputs": []
    },
    {
      "cell_type": "code",
      "source": [
        "# # resample_dt[,agbd := rnorm(1,agbd,agbd_se),by=row_id]\n",
        "# # gc()\n",
        "# resamp_vec <-\n",
        "# 1:nrow(resample_dt) %>%\n",
        "#   lapply(function(x){\n",
        "#     if(!is.na())\n",
        "#     rnorm(1,resample_dt$agbd[[x]],resample_dt$agbd_sd[[x]])\n",
        "#   })\n",
        "resample_dt <- NULL\n",
        "gc()"
      ],
      "metadata": {
        "id": "pYI05ddv2IVy"
      },
      "execution_count": null,
      "outputs": []
    },
    {
      "cell_type": "code",
      "source": [
        "summary_dt[,group_quantile:=as.integer(cut(agbd_postval, breaks = quantile(agbd_postval[!is.na(agbd) & median.preval > 0], probs = seq(0, 1, by = 1/3),na.rm=T), labels = FALSE, include.lowest = TRUE)) ]\n",
        "summary_dt$group <- NA\n",
        "# summary_dt[!is.na(agbd) & median.preval > 0, group_quantile := kmeans(((median.preval - median.mag) / median.preval)[.I], centers = 4)$cluster]\n",
        "\n",
        "\n",
        "\n",
        "summary_dt$group <- NA\n",
        "summary_dt[!is.na(agbd_postval), group := kmeans((agbd_postval)[.I], centers = 3)$cluster]\n",
        "\n",
        "\n",
        "cluster_dt <- summary_dt[!is.na(agbd) & median.preval > 0,list(agbd_postval = mean(agbd_postval)),by=group][order(agbd_postval)]\n",
        "cluster_dt$group_new <- 1:nrow(cluster_dt)\n",
        "cluster_dt <- cluster_dt[order(group)]\n",
        "# print(cluster_dt)\n",
        "summary_dt$group <- cluster_dt$group_new[summary_dt$group]\n",
        "\n",
        "summary_dt[,list(agbd_postval = mean(agbd_postval),n = length(agbd_postval)),by=group_quantile][order(agbd_postval)]\n",
        "\n",
        "summary_dt[,list(agbd_postval = mean(agbd_postval),n = length(agbd_postval)),by=group][order(agbd_postval)]"
      ],
      "metadata": {
        "id": "S-SATZn8zk19"
      },
      "execution_count": null,
      "outputs": []
    },
    {
      "cell_type": "code",
      "source": [
        "install.packages('randomForest')"
      ],
      "metadata": {
        "id": "ktLhWRVBWofl"
      },
      "execution_count": null,
      "outputs": []
    },
    {
      "cell_type": "code",
      "source": [
        "library(randomForest)"
      ],
      "metadata": {
        "id": "ou99rvW2WmRt"
      },
      "execution_count": null,
      "outputs": []
    },
    {
      "cell_type": "code",
      "source": [
        "calibration_dt[,group_quantile:=as.integer(cut(mean.preval-mean.mag, breaks = quantile((mean.preval-mean.mag)[!is.na(agbd) & median.preval > 0], probs = seq(0, 1, by = 1/3),na.rm=T), labels = FALSE, include.lowest = TRUE))  %>%as.factor()]\n",
        "\n",
        "calibration_dt %>%\n",
        "  ggplot(aes(x = mean.preval-mean.mag,y=agbd))+\n",
        "  geom_point(aes(color=group_quantile))"
      ],
      "metadata": {
        "id": "icMSSOV1X2Rr"
      },
      "execution_count": null,
      "outputs": []
    },
    {
      "cell_type": "code",
      "source": [
        "calibration_dt <- resample_dt[min.yod>1984 & !is.na(agbd) ,]\n",
        "calibration_dt$id <- 1:nrow(calibration_dt)\n",
        "calibration_dt[,post_val := mean(mean.preval - mean.mag),by = id]\n",
        "# calibration_dt[,group_quantile:=as.integer(cut(agbd, breaks = quantile(agbd, probs = seq(0, 1, by = 1/3),na.rm=T), labels = FALSE, include.lowest = TRUE)) %>% factor ]\n",
        "# calibration_dt[,agbd_quantile:=as.integer(cut(agbd, breaks = quantile(agbd, probs = seq(0, 1, by = 1/3),na.rm=T), labels = FALSE, include.lowest = TRUE)) %>% factor ]\n",
        "# calibration_dt[,postval_quantile:=as.integer(cut(mean.preval - mean.mag, breaks = quantile(mean.preval - mean.mag, probs = seq(0, 1, by = 1/3),na.rm=T), labels = FALSE, include.lowest = TRUE)) %>% factor ]\n",
        "\n",
        "\n",
        "# calibration_dt %>%\n",
        "#   ggplot(aes(x=agbd))+\n",
        "#   geom_boxplot(aes(color=postval_quantile))\n",
        "# names(calibration_dt)\n",
        "# rf_form <- as.formula(paste('group_quantile ~',c('post_val',(calibration_dt %>% names)[18:41]) %>% paste(.,collapse = '+')))\n",
        "# resample_dt$id <- 1:nrow(resample_dt)\n",
        "\n",
        "# resample_dt[,agbd_quantile:=as.integer(cut(agbd, breaks = quantile(agbd, probs = seq(0, 1, by = 1/3),na.rm=T), labels = FALSE, include.lowest = TRUE)) %>% factor ]\n",
        "# resample_dt[,postval_quantile:=as.integer(cut(mean.preval - mean.mag, breaks = quantile(mean.preval - mean.mag, probs = seq(0, 1, by = 1/3),na.rm=T), labels = FALSE, include.lowest = TRUE)) %>% factor ]\n",
        "\n",
        "# resample_dt[,post_val := mean(mean.preval - mean.mag),by = id]\n",
        "# rf_result <-  randomForest(rf_form,resample_dt[min.yod>1984 & !is.na(agbd)])\n"
      ],
      "metadata": {
        "id": "_3MjrahgsDKj"
      },
      "execution_count": null,
      "outputs": []
    },
    {
      "cell_type": "code",
      "source": [
        "while(TRUE){}"
      ],
      "metadata": {
        "id": "XoAKNT-0JuCv"
      },
      "execution_count": null,
      "outputs": []
    },
    {
      "cell_type": "code",
      "source": [
        "post_gedi_dt %>%head"
      ],
      "metadata": {
        "id": "aevTfUHjonTI"
      },
      "execution_count": null,
      "outputs": []
    },
    {
      "cell_type": "code",
      "source": [
        "resample_dt[,group:=as.integer(cut(agbd, breaks = quantile(agbd, probs = seq(0, 1, by = 1/3),na.rm=T), labels = FALSE, include.lowest = TRUE)),by = .(round(median.yod/5)*5)]\n",
        "\n",
        "# table(resample_dt$group,round(resample_dt$median.yod /1)*1)"
      ],
      "metadata": {
        "id": "L7YPi2xuJt9J"
      },
      "execution_count": null,
      "outputs": []
    },
    {
      "cell_type": "code",
      "source": [
        "fire_summary_dt$gedi_era <-  fire_summary_dt$min.yod > min(fire_summary_dt$year %>% as.numeric)\n",
        "\n",
        "fire_summary_dt$post_gedi <-  (fire_summary_dt$year %>% as.numeric) - fire_summary_dt$mean.yod\n",
        "\n",
        "# fire_summary_dt$pre_gedi <-"
      ],
      "metadata": {
        "id": "onLPiWaTtaCZ"
      },
      "execution_count": null,
      "outputs": []
    },
    {
      "cell_type": "code",
      "source": [
        "post_gedi_dt <- fire_summary_dt[l4_quality_flag ==1 & min.yod>1984 & gedi_era  ]\n",
        "post_gedi_dt[agbd >0 &year %>% as.numeric == round(mean.yod+1) |year %>% as.numeric == round(mean.yod+1) | year %>% as.numeric == round(mean.yod+2)| year %>% as.numeric == round(mean.yod+3)| year %>% as.numeric == round(mean.yod+4)| year %>% as.numeric == round(mean.yod+5)]    %>%\n",
        "  ggplot(aes(y=agbd,x=mean.preval-mean.mag))+\n",
        "  geom_bin2d()+\n",
        "  geom_smooth(method='lm')"
      ],
      "metadata": {
        "id": "vC1GxTOqvcjm"
      },
      "execution_count": null,
      "outputs": []
    },
    {
      "cell_type": "code",
      "source": [
        "fire_summary_dt$gedi_era %>% table"
      ],
      "metadata": {
        "id": "up0OQLwBue38"
      },
      "execution_count": null,
      "outputs": []
    },
    {
      "cell_type": "code",
      "source": [
        "# 1:1000\n",
        "resample_dt <- fire_summary_dt\n",
        "# resample_dt <- fire_summary_dt[min.yod>1984 & !is.na(agbd) & is.na(FIRE_YEAR) & l4_quality_flag ==1 &min.endval>0]\n",
        "\n",
        "# resample_dt %>% head\n",
        "\n",
        "\n",
        "# agbd_preval_lm <-resample_dt[] %>%\n",
        "#   lm(agbd~min.endval,.)\n",
        "\n",
        "# agbd_preval_lm %>% summary\n",
        "\n",
        "resample_dt$agbd_postval <- predict(agbd_preval_lm,resample_dt[,min.endval:=(min.preval-min.mag)])\n",
        "resample_dt$agbd_preval <- predict(agbd_preval_lm,resample_dt[,min.endval:=(min.preval)])\n",
        "\n",
        "# min.yod>1984 & round(min.yod) %in% c(round(year %>% as.numeric)-c(1,2)) &  round(max.yod) %in% c(round(year%>% as.numeric)-c(1,2))\n",
        "resample_dt[,min.endval:=(min.preval-min.mag)]\n",
        "# resample_dt$min.endval\n",
        "# # resample_dt$agbd_postval\n",
        "# # resample_dt[,agbd_postval:=mean(agbd[min.yod>1984 & round(min.yod) %in% c(round(year %>% as.numeric)+c(1,2)) &  round(max.yod) %in% c(round(year%>% as.numeric)+c(1,2))],na.rm=T),by = group]\n",
        "# # resample_dt[,agbd_preval:=mean(agbd[min.yod>1984 & round(min.yod) %in% c(round(year %>% as.numeric)+c(1,2)) &  round(max.yod) %in% c(round(year%>% as.numeric)+c(1,2))],na.rm=T),by = group]\n",
        "resample_dt[,group:=as.integer(cut(agbd, breaks = quantile(agbd, probs = seq(0, 1, by = 1/3),na.rm=T), labels = FALSE, include.lowest = TRUE)) ]\n",
        "\n",
        "resample_dt[,group_agbd_preval:=mean(agbd[min.yod>1984 & round(mean.yod) %in% c(round(year %>% as.numeric)+c(1,2,3))],na.rm=T) ,by=group]\n",
        "\n",
        "resample_dt[,group_agbd_postval:=mean(agbd[min.yod>1984 & round(mean.yod) < round(year %>% as.numeric) ],na.rm=T) ,by=group]\n",
        "\n",
        "\n",
        "plot_dt <- resample_dt[min.yod>1984 &l4_quality_flag ==1,][,yod_round := round(mean.yod)][,list(agbd = mean(agbd,na.rm=T),yad = mean(2023-mean.yod),group_agbd_preval=mean(group_agbd_preval,na.rm=T),group_agbd_postval=mean(group_agbd_postval,na.rm=T),n = length(mean.yod)),by = .(group,yod_round)][yad>1]\n",
        "\n",
        "\n",
        "plot_dt[,agbd_yr:=(agbd/yad),by=group]\n",
        "\n",
        "plot_dt[order(yad),agbd_yr_cumsum := cumsum(agbd/yad)-group_agbd_postval,by = group]\n",
        "\n",
        "# summary_dt[,group_quantile:=as.integer(cut(agbd_postval, breaks = quantile(agbd_postval[!is.na(agbd) & median.preval > 0], probs = seq(0, 1, by = 1/3),na.rm=T), labels = FALSE, include.lowest = TRUE)) ]\n",
        "# summary_dt$group <- NA\n",
        "# # summary_dt[!is.na(agbd) & median.preval > 0, group_quantile := kmeans(((median.preval - median.mag) / median.preval)[.I], centers = 4)$cluster]\n",
        "\n",
        "\n",
        "\n",
        "# summary_dt$group <- NA\n",
        "# summary_dt[!is.na(agbd_postval), group := kmeans((agbd_postval)[.I], centers = 3)$cluster]\n",
        "\n",
        "\n",
        "# cluster_dt <- summary_dt[!is.na(agbd) & median.preval > 0,list(agbd_postval = mean(agbd_postval)),by=group][order(agbd_postval)]\n",
        "# cluster_dt$group_new <- 1:nrow(cluster_dt)\n",
        "# cluster_dt <- cluster_dt[order(group)]\n",
        "# # print(cluster_dt)\n",
        "# summary_dt$group <- cluster_dt$group_new[summary_dt$group]\n",
        "\n",
        "# summary_dt[,list(agbd_postval = mean(agbd_postval),n = length(agbd_postval)),by=group_quantile][order(agbd_postval)]\n",
        "\n",
        "# summary_dt[,list(agbd_postval = mean(agbd_postval),n = length(agbd_postval)),by=group][order(agbd_postval)]\n",
        "\n",
        "plot_dt$yod %>% max\n",
        "\n",
        "plot_dt %>%\n",
        "\n",
        "ggplot(aes(x=yad,y=agbd_yr,group=group))+\n",
        "\n",
        "geom_point()+\n",
        "\n",
        "geom_smooth(aes(color=group))\n",
        "\n",
        "\n",
        "# plot_dt %>%\n",
        "# ggplot(aes(x=yad,y=agbd_yr_cumsum,group=group_quantile))+\n",
        "# geom_point()+\n",
        "# geom_line(aes(color=group_quantile))\n",
        "# geom_smooth(data=pred_dt,aes(),color='red')"
      ],
      "metadata": {
        "id": "_X_pF4TT9vRB"
      },
      "execution_count": null,
      "outputs": []
    },
    {
      "cell_type": "code",
      "source": [
        "gedi_vec_gpkg$area <- st_area(gedi_vec_gpkg)\n",
        "\n",
        "summary_dt$gedi_clust <- st_intersects(summary_dt$geom,gedi_vec_gpkg) %>% lapply(function(x){x[1]}) %>% unlist\n",
        "summary_dt$gedi_clust_area <- gedi_vec_gpkg$area[summary_dt$gedi_clust]"
      ],
      "metadata": {
        "id": "W-VRWy919p2O"
      },
      "execution_count": null,
      "outputs": []
    },
    {
      "cell_type": "code",
      "source": [
        "summary_dt[min.yod > 1984 & agbd>0 &l4_quality_flag ==1,] %>%\n",
        "  ggplot(aes(y=(agbd - agbd_preval)/(2023-max.yod),x=max.yod,group=group))+\n",
        "  geom_point() +\n",
        "  # geom_line(aes(color=group))+\n",
        "  geom_smooth(aes(color=group))"
      ],
      "metadata": {
        "id": "ooqmNof1AuNl"
      },
      "execution_count": null,
      "outputs": []
    },
    {
      "cell_type": "code",
      "source": [
        "huc_8_int <- summary_dt %>% st_as_sf %>% st_intersects(huc_8_gpgk)\n",
        "\n",
        "huc_10_int <- summary_dt %>% st_as_sf %>% st_intersects(huc_10_gpgk)\n",
        "\n",
        "huc_12_int <- summary_dt %>% st_as_sf %>% st_intersects(huc_12_gpgk)"
      ],
      "metadata": {
        "id": "ioGSIgshMojf"
      },
      "execution_count": null,
      "outputs": []
    },
    {
      "cell_type": "code",
      "source": [
        "huc_8_summary_dt <- data.table(summary_dt, (huc_8_gpgk %>% data.table)[,c('TNMID','HUC8','Name')][huc_8_int %>% lapply(function(x){x[1]}) %>% unlist,])\n",
        "huc_10_summary_dt <- data.table(summary_dt, (huc_10_gpgk %>% data.table)[,c('TNMID','HUC10','Name')][huc_10_int %>% lapply(function(x){x[1]}) %>% unlist,])\n",
        "huc_12_summary_dt <- data.table(summary_dt, (huc_12_gpgk %>% data.table)[,c('TNMID','HUC12','Name')][huc_12_int %>% lapply(function(x){x[1]}) %>% unlist,])"
      ],
      "metadata": {
        "id": "Oh3ejwKJOF8z"
      },
      "execution_count": null,
      "outputs": []
    },
    {
      "cell_type": "code",
      "source": [
        "targ_dt <- huc_10_summary_dt[Name == 'Thomas Creek' & group ==1]\n",
        "\n",
        "loess_dt <- huc_10_summary_dt[min.yod>1984 &agbd>0 ,][,yod_round := round(mean.yod)][,list(agbd = mean(agbd-agbd_preval,na.rm=T),yad = mean(2023-mean.yod),n = length(mean.yod)),by = .(group,Name,yod_round)][yad>3]\n",
        "\n",
        "huc_10_summary_dt[,yad := 2023-mean.yod]\n",
        "targ_dt$agbd_pred <-\n",
        "predict(loess_dt[Name == 'Thomas Creek' & group == 1] %>%\n",
        "  loess(agbd~yad,.), targ_dt)"
      ],
      "metadata": {
        "id": "rHcRc44CoZUB"
      },
      "execution_count": null,
      "outputs": []
    },
    {
      "cell_type": "code",
      "source": [
        "targ_dt[yad>3,] %>%\n",
        "  ggplot(aes(x=agbd_pred-agbd))+\n",
        "  geom_histogram(bins=100)"
      ],
      "metadata": {
        "id": "VHXKFI43qb6o"
      },
      "execution_count": null,
      "outputs": []
    },
    {
      "cell_type": "code",
      "source": [
        "targ_dt[yad>3,] %>% st_as_sf() %>% st_write('/content/example.gpkg')"
      ],
      "metadata": {
        "id": "zTczNC-psVkZ"
      },
      "execution_count": null,
      "outputs": []
    },
    {
      "cell_type": "code",
      "source": [
        "huc_10_dist_table <- huc_10_summary_dt$Name %>% table\n",
        "huc_10_summary_dt <- huc_10_summary_dt[Name %in% c(huc_10_dist_table[huc_10_dist_table>100] %>% names),]\n",
        "\n",
        "huc_10_summary_dt[,group:=as.integer(cut((median.preval-median.mag)/median.preval, breaks = quantile((median.preval[!is.na(agbd) & median.preval > 0]-median.mag[!is.na(agbd) & median.preval > 0])/median.preval[!is.na(agbd) & median.preval > 0], probs = seq(0, 1, by = 0.25)), labels = FALSE, include.lowest = TRUE)) ,by = 'Name']\n",
        "\n",
        "\n",
        "\n",
        "fit <- loess(y ~ x)\n",
        "predictions <- predict(fit, newdata = data.frame(x = x))\n",
        "\n",
        "huc_10_summary_dt[min.yod>1984 &agbd>0 ,][,yod_round := round(mean.yod)][,list(agbd = mean(agbd-agbd_preval,na.rm=T),yad = mean(2023-mean.yod),n = length(mean.yod)),by = .(group,Name,yod_round)][yad>3] %>%\n",
        "ggplot(aes(x=yad,y=(floor(agbd))/ceiling(yad),group=group))+\n",
        "geom_point()+\n",
        "geom_smooth(aes(color=group)) +\n",
        "facet_wrap(Name~.)\n"
      ],
      "metadata": {
        "id": "uR3Sr08MgzjT"
      },
      "execution_count": null,
      "outputs": []
    },
    {
      "cell_type": "code",
      "source": [
        "huc_12_dist_table <- huc_12_summary_dt$Name %>% table\n",
        "huc_12_summary_dt <- huc_12_summary_dt[Name %in% c(huc_12_dist_table[huc_12_dist_table>100] %>% names),]\n",
        "\n",
        "huc_12_summary_dt[,group:=as.integer(cut((median.preval-median.mag)/median.preval, breaks = quantile((median.preval[!is.na(agbd) & median.preval > 0]-median.mag[!is.na(agbd) & median.preval > 0])/median.preval[!is.na(agbd) & median.preval > 0], probs = seq(0, 1, by = 0.25)), labels = FALSE, include.lowest = TRUE)) ,by = 'Name']\n",
        "\n",
        "\n",
        "\n",
        "\n",
        "\n",
        "huc_12_summary_dt[min.yod>1984 &agbd>0 ,][,yod_round := round(mean.yod)][,list(agbd = mean(agbd-agbd_preval,na.rm=T),yad = mean(2023-mean.yod),n = length(mean.yod)),by = .(group,Name,yod_round)][yad>3] %>%\n",
        "ggplot(aes(x=yad,y=(floor(agbd))/ceiling(yad),group=group))+\n",
        "geom_point()+\n",
        "geom_smooth(aes(color=group)) +\n",
        "facet_wrap(Name~.)"
      ],
      "metadata": {
        "id": "SCNJ9gdGk68j"
      },
      "execution_count": null,
      "outputs": []
    }
  ]
}
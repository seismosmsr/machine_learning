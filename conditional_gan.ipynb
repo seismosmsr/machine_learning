{
  "cells": [
    {
      "cell_type": "markdown",
      "metadata": {
        "id": "view-in-github",
        "colab_type": "text"
      },
      "source": [
        "<a href=\"https://colab.research.google.com/github/seismosmsr/machine_learning/blob/main/conditional_gan.ipynb\" target=\"_parent\"><img src=\"https://colab.research.google.com/assets/colab-badge.svg\" alt=\"Open In Colab\"/></a>"
      ]
    },
    {
      "cell_type": "markdown",
      "metadata": {
        "id": "Y50GdAhdqtgY"
      },
      "source": [
        "# Conditional GAN\n",
        "**Author:** [Aron Boettcher](spectral.online)<br>\n",
        "**Adapted from:** [Sayak Paul](https://twitter.com/RisingSayak)<br>\n",
        "**Date created:** 2021/07/13<br>\n",
        "**Last modified:** 2021/07/15<br>\n",
        "**Description:** Training a GAN conditioned on class labels to generate handwritten digits."
      ]
    },
    {
      "cell_type": "markdown",
      "metadata": {
        "id": "-meO-8ffqtgZ"
      },
      "source": [
        "Generative Adversarial Networks (GANs) let us generate novel image data, video data,\n",
        "or audio data from a random input. Typically, the random input is sampled\n",
        "from a normal distribution, before going through a series of transformations that turn\n",
        "it into something plausible (image, video, audio, etc.).\n",
        "\n",
        "However, a simple [DCGAN](https://arxiv.org/abs/1511.06434) doesn't let us control\n",
        "the appearance (e.g. class) of the samples we're generating. For instance,\n",
        "with a GAN that generates MNIST handwritten digits, a simple DCGAN wouldn't let us\n",
        "choose the class of digits we're generating.\n",
        "To be able to control what we generate, we need to _condition_ the GAN output\n",
        "on a semantic input, such as the class of an image.\n",
        "\n",
        "In this example, we'll build a **Conditional GAN** that can generate MNIST handwritten\n",
        "digits conditioned on a given class. Such a model can have various useful applications:\n",
        "\n",
        "* let's say you are dealing with an\n",
        "[imbalanced image dataset](https://developers.google.com/machine-learning/data-prep/construct/sampling-splitting/imbalanced-data),\n",
        "and you'd like to gather more examples for the skewed class to balance the dataset.\n",
        "Data collection can be a costly process on its own. You could instead train a Conditional GAN and use\n",
        "it to generate novel images for the class that needs balancing.\n",
        "* Since the generator learns to associate the generated samples with the class labels,\n",
        "its representations can also be used for [other downstream tasks](https://arxiv.org/abs/1809.11096).\n",
        "\n",
        "Following are the references used for developing this example:\n",
        "\n",
        "* [Conditional Generative Adversarial Nets](https://arxiv.org/abs/1411.1784)\n",
        "* [Lecture on Conditional Generation from Coursera](https://www.coursera.org/lecture/build-basic-generative-adversarial-networks-gans/conditional-generation-inputs-2OPrG)\n",
        "\n",
        "If you need a refresher on GANs, you can refer to the \"Generative adversarial networks\"\n",
        "section of\n",
        "[this resource](https://livebook.manning.com/book/deep-learning-with-python-second-edition/chapter-12/r-3/232).\n",
        "\n",
        "This example requires TensorFlow 2.5 or higher, as well as TensorFlow Docs, which can be\n",
        "installed using the following command:"
      ]
    },
    {
      "cell_type": "code",
      "execution_count": 87,
      "metadata": {
        "id": "V8Zi-apyqtgZ"
      },
      "outputs": [],
      "source": [
        "!pip install -q git+https://github.com/tensorflow/docs"
      ]
    },
    {
      "cell_type": "markdown",
      "metadata": {
        "id": "cE4an01rqtga"
      },
      "source": [
        "## Imports"
      ]
    },
    {
      "cell_type": "code",
      "execution_count": 88,
      "metadata": {
        "id": "M4msdB2Qqtga"
      },
      "outputs": [],
      "source": [
        "from tensorflow import keras\n",
        "from tensorflow.keras import layers\n",
        "\n",
        "from tensorflow_docs.vis import embed\n",
        "import matplotlib.pyplot as plt\n",
        "import tensorflow as tf\n",
        "import numpy as np\n",
        "import imageio"
      ]
    },
    {
      "cell_type": "markdown",
      "metadata": {
        "id": "3lTXrmg8qtga"
      },
      "source": [
        "## Constants and hyperparameters"
      ]
    },
    {
      "cell_type": "code",
      "execution_count": 89,
      "metadata": {
        "id": "7RCu_-uVqtga"
      },
      "outputs": [],
      "source": [
        "batch_size = 256\n",
        "num_channels = 1\n",
        "num_classes = 101\n",
        "image_size = 512\n",
        "latent_dim = 512"
      ]
    },
    {
      "cell_type": "markdown",
      "metadata": {
        "id": "Uw35q14Sqtgb"
      },
      "source": [
        "## Loading the MNIST dataset and preprocessing it"
      ]
    },
    {
      "cell_type": "code",
      "source": [
        "!pip install gdown\n",
        "import gdown\n",
        "import zipfile\n",
        "import os\n",
        "\n",
        "# I switched to pngs and jpgs to try and use tensorflows native vectorization\n",
        "#todo: get gdal working so you can just use geotiff\n",
        "url = 'https://drive.google.com/uc?id=1kwU_CkP1X5M1CDlYKPkb9p5J8GulWBXr'\n",
        "output = 'sample_test.csv'\n",
        "\n",
        "#Update with proper validation data\n",
        "# https://drive.google.com/file/d/1unLB1XCJHoul3gqGYGzqSS8QMr5ZvJ9h/view?usp=sharing\n",
        "gdown.download(url,output,quiet = False)\n",
        "\n",
        "url = 'https://drive.google.com/uc?id=1graojPHaMvZGHmocsUFLds9bFWQG_mr6'\n",
        "output = 'sample_train.csv'\n",
        "\n",
        "#Update with proper validation data\n",
        "# https://drive.google.com/file/d/1unLB1XCJHoul3gqGYGzqSS8QMr5ZvJ9h/view?usp=sharing\n",
        "gdown.download(url,output,quiet = False)\n",
        "# cwd = os.getcwd()\n",
        "# with zipfile.ZipFile(cwd+'/sample.zip', 'r') as zip_ref:\n",
        "#     zip_ref.extractall(cwd+'/sample')\n",
        "\n",
        "# PATH = os.path.join(os.path.dirname(cwd+'/sample/'), 'sample/')\n",
        "# print(PATH)"
      ],
      "metadata": {
        "id": "9724Jbw9sRSb",
        "outputId": "855ccb21-8459-4eb9-e1e7-a39663fe254a",
        "colab": {
          "base_uri": "https://localhost:8080/",
          "height": 385
        }
      },
      "execution_count": 90,
      "outputs": [
        {
          "output_type": "stream",
          "name": "stdout",
          "text": [
            "Requirement already satisfied: gdown in /usr/local/lib/python3.7/dist-packages (4.4.0)\n",
            "Requirement already satisfied: requests[socks] in /usr/local/lib/python3.7/dist-packages (from gdown) (2.23.0)\n",
            "Requirement already satisfied: six in /usr/local/lib/python3.7/dist-packages (from gdown) (1.15.0)\n",
            "Requirement already satisfied: tqdm in /usr/local/lib/python3.7/dist-packages (from gdown) (4.64.0)\n",
            "Requirement already satisfied: beautifulsoup4 in /usr/local/lib/python3.7/dist-packages (from gdown) (4.6.3)\n",
            "Requirement already satisfied: filelock in /usr/local/lib/python3.7/dist-packages (from gdown) (3.6.0)\n",
            "Requirement already satisfied: urllib3!=1.25.0,!=1.25.1,<1.26,>=1.21.1 in /usr/local/lib/python3.7/dist-packages (from requests[socks]->gdown) (1.24.3)\n",
            "Requirement already satisfied: idna<3,>=2.5 in /usr/local/lib/python3.7/dist-packages (from requests[socks]->gdown) (2.10)\n",
            "Requirement already satisfied: chardet<4,>=3.0.2 in /usr/local/lib/python3.7/dist-packages (from requests[socks]->gdown) (3.0.4)\n",
            "Requirement already satisfied: certifi>=2017.4.17 in /usr/local/lib/python3.7/dist-packages (from requests[socks]->gdown) (2021.10.8)\n",
            "Requirement already satisfied: PySocks!=1.5.7,>=1.5.6 in /usr/local/lib/python3.7/dist-packages (from requests[socks]->gdown) (1.7.1)\n"
          ]
        },
        {
          "output_type": "stream",
          "name": "stderr",
          "text": [
            "Downloading...\n",
            "From: https://drive.google.com/uc?id=1kwU_CkP1X5M1CDlYKPkb9p5J8GulWBXr\n",
            "To: /content/sample_test.csv\n",
            "100%|██████████| 95.6M/95.6M [00:00<00:00, 263MB/s]\n",
            "Downloading...\n",
            "From: https://drive.google.com/uc?id=1graojPHaMvZGHmocsUFLds9bFWQG_mr6\n",
            "To: /content/sample_train.csv\n",
            "100%|██████████| 1.75G/1.75G [00:08<00:00, 209MB/s]\n"
          ]
        },
        {
          "output_type": "execute_result",
          "data": {
            "text/plain": [
              "'sample_train.csv'"
            ],
            "application/vnd.google.colaboratory.intrinsic+json": {
              "type": "string"
            }
          },
          "metadata": {},
          "execution_count": 90
        }
      ]
    },
    {
      "cell_type": "code",
      "source": [
        "# generate n real samples with class labels\n",
        "def generate_real_samples(s,filename = '/content/sample.csv'):\n",
        "  import random\n",
        "  import pandas\n",
        "  import numpy\n",
        "\t# Sample s rows of data.frame\n",
        "\n",
        "  #number of records in file (excludes header)\n",
        "  n = sum(1 for line in open(filename)) - 1 \n",
        "\n",
        "  #the 0-indexed header will not be included in the skip list\n",
        "  skip = sorted(random.sample(range(1,n+1),n-s)) \n",
        "  df = pandas.read_csv(filename, skiprows=skip)\n",
        "  X = []\n",
        "  for i in range(len(df.index)):\n",
        "    text_exa = df['rh'][i]\n",
        "    text_exa = str(text_exa).replace(\"{\",\"\").replace(\"}\", \"\")\n",
        "    test_exa = text_exa.split(\",\")\n",
        "    test_exa = [float(i) for i in test_exa]\n",
        "    # test_exa = test_exa\n",
        "    X.append(test_exa)\n",
        "\n",
        "\n",
        "\t# generate class labels\n",
        "  y = []\n",
        "  for i in range(len(df.index)):\n",
        "    # y_one = numpy.ones(1)\n",
        "    y_one = df['ls'][i]\n",
        "    y_one = str(y_one).replace(\"{\",\"\").replace(\"}\", \"\")\n",
        "    y_one = y_one.split(\",\")\n",
        "    y_one = [float(i) for i in y_one]\n",
        "    y.append(y_one)\n",
        "\n",
        "    \n",
        "  X = numpy.array(X)\n",
        "  y = numpy.array(y)\n",
        "\n",
        "  X = (X.astype(\"float32\") / 65455.0).astype(\"float32\")\n",
        "  y =(y.astype(\"float32\")+100)/255\n",
        "  return X, y"
      ],
      "metadata": {
        "id": "Bu4Q-00Hu63I"
      },
      "execution_count": 91,
      "outputs": []
    },
    {
      "cell_type": "code",
      "source": [
        "# generate_real_samples(2)"
      ],
      "metadata": {
        "id": "iUZVkDJYvAyU"
      },
      "execution_count": 92,
      "outputs": []
    },
    {
      "cell_type": "code",
      "execution_count": 93,
      "metadata": {
        "id": "u99NsBjlqtgb"
      },
      "outputs": [],
      "source": [
        "import numpy as np\n",
        "import tensorflow as tf\n",
        "\n",
        "# We'll use all the available examples from both the training and test\n",
        "# sets.\n",
        "# (x_train, y_train), (x_test, y_test) = keras.datasets.mnist.load_data()\n",
        "(x_train, y_train) = generate_real_samples(450000,filename = '/content/sample_train.csv')\n",
        "(x_test, y_test) = generate_real_samples(2000,filename = '/content/sample_test.csv')\n",
        "\n",
        "# all_pixels = x_train\n",
        "# all_labels = np.concatenate([y_train, y_test])\n",
        "\n",
        "# # Scale based on reflectence values:\n",
        "# # https://developers.google.com/earth-engine/datasets/catalog/LANDSAT_LC08_C02_T1_L2?hl=en#bands\n",
        "# x_train = (x_train.astype(\"float32\") / 65455.0).astype(\"float32\")\n",
        "# all_labels =(y_train.astype(\"float32\")+100)/255\n",
        "\n",
        "# x_test = (x_test.astype(\"float32\") / 65455.0).astype(\"float32\")\n",
        "# y_test =(y_test.astype(\"float32\")+100)/255\n",
        "# # Create tf.data.Dataset.\n",
        "dataset_train = tf.data.Dataset.from_tensor_slices((y_train,x_train))\n",
        "dataset_train = dataset_train.shuffle(buffer_size=1024).batch(batch_size)\n",
        "\n",
        "dataset_test = tf.data.Dataset.from_tensor_slices((y_test,x_test))\n",
        "dataset_test = dataset_test.shuffle(buffer_size=1024).batch(batch_size)\n",
        "\n",
        "# print(f\"Shape of training images: {all_labels[1]}\")\n",
        "# print(f\"Shape of training images: {all_pixels.shape}\")\n",
        "# print(f\"Shape of training labels: {all_labels.shape}\")"
      ]
    },
    {
      "cell_type": "code",
      "source": [
        "print(x_train[1])"
      ],
      "metadata": {
        "colab": {
          "base_uri": "https://localhost:8080/"
        },
        "id": "g701wfbmj94D",
        "outputId": "0bf8272d-6716-4417-979d-9bab3b976a40"
      },
      "execution_count": 94,
      "outputs": [
        {
          "output_type": "stream",
          "name": "stdout",
          "text": [
            "[-8.15827661e-05 -7.59300237e-05 -7.01245153e-05 -6.44717729e-05\n",
            " -5.98884726e-05 -5.53051686e-05 -5.13329760e-05 -4.73607797e-05\n",
            " -4.38469142e-05 -4.04858329e-05 -3.71247443e-05 -3.42219864e-05\n",
            " -3.13192249e-05 -2.90275766e-05 -2.67359246e-05 -2.44442745e-05\n",
            " -2.21526243e-05 -1.98609723e-05 -1.75693222e-05 -1.58887779e-05\n",
            " -1.35971277e-05 -1.19165834e-05 -1.02360400e-05 -8.55549661e-06\n",
            " -6.26384553e-06 -4.43052477e-06 -2.74998092e-06 -1.06943708e-06\n",
            "  4.58330135e-07  2.13887415e-06  4.43052477e-06  6.26384553e-06\n",
            "  7.94438893e-06  9.62493323e-06  1.13054775e-05  1.35971277e-05\n",
            "  1.52776720e-05  1.71109932e-05  1.94026434e-05  2.10831877e-05\n",
            "  2.33748378e-05  2.50553821e-05  2.73470323e-05  2.90275766e-05\n",
            "  3.13192249e-05  3.29997711e-05  3.52914212e-05  3.71247443e-05\n",
            "  3.94163908e-05  4.10969369e-05  4.33885871e-05  4.50691332e-05\n",
            "  4.67496757e-05  4.90413258e-05  5.07218683e-05  5.25551914e-05\n",
            "  5.42357338e-05  5.65273876e-05  5.82079265e-05  5.98884726e-05\n",
            "  6.21801228e-05  6.38606653e-05  6.56939883e-05  6.79856385e-05\n",
            "  6.96661809e-05  7.19578311e-05  7.42494885e-05  7.59300237e-05\n",
            "  7.82216739e-05  8.05133313e-05  8.32633086e-05  8.61660665e-05\n",
            "  8.90688243e-05  9.19715822e-05  9.53326671e-05  9.93048670e-05\n",
            "  1.03888167e-04  1.09082575e-04  1.15346425e-04  1.22221376e-04\n",
            "  1.30776869e-04  1.40401797e-04  1.54762820e-04  1.73554348e-04\n",
            "  1.94790307e-04  2.32526174e-04  2.67359253e-04  2.84470269e-04\n",
            "  2.99289590e-04  3.12428398e-04  3.23886663e-04  3.33511562e-04\n",
            "  3.42678191e-04  3.51233670e-04  3.59789148e-04  3.68955778e-04\n",
            "  3.79344594e-04  3.90650064e-04  4.01497236e-04  4.12344350e-04\n",
            "  4.24413738e-04]\n"
          ]
        }
      ]
    },
    {
      "cell_type": "markdown",
      "metadata": {
        "id": "35LbRuf5qtgb"
      },
      "source": [
        "## Calculating the number of input channel for the generator and discriminator\n",
        "\n",
        "In a regular (unconditional) GAN, we start by sampling noise (of some fixed\n",
        "dimension) from a normal distribution. In our case, we also need to account\n",
        "for the class labels. We will have to add the number of classes to\n",
        "the input channels of the generator (noise input) as well as the discriminator\n",
        "(generated image input)."
      ]
    },
    {
      "cell_type": "code",
      "execution_count": 95,
      "metadata": {
        "colab": {
          "base_uri": "https://localhost:8080/"
        },
        "id": "RAlWShbvqtgc",
        "outputId": "ef8252ab-3db8-47f8-9db1-868b6650339f"
      },
      "outputs": [
        {
          "output_type": "stream",
          "name": "stdout",
          "text": [
            "1024 613\n"
          ]
        }
      ],
      "source": [
        "generator_in_channels = latent_dim + image_size\n",
        "discriminator_in_channels = image_size + num_classes\n",
        "print(generator_in_channels, discriminator_in_channels)"
      ]
    },
    {
      "cell_type": "markdown",
      "metadata": {
        "id": "PmsGUffgqtgc"
      },
      "source": [
        "## Creating the discriminator and generator\n",
        "\n",
        "The model definitions (`discriminator`, `generator`, and `ConditionalGAN`) have been\n",
        "adapted from [this example](https://keras.io/guides/customizing_what_happens_in_fit/)."
      ]
    },
    {
      "cell_type": "code",
      "source": [
        "from keras import Input\n",
        "from keras.layers import Conv1D\n",
        "from keras.layers import MaxPooling1D\n",
        "from keras.layers import LSTM\n",
        "from keras.layers import Dense\n",
        "from keras.layers import Reshape\n",
        "from keras.layers import Dropout\n",
        "\n",
        "from keras import Model\n",
        "input_layer = Input(shape=(512))\n",
        "dense1 = Dense(1024, activation='relu')(input_layer)\n",
        "dense2 = Dense(1024, activation='relu')(dense1)\n",
        "dropout1 =  Dropout(.5)(dense2)\n",
        "resh1 = Reshape(target_shape=(1,16,64))(dropout1)\n",
        "conv1 = Conv1D(filters=32,\n",
        "               kernel_size=16,\n",
        "               strides=1,\n",
        "               activation='relu')(resh1)\n",
        "resh1 = Reshape(target_shape=(32,1))(conv1)\n",
        "pool1 = MaxPooling1D(pool_size=2)(resh1)\n",
        "lstm1 = LSTM(32)(pool1)\n",
        "output_layer = Dense(101, activation='linear')(lstm1)\n",
        "model = Model(inputs=input_layer, outputs=output_layer)\n",
        "optimizer = keras.optimizers.Adam(lr=0.000001)\n",
        "model.compile(loss=\"MeanSquaredError\", optimizer=optimizer)"
      ],
      "metadata": {
        "colab": {
          "base_uri": "https://localhost:8080/"
        },
        "id": "sw0dsc9Y1jOU",
        "outputId": "82b2cb85-38f2-47eb-88ce-f506c0e51df7"
      },
      "execution_count": 96,
      "outputs": [
        {
          "output_type": "stream",
          "name": "stderr",
          "text": [
            "/usr/local/lib/python3.7/dist-packages/keras/optimizer_v2/adam.py:105: UserWarning: The `lr` argument is deprecated, use `learning_rate` instead.\n",
            "  super(Adam, self).__init__(name, **kwargs)\n"
          ]
        }
      ]
    },
    {
      "cell_type": "code",
      "execution_count": 97,
      "metadata": {
        "id": "2niCQ0yXqtgc"
      },
      "outputs": [],
      "source": [
        "from keras import Input\n",
        "from keras.layers import Conv1D\n",
        "from keras.layers import MaxPooling1D\n",
        "from keras.layers import LSTM\n",
        "from keras.layers import Dense\n",
        "from keras.layers import Reshape\n",
        "from keras.layers import Dropout\n",
        "\n",
        "# Create the discriminator.\n",
        "discriminator = keras.Sequential(\n",
        "    [\n",
        "        keras.layers.InputLayer((discriminator_in_channels,)),\n",
        "        layers.Dense(1024),\n",
        "        layers.LeakyReLU(alpha=0.2),\n",
        "        layers.Dropout(.5),\n",
        "        layers.Dense(1024),\n",
        "        layers.LeakyReLU(alpha=0.2),\n",
        "        layers.Reshape(target_shape=(1,16,64)),\n",
        "        layers.Conv1D(filters=32,\n",
        "               kernel_size=16,\n",
        "               strides=1,\n",
        "               activation='relu'),\n",
        "        layers.Reshape(target_shape=(32,1)),\n",
        "        layers.MaxPooling1D(pool_size=2),\n",
        "        layers.LSTM(32),\n",
        "        layers.Dense(128),\n",
        "        layers.LeakyReLU(alpha=0.2),\n",
        "        layers.Dense(1),\n",
        "    ],\n",
        "    name=\"discriminator\",\n",
        ")\n",
        "\n",
        "# Create the generator.\n",
        "generator = keras.Sequential(\n",
        "    [\n",
        "        keras.layers.InputLayer((generator_in_channels,)),\n",
        "        layers.Dense(1024),\n",
        "        layers.LeakyReLU(alpha=0.2),\n",
        "        layers.Dropout(.5),\n",
        "        layers.Dense(1024),\n",
        "        layers.LeakyReLU(alpha=0.2),\n",
        "        layers.Reshape(target_shape=(1,16,64)),\n",
        "        layers.Conv1D(filters=32,\n",
        "               kernel_size=16,\n",
        "               strides=1,\n",
        "               activation='relu'),\n",
        "        layers.Reshape(target_shape=(32,1)),\n",
        "        layers.MaxPooling1D(pool_size=2),\n",
        "        layers.LSTM(32),\n",
        "        layers.Dense(128),\n",
        "        layers.LeakyReLU(alpha=0.2),\n",
        "        layers.Dense(num_classes,  activation=\"linear\"),\n",
        "    ],\n",
        "    name=\"generator\",\n",
        ")"
      ]
    },
    {
      "cell_type": "markdown",
      "metadata": {
        "id": "vYXoy-O_qtgc"
      },
      "source": [
        "## Creating a `ConditionalGAN` model"
      ]
    },
    {
      "cell_type": "code",
      "execution_count": 98,
      "metadata": {
        "id": "uT_y3xRwqtgd"
      },
      "outputs": [],
      "source": [
        "\n",
        "class ConditionalGAN(keras.Model):\n",
        "  \n",
        "    def __init__(self, discriminator, generator, latent_dim):\n",
        "        super(ConditionalGAN, self).__init__()\n",
        "        # Create the discriminator.\n",
        "        discriminator = keras.Sequential(\n",
        "            [\n",
        "                keras.layers.InputLayer((discriminator_in_channels,)),\n",
        "                layers.Dense(512),\n",
        "                layers.LeakyReLU(alpha=0.2),\n",
        "                layers.Dense(256),\n",
        "                layers.LeakyReLU(alpha=0.2),\n",
        "                layers.Dense(128),\n",
        "                layers.LeakyReLU(alpha=0.2),\n",
        "                layers.Dense(1),\n",
        "            ],\n",
        "            name=\"discriminator\",\n",
        "        )\n",
        "\n",
        "        # Create the generator.\n",
        "        generator = keras.Sequential(\n",
        "            [\n",
        "                keras.layers.InputLayer((generator_in_channels,)),\n",
        "                layers.Dense(1024),\n",
        "                layers.LeakyReLU(alpha=0.2),\n",
        "                layers.Dense(512),\n",
        "                layers.LeakyReLU(alpha=0.2),\n",
        "                layers.Dense(256),\n",
        "                layers.LeakyReLU(alpha=0.2),\n",
        "                layers.Dense(128),\n",
        "                layers.LeakyReLU(alpha=0.2),\n",
        "                layers.Dense(num_classes,  activation=\"linear\"),\n",
        "            ],\n",
        "            name=\"generator\",\n",
        "        )\n",
        "        self.discriminator = discriminator\n",
        "        self.generator = generator\n",
        "        self.latent_dim = latent_dim\n",
        "        self.gen_loss_tracker = keras.metrics.Mean(name=\"generator_loss\")\n",
        "        self.disc_loss_tracker = keras.metrics.Mean(name=\"discriminator_loss\")\n",
        "\n",
        "    @property\n",
        "    def metrics(self):\n",
        "        return [self.gen_loss_tracker, self.disc_loss_tracker]\n",
        "\n",
        "    def compile(self, d_optimizer, g_optimizer, loss_fn):\n",
        "        super(ConditionalGAN, self).compile()\n",
        "        self.d_optimizer = d_optimizer\n",
        "        self.g_optimizer = g_optimizer\n",
        "        self.loss_fn = loss_fn\n",
        "\n",
        "    def train_step(self, data):\n",
        "        # Unpack the data.\n",
        "        real_pixels, real_labels = data\n",
        "        # print(real_pixels[0])\n",
        "        # Sample random points in the latent space and concatenate the labels.\n",
        "        # This is for the generator.\n",
        "        batch_size = tf.shape(real_pixels)[0]\n",
        "        random_latent_vectors = tf.random.normal(shape=(batch_size, self.latent_dim))\n",
        "        # print(random_latent_vectors[0])\n",
        "        random_vector_pixels = tf.concat(\n",
        "            [random_latent_vectors, real_pixels], axis=1\n",
        "        )\n",
        "        # print(random_vector_pixels[0])\n",
        "        # Decode the noise (guided by labels) to fake images.\n",
        "        generated_labels = self.generator(random_vector_pixels)\n",
        "\n",
        "        # Combine them with real images. Note that we are concatenating the labels\n",
        "        # with these images here.\n",
        "        fake_pixel_and_labels = tf.concat([generated_labels, real_pixels], -1)\n",
        "        real_pixel_and_labels = tf.concat([real_labels, real_pixels], -1)\n",
        "        combined_images = tf.concat(\n",
        "            [fake_pixel_and_labels, real_pixel_and_labels], axis=0\n",
        "        )\n",
        "\n",
        "        # Assemble labels discriminating real from fake images.\n",
        "        labels = tf.concat(\n",
        "            [tf.ones((batch_size, 1)), tf.zeros((batch_size, 1))], axis=0\n",
        "        )\n",
        "\n",
        "        # Train the discriminator.\n",
        "        with tf.GradientTape() as tape:\n",
        "            predictions = self.discriminator(combined_images)\n",
        "            d_loss = self.loss_fn(labels, predictions)\n",
        "        grads = tape.gradient(d_loss, self.discriminator.trainable_weights)\n",
        "        self.d_optimizer.apply_gradients(\n",
        "            zip(grads, self.discriminator.trainable_weights)\n",
        "        )\n",
        "\n",
        "        # Sample random points in the latent space.\n",
        "        random_latent_vectors = tf.random.normal(shape=(batch_size, self.latent_dim))\n",
        "        random_vector_labels = tf.concat(\n",
        "            [random_latent_vectors, real_pixels], axis=1\n",
        "        )\n",
        "\n",
        "        # Assemble labels that say \"all real images\".\n",
        "        misleading_labels = tf.zeros((batch_size, 1))\n",
        "\n",
        "        # Train the generator (note that we should *not* update the weights\n",
        "        # of the discriminator)!\n",
        "        with tf.GradientTape() as tape:\n",
        "            fake_labels = self.generator(random_vector_labels)\n",
        "            fake_pixels_and_labels = tf.concat([real_pixels, fake_labels], -1)\n",
        "            predictions = self.discriminator(fake_pixels_and_labels)\n",
        "            g_loss = self.loss_fn(misleading_labels, predictions)\n",
        "        grads = tape.gradient(g_loss, self.generator.trainable_weights)\n",
        "        self.g_optimizer.apply_gradients(zip(grads, self.generator.trainable_weights))\n",
        "\n",
        "        # Monitor loss.\n",
        "        self.gen_loss_tracker.update_state(g_loss)\n",
        "        self.disc_loss_tracker.update_state(d_loss)\n",
        "        return {\n",
        "            \"g_loss\": self.gen_loss_tracker.result(),\n",
        "            \"d_loss\": self.disc_loss_tracker.result(),\n",
        "        }\n"
      ]
    },
    {
      "cell_type": "markdown",
      "metadata": {
        "id": "-L8GawiTqtge"
      },
      "source": [
        "## Training the Conditional GAN"
      ]
    },
    {
      "cell_type": "code",
      "execution_count": 99,
      "metadata": {
        "colab": {
          "base_uri": "https://localhost:8080/",
          "height": 919
        },
        "id": "I29l7pJCqtge",
        "outputId": "b3fec826-5130-482d-8faa-aaef0b9c64ed"
      },
      "outputs": [
        {
          "output_type": "stream",
          "name": "stdout",
          "text": [
            "Epoch 1/50\n",
            "1758/1758 [==============================] - 12s 6ms/step - g_loss: 34.7539 - d_loss: 10.1217\n",
            "Epoch 2/50\n",
            "1758/1758 [==============================] - 11s 6ms/step - g_loss: 0.5880 - d_loss: 0.7012\n",
            "Epoch 3/50\n",
            "1758/1758 [==============================] - 11s 6ms/step - g_loss: 0.0437 - d_loss: 0.0732\n",
            "Epoch 4/50\n",
            "1758/1758 [==============================] - 11s 6ms/step - g_loss: 0.0086 - d_loss: 0.0136\n",
            "Epoch 5/50\n",
            "1758/1758 [==============================] - 11s 6ms/step - g_loss: 0.0022 - d_loss: 0.0032\n",
            "Epoch 6/50\n",
            "1758/1758 [==============================] - 11s 6ms/step - g_loss: 5.8966e-04 - d_loss: 8.2137e-04\n",
            "Epoch 7/50\n",
            "1758/1758 [==============================] - 11s 6ms/step - g_loss: 1.9074e-04 - d_loss: 2.4303e-04\n",
            "Epoch 8/50\n",
            "1758/1758 [==============================] - 11s 6ms/step - g_loss: 4.8850e-05 - d_loss: 7.7565e-05\n",
            "Epoch 9/50\n",
            "1758/1758 [==============================] - 11s 6ms/step - g_loss: 7.2867e-06 - d_loss: 3.0153e-05\n",
            "Epoch 10/50\n",
            "1758/1758 [==============================] - 11s 6ms/step - g_loss: 9.0680e-07 - d_loss: 1.5659e-05\n",
            "Epoch 11/50\n",
            "1758/1758 [==============================] - 13s 7ms/step - g_loss: 2.7850e-07 - d_loss: 9.2630e-06\n",
            "Epoch 12/50\n",
            "1758/1758 [==============================] - 11s 6ms/step - g_loss: 1.2046e-07 - d_loss: 4.6557e-06\n",
            "Epoch 13/50\n",
            "1758/1758 [==============================] - 11s 6ms/step - g_loss: 5.7330e-08 - d_loss: 1.3818e-06\n",
            "Epoch 14/50\n",
            "1758/1758 [==============================] - 11s 6ms/step - g_loss: 7.8096e-09 - d_loss: 1.5912e-07\n",
            "Epoch 15/50\n",
            "1340/1758 [=====================>........] - ETA: 2s - g_loss: 2.7430e-09 - d_loss: 7.6986e-08"
          ]
        },
        {
          "output_type": "error",
          "ename": "KeyboardInterrupt",
          "evalue": "ignored",
          "traceback": [
            "\u001b[0;31m---------------------------------------------------------------------------\u001b[0m",
            "\u001b[0;31mKeyboardInterrupt\u001b[0m                         Traceback (most recent call last)",
            "\u001b[0;32m<ipython-input-99-39da23c3d12c>\u001b[0m in \u001b[0;36m<module>\u001b[0;34m()\u001b[0m\n\u001b[1;32m      8\u001b[0m )\n\u001b[1;32m      9\u001b[0m \u001b[0;34m\u001b[0m\u001b[0m\n\u001b[0;32m---> 10\u001b[0;31m \u001b[0mcond_gan\u001b[0m\u001b[0;34m.\u001b[0m\u001b[0mfit\u001b[0m\u001b[0;34m(\u001b[0m\u001b[0mdataset_train\u001b[0m\u001b[0;34m,\u001b[0m \u001b[0mepochs\u001b[0m\u001b[0;34m=\u001b[0m\u001b[0;36m50\u001b[0m\u001b[0;34m)\u001b[0m\u001b[0;34m\u001b[0m\u001b[0;34m\u001b[0m\u001b[0m\n\u001b[0m",
            "\u001b[0;32m/usr/local/lib/python3.7/dist-packages/keras/utils/traceback_utils.py\u001b[0m in \u001b[0;36merror_handler\u001b[0;34m(*args, **kwargs)\u001b[0m\n\u001b[1;32m     62\u001b[0m     \u001b[0mfiltered_tb\u001b[0m \u001b[0;34m=\u001b[0m \u001b[0;32mNone\u001b[0m\u001b[0;34m\u001b[0m\u001b[0;34m\u001b[0m\u001b[0m\n\u001b[1;32m     63\u001b[0m     \u001b[0;32mtry\u001b[0m\u001b[0;34m:\u001b[0m\u001b[0;34m\u001b[0m\u001b[0;34m\u001b[0m\u001b[0m\n\u001b[0;32m---> 64\u001b[0;31m       \u001b[0;32mreturn\u001b[0m \u001b[0mfn\u001b[0m\u001b[0;34m(\u001b[0m\u001b[0;34m*\u001b[0m\u001b[0margs\u001b[0m\u001b[0;34m,\u001b[0m \u001b[0;34m**\u001b[0m\u001b[0mkwargs\u001b[0m\u001b[0;34m)\u001b[0m\u001b[0;34m\u001b[0m\u001b[0;34m\u001b[0m\u001b[0m\n\u001b[0m\u001b[1;32m     65\u001b[0m     \u001b[0;32mexcept\u001b[0m \u001b[0mException\u001b[0m \u001b[0;32mas\u001b[0m \u001b[0me\u001b[0m\u001b[0;34m:\u001b[0m  \u001b[0;31m# pylint: disable=broad-except\u001b[0m\u001b[0;34m\u001b[0m\u001b[0;34m\u001b[0m\u001b[0m\n\u001b[1;32m     66\u001b[0m       \u001b[0mfiltered_tb\u001b[0m \u001b[0;34m=\u001b[0m \u001b[0m_process_traceback_frames\u001b[0m\u001b[0;34m(\u001b[0m\u001b[0me\u001b[0m\u001b[0;34m.\u001b[0m\u001b[0m__traceback__\u001b[0m\u001b[0;34m)\u001b[0m\u001b[0;34m\u001b[0m\u001b[0;34m\u001b[0m\u001b[0m\n",
            "\u001b[0;32m/usr/local/lib/python3.7/dist-packages/keras/engine/training.py\u001b[0m in \u001b[0;36mfit\u001b[0;34m(self, x, y, batch_size, epochs, verbose, callbacks, validation_split, validation_data, shuffle, class_weight, sample_weight, initial_epoch, steps_per_epoch, validation_steps, validation_batch_size, validation_freq, max_queue_size, workers, use_multiprocessing)\u001b[0m\n\u001b[1;32m   1387\u001b[0m               \u001b[0mlogs\u001b[0m \u001b[0;34m=\u001b[0m \u001b[0mtmp_logs\u001b[0m  \u001b[0;31m# No error, now safe to assign to logs.\u001b[0m\u001b[0;34m\u001b[0m\u001b[0;34m\u001b[0m\u001b[0m\n\u001b[1;32m   1388\u001b[0m               \u001b[0mend_step\u001b[0m \u001b[0;34m=\u001b[0m \u001b[0mstep\u001b[0m \u001b[0;34m+\u001b[0m \u001b[0mdata_handler\u001b[0m\u001b[0;34m.\u001b[0m\u001b[0mstep_increment\u001b[0m\u001b[0;34m\u001b[0m\u001b[0;34m\u001b[0m\u001b[0m\n\u001b[0;32m-> 1389\u001b[0;31m               \u001b[0mcallbacks\u001b[0m\u001b[0;34m.\u001b[0m\u001b[0mon_train_batch_end\u001b[0m\u001b[0;34m(\u001b[0m\u001b[0mend_step\u001b[0m\u001b[0;34m,\u001b[0m \u001b[0mlogs\u001b[0m\u001b[0;34m)\u001b[0m\u001b[0;34m\u001b[0m\u001b[0;34m\u001b[0m\u001b[0m\n\u001b[0m\u001b[1;32m   1390\u001b[0m               \u001b[0;32mif\u001b[0m \u001b[0mself\u001b[0m\u001b[0;34m.\u001b[0m\u001b[0mstop_training\u001b[0m\u001b[0;34m:\u001b[0m\u001b[0;34m\u001b[0m\u001b[0;34m\u001b[0m\u001b[0m\n\u001b[1;32m   1391\u001b[0m                 \u001b[0;32mbreak\u001b[0m\u001b[0;34m\u001b[0m\u001b[0;34m\u001b[0m\u001b[0m\n",
            "\u001b[0;32m/usr/local/lib/python3.7/dist-packages/keras/callbacks.py\u001b[0m in \u001b[0;36mon_train_batch_end\u001b[0;34m(self, batch, logs)\u001b[0m\n\u001b[1;32m    436\u001b[0m     \"\"\"\n\u001b[1;32m    437\u001b[0m     \u001b[0;32mif\u001b[0m \u001b[0mself\u001b[0m\u001b[0;34m.\u001b[0m\u001b[0m_should_call_train_batch_hooks\u001b[0m\u001b[0;34m:\u001b[0m\u001b[0;34m\u001b[0m\u001b[0;34m\u001b[0m\u001b[0m\n\u001b[0;32m--> 438\u001b[0;31m       \u001b[0mself\u001b[0m\u001b[0;34m.\u001b[0m\u001b[0m_call_batch_hook\u001b[0m\u001b[0;34m(\u001b[0m\u001b[0mModeKeys\u001b[0m\u001b[0;34m.\u001b[0m\u001b[0mTRAIN\u001b[0m\u001b[0;34m,\u001b[0m \u001b[0;34m'end'\u001b[0m\u001b[0;34m,\u001b[0m \u001b[0mbatch\u001b[0m\u001b[0;34m,\u001b[0m \u001b[0mlogs\u001b[0m\u001b[0;34m=\u001b[0m\u001b[0mlogs\u001b[0m\u001b[0;34m)\u001b[0m\u001b[0;34m\u001b[0m\u001b[0;34m\u001b[0m\u001b[0m\n\u001b[0m\u001b[1;32m    439\u001b[0m \u001b[0;34m\u001b[0m\u001b[0m\n\u001b[1;32m    440\u001b[0m   \u001b[0;32mdef\u001b[0m \u001b[0mon_test_batch_begin\u001b[0m\u001b[0;34m(\u001b[0m\u001b[0mself\u001b[0m\u001b[0;34m,\u001b[0m \u001b[0mbatch\u001b[0m\u001b[0;34m,\u001b[0m \u001b[0mlogs\u001b[0m\u001b[0;34m=\u001b[0m\u001b[0;32mNone\u001b[0m\u001b[0;34m)\u001b[0m\u001b[0;34m:\u001b[0m\u001b[0;34m\u001b[0m\u001b[0;34m\u001b[0m\u001b[0m\n",
            "\u001b[0;32m/usr/local/lib/python3.7/dist-packages/keras/callbacks.py\u001b[0m in \u001b[0;36m_call_batch_hook\u001b[0;34m(self, mode, hook, batch, logs)\u001b[0m\n\u001b[1;32m    295\u001b[0m       \u001b[0mself\u001b[0m\u001b[0;34m.\u001b[0m\u001b[0m_call_batch_begin_hook\u001b[0m\u001b[0;34m(\u001b[0m\u001b[0mmode\u001b[0m\u001b[0;34m,\u001b[0m \u001b[0mbatch\u001b[0m\u001b[0;34m,\u001b[0m \u001b[0mlogs\u001b[0m\u001b[0;34m)\u001b[0m\u001b[0;34m\u001b[0m\u001b[0;34m\u001b[0m\u001b[0m\n\u001b[1;32m    296\u001b[0m     \u001b[0;32melif\u001b[0m \u001b[0mhook\u001b[0m \u001b[0;34m==\u001b[0m \u001b[0;34m'end'\u001b[0m\u001b[0;34m:\u001b[0m\u001b[0;34m\u001b[0m\u001b[0;34m\u001b[0m\u001b[0m\n\u001b[0;32m--> 297\u001b[0;31m       \u001b[0mself\u001b[0m\u001b[0;34m.\u001b[0m\u001b[0m_call_batch_end_hook\u001b[0m\u001b[0;34m(\u001b[0m\u001b[0mmode\u001b[0m\u001b[0;34m,\u001b[0m \u001b[0mbatch\u001b[0m\u001b[0;34m,\u001b[0m \u001b[0mlogs\u001b[0m\u001b[0;34m)\u001b[0m\u001b[0;34m\u001b[0m\u001b[0;34m\u001b[0m\u001b[0m\n\u001b[0m\u001b[1;32m    298\u001b[0m     \u001b[0;32melse\u001b[0m\u001b[0;34m:\u001b[0m\u001b[0;34m\u001b[0m\u001b[0;34m\u001b[0m\u001b[0m\n\u001b[1;32m    299\u001b[0m       raise ValueError(\n",
            "\u001b[0;32m/usr/local/lib/python3.7/dist-packages/keras/callbacks.py\u001b[0m in \u001b[0;36m_call_batch_end_hook\u001b[0;34m(self, mode, batch, logs)\u001b[0m\n\u001b[1;32m    316\u001b[0m       \u001b[0mself\u001b[0m\u001b[0;34m.\u001b[0m\u001b[0m_batch_times\u001b[0m\u001b[0;34m.\u001b[0m\u001b[0mappend\u001b[0m\u001b[0;34m(\u001b[0m\u001b[0mbatch_time\u001b[0m\u001b[0;34m)\u001b[0m\u001b[0;34m\u001b[0m\u001b[0;34m\u001b[0m\u001b[0m\n\u001b[1;32m    317\u001b[0m \u001b[0;34m\u001b[0m\u001b[0m\n\u001b[0;32m--> 318\u001b[0;31m     \u001b[0mself\u001b[0m\u001b[0;34m.\u001b[0m\u001b[0m_call_batch_hook_helper\u001b[0m\u001b[0;34m(\u001b[0m\u001b[0mhook_name\u001b[0m\u001b[0;34m,\u001b[0m \u001b[0mbatch\u001b[0m\u001b[0;34m,\u001b[0m \u001b[0mlogs\u001b[0m\u001b[0;34m)\u001b[0m\u001b[0;34m\u001b[0m\u001b[0;34m\u001b[0m\u001b[0m\n\u001b[0m\u001b[1;32m    319\u001b[0m \u001b[0;34m\u001b[0m\u001b[0m\n\u001b[1;32m    320\u001b[0m     \u001b[0;32mif\u001b[0m \u001b[0mlen\u001b[0m\u001b[0;34m(\u001b[0m\u001b[0mself\u001b[0m\u001b[0;34m.\u001b[0m\u001b[0m_batch_times\u001b[0m\u001b[0;34m)\u001b[0m \u001b[0;34m>=\u001b[0m \u001b[0mself\u001b[0m\u001b[0;34m.\u001b[0m\u001b[0m_num_batches_for_timing_check\u001b[0m\u001b[0;34m:\u001b[0m\u001b[0;34m\u001b[0m\u001b[0;34m\u001b[0m\u001b[0m\n",
            "\u001b[0;32m/usr/local/lib/python3.7/dist-packages/keras/callbacks.py\u001b[0m in \u001b[0;36m_call_batch_hook_helper\u001b[0;34m(self, hook_name, batch, logs)\u001b[0m\n\u001b[1;32m    354\u001b[0m     \u001b[0;32mfor\u001b[0m \u001b[0mcallback\u001b[0m \u001b[0;32min\u001b[0m \u001b[0mself\u001b[0m\u001b[0;34m.\u001b[0m\u001b[0mcallbacks\u001b[0m\u001b[0;34m:\u001b[0m\u001b[0;34m\u001b[0m\u001b[0;34m\u001b[0m\u001b[0m\n\u001b[1;32m    355\u001b[0m       \u001b[0mhook\u001b[0m \u001b[0;34m=\u001b[0m \u001b[0mgetattr\u001b[0m\u001b[0;34m(\u001b[0m\u001b[0mcallback\u001b[0m\u001b[0;34m,\u001b[0m \u001b[0mhook_name\u001b[0m\u001b[0;34m)\u001b[0m\u001b[0;34m\u001b[0m\u001b[0;34m\u001b[0m\u001b[0m\n\u001b[0;32m--> 356\u001b[0;31m       \u001b[0mhook\u001b[0m\u001b[0;34m(\u001b[0m\u001b[0mbatch\u001b[0m\u001b[0;34m,\u001b[0m \u001b[0mlogs\u001b[0m\u001b[0;34m)\u001b[0m\u001b[0;34m\u001b[0m\u001b[0;34m\u001b[0m\u001b[0m\n\u001b[0m\u001b[1;32m    357\u001b[0m \u001b[0;34m\u001b[0m\u001b[0m\n\u001b[1;32m    358\u001b[0m     \u001b[0;32mif\u001b[0m \u001b[0mself\u001b[0m\u001b[0;34m.\u001b[0m\u001b[0m_check_timing\u001b[0m\u001b[0;34m:\u001b[0m\u001b[0;34m\u001b[0m\u001b[0;34m\u001b[0m\u001b[0m\n",
            "\u001b[0;32m/usr/local/lib/python3.7/dist-packages/keras/callbacks.py\u001b[0m in \u001b[0;36mon_train_batch_end\u001b[0;34m(self, batch, logs)\u001b[0m\n\u001b[1;32m   1032\u001b[0m \u001b[0;34m\u001b[0m\u001b[0m\n\u001b[1;32m   1033\u001b[0m   \u001b[0;32mdef\u001b[0m \u001b[0mon_train_batch_end\u001b[0m\u001b[0;34m(\u001b[0m\u001b[0mself\u001b[0m\u001b[0;34m,\u001b[0m \u001b[0mbatch\u001b[0m\u001b[0;34m,\u001b[0m \u001b[0mlogs\u001b[0m\u001b[0;34m=\u001b[0m\u001b[0;32mNone\u001b[0m\u001b[0;34m)\u001b[0m\u001b[0;34m:\u001b[0m\u001b[0;34m\u001b[0m\u001b[0;34m\u001b[0m\u001b[0m\n\u001b[0;32m-> 1034\u001b[0;31m     \u001b[0mself\u001b[0m\u001b[0;34m.\u001b[0m\u001b[0m_batch_update_progbar\u001b[0m\u001b[0;34m(\u001b[0m\u001b[0mbatch\u001b[0m\u001b[0;34m,\u001b[0m \u001b[0mlogs\u001b[0m\u001b[0;34m)\u001b[0m\u001b[0;34m\u001b[0m\u001b[0;34m\u001b[0m\u001b[0m\n\u001b[0m\u001b[1;32m   1035\u001b[0m \u001b[0;34m\u001b[0m\u001b[0m\n\u001b[1;32m   1036\u001b[0m   \u001b[0;32mdef\u001b[0m \u001b[0mon_test_batch_end\u001b[0m\u001b[0;34m(\u001b[0m\u001b[0mself\u001b[0m\u001b[0;34m,\u001b[0m \u001b[0mbatch\u001b[0m\u001b[0;34m,\u001b[0m \u001b[0mlogs\u001b[0m\u001b[0;34m=\u001b[0m\u001b[0;32mNone\u001b[0m\u001b[0;34m)\u001b[0m\u001b[0;34m:\u001b[0m\u001b[0;34m\u001b[0m\u001b[0;34m\u001b[0m\u001b[0m\n",
            "\u001b[0;32m/usr/local/lib/python3.7/dist-packages/keras/callbacks.py\u001b[0m in \u001b[0;36m_batch_update_progbar\u001b[0;34m(self, batch, logs)\u001b[0m\n\u001b[1;32m   1105\u001b[0m       \u001b[0;31m# Only block async when verbose = 1.\u001b[0m\u001b[0;34m\u001b[0m\u001b[0;34m\u001b[0m\u001b[0;34m\u001b[0m\u001b[0m\n\u001b[1;32m   1106\u001b[0m       \u001b[0mlogs\u001b[0m \u001b[0;34m=\u001b[0m \u001b[0mtf_utils\u001b[0m\u001b[0;34m.\u001b[0m\u001b[0msync_to_numpy_or_python_type\u001b[0m\u001b[0;34m(\u001b[0m\u001b[0mlogs\u001b[0m\u001b[0;34m)\u001b[0m\u001b[0;34m\u001b[0m\u001b[0;34m\u001b[0m\u001b[0m\n\u001b[0;32m-> 1107\u001b[0;31m       \u001b[0mself\u001b[0m\u001b[0;34m.\u001b[0m\u001b[0mprogbar\u001b[0m\u001b[0;34m.\u001b[0m\u001b[0mupdate\u001b[0m\u001b[0;34m(\u001b[0m\u001b[0mself\u001b[0m\u001b[0;34m.\u001b[0m\u001b[0mseen\u001b[0m\u001b[0;34m,\u001b[0m \u001b[0mlist\u001b[0m\u001b[0;34m(\u001b[0m\u001b[0mlogs\u001b[0m\u001b[0;34m.\u001b[0m\u001b[0mitems\u001b[0m\u001b[0;34m(\u001b[0m\u001b[0;34m)\u001b[0m\u001b[0;34m)\u001b[0m\u001b[0;34m,\u001b[0m \u001b[0mfinalize\u001b[0m\u001b[0;34m=\u001b[0m\u001b[0;32mFalse\u001b[0m\u001b[0;34m)\u001b[0m\u001b[0;34m\u001b[0m\u001b[0;34m\u001b[0m\u001b[0m\n\u001b[0m\u001b[1;32m   1108\u001b[0m \u001b[0;34m\u001b[0m\u001b[0m\n\u001b[1;32m   1109\u001b[0m   \u001b[0;32mdef\u001b[0m \u001b[0m_finalize_progbar\u001b[0m\u001b[0;34m(\u001b[0m\u001b[0mself\u001b[0m\u001b[0;34m,\u001b[0m \u001b[0mlogs\u001b[0m\u001b[0;34m,\u001b[0m \u001b[0mcounter\u001b[0m\u001b[0;34m)\u001b[0m\u001b[0;34m:\u001b[0m\u001b[0;34m\u001b[0m\u001b[0;34m\u001b[0m\u001b[0m\n",
            "\u001b[0;32m/usr/local/lib/python3.7/dist-packages/keras/utils/generic_utils.py\u001b[0m in \u001b[0;36mupdate\u001b[0;34m(self, current, values, finalize)\u001b[0m\n\u001b[1;32m    958\u001b[0m         \u001b[0minfo\u001b[0m \u001b[0;34m+=\u001b[0m \u001b[0;34m' - %s:'\u001b[0m \u001b[0;34m%\u001b[0m \u001b[0mk\u001b[0m\u001b[0;34m\u001b[0m\u001b[0;34m\u001b[0m\u001b[0m\n\u001b[1;32m    959\u001b[0m         \u001b[0;32mif\u001b[0m \u001b[0misinstance\u001b[0m\u001b[0;34m(\u001b[0m\u001b[0mself\u001b[0m\u001b[0;34m.\u001b[0m\u001b[0m_values\u001b[0m\u001b[0;34m[\u001b[0m\u001b[0mk\u001b[0m\u001b[0;34m]\u001b[0m\u001b[0;34m,\u001b[0m \u001b[0mlist\u001b[0m\u001b[0;34m)\u001b[0m\u001b[0;34m:\u001b[0m\u001b[0;34m\u001b[0m\u001b[0;34m\u001b[0m\u001b[0m\n\u001b[0;32m--> 960\u001b[0;31m           \u001b[0mavg\u001b[0m \u001b[0;34m=\u001b[0m \u001b[0mnp\u001b[0m\u001b[0;34m.\u001b[0m\u001b[0mmean\u001b[0m\u001b[0;34m(\u001b[0m\u001b[0mself\u001b[0m\u001b[0;34m.\u001b[0m\u001b[0m_values\u001b[0m\u001b[0;34m[\u001b[0m\u001b[0mk\u001b[0m\u001b[0;34m]\u001b[0m\u001b[0;34m[\u001b[0m\u001b[0;36m0\u001b[0m\u001b[0;34m]\u001b[0m \u001b[0;34m/\u001b[0m \u001b[0mmax\u001b[0m\u001b[0;34m(\u001b[0m\u001b[0;36m1\u001b[0m\u001b[0;34m,\u001b[0m \u001b[0mself\u001b[0m\u001b[0;34m.\u001b[0m\u001b[0m_values\u001b[0m\u001b[0;34m[\u001b[0m\u001b[0mk\u001b[0m\u001b[0;34m]\u001b[0m\u001b[0;34m[\u001b[0m\u001b[0;36m1\u001b[0m\u001b[0;34m]\u001b[0m\u001b[0;34m)\u001b[0m\u001b[0;34m)\u001b[0m\u001b[0;34m\u001b[0m\u001b[0;34m\u001b[0m\u001b[0m\n\u001b[0m\u001b[1;32m    961\u001b[0m           \u001b[0;32mif\u001b[0m \u001b[0mabs\u001b[0m\u001b[0;34m(\u001b[0m\u001b[0mavg\u001b[0m\u001b[0;34m)\u001b[0m \u001b[0;34m>\u001b[0m \u001b[0;36m1e-3\u001b[0m\u001b[0;34m:\u001b[0m\u001b[0;34m\u001b[0m\u001b[0;34m\u001b[0m\u001b[0m\n\u001b[1;32m    962\u001b[0m             \u001b[0minfo\u001b[0m \u001b[0;34m+=\u001b[0m \u001b[0;34m' %.4f'\u001b[0m \u001b[0;34m%\u001b[0m \u001b[0mavg\u001b[0m\u001b[0;34m\u001b[0m\u001b[0;34m\u001b[0m\u001b[0m\n",
            "\u001b[0;32m<__array_function__ internals>\u001b[0m in \u001b[0;36mmean\u001b[0;34m(*args, **kwargs)\u001b[0m\n",
            "\u001b[0;32m/usr/local/lib/python3.7/dist-packages/numpy/core/fromnumeric.py\u001b[0m in \u001b[0;36mmean\u001b[0;34m(a, axis, dtype, out, keepdims, where)\u001b[0m\n\u001b[1;32m   3439\u001b[0m \u001b[0;34m\u001b[0m\u001b[0m\n\u001b[1;32m   3440\u001b[0m     return _methods._mean(a, axis=axis, dtype=dtype,\n\u001b[0;32m-> 3441\u001b[0;31m                           out=out, **kwargs)\n\u001b[0m\u001b[1;32m   3442\u001b[0m \u001b[0;34m\u001b[0m\u001b[0m\n\u001b[1;32m   3443\u001b[0m \u001b[0;34m\u001b[0m\u001b[0m\n",
            "\u001b[0;32m/usr/local/lib/python3.7/dist-packages/numpy/core/_methods.py\u001b[0m in \u001b[0;36m_mean\u001b[0;34m(a, axis, dtype, out, keepdims, where)\u001b[0m\n\u001b[1;32m    161\u001b[0m \u001b[0;34m\u001b[0m\u001b[0m\n\u001b[1;32m    162\u001b[0m \u001b[0;32mdef\u001b[0m \u001b[0m_mean\u001b[0m\u001b[0;34m(\u001b[0m\u001b[0ma\u001b[0m\u001b[0;34m,\u001b[0m \u001b[0maxis\u001b[0m\u001b[0;34m=\u001b[0m\u001b[0;32mNone\u001b[0m\u001b[0;34m,\u001b[0m \u001b[0mdtype\u001b[0m\u001b[0;34m=\u001b[0m\u001b[0;32mNone\u001b[0m\u001b[0;34m,\u001b[0m \u001b[0mout\u001b[0m\u001b[0;34m=\u001b[0m\u001b[0;32mNone\u001b[0m\u001b[0;34m,\u001b[0m \u001b[0mkeepdims\u001b[0m\u001b[0;34m=\u001b[0m\u001b[0;32mFalse\u001b[0m\u001b[0;34m,\u001b[0m \u001b[0;34m*\u001b[0m\u001b[0;34m,\u001b[0m \u001b[0mwhere\u001b[0m\u001b[0;34m=\u001b[0m\u001b[0;32mTrue\u001b[0m\u001b[0;34m)\u001b[0m\u001b[0;34m:\u001b[0m\u001b[0;34m\u001b[0m\u001b[0;34m\u001b[0m\u001b[0m\n\u001b[0;32m--> 163\u001b[0;31m     \u001b[0marr\u001b[0m \u001b[0;34m=\u001b[0m \u001b[0masanyarray\u001b[0m\u001b[0;34m(\u001b[0m\u001b[0ma\u001b[0m\u001b[0;34m)\u001b[0m\u001b[0;34m\u001b[0m\u001b[0;34m\u001b[0m\u001b[0m\n\u001b[0m\u001b[1;32m    164\u001b[0m \u001b[0;34m\u001b[0m\u001b[0m\n\u001b[1;32m    165\u001b[0m     \u001b[0mis_float16_result\u001b[0m \u001b[0;34m=\u001b[0m \u001b[0;32mFalse\u001b[0m\u001b[0;34m\u001b[0m\u001b[0;34m\u001b[0m\u001b[0m\n",
            "\u001b[0;31mKeyboardInterrupt\u001b[0m: "
          ]
        }
      ],
      "source": [
        "cond_gan = ConditionalGAN(\n",
        "    discriminator=discriminator, generator=generator, latent_dim=latent_dim\n",
        ")\n",
        "cond_gan.compile(\n",
        "    d_optimizer=keras.optimizers.Adam(learning_rate=0.0000003),\n",
        "    g_optimizer=keras.optimizers.Adam(learning_rate=0.0000003),\n",
        "    loss_fn=keras.losses.BinaryCrossentropy(from_logits=True),\n",
        ")\n",
        "\n",
        "cond_gan.fit(dataset_train, epochs=50)"
      ]
    },
    {
      "cell_type": "markdown",
      "metadata": {
        "id": "9rfRnGG2qtge"
      },
      "source": [
        "## Interpolating between classes with the trained generator"
      ]
    },
    {
      "cell_type": "code",
      "source": [
        "from keras import Input\n",
        "from keras.layers import Conv1D\n",
        "from keras.layers import MaxPooling1D\n",
        "from keras.layers import LSTM\n",
        "from keras.layers import Dense\n",
        "from keras.layers import Reshape\n",
        "from keras.layers import Dropout\n",
        "\n",
        "from keras import Model\n",
        "input_layer = Input(shape=(512))\n",
        "dense1 = Dense(1024, activation='relu')(input_layer)\n",
        "dense2 = Dense(1024, activation='relu')(dense1)\n",
        "dropout1 =  Dropout(.25)(dense2)\n",
        "resh1 = Reshape(target_shape=(1,16,64))(dropout1)\n",
        "conv1 = Conv1D(filters=32,\n",
        "               kernel_size=16,\n",
        "               strides=1,\n",
        "               activation='relu')(resh1)\n",
        "resh1 = Reshape(target_shape=(32,1))(conv1)\n",
        "pool1 = MaxPooling1D(pool_size=2)(resh1)\n",
        "lstm1 = LSTM(32, activation=\"relu\")(pool1)\n",
        "output_layer = Dense(101, activation='linear')(lstm1)\n",
        "model = Model(inputs=input_layer, outputs=output_layer)\n",
        "optimizer = keras.optimizers.Adam(lr=0.0001)\n",
        "model.compile(loss=\"MeanSquaredError\", optimizer=optimizer,metrics=['accuracy'])"
      ],
      "metadata": {
        "colab": {
          "base_uri": "https://localhost:8080/"
        },
        "id": "buysgMLnaQzI",
        "outputId": "5bf558c8-3e59-4c47-ffae-65a8085ff986"
      },
      "execution_count": 198,
      "outputs": [
        {
          "output_type": "stream",
          "name": "stdout",
          "text": [
            "WARNING:tensorflow:Layer lstm_86 will not use cuDNN kernels since it doesn't meet the criteria. It will use a generic GPU kernel as fallback when running on GPU.\n"
          ]
        },
        {
          "output_type": "stream",
          "name": "stderr",
          "text": [
            "/usr/local/lib/python3.7/dist-packages/keras/optimizer_v2/adam.py:105: UserWarning: The `lr` argument is deprecated, use `learning_rate` instead.\n",
            "  super(Adam, self).__init__(name, **kwargs)\n"
          ]
        }
      ]
    },
    {
      "cell_type": "code",
      "source": [
        "from keras import Input\n",
        "from keras.layers import Conv1D\n",
        "from keras.layers import MaxPooling1D\n",
        "from keras.layers import LSTM\n",
        "from keras.layers import Dense\n",
        "from keras.layers import Reshape\n",
        "from keras.layers import Dropout\n",
        "from keras.layers import Flatten\n",
        "from keras.layers import Concatenate\n",
        "from keras import Model\n",
        "\n",
        "input_layer = Input(shape=(512))\n",
        "\n",
        "dense1 = Dense(1024, activation='relu')(input_layer)\n",
        "resh1 = Reshape(target_shape=(2,512))(dense1)\n",
        "dropout1 =  Dropout(.25)(resh1)\n",
        "lstm1 = LSTM(32, activation=\"relu\",return_sequences=True)(dropout1)\n",
        "# flat1 = Flatten()(lstm1)\n",
        "# flat2 = Flatten()(resh1)\n",
        "# conc1 = Concatenate(axis=1)([flat1,flat2])\n",
        "\n",
        "dense2 = Dense(512, activation='relu')(lstm1)\n",
        "resh2 = Reshape(target_shape=(2,512))(dense2)\n",
        "dropout2 =  Dropout(.25)(resh2)\n",
        "lstm2 = LSTM(32, activation=\"relu\",return_sequences=True)(dropout2)\n",
        "# flat3 = Flatten()(lstm2)\n",
        "# flat4 = Flatten()(resh2)\n",
        "# conc2 = Concatenate(axis=1)([flat3,flat4])\n",
        "\n",
        "dense3 = Dense(512, activation='relu')(lstm2)\n",
        "resh3 = Reshape(target_shape=(2,512))(dense3)\n",
        "dropout3 =  Dropout(.25)(resh3)\n",
        "lstm3 = LSTM(32, activation=\"relu\",return_sequences=True)(dropout3)\n",
        "# flat5 = Flatten()(lstm3)\n",
        "# flat6 = Flatten()(resh3)\n",
        "# conc3 = Concatenate(axis=1)([flat5,flat6])\n",
        "dense4 = Dense(512, activation='relu')(lstm3)\n",
        "flat6 = Flatten()(dense4)\n",
        "\n",
        "dense4 = Dense(1024, activation='relu')(flat6)\n",
        "\n",
        "output_layer = Dense(101, activation='linear')(dense4)\n",
        "model = Model(inputs=input_layer, outputs=output_layer)\n",
        "optz = keras.optimizers.Adam(lr=0.0001)\n",
        "model.compile(loss=\"MeanSquaredError\", optimizer=optz,metrics=['accuracy'])"
      ],
      "metadata": {
        "colab": {
          "base_uri": "https://localhost:8080/"
        },
        "id": "57KkLbzGmeih",
        "outputId": "b6818527-ef2b-4e43-9579-21871196cfab"
      },
      "execution_count": 277,
      "outputs": [
        {
          "output_type": "stream",
          "name": "stdout",
          "text": [
            "WARNING:tensorflow:Layer lstm_126 will not use cuDNN kernels since it doesn't meet the criteria. It will use a generic GPU kernel as fallback when running on GPU.\n",
            "WARNING:tensorflow:Layer lstm_127 will not use cuDNN kernels since it doesn't meet the criteria. It will use a generic GPU kernel as fallback when running on GPU.\n",
            "WARNING:tensorflow:Layer lstm_128 will not use cuDNN kernels since it doesn't meet the criteria. It will use a generic GPU kernel as fallback when running on GPU.\n"
          ]
        },
        {
          "output_type": "stream",
          "name": "stderr",
          "text": [
            "/usr/local/lib/python3.7/dist-packages/keras/optimizer_v2/adam.py:105: UserWarning: The `lr` argument is deprecated, use `learning_rate` instead.\n",
            "  super(Adam, self).__init__(name, **kwargs)\n"
          ]
        }
      ]
    },
    {
      "cell_type": "code",
      "source": [
        "model.summary()"
      ],
      "metadata": {
        "colab": {
          "base_uri": "https://localhost:8080/"
        },
        "id": "_lz0cJKtuYye",
        "outputId": "942904b6-493b-41b1-cf95-a5a26b9d2ccd"
      },
      "execution_count": 278,
      "outputs": [
        {
          "output_type": "stream",
          "name": "stdout",
          "text": [
            "Model: \"model_48\"\n",
            "_________________________________________________________________\n",
            " Layer (type)                Output Shape              Param #   \n",
            "=================================================================\n",
            " input_84 (InputLayer)       [(None, 512)]             0         \n",
            "                                                                 \n",
            " dense_249 (Dense)           (None, 1024)              525312    \n",
            "                                                                 \n",
            " reshape_118 (Reshape)       (None, 2, 512)            0         \n",
            "                                                                 \n",
            " dropout_130 (Dropout)       (None, 2, 512)            0         \n",
            "                                                                 \n",
            " lstm_126 (LSTM)             (None, 2, 32)             69760     \n",
            "                                                                 \n",
            " dense_250 (Dense)           (None, 2, 512)            16896     \n",
            "                                                                 \n",
            " reshape_119 (Reshape)       (None, 2, 512)            0         \n",
            "                                                                 \n",
            " dropout_131 (Dropout)       (None, 2, 512)            0         \n",
            "                                                                 \n",
            " lstm_127 (LSTM)             (None, 2, 32)             69760     \n",
            "                                                                 \n",
            " dense_251 (Dense)           (None, 2, 512)            16896     \n",
            "                                                                 \n",
            " reshape_120 (Reshape)       (None, 2, 512)            0         \n",
            "                                                                 \n",
            " dropout_132 (Dropout)       (None, 2, 512)            0         \n",
            "                                                                 \n",
            " lstm_128 (LSTM)             (None, 2, 32)             69760     \n",
            "                                                                 \n",
            " dense_252 (Dense)           (None, 2, 512)            16896     \n",
            "                                                                 \n",
            " flatten_20 (Flatten)        (None, 1024)              0         \n",
            "                                                                 \n",
            " dense_253 (Dense)           (None, 1024)              1049600   \n",
            "                                                                 \n",
            " dense_254 (Dense)           (None, 101)               103525    \n",
            "                                                                 \n",
            "=================================================================\n",
            "Total params: 1,938,405\n",
            "Trainable params: 1,938,405\n",
            "Non-trainable params: 0\n",
            "_________________________________________________________________\n"
          ]
        }
      ]
    },
    {
      "cell_type": "code",
      "source": [
        "# # import numpy as np\n",
        "# # import tensorflow as tf\n",
        "\n",
        "# (x_train, y_train) = generate_real_samples(300000,filename = '/content/sample_train.csv')\n",
        "# (x_test, y_test) = generate_real_samples(2000,filename = '/content/sample_test.csv')\n",
        "\n",
        "\n",
        "# dataset_train = tf.data.Dataset.from_tensor_slices((y_train,x_train))\n",
        "# dataset_train = dataset_train.shuffle(buffer_size=1024).batch(batch_size)\n",
        "\n",
        "# dataset_test = tf.data.Dataset.from_tensor_slices((y_test,x_test))\n",
        "# dataset_test = dataset_test.shuffle(buffer_size=1024).batch(batch_size)\n"
      ],
      "metadata": {
        "id": "nqXfED27qHJZ"
      },
      "execution_count": 154,
      "outputs": []
    },
    {
      "cell_type": "code",
      "source": [
        "for i in range(100):\n",
        "  (x_train, y_train) = generate_real_samples(300000,filename = '/content/sample_train.csv')\n",
        "  (x_test, y_test) = generate_real_samples(20000,filename = '/content/sample_test.csv')\n",
        "\n",
        "\n",
        "  dataset_train = tf.data.Dataset.from_tensor_slices((y_train,x_train))\n",
        "  dataset_train = dataset_train.shuffle(buffer_size=1024).batch(batch_size)\n",
        "\n",
        "  dataset_test = tf.data.Dataset.from_tensor_slices((y_test,x_test))\n",
        "  dataset_test = dataset_test.shuffle(buffer_size=1024).batch(batch_size)\n",
        "\n",
        "  model.fit(dataset_train,validation_data =dataset_test , epochs=20)"
      ],
      "metadata": {
        "colab": {
          "base_uri": "https://localhost:8080/"
        },
        "id": "daL_IqxrawiI",
        "outputId": "f3125bc8-0672-40b3-fef1-80b15a4a71c7"
      },
      "execution_count": null,
      "outputs": [
        {
          "output_type": "stream",
          "name": "stdout",
          "text": [
            "Epoch 1/20\n",
            "1172/1172 [==============================] - 33s 24ms/step - loss: 7.8604e-05 - accuracy: 0.0330 - val_loss: 8.0733e-09 - val_accuracy: 0.0037\n",
            "Epoch 2/20\n",
            "1172/1172 [==============================] - 28s 24ms/step - loss: 1.7743e-07 - accuracy: 0.2596 - val_loss: 7.6067e-09 - val_accuracy: 7.0000e-04\n",
            "Epoch 3/20\n",
            "1172/1172 [==============================] - 28s 24ms/step - loss: 6.2407e-08 - accuracy: 0.6101 - val_loss: 7.5667e-09 - val_accuracy: 1.0000\n",
            "Epoch 4/20\n",
            "1172/1172 [==============================] - 28s 24ms/step - loss: 3.0970e-08 - accuracy: 0.6415 - val_loss: 7.6607e-09 - val_accuracy: 5.0000e-05\n",
            "Epoch 5/20\n",
            "1172/1172 [==============================] - 28s 24ms/step - loss: 2.1115e-08 - accuracy: 0.6138 - val_loss: 7.8217e-09 - val_accuracy: 0.0000e+00\n",
            "Epoch 6/20\n",
            "1172/1172 [==============================] - 28s 24ms/step - loss: 1.3649e-08 - accuracy: 0.6114 - val_loss: 8.1032e-09 - val_accuracy: 0.0000e+00\n",
            "Epoch 7/20\n",
            "1172/1172 [==============================] - 29s 25ms/step - loss: 1.0920e-08 - accuracy: 0.5981 - val_loss: 8.2350e-09 - val_accuracy: 0.0000e+00\n",
            "Epoch 8/20\n",
            "1172/1172 [==============================] - 28s 24ms/step - loss: 9.9249e-09 - accuracy: 0.5926 - val_loss: 8.9609e-09 - val_accuracy: 0.0000e+00\n",
            "Epoch 9/20\n",
            "1172/1172 [==============================] - 28s 24ms/step - loss: 8.7256e-09 - accuracy: 0.6051 - val_loss: 8.3548e-09 - val_accuracy: 0.0000e+00\n",
            "Epoch 10/20\n",
            "1079/1172 [==========================>...] - ETA: 2s - loss: 8.5212e-09 - accuracy: 0.6960"
          ]
        }
      ]
    },
    {
      "cell_type": "code",
      "source": [
        "import matplotlib.pyplot as plt\n",
        "import numpy as np\n",
        "\n",
        "(real_labels, real_pixels) = generate_real_samples(batch_size,filename = '/content/sample_test.csv')\n",
        "p_test = model.predict(real_pixels)\n",
        "\n",
        "\n",
        "fig, ax = plt.subplots()\n",
        "m = 21\n",
        "for i in range(64):\n",
        "  ax.plot(p_test[i]*255, real_labels[i]*255,label=i)\n",
        "plt.plot([-0.02, 0.07], [-0.02, 0.07], 'k-', lw=2)\n",
        "ax.set(xlabel='time (s)', ylabel='voltage (mV)',\n",
        "       title='About as simple as it gets, folks')\n",
        "ax.grid()\n",
        "\n",
        "# fig.savefig(\"test.png\")\n",
        "plt.show()"
      ],
      "metadata": {
        "id": "-7MICnxHhgk7"
      },
      "execution_count": null,
      "outputs": []
    },
    {
      "cell_type": "code",
      "source": [
        "import matplotlib.pyplot as plt\n",
        "import numpy as np\n",
        "\n",
        "fig, ax = plt.subplots()\n",
        "m = 21\n",
        "for i in range(64):\n",
        "  ax.plot(p_test[i]*255, real_labels[i]*255,label=i)\n",
        "\n",
        "ax.set(xlabel='time (s)', ylabel='voltage (mV)',\n",
        "       title='About as simple as it gets, folks')\n",
        "ax.grid()\n",
        "\n",
        "# fig.savefig(\"test.png\")\n",
        "plt.show()"
      ],
      "metadata": {
        "colab": {
          "base_uri": "https://localhost:8080/",
          "height": 295
        },
        "id": "TQvcREk2mbBc",
        "outputId": "2872a0be-e074-44cc-c8de-8f461ead4bea"
      },
      "execution_count": 260,
      "outputs": [
        {
          "output_type": "display_data",
          "data": {
            "text/plain": [
              "<Figure size 432x288 with 1 Axes>"
            ],
            "image/png": "[encoded data removed]"
          },
          "metadata": {
            "needs_background": "light"
          }
        }
      ]
    },
    {
      "cell_type": "code",
      "execution_count": 104,
      "metadata": {
        "id": "Cua32XZzqtgf",
        "colab": {
          "base_uri": "https://localhost:8080/",
          "height": 295
        },
        "outputId": "776609d7-b2ed-45f7-dc98-477099efd266"
      },
      "outputs": [
        {
          "output_type": "display_data",
          "data": {
            "text/plain": [
              "<Figure size 432x288 with 1 Axes>"
            ],
            "image/png": "[encoded data removed]"
          },
          "metadata": {
            "needs_background": "light"
          }
        }
      ],
      "source": [
        "# We first extract the trained generator from our Conditiona GAN.\n",
        "trained_gen = cond_gan.generator\n",
        "(real_labels, real_pixels) = generate_real_samples(batch_size,filename = '/content/sample_test.csv')\n",
        "\n",
        "# batch_size = tf.shape(real_pixels)[0]\n",
        "random_latent_vectors = tf.random.normal(shape=(batch_size, latent_dim))\n",
        "# print(random_latent_vectors[0])\n",
        "random_vector_pixels = tf.concat(\n",
        "    [random_latent_vectors, real_pixels], axis=1\n",
        ")\n",
        "# print(real_labels[1])\n",
        "\n",
        "generated_waveform = trained_gen(random_vector_pixels)\n",
        "\n",
        "# print(generated_waveform[1])\n",
        "import matplotlib.pyplot as plt\n",
        "import numpy as np\n",
        "\n",
        "fig, ax = plt.subplots()\n",
        "ax.plot(generated_waveform[1], real_labels[1])\n",
        "\n",
        "ax.set(xlabel='time (s)', ylabel='voltage (mV)',\n",
        "       title='About as simple as it gets, folks')\n",
        "ax.grid()\n",
        "\n",
        "# fig.savefig(\"test.png\")\n",
        "plt.show()"
      ]
    },
    {
      "cell_type": "markdown",
      "metadata": {
        "id": "6mZ3cRFIqtgf"
      },
      "source": [
        "Here, we first sample noise from a normal distribution and then we repeat that for\n",
        "`num_interpolation` times and reshape the result accordingly.\n",
        "We then distribute it uniformly for `num_interpolation`\n",
        "with the label indentities being present in some proportion."
      ]
    },
    {
      "cell_type": "code",
      "execution_count": 86,
      "metadata": {
        "id": "ecm5BFWJqtgg",
        "colab": {
          "base_uri": "https://localhost:8080/",
          "height": 236
        },
        "outputId": "a3718709-e53f-4bf0-9a1a-50d5da664a4f"
      },
      "outputs": [
        {
          "output_type": "error",
          "ename": "NameError",
          "evalue": "ignored",
          "traceback": [
            "\u001b[0;31m---------------------------------------------------------------------------\u001b[0m",
            "\u001b[0;31mNameError\u001b[0m                                 Traceback (most recent call last)",
            "\u001b[0;32m<ipython-input-86-48fb9c7fb7db>\u001b[0m in \u001b[0;36m<module>\u001b[0;34m()\u001b[0m\n\u001b[0;32m----> 1\u001b[0;31m \u001b[0mfake_images\u001b[0m \u001b[0;34m*=\u001b[0m \u001b[0;36m255.0\u001b[0m\u001b[0;34m\u001b[0m\u001b[0;34m\u001b[0m\u001b[0m\n\u001b[0m\u001b[1;32m      2\u001b[0m \u001b[0mconverted_images\u001b[0m \u001b[0;34m=\u001b[0m \u001b[0mfake_images\u001b[0m\u001b[0;34m.\u001b[0m\u001b[0mastype\u001b[0m\u001b[0;34m(\u001b[0m\u001b[0mnp\u001b[0m\u001b[0;34m.\u001b[0m\u001b[0muint8\u001b[0m\u001b[0;34m)\u001b[0m\u001b[0;34m\u001b[0m\u001b[0;34m\u001b[0m\u001b[0m\n\u001b[1;32m      3\u001b[0m \u001b[0mconverted_images\u001b[0m \u001b[0;34m=\u001b[0m \u001b[0mtf\u001b[0m\u001b[0;34m.\u001b[0m\u001b[0mimage\u001b[0m\u001b[0;34m.\u001b[0m\u001b[0mresize\u001b[0m\u001b[0;34m(\u001b[0m\u001b[0mconverted_images\u001b[0m\u001b[0;34m,\u001b[0m \u001b[0;34m(\u001b[0m\u001b[0;36m96\u001b[0m\u001b[0;34m,\u001b[0m \u001b[0;36m96\u001b[0m\u001b[0;34m)\u001b[0m\u001b[0;34m)\u001b[0m\u001b[0;34m.\u001b[0m\u001b[0mnumpy\u001b[0m\u001b[0;34m(\u001b[0m\u001b[0;34m)\u001b[0m\u001b[0;34m.\u001b[0m\u001b[0mastype\u001b[0m\u001b[0;34m(\u001b[0m\u001b[0mnp\u001b[0m\u001b[0;34m.\u001b[0m\u001b[0muint8\u001b[0m\u001b[0;34m)\u001b[0m\u001b[0;34m\u001b[0m\u001b[0;34m\u001b[0m\u001b[0m\n\u001b[1;32m      4\u001b[0m \u001b[0mimageio\u001b[0m\u001b[0;34m.\u001b[0m\u001b[0mmimsave\u001b[0m\u001b[0;34m(\u001b[0m\u001b[0;34m\"animation.gif\"\u001b[0m\u001b[0;34m,\u001b[0m \u001b[0mconverted_images\u001b[0m\u001b[0;34m,\u001b[0m \u001b[0mfps\u001b[0m\u001b[0;34m=\u001b[0m\u001b[0;36m1\u001b[0m\u001b[0;34m)\u001b[0m\u001b[0;34m\u001b[0m\u001b[0;34m\u001b[0m\u001b[0m\n\u001b[1;32m      5\u001b[0m \u001b[0membed\u001b[0m\u001b[0;34m.\u001b[0m\u001b[0membed_file\u001b[0m\u001b[0;34m(\u001b[0m\u001b[0;34m\"animation.gif\"\u001b[0m\u001b[0;34m)\u001b[0m\u001b[0;34m\u001b[0m\u001b[0;34m\u001b[0m\u001b[0m\n",
            "\u001b[0;31mNameError\u001b[0m: name 'fake_images' is not defined"
          ]
        }
      ],
      "source": [
        "fake_images *= 255.0\n",
        "converted_images = fake_images.astype(np.uint8)\n",
        "converted_images = tf.image.resize(converted_images, (96, 96)).numpy().astype(np.uint8)\n",
        "imageio.mimsave(\"animation.gif\", converted_images, fps=1)\n",
        "embed.embed_file(\"animation.gif\")"
      ]
    },
    {
      "cell_type": "markdown",
      "metadata": {
        "id": "Rokmd_Wtqtgg"
      },
      "source": [
        "We can further improve the performance of this model with recipes like\n",
        "[WGAN-GP](https://keras.io/examples/generative/wgan_gp).\n",
        "Conditional generation is also widely used in many modern image generation architectures like\n",
        "[VQ-GANs](https://arxiv.org/abs/2012.09841), [DALL-E](https://openai.com/blog/dall-e/),\n",
        "etc.\n",
        "\n",
        "You can use the trained model hosted on [Hugging Face Hub](https://huggingface.co/keras-io/conditional-gan) and try the demo on [Hugging Face Spaces](https://huggingface.co/spaces/keras-io/conditional-GAN)."
      ]
    }
  ],
  "metadata": {
    "colab": {
      "collapsed_sections": [],
      "name": "conditional_gan",
      "provenance": [],
      "machine_shape": "hm",
      "include_colab_link": true
    },
    "kernelspec": {
      "display_name": "Python 3",
      "language": "python",
      "name": "python3"
    },
    "language_info": {
      "codemirror_mode": {
        "name": "ipython",
        "version": 3
      },
      "file_extension": ".py",
      "mimetype": "text/x-python",
      "name": "python",
      "nbconvert_exporter": "python",
      "pygments_lexer": "ipython3",
      "version": "3.7.0"
    },
    "accelerator": "GPU"
  },
  "nbformat": 4,
  "nbformat_minor": 0
}
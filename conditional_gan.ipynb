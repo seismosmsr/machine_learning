{
  "cells": [
    {
      "cell_type": "markdown",
      "metadata": {
        "id": "view-in-github",
        "colab_type": "text"
      },
      "source": [
        "<a href=\"https://colab.research.google.com/github/seismosmsr/machine_learning/blob/main/conditional_gan.ipynb\" target=\"_parent\"><img src=\"https://colab.research.google.com/assets/colab-badge.svg\" alt=\"Open In Colab\"/></a>"
      ]
    },
    {
      "cell_type": "markdown",
      "metadata": {
        "id": "Y50GdAhdqtgY"
      },
      "source": [
        "# Conditional GAN\n",
        "**Author:** [Aron Boettcher](spectral.online)<br>\n",
        "**Adapted from:** [Sayak Paul](https://twitter.com/RisingSayak)<br>\n",
        "**Date created:** 2021/07/13<br>\n",
        "**Last modified:** 2021/07/15<br>\n",
        "**Description:** Training a GAN conditioned on class labels to generate handwritten digits."
      ]
    },
    {
      "cell_type": "markdown",
      "metadata": {
        "id": "-meO-8ffqtgZ"
      },
      "source": [
        "Generative Adversarial Networks (GANs) let us generate novel image data, video data,\n",
        "or audio data from a random input. Typically, the random input is sampled\n",
        "from a normal distribution, before going through a series of transformations that turn\n",
        "it into something plausible (image, video, audio, etc.).\n",
        "\n",
        "However, a simple [DCGAN](https://arxiv.org/abs/1511.06434) doesn't let us control\n",
        "the appearance (e.g. class) of the samples we're generating. For instance,\n",
        "with a GAN that generates MNIST handwritten digits, a simple DCGAN wouldn't let us\n",
        "choose the class of digits we're generating.\n",
        "To be able to control what we generate, we need to _condition_ the GAN output\n",
        "on a semantic input, such as the class of an image.\n",
        "\n",
        "In this example, we'll build a **Conditional GAN** that can generate MNIST handwritten\n",
        "digits conditioned on a given class. Such a model can have various useful applications:\n",
        "\n",
        "* let's say you are dealing with an\n",
        "[imbalanced image dataset](https://developers.google.com/machine-learning/data-prep/construct/sampling-splitting/imbalanced-data),\n",
        "and you'd like to gather more examples for the skewed class to balance the dataset.\n",
        "Data collection can be a costly process on its own. You could instead train a Conditional GAN and use\n",
        "it to generate novel images for the class that needs balancing.\n",
        "* Since the generator learns to associate the generated samples with the class labels,\n",
        "its representations can also be used for [other downstream tasks](https://arxiv.org/abs/1809.11096).\n",
        "\n",
        "Following are the references used for developing this example:\n",
        "\n",
        "* [Conditional Generative Adversarial Nets](https://arxiv.org/abs/1411.1784)\n",
        "* [Lecture on Conditional Generation from Coursera](https://www.coursera.org/lecture/build-basic-generative-adversarial-networks-gans/conditional-generation-inputs-2OPrG)\n",
        "\n",
        "If you need a refresher on GANs, you can refer to the \"Generative adversarial networks\"\n",
        "section of\n",
        "[this resource](https://livebook.manning.com/book/deep-learning-with-python-second-edition/chapter-12/r-3/232).\n",
        "\n",
        "This example requires TensorFlow 2.5 or higher, as well as TensorFlow Docs, which can be\n",
        "installed using the following command:"
      ]
    },
    {
      "cell_type": "code",
      "execution_count": 1,
      "metadata": {
        "id": "V8Zi-apyqtgZ",
        "colab": {
          "base_uri": "https://localhost:8080/"
        },
        "outputId": "59611b6a-03e6-4615-8107-dc16901c7a08"
      },
      "outputs": [
        {
          "output_type": "stream",
          "name": "stdout",
          "text": [
            "  Building wheel for tensorflow-docs (setup.py) ... \u001b[?25l\u001b[?25hdone\n"
          ]
        }
      ],
      "source": [
        "!pip install -q git+https://github.com/tensorflow/docs"
      ]
    },
    {
      "cell_type": "markdown",
      "metadata": {
        "id": "cE4an01rqtga"
      },
      "source": [
        "## Imports"
      ]
    },
    {
      "cell_type": "code",
      "execution_count": 2,
      "metadata": {
        "id": "M4msdB2Qqtga"
      },
      "outputs": [],
      "source": [
        "from tensorflow import keras\n",
        "from tensorflow.keras import layers\n",
        "\n",
        "from tensorflow_docs.vis import embed\n",
        "import matplotlib.pyplot as plt\n",
        "import tensorflow as tf\n",
        "import numpy as np\n",
        "import imageio"
      ]
    },
    {
      "cell_type": "markdown",
      "metadata": {
        "id": "3lTXrmg8qtga"
      },
      "source": [
        "## Constants and hyperparameters"
      ]
    },
    {
      "cell_type": "code",
      "execution_count": 3,
      "metadata": {
        "id": "7RCu_-uVqtga"
      },
      "outputs": [],
      "source": [
        "batch_size = 256\n",
        "num_channels = 1\n",
        "num_classes = 101\n",
        "image_size = 512\n",
        "latent_dim = 512"
      ]
    },
    {
      "cell_type": "markdown",
      "metadata": {
        "id": "Uw35q14Sqtgb"
      },
      "source": [
        "## Loading the MNIST dataset and preprocessing it"
      ]
    },
    {
      "cell_type": "code",
      "source": [
        "!pip install gdown\n",
        "import gdown\n",
        "import zipfile\n",
        "import os\n",
        "\n",
        "# I switched to pngs and jpgs to try and use tensorflows native vectorization\n",
        "#todo: get gdal working so you can just use geotiff\n",
        "url = 'https://drive.google.com/uc?id=1kwU_CkP1X5M1CDlYKPkb9p5J8GulWBXr'\n",
        "output = 'sample_test.csv'\n",
        "\n",
        "#Update with proper validation data\n",
        "# https://drive.google.com/file/d/1unLB1XCJHoul3gqGYGzqSS8QMr5ZvJ9h/view?usp=sharing\n",
        "gdown.download(url,output,quiet = False)\n",
        "\n",
        "url = 'https://drive.google.com/uc?id=1graojPHaMvZGHmocsUFLds9bFWQG_mr6'\n",
        "output = 'sample_train.csv'\n",
        "\n",
        "#Update with proper validation data\n",
        "# https://drive.google.com/file/d/1unLB1XCJHoul3gqGYGzqSS8QMr5ZvJ9h/view?usp=sharing\n",
        "gdown.download(url,output,quiet = False)\n",
        "# cwd = os.getcwd()\n",
        "# with zipfile.ZipFile(cwd+'/sample.zip', 'r') as zip_ref:\n",
        "#     zip_ref.extractall(cwd+'/sample')\n",
        "\n",
        "# PATH = os.path.join(os.path.dirname(cwd+'/sample/'), 'sample/')\n",
        "# print(PATH)"
      ],
      "metadata": {
        "id": "9724Jbw9sRSb",
        "outputId": "6c4146ba-f5c8-41f5-c709-e69692dcd748",
        "colab": {
          "base_uri": "https://localhost:8080/",
          "height": 385
        }
      },
      "execution_count": 4,
      "outputs": [
        {
          "output_type": "stream",
          "name": "stdout",
          "text": [
            "Requirement already satisfied: gdown in /usr/local/lib/python3.7/dist-packages (4.4.0)\n",
            "Requirement already satisfied: requests[socks] in /usr/local/lib/python3.7/dist-packages (from gdown) (2.23.0)\n",
            "Requirement already satisfied: tqdm in /usr/local/lib/python3.7/dist-packages (from gdown) (4.64.0)\n",
            "Requirement already satisfied: beautifulsoup4 in /usr/local/lib/python3.7/dist-packages (from gdown) (4.6.3)\n",
            "Requirement already satisfied: filelock in /usr/local/lib/python3.7/dist-packages (from gdown) (3.6.0)\n",
            "Requirement already satisfied: six in /usr/local/lib/python3.7/dist-packages (from gdown) (1.15.0)\n",
            "Requirement already satisfied: certifi>=2017.4.17 in /usr/local/lib/python3.7/dist-packages (from requests[socks]->gdown) (2021.10.8)\n",
            "Requirement already satisfied: idna<3,>=2.5 in /usr/local/lib/python3.7/dist-packages (from requests[socks]->gdown) (2.10)\n",
            "Requirement already satisfied: urllib3!=1.25.0,!=1.25.1,<1.26,>=1.21.1 in /usr/local/lib/python3.7/dist-packages (from requests[socks]->gdown) (1.24.3)\n",
            "Requirement already satisfied: chardet<4,>=3.0.2 in /usr/local/lib/python3.7/dist-packages (from requests[socks]->gdown) (3.0.4)\n",
            "Requirement already satisfied: PySocks!=1.5.7,>=1.5.6 in /usr/local/lib/python3.7/dist-packages (from requests[socks]->gdown) (1.7.1)\n"
          ]
        },
        {
          "output_type": "stream",
          "name": "stderr",
          "text": [
            "Downloading...\n",
            "From: https://drive.google.com/uc?id=1kwU_CkP1X5M1CDlYKPkb9p5J8GulWBXr\n",
            "To: /content/sample_test.csv\n",
            "100%|██████████| 195M/195M [00:01<00:00, 145MB/s]\n",
            "Downloading...\n",
            "From: https://drive.google.com/uc?id=1graojPHaMvZGHmocsUFLds9bFWQG_mr6\n",
            "To: /content/sample_train.csv\n",
            "100%|██████████| 1.75G/1.75G [00:11<00:00, 156MB/s]\n"
          ]
        },
        {
          "output_type": "execute_result",
          "data": {
            "text/plain": [
              "'sample_train.csv'"
            ],
            "application/vnd.google.colaboratory.intrinsic+json": {
              "type": "string"
            }
          },
          "metadata": {},
          "execution_count": 4
        }
      ]
    },
    {
      "cell_type": "code",
      "source": [
        "# generate n real samples with class labels\n",
        "def generate_real_samples(s,filename = '/content/sample.csv'):\n",
        "  import random\n",
        "  import pandas\n",
        "  import numpy\n",
        "\t# Sample s rows of data.frame\n",
        "\n",
        "  #number of records in file (excludes header)\n",
        "  n = sum(1 for line in open(filename)) - 1 \n",
        "\n",
        "  #the 0-indexed header will not be included in the skip list\n",
        "  skip = sorted(random.sample(range(1,n+1),n-s)) \n",
        "  df = pandas.read_csv(filename, skiprows=skip)\n",
        "  X = []\n",
        "  for i in range(len(df.index)):\n",
        "    text_exa = df['rh'][i]\n",
        "    text_exa = str(text_exa).replace(\"{\",\"\").replace(\"}\", \"\")\n",
        "    test_exa = text_exa.split(\",\")\n",
        "    test_exa = [float(i) for i in test_exa]\n",
        "    # test_exa = test_exa\n",
        "    X.append(test_exa)\n",
        "\n",
        "\n",
        "\t# generate class labels\n",
        "  y = []\n",
        "  for i in range(len(df.index)):\n",
        "    # y_one = numpy.ones(1)\n",
        "    y_one = df['ls'][i]\n",
        "    y_one = str(y_one).replace(\"{\",\"\").replace(\"}\", \"\")\n",
        "    y_one = y_one.split(\",\")\n",
        "    y_one = [float(i) for i in y_one]\n",
        "    y.append(y_one)\n",
        "\n",
        "    \n",
        "  X = numpy.array(X)\n",
        "  y = numpy.array(y)\n",
        "\n",
        "  X = (X.astype(\"float32\") / 65455.0).astype(\"float32\")\n",
        "  y =(y.astype(\"float32\")+100)/255\n",
        "  return X, y"
      ],
      "metadata": {
        "id": "Bu4Q-00Hu63I"
      },
      "execution_count": 109,
      "outputs": []
    },
    {
      "cell_type": "code",
      "source": [
        "# generate_real_samples(2)"
      ],
      "metadata": {
        "id": "iUZVkDJYvAyU"
      },
      "execution_count": 6,
      "outputs": []
    },
    {
      "cell_type": "code",
      "execution_count": null,
      "metadata": {
        "id": "u99NsBjlqtgb"
      },
      "outputs": [],
      "source": [
        "import numpy as np\n",
        "import tensorflow as tf\n",
        "\n",
        "# We'll use all the available examples from both the training and test\n",
        "# sets.\n",
        "# (x_train, y_train), (x_test, y_test) = keras.datasets.mnist.load_data()\n",
        "(x_train, y_train) = generate_real_samples(450000,filename = '/content/sample_train.csv')\n",
        "(x_test, y_test) = generate_real_samples(2000,filename = '/content/sample_test.csv')\n",
        "\n",
        "# all_pixels = x_train\n",
        "# all_labels = np.concatenate([y_train, y_test])\n",
        "\n",
        "# # Scale based on reflectence values:\n",
        "# # https://developers.google.com/earth-engine/datasets/catalog/LANDSAT_LC08_C02_T1_L2?hl=en#bands\n",
        "# x_train = (x_train.astype(\"float32\") / 65455.0).astype(\"float32\")\n",
        "# all_labels =(y_train.astype(\"float32\")+100)/255\n",
        "\n",
        "# x_test = (x_test.astype(\"float32\") / 65455.0).astype(\"float32\")\n",
        "# y_test =(y_test.astype(\"float32\")+100)/255\n",
        "# # Create tf.data.Dataset.\n",
        "dataset_train = tf.data.Dataset.from_tensor_slices((y_train,x_train))\n",
        "dataset_train = dataset_train.shuffle(buffer_size=1024).batch(batch_size)\n",
        "\n",
        "dataset_test = tf.data.Dataset.from_tensor_slices((y_test,x_test))\n",
        "dataset_test = dataset_test.shuffle(buffer_size=1024).batch(batch_size)\n",
        "\n",
        "# print(f\"Shape of training images: {all_labels[1]}\")\n",
        "# print(f\"Shape of training images: {all_pixels.shape}\")\n",
        "# print(f\"Shape of training labels: {all_labels.shape}\")"
      ]
    },
    {
      "cell_type": "code",
      "source": [
        "print(x_train[1])"
      ],
      "metadata": {
        "colab": {
          "base_uri": "https://localhost:8080/"
        },
        "id": "g701wfbmj94D",
        "outputId": "addb41ce-1e8f-4be8-dbd0-21de7f76387c"
      },
      "execution_count": 116,
      "outputs": [
        {
          "output_type": "stream",
          "name": "stdout",
          "text": [
            "[-8.15827661e-05 -7.59300237e-05 -7.01245153e-05 -6.44717729e-05\n",
            " -5.98884726e-05 -5.53051686e-05 -5.13329760e-05 -4.73607797e-05\n",
            " -4.38469142e-05 -4.04858329e-05 -3.71247443e-05 -3.42219864e-05\n",
            " -3.13192249e-05 -2.90275766e-05 -2.67359246e-05 -2.44442745e-05\n",
            " -2.21526243e-05 -1.98609723e-05 -1.75693222e-05 -1.58887779e-05\n",
            " -1.35971277e-05 -1.19165834e-05 -1.02360400e-05 -8.55549661e-06\n",
            " -6.26384553e-06 -4.43052477e-06 -2.74998092e-06 -1.06943708e-06\n",
            "  4.58330135e-07  2.13887415e-06  4.43052477e-06  6.26384553e-06\n",
            "  7.94438893e-06  9.62493323e-06  1.13054775e-05  1.35971277e-05\n",
            "  1.52776720e-05  1.71109932e-05  1.94026434e-05  2.10831877e-05\n",
            "  2.33748378e-05  2.50553821e-05  2.73470323e-05  2.90275766e-05\n",
            "  3.13192249e-05  3.29997711e-05  3.52914212e-05  3.71247443e-05\n",
            "  3.94163908e-05  4.10969369e-05  4.33885871e-05  4.50691332e-05\n",
            "  4.67496757e-05  4.90413258e-05  5.07218683e-05  5.25551914e-05\n",
            "  5.42357338e-05  5.65273876e-05  5.82079265e-05  5.98884726e-05\n",
            "  6.21801228e-05  6.38606653e-05  6.56939883e-05  6.79856385e-05\n",
            "  6.96661809e-05  7.19578311e-05  7.42494885e-05  7.59300237e-05\n",
            "  7.82216739e-05  8.05133313e-05  8.32633086e-05  8.61660665e-05\n",
            "  8.90688243e-05  9.19715822e-05  9.53326671e-05  9.93048670e-05\n",
            "  1.03888167e-04  1.09082575e-04  1.15346425e-04  1.22221376e-04\n",
            "  1.30776869e-04  1.40401797e-04  1.54762820e-04  1.73554348e-04\n",
            "  1.94790307e-04  2.32526174e-04  2.67359253e-04  2.84470269e-04\n",
            "  2.99289590e-04  3.12428398e-04  3.23886663e-04  3.33511562e-04\n",
            "  3.42678191e-04  3.51233670e-04  3.59789148e-04  3.68955778e-04\n",
            "  3.79344594e-04  3.90650064e-04  4.01497236e-04  4.12344350e-04\n",
            "  4.24413738e-04]\n"
          ]
        }
      ]
    },
    {
      "cell_type": "markdown",
      "metadata": {
        "id": "35LbRuf5qtgb"
      },
      "source": [
        "## Calculating the number of input channel for the generator and discriminator\n",
        "\n",
        "In a regular (unconditional) GAN, we start by sampling noise (of some fixed\n",
        "dimension) from a normal distribution. In our case, we also need to account\n",
        "for the class labels. We will have to add the number of classes to\n",
        "the input channels of the generator (noise input) as well as the discriminator\n",
        "(generated image input)."
      ]
    },
    {
      "cell_type": "code",
      "execution_count": 103,
      "metadata": {
        "colab": {
          "base_uri": "https://localhost:8080/"
        },
        "id": "RAlWShbvqtgc",
        "outputId": "a419137a-bbc8-4024-d61d-9b8570915d72"
      },
      "outputs": [
        {
          "output_type": "stream",
          "name": "stdout",
          "text": [
            "1024 613\n"
          ]
        }
      ],
      "source": [
        "generator_in_channels = latent_dim + image_size\n",
        "discriminator_in_channels = image_size + num_classes\n",
        "print(generator_in_channels, discriminator_in_channels)"
      ]
    },
    {
      "cell_type": "markdown",
      "metadata": {
        "id": "PmsGUffgqtgc"
      },
      "source": [
        "## Creating the discriminator and generator\n",
        "\n",
        "The model definitions (`discriminator`, `generator`, and `ConditionalGAN`) have been\n",
        "adapted from [this example](https://keras.io/guides/customizing_what_happens_in_fit/)."
      ]
    },
    {
      "cell_type": "code",
      "execution_count": 112,
      "metadata": {
        "id": "2niCQ0yXqtgc"
      },
      "outputs": [],
      "source": [
        "# Create the discriminator.\n",
        "discriminator = keras.Sequential(\n",
        "    [\n",
        "        keras.layers.InputLayer((discriminator_in_channels,)),\n",
        "        layers.Dense(512),\n",
        "        layers.LeakyReLU(alpha=0.2),\n",
        "        layers.Dense(256),\n",
        "        layers.LeakyReLU(alpha=0.2),\n",
        "        layers.Dense(128),\n",
        "        layers.LeakyReLU(alpha=0.2),\n",
        "        layers.Dense(1),\n",
        "    ],\n",
        "    name=\"discriminator\",\n",
        ")\n",
        "\n",
        "# Create the generator.\n",
        "generator = keras.Sequential(\n",
        "    [\n",
        "        keras.layers.InputLayer((generator_in_channels,)),\n",
        "        layers.Dense(1024),\n",
        "        layers.LeakyReLU(alpha=0.2),\n",
        "        layers.Dense(512),\n",
        "        layers.LeakyReLU(alpha=0.2),\n",
        "        layers.Dense(256),\n",
        "        layers.LeakyReLU(alpha=0.2),\n",
        "        layers.Dense(128),\n",
        "        layers.LeakyReLU(alpha=0.2),\n",
        "        layers.Dense(num_classes,  activation=\"linear\"),\n",
        "    ],\n",
        "    name=\"generator\",\n",
        ")"
      ]
    },
    {
      "cell_type": "markdown",
      "metadata": {
        "id": "vYXoy-O_qtgc"
      },
      "source": [
        "## Creating a `ConditionalGAN` model"
      ]
    },
    {
      "cell_type": "code",
      "execution_count": 24,
      "metadata": {
        "id": "uT_y3xRwqtgd"
      },
      "outputs": [],
      "source": [
        "\n",
        "class ConditionalGAN(keras.Model):\n",
        "  \n",
        "    def __init__(self, discriminator, generator, latent_dim):\n",
        "        super(ConditionalGAN, self).__init__()\n",
        "        # Create the discriminator.\n",
        "        discriminator = keras.Sequential(\n",
        "            [\n",
        "                keras.layers.InputLayer((discriminator_in_channels,)),\n",
        "                layers.Dense(512),\n",
        "                layers.LeakyReLU(alpha=0.2),\n",
        "                layers.Dense(256),\n",
        "                layers.LeakyReLU(alpha=0.2),\n",
        "                layers.Dense(128),\n",
        "                layers.LeakyReLU(alpha=0.2),\n",
        "                layers.Dense(1),\n",
        "            ],\n",
        "            name=\"discriminator\",\n",
        "        )\n",
        "\n",
        "        # Create the generator.\n",
        "        generator = keras.Sequential(\n",
        "            [\n",
        "                keras.layers.InputLayer((generator_in_channels,)),\n",
        "                layers.Dense(1024),\n",
        "                layers.LeakyReLU(alpha=0.2),\n",
        "                layers.Dense(512),\n",
        "                layers.LeakyReLU(alpha=0.2),\n",
        "                layers.Dense(256),\n",
        "                layers.LeakyReLU(alpha=0.2),\n",
        "                layers.Dense(128),\n",
        "                layers.LeakyReLU(alpha=0.2),\n",
        "                layers.Dense(num_classes,  activation=\"linear\"),\n",
        "            ],\n",
        "            name=\"generator\",\n",
        "        )\n",
        "        self.discriminator = discriminator\n",
        "        self.generator = generator\n",
        "        self.latent_dim = latent_dim\n",
        "        self.gen_loss_tracker = keras.metrics.Mean(name=\"generator_loss\")\n",
        "        self.disc_loss_tracker = keras.metrics.Mean(name=\"discriminator_loss\")\n",
        "\n",
        "    @property\n",
        "    def metrics(self):\n",
        "        return [self.gen_loss_tracker, self.disc_loss_tracker]\n",
        "\n",
        "    def compile(self, d_optimizer, g_optimizer, loss_fn):\n",
        "        super(ConditionalGAN, self).compile()\n",
        "        self.d_optimizer = d_optimizer\n",
        "        self.g_optimizer = g_optimizer\n",
        "        self.loss_fn = loss_fn\n",
        "\n",
        "    def train_step(self, data):\n",
        "        # Unpack the data.\n",
        "        real_pixels, real_labels = data\n",
        "        # print(real_pixels[0])\n",
        "        # Sample random points in the latent space and concatenate the labels.\n",
        "        # This is for the generator.\n",
        "        batch_size = tf.shape(real_pixels)[0]\n",
        "        random_latent_vectors = tf.random.normal(shape=(batch_size, self.latent_dim))\n",
        "        # print(random_latent_vectors[0])\n",
        "        random_vector_pixels = tf.concat(\n",
        "            [random_latent_vectors, real_pixels], axis=1\n",
        "        )\n",
        "        # print(random_vector_pixels[0])\n",
        "        # Decode the noise (guided by labels) to fake images.\n",
        "        generated_labels = self.generator(random_vector_pixels)\n",
        "\n",
        "        # Combine them with real images. Note that we are concatenating the labels\n",
        "        # with these images here.\n",
        "        fake_pixel_and_labels = tf.concat([generated_labels, real_pixels], -1)\n",
        "        real_pixel_and_labels = tf.concat([real_labels, real_pixels], -1)\n",
        "        combined_images = tf.concat(\n",
        "            [fake_pixel_and_labels, real_pixel_and_labels], axis=0\n",
        "        )\n",
        "\n",
        "        # Assemble labels discriminating real from fake images.\n",
        "        labels = tf.concat(\n",
        "            [tf.ones((batch_size, 1)), tf.zeros((batch_size, 1))], axis=0\n",
        "        )\n",
        "\n",
        "        # Train the discriminator.\n",
        "        with tf.GradientTape() as tape:\n",
        "            predictions = self.discriminator(combined_images)\n",
        "            d_loss = self.loss_fn(labels, predictions)\n",
        "        grads = tape.gradient(d_loss, self.discriminator.trainable_weights)\n",
        "        self.d_optimizer.apply_gradients(\n",
        "            zip(grads, self.discriminator.trainable_weights)\n",
        "        )\n",
        "\n",
        "        # Sample random points in the latent space.\n",
        "        random_latent_vectors = tf.random.normal(shape=(batch_size, self.latent_dim))\n",
        "        random_vector_labels = tf.concat(\n",
        "            [random_latent_vectors, real_pixels], axis=1\n",
        "        )\n",
        "\n",
        "        # Assemble labels that say \"all real images\".\n",
        "        misleading_labels = tf.zeros((batch_size, 1))\n",
        "\n",
        "        # Train the generator (note that we should *not* update the weights\n",
        "        # of the discriminator)!\n",
        "        with tf.GradientTape() as tape:\n",
        "            fake_labels = self.generator(random_vector_labels)\n",
        "            fake_pixels_and_labels = tf.concat([real_pixels, fake_labels], -1)\n",
        "            predictions = self.discriminator(fake_pixels_and_labels)\n",
        "            g_loss = self.loss_fn(misleading_labels, predictions)\n",
        "        grads = tape.gradient(g_loss, self.generator.trainable_weights)\n",
        "        self.g_optimizer.apply_gradients(zip(grads, self.generator.trainable_weights))\n",
        "\n",
        "        # Monitor loss.\n",
        "        self.gen_loss_tracker.update_state(g_loss)\n",
        "        self.disc_loss_tracker.update_state(d_loss)\n",
        "        return {\n",
        "            \"g_loss\": self.gen_loss_tracker.result(),\n",
        "            \"d_loss\": self.disc_loss_tracker.result(),\n",
        "        }\n"
      ]
    },
    {
      "cell_type": "markdown",
      "metadata": {
        "id": "-L8GawiTqtge"
      },
      "source": [
        "## Training the Conditional GAN"
      ]
    },
    {
      "cell_type": "code",
      "execution_count": 27,
      "metadata": {
        "colab": {
          "base_uri": "https://localhost:8080/"
        },
        "id": "I29l7pJCqtge",
        "outputId": "a1256700-73a4-4ac2-f7b7-70b8b96e9221"
      },
      "outputs": [
        {
          "output_type": "stream",
          "name": "stdout",
          "text": [
            "Epoch 1/50\n",
            "782/782 [==============================] - 10s 5ms/step - g_loss: 0.6688 - d_loss: 0.6814\n",
            "Epoch 2/50\n",
            "782/782 [==============================] - 4s 5ms/step - g_loss: 0.6102 - d_loss: 0.6437\n",
            "Epoch 3/50\n",
            "782/782 [==============================] - 4s 5ms/step - g_loss: 0.5454 - d_loss: 0.5835\n",
            "Epoch 4/50\n",
            "782/782 [==============================] - 4s 5ms/step - g_loss: 0.4767 - d_loss: 0.5130\n",
            "Epoch 5/50\n",
            "782/782 [==============================] - 4s 5ms/step - g_loss: 0.4052 - d_loss: 0.4474\n",
            "Epoch 6/50\n",
            "782/782 [==============================] - 4s 5ms/step - g_loss: 0.3346 - d_loss: 0.3975\n",
            "Epoch 7/50\n",
            "782/782 [==============================] - 4s 5ms/step - g_loss: 0.2669 - d_loss: 0.3660\n",
            "Epoch 8/50\n",
            "782/782 [==============================] - 4s 6ms/step - g_loss: 0.2044 - d_loss: 0.3487\n",
            "Epoch 9/50\n",
            "782/782 [==============================] - 4s 5ms/step - g_loss: 0.1488 - d_loss: 0.3394\n",
            "Epoch 10/50\n",
            "782/782 [==============================] - 4s 5ms/step - g_loss: 0.1030 - d_loss: 0.3341\n",
            "Epoch 11/50\n",
            "782/782 [==============================] - 4s 5ms/step - g_loss: 0.0672 - d_loss: 0.3305\n",
            "Epoch 12/50\n",
            "782/782 [==============================] - 4s 5ms/step - g_loss: 0.0410 - d_loss: 0.3273\n",
            "Epoch 13/50\n",
            "782/782 [==============================] - 4s 5ms/step - g_loss: 0.0234 - d_loss: 0.3242\n",
            "Epoch 14/50\n",
            "782/782 [==============================] - 4s 5ms/step - g_loss: 0.0127 - d_loss: 0.3210\n",
            "Epoch 15/50\n",
            "782/782 [==============================] - 4s 5ms/step - g_loss: 0.0065 - d_loss: 0.3176\n",
            "Epoch 16/50\n",
            "782/782 [==============================] - 4s 5ms/step - g_loss: 0.0033 - d_loss: 0.3140\n",
            "Epoch 17/50\n",
            "782/782 [==============================] - 4s 5ms/step - g_loss: 0.0016 - d_loss: 0.3102\n",
            "Epoch 18/50\n",
            "782/782 [==============================] - 4s 5ms/step - g_loss: 7.2256e-04 - d_loss: 0.3061\n",
            "Epoch 19/50\n",
            "782/782 [==============================] - 4s 5ms/step - g_loss: 3.2099e-04 - d_loss: 0.3017\n",
            "Epoch 20/50\n",
            "782/782 [==============================] - 4s 5ms/step - g_loss: 1.3860e-04 - d_loss: 0.2971\n",
            "Epoch 21/50\n",
            "782/782 [==============================] - 4s 5ms/step - g_loss: 5.8127e-05 - d_loss: 0.2923\n",
            "Epoch 22/50\n",
            "782/782 [==============================] - 4s 5ms/step - g_loss: 2.3814e-05 - d_loss: 0.2872\n",
            "Epoch 23/50\n",
            "782/782 [==============================] - 4s 5ms/step - g_loss: 9.4045e-06 - d_loss: 0.2818\n",
            "Epoch 24/50\n",
            "782/782 [==============================] - 4s 5ms/step - g_loss: 3.5965e-06 - d_loss: 0.2761\n",
            "Epoch 25/50\n",
            "782/782 [==============================] - 4s 5ms/step - g_loss: 1.3174e-06 - d_loss: 0.2702\n",
            "Epoch 26/50\n",
            "782/782 [==============================] - 4s 5ms/step - g_loss: 4.6453e-07 - d_loss: 0.2640\n",
            "Epoch 27/50\n",
            "782/782 [==============================] - 5s 6ms/step - g_loss: 1.5976e-07 - d_loss: 0.2576\n",
            "Epoch 28/50\n",
            "782/782 [==============================] - 4s 5ms/step - g_loss: 5.2721e-08 - d_loss: 0.2509\n",
            "Epoch 29/50\n",
            "782/782 [==============================] - 4s 5ms/step - g_loss: 1.6605e-08 - d_loss: 0.2441\n",
            "Epoch 30/50\n",
            "782/782 [==============================] - 4s 5ms/step - g_loss: 4.9810e-09 - d_loss: 0.2371\n",
            "Epoch 31/50\n",
            "782/782 [==============================] - 4s 5ms/step - g_loss: 1.4330e-09 - d_loss: 0.2299\n",
            "Epoch 32/50\n",
            "782/782 [==============================] - 4s 5ms/step - g_loss: 3.9666e-10 - d_loss: 0.2225\n",
            "Epoch 33/50\n",
            "782/782 [==============================] - 4s 5ms/step - g_loss: 1.0352e-10 - d_loss: 0.2149\n",
            "Epoch 34/50\n",
            "782/782 [==============================] - 4s 5ms/step - g_loss: 2.6803e-11 - d_loss: 0.2072\n",
            "Epoch 35/50\n",
            "782/782 [==============================] - 4s 5ms/step - g_loss: 6.2213e-12 - d_loss: 0.1995\n",
            "Epoch 36/50\n",
            "782/782 [==============================] - 4s 5ms/step - g_loss: 1.4260e-12 - d_loss: 0.1915\n",
            "Epoch 37/50\n",
            "782/782 [==============================] - 4s 5ms/step - g_loss: 3.0833e-13 - d_loss: 0.1836\n",
            "Epoch 38/50\n",
            "782/782 [==============================] - 4s 5ms/step - g_loss: 6.6855e-14 - d_loss: 0.1756\n",
            "Epoch 39/50\n",
            "782/782 [==============================] - 4s 5ms/step - g_loss: 1.2187e-14 - d_loss: 0.1675\n",
            "Epoch 40/50\n",
            "782/782 [==============================] - 4s 5ms/step - g_loss: 2.3824e-15 - d_loss: 0.1595\n",
            "Epoch 41/50\n",
            "782/782 [==============================] - 4s 5ms/step - g_loss: 4.4058e-16 - d_loss: 0.1516\n",
            "Epoch 42/50\n",
            "782/782 [==============================] - 4s 5ms/step - g_loss: 8.4486e-17 - d_loss: 0.1437\n",
            "Epoch 43/50\n",
            "782/782 [==============================] - 4s 5ms/step - g_loss: 1.2504e-17 - d_loss: 0.1358\n",
            "Epoch 44/50\n",
            "782/782 [==============================] - 4s 5ms/step - g_loss: 2.4187e-18 - d_loss: 0.1281\n",
            "Epoch 45/50\n",
            "782/782 [==============================] - 4s 5ms/step - g_loss: 3.1775e-19 - d_loss: 0.1205\n",
            "Epoch 46/50\n",
            "782/782 [==============================] - 4s 5ms/step - g_loss: 5.8672e-20 - d_loss: 0.1130\n",
            "Epoch 47/50\n",
            "782/782 [==============================] - 4s 5ms/step - g_loss: 6.2513e-21 - d_loss: 0.1058\n",
            "Epoch 48/50\n",
            "782/782 [==============================] - 4s 5ms/step - g_loss: 1.9532e-21 - d_loss: 0.0987\n",
            "Epoch 49/50\n",
            "782/782 [==============================] - 4s 5ms/step - g_loss: 1.8321e-22 - d_loss: 0.0919\n",
            "Epoch 50/50\n",
            "782/782 [==============================] - 4s 5ms/step - g_loss: 3.2503e-23 - d_loss: 0.0854\n"
          ]
        },
        {
          "output_type": "execute_result",
          "data": {
            "text/plain": [
              "<keras.callbacks.History at 0x7fa0e7c56590>"
            ]
          },
          "metadata": {},
          "execution_count": 27
        }
      ],
      "source": [
        "cond_gan = ConditionalGAN(\n",
        "    discriminator=discriminator, generator=generator, latent_dim=latent_dim\n",
        ")\n",
        "cond_gan.compile(\n",
        "    d_optimizer=keras.optimizers.Adam(learning_rate=0.0000003),\n",
        "    g_optimizer=keras.optimizers.Adam(learning_rate=0.0000003),\n",
        "    loss_fn=keras.losses.BinaryCrossentropy(from_logits=True),\n",
        ")\n",
        "\n",
        "cond_gan.fit(dataset_train, epochs=50)"
      ]
    },
    {
      "cell_type": "markdown",
      "metadata": {
        "id": "9rfRnGG2qtge"
      },
      "source": [
        "## Interpolating between classes with the trained generator"
      ]
    },
    {
      "cell_type": "code",
      "source": [
        "from keras import Input\n",
        "from keras.layers import Conv1D\n",
        "from keras.layers import MaxPooling1D\n",
        "from keras.layers import LSTM\n",
        "from keras.layers import Dense\n",
        "from keras.layers import Reshape\n",
        "from keras.layers import Dropout\n",
        "\n",
        "from keras import Model\n",
        "input_layer = Input(shape=(512))\n",
        "dense1 = Dense(1024, activation='relu')(input_layer)\n",
        "dense2 = Dense(1024, activation='relu')(dense1)\n",
        "dropout1 =  Dropout(.5)(dense2)\n",
        "resh1 = Reshape(target_shape=(1,16,64))(dropout1)\n",
        "conv1 = Conv1D(filters=32,\n",
        "               kernel_size=16,\n",
        "               strides=1,\n",
        "               activation='relu')(resh1)\n",
        "resh1 = Reshape(target_shape=(32,1))(conv1)\n",
        "pool1 = MaxPooling1D(pool_size=2)(resh1)\n",
        "lstm1 = LSTM(32)(pool1)\n",
        "output_layer = Dense(101, activation='linear')(lstm1)\n",
        "model = Model(inputs=input_layer, outputs=output_layer)\n",
        "optimizer = keras.optimizers.Adam(lr=0.000001)\n",
        "model.compile(loss=\"MeanSquaredError\", optimizer=optimizer)"
      ],
      "metadata": {
        "colab": {
          "base_uri": "https://localhost:8080/"
        },
        "id": "buysgMLnaQzI",
        "outputId": "d6d70d85-4a72-4071-fa6a-7d1a6ae770b9"
      },
      "execution_count": 145,
      "outputs": [
        {
          "output_type": "stream",
          "name": "stderr",
          "text": [
            "/usr/local/lib/python3.7/dist-packages/keras/optimizer_v2/adam.py:105: UserWarning: The `lr` argument is deprecated, use `learning_rate` instead.\n",
            "  super(Adam, self).__init__(name, **kwargs)\n"
          ]
        }
      ]
    },
    {
      "cell_type": "code",
      "source": [
        "model.fit(dataset_train,validation_data =dataset_test , epochs=50)"
      ],
      "metadata": {
        "colab": {
          "base_uri": "https://localhost:8080/"
        },
        "id": "daL_IqxrawiI",
        "outputId": "9dfb576a-82bf-43bb-a9d8-ec1426eda592"
      },
      "execution_count": 146,
      "outputs": [
        {
          "output_type": "stream",
          "name": "stdout",
          "text": [
            "Epoch 1/50\n",
            "782/782 [==============================] - 9s 8ms/step - loss: 0.0123 - val_loss: 1.5040e-04\n",
            "Epoch 2/50\n",
            "782/782 [==============================] - 4s 6ms/step - loss: 0.0012 - val_loss: 8.6102e-05\n",
            "Epoch 3/50\n",
            "782/782 [==============================] - 4s 6ms/step - loss: 4.0218e-04 - val_loss: 4.9152e-05\n",
            "Epoch 4/50\n",
            "782/782 [==============================] - 4s 6ms/step - loss: 1.8675e-04 - val_loss: 1.0258e-05\n",
            "Epoch 5/50\n",
            "782/782 [==============================] - 5s 6ms/step - loss: 9.6211e-05 - val_loss: 1.0420e-05\n",
            "Epoch 6/50\n",
            "782/782 [==============================] - 5s 6ms/step - loss: 5.5994e-05 - val_loss: 1.0272e-05\n",
            "Epoch 7/50\n",
            "782/782 [==============================] - 4s 6ms/step - loss: 3.7140e-05 - val_loss: 8.8841e-06\n",
            "Epoch 8/50\n",
            "782/782 [==============================] - 5s 6ms/step - loss: 2.6400e-05 - val_loss: 6.6955e-06\n",
            "Epoch 9/50\n",
            "782/782 [==============================] - 4s 6ms/step - loss: 1.8221e-05 - val_loss: 4.3675e-06\n",
            "Epoch 10/50\n",
            "782/782 [==============================] - 5s 6ms/step - loss: 1.2930e-05 - val_loss: 2.4248e-06\n",
            "Epoch 11/50\n",
            "782/782 [==============================] - 5s 6ms/step - loss: 8.3585e-06 - val_loss: 1.1315e-06\n",
            "Epoch 12/50\n",
            "782/782 [==============================] - 7s 8ms/step - loss: 5.7461e-06 - val_loss: 4.4053e-07\n",
            "Epoch 13/50\n",
            "782/782 [==============================] - 5s 7ms/step - loss: 4.2198e-06 - val_loss: 1.4929e-07\n",
            "Epoch 14/50\n",
            "782/782 [==============================] - 5s 6ms/step - loss: 2.6226e-06 - val_loss: 4.9444e-08\n",
            "Epoch 15/50\n",
            "782/782 [==============================] - 4s 6ms/step - loss: 2.2133e-06 - val_loss: 2.3016e-08\n",
            "Epoch 16/50\n",
            "782/782 [==============================] - 4s 6ms/step - loss: 1.7820e-06 - val_loss: 1.5144e-08\n",
            "Epoch 17/50\n",
            "782/782 [==============================] - 4s 6ms/step - loss: 1.3009e-06 - val_loss: 1.1379e-08\n",
            "Epoch 18/50\n",
            "782/782 [==============================] - 4s 6ms/step - loss: 1.0205e-06 - val_loss: 9.7885e-09\n",
            "Epoch 19/50\n",
            "782/782 [==============================] - 4s 6ms/step - loss: 6.5719e-07 - val_loss: 8.7560e-09\n",
            "Epoch 20/50\n",
            "782/782 [==============================] - 5s 6ms/step - loss: 6.4982e-07 - val_loss: 8.6217e-09\n",
            "Epoch 21/50\n",
            "782/782 [==============================] - 4s 6ms/step - loss: 7.3751e-07 - val_loss: 8.1206e-09\n",
            "Epoch 22/50\n",
            "782/782 [==============================] - 4s 6ms/step - loss: 4.6377e-07 - val_loss: 7.8480e-09\n",
            "Epoch 23/50\n",
            "782/782 [==============================] - 5s 6ms/step - loss: 3.6733e-07 - val_loss: 8.0317e-09\n",
            "Epoch 24/50\n",
            "782/782 [==============================] - 5s 6ms/step - loss: 3.0288e-07 - val_loss: 7.8323e-09\n",
            "Epoch 25/50\n",
            "782/782 [==============================] - 4s 6ms/step - loss: 2.7897e-07 - val_loss: 8.0151e-09\n",
            "Epoch 26/50\n",
            "782/782 [==============================] - 5s 6ms/step - loss: 2.6363e-07 - val_loss: 7.9306e-09\n",
            "Epoch 27/50\n",
            "782/782 [==============================] - 4s 6ms/step - loss: 2.6166e-07 - val_loss: 7.8116e-09\n",
            "Epoch 28/50\n",
            "782/782 [==============================] - 4s 6ms/step - loss: 2.2270e-07 - val_loss: 7.9793e-09\n",
            "Epoch 29/50\n",
            "782/782 [==============================] - 4s 6ms/step - loss: 2.1138e-07 - val_loss: 7.6733e-09\n",
            "Epoch 30/50\n",
            "782/782 [==============================] - 5s 6ms/step - loss: 2.8570e-07 - val_loss: 7.6476e-09\n",
            "Epoch 31/50\n",
            "782/782 [==============================] - 4s 6ms/step - loss: 1.4634e-07 - val_loss: 7.6214e-09\n",
            "Epoch 32/50\n",
            "782/782 [==============================] - 4s 6ms/step - loss: 1.5376e-07 - val_loss: 7.6854e-09\n",
            "Epoch 33/50\n",
            "782/782 [==============================] - 4s 6ms/step - loss: 8.5343e-08 - val_loss: 7.6508e-09\n",
            "Epoch 34/50\n",
            "782/782 [==============================] - 4s 6ms/step - loss: 1.1289e-07 - val_loss: 7.6053e-09\n",
            "Epoch 35/50\n",
            "782/782 [==============================] - 4s 6ms/step - loss: 1.0662e-07 - val_loss: 7.6097e-09\n",
            "Epoch 36/50\n",
            "782/782 [==============================] - 4s 6ms/step - loss: 1.0041e-07 - val_loss: 7.5972e-09\n",
            "Epoch 37/50\n",
            "782/782 [==============================] - 4s 6ms/step - loss: 7.4496e-08 - val_loss: 7.6299e-09\n",
            "Epoch 38/50\n",
            "782/782 [==============================] - 4s 6ms/step - loss: 5.9486e-08 - val_loss: 7.5978e-09\n",
            "Epoch 39/50\n",
            "782/782 [==============================] - 5s 6ms/step - loss: 2.7610e-07 - val_loss: 7.5953e-09\n",
            "Epoch 40/50\n",
            "782/782 [==============================] - 5s 6ms/step - loss: 1.6068e-07 - val_loss: 7.6301e-09\n",
            "Epoch 41/50\n",
            "782/782 [==============================] - 4s 6ms/step - loss: 1.8621e-07 - val_loss: 7.5995e-09\n",
            "Epoch 42/50\n",
            "782/782 [==============================] - 4s 6ms/step - loss: 3.7365e-08 - val_loss: 7.6308e-09\n",
            "Epoch 43/50\n",
            "782/782 [==============================] - 4s 6ms/step - loss: 9.2852e-08 - val_loss: 7.6399e-09\n",
            "Epoch 44/50\n",
            "782/782 [==============================] - 4s 6ms/step - loss: 1.3421e-07 - val_loss: 7.5902e-09\n",
            "Epoch 45/50\n",
            "782/782 [==============================] - 5s 6ms/step - loss: 3.6244e-08 - val_loss: 7.6186e-09\n",
            "Epoch 46/50\n",
            "782/782 [==============================] - 5s 6ms/step - loss: 5.0808e-08 - val_loss: 7.5922e-09\n",
            "Epoch 47/50\n",
            "782/782 [==============================] - 5s 6ms/step - loss: 9.9643e-08 - val_loss: 7.6514e-09\n",
            "Epoch 48/50\n",
            "782/782 [==============================] - 5s 6ms/step - loss: 8.8024e-08 - val_loss: 7.6820e-09\n",
            "Epoch 49/50\n",
            "782/782 [==============================] - 5s 6ms/step - loss: 7.3750e-08 - val_loss: 7.5944e-09\n",
            "Epoch 50/50\n",
            "782/782 [==============================] - 4s 6ms/step - loss: 2.1330e-07 - val_loss: 7.5953e-09\n"
          ]
        },
        {
          "output_type": "execute_result",
          "data": {
            "text/plain": [
              "<keras.callbacks.History at 0x7fa0d44b92d0>"
            ]
          },
          "metadata": {},
          "execution_count": 146
        }
      ]
    },
    {
      "cell_type": "code",
      "source": [
        "(real_labels, real_pixels) = generate_real_samples(batch_size,filename = '/content/sample_test.csv')\n",
        "\n",
        "# real_pixels = (real_pixels.astype(\"float32\") / 65455.0).astype(\"float32\")\n",
        "# real_labels =(real_labels.astype(\"float32\")+100)/255\n",
        "(x_test, y_test)"
      ],
      "metadata": {
        "id": "-7MICnxHhgk7"
      },
      "execution_count": 126,
      "outputs": []
    },
    {
      "cell_type": "code",
      "source": [
        "p_test = model.predict(y_test)"
      ],
      "metadata": {
        "id": "pwontVD5hp_H"
      },
      "execution_count": 130,
      "outputs": []
    },
    {
      "cell_type": "code",
      "source": [
        "import matplotlib.pyplot as plt\n",
        "import numpy as np\n",
        "\n",
        "fig, ax = plt.subplots()\n",
        "m = 21\n",
        "for i in range(64):\n",
        "  ax.plot(p_test[i]*255, x_test[i]*255,label=i)\n",
        "\n",
        "ax.set(xlabel='time (s)', ylabel='voltage (mV)',\n",
        "       title='About as simple as it gets, folks')\n",
        "ax.grid()\n",
        "\n",
        "# fig.savefig(\"test.png\")\n",
        "plt.show()"
      ],
      "metadata": {
        "colab": {
          "base_uri": "https://localhost:8080/",
          "height": 295
        },
        "id": "TQvcREk2mbBc",
        "outputId": "792bb35d-77ca-4a62-a0c1-3379e995de9f"
      },
      "execution_count": 144,
      "outputs": [
        {
          "output_type": "display_data",
          "data": {
            "text/plain": [
              "<Figure size 432x288 with 1 Axes>"
            ],
            "image/png": "[encoded data removed]"
          },
          "metadata": {
            "needs_background": "light"
          }
        }
      ]
    },
    {
      "cell_type": "code",
      "execution_count": 32,
      "metadata": {
        "id": "Cua32XZzqtgf",
        "colab": {
          "base_uri": "https://localhost:8080/",
          "height": 1000
        },
        "outputId": "af344330-0ac6-4818-f44b-0349fe51286d"
      },
      "outputs": [
        {
          "output_type": "stream",
          "name": "stdout",
          "text": [
            "[-5.62218338e-05 -5.22496375e-05 -4.88885489e-05 -4.53746870e-05\n",
            " -4.30830332e-05 -4.09441600e-05 -3.91108370e-05 -3.74302981e-05\n",
            " -3.57497520e-05 -3.40692095e-05 -3.28469941e-05 -3.11664480e-05\n",
            " -3.00970132e-05 -2.88747997e-05 -2.78053631e-05 -2.65831495e-05\n",
            " -2.61248188e-05 -2.49026052e-05 -2.38331668e-05 -2.32220609e-05\n",
            " -2.21526243e-05 -2.15415166e-05 -2.04720800e-05 -1.98609723e-05\n",
            " -1.92498665e-05 -1.81804298e-05 -1.75693222e-05 -1.69582163e-05\n",
            " -1.58887779e-05 -1.52776720e-05 -1.46665643e-05 -1.42082345e-05\n",
            " -1.35971277e-05 -1.29860209e-05 -1.19165834e-05 -1.13054775e-05\n",
            " -1.06943698e-05 -1.02360400e-05 -9.62493323e-06 -9.01382555e-06\n",
            " -8.40271969e-06 -7.94438893e-06 -7.33328216e-06 -6.72217539e-06\n",
            " -6.11106861e-06 -5.65273876e-06 -5.04163199e-06 -4.43052477e-06\n",
            " -3.97219446e-06 -3.36108769e-06 -2.74998092e-06 -2.13887415e-06\n",
            " -1.68054385e-06 -1.06943708e-06 -4.58330135e-07  0.00000000e+00\n",
            "  4.58330135e-07  1.06943708e-06  1.68054385e-06  2.13887415e-06\n",
            "  2.74998092e-06  3.36108769e-06  3.97219446e-06  4.43052477e-06\n",
            "  5.04163199e-06  5.65273876e-06  6.11106861e-06  7.33328216e-06\n",
            "  7.94438893e-06  8.40271969e-06  9.01382555e-06  9.62493323e-06\n",
            "  1.02360400e-05  1.06943698e-05  1.13054775e-05  1.19165834e-05\n",
            "  1.29860209e-05  1.35971277e-05  1.42082345e-05  1.46665643e-05\n",
            "  1.58887779e-05  1.63471086e-05  1.69582163e-05  1.81804298e-05\n",
            "  1.86387606e-05  1.98609723e-05  2.09304108e-05  2.15415166e-05\n",
            "  2.26109551e-05  2.38331668e-05  2.49026052e-05  2.61248188e-05\n",
            "  2.71942554e-05  2.88747997e-05  3.07081209e-05  3.23886634e-05\n",
            "  3.40692095e-05  3.69719673e-05  3.97219446e-05  4.43052486e-05\n",
            "  5.16385335e-05]\n",
            "tf.Tensor(\n",
            "[-1711.2523    -387.43423    508.03436    574.62634   1535.3301\n",
            "  -317.37265   -367.33337   1873.1237   -1050.2676     280.89145\n",
            "  -958.92975  -1197.7643    -283.20468    739.4804    -872.96313\n",
            "  -911.5283     -93.00255   2641.6335     100.87385     15.819745\n",
            " -1917.0087      24.736382    60.07151   -115.68197    707.3346\n",
            "   290.11163    403.51276    650.5138   -1293.7806     648.48206\n",
            "   -33.789455   366.93576    150.07315  -1609.3267    1186.6262\n",
            " -1309.4846     413.09564    246.50998   -295.99506   -118.872055\n",
            "   -40.718174  2538.1606     958.64264    833.96576   1204.0485\n",
            " -2082.5657      79.50526    668.0511    1067.1593    -215.6001\n",
            "  2616.1492     857.58997   1537.4813    1380.0605     221.33507\n",
            " -1583.0911      36.93375   -316.0201     850.2883    1031.9259\n",
            "    40.377827  -553.6595    -530.1178     678.4463    1706.4172\n",
            "   833.02924    105.410194    11.880184  -819.80927   -637.6928\n",
            "  -211.21648    216.9173    1133.734      793.6903     657.86865\n",
            "  1768.7781   -1055.18       413.45416    488.6167     -68.68552\n",
            "    24.054806    -8.255769   718.6737   -1168.3698    -951.9339\n",
            "  1481.5007    -747.23895   -468.79837    655.8701     696.84125\n",
            "  -113.27994   -852.1537    -165.7019    1932.7302    1785.5103\n",
            "   570.98206   -376.04834    686.3598     589.3768     145.25218\n",
            " -1023.29626 ], shape=(101,), dtype=float32)\n"
          ]
        },
        {
          "output_type": "display_data",
          "data": {
            "text/plain": [
              "<Figure size 432x288 with 1 Axes>"
            ],
            "image/png": "[encoded data removed]"
          },
          "metadata": {
            "needs_background": "light"
          }
        }
      ],
      "source": [
        "# We first extract the trained generator from our Conditiona GAN.\n",
        "trained_gen = cond_gan.generator\n",
        "(real_labels, real_pixels) = generate_real_samples(batch_size,filename = '/content/sample_test.csv')\n",
        "\n",
        "# batch_size = tf.shape(real_pixels)[0]\n",
        "random_latent_vectors = tf.random.normal(shape=(batch_size, latent_dim))\n",
        "# print(random_latent_vectors[0])\n",
        "random_vector_pixels = tf.concat(\n",
        "    [random_latent_vectors, real_pixels], axis=1\n",
        ")\n",
        "print(real_labels[1])\n",
        "\n",
        "generated_waveform = trained_gen(random_vector_pixels)\n",
        "\n",
        "print(generated_waveform[1])\n",
        "import matplotlib.pyplot as plt\n",
        "import numpy as np\n",
        "\n",
        "fig, ax = plt.subplots()\n",
        "ax.plot(generated_waveform[1], real_labels[1])\n",
        "\n",
        "ax.set(xlabel='time (s)', ylabel='voltage (mV)',\n",
        "       title='About as simple as it gets, folks')\n",
        "ax.grid()\n",
        "\n",
        "# fig.savefig(\"test.png\")\n",
        "plt.show()"
      ]
    },
    {
      "cell_type": "markdown",
      "metadata": {
        "id": "6mZ3cRFIqtgf"
      },
      "source": [
        "Here, we first sample noise from a normal distribution and then we repeat that for\n",
        "`num_interpolation` times and reshape the result accordingly.\n",
        "We then distribute it uniformly for `num_interpolation`\n",
        "with the label indentities being present in some proportion."
      ]
    },
    {
      "cell_type": "code",
      "execution_count": null,
      "metadata": {
        "id": "ecm5BFWJqtgg"
      },
      "outputs": [],
      "source": [
        "fake_images *= 255.0\n",
        "converted_images = fake_images.astype(np.uint8)\n",
        "converted_images = tf.image.resize(converted_images, (96, 96)).numpy().astype(np.uint8)\n",
        "imageio.mimsave(\"animation.gif\", converted_images, fps=1)\n",
        "embed.embed_file(\"animation.gif\")"
      ]
    },
    {
      "cell_type": "markdown",
      "metadata": {
        "id": "Rokmd_Wtqtgg"
      },
      "source": [
        "We can further improve the performance of this model with recipes like\n",
        "[WGAN-GP](https://keras.io/examples/generative/wgan_gp).\n",
        "Conditional generation is also widely used in many modern image generation architectures like\n",
        "[VQ-GANs](https://arxiv.org/abs/2012.09841), [DALL-E](https://openai.com/blog/dall-e/),\n",
        "etc.\n",
        "\n",
        "You can use the trained model hosted on [Hugging Face Hub](https://huggingface.co/keras-io/conditional-gan) and try the demo on [Hugging Face Spaces](https://huggingface.co/spaces/keras-io/conditional-GAN)."
      ]
    }
  ],
  "metadata": {
    "colab": {
      "collapsed_sections": [],
      "name": "conditional_gan",
      "provenance": [],
      "include_colab_link": true
    },
    "kernelspec": {
      "display_name": "Python 3",
      "language": "python",
      "name": "python3"
    },
    "language_info": {
      "codemirror_mode": {
        "name": "ipython",
        "version": 3
      },
      "file_extension": ".py",
      "mimetype": "text/x-python",
      "name": "python",
      "nbconvert_exporter": "python",
      "pygments_lexer": "ipython3",
      "version": "3.7.0"
    },
    "accelerator": "GPU"
  },
  "nbformat": 4,
  "nbformat_minor": 0
}
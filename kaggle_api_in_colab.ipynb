{
  "nbformat": 4,
  "nbformat_minor": 0,
  "metadata": {
    "colab": {
      "name": "How to use the Kaggle API from Colab",
      "provenance": [],
      "collapsed_sections": [],
      "machine_shape": "hm",
      "background_execution": "on",
      "include_colab_link": true
    },
    "kernelspec": {
      "name": "python3",
      "display_name": "Python 3"
    }
  },
  "cells": [
    {
      "cell_type": "markdown",
      "metadata": {
        "id": "view-in-github",
        "colab_type": "text"
      },
      "source": [
        "<a href=\"https://colab.research.google.com/github/seismosmsr/machine_learning/blob/main/kaggle_api_in_colab.ipynb\" target=\"_parent\"><img src=\"https://colab.research.google.com/assets/colab-badge.svg\" alt=\"Open In Colab\"/></a>"
      ]
    },
    {
      "metadata": {
        "id": "DIf2PtekjPtY"
      },
      "cell_type": "markdown",
      "source": [
        "# Installing the [Kaggle API](https://github.com/Kaggle/kaggle-api) in Colab"
      ]
    },
    {
      "cell_type": "markdown",
      "source": [
        "Just to ensure we've got our requirements met. This also works if you choose to run things on the kaggle back end (code for pushing notebook to auto submit from kaggle at bottom of this script)."
      ],
      "metadata": {
        "id": "_mrZmulPFh04"
      }
    },
    {
      "metadata": {
        "id": "OppyMnCuWjzJ",
        "colab": {
          "base_uri": "https://localhost:8080/"
        },
        "outputId": "97fd9212-c128-4843-cf20-b48ff0ae9de9"
      },
      "cell_type": "code",
      "source": [
        "!pip install kaggle\n",
        "!conda install -y gdown"
      ],
      "execution_count": 7,
      "outputs": [
        {
          "output_type": "stream",
          "name": "stdout",
          "text": [
            "Requirement already satisfied: kaggle in /usr/local/lib/python3.7/dist-packages (1.5.12)\n",
            "Requirement already satisfied: python-dateutil in /usr/local/lib/python3.7/dist-packages (from kaggle) (2.8.2)\n",
            "Requirement already satisfied: six>=1.10 in /usr/local/lib/python3.7/dist-packages (from kaggle) (1.15.0)\n",
            "Requirement already satisfied: certifi in /usr/local/lib/python3.7/dist-packages (from kaggle) (2021.10.8)\n",
            "Requirement already satisfied: python-slugify in /usr/local/lib/python3.7/dist-packages (from kaggle) (5.0.2)\n",
            "Requirement already satisfied: tqdm in /usr/local/lib/python3.7/dist-packages (from kaggle) (4.62.3)\n",
            "Requirement already satisfied: urllib3 in /usr/local/lib/python3.7/dist-packages (from kaggle) (1.24.3)\n",
            "Requirement already satisfied: requests in /usr/local/lib/python3.7/dist-packages (from kaggle) (2.23.0)\n",
            "Requirement already satisfied: text-unidecode>=1.3 in /usr/local/lib/python3.7/dist-packages (from python-slugify->kaggle) (1.3)\n",
            "Requirement already satisfied: chardet<4,>=3.0.2 in /usr/local/lib/python3.7/dist-packages (from requests->kaggle) (3.0.4)\n",
            "Requirement already satisfied: idna<3,>=2.5 in /usr/local/lib/python3.7/dist-packages (from requests->kaggle) (2.10)\n",
            "/bin/bash: conda: command not found\n"
          ]
        }
      ]
    },
    {
      "metadata": {
        "id": "hMY4CFezjcG-"
      },
      "cell_type": "markdown",
      "source": [
        "# Authenticating with Kaggle using kaggle.json\n",
        "\n",
        "Navigate to https://www.kaggle.com. Then go to the [Account tab of your user profile](https://www.kaggle.com/me/account) and select Create API Token. This will trigger the download of kaggle.json, a file containing your API credentials.\n",
        "\n",
        "Then run the cell below to upload kaggle.json to your Colab runtime."
      ]
    },
    {
      "metadata": {
        "id": "0HtGf0HEXEa5",
        "outputId": "0938eff6-5eff-42d2-ccfa-ef6a83ecb31c",
        "colab": {
          "base_uri": "https://localhost:8080/"
        }
      },
      "cell_type": "code",
      "source": [
        "# from google.colab import files\n",
        "import gdown\n",
        "#This is my personal kaggle json. If you run this and don't switch it out, you'll be running as me.\n",
        "!gdown --id 1sD1x-nf2nXNNDFD3zdPKvOKM2wGSWcSP\n",
        "  \n",
        "# Then move kaggle.json into the folder where the API expects to find it.\n",
        "!mkdir -p ~/.kaggle/ && mv kaggle.json ~/.kaggle/ && chmod 600 ~/.kaggle/kaggle.json"
      ],
      "execution_count": 8,
      "outputs": [
        {
          "output_type": "stream",
          "name": "stdout",
          "text": [
            "Downloading...\n",
            "From: https://drive.google.com/uc?id=1sD1x-nf2nXNNDFD3zdPKvOKM2wGSWcSP\n",
            "To: /content/kaggle.json\n",
            "\r  0% 0.00/69.0 [00:00<?, ?B/s]\r100% 69.0/69.0 [00:00<00:00, 97.9kB/s]\n"
          ]
        }
      ]
    },
    {
      "metadata": {
        "id": "HMk7Zz4ZkpCe"
      },
      "cell_type": "markdown",
      "source": [
        "# Using the Kaggle API\n",
        "\n",
        "For a more complete list of what you can do with the API, visit https://github.com/Kaggle/kaggle-api."
      ]
    },
    {
      "metadata": {
        "id": "dNke00r6ig3h"
      },
      "cell_type": "markdown",
      "source": [
        "## Downloading a dataset"
      ]
    },
    {
      "metadata": {
        "id": "Aojvqv8Gaf8I",
        "colab": {
          "base_uri": "https://localhost:8080/"
        },
        "outputId": "cdfbe45c-2a41-4139-b208-a3682a0d121d"
      },
      "cell_type": "code",
      "source": [
        "!kaggle competitions download -c covid-19-risk-2022"
      ],
      "execution_count": 11,
      "outputs": [
        {
          "output_type": "stream",
          "name": "stdout",
          "text": [
            "Warning: Looks like you're using an outdated API Version, please consider updating (server 1.5.12 / client 1.5.4)\n",
            "train_small.csv.zip: Skipping, found more recently modified local copy (use --force to force download)\n",
            "example_submission.ipynb: Skipping, found more recently modified local copy (use --force to force download)\n",
            "User cancelled operation\n"
          ]
        }
      ]
    },
    {
      "cell_type": "markdown",
      "source": [
        "Unzip the data and take a first glance."
      ],
      "metadata": {
        "id": "CusXRKTUGPSq"
      }
    },
    {
      "metadata": {
        "id": "DsyV01gDaxls",
        "colab": {
          "base_uri": "https://localhost:8080/"
        },
        "outputId": "b2a6b893-aa32-4bf8-ed7e-a2c45c3fefea"
      },
      "cell_type": "code",
      "source": [
        "!unzip train.csv.zip\n",
        "\n",
        "!unzip test.csv.zip\n",
        "\n",
        "!unzip train_small.csv.zip"
      ],
      "execution_count": 12,
      "outputs": [
        {
          "output_type": "stream",
          "name": "stdout",
          "text": [
            "Archive:  train.csv.zip\n",
            "  inflating: train.csv               \n",
            "Archive:  test.csv.zip\n",
            "  inflating: test.csv                \n",
            "Archive:  train_small.csv.zip\n",
            "  inflating: train_small.csv         \n"
          ]
        }
      ]
    },
    {
      "metadata": {
        "id": "L7ZmFbHybsPk",
        "outputId": "490b27d3-ef2c-4458-974d-9cbb8cab4476",
        "colab": {
          "base_uri": "https://localhost:8080/",
          "height": 357
        }
      },
      "cell_type": "code",
      "source": [
        "import pandas as pd \n",
        "\n",
        "train_small = pd.read_csv('/content/train_small.csv')\n",
        "# train = pd.read_csv('/content/train.csv')\n",
        "# test = pd.read_csv('/content/test.csv')\n",
        "train_small.head()"
      ],
      "execution_count": 13,
      "outputs": [
        {
          "output_type": "stream",
          "name": "stderr",
          "text": [
            "/usr/local/lib/python3.7/dist-packages/IPython/core/interactiveshell.py:2882: DtypeWarning: Columns (14,16) have mixed types.Specify dtype option on import or set low_memory=False.\n",
            "  exec(code_obj, self.user_global_ns, self.user_ns)\n"
          ]
        },
        {
          "output_type": "execute_result",
          "data": {
            "text/html": [
              "\n",
              "  <div id=\"df-d1e5820b-5c97-4900-8090-6a27c106da80\">\n",
              "    <div class=\"colab-df-container\">\n",
              "      <div>\n",
              "<style scoped>\n",
              "    .dataframe tbody tr th:only-of-type {\n",
              "        vertical-align: middle;\n",
              "    }\n",
              "\n",
              "    .dataframe tbody tr th {\n",
              "        vertical-align: top;\n",
              "    }\n",
              "\n",
              "    .dataframe thead th {\n",
              "        text-align: right;\n",
              "    }\n",
              "</style>\n",
              "<table border=\"1\" class=\"dataframe\">\n",
              "  <thead>\n",
              "    <tr style=\"text-align: right;\">\n",
              "      <th></th>\n",
              "      <th>case_month</th>\n",
              "      <th>res_state</th>\n",
              "      <th>state_fips_code</th>\n",
              "      <th>res_county</th>\n",
              "      <th>county_fips_code</th>\n",
              "      <th>age_group</th>\n",
              "      <th>sex</th>\n",
              "      <th>race</th>\n",
              "      <th>ethnicity</th>\n",
              "      <th>case_positive_specimen_interval</th>\n",
              "      <th>case_onset_interval</th>\n",
              "      <th>process</th>\n",
              "      <th>exposure_yn</th>\n",
              "      <th>labconfirmed_yn</th>\n",
              "      <th>symptomatic_yn</th>\n",
              "      <th>hosp_yn</th>\n",
              "      <th>icu_yn</th>\n",
              "      <th>death_yn</th>\n",
              "      <th>underlying_conditions_yn</th>\n",
              "    </tr>\n",
              "  </thead>\n",
              "  <tbody>\n",
              "    <tr>\n",
              "      <th>0</th>\n",
              "      <td>2021-09</td>\n",
              "      <td>NY</td>\n",
              "      <td>36.0</td>\n",
              "      <td>BRONX</td>\n",
              "      <td>36005.0</td>\n",
              "      <td>0 - 17 years</td>\n",
              "      <td>Male</td>\n",
              "      <td>NaN</td>\n",
              "      <td>NaN</td>\n",
              "      <td>0.0</td>\n",
              "      <td>NaN</td>\n",
              "      <td>Missing</td>\n",
              "      <td>NaN</td>\n",
              "      <td>1</td>\n",
              "      <td>0</td>\n",
              "      <td>NaN</td>\n",
              "      <td>NaN</td>\n",
              "      <td>NaN</td>\n",
              "      <td>NaN</td>\n",
              "    </tr>\n",
              "    <tr>\n",
              "      <th>1</th>\n",
              "      <td>2021-09</td>\n",
              "      <td>CA</td>\n",
              "      <td>6.0</td>\n",
              "      <td>SAN JOAQUIN</td>\n",
              "      <td>6077.0</td>\n",
              "      <td>18 to 49 years</td>\n",
              "      <td>Male</td>\n",
              "      <td>NaN</td>\n",
              "      <td>NaN</td>\n",
              "      <td>NaN</td>\n",
              "      <td>NaN</td>\n",
              "      <td>Missing</td>\n",
              "      <td>NaN</td>\n",
              "      <td>1</td>\n",
              "      <td>NaN</td>\n",
              "      <td>NaN</td>\n",
              "      <td>NaN</td>\n",
              "      <td>NaN</td>\n",
              "      <td>NaN</td>\n",
              "    </tr>\n",
              "    <tr>\n",
              "      <th>2</th>\n",
              "      <td>2021-09</td>\n",
              "      <td>MA</td>\n",
              "      <td>25.0</td>\n",
              "      <td>MIDDLESEX</td>\n",
              "      <td>25017.0</td>\n",
              "      <td>0 - 17 years</td>\n",
              "      <td>Female</td>\n",
              "      <td>Missing</td>\n",
              "      <td>Unknown</td>\n",
              "      <td>NaN</td>\n",
              "      <td>NaN</td>\n",
              "      <td>Missing</td>\n",
              "      <td>NaN</td>\n",
              "      <td>1</td>\n",
              "      <td>NaN</td>\n",
              "      <td>NaN</td>\n",
              "      <td>NaN</td>\n",
              "      <td>NaN</td>\n",
              "      <td>NaN</td>\n",
              "    </tr>\n",
              "    <tr>\n",
              "      <th>3</th>\n",
              "      <td>2021-09</td>\n",
              "      <td>PA</td>\n",
              "      <td>42.0</td>\n",
              "      <td>ERIE</td>\n",
              "      <td>42049.0</td>\n",
              "      <td>65+ years</td>\n",
              "      <td>Male</td>\n",
              "      <td>White</td>\n",
              "      <td>Non-Hispanic/Latino</td>\n",
              "      <td>0.0</td>\n",
              "      <td>0.0</td>\n",
              "      <td>Missing</td>\n",
              "      <td>1.0</td>\n",
              "      <td>1</td>\n",
              "      <td>1</td>\n",
              "      <td>0.0</td>\n",
              "      <td>0</td>\n",
              "      <td>0.0</td>\n",
              "      <td>NaN</td>\n",
              "    </tr>\n",
              "    <tr>\n",
              "      <th>4</th>\n",
              "      <td>2021-09</td>\n",
              "      <td>CA</td>\n",
              "      <td>6.0</td>\n",
              "      <td>KERN</td>\n",
              "      <td>6029.0</td>\n",
              "      <td>18 to 49 years</td>\n",
              "      <td>Male</td>\n",
              "      <td>Unknown</td>\n",
              "      <td>Unknown</td>\n",
              "      <td>NaN</td>\n",
              "      <td>NaN</td>\n",
              "      <td>Missing</td>\n",
              "      <td>NaN</td>\n",
              "      <td>1</td>\n",
              "      <td>NaN</td>\n",
              "      <td>NaN</td>\n",
              "      <td>NaN</td>\n",
              "      <td>NaN</td>\n",
              "      <td>NaN</td>\n",
              "    </tr>\n",
              "  </tbody>\n",
              "</table>\n",
              "</div>\n",
              "      <button class=\"colab-df-convert\" onclick=\"convertToInteractive('df-d1e5820b-5c97-4900-8090-6a27c106da80')\"\n",
              "              title=\"Convert this dataframe to an interactive table.\"\n",
              "              style=\"display:none;\">\n",
              "        \n",
              "  <svg xmlns=\"http://www.w3.org/2000/svg\" height=\"24px\"viewBox=\"0 0 24 24\"\n",
              "       width=\"24px\">\n",
              "    <path d=\"M0 0h24v24H0V0z\" fill=\"none\"/>\n",
              "    <path d=\"M18.56 5.44l.94 2.06.94-2.06 2.06-.94-2.06-.94-.94-2.06-.94 2.06-2.06.94zm-11 1L8.5 8.5l.94-2.06 2.06-.94-2.06-.94L8.5 2.5l-.94 2.06-2.06.94zm10 10l.94 2.06.94-2.06 2.06-.94-2.06-.94-.94-2.06-.94 2.06-2.06.94z\"/><path d=\"M17.41 7.96l-1.37-1.37c-.4-.4-.92-.59-1.43-.59-.52 0-1.04.2-1.43.59L10.3 9.45l-7.72 7.72c-.78.78-.78 2.05 0 2.83L4 21.41c.39.39.9.59 1.41.59.51 0 1.02-.2 1.41-.59l7.78-7.78 2.81-2.81c.8-.78.8-2.07 0-2.86zM5.41 20L4 18.59l7.72-7.72 1.47 1.35L5.41 20z\"/>\n",
              "  </svg>\n",
              "      </button>\n",
              "      \n",
              "  <style>\n",
              "    .colab-df-container {\n",
              "      display:flex;\n",
              "      flex-wrap:wrap;\n",
              "      gap: 12px;\n",
              "    }\n",
              "\n",
              "    .colab-df-convert {\n",
              "      background-color: #E8F0FE;\n",
              "      border: none;\n",
              "      border-radius: 50%;\n",
              "      cursor: pointer;\n",
              "      display: none;\n",
              "      fill: #1967D2;\n",
              "      height: 32px;\n",
              "      padding: 0 0 0 0;\n",
              "      width: 32px;\n",
              "    }\n",
              "\n",
              "    .colab-df-convert:hover {\n",
              "      background-color: #E2EBFA;\n",
              "      box-shadow: 0px 1px 2px rgba(60, 64, 67, 0.3), 0px 1px 3px 1px rgba(60, 64, 67, 0.15);\n",
              "      fill: #174EA6;\n",
              "    }\n",
              "\n",
              "    [theme=dark] .colab-df-convert {\n",
              "      background-color: #3B4455;\n",
              "      fill: #D2E3FC;\n",
              "    }\n",
              "\n",
              "    [theme=dark] .colab-df-convert:hover {\n",
              "      background-color: #434B5C;\n",
              "      box-shadow: 0px 1px 3px 1px rgba(0, 0, 0, 0.15);\n",
              "      filter: drop-shadow(0px 1px 2px rgba(0, 0, 0, 0.3));\n",
              "      fill: #FFFFFF;\n",
              "    }\n",
              "  </style>\n",
              "\n",
              "      <script>\n",
              "        const buttonEl =\n",
              "          document.querySelector('#df-d1e5820b-5c97-4900-8090-6a27c106da80 button.colab-df-convert');\n",
              "        buttonEl.style.display =\n",
              "          google.colab.kernel.accessAllowed ? 'block' : 'none';\n",
              "\n",
              "        async function convertToInteractive(key) {\n",
              "          const element = document.querySelector('#df-d1e5820b-5c97-4900-8090-6a27c106da80');\n",
              "          const dataTable =\n",
              "            await google.colab.kernel.invokeFunction('convertToInteractive',\n",
              "                                                     [key], {});\n",
              "          if (!dataTable) return;\n",
              "\n",
              "          const docLinkHtml = 'Like what you see? Visit the ' +\n",
              "            '<a target=\"_blank\" href=https://colab.research.google.com/notebooks/data_table.ipynb>data table notebook</a>'\n",
              "            + ' to learn more about interactive tables.';\n",
              "          element.innerHTML = '';\n",
              "          dataTable['output_type'] = 'display_data';\n",
              "          await google.colab.output.renderOutput(dataTable, element);\n",
              "          const docLink = document.createElement('div');\n",
              "          docLink.innerHTML = docLinkHtml;\n",
              "          element.appendChild(docLink);\n",
              "        }\n",
              "      </script>\n",
              "    </div>\n",
              "  </div>\n",
              "  "
            ],
            "text/plain": [
              "  case_month res_state  ...  death_yn underlying_conditions_yn\n",
              "0    2021-09        NY  ...       NaN                      NaN\n",
              "1    2021-09        CA  ...       NaN                      NaN\n",
              "2    2021-09        MA  ...       NaN                      NaN\n",
              "3    2021-09        PA  ...       0.0                      NaN\n",
              "4    2021-09        CA  ...       NaN                      NaN\n",
              "\n",
              "[5 rows x 19 columns]"
            ]
          },
          "metadata": {},
          "execution_count": 13
        }
      ]
    },
    {
      "cell_type": "markdown",
      "source": [
        "So we've got a case_month, res_state, state_fips_code, res_county, county_fips_code, age_group, sex, race, ethnicity, lots more stuff. Some issues I can think of right away and which we've gone over in class, are the completeness of the data. A couple of approaches I've taken to these issues in the past are usually types of imputation. My initial thinking was to just randomly replace missing data with valid data. Another option would be to use clustering or random forest to create 'informed' imputed postiions. A third option would be to just not use the missing data and to try and maybe group 'types' of missing data together, then maximise the training set by 'grouping' the classes. \n",
        "\n",
        "Any which way, the method that we use to deal with NA's is going to be important. If we use a pure random imputation, this ..may.. be able to keep us unbiased (makes some assumptions about underlying distribution of missing data), but we definately stand a chance of losing information if we can't some how randomize the way the data is missing. One option might be to instead of only randomly imputing to that data once, we could do it many many times. If we do this many times, we could actually re-use some of our training data. We might think of this as similar to 'fuzzing' our data in deep learning (basic data augmetation).\n",
        "\n",
        "If we use a systematic approach (like train an algorithm to impute for us), one issue we'll face is that it could bias our new 'imputed' training dataset. What I mean by this, is that our NA's may not be randomly distributed throughout our training dataset. Some hospitals or agencys may get some data and not others. Maybe some states are better or worse at their quality of reporting. If we rely on an algorthmic approach, we'll effectively be baking whatever biases exist in the meta context of our data into our data. We don't neccessarily want to do that.\n",
        "\n",
        "Finally, we could also find a way to 'ignore' NA's while losing as little data as possible. In this approach, we could look at where data is and where data isnt, and see if we can find 'groups' of data that are missing some data, but not others. We could try doing this in a column-wise, row-wise, or column-by-row wise manner. Basically, we can see if we can find from the presense of missing data, some meta groups where most of the data is in-tact. Whichever approach we take, we would end up on different column/ row combinations of data and would be training multiple models on the back and that can then be reconfigured into an ensemble model.\n",
        "\n",
        "I'm planning on focusing primarily on the data clean-up and filtering to get improvements on performance in this exercise."
      ],
      "metadata": {
        "id": "h8bUTDbVbkKg"
      }
    },
    {
      "cell_type": "markdown",
      "source": [
        "Read in the data"
      ],
      "metadata": {
        "id": "H1TxvJ0PKXDP"
      }
    },
    {
      "cell_type": "code",
      "source": [
        "train = pd.read_csv('/content/train.csv')\n",
        "test = pd.read_csv('/content/test.csv')"
      ],
      "metadata": {
        "id": "1CrZ-7Rwb2Vo",
        "outputId": "7fcf58e6-c014-4c33-fc57-b66f9bab9c5f",
        "colab": {
          "base_uri": "https://localhost:8080/"
        }
      },
      "execution_count": 65,
      "outputs": [
        {
          "output_type": "stream",
          "name": "stderr",
          "text": [
            "/usr/local/lib/python3.7/dist-packages/IPython/core/interactiveshell.py:2882: DtypeWarning: Columns (14,16) have mixed types.Specify dtype option on import or set low_memory=False.\n",
            "  exec(code_obj, self.user_global_ns, self.user_ns)\n"
          ]
        }
      ]
    },
    {
      "cell_type": "markdown",
      "source": [
        ""
      ],
      "metadata": {
        "id": "YxcUVfNCFePX"
      }
    },
    {
      "cell_type": "markdown",
      "source": [
        "So lets take a look at our data."
      ],
      "metadata": {
        "id": "K8fn_tsgKjSP"
      }
    },
    {
      "cell_type": "code",
      "source": [
        "train.isnull().describe()"
      ],
      "metadata": {
        "id": "hoOz7Rlb-g_r",
        "outputId": "8d9722dd-07ae-4a0b-9f8d-5120be58eae8",
        "colab": {
          "base_uri": "https://localhost:8080/",
          "height": 239
        }
      },
      "execution_count": 41,
      "outputs": [
        {
          "output_type": "execute_result",
          "data": {
            "text/html": [
              "\n",
              "  <div id=\"df-c2d49d97-493a-4ec6-98e2-33155e77fb5f\">\n",
              "    <div class=\"colab-df-container\">\n",
              "      <div>\n",
              "<style scoped>\n",
              "    .dataframe tbody tr th:only-of-type {\n",
              "        vertical-align: middle;\n",
              "    }\n",
              "\n",
              "    .dataframe tbody tr th {\n",
              "        vertical-align: top;\n",
              "    }\n",
              "\n",
              "    .dataframe thead th {\n",
              "        text-align: right;\n",
              "    }\n",
              "</style>\n",
              "<table border=\"1\" class=\"dataframe\">\n",
              "  <thead>\n",
              "    <tr style=\"text-align: right;\">\n",
              "      <th></th>\n",
              "      <th>case_month</th>\n",
              "      <th>res_state</th>\n",
              "      <th>state_fips_code</th>\n",
              "      <th>res_county</th>\n",
              "      <th>county_fips_code</th>\n",
              "      <th>age_group</th>\n",
              "      <th>sex</th>\n",
              "      <th>race</th>\n",
              "      <th>ethnicity</th>\n",
              "      <th>case_positive_specimen_interval</th>\n",
              "      <th>case_onset_interval</th>\n",
              "      <th>process</th>\n",
              "      <th>exposure_yn</th>\n",
              "      <th>labconfirmed_yn</th>\n",
              "      <th>symptomatic_yn</th>\n",
              "      <th>hosp_yn</th>\n",
              "      <th>icu_yn</th>\n",
              "      <th>death_yn</th>\n",
              "      <th>underlying_conditions_yn</th>\n",
              "    </tr>\n",
              "  </thead>\n",
              "  <tbody>\n",
              "    <tr>\n",
              "      <th>count</th>\n",
              "      <td>36225855</td>\n",
              "      <td>36225855</td>\n",
              "      <td>36225855</td>\n",
              "      <td>36225855</td>\n",
              "      <td>36225855</td>\n",
              "      <td>36225855</td>\n",
              "      <td>36225855</td>\n",
              "      <td>36225855</td>\n",
              "      <td>36225855</td>\n",
              "      <td>36225855</td>\n",
              "      <td>36225855</td>\n",
              "      <td>36225855</td>\n",
              "      <td>36225855</td>\n",
              "      <td>36225855</td>\n",
              "      <td>36225855</td>\n",
              "      <td>36225855</td>\n",
              "      <td>36225855</td>\n",
              "      <td>36225855</td>\n",
              "      <td>36225855</td>\n",
              "    </tr>\n",
              "    <tr>\n",
              "      <th>unique</th>\n",
              "      <td>1</td>\n",
              "      <td>2</td>\n",
              "      <td>2</td>\n",
              "      <td>2</td>\n",
              "      <td>2</td>\n",
              "      <td>2</td>\n",
              "      <td>2</td>\n",
              "      <td>2</td>\n",
              "      <td>2</td>\n",
              "      <td>2</td>\n",
              "      <td>2</td>\n",
              "      <td>1</td>\n",
              "      <td>2</td>\n",
              "      <td>1</td>\n",
              "      <td>2</td>\n",
              "      <td>2</td>\n",
              "      <td>2</td>\n",
              "      <td>2</td>\n",
              "      <td>2</td>\n",
              "    </tr>\n",
              "    <tr>\n",
              "      <th>top</th>\n",
              "      <td>False</td>\n",
              "      <td>False</td>\n",
              "      <td>False</td>\n",
              "      <td>False</td>\n",
              "      <td>False</td>\n",
              "      <td>False</td>\n",
              "      <td>False</td>\n",
              "      <td>False</td>\n",
              "      <td>False</td>\n",
              "      <td>True</td>\n",
              "      <td>True</td>\n",
              "      <td>False</td>\n",
              "      <td>True</td>\n",
              "      <td>False</td>\n",
              "      <td>True</td>\n",
              "      <td>True</td>\n",
              "      <td>True</td>\n",
              "      <td>True</td>\n",
              "      <td>True</td>\n",
              "    </tr>\n",
              "    <tr>\n",
              "      <th>freq</th>\n",
              "      <td>36225855</td>\n",
              "      <td>36224934</td>\n",
              "      <td>36224934</td>\n",
              "      <td>33728416</td>\n",
              "      <td>33728416</td>\n",
              "      <td>35828300</td>\n",
              "      <td>35136242</td>\n",
              "      <td>30504585</td>\n",
              "      <td>29486359</td>\n",
              "      <td>23875686</td>\n",
              "      <td>18413918</td>\n",
              "      <td>36225855</td>\n",
              "      <td>33650024</td>\n",
              "      <td>36225855</td>\n",
              "      <td>18782425</td>\n",
              "      <td>19133076</td>\n",
              "      <td>34299032</td>\n",
              "      <td>22830993</td>\n",
              "      <td>34127479</td>\n",
              "    </tr>\n",
              "  </tbody>\n",
              "</table>\n",
              "</div>\n",
              "      <button class=\"colab-df-convert\" onclick=\"convertToInteractive('df-c2d49d97-493a-4ec6-98e2-33155e77fb5f')\"\n",
              "              title=\"Convert this dataframe to an interactive table.\"\n",
              "              style=\"display:none;\">\n",
              "        \n",
              "  <svg xmlns=\"http://www.w3.org/2000/svg\" height=\"24px\"viewBox=\"0 0 24 24\"\n",
              "       width=\"24px\">\n",
              "    <path d=\"M0 0h24v24H0V0z\" fill=\"none\"/>\n",
              "    <path d=\"M18.56 5.44l.94 2.06.94-2.06 2.06-.94-2.06-.94-.94-2.06-.94 2.06-2.06.94zm-11 1L8.5 8.5l.94-2.06 2.06-.94-2.06-.94L8.5 2.5l-.94 2.06-2.06.94zm10 10l.94 2.06.94-2.06 2.06-.94-2.06-.94-.94-2.06-.94 2.06-2.06.94z\"/><path d=\"M17.41 7.96l-1.37-1.37c-.4-.4-.92-.59-1.43-.59-.52 0-1.04.2-1.43.59L10.3 9.45l-7.72 7.72c-.78.78-.78 2.05 0 2.83L4 21.41c.39.39.9.59 1.41.59.51 0 1.02-.2 1.41-.59l7.78-7.78 2.81-2.81c.8-.78.8-2.07 0-2.86zM5.41 20L4 18.59l7.72-7.72 1.47 1.35L5.41 20z\"/>\n",
              "  </svg>\n",
              "      </button>\n",
              "      \n",
              "  <style>\n",
              "    .colab-df-container {\n",
              "      display:flex;\n",
              "      flex-wrap:wrap;\n",
              "      gap: 12px;\n",
              "    }\n",
              "\n",
              "    .colab-df-convert {\n",
              "      background-color: #E8F0FE;\n",
              "      border: none;\n",
              "      border-radius: 50%;\n",
              "      cursor: pointer;\n",
              "      display: none;\n",
              "      fill: #1967D2;\n",
              "      height: 32px;\n",
              "      padding: 0 0 0 0;\n",
              "      width: 32px;\n",
              "    }\n",
              "\n",
              "    .colab-df-convert:hover {\n",
              "      background-color: #E2EBFA;\n",
              "      box-shadow: 0px 1px 2px rgba(60, 64, 67, 0.3), 0px 1px 3px 1px rgba(60, 64, 67, 0.15);\n",
              "      fill: #174EA6;\n",
              "    }\n",
              "\n",
              "    [theme=dark] .colab-df-convert {\n",
              "      background-color: #3B4455;\n",
              "      fill: #D2E3FC;\n",
              "    }\n",
              "\n",
              "    [theme=dark] .colab-df-convert:hover {\n",
              "      background-color: #434B5C;\n",
              "      box-shadow: 0px 1px 3px 1px rgba(0, 0, 0, 0.15);\n",
              "      filter: drop-shadow(0px 1px 2px rgba(0, 0, 0, 0.3));\n",
              "      fill: #FFFFFF;\n",
              "    }\n",
              "  </style>\n",
              "\n",
              "      <script>\n",
              "        const buttonEl =\n",
              "          document.querySelector('#df-c2d49d97-493a-4ec6-98e2-33155e77fb5f button.colab-df-convert');\n",
              "        buttonEl.style.display =\n",
              "          google.colab.kernel.accessAllowed ? 'block' : 'none';\n",
              "\n",
              "        async function convertToInteractive(key) {\n",
              "          const element = document.querySelector('#df-c2d49d97-493a-4ec6-98e2-33155e77fb5f');\n",
              "          const dataTable =\n",
              "            await google.colab.kernel.invokeFunction('convertToInteractive',\n",
              "                                                     [key], {});\n",
              "          if (!dataTable) return;\n",
              "\n",
              "          const docLinkHtml = 'Like what you see? Visit the ' +\n",
              "            '<a target=\"_blank\" href=https://colab.research.google.com/notebooks/data_table.ipynb>data table notebook</a>'\n",
              "            + ' to learn more about interactive tables.';\n",
              "          element.innerHTML = '';\n",
              "          dataTable['output_type'] = 'display_data';\n",
              "          await google.colab.output.renderOutput(dataTable, element);\n",
              "          const docLink = document.createElement('div');\n",
              "          docLink.innerHTML = docLinkHtml;\n",
              "          element.appendChild(docLink);\n",
              "        }\n",
              "      </script>\n",
              "    </div>\n",
              "  </div>\n",
              "  "
            ],
            "text/plain": [
              "       case_month res_state  ...  death_yn underlying_conditions_yn\n",
              "count    36225855  36225855  ...  36225855                 36225855\n",
              "unique          1         2  ...         2                        2\n",
              "top         False     False  ...      True                     True\n",
              "freq     36225855  36224934  ...  22830993                 34127479\n",
              "\n",
              "[4 rows x 19 columns]"
            ]
          },
          "metadata": {},
          "execution_count": 41
        }
      ]
    },
    {
      "cell_type": "markdown",
      "source": [
        "So even in our first row we can see what the degree of missing data looks like. The first row is missing information on age, sex, race, ethnicity. Not training on these data would be less than desireable."
      ],
      "metadata": {
        "id": "D5KyBD8OKplA"
      }
    },
    {
      "cell_type": "code",
      "source": [
        "train.iloc[:1]"
      ],
      "metadata": {
        "id": "hfzWxbHOEQac",
        "outputId": "5eb5bcb8-9b6d-4383-d200-a29d8b4a1679",
        "colab": {
          "base_uri": "https://localhost:8080/",
          "height": 145
        }
      },
      "execution_count": 39,
      "outputs": [
        {
          "output_type": "execute_result",
          "data": {
            "text/html": [
              "\n",
              "  <div id=\"df-c14daa93-666b-43ea-b4c0-ea8999b27dd6\">\n",
              "    <div class=\"colab-df-container\">\n",
              "      <div>\n",
              "<style scoped>\n",
              "    .dataframe tbody tr th:only-of-type {\n",
              "        vertical-align: middle;\n",
              "    }\n",
              "\n",
              "    .dataframe tbody tr th {\n",
              "        vertical-align: top;\n",
              "    }\n",
              "\n",
              "    .dataframe thead th {\n",
              "        text-align: right;\n",
              "    }\n",
              "</style>\n",
              "<table border=\"1\" class=\"dataframe\">\n",
              "  <thead>\n",
              "    <tr style=\"text-align: right;\">\n",
              "      <th></th>\n",
              "      <th>case_month</th>\n",
              "      <th>res_state</th>\n",
              "      <th>state_fips_code</th>\n",
              "      <th>res_county</th>\n",
              "      <th>county_fips_code</th>\n",
              "      <th>age_group</th>\n",
              "      <th>sex</th>\n",
              "      <th>race</th>\n",
              "      <th>ethnicity</th>\n",
              "      <th>case_positive_specimen_interval</th>\n",
              "      <th>case_onset_interval</th>\n",
              "      <th>process</th>\n",
              "      <th>exposure_yn</th>\n",
              "      <th>labconfirmed_yn</th>\n",
              "      <th>symptomatic_yn</th>\n",
              "      <th>hosp_yn</th>\n",
              "      <th>icu_yn</th>\n",
              "      <th>death_yn</th>\n",
              "      <th>underlying_conditions_yn</th>\n",
              "    </tr>\n",
              "  </thead>\n",
              "  <tbody>\n",
              "    <tr>\n",
              "      <th>0</th>\n",
              "      <td>2020-01</td>\n",
              "      <td>NY</td>\n",
              "      <td>36.0</td>\n",
              "      <td>ONEIDA</td>\n",
              "      <td>36065.0</td>\n",
              "      <td>NaN</td>\n",
              "      <td>NaN</td>\n",
              "      <td>NaN</td>\n",
              "      <td>NaN</td>\n",
              "      <td>0.0</td>\n",
              "      <td>NaN</td>\n",
              "      <td>Missing</td>\n",
              "      <td>NaN</td>\n",
              "      <td>1</td>\n",
              "      <td>NaN</td>\n",
              "      <td>NaN</td>\n",
              "      <td>NaN</td>\n",
              "      <td>0.0</td>\n",
              "      <td>NaN</td>\n",
              "    </tr>\n",
              "  </tbody>\n",
              "</table>\n",
              "</div>\n",
              "      <button class=\"colab-df-convert\" onclick=\"convertToInteractive('df-c14daa93-666b-43ea-b4c0-ea8999b27dd6')\"\n",
              "              title=\"Convert this dataframe to an interactive table.\"\n",
              "              style=\"display:none;\">\n",
              "        \n",
              "  <svg xmlns=\"http://www.w3.org/2000/svg\" height=\"24px\"viewBox=\"0 0 24 24\"\n",
              "       width=\"24px\">\n",
              "    <path d=\"M0 0h24v24H0V0z\" fill=\"none\"/>\n",
              "    <path d=\"M18.56 5.44l.94 2.06.94-2.06 2.06-.94-2.06-.94-.94-2.06-.94 2.06-2.06.94zm-11 1L8.5 8.5l.94-2.06 2.06-.94-2.06-.94L8.5 2.5l-.94 2.06-2.06.94zm10 10l.94 2.06.94-2.06 2.06-.94-2.06-.94-.94-2.06-.94 2.06-2.06.94z\"/><path d=\"M17.41 7.96l-1.37-1.37c-.4-.4-.92-.59-1.43-.59-.52 0-1.04.2-1.43.59L10.3 9.45l-7.72 7.72c-.78.78-.78 2.05 0 2.83L4 21.41c.39.39.9.59 1.41.59.51 0 1.02-.2 1.41-.59l7.78-7.78 2.81-2.81c.8-.78.8-2.07 0-2.86zM5.41 20L4 18.59l7.72-7.72 1.47 1.35L5.41 20z\"/>\n",
              "  </svg>\n",
              "      </button>\n",
              "      \n",
              "  <style>\n",
              "    .colab-df-container {\n",
              "      display:flex;\n",
              "      flex-wrap:wrap;\n",
              "      gap: 12px;\n",
              "    }\n",
              "\n",
              "    .colab-df-convert {\n",
              "      background-color: #E8F0FE;\n",
              "      border: none;\n",
              "      border-radius: 50%;\n",
              "      cursor: pointer;\n",
              "      display: none;\n",
              "      fill: #1967D2;\n",
              "      height: 32px;\n",
              "      padding: 0 0 0 0;\n",
              "      width: 32px;\n",
              "    }\n",
              "\n",
              "    .colab-df-convert:hover {\n",
              "      background-color: #E2EBFA;\n",
              "      box-shadow: 0px 1px 2px rgba(60, 64, 67, 0.3), 0px 1px 3px 1px rgba(60, 64, 67, 0.15);\n",
              "      fill: #174EA6;\n",
              "    }\n",
              "\n",
              "    [theme=dark] .colab-df-convert {\n",
              "      background-color: #3B4455;\n",
              "      fill: #D2E3FC;\n",
              "    }\n",
              "\n",
              "    [theme=dark] .colab-df-convert:hover {\n",
              "      background-color: #434B5C;\n",
              "      box-shadow: 0px 1px 3px 1px rgba(0, 0, 0, 0.15);\n",
              "      filter: drop-shadow(0px 1px 2px rgba(0, 0, 0, 0.3));\n",
              "      fill: #FFFFFF;\n",
              "    }\n",
              "  </style>\n",
              "\n",
              "      <script>\n",
              "        const buttonEl =\n",
              "          document.querySelector('#df-c14daa93-666b-43ea-b4c0-ea8999b27dd6 button.colab-df-convert');\n",
              "        buttonEl.style.display =\n",
              "          google.colab.kernel.accessAllowed ? 'block' : 'none';\n",
              "\n",
              "        async function convertToInteractive(key) {\n",
              "          const element = document.querySelector('#df-c14daa93-666b-43ea-b4c0-ea8999b27dd6');\n",
              "          const dataTable =\n",
              "            await google.colab.kernel.invokeFunction('convertToInteractive',\n",
              "                                                     [key], {});\n",
              "          if (!dataTable) return;\n",
              "\n",
              "          const docLinkHtml = 'Like what you see? Visit the ' +\n",
              "            '<a target=\"_blank\" href=https://colab.research.google.com/notebooks/data_table.ipynb>data table notebook</a>'\n",
              "            + ' to learn more about interactive tables.';\n",
              "          element.innerHTML = '';\n",
              "          dataTable['output_type'] = 'display_data';\n",
              "          await google.colab.output.renderOutput(dataTable, element);\n",
              "          const docLink = document.createElement('div');\n",
              "          docLink.innerHTML = docLinkHtml;\n",
              "          element.appendChild(docLink);\n",
              "        }\n",
              "      </script>\n",
              "    </div>\n",
              "  </div>\n",
              "  "
            ],
            "text/plain": [
              "  case_month res_state  ...  death_yn underlying_conditions_yn\n",
              "0    2020-01        NY  ...       0.0                      NaN\n",
              "\n",
              "[1 rows x 19 columns]"
            ]
          },
          "metadata": {},
          "execution_count": 39
        }
      ]
    },
    {
      "cell_type": "markdown",
      "source": [
        "So if we look for null data, we find that most rows are missing at least some data. A minimally complete list would be composed of 'case_month', 'process', 'labconfirmed_yn'. Even our response variable, 'death_yn' is missing data."
      ],
      "metadata": {
        "id": "u3LK9qy-K6ZN"
      }
    },
    {
      "cell_type": "code",
      "source": [
        "train.isnull().describe()"
      ],
      "metadata": {
        "id": "fKWM_sy3A5gE",
        "outputId": "839d779f-eef7-40b1-b177-4996d4c4efe9",
        "colab": {
          "base_uri": "https://localhost:8080/",
          "height": 239
        }
      },
      "execution_count": 43,
      "outputs": [
        {
          "output_type": "execute_result",
          "data": {
            "text/html": [
              "\n",
              "  <div id=\"df-6ada84c4-8f92-464e-ba63-c3a85784fe2d\">\n",
              "    <div class=\"colab-df-container\">\n",
              "      <div>\n",
              "<style scoped>\n",
              "    .dataframe tbody tr th:only-of-type {\n",
              "        vertical-align: middle;\n",
              "    }\n",
              "\n",
              "    .dataframe tbody tr th {\n",
              "        vertical-align: top;\n",
              "    }\n",
              "\n",
              "    .dataframe thead th {\n",
              "        text-align: right;\n",
              "    }\n",
              "</style>\n",
              "<table border=\"1\" class=\"dataframe\">\n",
              "  <thead>\n",
              "    <tr style=\"text-align: right;\">\n",
              "      <th></th>\n",
              "      <th>case_month</th>\n",
              "      <th>res_state</th>\n",
              "      <th>state_fips_code</th>\n",
              "      <th>res_county</th>\n",
              "      <th>county_fips_code</th>\n",
              "      <th>age_group</th>\n",
              "      <th>sex</th>\n",
              "      <th>race</th>\n",
              "      <th>ethnicity</th>\n",
              "      <th>case_positive_specimen_interval</th>\n",
              "      <th>case_onset_interval</th>\n",
              "      <th>process</th>\n",
              "      <th>exposure_yn</th>\n",
              "      <th>labconfirmed_yn</th>\n",
              "      <th>symptomatic_yn</th>\n",
              "      <th>hosp_yn</th>\n",
              "      <th>icu_yn</th>\n",
              "      <th>death_yn</th>\n",
              "      <th>underlying_conditions_yn</th>\n",
              "    </tr>\n",
              "  </thead>\n",
              "  <tbody>\n",
              "    <tr>\n",
              "      <th>count</th>\n",
              "      <td>36225855</td>\n",
              "      <td>36225855</td>\n",
              "      <td>36225855</td>\n",
              "      <td>36225855</td>\n",
              "      <td>36225855</td>\n",
              "      <td>36225855</td>\n",
              "      <td>36225855</td>\n",
              "      <td>36225855</td>\n",
              "      <td>36225855</td>\n",
              "      <td>36225855</td>\n",
              "      <td>36225855</td>\n",
              "      <td>36225855</td>\n",
              "      <td>36225855</td>\n",
              "      <td>36225855</td>\n",
              "      <td>36225855</td>\n",
              "      <td>36225855</td>\n",
              "      <td>36225855</td>\n",
              "      <td>36225855</td>\n",
              "      <td>36225855</td>\n",
              "    </tr>\n",
              "    <tr>\n",
              "      <th>unique</th>\n",
              "      <td>1</td>\n",
              "      <td>2</td>\n",
              "      <td>2</td>\n",
              "      <td>2</td>\n",
              "      <td>2</td>\n",
              "      <td>2</td>\n",
              "      <td>2</td>\n",
              "      <td>2</td>\n",
              "      <td>2</td>\n",
              "      <td>2</td>\n",
              "      <td>2</td>\n",
              "      <td>1</td>\n",
              "      <td>2</td>\n",
              "      <td>1</td>\n",
              "      <td>2</td>\n",
              "      <td>2</td>\n",
              "      <td>2</td>\n",
              "      <td>2</td>\n",
              "      <td>2</td>\n",
              "    </tr>\n",
              "    <tr>\n",
              "      <th>top</th>\n",
              "      <td>False</td>\n",
              "      <td>False</td>\n",
              "      <td>False</td>\n",
              "      <td>False</td>\n",
              "      <td>False</td>\n",
              "      <td>False</td>\n",
              "      <td>False</td>\n",
              "      <td>False</td>\n",
              "      <td>False</td>\n",
              "      <td>True</td>\n",
              "      <td>True</td>\n",
              "      <td>False</td>\n",
              "      <td>True</td>\n",
              "      <td>False</td>\n",
              "      <td>True</td>\n",
              "      <td>True</td>\n",
              "      <td>True</td>\n",
              "      <td>True</td>\n",
              "      <td>True</td>\n",
              "    </tr>\n",
              "    <tr>\n",
              "      <th>freq</th>\n",
              "      <td>36225855</td>\n",
              "      <td>36224934</td>\n",
              "      <td>36224934</td>\n",
              "      <td>33728416</td>\n",
              "      <td>33728416</td>\n",
              "      <td>35828300</td>\n",
              "      <td>35136242</td>\n",
              "      <td>30504585</td>\n",
              "      <td>29486359</td>\n",
              "      <td>23875686</td>\n",
              "      <td>18413918</td>\n",
              "      <td>36225855</td>\n",
              "      <td>33650024</td>\n",
              "      <td>36225855</td>\n",
              "      <td>18782425</td>\n",
              "      <td>19133076</td>\n",
              "      <td>34299032</td>\n",
              "      <td>22830993</td>\n",
              "      <td>34127479</td>\n",
              "    </tr>\n",
              "  </tbody>\n",
              "</table>\n",
              "</div>\n",
              "      <button class=\"colab-df-convert\" onclick=\"convertToInteractive('df-6ada84c4-8f92-464e-ba63-c3a85784fe2d')\"\n",
              "              title=\"Convert this dataframe to an interactive table.\"\n",
              "              style=\"display:none;\">\n",
              "        \n",
              "  <svg xmlns=\"http://www.w3.org/2000/svg\" height=\"24px\"viewBox=\"0 0 24 24\"\n",
              "       width=\"24px\">\n",
              "    <path d=\"M0 0h24v24H0V0z\" fill=\"none\"/>\n",
              "    <path d=\"M18.56 5.44l.94 2.06.94-2.06 2.06-.94-2.06-.94-.94-2.06-.94 2.06-2.06.94zm-11 1L8.5 8.5l.94-2.06 2.06-.94-2.06-.94L8.5 2.5l-.94 2.06-2.06.94zm10 10l.94 2.06.94-2.06 2.06-.94-2.06-.94-.94-2.06-.94 2.06-2.06.94z\"/><path d=\"M17.41 7.96l-1.37-1.37c-.4-.4-.92-.59-1.43-.59-.52 0-1.04.2-1.43.59L10.3 9.45l-7.72 7.72c-.78.78-.78 2.05 0 2.83L4 21.41c.39.39.9.59 1.41.59.51 0 1.02-.2 1.41-.59l7.78-7.78 2.81-2.81c.8-.78.8-2.07 0-2.86zM5.41 20L4 18.59l7.72-7.72 1.47 1.35L5.41 20z\"/>\n",
              "  </svg>\n",
              "      </button>\n",
              "      \n",
              "  <style>\n",
              "    .colab-df-container {\n",
              "      display:flex;\n",
              "      flex-wrap:wrap;\n",
              "      gap: 12px;\n",
              "    }\n",
              "\n",
              "    .colab-df-convert {\n",
              "      background-color: #E8F0FE;\n",
              "      border: none;\n",
              "      border-radius: 50%;\n",
              "      cursor: pointer;\n",
              "      display: none;\n",
              "      fill: #1967D2;\n",
              "      height: 32px;\n",
              "      padding: 0 0 0 0;\n",
              "      width: 32px;\n",
              "    }\n",
              "\n",
              "    .colab-df-convert:hover {\n",
              "      background-color: #E2EBFA;\n",
              "      box-shadow: 0px 1px 2px rgba(60, 64, 67, 0.3), 0px 1px 3px 1px rgba(60, 64, 67, 0.15);\n",
              "      fill: #174EA6;\n",
              "    }\n",
              "\n",
              "    [theme=dark] .colab-df-convert {\n",
              "      background-color: #3B4455;\n",
              "      fill: #D2E3FC;\n",
              "    }\n",
              "\n",
              "    [theme=dark] .colab-df-convert:hover {\n",
              "      background-color: #434B5C;\n",
              "      box-shadow: 0px 1px 3px 1px rgba(0, 0, 0, 0.15);\n",
              "      filter: drop-shadow(0px 1px 2px rgba(0, 0, 0, 0.3));\n",
              "      fill: #FFFFFF;\n",
              "    }\n",
              "  </style>\n",
              "\n",
              "      <script>\n",
              "        const buttonEl =\n",
              "          document.querySelector('#df-6ada84c4-8f92-464e-ba63-c3a85784fe2d button.colab-df-convert');\n",
              "        buttonEl.style.display =\n",
              "          google.colab.kernel.accessAllowed ? 'block' : 'none';\n",
              "\n",
              "        async function convertToInteractive(key) {\n",
              "          const element = document.querySelector('#df-6ada84c4-8f92-464e-ba63-c3a85784fe2d');\n",
              "          const dataTable =\n",
              "            await google.colab.kernel.invokeFunction('convertToInteractive',\n",
              "                                                     [key], {});\n",
              "          if (!dataTable) return;\n",
              "\n",
              "          const docLinkHtml = 'Like what you see? Visit the ' +\n",
              "            '<a target=\"_blank\" href=https://colab.research.google.com/notebooks/data_table.ipynb>data table notebook</a>'\n",
              "            + ' to learn more about interactive tables.';\n",
              "          element.innerHTML = '';\n",
              "          dataTable['output_type'] = 'display_data';\n",
              "          await google.colab.output.renderOutput(dataTable, element);\n",
              "          const docLink = document.createElement('div');\n",
              "          docLink.innerHTML = docLinkHtml;\n",
              "          element.appendChild(docLink);\n",
              "        }\n",
              "      </script>\n",
              "    </div>\n",
              "  </div>\n",
              "  "
            ],
            "text/plain": [
              "       case_month res_state  ...  death_yn underlying_conditions_yn\n",
              "count    36225855  36225855  ...  36225855                 36225855\n",
              "unique          1         2  ...         2                        2\n",
              "top         False     False  ...      True                     True\n",
              "freq     36225855  36224934  ...  22830993                 34127479\n",
              "\n",
              "[4 rows x 19 columns]"
            ]
          },
          "metadata": {},
          "execution_count": 43
        }
      ]
    },
    {
      "cell_type": "markdown",
      "source": [
        "We'll also want to deal with other issues the data may have, specifically, there are several rows that have 'confusing' or confused data. We should also take the time to standarsize our data, but also set any very uncommon values to NA where appropriate. Effectively, we neeed to define a data dictionary to support us through the rest of this investigation."
      ],
      "metadata": {
        "id": "Lx1d6RWzL8NU"
      }
    },
    {
      "cell_type": "code",
      "source": [
        "# for i in train.columns:\n",
        "#   print('Unique items '+i)\n",
        "#   print(train[i].unique())"
      ],
      "metadata": {
        "id": "fn5ft0DzLq4N"
      },
      "execution_count": null,
      "outputs": []
    },
    {
      "cell_type": "markdown",
      "source": [
        "So I'm going to ignore the correctness of County and State. I still want to use these data, but I can't know if spellings are all 100% correct, or at least, I don't think its worthe the time. Age group seems pretty well formed. The 'sex' column mayneed some work, but we can see that race has the same classes for alternative ways data couold be missing. We'll have to make a choice as to how to handle 'true' missing data.\n",
        "\n",
        "Other columns with issues appear to be exposure_yn, lab_confirmed_yn, symptomatic_yn, basically all of the columns. Some of the issues are that they arent stanadardized into either float, string, or booleans. Also, there are some mixes and some text 'nulls' peppered in there. We'll need to address all of these before procceding.\n",
        "\n",
        "Another consideration as part of this process, is that this NA processing and filtering has to happen on both our test and validation sets. We'll need to keep this in mind in how we implement our solution.\n"
      ],
      "metadata": {
        "id": "zojCIu1TPMgb"
      }
    },
    {
      "cell_type": "code",
      "source": [
        "#This is a weird one because we know they were all exposed, so not-knowing not\n",
        "#really a nan\n",
        "\n",
        "train['exposure_yn'][train['exposure_yn'].isnull()] = 0.0\n",
        "train['exposure_yn'][train['exposure_yn']== 1] = 1.0\n",
        "# train['exposure_yn'] = train['exposure_yn'].astype('float')\n",
        "\n",
        "\n",
        "train['labconfirmed_yn'][train['labconfirmed_yn']== 1] = 1.0\n",
        "train['labconfirmed_yn'][train['labconfirmed_yn']== 0] = 0.0\n",
        "# train['labconfirmed_yn'] = train['labconfirmed_yn'].astype('float')\n",
        "\n",
        "train['symptomatic_yn'][train['symptomatic_yn']== '1'] = 1.0\n",
        "train['symptomatic_yn'][train['symptomatic_yn']== '0'] = 0.0\n",
        "# train['symptomatic_yn'] = train['symptomatic_yn'].astype('float')\n",
        "\n",
        "\n",
        "\n",
        "train['hosp_yn'][train['hosp_yn']== 1] = 1.0\n",
        "train['hosp_yn'][train['hosp_yn']== 0] = 0.0\n",
        "# train['hosp_yn'] = train['hosp_yn'].astype('float')\n",
        "\n",
        "train['icu_yn'][train['icu_yn']== '1'] = 1.0\n",
        "train['icu_yn'][train['icu_yn']== '0'] = 0.0\n",
        "train['icu_yn'][train['icu_yn']== 'nul'] = np.nan\n",
        "# train['icu_yn'] = train['icu_yn'].astype('float')\n"
      ],
      "metadata": {
        "id": "gKYxCUtQTfdd",
        "outputId": "f0b64d1d-0502-438b-c0b6-78eef2645d99",
        "colab": {
          "base_uri": "https://localhost:8080/"
        }
      },
      "execution_count": 67,
      "outputs": [
        {
          "output_type": "stream",
          "name": "stderr",
          "text": [
            "/usr/local/lib/python3.7/dist-packages/ipykernel_launcher.py:4: SettingWithCopyWarning: \n",
            "A value is trying to be set on a copy of a slice from a DataFrame\n",
            "\n",
            "See the caveats in the documentation: https://pandas.pydata.org/pandas-docs/stable/user_guide/indexing.html#returning-a-view-versus-a-copy\n",
            "  after removing the cwd from sys.path.\n",
            "/usr/local/lib/python3.7/dist-packages/ipykernel_launcher.py:5: SettingWithCopyWarning: \n",
            "A value is trying to be set on a copy of a slice from a DataFrame\n",
            "\n",
            "See the caveats in the documentation: https://pandas.pydata.org/pandas-docs/stable/user_guide/indexing.html#returning-a-view-versus-a-copy\n",
            "  \"\"\"\n",
            "/usr/local/lib/python3.7/dist-packages/ipykernel_launcher.py:9: SettingWithCopyWarning: \n",
            "A value is trying to be set on a copy of a slice from a DataFrame\n",
            "\n",
            "See the caveats in the documentation: https://pandas.pydata.org/pandas-docs/stable/user_guide/indexing.html#returning-a-view-versus-a-copy\n",
            "  if __name__ == '__main__':\n",
            "/usr/local/lib/python3.7/dist-packages/ipykernel_launcher.py:10: SettingWithCopyWarning: \n",
            "A value is trying to be set on a copy of a slice from a DataFrame\n",
            "\n",
            "See the caveats in the documentation: https://pandas.pydata.org/pandas-docs/stable/user_guide/indexing.html#returning-a-view-versus-a-copy\n",
            "  # Remove the CWD from sys.path while we load stuff.\n",
            "/usr/local/lib/python3.7/dist-packages/ipykernel_launcher.py:13: SettingWithCopyWarning: \n",
            "A value is trying to be set on a copy of a slice from a DataFrame\n",
            "\n",
            "See the caveats in the documentation: https://pandas.pydata.org/pandas-docs/stable/user_guide/indexing.html#returning-a-view-versus-a-copy\n",
            "  del sys.path[0]\n",
            "/usr/local/lib/python3.7/dist-packages/ipykernel_launcher.py:14: SettingWithCopyWarning: \n",
            "A value is trying to be set on a copy of a slice from a DataFrame\n",
            "\n",
            "See the caveats in the documentation: https://pandas.pydata.org/pandas-docs/stable/user_guide/indexing.html#returning-a-view-versus-a-copy\n",
            "  \n",
            "/usr/local/lib/python3.7/dist-packages/ipykernel_launcher.py:19: SettingWithCopyWarning: \n",
            "A value is trying to be set on a copy of a slice from a DataFrame\n",
            "\n",
            "See the caveats in the documentation: https://pandas.pydata.org/pandas-docs/stable/user_guide/indexing.html#returning-a-view-versus-a-copy\n",
            "/usr/local/lib/python3.7/dist-packages/ipykernel_launcher.py:20: SettingWithCopyWarning: \n",
            "A value is trying to be set on a copy of a slice from a DataFrame\n",
            "\n",
            "See the caveats in the documentation: https://pandas.pydata.org/pandas-docs/stable/user_guide/indexing.html#returning-a-view-versus-a-copy\n",
            "/usr/local/lib/python3.7/dist-packages/ipykernel_launcher.py:23: SettingWithCopyWarning: \n",
            "A value is trying to be set on a copy of a slice from a DataFrame\n",
            "\n",
            "See the caveats in the documentation: https://pandas.pydata.org/pandas-docs/stable/user_guide/indexing.html#returning-a-view-versus-a-copy\n",
            "/usr/local/lib/python3.7/dist-packages/ipykernel_launcher.py:24: SettingWithCopyWarning: \n",
            "A value is trying to be set on a copy of a slice from a DataFrame\n",
            "\n",
            "See the caveats in the documentation: https://pandas.pydata.org/pandas-docs/stable/user_guide/indexing.html#returning-a-view-versus-a-copy\n",
            "/usr/local/lib/python3.7/dist-packages/ipykernel_launcher.py:25: SettingWithCopyWarning: \n",
            "A value is trying to be set on a copy of a slice from a DataFrame\n",
            "\n",
            "See the caveats in the documentation: https://pandas.pydata.org/pandas-docs/stable/user_guide/indexing.html#returning-a-view-versus-a-copy\n"
          ]
        }
      ]
    },
    {
      "cell_type": "code",
      "source": [
        "for i in train.columns:\n",
        "  print('Unique items '+i)\n",
        "  print(train[i].unique())"
      ],
      "metadata": {
        "id": "xmF-GCaIcJlN",
        "outputId": "424c1b8e-0e51-4754-f6d6-5f023a5e37de",
        "colab": {
          "base_uri": "https://localhost:8080/"
        }
      },
      "execution_count": 68,
      "outputs": [
        {
          "output_type": "stream",
          "name": "stdout",
          "text": [
            "Unique items case_month\n",
            "['2020-01' '2020-02' '2020-03' '2020-04' '2020-05' '2020-06' '2020-07'\n",
            " '2020-08' '2020-09' '2020-10' '2020-11' '2020-12' '2021-01' '2021-02'\n",
            " '2021-03' '2021-04' '2021-05' '2021-06' '2021-07' '2021-08' '2021-09']\n",
            "Unique items res_state\n",
            "['NY' 'NC' 'NJ' 'IA' 'GA' 'NV' 'TX' 'FL' 'CA' 'TN' 'SC' 'UT' 'MO' 'WI'\n",
            " 'OH' 'WA' 'MI' nan 'CO' 'CT' 'IN' 'MA' 'PR' 'MD' 'AL' 'ME' 'SD' 'AZ' 'KY'\n",
            " 'NM' 'KS' 'NE' 'PA' 'VA' 'IL' 'DC' 'LA' 'AR' 'MS' 'OR' 'MN' 'VT' 'MT'\n",
            " 'ID' 'AK' 'OK' 'HI' 'NH' 'ND' 'WY' 'RI' 'DE' 'WV' 'VI' 'GU']\n",
            "Unique items state_fips_code\n",
            "[36. 37. 34. 19. 13. 32. 48. 12.  6. 47. 45. 49. 29. 55. 39. 53. 26. nan\n",
            "  8.  9. 18. 25. 72. 24.  1. 23. 46.  4. 21. 35. 20. 31. 42. 51. 17. 11.\n",
            " 22.  5. 28. 41. 27. 50. 30. 16.  2. 40. 15. 33. 38. 56. 44. 10. 54. 78.\n",
            " 66.]\n",
            "Unique items res_county\n",
            "['ONEIDA' nan 'MONMOUTH' ... 'VILAS' 'WOODWARD' 'CALEDONIA']\n",
            "Unique items county_fips_code\n",
            "[36065.    nan 34025. ... 50019. 50005. 50017.]\n",
            "Unique items age_group\n",
            "[nan '65+ years' '18 to 49 years' '50 to 64 years' '0 - 17 years'\n",
            " 'Missing']\n",
            "Unique items sex\n",
            "[nan 'Male' 'Female' 'Unknown' 'Missing']\n",
            "Unique items race\n",
            "[nan 'White' 'Multiple/Other' 'Black' 'Unknown' 'Asian' 'Missing'\n",
            " 'American Indian/Alaska Native' 'Native Hawaiian/Other Pacific Islander']\n",
            "Unique items ethnicity\n",
            "[nan 'Non-Hispanic/Latino' 'Unknown' 'Hispanic/Latino' 'Missing']\n",
            "Unique items case_positive_specimen_interval\n",
            "[  0.  41.  nan  44.  52.  53.  50.  51.  43.  48.   7.  11.  39.  49.\n",
            "  54.  25.  55.  12.  13.  20.  15.  16.  40.  45.  42.  26.  57.  19.\n",
            "  14.   9.  10.  47.   8.  18.  22.  21.  27.  35.  29.  38.  46.  32.\n",
            "   1.  24.  69.  36.   6.   2.   4.   5.   3.  37.  17.  34.  33.  95.\n",
            "  59.  82.  23.  64.  31.  98.  75. 100.  99.  97.  73.  77.  81.  87.\n",
            "  80.  -1.  30.  28.  -2.  68.  92.  78.  -3.  93.  94.  76.  91.  72.\n",
            "  61.  62.  58.  86.  88.  71.  84.  83.  79.  89.  85.  74.  63.  65.\n",
            "  56.  90.  70. -10.  66.  -4.  -6.  -7.  -5.  67. -15.  60.  -8. -11.\n",
            "  -9. -18. -13. -12. -14. -23. -21. -16. -28. -20. -19. -17. -22. -26.\n",
            " -24. -30. -25. -27. -39. -32. -42. -29. -33. -31. -40. -38. -35. -44.\n",
            " -34. -36. -43. -37. -52. -47. -48. -41. -51. -49. -53. -45. -50. -55.\n",
            " -46. -56. -64. -54. -61. -58. -57. -60. -62. -59. -65. -68. -69. -67.\n",
            " -66. -74. -70. -71. -75. -63. -73. -72. -77. -76.]\n",
            "Unique items case_onset_interval\n",
            "[ nan   0.  50.  51.  25.  52.  43.   1.  46.  49.  39.  -1.  92.  53.\n",
            "  26.  48.  38.  -3.  47.  36.   4.  44.  45.  16.  33.  27.  32.  37.\n",
            "  35.   3.   2.   6.  42.  22.  40.  13.  24.  31.  29.  34.   8.   5.\n",
            "  67.  15.  74.  30.  59.  81.  41.  76.  19.  84.  82.  80.  28.  83.\n",
            "  17.   9.  75.   7.  14.  70.  57.  23.  54.  18.  69.  71.  78.  11.\n",
            "  12.  10.  65.  72.  90.  93.  20. -11.  77.  61.  21.  79.  56.  73.\n",
            " -10.  68.  87.  86.  55.  66.  64.  91.  58.  60.  63.  62.  -9.  89.\n",
            "  88.  -5. -16.  -4.  -2. -15.  -8. -12. -14. -32. -43. -13.  -6. -45.\n",
            " -18. -17. -26. -24. -56. -19. -20. -35. -21. -22. -34. -33. -59. -30.\n",
            " -28.]\n",
            "Unique items process\n",
            "['Missing' 'Clinical evaluation' 'Routine surveillance'\n",
            " 'Other detection method (specify)' 'Multiple' 'Other'\n",
            " 'Contact tracing of case patient' 'Unknown' 'Laboratory reported'\n",
            " 'Provider reported' 'Routine physical examination' 'Autopsy']\n",
            "Unique items exposure_yn\n",
            "[0. 1.]\n",
            "Unique items labconfirmed_yn\n",
            "[1. 0.]\n",
            "Unique items symptomatic_yn\n",
            "[nan 1.0 0.0 'nul']\n",
            "Unique items hosp_yn\n",
            "[nan  0.  1.]\n",
            "Unique items icu_yn\n",
            "[nan 1.0 0.0]\n",
            "Unique items death_yn\n",
            "[ 0. nan  1.]\n",
            "Unique items underlying_conditions_yn\n",
            "[nan  1.  0.]\n"
          ]
        }
      ]
    },
    {
      "cell_type": "markdown",
      "source": [
        "Ok, at least now our data is some what standardized and we can look for clustering among our NA. So that we can remember what tha looks like:"
      ],
      "metadata": {
        "id": "75cgXa6nhEcd"
      }
    },
    {
      "cell_type": "code",
      "source": [
        "train.isnull().describe()"
      ],
      "metadata": {
        "id": "8tIFGPvVhlJy",
        "outputId": "0bbe350e-c306-4a6d-804e-5a1ef744820f",
        "colab": {
          "base_uri": "https://localhost:8080/",
          "height": 239
        }
      },
      "execution_count": 69,
      "outputs": [
        {
          "output_type": "execute_result",
          "data": {
            "text/html": [
              "\n",
              "  <div id=\"df-063c10ac-6b4a-456b-bb65-cc0c5dd3eb2b\">\n",
              "    <div class=\"colab-df-container\">\n",
              "      <div>\n",
              "<style scoped>\n",
              "    .dataframe tbody tr th:only-of-type {\n",
              "        vertical-align: middle;\n",
              "    }\n",
              "\n",
              "    .dataframe tbody tr th {\n",
              "        vertical-align: top;\n",
              "    }\n",
              "\n",
              "    .dataframe thead th {\n",
              "        text-align: right;\n",
              "    }\n",
              "</style>\n",
              "<table border=\"1\" class=\"dataframe\">\n",
              "  <thead>\n",
              "    <tr style=\"text-align: right;\">\n",
              "      <th></th>\n",
              "      <th>case_month</th>\n",
              "      <th>res_state</th>\n",
              "      <th>state_fips_code</th>\n",
              "      <th>res_county</th>\n",
              "      <th>county_fips_code</th>\n",
              "      <th>age_group</th>\n",
              "      <th>sex</th>\n",
              "      <th>race</th>\n",
              "      <th>ethnicity</th>\n",
              "      <th>case_positive_specimen_interval</th>\n",
              "      <th>case_onset_interval</th>\n",
              "      <th>process</th>\n",
              "      <th>exposure_yn</th>\n",
              "      <th>labconfirmed_yn</th>\n",
              "      <th>symptomatic_yn</th>\n",
              "      <th>hosp_yn</th>\n",
              "      <th>icu_yn</th>\n",
              "      <th>death_yn</th>\n",
              "      <th>underlying_conditions_yn</th>\n",
              "    </tr>\n",
              "  </thead>\n",
              "  <tbody>\n",
              "    <tr>\n",
              "      <th>count</th>\n",
              "      <td>36225855</td>\n",
              "      <td>36225855</td>\n",
              "      <td>36225855</td>\n",
              "      <td>36225855</td>\n",
              "      <td>36225855</td>\n",
              "      <td>36225855</td>\n",
              "      <td>36225855</td>\n",
              "      <td>36225855</td>\n",
              "      <td>36225855</td>\n",
              "      <td>36225855</td>\n",
              "      <td>36225855</td>\n",
              "      <td>36225855</td>\n",
              "      <td>36225855</td>\n",
              "      <td>36225855</td>\n",
              "      <td>36225855</td>\n",
              "      <td>36225855</td>\n",
              "      <td>36225855</td>\n",
              "      <td>36225855</td>\n",
              "      <td>36225855</td>\n",
              "    </tr>\n",
              "    <tr>\n",
              "      <th>unique</th>\n",
              "      <td>1</td>\n",
              "      <td>2</td>\n",
              "      <td>2</td>\n",
              "      <td>2</td>\n",
              "      <td>2</td>\n",
              "      <td>2</td>\n",
              "      <td>2</td>\n",
              "      <td>2</td>\n",
              "      <td>2</td>\n",
              "      <td>2</td>\n",
              "      <td>2</td>\n",
              "      <td>1</td>\n",
              "      <td>1</td>\n",
              "      <td>1</td>\n",
              "      <td>2</td>\n",
              "      <td>2</td>\n",
              "      <td>2</td>\n",
              "      <td>2</td>\n",
              "      <td>2</td>\n",
              "    </tr>\n",
              "    <tr>\n",
              "      <th>top</th>\n",
              "      <td>False</td>\n",
              "      <td>False</td>\n",
              "      <td>False</td>\n",
              "      <td>False</td>\n",
              "      <td>False</td>\n",
              "      <td>False</td>\n",
              "      <td>False</td>\n",
              "      <td>False</td>\n",
              "      <td>False</td>\n",
              "      <td>True</td>\n",
              "      <td>True</td>\n",
              "      <td>False</td>\n",
              "      <td>False</td>\n",
              "      <td>False</td>\n",
              "      <td>True</td>\n",
              "      <td>True</td>\n",
              "      <td>True</td>\n",
              "      <td>True</td>\n",
              "      <td>True</td>\n",
              "    </tr>\n",
              "    <tr>\n",
              "      <th>freq</th>\n",
              "      <td>36225855</td>\n",
              "      <td>36224934</td>\n",
              "      <td>36224934</td>\n",
              "      <td>33728416</td>\n",
              "      <td>33728416</td>\n",
              "      <td>35828300</td>\n",
              "      <td>35136242</td>\n",
              "      <td>30504585</td>\n",
              "      <td>29486359</td>\n",
              "      <td>23875686</td>\n",
              "      <td>18413918</td>\n",
              "      <td>36225855</td>\n",
              "      <td>36225855</td>\n",
              "      <td>36225855</td>\n",
              "      <td>18782425</td>\n",
              "      <td>19133076</td>\n",
              "      <td>34299459</td>\n",
              "      <td>22830993</td>\n",
              "      <td>34127479</td>\n",
              "    </tr>\n",
              "  </tbody>\n",
              "</table>\n",
              "</div>\n",
              "      <button class=\"colab-df-convert\" onclick=\"convertToInteractive('df-063c10ac-6b4a-456b-bb65-cc0c5dd3eb2b')\"\n",
              "              title=\"Convert this dataframe to an interactive table.\"\n",
              "              style=\"display:none;\">\n",
              "        \n",
              "  <svg xmlns=\"http://www.w3.org/2000/svg\" height=\"24px\"viewBox=\"0 0 24 24\"\n",
              "       width=\"24px\">\n",
              "    <path d=\"M0 0h24v24H0V0z\" fill=\"none\"/>\n",
              "    <path d=\"M18.56 5.44l.94 2.06.94-2.06 2.06-.94-2.06-.94-.94-2.06-.94 2.06-2.06.94zm-11 1L8.5 8.5l.94-2.06 2.06-.94-2.06-.94L8.5 2.5l-.94 2.06-2.06.94zm10 10l.94 2.06.94-2.06 2.06-.94-2.06-.94-.94-2.06-.94 2.06-2.06.94z\"/><path d=\"M17.41 7.96l-1.37-1.37c-.4-.4-.92-.59-1.43-.59-.52 0-1.04.2-1.43.59L10.3 9.45l-7.72 7.72c-.78.78-.78 2.05 0 2.83L4 21.41c.39.39.9.59 1.41.59.51 0 1.02-.2 1.41-.59l7.78-7.78 2.81-2.81c.8-.78.8-2.07 0-2.86zM5.41 20L4 18.59l7.72-7.72 1.47 1.35L5.41 20z\"/>\n",
              "  </svg>\n",
              "      </button>\n",
              "      \n",
              "  <style>\n",
              "    .colab-df-container {\n",
              "      display:flex;\n",
              "      flex-wrap:wrap;\n",
              "      gap: 12px;\n",
              "    }\n",
              "\n",
              "    .colab-df-convert {\n",
              "      background-color: #E8F0FE;\n",
              "      border: none;\n",
              "      border-radius: 50%;\n",
              "      cursor: pointer;\n",
              "      display: none;\n",
              "      fill: #1967D2;\n",
              "      height: 32px;\n",
              "      padding: 0 0 0 0;\n",
              "      width: 32px;\n",
              "    }\n",
              "\n",
              "    .colab-df-convert:hover {\n",
              "      background-color: #E2EBFA;\n",
              "      box-shadow: 0px 1px 2px rgba(60, 64, 67, 0.3), 0px 1px 3px 1px rgba(60, 64, 67, 0.15);\n",
              "      fill: #174EA6;\n",
              "    }\n",
              "\n",
              "    [theme=dark] .colab-df-convert {\n",
              "      background-color: #3B4455;\n",
              "      fill: #D2E3FC;\n",
              "    }\n",
              "\n",
              "    [theme=dark] .colab-df-convert:hover {\n",
              "      background-color: #434B5C;\n",
              "      box-shadow: 0px 1px 3px 1px rgba(0, 0, 0, 0.15);\n",
              "      filter: drop-shadow(0px 1px 2px rgba(0, 0, 0, 0.3));\n",
              "      fill: #FFFFFF;\n",
              "    }\n",
              "  </style>\n",
              "\n",
              "      <script>\n",
              "        const buttonEl =\n",
              "          document.querySelector('#df-063c10ac-6b4a-456b-bb65-cc0c5dd3eb2b button.colab-df-convert');\n",
              "        buttonEl.style.display =\n",
              "          google.colab.kernel.accessAllowed ? 'block' : 'none';\n",
              "\n",
              "        async function convertToInteractive(key) {\n",
              "          const element = document.querySelector('#df-063c10ac-6b4a-456b-bb65-cc0c5dd3eb2b');\n",
              "          const dataTable =\n",
              "            await google.colab.kernel.invokeFunction('convertToInteractive',\n",
              "                                                     [key], {});\n",
              "          if (!dataTable) return;\n",
              "\n",
              "          const docLinkHtml = 'Like what you see? Visit the ' +\n",
              "            '<a target=\"_blank\" href=https://colab.research.google.com/notebooks/data_table.ipynb>data table notebook</a>'\n",
              "            + ' to learn more about interactive tables.';\n",
              "          element.innerHTML = '';\n",
              "          dataTable['output_type'] = 'display_data';\n",
              "          await google.colab.output.renderOutput(dataTable, element);\n",
              "          const docLink = document.createElement('div');\n",
              "          docLink.innerHTML = docLinkHtml;\n",
              "          element.appendChild(docLink);\n",
              "        }\n",
              "      </script>\n",
              "    </div>\n",
              "  </div>\n",
              "  "
            ],
            "text/plain": [
              "       case_month res_state  ...  death_yn underlying_conditions_yn\n",
              "count    36225855  36225855  ...  36225855                 36225855\n",
              "unique          1         2  ...         2                        2\n",
              "top         False     False  ...      True                     True\n",
              "freq     36225855  36224934  ...  22830993                 34127479\n",
              "\n",
              "[4 rows x 19 columns]"
            ]
          },
          "metadata": {},
          "execution_count": 69
        }
      ]
    },
    {
      "cell_type": "markdown",
      "source": [
        "We'll need to convert classes to booleans, so we're going to drop some redundant columns"
      ],
      "metadata": {
        "id": "IgCf9jHCicrF"
      }
    },
    {
      "cell_type": "code",
      "source": [
        "train.columns"
      ],
      "metadata": {
        "id": "TUGH5KMyjWBf",
        "outputId": "89d1ab17-92d5-4ad3-f051-3ef8bc1cb250",
        "colab": {
          "base_uri": "https://localhost:8080/"
        }
      },
      "execution_count": 70,
      "outputs": [
        {
          "output_type": "execute_result",
          "data": {
            "text/plain": [
              "Index(['case_month', 'res_state', 'state_fips_code', 'res_county',\n",
              "       'county_fips_code', 'age_group', 'sex', 'race', 'ethnicity',\n",
              "       'case_positive_specimen_interval', 'case_onset_interval', 'process',\n",
              "       'exposure_yn', 'labconfirmed_yn', 'symptomatic_yn', 'hosp_yn', 'icu_yn',\n",
              "       'death_yn', 'underlying_conditions_yn'],\n",
              "      dtype='object')"
            ]
          },
          "metadata": {},
          "execution_count": 70
        }
      ]
    },
    {
      "cell_type": "code",
      "source": [
        "na_cluster_test = train[['case_month', 'res_state', 'res_county',\n",
        "       'age_group', 'sex', 'race', 'ethnicity',\n",
        "       'case_positive_specimen_interval', 'case_onset_interval', 'process',\n",
        "       'exposure_yn', 'labconfirmed_yn', 'symptomatic_yn', 'hosp_yn', 'icu_yn',\n",
        "       'death_yn', 'underlying_conditions_yn']]\n",
        "\n",
        "na_cluster_test = train.isnull()\n",
        "na_cluster_test = na_cluster_test.astype(int)"
      ],
      "metadata": {
        "id": "P18eJ6nvjRPn"
      },
      "execution_count": 79,
      "outputs": []
    },
    {
      "cell_type": "code",
      "source": [
        "from sklearn.cluster import KMeans\n",
        "kmeans = KMeans(5)\n",
        "kmeans.fit(na_cluster_test)\n",
        "identified_clusters = kmeans.fit_predict(na_cluster_test)\n",
        "identified_clusters"
      ],
      "metadata": {
        "id": "PRABrJMxhv--",
        "outputId": "42c006b3-f8aa-49c2-c234-bf3ec0d00e21",
        "colab": {
          "base_uri": "https://localhost:8080/"
        }
      },
      "execution_count": 92,
      "outputs": [
        {
          "output_type": "execute_result",
          "data": {
            "text/plain": [
              "array([3, 3, 3, ..., 0, 4, 1], dtype=int32)"
            ]
          },
          "metadata": {},
          "execution_count": 92
        }
      ]
    },
    {
      "cell_type": "markdown",
      "source": [
        "So what we're looking for here is any strong or weak groupings where its almost all one or the other, effectively, autocorrelation between NA's in some columns."
      ],
      "metadata": {
        "id": "Kouj6O95nemX"
      }
    },
    {
      "cell_type": "code",
      "source": [
        "na_cluster_test.groupby(identified_clusters).sum() / na_cluster_test.sum()"
      ],
      "metadata": {
        "id": "8UubgzainY5R",
        "outputId": "444ca75a-ca1c-45d0-ad2c-6fe0e81155ee",
        "colab": {
          "base_uri": "https://localhost:8080/",
          "height": 270
        }
      },
      "execution_count": 93,
      "outputs": [
        {
          "output_type": "execute_result",
          "data": {
            "text/html": [
              "\n",
              "  <div id=\"df-9bfe8d8d-f628-4ee1-ad49-3ff7a40abdd9\">\n",
              "    <div class=\"colab-df-container\">\n",
              "      <div>\n",
              "<style scoped>\n",
              "    .dataframe tbody tr th:only-of-type {\n",
              "        vertical-align: middle;\n",
              "    }\n",
              "\n",
              "    .dataframe tbody tr th {\n",
              "        vertical-align: top;\n",
              "    }\n",
              "\n",
              "    .dataframe thead th {\n",
              "        text-align: right;\n",
              "    }\n",
              "</style>\n",
              "<table border=\"1\" class=\"dataframe\">\n",
              "  <thead>\n",
              "    <tr style=\"text-align: right;\">\n",
              "      <th></th>\n",
              "      <th>case_month</th>\n",
              "      <th>res_state</th>\n",
              "      <th>state_fips_code</th>\n",
              "      <th>res_county</th>\n",
              "      <th>county_fips_code</th>\n",
              "      <th>age_group</th>\n",
              "      <th>sex</th>\n",
              "      <th>race</th>\n",
              "      <th>ethnicity</th>\n",
              "      <th>case_positive_specimen_interval</th>\n",
              "      <th>case_onset_interval</th>\n",
              "      <th>process</th>\n",
              "      <th>exposure_yn</th>\n",
              "      <th>labconfirmed_yn</th>\n",
              "      <th>symptomatic_yn</th>\n",
              "      <th>hosp_yn</th>\n",
              "      <th>icu_yn</th>\n",
              "      <th>death_yn</th>\n",
              "      <th>underlying_conditions_yn</th>\n",
              "    </tr>\n",
              "  </thead>\n",
              "  <tbody>\n",
              "    <tr>\n",
              "      <th>0</th>\n",
              "      <td>NaN</td>\n",
              "      <td>0.0</td>\n",
              "      <td>0.0</td>\n",
              "      <td>0.365408</td>\n",
              "      <td>0.365408</td>\n",
              "      <td>0.0</td>\n",
              "      <td>0.0</td>\n",
              "      <td>0.000000</td>\n",
              "      <td>0.049051</td>\n",
              "      <td>0.357101</td>\n",
              "      <td>0.533693</td>\n",
              "      <td>NaN</td>\n",
              "      <td>NaN</td>\n",
              "      <td>NaN</td>\n",
              "      <td>0.565109</td>\n",
              "      <td>0.491611</td>\n",
              "      <td>0.310726</td>\n",
              "      <td>0.467776</td>\n",
              "      <td>0.311171</td>\n",
              "    </tr>\n",
              "    <tr>\n",
              "      <th>1</th>\n",
              "      <td>NaN</td>\n",
              "      <td>0.0</td>\n",
              "      <td>0.0</td>\n",
              "      <td>0.228932</td>\n",
              "      <td>0.228932</td>\n",
              "      <td>0.0</td>\n",
              "      <td>0.0</td>\n",
              "      <td>0.000000</td>\n",
              "      <td>0.053112</td>\n",
              "      <td>0.380993</td>\n",
              "      <td>0.016037</td>\n",
              "      <td>NaN</td>\n",
              "      <td>NaN</td>\n",
              "      <td>NaN</td>\n",
              "      <td>0.028304</td>\n",
              "      <td>0.119302</td>\n",
              "      <td>0.252687</td>\n",
              "      <td>0.216703</td>\n",
              "      <td>0.255061</td>\n",
              "    </tr>\n",
              "    <tr>\n",
              "      <th>2</th>\n",
              "      <td>NaN</td>\n",
              "      <td>0.0</td>\n",
              "      <td>0.0</td>\n",
              "      <td>0.109684</td>\n",
              "      <td>0.109684</td>\n",
              "      <td>0.0</td>\n",
              "      <td>0.0</td>\n",
              "      <td>0.000000</td>\n",
              "      <td>0.018612</td>\n",
              "      <td>0.086819</td>\n",
              "      <td>0.266843</td>\n",
              "      <td>NaN</td>\n",
              "      <td>NaN</td>\n",
              "      <td>NaN</td>\n",
              "      <td>0.250026</td>\n",
              "      <td>0.131166</td>\n",
              "      <td>0.141589</td>\n",
              "      <td>0.007143</td>\n",
              "      <td>0.142212</td>\n",
              "    </tr>\n",
              "    <tr>\n",
              "      <th>3</th>\n",
              "      <td>NaN</td>\n",
              "      <td>1.0</td>\n",
              "      <td>1.0</td>\n",
              "      <td>0.110973</td>\n",
              "      <td>0.110973</td>\n",
              "      <td>1.0</td>\n",
              "      <td>1.0</td>\n",
              "      <td>0.999929</td>\n",
              "      <td>0.853919</td>\n",
              "      <td>0.175088</td>\n",
              "      <td>0.160272</td>\n",
              "      <td>NaN</td>\n",
              "      <td>NaN</td>\n",
              "      <td>NaN</td>\n",
              "      <td>0.156561</td>\n",
              "      <td>0.140902</td>\n",
              "      <td>0.159607</td>\n",
              "      <td>0.171073</td>\n",
              "      <td>0.159393</td>\n",
              "    </tr>\n",
              "    <tr>\n",
              "      <th>4</th>\n",
              "      <td>NaN</td>\n",
              "      <td>0.0</td>\n",
              "      <td>0.0</td>\n",
              "      <td>0.185004</td>\n",
              "      <td>0.185004</td>\n",
              "      <td>0.0</td>\n",
              "      <td>0.0</td>\n",
              "      <td>0.000071</td>\n",
              "      <td>0.025305</td>\n",
              "      <td>0.000000</td>\n",
              "      <td>0.023154</td>\n",
              "      <td>NaN</td>\n",
              "      <td>NaN</td>\n",
              "      <td>NaN</td>\n",
              "      <td>0.000000</td>\n",
              "      <td>0.117019</td>\n",
              "      <td>0.135391</td>\n",
              "      <td>0.137304</td>\n",
              "      <td>0.132163</td>\n",
              "    </tr>\n",
              "  </tbody>\n",
              "</table>\n",
              "</div>\n",
              "      <button class=\"colab-df-convert\" onclick=\"convertToInteractive('df-9bfe8d8d-f628-4ee1-ad49-3ff7a40abdd9')\"\n",
              "              title=\"Convert this dataframe to an interactive table.\"\n",
              "              style=\"display:none;\">\n",
              "        \n",
              "  <svg xmlns=\"http://www.w3.org/2000/svg\" height=\"24px\"viewBox=\"0 0 24 24\"\n",
              "       width=\"24px\">\n",
              "    <path d=\"M0 0h24v24H0V0z\" fill=\"none\"/>\n",
              "    <path d=\"M18.56 5.44l.94 2.06.94-2.06 2.06-.94-2.06-.94-.94-2.06-.94 2.06-2.06.94zm-11 1L8.5 8.5l.94-2.06 2.06-.94-2.06-.94L8.5 2.5l-.94 2.06-2.06.94zm10 10l.94 2.06.94-2.06 2.06-.94-2.06-.94-.94-2.06-.94 2.06-2.06.94z\"/><path d=\"M17.41 7.96l-1.37-1.37c-.4-.4-.92-.59-1.43-.59-.52 0-1.04.2-1.43.59L10.3 9.45l-7.72 7.72c-.78.78-.78 2.05 0 2.83L4 21.41c.39.39.9.59 1.41.59.51 0 1.02-.2 1.41-.59l7.78-7.78 2.81-2.81c.8-.78.8-2.07 0-2.86zM5.41 20L4 18.59l7.72-7.72 1.47 1.35L5.41 20z\"/>\n",
              "  </svg>\n",
              "      </button>\n",
              "      \n",
              "  <style>\n",
              "    .colab-df-container {\n",
              "      display:flex;\n",
              "      flex-wrap:wrap;\n",
              "      gap: 12px;\n",
              "    }\n",
              "\n",
              "    .colab-df-convert {\n",
              "      background-color: #E8F0FE;\n",
              "      border: none;\n",
              "      border-radius: 50%;\n",
              "      cursor: pointer;\n",
              "      display: none;\n",
              "      fill: #1967D2;\n",
              "      height: 32px;\n",
              "      padding: 0 0 0 0;\n",
              "      width: 32px;\n",
              "    }\n",
              "\n",
              "    .colab-df-convert:hover {\n",
              "      background-color: #E2EBFA;\n",
              "      box-shadow: 0px 1px 2px rgba(60, 64, 67, 0.3), 0px 1px 3px 1px rgba(60, 64, 67, 0.15);\n",
              "      fill: #174EA6;\n",
              "    }\n",
              "\n",
              "    [theme=dark] .colab-df-convert {\n",
              "      background-color: #3B4455;\n",
              "      fill: #D2E3FC;\n",
              "    }\n",
              "\n",
              "    [theme=dark] .colab-df-convert:hover {\n",
              "      background-color: #434B5C;\n",
              "      box-shadow: 0px 1px 3px 1px rgba(0, 0, 0, 0.15);\n",
              "      filter: drop-shadow(0px 1px 2px rgba(0, 0, 0, 0.3));\n",
              "      fill: #FFFFFF;\n",
              "    }\n",
              "  </style>\n",
              "\n",
              "      <script>\n",
              "        const buttonEl =\n",
              "          document.querySelector('#df-9bfe8d8d-f628-4ee1-ad49-3ff7a40abdd9 button.colab-df-convert');\n",
              "        buttonEl.style.display =\n",
              "          google.colab.kernel.accessAllowed ? 'block' : 'none';\n",
              "\n",
              "        async function convertToInteractive(key) {\n",
              "          const element = document.querySelector('#df-9bfe8d8d-f628-4ee1-ad49-3ff7a40abdd9');\n",
              "          const dataTable =\n",
              "            await google.colab.kernel.invokeFunction('convertToInteractive',\n",
              "                                                     [key], {});\n",
              "          if (!dataTable) return;\n",
              "\n",
              "          const docLinkHtml = 'Like what you see? Visit the ' +\n",
              "            '<a target=\"_blank\" href=https://colab.research.google.com/notebooks/data_table.ipynb>data table notebook</a>'\n",
              "            + ' to learn more about interactive tables.';\n",
              "          element.innerHTML = '';\n",
              "          dataTable['output_type'] = 'display_data';\n",
              "          await google.colab.output.renderOutput(dataTable, element);\n",
              "          const docLink = document.createElement('div');\n",
              "          docLink.innerHTML = docLinkHtml;\n",
              "          element.appendChild(docLink);\n",
              "        }\n",
              "      </script>\n",
              "    </div>\n",
              "  </div>\n",
              "  "
            ],
            "text/plain": [
              "   case_month  res_state  ...  death_yn  underlying_conditions_yn\n",
              "0         NaN        0.0  ...  0.467776                  0.311171\n",
              "1         NaN        0.0  ...  0.216703                  0.255061\n",
              "2         NaN        0.0  ...  0.007143                  0.142212\n",
              "3         NaN        1.0  ...  0.171073                  0.159393\n",
              "4         NaN        0.0  ...  0.137304                  0.132163\n",
              "\n",
              "[5 rows x 19 columns]"
            ]
          },
          "metadata": {},
          "execution_count": 93
        }
      ]
    },
    {
      "cell_type": "markdown",
      "source": [
        "Whats interesting here, is that most of the clusters are pretty evenly split. However, there appears to be one cluster which sticks out and contains all the NA's from res_state, state_fips codes, age, sex, most of race, and most of ethnicity. Most of the other columns are more spread out between the clusters. It would like make sense then to split our modeling. We can make one model that predicts based on res_state, state_fips codes, age, sex, most of race, and ethnicity, since we can expect most of those columns to be complete where the others are complete. We can then place the rest of the columns in another model. In this way we can minimize the total amount of imputation we have to rely on, should we choose to rely on that. We can also consider not doing imputation and just running the two models where we have data."
      ],
      "metadata": {
        "id": "8iCPRzBWsv2O"
      }
    },
    {
      "cell_type": "markdown",
      "source": [
        "We'll need a method for imputting random features into the dataset"
      ],
      "metadata": {
        "id": "iTQxfljkvkEC"
      }
    },
    {
      "cell_type": "code",
      "source": [
        "def randomiseMissingData(df):\n",
        "    import random\n",
        "    \"randomise missing data for DataFrame (within a column)\"\n",
        "    # df = df2.copy()\n",
        "    for col in df.columns:\n",
        "        data = df[col]\n",
        "        mask = data.isnull()\n",
        "        samples = random.choices( data[~mask].values , k = mask.sum() )\n",
        "        df.loc[mask,col] = samples\n",
        "    return df"
      ],
      "metadata": {
        "id": "tvfFl9A9_2S0"
      },
      "execution_count": 95,
      "outputs": []
    },
    {
      "cell_type": "code",
      "source": [
        ""
      ],
      "metadata": {
        "id": "MjrlY-MhJCL1"
      },
      "execution_count": 96,
      "outputs": []
    },
    {
      "cell_type": "code",
      "source": [
        "train.columns"
      ],
      "metadata": {
        "id": "mav8hZxwxV29",
        "outputId": "4126631d-f7c7-46f4-d676-dde8d4809245",
        "colab": {
          "base_uri": "https://localhost:8080/"
        }
      },
      "execution_count": 107,
      "outputs": [
        {
          "output_type": "execute_result",
          "data": {
            "text/plain": [
              "Index(['case_month', 'res_state', 'state_fips_code', 'res_county',\n",
              "       'county_fips_code', 'age_group', 'sex', 'race', 'ethnicity',\n",
              "       'case_positive_specimen_interval', 'case_onset_interval', 'process',\n",
              "       'exposure_yn', 'labconfirmed_yn', 'symptomatic_yn', 'hosp_yn', 'icu_yn',\n",
              "       'death_yn', 'underlying_conditions_yn'],\n",
              "      dtype='object')"
            ]
          },
          "metadata": {},
          "execution_count": 107
        }
      ]
    },
    {
      "cell_type": "code",
      "source": [
        "small_cluster_train = train[identified_clusters != 3]\n",
        "small_cluster_train = small_cluster_train[['case_month','res_state','age_group','sex','race','ethnicity']]\n",
        "small_cluster_train\t = randomiseMissingData(small_cluster_train)\n",
        "small_cluster_train = pd.get_dummies(small_cluster_train)\t \n",
        "small_cluster_train = small_cluster_train[train['death_yn'].notnull()]"
      ],
      "metadata": {
        "id": "NNeU-51tvyOp",
        "outputId": "b7be0859-21a8-41c4-d8e3-4d60195aa738",
        "colab": {
          "base_uri": "https://localhost:8080/"
        }
      },
      "execution_count": 115,
      "outputs": [
        {
          "output_type": "stream",
          "name": "stderr",
          "text": [
            "/usr/local/lib/python3.7/dist-packages/ipykernel_launcher.py:5: UserWarning: Boolean Series key will be reindexed to match DataFrame index.\n",
            "  \"\"\"\n"
          ]
        }
      ]
    },
    {
      "cell_type": "code",
      "source": [
        "y = train[identified_clusters != 3]['death_yn'][train[identified_clusters != 3]['death_yn'].notnull()]"
      ],
      "metadata": {
        "id": "LfzXMmSEzCJr"
      },
      "execution_count": 119,
      "outputs": []
    },
    {
      "cell_type": "code",
      "source": [
        "print(len(y))\n",
        "print(len(small_cluster_train))"
      ],
      "metadata": {
        "id": "gfhpuYzu0o81",
        "outputId": "b93c35c9-3c6c-4da7-b8e2-809069d409c6",
        "colab": {
          "base_uri": "https://localhost:8080/"
        }
      },
      "execution_count": 120,
      "outputs": [
        {
          "output_type": "stream",
          "name": "stdout",
          "text": [
            "11545647\n",
            "11545647\n"
          ]
        }
      ]
    },
    {
      "cell_type": "code",
      "source": [
        "from sklearn.tree import DecisionTreeClassifier\n",
        "from sklearn.ensemble import BaggingClassifier\n",
        "\n",
        "tree = DecisionTreeClassifier()\n",
        "bag = BaggingClassifier(tree, n_estimators=100, max_samples=0.8,\n",
        "                        random_state=1)\n",
        "\n",
        "bag.fit(small_cluster_train, y)"
      ],
      "metadata": {
        "id": "NJ_nkHp3FOwy"
      },
      "execution_count": null,
      "outputs": []
    },
    {
      "cell_type": "code",
      "source": [
        "fill_test = randomiseMissingData(test)\n",
        "# test_X = fill_test.drop(['death_yn'], inplace=False, axis=1)\n",
        "test_X = pd.get_dummies(fill_test)\n"
      ],
      "metadata": {
        "id": "dky_sq54H3JO"
      },
      "execution_count": null,
      "outputs": []
    },
    {
      "cell_type": "code",
      "source": [
        "bag.predict(test_X)"
      ],
      "metadata": {
        "id": "yW-AbIrmFtKn"
      },
      "execution_count": null,
      "outputs": []
    },
    {
      "cell_type": "code",
      "execution_count": null,
      "metadata": {
        "collapsed": true,
        "id": "1MSR1PP0E-Eg"
      },
      "outputs": [],
      "source": [
        "from sklearn.datasets import make_blobs\n",
        "\n",
        "X, y = make_blobs(n_samples=300, centers=4,\n",
        "                  random_state=0, cluster_std=1.0)"
      ]
    },
    {
      "cell_type": "code",
      "source": [
        "y"
      ],
      "metadata": {
        "id": "K18wTVD5Fj0U"
      },
      "execution_count": null,
      "outputs": []
    },
    {
      "cell_type": "code",
      "source": [
        "\n",
        "df[\"column\"].fillna(lambda x: random.choice(df[df[column] != np.nan][\"column\"]), inplace =True)\n"
      ],
      "metadata": {
        "id": "PLLa3GM4_AyE"
      },
      "execution_count": null,
      "outputs": []
    },
    {
      "cell_type": "code",
      "source": [
        "train_small[\"column\"].fillna(lambda x: random.choice(df[df[column] != np.nan][\"column\"]), inplace =True)\n"
      ],
      "metadata": {
        "id": "SN7IfGGH-gUM"
      },
      "execution_count": null,
      "outputs": []
    },
    {
      "cell_type": "code",
      "source": [
        "print(train_na)"
      ],
      "metadata": {
        "id": "9_ZsS5_v5dds"
      },
      "execution_count": null,
      "outputs": []
    },
    {
      "cell_type": "code",
      "source": [
        "test_na = test.dropna(axis = 0, how = 'any', inplace = True)"
      ],
      "metadata": {
        "id": "DSPBsSS0cdTg"
      },
      "execution_count": null,
      "outputs": []
    },
    {
      "cell_type": "code",
      "source": [
        "print(test_na)"
      ],
      "metadata": {
        "id": "gU8bPJjY5nqg"
      },
      "execution_count": null,
      "outputs": []
    },
    {
      "cell_type": "markdown",
      "source": [
        "So you can immediately notice some pretty big differences between the two dataset. Firstly, more counties and states in training than test. Probably a true random sample (which could mean that some rare counties or combinations of groups don't exist in the validation set). Same with sex, pretty big difference between the two. However thats a little weirder because there so many. The two ratios should be much closer than that."
      ],
      "metadata": {
        "id": "TfNo6s8Rdbsv"
      }
    },
    {
      "cell_type": "code",
      "source": [
        "# Example code for training model and creating submission file.\n",
        "# Author: Peter Sadowski Jan 22 2022\n",
        "import numpy as np\n",
        "import pandas as pd\n",
        "import matplotlib.pylab as plt\n",
        "from sklearn.preprocessing import OneHotEncoder\n",
        "from sklearn.linear_model import LogisticRegression\n",
        "\n",
        "# Load training data.\n",
        "df_train = pd.read_csv('./train_small.csv.zip') # Can read from zip files directly.\n",
        "df_train = df_train.replace({'death_yn':{np.nan:0}}) # Assume no info means survived.\n",
        "y = df_train['death_yn']\n",
        "\n",
        "# Load test data.\n",
        "df_test = pd.read_csv('./test.csv.zip')\n",
        "\n",
        "# Encode state variable as one-hot. \n",
        "enc = OneHotEncoder(handle_unknown='ignore', sparse=False)\n",
        "enc.fit(df_train[['res_state']])\n",
        "state_train = enc.transform(df_train[['res_state']])\n",
        "state_test = enc.transform(df_test[['res_state']])\n",
        "\n",
        "# Combine this with whether patient went to ICU.\n",
        "X = np.concatenate([df_train[['icu_yn']]==1, state_train], axis=1)\n",
        "X_test = np.concatenate([df_test[['icu_yn']] == 1, state_test], axis=1)\n",
        "\n",
        "# Make predictions based on whether patient went to ICU, and their state.\n",
        "model = LogisticRegression()\n",
        "model.fit(X,y)\n",
        "ypred = model.predict_proba(X_test)[:,1]\n",
        "print(f'Model coefficients: {model.coef_}')\n",
        "\n",
        "# Create submission file.\n",
        "submission = pd.DataFrame(ypred, columns=['prediction']) # Create new dataframe.\n",
        "submission['Id'] = submission.index  # Kaggle expects two columns: Id, prediction.\n",
        "submission.to_csv('sample_submission.csv', index=False)\n",
        "\n",
        "import matplotlib.pylab as plt\n",
        "plt.hist(ypred, bins=100);"
      ],
      "metadata": {
        "id": "CBz09mTLWJ1Q"
      },
      "execution_count": null,
      "outputs": []
    },
    {
      "cell_type": "code",
      "source": [
        "submission\n",
        "!kaggle competitions submit covid-19-risk-2022 -f sample_submission.csv -m 'Heres Johnny'\n"
      ],
      "metadata": {
        "id": "GVoOaCANWUF7"
      },
      "execution_count": null,
      "outputs": []
    },
    {
      "metadata": {
        "id": "SxdB6P_ulkfa"
      },
      "cell_type": "markdown",
      "source": [
        "## Uploading a Colab notebook to Kaggle Kernels\n",
        "\n",
        "Bear with us, as this is a little round-about..."
      ]
    },
    {
      "metadata": {
        "id": "o-NDs2dImDG0"
      },
      "cell_type": "markdown",
      "source": [
        "### Downloading a notebook from Colab\n",
        "\n",
        "To download from Colab, use **File** | **Download .ipynb**"
      ]
    },
    {
      "cell_type": "code",
      "source": [
        "# user = \"ics435\"\n",
        "# repo = \"ps1-numpy-seismosmsr\"\n",
        "# src_dir = \"master\"\n",
        "# pyfile = \"kaggle_api_in_colab.ipynb\"\n",
        "# raw_git = 'https://raw.githubusercontent.com/seismosmsr/machine_learning/main/kaggle_api_in_colab.ipynb'\n",
        "\n",
        "# url = f\"{raw_git}\"\n",
        "\n",
        "# !wget --no-cache --backups=1 {url} -o submission.ipynb"
      ],
      "metadata": {
        "id": "qAYSRjCE_IyH"
      },
      "execution_count": null,
      "outputs": []
    },
    {
      "metadata": {
        "id": "zUMAuin2mbbW"
      },
      "cell_type": "markdown",
      "source": [
        "### Then upload the notebook to your Colab runtime"
      ]
    },
    {
      "cell_type": "code",
      "source": [
        "# # uploaded = files.upload()\n",
        "# notebook_path = '/content/kaggle_api_in_colab.ipynb'"
      ],
      "metadata": {
        "id": "tL6TK3xxwqjY"
      },
      "execution_count": null,
      "outputs": []
    },
    {
      "metadata": {
        "id": "qox_MozfmF2Y"
      },
      "cell_type": "code",
      "source": [
        "# uploaded = files.upload()\n",
        "# notebook_path = list(uploaded.keys())[0]"
      ],
      "execution_count": null,
      "outputs": []
    },
    {
      "metadata": {
        "id": "7BT_rPcuoMsd"
      },
      "cell_type": "code",
      "source": [
        "# !mkdir -p export\n",
        "# !mv $notebook_path export/\n",
        "# !kaggle kernels init -p export"
      ],
      "execution_count": null,
      "outputs": []
    },
    {
      "metadata": {
        "id": "Ls0Umf85q9UE"
      },
      "cell_type": "code",
      "source": [
        "# import re\n",
        "# import random\n",
        "# your_kaggle_username = 'Aron Boettcher'\n",
        "# notebook_title = 'Test Kernel ' + str(random.randint(1,100))\n",
        "# new_kernel_slug = re.sub(r'[^a-z0-9]+', '-', notebook_title.lower())\n",
        "# notebook_path = 'kaggle_api_in_colab.ipynb'"
      ],
      "execution_count": null,
      "outputs": []
    },
    {
      "metadata": {
        "id": "rp62OpkCo5D3"
      },
      "cell_type": "code",
      "source": [
        "# # Documented here: https://github.com/Kaggle/kaggle-api/wiki/Kernel-Metadata\n",
        "# metadata = '''\n",
        "# {\n",
        "#   \"id\": \"%s/%s\",\n",
        "#   \"title\": \"%s\",\n",
        "#   \"code_file\": \"%s\",\n",
        "#   \"language\": \"python\",\n",
        "#   \"kernel_type\": \"notebook\",\n",
        "#   \"is_private\": \"true\",\n",
        "#   \"enable_gpu\": \"false\",\n",
        "#   \"enable_internet\": \"true\",\n",
        "#   \"dataset_sources\": [],\n",
        "#   \"competition_sources\": [],\n",
        "#   \"kernel_sources\": []\n",
        "# }\n",
        "# ''' % (your_kaggle_username, new_kernel_slug, notebook_title, notebook_path)"
      ],
      "execution_count": null,
      "outputs": []
    },
    {
      "metadata": {
        "id": "PyX-cbzIoj-V"
      },
      "cell_type": "code",
      "source": [
        "# !echo '$metadata' > export/kernel-metadata.json\n",
        "# !cat export/kernel-metadata.json"
      ],
      "execution_count": null,
      "outputs": []
    },
    {
      "metadata": {
        "id": "VDP5xJPklqYk"
      },
      "cell_type": "code",
      "source": [
        "# !kaggle kernels push -p export"
      ],
      "execution_count": null,
      "outputs": []
    },
    {
      "cell_type": "code",
      "source": [
        "# the functions:\n",
        "def stratified_sample(df, strata, size=None, seed=None, keep_index= True):\n",
        "    '''\n",
        "    It samples data from a pandas dataframe using strata. These functions use\n",
        "    proportionate stratification:\n",
        "    n1 = (N1/N) * n\n",
        "    where:\n",
        "        - n1 is the sample size of stratum 1\n",
        "        - N1 is the population size of stratum 1\n",
        "        - N is the total population size\n",
        "        - n is the sampling size\n",
        "    Parameters\n",
        "    ----------\n",
        "    :df: pandas dataframe from which data will be sampled.\n",
        "    :strata: list containing columns that will be used in the stratified sampling.\n",
        "    :size: sampling size. If not informed, a sampling size will be calculated\n",
        "        using Cochran adjusted sampling formula:\n",
        "        cochran_n = (Z**2 * p * q) /e**2\n",
        "        where:\n",
        "            - Z is the z-value. In this case we use 1.96 representing 95%\n",
        "            - p is the estimated proportion of the population which has an\n",
        "                attribute. In this case we use 0.5\n",
        "            - q is 1-p\n",
        "            - e is the margin of error\n",
        "        This formula is adjusted as follows:\n",
        "        adjusted_cochran = cochran_n / 1+((cochran_n -1)/N)\n",
        "        where:\n",
        "            - cochran_n = result of the previous formula\n",
        "            - N is the population size\n",
        "    :seed: sampling seed\n",
        "    :keep_index: if True, it keeps a column with the original population index indicator\n",
        "    \n",
        "    Returns\n",
        "    -------\n",
        "    A sampled pandas dataframe based in a set of strata.\n",
        "    Examples\n",
        "    --------\n",
        "    >> df.head()\n",
        "    \tid  sex age city \n",
        "    0\t123 M   20  XYZ\n",
        "    1\t456 M   25  XYZ\n",
        "    2\t789 M   21  YZX\n",
        "    3\t987 F   40  ZXY\n",
        "    4\t654 M   45  ZXY\n",
        "    ...\n",
        "    # This returns a sample stratified by sex and city containing 30% of the size of\n",
        "    # the original data\n",
        "    >> stratified = stratified_sample(df=df, strata=['sex', 'city'], size=0.3)\n",
        "    Requirements\n",
        "    ------------\n",
        "    - pandas\n",
        "    - numpy\n",
        "    '''\n",
        "    population = len(df)\n",
        "    size = __smpl_size(population, size)\n",
        "    tmp = df[strata]\n",
        "    tmp['size'] = 1\n",
        "    tmp_grpd = tmp.groupby(strata).count().reset_index()\n",
        "    tmp_grpd['samp_size'] = round(size/population * tmp_grpd['size']).astype(int)\n",
        "\n",
        "    # controlling variable to create the dataframe or append to it\n",
        "    first = True \n",
        "    for i in range(len(tmp_grpd)):\n",
        "        # query generator for each iteration\n",
        "        qry=''\n",
        "        for s in range(len(strata)):\n",
        "            stratum = strata[s]\n",
        "            value = tmp_grpd.iloc[i][stratum]\n",
        "            n = tmp_grpd.iloc[i]['samp_size']\n",
        "\n",
        "            if type(value) == str:\n",
        "                value = \"'\" + str(value) + \"'\"\n",
        "            \n",
        "            if s != len(strata)-1:\n",
        "                qry = qry + stratum + ' == ' + str(value) +' & '\n",
        "            else:\n",
        "                qry = qry + stratum + ' == ' + str(value)\n",
        "        \n",
        "        # final dataframe\n",
        "        if first:\n",
        "            stratified_df = df.query(qry).sample(n=n, random_state=seed).reset_index(drop=(not keep_index))\n",
        "            first = False\n",
        "        else:\n",
        "            tmp_df = df.query(qry).sample(n=n, random_state=seed).reset_index(drop=(not keep_index))\n",
        "            stratified_df = stratified_df.append(tmp_df, ignore_index=True)\n",
        "    \n",
        "    return stratified_df\n",
        "\n",
        "\n",
        "\n",
        "def stratified_sample_report(df, strata, size=None):\n",
        "    '''\n",
        "    Generates a dataframe reporting the counts in each stratum and the counts\n",
        "    for the final sampled dataframe.\n",
        "    Parameters\n",
        "    ----------\n",
        "    :df: pandas dataframe from which data will be sampled.\n",
        "    :strata: list containing columns that will be used in the stratified sampling.\n",
        "    :size: sampling size. If not informed, a sampling size will be calculated\n",
        "        using Cochran adjusted sampling formula:\n",
        "        cochran_n = (Z**2 * p * q) /e**2\n",
        "        where:\n",
        "            - Z is the z-value. In this case we use 1.96 representing 95%\n",
        "            - p is the estimated proportion of the population which has an\n",
        "                attribute. In this case we use 0.5\n",
        "            - q is 1-p\n",
        "            - e is the margin of error\n",
        "        This formula is adjusted as follows:\n",
        "        adjusted_cochran = cochran_n / 1+((cochran_n -1)/N)\n",
        "        where:\n",
        "            - cochran_n = result of the previous formula\n",
        "            - N is the population size\n",
        "    Returns\n",
        "    -------\n",
        "    A dataframe reporting the counts in each stratum and the counts\n",
        "    for the final sampled dataframe.\n",
        "    '''\n",
        "    population = len(df)\n",
        "    size = __smpl_size(population, size)\n",
        "    tmp = df[strata]\n",
        "    tmp['size'] = 1\n",
        "    tmp_grpd = tmp.groupby(strata).count().reset_index()\n",
        "    tmp_grpd['samp_size'] = round(size/population * tmp_grpd['size']).astype(int)\n",
        "    return tmp_grpd\n",
        "\n",
        "\n",
        "def __smpl_size(population, size):\n",
        "    '''\n",
        "    A function to compute the sample size. If not informed, a sampling \n",
        "    size will be calculated using Cochran adjusted sampling formula:\n",
        "        cochran_n = (Z**2 * p * q) /e**2\n",
        "        where:\n",
        "            - Z is the z-value. In this case we use 1.96 representing 95%\n",
        "            - p is the estimated proportion of the population which has an\n",
        "                attribute. In this case we use 0.5\n",
        "            - q is 1-p\n",
        "            - e is the margin of error\n",
        "        This formula is adjusted as follows:\n",
        "        adjusted_cochran = cochran_n / 1+((cochran_n -1)/N)\n",
        "        where:\n",
        "            - cochran_n = result of the previous formula\n",
        "            - N is the population size\n",
        "    Parameters\n",
        "    ----------\n",
        "        :population: population size\n",
        "        :size: sample size (default = None)\n",
        "    Returns\n",
        "    -------\n",
        "    Calculated sample size to be used in the functions:\n",
        "        - stratified_sample\n",
        "        - stratified_sample_report\n",
        "    '''\n",
        "    if size is None:\n",
        "        cochran_n = round(((1.96)**2 * 0.5 * 0.5)/ 0.02**2)\n",
        "        n = round(cochran_n/(1+((cochran_n -1) /population)))\n",
        "    elif size >= 0 and size < 1:\n",
        "        n = round(population * size)\n",
        "    elif size < 0:\n",
        "        raise ValueError('Parameter \"size\" must be an integer or a proportion between 0 and 0.99.')\n",
        "    elif size >= 1:\n",
        "        n = size\n",
        "    return n\n"
      ],
      "metadata": {
        "id": "6ld6m5ouSA7o"
      },
      "execution_count": null,
      "outputs": []
    }
  ]
}
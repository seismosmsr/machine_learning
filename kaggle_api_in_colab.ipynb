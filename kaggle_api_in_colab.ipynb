{
  "nbformat": 4,
  "nbformat_minor": 0,
  "metadata": {
    "colab": {
      "name": "How to use the Kaggle API from Colab",
      "provenance": [],
      "collapsed_sections": [],
      "machine_shape": "hm",
      "include_colab_link": true
    },
    "kernelspec": {
      "name": "python3",
      "display_name": "Python 3"
    },
    "accelerator": "GPU"
  },
  "cells": [
    {
      "cell_type": "markdown",
      "metadata": {
        "id": "view-in-github",
        "colab_type": "text"
      },
      "source": [
        "<a href=\"https://colab.research.google.com/github/seismosmsr/machine_learning/blob/main/kaggle_api_in_colab.ipynb\" target=\"_parent\"><img src=\"https://colab.research.google.com/assets/colab-badge.svg\" alt=\"Open In Colab\"/></a>"
      ]
    },
    {
      "metadata": {
        "id": "DIf2PtekjPtY"
      },
      "cell_type": "markdown",
      "source": [
        "# Installing the [Kaggle API](https://github.com/Kaggle/kaggle-api) in Colab"
      ]
    },
    {
      "metadata": {
        "id": "OppyMnCuWjzJ",
        "colab": {
          "base_uri": "https://localhost:8080/"
        },
        "outputId": "c55c4f89-7aff-4e60-f5a5-61ac4880fafe"
      },
      "cell_type": "code",
      "source": [
        "!pip install kaggle\n",
        "# !pip install google\n",
        "!conda install -y gdown"
      ],
      "execution_count": 16,
      "outputs": [
        {
          "output_type": "stream",
          "name": "stdout",
          "text": [
            "Requirement already satisfied: kaggle in /usr/local/lib/python3.7/dist-packages (1.5.12)\n",
            "Requirement already satisfied: six>=1.10 in /usr/local/lib/python3.7/dist-packages (from kaggle) (1.15.0)\n",
            "Requirement already satisfied: python-dateutil in /usr/local/lib/python3.7/dist-packages (from kaggle) (2.8.2)\n",
            "Requirement already satisfied: requests in /usr/local/lib/python3.7/dist-packages (from kaggle) (2.23.0)\n",
            "Requirement already satisfied: python-slugify in /usr/local/lib/python3.7/dist-packages (from kaggle) (5.0.2)\n",
            "Requirement already satisfied: urllib3 in /usr/local/lib/python3.7/dist-packages (from kaggle) (1.24.3)\n",
            "Requirement already satisfied: certifi in /usr/local/lib/python3.7/dist-packages (from kaggle) (2021.10.8)\n",
            "Requirement already satisfied: tqdm in /usr/local/lib/python3.7/dist-packages (from kaggle) (4.62.3)\n",
            "Requirement already satisfied: text-unidecode>=1.3 in /usr/local/lib/python3.7/dist-packages (from python-slugify->kaggle) (1.3)\n",
            "Requirement already satisfied: idna<3,>=2.5 in /usr/local/lib/python3.7/dist-packages (from requests->kaggle) (2.10)\n",
            "Requirement already satisfied: chardet<4,>=3.0.2 in /usr/local/lib/python3.7/dist-packages (from requests->kaggle) (3.0.4)\n",
            "/bin/bash: conda: command not found\n"
          ]
        }
      ]
    },
    {
      "metadata": {
        "id": "hMY4CFezjcG-"
      },
      "cell_type": "markdown",
      "source": [
        "# Authenticating with Kaggle using kaggle.json\n",
        "\n",
        "Navigate to https://www.kaggle.com. Then go to the [Account tab of your user profile](https://www.kaggle.com/me/account) and select Create API Token. This will trigger the download of kaggle.json, a file containing your API credentials.\n",
        "\n",
        "Then run the cell below to upload kaggle.json to your Colab runtime."
      ]
    },
    {
      "metadata": {
        "id": "0HtGf0HEXEa5",
        "outputId": "33c29a00-59c1-4ec0-b0b6-23d81fdc7662",
        "colab": {
          "base_uri": "https://localhost:8080/"
        }
      },
      "cell_type": "code",
      "source": [
        "# from google.colab import files\n",
        "import gdown\n",
        "!gdown --id 1sD1x-nf2nXNNDFD3zdPKvOKM2wGSWcSP\n",
        "# uploaded = files.upload()\n",
        "\n",
        "# for fn in uploaded.keys():\n",
        "#   print('User uploaded file \"{name}\" with length {length} bytes'.format(\n",
        "#       name=fn, length=len(uploaded[fn])))\n",
        "  \n",
        "# Then move kaggle.json into the folder where the API expects to find it.\n",
        "!mkdir -p ~/.kaggle/ && mv kaggle.json ~/.kaggle/ && chmod 600 ~/.kaggle/kaggle.json"
      ],
      "execution_count": 17,
      "outputs": [
        {
          "output_type": "stream",
          "name": "stdout",
          "text": [
            "Downloading...\n",
            "From: https://drive.google.com/uc?id=1sD1x-nf2nXNNDFD3zdPKvOKM2wGSWcSP\n",
            "To: /content/kaggle.json\n",
            "\r  0% 0.00/69.0 [00:00<?, ?B/s]\r100% 69.0/69.0 [00:00<00:00, 61.9kB/s]\n"
          ]
        }
      ]
    },
    {
      "metadata": {
        "id": "HMk7Zz4ZkpCe"
      },
      "cell_type": "markdown",
      "source": [
        "# Using the Kaggle API\n",
        "\n",
        "For a more complete list of what you can do with the API, visit https://github.com/Kaggle/kaggle-api."
      ]
    },
    {
      "metadata": {
        "id": "SHVqmMXfilWG"
      },
      "cell_type": "markdown",
      "source": [
        "## Listing competitions"
      ]
    },
    {
      "metadata": {
        "id": "Oqt7Yfi5aQuM"
      },
      "cell_type": "code",
      "source": [
        "# !kaggle competitions list"
      ],
      "execution_count": 18,
      "outputs": []
    },
    {
      "metadata": {
        "id": "dNke00r6ig3h"
      },
      "cell_type": "markdown",
      "source": [
        "## Downloading a dataset"
      ]
    },
    {
      "cell_type": "code",
      "source": [
        "# kaggle competitions download -c covid-19-risk-2022"
      ],
      "metadata": {
        "id": "-lm_bAoYzYNI"
      },
      "execution_count": 19,
      "outputs": []
    },
    {
      "metadata": {
        "id": "Aojvqv8Gaf8I",
        "colab": {
          "base_uri": "https://localhost:8080/"
        },
        "outputId": "ae175842-7244-4692-c6ef-6ad1f07ce1d0"
      },
      "cell_type": "code",
      "source": [
        "!kaggle competitions download -c covid-19-risk-2022"
      ],
      "execution_count": 20,
      "outputs": [
        {
          "output_type": "stream",
          "name": "stdout",
          "text": [
            "Warning: Looks like you're using an outdated API Version, please consider updating (server 1.5.12 / client 1.5.4)\n",
            "test.csv.zip: Skipping, found more recently modified local copy (use --force to force download)\n",
            "example_submission.ipynb: Skipping, found more recently modified local copy (use --force to force download)\n",
            "train_small.csv.zip: Skipping, found more recently modified local copy (use --force to force download)\n",
            "train.csv.zip: Skipping, found more recently modified local copy (use --force to force download)\n"
          ]
        }
      ]
    },
    {
      "metadata": {
        "id": "DsyV01gDaxls",
        "colab": {
          "base_uri": "https://localhost:8080/"
        },
        "outputId": "d27258d4-dce7-4be9-ee51-848cdbbff7e9"
      },
      "cell_type": "code",
      "source": [
        "!unzip train.csv.zip\n",
        "\n",
        "!unzip test.csv.zip\n",
        "\n",
        "!unzip train_small.csv.zip"
      ],
      "execution_count": 21,
      "outputs": [
        {
          "output_type": "stream",
          "name": "stdout",
          "text": [
            "Archive:  train.csv.zip\n",
            "replace train.csv? [y]es, [n]o, [A]ll, [N]one, [r]ename: y\n",
            "  inflating: train.csv               y\n",
            "y\n",
            "\n",
            "Archive:  test.csv.zip\n",
            "replace test.csv? [y]es, [n]o, [A]ll, [N]one, [r]ename: y\n",
            "  inflating: test.csv                \n",
            "Archive:  train_small.csv.zip\n",
            "replace train_small.csv? [y]es, [n]o, [A]ll, [N]one, [r]ename: y\n",
            "  inflating: train_small.csv         \n"
          ]
        }
      ]
    },
    {
      "metadata": {
        "id": "L7ZmFbHybsPk",
        "outputId": "0c235502-fc83-4234-b00e-ca46cfc9b790",
        "colab": {
          "base_uri": "https://localhost:8080/",
          "height": 357
        }
      },
      "cell_type": "code",
      "source": [
        "import pandas as pd \n",
        "\n",
        "train_small = pd.read_csv('/content/train_small.csv')\n",
        "# train = pd.read_csv('/content/train.csv')\n",
        "# test = pd.read_csv('/content/test.csv')\n",
        "\n",
        "train_small.head()"
      ],
      "execution_count": 22,
      "outputs": [
        {
          "output_type": "stream",
          "name": "stderr",
          "text": [
            "/usr/local/lib/python3.7/dist-packages/IPython/core/interactiveshell.py:2718: DtypeWarning: Columns (14,16) have mixed types.Specify dtype option on import or set low_memory=False.\n",
            "  interactivity=interactivity, compiler=compiler, result=result)\n"
          ]
        },
        {
          "output_type": "execute_result",
          "data": {
            "text/html": [
              "\n",
              "  <div id=\"df-243b4484-db50-4f92-87b0-2fdcbc8dca4a\">\n",
              "    <div class=\"colab-df-container\">\n",
              "      <div>\n",
              "<style scoped>\n",
              "    .dataframe tbody tr th:only-of-type {\n",
              "        vertical-align: middle;\n",
              "    }\n",
              "\n",
              "    .dataframe tbody tr th {\n",
              "        vertical-align: top;\n",
              "    }\n",
              "\n",
              "    .dataframe thead th {\n",
              "        text-align: right;\n",
              "    }\n",
              "</style>\n",
              "<table border=\"1\" class=\"dataframe\">\n",
              "  <thead>\n",
              "    <tr style=\"text-align: right;\">\n",
              "      <th></th>\n",
              "      <th>case_month</th>\n",
              "      <th>res_state</th>\n",
              "      <th>state_fips_code</th>\n",
              "      <th>res_county</th>\n",
              "      <th>county_fips_code</th>\n",
              "      <th>age_group</th>\n",
              "      <th>sex</th>\n",
              "      <th>race</th>\n",
              "      <th>ethnicity</th>\n",
              "      <th>case_positive_specimen_interval</th>\n",
              "      <th>case_onset_interval</th>\n",
              "      <th>process</th>\n",
              "      <th>exposure_yn</th>\n",
              "      <th>labconfirmed_yn</th>\n",
              "      <th>symptomatic_yn</th>\n",
              "      <th>hosp_yn</th>\n",
              "      <th>icu_yn</th>\n",
              "      <th>death_yn</th>\n",
              "      <th>underlying_conditions_yn</th>\n",
              "    </tr>\n",
              "  </thead>\n",
              "  <tbody>\n",
              "    <tr>\n",
              "      <th>0</th>\n",
              "      <td>2021-09</td>\n",
              "      <td>NY</td>\n",
              "      <td>36.0</td>\n",
              "      <td>BRONX</td>\n",
              "      <td>36005.0</td>\n",
              "      <td>0 - 17 years</td>\n",
              "      <td>Male</td>\n",
              "      <td>NaN</td>\n",
              "      <td>NaN</td>\n",
              "      <td>0.0</td>\n",
              "      <td>NaN</td>\n",
              "      <td>Missing</td>\n",
              "      <td>NaN</td>\n",
              "      <td>1</td>\n",
              "      <td>0</td>\n",
              "      <td>NaN</td>\n",
              "      <td>NaN</td>\n",
              "      <td>NaN</td>\n",
              "      <td>NaN</td>\n",
              "    </tr>\n",
              "    <tr>\n",
              "      <th>1</th>\n",
              "      <td>2021-09</td>\n",
              "      <td>CA</td>\n",
              "      <td>6.0</td>\n",
              "      <td>SAN JOAQUIN</td>\n",
              "      <td>6077.0</td>\n",
              "      <td>18 to 49 years</td>\n",
              "      <td>Male</td>\n",
              "      <td>NaN</td>\n",
              "      <td>NaN</td>\n",
              "      <td>NaN</td>\n",
              "      <td>NaN</td>\n",
              "      <td>Missing</td>\n",
              "      <td>NaN</td>\n",
              "      <td>1</td>\n",
              "      <td>NaN</td>\n",
              "      <td>NaN</td>\n",
              "      <td>NaN</td>\n",
              "      <td>NaN</td>\n",
              "      <td>NaN</td>\n",
              "    </tr>\n",
              "    <tr>\n",
              "      <th>2</th>\n",
              "      <td>2021-09</td>\n",
              "      <td>MA</td>\n",
              "      <td>25.0</td>\n",
              "      <td>MIDDLESEX</td>\n",
              "      <td>25017.0</td>\n",
              "      <td>0 - 17 years</td>\n",
              "      <td>Female</td>\n",
              "      <td>Missing</td>\n",
              "      <td>Unknown</td>\n",
              "      <td>NaN</td>\n",
              "      <td>NaN</td>\n",
              "      <td>Missing</td>\n",
              "      <td>NaN</td>\n",
              "      <td>1</td>\n",
              "      <td>NaN</td>\n",
              "      <td>NaN</td>\n",
              "      <td>NaN</td>\n",
              "      <td>NaN</td>\n",
              "      <td>NaN</td>\n",
              "    </tr>\n",
              "    <tr>\n",
              "      <th>3</th>\n",
              "      <td>2021-09</td>\n",
              "      <td>PA</td>\n",
              "      <td>42.0</td>\n",
              "      <td>ERIE</td>\n",
              "      <td>42049.0</td>\n",
              "      <td>65+ years</td>\n",
              "      <td>Male</td>\n",
              "      <td>White</td>\n",
              "      <td>Non-Hispanic/Latino</td>\n",
              "      <td>0.0</td>\n",
              "      <td>0.0</td>\n",
              "      <td>Missing</td>\n",
              "      <td>1.0</td>\n",
              "      <td>1</td>\n",
              "      <td>1</td>\n",
              "      <td>0.0</td>\n",
              "      <td>0</td>\n",
              "      <td>0.0</td>\n",
              "      <td>NaN</td>\n",
              "    </tr>\n",
              "    <tr>\n",
              "      <th>4</th>\n",
              "      <td>2021-09</td>\n",
              "      <td>CA</td>\n",
              "      <td>6.0</td>\n",
              "      <td>KERN</td>\n",
              "      <td>6029.0</td>\n",
              "      <td>18 to 49 years</td>\n",
              "      <td>Male</td>\n",
              "      <td>Unknown</td>\n",
              "      <td>Unknown</td>\n",
              "      <td>NaN</td>\n",
              "      <td>NaN</td>\n",
              "      <td>Missing</td>\n",
              "      <td>NaN</td>\n",
              "      <td>1</td>\n",
              "      <td>NaN</td>\n",
              "      <td>NaN</td>\n",
              "      <td>NaN</td>\n",
              "      <td>NaN</td>\n",
              "      <td>NaN</td>\n",
              "    </tr>\n",
              "  </tbody>\n",
              "</table>\n",
              "</div>\n",
              "      <button class=\"colab-df-convert\" onclick=\"convertToInteractive('df-243b4484-db50-4f92-87b0-2fdcbc8dca4a')\"\n",
              "              title=\"Convert this dataframe to an interactive table.\"\n",
              "              style=\"display:none;\">\n",
              "        \n",
              "  <svg xmlns=\"http://www.w3.org/2000/svg\" height=\"24px\"viewBox=\"0 0 24 24\"\n",
              "       width=\"24px\">\n",
              "    <path d=\"M0 0h24v24H0V0z\" fill=\"none\"/>\n",
              "    <path d=\"M18.56 5.44l.94 2.06.94-2.06 2.06-.94-2.06-.94-.94-2.06-.94 2.06-2.06.94zm-11 1L8.5 8.5l.94-2.06 2.06-.94-2.06-.94L8.5 2.5l-.94 2.06-2.06.94zm10 10l.94 2.06.94-2.06 2.06-.94-2.06-.94-.94-2.06-.94 2.06-2.06.94z\"/><path d=\"M17.41 7.96l-1.37-1.37c-.4-.4-.92-.59-1.43-.59-.52 0-1.04.2-1.43.59L10.3 9.45l-7.72 7.72c-.78.78-.78 2.05 0 2.83L4 21.41c.39.39.9.59 1.41.59.51 0 1.02-.2 1.41-.59l7.78-7.78 2.81-2.81c.8-.78.8-2.07 0-2.86zM5.41 20L4 18.59l7.72-7.72 1.47 1.35L5.41 20z\"/>\n",
              "  </svg>\n",
              "      </button>\n",
              "      \n",
              "  <style>\n",
              "    .colab-df-container {\n",
              "      display:flex;\n",
              "      flex-wrap:wrap;\n",
              "      gap: 12px;\n",
              "    }\n",
              "\n",
              "    .colab-df-convert {\n",
              "      background-color: #E8F0FE;\n",
              "      border: none;\n",
              "      border-radius: 50%;\n",
              "      cursor: pointer;\n",
              "      display: none;\n",
              "      fill: #1967D2;\n",
              "      height: 32px;\n",
              "      padding: 0 0 0 0;\n",
              "      width: 32px;\n",
              "    }\n",
              "\n",
              "    .colab-df-convert:hover {\n",
              "      background-color: #E2EBFA;\n",
              "      box-shadow: 0px 1px 2px rgba(60, 64, 67, 0.3), 0px 1px 3px 1px rgba(60, 64, 67, 0.15);\n",
              "      fill: #174EA6;\n",
              "    }\n",
              "\n",
              "    [theme=dark] .colab-df-convert {\n",
              "      background-color: #3B4455;\n",
              "      fill: #D2E3FC;\n",
              "    }\n",
              "\n",
              "    [theme=dark] .colab-df-convert:hover {\n",
              "      background-color: #434B5C;\n",
              "      box-shadow: 0px 1px 3px 1px rgba(0, 0, 0, 0.15);\n",
              "      filter: drop-shadow(0px 1px 2px rgba(0, 0, 0, 0.3));\n",
              "      fill: #FFFFFF;\n",
              "    }\n",
              "  </style>\n",
              "\n",
              "      <script>\n",
              "        const buttonEl =\n",
              "          document.querySelector('#df-243b4484-db50-4f92-87b0-2fdcbc8dca4a button.colab-df-convert');\n",
              "        buttonEl.style.display =\n",
              "          google.colab.kernel.accessAllowed ? 'block' : 'none';\n",
              "\n",
              "        async function convertToInteractive(key) {\n",
              "          const element = document.querySelector('#df-243b4484-db50-4f92-87b0-2fdcbc8dca4a');\n",
              "          const dataTable =\n",
              "            await google.colab.kernel.invokeFunction('convertToInteractive',\n",
              "                                                     [key], {});\n",
              "          if (!dataTable) return;\n",
              "\n",
              "          const docLinkHtml = 'Like what you see? Visit the ' +\n",
              "            '<a target=\"_blank\" href=https://colab.research.google.com/notebooks/data_table.ipynb>data table notebook</a>'\n",
              "            + ' to learn more about interactive tables.';\n",
              "          element.innerHTML = '';\n",
              "          dataTable['output_type'] = 'display_data';\n",
              "          await google.colab.output.renderOutput(dataTable, element);\n",
              "          const docLink = document.createElement('div');\n",
              "          docLink.innerHTML = docLinkHtml;\n",
              "          element.appendChild(docLink);\n",
              "        }\n",
              "      </script>\n",
              "    </div>\n",
              "  </div>\n",
              "  "
            ],
            "text/plain": [
              "  case_month res_state  ...  death_yn underlying_conditions_yn\n",
              "0    2021-09        NY  ...       NaN                      NaN\n",
              "1    2021-09        CA  ...       NaN                      NaN\n",
              "2    2021-09        MA  ...       NaN                      NaN\n",
              "3    2021-09        PA  ...       0.0                      NaN\n",
              "4    2021-09        CA  ...       NaN                      NaN\n",
              "\n",
              "[5 rows x 19 columns]"
            ]
          },
          "metadata": {},
          "execution_count": 22
        }
      ]
    },
    {
      "metadata": {
        "id": "SxdB6P_ulkfa"
      },
      "cell_type": "markdown",
      "source": [
        "## Uploading a Colab notebook to Kaggle Kernels\n",
        "\n",
        "Bear with us, as this is a little round-about..."
      ]
    },
    {
      "metadata": {
        "id": "o-NDs2dImDG0"
      },
      "cell_type": "markdown",
      "source": [
        "### Downloading a notebook from Colab\n",
        "\n",
        "To download from Colab, use **File** | **Download .ipynb**"
      ]
    },
    {
      "cell_type": "code",
      "source": [
        "user = \"ics435\"\n",
        "repo = \"ps1-numpy-seismosmsr\"\n",
        "src_dir = \"master\"\n",
        "pyfile = \"kaggle_api_in_colab.ipynb\"\n",
        "raw_git = 'https://raw.githubusercontent.com/seismosmsr/machine_learning/main/kaggle_api_in_colab.ipynb'\n",
        "\n",
        "url = f\"{raw_git}\"\n",
        "\n",
        "!wget --no-cache --backups=1 {url} -o submission.ipynb"
      ],
      "metadata": {
        "id": "qAYSRjCE_IyH"
      },
      "execution_count": 23,
      "outputs": []
    },
    {
      "metadata": {
        "id": "zUMAuin2mbbW"
      },
      "cell_type": "markdown",
      "source": [
        "### Then upload the notebook to your Colab runtime"
      ]
    },
    {
      "cell_type": "code",
      "source": [
        "# uploaded = files.upload()\n",
        "notebook_path = '/content/kaggle_api_in_colab.ipynb'"
      ],
      "metadata": {
        "id": "tL6TK3xxwqjY"
      },
      "execution_count": 24,
      "outputs": []
    },
    {
      "metadata": {
        "id": "qox_MozfmF2Y"
      },
      "cell_type": "code",
      "source": [
        "# uploaded = files.upload()\n",
        "# notebook_path = list(uploaded.keys())[0]"
      ],
      "execution_count": 25,
      "outputs": []
    },
    {
      "metadata": {
        "id": "7BT_rPcuoMsd",
        "colab": {
          "base_uri": "https://localhost:8080/"
        },
        "outputId": "e4d81b4d-8c04-4840-d921-d5c11eb2f475"
      },
      "cell_type": "code",
      "source": [
        "!mkdir -p export\n",
        "!mv $notebook_path export/\n",
        "!kaggle kernels init -p export"
      ],
      "execution_count": 26,
      "outputs": [
        {
          "output_type": "stream",
          "name": "stdout",
          "text": [
            "Kernel metadata template written to: export/kernel-metadata.json\n"
          ]
        }
      ]
    },
    {
      "metadata": {
        "id": "Ls0Umf85q9UE"
      },
      "cell_type": "code",
      "source": [
        "import re\n",
        "import random\n",
        "your_kaggle_username = 'Aron Boettcher'\n",
        "notebook_title = 'Test Kernel ' + str(random.randint(1,100))\n",
        "new_kernel_slug = re.sub(r'[^a-z0-9]+', '-', notebook_title.lower())\n",
        "notebook_path = 'kaggle_api_in_colab.ipynb'"
      ],
      "execution_count": 27,
      "outputs": []
    },
    {
      "metadata": {
        "id": "rp62OpkCo5D3"
      },
      "cell_type": "code",
      "source": [
        "# Documented here: https://github.com/Kaggle/kaggle-api/wiki/Kernel-Metadata\n",
        "metadata = '''\n",
        "{\n",
        "  \"id\": \"%s/%s\",\n",
        "  \"title\": \"%s\",\n",
        "  \"code_file\": \"%s\",\n",
        "  \"language\": \"python\",\n",
        "  \"kernel_type\": \"notebook\",\n",
        "  \"is_private\": \"true\",\n",
        "  \"enable_gpu\": \"false\",\n",
        "  \"enable_internet\": \"true\",\n",
        "  \"dataset_sources\": [],\n",
        "  \"competition_sources\": [],\n",
        "  \"kernel_sources\": []\n",
        "}\n",
        "''' % (your_kaggle_username, new_kernel_slug, notebook_title, notebook_path)"
      ],
      "execution_count": 28,
      "outputs": []
    },
    {
      "metadata": {
        "id": "PyX-cbzIoj-V",
        "colab": {
          "base_uri": "https://localhost:8080/"
        },
        "outputId": "9f5bc1b2-2a85-43e5-9cdd-3d4f244e6bec"
      },
      "cell_type": "code",
      "source": [
        "!echo '$metadata' > export/kernel-metadata.json\n",
        "!cat export/kernel-metadata.json"
      ],
      "execution_count": 29,
      "outputs": [
        {
          "output_type": "stream",
          "name": "stdout",
          "text": [
            "\n",
            "{\n",
            "  \"id\": \"Aron Boettcher/test-kernel-89\",\n",
            "  \"title\": \"Test Kernel 89\",\n",
            "  \"code_file\": \"kaggle_api_in_colab.ipynb\",\n",
            "  \"language\": \"python\",\n",
            "  \"kernel_type\": \"notebook\",\n",
            "  \"is_private\": \"true\",\n",
            "  \"enable_gpu\": \"false\",\n",
            "  \"enable_internet\": \"true\",\n",
            "  \"dataset_sources\": [],\n",
            "  \"competition_sources\": [],\n",
            "  \"kernel_sources\": []\n",
            "}\n",
            "\n"
          ]
        }
      ]
    },
    {
      "metadata": {
        "id": "VDP5xJPklqYk",
        "colab": {
          "base_uri": "https://localhost:8080/"
        },
        "outputId": "da86d1e8-d31c-48cc-ac9b-cb8ba305b3cc"
      },
      "cell_type": "code",
      "source": [
        "!kaggle kernels push -p export"
      ],
      "execution_count": 30,
      "outputs": [
        {
          "output_type": "stream",
          "name": "stdout",
          "text": [
            "Warning: Looks like you're using an outdated API Version, please consider updating (server 1.5.12 / client 1.5.4)\n",
            "Kernel version 1 successfully pushed.  Please check progress at https://www.kaggle.com/aronboettcher/test-kernel-89\n"
          ]
        }
      ]
    }
  ]
}
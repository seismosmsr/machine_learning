{
  "nbformat": 4,
  "nbformat_minor": 0,
  "metadata": {
    "colab": {
      "provenance": [],
      "machine_shape": "hm",
      "authorship_tag": "ABX9TyOOZtTB3uU0jgipocU6oQrT",
      "include_colab_link": true
    },
    "kernelspec": {
      "name": "ir",
      "display_name": "R"
    },
    "language_info": {
      "name": "R"
    }
  },
  "cells": [
    {
      "cell_type": "markdown",
      "metadata": {
        "id": "view-in-github",
        "colab_type": "text"
      },
      "source": [
        "<a href=\"https://colab.research.google.com/github/seismosmsr/machine_learning/blob/main/gedi_analysis_HJA_9_14_2023.ipynb\" target=\"_parent\"><img src=\"https://colab.research.google.com/assets/colab-badge.svg\" alt=\"Open In Colab\"/></a>"
      ]
    },
    {
      "cell_type": "code",
      "source": [
        "install.packages('sf')\n",
        "install.packages('raster')\n",
        "install.packages('exactextractr')\n",
        "install.packages(\"googledrive\")\n",
        "install.packages(\"googletoken\")\n",
        "install.packages(\"DBI\")\n",
        "install.packages(\"RSQLite\")\n",
        "install.packages(\"RPostgreSQL\")"
      ],
      "metadata": {
        "colab": {
          "base_uri": "https://localhost:8080/"
        },
        "id": "rC3Pg61Wq8On",
        "outputId": "e1dae8bd-eeae-46ca-fe35-3651640d3330"
      },
      "execution_count": 1,
      "outputs": [
        {
          "output_type": "stream",
          "name": "stderr",
          "text": [
            "Installing package into ‘/usr/local/lib/R/site-library’\n",
            "(as ‘lib’ is unspecified)\n",
            "\n",
            "also installing the dependencies ‘proxy’, ‘e1071’, ‘wk’, ‘classInt’, ‘Rcpp’, ‘s2’, ‘units’\n",
            "\n",
            "\n",
            "Installing package into ‘/usr/local/lib/R/site-library’\n",
            "(as ‘lib’ is unspecified)\n",
            "\n",
            "also installing the dependencies ‘sp’, ‘terra’\n",
            "\n",
            "\n",
            "Installing package into ‘/usr/local/lib/R/site-library’\n",
            "(as ‘lib’ is unspecified)\n",
            "\n",
            "Installing package into ‘/usr/local/lib/R/site-library’\n",
            "(as ‘lib’ is unspecified)\n",
            "\n",
            "Installing package into ‘/usr/local/lib/R/site-library’\n",
            "(as ‘lib’ is unspecified)\n",
            "\n",
            "Warning message:\n",
            "“package ‘googletoken’ is not available for this version of R\n",
            "\n",
            "A version of this package for your version of R might be available elsewhere,\n",
            "see the ideas at\n",
            "https://cran.r-project.org/doc/manuals/r-patched/R-admin.html#Installing-packages”\n",
            "Installing package into ‘/usr/local/lib/R/site-library’\n",
            "(as ‘lib’ is unspecified)\n",
            "\n",
            "Installing package into ‘/usr/local/lib/R/site-library’\n",
            "(as ‘lib’ is unspecified)\n",
            "\n",
            "also installing the dependency ‘plogr’\n",
            "\n",
            "\n",
            "Installing package into ‘/usr/local/lib/R/site-library’\n",
            "(as ‘lib’ is unspecified)\n",
            "\n"
          ]
        }
      ]
    },
    {
      "cell_type": "code",
      "execution_count": 2,
      "metadata": {
        "colab": {
          "base_uri": "https://localhost:8080/"
        },
        "id": "ohy4torjkZq2",
        "outputId": "12fc3d4e-8aa0-45fa-d1d3-91020fb8e1bc"
      },
      "outputs": [
        {
          "output_type": "stream",
          "name": "stderr",
          "text": [
            "Linking to GEOS 3.10.2, GDAL 3.4.3, PROJ 8.2.1; sf_use_s2() is TRUE\n",
            "\n",
            "Loading required package: sp\n",
            "\n",
            "The legacy packages maptools, rgdal, and rgeos, underpinning the sp package,\n",
            "which was just loaded, will retire in October 2023.\n",
            "Please refer to R-spatial evolution reports for details, especially\n",
            "https://r-spatial.org/r/2023/05/15/evolution4.html.\n",
            "It may be desirable to make the sf package available;\n",
            "package maintainers should consider adding sf to Suggests:.\n",
            "The sp package is now running under evolution status 2\n",
            "     (status 2 uses the sf package in place of rgdal)\n",
            "\n"
          ]
        }
      ],
      "source": [
        "library(ggplot2)\n",
        "library(sf)\n",
        "library(magrittr)\n",
        "library(data.table)\n",
        "library(raster)\n",
        "library(exactextractr)\n",
        "library(googledrive)\n",
        "library(DBI)"
      ]
    },
    {
      "cell_type": "code",
      "source": [
        "# while(TRUE){}"
      ],
      "metadata": {
        "id": "neOkVr_mkd8m"
      },
      "execution_count": 3,
      "outputs": []
    },
    {
      "cell_type": "code",
      "source": [
        "# drive_deauth()\n",
        "# drive_auth(use_oob = TRUE, cache = FALSE)"
      ],
      "metadata": {
        "id": "hVkqfgfpnel2"
      },
      "execution_count": 4,
      "outputs": []
    },
    {
      "cell_type": "code",
      "source": [
        "# GEDI data\n",
        "# https://drive.google.com/file/d/14jTxo28D2bsC68EpVsbSaY7SpYM5MIA4/view?usp=drive_link\n",
        "\n",
        "# Landtrendr data\n",
        "# https://drive.google.com/file/d/1FrN1tUojGV80f3kDtmezsFsvLabIoGiW/view?usp=drive_link\n",
        "\n",
        "# HUC 8\n",
        "# https://drive.google.com/file/d/1r6CIYLOy01N8B1jc7Hr8AJUkA0jPXp9z/view?usp=drive_link\n",
        "\n",
        "# HUC 10\n",
        "# https://drive.google.com/file/d/1m86VWKw3nys-oY931eq9dC6xv0cEfs4a/view?usp=drive_link\n",
        "\n",
        "# HUC 12\n",
        "# https://drive.google.com/file/d/18ayVCWhBkP1Tb_wrWgPJea8vaWEiPgOL/view?usp=drive_link\n",
        "\n",
        "# GEDI vectorized by YOD, Queen's rule.\n",
        "# https://drive.google.com/file/d/1miOMqCh081yceVUfVVOL5JtxpKUgBO-2/view?usp=drive_link"
      ],
      "metadata": {
        "id": "O3df1Ii3npf3"
      },
      "execution_count": 5,
      "outputs": []
    },
    {
      "cell_type": "code",
      "source": [
        "drive_download(file = as_id('1FrN1tUojGV80f3kDtmezsFsvLabIoGiW'), path =  '/content/HJA_LandTrendr_84_23.tif', overwrite = FALSE)"
      ],
      "metadata": {
        "colab": {
          "base_uri": "https://localhost:8080/"
        },
        "id": "LUX0iDBQo3bB",
        "outputId": "74e7c178-7b53-4383-e14d-efb0e0f8b5d7"
      },
      "execution_count": 6,
      "outputs": [
        {
          "output_type": "stream",
          "name": "stderr",
          "text": [
            "\u001b[1m\u001b[22mIs it OK to cache OAuth access credentials in the folder \u001b[34m~/.cache/gargle\u001b[39m\n",
            "between R sessions?\n",
            "\u001b[1m1\u001b[22m: Yes\n",
            "\u001b[1m2\u001b[22m: No\n"
          ]
        },
        {
          "name": "stdout",
          "output_type": "stream",
          "text": [
            "Selection: 1\n"
          ]
        },
        {
          "output_type": "stream",
          "name": "stderr",
          "text": [
            "Please point your browser to the following url: \n",
            "\n",
            "https://accounts.google.com/o/oauth2/v2/auth?client_id=603366585132-frjlouoa3s2ono25d2l9ukvhlsrlnr7k.apps.googleusercontent.com&scope=https%3A%2F%2Fwww.googleapis.com%2Fauth%2Fdrive%20https%3A%2F%2Fwww.googleapis.com%2Fauth%2Fuserinfo.email&redirect_uri=https%3A%2F%2Fwww.tidyverse.org%2Fgoogle-callback%2F&response_type=code&state=0f95d0b293ef5923c0202bcb887512a5&access_type=offline&prompt=consent\n",
            "\n"
          ]
        },
        {
          "name": "stdout",
          "output_type": "stream",
          "text": [
            "Enter authorization code: eyJjb2RlIjoiNC8wQWRldTVCVVpWYkZVOWlnVXB4V3Y0RWdkM3FIdHJpd2JjdzZyM0tTSzdDbU8xRm9JQmE4Mk1JeDA3ampicE5ENl91dS0wQSIsInN0YXRlIjoiMGY5NWQwYjI5M2VmNTkyM2MwMjAyYmNiODg3NTEyYTUifQ==\n"
          ]
        },
        {
          "output_type": "stream",
          "name": "stderr",
          "text": [
            "File downloaded:\n",
            "\n",
            "• \u001b[36mHJA_LandTrendr_84_23_2.tif\u001b[39m \u001b[90m<id: 1FrN1tUojGV80f3kDtmezsFsvLabIoGiW>\u001b[39m\n",
            "\n",
            "Saved locally as:\n",
            "\n",
            "• \u001b[34m/content/HJA_LandTrendr_84_23.tif\u001b[39m\n",
            "\n"
          ]
        }
      ]
    },
    {
      "cell_type": "code",
      "source": [
        "drive_download(file = as_id('14jTxo28D2bsC68EpVsbSaY7SpYM5MIA4'), path =  '/content/HJA_gedi.gpkg', overwrite = TRUE)"
      ],
      "metadata": {
        "id": "p6BrSHZVpEnI",
        "outputId": "4d2d540b-cb3c-479a-bf08-cc0b6eaf62c2",
        "colab": {
          "base_uri": "https://localhost:8080/"
        }
      },
      "execution_count": 7,
      "outputs": [
        {
          "output_type": "stream",
          "name": "stderr",
          "text": [
            "File downloaded:\n",
            "\n",
            "• \u001b[36mHJA_GEDI_4.gpkg\u001b[39m \u001b[90m<id: 14jTxo28D2bsC68EpVsbSaY7SpYM5MIA4>\u001b[39m\n",
            "\n",
            "Saved locally as:\n",
            "\n",
            "• \u001b[34m/content/HJA_gedi.gpkg\u001b[39m\n",
            "\n"
          ]
        }
      ]
    },
    {
      "cell_type": "code",
      "source": [
        "drive_download(file = as_id('1r6CIYLOy01N8B1jc7Hr8AJUkA0jPXp9z'), path =  '/content/huc_8.gpkg', overwrite = TRUE)\n",
        "drive_download(file = as_id('1m86VWKw3nys-oY931eq9dC6xv0cEfs4a'), path =  '/content/huc_10.gpkg', overwrite = TRUE)\n",
        "drive_download(file = as_id('18ayVCWhBkP1Tb_wrWgPJea8vaWEiPgOL'), path =  '/content/huc_12.gpkg', overwrite = TRUE)"
      ],
      "metadata": {
        "id": "FCrU4s8erbks",
        "outputId": "ea945198-5622-42a5-ea9e-475d0c1c43e1",
        "colab": {
          "base_uri": "https://localhost:8080/"
        }
      },
      "execution_count": 8,
      "outputs": [
        {
          "output_type": "stream",
          "name": "stderr",
          "text": [
            "File downloaded:\n",
            "\n",
            "• \u001b[36mWBDHU8.gpkg\u001b[39m \u001b[90m<id: 1r6CIYLOy01N8B1jc7Hr8AJUkA0jPXp9z>\u001b[39m\n",
            "\n",
            "Saved locally as:\n",
            "\n",
            "• \u001b[34m/content/huc_8.gpkg\u001b[39m\n",
            "\n",
            "File downloaded:\n",
            "\n",
            "• \u001b[36mWBDHU10.gpkg\u001b[39m \u001b[90m<id: 1m86VWKw3nys-oY931eq9dC6xv0cEfs4a>\u001b[39m\n",
            "\n",
            "Saved locally as:\n",
            "\n",
            "• \u001b[34m/content/huc_10.gpkg\u001b[39m\n",
            "\n",
            "File downloaded:\n",
            "\n",
            "• \u001b[36mWBDHU12.gpkg\u001b[39m \u001b[90m<id: 18ayVCWhBkP1Tb_wrWgPJea8vaWEiPgOL>\u001b[39m\n",
            "\n",
            "Saved locally as:\n",
            "\n",
            "• \u001b[34m/content/huc_12.gpkg\u001b[39m\n",
            "\n"
          ]
        }
      ]
    },
    {
      "cell_type": "code",
      "source": [
        "# https://drive.google.com/file/d/1miOMqCh081yceVUfVVOL5JtxpKUgBO-2/view?usp=drive_link\n",
        "drive_download(file = as_id('1miOMqCh081yceVUfVVOL5JtxpKUgBO-2'), path =  '/content/gedi_vector.gpkg', overwrite = TRUE)"
      ],
      "metadata": {
        "id": "N4HyYrKXpvw0",
        "outputId": "3cb3395f-9457-4037-af1e-ec611af0e798",
        "colab": {
          "base_uri": "https://localhost:8080/"
        }
      },
      "execution_count": 9,
      "outputs": [
        {
          "output_type": "stream",
          "name": "stderr",
          "text": [
            "File downloaded:\n",
            "\n",
            "• \u001b[36myod_vector.gpkg\u001b[39m \u001b[90m<id: 1miOMqCh081yceVUfVVOL5JtxpKUgBO-2>\u001b[39m\n",
            "\n",
            "Saved locally as:\n",
            "\n",
            "• \u001b[34m/content/gedi_vector.gpkg\u001b[39m\n",
            "\n"
          ]
        }
      ]
    },
    {
      "cell_type": "code",
      "source": [
        "# https://drive.google.com/file/d/1qpVnW4V_qbE1rAR4wAq1yMNRIZniVFsa/view?usp=drive_link\n",
        "drive_download(file = as_id('1qpVnW4V_qbE1rAR4wAq1yMNRIZniVFsa'), path =  '/content/conus_2003.tif', overwrite = TRUE)"
      ],
      "metadata": {
        "id": "4nQRIAg6EU5c",
        "outputId": "4b31c146-17ca-4126-e493-25c0988d13a2",
        "colab": {
          "base_uri": "https://localhost:8080/"
        }
      },
      "execution_count": 10,
      "outputs": [
        {
          "output_type": "stream",
          "name": "stderr",
          "text": [
            "File downloaded:\n",
            "\n",
            "• \u001b[36mconus_forest_biomass_mg_per_ha.img\u001b[39m \u001b[90m<id: 1qpVnW4V_qbE1rAR4wAq1yMNRIZniVFsa>\u001b[39m\n",
            "\n",
            "Saved locally as:\n",
            "\n",
            "• \u001b[34m/content/conus_2003.tif\u001b[39m\n",
            "\n"
          ]
        }
      ]
    },
    {
      "cell_type": "code",
      "source": [
        "# https://drive.google.com/file/d/1X-D5SIaH18skJ5Wshzge1BxlvRZOOWCh/view?usp=drive_link\n",
        "\n",
        "drive_download(file = as_id('1X-D5SIaH18skJ5Wshzge1BxlvRZOOWCh'), path =  '/content/conus_2016.tif', overwrite = TRUE)"
      ],
      "metadata": {
        "id": "fes2c4X1Yi8L",
        "outputId": "1a487f81-f294-4564-bdd7-a6a811b61420",
        "colab": {
          "base_uri": "https://localhost:8080/"
        }
      },
      "execution_count": 11,
      "outputs": [
        {
          "output_type": "stream",
          "name": "stderr",
          "text": [
            "File downloaded:\n",
            "\n",
            "• \u001b[36mbiomass_k10_2016.tif\u001b[39m \u001b[90m<id: 1X-D5SIaH18skJ5Wshzge1BxlvRZOOWCh>\u001b[39m\n",
            "\n",
            "Saved locally as:\n",
            "\n",
            "• \u001b[34m/content/conus_2016.tif\u001b[39m\n",
            "\n"
          ]
        }
      ]
    },
    {
      "cell_type": "code",
      "source": [
        "# https://drive.google.com/file/d/1HGLy-drZfu5wmWW9xVbCkQjHGdqFbGF4/view?usp=drive_link\n",
        "\n",
        "drive_download(file = as_id('1HGLy-drZfu5wmWW9xVbCkQjHGdqFbGF4'), path =  '/content/hja_2008.tif', overwrite = TRUE)"
      ],
      "metadata": {
        "id": "JzNqFcUeO0-o",
        "outputId": "d2ac7d45-0dcf-4157-e816-0181a25d6fe7",
        "colab": {
          "base_uri": "https://localhost:8080/"
        }
      },
      "execution_count": 12,
      "outputs": [
        {
          "output_type": "stream",
          "name": "stderr",
          "text": [
            "File downloaded:\n",
            "\n",
            "• \u001b[36mAGLB_2008.tif\u001b[39m \u001b[90m<id: 1HGLy-drZfu5wmWW9xVbCkQjHGdqFbGF4>\u001b[39m\n",
            "\n",
            "Saved locally as:\n",
            "\n",
            "• \u001b[34m/content/hja_2008.tif\u001b[39m\n",
            "\n"
          ]
        }
      ]
    },
    {
      "cell_type": "code",
      "source": [
        "# https://drive.google.com/file/d/1MXa0GC0bWAbMSVpR7Gpc4cOFyCRxpJfI/view?usp=drive_link\n",
        "drive_download(file = as_id('1MXa0GC0bWAbMSVpR7Gpc4cOFyCRxpJfI'), path =  '/content/wnf_history.gpkg', overwrite = TRUE)\n",
        "\n",
        "# https://drive.google.com/file/d/1PFW8YtCJ-Afxb7XTM94j7IcZDQc6r3FS/view?usp=drive_link\n",
        "drive_download(file = as_id('1PFW8YtCJ-Afxb7XTM94j7IcZDQc6r3FS'), path =  '/content/fire_history.gpkg', overwrite = TRUE)\n",
        "\n",
        "# https://drive.google.com/file/d/1igHhc0FY2TBm7DMHNWMoqTbLHv2qvgms/view?usp=drive_link\n",
        "drive_download(file = as_id('1igHhc0FY2TBm7DMHNWMoqTbLHv2qvgms'), path =  '/content/harvest_history.gpkg', overwrite = TRUE)\n",
        "\n",
        "# https://drive.google.com/file/d/1XluoE3kGZ1u5-az0EmimhRpe__qzApM4/view?usp=drive_link\n",
        "drive_download(file = as_id('1XluoE3kGZ1u5-az0EmimhRpe__qzApM4'), path =  '/content/aoi_boundary.geojson', overwrite = TRUE)"
      ],
      "metadata": {
        "id": "weLodNamLqQP",
        "outputId": "1676dc64-1bf0-4415-adac-78bb3444ee68",
        "colab": {
          "base_uri": "https://localhost:8080/"
        }
      },
      "execution_count": 13,
      "outputs": [
        {
          "output_type": "stream",
          "name": "stderr",
          "text": [
            "File downloaded:\n",
            "\n",
            "• \u001b[36mclip_wnfveg6.gpkg\u001b[39m \u001b[90m<id: 1MXa0GC0bWAbMSVpR7Gpc4cOFyCRxpJfI>\u001b[39m\n",
            "\n",
            "Saved locally as:\n",
            "\n",
            "• \u001b[34m/content/wnf_history.gpkg\u001b[39m\n",
            "\n",
            "File downloaded:\n",
            "\n",
            "• \u001b[36mFire_History_HJA.gpkg\u001b[39m \u001b[90m<id: 1PFW8YtCJ-Afxb7XTM94j7IcZDQc6r3FS>\u001b[39m\n",
            "\n",
            "Saved locally as:\n",
            "\n",
            "• \u001b[34m/content/fire_history.gpkg\u001b[39m\n",
            "\n",
            "File downloaded:\n",
            "\n",
            "• \u001b[36mHJA_Harvest_Sites.gpkg\u001b[39m \u001b[90m<id: 1igHhc0FY2TBm7DMHNWMoqTbLHv2qvgms>\u001b[39m\n",
            "\n",
            "Saved locally as:\n",
            "\n",
            "• \u001b[34m/content/harvest_history.gpkg\u001b[39m\n",
            "\n",
            "File downloaded:\n",
            "\n",
            "• \u001b[36mhja_boundary.geojson\u001b[39m \u001b[90m<id: 1XluoE3kGZ1u5-az0EmimhRpe__qzApM4>\u001b[39m\n",
            "\n",
            "Saved locally as:\n",
            "\n",
            "• \u001b[34m/content/aoi_boundary.geojson\u001b[39m\n",
            "\n"
          ]
        }
      ]
    },
    {
      "cell_type": "code",
      "source": [
        "while(TRUE){}"
      ],
      "metadata": {
        "id": "WiNdGjYOK0mz"
      },
      "execution_count": 14,
      "outputs": []
    },
    {
      "cell_type": "code",
      "source": [
        "hja_2008_tif <- stack('/content/hja_2008.tif')\n",
        "conus_2003_tif <- stack('/content/conus_2003.tif')\n",
        "conus_2016_tif  <- stack('/content/conus_2016.tif')"
      ],
      "metadata": {
        "id": "HJdYvfpltaAi"
      },
      "execution_count": 3,
      "outputs": []
    },
    {
      "cell_type": "code",
      "source": [
        "landtrendr_tif <- stack('/content/HJA_LandTrendr_84_23.tif')"
      ],
      "metadata": {
        "id": "wOk8T8AEp1Pe"
      },
      "execution_count": 4,
      "outputs": []
    },
    {
      "cell_type": "code",
      "source": [
        "gedi_vec_gpkg <- st_read('/content/gedi_vector.gpkg') %>% st_transform(st_crs('EPSG:4326'))"
      ],
      "metadata": {
        "id": "F7ZEup6Q5TAJ",
        "outputId": "2942d45f-5d57-4025-acd9-d195e1e07896",
        "colab": {
          "base_uri": "https://localhost:8080/"
        }
      },
      "execution_count": 5,
      "outputs": [
        {
          "output_type": "stream",
          "name": "stdout",
          "text": [
            "Multiple layers are present in data source /content/gedi_vector.gpkg, reading layer `vectorized'.\n",
            "Use `st_layers' to list all layer names and their type in a data source.\n",
            "Set the `layer' argument in `st_read' to read a particular layer.\n"
          ]
        },
        {
          "output_type": "stream",
          "name": "stderr",
          "text": [
            "Warning message in CPL_read_ogr(dsn, layer, query, as.character(options), quiet, :\n",
            "“automatically selected the first layer in a data source containing more than one.”\n"
          ]
        },
        {
          "output_type": "stream",
          "name": "stdout",
          "text": [
            "Reading layer `vectorized' from data source `/content/gedi_vector.gpkg' using driver `GPKG'\n",
            "Simple feature collection with 478987 features and 4 fields\n",
            "Geometry type: POLYGON\n",
            "Dimension:     XY\n",
            "Bounding box:  xmin: -123.6643 ymin: 43.85836 xmax: -121.7595 ymax: 44.90912\n",
            "Geodetic CRS:  WGS 84\n"
          ]
        }
      ]
    },
    {
      "cell_type": "code",
      "source": [
        "gedi_vec_gpkg$gedi_vec_id <- 1:nrow(gedi_vec_gpkg)"
      ],
      "metadata": {
        "id": "oNaVSC4uVSqh"
      },
      "execution_count": 9,
      "outputs": []
    },
    {
      "cell_type": "code",
      "source": [
        "huc_8_gpgk <- st_read('/content/huc_8.gpkg') %>% st_transform(st_crs('EPSG:4326'))\n",
        "huc_10_gpgk <- st_read('/content/huc_10.gpkg')  %>% st_transform(st_crs('EPSG:4326'))\n",
        "huc_12_gpgk <- st_read('/content/huc_12.gpkg')  %>% st_transform(st_crs('EPSG:4326'))"
      ],
      "metadata": {
        "colab": {
          "base_uri": "https://localhost:8080/"
        },
        "id": "JWNfPb2OqNfJ",
        "outputId": "e7181108-b101-409f-a831-080bfd2d77a3"
      },
      "execution_count": 49,
      "outputs": [
        {
          "output_type": "stream",
          "name": "stdout",
          "text": [
            "Reading layer `wbdhu8_central_oregon__wdb_oregon_state_gdb__wbdhu8' from data source `/content/huc_8.gpkg' using driver `GPKG'\n",
            "Simple feature collection with 4 features and 15 fields\n",
            "Geometry type: MULTIPOLYGON\n",
            "Dimension:     XY\n",
            "Bounding box:  xmin: -123.6643 ymin: 43.85856 xmax: -121.7597 ymax: 44.90894\n",
            "Geodetic CRS:  NAD83\n",
            "Reading layer `wdb_oregon_state_gdb__wbdhu10' from data source \n",
            "  `/content/huc_10.gpkg' using driver `GPKG'\n",
            "Simple feature collection with 27 features and 17 fields\n",
            "Geometry type: MULTIPOLYGON\n",
            "Dimension:     XY\n",
            "Bounding box:  xmin: -123.6643 ymin: 43.85856 xmax: -121.7597 ymax: 44.90894\n",
            "Geodetic CRS:  NAD83\n",
            "Reading layer `wdb_oregon_state_gdb__wbdhu12' from data source \n",
            "  `/content/huc_12.gpkg' using driver `GPKG'\n",
            "Simple feature collection with 161 features and 20 fields\n",
            "Geometry type: MULTIPOLYGON\n",
            "Dimension:     XY\n",
            "Bounding box:  xmin: -123.6643 ymin: 43.85856 xmax: -121.7597 ymax: 44.90894\n",
            "Geodetic CRS:  NAD83\n"
          ]
        }
      ]
    },
    {
      "cell_type": "code",
      "source": [
        "OR_lm_sf <- st_read('/content/oregon_land_management.gpkg') %>% st_transform(st_crs('EPSG:4326')) %>% st_collection_extract('POLYGON') %>% st_make_valid()\n",
        "OR_lo_sf <- st_read('/content/private_industrial_ownership_oregon.gpkg')  %>% st_transform(st_crs('EPSG:4326')) %>% st_collection_extract('POLYGON') %>% st_make_valid()\n",
        "OR_fire_sf <- st_read('/content/fire_history_oregon_2.gpkg')  %>% st_transform(st_crs('EPSG:4326')) %>% st_make_valid()"
      ],
      "metadata": {
        "id": "sQDtO1ADhwJ9",
        "outputId": "92b5f2fd-be05-4ca9-afb0-0e400749c7f5",
        "colab": {
          "base_uri": "https://localhost:8080/"
        }
      },
      "execution_count": 57,
      "outputs": [
        {
          "output_type": "stream",
          "name": "stdout",
          "text": [
            "Reading layer `oregon_land_management' from data source \n",
            "  `/content/oregon_land_management.gpkg' using driver `GPKG'\n",
            "Simple feature collection with 31994 features and 10 fields (with 20 geometries empty)\n",
            "Geometry type: MULTIPOLYGON\n",
            "Dimension:     XY\n",
            "Bounding box:  xmin: -180 ymin: -90 xmax: 180 ymax: 90\n",
            "Geodetic CRS:  WGS 84\n"
          ]
        },
        {
          "output_type": "stream",
          "name": "stderr",
          "text": [
            "Warning message in st_collection_extract.sf(., \"POLYGON\"):\n",
            "“x is already of type POLYGON.”\n"
          ]
        },
        {
          "output_type": "stream",
          "name": "stdout",
          "text": [
            "Reading layer `private_industrial_ownership' from data source \n",
            "  `/content/private_industrial_ownership_oregon.gpkg' using driver `GPKG'\n",
            "Simple feature collection with 511 features and 6 fields\n",
            "Geometry type: MULTIPOLYGON\n",
            "Dimension:     XY\n",
            "Bounding box:  xmin: -124.5044 ymin: 41.99325 xmax: -117.0636 ymax: 46.20265\n",
            "Geodetic CRS:  WGS 84\n"
          ]
        },
        {
          "output_type": "stream",
          "name": "stderr",
          "text": [
            "Warning message in st_collection_extract.sf(., \"POLYGON\"):\n",
            "“x is already of type POLYGON.”\n"
          ]
        },
        {
          "output_type": "stream",
          "name": "stdout",
          "text": [
            "Reading layer `buffered' from data source `/content/fire_history_oregon_2.gpkg' using driver `GPKG'\n",
            "Simple feature collection with 6858 features and 23 fields\n",
            "Geometry type: MULTIPOLYGON\n",
            "Dimension:     XY\n",
            "Bounding box:  xmin: -13860290 ymin: 5106055 xmax: -12951640 ymax: 6304889\n",
            "Projected CRS: WGS 84 / Pseudo-Mercator\n"
          ]
        }
      ]
    },
    {
      "cell_type": "code",
      "source": [
        "huc_10_gpgk %>% head"
      ],
      "metadata": {
        "id": "DwEUMitlmJy1",
        "outputId": "d045ded1-e705-48b6-fb16-1b6a8238d551",
        "colab": {
          "base_uri": "https://localhost:8080/",
          "height": 1000
        }
      },
      "execution_count": 65,
      "outputs": [
        {
          "output_type": "stream",
          "name": "stderr",
          "text": [
            "ERROR while rich displaying an object: Error in loadNamespace(x): there is no package called ‘geojsonio’\n",
            "\n",
            "Traceback:\n",
            "1. tryCatch(withCallingHandlers({\n",
            " .     if (!mime %in% names(repr::mime2repr)) \n",
            " .         stop(\"No repr_* for mimetype \", mime, \" in repr::mime2repr\")\n",
            " .     rpr <- repr::mime2repr[[mime]](obj)\n",
            " .     if (is.null(rpr)) \n",
            " .         return(NULL)\n",
            " .     prepare_content(is.raw(rpr), rpr)\n",
            " . }, error = error_handler), error = outer_handler)\n",
            "2. tryCatchList(expr, classes, parentenv, handlers)\n",
            "3. tryCatchOne(expr, names, parentenv, handlers[[1L]])\n",
            "4. doTryCatch(return(expr), name, parentenv, handler)\n",
            "5. withCallingHandlers({\n",
            " .     if (!mime %in% names(repr::mime2repr)) \n",
            " .         stop(\"No repr_* for mimetype \", mime, \" in repr::mime2repr\")\n",
            " .     rpr <- repr::mime2repr[[mime]](obj)\n",
            " .     if (is.null(rpr)) \n",
            " .         return(NULL)\n",
            " .     prepare_content(is.raw(rpr), rpr)\n",
            " . }, error = error_handler)\n",
            "6. repr::mime2repr[[mime]](obj)\n",
            "7. repr_geojson.sf(obj)\n",
            "8. repr_geojson(geojsonio::geojson_list(obj), ...)\n",
            "9. loadNamespace(x)\n",
            "10. withRestarts(stop(cond), retry_loadNamespace = function() NULL)\n",
            "11. withOneRestart(expr, restarts[[1L]])\n",
            "12. doWithOneRestart(return(expr), restart)\n"
          ]
        },
        {
          "output_type": "display_data",
          "data": {
            "text/html": [
              "<table class=\"dataframe\">\n",
              "<caption>A sf: 6 × 18</caption>\n",
              "<thead>\n",
              "\t<tr><th></th><th scope=col>OBJECTID</th><th scope=col>TNMID</th><th scope=col>MetaSourceID</th><th scope=col>SourceDataDesc</th><th scope=col>SourceOriginator</th><th scope=col>SourceFeatureID</th><th scope=col>LoadDate</th><th scope=col>GNIS_ID</th><th scope=col>AreaAcres</th><th scope=col>AreaSqKm</th><th scope=col>States</th><th scope=col>HUC10</th><th scope=col>Name</th><th scope=col>HUType</th><th scope=col>HUMod</th><th scope=col>Shape_Length</th><th scope=col>Shape_Area</th><th scope=col>geom</th></tr>\n",
              "\t<tr><th></th><th scope=col>&lt;dbl&gt;</th><th scope=col>&lt;chr&gt;</th><th scope=col>&lt;chr&gt;</th><th scope=col>&lt;chr&gt;</th><th scope=col>&lt;chr&gt;</th><th scope=col>&lt;chr&gt;</th><th scope=col>&lt;dttm&gt;</th><th scope=col>&lt;int&gt;</th><th scope=col>&lt;dbl&gt;</th><th scope=col>&lt;dbl&gt;</th><th scope=col>&lt;chr&gt;</th><th scope=col>&lt;chr&gt;</th><th scope=col>&lt;chr&gt;</th><th scope=col>&lt;chr&gt;</th><th scope=col>&lt;chr&gt;</th><th scope=col>&lt;dbl&gt;</th><th scope=col>&lt;dbl&gt;</th><th scope=col>&lt;MULTIPOLYGON [°]&gt;</th></tr>\n",
              "</thead>\n",
              "<tbody>\n",
              "\t<tr><th scope=row>1</th><td>522</td><td>{6656248D-5F90-4BB6-B5EA-484742B9AC17}</td><td>NA</td><td>NA</td><td>NA</td><td>NA</td><td>2013-01-18 08:56:26</td><td>NA</td><td> 69325.69</td><td>280.55</td><td>OR</td><td>1709000501</td><td>Breitenbush River             </td><td>S</td><td>NA</td><td>1.1431569</td><td>0.03189289</td><td>MULTIPOLYGON (((-122.011 44...</td></tr>\n",
              "\t<tr><th scope=row>2</th><td>523</td><td>{ED39C5F1-2255-45AE-8A3D-61F464F52D80}</td><td>NA</td><td>NA</td><td>NA</td><td>NA</td><td>2013-01-18 08:56:26</td><td>NA</td><td>146500.78</td><td>592.87</td><td>OR</td><td>1709000502</td><td>Headwaters North Santiam River</td><td>S</td><td>NA</td><td>1.4822647</td><td>0.06721638</td><td>MULTIPOLYGON (((-122.011 44...</td></tr>\n",
              "\t<tr><th scope=row>3</th><td>524</td><td>{44AE01AA-389C-49BB-A28F-FE5E851F5FCD}</td><td>NA</td><td>NA</td><td>NA</td><td>NA</td><td>2013-01-18 08:56:26</td><td>NA</td><td> 71405.72</td><td>288.97</td><td>OR</td><td>1709000503</td><td>Upper North Santiam River     </td><td>S</td><td>NA</td><td>1.0857123</td><td>0.03279917</td><td>MULTIPOLYGON (((-122.169 44...</td></tr>\n",
              "\t<tr><th scope=row>4</th><td>525</td><td>{EF47FA30-5446-435D-8F82-50A0FBFB46B1}</td><td>NA</td><td>NA</td><td>NA</td><td>NA</td><td>2013-01-18 08:56:26</td><td>NA</td><td> 56683.51</td><td>229.39</td><td>OR</td><td>1709000504</td><td>Middle North Santiam River    </td><td>S</td><td>NA</td><td>0.9704299</td><td>0.02606221</td><td>MULTIPOLYGON (((-122.3109 4...</td></tr>\n",
              "\t<tr><th scope=row>5</th><td>526</td><td>{BD325AA6-5275-4CB5-8A3F-6148A3B13DC2}</td><td>NA</td><td>NA</td><td>NA</td><td>NA</td><td>2013-01-18 08:56:26</td><td>NA</td><td> 72404.79</td><td>293.01</td><td>OR</td><td>1709000505</td><td>Little North Santiam River    </td><td>S</td><td>NA</td><td>1.2658293</td><td>0.03334033</td><td>MULTIPOLYGON (((-122.2548 4...</td></tr>\n",
              "\t<tr><th scope=row>6</th><td>527</td><td>{2FFB86E8-7356-4DCA-B1F0-D27FF53234D1}</td><td>NA</td><td>NA</td><td>NA</td><td>NA</td><td>2013-01-18 08:56:26</td><td>NA</td><td> 72785.23</td><td>294.55</td><td>OR</td><td>1709000506</td><td>Lower North Santiam River     </td><td>S</td><td>NA</td><td>1.6595153</td><td>0.03348020</td><td>MULTIPOLYGON (((-122.5408 4...</td></tr>\n",
              "</tbody>\n",
              "</table>\n"
            ],
            "text/markdown": "\nA sf: 6 × 18\n\n| <!--/--> | OBJECTID &lt;dbl&gt; | TNMID &lt;chr&gt; | MetaSourceID &lt;chr&gt; | SourceDataDesc &lt;chr&gt; | SourceOriginator &lt;chr&gt; | SourceFeatureID &lt;chr&gt; | LoadDate &lt;dttm&gt; | GNIS_ID &lt;int&gt; | AreaAcres &lt;dbl&gt; | AreaSqKm &lt;dbl&gt; | States &lt;chr&gt; | HUC10 &lt;chr&gt; | Name &lt;chr&gt; | HUType &lt;chr&gt; | HUMod &lt;chr&gt; | Shape_Length &lt;dbl&gt; | Shape_Area &lt;dbl&gt; | geom &lt;MULTIPOLYGON [°]&gt; |\n|---|---|---|---|---|---|---|---|---|---|---|---|---|---|---|---|---|---|---|\n| 1 | 522 | {6656248D-5F90-4BB6-B5EA-484742B9AC17} | NA | NA | NA | NA | 2013-01-18 08:56:26 | NA |  69325.69 | 280.55 | OR | 1709000501 | Breitenbush River              | S | NA | 1.1431569 | 0.03189289 | MULTIPOLYGON (((-122.011 44... |\n| 2 | 523 | {ED39C5F1-2255-45AE-8A3D-61F464F52D80} | NA | NA | NA | NA | 2013-01-18 08:56:26 | NA | 146500.78 | 592.87 | OR | 1709000502 | Headwaters North Santiam River | S | NA | 1.4822647 | 0.06721638 | MULTIPOLYGON (((-122.011 44... |\n| 3 | 524 | {44AE01AA-389C-49BB-A28F-FE5E851F5FCD} | NA | NA | NA | NA | 2013-01-18 08:56:26 | NA |  71405.72 | 288.97 | OR | 1709000503 | Upper North Santiam River      | S | NA | 1.0857123 | 0.03279917 | MULTIPOLYGON (((-122.169 44... |\n| 4 | 525 | {EF47FA30-5446-435D-8F82-50A0FBFB46B1} | NA | NA | NA | NA | 2013-01-18 08:56:26 | NA |  56683.51 | 229.39 | OR | 1709000504 | Middle North Santiam River     | S | NA | 0.9704299 | 0.02606221 | MULTIPOLYGON (((-122.3109 4... |\n| 5 | 526 | {BD325AA6-5275-4CB5-8A3F-6148A3B13DC2} | NA | NA | NA | NA | 2013-01-18 08:56:26 | NA |  72404.79 | 293.01 | OR | 1709000505 | Little North Santiam River     | S | NA | 1.2658293 | 0.03334033 | MULTIPOLYGON (((-122.2548 4... |\n| 6 | 527 | {2FFB86E8-7356-4DCA-B1F0-D27FF53234D1} | NA | NA | NA | NA | 2013-01-18 08:56:26 | NA |  72785.23 | 294.55 | OR | 1709000506 | Lower North Santiam River      | S | NA | 1.6595153 | 0.03348020 | MULTIPOLYGON (((-122.5408 4... |\n\n",
            "text/latex": "A sf: 6 × 18\n\\begin{tabular}{r|llllllllllllllllll}\n  & OBJECTID & TNMID & MetaSourceID & SourceDataDesc & SourceOriginator & SourceFeatureID & LoadDate & GNIS\\_ID & AreaAcres & AreaSqKm & States & HUC10 & Name & HUType & HUMod & Shape\\_Length & Shape\\_Area & geom\\\\\n  & <dbl> & <chr> & <chr> & <chr> & <chr> & <chr> & <dttm> & <int> & <dbl> & <dbl> & <chr> & <chr> & <chr> & <chr> & <chr> & <dbl> & <dbl> & <MULTIPOLYGON {[}°{]}>\\\\\n\\hline\n\t1 & 522 & \\{6656248D-5F90-4BB6-B5EA-484742B9AC17\\} & NA & NA & NA & NA & 2013-01-18 08:56:26 & NA &  69325.69 & 280.55 & OR & 1709000501 & Breitenbush River              & S & NA & 1.1431569 & 0.03189289 & MULTIPOLYGON (((-122.011 44...\\\\\n\t2 & 523 & \\{ED39C5F1-2255-45AE-8A3D-61F464F52D80\\} & NA & NA & NA & NA & 2013-01-18 08:56:26 & NA & 146500.78 & 592.87 & OR & 1709000502 & Headwaters North Santiam River & S & NA & 1.4822647 & 0.06721638 & MULTIPOLYGON (((-122.011 44...\\\\\n\t3 & 524 & \\{44AE01AA-389C-49BB-A28F-FE5E851F5FCD\\} & NA & NA & NA & NA & 2013-01-18 08:56:26 & NA &  71405.72 & 288.97 & OR & 1709000503 & Upper North Santiam River      & S & NA & 1.0857123 & 0.03279917 & MULTIPOLYGON (((-122.169 44...\\\\\n\t4 & 525 & \\{EF47FA30-5446-435D-8F82-50A0FBFB46B1\\} & NA & NA & NA & NA & 2013-01-18 08:56:26 & NA &  56683.51 & 229.39 & OR & 1709000504 & Middle North Santiam River     & S & NA & 0.9704299 & 0.02606221 & MULTIPOLYGON (((-122.3109 4...\\\\\n\t5 & 526 & \\{BD325AA6-5275-4CB5-8A3F-6148A3B13DC2\\} & NA & NA & NA & NA & 2013-01-18 08:56:26 & NA &  72404.79 & 293.01 & OR & 1709000505 & Little North Santiam River     & S & NA & 1.2658293 & 0.03334033 & MULTIPOLYGON (((-122.2548 4...\\\\\n\t6 & 527 & \\{2FFB86E8-7356-4DCA-B1F0-D27FF53234D1\\} & NA & NA & NA & NA & 2013-01-18 08:56:26 & NA &  72785.23 & 294.55 & OR & 1709000506 & Lower North Santiam River      & S & NA & 1.6595153 & 0.03348020 & MULTIPOLYGON (((-122.5408 4...\\\\\n\\end{tabular}\n",
            "text/plain": [
              "  OBJECTID TNMID                                  MetaSourceID SourceDataDesc\n",
              "1 522      {6656248D-5F90-4BB6-B5EA-484742B9AC17} NA           NA            \n",
              "2 523      {ED39C5F1-2255-45AE-8A3D-61F464F52D80} NA           NA            \n",
              "3 524      {44AE01AA-389C-49BB-A28F-FE5E851F5FCD} NA           NA            \n",
              "4 525      {EF47FA30-5446-435D-8F82-50A0FBFB46B1} NA           NA            \n",
              "5 526      {BD325AA6-5275-4CB5-8A3F-6148A3B13DC2} NA           NA            \n",
              "6 527      {2FFB86E8-7356-4DCA-B1F0-D27FF53234D1} NA           NA            \n",
              "  SourceOriginator SourceFeatureID LoadDate            GNIS_ID AreaAcres\n",
              "1 NA               NA              2013-01-18 08:56:26 NA       69325.69\n",
              "2 NA               NA              2013-01-18 08:56:26 NA      146500.78\n",
              "3 NA               NA              2013-01-18 08:56:26 NA       71405.72\n",
              "4 NA               NA              2013-01-18 08:56:26 NA       56683.51\n",
              "5 NA               NA              2013-01-18 08:56:26 NA       72404.79\n",
              "6 NA               NA              2013-01-18 08:56:26 NA       72785.23\n",
              "  AreaSqKm States HUC10      Name                           HUType HUMod\n",
              "1 280.55   OR     1709000501 Breitenbush River              S      NA   \n",
              "2 592.87   OR     1709000502 Headwaters North Santiam River S      NA   \n",
              "3 288.97   OR     1709000503 Upper North Santiam River      S      NA   \n",
              "4 229.39   OR     1709000504 Middle North Santiam River     S      NA   \n",
              "5 293.01   OR     1709000505 Little North Santiam River     S      NA   \n",
              "6 294.55   OR     1709000506 Lower North Santiam River      S      NA   \n",
              "  Shape_Length Shape_Area geom                          \n",
              "1 1.1431569    0.03189289 MULTIPOLYGON (((-122.011 44...\n",
              "2 1.4822647    0.06721638 MULTIPOLYGON (((-122.011 44...\n",
              "3 1.0857123    0.03279917 MULTIPOLYGON (((-122.169 44...\n",
              "4 0.9704299    0.02606221 MULTIPOLYGON (((-122.3109 4...\n",
              "5 1.2658293    0.03334033 MULTIPOLYGON (((-122.2548 4...\n",
              "6 1.6595153    0.03348020 MULTIPOLYGON (((-122.5408 4..."
            ]
          },
          "metadata": {}
        }
      ]
    },
    {
      "cell_type": "code",
      "source": [
        "# Extracting and plotting the geometry of a given huc index\n",
        "huc_index <- 1\n",
        "\n",
        "for(huc_index in 1:nrow(huc_10_gpgk)){\n",
        "plot(huc_10_gpgk[huc_index,]$geom)\n",
        "print(huc_10_gpgk[huc_index,])\n",
        "query_wkt <- st_as_text(huc_10_gpgk[huc_index,]$geom, crs = 4326, EWKT = TRUE)\n",
        "\n",
        "\n",
        "# Formulate the SQL query to get intersecting geometries\n",
        "query_sql <- paste0(\"SELECT * FROM hja_gedi WHERE ST_Intersects(geom,'\", query_wkt, \"')\")\n",
        "\n",
        "# Connect to the PostgreSQL database\n",
        "conn <- RPostgreSQL::dbConnect(\"PostgreSQL\",\n",
        "                               dbname = \"jifesypi\",\n",
        "                               host = \"mild-williams-pear.db.elephantsql.com\",\n",
        "                               user = \"jifesypi\",\n",
        "                               password = \"Qxds23zjkpIIU343-GGHNlxqFdD3Pdlr\")\n",
        "\n",
        "# Read data from the database into a spatial dataframe\n",
        "gedi_sf <- st_read(conn, query = query_sql)\n",
        "dbDisconnect(conn)\n",
        "\n",
        "# Convert the spatial dataframe into a datatable\n",
        "gedi_dt <- gedi_sf %>% data.table\n",
        "\n",
        "# Add a buffer to the geometry\n",
        "gedi_dt[, geom_buffer := geom %>% st_transform('EPSG:6822') %>% st_buffer(12.5)]\n",
        "summary_dt <- gedi_dt\n",
        "\n",
        "summary_dt$gedi_year <- delta_time_to_timestamp(summary_dt$delta_time) %>% format(\"%Y\")\n",
        "\n",
        "# Extract raster values for multiple datasets and add them to the datatable\n",
        "datasets <- list(landtrendr = landtrendr_tif, hja_2008 = hja_2008_tif, conus_2003 = conus_2003_tif, conus_2016 = conus_2016_tif)\n",
        "for(name in names(datasets)) {\n",
        "  rast <- terra::rast(datasets[[name]])\n",
        "  extract_values <- gedi_dt[, geom_buffer] %>% st_as_sf %>%\n",
        "    exact_extract(rast, ., force_df = T, c('min','max','mean','median'))\n",
        "  col_names <- paste(c('min','max','mean','median'), name, sep = '_')\n",
        "  head(extract_values)\n",
        "  names(extract_values) <- col_names\n",
        "  summary_dt <- data.table(summary_dt, extract_values[, col_names])\n",
        "}\n",
        "\n",
        "# Filter out negative values from agbd column\n",
        "summary_dt$agbd[summary_dt$agbd < 0] <- NA\n",
        "\n",
        "# Convert delta time to a readable timestamp\n",
        "delta_time_to_timestamp <- function(delta_time) {\n",
        "  reference_date <- as.POSIXct(\"2018-01-01 00:00:00\", tz = \"UTC\")\n",
        "  timestamp <- reference_date + delta_time\n",
        "  return(timestamp)\n",
        "}\n",
        "\n",
        "summary_dt[, gedi_vec_id := gedi_vec_gpkg[['gedi_vec_id']][st_intersects(summary_dt$geom, gedi_vec_gpkg) %>% lapply(function(x) {x[1]}) %>% unlist]]\n",
        "summary_dt[, gedi_vec_year := gedi_vec_gpkg[['DN']][st_intersects(summary_dt$geom, gedi_vec_gpkg) %>% lapply(function(x) {x[1]}) %>% unlist]]\n",
        "summary_dt[, gedi_vec_area := gedi_vec_gpkg[['Area']][st_intersects(summary_dt$geom, gedi_vec_gpkg) %>% lapply(function(x) {x[1]}) %>% unlist]]\n",
        "\n",
        "\n",
        "summary_dt[, Ownership := OR_lm_sf[['LandManage']][st_intersects(summary_dt$geom, OR_lm_sf) %>% lapply(function(x) {x[1]}) %>% unlist]]\n",
        "summary_dt[, LandManager := OR_lo_sf[['LandManage']][st_intersects(summary_dt$geom, OR_lo_sf) %>% lapply(function(x) {x[1]}) %>% unlist]]\n",
        "summary_dt[, FIRE_INC_ID := OR_fire_sf[['INC_ID']][st_intersects(summary_dt$geom, OR_fire_sf) %>% lapply(function(x) {x[1]}) %>% unlist]]\n",
        "summary_dt[, FIRE_NAME := OR_fire_sf[['FIRE_NAME']][st_intersects(summary_dt$geom, OR_fire_sf) %>% lapply(function(x) {x[1]}) %>% unlist]]\n",
        "summary_dt[, FIRE_YEAR := OR_fire_sf[['FIRE_YEAR']][st_intersects(summary_dt$geom, OR_fire_sf) %>% lapply(function(x) {x[1]}) %>% unlist]]\n",
        "\n",
        "summary_dt$geom_buffer <- NULL\n",
        "\n",
        "summary_dt %>% st_as_sf %>% st_write(paste0('/content/HUC_Intersection_Set/huc_10_',huc_index,'.gpkg'),delete_dsn = T)\n",
        "print(paste(\"Finished HUC \",huc_10_gpgk$Name[huc_index]))\n",
        "}"
      ],
      "metadata": {
        "id": "YSPzYWteVd3p",
        "outputId": "fe48130a-a961-43fe-db4f-10581c0ce3ba",
        "colab": {
          "base_uri": "https://localhost:8080/",
          "height": 1000
        }
      },
      "execution_count": 68,
      "outputs": [
        {
          "output_type": "stream",
          "name": "stdout",
          "text": [
            "Simple feature collection with 1 feature and 17 fields\n",
            "Geometry type: MULTIPOLYGON\n",
            "Dimension:     XY\n",
            "Bounding box:  xmin: -122.1609 ymin: 44.70125 xmax: -121.7597 ymax: 44.84949\n",
            "Geodetic CRS:  WGS 84\n",
            "  OBJECTID                                  TNMID MetaSourceID SourceDataDesc\n",
            "1      522 {6656248D-5F90-4BB6-B5EA-484742B9AC17}         <NA>           <NA>\n",
            "  SourceOriginator SourceFeatureID            LoadDate GNIS_ID AreaAcres\n",
            "1             <NA>            <NA> 2013-01-18 08:56:26      NA  69325.69\n",
            "  AreaSqKm States      HUC10              Name HUType HUMod Shape_Length\n",
            "1   280.55     OR 1709000501 Breitenbush River      S  <NA>     1.143157\n",
            "  Shape_Area                           geom\n",
            "1 0.03189289 MULTIPOLYGON (((-122.011 44...\n"
          ]
        },
        {
          "output_type": "stream",
          "name": "stderr",
          "text": [
            "Warning message in .local(x, y, ...):\n",
            "“Polygons transformed to raster CRS (EPSG:NA)”\n"
          ]
        },
        {
          "output_type": "stream",
          "name": "stdout",
          "text": [
            "  |======================================================================| 100%\n"
          ]
        },
        {
          "output_type": "stream",
          "name": "stderr",
          "text": [
            "Warning message in .local(x, y, ...):\n",
            "“Polygons transformed to raster CRS (EPSG:NA)”\n"
          ]
        },
        {
          "output_type": "stream",
          "name": "stdout",
          "text": [
            "  |======================================================================| 100%\n"
          ]
        },
        {
          "output_type": "stream",
          "name": "stderr",
          "text": [
            "Warning message in .local(x, y, ...):\n",
            "“Polygons transformed to raster CRS (EPSG:NA)”\n"
          ]
        },
        {
          "output_type": "stream",
          "name": "stdout",
          "text": [
            "  |======================================================================| 100%\n"
          ]
        },
        {
          "output_type": "stream",
          "name": "stderr",
          "text": [
            "Warning message in .local(x, y, ...):\n",
            "“Polygons transformed to raster CRS (EPSG:NA)”\n"
          ]
        },
        {
          "output_type": "stream",
          "name": "stdout",
          "text": [
            "  |======================================================================| 100%\n",
            "Deleting source `/content/HUC_Intersection_Set/huc_10_1.gpkg' failed\n",
            "Writing layer `huc_10_1' to data source \n",
            "  `/content/HUC_Intersection_Set/huc_10_1.gpkg' using driver `GPKG'\n",
            "Writing 94451 features with 40 fields and geometry type Point.\n",
            "[1] \"Finished HUC  Breitenbush River\"\n",
            "Simple feature collection with 1 feature and 17 fields\n",
            "Geometry type: MULTIPOLYGON\n",
            "Dimension:     XY\n",
            "Bounding box:  xmin: -122.1787 ymin: 44.46379 xmax: -121.7935 ymax: 44.74952\n",
            "Geodetic CRS:  WGS 84\n",
            "  OBJECTID                                  TNMID MetaSourceID SourceDataDesc\n",
            "2      523 {ED39C5F1-2255-45AE-8A3D-61F464F52D80}         <NA>           <NA>\n",
            "  SourceOriginator SourceFeatureID            LoadDate GNIS_ID AreaAcres\n",
            "2             <NA>            <NA> 2013-01-18 08:56:26      NA  146500.8\n",
            "  AreaSqKm States      HUC10                           Name HUType HUMod\n",
            "2   592.87     OR 1709000502 Headwaters North Santiam River      S  <NA>\n",
            "  Shape_Length Shape_Area                           geom\n",
            "2     1.482265 0.06721638 MULTIPOLYGON (((-122.011 44...\n"
          ]
        },
        {
          "output_type": "stream",
          "name": "stderr",
          "text": [
            "Warning message in .local(x, y, ...):\n",
            "“Polygons transformed to raster CRS (EPSG:NA)”\n"
          ]
        },
        {
          "output_type": "stream",
          "name": "stdout",
          "text": [
            "  |======================================================================| 100%\n"
          ]
        },
        {
          "output_type": "stream",
          "name": "stderr",
          "text": [
            "Warning message in .local(x, y, ...):\n",
            "“Polygons transformed to raster CRS (EPSG:NA)”\n"
          ]
        },
        {
          "output_type": "stream",
          "name": "stdout",
          "text": [
            "  |======================================================================| 100%\n"
          ]
        },
        {
          "output_type": "stream",
          "name": "stderr",
          "text": [
            "Warning message in .local(x, y, ...):\n",
            "“Polygons transformed to raster CRS (EPSG:NA)”\n"
          ]
        },
        {
          "output_type": "stream",
          "name": "stdout",
          "text": [
            "  |======================================================================| 100%\n"
          ]
        },
        {
          "output_type": "stream",
          "name": "stderr",
          "text": [
            "Warning message in .local(x, y, ...):\n",
            "“Polygons transformed to raster CRS (EPSG:NA)”\n"
          ]
        },
        {
          "output_type": "stream",
          "name": "stdout",
          "text": [
            "  |======================================================================| 100%\n"
          ]
        },
        {
          "output_type": "display_data",
          "data": {
            "text/plain": [
              "plot without title"
            ],
            "image/png": "[encoded data removed]"
          },
          "metadata": {
            "image/png": {
              "width": 420,
              "height": 420
            }
          }
        },
        {
          "output_type": "stream",
          "name": "stdout",
          "text": [
            "Deleting source `/content/HUC_Intersection_Set/huc_10_2.gpkg' failed\n",
            "Writing layer `huc_10_2' to data source \n",
            "  `/content/HUC_Intersection_Set/huc_10_2.gpkg' using driver `GPKG'\n",
            "Writing 224063 features with 40 fields and geometry type Point.\n",
            "[1] \"Finished HUC  Headwaters North Santiam River\"\n",
            "Simple feature collection with 1 feature and 17 fields\n",
            "Geometry type: MULTIPOLYGON\n",
            "Dimension:     XY\n",
            "Bounding box:  xmin: -122.3292 ymin: 44.5631 xmax: -122.0442 ymax: 44.80124\n",
            "Geodetic CRS:  WGS 84\n",
            "  OBJECTID                                  TNMID MetaSourceID SourceDataDesc\n",
            "3      524 {44AE01AA-389C-49BB-A28F-FE5E851F5FCD}         <NA>           <NA>\n",
            "  SourceOriginator SourceFeatureID            LoadDate GNIS_ID AreaAcres\n",
            "3             <NA>            <NA> 2013-01-18 08:56:26      NA  71405.72\n",
            "  AreaSqKm States      HUC10                      Name HUType HUMod\n",
            "3   288.97     OR 1709000503 Upper North Santiam River      S  <NA>\n",
            "  Shape_Length Shape_Area                           geom\n",
            "3     1.085712 0.03279917 MULTIPOLYGON (((-122.169 44...\n"
          ]
        },
        {
          "output_type": "stream",
          "name": "stderr",
          "text": [
            "Warning message in .local(x, y, ...):\n",
            "“Polygons transformed to raster CRS (EPSG:NA)”\n"
          ]
        },
        {
          "output_type": "stream",
          "name": "stdout",
          "text": [
            "  |======================================================================| 100%\n"
          ]
        },
        {
          "output_type": "stream",
          "name": "stderr",
          "text": [
            "Warning message in .local(x, y, ...):\n",
            "“Polygons transformed to raster CRS (EPSG:NA)”\n"
          ]
        },
        {
          "output_type": "stream",
          "name": "stdout",
          "text": [
            "  |======================================================================| 100%\n"
          ]
        },
        {
          "output_type": "stream",
          "name": "stderr",
          "text": [
            "Warning message in .local(x, y, ...):\n",
            "“Polygons transformed to raster CRS (EPSG:NA)”\n"
          ]
        },
        {
          "output_type": "stream",
          "name": "stdout",
          "text": [
            "  |======================================================================| 100%\n"
          ]
        },
        {
          "output_type": "stream",
          "name": "stderr",
          "text": [
            "Warning message in .local(x, y, ...):\n",
            "“Polygons transformed to raster CRS (EPSG:NA)”\n"
          ]
        },
        {
          "output_type": "stream",
          "name": "stdout",
          "text": [
            "  |======================================================================| 100%\n"
          ]
        },
        {
          "output_type": "display_data",
          "data": {
            "text/plain": [
              "plot without title"
            ],
            "image/png": "[encoded data removed]"
          },
          "metadata": {
            "image/png": {
              "width": 420,
              "height": 420
            }
          }
        },
        {
          "output_type": "stream",
          "name": "stdout",
          "text": [
            "Deleting source `/content/HUC_Intersection_Set/huc_10_3.gpkg' failed\n",
            "Writing layer `huc_10_3' to data source \n",
            "  `/content/HUC_Intersection_Set/huc_10_3.gpkg' using driver `GPKG'\n",
            "Writing 94266 features with 40 fields and geometry type Point.\n",
            "[1] \"Finished HUC  Upper North Santiam River\"\n",
            "Simple feature collection with 1 feature and 17 fields\n",
            "Geometry type: MULTIPOLYGON\n",
            "Dimension:     XY\n",
            "Bounding box:  xmin: -122.6131 ymin: 44.66184 xmax: -122.2716 ymax: 44.79515\n",
            "Geodetic CRS:  WGS 84\n",
            "  OBJECTID                                  TNMID MetaSourceID SourceDataDesc\n",
            "4      525 {EF47FA30-5446-435D-8F82-50A0FBFB46B1}         <NA>           <NA>\n",
            "  SourceOriginator SourceFeatureID            LoadDate GNIS_ID AreaAcres\n",
            "4             <NA>            <NA> 2013-01-18 08:56:26      NA  56683.51\n",
            "  AreaSqKm States      HUC10                       Name HUType HUMod\n",
            "4   229.39     OR 1709000504 Middle North Santiam River      S  <NA>\n",
            "  Shape_Length Shape_Area                           geom\n",
            "4    0.9704299 0.02606221 MULTIPOLYGON (((-122.3109 4...\n"
          ]
        },
        {
          "output_type": "stream",
          "name": "stderr",
          "text": [
            "Warning message in .local(x, y, ...):\n",
            "“Polygons transformed to raster CRS (EPSG:NA)”\n"
          ]
        },
        {
          "output_type": "stream",
          "name": "stdout",
          "text": [
            "  |======================================================================| 100%\n"
          ]
        },
        {
          "output_type": "stream",
          "name": "stderr",
          "text": [
            "Warning message in .local(x, y, ...):\n",
            "“Polygons transformed to raster CRS (EPSG:NA)”\n"
          ]
        },
        {
          "output_type": "stream",
          "name": "stdout",
          "text": [
            "  |======================================================================| 100%\n"
          ]
        },
        {
          "output_type": "stream",
          "name": "stderr",
          "text": [
            "Warning message in .local(x, y, ...):\n",
            "“Polygons transformed to raster CRS (EPSG:NA)”\n"
          ]
        },
        {
          "output_type": "stream",
          "name": "stdout",
          "text": [
            "  |======================================================================| 100%\n"
          ]
        },
        {
          "output_type": "stream",
          "name": "stderr",
          "text": [
            "Warning message in .local(x, y, ...):\n",
            "“Polygons transformed to raster CRS (EPSG:NA)”\n"
          ]
        },
        {
          "output_type": "stream",
          "name": "stdout",
          "text": [
            "  |======================================================================| 100%\n"
          ]
        },
        {
          "output_type": "display_data",
          "data": {
            "text/plain": [
              "plot without title"
            ],
            "image/png": "[encoded data removed]"
          },
          "metadata": {
            "image/png": {
              "width": 420,
              "height": 420
            }
          }
        },
        {
          "output_type": "stream",
          "name": "stdout",
          "text": [
            "Deleting source `/content/HUC_Intersection_Set/huc_10_4.gpkg' failed\n",
            "Writing layer `huc_10_4' to data source \n",
            "  `/content/HUC_Intersection_Set/huc_10_4.gpkg' using driver `GPKG'\n",
            "Writing 77090 features with 40 fields and geometry type Point.\n",
            "[1] \"Finished HUC  Middle North Santiam River\"\n",
            "Simple feature collection with 1 feature and 17 fields\n",
            "Geometry type: MULTIPOLYGON\n",
            "Dimension:     XY\n",
            "Bounding box:  xmin: -122.6094 ymin: 44.77703 xmax: -122.1314 ymax: 44.89995\n",
            "Geodetic CRS:  WGS 84\n",
            "  OBJECTID                                  TNMID MetaSourceID SourceDataDesc\n",
            "5      526 {BD325AA6-5275-4CB5-8A3F-6148A3B13DC2}         <NA>           <NA>\n",
            "  SourceOriginator SourceFeatureID            LoadDate GNIS_ID AreaAcres\n",
            "5             <NA>            <NA> 2013-01-18 08:56:26      NA  72404.79\n",
            "  AreaSqKm States      HUC10                       Name HUType HUMod\n",
            "5   293.01     OR 1709000505 Little North Santiam River      S  <NA>\n",
            "  Shape_Length Shape_Area                           geom\n",
            "5     1.265829 0.03334033 MULTIPOLYGON (((-122.2548 4...\n"
          ]
        },
        {
          "output_type": "stream",
          "name": "stderr",
          "text": [
            "Warning message in .local(x, y, ...):\n",
            "“Polygons transformed to raster CRS (EPSG:NA)”\n"
          ]
        },
        {
          "output_type": "stream",
          "name": "stdout",
          "text": [
            "  |======================================================================| 100%\n"
          ]
        },
        {
          "output_type": "stream",
          "name": "stderr",
          "text": [
            "Warning message in .local(x, y, ...):\n",
            "“Polygons transformed to raster CRS (EPSG:NA)”\n"
          ]
        },
        {
          "output_type": "stream",
          "name": "stdout",
          "text": [
            "  |======================================================================| 100%\n"
          ]
        },
        {
          "output_type": "stream",
          "name": "stderr",
          "text": [
            "Warning message in .local(x, y, ...):\n",
            "“Polygons transformed to raster CRS (EPSG:NA)”\n"
          ]
        },
        {
          "output_type": "stream",
          "name": "stdout",
          "text": [
            "  |======================================================================| 100%\n"
          ]
        },
        {
          "output_type": "stream",
          "name": "stderr",
          "text": [
            "Warning message in .local(x, y, ...):\n",
            "“Polygons transformed to raster CRS (EPSG:NA)”\n"
          ]
        },
        {
          "output_type": "stream",
          "name": "stdout",
          "text": [
            "  |======================================================================| 100%\n"
          ]
        },
        {
          "output_type": "display_data",
          "data": {
            "text/plain": [
              "plot without title"
            ],
            "image/png": "[encoded data removed]"
          },
          "metadata": {
            "image/png": {
              "width": 420,
              "height": 420
            }
          }
        },
        {
          "output_type": "stream",
          "name": "stdout",
          "text": [
            "Deleting source `/content/HUC_Intersection_Set/huc_10_5.gpkg' failed\n",
            "Writing layer `huc_10_5' to data source \n",
            "  `/content/HUC_Intersection_Set/huc_10_5.gpkg' using driver `GPKG'\n",
            "Writing 98313 features with 40 fields and geometry type Point.\n",
            "[1] \"Finished HUC  Little North Santiam River\"\n",
            "Simple feature collection with 1 feature and 17 fields\n",
            "Geometry type: MULTIPOLYGON\n",
            "Dimension:     XY\n",
            "Bounding box:  xmin: -123.1428 ymin: 44.68448 xmax: -122.5133 ymax: 44.83641\n",
            "Geodetic CRS:  WGS 84\n",
            "  OBJECTID                                  TNMID MetaSourceID SourceDataDesc\n",
            "6      527 {2FFB86E8-7356-4DCA-B1F0-D27FF53234D1}         <NA>           <NA>\n",
            "  SourceOriginator SourceFeatureID            LoadDate GNIS_ID AreaAcres\n",
            "6             <NA>            <NA> 2013-01-18 08:56:26      NA  72785.23\n",
            "  AreaSqKm States      HUC10                      Name HUType HUMod\n",
            "6   294.55     OR 1709000506 Lower North Santiam River      S  <NA>\n",
            "  Shape_Length Shape_Area                           geom\n",
            "6     1.659515  0.0334802 MULTIPOLYGON (((-122.5408 4...\n"
          ]
        },
        {
          "output_type": "stream",
          "name": "stderr",
          "text": [
            "Warning message in .local(x, y, ...):\n",
            "“Polygons transformed to raster CRS (EPSG:NA)”\n"
          ]
        },
        {
          "output_type": "stream",
          "name": "stdout",
          "text": [
            "  |======================================================================| 100%\n"
          ]
        },
        {
          "output_type": "stream",
          "name": "stderr",
          "text": [
            "Warning message in .local(x, y, ...):\n",
            "“Polygons transformed to raster CRS (EPSG:NA)”\n"
          ]
        },
        {
          "output_type": "stream",
          "name": "stdout",
          "text": [
            "  |======================================================================| 100%\n"
          ]
        },
        {
          "output_type": "stream",
          "name": "stderr",
          "text": [
            "Warning message in .local(x, y, ...):\n",
            "“Polygons transformed to raster CRS (EPSG:NA)”\n"
          ]
        },
        {
          "output_type": "stream",
          "name": "stdout",
          "text": [
            "  |======================================================================| 100%\n"
          ]
        },
        {
          "output_type": "stream",
          "name": "stderr",
          "text": [
            "Warning message in .local(x, y, ...):\n",
            "“Polygons transformed to raster CRS (EPSG:NA)”\n"
          ]
        },
        {
          "output_type": "stream",
          "name": "stdout",
          "text": [
            "  |======================================================================| 100%\n"
          ]
        },
        {
          "output_type": "display_data",
          "data": {
            "text/plain": [
              "plot without title"
            ],
            "image/png": "[encoded data removed]"
          },
          "metadata": {
            "image/png": {
              "width": 420,
              "height": 420
            }
          }
        },
        {
          "output_type": "stream",
          "name": "stdout",
          "text": [
            "Deleting source `/content/HUC_Intersection_Set/huc_10_6.gpkg' failed\n",
            "Writing layer `huc_10_6' to data source \n",
            "  `/content/HUC_Intersection_Set/huc_10_6.gpkg' using driver `GPKG'\n",
            "Writing 96337 features with 40 fields and geometry type Point.\n",
            "[1] \"Finished HUC  Lower North Santiam River\"\n",
            "Simple feature collection with 1 feature and 17 fields\n",
            "Geometry type: MULTIPOLYGON\n",
            "Dimension:     XY\n",
            "Bounding box:  xmin: -122.4035 ymin: 44.39851 xmax: -122.0278 ymax: 44.56968\n",
            "Geodetic CRS:  WGS 84\n",
            "  OBJECTID                                  TNMID MetaSourceID SourceDataDesc\n",
            "7      528 {188F424A-A6EE-4724-8072-0DDDB4EF9827}         <NA>           <NA>\n",
            "  SourceOriginator SourceFeatureID            LoadDate GNIS_ID AreaAcres\n",
            "7             <NA>            <NA> 2013-01-18 08:56:26      NA  66755.73\n",
            "  AreaSqKm States      HUC10                            Name HUType HUMod\n",
            "7   270.15     OR 1709000601 Headwaters Middle Santiam River      S  <NA>\n",
            "  Shape_Length Shape_Area                           geom\n",
            "7     1.138398 0.03056816 MULTIPOLYGON (((-122.0871 4...\n"
          ]
        },
        {
          "output_type": "stream",
          "name": "stderr",
          "text": [
            "Warning message in .local(x, y, ...):\n",
            "“Polygons transformed to raster CRS (EPSG:NA)”\n"
          ]
        },
        {
          "output_type": "stream",
          "name": "stdout",
          "text": [
            "  |======================================================================| 100%\n"
          ]
        },
        {
          "output_type": "stream",
          "name": "stderr",
          "text": [
            "Warning message in .local(x, y, ...):\n",
            "“Polygons transformed to raster CRS (EPSG:NA)”\n"
          ]
        },
        {
          "output_type": "stream",
          "name": "stdout",
          "text": [
            "  |======================================================================| 100%\n"
          ]
        },
        {
          "output_type": "stream",
          "name": "stderr",
          "text": [
            "Warning message in .local(x, y, ...):\n",
            "“Polygons transformed to raster CRS (EPSG:NA)”\n"
          ]
        },
        {
          "output_type": "stream",
          "name": "stdout",
          "text": [
            "  |======================================================================| 100%\n"
          ]
        },
        {
          "output_type": "stream",
          "name": "stderr",
          "text": [
            "Warning message in .local(x, y, ...):\n",
            "“Polygons transformed to raster CRS (EPSG:NA)”\n"
          ]
        },
        {
          "output_type": "stream",
          "name": "stdout",
          "text": [
            "  |======================================================================| 100%\n"
          ]
        },
        {
          "output_type": "display_data",
          "data": {
            "text/plain": [
              "plot without title"
            ],
            "image/png": "[encoded data removed]"
          },
          "metadata": {
            "image/png": {
              "width": 420,
              "height": 420
            }
          }
        },
        {
          "output_type": "stream",
          "name": "stdout",
          "text": [
            "Deleting source `/content/HUC_Intersection_Set/huc_10_7.gpkg' failed\n",
            "Writing layer `huc_10_7' to data source \n",
            "  `/content/HUC_Intersection_Set/huc_10_7.gpkg' using driver `GPKG'\n",
            "Writing 117893 features with 40 fields and geometry type Point.\n",
            "[1] \"Finished HUC  Headwaters Middle Santiam River\"\n",
            "Simple feature collection with 1 feature and 17 fields\n",
            "Geometry type: MULTIPOLYGON\n",
            "Dimension:     XY\n",
            "Bounding box:  xmin: -122.4618 ymin: 44.26719 xmax: -122.1244 ymax: 44.48744\n",
            "Geodetic CRS:  WGS 84\n",
            "  OBJECTID                                  TNMID MetaSourceID SourceDataDesc\n",
            "8      529 {AFAA7DA6-A758-4368-B928-91C6B0C45D23}         <NA>           <NA>\n",
            "  SourceOriginator SourceFeatureID            LoadDate GNIS_ID AreaAcres\n",
            "8             <NA>            <NA> 2013-01-18 08:56:26      NA  101916.5\n",
            "  AreaSqKm States      HUC10                Name HUType HUMod Shape_Length\n",
            "8   412.44     OR 1709000602 South Santiam River      S  <NA>     1.144523\n",
            "  Shape_Area                           geom\n",
            "8 0.04657435 MULTIPOLYGON (((-122.3279 4...\n"
          ]
        },
        {
          "output_type": "stream",
          "name": "stderr",
          "text": [
            "Warning message in .local(x, y, ...):\n",
            "“Polygons transformed to raster CRS (EPSG:NA)”\n"
          ]
        },
        {
          "output_type": "stream",
          "name": "stdout",
          "text": [
            "  |======================================================================| 100%\n"
          ]
        },
        {
          "output_type": "stream",
          "name": "stderr",
          "text": [
            "Warning message in .local(x, y, ...):\n",
            "“Polygons transformed to raster CRS (EPSG:NA)”\n"
          ]
        },
        {
          "output_type": "stream",
          "name": "stdout",
          "text": [
            "  |======================================================================| 100%\n"
          ]
        },
        {
          "output_type": "stream",
          "name": "stderr",
          "text": [
            "Warning message in .local(x, y, ...):\n",
            "“Polygons transformed to raster CRS (EPSG:NA)”\n"
          ]
        },
        {
          "output_type": "stream",
          "name": "stdout",
          "text": [
            "  |======================================================================| 100%\n"
          ]
        },
        {
          "output_type": "stream",
          "name": "stderr",
          "text": [
            "Warning message in .local(x, y, ...):\n",
            "“Polygons transformed to raster CRS (EPSG:NA)”\n"
          ]
        },
        {
          "output_type": "stream",
          "name": "stdout",
          "text": [
            "  |======================================================================| 100%\n"
          ]
        },
        {
          "output_type": "display_data",
          "data": {
            "text/plain": [
              "plot without title"
            ],
            "image/png": "[encoded data removed]"
          },
          "metadata": {
            "image/png": {
              "width": 420,
              "height": 420
            }
          }
        },
        {
          "output_type": "stream",
          "name": "stdout",
          "text": [
            "Deleting source `/content/HUC_Intersection_Set/huc_10_8.gpkg' failed\n",
            "Writing layer `huc_10_8' to data source \n",
            "  `/content/HUC_Intersection_Set/huc_10_8.gpkg' using driver `GPKG'\n",
            "Writing 206069 features with 40 fields and geometry type Point.\n",
            "[1] \"Finished HUC  South Santiam River\"\n",
            "Simple feature collection with 1 feature and 17 fields\n",
            "Geometry type: MULTIPOLYGON\n",
            "Dimension:     XY\n",
            "Bounding box:  xmin: -122.5835 ymin: 44.42842 xmax: -122.1136 ymax: 44.66905\n",
            "Geodetic CRS:  WGS 84\n",
            "  OBJECTID                                  TNMID\n",
            "9      530 {B4A41A24-3384-4AFF-88C8-E52C5D5230A5}\n",
            "                            MetaSourceID SourceDataDesc SourceOriginator\n",
            "9 {A4B99D2F-D7C5-4BCA-A07F-0B6FDF219B65}           <NA>             <NA>\n",
            "  SourceFeatureID            LoadDate GNIS_ID AreaAcres AreaSqKm States\n",
            "9            <NA> 2016-12-01 09:32:16      NA  109514.6   443.19     OR\n",
            "       HUC10                                  Name HUType HUMod Shape_Length\n",
            "9 1709000603 Green Peter Lake-Middle Santiam River      S  <NA>     1.452731\n",
            "  Shape_Area                           geom\n",
            "9 0.05019035 MULTIPOLYGON (((-122.3019 4...\n"
          ]
        },
        {
          "output_type": "stream",
          "name": "stderr",
          "text": [
            "Warning message in .local(x, y, ...):\n",
            "“Polygons transformed to raster CRS (EPSG:NA)”\n"
          ]
        },
        {
          "output_type": "stream",
          "name": "stdout",
          "text": [
            "  |======================================================================| 100%\n"
          ]
        },
        {
          "output_type": "stream",
          "name": "stderr",
          "text": [
            "Warning message in .local(x, y, ...):\n",
            "“Polygons transformed to raster CRS (EPSG:NA)”\n"
          ]
        },
        {
          "output_type": "stream",
          "name": "stdout",
          "text": [
            "  |======================================================================| 100%\n"
          ]
        },
        {
          "output_type": "stream",
          "name": "stderr",
          "text": [
            "Warning message in .local(x, y, ...):\n",
            "“Polygons transformed to raster CRS (EPSG:NA)”\n"
          ]
        },
        {
          "output_type": "stream",
          "name": "stdout",
          "text": [
            "  |======================================================================| 100%\n"
          ]
        },
        {
          "output_type": "stream",
          "name": "stderr",
          "text": [
            "Warning message in .local(x, y, ...):\n",
            "“Polygons transformed to raster CRS (EPSG:NA)”\n"
          ]
        },
        {
          "output_type": "stream",
          "name": "stdout",
          "text": [
            "  |======================================================================| 100%\n"
          ]
        },
        {
          "output_type": "display_data",
          "data": {
            "text/plain": [
              "plot without title"
            ],
            "image/png": "[encoded data removed]"
          },
          "metadata": {
            "image/png": {
              "width": 420,
              "height": 420
            }
          }
        },
        {
          "output_type": "stream",
          "name": "stdout",
          "text": [
            "Deleting source `/content/HUC_Intersection_Set/huc_10_9.gpkg' failed\n",
            "Writing layer `huc_10_9' to data source \n",
            "  `/content/HUC_Intersection_Set/huc_10_9.gpkg' using driver `GPKG'\n",
            "Writing 172908 features with 40 fields and geometry type Point.\n",
            "[1] \"Finished HUC  Green Peter Lake-Middle Santiam River\"\n",
            "Simple feature collection with 1 feature and 17 fields\n",
            "Geometry type: MULTIPOLYGON\n",
            "Dimension:     XY\n",
            "Bounding box:  xmin: -122.6753 ymin: 44.31788 xmax: -122.4218 ymax: 44.48299\n",
            "Geodetic CRS:  WGS 84\n",
            "   OBJECTID                                  TNMID\n",
            "10      531 {23A6550A-4B13-425E-89DD-4EF5DDA61958}\n",
            "                             MetaSourceID SourceDataDesc SourceOriginator\n",
            "10 {A4B99D2F-D7C5-4BCA-A07F-0B6FDF219B65}           <NA>             <NA>\n",
            "   SourceFeatureID            LoadDate GNIS_ID AreaAcres AreaSqKm States\n",
            "10            <NA> 2016-12-01 09:32:16      NA  36552.14   147.92     OR\n",
            "        HUC10                            Name HUType HUMod Shape_Length\n",
            "10 1709000604 Foster Lake-South Santiam River      S  <NA>    0.7483996\n",
            "   Shape_Area                           geom\n",
            "10 0.01671252 MULTIPOLYGON (((-122.579 44...\n"
          ]
        },
        {
          "output_type": "stream",
          "name": "stderr",
          "text": [
            "Warning message in .local(x, y, ...):\n",
            "“Polygons transformed to raster CRS (EPSG:NA)”\n"
          ]
        },
        {
          "output_type": "stream",
          "name": "stdout",
          "text": [
            "  |======================================================================| 100%\n"
          ]
        },
        {
          "output_type": "stream",
          "name": "stderr",
          "text": [
            "Warning message in .local(x, y, ...):\n",
            "“Polygons transformed to raster CRS (EPSG:NA)”\n"
          ]
        },
        {
          "output_type": "stream",
          "name": "stdout",
          "text": [
            "  |======================================================================| 100%\n"
          ]
        },
        {
          "output_type": "stream",
          "name": "stderr",
          "text": [
            "Warning message in .local(x, y, ...):\n",
            "“Polygons transformed to raster CRS (EPSG:NA)”\n"
          ]
        },
        {
          "output_type": "stream",
          "name": "stdout",
          "text": [
            "  |======================================================================| 100%\n"
          ]
        },
        {
          "output_type": "stream",
          "name": "stderr",
          "text": [
            "Warning message in .local(x, y, ...):\n",
            "“Polygons transformed to raster CRS (EPSG:NA)”\n"
          ]
        },
        {
          "output_type": "stream",
          "name": "stdout",
          "text": [
            "  |======================================================================| 100%\n"
          ]
        },
        {
          "output_type": "display_data",
          "data": {
            "text/plain": [
              "plot without title"
            ],
            "image/png": "[encoded data removed]"
          },
          "metadata": {
            "image/png": {
              "width": 420,
              "height": 420
            }
          }
        },
        {
          "output_type": "stream",
          "name": "stdout",
          "text": [
            "Deleting source `/content/HUC_Intersection_Set/huc_10_10.gpkg' failed\n",
            "Writing layer `huc_10_10' to data source \n",
            "  `/content/HUC_Intersection_Set/huc_10_10.gpkg' using driver `GPKG'\n",
            "Writing 73478 features with 40 fields and geometry type Point.\n",
            "[1] \"Finished HUC  Foster Lake-South Santiam River\"\n",
            "Simple feature collection with 1 feature and 17 fields\n",
            "Geometry type: MULTIPOLYGON\n",
            "Dimension:     XY\n",
            "Bounding box:  xmin: -122.6788 ymin: 44.26713 xmax: -122.4149 ymax: 44.41392\n",
            "Geodetic CRS:  WGS 84\n",
            "   OBJECTID                                  TNMID MetaSourceID SourceDataDesc\n",
            "11      532 {E84D9757-D225-4662-A345-23BB35F2EAD8}         <NA>           <NA>\n",
            "   SourceOriginator SourceFeatureID            LoadDate GNIS_ID AreaAcres\n",
            "11             <NA>            <NA> 2013-01-18 08:56:26      NA  40697.24\n",
            "   AreaSqKm States      HUC10        Name HUType HUMod Shape_Length Shape_Area\n",
            "11    164.7     OR 1709000605 Wiley Creek      S  <NA>    0.7647108 0.01858415\n",
            "                             geom\n",
            "11 MULTIPOLYGON (((-122.675 44...\n"
          ]
        },
        {
          "output_type": "stream",
          "name": "stderr",
          "text": [
            "Warning message in .local(x, y, ...):\n",
            "“Polygons transformed to raster CRS (EPSG:NA)”\n"
          ]
        },
        {
          "output_type": "stream",
          "name": "stdout",
          "text": [
            "  |======================================================================| 100%\n"
          ]
        },
        {
          "output_type": "stream",
          "name": "stderr",
          "text": [
            "Warning message in .local(x, y, ...):\n",
            "“Polygons transformed to raster CRS (EPSG:NA)”\n"
          ]
        },
        {
          "output_type": "stream",
          "name": "stdout",
          "text": [
            "  |======================================================================| 100%\n"
          ]
        },
        {
          "output_type": "stream",
          "name": "stderr",
          "text": [
            "Warning message in .local(x, y, ...):\n",
            "“Polygons transformed to raster CRS (EPSG:NA)”\n"
          ]
        },
        {
          "output_type": "stream",
          "name": "stdout",
          "text": [
            "  |======================================================================| 100%\n"
          ]
        },
        {
          "output_type": "stream",
          "name": "stderr",
          "text": [
            "Warning message in .local(x, y, ...):\n",
            "“Polygons transformed to raster CRS (EPSG:NA)”\n"
          ]
        },
        {
          "output_type": "stream",
          "name": "stdout",
          "text": [
            "  |======================================================================| 100%\n"
          ]
        },
        {
          "output_type": "display_data",
          "data": {
            "text/plain": [
              "plot without title"
            ],
            "image/png": "[encoded data removed]"
          },
          "metadata": {
            "image/png": {
              "width": 420,
              "height": 420
            }
          }
        },
        {
          "output_type": "stream",
          "name": "stdout",
          "text": [
            "Deleting source `/content/HUC_Intersection_Set/huc_10_11.gpkg' failed\n",
            "Writing layer `huc_10_11' to data source \n",
            "  `/content/HUC_Intersection_Set/huc_10_11.gpkg' using driver `GPKG'\n",
            "Writing 85232 features with 40 fields and geometry type Point.\n",
            "[1] \"Finished HUC  Wiley Creek\"\n",
            "Simple feature collection with 1 feature and 17 fields\n",
            "Geometry type: MULTIPOLYGON\n",
            "Dimension:     XY\n",
            "Bounding box:  xmin: -122.9466 ymin: 44.49638 xmax: -122.4399 ymax: 44.70031\n",
            "Geodetic CRS:  WGS 84\n",
            "   OBJECTID                                  TNMID MetaSourceID SourceDataDesc\n",
            "12      533 {D38372A1-B3E7-4F92-9846-FA1FA4BBC151}         <NA>           <NA>\n",
            "   SourceOriginator SourceFeatureID            LoadDate GNIS_ID AreaAcres\n",
            "12             <NA>            <NA> 2013-01-18 08:56:26      NA  99729.22\n",
            "   AreaSqKm States      HUC10           Name HUType HUMod Shape_Length\n",
            "12   403.59     OR 1709000606 Crabtree Creek      S  <NA>     1.377602\n",
            "   Shape_Area                           geom\n",
            "12 0.04575148 MULTIPOLYGON (((-122.7784 4...\n"
          ]
        },
        {
          "output_type": "stream",
          "name": "stderr",
          "text": [
            "Warning message in .local(x, y, ...):\n",
            "“Polygons transformed to raster CRS (EPSG:NA)”\n"
          ]
        },
        {
          "output_type": "stream",
          "name": "stdout",
          "text": [
            "  |======================================================================| 100%\n"
          ]
        },
        {
          "output_type": "stream",
          "name": "stderr",
          "text": [
            "Warning message in .local(x, y, ...):\n",
            "“Polygons transformed to raster CRS (EPSG:NA)”\n"
          ]
        },
        {
          "output_type": "stream",
          "name": "stdout",
          "text": [
            "  |======================================================================| 100%\n"
          ]
        },
        {
          "output_type": "stream",
          "name": "stderr",
          "text": [
            "Warning message in .local(x, y, ...):\n",
            "“Polygons transformed to raster CRS (EPSG:NA)”\n"
          ]
        },
        {
          "output_type": "stream",
          "name": "stdout",
          "text": [
            "  |======================================================================| 100%\n"
          ]
        },
        {
          "output_type": "stream",
          "name": "stderr",
          "text": [
            "Warning message in .local(x, y, ...):\n",
            "“Polygons transformed to raster CRS (EPSG:NA)”\n"
          ]
        },
        {
          "output_type": "stream",
          "name": "stdout",
          "text": [
            "  |======================================================================| 100%\n"
          ]
        },
        {
          "output_type": "display_data",
          "data": {
            "text/plain": [
              "plot without title"
            ],
            "image/png": "[encoded data removed]"
          },
          "metadata": {
            "image/png": {
              "width": 420,
              "height": 420
            }
          }
        },
        {
          "output_type": "stream",
          "name": "stdout",
          "text": [
            "Deleting source `/content/HUC_Intersection_Set/huc_10_12.gpkg' failed\n",
            "Writing layer `huc_10_12' to data source \n",
            "  `/content/HUC_Intersection_Set/huc_10_12.gpkg' using driver `GPKG'\n",
            "Writing 166553 features with 40 fields and geometry type Point.\n",
            "[1] \"Finished HUC  Crabtree Creek\"\n",
            "Simple feature collection with 1 feature and 17 fields\n",
            "Geometry type: MULTIPOLYGON\n",
            "Dimension:     XY\n",
            "Bounding box:  xmin: -122.9727 ymin: 44.62439 xmax: -122.3099 ymax: 44.77002\n",
            "Geodetic CRS:  WGS 84\n",
            "   OBJECTID                                  TNMID MetaSourceID SourceDataDesc\n",
            "13      534 {C54023EE-80B2-46DC-858D-288D8D84D481}         <NA>           <NA>\n",
            "   SourceOriginator SourceFeatureID            LoadDate GNIS_ID AreaAcres\n",
            "13             <NA>            <NA> 2013-01-18 08:56:26      NA  92985.22\n",
            "   AreaSqKm States      HUC10         Name HUType HUMod Shape_Length Shape_Area\n",
            "13    376.3     OR 1709000607 Thomas Creek      S  <NA>     1.612097 0.04271937\n",
            "                             geom\n",
            "13 MULTIPOLYGON (((-122.6631 4...\n"
          ]
        },
        {
          "output_type": "stream",
          "name": "stderr",
          "text": [
            "Warning message in .local(x, y, ...):\n",
            "“Polygons transformed to raster CRS (EPSG:NA)”\n"
          ]
        },
        {
          "output_type": "stream",
          "name": "stdout",
          "text": [
            "  |======================================================================| 100%\n"
          ]
        },
        {
          "output_type": "stream",
          "name": "stderr",
          "text": [
            "Warning message in .local(x, y, ...):\n",
            "“Polygons transformed to raster CRS (EPSG:NA)”\n"
          ]
        },
        {
          "output_type": "stream",
          "name": "stdout",
          "text": [
            "  |======================================================================| 100%\n"
          ]
        },
        {
          "output_type": "stream",
          "name": "stderr",
          "text": [
            "Warning message in .local(x, y, ...):\n",
            "“Polygons transformed to raster CRS (EPSG:NA)”\n"
          ]
        },
        {
          "output_type": "stream",
          "name": "stdout",
          "text": [
            "  |======================================================================| 100%\n"
          ]
        },
        {
          "output_type": "stream",
          "name": "stderr",
          "text": [
            "Warning message in .local(x, y, ...):\n",
            "“Polygons transformed to raster CRS (EPSG:NA)”\n"
          ]
        },
        {
          "output_type": "stream",
          "name": "stdout",
          "text": [
            "  |======================================================================| 100%\n"
          ]
        },
        {
          "output_type": "display_data",
          "data": {
            "text/plain": [
              "plot without title"
            ],
            "image/png": "[encoded data removed]"
          },
          "metadata": {
            "image/png": {
              "width": 420,
              "height": 420
            }
          }
        },
        {
          "output_type": "stream",
          "name": "stdout",
          "text": [
            "Deleting source `/content/HUC_Intersection_Set/huc_10_13.gpkg' failed\n",
            "Writing layer `huc_10_13' to data source \n",
            "  `/content/HUC_Intersection_Set/huc_10_13.gpkg' using driver `GPKG'\n",
            "Writing 133942 features with 40 fields and geometry type Point.\n",
            "[1] \"Finished HUC  Thomas Creek\"\n",
            "Simple feature collection with 1 feature and 17 fields\n",
            "Geometry type: MULTIPOLYGON\n",
            "Dimension:     XY\n",
            "Bounding box:  xmin: -123.0159 ymin: 44.32229 xmax: -122.5774 ymax: 44.71794\n",
            "Geodetic CRS:  WGS 84\n",
            "   OBJECTID                                  TNMID MetaSourceID SourceDataDesc\n",
            "14      535 {52AB359C-B1A4-42B4-B65F-2F08ABC34C5F}         <NA>           <NA>\n",
            "   SourceOriginator SourceFeatureID            LoadDate GNIS_ID AreaAcres\n",
            "14             <NA>            <NA> 2013-01-18 08:56:26      NA  118088.8\n",
            "   AreaSqKm States      HUC10                               Name HUType HUMod\n",
            "14   477.89     OR 1709000608 Hamilton Creek-South Santiam River      S  <NA>\n",
            "   Shape_Length Shape_Area                           geom\n",
            "14     1.767653  0.0540768 MULTIPOLYGON (((-122.9346 4...\n"
          ]
        },
        {
          "output_type": "stream",
          "name": "stderr",
          "text": [
            "Warning message in .local(x, y, ...):\n",
            "“Polygons transformed to raster CRS (EPSG:NA)”\n"
          ]
        },
        {
          "output_type": "stream",
          "name": "stdout",
          "text": [
            "  |======================================================================| 100%\n"
          ]
        },
        {
          "output_type": "stream",
          "name": "stderr",
          "text": [
            "Warning message in .local(x, y, ...):\n",
            "“Polygons transformed to raster CRS (EPSG:NA)”\n"
          ]
        },
        {
          "output_type": "stream",
          "name": "stdout",
          "text": [
            "  |======================================================================| 100%\n"
          ]
        },
        {
          "output_type": "stream",
          "name": "stderr",
          "text": [
            "Warning message in .local(x, y, ...):\n",
            "“Polygons transformed to raster CRS (EPSG:NA)”\n"
          ]
        },
        {
          "output_type": "stream",
          "name": "stdout",
          "text": [
            "  |======================================================================| 100%\n"
          ]
        },
        {
          "output_type": "stream",
          "name": "stderr",
          "text": [
            "Warning message in .local(x, y, ...):\n",
            "“Polygons transformed to raster CRS (EPSG:NA)”\n"
          ]
        },
        {
          "output_type": "stream",
          "name": "stdout",
          "text": [
            "  |======================================================================| 100%\n"
          ]
        },
        {
          "output_type": "display_data",
          "data": {
            "text/plain": [
              "plot without title"
            ],
            "image/png": "[encoded data removed]"
          },
          "metadata": {
            "image/png": {
              "width": 420,
              "height": 420
            }
          }
        },
        {
          "output_type": "stream",
          "name": "stdout",
          "text": [
            "Deleting source `/content/HUC_Intersection_Set/huc_10_14.gpkg' failed\n",
            "Writing layer `huc_10_14' to data source \n",
            "  `/content/HUC_Intersection_Set/huc_10_14.gpkg' using driver `GPKG'\n",
            "Writing 215711 features with 40 fields and geometry type Point.\n",
            "[1] \"Finished HUC  Hamilton Creek-South Santiam River\"\n",
            "Simple feature collection with 1 feature and 17 fields\n",
            "Geometry type: MULTIPOLYGON\n",
            "Dimension:     XY\n",
            "Bounding box:  xmin: -122.2121 ymin: 43.96432 xmax: -121.768 ymax: 44.17518\n",
            "Geodetic CRS:  WGS 84\n",
            "   OBJECTID                                  TNMID MetaSourceID SourceDataDesc\n",
            "15      592 {C83322E4-0815-4533-AF2C-865C6299D7B1}         <NA>           <NA>\n",
            "   SourceOriginator SourceFeatureID            LoadDate GNIS_ID AreaAcres\n",
            "15             <NA>            <NA> 2013-01-18 08:56:26      NA  101901.7\n",
            "   AreaSqKm States      HUC10        Name HUType HUMod Shape_Length Shape_Area\n",
            "15   412.38     OR 1709000401 Horse Creek      M  <NA>     1.285009 0.04633182\n",
            "                             geom\n",
            "15 MULTIPOLYGON (((-122.1833 4...\n"
          ]
        },
        {
          "output_type": "stream",
          "name": "stderr",
          "text": [
            "Warning message in .local(x, y, ...):\n",
            "“Polygons transformed to raster CRS (EPSG:NA)”\n"
          ]
        },
        {
          "output_type": "stream",
          "name": "stdout",
          "text": [
            "  |======================================================================| 100%\n"
          ]
        },
        {
          "output_type": "stream",
          "name": "stderr",
          "text": [
            "Warning message in .local(x, y, ...):\n",
            "“Polygons transformed to raster CRS (EPSG:NA)”\n"
          ]
        },
        {
          "output_type": "stream",
          "name": "stdout",
          "text": [
            "  |======================================================================| 100%\n"
          ]
        },
        {
          "output_type": "stream",
          "name": "stderr",
          "text": [
            "Warning message in .local(x, y, ...):\n",
            "“Polygons transformed to raster CRS (EPSG:NA)”\n"
          ]
        },
        {
          "output_type": "stream",
          "name": "stdout",
          "text": [
            "  |======================================================================| 100%\n"
          ]
        },
        {
          "output_type": "stream",
          "name": "stderr",
          "text": [
            "Warning message in .local(x, y, ...):\n",
            "“Polygons transformed to raster CRS (EPSG:NA)”\n"
          ]
        },
        {
          "output_type": "stream",
          "name": "stdout",
          "text": [
            "  |======================================================================| 100%\n"
          ]
        },
        {
          "output_type": "display_data",
          "data": {
            "text/plain": [
              "plot without title"
            ],
            "image/png": "[encoded data removed]"
          },
          "metadata": {
            "image/png": {
              "width": 420,
              "height": 420
            }
          }
        },
        {
          "output_type": "stream",
          "name": "stdout",
          "text": [
            "Deleting source `/content/HUC_Intersection_Set/huc_10_15.gpkg' failed\n",
            "Writing layer `huc_10_15' to data source \n",
            "  `/content/HUC_Intersection_Set/huc_10_15.gpkg' using driver `GPKG'\n",
            "Writing 221438 features with 40 fields and geometry type Point.\n",
            "[1] \"Finished HUC  Horse Creek\"\n",
            "Simple feature collection with 1 feature and 17 fields\n",
            "Geometry type: MULTIPOLYGON\n",
            "Dimension:     XY\n",
            "Bounding box:  xmin: -122.2071 ymin: 44.1143 xmax: -121.7705 ymax: 44.50841\n",
            "Geodetic CRS:  WGS 84\n",
            "   OBJECTID                                  TNMID MetaSourceID SourceDataDesc\n",
            "16      593 {8C6919C6-3351-45A5-B5C9-0ADF80DB10FC}         <NA>           <NA>\n",
            "   SourceOriginator SourceFeatureID            LoadDate GNIS_ID AreaAcres\n",
            "16             <NA>            <NA> 2013-01-18 08:56:26      NA    230729\n",
            "   AreaSqKm States      HUC10                      Name HUType HUMod\n",
            "16   933.73     OR 1709000402 Headwaters McKenzie River      S  <NA>\n",
            "   Shape_Length Shape_Area                           geom\n",
            "16     1.864254  0.1052964 MULTIPOLYGON (((-122.0227 4...\n"
          ]
        },
        {
          "output_type": "stream",
          "name": "stderr",
          "text": [
            "Warning message in .local(x, y, ...):\n",
            "“Polygons transformed to raster CRS (EPSG:NA)”\n"
          ]
        },
        {
          "output_type": "stream",
          "name": "stdout",
          "text": [
            "  |======================================================================| 100%\n"
          ]
        },
        {
          "output_type": "stream",
          "name": "stderr",
          "text": [
            "Warning message in .local(x, y, ...):\n",
            "“Polygons transformed to raster CRS (EPSG:NA)”\n"
          ]
        },
        {
          "output_type": "stream",
          "name": "stdout",
          "text": [
            "  |======================================================================| 100%\n"
          ]
        },
        {
          "output_type": "stream",
          "name": "stderr",
          "text": [
            "Warning message in .local(x, y, ...):\n",
            "“Polygons transformed to raster CRS (EPSG:NA)”\n"
          ]
        },
        {
          "output_type": "stream",
          "name": "stdout",
          "text": [
            "  |======================================================================| 100%\n"
          ]
        },
        {
          "output_type": "stream",
          "name": "stderr",
          "text": [
            "Warning message in .local(x, y, ...):\n",
            "“Polygons transformed to raster CRS (EPSG:NA)”\n"
          ]
        },
        {
          "output_type": "stream",
          "name": "stdout",
          "text": [
            "  |======================================================================| 100%\n"
          ]
        },
        {
          "output_type": "display_data",
          "data": {
            "text/plain": [
              "plot without title"
            ],
            "image/png": "[encoded data removed]"
          },
          "metadata": {
            "image/png": {
              "width": 420,
              "height": 420
            }
          }
        },
        {
          "output_type": "stream",
          "name": "stdout",
          "text": [
            "Deleting source `/content/HUC_Intersection_Set/huc_10_16.gpkg' failed\n",
            "Writing layer `huc_10_16' to data source \n",
            "  `/content/HUC_Intersection_Set/huc_10_16.gpkg' using driver `GPKG'\n",
            "Writing 453951 features with 40 fields and geometry type Point.\n",
            "[1] \"Finished HUC  Headwaters McKenzie River\"\n",
            "Simple feature collection with 1 feature and 17 fields\n",
            "Geometry type: MULTIPOLYGON\n",
            "Dimension:     XY\n",
            "Bounding box:  xmin: -122.2933 ymin: 43.85856 xmax: -121.8577 ymax: 44.1619\n",
            "Geodetic CRS:  WGS 84\n",
            "   OBJECTID                                  TNMID MetaSourceID SourceDataDesc\n",
            "17      594 {CBBB1DBD-628B-4875-B6D4-124D9B862038}         <NA>           <NA>\n",
            "   SourceOriginator SourceFeatureID            LoadDate GNIS_ID AreaAcres\n",
            "17             <NA>            <NA> 2013-01-18 08:56:26      NA  137670.1\n",
            "   AreaSqKm States      HUC10                      Name HUType HUMod\n",
            "17   557.13     OR 1709000403 South Fork McKenzie River      S  <NA>\n",
            "   Shape_Length Shape_Area                           geom\n",
            "17     1.486774 0.06251692 MULTIPOLYGON (((-122.2652 4...\n"
          ]
        },
        {
          "output_type": "stream",
          "name": "stderr",
          "text": [
            "Warning message in .local(x, y, ...):\n",
            "“Polygons transformed to raster CRS (EPSG:NA)”\n"
          ]
        },
        {
          "output_type": "stream",
          "name": "stdout",
          "text": [
            "  |======================================================================| 100%\n"
          ]
        },
        {
          "output_type": "stream",
          "name": "stderr",
          "text": [
            "Warning message in .local(x, y, ...):\n",
            "“Polygons transformed to raster CRS (EPSG:NA)”\n"
          ]
        },
        {
          "output_type": "stream",
          "name": "stdout",
          "text": [
            "  |======================================================================| 100%\n"
          ]
        },
        {
          "output_type": "stream",
          "name": "stderr",
          "text": [
            "Warning message in .local(x, y, ...):\n",
            "“Polygons transformed to raster CRS (EPSG:NA)”\n"
          ]
        },
        {
          "output_type": "stream",
          "name": "stdout",
          "text": [
            "  |======================================================================| 100%\n"
          ]
        },
        {
          "output_type": "stream",
          "name": "stderr",
          "text": [
            "Warning message in .local(x, y, ...):\n",
            "“Polygons transformed to raster CRS (EPSG:NA)”\n"
          ]
        },
        {
          "output_type": "stream",
          "name": "stdout",
          "text": [
            "  |======================================================================| 100%\n"
          ]
        },
        {
          "output_type": "display_data",
          "data": {
            "text/plain": [
              "plot without title"
            ],
            "image/png": "[encoded data removed]"
          },
          "metadata": {
            "image/png": {
              "width": 420,
              "height": 420
            }
          }
        },
        {
          "output_type": "stream",
          "name": "stdout",
          "text": [
            "Deleting source `/content/HUC_Intersection_Set/huc_10_17.gpkg' failed\n",
            "Writing layer `huc_10_17' to data source \n",
            "  `/content/HUC_Intersection_Set/huc_10_17.gpkg' using driver `GPKG'\n",
            "Writing 279057 features with 40 fields and geometry type Point.\n",
            "[1] \"Finished HUC  South Fork McKenzie River\"\n",
            "Simple feature collection with 1 feature and 17 fields\n",
            "Geometry type: MULTIPOLYGON\n",
            "Dimension:     XY\n",
            "Bounding box:  xmin: -122.3832 ymin: 44.15328 xmax: -122.1017 ymax: 44.33805\n",
            "Geodetic CRS:  WGS 84\n",
            "   OBJECTID                                  TNMID MetaSourceID SourceDataDesc\n",
            "18      595 {AD1A0D38-7E8A-406B-A797-80C32CDB363B}         <NA>           <NA>\n",
            "   SourceOriginator SourceFeatureID            LoadDate GNIS_ID AreaAcres\n",
            "18             <NA>            <NA> 2013-01-18 08:56:26      NA  58954.58\n",
            "   AreaSqKm States      HUC10       Name HUType HUMod Shape_Length Shape_Area\n",
            "18   238.58     OR 1709000404 Blue River      S  <NA>    0.9069749 0.02688158\n",
            "                             geom\n",
            "18 MULTIPOLYGON (((-122.1577 4...\n"
          ]
        },
        {
          "output_type": "stream",
          "name": "stderr",
          "text": [
            "Warning message in .local(x, y, ...):\n",
            "“Polygons transformed to raster CRS (EPSG:NA)”\n"
          ]
        },
        {
          "output_type": "stream",
          "name": "stdout",
          "text": [
            "  |======================================================================| 100%\n"
          ]
        },
        {
          "output_type": "stream",
          "name": "stderr",
          "text": [
            "Warning message in .local(x, y, ...):\n",
            "“Polygons transformed to raster CRS (EPSG:NA)”\n"
          ]
        },
        {
          "output_type": "stream",
          "name": "stdout",
          "text": [
            "  |======================================================================| 100%\n"
          ]
        },
        {
          "output_type": "stream",
          "name": "stderr",
          "text": [
            "Warning message in .local(x, y, ...):\n",
            "“Polygons transformed to raster CRS (EPSG:NA)”\n"
          ]
        },
        {
          "output_type": "stream",
          "name": "stdout",
          "text": [
            "  |======================================================================| 100%\n"
          ]
        },
        {
          "output_type": "stream",
          "name": "stderr",
          "text": [
            "Warning message in .local(x, y, ...):\n",
            "“Polygons transformed to raster CRS (EPSG:NA)”\n"
          ]
        },
        {
          "output_type": "stream",
          "name": "stdout",
          "text": [
            "  |======================================================================| 100%\n"
          ]
        },
        {
          "output_type": "display_data",
          "data": {
            "text/plain": [
              "plot without title"
            ],
            "image/png": "[encoded data removed]"
          },
          "metadata": {
            "image/png": {
              "width": 420,
              "height": 420
            }
          }
        },
        {
          "output_type": "stream",
          "name": "stdout",
          "text": [
            "Deleting source `/content/HUC_Intersection_Set/huc_10_18.gpkg' failed\n",
            "Writing layer `huc_10_18' to data source \n",
            "  `/content/HUC_Intersection_Set/huc_10_18.gpkg' using driver `GPKG'\n",
            "Writing 129685 features with 40 fields and geometry type Point.\n",
            "[1] \"Finished HUC  Blue River\"\n",
            "Simple feature collection with 1 feature and 17 fields\n",
            "Geometry type: MULTIPOLYGON\n",
            "Dimension:     XY\n",
            "Bounding box:  xmin: -122.4273 ymin: 43.96912 xmax: -122.1899 ymax: 44.21152\n",
            "Geodetic CRS:  WGS 84\n",
            "   OBJECTID                                  TNMID MetaSourceID SourceDataDesc\n",
            "19      596 {30746DBB-FD7C-4CA5-979C-A9BB30D4D61C}         <NA>           <NA>\n",
            "   SourceOriginator SourceFeatureID            LoadDate GNIS_ID AreaAcres\n",
            "19             <NA>            <NA> 2013-01-18 08:56:26      NA  47786.06\n",
            "   AreaSqKm States      HUC10                        Name HUType HUMod\n",
            "19   193.38     OR 1709000405 Quartz Creek-McKenzie River      S  <NA>\n",
            "   Shape_Length Shape_Area                           geom\n",
            "19     1.125354 0.02173645 MULTIPOLYGON (((-122.1981 4...\n"
          ]
        },
        {
          "output_type": "stream",
          "name": "stderr",
          "text": [
            "Warning message in .local(x, y, ...):\n",
            "“Polygons transformed to raster CRS (EPSG:NA)”\n"
          ]
        },
        {
          "output_type": "stream",
          "name": "stdout",
          "text": [
            "  |======================================================================| 100%\n"
          ]
        },
        {
          "output_type": "stream",
          "name": "stderr",
          "text": [
            "Warning message in .local(x, y, ...):\n",
            "“Polygons transformed to raster CRS (EPSG:NA)”\n"
          ]
        },
        {
          "output_type": "stream",
          "name": "stdout",
          "text": [
            "  |======================================================================| 100%\n"
          ]
        },
        {
          "output_type": "stream",
          "name": "stderr",
          "text": [
            "Warning message in .local(x, y, ...):\n",
            "“Polygons transformed to raster CRS (EPSG:NA)”\n"
          ]
        },
        {
          "output_type": "stream",
          "name": "stdout",
          "text": [
            "  |======================================================================| 100%\n"
          ]
        },
        {
          "output_type": "stream",
          "name": "stderr",
          "text": [
            "Warning message in .local(x, y, ...):\n",
            "“Polygons transformed to raster CRS (EPSG:NA)”\n"
          ]
        },
        {
          "output_type": "stream",
          "name": "stdout",
          "text": [
            "  |======================================================================| 100%\n"
          ]
        },
        {
          "output_type": "display_data",
          "data": {
            "text/plain": [
              "plot without title"
            ],
            "image/png": "[encoded data removed]"
          },
          "metadata": {
            "image/png": {
              "width": 420,
              "height": 420
            }
          }
        },
        {
          "output_type": "stream",
          "name": "stdout",
          "text": [
            "Deleting source `/content/HUC_Intersection_Set/huc_10_19.gpkg' failed\n",
            "Writing layer `huc_10_19' to data source \n",
            "  `/content/HUC_Intersection_Set/huc_10_19.gpkg' using driver `GPKG'\n",
            "Writing 97113 features with 40 fields and geometry type Point.\n",
            "[1] \"Finished HUC  Quartz Creek-McKenzie River\"\n",
            "Simple feature collection with 1 feature and 17 fields\n",
            "Geometry type: MULTIPOLYGON\n",
            "Dimension:     XY\n",
            "Bounding box:  xmin: -123.1059 ymin: 44.01958 xmax: -122.3483 ymax: 44.23558\n",
            "Geodetic CRS:  WGS 84\n",
            "   OBJECTID                                  TNMID MetaSourceID SourceDataDesc\n",
            "20      597 {F2E1DE1F-E6AD-45E4-B52D-0F5293C2C834}         <NA>           <NA>\n",
            "   SourceOriginator SourceFeatureID            LoadDate GNIS_ID AreaAcres\n",
            "20             <NA>            <NA> 2013-01-18 08:56:26      NA  165320.9\n",
            "   AreaSqKm States      HUC10           Name HUType HUMod Shape_Length\n",
            "20   669.03     OR 1709000407 McKenzie River      S  <NA>     2.057678\n",
            "   Shape_Area                           geom\n",
            "20 0.07521543 MULTIPOLYGON (((-122.5462 4...\n"
          ]
        },
        {
          "output_type": "stream",
          "name": "stderr",
          "text": [
            "Warning message in .local(x, y, ...):\n",
            "“Polygons transformed to raster CRS (EPSG:NA)”\n"
          ]
        },
        {
          "output_type": "stream",
          "name": "stdout",
          "text": [
            "  |======================================================================| 100%\n"
          ]
        },
        {
          "output_type": "stream",
          "name": "stderr",
          "text": [
            "Warning message in .local(x, y, ...):\n",
            "“Polygons transformed to raster CRS (EPSG:NA)”\n"
          ]
        },
        {
          "output_type": "stream",
          "name": "stdout",
          "text": [
            "  |======================================================================| 100%\n"
          ]
        },
        {
          "output_type": "stream",
          "name": "stderr",
          "text": [
            "Warning message in .local(x, y, ...):\n",
            "“Polygons transformed to raster CRS (EPSG:NA)”\n"
          ]
        },
        {
          "output_type": "stream",
          "name": "stdout",
          "text": [
            "  |======================================================================| 100%\n"
          ]
        },
        {
          "output_type": "stream",
          "name": "stderr",
          "text": [
            "Warning message in .local(x, y, ...):\n",
            "“Polygons transformed to raster CRS (EPSG:NA)”\n"
          ]
        },
        {
          "output_type": "stream",
          "name": "stdout",
          "text": [
            "  |======================================================================| 100%\n"
          ]
        },
        {
          "output_type": "display_data",
          "data": {
            "text/plain": [
              "plot without title"
            ],
            "image/png": "[encoded data removed]"
          },
          "metadata": {
            "image/png": {
              "width": 420,
              "height": 420
            }
          }
        },
        {
          "output_type": "stream",
          "name": "stdout",
          "text": [
            "Deleting source `/content/HUC_Intersection_Set/huc_10_20.gpkg' failed\n",
            "Writing layer `huc_10_20' to data source \n",
            "  `/content/HUC_Intersection_Set/huc_10_20.gpkg' using driver `GPKG'\n",
            "Writing 286439 features with 40 fields and geometry type Point.\n",
            "[1] \"Finished HUC  McKenzie River\"\n",
            "Simple feature collection with 1 feature and 17 fields\n",
            "Geometry type: MULTIPOLYGON\n",
            "Dimension:     XY\n",
            "Bounding box:  xmin: -123.0079 ymin: 44.07915 xmax: -122.5752 ymax: 44.30088\n",
            "Geodetic CRS:  WGS 84\n",
            "   OBJECTID                                  TNMID\n",
            "21      598 {D4FEC1E4-27FA-42BE-A6EB-AB87357E83E2}\n",
            "                             MetaSourceID SourceDataDesc SourceOriginator\n",
            "21 {3FC953DC-51FF-4FE8-8A83-0725D7A39ACD}           <NA>             <NA>\n",
            "   SourceFeatureID            LoadDate GNIS_ID AreaAcres AreaSqKm States\n",
            "21            <NA> 2020-03-09 18:33:39      NA  114672.4   464.06     OR\n",
            "        HUC10         Name HUType HUMod Shape_Length Shape_Area\n",
            "21 1709000406 Mohawk River      S  <NA>     1.241901 0.05224844\n",
            "                             geom\n",
            "21 MULTIPOLYGON (((-122.8838 4...\n"
          ]
        },
        {
          "output_type": "stream",
          "name": "stderr",
          "text": [
            "Warning message in .local(x, y, ...):\n",
            "“Polygons transformed to raster CRS (EPSG:NA)”\n"
          ]
        },
        {
          "output_type": "stream",
          "name": "stdout",
          "text": [
            "  |======================================================================| 100%\n"
          ]
        },
        {
          "output_type": "stream",
          "name": "stderr",
          "text": [
            "Warning message in .local(x, y, ...):\n",
            "“Polygons transformed to raster CRS (EPSG:NA)”\n"
          ]
        },
        {
          "output_type": "stream",
          "name": "stdout",
          "text": [
            "  |======================================================================| 100%\n"
          ]
        },
        {
          "output_type": "stream",
          "name": "stderr",
          "text": [
            "Warning message in .local(x, y, ...):\n",
            "“Polygons transformed to raster CRS (EPSG:NA)”\n"
          ]
        },
        {
          "output_type": "stream",
          "name": "stdout",
          "text": [
            "  |======================================================================| 100%\n"
          ]
        },
        {
          "output_type": "stream",
          "name": "stderr",
          "text": [
            "Warning message in .local(x, y, ...):\n",
            "“Polygons transformed to raster CRS (EPSG:NA)”\n"
          ]
        },
        {
          "output_type": "stream",
          "name": "stdout",
          "text": [
            "  |======================================================================| 100%\n"
          ]
        },
        {
          "output_type": "display_data",
          "data": {
            "text/plain": [
              "plot without title"
            ],
            "image/png": "[encoded data removed]"
          },
          "metadata": {
            "image/png": {
              "width": 420,
              "height": 420
            }
          }
        },
        {
          "output_type": "stream",
          "name": "stdout",
          "text": [
            "Deleting source `/content/HUC_Intersection_Set/huc_10_21.gpkg' failed\n",
            "Writing layer `huc_10_21' to data source \n",
            "  `/content/HUC_Intersection_Set/huc_10_21.gpkg' using driver `GPKG'\n",
            "Writing 198076 features with 40 fields and geometry type Point.\n",
            "[1] \"Finished HUC  Mohawk River\"\n",
            "Simple feature collection with 1 feature and 17 fields\n",
            "Geometry type: MULTIPOLYGON\n",
            "Dimension:     XY\n",
            "Bounding box:  xmin: -123.1813 ymin: 44.43241 xmax: -122.8447 ymax: 44.63977\n",
            "Geodetic CRS:  WGS 84\n",
            "   OBJECTID                                  TNMID MetaSourceID SourceDataDesc\n",
            "22      697 {2A769466-46F5-44A7-BA9B-9C55892A3321}         <NA>           <NA>\n",
            "   SourceOriginator SourceFeatureID            LoadDate GNIS_ID AreaAcres\n",
            "22             <NA>            <NA> 2013-01-18 08:56:26      NA  54837.73\n",
            "   AreaSqKm States      HUC10                  Name HUType HUMod Shape_Length\n",
            "22   221.92     OR 1709000304 Lower Calapooia River      S  <NA>     1.128174\n",
            "   Shape_Area                           geom\n",
            "22 0.02512725 MULTIPOLYGON (((-123.1109 4...\n"
          ]
        },
        {
          "output_type": "stream",
          "name": "stderr",
          "text": [
            "Warning message in .local(x, y, ...):\n",
            "“Polygons transformed to raster CRS (EPSG:NA)”\n"
          ]
        },
        {
          "output_type": "stream",
          "name": "stdout",
          "text": [
            "  |======================================================================| 100%\n"
          ]
        },
        {
          "output_type": "stream",
          "name": "stderr",
          "text": [
            "Warning message in .local(x, y, ...):\n",
            "“Polygons transformed to raster CRS (EPSG:NA)”\n"
          ]
        },
        {
          "output_type": "stream",
          "name": "stdout",
          "text": [
            "  |======================================================================| 100%\n"
          ]
        },
        {
          "output_type": "stream",
          "name": "stderr",
          "text": [
            "Warning message in .local(x, y, ...):\n",
            "“Polygons transformed to raster CRS (EPSG:NA)”\n"
          ]
        },
        {
          "output_type": "stream",
          "name": "stdout",
          "text": [
            "  |======================================================================| 100%\n"
          ]
        },
        {
          "output_type": "stream",
          "name": "stderr",
          "text": [
            "Warning message in .local(x, y, ...):\n",
            "“Polygons transformed to raster CRS (EPSG:NA)”\n"
          ]
        },
        {
          "output_type": "stream",
          "name": "stdout",
          "text": [
            "  |======================================================================| 100%\n"
          ]
        },
        {
          "output_type": "display_data",
          "data": {
            "text/plain": [
              "plot without title"
            ],
            "image/png": "[encoded data removed]"
          },
          "metadata": {
            "image/png": {
              "width": 420,
              "height": 420
            }
          }
        },
        {
          "output_type": "stream",
          "name": "stdout",
          "text": [
            "Deleting source `/content/HUC_Intersection_Set/huc_10_22.gpkg' failed\n",
            "Writing layer `huc_10_22' to data source \n",
            "  `/content/HUC_Intersection_Set/huc_10_22.gpkg' using driver `GPKG'\n",
            "Writing 102842 features with 40 fields and geometry type Point.\n",
            "[1] \"Finished HUC  Lower Calapooia River\"\n",
            "Simple feature collection with 1 feature and 17 fields\n",
            "Geometry type: MULTIPOLYGON\n",
            "Dimension:     XY\n",
            "Bounding box:  xmin: -123.558 ymin: 43.86403 xmax: -123.0578 ymax: 44.41449\n",
            "Geodetic CRS:  WGS 84\n",
            "   OBJECTID                                  TNMID\n",
            "23      698 {C9A11F6A-6DD0-4FE2-A637-2F2C3D89227E}\n",
            "                             MetaSourceID SourceDataDesc SourceOriginator\n",
            "23 {3E502A6E-6F5A-4363-A39D-E412DBA45A78}           <NA>             <NA>\n",
            "   SourceFeatureID            LoadDate GNIS_ID AreaAcres AreaSqKm States\n",
            "23            <NA> 2019-02-17 19:18:15      NA  263593.2  1066.72     OR\n",
            "        HUC10           Name HUType HUMod Shape_Length Shape_Area\n",
            "23 1709000301 Long Tom River      S  <NA>     2.199448  0.1198799\n",
            "                             geom\n",
            "23 MULTIPOLYGON (((-123.2359 4...\n"
          ]
        },
        {
          "output_type": "stream",
          "name": "stderr",
          "text": [
            "Warning message in .local(x, y, ...):\n",
            "“Polygons transformed to raster CRS (EPSG:NA)”\n"
          ]
        },
        {
          "output_type": "stream",
          "name": "stdout",
          "text": [
            "  |======================================================================| 100%\n"
          ]
        },
        {
          "output_type": "stream",
          "name": "stderr",
          "text": [
            "Warning message in .local(x, y, ...):\n",
            "“Polygons transformed to raster CRS (EPSG:NA)”\n"
          ]
        },
        {
          "output_type": "stream",
          "name": "stdout",
          "text": [
            "  |======================================================================| 100%\n"
          ]
        },
        {
          "output_type": "stream",
          "name": "stderr",
          "text": [
            "Warning message in .local(x, y, ...):\n",
            "“Polygons transformed to raster CRS (EPSG:NA)”\n"
          ]
        },
        {
          "output_type": "stream",
          "name": "stdout",
          "text": [
            "  |======================================================================| 100%\n"
          ]
        },
        {
          "output_type": "stream",
          "name": "stderr",
          "text": [
            "Warning message in .local(x, y, ...):\n",
            "“Polygons transformed to raster CRS (EPSG:NA)”\n"
          ]
        },
        {
          "output_type": "stream",
          "name": "stdout",
          "text": [
            "  |======================================================================| 100%\n"
          ]
        },
        {
          "output_type": "display_data",
          "data": {
            "text/plain": [
              "plot without title"
            ],
            "image/png": "[encoded data removed]"
          },
          "metadata": {
            "image/png": {
              "width": 420,
              "height": 420
            }
          }
        },
        {
          "output_type": "stream",
          "name": "stdout",
          "text": [
            "Deleting source `/content/HUC_Intersection_Set/huc_10_23.gpkg' failed\n",
            "Writing layer `huc_10_23' to data source \n",
            "  `/content/HUC_Intersection_Set/huc_10_23.gpkg' using driver `GPKG'\n",
            "Writing 365606 features with 40 fields and geometry type Point.\n",
            "[1] \"Finished HUC  Long Tom River\"\n",
            "Simple feature collection with 1 feature and 17 fields\n",
            "Geometry type: MULTIPOLYGON\n",
            "Dimension:     XY\n",
            "Bounding box:  xmin: -123.6643 ymin: 44.27509 xmax: -123.2532 ymax: 44.73769\n",
            "Geodetic CRS:  WGS 84\n",
            "   OBJECTID                                  TNMID\n",
            "24      699 {8034B764-820C-4EE8-A1FA-A3A0E8B0EDBA}\n",
            "                             MetaSourceID SourceDataDesc SourceOriginator\n",
            "24 {3E502A6E-6F5A-4363-A39D-E412DBA45A78}           <NA>             <NA>\n",
            "   SourceFeatureID            LoadDate GNIS_ID AreaAcres AreaSqKm States\n",
            "24            <NA> 2019-02-17 19:18:15      NA  193858.9   784.52     OR\n",
            "        HUC10        Name HUType HUMod Shape_Length Shape_Area\n",
            "24 1709000302 Marys River      S  <NA>     1.911897 0.08877873\n",
            "                             geom\n",
            "24 MULTIPOLYGON (((-123.5309 4...\n"
          ]
        },
        {
          "output_type": "stream",
          "name": "stderr",
          "text": [
            "Warning message in .local(x, y, ...):\n",
            "“Polygons transformed to raster CRS (EPSG:NA)”\n"
          ]
        },
        {
          "output_type": "stream",
          "name": "stdout",
          "text": [
            "  |======================================================================| 100%\n"
          ]
        },
        {
          "output_type": "stream",
          "name": "stderr",
          "text": [
            "Warning message in .local(x, y, ...):\n",
            "“Polygons transformed to raster CRS (EPSG:NA)”\n"
          ]
        },
        {
          "output_type": "stream",
          "name": "stdout",
          "text": [
            "  |======================================================================| 100%\n"
          ]
        },
        {
          "output_type": "stream",
          "name": "stderr",
          "text": [
            "Warning message in .local(x, y, ...):\n",
            "“Polygons transformed to raster CRS (EPSG:NA)”\n"
          ]
        },
        {
          "output_type": "stream",
          "name": "stdout",
          "text": [
            "  |======================================================================| 100%\n"
          ]
        },
        {
          "output_type": "stream",
          "name": "stderr",
          "text": [
            "Warning message in .local(x, y, ...):\n",
            "“Polygons transformed to raster CRS (EPSG:NA)”\n"
          ]
        },
        {
          "output_type": "stream",
          "name": "stdout",
          "text": [
            "  |======================================================================| 100%\n"
          ]
        },
        {
          "output_type": "display_data",
          "data": {
            "text/plain": [
              "plot without title"
            ],
            "image/png": "[encoded data removed]"
          },
          "metadata": {
            "image/png": {
              "width": 420,
              "height": 420
            }
          }
        },
        {
          "output_type": "stream",
          "name": "stdout",
          "text": [
            "Deleting source `/content/HUC_Intersection_Set/huc_10_24.gpkg' failed\n",
            "Writing layer `huc_10_24' to data source \n",
            "  `/content/HUC_Intersection_Set/huc_10_24.gpkg' using driver `GPKG'\n",
            "Writing 280432 features with 40 fields and geometry type Point.\n",
            "[1] \"Finished HUC  Marys River\"\n",
            "Simple feature collection with 1 feature and 17 fields\n",
            "Geometry type: MULTIPOLYGON\n",
            "Dimension:     XY\n",
            "Bounding box:  xmin: -123.6539 ymin: 44.6216 xmax: -123.1294 ymax: 44.90893\n",
            "Geodetic CRS:  WGS 84\n",
            "   OBJECTID                                  TNMID\n",
            "25      700 {8E6905DC-3696-4795-AF8A-8248B84CBE35}\n",
            "                             MetaSourceID SourceDataDesc SourceOriginator\n",
            "25 {3E502A6E-6F5A-4363-A39D-E412DBA45A78}           <NA>             <NA>\n",
            "   SourceFeatureID            LoadDate GNIS_ID AreaAcres AreaSqKm States\n",
            "25            <NA> 2019-02-17 19:18:15      NA  201800.2   816.66     OR\n",
            "        HUC10             Name HUType HUMod Shape_Length Shape_Area\n",
            "25 1709000305 Luckiamute River      S  <NA>      1.81217  0.0928239\n",
            "                             geom\n",
            "25 MULTIPOLYGON (((-123.3823 4...\n"
          ]
        },
        {
          "output_type": "stream",
          "name": "stderr",
          "text": [
            "Warning message in .local(x, y, ...):\n",
            "“Polygons transformed to raster CRS (EPSG:NA)”\n"
          ]
        },
        {
          "output_type": "stream",
          "name": "stdout",
          "text": [
            "  |======================================================================| 100%\n"
          ]
        },
        {
          "output_type": "stream",
          "name": "stderr",
          "text": [
            "Warning message in .local(x, y, ...):\n",
            "“Polygons transformed to raster CRS (EPSG:NA)”\n"
          ]
        },
        {
          "output_type": "stream",
          "name": "stdout",
          "text": [
            "  |======================================================================| 100%\n"
          ]
        },
        {
          "output_type": "stream",
          "name": "stderr",
          "text": [
            "Warning message in .local(x, y, ...):\n",
            "“Polygons transformed to raster CRS (EPSG:NA)”\n"
          ]
        },
        {
          "output_type": "stream",
          "name": "stdout",
          "text": [
            "  |======================================================================| 100%\n"
          ]
        },
        {
          "output_type": "stream",
          "name": "stderr",
          "text": [
            "Warning message in .local(x, y, ...):\n",
            "“Polygons transformed to raster CRS (EPSG:NA)”\n"
          ]
        },
        {
          "output_type": "stream",
          "name": "stdout",
          "text": [
            "  |======================================================================| 100%\n"
          ]
        },
        {
          "output_type": "display_data",
          "data": {
            "text/plain": [
              "plot without title"
            ],
            "image/png": "[encoded data removed]"
          },
          "metadata": {
            "image/png": {
              "width": 420,
              "height": 420
            }
          }
        },
        {
          "output_type": "stream",
          "name": "stdout",
          "text": [
            "Deleting source `/content/HUC_Intersection_Set/huc_10_25.gpkg' failed\n",
            "Writing layer `huc_10_25' to data source \n",
            "  `/content/HUC_Intersection_Set/huc_10_25.gpkg' using driver `GPKG'\n",
            "Writing 351107 features with 40 fields and geometry type Point.\n",
            "[1] \"Finished HUC  Luckiamute River\"\n",
            "Simple feature collection with 1 feature and 17 fields\n",
            "Geometry type: MULTIPOLYGON\n",
            "Dimension:     XY\n",
            "Bounding box:  xmin: -123.1469 ymin: 44.20937 xmax: -122.3215 ymax: 44.5276\n",
            "Geodetic CRS:  WGS 84\n",
            "   OBJECTID                                  TNMID\n",
            "26      701 {6A02F507-A232-489E-A44C-362860EF236E}\n",
            "                             MetaSourceID SourceDataDesc SourceOriginator\n",
            "26 {3FC953DC-51FF-4FE8-8A83-0725D7A39ACD}           <NA>             <NA>\n",
            "   SourceFeatureID            LoadDate GNIS_ID AreaAcres AreaSqKm States\n",
            "26            <NA> 2020-03-09 18:33:39      NA  183573.7    742.9     OR\n",
            "        HUC10                  Name HUType HUMod Shape_Length Shape_Area\n",
            "26 1709000303 Upper Calapooia River      S  <NA>     2.249951 0.08385935\n",
            "                             geom\n",
            "26 MULTIPOLYGON (((-122.9896 4...\n"
          ]
        },
        {
          "output_type": "stream",
          "name": "stderr",
          "text": [
            "Warning message in .local(x, y, ...):\n",
            "“Polygons transformed to raster CRS (EPSG:NA)”\n"
          ]
        },
        {
          "output_type": "stream",
          "name": "stdout",
          "text": [
            "  |======================================================================| 100%\n"
          ]
        },
        {
          "output_type": "stream",
          "name": "stderr",
          "text": [
            "Warning message in .local(x, y, ...):\n",
            "“Polygons transformed to raster CRS (EPSG:NA)”\n"
          ]
        },
        {
          "output_type": "stream",
          "name": "stdout",
          "text": [
            "  |======================================================================| 100%\n"
          ]
        },
        {
          "output_type": "stream",
          "name": "stderr",
          "text": [
            "Warning message in .local(x, y, ...):\n",
            "“Polygons transformed to raster CRS (EPSG:NA)”\n"
          ]
        },
        {
          "output_type": "stream",
          "name": "stdout",
          "text": [
            "  |======================================================================| 100%\n"
          ]
        },
        {
          "output_type": "stream",
          "name": "stderr",
          "text": [
            "Warning message in .local(x, y, ...):\n",
            "“Polygons transformed to raster CRS (EPSG:NA)”\n"
          ]
        },
        {
          "output_type": "stream",
          "name": "stdout",
          "text": [
            "  |======================================================================| 100%\n"
          ]
        },
        {
          "output_type": "display_data",
          "data": {
            "text/plain": [
              "plot without title"
            ],
            "image/png": "[encoded data removed]"
          },
          "metadata": {
            "image/png": {
              "width": 420,
              "height": 420
            }
          }
        },
        {
          "output_type": "stream",
          "name": "stdout",
          "text": [
            "Deleting source `/content/HUC_Intersection_Set/huc_10_26.gpkg' failed\n",
            "Writing layer `huc_10_26' to data source \n",
            "  `/content/HUC_Intersection_Set/huc_10_26.gpkg' using driver `GPKG'\n",
            "Writing 344865 features with 40 fields and geometry type Point.\n",
            "[1] \"Finished HUC  Upper Calapooia River\"\n",
            "Simple feature collection with 1 feature and 17 fields\n",
            "Geometry type: MULTIPOLYGON\n",
            "Dimension:     XY\n",
            "Bounding box:  xmin: -123.3188 ymin: 44.01926 xmax: -122.895 ymax: 44.75587\n",
            "Geodetic CRS:  WGS 84\n",
            "   OBJECTID                                  TNMID\n",
            "27      702 {B2FCCD80-3916-4C40-86EE-49FE4F353819}\n",
            "                             MetaSourceID SourceDataDesc SourceOriginator\n",
            "27 {3FC953DC-51FF-4FE8-8A83-0725D7A39ACD}           <NA>             <NA>\n",
            "   SourceFeatureID            LoadDate GNIS_ID AreaAcres AreaSqKm States\n",
            "27            <NA> 2020-03-09 18:33:39      NA  300670.2  1216.77     OR\n",
            "        HUC10                         Name HUType HUMod Shape_Length Shape_Area\n",
            "27 1709000306 Muddy Creek-Willamette River      S  <NA>      3.64585  0.1374073\n",
            "                             geom\n",
            "27 MULTIPOLYGON (((-123.1435 4...\n"
          ]
        },
        {
          "output_type": "stream",
          "name": "stderr",
          "text": [
            "Warning message in .local(x, y, ...):\n",
            "“Polygons transformed to raster CRS (EPSG:NA)”\n"
          ]
        },
        {
          "output_type": "stream",
          "name": "stdout",
          "text": [
            "  |======================================================================| 100%\n"
          ]
        },
        {
          "output_type": "stream",
          "name": "stderr",
          "text": [
            "Warning message in .local(x, y, ...):\n",
            "“Polygons transformed to raster CRS (EPSG:NA)”\n"
          ]
        },
        {
          "output_type": "stream",
          "name": "stdout",
          "text": [
            "  |======================================================================| 100%\n"
          ]
        },
        {
          "output_type": "stream",
          "name": "stderr",
          "text": [
            "Warning message in .local(x, y, ...):\n",
            "“Polygons transformed to raster CRS (EPSG:NA)”\n"
          ]
        },
        {
          "output_type": "stream",
          "name": "stdout",
          "text": [
            "  |======================================================================| 100%\n"
          ]
        },
        {
          "output_type": "stream",
          "name": "stderr",
          "text": [
            "Warning message in .local(x, y, ...):\n",
            "“Polygons transformed to raster CRS (EPSG:NA)”\n"
          ]
        },
        {
          "output_type": "stream",
          "name": "stdout",
          "text": [
            "  |======================================================================| 100%\n"
          ]
        },
        {
          "output_type": "display_data",
          "data": {
            "text/plain": [
              "plot without title"
            ],
            "image/png": "[encoded data removed]"
          },
          "metadata": {
            "image/png": {
              "width": 420,
              "height": 420
            }
          }
        },
        {
          "output_type": "stream",
          "name": "stdout",
          "text": [
            "Deleting source `/content/HUC_Intersection_Set/huc_10_27.gpkg' failed\n",
            "Writing layer `huc_10_27' to data source \n",
            "  `/content/HUC_Intersection_Set/huc_10_27.gpkg' using driver `GPKG'\n",
            "Writing 480731 features with 40 fields and geometry type Point.\n",
            "[1] \"Finished HUC  Muddy Creek-Willamette River\"\n"
          ]
        },
        {
          "output_type": "display_data",
          "data": {
            "text/plain": [
              "plot without title"
            ],
            "image/png": "[encoded data removed]"
          },
          "metadata": {
            "image/png": {
              "width": 420,
              "height": 420
            }
          }
        }
      ]
    },
    {
      "cell_type": "code",
      "source": [
        "huc_index <- 1\n",
        "plot(huc_12_gpgk[huc_index,]$geom)\n",
        "print(huc_12_gpgk[huc_index,])\n",
        "query_wkt <- st_as_text(huc_12_gpgk[huc_index,]$geom, crs = 4326, EWKT = TRUE)\n",
        "\n",
        "query_sql <- paste0(\"SELECT * FROM hja_gedi WHERE ST_Intersects(geom,'\",query_wkt,\"')\")\n",
        "# print(query_sql)\n",
        "# Connect to the PostgreSQL database\n",
        "conn <- RPostgreSQL::dbConnect(\"PostgreSQL\",\n",
        "                 dbname = \"jifesypi\",\n",
        "                 host = \"mild-williams-pear.db.elephantsql.com\",\n",
        "                #  port = \"your_port\",\n",
        "                 user = \"jifesypi\",\n",
        "                 password = \"Qxds23zjkpIIU343-GGHNlxqFdD3Pdlr\")\n",
        "\n",
        "gedi_sf <- st_read(conn,query=query_sql)\n",
        "\n",
        "dbDisconnect(conn)\n",
        "\n",
        "gedi_dt <- gedi_sf %>% data.table\n",
        "\n",
        "gedi_dt[,geom_buffer := geom %>% st_transform('EPSG:6822') %>% st_buffer(12.5)]\n",
        "\n",
        "landtrendr_rast <- terra::rast(landtrendr_tif)\n",
        "\n",
        "extract_dt <-\n",
        "\n",
        "gedi_dt[,geom_buffer] %>% st_as_sf %>%\n",
        "exact_extract(landtrendr_rast,.,force_df=T,c('min','max','mean','median'))\n",
        "\n",
        "summary_dt <- data.table(gedi_dt,extract_dt[,names(extract_dt) %>% strsplit('[.]') %>% lapply(function(x){x[[1]]}) %>% unlist %>% order])\n",
        "\n",
        "summary_dt$agbd[summary_dt$agbd<0] <- NA\n",
        "\n",
        "hja_2008_rast <- terra::rast(hja_2008_tif)\n",
        "\n",
        "extract_dt <-\n",
        "\n",
        "gedi_dt[,geom_buffer] %>% st_as_sf %>%\n",
        "exact_extract(hja_2008_rast,.,force_df=T,c('min','max','mean','median'))\n",
        "names(extract_dt) <- paste(c('min','max','mean','median'),'2008',sep='_')\n",
        "summary_dt <- data.table(summary_dt,extract_dt[,names(extract_dt) %>% strsplit('[.]') %>% lapply(function(x){x[[1]]}) %>% unlist %>% order])\n",
        "\n",
        "conus_2003_rast <- terra::rast(conus_2003_tif)\n",
        "\n",
        "extract_dt <-\n",
        "\n",
        "gedi_dt[,geom_buffer] %>% st_as_sf %>%\n",
        "exact_extract(conus_2003_rast,.,force_df=T,c('min','max','mean','median'))\n",
        "names(extract_dt) <- paste(c('min','max','mean','median'),\"2003\",sep='_')\n",
        "summary_dt <- data.table(summary_dt,extract_dt[,names(extract_dt) %>% strsplit('[.]') %>% lapply(function(x){x[[1]]}) %>% unlist %>% order])\n",
        "\n",
        "conus_2016_rast <- terra::rast(conus_2016_tif)\n",
        "\n",
        "extract_dt <-\n",
        "\n",
        "gedi_dt[,geom_buffer] %>% st_as_sf %>%\n",
        "exact_extract(conus_2016_rast,.,force_df=T,c('min','max','mean','median'))\n",
        "names(extract_dt) <- paste(c('min','max','mean','median'),\"2016\",sep='_')\n",
        "summary_dt <- data.table(summary_dt,extract_dt[,names(extract_dt) %>% strsplit('[.]') %>% lapply(function(x){x[[1]]}) %>% unlist %>% order])\n",
        "\n",
        "delta_time_to_timestamp <- function(delta_time) {\n",
        "  # Define the reference date\n",
        "  reference_date <- as.POSIXct(\"2018-01-01 00:00:00\", tz = \"UTC\")\n",
        "\n",
        "  # Add the delta_time (in seconds) to the reference date\n",
        "  timestamp <- reference_date + delta_time\n",
        "\n",
        "  return(timestamp)\n",
        "}\n",
        "\n",
        "summary_dt$year <- delta_time_to_timestamp(summary_dt$delta_time) %>% format(\"%Y\")\n",
        "\n",
        "# wnf_dt <- st_read('/content/wnf_history.gpkg') %>% data.table\n",
        "# harvest_dt <- st_read('/content/harvest_history.gpkg') %>% data.table\n",
        "# fire_dt <- st_read('/content/fire_history.gpkg') %>% data.table\n",
        "\n",
        "# summary_dt$wnf_year <-  wnf_dt$YR_ORIGIN[st_intersects(summary_dt$geom,wnf_dt$geom %>% st_transform(st_crs(summary_dt$geom)) %>%st_make_valid) %>% lapply(function(x){x[1]}) %>% unlist]\n",
        "\n",
        "# summary_dt$wnf_stand <-  wnf_dt$STAND[st_intersects(summary_dt$geom,wnf_dt$geom %>% st_transform(st_crs(summary_dt$geom)) %>%st_make_valid) %>% lapply(function(x){x[1]}) %>% unlist]\n",
        "\n",
        "# summary_dt$harvest_stand <-  harvest_dt$STAND[st_intersects(summary_dt$geom,harvest_dt$geom %>% st_transform(st_crs(summary_dt$geom))) %>% lapply(function(x){x[1]}) %>% unlist]\n",
        "\n",
        "# summary_dt$harvest_year <-  harvest_dt$YR_ORIGIN[st_intersects(summary_dt$geom,harvest_dt$geom %>% st_transform(st_crs(summary_dt$geom))) %>% lapply(function(x){x[1]}) %>% unlist]\n",
        "\n",
        "# summary_dt$stand <-  harvest_dt$STAND[st_intersects(summary_dt$geom,harvest_dt$geom %>% st_transform(st_crs(summary_dt$geom))) %>% lapply(function(x){x[1]}) %>% unlist]\n",
        "\n",
        "\n",
        "# summary_dt$fire_year <- st_intersects(summary_dt$geom,fire_dt$geom %>% st_transform(st_crs(summary_dt$geom))) %>% lapply(function(x){max(fire_dt$EPISODE[x])}) %>% unlist%>% as.numeric\n",
        "\n",
        "# summary_dt$fire_mean <- st_intersects(summary_dt$geom,fire_dt$geom %>% st_transform(st_crs(summary_dt$geom))) %>% lapply(function(x){mean(fire_dt$EPISODE[x][fire_dt$EPISODE[x]>1800])}) %>% unlist%>% as.numeric\n",
        "\n",
        "summary_dt$HUC8 <- huc_8_gpgk$HUC8[st_intersects(summary_dt$geom,huc_8_gpgk) %>% lapply(function(x){x[1]}) %>% unlist]\n",
        "\n",
        "summary_dt$HUC10 <- huc_10_gpgk$HUC10[st_intersects(summary_dt$geom,huc_10_gpgk) %>% lapply(function(x){x[1]}) %>% unlist]\n",
        "\n",
        "summary_dt$HUC12 <- huc_12_gpgk$HUC12[st_intersects(summary_dt$geom,huc_12_gpgk) %>% lapply(function(x){x[1]}) %>% unlist]\n",
        "\n",
        "\n"
      ],
      "metadata": {
        "id": "5HOx3H_kHoOP",
        "outputId": "494b63c7-331b-40fd-fec8-77f7a6832cee",
        "colab": {
          "base_uri": "https://localhost:8080/",
          "height": 1000
        }
      },
      "execution_count": 10,
      "outputs": [
        {
          "output_type": "stream",
          "name": "stdout",
          "text": [
            "Simple feature collection with 1 feature and 20 fields\n",
            "Geometry type: MULTIPOLYGON\n",
            "Dimension:     XY\n",
            "Bounding box:  xmin: -121.9663 ymin: 44.70125 xmax: -121.7944 ymax: 44.78471\n",
            "Geodetic CRS:  WGS 84\n",
            "  OBJECTID                                  TNMID MetaSourceID SourceDataDesc\n",
            "1     2776 {C5422594-83A3-4387-934D-8A0A8D5CC177}         <NA>           <NA>\n",
            "  SourceOriginator SourceFeatureID            LoadDate GNIS_ID AreaAcres\n",
            "1             <NA>            <NA> 2013-01-18 07:09:30      NA  13082.07\n",
            "  AreaSqKm States        HUC12                         Name HUType HUMod\n",
            "1    52.94     OR 170900050101 South Fork Breitenbush River      S    NM\n",
            "         ToHUC NonContributingAreaAcres NonContributingAreaSqKm Shape_Length\n",
            "1 170900050104                        0                       0    0.4489297\n",
            "   Shape_Area                           geom\n",
            "1 0.006015605 MULTIPOLYGON (((-121.8047 4...\n"
          ]
        },
        {
          "output_type": "display_data",
          "data": {
            "text/html": [
              "TRUE"
            ],
            "text/markdown": "TRUE",
            "text/latex": "TRUE",
            "text/plain": [
              "[1] TRUE"
            ]
          },
          "metadata": {}
        },
        {
          "output_type": "stream",
          "name": "stderr",
          "text": [
            "Warning message in .local(x, y, ...):\n",
            "“Polygons transformed to raster CRS (EPSG:NA)”\n"
          ]
        },
        {
          "output_type": "stream",
          "name": "stdout",
          "text": [
            "  |======================================================================| 100%\n"
          ]
        },
        {
          "output_type": "stream",
          "name": "stderr",
          "text": [
            "Warning message in .local(x, y, ...):\n",
            "“Polygons transformed to raster CRS (EPSG:NA)”\n"
          ]
        },
        {
          "output_type": "stream",
          "name": "stdout",
          "text": [
            "  |======================================================================| 100%\n"
          ]
        },
        {
          "output_type": "stream",
          "name": "stderr",
          "text": [
            "Warning message in .local(x, y, ...):\n",
            "“Polygons transformed to raster CRS (EPSG:NA)”\n"
          ]
        },
        {
          "output_type": "stream",
          "name": "stdout",
          "text": [
            "  |======================================================================| 100%\n"
          ]
        },
        {
          "output_type": "stream",
          "name": "stderr",
          "text": [
            "Warning message in .local(x, y, ...):\n",
            "“Polygons transformed to raster CRS (EPSG:NA)”\n"
          ]
        },
        {
          "output_type": "stream",
          "name": "stdout",
          "text": [
            "  |======================================================================| 100%\n"
          ]
        },
        {
          "output_type": "error",
          "ename": "ERROR",
          "evalue": "ignored",
          "traceback": [
            "Error in eval(expr, envir, enclos): object 'summar' not found\nTraceback:\n"
          ]
        },
        {
          "output_type": "display_data",
          "data": {
            "text/plain": [
              "plot without title"
            ],
            "image/png": "[encoded data removed]"
          },
          "metadata": {
            "image/png": {
              "width": 420,
              "height": 420
            }
          }
        }
      ]
    },
    {
      "cell_type": "code",
      "source": [
        "huc_index <- 91\n",
        "plot(huc_12_gpgk[huc_index,]$geom)\n",
        "print(huc_12_gpgk[huc_index,])\n",
        "query_wkt <- st_as_text(huc_12_gpgk[huc_index,]$geom, crs = 4326, EWKT = TRUE)\n",
        "\n",
        "query_sql <- paste0(\"SELECT * FROM hja_gedi WHERE ST_Intersects(geom,'\",query_wkt,\"')\")\n",
        "# print(query_sql)\n",
        "# Connect to the PostgreSQL database\n",
        "conn <- RPostgreSQL::dbConnect(\"PostgreSQL\",\n",
        "                 dbname = \"jifesypi\",\n",
        "                 host = \"mild-williams-pear.db.elephantsql.com\",\n",
        "                #  port = \"your_port\",\n",
        "                 user = \"jifesypi\",\n",
        "                 password = \"Qxds23zjkpIIU343-GGHNlxqFdD3Pdlr\")\n",
        "\n",
        "gedi_sf <- st_read(conn,query=query_sql)\n",
        "\n",
        "dbDisconnect(conn)"
      ],
      "metadata": {
        "colab": {
          "base_uri": "https://localhost:8080/",
          "height": 715
        },
        "id": "MuVS5-4awt6_",
        "outputId": "f7b0da69-bdf6-4739-a6ef-d8374e2076c6"
      },
      "execution_count": 43,
      "outputs": [
        {
          "output_type": "stream",
          "name": "stdout",
          "text": [
            "Simple feature collection with 1 feature and 20 fields\n",
            "Geometry type: MULTIPOLYGON\n",
            "Dimension:     XY\n",
            "Bounding box:  xmin: -122.2615 ymin: 44.19872 xmax: -122.1017 ymax: 44.28133\n",
            "Geodetic CRS:  WGS 84\n",
            "   OBJECTID                                  TNMID MetaSourceID SourceDataDesc\n",
            "91     3160 {1472BA10-5C01-437A-8AAF-A4611746157E}         <NA>           <NA>\n",
            "   SourceOriginator SourceFeatureID            LoadDate GNIS_ID AreaAcres\n",
            "91             <NA>            <NA> 2013-01-18 07:09:30      NA  15735.63\n",
            "   AreaSqKm States        HUC12          Name HUType HUMod        ToHUC\n",
            "91    63.68     OR 170900040401 Lookout Creek      S    NM 170900040403\n",
            "   NonContributingAreaAcres NonContributingAreaSqKm Shape_Length  Shape_Area\n",
            "91                        0                       0    0.4294817 0.007173278\n",
            "                             geom\n",
            "91 MULTIPOLYGON (((-122.1097 4...\n"
          ]
        },
        {
          "output_type": "display_data",
          "data": {
            "text/html": [
              "TRUE"
            ],
            "text/markdown": "TRUE",
            "text/latex": "TRUE",
            "text/plain": [
              "[1] TRUE"
            ]
          },
          "metadata": {}
        },
        {
          "output_type": "display_data",
          "data": {
            "text/plain": [
              "plot without title"
            ],
            "image/png": "[encoded data removed]"
          },
          "metadata": {
            "image/png": {
              "width": 420,
              "height": 420
            }
          }
        }
      ]
    },
    {
      "cell_type": "code",
      "source": [
        "zip(zipfile = \"/content/HUC_Intersection_Set.zip\", files = \"/content/HUC_Intersection_Set\")\n"
      ],
      "metadata": {
        "id": "Pp3soIULoiQb"
      },
      "execution_count": 69,
      "outputs": []
    },
    {
      "cell_type": "code",
      "source": [
        "target_folder <- drive_get(id = \"1TEwKlKPr8KQPa-IvjCEa2lBeTG1TR-A0\")\n",
        "drive_upload(media =  \"/content/HUC_Intersection_Set.zip\", path = target_folder, name = \"HUC_Intersection_Set.zip\", overwrite = TRUE)"
      ],
      "metadata": {
        "id": "MgSA-4LIpfg4",
        "outputId": "b20f16b1-aa27-44f0-fb8d-b102c1a77c5c",
        "colab": {
          "base_uri": "https://localhost:8080/"
        }
      },
      "execution_count": 70,
      "outputs": [
        {
          "output_type": "stream",
          "name": "stderr",
          "text": [
            "\u001b[1m\u001b[22mThe \u001b[34mgoogledrive\u001b[39m package is requesting access to your Google account.\n",
            "Enter '1' to start a new auth process or select a pre-authorized account.\n",
            "\u001b[1m1\u001b[22m: Send me to the browser for a new auth process.\n",
            "\u001b[1m2\u001b[22m: seismosmsr@gmail.com\n"
          ]
        },
        {
          "name": "stdout",
          "output_type": "stream",
          "text": [
            "Selection: 1\n"
          ]
        },
        {
          "output_type": "stream",
          "name": "stderr",
          "text": [
            "Please point your browser to the following url: \n",
            "\n",
            "https://accounts.google.com/o/oauth2/v2/auth?client_id=603366585132-frjlouoa3s2ono25d2l9ukvhlsrlnr7k.apps.googleusercontent.com&scope=https%3A%2F%2Fwww.googleapis.com%2Fauth%2Fdrive%20https%3A%2F%2Fwww.googleapis.com%2Fauth%2Fuserinfo.email&redirect_uri=https%3A%2F%2Fwww.tidyverse.org%2Fgoogle-callback%2F&response_type=code&state=8f0027fdf85727c88927793367720075&access_type=offline&prompt=consent\n",
            "\n"
          ]
        },
        {
          "name": "stdout",
          "output_type": "stream",
          "text": [
            "Enter authorization code: eyJjb2RlIjoiNC8wQWRldTVCVUx2N2d5MnhyMy1qLVY1VGpMLVl1bFRvVzQwNGFpNlR3cHdWS2tRcEZlRU5VbUVadnJEdmkzRW54bHhfWmJ2QSIsInN0YXRlIjoiOGYwMDI3ZmRmODU3MjdjODg5Mjc3OTMzNjc3MjAwNzUifQ==\n"
          ]
        },
        {
          "output_type": "stream",
          "name": "stderr",
          "text": [
            "Local file:\n",
            "\n",
            "• \u001b[34m/content/HUC_Intersection_Set.zip\u001b[39m\n",
            "\n",
            "Uploaded into Drive file:\n",
            "\n",
            "• \u001b[36mHUC_Intersection_Set.zip\u001b[39m \u001b[90m<id: 1rIueY7IXML2Gu06MR2pijfgqOFydKTzh>\u001b[39m\n",
            "\n",
            "With MIME type:\n",
            "\n",
            "• \u001b[32mapplication/zip\u001b[39m\n",
            "\n"
          ]
        }
      ]
    },
    {
      "cell_type": "code",
      "source": [
        "gedi_dt <- gedi_sf %>% data.table\n",
        "gedi_dt %>% nrow\n",
        "gedi_dt[l4_quality_flag ==1,] %>% nrow"
      ],
      "metadata": {
        "colab": {
          "base_uri": "https://localhost:8080/",
          "height": 52
        },
        "id": "yY2m88HCvvGG",
        "outputId": "b792e90d-02bb-4e89-ee70-9fb251856522"
      },
      "execution_count": 22,
      "outputs": [
        {
          "output_type": "display_data",
          "data": {
            "text/html": [
              "19243"
            ],
            "text/markdown": "19243",
            "text/latex": "19243",
            "text/plain": [
              "[1] 19243"
            ]
          },
          "metadata": {}
        },
        {
          "output_type": "display_data",
          "data": {
            "text/html": [
              "5368"
            ],
            "text/markdown": "5368",
            "text/latex": "5368",
            "text/plain": [
              "[1] 5368"
            ]
          },
          "metadata": {}
        }
      ]
    },
    {
      "cell_type": "code",
      "source": [
        "# landtrendr_tif[landtrendr_tif < 0] <- NA"
      ],
      "metadata": {
        "id": "qDWjOzfTh3bY"
      },
      "execution_count": 22,
      "outputs": []
    },
    {
      "cell_type": "code",
      "source": [
        "gedi_dt[,geom_buffer := geom %>% st_transform('EPSG:6822') %>% st_buffer(12.5)]\n",
        "#consider 12.5"
      ],
      "metadata": {
        "id": "TSV_h0JN0HRR"
      },
      "execution_count": 23,
      "outputs": []
    },
    {
      "cell_type": "code",
      "source": [
        "paste(c('min','max','mean','median'),'2008',sep='_')"
      ],
      "metadata": {
        "id": "HNfpxJa91jeR",
        "outputId": "24031f2c-a374-41d3-eb2d-39e842d18860",
        "colab": {
          "base_uri": "https://localhost:8080/",
          "height": 34
        }
      },
      "execution_count": 24,
      "outputs": [
        {
          "output_type": "display_data",
          "data": {
            "text/html": [
              "<style>\n",
              ".list-inline {list-style: none; margin:0; padding: 0}\n",
              ".list-inline>li {display: inline-block}\n",
              ".list-inline>li:not(:last-child)::after {content: \"\\00b7\"; padding: 0 .5ex}\n",
              "</style>\n",
              "<ol class=list-inline><li>'min_2008'</li><li>'max_2008'</li><li>'mean_2008'</li><li>'median_2008'</li></ol>\n"
            ],
            "text/markdown": "1. 'min_2008'\n2. 'max_2008'\n3. 'mean_2008'\n4. 'median_2008'\n\n\n",
            "text/latex": "\\begin{enumerate*}\n\\item 'min\\_2008'\n\\item 'max\\_2008'\n\\item 'mean\\_2008'\n\\item 'median\\_2008'\n\\end{enumerate*}\n",
            "text/plain": [
              "[1] \"min_2008\"    \"max_2008\"    \"mean_2008\"   \"median_2008\""
            ]
          },
          "metadata": {}
        }
      ]
    },
    {
      "cell_type": "code",
      "source": [
        "landtrendr_rast <- terra::rast(landtrendr_tif)\n",
        "\n",
        "extract_dt <-\n",
        "\n",
        "gedi_dt[,geom_buffer] %>% st_as_sf %>%\n",
        "exact_extract(landtrendr_rast,.,force_df=T,c('min','max','mean','median'))\n",
        "\n"
      ],
      "metadata": {
        "colab": {
          "base_uri": "https://localhost:8080/"
        },
        "id": "UDhKDve71phw",
        "outputId": "183d4749-8ab1-43df-9e6b-493a1466f3a2"
      },
      "execution_count": 25,
      "outputs": [
        {
          "output_type": "stream",
          "name": "stderr",
          "text": [
            "Warning message in .local(x, y, ...):\n",
            "“Polygons transformed to raster CRS (EPSG:NA)”\n"
          ]
        },
        {
          "output_type": "stream",
          "name": "stdout",
          "text": [
            "  |======================================================================| 100%\n"
          ]
        }
      ]
    },
    {
      "cell_type": "code",
      "source": [
        "summary_dt <- data.table(gedi_dt,extract_dt[,names(extract_dt) %>% strsplit('[.]') %>% lapply(function(x){x[[1]]}) %>% unlist %>% order])"
      ],
      "metadata": {
        "id": "WVn5AfpeaWhT"
      },
      "execution_count": 26,
      "outputs": []
    },
    {
      "cell_type": "code",
      "source": [
        "summary_dt$agbd[summary_dt$agbd<0] <- NA"
      ],
      "metadata": {
        "id": "qM56qgrpvqVf"
      },
      "execution_count": 27,
      "outputs": []
    },
    {
      "cell_type": "code",
      "source": [
        "hja_2008_rast <- terra::rast(hja_2008_tif)\n",
        "\n",
        "extract_dt <-\n",
        "\n",
        "gedi_dt[,geom_buffer] %>% st_as_sf %>%\n",
        "exact_extract(hja_2008_rast,.,force_df=T,c('min','max','mean','median'))\n",
        "names(extract_dt) <- paste(c('min','max','mean','median'),'2008',sep='_')\n",
        "summary_dt <- data.table(summary_dt,extract_dt[,names(extract_dt) %>% strsplit('[.]') %>% lapply(function(x){x[[1]]}) %>% unlist %>% order])"
      ],
      "metadata": {
        "id": "aVKInNQ8tw8O",
        "outputId": "f57d77df-2ac8-4f8c-aa14-bb21bfef54d3",
        "colab": {
          "base_uri": "https://localhost:8080/"
        }
      },
      "execution_count": 28,
      "outputs": [
        {
          "output_type": "stream",
          "name": "stderr",
          "text": [
            "Warning message in .local(x, y, ...):\n",
            "“Polygons transformed to raster CRS (EPSG:NA)”\n"
          ]
        },
        {
          "output_type": "stream",
          "name": "stdout",
          "text": [
            "  |======================================================================| 100%\n"
          ]
        }
      ]
    },
    {
      "cell_type": "code",
      "source": [
        "conus_2003_rast <- terra::rast(conus_2003_tif)\n",
        "\n",
        "extract_dt <-\n",
        "\n",
        "gedi_dt[,geom_buffer] %>% st_as_sf %>%\n",
        "exact_extract(conus_2003_rast,.,force_df=T,c('min','max','mean','median'))\n",
        "names(extract_dt) <- paste(c('min','max','mean','median'),\"2003\",sep='_')\n",
        "summary_dt <- data.table(summary_dt,extract_dt[,names(extract_dt) %>% strsplit('[.]') %>% lapply(function(x){x[[1]]}) %>% unlist %>% order])"
      ],
      "metadata": {
        "id": "IMk3U4LAuK47",
        "outputId": "78081869-94b0-4d2c-d68b-f72f4e76ed6e",
        "colab": {
          "base_uri": "https://localhost:8080/"
        }
      },
      "execution_count": 29,
      "outputs": [
        {
          "output_type": "stream",
          "name": "stderr",
          "text": [
            "Warning message in .local(x, y, ...):\n",
            "“Polygons transformed to raster CRS (EPSG:NA)”\n"
          ]
        },
        {
          "output_type": "stream",
          "name": "stdout",
          "text": [
            "  |======================================================================| 100%\n"
          ]
        }
      ]
    },
    {
      "cell_type": "code",
      "source": [
        "conus_2016_rast <- terra::rast(conus_2016_tif)\n",
        "\n",
        "extract_dt <-\n",
        "\n",
        "gedi_dt[,geom_buffer] %>% st_as_sf %>%\n",
        "exact_extract(conus_2016_rast,.,force_df=T,c('min','max','mean','median'))\n",
        "names(extract_dt) <- paste(c('min','max','mean','median'),\"2016\",sep='_')\n",
        "summary_dt <- data.table(summary_dt,extract_dt[,names(extract_dt) %>% strsplit('[.]') %>% lapply(function(x){x[[1]]}) %>% unlist %>% order])"
      ],
      "metadata": {
        "id": "TGw6QeeW2O5D",
        "outputId": "af3d000a-9087-40ad-fe89-0fd6b2ce408a",
        "colab": {
          "base_uri": "https://localhost:8080/"
        }
      },
      "execution_count": 30,
      "outputs": [
        {
          "output_type": "stream",
          "name": "stderr",
          "text": [
            "Warning message in .local(x, y, ...):\n",
            "“Polygons transformed to raster CRS (EPSG:NA)”\n"
          ]
        },
        {
          "output_type": "stream",
          "name": "stdout",
          "text": [
            "  |======================================================================| 100%\n"
          ]
        }
      ]
    },
    {
      "cell_type": "code",
      "source": [
        "delta_time_to_timestamp <- function(delta_time) {\n",
        "  # Define the reference date\n",
        "  reference_date <- as.POSIXct(\"2018-01-01 00:00:00\", tz = \"UTC\")\n",
        "\n",
        "  # Add the delta_time (in seconds) to the reference date\n",
        "  timestamp <- reference_date + delta_time\n",
        "\n",
        "  return(timestamp)\n",
        "}"
      ],
      "metadata": {
        "id": "62u1dwPjE95t"
      },
      "execution_count": 31,
      "outputs": []
    },
    {
      "cell_type": "code",
      "source": [
        "summary_dt %>% names"
      ],
      "metadata": {
        "id": "0CsJdLx89c7Q",
        "outputId": "df188c9d-6531-451a-8c97-1df136cea590",
        "colab": {
          "base_uri": "https://localhost:8080/",
          "height": 104
        }
      },
      "execution_count": 32,
      "outputs": [
        {
          "output_type": "display_data",
          "data": {
            "text/html": [
              "<style>\n",
              ".list-inline {list-style: none; margin:0; padding: 0}\n",
              ".list-inline>li {display: inline-block}\n",
              ".list-inline>li:not(:last-child)::after {content: \"\\00b7\"; padding: 0 .5ex}\n",
              "</style>\n",
              "<ol class=list-inline><li>'agbd'</li><li>'lat_lowestmode'</li><li>'lon_lowestmode'</li><li>'agbd_pi_lower'</li><li>'agbd_pi_upper'</li><li>'agbd_se'</li><li>'agbd_t'</li><li>'agbd_t_se'</li><li>'algorithm_run_flag'</li><li>'channel'</li><li>'degrade_flag'</li><li>'delta_time'</li><li>'elev_lowestmode'</li><li>'l2_quality_flag'</li><li>'l4_quality_flag'</li><li>'geom'</li><li>'geom_buffer'</li><li>'max.yod'</li><li>'max.mag'</li><li>'max.dur'</li><li>'max.preval'</li><li>'max.rate'</li><li>'max.dsnr'</li><li>'mean.yod'</li><li>'mean.mag'</li><li>'mean.dur'</li><li>'mean.preval'</li><li>'mean.rate'</li><li>'mean.dsnr'</li><li>'median.yod'</li><li>'median.mag'</li><li>'median.dur'</li><li>'median.preval'</li><li>'median.rate'</li><li>'median.dsnr'</li><li>'min.yod'</li><li>'min.mag'</li><li>'min.dur'</li><li>'min.preval'</li><li>'min.rate'</li><li>'min.dsnr'</li><li>'max_2008'</li><li>'mean_2008'</li><li>'median_2008'</li><li>'min_2008'</li><li>'max_2003'</li><li>'mean_2003'</li><li>'median_2003'</li><li>'min_2003'</li><li>'max_2016'</li><li>'mean_2016'</li><li>'median_2016'</li><li>'min_2016'</li></ol>\n"
            ],
            "text/markdown": "1. 'agbd'\n2. 'lat_lowestmode'\n3. 'lon_lowestmode'\n4. 'agbd_pi_lower'\n5. 'agbd_pi_upper'\n6. 'agbd_se'\n7. 'agbd_t'\n8. 'agbd_t_se'\n9. 'algorithm_run_flag'\n10. 'channel'\n11. 'degrade_flag'\n12. 'delta_time'\n13. 'elev_lowestmode'\n14. 'l2_quality_flag'\n15. 'l4_quality_flag'\n16. 'geom'\n17. 'geom_buffer'\n18. 'max.yod'\n19. 'max.mag'\n20. 'max.dur'\n21. 'max.preval'\n22. 'max.rate'\n23. 'max.dsnr'\n24. 'mean.yod'\n25. 'mean.mag'\n26. 'mean.dur'\n27. 'mean.preval'\n28. 'mean.rate'\n29. 'mean.dsnr'\n30. 'median.yod'\n31. 'median.mag'\n32. 'median.dur'\n33. 'median.preval'\n34. 'median.rate'\n35. 'median.dsnr'\n36. 'min.yod'\n37. 'min.mag'\n38. 'min.dur'\n39. 'min.preval'\n40. 'min.rate'\n41. 'min.dsnr'\n42. 'max_2008'\n43. 'mean_2008'\n44. 'median_2008'\n45. 'min_2008'\n46. 'max_2003'\n47. 'mean_2003'\n48. 'median_2003'\n49. 'min_2003'\n50. 'max_2016'\n51. 'mean_2016'\n52. 'median_2016'\n53. 'min_2016'\n\n\n",
            "text/latex": "\\begin{enumerate*}\n\\item 'agbd'\n\\item 'lat\\_lowestmode'\n\\item 'lon\\_lowestmode'\n\\item 'agbd\\_pi\\_lower'\n\\item 'agbd\\_pi\\_upper'\n\\item 'agbd\\_se'\n\\item 'agbd\\_t'\n\\item 'agbd\\_t\\_se'\n\\item 'algorithm\\_run\\_flag'\n\\item 'channel'\n\\item 'degrade\\_flag'\n\\item 'delta\\_time'\n\\item 'elev\\_lowestmode'\n\\item 'l2\\_quality\\_flag'\n\\item 'l4\\_quality\\_flag'\n\\item 'geom'\n\\item 'geom\\_buffer'\n\\item 'max.yod'\n\\item 'max.mag'\n\\item 'max.dur'\n\\item 'max.preval'\n\\item 'max.rate'\n\\item 'max.dsnr'\n\\item 'mean.yod'\n\\item 'mean.mag'\n\\item 'mean.dur'\n\\item 'mean.preval'\n\\item 'mean.rate'\n\\item 'mean.dsnr'\n\\item 'median.yod'\n\\item 'median.mag'\n\\item 'median.dur'\n\\item 'median.preval'\n\\item 'median.rate'\n\\item 'median.dsnr'\n\\item 'min.yod'\n\\item 'min.mag'\n\\item 'min.dur'\n\\item 'min.preval'\n\\item 'min.rate'\n\\item 'min.dsnr'\n\\item 'max\\_2008'\n\\item 'mean\\_2008'\n\\item 'median\\_2008'\n\\item 'min\\_2008'\n\\item 'max\\_2003'\n\\item 'mean\\_2003'\n\\item 'median\\_2003'\n\\item 'min\\_2003'\n\\item 'max\\_2016'\n\\item 'mean\\_2016'\n\\item 'median\\_2016'\n\\item 'min\\_2016'\n\\end{enumerate*}\n",
            "text/plain": [
              " [1] \"agbd\"               \"lat_lowestmode\"     \"lon_lowestmode\"    \n",
              " [4] \"agbd_pi_lower\"      \"agbd_pi_upper\"      \"agbd_se\"           \n",
              " [7] \"agbd_t\"             \"agbd_t_se\"          \"algorithm_run_flag\"\n",
              "[10] \"channel\"            \"degrade_flag\"       \"delta_time\"        \n",
              "[13] \"elev_lowestmode\"    \"l2_quality_flag\"    \"l4_quality_flag\"   \n",
              "[16] \"geom\"               \"geom_buffer\"        \"max.yod\"           \n",
              "[19] \"max.mag\"            \"max.dur\"            \"max.preval\"        \n",
              "[22] \"max.rate\"           \"max.dsnr\"           \"mean.yod\"          \n",
              "[25] \"mean.mag\"           \"mean.dur\"           \"mean.preval\"       \n",
              "[28] \"mean.rate\"          \"mean.dsnr\"          \"median.yod\"        \n",
              "[31] \"median.mag\"         \"median.dur\"         \"median.preval\"     \n",
              "[34] \"median.rate\"        \"median.dsnr\"        \"min.yod\"           \n",
              "[37] \"min.mag\"            \"min.dur\"            \"min.preval\"        \n",
              "[40] \"min.rate\"           \"min.dsnr\"           \"max_2008\"          \n",
              "[43] \"mean_2008\"          \"median_2008\"        \"min_2008\"          \n",
              "[46] \"max_2003\"           \"mean_2003\"          \"median_2003\"       \n",
              "[49] \"min_2003\"           \"max_2016\"           \"mean_2016\"         \n",
              "[52] \"median_2016\"        \"min_2016\"          "
            ]
          },
          "metadata": {}
        }
      ]
    },
    {
      "cell_type": "code",
      "source": [
        "summary_dt$year <- delta_time_to_timestamp(summary_dt$delta_time) %>% format(\"%Y\")"
      ],
      "metadata": {
        "id": "S7alGTwPCIwz"
      },
      "execution_count": 33,
      "outputs": []
    },
    {
      "cell_type": "code",
      "source": [
        "wnf_dt <- st_read('/content/wnf_history.gpkg') %>% data.table\n",
        "harvest_dt <- st_read('/content/harvest_history.gpkg') %>% data.table\n",
        "fire_dt <- st_read('/content/fire_history.gpkg') %>% data.table"
      ],
      "metadata": {
        "id": "WT9hhLca90i6",
        "outputId": "50fb482b-22b1-4b66-efc6-db6d2a9195d3",
        "colab": {
          "base_uri": "https://localhost:8080/"
        }
      },
      "execution_count": 34,
      "outputs": [
        {
          "output_type": "stream",
          "name": "stdout",
          "text": [
            "Reading layer `clip_wnfveg6' from data source `/content/wnf_history.gpkg' using driver `GPKG'\n",
            "Simple feature collection with 7769 features and 24 fields\n",
            "Geometry type: MULTIPOLYGON\n",
            "Dimension:     XY\n",
            "Bounding box:  xmin: 549437.5 ymin: 4885711 xmax: 580195.5 ymax: 4928056\n",
            "Projected CRS: NAD83 / UTM zone 10N\n",
            "Reading layer `harvest_sites' from data source `/content/harvest_history.gpkg' using driver `GPKG'\n",
            "Simple feature collection with 161 features and 32 fields\n",
            "Geometry type: MULTIPOLYGON\n",
            "Dimension:     XY\n",
            "Bounding box:  xmin: 559006.2 ymin: 4894211 xmax: 571764.6 ymax: 4903300\n",
            "Projected CRS: NAD83 / UTM zone 10N\n",
            "Reading layer `firehistory_region' from data source `/content/fire_history.gpkg' using driver `GPKG'\n",
            "Simple feature collection with 258 features and 6 fields\n",
            "Geometry type: MULTIPOLYGON\n",
            "Dimension:     XY\n",
            "Bounding box:  xmin: 558647.1 ymin: 4893922 xmax: 575297.1 ymax: 4906316\n",
            "Projected CRS: NAD83 / UTM zone 10N\n"
          ]
        }
      ]
    },
    {
      "cell_type": "code",
      "source": [
        "wnf_dt %>% names"
      ],
      "metadata": {
        "id": "BQxme51WNi8C",
        "colab": {
          "base_uri": "https://localhost:8080/",
          "height": 69
        },
        "outputId": "0f7eea84-7e82-4c4b-a373-775ec7c86d7b"
      },
      "execution_count": 35,
      "outputs": [
        {
          "output_type": "display_data",
          "data": {
            "text/html": [
              "<style>\n",
              ".list-inline {list-style: none; margin:0; padding: 0}\n",
              ".list-inline>li {display: inline-block}\n",
              ".list-inline>li:not(:last-child)::after {content: \"\\00b7\"; padding: 0 .5ex}\n",
              "</style>\n",
              "<ol class=list-inline><li>'AREA'</li><li>'PERIMETER'</li><li>'VEG6_'</li><li>'VEG6_ID'</li><li>'STAND'</li><li>'DISTRICT'</li><li>'VEG_NONVEG'</li><li>'YR_ORIGIN'</li><li>'SIZE_CLASS'</li><li>'SPECIES1'</li><li>'SPECIES2'</li><li>'NUM_LAYERS'</li><li>'OVRSTRY_CT'</li><li>'OVRSTRY_YR'</li><li>'PARTIAL_CT'</li><li>'PARTIAL_YR'</li><li>'COM_THN_YR'</li><li>'SPECT_TYPE'</li><li>'TIMBER_TYP'</li><li>'COND_CLASS'</li><li>'HAB_FEATUR'</li><li>'CVR_PCT_TR'</li><li>'PLANT_ASSC'</li><li>'ECOCLASS'</li><li>'geom'</li></ol>\n"
            ],
            "text/markdown": "1. 'AREA'\n2. 'PERIMETER'\n3. 'VEG6_'\n4. 'VEG6_ID'\n5. 'STAND'\n6. 'DISTRICT'\n7. 'VEG_NONVEG'\n8. 'YR_ORIGIN'\n9. 'SIZE_CLASS'\n10. 'SPECIES1'\n11. 'SPECIES2'\n12. 'NUM_LAYERS'\n13. 'OVRSTRY_CT'\n14. 'OVRSTRY_YR'\n15. 'PARTIAL_CT'\n16. 'PARTIAL_YR'\n17. 'COM_THN_YR'\n18. 'SPECT_TYPE'\n19. 'TIMBER_TYP'\n20. 'COND_CLASS'\n21. 'HAB_FEATUR'\n22. 'CVR_PCT_TR'\n23. 'PLANT_ASSC'\n24. 'ECOCLASS'\n25. 'geom'\n\n\n",
            "text/latex": "\\begin{enumerate*}\n\\item 'AREA'\n\\item 'PERIMETER'\n\\item 'VEG6\\_'\n\\item 'VEG6\\_ID'\n\\item 'STAND'\n\\item 'DISTRICT'\n\\item 'VEG\\_NONVEG'\n\\item 'YR\\_ORIGIN'\n\\item 'SIZE\\_CLASS'\n\\item 'SPECIES1'\n\\item 'SPECIES2'\n\\item 'NUM\\_LAYERS'\n\\item 'OVRSTRY\\_CT'\n\\item 'OVRSTRY\\_YR'\n\\item 'PARTIAL\\_CT'\n\\item 'PARTIAL\\_YR'\n\\item 'COM\\_THN\\_YR'\n\\item 'SPECT\\_TYPE'\n\\item 'TIMBER\\_TYP'\n\\item 'COND\\_CLASS'\n\\item 'HAB\\_FEATUR'\n\\item 'CVR\\_PCT\\_TR'\n\\item 'PLANT\\_ASSC'\n\\item 'ECOCLASS'\n\\item 'geom'\n\\end{enumerate*}\n",
            "text/plain": [
              " [1] \"AREA\"       \"PERIMETER\"  \"VEG6_\"      \"VEG6_ID\"    \"STAND\"     \n",
              " [6] \"DISTRICT\"   \"VEG_NONVEG\" \"YR_ORIGIN\"  \"SIZE_CLASS\" \"SPECIES1\"  \n",
              "[11] \"SPECIES2\"   \"NUM_LAYERS\" \"OVRSTRY_CT\" \"OVRSTRY_YR\" \"PARTIAL_CT\"\n",
              "[16] \"PARTIAL_YR\" \"COM_THN_YR\" \"SPECT_TYPE\" \"TIMBER_TYP\" \"COND_CLASS\"\n",
              "[21] \"HAB_FEATUR\" \"CVR_PCT_TR\" \"PLANT_ASSC\" \"ECOCLASS\"   \"geom\"      "
            ]
          },
          "metadata": {}
        }
      ]
    },
    {
      "cell_type": "code",
      "source": [
        "summary_dt$wnf_year <-  wnf_dt$YR_ORIGIN[st_intersects(summary_dt$geom,wnf_dt$geom %>% st_transform(st_crs(summary_dt$geom)) %>%st_make_valid) %>% lapply(function(x){x[1]}) %>% unlist]\n",
        "\n",
        "summary_dt$wnf_stand <-  wnf_dt$STAND[st_intersects(summary_dt$geom,wnf_dt$geom %>% st_transform(st_crs(summary_dt$geom)) %>%st_make_valid) %>% lapply(function(x){x[1]}) %>% unlist]\n",
        "\n",
        "summary_dt$harvest_stand <-  harvest_dt$STAND[st_intersects(summary_dt$geom,harvest_dt$geom %>% st_transform(st_crs(summary_dt$geom))) %>% lapply(function(x){x[1]}) %>% unlist]\n",
        "\n",
        "summary_dt$harvest_year <-  harvest_dt$YR_ORIGIN[st_intersects(summary_dt$geom,harvest_dt$geom %>% st_transform(st_crs(summary_dt$geom))) %>% lapply(function(x){x[1]}) %>% unlist]\n",
        "\n",
        "summary_dt$stand <-  harvest_dt$STAND[st_intersects(summary_dt$geom,harvest_dt$geom %>% st_transform(st_crs(summary_dt$geom))) %>% lapply(function(x){x[1]}) %>% unlist]\n",
        "\n",
        "\n",
        "summary_dt$fire_year <- st_intersects(summary_dt$geom,fire_dt$geom %>% st_transform(st_crs(summary_dt$geom))) %>% lapply(function(x){max(fire_dt$EPISODE[x])}) %>% unlist%>% as.numeric\n",
        "\n",
        "summary_dt$fire_mean <- st_intersects(summary_dt$geom,fire_dt$geom %>% st_transform(st_crs(summary_dt$geom))) %>% lapply(function(x){mean(fire_dt$EPISODE[x][fire_dt$EPISODE[x]>1800])}) %>% unlist%>% as.numeric"
      ],
      "metadata": {
        "id": "0_vWr8HpMcMK",
        "outputId": "7939acb0-3b1c-4687-8c81-c85619ed70d9",
        "colab": {
          "base_uri": "https://localhost:8080/"
        }
      },
      "execution_count": 36,
      "outputs": [
        {
          "output_type": "stream",
          "name": "stderr",
          "text": [
            "Warning message in max(fire_dt$EPISODE[x]):\n",
            "“no non-missing arguments to max; returning -Inf”\n",
            "Warning message in max(fire_dt$EPISODE[x]):\n",
            "“no non-missing arguments to max; returning -Inf”\n",
            "Warning message in max(fire_dt$EPISODE[x]):\n",
            "“no non-missing arguments to max; returning -Inf”\n",
            "Warning message in max(fire_dt$EPISODE[x]):\n",
            "“no non-missing arguments to max; returning -Inf”\n",
            "Warning message in max(fire_dt$EPISODE[x]):\n",
            "“no non-missing arguments to max; returning -Inf”\n",
            "Warning message in max(fire_dt$EPISODE[x]):\n",
            "“no non-missing arguments to max; returning -Inf”\n",
            "Warning message in max(fire_dt$EPISODE[x]):\n",
            "“no non-missing arguments to max; returning -Inf”\n",
            "Warning message in max(fire_dt$EPISODE[x]):\n",
            "“no non-missing arguments to max; returning -Inf”\n",
            "Warning message in max(fire_dt$EPISODE[x]):\n",
            "“no non-missing arguments to max; returning -Inf”\n",
            "Warning message in max(fire_dt$EPISODE[x]):\n",
            "“no non-missing arguments to max; returning -Inf”\n",
            "Warning message in max(fire_dt$EPISODE[x]):\n",
            "“no non-missing arguments to max; returning -Inf”\n",
            "Warning message in max(fire_dt$EPISODE[x]):\n",
            "“no non-missing arguments to max; returning -Inf”\n",
            "Warning message in max(fire_dt$EPISODE[x]):\n",
            "“no non-missing arguments to max; returning -Inf”\n",
            "Warning message in max(fire_dt$EPISODE[x]):\n",
            "“no non-missing arguments to max; returning -Inf”\n",
            "Warning message in max(fire_dt$EPISODE[x]):\n",
            "“no non-missing arguments to max; returning -Inf”\n",
            "Warning message in max(fire_dt$EPISODE[x]):\n",
            "“no non-missing arguments to max; returning -Inf”\n",
            "Warning message in max(fire_dt$EPISODE[x]):\n",
            "“no non-missing arguments to max; returning -Inf”\n",
            "Warning message in max(fire_dt$EPISODE[x]):\n",
            "“no non-missing arguments to max; returning -Inf”\n",
            "Warning message in max(fire_dt$EPISODE[x]):\n",
            "“no non-missing arguments to max; returning -Inf”\n",
            "Warning message in max(fire_dt$EPISODE[x]):\n",
            "“no non-missing arguments to max; returning -Inf”\n",
            "Warning message in max(fire_dt$EPISODE[x]):\n",
            "“no non-missing arguments to max; returning -Inf”\n",
            "Warning message in max(fire_dt$EPISODE[x]):\n",
            "“no non-missing arguments to max; returning -Inf”\n",
            "Warning message in max(fire_dt$EPISODE[x]):\n",
            "“no non-missing arguments to max; returning -Inf”\n",
            "Warning message in max(fire_dt$EPISODE[x]):\n",
            "“no non-missing arguments to max; returning -Inf”\n",
            "Warning message in max(fire_dt$EPISODE[x]):\n",
            "“no non-missing arguments to max; returning -Inf”\n",
            "Warning message in max(fire_dt$EPISODE[x]):\n",
            "“no non-missing arguments to max; returning -Inf”\n",
            "Warning message in max(fire_dt$EPISODE[x]):\n",
            "“no non-missing arguments to max; returning -Inf”\n",
            "Warning message in max(fire_dt$EPISODE[x]):\n",
            "“no non-missing arguments to max; returning -Inf”\n",
            "Warning message in max(fire_dt$EPISODE[x]):\n",
            "“no non-missing arguments to max; returning -Inf”\n",
            "Warning message in max(fire_dt$EPISODE[x]):\n",
            "“no non-missing arguments to max; returning -Inf”\n",
            "Warning message in max(fire_dt$EPISODE[x]):\n",
            "“no non-missing arguments to max; returning -Inf”\n",
            "Warning message in max(fire_dt$EPISODE[x]):\n",
            "“no non-missing arguments to max; returning -Inf”\n",
            "Warning message in max(fire_dt$EPISODE[x]):\n",
            "“no non-missing arguments to max; returning -Inf”\n",
            "Warning message in max(fire_dt$EPISODE[x]):\n",
            "“no non-missing arguments to max; returning -Inf”\n",
            "Warning message in max(fire_dt$EPISODE[x]):\n",
            "“no non-missing arguments to max; returning -Inf”\n",
            "Warning message in max(fire_dt$EPISODE[x]):\n",
            "“no non-missing arguments to max; returning -Inf”\n",
            "Warning message in max(fire_dt$EPISODE[x]):\n",
            "“no non-missing arguments to max; returning -Inf”\n",
            "Warning message in max(fire_dt$EPISODE[x]):\n",
            "“no non-missing arguments to max; returning -Inf”\n",
            "Warning message in max(fire_dt$EPISODE[x]):\n",
            "“no non-missing arguments to max; returning -Inf”\n",
            "Warning message in max(fire_dt$EPISODE[x]):\n",
            "“no non-missing arguments to max; returning -Inf”\n",
            "Warning message in max(fire_dt$EPISODE[x]):\n",
            "“no non-missing arguments to max; returning -Inf”\n",
            "Warning message in max(fire_dt$EPISODE[x]):\n",
            "“no non-missing arguments to max; returning -Inf”\n",
            "Warning message in max(fire_dt$EPISODE[x]):\n",
            "“no non-missing arguments to max; returning -Inf”\n",
            "Warning message in max(fire_dt$EPISODE[x]):\n",
            "“no non-missing arguments to max; returning -Inf”\n",
            "Warning message in max(fire_dt$EPISODE[x]):\n",
            "“no non-missing arguments to max; returning -Inf”\n",
            "Warning message in max(fire_dt$EPISODE[x]):\n",
            "“no non-missing arguments to max; returning -Inf”\n",
            "Warning message in max(fire_dt$EPISODE[x]):\n",
            "“no non-missing arguments to max; returning -Inf”\n",
            "Warning message in max(fire_dt$EPISODE[x]):\n",
            "“no non-missing arguments to max; returning -Inf”\n",
            "Warning message in max(fire_dt$EPISODE[x]):\n",
            "“no non-missing arguments to max; returning -Inf”\n",
            "Warning message in max(fire_dt$EPISODE[x]):\n",
            "“no non-missing arguments to max; returning -Inf”\n",
            "Warning message in max(fire_dt$EPISODE[x]):\n",
            "“no non-missing arguments to max; returning -Inf”\n",
            "Warning message in max(fire_dt$EPISODE[x]):\n",
            "“no non-missing arguments to max; returning -Inf”\n",
            "Warning message in max(fire_dt$EPISODE[x]):\n",
            "“no non-missing arguments to max; returning -Inf”\n",
            "Warning message in max(fire_dt$EPISODE[x]):\n",
            "“no non-missing arguments to max; returning -Inf”\n",
            "Warning message in max(fire_dt$EPISODE[x]):\n",
            "“no non-missing arguments to max; returning -Inf”\n",
            "Warning message in max(fire_dt$EPISODE[x]):\n",
            "“no non-missing arguments to max; returning -Inf”\n",
            "Warning message in max(fire_dt$EPISODE[x]):\n",
            "“no non-missing arguments to max; returning -Inf”\n"
          ]
        }
      ]
    },
    {
      "cell_type": "code",
      "source": [
        "summary_dt %>%head\n"
      ],
      "metadata": {
        "id": "OWx0qtVCQLaR",
        "outputId": "4101114b-acb2-4066-8c79-5d25825117ac",
        "colab": {
          "base_uri": "https://localhost:8080/",
          "height": 306
        }
      },
      "execution_count": 37,
      "outputs": [
        {
          "output_type": "display_data",
          "data": {
            "text/html": [
              "<table class=\"dataframe\">\n",
              "<caption>A data.table: 6 × 61</caption>\n",
              "<thead>\n",
              "\t<tr><th scope=col>agbd</th><th scope=col>lat_lowestmode</th><th scope=col>lon_lowestmode</th><th scope=col>agbd_pi_lower</th><th scope=col>agbd_pi_upper</th><th scope=col>agbd_se</th><th scope=col>agbd_t</th><th scope=col>agbd_t_se</th><th scope=col>algorithm_run_flag</th><th scope=col>channel</th><th scope=col>⋯</th><th scope=col>median_2016</th><th scope=col>min_2016</th><th scope=col>year</th><th scope=col>wnf_year</th><th scope=col>wnf_stand</th><th scope=col>harvest_stand</th><th scope=col>harvest_year</th><th scope=col>stand</th><th scope=col>fire_year</th><th scope=col>fire_mean</th></tr>\n",
              "\t<tr><th scope=col>&lt;dbl&gt;</th><th scope=col>&lt;dbl&gt;</th><th scope=col>&lt;dbl&gt;</th><th scope=col>&lt;dbl&gt;</th><th scope=col>&lt;dbl&gt;</th><th scope=col>&lt;dbl&gt;</th><th scope=col>&lt;dbl&gt;</th><th scope=col>&lt;dbl&gt;</th><th scope=col>&lt;dbl&gt;</th><th scope=col>&lt;dbl&gt;</th><th scope=col>⋯</th><th scope=col>&lt;dbl&gt;</th><th scope=col>&lt;dbl&gt;</th><th scope=col>&lt;chr&gt;</th><th scope=col>&lt;int&gt;</th><th scope=col>&lt;int&gt;</th><th scope=col>&lt;int&gt;</th><th scope=col>&lt;int&gt;</th><th scope=col>&lt;int&gt;</th><th scope=col>&lt;dbl&gt;</th><th scope=col>&lt;dbl&gt;</th></tr>\n",
              "</thead>\n",
              "<tbody>\n",
              "\t<tr><td>358.3119</td><td>44.20733</td><td>-122.1435</td><td>180.72018</td><td>596.0941</td><td>11.11314</td><td>18.81161</td><td>3.312940</td><td>1</td><td>0</td><td>⋯</td><td>368.8161</td><td>313</td><td>2019</td><td>1836</td><td>1000969</td><td>NA</td><td>NA</td><td>NA</td><td>1893</td><td>1836.25</td></tr>\n",
              "\t<tr><td>299.8270</td><td>44.20761</td><td>-122.1429</td><td>139.90482</td><td>519.9716</td><td>11.11908</td><td>17.20801</td><td>3.313826</td><td>1</td><td>0</td><td>⋯</td><td>106.0000</td><td> 88</td><td>2019</td><td>1836</td><td>1000969</td><td>NA</td><td>NA</td><td>NA</td><td>1893</td><td>1836.25</td></tr>\n",
              "\t<tr><td>107.9718</td><td>44.20788</td><td>-122.1423</td><td> 24.09316</td><td>251.9652</td><td>11.09920</td><td>10.32643</td><td>3.310863</td><td>1</td><td>0</td><td>⋯</td><td>231.0090</td><td> 76</td><td>2019</td><td>1836</td><td>1000969</td><td>NA</td><td>NA</td><td>NA</td><td>1893</td><td>1836.80</td></tr>\n",
              "\t<tr><td>289.1076</td><td>44.20815</td><td>-122.1417</td><td>132.67433</td><td>505.7054</td><td>11.10837</td><td>16.89760</td><td>3.312229</td><td>1</td><td>0</td><td>⋯</td><td>464.8378</td><td>402</td><td>2019</td><td>1532</td><td>1000877</td><td>NA</td><td>NA</td><td>NA</td><td>1893</td><td>1836.80</td></tr>\n",
              "\t<tr><td>253.7462</td><td>44.20842</td><td>-122.1411</td><td>109.10674</td><td>458.5341</td><td>11.10539</td><td>15.83052</td><td>3.311786</td><td>1</td><td>0</td><td>⋯</td><td>499.0751</td><td>455</td><td>2019</td><td>1532</td><td>1000877</td><td>NA</td><td>NA</td><td>NA</td><td>1893</td><td>1836.80</td></tr>\n",
              "\t<tr><td>383.3972</td><td>44.20868</td><td>-122.1405</td><td>198.63158</td><td>628.3741</td><td>11.11699</td><td>19.45897</td><td>3.313515</td><td>1</td><td>0</td><td>⋯</td><td>410.5171</td><td>392</td><td>2019</td><td>1532</td><td>1000877</td><td>NA</td><td>NA</td><td>NA</td><td>1893</td><td>1836.80</td></tr>\n",
              "</tbody>\n",
              "</table>\n"
            ],
            "text/markdown": "\nA data.table: 6 × 61\n\n| agbd &lt;dbl&gt; | lat_lowestmode &lt;dbl&gt; | lon_lowestmode &lt;dbl&gt; | agbd_pi_lower &lt;dbl&gt; | agbd_pi_upper &lt;dbl&gt; | agbd_se &lt;dbl&gt; | agbd_t &lt;dbl&gt; | agbd_t_se &lt;dbl&gt; | algorithm_run_flag &lt;dbl&gt; | channel &lt;dbl&gt; | ⋯ ⋯ | median_2016 &lt;dbl&gt; | min_2016 &lt;dbl&gt; | year &lt;chr&gt; | wnf_year &lt;int&gt; | wnf_stand &lt;int&gt; | harvest_stand &lt;int&gt; | harvest_year &lt;int&gt; | stand &lt;int&gt; | fire_year &lt;dbl&gt; | fire_mean &lt;dbl&gt; |\n|---|---|---|---|---|---|---|---|---|---|---|---|---|---|---|---|---|---|---|---|---|\n| 358.3119 | 44.20733 | -122.1435 | 180.72018 | 596.0941 | 11.11314 | 18.81161 | 3.312940 | 1 | 0 | ⋯ | 368.8161 | 313 | 2019 | 1836 | 1000969 | NA | NA | NA | 1893 | 1836.25 |\n| 299.8270 | 44.20761 | -122.1429 | 139.90482 | 519.9716 | 11.11908 | 17.20801 | 3.313826 | 1 | 0 | ⋯ | 106.0000 |  88 | 2019 | 1836 | 1000969 | NA | NA | NA | 1893 | 1836.25 |\n| 107.9718 | 44.20788 | -122.1423 |  24.09316 | 251.9652 | 11.09920 | 10.32643 | 3.310863 | 1 | 0 | ⋯ | 231.0090 |  76 | 2019 | 1836 | 1000969 | NA | NA | NA | 1893 | 1836.80 |\n| 289.1076 | 44.20815 | -122.1417 | 132.67433 | 505.7054 | 11.10837 | 16.89760 | 3.312229 | 1 | 0 | ⋯ | 464.8378 | 402 | 2019 | 1532 | 1000877 | NA | NA | NA | 1893 | 1836.80 |\n| 253.7462 | 44.20842 | -122.1411 | 109.10674 | 458.5341 | 11.10539 | 15.83052 | 3.311786 | 1 | 0 | ⋯ | 499.0751 | 455 | 2019 | 1532 | 1000877 | NA | NA | NA | 1893 | 1836.80 |\n| 383.3972 | 44.20868 | -122.1405 | 198.63158 | 628.3741 | 11.11699 | 19.45897 | 3.313515 | 1 | 0 | ⋯ | 410.5171 | 392 | 2019 | 1532 | 1000877 | NA | NA | NA | 1893 | 1836.80 |\n\n",
            "text/latex": "A data.table: 6 × 61\n\\begin{tabular}{lllllllllllllllllllll}\n agbd & lat\\_lowestmode & lon\\_lowestmode & agbd\\_pi\\_lower & agbd\\_pi\\_upper & agbd\\_se & agbd\\_t & agbd\\_t\\_se & algorithm\\_run\\_flag & channel & ⋯ & median\\_2016 & min\\_2016 & year & wnf\\_year & wnf\\_stand & harvest\\_stand & harvest\\_year & stand & fire\\_year & fire\\_mean\\\\\n <dbl> & <dbl> & <dbl> & <dbl> & <dbl> & <dbl> & <dbl> & <dbl> & <dbl> & <dbl> & ⋯ & <dbl> & <dbl> & <chr> & <int> & <int> & <int> & <int> & <int> & <dbl> & <dbl>\\\\\n\\hline\n\t 358.3119 & 44.20733 & -122.1435 & 180.72018 & 596.0941 & 11.11314 & 18.81161 & 3.312940 & 1 & 0 & ⋯ & 368.8161 & 313 & 2019 & 1836 & 1000969 & NA & NA & NA & 1893 & 1836.25\\\\\n\t 299.8270 & 44.20761 & -122.1429 & 139.90482 & 519.9716 & 11.11908 & 17.20801 & 3.313826 & 1 & 0 & ⋯ & 106.0000 &  88 & 2019 & 1836 & 1000969 & NA & NA & NA & 1893 & 1836.25\\\\\n\t 107.9718 & 44.20788 & -122.1423 &  24.09316 & 251.9652 & 11.09920 & 10.32643 & 3.310863 & 1 & 0 & ⋯ & 231.0090 &  76 & 2019 & 1836 & 1000969 & NA & NA & NA & 1893 & 1836.80\\\\\n\t 289.1076 & 44.20815 & -122.1417 & 132.67433 & 505.7054 & 11.10837 & 16.89760 & 3.312229 & 1 & 0 & ⋯ & 464.8378 & 402 & 2019 & 1532 & 1000877 & NA & NA & NA & 1893 & 1836.80\\\\\n\t 253.7462 & 44.20842 & -122.1411 & 109.10674 & 458.5341 & 11.10539 & 15.83052 & 3.311786 & 1 & 0 & ⋯ & 499.0751 & 455 & 2019 & 1532 & 1000877 & NA & NA & NA & 1893 & 1836.80\\\\\n\t 383.3972 & 44.20868 & -122.1405 & 198.63158 & 628.3741 & 11.11699 & 19.45897 & 3.313515 & 1 & 0 & ⋯ & 410.5171 & 392 & 2019 & 1532 & 1000877 & NA & NA & NA & 1893 & 1836.80\\\\\n\\end{tabular}\n",
            "text/plain": [
              "  agbd     lat_lowestmode lon_lowestmode agbd_pi_lower agbd_pi_upper agbd_se \n",
              "1 358.3119 44.20733       -122.1435      180.72018     596.0941      11.11314\n",
              "2 299.8270 44.20761       -122.1429      139.90482     519.9716      11.11908\n",
              "3 107.9718 44.20788       -122.1423       24.09316     251.9652      11.09920\n",
              "4 289.1076 44.20815       -122.1417      132.67433     505.7054      11.10837\n",
              "5 253.7462 44.20842       -122.1411      109.10674     458.5341      11.10539\n",
              "6 383.3972 44.20868       -122.1405      198.63158     628.3741      11.11699\n",
              "  agbd_t   agbd_t_se algorithm_run_flag channel ⋯ median_2016 min_2016 year\n",
              "1 18.81161 3.312940  1                  0       ⋯ 368.8161    313      2019\n",
              "2 17.20801 3.313826  1                  0       ⋯ 106.0000     88      2019\n",
              "3 10.32643 3.310863  1                  0       ⋯ 231.0090     76      2019\n",
              "4 16.89760 3.312229  1                  0       ⋯ 464.8378    402      2019\n",
              "5 15.83052 3.311786  1                  0       ⋯ 499.0751    455      2019\n",
              "6 19.45897 3.313515  1                  0       ⋯ 410.5171    392      2019\n",
              "  wnf_year wnf_stand harvest_stand harvest_year stand fire_year fire_mean\n",
              "1 1836     1000969   NA            NA           NA    1893      1836.25  \n",
              "2 1836     1000969   NA            NA           NA    1893      1836.25  \n",
              "3 1836     1000969   NA            NA           NA    1893      1836.80  \n",
              "4 1532     1000877   NA            NA           NA    1893      1836.80  \n",
              "5 1532     1000877   NA            NA           NA    1893      1836.80  \n",
              "6 1532     1000877   NA            NA           NA    1893      1836.80  "
            ]
          },
          "metadata": {}
        }
      ]
    },
    {
      "cell_type": "code",
      "source": [
        "summary_dt[!is.na(agbd),][,list(agbd = mean(agbd,na.rm=T),mean_2003 = mean(mean_2003,na.rm=T),mean_2008 = mean(mean_2008,na.rm=T),mean_2016 = mean(mean_2016,na.rm=T)),by=.(wnf_year,year)] %>%\n",
        "  ggplot(aes(x=2023-wnf_year,y=agbd,color='GEDI' %>% factor(levels = c('GEDI','ALS, 2008','MODIS 2003','LS, 2016'))))+\n",
        "  geom_point( ) +\n",
        "  geom_point(aes(y=mean_2003,color='MODIS 2003' %>% factor(levels = c('GEDI','ALS, 2008','MODIS 2003','LS, 2016'))) ) +\n",
        "  geom_point(aes(y=mean_2008,color='ALS, 2008' %>% factor(levels = c('GEDI','ALS, 2008','MODIS 2003','LS, 2016')))  ) +\n",
        "  geom_point(aes(y=mean_2016,color='LS, 2016' %>% factor(levels = c('GEDI','ALS, 2008','MODIS 2003','LS, 2016')))  )+\n",
        "  # geom_abline(color='red') +\n",
        "  geom_smooth( ) +\n",
        "  geom_smooth(aes(y=mean_2003,color='MODIS 2003' %>% factor(levels = c('GEDI','ALS, 2008','MODIS 2003','LS, 2016'))) ) +\n",
        "  geom_smooth(aes(y=mean_2008,color='ALS, 2008' %>% factor(levels = c('GEDI','ALS, 2008','MODIS 2003','LS, 2016'))) ) +\n",
        "  geom_smooth(aes(y=mean_2016,color='LS, 2016' %>% factor(levels = c('GEDI','ALS, 2008','MODIS 2003','LS, 2016'))) ) +\n",
        "  # Hide the annotations\n",
        "  # Manually add custom legend\n",
        "  xlim(0,20)+\n",
        "  xlab('years after disturbance')+\n",
        "  scale_color_manual(\n",
        "    values = c('GEDI' = 'green', 'MODIS 2003' = 'red', 'ALS, 2008' = 'purple', 'LS, 2016' = 'salmon'),\n",
        "    name = 'agbd source',  # Changing the name of the legend here\n",
        "    breaks = c('GEDI','MODIS 2003','ALS, 2008','LS, 2016'),\n",
        "    labels = c('GEDI', 'MODIS 2003', 'ALS, 2008','LS, 2016'),\n",
        "    position = 'bottom') +\n",
        "  theme(legend.position = 'bottom')"
      ],
      "metadata": {
        "id": "SwztR8jByvzj",
        "outputId": "cddbcd3c-af3e-46d4-b558-6db7364a219c",
        "colab": {
          "base_uri": "https://localhost:8080/",
          "height": 784
        }
      },
      "execution_count": 38,
      "outputs": [
        {
          "output_type": "stream",
          "name": "stderr",
          "text": [
            "\u001b[1m\u001b[22m`geom_smooth()` using method = 'loess' and formula = 'y ~ x'\n",
            "Warning message:\n",
            "“\u001b[1m\u001b[22mRemoved 241 rows containing non-finite values (`stat_smooth()`).”\n",
            "\u001b[1m\u001b[22m`geom_smooth()` using method = 'loess' and formula = 'y ~ x'\n",
            "Warning message:\n",
            "“\u001b[1m\u001b[22mRemoved 241 rows containing non-finite values (`stat_smooth()`).”\n",
            "\u001b[1m\u001b[22m`geom_smooth()` using method = 'loess' and formula = 'y ~ x'\n",
            "Warning message:\n",
            "“\u001b[1m\u001b[22mRemoved 241 rows containing non-finite values (`stat_smooth()`).”\n",
            "\u001b[1m\u001b[22m`geom_smooth()` using method = 'loess' and formula = 'y ~ x'\n",
            "Warning message:\n",
            "“\u001b[1m\u001b[22mRemoved 241 rows containing non-finite values (`stat_smooth()`).”\n",
            "Warning message:\n",
            "“\u001b[1m\u001b[22mRemoved 241 rows containing missing values (`geom_point()`).”\n",
            "Warning message:\n",
            "“\u001b[1m\u001b[22mRemoved 241 rows containing missing values (`geom_point()`).”\n",
            "Warning message:\n",
            "“\u001b[1m\u001b[22mRemoved 241 rows containing missing values (`geom_point()`).”\n",
            "Warning message:\n",
            "“\u001b[1m\u001b[22mRemoved 241 rows containing missing values (`geom_point()`).”\n"
          ]
        },
        {
          "output_type": "display_data",
          "data": {
            "text/plain": [
              "plot without title"
            ],
            "image/png": "[encoded data removed]"
          },
          "metadata": {
            "image/png": {
              "width": 420,
              "height": 420
            }
          }
        }
      ]
    },
    {
      "cell_type": "code",
      "source": [
        "summary_dt[!is.na(mean_2008) &!is.na(agbd) & wnf_year >1500  ,][,list(agbd = mean(agbd,na.rm=T),mean_2003 = mean(mean_2003,na.rm=T),mean_2008 = mean(mean_2008,na.rm=T),mean_2016 = mean(mean_2016,na.rm=T)),by=.(wnf_year,year)] %>%\n",
        "  ggplot(aes(x=2023-wnf_year,y=agbd,color='GEDI' %>% factor(levels = c('GEDI','ALS, 2008','MODIS 2003','LS, 2016'))))+\n",
        "  geom_point( ) +\n",
        "  geom_point(aes(y=mean_2003,color='MODIS 2003' %>% factor(levels = c('GEDI','ALS, 2008','MODIS 2003','LS, 2016'))) ) +\n",
        "  geom_point(aes(y=mean_2008,color='ALS, 2008' %>% factor(levels = c('GEDI','ALS, 2008','MODIS 2003','LS, 2016')))  ) +\n",
        "  geom_point(aes(y=mean_2016,color='LS, 2016' %>% factor(levels = c('GEDI','ALS, 2008','MODIS 2003','LS, 2016')))  )+\n",
        "  # geom_abline(color='red') +\n",
        "  geom_smooth( ) +\n",
        "  geom_smooth(aes(y=mean_2003,color='MODIS 2003' %>% factor(levels = c('GEDI','ALS, 2008','MODIS 2003','LS, 2016'))) ) +\n",
        "  geom_smooth(aes(y=mean_2008,color='ALS, 2008' %>% factor(levels = c('GEDI','ALS, 2008','MODIS 2003','LS, 2016'))) ) +\n",
        "  geom_smooth(aes(y=mean_2016,color='LS, 2016' %>% factor(levels = c('GEDI','ALS, 2008','MODIS 2003','LS, 2016'))) ) +\n",
        "  # Hide the annotations\n",
        "  # Manually add custom legend\n",
        "  xlab('years after disturbance')+\n",
        "  scale_color_manual(\n",
        "    values = c('GEDI' = 'green', 'MODIS 2003' = 'red', 'ALS, 2008' = 'purple', 'LS, 2016' = 'salmon'),\n",
        "    name = 'agbd source',  # Changing the name of the legend here\n",
        "    breaks = c('GEDI','MODIS 2003','ALS, 2008','LS, 2016'),\n",
        "    labels = c('GEDI', 'MODIS 2003', 'ALS, 2008','LS, 2016'),\n",
        "    position = 'bottom') +\n",
        "  theme(legend.position = 'bottom')"
      ],
      "metadata": {
        "id": "Fc_rzdmhmkcM",
        "outputId": "80d02a10-aad0-49a0-a04e-a061ba722450",
        "colab": {
          "base_uri": "https://localhost:8080/",
          "height": 506
        }
      },
      "execution_count": 42,
      "outputs": [
        {
          "output_type": "stream",
          "name": "stderr",
          "text": [
            "\u001b[1m\u001b[22m`geom_smooth()` using method = 'loess' and formula = 'y ~ x'\n",
            "\u001b[1m\u001b[22m`geom_smooth()` using method = 'loess' and formula = 'y ~ x'\n",
            "\u001b[1m\u001b[22m`geom_smooth()` using method = 'loess' and formula = 'y ~ x'\n",
            "\u001b[1m\u001b[22m`geom_smooth()` using method = 'loess' and formula = 'y ~ x'\n"
          ]
        },
        {
          "output_type": "display_data",
          "data": {
            "text/plain": [
              "plot without title"
            ],
            "image/png": "[encoded data removed]"
          },
          "metadata": {
            "image/png": {
              "width": 420,
              "height": 420
            }
          }
        }
      ]
    },
    {
      "cell_type": "code",
      "source": [],
      "metadata": {
        "id": "lEHJpuylaVOr"
      },
      "execution_count": 40,
      "outputs": []
    },
    {
      "cell_type": "code",
      "source": [
        "year_off <- 1\n",
        "\n",
        "agbd_preval_lm <-\n",
        "summary_dt[l4_quality_flag ==1 & min.yod>1984 & round(min.yod) == (year %>% as.numeric-year_off) & round(max.yod) == (year %>% as.numeric-year_off),][,agbd_group:= round(min.preval,-1)][,agbd_group:= round(min.preval,-2)][,mag_group:= round(min.mag,-2)][,yod_group:= round(2023 - min.yod)][,list(min.preval = mean(mean.preval,na.rm=T),min.mag= mean(mean.mag,na.rm=T),agbd= mean(agbd,na.rm=T)),by=c('agbd_group','mag_group','yod_group')][,min.endval:=(min.preval-min.mag)] %>%\n",
        "  lm(agbd~min.endval,.)\n",
        "\n",
        "summary_dt$agbd_postval <- predict(agbd_preval_lm,summary_dt[,min.endval:=(min.preval-min.mag)])\n",
        "summary_dt[min.preval ==0]$agbd_postval <-NA\n",
        "\n",
        "summary_dt$agbd_preval <- predict(agbd_preval_lm,summary_dt[,min.endval:=(min.preval)])\n",
        "summary_dt[min.preval ==0]$agbd_preval <-NA"
      ],
      "metadata": {
        "id": "GFZpLY_CymGX",
        "colab": {
          "base_uri": "https://localhost:8080/",
          "height": 333
        },
        "outputId": "af46993d-9d53-4f9f-c6f6-c12028fe79af"
      },
      "execution_count": 41,
      "outputs": [
        {
          "output_type": "error",
          "ename": "ERROR",
          "evalue": "ignored",
          "traceback": [
            "Error in lm.fit(x, y, offset = offset, singular.ok = singular.ok, ...): 0 (non-NA) cases\nTraceback:\n",
            "1. summary_dt[l4_quality_flag == 1 & min.yod > 1984 & round(min.yod) == \n .     (year %>% as.numeric - year_off) & round(max.yod) == (year %>% \n .     as.numeric - year_off), ][, `:=`(agbd_group, round(min.preval, \n .     -1))][, `:=`(agbd_group, round(min.preval, -2))][, `:=`(mag_group, \n .     round(min.mag, -2))][, `:=`(yod_group, round(2023 - min.yod))][, \n .     list(min.preval = mean(mean.preval, na.rm = T), min.mag = mean(mean.mag, \n .         na.rm = T), agbd = mean(agbd, na.rm = T)), by = c(\"agbd_group\", \n .         \"mag_group\", \"yod_group\")][, `:=`(min.endval, (min.preval - \n .     min.mag))] %>% lm(agbd ~ min.endval, .)",
            "2. lm(agbd ~ min.endval, .)",
            "3. lm.fit(x, y, offset = offset, singular.ok = singular.ok, ...)",
            "4. stop(\"0 (non-NA) cases\")"
          ]
        }
      ]
    },
    {
      "cell_type": "code",
      "source": [
        "fire_history_gpkg <- st_read('/content/Fire_History_polygon.gpkg')"
      ],
      "metadata": {
        "id": "cO4ekD-fmhva"
      },
      "execution_count": null,
      "outputs": []
    },
    {
      "cell_type": "code",
      "source": [
        "fire_history_gpkg <- fire_history_gpkg %>% st_cast('POLYGON')"
      ],
      "metadata": {
        "id": "pyosdJnBad9u"
      },
      "execution_count": null,
      "outputs": []
    },
    {
      "cell_type": "code",
      "source": [
        "fire_history_int <- summary_dt %>% st_as_sf %>% st_intersects(fire_history_gpkg %>% st_transform(st_crs(summary_dt$geom)))"
      ],
      "metadata": {
        "id": "dvstL_1Pc7Io"
      },
      "execution_count": null,
      "outputs": []
    },
    {
      "cell_type": "code",
      "source": [
        "(fire_history_int %>% unlist)[1:5]"
      ],
      "metadata": {
        "id": "ybCO9BCjdKl8"
      },
      "execution_count": null,
      "outputs": []
    },
    {
      "cell_type": "code",
      "source": [
        "huc_8_int <- summary_dt %>% st_as_sf %>% st_intersects(huc_8_gpgk)\n",
        "\n",
        "huc_10_int <- summary_dt %>% st_as_sf %>% st_intersects(huc_10_gpgk)\n",
        "\n",
        "huc_12_int <- summary_dt %>% st_as_sf %>% st_intersects(huc_12_gpgk)"
      ],
      "metadata": {
        "id": "jewVgANZyuUp"
      },
      "execution_count": 49,
      "outputs": []
    },
    {
      "cell_type": "code",
      "source": [
        "fire_history_gpkg %>% data.table %>% head %>% names\n"
      ],
      "metadata": {
        "id": "sgvQk7F2rCQw"
      },
      "execution_count": null,
      "outputs": []
    },
    {
      "cell_type": "code",
      "source": [
        "fire_summary_dt <- data.table(summary_dt, (fire_history_gpkg %>% data.table)[,c('FIRE_NUM','FIRE_CODE','FIRE_NAME','FIRE_YEAR')][fire_history_int %>% lapply(function(x){x[1]}) %>% unlist,])\n"
      ],
      "metadata": {
        "id": "Y7YpelbKqvp4"
      },
      "execution_count": null,
      "outputs": []
    },
    {
      "cell_type": "code",
      "source": [
        "fire_summary_dt$FIRE_YEAR %>% table"
      ],
      "metadata": {
        "id": "2yraBkoHrbMT"
      },
      "execution_count": null,
      "outputs": []
    },
    {
      "cell_type": "code",
      "source": [
        "# huc_8_summary_dt"
      ],
      "metadata": {
        "id": "l7PC-ctcq3lq"
      },
      "execution_count": null,
      "outputs": []
    },
    {
      "cell_type": "code",
      "source": [
        "huc_8_summary_dt <- data.table(summary_dt, (huc_8_gpgk %>% data.table)[,c('TNMID','HUC8','Name')][huc_8_int %>% lapply(function(x){x[1]}) %>% unlist,])\n",
        "huc_10_summary_dt <- data.table(summary_dt, (huc_10_gpgk %>% data.table)[,c('TNMID','HUC10','Name')][huc_10_int %>% lapply(function(x){x[1]}) %>% unlist,])\n",
        "huc_12_summary_dt <- data.table(summary_dt, (huc_12_gpgk %>% data.table)[,c('TNMID','HUC12','Name')][huc_12_int %>% lapply(function(x){x[1]}) %>% unlist,])"
      ],
      "metadata": {
        "id": "iOz_SsQsyvv8"
      },
      "execution_count": null,
      "outputs": []
    },
    {
      "cell_type": "code",
      "source": [
        "# # resample_dt[,agbd := rnorm(1,agbd,agbd_se),by=row_id]\n",
        "# # gc()\n",
        "# resamp_vec <-\n",
        "# 1:nrow(resample_dt) %>%\n",
        "#   lapply(function(x){\n",
        "#     if(!is.na())\n",
        "#     rnorm(1,resample_dt$agbd[[x]],resample_dt$agbd_sd[[x]])\n",
        "#   })\n",
        "resample_dt <- NULL\n",
        "gc()"
      ],
      "metadata": {
        "id": "pYI05ddv2IVy"
      },
      "execution_count": null,
      "outputs": []
    },
    {
      "cell_type": "code",
      "source": [
        "summary_dt[,group_quantile:=as.integer(cut(agbd_postval, breaks = quantile(agbd_postval[!is.na(agbd) & median.preval > 0], probs = seq(0, 1, by = 1/3),na.rm=T), labels = FALSE, include.lowest = TRUE)) ]\n",
        "summary_dt$group <- NA\n",
        "# summary_dt[!is.na(agbd) & median.preval > 0, group_quantile := kmeans(((median.preval - median.mag) / median.preval)[.I], centers = 4)$cluster]\n",
        "\n",
        "\n",
        "\n",
        "summary_dt$group <- NA\n",
        "summary_dt[!is.na(agbd_postval), group := kmeans((agbd_postval)[.I], centers = 3)$cluster]\n",
        "\n",
        "\n",
        "cluster_dt <- summary_dt[!is.na(agbd) & median.preval > 0,list(agbd_postval = mean(agbd_postval)),by=group][order(agbd_postval)]\n",
        "cluster_dt$group_new <- 1:nrow(cluster_dt)\n",
        "cluster_dt <- cluster_dt[order(group)]\n",
        "# print(cluster_dt)\n",
        "summary_dt$group <- cluster_dt$group_new[summary_dt$group]\n",
        "\n",
        "summary_dt[,list(agbd_postval = mean(agbd_postval),n = length(agbd_postval)),by=group_quantile][order(agbd_postval)]\n",
        "\n",
        "summary_dt[,list(agbd_postval = mean(agbd_postval),n = length(agbd_postval)),by=group][order(agbd_postval)]"
      ],
      "metadata": {
        "id": "S-SATZn8zk19"
      },
      "execution_count": null,
      "outputs": []
    },
    {
      "cell_type": "code",
      "source": [
        "install.packages('randomForest')"
      ],
      "metadata": {
        "id": "ktLhWRVBWofl"
      },
      "execution_count": null,
      "outputs": []
    },
    {
      "cell_type": "code",
      "source": [
        "library(randomForest)"
      ],
      "metadata": {
        "id": "ou99rvW2WmRt"
      },
      "execution_count": null,
      "outputs": []
    },
    {
      "cell_type": "code",
      "source": [
        "calibration_dt[,group_quantile:=as.integer(cut(mean.preval-mean.mag, breaks = quantile((mean.preval-mean.mag)[!is.na(agbd) & median.preval > 0], probs = seq(0, 1, by = 1/3),na.rm=T), labels = FALSE, include.lowest = TRUE))  %>%as.factor()]\n",
        "\n",
        "calibration_dt %>%\n",
        "  ggplot(aes(x = mean.preval-mean.mag,y=agbd))+\n",
        "  geom_point(aes(color=group_quantile))"
      ],
      "metadata": {
        "id": "icMSSOV1X2Rr"
      },
      "execution_count": null,
      "outputs": []
    },
    {
      "cell_type": "code",
      "source": [
        "calibration_dt <- resample_dt[min.yod>1984 & !is.na(agbd) ,]\n",
        "calibration_dt$id <- 1:nrow(calibration_dt)\n",
        "calibration_dt[,post_val := mean(mean.preval - mean.mag),by = id]\n",
        "# calibration_dt[,group_quantile:=as.integer(cut(agbd, breaks = quantile(agbd, probs = seq(0, 1, by = 1/3),na.rm=T), labels = FALSE, include.lowest = TRUE)) %>% factor ]\n",
        "# calibration_dt[,agbd_quantile:=as.integer(cut(agbd, breaks = quantile(agbd, probs = seq(0, 1, by = 1/3),na.rm=T), labels = FALSE, include.lowest = TRUE)) %>% factor ]\n",
        "# calibration_dt[,postval_quantile:=as.integer(cut(mean.preval - mean.mag, breaks = quantile(mean.preval - mean.mag, probs = seq(0, 1, by = 1/3),na.rm=T), labels = FALSE, include.lowest = TRUE)) %>% factor ]\n",
        "\n",
        "\n",
        "# calibration_dt %>%\n",
        "#   ggplot(aes(x=agbd))+\n",
        "#   geom_boxplot(aes(color=postval_quantile))\n",
        "# names(calibration_dt)\n",
        "# rf_form <- as.formula(paste('group_quantile ~',c('post_val',(calibration_dt %>% names)[18:41]) %>% paste(.,collapse = '+')))\n",
        "# resample_dt$id <- 1:nrow(resample_dt)\n",
        "\n",
        "# resample_dt[,agbd_quantile:=as.integer(cut(agbd, breaks = quantile(agbd, probs = seq(0, 1, by = 1/3),na.rm=T), labels = FALSE, include.lowest = TRUE)) %>% factor ]\n",
        "# resample_dt[,postval_quantile:=as.integer(cut(mean.preval - mean.mag, breaks = quantile(mean.preval - mean.mag, probs = seq(0, 1, by = 1/3),na.rm=T), labels = FALSE, include.lowest = TRUE)) %>% factor ]\n",
        "\n",
        "# resample_dt[,post_val := mean(mean.preval - mean.mag),by = id]\n",
        "# rf_result <-  randomForest(rf_form,resample_dt[min.yod>1984 & !is.na(agbd)])\n"
      ],
      "metadata": {
        "id": "_3MjrahgsDKj"
      },
      "execution_count": null,
      "outputs": []
    },
    {
      "cell_type": "code",
      "source": [
        "while(TRUE){}"
      ],
      "metadata": {
        "id": "XoAKNT-0JuCv"
      },
      "execution_count": null,
      "outputs": []
    },
    {
      "cell_type": "code",
      "source": [
        "post_gedi_dt %>%head"
      ],
      "metadata": {
        "id": "aevTfUHjonTI"
      },
      "execution_count": null,
      "outputs": []
    },
    {
      "cell_type": "code",
      "source": [
        "resample_dt[,group:=as.integer(cut(agbd, breaks = quantile(agbd, probs = seq(0, 1, by = 1/3),na.rm=T), labels = FALSE, include.lowest = TRUE)),by = .(round(median.yod/5)*5)]\n",
        "\n",
        "# table(resample_dt$group,round(resample_dt$median.yod /1)*1)"
      ],
      "metadata": {
        "id": "L7YPi2xuJt9J"
      },
      "execution_count": null,
      "outputs": []
    },
    {
      "cell_type": "code",
      "source": [
        "fire_summary_dt$gedi_era <-  fire_summary_dt$min.yod > min(fire_summary_dt$year %>% as.numeric)\n",
        "\n",
        "fire_summary_dt$post_gedi <-  (fire_summary_dt$year %>% as.numeric) - fire_summary_dt$mean.yod\n",
        "\n",
        "# fire_summary_dt$pre_gedi <-"
      ],
      "metadata": {
        "id": "onLPiWaTtaCZ"
      },
      "execution_count": null,
      "outputs": []
    },
    {
      "cell_type": "code",
      "source": [
        "post_gedi_dt <- fire_summary_dt[l4_quality_flag ==1 & min.yod>1984 & gedi_era  ]\n",
        "post_gedi_dt[agbd >0 &year %>% as.numeric == round(mean.yod+1) |year %>% as.numeric == round(mean.yod+1) | year %>% as.numeric == round(mean.yod+2)| year %>% as.numeric == round(mean.yod+3)| year %>% as.numeric == round(mean.yod+4)| year %>% as.numeric == round(mean.yod+5)]    %>%\n",
        "  ggplot(aes(y=agbd,x=mean.preval-mean.mag))+\n",
        "  geom_bin2d()+\n",
        "  geom_smooth(method='lm')"
      ],
      "metadata": {
        "id": "vC1GxTOqvcjm"
      },
      "execution_count": null,
      "outputs": []
    },
    {
      "cell_type": "code",
      "source": [
        "fire_summary_dt$gedi_era %>% table"
      ],
      "metadata": {
        "id": "up0OQLwBue38"
      },
      "execution_count": null,
      "outputs": []
    },
    {
      "cell_type": "code",
      "source": [
        "# 1:1000\n",
        "resample_dt <- fire_summary_dt\n",
        "# resample_dt <- fire_summary_dt[min.yod>1984 & !is.na(agbd) & is.na(FIRE_YEAR) & l4_quality_flag ==1 &min.endval>0]\n",
        "\n",
        "# resample_dt %>% head\n",
        "\n",
        "\n",
        "# agbd_preval_lm <-resample_dt[] %>%\n",
        "#   lm(agbd~min.endval,.)\n",
        "\n",
        "# agbd_preval_lm %>% summary\n",
        "\n",
        "resample_dt$agbd_postval <- predict(agbd_preval_lm,resample_dt[,min.endval:=(min.preval-min.mag)])\n",
        "resample_dt$agbd_preval <- predict(agbd_preval_lm,resample_dt[,min.endval:=(min.preval)])\n",
        "\n",
        "# min.yod>1984 & round(min.yod) %in% c(round(year %>% as.numeric)-c(1,2)) &  round(max.yod) %in% c(round(year%>% as.numeric)-c(1,2))\n",
        "resample_dt[,min.endval:=(min.preval-min.mag)]\n",
        "# resample_dt$min.endval\n",
        "# # resample_dt$agbd_postval\n",
        "# # resample_dt[,agbd_postval:=mean(agbd[min.yod>1984 & round(min.yod) %in% c(round(year %>% as.numeric)+c(1,2)) &  round(max.yod) %in% c(round(year%>% as.numeric)+c(1,2))],na.rm=T),by = group]\n",
        "# # resample_dt[,agbd_preval:=mean(agbd[min.yod>1984 & round(min.yod) %in% c(round(year %>% as.numeric)+c(1,2)) &  round(max.yod) %in% c(round(year%>% as.numeric)+c(1,2))],na.rm=T),by = group]\n",
        "resample_dt[,group:=as.integer(cut(agbd, breaks = quantile(agbd, probs = seq(0, 1, by = 1/3),na.rm=T), labels = FALSE, include.lowest = TRUE)) ]\n",
        "\n",
        "resample_dt[,group_agbd_preval:=mean(agbd[min.yod>1984 & round(mean.yod) %in% c(round(year %>% as.numeric)+c(1,2,3))],na.rm=T) ,by=group]\n",
        "\n",
        "resample_dt[,group_agbd_postval:=mean(agbd[min.yod>1984 & round(mean.yod) < round(year %>% as.numeric) ],na.rm=T) ,by=group]\n",
        "\n",
        "\n",
        "plot_dt <- resample_dt[min.yod>1984 &l4_quality_flag ==1,][,yod_round := round(mean.yod)][,list(agbd = mean(agbd,na.rm=T),yad = mean(2023-mean.yod),group_agbd_preval=mean(group_agbd_preval,na.rm=T),group_agbd_postval=mean(group_agbd_postval,na.rm=T),n = length(mean.yod)),by = .(group,yod_round)][yad>1]\n",
        "\n",
        "\n",
        "plot_dt[,agbd_yr:=(agbd/yad),by=group]\n",
        "\n",
        "plot_dt[order(yad),agbd_yr_cumsum := cumsum(agbd/yad)-group_agbd_postval,by = group]\n",
        "\n",
        "# summary_dt[,group_quantile:=as.integer(cut(agbd_postval, breaks = quantile(agbd_postval[!is.na(agbd) & median.preval > 0], probs = seq(0, 1, by = 1/3),na.rm=T), labels = FALSE, include.lowest = TRUE)) ]\n",
        "# summary_dt$group <- NA\n",
        "# # summary_dt[!is.na(agbd) & median.preval > 0, group_quantile := kmeans(((median.preval - median.mag) / median.preval)[.I], centers = 4)$cluster]\n",
        "\n",
        "\n",
        "\n",
        "# summary_dt$group <- NA\n",
        "# summary_dt[!is.na(agbd_postval), group := kmeans((agbd_postval)[.I], centers = 3)$cluster]\n",
        "\n",
        "\n",
        "# cluster_dt <- summary_dt[!is.na(agbd) & median.preval > 0,list(agbd_postval = mean(agbd_postval)),by=group][order(agbd_postval)]\n",
        "# cluster_dt$group_new <- 1:nrow(cluster_dt)\n",
        "# cluster_dt <- cluster_dt[order(group)]\n",
        "# # print(cluster_dt)\n",
        "# summary_dt$group <- cluster_dt$group_new[summary_dt$group]\n",
        "\n",
        "# summary_dt[,list(agbd_postval = mean(agbd_postval),n = length(agbd_postval)),by=group_quantile][order(agbd_postval)]\n",
        "\n",
        "# summary_dt[,list(agbd_postval = mean(agbd_postval),n = length(agbd_postval)),by=group][order(agbd_postval)]\n",
        "\n",
        "plot_dt$yod %>% max\n",
        "\n",
        "plot_dt %>%\n",
        "\n",
        "ggplot(aes(x=yad,y=agbd_yr,group=group))+\n",
        "\n",
        "geom_point()+\n",
        "\n",
        "geom_smooth(aes(color=group))\n",
        "\n",
        "\n",
        "# plot_dt %>%\n",
        "# ggplot(aes(x=yad,y=agbd_yr_cumsum,group=group_quantile))+\n",
        "# geom_point()+\n",
        "# geom_line(aes(color=group_quantile))\n",
        "# geom_smooth(data=pred_dt,aes(),color='red')"
      ],
      "metadata": {
        "id": "_X_pF4TT9vRB"
      },
      "execution_count": null,
      "outputs": []
    },
    {
      "cell_type": "code",
      "source": [
        "gedi_vec_gpkg$area <- st_area(gedi_vec_gpkg)\n",
        "\n",
        "summary_dt$gedi_clust <- st_intersects(summary_dt$geom,gedi_vec_gpkg) %>% lapply(function(x){x[1]}) %>% unlist\n",
        "summary_dt$gedi_clust_area <- gedi_vec_gpkg$area[summary_dt$gedi_clust]"
      ],
      "metadata": {
        "id": "W-VRWy919p2O"
      },
      "execution_count": null,
      "outputs": []
    },
    {
      "cell_type": "code",
      "source": [
        "summary_dt[min.yod > 1984 & agbd>0 &l4_quality_flag ==1,] %>%\n",
        "  ggplot(aes(y=(agbd - agbd_preval)/(2023-max.yod),x=max.yod,group=group))+\n",
        "  geom_point() +\n",
        "  # geom_line(aes(color=group))+\n",
        "  geom_smooth(aes(color=group))"
      ],
      "metadata": {
        "id": "ooqmNof1AuNl"
      },
      "execution_count": null,
      "outputs": []
    },
    {
      "cell_type": "code",
      "source": [
        "huc_8_int <- summary_dt %>% st_as_sf %>% st_intersects(huc_8_gpgk)\n",
        "\n",
        "huc_10_int <- summary_dt %>% st_as_sf %>% st_intersects(huc_10_gpgk)\n",
        "\n",
        "huc_12_int <- summary_dt %>% st_as_sf %>% st_intersects(huc_12_gpgk)"
      ],
      "metadata": {
        "id": "ioGSIgshMojf"
      },
      "execution_count": null,
      "outputs": []
    },
    {
      "cell_type": "code",
      "source": [
        "huc_8_summary_dt <- data.table(summary_dt, (huc_8_gpgk %>% data.table)[,c('TNMID','HUC8','Name')][huc_8_int %>% lapply(function(x){x[1]}) %>% unlist,])\n",
        "huc_10_summary_dt <- data.table(summary_dt, (huc_10_gpgk %>% data.table)[,c('TNMID','HUC10','Name')][huc_10_int %>% lapply(function(x){x[1]}) %>% unlist,])\n",
        "huc_12_summary_dt <- data.table(summary_dt, (huc_12_gpgk %>% data.table)[,c('TNMID','HUC12','Name')][huc_12_int %>% lapply(function(x){x[1]}) %>% unlist,])"
      ],
      "metadata": {
        "id": "Oh3ejwKJOF8z"
      },
      "execution_count": null,
      "outputs": []
    },
    {
      "cell_type": "code",
      "source": [
        "targ_dt <- huc_10_summary_dt[Name == 'Thomas Creek' & group ==1]\n",
        "\n",
        "loess_dt <- huc_10_summary_dt[min.yod>1984 &agbd>0 ,][,yod_round := round(mean.yod)][,list(agbd = mean(agbd-agbd_preval,na.rm=T),yad = mean(2023-mean.yod),n = length(mean.yod)),by = .(group,Name,yod_round)][yad>3]\n",
        "\n",
        "huc_10_summary_dt[,yad := 2023-mean.yod]\n",
        "targ_dt$agbd_pred <-\n",
        "predict(loess_dt[Name == 'Thomas Creek' & group == 1] %>%\n",
        "  loess(agbd~yad,.), targ_dt)"
      ],
      "metadata": {
        "id": "rHcRc44CoZUB"
      },
      "execution_count": null,
      "outputs": []
    },
    {
      "cell_type": "code",
      "source": [
        "targ_dt[yad>3,] %>%\n",
        "  ggplot(aes(x=agbd_pred-agbd))+\n",
        "  geom_histogram(bins=100)"
      ],
      "metadata": {
        "id": "VHXKFI43qb6o"
      },
      "execution_count": null,
      "outputs": []
    },
    {
      "cell_type": "code",
      "source": [
        "targ_dt[yad>3,] %>% st_as_sf() %>% st_write('/content/example.gpkg')"
      ],
      "metadata": {
        "id": "zTczNC-psVkZ"
      },
      "execution_count": null,
      "outputs": []
    },
    {
      "cell_type": "code",
      "source": [
        "huc_10_dist_table <- huc_10_summary_dt$Name %>% table\n",
        "huc_10_summary_dt <- huc_10_summary_dt[Name %in% c(huc_10_dist_table[huc_10_dist_table>100] %>% names),]\n",
        "\n",
        "huc_10_summary_dt[,group:=as.integer(cut((median.preval-median.mag)/median.preval, breaks = quantile((median.preval[!is.na(agbd) & median.preval > 0]-median.mag[!is.na(agbd) & median.preval > 0])/median.preval[!is.na(agbd) & median.preval > 0], probs = seq(0, 1, by = 0.25)), labels = FALSE, include.lowest = TRUE)) ,by = 'Name']\n",
        "\n",
        "\n",
        "\n",
        "fit <- loess(y ~ x)\n",
        "predictions <- predict(fit, newdata = data.frame(x = x))\n",
        "\n",
        "huc_10_summary_dt[min.yod>1984 &agbd>0 ,][,yod_round := round(mean.yod)][,list(agbd = mean(agbd-agbd_preval,na.rm=T),yad = mean(2023-mean.yod),n = length(mean.yod)),by = .(group,Name,yod_round)][yad>3] %>%\n",
        "ggplot(aes(x=yad,y=(floor(agbd))/ceiling(yad),group=group))+\n",
        "geom_point()+\n",
        "geom_smooth(aes(color=group)) +\n",
        "facet_wrap(Name~.)\n"
      ],
      "metadata": {
        "id": "uR3Sr08MgzjT"
      },
      "execution_count": null,
      "outputs": []
    },
    {
      "cell_type": "code",
      "source": [
        "huc_12_dist_table <- huc_12_summary_dt$Name %>% table\n",
        "huc_12_summary_dt <- huc_12_summary_dt[Name %in% c(huc_12_dist_table[huc_12_dist_table>100] %>% names),]\n",
        "\n",
        "huc_12_summary_dt[,group:=as.integer(cut((median.preval-median.mag)/median.preval, breaks = quantile((median.preval[!is.na(agbd) & median.preval > 0]-median.mag[!is.na(agbd) & median.preval > 0])/median.preval[!is.na(agbd) & median.preval > 0], probs = seq(0, 1, by = 0.25)), labels = FALSE, include.lowest = TRUE)) ,by = 'Name']\n",
        "\n",
        "\n",
        "\n",
        "\n",
        "\n",
        "huc_12_summary_dt[min.yod>1984 &agbd>0 ,][,yod_round := round(mean.yod)][,list(agbd = mean(agbd-agbd_preval,na.rm=T),yad = mean(2023-mean.yod),n = length(mean.yod)),by = .(group,Name,yod_round)][yad>3] %>%\n",
        "ggplot(aes(x=yad,y=(floor(agbd))/ceiling(yad),group=group))+\n",
        "geom_point()+\n",
        "geom_smooth(aes(color=group)) +\n",
        "facet_wrap(Name~.)"
      ],
      "metadata": {
        "id": "SCNJ9gdGk68j"
      },
      "execution_count": null,
      "outputs": []
    }
  ]
}
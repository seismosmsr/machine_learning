{
  "nbformat": 4,
  "nbformat_minor": 0,
  "metadata": {
    "colab": {
      "provenance": [],
      "machine_shape": "hm",
      "authorship_tag": "ABX9TyNFW+UMMY7rLVDAETz4h0hw",
      "include_colab_link": true
    },
    "kernelspec": {
      "name": "ir",
      "display_name": "R"
    },
    "language_info": {
      "name": "R"
    }
  },
  "cells": [
    {
      "cell_type": "markdown",
      "metadata": {
        "id": "view-in-github",
        "colab_type": "text"
      },
      "source": [
        "<a href=\"https://colab.research.google.com/github/seismosmsr/machine_learning/blob/main/gedi_analysis_HJA_8_31_2023.ipynb\" target=\"_parent\"><img src=\"https://colab.research.google.com/assets/colab-badge.svg\" alt=\"Open In Colab\"/></a>"
      ]
    },
    {
      "cell_type": "code",
      "source": [
        "install.packages('sf')\n",
        "install.packages('raster')\n",
        "install.packages('exactextractr')\n",
        "install.packages(\"googledrive\")\n",
        "install.packages(\"googletoken\")\n",
        "install.packages(\"DBI\")\n",
        "install.packages(\"RSQLite\")\n",
        "install.packages(\"RPostgreSQL\")"
      ],
      "metadata": {
        "colab": {
          "base_uri": "https://localhost:8080/"
        },
        "id": "rC3Pg61Wq8On",
        "outputId": "302d6f69-b675-4cfe-b20e-ab843191f459"
      },
      "execution_count": 1,
      "outputs": [
        {
          "output_type": "stream",
          "name": "stderr",
          "text": [
            "Installing package into ‘/usr/local/lib/R/site-library’\n",
            "(as ‘lib’ is unspecified)\n",
            "\n",
            "also installing the dependencies ‘proxy’, ‘e1071’, ‘wk’, ‘classInt’, ‘Rcpp’, ‘s2’, ‘units’\n",
            "\n",
            "\n",
            "Installing package into ‘/usr/local/lib/R/site-library’\n",
            "(as ‘lib’ is unspecified)\n",
            "\n",
            "also installing the dependencies ‘sp’, ‘terra’\n",
            "\n",
            "\n",
            "Installing package into ‘/usr/local/lib/R/site-library’\n",
            "(as ‘lib’ is unspecified)\n",
            "\n",
            "Installing package into ‘/usr/local/lib/R/site-library’\n",
            "(as ‘lib’ is unspecified)\n",
            "\n",
            "Installing package into ‘/usr/local/lib/R/site-library’\n",
            "(as ‘lib’ is unspecified)\n",
            "\n",
            "Warning message:\n",
            "“package ‘googletoken’ is not available for this version of R\n",
            "\n",
            "A version of this package for your version of R might be available elsewhere,\n",
            "see the ideas at\n",
            "https://cran.r-project.org/doc/manuals/r-patched/R-admin.html#Installing-packages”\n",
            "Installing package into ‘/usr/local/lib/R/site-library’\n",
            "(as ‘lib’ is unspecified)\n",
            "\n",
            "Installing package into ‘/usr/local/lib/R/site-library’\n",
            "(as ‘lib’ is unspecified)\n",
            "\n",
            "also installing the dependency ‘plogr’\n",
            "\n",
            "\n",
            "Installing package into ‘/usr/local/lib/R/site-library’\n",
            "(as ‘lib’ is unspecified)\n",
            "\n"
          ]
        }
      ]
    },
    {
      "cell_type": "code",
      "execution_count": 2,
      "metadata": {
        "colab": {
          "base_uri": "https://localhost:8080/"
        },
        "id": "ohy4torjkZq2",
        "outputId": "951e6650-75da-41a3-f265-b3d33b94be7b"
      },
      "outputs": [
        {
          "output_type": "stream",
          "name": "stderr",
          "text": [
            "Linking to GEOS 3.10.2, GDAL 3.4.3, PROJ 8.2.1; sf_use_s2() is TRUE\n",
            "\n",
            "Loading required package: sp\n",
            "\n",
            "The legacy packages maptools, rgdal, and rgeos, underpinning the sp package,\n",
            "which was just loaded, will retire in October 2023.\n",
            "Please refer to R-spatial evolution reports for details, especially\n",
            "https://r-spatial.org/r/2023/05/15/evolution4.html.\n",
            "It may be desirable to make the sf package available;\n",
            "package maintainers should consider adding sf to Suggests:.\n",
            "The sp package is now running under evolution status 2\n",
            "     (status 2 uses the sf package in place of rgdal)\n",
            "\n"
          ]
        }
      ],
      "source": [
        "library(ggplot2)\n",
        "library(sf)\n",
        "library(magrittr)\n",
        "library(data.table)\n",
        "library(raster)\n",
        "library(exactextractr)\n",
        "library(googledrive)\n",
        "library(DBI)"
      ]
    },
    {
      "cell_type": "code",
      "source": [
        "# while(TRUE){}"
      ],
      "metadata": {
        "id": "neOkVr_mkd8m"
      },
      "execution_count": 3,
      "outputs": []
    },
    {
      "cell_type": "code",
      "source": [
        "# drive_deauth()\n",
        "# drive_auth(use_oob = TRUE, cache = FALSE)"
      ],
      "metadata": {
        "id": "hVkqfgfpnel2"
      },
      "execution_count": 4,
      "outputs": []
    },
    {
      "cell_type": "code",
      "source": [
        "# GEDI data\n",
        "# https://drive.google.com/file/d/14jTxo28D2bsC68EpVsbSaY7SpYM5MIA4/view?usp=drive_link\n",
        "\n",
        "# Landtrendr data\n",
        "# https://drive.google.com/file/d/1FrN1tUojGV80f3kDtmezsFsvLabIoGiW/view?usp=drive_link\n",
        "\n",
        "# HUC 8\n",
        "# https://drive.google.com/file/d/1r6CIYLOy01N8B1jc7Hr8AJUkA0jPXp9z/view?usp=drive_link\n",
        "\n",
        "# HUC 10\n",
        "# https://drive.google.com/file/d/1m86VWKw3nys-oY931eq9dC6xv0cEfs4a/view?usp=drive_link\n",
        "\n",
        "# HUC 12\n",
        "# https://drive.google.com/file/d/18ayVCWhBkP1Tb_wrWgPJea8vaWEiPgOL/view?usp=drive_link\n",
        "\n",
        "# GEDI vectorized by YOD, Queen's rule.\n",
        "# https://drive.google.com/file/d/1miOMqCh081yceVUfVVOL5JtxpKUgBO-2/view?usp=drive_link"
      ],
      "metadata": {
        "id": "O3df1Ii3npf3"
      },
      "execution_count": 5,
      "outputs": []
    },
    {
      "cell_type": "code",
      "source": [
        "drive_download(file = as_id('1FrN1tUojGV80f3kDtmezsFsvLabIoGiW'), path =  '/content/HJA_LandTrendr_84_23.tif', overwrite = FALSE)"
      ],
      "metadata": {
        "colab": {
          "base_uri": "https://localhost:8080/"
        },
        "id": "LUX0iDBQo3bB",
        "outputId": "373fc50b-87f3-4d34-f956-d2cd72a0cc7b"
      },
      "execution_count": 6,
      "outputs": [
        {
          "output_type": "stream",
          "name": "stderr",
          "text": [
            "\u001b[1m\u001b[22mIs it OK to cache OAuth access credentials in the folder \u001b[34m~/.cache/gargle\u001b[39m\n",
            "between R sessions?\n",
            "\u001b[1m1\u001b[22m: Yes\n",
            "\u001b[1m2\u001b[22m: No\n"
          ]
        },
        {
          "name": "stdout",
          "output_type": "stream",
          "text": [
            "Selection: 1\n"
          ]
        },
        {
          "output_type": "stream",
          "name": "stderr",
          "text": [
            "Please point your browser to the following url: \n",
            "\n",
            "https://accounts.google.com/o/oauth2/v2/auth?client_id=603366585132-frjlouoa3s2ono25d2l9ukvhlsrlnr7k.apps.googleusercontent.com&scope=https%3A%2F%2Fwww.googleapis.com%2Fauth%2Fdrive%20https%3A%2F%2Fwww.googleapis.com%2Fauth%2Fuserinfo.email&redirect_uri=https%3A%2F%2Fwww.tidyverse.org%2Fgoogle-callback%2F&response_type=code&state=ec4f321562ebcfc4c41f23a9d9e6bfff&access_type=offline&prompt=consent\n",
            "\n"
          ]
        },
        {
          "name": "stdout",
          "output_type": "stream",
          "text": [
            "Enter authorization code: eyJjb2RlIjoiNC8wQWRldTVCV0wyY0wxWExjS2NIbW9aZFhVRDI5ckVncHladFNuSHJSeDVNNXlyenlySksxYlQ5N3BiV3lWTHFnRjE4WWdNUSIsInN0YXRlIjoiZWM0ZjMyMTU2MmViY2ZjNGM0MWYyM2E5ZDllNmJmZmYifQ==\n"
          ]
        },
        {
          "output_type": "stream",
          "name": "stderr",
          "text": [
            "File downloaded:\n",
            "\n",
            "• \u001b[36mHJA_LandTrendr_84_23_2.tif\u001b[39m \u001b[90m<id: 1FrN1tUojGV80f3kDtmezsFsvLabIoGiW>\u001b[39m\n",
            "\n",
            "Saved locally as:\n",
            "\n",
            "• \u001b[34m/content/HJA_LandTrendr_84_23.tif\u001b[39m\n",
            "\n"
          ]
        }
      ]
    },
    {
      "cell_type": "code",
      "source": [
        "drive_download(file = as_id('14jTxo28D2bsC68EpVsbSaY7SpYM5MIA4'), path =  '/content/HJA_gedi.gpkg', overwrite = TRUE)"
      ],
      "metadata": {
        "id": "p6BrSHZVpEnI",
        "outputId": "bd71cbdf-dcd3-46e1-d0ee-8324d70f5e96",
        "colab": {
          "base_uri": "https://localhost:8080/"
        }
      },
      "execution_count": 7,
      "outputs": [
        {
          "output_type": "stream",
          "name": "stderr",
          "text": [
            "File downloaded:\n",
            "\n",
            "• \u001b[36mHJA_GEDI_4.gpkg\u001b[39m \u001b[90m<id: 14jTxo28D2bsC68EpVsbSaY7SpYM5MIA4>\u001b[39m\n",
            "\n",
            "Saved locally as:\n",
            "\n",
            "• \u001b[34m/content/HJA_gedi.gpkg\u001b[39m\n",
            "\n"
          ]
        }
      ]
    },
    {
      "cell_type": "code",
      "source": [
        "drive_download(file = as_id('1r6CIYLOy01N8B1jc7Hr8AJUkA0jPXp9z'), path =  '/content/huc_8.gpkg', overwrite = TRUE)\n",
        "drive_download(file = as_id('1m86VWKw3nys-oY931eq9dC6xv0cEfs4a'), path =  '/content/huc_10.gpkg', overwrite = TRUE)\n",
        "drive_download(file = as_id('18ayVCWhBkP1Tb_wrWgPJea8vaWEiPgOL'), path =  '/content/huc_12.gpkg', overwrite = TRUE)"
      ],
      "metadata": {
        "id": "FCrU4s8erbks",
        "outputId": "b1a4d9cb-88b5-41aa-b353-b3837dc533dc",
        "colab": {
          "base_uri": "https://localhost:8080/"
        }
      },
      "execution_count": 8,
      "outputs": [
        {
          "output_type": "stream",
          "name": "stderr",
          "text": [
            "File downloaded:\n",
            "\n",
            "• \u001b[36mWBDHU8.gpkg\u001b[39m \u001b[90m<id: 1r6CIYLOy01N8B1jc7Hr8AJUkA0jPXp9z>\u001b[39m\n",
            "\n",
            "Saved locally as:\n",
            "\n",
            "• \u001b[34m/content/huc_8.gpkg\u001b[39m\n",
            "\n",
            "File downloaded:\n",
            "\n",
            "• \u001b[36mWBDHU10.gpkg\u001b[39m \u001b[90m<id: 1m86VWKw3nys-oY931eq9dC6xv0cEfs4a>\u001b[39m\n",
            "\n",
            "Saved locally as:\n",
            "\n",
            "• \u001b[34m/content/huc_10.gpkg\u001b[39m\n",
            "\n",
            "File downloaded:\n",
            "\n",
            "• \u001b[36mWBDHU12.gpkg\u001b[39m \u001b[90m<id: 18ayVCWhBkP1Tb_wrWgPJea8vaWEiPgOL>\u001b[39m\n",
            "\n",
            "Saved locally as:\n",
            "\n",
            "• \u001b[34m/content/huc_12.gpkg\u001b[39m\n",
            "\n"
          ]
        }
      ]
    },
    {
      "cell_type": "code",
      "source": [
        "# https://drive.google.com/file/d/1miOMqCh081yceVUfVVOL5JtxpKUgBO-2/view?usp=drive_link\n",
        "drive_download(file = as_id('1miOMqCh081yceVUfVVOL5JtxpKUgBO-2'), path =  '/content/gedi_vector.gpkg', overwrite = TRUE)"
      ],
      "metadata": {
        "id": "N4HyYrKXpvw0",
        "outputId": "4c1e2267-ccb9-4613-ef1e-d0e3555ab055",
        "colab": {
          "base_uri": "https://localhost:8080/"
        }
      },
      "execution_count": 9,
      "outputs": [
        {
          "output_type": "stream",
          "name": "stderr",
          "text": [
            "File downloaded:\n",
            "\n",
            "• \u001b[36myod_vector.gpkg\u001b[39m \u001b[90m<id: 1miOMqCh081yceVUfVVOL5JtxpKUgBO-2>\u001b[39m\n",
            "\n",
            "Saved locally as:\n",
            "\n",
            "• \u001b[34m/content/gedi_vector.gpkg\u001b[39m\n",
            "\n"
          ]
        }
      ]
    },
    {
      "cell_type": "code",
      "source": [
        "# https://drive.google.com/file/d/1qpVnW4V_qbE1rAR4wAq1yMNRIZniVFsa/view?usp=drive_link\n",
        "drive_download(file = as_id('1qpVnW4V_qbE1rAR4wAq1yMNRIZniVFsa'), path =  '/content/conus_2003.tif', overwrite = TRUE)"
      ],
      "metadata": {
        "id": "4nQRIAg6EU5c",
        "outputId": "a69c18e7-1dee-45c2-b27c-697e92d40ebd",
        "colab": {
          "base_uri": "https://localhost:8080/"
        }
      },
      "execution_count": 10,
      "outputs": [
        {
          "output_type": "stream",
          "name": "stderr",
          "text": [
            "File downloaded:\n",
            "\n",
            "• \u001b[36mconus_forest_biomass_mg_per_ha.img\u001b[39m \u001b[90m<id: 1qpVnW4V_qbE1rAR4wAq1yMNRIZniVFsa>\u001b[39m\n",
            "\n",
            "Saved locally as:\n",
            "\n",
            "• \u001b[34m/content/conus_2003.tif\u001b[39m\n",
            "\n"
          ]
        }
      ]
    },
    {
      "cell_type": "code",
      "source": [
        "# https://drive.google.com/file/d/1X-D5SIaH18skJ5Wshzge1BxlvRZOOWCh/view?usp=drive_link\n",
        "\n",
        "drive_download(file = as_id('1X-D5SIaH18skJ5Wshzge1BxlvRZOOWCh'), path =  '/content/conus_2016.tif', overwrite = TRUE)"
      ],
      "metadata": {
        "id": "fes2c4X1Yi8L",
        "outputId": "649c78d5-6ea3-4105-d798-2a40385bfa69",
        "colab": {
          "base_uri": "https://localhost:8080/"
        }
      },
      "execution_count": 11,
      "outputs": [
        {
          "output_type": "stream",
          "name": "stderr",
          "text": [
            "File downloaded:\n",
            "\n",
            "• \u001b[36mbiomass_k10_2016.tif\u001b[39m \u001b[90m<id: 1X-D5SIaH18skJ5Wshzge1BxlvRZOOWCh>\u001b[39m\n",
            "\n",
            "Saved locally as:\n",
            "\n",
            "• \u001b[34m/content/conus_2016.tif\u001b[39m\n",
            "\n"
          ]
        }
      ]
    },
    {
      "cell_type": "code",
      "source": [
        "# https://drive.google.com/file/d/1HGLy-drZfu5wmWW9xVbCkQjHGdqFbGF4/view?usp=drive_link\n",
        "\n",
        "drive_download(file = as_id('1HGLy-drZfu5wmWW9xVbCkQjHGdqFbGF4'), path =  '/content/hja_2008.tif', overwrite = TRUE)"
      ],
      "metadata": {
        "id": "JzNqFcUeO0-o",
        "outputId": "24ed9783-444c-48a3-9344-fbce9fe8cce0",
        "colab": {
          "base_uri": "https://localhost:8080/"
        }
      },
      "execution_count": 12,
      "outputs": [
        {
          "output_type": "stream",
          "name": "stderr",
          "text": [
            "File downloaded:\n",
            "\n",
            "• \u001b[36mAGLB_2008.tif\u001b[39m \u001b[90m<id: 1HGLy-drZfu5wmWW9xVbCkQjHGdqFbGF4>\u001b[39m\n",
            "\n",
            "Saved locally as:\n",
            "\n",
            "• \u001b[34m/content/hja_2008.tif\u001b[39m\n",
            "\n"
          ]
        }
      ]
    },
    {
      "cell_type": "code",
      "source": [
        "# https://drive.google.com/file/d/1MXa0GC0bWAbMSVpR7Gpc4cOFyCRxpJfI/view?usp=drive_link\n",
        "drive_download(file = as_id('1MXa0GC0bWAbMSVpR7Gpc4cOFyCRxpJfI'), path =  '/content/wnf_history.gpkg', overwrite = TRUE)\n",
        "\n",
        "# https://drive.google.com/file/d/1PFW8YtCJ-Afxb7XTM94j7IcZDQc6r3FS/view?usp=drive_link\n",
        "drive_download(file = as_id('1PFW8YtCJ-Afxb7XTM94j7IcZDQc6r3FS'), path =  '/content/fire_history.gpkg', overwrite = TRUE)\n",
        "\n",
        "# https://drive.google.com/file/d/1igHhc0FY2TBm7DMHNWMoqTbLHv2qvgms/view?usp=drive_link\n",
        "drive_download(file = as_id('1igHhc0FY2TBm7DMHNWMoqTbLHv2qvgms'), path =  '/content/harvest_history.gpkg', overwrite = TRUE)\n",
        "\n",
        "# https://drive.google.com/file/d/1XluoE3kGZ1u5-az0EmimhRpe__qzApM4/view?usp=drive_link\n",
        "drive_download(file = as_id('1XluoE3kGZ1u5-az0EmimhRpe__qzApM4'), path =  '/content/aoi_boundary.geojson', overwrite = TRUE)"
      ],
      "metadata": {
        "id": "weLodNamLqQP",
        "outputId": "55829cb4-7a18-4d78-c070-54f3e324eaf5",
        "colab": {
          "base_uri": "https://localhost:8080/"
        }
      },
      "execution_count": 57,
      "outputs": [
        {
          "output_type": "stream",
          "name": "stderr",
          "text": [
            "Auto-refreshing stale OAuth token.\n",
            "\n",
            "File downloaded:\n",
            "\n",
            "• \u001b[36mclip_wnfveg6.gpkg\u001b[39m \u001b[90m<id: 1MXa0GC0bWAbMSVpR7Gpc4cOFyCRxpJfI>\u001b[39m\n",
            "\n",
            "Saved locally as:\n",
            "\n",
            "• \u001b[34m/content/wnf_history.gpkg\u001b[39m\n",
            "\n",
            "File downloaded:\n",
            "\n",
            "• \u001b[36mFire_History_HJA.gpkg\u001b[39m \u001b[90m<id: 1PFW8YtCJ-Afxb7XTM94j7IcZDQc6r3FS>\u001b[39m\n",
            "\n",
            "Saved locally as:\n",
            "\n",
            "• \u001b[34m/content/fire_history.gpkg\u001b[39m\n",
            "\n",
            "File downloaded:\n",
            "\n",
            "• \u001b[36mHJA_Harvest_Sites.gpkg\u001b[39m \u001b[90m<id: 1igHhc0FY2TBm7DMHNWMoqTbLHv2qvgms>\u001b[39m\n",
            "\n",
            "Saved locally as:\n",
            "\n",
            "• \u001b[34m/content/harvest_history.gpkg\u001b[39m\n",
            "\n",
            "File downloaded:\n",
            "\n",
            "• \u001b[36mhja_boundary.geojson\u001b[39m \u001b[90m<id: 1XluoE3kGZ1u5-az0EmimhRpe__qzApM4>\u001b[39m\n",
            "\n",
            "Saved locally as:\n",
            "\n",
            "• \u001b[34m/content/aoi_boundary.geojson\u001b[39m\n",
            "\n"
          ]
        }
      ]
    },
    {
      "cell_type": "code",
      "source": [
        "while(TRUE){}"
      ],
      "metadata": {
        "id": "WiNdGjYOK0mz"
      },
      "execution_count": 14,
      "outputs": []
    },
    {
      "cell_type": "code",
      "source": [
        "hja_2008_tif <- stack('/content/hja_2008.tif')\n",
        "conus_2003_tif <- stack('/content/conus_2003.tif')\n",
        "conus_2016_tif  <- stack('/content/conus_2016.tif')"
      ],
      "metadata": {
        "id": "HJdYvfpltaAi"
      },
      "execution_count": 15,
      "outputs": []
    },
    {
      "cell_type": "code",
      "source": [
        "landtrendr_tif <- stack('/content/HJA_LandTrendr_84_23.tif')"
      ],
      "metadata": {
        "id": "wOk8T8AEp1Pe"
      },
      "execution_count": 16,
      "outputs": []
    },
    {
      "cell_type": "code",
      "source": [
        "gedi_vec_gpkg <- st_read('/content/gedi_vector.gpkg') %>% st_transform(st_crs('EPSG:4326'))"
      ],
      "metadata": {
        "id": "F7ZEup6Q5TAJ",
        "outputId": "2a20b4ed-de03-44ae-f714-8db170b6618a",
        "colab": {
          "base_uri": "https://localhost:8080/"
        }
      },
      "execution_count": 17,
      "outputs": [
        {
          "output_type": "stream",
          "name": "stdout",
          "text": [
            "Multiple layers are present in data source /content/gedi_vector.gpkg, reading layer `vectorized'.\n",
            "Use `st_layers' to list all layer names and their type in a data source.\n",
            "Set the `layer' argument in `st_read' to read a particular layer.\n"
          ]
        },
        {
          "output_type": "stream",
          "name": "stderr",
          "text": [
            "Warning message in CPL_read_ogr(dsn, layer, query, as.character(options), quiet, :\n",
            "“automatically selected the first layer in a data source containing more than one.”\n"
          ]
        },
        {
          "output_type": "stream",
          "name": "stdout",
          "text": [
            "Reading layer `vectorized' from data source `/content/gedi_vector.gpkg' using driver `GPKG'\n",
            "Simple feature collection with 478987 features and 4 fields\n",
            "Geometry type: POLYGON\n",
            "Dimension:     XY\n",
            "Bounding box:  xmin: -123.6643 ymin: 43.85836 xmax: -121.7595 ymax: 44.90912\n",
            "Geodetic CRS:  WGS 84\n"
          ]
        }
      ]
    },
    {
      "cell_type": "code",
      "source": [
        "huc_8_gpgk <- st_read('/content/huc_8.gpkg') %>% st_transform(st_crs('EPSG:4326'))\n",
        "huc_10_gpgk <- st_read('/content/huc_10.gpkg')  %>% st_transform(st_crs('EPSG:4326'))\n",
        "huc_12_gpgk <- st_read('/content/huc_12.gpkg')  %>% st_transform(st_crs('EPSG:4326'))"
      ],
      "metadata": {
        "colab": {
          "base_uri": "https://localhost:8080/"
        },
        "id": "JWNfPb2OqNfJ",
        "outputId": "4e33bc76-e956-40e9-bed4-8ef123533809"
      },
      "execution_count": 18,
      "outputs": [
        {
          "output_type": "stream",
          "name": "stdout",
          "text": [
            "Reading layer `wbdhu8_central_oregon__wdb_oregon_state_gdb__wbdhu8' from data source `/content/huc_8.gpkg' using driver `GPKG'\n",
            "Simple feature collection with 4 features and 15 fields\n",
            "Geometry type: MULTIPOLYGON\n",
            "Dimension:     XY\n",
            "Bounding box:  xmin: -123.6643 ymin: 43.85856 xmax: -121.7597 ymax: 44.90894\n",
            "Geodetic CRS:  NAD83\n",
            "Reading layer `wdb_oregon_state_gdb__wbdhu10' from data source \n",
            "  `/content/huc_10.gpkg' using driver `GPKG'\n",
            "Simple feature collection with 27 features and 17 fields\n",
            "Geometry type: MULTIPOLYGON\n",
            "Dimension:     XY\n",
            "Bounding box:  xmin: -123.6643 ymin: 43.85856 xmax: -121.7597 ymax: 44.90894\n",
            "Geodetic CRS:  NAD83\n",
            "Reading layer `wdb_oregon_state_gdb__wbdhu12' from data source \n",
            "  `/content/huc_12.gpkg' using driver `GPKG'\n",
            "Simple feature collection with 161 features and 20 fields\n",
            "Geometry type: MULTIPOLYGON\n",
            "Dimension:     XY\n",
            "Bounding box:  xmin: -123.6643 ymin: 43.85856 xmax: -121.7597 ymax: 44.90894\n",
            "Geodetic CRS:  NAD83\n"
          ]
        }
      ]
    },
    {
      "cell_type": "code",
      "source": [
        "# [# Install and load required packages\n",
        "# # install.packages(c(\"sf\", \"DBI\"))\n",
        "# library(sf)\n",
        "# library(DBI)\n",
        "\n",
        "# # Read a spatial dataset (e.g., a shapefile) into R\n",
        "# # dataset <- st_read(\"path_to_your_dataset.shp\")\n",
        "\n",
        "# # Connect to the PostgreSQL database\n",
        "# conn <- RPostgreSQL::dbConnect(\"PostgreSQL\",\n",
        "#                  dbname = \"jifesypi\",\n",
        "#                  host = \"mild-williams-pear.db.elephantsql.com\",\n",
        "#                 #  port = \"your_port\",\n",
        "#                  user = \"jifesypi\",\n",
        "#                  password = \"Qxds23zjkpIIU343-GGHNlxqFdD3Pdlr\")\n",
        "\n",
        "# # # Ensure the connection is PostGIS-enabled\n",
        "# # if (!st_is_postgis(con)) {\n",
        "# #   stop(\"The database is not PostGIS enabled!\")\n",
        "# # }\n",
        "\n",
        "# # Upload the dataset to PostgreSQL\n",
        "# # 'name' parameter determines the name of the table in the database\n",
        "# st_write(gedi_sf, conn, layer = \"hja_gedi\", delete_layer = TRUE)\n",
        "\n",
        "# # Close the database connection\n",
        "# dbDisconnect(conn)\n"
      ],
      "metadata": {
        "id": "QSEKdc8BtBLK"
      },
      "execution_count": 19,
      "outputs": []
    },
    {
      "cell_type": "code",
      "source": [
        "huc_index <- 91\n",
        "plot(huc_12_gpgk[huc_index,]$geom)\n",
        "print(huc_12_gpgk[huc_index,])\n",
        "query_wkt <- st_as_text(huc_12_gpgk[huc_index,]$geom, crs = 4326, EWKT = TRUE)\n",
        "\n",
        "query_sql <- paste0(\"SELECT * FROM hja_gedi WHERE ST_Intersects(geom,'\",query_wkt,\"')\")\n",
        "# print(query_sql)\n",
        "# Connect to the PostgreSQL database\n",
        "conn <- RPostgreSQL::dbConnect(\"PostgreSQL\",\n",
        "                 dbname = \"jifesypi\",\n",
        "                 host = \"mild-williams-pear.db.elephantsql.com\",\n",
        "                #  port = \"your_port\",\n",
        "                 user = \"jifesypi\",\n",
        "                 password = \"Qxds23zjkpIIU343-GGHNlxqFdD3Pdlr\")\n",
        "\n",
        "gedi_sf <- st_read(conn,query=query_sql)\n",
        "\n",
        "dbDisconnect(conn)"
      ],
      "metadata": {
        "colab": {
          "base_uri": "https://localhost:8080/",
          "height": 720
        },
        "id": "MuVS5-4awt6_",
        "outputId": "5e06322f-1704-42d6-a33c-5e85f3f25afd"
      },
      "execution_count": 20,
      "outputs": [
        {
          "output_type": "stream",
          "name": "stdout",
          "text": [
            "Simple feature collection with 1 feature and 20 fields\n",
            "Geometry type: MULTIPOLYGON\n",
            "Dimension:     XY\n",
            "Bounding box:  xmin: -122.2615 ymin: 44.19872 xmax: -122.1017 ymax: 44.28133\n",
            "Geodetic CRS:  WGS 84\n",
            "   OBJECTID                                  TNMID MetaSourceID SourceDataDesc\n",
            "91     3160 {1472BA10-5C01-437A-8AAF-A4611746157E}         <NA>           <NA>\n",
            "   SourceOriginator SourceFeatureID            LoadDate GNIS_ID AreaAcres\n",
            "91             <NA>            <NA> 2013-01-18 07:09:30      NA  15735.63\n",
            "   AreaSqKm States        HUC12          Name HUType HUMod        ToHUC\n",
            "91    63.68     OR 170900040401 Lookout Creek      S    NM 170900040403\n",
            "   NonContributingAreaAcres NonContributingAreaSqKm Shape_Length  Shape_Area\n",
            "91                        0                       0    0.4294817 0.007173278\n",
            "                             geom\n",
            "91 MULTIPOLYGON (((-122.1097 4...\n"
          ]
        },
        {
          "output_type": "display_data",
          "data": {
            "text/html": [
              "TRUE"
            ],
            "text/markdown": "TRUE",
            "text/latex": "TRUE",
            "text/plain": [
              "[1] TRUE"
            ]
          },
          "metadata": {}
        },
        {
          "output_type": "display_data",
          "data": {
            "text/plain": [
              "plot without title"
            ],
            "image/png": "[encoded data removed]"
          },
          "metadata": {
            "image/png": {
              "width": 420,
              "height": 420
            }
          }
        }
      ]
    },
    {
      "cell_type": "code",
      "source": [
        "gedi_dt <- gedi_sf %>% data.table\n",
        "gedi_dt %>% nrow\n",
        "gedi_dt[l4_quality_flag ==1,] %>% nrow"
      ],
      "metadata": {
        "colab": {
          "base_uri": "https://localhost:8080/",
          "height": 52
        },
        "id": "yY2m88HCvvGG",
        "outputId": "b141d380-820f-4571-b693-36f222653a7e"
      },
      "execution_count": 21,
      "outputs": [
        {
          "output_type": "display_data",
          "data": {
            "text/html": [
              "36615"
            ],
            "text/markdown": "36615",
            "text/latex": "36615",
            "text/plain": [
              "[1] 36615"
            ]
          },
          "metadata": {}
        },
        {
          "output_type": "display_data",
          "data": {
            "text/html": [
              "13373"
            ],
            "text/markdown": "13373",
            "text/latex": "13373",
            "text/plain": [
              "[1] 13373"
            ]
          },
          "metadata": {}
        }
      ]
    },
    {
      "cell_type": "code",
      "source": [
        "# landtrendr_tif[landtrendr_tif < 0] <- NA"
      ],
      "metadata": {
        "id": "qDWjOzfTh3bY"
      },
      "execution_count": 22,
      "outputs": []
    },
    {
      "cell_type": "code",
      "source": [
        "gedi_dt[,geom_buffer := geom %>% st_transform('EPSG:6822') %>% st_buffer(12.5)]\n",
        "#consider 12.5"
      ],
      "metadata": {
        "id": "TSV_h0JN0HRR"
      },
      "execution_count": 23,
      "outputs": []
    },
    {
      "cell_type": "code",
      "source": [
        "paste(c('min','max','mean','median'),'2008',sep='_')"
      ],
      "metadata": {
        "id": "HNfpxJa91jeR",
        "outputId": "c59ac2eb-01eb-4165-e8ce-310bcc2e6e1b",
        "colab": {
          "base_uri": "https://localhost:8080/",
          "height": 34
        }
      },
      "execution_count": 24,
      "outputs": [
        {
          "output_type": "display_data",
          "data": {
            "text/html": [
              "<style>\n",
              ".list-inline {list-style: none; margin:0; padding: 0}\n",
              ".list-inline>li {display: inline-block}\n",
              ".list-inline>li:not(:last-child)::after {content: \"\\00b7\"; padding: 0 .5ex}\n",
              "</style>\n",
              "<ol class=list-inline><li>'min_2008'</li><li>'max_2008'</li><li>'mean_2008'</li><li>'median_2008'</li></ol>\n"
            ],
            "text/markdown": "1. 'min_2008'\n2. 'max_2008'\n3. 'mean_2008'\n4. 'median_2008'\n\n\n",
            "text/latex": "\\begin{enumerate*}\n\\item 'min\\_2008'\n\\item 'max\\_2008'\n\\item 'mean\\_2008'\n\\item 'median\\_2008'\n\\end{enumerate*}\n",
            "text/plain": [
              "[1] \"min_2008\"    \"max_2008\"    \"mean_2008\"   \"median_2008\""
            ]
          },
          "metadata": {}
        }
      ]
    },
    {
      "cell_type": "code",
      "source": [
        "landtrendr_rast <- terra::rast(landtrendr_tif)\n",
        "\n",
        "extract_dt <-\n",
        "\n",
        "gedi_dt[,geom_buffer] %>% st_as_sf %>%\n",
        "exact_extract(landtrendr_rast,.,force_df=T,c('min','max','mean','median'))\n",
        "\n"
      ],
      "metadata": {
        "colab": {
          "base_uri": "https://localhost:8080/"
        },
        "id": "UDhKDve71phw",
        "outputId": "585451a6-efab-4cfe-f359-2a7c3b93f342"
      },
      "execution_count": 25,
      "outputs": [
        {
          "output_type": "stream",
          "name": "stderr",
          "text": [
            "Warning message in .local(x, y, ...):\n",
            "“Polygons transformed to raster CRS (EPSG:NA)”\n"
          ]
        },
        {
          "output_type": "stream",
          "name": "stdout",
          "text": [
            "  |======================================================================| 100%\n"
          ]
        }
      ]
    },
    {
      "cell_type": "code",
      "source": [
        "summary_dt <- data.table(gedi_dt,extract_dt[,names(extract_dt) %>% strsplit('[.]') %>% lapply(function(x){x[[1]]}) %>% unlist %>% order])"
      ],
      "metadata": {
        "id": "WVn5AfpeaWhT"
      },
      "execution_count": 26,
      "outputs": []
    },
    {
      "cell_type": "code",
      "source": [
        "summary_dt$agbd[summary_dt$agbd<0] <- NA"
      ],
      "metadata": {
        "id": "qM56qgrpvqVf"
      },
      "execution_count": 27,
      "outputs": []
    },
    {
      "cell_type": "code",
      "source": [
        "hja_2008_rast <- terra::rast(hja_2008_tif)\n",
        "\n",
        "extract_dt <-\n",
        "\n",
        "gedi_dt[,geom_buffer] %>% st_as_sf %>%\n",
        "exact_extract(hja_2008_rast,.,force_df=T,c('min','max','mean','median'))\n",
        "names(extract_dt) <- paste(c('min','max','mean','median'),'2008',sep='_')\n",
        "summary_dt <- data.table(summary_dt,extract_dt[,names(extract_dt) %>% strsplit('[.]') %>% lapply(function(x){x[[1]]}) %>% unlist %>% order])"
      ],
      "metadata": {
        "id": "aVKInNQ8tw8O",
        "outputId": "3e106575-f17c-478e-bb51-390b3bb6c2fc",
        "colab": {
          "base_uri": "https://localhost:8080/"
        }
      },
      "execution_count": 28,
      "outputs": [
        {
          "output_type": "stream",
          "name": "stderr",
          "text": [
            "Warning message in .local(x, y, ...):\n",
            "“Polygons transformed to raster CRS (EPSG:NA)”\n"
          ]
        },
        {
          "output_type": "stream",
          "name": "stdout",
          "text": [
            "  |======================================================================| 100%\n"
          ]
        }
      ]
    },
    {
      "cell_type": "code",
      "source": [
        "conus_2003_rast <- terra::rast(conus_2003_tif)\n",
        "\n",
        "extract_dt <-\n",
        "\n",
        "gedi_dt[,geom_buffer] %>% st_as_sf %>%\n",
        "exact_extract(conus_2003_rast,.,force_df=T,c('min','max','mean','median'))\n",
        "names(extract_dt) <- paste(c('min','max','mean','median'),\"2003\",sep='_')\n",
        "summary_dt <- data.table(summary_dt,extract_dt[,names(extract_dt) %>% strsplit('[.]') %>% lapply(function(x){x[[1]]}) %>% unlist %>% order])"
      ],
      "metadata": {
        "id": "IMk3U4LAuK47",
        "outputId": "fa81cb2d-5c56-405a-fdcc-10eeba642ec1",
        "colab": {
          "base_uri": "https://localhost:8080/"
        }
      },
      "execution_count": 29,
      "outputs": [
        {
          "output_type": "stream",
          "name": "stderr",
          "text": [
            "Warning message in .local(x, y, ...):\n",
            "“Polygons transformed to raster CRS (EPSG:NA)”\n"
          ]
        },
        {
          "output_type": "stream",
          "name": "stdout",
          "text": [
            "  |======================================================================| 100%\n"
          ]
        }
      ]
    },
    {
      "cell_type": "code",
      "source": [
        "conus_2016_rast <- terra::rast(conus_2016_tif)\n",
        "\n",
        "extract_dt <-\n",
        "\n",
        "gedi_dt[,geom_buffer] %>% st_as_sf %>%\n",
        "exact_extract(conus_2016_rast,.,force_df=T,c('min','max','mean','median'))\n",
        "names(extract_dt) <- paste(c('min','max','mean','median'),\"2016\",sep='_')\n",
        "summary_dt <- data.table(summary_dt,extract_dt[,names(extract_dt) %>% strsplit('[.]') %>% lapply(function(x){x[[1]]}) %>% unlist %>% order])"
      ],
      "metadata": {
        "id": "TGw6QeeW2O5D",
        "outputId": "e293e7e0-f2b8-4882-f87b-bbfce3c09162",
        "colab": {
          "base_uri": "https://localhost:8080/"
        }
      },
      "execution_count": 30,
      "outputs": [
        {
          "output_type": "stream",
          "name": "stderr",
          "text": [
            "Warning message in .local(x, y, ...):\n",
            "“Polygons transformed to raster CRS (EPSG:NA)”\n"
          ]
        },
        {
          "output_type": "stream",
          "name": "stdout",
          "text": [
            "  |======================================================================| 100%\n"
          ]
        }
      ]
    },
    {
      "cell_type": "code",
      "source": [
        "delta_time_to_timestamp <- function(delta_time) {\n",
        "  # Define the reference date\n",
        "  reference_date <- as.POSIXct(\"2018-01-01 00:00:00\", tz = \"UTC\")\n",
        "\n",
        "  # Add the delta_time (in seconds) to the reference date\n",
        "  timestamp <- reference_date + delta_time\n",
        "\n",
        "  return(timestamp)\n",
        "}"
      ],
      "metadata": {
        "id": "62u1dwPjE95t"
      },
      "execution_count": 31,
      "outputs": []
    },
    {
      "cell_type": "code",
      "source": [
        "summary_dt %>% names"
      ],
      "metadata": {
        "id": "0CsJdLx89c7Q",
        "outputId": "1095765c-d7de-4081-b4be-68f628f83683",
        "colab": {
          "base_uri": "https://localhost:8080/",
          "height": 104
        }
      },
      "execution_count": 32,
      "outputs": [
        {
          "output_type": "display_data",
          "data": {
            "text/html": [
              "<style>\n",
              ".list-inline {list-style: none; margin:0; padding: 0}\n",
              ".list-inline>li {display: inline-block}\n",
              ".list-inline>li:not(:last-child)::after {content: \"\\00b7\"; padding: 0 .5ex}\n",
              "</style>\n",
              "<ol class=list-inline><li>'agbd'</li><li>'lat_lowestmode'</li><li>'lon_lowestmode'</li><li>'agbd_pi_lower'</li><li>'agbd_pi_upper'</li><li>'agbd_se'</li><li>'agbd_t'</li><li>'agbd_t_se'</li><li>'algorithm_run_flag'</li><li>'channel'</li><li>'degrade_flag'</li><li>'delta_time'</li><li>'elev_lowestmode'</li><li>'l2_quality_flag'</li><li>'l4_quality_flag'</li><li>'geom'</li><li>'geom_buffer'</li><li>'max.yod'</li><li>'max.mag'</li><li>'max.dur'</li><li>'max.preval'</li><li>'max.rate'</li><li>'max.dsnr'</li><li>'mean.yod'</li><li>'mean.mag'</li><li>'mean.dur'</li><li>'mean.preval'</li><li>'mean.rate'</li><li>'mean.dsnr'</li><li>'median.yod'</li><li>'median.mag'</li><li>'median.dur'</li><li>'median.preval'</li><li>'median.rate'</li><li>'median.dsnr'</li><li>'min.yod'</li><li>'min.mag'</li><li>'min.dur'</li><li>'min.preval'</li><li>'min.rate'</li><li>'min.dsnr'</li><li>'max_2008'</li><li>'mean_2008'</li><li>'median_2008'</li><li>'min_2008'</li><li>'max_2003'</li><li>'mean_2003'</li><li>'median_2003'</li><li>'min_2003'</li><li>'max_2016'</li><li>'mean_2016'</li><li>'median_2016'</li><li>'min_2016'</li></ol>\n"
            ],
            "text/markdown": "1. 'agbd'\n2. 'lat_lowestmode'\n3. 'lon_lowestmode'\n4. 'agbd_pi_lower'\n5. 'agbd_pi_upper'\n6. 'agbd_se'\n7. 'agbd_t'\n8. 'agbd_t_se'\n9. 'algorithm_run_flag'\n10. 'channel'\n11. 'degrade_flag'\n12. 'delta_time'\n13. 'elev_lowestmode'\n14. 'l2_quality_flag'\n15. 'l4_quality_flag'\n16. 'geom'\n17. 'geom_buffer'\n18. 'max.yod'\n19. 'max.mag'\n20. 'max.dur'\n21. 'max.preval'\n22. 'max.rate'\n23. 'max.dsnr'\n24. 'mean.yod'\n25. 'mean.mag'\n26. 'mean.dur'\n27. 'mean.preval'\n28. 'mean.rate'\n29. 'mean.dsnr'\n30. 'median.yod'\n31. 'median.mag'\n32. 'median.dur'\n33. 'median.preval'\n34. 'median.rate'\n35. 'median.dsnr'\n36. 'min.yod'\n37. 'min.mag'\n38. 'min.dur'\n39. 'min.preval'\n40. 'min.rate'\n41. 'min.dsnr'\n42. 'max_2008'\n43. 'mean_2008'\n44. 'median_2008'\n45. 'min_2008'\n46. 'max_2003'\n47. 'mean_2003'\n48. 'median_2003'\n49. 'min_2003'\n50. 'max_2016'\n51. 'mean_2016'\n52. 'median_2016'\n53. 'min_2016'\n\n\n",
            "text/latex": "\\begin{enumerate*}\n\\item 'agbd'\n\\item 'lat\\_lowestmode'\n\\item 'lon\\_lowestmode'\n\\item 'agbd\\_pi\\_lower'\n\\item 'agbd\\_pi\\_upper'\n\\item 'agbd\\_se'\n\\item 'agbd\\_t'\n\\item 'agbd\\_t\\_se'\n\\item 'algorithm\\_run\\_flag'\n\\item 'channel'\n\\item 'degrade\\_flag'\n\\item 'delta\\_time'\n\\item 'elev\\_lowestmode'\n\\item 'l2\\_quality\\_flag'\n\\item 'l4\\_quality\\_flag'\n\\item 'geom'\n\\item 'geom\\_buffer'\n\\item 'max.yod'\n\\item 'max.mag'\n\\item 'max.dur'\n\\item 'max.preval'\n\\item 'max.rate'\n\\item 'max.dsnr'\n\\item 'mean.yod'\n\\item 'mean.mag'\n\\item 'mean.dur'\n\\item 'mean.preval'\n\\item 'mean.rate'\n\\item 'mean.dsnr'\n\\item 'median.yod'\n\\item 'median.mag'\n\\item 'median.dur'\n\\item 'median.preval'\n\\item 'median.rate'\n\\item 'median.dsnr'\n\\item 'min.yod'\n\\item 'min.mag'\n\\item 'min.dur'\n\\item 'min.preval'\n\\item 'min.rate'\n\\item 'min.dsnr'\n\\item 'max\\_2008'\n\\item 'mean\\_2008'\n\\item 'median\\_2008'\n\\item 'min\\_2008'\n\\item 'max\\_2003'\n\\item 'mean\\_2003'\n\\item 'median\\_2003'\n\\item 'min\\_2003'\n\\item 'max\\_2016'\n\\item 'mean\\_2016'\n\\item 'median\\_2016'\n\\item 'min\\_2016'\n\\end{enumerate*}\n",
            "text/plain": [
              " [1] \"agbd\"               \"lat_lowestmode\"     \"lon_lowestmode\"    \n",
              " [4] \"agbd_pi_lower\"      \"agbd_pi_upper\"      \"agbd_se\"           \n",
              " [7] \"agbd_t\"             \"agbd_t_se\"          \"algorithm_run_flag\"\n",
              "[10] \"channel\"            \"degrade_flag\"       \"delta_time\"        \n",
              "[13] \"elev_lowestmode\"    \"l2_quality_flag\"    \"l4_quality_flag\"   \n",
              "[16] \"geom\"               \"geom_buffer\"        \"max.yod\"           \n",
              "[19] \"max.mag\"            \"max.dur\"            \"max.preval\"        \n",
              "[22] \"max.rate\"           \"max.dsnr\"           \"mean.yod\"          \n",
              "[25] \"mean.mag\"           \"mean.dur\"           \"mean.preval\"       \n",
              "[28] \"mean.rate\"          \"mean.dsnr\"          \"median.yod\"        \n",
              "[31] \"median.mag\"         \"median.dur\"         \"median.preval\"     \n",
              "[34] \"median.rate\"        \"median.dsnr\"        \"min.yod\"           \n",
              "[37] \"min.mag\"            \"min.dur\"            \"min.preval\"        \n",
              "[40] \"min.rate\"           \"min.dsnr\"           \"max_2008\"          \n",
              "[43] \"mean_2008\"          \"median_2008\"        \"min_2008\"          \n",
              "[46] \"max_2003\"           \"mean_2003\"          \"median_2003\"       \n",
              "[49] \"min_2003\"           \"max_2016\"           \"mean_2016\"         \n",
              "[52] \"median_2016\"        \"min_2016\"          "
            ]
          },
          "metadata": {}
        }
      ]
    },
    {
      "cell_type": "code",
      "source": [
        "summary_dt$year <- delta_time_to_timestamp(summary_dt$delta_time) %>% format(\"%Y\")"
      ],
      "metadata": {
        "id": "S7alGTwPCIwz"
      },
      "execution_count": 33,
      "outputs": []
    },
    {
      "cell_type": "code",
      "source": [
        "wnf_dt <- st_read('/content/wnf_history.gpkg') %>% data.table\n",
        "harvest_dt <- st_read('/content/harvest_history.gpkg') %>% data.table\n",
        "fire_dt <- st_read('/content/fire_history.gpkg') %>% data.table"
      ],
      "metadata": {
        "id": "WT9hhLca90i6",
        "outputId": "77cc5099-23b4-452d-c9d9-783d94061460",
        "colab": {
          "base_uri": "https://localhost:8080/"
        }
      },
      "execution_count": 62,
      "outputs": [
        {
          "output_type": "stream",
          "name": "stdout",
          "text": [
            "Reading layer `clip_wnfveg6' from data source `/content/wnf_history.gpkg' using driver `GPKG'\n",
            "Simple feature collection with 7769 features and 24 fields\n",
            "Geometry type: MULTIPOLYGON\n",
            "Dimension:     XY\n",
            "Bounding box:  xmin: 549437.5 ymin: 4885711 xmax: 580195.5 ymax: 4928056\n",
            "Projected CRS: NAD83 / UTM zone 10N\n",
            "Reading layer `harvest_sites' from data source `/content/harvest_history.gpkg' using driver `GPKG'\n",
            "Simple feature collection with 161 features and 32 fields\n",
            "Geometry type: MULTIPOLYGON\n",
            "Dimension:     XY\n",
            "Bounding box:  xmin: 559006.2 ymin: 4894211 xmax: 571764.6 ymax: 4903300\n",
            "Projected CRS: NAD83 / UTM zone 10N\n",
            "Reading layer `firehistory_region' from data source `/content/fire_history.gpkg' using driver `GPKG'\n",
            "Simple feature collection with 258 features and 6 fields\n",
            "Geometry type: MULTIPOLYGON\n",
            "Dimension:     XY\n",
            "Bounding box:  xmin: 558647.1 ymin: 4893922 xmax: 575297.1 ymax: 4906316\n",
            "Projected CRS: NAD83 / UTM zone 10N\n"
          ]
        }
      ]
    },
    {
      "cell_type": "code",
      "source": [
        "wnf_dt %>% names"
      ],
      "metadata": {
        "id": "BQxme51WNi8C",
        "colab": {
          "base_uri": "https://localhost:8080/",
          "height": 69
        },
        "outputId": "e26a8f9f-aad8-4774-a06c-9a4915e4047f"
      },
      "execution_count": 66,
      "outputs": [
        {
          "output_type": "display_data",
          "data": {
            "text/html": [
              "<style>\n",
              ".list-inline {list-style: none; margin:0; padding: 0}\n",
              ".list-inline>li {display: inline-block}\n",
              ".list-inline>li:not(:last-child)::after {content: \"\\00b7\"; padding: 0 .5ex}\n",
              "</style>\n",
              "<ol class=list-inline><li>'AREA'</li><li>'PERIMETER'</li><li>'VEG6_'</li><li>'VEG6_ID'</li><li>'STAND'</li><li>'DISTRICT'</li><li>'VEG_NONVEG'</li><li>'YR_ORIGIN'</li><li>'SIZE_CLASS'</li><li>'SPECIES1'</li><li>'SPECIES2'</li><li>'NUM_LAYERS'</li><li>'OVRSTRY_CT'</li><li>'OVRSTRY_YR'</li><li>'PARTIAL_CT'</li><li>'PARTIAL_YR'</li><li>'COM_THN_YR'</li><li>'SPECT_TYPE'</li><li>'TIMBER_TYP'</li><li>'COND_CLASS'</li><li>'HAB_FEATUR'</li><li>'CVR_PCT_TR'</li><li>'PLANT_ASSC'</li><li>'ECOCLASS'</li><li>'geom'</li></ol>\n"
            ],
            "text/markdown": "1. 'AREA'\n2. 'PERIMETER'\n3. 'VEG6_'\n4. 'VEG6_ID'\n5. 'STAND'\n6. 'DISTRICT'\n7. 'VEG_NONVEG'\n8. 'YR_ORIGIN'\n9. 'SIZE_CLASS'\n10. 'SPECIES1'\n11. 'SPECIES2'\n12. 'NUM_LAYERS'\n13. 'OVRSTRY_CT'\n14. 'OVRSTRY_YR'\n15. 'PARTIAL_CT'\n16. 'PARTIAL_YR'\n17. 'COM_THN_YR'\n18. 'SPECT_TYPE'\n19. 'TIMBER_TYP'\n20. 'COND_CLASS'\n21. 'HAB_FEATUR'\n22. 'CVR_PCT_TR'\n23. 'PLANT_ASSC'\n24. 'ECOCLASS'\n25. 'geom'\n\n\n",
            "text/latex": "\\begin{enumerate*}\n\\item 'AREA'\n\\item 'PERIMETER'\n\\item 'VEG6\\_'\n\\item 'VEG6\\_ID'\n\\item 'STAND'\n\\item 'DISTRICT'\n\\item 'VEG\\_NONVEG'\n\\item 'YR\\_ORIGIN'\n\\item 'SIZE\\_CLASS'\n\\item 'SPECIES1'\n\\item 'SPECIES2'\n\\item 'NUM\\_LAYERS'\n\\item 'OVRSTRY\\_CT'\n\\item 'OVRSTRY\\_YR'\n\\item 'PARTIAL\\_CT'\n\\item 'PARTIAL\\_YR'\n\\item 'COM\\_THN\\_YR'\n\\item 'SPECT\\_TYPE'\n\\item 'TIMBER\\_TYP'\n\\item 'COND\\_CLASS'\n\\item 'HAB\\_FEATUR'\n\\item 'CVR\\_PCT\\_TR'\n\\item 'PLANT\\_ASSC'\n\\item 'ECOCLASS'\n\\item 'geom'\n\\end{enumerate*}\n",
            "text/plain": [
              " [1] \"AREA\"       \"PERIMETER\"  \"VEG6_\"      \"VEG6_ID\"    \"STAND\"     \n",
              " [6] \"DISTRICT\"   \"VEG_NONVEG\" \"YR_ORIGIN\"  \"SIZE_CLASS\" \"SPECIES1\"  \n",
              "[11] \"SPECIES2\"   \"NUM_LAYERS\" \"OVRSTRY_CT\" \"OVRSTRY_YR\" \"PARTIAL_CT\"\n",
              "[16] \"PARTIAL_YR\" \"COM_THN_YR\" \"SPECT_TYPE\" \"TIMBER_TYP\" \"COND_CLASS\"\n",
              "[21] \"HAB_FEATUR\" \"CVR_PCT_TR\" \"PLANT_ASSC\" \"ECOCLASS\"   \"geom\"      "
            ]
          },
          "metadata": {}
        }
      ]
    },
    {
      "cell_type": "code",
      "source": [
        "summary_dt$wnf_year <-  wnf_dt$YR_ORIGIN[st_intersects(summary_dt$geom,wnf_dt$geom %>% st_transform(st_crs(summary_dt$geom)) %>%st_make_valid) %>% lapply(function(x){x[1]}) %>% unlist]\n",
        "\n",
        "summary_dt$wnf_stand <-  wnf_dt$STAND[st_intersects(summary_dt$geom,wnf_dt$geom %>% st_transform(st_crs(summary_dt$geom)) %>%st_make_valid) %>% lapply(function(x){x[1]}) %>% unlist]\n",
        "\n",
        "summary_dt$harvest_stand <-  harvest_dt$STAND[st_intersects(summary_dt$geom,harvest_dt$geom %>% st_transform(st_crs(summary_dt$geom))) %>% lapply(function(x){x[1]}) %>% unlist]\n",
        "\n",
        "summary_dt$harvest_year <-  harvest_dt$YR_ORIGIN[st_intersects(summary_dt$geom,harvest_dt$geom %>% st_transform(st_crs(summary_dt$geom))) %>% lapply(function(x){x[1]}) %>% unlist]\n",
        "\n",
        "summary_dt$stand <-  harvest_dt$STAND[st_intersects(summary_dt$geom,harvest_dt$geom %>% st_transform(st_crs(summary_dt$geom))) %>% lapply(function(x){x[1]}) %>% unlist]\n",
        "\n",
        "\n",
        "summary_dt$fire_year <- st_intersects(summary_dt$geom,fire_dt$geom %>% st_transform(st_crs(summary_dt$geom))) %>% lapply(function(x){max(fire_dt$EPISODE[x])}) %>% unlist%>% as.numeric\n",
        "\n",
        "summary_dt$fire_mean <- st_intersects(summary_dt$geom,fire_dt$geom %>% st_transform(st_crs(summary_dt$geom))) %>% lapply(function(x){mean(fire_dt$EPISODE[x][fire_dt$EPISODE[x]>1800])}) %>% unlist%>% as.numeric"
      ],
      "metadata": {
        "id": "0_vWr8HpMcMK",
        "outputId": "5f4c8da1-eef4-4da2-97fd-4e2557f40c30",
        "colab": {
          "base_uri": "https://localhost:8080/"
        }
      },
      "execution_count": 67,
      "outputs": [
        {
          "output_type": "stream",
          "name": "stderr",
          "text": [
            "Warning message in max(fire_dt$EPISODE[x]):\n",
            "“no non-missing arguments to max; returning -Inf”\n",
            "Warning message in max(fire_dt$EPISODE[x]):\n",
            "“no non-missing arguments to max; returning -Inf”\n",
            "Warning message in max(fire_dt$EPISODE[x]):\n",
            "“no non-missing arguments to max; returning -Inf”\n",
            "Warning message in max(fire_dt$EPISODE[x]):\n",
            "“no non-missing arguments to max; returning -Inf”\n",
            "Warning message in max(fire_dt$EPISODE[x]):\n",
            "“no non-missing arguments to max; returning -Inf”\n",
            "Warning message in max(fire_dt$EPISODE[x]):\n",
            "“no non-missing arguments to max; returning -Inf”\n",
            "Warning message in max(fire_dt$EPISODE[x]):\n",
            "“no non-missing arguments to max; returning -Inf”\n",
            "Warning message in max(fire_dt$EPISODE[x]):\n",
            "“no non-missing arguments to max; returning -Inf”\n",
            "Warning message in max(fire_dt$EPISODE[x]):\n",
            "“no non-missing arguments to max; returning -Inf”\n",
            "Warning message in max(fire_dt$EPISODE[x]):\n",
            "“no non-missing arguments to max; returning -Inf”\n",
            "Warning message in max(fire_dt$EPISODE[x]):\n",
            "“no non-missing arguments to max; returning -Inf”\n",
            "Warning message in max(fire_dt$EPISODE[x]):\n",
            "“no non-missing arguments to max; returning -Inf”\n",
            "Warning message in max(fire_dt$EPISODE[x]):\n",
            "“no non-missing arguments to max; returning -Inf”\n",
            "Warning message in max(fire_dt$EPISODE[x]):\n",
            "“no non-missing arguments to max; returning -Inf”\n",
            "Warning message in max(fire_dt$EPISODE[x]):\n",
            "“no non-missing arguments to max; returning -Inf”\n",
            "Warning message in max(fire_dt$EPISODE[x]):\n",
            "“no non-missing arguments to max; returning -Inf”\n",
            "Warning message in max(fire_dt$EPISODE[x]):\n",
            "“no non-missing arguments to max; returning -Inf”\n",
            "Warning message in max(fire_dt$EPISODE[x]):\n",
            "“no non-missing arguments to max; returning -Inf”\n",
            "Warning message in max(fire_dt$EPISODE[x]):\n",
            "“no non-missing arguments to max; returning -Inf”\n",
            "Warning message in max(fire_dt$EPISODE[x]):\n",
            "“no non-missing arguments to max; returning -Inf”\n",
            "Warning message in max(fire_dt$EPISODE[x]):\n",
            "“no non-missing arguments to max; returning -Inf”\n",
            "Warning message in max(fire_dt$EPISODE[x]):\n",
            "“no non-missing arguments to max; returning -Inf”\n",
            "Warning message in max(fire_dt$EPISODE[x]):\n",
            "“no non-missing arguments to max; returning -Inf”\n",
            "Warning message in max(fire_dt$EPISODE[x]):\n",
            "“no non-missing arguments to max; returning -Inf”\n",
            "Warning message in max(fire_dt$EPISODE[x]):\n",
            "“no non-missing arguments to max; returning -Inf”\n",
            "Warning message in max(fire_dt$EPISODE[x]):\n",
            "“no non-missing arguments to max; returning -Inf”\n",
            "Warning message in max(fire_dt$EPISODE[x]):\n",
            "“no non-missing arguments to max; returning -Inf”\n",
            "Warning message in max(fire_dt$EPISODE[x]):\n",
            "“no non-missing arguments to max; returning -Inf”\n",
            "Warning message in max(fire_dt$EPISODE[x]):\n",
            "“no non-missing arguments to max; returning -Inf”\n",
            "Warning message in max(fire_dt$EPISODE[x]):\n",
            "“no non-missing arguments to max; returning -Inf”\n",
            "Warning message in max(fire_dt$EPISODE[x]):\n",
            "“no non-missing arguments to max; returning -Inf”\n",
            "Warning message in max(fire_dt$EPISODE[x]):\n",
            "“no non-missing arguments to max; returning -Inf”\n",
            "Warning message in max(fire_dt$EPISODE[x]):\n",
            "“no non-missing arguments to max; returning -Inf”\n",
            "Warning message in max(fire_dt$EPISODE[x]):\n",
            "“no non-missing arguments to max; returning -Inf”\n",
            "Warning message in max(fire_dt$EPISODE[x]):\n",
            "“no non-missing arguments to max; returning -Inf”\n",
            "Warning message in max(fire_dt$EPISODE[x]):\n",
            "“no non-missing arguments to max; returning -Inf”\n",
            "Warning message in max(fire_dt$EPISODE[x]):\n",
            "“no non-missing arguments to max; returning -Inf”\n",
            "Warning message in max(fire_dt$EPISODE[x]):\n",
            "“no non-missing arguments to max; returning -Inf”\n",
            "Warning message in max(fire_dt$EPISODE[x]):\n",
            "“no non-missing arguments to max; returning -Inf”\n",
            "Warning message in max(fire_dt$EPISODE[x]):\n",
            "“no non-missing arguments to max; returning -Inf”\n",
            "Warning message in max(fire_dt$EPISODE[x]):\n",
            "“no non-missing arguments to max; returning -Inf”\n",
            "Warning message in max(fire_dt$EPISODE[x]):\n",
            "“no non-missing arguments to max; returning -Inf”\n",
            "Warning message in max(fire_dt$EPISODE[x]):\n",
            "“no non-missing arguments to max; returning -Inf”\n",
            "Warning message in max(fire_dt$EPISODE[x]):\n",
            "“no non-missing arguments to max; returning -Inf”\n",
            "Warning message in max(fire_dt$EPISODE[x]):\n",
            "“no non-missing arguments to max; returning -Inf”\n",
            "Warning message in max(fire_dt$EPISODE[x]):\n",
            "“no non-missing arguments to max; returning -Inf”\n",
            "Warning message in max(fire_dt$EPISODE[x]):\n",
            "“no non-missing arguments to max; returning -Inf”\n",
            "Warning message in max(fire_dt$EPISODE[x]):\n",
            "“no non-missing arguments to max; returning -Inf”\n",
            "Warning message in max(fire_dt$EPISODE[x]):\n",
            "“no non-missing arguments to max; returning -Inf”\n",
            "Warning message in max(fire_dt$EPISODE[x]):\n",
            "“no non-missing arguments to max; returning -Inf”\n",
            "Warning message in max(fire_dt$EPISODE[x]):\n",
            "“no non-missing arguments to max; returning -Inf”\n",
            "Warning message in max(fire_dt$EPISODE[x]):\n",
            "“no non-missing arguments to max; returning -Inf”\n",
            "Warning message in max(fire_dt$EPISODE[x]):\n",
            "“no non-missing arguments to max; returning -Inf”\n",
            "Warning message in max(fire_dt$EPISODE[x]):\n",
            "“no non-missing arguments to max; returning -Inf”\n",
            "Warning message in max(fire_dt$EPISODE[x]):\n",
            "“no non-missing arguments to max; returning -Inf”\n",
            "Warning message in max(fire_dt$EPISODE[x]):\n",
            "“no non-missing arguments to max; returning -Inf”\n",
            "Warning message in max(fire_dt$EPISODE[x]):\n",
            "“no non-missing arguments to max; returning -Inf”\n"
          ]
        }
      ]
    },
    {
      "cell_type": "code",
      "source": [
        "summary_dt %>%head\n"
      ],
      "metadata": {
        "id": "OWx0qtVCQLaR",
        "outputId": "601a02b4-b566-4748-a039-47754a7426bd",
        "colab": {
          "base_uri": "https://localhost:8080/",
          "height": 306
        }
      },
      "execution_count": 55,
      "outputs": [
        {
          "output_type": "display_data",
          "data": {
            "text/html": [
              "<table class=\"dataframe\">\n",
              "<caption>A data.table: 6 × 58</caption>\n",
              "<thead>\n",
              "\t<tr><th scope=col>agbd</th><th scope=col>lat_lowestmode</th><th scope=col>lon_lowestmode</th><th scope=col>agbd_pi_lower</th><th scope=col>agbd_pi_upper</th><th scope=col>agbd_se</th><th scope=col>agbd_t</th><th scope=col>agbd_t_se</th><th scope=col>algorithm_run_flag</th><th scope=col>channel</th><th scope=col>⋯</th><th scope=col>min_2003</th><th scope=col>max_2016</th><th scope=col>mean_2016</th><th scope=col>median_2016</th><th scope=col>min_2016</th><th scope=col>year</th><th scope=col>harvest_year</th><th scope=col>stand</th><th scope=col>fire_year</th><th scope=col>fire_mean</th></tr>\n",
              "\t<tr><th scope=col>&lt;dbl&gt;</th><th scope=col>&lt;dbl&gt;</th><th scope=col>&lt;dbl&gt;</th><th scope=col>&lt;dbl&gt;</th><th scope=col>&lt;dbl&gt;</th><th scope=col>&lt;dbl&gt;</th><th scope=col>&lt;dbl&gt;</th><th scope=col>&lt;dbl&gt;</th><th scope=col>&lt;dbl&gt;</th><th scope=col>&lt;dbl&gt;</th><th scope=col>⋯</th><th scope=col>&lt;dbl&gt;</th><th scope=col>&lt;dbl&gt;</th><th scope=col>&lt;dbl&gt;</th><th scope=col>&lt;dbl&gt;</th><th scope=col>&lt;dbl&gt;</th><th scope=col>&lt;chr&gt;</th><th scope=col>&lt;int&gt;</th><th scope=col>&lt;int&gt;</th><th scope=col>&lt;dbl&gt;</th><th scope=col>&lt;dbl&gt;</th></tr>\n",
              "</thead>\n",
              "<tbody>\n",
              "\t<tr><td> 84.81475</td><td>44.20409</td><td>-122.1508</td><td> 13.85670</td><td>215.9879</td><td>11.11770</td><td> 9.152315</td><td>3.313620</td><td>1</td><td>0</td><td>⋯</td><td>486.4494</td><td>511</td><td>222.57599</td><td>221.2452</td><td>123</td><td>2019</td><td>1965</td><td>1001017</td><td>1893</td><td>1848.333</td></tr>\n",
              "\t<tr><td>358.31192</td><td>44.20733</td><td>-122.1435</td><td>180.72018</td><td>596.0941</td><td>11.11314</td><td>18.811607</td><td>3.312940</td><td>1</td><td>0</td><td>⋯</td><td>520.0750</td><td>396</td><td>368.44241</td><td>368.8161</td><td>313</td><td>2019</td><td>  NA</td><td>     NA</td><td>1893</td><td>1836.250</td></tr>\n",
              "\t<tr><td>299.82697</td><td>44.20761</td><td>-122.1429</td><td>139.90482</td><td>519.9716</td><td>11.11908</td><td>17.208008</td><td>3.313826</td><td>1</td><td>0</td><td>⋯</td><td>520.0750</td><td>124</td><td> 93.43873</td><td>106.0000</td><td> 88</td><td>2019</td><td>  NA</td><td>     NA</td><td>1893</td><td>1836.250</td></tr>\n",
              "\t<tr><td>107.97176</td><td>44.20788</td><td>-122.1423</td><td> 24.09316</td><td>251.9652</td><td>11.09920</td><td>10.326433</td><td>3.310863</td><td>1</td><td>0</td><td>⋯</td><td>524.5583</td><td>403</td><td>323.41666</td><td>231.0090</td><td> 76</td><td>2019</td><td>  NA</td><td>     NA</td><td>1893</td><td>1836.800</td></tr>\n",
              "\t<tr><td>289.10764</td><td>44.20815</td><td>-122.1417</td><td>132.67433</td><td>505.7054</td><td>11.10837</td><td>16.897600</td><td>3.312229</td><td>1</td><td>0</td><td>⋯</td><td>313.8383</td><td>487</td><td>447.69070</td><td>464.8378</td><td>402</td><td>2019</td><td>  NA</td><td>     NA</td><td>1893</td><td>1836.800</td></tr>\n",
              "\t<tr><td>253.74625</td><td>44.20842</td><td>-122.1411</td><td>109.10674</td><td>458.5341</td><td>11.10539</td><td>15.830516</td><td>3.311786</td><td>1</td><td>0</td><td>⋯</td><td>313.8383</td><td>507</td><td>491.73737</td><td>499.0751</td><td>455</td><td>2019</td><td>  NA</td><td>     NA</td><td>1893</td><td>1836.800</td></tr>\n",
              "</tbody>\n",
              "</table>\n"
            ],
            "text/markdown": "\nA data.table: 6 × 58\n\n| agbd &lt;dbl&gt; | lat_lowestmode &lt;dbl&gt; | lon_lowestmode &lt;dbl&gt; | agbd_pi_lower &lt;dbl&gt; | agbd_pi_upper &lt;dbl&gt; | agbd_se &lt;dbl&gt; | agbd_t &lt;dbl&gt; | agbd_t_se &lt;dbl&gt; | algorithm_run_flag &lt;dbl&gt; | channel &lt;dbl&gt; | ⋯ ⋯ | min_2003 &lt;dbl&gt; | max_2016 &lt;dbl&gt; | mean_2016 &lt;dbl&gt; | median_2016 &lt;dbl&gt; | min_2016 &lt;dbl&gt; | year &lt;chr&gt; | harvest_year &lt;int&gt; | stand &lt;int&gt; | fire_year &lt;dbl&gt; | fire_mean &lt;dbl&gt; |\n|---|---|---|---|---|---|---|---|---|---|---|---|---|---|---|---|---|---|---|---|---|\n|  84.81475 | 44.20409 | -122.1508 |  13.85670 | 215.9879 | 11.11770 |  9.152315 | 3.313620 | 1 | 0 | ⋯ | 486.4494 | 511 | 222.57599 | 221.2452 | 123 | 2019 | 1965 | 1001017 | 1893 | 1848.333 |\n| 358.31192 | 44.20733 | -122.1435 | 180.72018 | 596.0941 | 11.11314 | 18.811607 | 3.312940 | 1 | 0 | ⋯ | 520.0750 | 396 | 368.44241 | 368.8161 | 313 | 2019 |   NA |      NA | 1893 | 1836.250 |\n| 299.82697 | 44.20761 | -122.1429 | 139.90482 | 519.9716 | 11.11908 | 17.208008 | 3.313826 | 1 | 0 | ⋯ | 520.0750 | 124 |  93.43873 | 106.0000 |  88 | 2019 |   NA |      NA | 1893 | 1836.250 |\n| 107.97176 | 44.20788 | -122.1423 |  24.09316 | 251.9652 | 11.09920 | 10.326433 | 3.310863 | 1 | 0 | ⋯ | 524.5583 | 403 | 323.41666 | 231.0090 |  76 | 2019 |   NA |      NA | 1893 | 1836.800 |\n| 289.10764 | 44.20815 | -122.1417 | 132.67433 | 505.7054 | 11.10837 | 16.897600 | 3.312229 | 1 | 0 | ⋯ | 313.8383 | 487 | 447.69070 | 464.8378 | 402 | 2019 |   NA |      NA | 1893 | 1836.800 |\n| 253.74625 | 44.20842 | -122.1411 | 109.10674 | 458.5341 | 11.10539 | 15.830516 | 3.311786 | 1 | 0 | ⋯ | 313.8383 | 507 | 491.73737 | 499.0751 | 455 | 2019 |   NA |      NA | 1893 | 1836.800 |\n\n",
            "text/latex": "A data.table: 6 × 58\n\\begin{tabular}{lllllllllllllllllllll}\n agbd & lat\\_lowestmode & lon\\_lowestmode & agbd\\_pi\\_lower & agbd\\_pi\\_upper & agbd\\_se & agbd\\_t & agbd\\_t\\_se & algorithm\\_run\\_flag & channel & ⋯ & min\\_2003 & max\\_2016 & mean\\_2016 & median\\_2016 & min\\_2016 & year & harvest\\_year & stand & fire\\_year & fire\\_mean\\\\\n <dbl> & <dbl> & <dbl> & <dbl> & <dbl> & <dbl> & <dbl> & <dbl> & <dbl> & <dbl> & ⋯ & <dbl> & <dbl> & <dbl> & <dbl> & <dbl> & <chr> & <int> & <int> & <dbl> & <dbl>\\\\\n\\hline\n\t  84.81475 & 44.20409 & -122.1508 &  13.85670 & 215.9879 & 11.11770 &  9.152315 & 3.313620 & 1 & 0 & ⋯ & 486.4494 & 511 & 222.57599 & 221.2452 & 123 & 2019 & 1965 & 1001017 & 1893 & 1848.333\\\\\n\t 358.31192 & 44.20733 & -122.1435 & 180.72018 & 596.0941 & 11.11314 & 18.811607 & 3.312940 & 1 & 0 & ⋯ & 520.0750 & 396 & 368.44241 & 368.8161 & 313 & 2019 &   NA &      NA & 1893 & 1836.250\\\\\n\t 299.82697 & 44.20761 & -122.1429 & 139.90482 & 519.9716 & 11.11908 & 17.208008 & 3.313826 & 1 & 0 & ⋯ & 520.0750 & 124 &  93.43873 & 106.0000 &  88 & 2019 &   NA &      NA & 1893 & 1836.250\\\\\n\t 107.97176 & 44.20788 & -122.1423 &  24.09316 & 251.9652 & 11.09920 & 10.326433 & 3.310863 & 1 & 0 & ⋯ & 524.5583 & 403 & 323.41666 & 231.0090 &  76 & 2019 &   NA &      NA & 1893 & 1836.800\\\\\n\t 289.10764 & 44.20815 & -122.1417 & 132.67433 & 505.7054 & 11.10837 & 16.897600 & 3.312229 & 1 & 0 & ⋯ & 313.8383 & 487 & 447.69070 & 464.8378 & 402 & 2019 &   NA &      NA & 1893 & 1836.800\\\\\n\t 253.74625 & 44.20842 & -122.1411 & 109.10674 & 458.5341 & 11.10539 & 15.830516 & 3.311786 & 1 & 0 & ⋯ & 313.8383 & 507 & 491.73737 & 499.0751 & 455 & 2019 &   NA &      NA & 1893 & 1836.800\\\\\n\\end{tabular}\n",
            "text/plain": [
              "  agbd      lat_lowestmode lon_lowestmode agbd_pi_lower agbd_pi_upper agbd_se \n",
              "1  84.81475 44.20409       -122.1508       13.85670     215.9879      11.11770\n",
              "2 358.31192 44.20733       -122.1435      180.72018     596.0941      11.11314\n",
              "3 299.82697 44.20761       -122.1429      139.90482     519.9716      11.11908\n",
              "4 107.97176 44.20788       -122.1423       24.09316     251.9652      11.09920\n",
              "5 289.10764 44.20815       -122.1417      132.67433     505.7054      11.10837\n",
              "6 253.74625 44.20842       -122.1411      109.10674     458.5341      11.10539\n",
              "  agbd_t    agbd_t_se algorithm_run_flag channel ⋯ min_2003 max_2016 mean_2016\n",
              "1  9.152315 3.313620  1                  0       ⋯ 486.4494 511      222.57599\n",
              "2 18.811607 3.312940  1                  0       ⋯ 520.0750 396      368.44241\n",
              "3 17.208008 3.313826  1                  0       ⋯ 520.0750 124       93.43873\n",
              "4 10.326433 3.310863  1                  0       ⋯ 524.5583 403      323.41666\n",
              "5 16.897600 3.312229  1                  0       ⋯ 313.8383 487      447.69070\n",
              "6 15.830516 3.311786  1                  0       ⋯ 313.8383 507      491.73737\n",
              "  median_2016 min_2016 year harvest_year stand   fire_year fire_mean\n",
              "1 221.2452    123      2019 1965         1001017 1893      1848.333 \n",
              "2 368.8161    313      2019   NA              NA 1893      1836.250 \n",
              "3 106.0000     88      2019   NA              NA 1893      1836.250 \n",
              "4 231.0090     76      2019   NA              NA 1893      1836.800 \n",
              "5 464.8378    402      2019   NA              NA 1893      1836.800 \n",
              "6 499.0751    455      2019   NA              NA 1893      1836.800 "
            ]
          },
          "metadata": {}
        }
      ]
    },
    {
      "cell_type": "code",
      "source": [
        "summary_dt[!is.na(mean_2008) &!is.na(agbd) & wnf_year >1500  ,][,list(agbd = mean(agbd,na.rm=T),mean_2003 = mean(mean_2003,na.rm=T),mean_2008 = mean(mean_2008,na.rm=T),mean_2016 = mean(mean_2016,na.rm=T)),by=.(wnf_year,year)] %>%\n",
        "  ggplot(aes(x=2023-wnf_year,y=agbd,color='GEDI' %>% factor(levels = c('GEDI','ALS, 2008','MODIS 2003','LS, 2016'))))+\n",
        "  geom_point( ) +\n",
        "  geom_point(aes(y=mean_2003,color='MODIS 2003' %>% factor(levels = c('GEDI','ALS, 2008','MODIS 2003','LS, 2016'))) ) +\n",
        "  geom_point(aes(y=mean_2008,color='ALS, 2008' %>% factor(levels = c('GEDI','ALS, 2008','MODIS 2003','LS, 2016')))  ) +\n",
        "  geom_point(aes(y=mean_2016,color='LS, 2016' %>% factor(levels = c('GEDI','ALS, 2008','MODIS 2003','LS, 2016')))  )+\n",
        "  # geom_abline(color='red') +\n",
        "  geom_smooth( ) +\n",
        "  geom_smooth(aes(y=mean_2003,color='MODIS 2003' %>% factor(levels = c('GEDI','ALS, 2008','MODIS 2003','LS, 2016'))) ) +\n",
        "  geom_smooth(aes(y=mean_2008,color='ALS, 2008' %>% factor(levels = c('GEDI','ALS, 2008','MODIS 2003','LS, 2016'))) ) +\n",
        "  geom_smooth(aes(y=mean_2016,color='LS, 2016' %>% factor(levels = c('GEDI','ALS, 2008','MODIS 2003','LS, 2016'))) ) +\n",
        "  # Hide the annotations\n",
        "  # Manually add custom legend\n",
        "  xlab('years after disturbance')+\n",
        "  scale_color_manual(\n",
        "    values = c('GEDI' = 'green', 'MODIS 2003' = 'red', 'ALS, 2008' = 'purple', 'LS, 2016' = 'salmon'),\n",
        "    name = 'agbd source',  # Changing the name of the legend here\n",
        "    breaks = c('GEDI','MODIS 2003','ALS, 2008','LS, 2016'),\n",
        "    labels = c('GEDI', 'MODIS 2003', 'ALS, 2008','LS, 2016'),\n",
        "    position = 'bottom') +\n",
        "  theme(legend.position = 'bottom')"
      ],
      "metadata": {
        "id": "Fc_rzdmhmkcM",
        "outputId": "57190a23-b76e-4872-f496-7130a7a53251",
        "colab": {
          "base_uri": "https://localhost:8080/",
          "height": 508
        }
      },
      "execution_count": 99,
      "outputs": [
        {
          "output_type": "stream",
          "name": "stderr",
          "text": [
            "\u001b[1m\u001b[22m`geom_smooth()` using method = 'loess' and formula = 'y ~ x'\n",
            "\u001b[1m\u001b[22m`geom_smooth()` using method = 'loess' and formula = 'y ~ x'\n",
            "\u001b[1m\u001b[22m`geom_smooth()` using method = 'loess' and formula = 'y ~ x'\n",
            "\u001b[1m\u001b[22m`geom_smooth()` using method = 'loess' and formula = 'y ~ x'\n"
          ]
        },
        {
          "output_type": "display_data",
          "data": {
            "text/plain": [
              "plot without title"
            ],
            "image/png": "[encoded data removed]"
          },
          "metadata": {
            "image/png": {
              "width": 420,
              "height": 420
            }
          }
        }
      ]
    },
    {
      "cell_type": "code",
      "source": [],
      "metadata": {
        "id": "lEHJpuylaVOr"
      },
      "execution_count": 39,
      "outputs": []
    },
    {
      "cell_type": "code",
      "source": [
        "year_off <- 1\n",
        "\n",
        "agbd_preval_lm <-\n",
        "summary_dt[l4_quality_flag ==1 & min.yod>1984 & round(min.yod) == (year %>% as.numeric-year_off) & round(max.yod) == (year %>% as.numeric-year_off),][,agbd_group:= round(min.preval,-1)][,agbd_group:= round(min.preval,-2)][,mag_group:= round(min.mag,-2)][,yod_group:= round(2023 - min.yod)][,list(min.preval = mean(mean.preval,na.rm=T),min.mag= mean(mean.mag,na.rm=T),agbd= mean(agbd,na.rm=T)),by=c('agbd_group','mag_group','yod_group')][,min.endval:=(min.preval-min.mag)] %>%\n",
        "  lm(agbd~min.endval,.)\n",
        "\n",
        "summary_dt$agbd_postval <- predict(agbd_preval_lm,summary_dt[,min.endval:=(min.preval-min.mag)])\n",
        "summary_dt[min.preval ==0]$agbd_postval <-NA\n",
        "\n",
        "summary_dt$agbd_preval <- predict(agbd_preval_lm,summary_dt[,min.endval:=(min.preval)])\n",
        "summary_dt[min.preval ==0]$agbd_preval <-NA"
      ],
      "metadata": {
        "id": "GFZpLY_CymGX",
        "colab": {
          "base_uri": "https://localhost:8080/",
          "height": 337
        },
        "outputId": "bf0d51f5-3316-40d1-ef8f-952d07884024"
      },
      "execution_count": 40,
      "outputs": [
        {
          "output_type": "error",
          "ename": "ERROR",
          "evalue": "ignored",
          "traceback": [
            "Error in lm.fit(x, y, offset = offset, singular.ok = singular.ok, ...): 0 (non-NA) cases\nTraceback:\n",
            "1. summary_dt[l4_quality_flag == 1 & min.yod > 1984 & round(min.yod) == \n .     (year %>% as.numeric - year_off) & round(max.yod) == (year %>% \n .     as.numeric - year_off), ][, `:=`(agbd_group, round(min.preval, \n .     -1))][, `:=`(agbd_group, round(min.preval, -2))][, `:=`(mag_group, \n .     round(min.mag, -2))][, `:=`(yod_group, round(2023 - min.yod))][, \n .     list(min.preval = mean(mean.preval, na.rm = T), min.mag = mean(mean.mag, \n .         na.rm = T), agbd = mean(agbd, na.rm = T)), by = c(\"agbd_group\", \n .         \"mag_group\", \"yod_group\")][, `:=`(min.endval, (min.preval - \n .     min.mag))] %>% lm(agbd ~ min.endval, .)",
            "2. lm(agbd ~ min.endval, .)",
            "3. lm.fit(x, y, offset = offset, singular.ok = singular.ok, ...)",
            "4. stop(\"0 (non-NA) cases\")"
          ]
        }
      ]
    },
    {
      "cell_type": "code",
      "source": [
        "fire_history_gpkg <- st_read('/content/Fire_History_polygon.gpkg')"
      ],
      "metadata": {
        "id": "cO4ekD-fmhva"
      },
      "execution_count": null,
      "outputs": []
    },
    {
      "cell_type": "code",
      "source": [
        "fire_history_gpkg <- fire_history_gpkg %>% st_cast('POLYGON')"
      ],
      "metadata": {
        "id": "pyosdJnBad9u"
      },
      "execution_count": null,
      "outputs": []
    },
    {
      "cell_type": "code",
      "source": [
        "fire_history_int <- summary_dt %>% st_as_sf %>% st_intersects(fire_history_gpkg %>% st_transform(st_crs(summary_dt$geom)))"
      ],
      "metadata": {
        "id": "dvstL_1Pc7Io"
      },
      "execution_count": null,
      "outputs": []
    },
    {
      "cell_type": "code",
      "source": [
        "(fire_history_int %>% unlist)[1:5]"
      ],
      "metadata": {
        "id": "ybCO9BCjdKl8"
      },
      "execution_count": null,
      "outputs": []
    },
    {
      "cell_type": "code",
      "source": [
        "huc_8_int <- summary_dt %>% st_as_sf %>% st_intersects(huc_8_gpgk)\n",
        "\n",
        "huc_10_int <- summary_dt %>% st_as_sf %>% st_intersects(huc_10_gpgk)\n",
        "\n",
        "huc_12_int <- summary_dt %>% st_as_sf %>% st_intersects(huc_12_gpgk)"
      ],
      "metadata": {
        "id": "jewVgANZyuUp"
      },
      "execution_count": null,
      "outputs": []
    },
    {
      "cell_type": "code",
      "source": [
        "fire_history_gpkg %>% data.table %>% head %>% names\n"
      ],
      "metadata": {
        "id": "sgvQk7F2rCQw"
      },
      "execution_count": null,
      "outputs": []
    },
    {
      "cell_type": "code",
      "source": [
        "fire_summary_dt <- data.table(summary_dt, (fire_history_gpkg %>% data.table)[,c('FIRE_NUM','FIRE_CODE','FIRE_NAME','FIRE_YEAR')][fire_history_int %>% lapply(function(x){x[1]}) %>% unlist,])\n"
      ],
      "metadata": {
        "id": "Y7YpelbKqvp4"
      },
      "execution_count": null,
      "outputs": []
    },
    {
      "cell_type": "code",
      "source": [
        "fire_summary_dt$FIRE_YEAR %>% table"
      ],
      "metadata": {
        "id": "2yraBkoHrbMT"
      },
      "execution_count": null,
      "outputs": []
    },
    {
      "cell_type": "code",
      "source": [
        "# huc_8_summary_dt"
      ],
      "metadata": {
        "id": "l7PC-ctcq3lq"
      },
      "execution_count": null,
      "outputs": []
    },
    {
      "cell_type": "code",
      "source": [
        "huc_8_summary_dt <- data.table(summary_dt, (huc_8_gpgk %>% data.table)[,c('TNMID','HUC8','Name')][huc_8_int %>% lapply(function(x){x[1]}) %>% unlist,])\n",
        "huc_10_summary_dt <- data.table(summary_dt, (huc_10_gpgk %>% data.table)[,c('TNMID','HUC10','Name')][huc_10_int %>% lapply(function(x){x[1]}) %>% unlist,])\n",
        "huc_12_summary_dt <- data.table(summary_dt, (huc_12_gpgk %>% data.table)[,c('TNMID','HUC12','Name')][huc_12_int %>% lapply(function(x){x[1]}) %>% unlist,])"
      ],
      "metadata": {
        "id": "iOz_SsQsyvv8"
      },
      "execution_count": null,
      "outputs": []
    },
    {
      "cell_type": "code",
      "source": [
        "# # resample_dt[,agbd := rnorm(1,agbd,agbd_se),by=row_id]\n",
        "# # gc()\n",
        "# resamp_vec <-\n",
        "# 1:nrow(resample_dt) %>%\n",
        "#   lapply(function(x){\n",
        "#     if(!is.na())\n",
        "#     rnorm(1,resample_dt$agbd[[x]],resample_dt$agbd_sd[[x]])\n",
        "#   })\n",
        "resample_dt <- NULL\n",
        "gc()"
      ],
      "metadata": {
        "id": "pYI05ddv2IVy"
      },
      "execution_count": null,
      "outputs": []
    },
    {
      "cell_type": "code",
      "source": [
        "summary_dt[,group_quantile:=as.integer(cut(agbd_postval, breaks = quantile(agbd_postval[!is.na(agbd) & median.preval > 0], probs = seq(0, 1, by = 1/3),na.rm=T), labels = FALSE, include.lowest = TRUE)) ]\n",
        "summary_dt$group <- NA\n",
        "# summary_dt[!is.na(agbd) & median.preval > 0, group_quantile := kmeans(((median.preval - median.mag) / median.preval)[.I], centers = 4)$cluster]\n",
        "\n",
        "\n",
        "\n",
        "summary_dt$group <- NA\n",
        "summary_dt[!is.na(agbd_postval), group := kmeans((agbd_postval)[.I], centers = 3)$cluster]\n",
        "\n",
        "\n",
        "cluster_dt <- summary_dt[!is.na(agbd) & median.preval > 0,list(agbd_postval = mean(agbd_postval)),by=group][order(agbd_postval)]\n",
        "cluster_dt$group_new <- 1:nrow(cluster_dt)\n",
        "cluster_dt <- cluster_dt[order(group)]\n",
        "# print(cluster_dt)\n",
        "summary_dt$group <- cluster_dt$group_new[summary_dt$group]\n",
        "\n",
        "summary_dt[,list(agbd_postval = mean(agbd_postval),n = length(agbd_postval)),by=group_quantile][order(agbd_postval)]\n",
        "\n",
        "summary_dt[,list(agbd_postval = mean(agbd_postval),n = length(agbd_postval)),by=group][order(agbd_postval)]"
      ],
      "metadata": {
        "id": "S-SATZn8zk19"
      },
      "execution_count": null,
      "outputs": []
    },
    {
      "cell_type": "code",
      "source": [
        "install.packages('randomForest')"
      ],
      "metadata": {
        "id": "ktLhWRVBWofl"
      },
      "execution_count": null,
      "outputs": []
    },
    {
      "cell_type": "code",
      "source": [
        "library(randomForest)"
      ],
      "metadata": {
        "id": "ou99rvW2WmRt"
      },
      "execution_count": null,
      "outputs": []
    },
    {
      "cell_type": "code",
      "source": [
        "calibration_dt[,group_quantile:=as.integer(cut(mean.preval-mean.mag, breaks = quantile((mean.preval-mean.mag)[!is.na(agbd) & median.preval > 0], probs = seq(0, 1, by = 1/3),na.rm=T), labels = FALSE, include.lowest = TRUE))  %>%as.factor()]\n",
        "\n",
        "calibration_dt %>%\n",
        "  ggplot(aes(x = mean.preval-mean.mag,y=agbd))+\n",
        "  geom_point(aes(color=group_quantile))"
      ],
      "metadata": {
        "id": "icMSSOV1X2Rr"
      },
      "execution_count": null,
      "outputs": []
    },
    {
      "cell_type": "code",
      "source": [
        "calibration_dt <- resample_dt[min.yod>1984 & !is.na(agbd) ,]\n",
        "calibration_dt$id <- 1:nrow(calibration_dt)\n",
        "calibration_dt[,post_val := mean(mean.preval - mean.mag),by = id]\n",
        "# calibration_dt[,group_quantile:=as.integer(cut(agbd, breaks = quantile(agbd, probs = seq(0, 1, by = 1/3),na.rm=T), labels = FALSE, include.lowest = TRUE)) %>% factor ]\n",
        "# calibration_dt[,agbd_quantile:=as.integer(cut(agbd, breaks = quantile(agbd, probs = seq(0, 1, by = 1/3),na.rm=T), labels = FALSE, include.lowest = TRUE)) %>% factor ]\n",
        "# calibration_dt[,postval_quantile:=as.integer(cut(mean.preval - mean.mag, breaks = quantile(mean.preval - mean.mag, probs = seq(0, 1, by = 1/3),na.rm=T), labels = FALSE, include.lowest = TRUE)) %>% factor ]\n",
        "\n",
        "\n",
        "# calibration_dt %>%\n",
        "#   ggplot(aes(x=agbd))+\n",
        "#   geom_boxplot(aes(color=postval_quantile))\n",
        "# names(calibration_dt)\n",
        "# rf_form <- as.formula(paste('group_quantile ~',c('post_val',(calibration_dt %>% names)[18:41]) %>% paste(.,collapse = '+')))\n",
        "# resample_dt$id <- 1:nrow(resample_dt)\n",
        "\n",
        "# resample_dt[,agbd_quantile:=as.integer(cut(agbd, breaks = quantile(agbd, probs = seq(0, 1, by = 1/3),na.rm=T), labels = FALSE, include.lowest = TRUE)) %>% factor ]\n",
        "# resample_dt[,postval_quantile:=as.integer(cut(mean.preval - mean.mag, breaks = quantile(mean.preval - mean.mag, probs = seq(0, 1, by = 1/3),na.rm=T), labels = FALSE, include.lowest = TRUE)) %>% factor ]\n",
        "\n",
        "# resample_dt[,post_val := mean(mean.preval - mean.mag),by = id]\n",
        "# rf_result <-  randomForest(rf_form,resample_dt[min.yod>1984 & !is.na(agbd)])\n"
      ],
      "metadata": {
        "id": "_3MjrahgsDKj"
      },
      "execution_count": null,
      "outputs": []
    },
    {
      "cell_type": "code",
      "source": [
        "while(TRUE){}"
      ],
      "metadata": {
        "id": "XoAKNT-0JuCv"
      },
      "execution_count": null,
      "outputs": []
    },
    {
      "cell_type": "code",
      "source": [
        "post_gedi_dt %>%head"
      ],
      "metadata": {
        "id": "aevTfUHjonTI"
      },
      "execution_count": null,
      "outputs": []
    },
    {
      "cell_type": "code",
      "source": [
        "resample_dt[,group:=as.integer(cut(agbd, breaks = quantile(agbd, probs = seq(0, 1, by = 1/3),na.rm=T), labels = FALSE, include.lowest = TRUE)),by = .(round(median.yod/5)*5)]\n",
        "\n",
        "# table(resample_dt$group,round(resample_dt$median.yod /1)*1)"
      ],
      "metadata": {
        "id": "L7YPi2xuJt9J"
      },
      "execution_count": null,
      "outputs": []
    },
    {
      "cell_type": "code",
      "source": [
        "fire_summary_dt$gedi_era <-  fire_summary_dt$min.yod > min(fire_summary_dt$year %>% as.numeric)\n",
        "\n",
        "fire_summary_dt$post_gedi <-  (fire_summary_dt$year %>% as.numeric) - fire_summary_dt$mean.yod\n",
        "\n",
        "# fire_summary_dt$pre_gedi <-"
      ],
      "metadata": {
        "id": "onLPiWaTtaCZ"
      },
      "execution_count": null,
      "outputs": []
    },
    {
      "cell_type": "code",
      "source": [
        "post_gedi_dt <- fire_summary_dt[l4_quality_flag ==1 & min.yod>1984 & gedi_era  ]\n",
        "post_gedi_dt[agbd >0 &year %>% as.numeric == round(mean.yod+1) |year %>% as.numeric == round(mean.yod+1) | year %>% as.numeric == round(mean.yod+2)| year %>% as.numeric == round(mean.yod+3)| year %>% as.numeric == round(mean.yod+4)| year %>% as.numeric == round(mean.yod+5)]    %>%\n",
        "  ggplot(aes(y=agbd,x=mean.preval-mean.mag))+\n",
        "  geom_bin2d()+\n",
        "  geom_smooth(method='lm')"
      ],
      "metadata": {
        "id": "vC1GxTOqvcjm"
      },
      "execution_count": null,
      "outputs": []
    },
    {
      "cell_type": "code",
      "source": [
        "fire_summary_dt$gedi_era %>% table"
      ],
      "metadata": {
        "id": "up0OQLwBue38"
      },
      "execution_count": null,
      "outputs": []
    },
    {
      "cell_type": "code",
      "source": [
        "# 1:1000\n",
        "resample_dt <- fire_summary_dt\n",
        "# resample_dt <- fire_summary_dt[min.yod>1984 & !is.na(agbd) & is.na(FIRE_YEAR) & l4_quality_flag ==1 &min.endval>0]\n",
        "\n",
        "# resample_dt %>% head\n",
        "\n",
        "\n",
        "# agbd_preval_lm <-resample_dt[] %>%\n",
        "#   lm(agbd~min.endval,.)\n",
        "\n",
        "# agbd_preval_lm %>% summary\n",
        "\n",
        "resample_dt$agbd_postval <- predict(agbd_preval_lm,resample_dt[,min.endval:=(min.preval-min.mag)])\n",
        "resample_dt$agbd_preval <- predict(agbd_preval_lm,resample_dt[,min.endval:=(min.preval)])\n",
        "\n",
        "# min.yod>1984 & round(min.yod) %in% c(round(year %>% as.numeric)-c(1,2)) &  round(max.yod) %in% c(round(year%>% as.numeric)-c(1,2))\n",
        "resample_dt[,min.endval:=(min.preval-min.mag)]\n",
        "# resample_dt$min.endval\n",
        "# # resample_dt$agbd_postval\n",
        "# # resample_dt[,agbd_postval:=mean(agbd[min.yod>1984 & round(min.yod) %in% c(round(year %>% as.numeric)+c(1,2)) &  round(max.yod) %in% c(round(year%>% as.numeric)+c(1,2))],na.rm=T),by = group]\n",
        "# # resample_dt[,agbd_preval:=mean(agbd[min.yod>1984 & round(min.yod) %in% c(round(year %>% as.numeric)+c(1,2)) &  round(max.yod) %in% c(round(year%>% as.numeric)+c(1,2))],na.rm=T),by = group]\n",
        "resample_dt[,group:=as.integer(cut(agbd, breaks = quantile(agbd, probs = seq(0, 1, by = 1/3),na.rm=T), labels = FALSE, include.lowest = TRUE)) ]\n",
        "\n",
        "resample_dt[,group_agbd_preval:=mean(agbd[min.yod>1984 & round(mean.yod) %in% c(round(year %>% as.numeric)+c(1,2,3))],na.rm=T) ,by=group]\n",
        "\n",
        "resample_dt[,group_agbd_postval:=mean(agbd[min.yod>1984 & round(mean.yod) < round(year %>% as.numeric) ],na.rm=T) ,by=group]\n",
        "\n",
        "\n",
        "plot_dt <- resample_dt[min.yod>1984 &l4_quality_flag ==1,][,yod_round := round(mean.yod)][,list(agbd = mean(agbd,na.rm=T),yad = mean(2023-mean.yod),group_agbd_preval=mean(group_agbd_preval,na.rm=T),group_agbd_postval=mean(group_agbd_postval,na.rm=T),n = length(mean.yod)),by = .(group,yod_round)][yad>1]\n",
        "\n",
        "\n",
        "plot_dt[,agbd_yr:=(agbd/yad),by=group]\n",
        "\n",
        "plot_dt[order(yad),agbd_yr_cumsum := cumsum(agbd/yad)-group_agbd_postval,by = group]\n",
        "\n",
        "# summary_dt[,group_quantile:=as.integer(cut(agbd_postval, breaks = quantile(agbd_postval[!is.na(agbd) & median.preval > 0], probs = seq(0, 1, by = 1/3),na.rm=T), labels = FALSE, include.lowest = TRUE)) ]\n",
        "# summary_dt$group <- NA\n",
        "# # summary_dt[!is.na(agbd) & median.preval > 0, group_quantile := kmeans(((median.preval - median.mag) / median.preval)[.I], centers = 4)$cluster]\n",
        "\n",
        "\n",
        "\n",
        "# summary_dt$group <- NA\n",
        "# summary_dt[!is.na(agbd_postval), group := kmeans((agbd_postval)[.I], centers = 3)$cluster]\n",
        "\n",
        "\n",
        "# cluster_dt <- summary_dt[!is.na(agbd) & median.preval > 0,list(agbd_postval = mean(agbd_postval)),by=group][order(agbd_postval)]\n",
        "# cluster_dt$group_new <- 1:nrow(cluster_dt)\n",
        "# cluster_dt <- cluster_dt[order(group)]\n",
        "# # print(cluster_dt)\n",
        "# summary_dt$group <- cluster_dt$group_new[summary_dt$group]\n",
        "\n",
        "# summary_dt[,list(agbd_postval = mean(agbd_postval),n = length(agbd_postval)),by=group_quantile][order(agbd_postval)]\n",
        "\n",
        "# summary_dt[,list(agbd_postval = mean(agbd_postval),n = length(agbd_postval)),by=group][order(agbd_postval)]\n",
        "\n",
        "plot_dt$yod %>% max\n",
        "\n",
        "plot_dt %>%\n",
        "\n",
        "ggplot(aes(x=yad,y=agbd_yr,group=group))+\n",
        "\n",
        "geom_point()+\n",
        "\n",
        "geom_smooth(aes(color=group))\n",
        "\n",
        "\n",
        "# plot_dt %>%\n",
        "# ggplot(aes(x=yad,y=agbd_yr_cumsum,group=group_quantile))+\n",
        "# geom_point()+\n",
        "# geom_line(aes(color=group_quantile))\n",
        "# geom_smooth(data=pred_dt,aes(),color='red')"
      ],
      "metadata": {
        "id": "_X_pF4TT9vRB"
      },
      "execution_count": null,
      "outputs": []
    },
    {
      "cell_type": "code",
      "source": [
        "gedi_vec_gpkg$area <- st_area(gedi_vec_gpkg)\n",
        "\n",
        "summary_dt$gedi_clust <- st_intersects(summary_dt$geom,gedi_vec_gpkg) %>% lapply(function(x){x[1]}) %>% unlist\n",
        "summary_dt$gedi_clust_area <- gedi_vec_gpkg$area[summary_dt$gedi_clust]"
      ],
      "metadata": {
        "id": "W-VRWy919p2O"
      },
      "execution_count": null,
      "outputs": []
    },
    {
      "cell_type": "code",
      "source": [
        "summary_dt[min.yod > 1984 & agbd>0 &l4_quality_flag ==1,] %>%\n",
        "  ggplot(aes(y=(agbd - agbd_preval)/(2023-max.yod),x=max.yod,group=group))+\n",
        "  geom_point() +\n",
        "  # geom_line(aes(color=group))+\n",
        "  geom_smooth(aes(color=group))"
      ],
      "metadata": {
        "id": "ooqmNof1AuNl"
      },
      "execution_count": null,
      "outputs": []
    },
    {
      "cell_type": "code",
      "source": [
        "huc_8_int <- summary_dt %>% st_as_sf %>% st_intersects(huc_8_gpgk)\n",
        "\n",
        "huc_10_int <- summary_dt %>% st_as_sf %>% st_intersects(huc_10_gpgk)\n",
        "\n",
        "huc_12_int <- summary_dt %>% st_as_sf %>% st_intersects(huc_12_gpgk)"
      ],
      "metadata": {
        "id": "ioGSIgshMojf"
      },
      "execution_count": null,
      "outputs": []
    },
    {
      "cell_type": "code",
      "source": [
        "huc_8_summary_dt <- data.table(summary_dt, (huc_8_gpgk %>% data.table)[,c('TNMID','HUC8','Name')][huc_8_int %>% lapply(function(x){x[1]}) %>% unlist,])\n",
        "huc_10_summary_dt <- data.table(summary_dt, (huc_10_gpgk %>% data.table)[,c('TNMID','HUC10','Name')][huc_10_int %>% lapply(function(x){x[1]}) %>% unlist,])\n",
        "huc_12_summary_dt <- data.table(summary_dt, (huc_12_gpgk %>% data.table)[,c('TNMID','HUC12','Name')][huc_12_int %>% lapply(function(x){x[1]}) %>% unlist,])"
      ],
      "metadata": {
        "id": "Oh3ejwKJOF8z"
      },
      "execution_count": null,
      "outputs": []
    },
    {
      "cell_type": "code",
      "source": [
        "targ_dt <- huc_10_summary_dt[Name == 'Thomas Creek' & group ==1]\n",
        "\n",
        "loess_dt <- huc_10_summary_dt[min.yod>1984 &agbd>0 ,][,yod_round := round(mean.yod)][,list(agbd = mean(agbd-agbd_preval,na.rm=T),yad = mean(2023-mean.yod),n = length(mean.yod)),by = .(group,Name,yod_round)][yad>3]\n",
        "\n",
        "huc_10_summary_dt[,yad := 2023-mean.yod]\n",
        "targ_dt$agbd_pred <-\n",
        "predict(loess_dt[Name == 'Thomas Creek' & group == 1] %>%\n",
        "  loess(agbd~yad,.), targ_dt)"
      ],
      "metadata": {
        "id": "rHcRc44CoZUB"
      },
      "execution_count": null,
      "outputs": []
    },
    {
      "cell_type": "code",
      "source": [
        "targ_dt[yad>3,] %>%\n",
        "  ggplot(aes(x=agbd_pred-agbd))+\n",
        "  geom_histogram(bins=100)"
      ],
      "metadata": {
        "id": "VHXKFI43qb6o"
      },
      "execution_count": null,
      "outputs": []
    },
    {
      "cell_type": "code",
      "source": [
        "targ_dt[yad>3,] %>% st_as_sf() %>% st_write('/content/example.gpkg')"
      ],
      "metadata": {
        "id": "zTczNC-psVkZ"
      },
      "execution_count": null,
      "outputs": []
    },
    {
      "cell_type": "code",
      "source": [
        "huc_10_dist_table <- huc_10_summary_dt$Name %>% table\n",
        "huc_10_summary_dt <- huc_10_summary_dt[Name %in% c(huc_10_dist_table[huc_10_dist_table>100] %>% names),]\n",
        "\n",
        "huc_10_summary_dt[,group:=as.integer(cut((median.preval-median.mag)/median.preval, breaks = quantile((median.preval[!is.na(agbd) & median.preval > 0]-median.mag[!is.na(agbd) & median.preval > 0])/median.preval[!is.na(agbd) & median.preval > 0], probs = seq(0, 1, by = 0.25)), labels = FALSE, include.lowest = TRUE)) ,by = 'Name']\n",
        "\n",
        "\n",
        "\n",
        "fit <- loess(y ~ x)\n",
        "predictions <- predict(fit, newdata = data.frame(x = x))\n",
        "\n",
        "huc_10_summary_dt[min.yod>1984 &agbd>0 ,][,yod_round := round(mean.yod)][,list(agbd = mean(agbd-agbd_preval,na.rm=T),yad = mean(2023-mean.yod),n = length(mean.yod)),by = .(group,Name,yod_round)][yad>3] %>%\n",
        "ggplot(aes(x=yad,y=(floor(agbd))/ceiling(yad),group=group))+\n",
        "geom_point()+\n",
        "geom_smooth(aes(color=group)) +\n",
        "facet_wrap(Name~.)\n"
      ],
      "metadata": {
        "id": "uR3Sr08MgzjT"
      },
      "execution_count": null,
      "outputs": []
    },
    {
      "cell_type": "code",
      "source": [
        "huc_12_dist_table <- huc_12_summary_dt$Name %>% table\n",
        "huc_12_summary_dt <- huc_12_summary_dt[Name %in% c(huc_12_dist_table[huc_12_dist_table>100] %>% names),]\n",
        "\n",
        "huc_12_summary_dt[,group:=as.integer(cut((median.preval-median.mag)/median.preval, breaks = quantile((median.preval[!is.na(agbd) & median.preval > 0]-median.mag[!is.na(agbd) & median.preval > 0])/median.preval[!is.na(agbd) & median.preval > 0], probs = seq(0, 1, by = 0.25)), labels = FALSE, include.lowest = TRUE)) ,by = 'Name']\n",
        "\n",
        "\n",
        "\n",
        "\n",
        "\n",
        "huc_12_summary_dt[min.yod>1984 &agbd>0 ,][,yod_round := round(mean.yod)][,list(agbd = mean(agbd-agbd_preval,na.rm=T),yad = mean(2023-mean.yod),n = length(mean.yod)),by = .(group,Name,yod_round)][yad>3] %>%\n",
        "ggplot(aes(x=yad,y=(floor(agbd))/ceiling(yad),group=group))+\n",
        "geom_point()+\n",
        "geom_smooth(aes(color=group)) +\n",
        "facet_wrap(Name~.)"
      ],
      "metadata": {
        "id": "SCNJ9gdGk68j"
      },
      "execution_count": null,
      "outputs": []
    }
  ]
}
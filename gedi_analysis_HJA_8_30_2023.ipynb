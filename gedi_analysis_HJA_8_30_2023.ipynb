{
  "nbformat": 4,
  "nbformat_minor": 0,
  "metadata": {
    "colab": {
      "provenance": [],
      "machine_shape": "hm",
      "authorship_tag": "ABX9TyPaPkys0d5pztPoJPsuc4UT",
      "include_colab_link": true
    },
    "kernelspec": {
      "name": "ir",
      "display_name": "R"
    },
    "language_info": {
      "name": "R"
    }
  },
  "cells": [
    {
      "cell_type": "markdown",
      "metadata": {
        "id": "view-in-github",
        "colab_type": "text"
      },
      "source": [
        "<a href=\"https://colab.research.google.com/github/seismosmsr/machine_learning/blob/main/gedi_analysis_HJA_8_30_2023.ipynb\" target=\"_parent\"><img src=\"https://colab.research.google.com/assets/colab-badge.svg\" alt=\"Open In Colab\"/></a>"
      ]
    },
    {
      "cell_type": "code",
      "source": [
        "install.packages('sf')\n",
        "install.packages('raster')\n",
        "install.packages('exactextractr')\n",
        "install.packages(\"googledrive\")\n",
        "install.packages(\"googletoken\")\n",
        "install.packages(\"DBI\")\n",
        "install.packages(\"RSQLite\")\n",
        "install.packages(\"RPostgreSQL\")"
      ],
      "metadata": {
        "colab": {
          "base_uri": "https://localhost:8080/"
        },
        "id": "rC3Pg61Wq8On",
        "outputId": "1d4c01ad-4017-41c1-8662-847d80b74163"
      },
      "execution_count": 4,
      "outputs": [
        {
          "output_type": "stream",
          "name": "stderr",
          "text": [
            "Installing package into ‘/usr/local/lib/R/site-library’\n",
            "(as ‘lib’ is unspecified)\n",
            "\n",
            "also installing the dependencies ‘proxy’, ‘e1071’, ‘wk’, ‘classInt’, ‘Rcpp’, ‘s2’, ‘units’\n",
            "\n",
            "\n",
            "Installing package into ‘/usr/local/lib/R/site-library’\n",
            "(as ‘lib’ is unspecified)\n",
            "\n",
            "also installing the dependencies ‘sp’, ‘terra’\n",
            "\n",
            "\n",
            "Installing package into ‘/usr/local/lib/R/site-library’\n",
            "(as ‘lib’ is unspecified)\n",
            "\n",
            "Installing package into ‘/usr/local/lib/R/site-library’\n",
            "(as ‘lib’ is unspecified)\n",
            "\n",
            "Installing package into ‘/usr/local/lib/R/site-library’\n",
            "(as ‘lib’ is unspecified)\n",
            "\n",
            "Warning message:\n",
            "“package ‘googletoken’ is not available for this version of R\n",
            "\n",
            "A version of this package for your version of R might be available elsewhere,\n",
            "see the ideas at\n",
            "https://cran.r-project.org/doc/manuals/r-patched/R-admin.html#Installing-packages”\n",
            "Installing package into ‘/usr/local/lib/R/site-library’\n",
            "(as ‘lib’ is unspecified)\n",
            "\n",
            "Installing package into ‘/usr/local/lib/R/site-library’\n",
            "(as ‘lib’ is unspecified)\n",
            "\n",
            "also installing the dependency ‘plogr’\n",
            "\n",
            "\n",
            "Installing package into ‘/usr/local/lib/R/site-library’\n",
            "(as ‘lib’ is unspecified)\n",
            "\n"
          ]
        }
      ]
    },
    {
      "cell_type": "code",
      "execution_count": 1,
      "metadata": {
        "colab": {
          "base_uri": "https://localhost:8080/"
        },
        "id": "ohy4torjkZq2",
        "outputId": "5f4c128d-2099-4ac2-c5fd-aa9d129ccb2a"
      },
      "outputs": [
        {
          "output_type": "stream",
          "name": "stderr",
          "text": [
            "Linking to GEOS 3.10.2, GDAL 3.4.3, PROJ 8.2.1; sf_use_s2() is TRUE\n",
            "\n",
            "Loading required package: sp\n",
            "\n",
            "The legacy packages maptools, rgdal, and rgeos, underpinning the sp package,\n",
            "which was just loaded, will retire in October 2023.\n",
            "Please refer to R-spatial evolution reports for details, especially\n",
            "https://r-spatial.org/r/2023/05/15/evolution4.html.\n",
            "It may be desirable to make the sf package available;\n",
            "package maintainers should consider adding sf to Suggests:.\n",
            "The sp package is now running under evolution status 2\n",
            "     (status 2 uses the sf package in place of rgdal)\n",
            "\n"
          ]
        }
      ],
      "source": [
        "library(ggplot2)\n",
        "library(sf)\n",
        "library(magrittr)\n",
        "library(data.table)\n",
        "library(raster)\n",
        "library(exactextractr)\n",
        "library(googledrive)\n",
        "library(DBI)"
      ]
    },
    {
      "cell_type": "code",
      "source": [
        "# while(TRUE){}"
      ],
      "metadata": {
        "id": "neOkVr_mkd8m"
      },
      "execution_count": 2,
      "outputs": []
    },
    {
      "cell_type": "code",
      "source": [
        "# drive_deauth()\n",
        "# drive_auth(use_oob = TRUE, cache = FALSE)"
      ],
      "metadata": {
        "id": "hVkqfgfpnel2"
      },
      "execution_count": 3,
      "outputs": []
    },
    {
      "cell_type": "code",
      "source": [
        "# GEDI data\n",
        "# https://drive.google.com/file/d/14jTxo28D2bsC68EpVsbSaY7SpYM5MIA4/view?usp=drive_link\n",
        "\n",
        "# Landtrendr data\n",
        "# https://drive.google.com/file/d/1FrN1tUojGV80f3kDtmezsFsvLabIoGiW/view?usp=drive_link\n",
        "\n",
        "# HUC 8\n",
        "# https://drive.google.com/file/d/1r6CIYLOy01N8B1jc7Hr8AJUkA0jPXp9z/view?usp=drive_link\n",
        "\n",
        "# HUC 10\n",
        "# https://drive.google.com/file/d/1m86VWKw3nys-oY931eq9dC6xv0cEfs4a/view?usp=drive_link\n",
        "\n",
        "# HUC 12\n",
        "# https://drive.google.com/file/d/18ayVCWhBkP1Tb_wrWgPJea8vaWEiPgOL/view?usp=drive_link\n",
        "\n",
        "# GEDI vectorized by YOD, Queen's rule.\n",
        "# https://drive.google.com/file/d/1miOMqCh081yceVUfVVOL5JtxpKUgBO-2/view?usp=drive_link"
      ],
      "metadata": {
        "id": "O3df1Ii3npf3"
      },
      "execution_count": 4,
      "outputs": []
    },
    {
      "cell_type": "code",
      "source": [
        "drive_download(file = as_id('1FrN1tUojGV80f3kDtmezsFsvLabIoGiW'), path =  '/content/HJA_LandTrendr_84_23.tif', overwrite = FALSE)"
      ],
      "metadata": {
        "colab": {
          "base_uri": "https://localhost:8080/"
        },
        "id": "LUX0iDBQo3bB",
        "outputId": "648276e9-a071-477f-95cd-16fc0ceb9247"
      },
      "execution_count": 5,
      "outputs": [
        {
          "output_type": "stream",
          "name": "stderr",
          "text": [
            "Please point your browser to the following url: \n",
            "\n",
            "https://accounts.google.com/o/oauth2/v2/auth?client_id=603366585132-frjlouoa3s2ono25d2l9ukvhlsrlnr7k.apps.googleusercontent.com&scope=https%3A%2F%2Fwww.googleapis.com%2Fauth%2Fdrive%20https%3A%2F%2Fwww.googleapis.com%2Fauth%2Fuserinfo.email&redirect_uri=https%3A%2F%2Fwww.tidyverse.org%2Fgoogle-callback%2F&response_type=code&state=77f590801ba0d71fe1badd1b35982a9d&access_type=offline&prompt=consent\n",
            "\n"
          ]
        },
        {
          "name": "stdout",
          "output_type": "stream",
          "text": [
            "Enter authorization code: eyJjb2RlIjoiNC8wQWRldTVCVkJCUHQ3VTZab2d2WmtPM0NKUXNqZ2Q2MFRMUE1GNmJVTTI5VWo1Mm1PNnoyQTFvbHlUY1ZuNWd3bzFGUEgxUSIsInN0YXRlIjoiNzdmNTkwODAxYmEwZDcxZmUxYmFkZDFiMzU5ODJhOWQifQ==\n"
          ]
        },
        {
          "output_type": "stream",
          "name": "stderr",
          "text": [
            "File downloaded:\n",
            "\n",
            "• \u001b[36mHJA_LandTrendr_84_23_2.tif\u001b[39m \u001b[90m<id: 1FrN1tUojGV80f3kDtmezsFsvLabIoGiW>\u001b[39m\n",
            "\n",
            "Saved locally as:\n",
            "\n",
            "• \u001b[34m/content/HJA_LandTrendr_84_23.tif\u001b[39m\n",
            "\n"
          ]
        }
      ]
    },
    {
      "cell_type": "code",
      "source": [
        "drive_download(file = as_id('14jTxo28D2bsC68EpVsbSaY7SpYM5MIA4'), path =  '/content/HJA_gedi.gpkg', overwrite = TRUE)"
      ],
      "metadata": {
        "id": "p6BrSHZVpEnI",
        "outputId": "8bab96bb-6708-4d0a-e552-91d5e6c273f0",
        "colab": {
          "base_uri": "https://localhost:8080/"
        }
      },
      "execution_count": 6,
      "outputs": [
        {
          "output_type": "stream",
          "name": "stderr",
          "text": [
            "File downloaded:\n",
            "\n",
            "• \u001b[36mHJA_GEDI_4.gpkg\u001b[39m \u001b[90m<id: 14jTxo28D2bsC68EpVsbSaY7SpYM5MIA4>\u001b[39m\n",
            "\n",
            "Saved locally as:\n",
            "\n",
            "• \u001b[34m/content/HJA_gedi.gpkg\u001b[39m\n",
            "\n"
          ]
        }
      ]
    },
    {
      "cell_type": "code",
      "source": [
        "drive_download(file = as_id('1r6CIYLOy01N8B1jc7Hr8AJUkA0jPXp9z'), path =  '/content/huc_8.gpkg', overwrite = TRUE)\n",
        "drive_download(file = as_id('1m86VWKw3nys-oY931eq9dC6xv0cEfs4a'), path =  '/content/huc_10.gpkg', overwrite = TRUE)\n",
        "drive_download(file = as_id('18ayVCWhBkP1Tb_wrWgPJea8vaWEiPgOL'), path =  '/content/huc_12.gpkg', overwrite = TRUE)"
      ],
      "metadata": {
        "id": "FCrU4s8erbks",
        "outputId": "d9071b49-41ab-4036-984e-cb16cefdad07",
        "colab": {
          "base_uri": "https://localhost:8080/"
        }
      },
      "execution_count": 7,
      "outputs": [
        {
          "output_type": "stream",
          "name": "stderr",
          "text": [
            "File downloaded:\n",
            "\n",
            "• \u001b[36mWBDHU8.gpkg\u001b[39m \u001b[90m<id: 1r6CIYLOy01N8B1jc7Hr8AJUkA0jPXp9z>\u001b[39m\n",
            "\n",
            "Saved locally as:\n",
            "\n",
            "• \u001b[34m/content/huc_8.gpkg\u001b[39m\n",
            "\n",
            "File downloaded:\n",
            "\n",
            "• \u001b[36mWBDHU10.gpkg\u001b[39m \u001b[90m<id: 1m86VWKw3nys-oY931eq9dC6xv0cEfs4a>\u001b[39m\n",
            "\n",
            "Saved locally as:\n",
            "\n",
            "• \u001b[34m/content/huc_10.gpkg\u001b[39m\n",
            "\n",
            "File downloaded:\n",
            "\n",
            "• \u001b[36mWBDHU12.gpkg\u001b[39m \u001b[90m<id: 18ayVCWhBkP1Tb_wrWgPJea8vaWEiPgOL>\u001b[39m\n",
            "\n",
            "Saved locally as:\n",
            "\n",
            "• \u001b[34m/content/huc_12.gpkg\u001b[39m\n",
            "\n"
          ]
        }
      ]
    },
    {
      "cell_type": "code",
      "source": [
        "# https://drive.google.com/file/d/1miOMqCh081yceVUfVVOL5JtxpKUgBO-2/view?usp=drive_link\n",
        "drive_download(file = as_id('1miOMqCh081yceVUfVVOL5JtxpKUgBO-2'), path =  '/content/gedi_vector.gpkg', overwrite = TRUE)"
      ],
      "metadata": {
        "id": "N4HyYrKXpvw0",
        "outputId": "7d7027b8-5745-44ef-c794-b8f804489851",
        "colab": {
          "base_uri": "https://localhost:8080/"
        }
      },
      "execution_count": 8,
      "outputs": [
        {
          "output_type": "stream",
          "name": "stderr",
          "text": [
            "File downloaded:\n",
            "\n",
            "• \u001b[36myod_vector.gpkg\u001b[39m \u001b[90m<id: 1miOMqCh081yceVUfVVOL5JtxpKUgBO-2>\u001b[39m\n",
            "\n",
            "Saved locally as:\n",
            "\n",
            "• \u001b[34m/content/gedi_vector.gpkg\u001b[39m\n",
            "\n"
          ]
        }
      ]
    },
    {
      "cell_type": "code",
      "source": [
        "landtrendr_tif <- stack('/content/HJA_LandTrendr_84_23.tif')"
      ],
      "metadata": {
        "id": "wOk8T8AEp1Pe"
      },
      "execution_count": 9,
      "outputs": []
    },
    {
      "cell_type": "code",
      "source": [
        "gedi_vec_gpkg <- st_read('/content/gedi_vector.gpkg') %>% st_transform(st_crs('EPSG:4326'))"
      ],
      "metadata": {
        "id": "F7ZEup6Q5TAJ",
        "outputId": "5fe924be-d6d9-4bd4-9488-a43dbb436386",
        "colab": {
          "base_uri": "https://localhost:8080/"
        }
      },
      "execution_count": 10,
      "outputs": [
        {
          "output_type": "stream",
          "name": "stdout",
          "text": [
            "Multiple layers are present in data source /content/gedi_vector.gpkg, reading layer `vectorized'.\n",
            "Use `st_layers' to list all layer names and their type in a data source.\n",
            "Set the `layer' argument in `st_read' to read a particular layer.\n"
          ]
        },
        {
          "output_type": "stream",
          "name": "stderr",
          "text": [
            "Warning message in CPL_read_ogr(dsn, layer, query, as.character(options), quiet, :\n",
            "“automatically selected the first layer in a data source containing more than one.”\n"
          ]
        },
        {
          "output_type": "stream",
          "name": "stdout",
          "text": [
            "Reading layer `vectorized' from data source `/content/gedi_vector.gpkg' using driver `GPKG'\n",
            "Simple feature collection with 478987 features and 4 fields\n",
            "Geometry type: POLYGON\n",
            "Dimension:     XY\n",
            "Bounding box:  xmin: -123.6643 ymin: 43.85836 xmax: -121.7595 ymax: 44.90912\n",
            "Geodetic CRS:  WGS 84\n"
          ]
        }
      ]
    },
    {
      "cell_type": "code",
      "source": [
        "huc_8_gpgk <- st_read('/content/huc_8.gpkg') %>% st_transform(st_crs('EPSG:4326'))\n",
        "huc_10_gpgk <- st_read('/content/huc_10.gpkg')  %>% st_transform(st_crs('EPSG:4326'))\n",
        "huc_12_gpgk <- st_read('/content/huc_12.gpkg')  %>% st_transform(st_crs('EPSG:4326'))"
      ],
      "metadata": {
        "colab": {
          "base_uri": "https://localhost:8080/"
        },
        "id": "JWNfPb2OqNfJ",
        "outputId": "64be0619-794a-475f-db7e-b311ef2f0cb5"
      },
      "execution_count": 11,
      "outputs": [
        {
          "output_type": "stream",
          "name": "stdout",
          "text": [
            "Reading layer `wbdhu8_central_oregon__wdb_oregon_state_gdb__wbdhu8' from data source `/content/huc_8.gpkg' using driver `GPKG'\n",
            "Simple feature collection with 4 features and 15 fields\n",
            "Geometry type: MULTIPOLYGON\n",
            "Dimension:     XY\n",
            "Bounding box:  xmin: -123.6643 ymin: 43.85856 xmax: -121.7597 ymax: 44.90894\n",
            "Geodetic CRS:  NAD83\n",
            "Reading layer `wdb_oregon_state_gdb__wbdhu10' from data source \n",
            "  `/content/huc_10.gpkg' using driver `GPKG'\n",
            "Simple feature collection with 27 features and 17 fields\n",
            "Geometry type: MULTIPOLYGON\n",
            "Dimension:     XY\n",
            "Bounding box:  xmin: -123.6643 ymin: 43.85856 xmax: -121.7597 ymax: 44.90894\n",
            "Geodetic CRS:  NAD83\n",
            "Reading layer `wdb_oregon_state_gdb__wbdhu12' from data source \n",
            "  `/content/huc_12.gpkg' using driver `GPKG'\n",
            "Simple feature collection with 161 features and 20 fields\n",
            "Geometry type: MULTIPOLYGON\n",
            "Dimension:     XY\n",
            "Bounding box:  xmin: -123.6643 ymin: 43.85856 xmax: -121.7597 ymax: 44.90894\n",
            "Geodetic CRS:  NAD83\n"
          ]
        }
      ]
    },
    {
      "cell_type": "code",
      "source": [
        "# [# Install and load required packages\n",
        "# # install.packages(c(\"sf\", \"DBI\"))\n",
        "# library(sf)\n",
        "# library(DBI)\n",
        "\n",
        "# # Read a spatial dataset (e.g., a shapefile) into R\n",
        "# # dataset <- st_read(\"path_to_your_dataset.shp\")\n",
        "\n",
        "# # Connect to the PostgreSQL database\n",
        "# conn <- RPostgreSQL::dbConnect(\"PostgreSQL\",\n",
        "#                  dbname = \"jifesypi\",\n",
        "#                  host = \"mild-williams-pear.db.elephantsql.com\",\n",
        "#                 #  port = \"your_port\",\n",
        "#                  user = \"jifesypi\",\n",
        "#                  password = \"Qxds23zjkpIIU343-GGHNlxqFdD3Pdlr\")\n",
        "\n",
        "# # # Ensure the connection is PostGIS-enabled\n",
        "# # if (!st_is_postgis(con)) {\n",
        "# #   stop(\"The database is not PostGIS enabled!\")\n",
        "# # }\n",
        "\n",
        "# # Upload the dataset to PostgreSQL\n",
        "# # 'name' parameter determines the name of the table in the database\n",
        "# st_write(gedi_sf, conn, layer = \"hja_gedi\", delete_layer = TRUE)\n",
        "\n",
        "# # Close the database connection\n",
        "# dbDisconnect(conn)\n"
      ],
      "metadata": {
        "id": "QSEKdc8BtBLK"
      },
      "execution_count": 12,
      "outputs": []
    },
    {
      "cell_type": "code",
      "source": [
        "huc_index <- sample(1:nrow(huc_10_gpgk),1)\n",
        "plot(huc_10_gpgk[huc_index,]$geom)\n",
        "print(huc_10_gpgk[huc_index,])\n",
        "query_wkt <- st_as_text(huc_10_gpgk[huc_index,]$geom, crs = 4326, EWKT = TRUE)\n",
        "\n",
        "query_sql <- paste0(\"SELECT * FROM hja_gedi WHERE ST_Intersects(geom,'\",query_wkt,\"')\")\n",
        "# print(query_sql)\n",
        "# Connect to the PostgreSQL database\n",
        "conn <- RPostgreSQL::dbConnect(\"PostgreSQL\",\n",
        "                 dbname = \"jifesypi\",\n",
        "                 host = \"mild-williams-pear.db.elephantsql.com\",\n",
        "                #  port = \"your_port\",\n",
        "                 user = \"jifesypi\",\n",
        "                 password = \"Qxds23zjkpIIU343-GGHNlxqFdD3Pdlr\")\n",
        "\n",
        "gedi_sf <- st_read(conn,query=query_sql)\n",
        "\n",
        "dbDisconnect(conn)"
      ],
      "metadata": {
        "colab": {
          "base_uri": "https://localhost:8080/",
          "height": 720
        },
        "id": "MuVS5-4awt6_",
        "outputId": "a366ccab-b91a-4368-974b-92fe53513bfe"
      },
      "execution_count": 13,
      "outputs": [
        {
          "output_type": "stream",
          "name": "stdout",
          "text": [
            "Simple feature collection with 1 feature and 17 fields\n",
            "Geometry type: MULTIPOLYGON\n",
            "Dimension:     XY\n",
            "Bounding box:  xmin: -123.1469 ymin: 44.20937 xmax: -122.3215 ymax: 44.5276\n",
            "Geodetic CRS:  WGS 84\n",
            "   OBJECTID                                  TNMID\n",
            "26      701 {6A02F507-A232-489E-A44C-362860EF236E}\n",
            "                             MetaSourceID SourceDataDesc SourceOriginator\n",
            "26 {3FC953DC-51FF-4FE8-8A83-0725D7A39ACD}           <NA>             <NA>\n",
            "   SourceFeatureID            LoadDate GNIS_ID AreaAcres AreaSqKm States\n",
            "26            <NA> 2020-03-09 18:33:39      NA  183573.7    742.9     OR\n",
            "        HUC10                  Name HUType HUMod Shape_Length Shape_Area\n",
            "26 1709000303 Upper Calapooia River      S  <NA>     2.249951 0.08385935\n",
            "                             geom\n",
            "26 MULTIPOLYGON (((-122.9896 4...\n"
          ]
        },
        {
          "output_type": "display_data",
          "data": {
            "text/html": [
              "TRUE"
            ],
            "text/markdown": "TRUE",
            "text/latex": "TRUE",
            "text/plain": [
              "[1] TRUE"
            ]
          },
          "metadata": {}
        },
        {
          "output_type": "display_data",
          "data": {
            "text/plain": [
              "plot without title"
            ],
            "image/png": "[encoded data removed]"
          },
          "metadata": {
            "image/png": {
              "width": 420,
              "height": 420
            }
          }
        }
      ]
    },
    {
      "cell_type": "code",
      "source": [
        "gedi_dt <- gedi_sf %>% data.table\n",
        "gedi_dt %>% nrow\n",
        "gedi_dt[l4_quality_flag ==1,] %>% nrow"
      ],
      "metadata": {
        "colab": {
          "base_uri": "https://localhost:8080/",
          "height": 52
        },
        "id": "yY2m88HCvvGG",
        "outputId": "b1d156cb-481b-4625-e490-54a15e74be6b"
      },
      "execution_count": 14,
      "outputs": [
        {
          "output_type": "display_data",
          "data": {
            "text/html": [
              "344865"
            ],
            "text/markdown": "344865",
            "text/latex": "344865",
            "text/plain": [
              "[1] 344865"
            ]
          },
          "metadata": {}
        },
        {
          "output_type": "display_data",
          "data": {
            "text/html": [
              "118570"
            ],
            "text/markdown": "118570",
            "text/latex": "118570",
            "text/plain": [
              "[1] 118570"
            ]
          },
          "metadata": {}
        }
      ]
    },
    {
      "cell_type": "code",
      "source": [
        "# landtrendr_tif[landtrendr_tif < 0] <- NA"
      ],
      "metadata": {
        "id": "qDWjOzfTh3bY"
      },
      "execution_count": 15,
      "outputs": []
    },
    {
      "cell_type": "code",
      "source": [
        "gedi_dt[,geom_buffer := geom %>% st_transform('EPSG:6822') %>% st_buffer(12.5)]\n",
        "#consider 12.5"
      ],
      "metadata": {
        "id": "TSV_h0JN0HRR"
      },
      "execution_count": 16,
      "outputs": []
    },
    {
      "cell_type": "code",
      "source": [
        "landtrendr_rast <- terra::rast(landtrendr_tif)\n",
        "\n",
        "extract_dt <-\n",
        "\n",
        "gedi_dt[,geom_buffer] %>% st_as_sf %>%\n",
        "exact_extract(landtrendr_rast,.,force_df=T,c('min','max','mean','median'))"
      ],
      "metadata": {
        "colab": {
          "base_uri": "https://localhost:8080/"
        },
        "id": "UDhKDve71phw",
        "outputId": "3a5fcf12-3423-4b4b-87d8-e7125eb03c18"
      },
      "execution_count": 17,
      "outputs": [
        {
          "output_type": "stream",
          "name": "stderr",
          "text": [
            "Warning message in .local(x, y, ...):\n",
            "“Polygons transformed to raster CRS (EPSG:NA)”\n"
          ]
        },
        {
          "output_type": "stream",
          "name": "stdout",
          "text": [
            "  |======================================================================| 100%\n"
          ]
        }
      ]
    },
    {
      "cell_type": "code",
      "source": [
        "summary_dt <- data.table(gedi_dt,extract_dt[,names(extract_dt) %>% strsplit('[.]') %>% lapply(function(x){x[[1]]}) %>% unlist %>% order])"
      ],
      "metadata": {
        "id": "WVn5AfpeaWhT"
      },
      "execution_count": 18,
      "outputs": []
    },
    {
      "cell_type": "code",
      "source": [
        "summary_dt$agbd[summary_dt$agbd<0] <- NA"
      ],
      "metadata": {
        "id": "NYY1NJgNjEa0"
      },
      "execution_count": 19,
      "outputs": []
    },
    {
      "cell_type": "code",
      "source": [
        "delta_time_to_timestamp <- function(delta_time) {\n",
        "  # Define the reference date\n",
        "  reference_date <- as.POSIXct(\"2018-01-01 00:00:00\", tz = \"UTC\")\n",
        "\n",
        "  # Add the delta_time (in seconds) to the reference date\n",
        "  timestamp <- reference_date + delta_time\n",
        "\n",
        "  return(timestamp)\n",
        "}"
      ],
      "metadata": {
        "id": "62u1dwPjE95t"
      },
      "execution_count": 20,
      "outputs": []
    },
    {
      "cell_type": "code",
      "source": [
        "summary_dt$year <- delta_time_to_timestamp(summary_dt$delta_time) %>% format(\"%Y\")"
      ],
      "metadata": {
        "id": "S7alGTwPCIwz"
      },
      "execution_count": 21,
      "outputs": []
    },
    {
      "cell_type": "code",
      "source": [
        "# summary_dt[,group:=as.integer(cut((median.preval-median.mag)/median.preval, breaks = quantile((median.preval[!is.na(agbd) & median.preval > 0]-median.mag[!is.na(agbd) & median.preval > 0])/median.preval[!is.na(agbd) & median.preval > 0], probs = seq(0, 1, by = 1/3)), labels = FALSE, include.lowest = TRUE)) ]\n",
        "# summary_dt$group <- NA\n",
        "# summary_dt[!is.na(agbd) & median.preval > 0, group := kmeans(((median.preval - median.mag) / median.preval)[.I], centers = 4)$cluster]"
      ],
      "metadata": {
        "id": "Fc_rzdmhmkcM"
      },
      "execution_count": 22,
      "outputs": []
    },
    {
      "cell_type": "code",
      "source": [],
      "metadata": {
        "id": "lEHJpuylaVOr"
      },
      "execution_count": 23,
      "outputs": []
    },
    {
      "cell_type": "code",
      "source": [
        "year_off <- 1\n",
        "\n",
        "agbd_preval_lm <-\n",
        "summary_dt[l4_quality_flag ==1 & min.yod>1984 & round(min.yod) == (year %>% as.numeric-year_off) & round(max.yod) == (year %>% as.numeric-year_off),][,agbd_group:= round(min.preval,-1)][,agbd_group:= round(min.preval,-2)][,mag_group:= round(min.mag,-2)][,yod_group:= round(2023 - min.yod)][,list(min.preval = mean(mean.preval,na.rm=T),min.mag= mean(mean.mag,na.rm=T),agbd= mean(agbd,na.rm=T)),by=c('agbd_group','mag_group','yod_group')][,min.endval:=(min.preval-min.mag)] %>%\n",
        "  lm(agbd~min.endval,.)\n",
        "\n",
        "summary_dt$agbd_postval <- predict(agbd_preval_lm,summary_dt[,min.endval:=(min.preval-min.mag)])\n",
        "summary_dt[min.preval ==0]$agbd_postval <-NA\n",
        "\n",
        "summary_dt$agbd_preval <- predict(agbd_preval_lm,summary_dt[,min.endval:=(min.preval)])\n",
        "summary_dt[min.preval ==0]$agbd_preval <-NA"
      ],
      "metadata": {
        "id": "GFZpLY_CymGX"
      },
      "execution_count": 24,
      "outputs": []
    },
    {
      "cell_type": "code",
      "source": [
        "fire_history_gpkg <- st_read('/content/Fire_History_polygon.gpkg')"
      ],
      "metadata": {
        "id": "cO4ekD-fmhva",
        "outputId": "21c60329-71bf-433f-fb1b-26eac6ed3a28",
        "colab": {
          "base_uri": "https://localhost:8080/"
        }
      },
      "execution_count": 26,
      "outputs": [
        {
          "output_type": "stream",
          "name": "stdout",
          "text": [
            "Reading layer `buffered' from data source `/content/Fire_History_polygon.gpkg' using driver `GPKG'\n",
            "Simple feature collection with 6858 features and 23 fields\n",
            "Geometry type: MULTIPOLYGON\n",
            "Dimension:     XY\n",
            "Bounding box:  xmin: -13860290 ymin: 5106055 xmax: -12951640 ymax: 6304889\n",
            "Projected CRS: WGS 84 / Pseudo-Mercator\n"
          ]
        }
      ]
    },
    {
      "cell_type": "code",
      "source": [
        "fire_history_gpkg <- fire_history_gpkg %>% st_cast('POLYGON')"
      ],
      "metadata": {
        "id": "pyosdJnBad9u",
        "outputId": "1974ffe9-ffb9-4b64-d79a-46423f4d3004",
        "colab": {
          "base_uri": "https://localhost:8080/"
        }
      },
      "execution_count": 27,
      "outputs": [
        {
          "output_type": "stream",
          "name": "stderr",
          "text": [
            "Warning message in st_cast.sf(., \"POLYGON\"):\n",
            "“repeating attributes for all sub-geometries for which they may not be constant”\n"
          ]
        }
      ]
    },
    {
      "cell_type": "code",
      "source": [
        "fire_history_int <- summary_dt %>% st_as_sf %>% st_intersects(fire_history_gpkg %>% st_transform(st_crs(summary_dt$geom)))"
      ],
      "metadata": {
        "id": "dvstL_1Pc7Io"
      },
      "execution_count": 28,
      "outputs": []
    },
    {
      "cell_type": "code",
      "source": [
        "(fire_history_int %>% unlist)[1:5]"
      ],
      "metadata": {
        "id": "ybCO9BCjdKl8",
        "outputId": "95b44993-a51f-4bfd-fb98-3470238c1b29",
        "colab": {
          "base_uri": "https://localhost:8080/",
          "height": 34
        }
      },
      "execution_count": 29,
      "outputs": [
        {
          "output_type": "display_data",
          "data": {
            "text/html": [
              "<style>\n",
              ".list-inline {list-style: none; margin:0; padding: 0}\n",
              ".list-inline>li {display: inline-block}\n",
              ".list-inline>li:not(:last-child)::after {content: \"\\00b7\"; padding: 0 .5ex}\n",
              "</style>\n",
              "<ol class=list-inline><li>7337</li><li>7337</li><li>7337</li><li>7337</li><li>7337</li></ol>\n"
            ],
            "text/markdown": "1. 7337\n2. 7337\n3. 7337\n4. 7337\n5. 7337\n\n\n",
            "text/latex": "\\begin{enumerate*}\n\\item 7337\n\\item 7337\n\\item 7337\n\\item 7337\n\\item 7337\n\\end{enumerate*}\n",
            "text/plain": [
              "[1] 7337 7337 7337 7337 7337"
            ]
          },
          "metadata": {}
        }
      ]
    },
    {
      "cell_type": "code",
      "source": [
        "huc_8_int <- summary_dt %>% st_as_sf %>% st_intersects(huc_8_gpgk)\n",
        "\n",
        "huc_10_int <- summary_dt %>% st_as_sf %>% st_intersects(huc_10_gpgk)\n",
        "\n",
        "huc_12_int <- summary_dt %>% st_as_sf %>% st_intersects(huc_12_gpgk)"
      ],
      "metadata": {
        "id": "jewVgANZyuUp"
      },
      "execution_count": 30,
      "outputs": []
    },
    {
      "cell_type": "code",
      "source": [
        "fire_history_gpkg %>% data.table %>% head %>% names\n"
      ],
      "metadata": {
        "id": "sgvQk7F2rCQw",
        "outputId": "e6c489f7-86d4-431f-8620-59adb5fff8f0",
        "colab": {
          "base_uri": "https://localhost:8080/",
          "height": 86
        }
      },
      "execution_count": 31,
      "outputs": [
        {
          "output_type": "display_data",
          "data": {
            "text/html": [
              "<style>\n",
              ".list-inline {list-style: none; margin:0; padding: 0}\n",
              ".list-inline>li {display: inline-block}\n",
              ".list-inline>li:not(:last-child)::after {content: \"\\00b7\"; padding: 0 .5ex}\n",
              "</style>\n",
              "<ol class=list-inline><li>'OBJECTID'</li><li>'UNIT_ID'</li><li>'FIRE_NUM'</li><li>'FIRE_CODE'</li><li>'FIRE_NAME'</li><li>'FIRE_YEAR'</li><li>'COMPLEX_NAME'</li><li>'INC_ID'</li><li>'WFMI_ID'</li><li>'BLM_ORG_CD'</li><li>'FIRE_DSCRV_DATE'</li><li>'CAUSE_CAT'</li><li>'CAUSE_DET'</li><li>'CLASSIFIER'</li><li>'COORD_SRC'</li><li>'COORD_DATE'</li><li>'ACCURACY_FT'</li><li>'COMMENTS'</li><li>'TOT_ACRES_RPTD'</li><li>'GIS_ACRES'</li><li>'GLOBALID'</li><li>'SHAPE_Length'</li><li>'SHAPE_Area'</li><li>'geom'</li></ol>\n"
            ],
            "text/markdown": "1. 'OBJECTID'\n2. 'UNIT_ID'\n3. 'FIRE_NUM'\n4. 'FIRE_CODE'\n5. 'FIRE_NAME'\n6. 'FIRE_YEAR'\n7. 'COMPLEX_NAME'\n8. 'INC_ID'\n9. 'WFMI_ID'\n10. 'BLM_ORG_CD'\n11. 'FIRE_DSCRV_DATE'\n12. 'CAUSE_CAT'\n13. 'CAUSE_DET'\n14. 'CLASSIFIER'\n15. 'COORD_SRC'\n16. 'COORD_DATE'\n17. 'ACCURACY_FT'\n18. 'COMMENTS'\n19. 'TOT_ACRES_RPTD'\n20. 'GIS_ACRES'\n21. 'GLOBALID'\n22. 'SHAPE_Length'\n23. 'SHAPE_Area'\n24. 'geom'\n\n\n",
            "text/latex": "\\begin{enumerate*}\n\\item 'OBJECTID'\n\\item 'UNIT\\_ID'\n\\item 'FIRE\\_NUM'\n\\item 'FIRE\\_CODE'\n\\item 'FIRE\\_NAME'\n\\item 'FIRE\\_YEAR'\n\\item 'COMPLEX\\_NAME'\n\\item 'INC\\_ID'\n\\item 'WFMI\\_ID'\n\\item 'BLM\\_ORG\\_CD'\n\\item 'FIRE\\_DSCRV\\_DATE'\n\\item 'CAUSE\\_CAT'\n\\item 'CAUSE\\_DET'\n\\item 'CLASSIFIER'\n\\item 'COORD\\_SRC'\n\\item 'COORD\\_DATE'\n\\item 'ACCURACY\\_FT'\n\\item 'COMMENTS'\n\\item 'TOT\\_ACRES\\_RPTD'\n\\item 'GIS\\_ACRES'\n\\item 'GLOBALID'\n\\item 'SHAPE\\_Length'\n\\item 'SHAPE\\_Area'\n\\item 'geom'\n\\end{enumerate*}\n",
            "text/plain": [
              " [1] \"OBJECTID\"        \"UNIT_ID\"         \"FIRE_NUM\"        \"FIRE_CODE\"      \n",
              " [5] \"FIRE_NAME\"       \"FIRE_YEAR\"       \"COMPLEX_NAME\"    \"INC_ID\"         \n",
              " [9] \"WFMI_ID\"         \"BLM_ORG_CD\"      \"FIRE_DSCRV_DATE\" \"CAUSE_CAT\"      \n",
              "[13] \"CAUSE_DET\"       \"CLASSIFIER\"      \"COORD_SRC\"       \"COORD_DATE\"     \n",
              "[17] \"ACCURACY_FT\"     \"COMMENTS\"        \"TOT_ACRES_RPTD\"  \"GIS_ACRES\"      \n",
              "[21] \"GLOBALID\"        \"SHAPE_Length\"    \"SHAPE_Area\"      \"geom\"           "
            ]
          },
          "metadata": {}
        }
      ]
    },
    {
      "cell_type": "code",
      "source": [
        "fire_summary_dt <- data.table(summary_dt, (fire_history_gpkg %>% data.table)[,c('FIRE_NUM','FIRE_CODE','FIRE_NAME','FIRE_YEAR')][fire_history_int %>% lapply(function(x){x[1]}) %>% unlist,])\n"
      ],
      "metadata": {
        "id": "Y7YpelbKqvp4"
      },
      "execution_count": 32,
      "outputs": []
    },
    {
      "cell_type": "code",
      "source": [
        "fire_summary_dt$FIRE_YEAR %>% table"
      ],
      "metadata": {
        "id": "2yraBkoHrbMT",
        "outputId": "83927096-07d5-467b-f435-1f0760374bbe",
        "colab": {
          "base_uri": "https://localhost:8080/",
          "height": 70
        }
      },
      "execution_count": 33,
      "outputs": [
        {
          "output_type": "display_data",
          "data": {
            "text/plain": [
              ".\n",
              " 2020 \n",
              "27559 "
            ]
          },
          "metadata": {}
        }
      ]
    },
    {
      "cell_type": "code",
      "source": [
        "# huc_8_summary_dt"
      ],
      "metadata": {
        "id": "l7PC-ctcq3lq"
      },
      "execution_count": 34,
      "outputs": []
    },
    {
      "cell_type": "code",
      "source": [
        "huc_8_summary_dt <- data.table(summary_dt, (huc_8_gpgk %>% data.table)[,c('TNMID','HUC8','Name')][huc_8_int %>% lapply(function(x){x[1]}) %>% unlist,])\n",
        "huc_10_summary_dt <- data.table(summary_dt, (huc_10_gpgk %>% data.table)[,c('TNMID','HUC10','Name')][huc_10_int %>% lapply(function(x){x[1]}) %>% unlist,])\n",
        "huc_12_summary_dt <- data.table(summary_dt, (huc_12_gpgk %>% data.table)[,c('TNMID','HUC12','Name')][huc_12_int %>% lapply(function(x){x[1]}) %>% unlist,])"
      ],
      "metadata": {
        "id": "iOz_SsQsyvv8"
      },
      "execution_count": 35,
      "outputs": []
    },
    {
      "cell_type": "code",
      "source": [
        "# # resample_dt[,agbd := rnorm(1,agbd,agbd_se),by=row_id]\n",
        "# # gc()\n",
        "# resamp_vec <-\n",
        "# 1:nrow(resample_dt) %>%\n",
        "#   lapply(function(x){\n",
        "#     if(!is.na())\n",
        "#     rnorm(1,resample_dt$agbd[[x]],resample_dt$agbd_sd[[x]])\n",
        "#   })\n",
        "resample_dt <- NULL\n",
        "gc()"
      ],
      "metadata": {
        "id": "pYI05ddv2IVy",
        "outputId": "f7e30780-0df7-4ff0-9529-274f985dd7d5",
        "colab": {
          "base_uri": "https://localhost:8080/",
          "height": 129
        }
      },
      "execution_count": 36,
      "outputs": [
        {
          "output_type": "display_data",
          "data": {
            "text/html": [
              "<table class=\"dataframe\">\n",
              "<caption>A matrix: 2 × 6 of type dbl</caption>\n",
              "<thead>\n",
              "\t<tr><th></th><th scope=col>used</th><th scope=col>(Mb)</th><th scope=col>gc trigger</th><th scope=col>(Mb)</th><th scope=col>max used</th><th scope=col>(Mb)</th></tr>\n",
              "</thead>\n",
              "<tbody>\n",
              "\t<tr><th scope=row>Ncells</th><td> 27391566</td><td>1462.9</td><td>  48413647</td><td>2585.6</td><td> 42239289</td><td>2255.9</td></tr>\n",
              "\t<tr><th scope=row>Vcells</th><td>659197567</td><td>5029.3</td><td>1074444344</td><td>8197.4</td><td>664032389</td><td>5066.2</td></tr>\n",
              "</tbody>\n",
              "</table>\n"
            ],
            "text/markdown": "\nA matrix: 2 × 6 of type dbl\n\n| <!--/--> | used | (Mb) | gc trigger | (Mb) | max used | (Mb) |\n|---|---|---|---|---|---|---|\n| Ncells |  27391566 | 1462.9 |   48413647 | 2585.6 |  42239289 | 2255.9 |\n| Vcells | 659197567 | 5029.3 | 1074444344 | 8197.4 | 664032389 | 5066.2 |\n\n",
            "text/latex": "A matrix: 2 × 6 of type dbl\n\\begin{tabular}{r|llllll}\n  & used & (Mb) & gc trigger & (Mb) & max used & (Mb)\\\\\n\\hline\n\tNcells &  27391566 & 1462.9 &   48413647 & 2585.6 &  42239289 & 2255.9\\\\\n\tVcells & 659197567 & 5029.3 & 1074444344 & 8197.4 & 664032389 & 5066.2\\\\\n\\end{tabular}\n",
            "text/plain": [
              "       used      (Mb)   gc trigger (Mb)   max used  (Mb)  \n",
              "Ncells  27391566 1462.9   48413647 2585.6  42239289 2255.9\n",
              "Vcells 659197567 5029.3 1074444344 8197.4 664032389 5066.2"
            ]
          },
          "metadata": {}
        }
      ]
    },
    {
      "cell_type": "code",
      "source": [
        "summary_dt[,group_quantile:=as.integer(cut(agbd_postval, breaks = quantile(agbd_postval[!is.na(agbd) & median.preval > 0], probs = seq(0, 1, by = 1/3),na.rm=T), labels = FALSE, include.lowest = TRUE)) ]\n",
        "summary_dt$group <- NA\n",
        "# summary_dt[!is.na(agbd) & median.preval > 0, group_quantile := kmeans(((median.preval - median.mag) / median.preval)[.I], centers = 4)$cluster]\n",
        "\n",
        "\n",
        "\n",
        "summary_dt$group <- NA\n",
        "summary_dt[!is.na(agbd_postval), group := kmeans((agbd_postval)[.I], centers = 3)$cluster]\n",
        "\n",
        "\n",
        "cluster_dt <- summary_dt[!is.na(agbd) & median.preval > 0,list(agbd_postval = mean(agbd_postval)),by=group][order(agbd_postval)]\n",
        "cluster_dt$group_new <- 1:nrow(cluster_dt)\n",
        "cluster_dt <- cluster_dt[order(group)]\n",
        "# print(cluster_dt)\n",
        "summary_dt$group <- cluster_dt$group_new[summary_dt$group]\n",
        "\n",
        "summary_dt[,list(agbd_postval = mean(agbd_postval),n = length(agbd_postval)),by=group_quantile][order(agbd_postval)]\n",
        "\n",
        "summary_dt[,list(agbd_postval = mean(agbd_postval),n = length(agbd_postval)),by=group][order(agbd_postval)]"
      ],
      "metadata": {
        "id": "S-SATZn8zk19",
        "outputId": "d5257e83-2fc9-42d4-f6f4-ff6ee2f91fc7",
        "colab": {
          "base_uri": "https://localhost:8080/",
          "height": 422
        }
      },
      "execution_count": 37,
      "outputs": [
        {
          "output_type": "stream",
          "name": "stderr",
          "text": [
            "Warning message in `[.data.table`(summary_dt, !is.na(agbd_postval), `:=`(group, :\n",
            "“3 (type 'integer') at RHS position 1 taken as TRUE when assigning to type 'logical' (column 47 named 'group')”\n"
          ]
        },
        {
          "output_type": "display_data",
          "data": {
            "text/html": [
              "<table class=\"dataframe\">\n",
              "<caption>A data.table: 4 × 3</caption>\n",
              "<thead>\n",
              "\t<tr><th scope=col>group_quantile</th><th scope=col>agbd_postval</th><th scope=col>n</th></tr>\n",
              "\t<tr><th scope=col>&lt;int&gt;</th><th scope=col>&lt;dbl&gt;</th><th scope=col>&lt;int&gt;</th></tr>\n",
              "</thead>\n",
              "<tbody>\n",
              "\t<tr><td> 1</td><td> 70.60618</td><td> 28968</td></tr>\n",
              "\t<tr><td> 2</td><td> 93.36006</td><td> 28483</td></tr>\n",
              "\t<tr><td> 3</td><td>114.51982</td><td> 28702</td></tr>\n",
              "\t<tr><td>NA</td><td>       NA</td><td>258712</td></tr>\n",
              "</tbody>\n",
              "</table>\n"
            ],
            "text/markdown": "\nA data.table: 4 × 3\n\n| group_quantile &lt;int&gt; | agbd_postval &lt;dbl&gt; | n &lt;int&gt; |\n|---|---|---|\n|  1 |  70.60618 |  28968 |\n|  2 |  93.36006 |  28483 |\n|  3 | 114.51982 |  28702 |\n| NA |        NA | 258712 |\n\n",
            "text/latex": "A data.table: 4 × 3\n\\begin{tabular}{lll}\n group\\_quantile & agbd\\_postval & n\\\\\n <int> & <dbl> & <int>\\\\\n\\hline\n\t  1 &  70.60618 &  28968\\\\\n\t  2 &  93.36006 &  28483\\\\\n\t  3 & 114.51982 &  28702\\\\\n\t NA &        NA & 258712\\\\\n\\end{tabular}\n",
            "text/plain": [
              "  group_quantile agbd_postval n     \n",
              "1  1              70.60618     28968\n",
              "2  2              93.36006     28483\n",
              "3  3             114.51982     28702\n",
              "4 NA                    NA    258712"
            ]
          },
          "metadata": {}
        },
        {
          "output_type": "display_data",
          "data": {
            "text/html": [
              "<table class=\"dataframe\">\n",
              "<caption>A data.table: 2 × 3</caption>\n",
              "<thead>\n",
              "\t<tr><th scope=col>group</th><th scope=col>agbd_postval</th><th scope=col>n</th></tr>\n",
              "\t<tr><th scope=col>&lt;int&gt;</th><th scope=col>&lt;dbl&gt;</th><th scope=col>&lt;int&gt;</th></tr>\n",
              "</thead>\n",
              "<tbody>\n",
              "\t<tr><td> 1</td><td>82.34576</td><td>     1</td></tr>\n",
              "\t<tr><td>NA</td><td>      NA</td><td>344864</td></tr>\n",
              "</tbody>\n",
              "</table>\n"
            ],
            "text/markdown": "\nA data.table: 2 × 3\n\n| group &lt;int&gt; | agbd_postval &lt;dbl&gt; | n &lt;int&gt; |\n|---|---|---|\n|  1 | 82.34576 |      1 |\n| NA |       NA | 344864 |\n\n",
            "text/latex": "A data.table: 2 × 3\n\\begin{tabular}{lll}\n group & agbd\\_postval & n\\\\\n <int> & <dbl> & <int>\\\\\n\\hline\n\t  1 & 82.34576 &      1\\\\\n\t NA &       NA & 344864\\\\\n\\end{tabular}\n",
            "text/plain": [
              "  group agbd_postval n     \n",
              "1  1    82.34576          1\n",
              "2 NA          NA     344864"
            ]
          },
          "metadata": {}
        }
      ]
    },
    {
      "cell_type": "code",
      "source": [
        "install.packages('randomForest')"
      ],
      "metadata": {
        "id": "ktLhWRVBWofl",
        "outputId": "0c44a339-c29b-4684-c744-ee8e14f9141e",
        "colab": {
          "base_uri": "https://localhost:8080/"
        }
      },
      "execution_count": 38,
      "outputs": [
        {
          "output_type": "stream",
          "name": "stderr",
          "text": [
            "Installing package into ‘/usr/local/lib/R/site-library’\n",
            "(as ‘lib’ is unspecified)\n",
            "\n"
          ]
        }
      ]
    },
    {
      "cell_type": "code",
      "source": [
        "library(randomForest)"
      ],
      "metadata": {
        "id": "ou99rvW2WmRt",
        "outputId": "164b9cc7-fb74-4dff-c4b7-90aad47bb716",
        "colab": {
          "base_uri": "https://localhost:8080/"
        }
      },
      "execution_count": 39,
      "outputs": [
        {
          "output_type": "stream",
          "name": "stderr",
          "text": [
            "randomForest 4.7-1.1\n",
            "\n",
            "Type rfNews() to see new features/changes/bug fixes.\n",
            "\n",
            "\n",
            "Attaching package: ‘randomForest’\n",
            "\n",
            "\n",
            "The following object is masked from ‘package:ggplot2’:\n",
            "\n",
            "    margin\n",
            "\n",
            "\n"
          ]
        }
      ]
    },
    {
      "cell_type": "code",
      "source": [
        "calibration_dt[,group_quantile:=as.integer(cut(mean.preval-mean.mag, breaks = quantile((mean.preval-mean.mag)[!is.na(agbd) & median.preval > 0], probs = seq(0, 1, by = 1/3),na.rm=T), labels = FALSE, include.lowest = TRUE))  %>%as.factor()]\n",
        "\n",
        "calibration_dt %>%\n",
        "  ggplot(aes(x = mean.preval-mean.mag,y=agbd))+\n",
        "  geom_point(aes(color=group_quantile))"
      ],
      "metadata": {
        "id": "icMSSOV1X2Rr",
        "outputId": "f472bc5d-7ce1-4872-bbf7-549effbc90fe",
        "colab": {
          "base_uri": "https://localhost:8080/",
          "height": 107
        }
      },
      "execution_count": 40,
      "outputs": [
        {
          "output_type": "error",
          "ename": "ERROR",
          "evalue": "ignored",
          "traceback": [
            "Error in eval(expr, envir, enclos): object 'calibration_dt' not found\nTraceback:\n"
          ]
        }
      ]
    },
    {
      "cell_type": "code",
      "source": [
        "calibration_dt <- resample_dt[min.yod>1984 & !is.na(agbd) ,]\n",
        "calibration_dt$id <- 1:nrow(calibration_dt)\n",
        "calibration_dt[,post_val := mean(mean.preval - mean.mag),by = id]\n",
        "# calibration_dt[,group_quantile:=as.integer(cut(agbd, breaks = quantile(agbd, probs = seq(0, 1, by = 1/3),na.rm=T), labels = FALSE, include.lowest = TRUE)) %>% factor ]\n",
        "# calibration_dt[,agbd_quantile:=as.integer(cut(agbd, breaks = quantile(agbd, probs = seq(0, 1, by = 1/3),na.rm=T), labels = FALSE, include.lowest = TRUE)) %>% factor ]\n",
        "# calibration_dt[,postval_quantile:=as.integer(cut(mean.preval - mean.mag, breaks = quantile(mean.preval - mean.mag, probs = seq(0, 1, by = 1/3),na.rm=T), labels = FALSE, include.lowest = TRUE)) %>% factor ]\n",
        "\n",
        "\n",
        "# calibration_dt %>%\n",
        "#   ggplot(aes(x=agbd))+\n",
        "#   geom_boxplot(aes(color=postval_quantile))\n",
        "# names(calibration_dt)\n",
        "# rf_form <- as.formula(paste('group_quantile ~',c('post_val',(calibration_dt %>% names)[18:41]) %>% paste(.,collapse = '+')))\n",
        "# resample_dt$id <- 1:nrow(resample_dt)\n",
        "\n",
        "# resample_dt[,agbd_quantile:=as.integer(cut(agbd, breaks = quantile(agbd, probs = seq(0, 1, by = 1/3),na.rm=T), labels = FALSE, include.lowest = TRUE)) %>% factor ]\n",
        "# resample_dt[,postval_quantile:=as.integer(cut(mean.preval - mean.mag, breaks = quantile(mean.preval - mean.mag, probs = seq(0, 1, by = 1/3),na.rm=T), labels = FALSE, include.lowest = TRUE)) %>% factor ]\n",
        "\n",
        "# resample_dt[,post_val := mean(mean.preval - mean.mag),by = id]\n",
        "# rf_result <-  randomForest(rf_form,resample_dt[min.yod>1984 & !is.na(agbd)])\n"
      ],
      "metadata": {
        "id": "_3MjrahgsDKj",
        "outputId": "9bffee54-b3c5-40c6-a0eb-bf8c6734feae",
        "colab": {
          "base_uri": "https://localhost:8080/",
          "height": 107
        }
      },
      "execution_count": 41,
      "outputs": [
        {
          "output_type": "error",
          "ename": "ERROR",
          "evalue": "ignored",
          "traceback": [
            "Error in eval(expr, envir, enclos): object 'min.yod' not found\nTraceback:\n"
          ]
        }
      ]
    },
    {
      "cell_type": "code",
      "source": [
        "while(TRUE){}"
      ],
      "metadata": {
        "id": "XoAKNT-0JuCv"
      },
      "execution_count": null,
      "outputs": []
    },
    {
      "cell_type": "code",
      "source": [
        "post_gedi_dt %>%head"
      ],
      "metadata": {
        "id": "aevTfUHjonTI"
      },
      "execution_count": null,
      "outputs": []
    },
    {
      "cell_type": "code",
      "source": [
        "resample_dt[,group:=as.integer(cut(agbd, breaks = quantile(agbd, probs = seq(0, 1, by = 1/3),na.rm=T), labels = FALSE, include.lowest = TRUE)),by = .(round(median.yod/5)*5)]\n",
        "\n",
        "# table(resample_dt$group,round(resample_dt$median.yod /1)*1)"
      ],
      "metadata": {
        "id": "L7YPi2xuJt9J"
      },
      "execution_count": null,
      "outputs": []
    },
    {
      "cell_type": "code",
      "source": [
        "fire_summary_dt$gedi_era <-  fire_summary_dt$min.yod > min(fire_summary_dt$year %>% as.numeric)\n",
        "\n",
        "fire_summary_dt$post_gedi <-  (fire_summary_dt$year %>% as.numeric) - fire_summary_dt$mean.yod\n",
        "\n",
        "# fire_summary_dt$pre_gedi <-"
      ],
      "metadata": {
        "id": "onLPiWaTtaCZ"
      },
      "execution_count": null,
      "outputs": []
    },
    {
      "cell_type": "code",
      "source": [
        "post_gedi_dt <- fire_summary_dt[l4_quality_flag ==1 & min.yod>1984 & gedi_era  ]\n",
        "post_gedi_dt[agbd >0 &year %>% as.numeric == round(mean.yod+1) |year %>% as.numeric == round(mean.yod+1) | year %>% as.numeric == round(mean.yod+2)| year %>% as.numeric == round(mean.yod+3)| year %>% as.numeric == round(mean.yod+4)| year %>% as.numeric == round(mean.yod+5)]    %>%\n",
        "  ggplot(aes(y=agbd,x=mean.preval-mean.mag))+\n",
        "  geom_bin2d()+\n",
        "  geom_smooth(method='lm')"
      ],
      "metadata": {
        "id": "vC1GxTOqvcjm"
      },
      "execution_count": null,
      "outputs": []
    },
    {
      "cell_type": "code",
      "source": [
        "fire_summary_dt$gedi_era %>% table"
      ],
      "metadata": {
        "id": "up0OQLwBue38"
      },
      "execution_count": null,
      "outputs": []
    },
    {
      "cell_type": "code",
      "source": [
        "# 1:1000\n",
        "resample_dt <- fire_summary_dt\n",
        "# resample_dt <- fire_summary_dt[min.yod>1984 & !is.na(agbd) & is.na(FIRE_YEAR) & l4_quality_flag ==1 &min.endval>0]\n",
        "\n",
        "# resample_dt %>% head\n",
        "\n",
        "\n",
        "# agbd_preval_lm <-resample_dt[] %>%\n",
        "#   lm(agbd~min.endval,.)\n",
        "\n",
        "# agbd_preval_lm %>% summary\n",
        "\n",
        "resample_dt$agbd_postval <- predict(agbd_preval_lm,resample_dt[,min.endval:=(min.preval-min.mag)])\n",
        "resample_dt$agbd_preval <- predict(agbd_preval_lm,resample_dt[,min.endval:=(min.preval)])\n",
        "\n",
        "# min.yod>1984 & round(min.yod) %in% c(round(year %>% as.numeric)-c(1,2)) &  round(max.yod) %in% c(round(year%>% as.numeric)-c(1,2))\n",
        "resample_dt[,min.endval:=(min.preval-min.mag)]\n",
        "# resample_dt$min.endval\n",
        "# # resample_dt$agbd_postval\n",
        "# # resample_dt[,agbd_postval:=mean(agbd[min.yod>1984 & round(min.yod) %in% c(round(year %>% as.numeric)+c(1,2)) &  round(max.yod) %in% c(round(year%>% as.numeric)+c(1,2))],na.rm=T),by = group]\n",
        "# # resample_dt[,agbd_preval:=mean(agbd[min.yod>1984 & round(min.yod) %in% c(round(year %>% as.numeric)+c(1,2)) &  round(max.yod) %in% c(round(year%>% as.numeric)+c(1,2))],na.rm=T),by = group]\n",
        "resample_dt[,group:=as.integer(cut(agbd, breaks = quantile(agbd, probs = seq(0, 1, by = 1/3),na.rm=T), labels = FALSE, include.lowest = TRUE)) ]\n",
        "\n",
        "resample_dt[,group_agbd_preval:=mean(agbd[min.yod>1984 & round(mean.yod) %in% c(round(year %>% as.numeric)+c(1,2,3))],na.rm=T) ,by=group]\n",
        "\n",
        "resample_dt[,group_agbd_postval:=mean(agbd[min.yod>1984 & round(mean.yod) < round(year %>% as.numeric) ],na.rm=T) ,by=group]\n",
        "\n",
        "\n",
        "plot_dt <- resample_dt[min.yod>1984 &l4_quality_flag ==1,][,yod_round := round(mean.yod)][,list(agbd = mean(agbd,na.rm=T),yad = mean(2023-mean.yod),group_agbd_preval=mean(group_agbd_preval,na.rm=T),group_agbd_postval=mean(group_agbd_postval,na.rm=T),n = length(mean.yod)),by = .(group,yod_round)][yad>1]\n",
        "\n",
        "\n",
        "plot_dt[,agbd_yr:=(agbd/yad),by=group]\n",
        "\n",
        "plot_dt[order(yad),agbd_yr_cumsum := cumsum(agbd/yad)-group_agbd_postval,by = group]\n",
        "\n",
        "# summary_dt[,group_quantile:=as.integer(cut(agbd_postval, breaks = quantile(agbd_postval[!is.na(agbd) & median.preval > 0], probs = seq(0, 1, by = 1/3),na.rm=T), labels = FALSE, include.lowest = TRUE)) ]\n",
        "# summary_dt$group <- NA\n",
        "# # summary_dt[!is.na(agbd) & median.preval > 0, group_quantile := kmeans(((median.preval - median.mag) / median.preval)[.I], centers = 4)$cluster]\n",
        "\n",
        "\n",
        "\n",
        "# summary_dt$group <- NA\n",
        "# summary_dt[!is.na(agbd_postval), group := kmeans((agbd_postval)[.I], centers = 3)$cluster]\n",
        "\n",
        "\n",
        "# cluster_dt <- summary_dt[!is.na(agbd) & median.preval > 0,list(agbd_postval = mean(agbd_postval)),by=group][order(agbd_postval)]\n",
        "# cluster_dt$group_new <- 1:nrow(cluster_dt)\n",
        "# cluster_dt <- cluster_dt[order(group)]\n",
        "# # print(cluster_dt)\n",
        "# summary_dt$group <- cluster_dt$group_new[summary_dt$group]\n",
        "\n",
        "# summary_dt[,list(agbd_postval = mean(agbd_postval),n = length(agbd_postval)),by=group_quantile][order(agbd_postval)]\n",
        "\n",
        "# summary_dt[,list(agbd_postval = mean(agbd_postval),n = length(agbd_postval)),by=group][order(agbd_postval)]\n",
        "\n",
        "plot_dt$yod %>% max\n",
        "\n",
        "plot_dt %>%\n",
        "\n",
        "ggplot(aes(x=yad,y=agbd_yr,group=group))+\n",
        "\n",
        "geom_point()+\n",
        "\n",
        "geom_smooth(aes(color=group))\n",
        "\n",
        "\n",
        "# plot_dt %>%\n",
        "# ggplot(aes(x=yad,y=agbd_yr_cumsum,group=group_quantile))+\n",
        "# geom_point()+\n",
        "# geom_line(aes(color=group_quantile))\n",
        "# geom_smooth(data=pred_dt,aes(),color='red')"
      ],
      "metadata": {
        "id": "_X_pF4TT9vRB",
        "colab": {
          "base_uri": "https://localhost:8080/",
          "height": 578
        },
        "outputId": "02bb1b1a-f5b0-462a-86c4-02693391ef89"
      },
      "execution_count": 44,
      "outputs": [
        {
          "output_type": "stream",
          "name": "stderr",
          "text": [
            "Warning message in round(year %>% as.numeric) + c(1, 2, 3):\n",
            "“longer object length is not a multiple of shorter object length”\n",
            "Warning message in round(year %>% as.numeric) + c(1, 2, 3):\n",
            "“longer object length is not a multiple of shorter object length”\n",
            "Warning message in round(year %>% as.numeric) + c(1, 2, 3):\n",
            "“longer object length is not a multiple of shorter object length”\n"
          ]
        },
        {
          "output_type": "display_data",
          "data": {
            "text/html": [
              "2022"
            ],
            "text/markdown": "2022",
            "text/latex": "2022",
            "text/plain": [
              "[1] 2022"
            ]
          },
          "metadata": {}
        },
        {
          "output_type": "stream",
          "name": "stderr",
          "text": [
            "\u001b[1m\u001b[22m`geom_smooth()` using method = 'loess' and formula = 'y ~ x'\n"
          ]
        },
        {
          "output_type": "display_data",
          "data": {
            "text/plain": [
              "plot without title"
            ],
            "image/png": "[encoded data removed]"
          },
          "metadata": {
            "image/png": {
              "width": 420,
              "height": 420
            }
          }
        }
      ]
    },
    {
      "cell_type": "code",
      "source": [
        "gedi_vec_gpkg$area <- st_area(gedi_vec_gpkg)\n",
        "\n",
        "summary_dt$gedi_clust <- st_intersects(summary_dt$geom,gedi_vec_gpkg) %>% lapply(function(x){x[1]}) %>% unlist\n",
        "summary_dt$gedi_clust_area <- gedi_vec_gpkg$area[summary_dt$gedi_clust]"
      ],
      "metadata": {
        "id": "W-VRWy919p2O"
      },
      "execution_count": null,
      "outputs": []
    },
    {
      "cell_type": "code",
      "source": [
        "summary_dt[min.yod > 1984 & agbd>0 &l4_quality_flag ==1,] %>%\n",
        "  ggplot(aes(y=(agbd - agbd_preval)/(2023-max.yod),x=max.yod,group=group))+\n",
        "  geom_point() +\n",
        "  # geom_line(aes(color=group))+\n",
        "  geom_smooth(aes(color=group))"
      ],
      "metadata": {
        "id": "ooqmNof1AuNl"
      },
      "execution_count": null,
      "outputs": []
    },
    {
      "cell_type": "code",
      "source": [
        "huc_8_int <- summary_dt %>% st_as_sf %>% st_intersects(huc_8_gpgk)\n",
        "\n",
        "huc_10_int <- summary_dt %>% st_as_sf %>% st_intersects(huc_10_gpgk)\n",
        "\n",
        "huc_12_int <- summary_dt %>% st_as_sf %>% st_intersects(huc_12_gpgk)"
      ],
      "metadata": {
        "id": "ioGSIgshMojf"
      },
      "execution_count": null,
      "outputs": []
    },
    {
      "cell_type": "code",
      "source": [
        "huc_8_summary_dt <- data.table(summary_dt, (huc_8_gpgk %>% data.table)[,c('TNMID','HUC8','Name')][huc_8_int %>% lapply(function(x){x[1]}) %>% unlist,])\n",
        "huc_10_summary_dt <- data.table(summary_dt, (huc_10_gpgk %>% data.table)[,c('TNMID','HUC10','Name')][huc_10_int %>% lapply(function(x){x[1]}) %>% unlist,])\n",
        "huc_12_summary_dt <- data.table(summary_dt, (huc_12_gpgk %>% data.table)[,c('TNMID','HUC12','Name')][huc_12_int %>% lapply(function(x){x[1]}) %>% unlist,])"
      ],
      "metadata": {
        "id": "Oh3ejwKJOF8z"
      },
      "execution_count": null,
      "outputs": []
    },
    {
      "cell_type": "code",
      "source": [
        "targ_dt <- huc_10_summary_dt[Name == 'Thomas Creek' & group ==1]\n",
        "\n",
        "loess_dt <- huc_10_summary_dt[min.yod>1984 &agbd>0 ,][,yod_round := round(mean.yod)][,list(agbd = mean(agbd-agbd_preval,na.rm=T),yad = mean(2023-mean.yod),n = length(mean.yod)),by = .(group,Name,yod_round)][yad>3]\n",
        "\n",
        "huc_10_summary_dt[,yad := 2023-mean.yod]\n",
        "targ_dt$agbd_pred <-\n",
        "predict(loess_dt[Name == 'Thomas Creek' & group == 1] %>%\n",
        "  loess(agbd~yad,.), targ_dt)"
      ],
      "metadata": {
        "id": "rHcRc44CoZUB"
      },
      "execution_count": null,
      "outputs": []
    },
    {
      "cell_type": "code",
      "source": [
        "targ_dt[yad>3,] %>%\n",
        "  ggplot(aes(x=agbd_pred-agbd))+\n",
        "  geom_histogram(bins=100)"
      ],
      "metadata": {
        "id": "VHXKFI43qb6o"
      },
      "execution_count": null,
      "outputs": []
    },
    {
      "cell_type": "code",
      "source": [
        "targ_dt[yad>3,] %>% st_as_sf() %>% st_write('/content/example.gpkg')"
      ],
      "metadata": {
        "id": "zTczNC-psVkZ"
      },
      "execution_count": null,
      "outputs": []
    },
    {
      "cell_type": "code",
      "source": [
        "huc_10_dist_table <- huc_10_summary_dt$Name %>% table\n",
        "huc_10_summary_dt <- huc_10_summary_dt[Name %in% c(huc_10_dist_table[huc_10_dist_table>100] %>% names),]\n",
        "\n",
        "huc_10_summary_dt[,group:=as.integer(cut((median.preval-median.mag)/median.preval, breaks = quantile((median.preval[!is.na(agbd) & median.preval > 0]-median.mag[!is.na(agbd) & median.preval > 0])/median.preval[!is.na(agbd) & median.preval > 0], probs = seq(0, 1, by = 0.25)), labels = FALSE, include.lowest = TRUE)) ,by = 'Name']\n",
        "\n",
        "\n",
        "\n",
        "fit <- loess(y ~ x)\n",
        "predictions <- predict(fit, newdata = data.frame(x = x))\n",
        "\n",
        "huc_10_summary_dt[min.yod>1984 &agbd>0 ,][,yod_round := round(mean.yod)][,list(agbd = mean(agbd-agbd_preval,na.rm=T),yad = mean(2023-mean.yod),n = length(mean.yod)),by = .(group,Name,yod_round)][yad>3] %>%\n",
        "ggplot(aes(x=yad,y=(floor(agbd))/ceiling(yad),group=group))+\n",
        "geom_point()+\n",
        "geom_smooth(aes(color=group)) +\n",
        "facet_wrap(Name~.)\n"
      ],
      "metadata": {
        "id": "uR3Sr08MgzjT"
      },
      "execution_count": null,
      "outputs": []
    },
    {
      "cell_type": "code",
      "source": [
        "huc_12_dist_table <- huc_12_summary_dt$Name %>% table\n",
        "huc_12_summary_dt <- huc_12_summary_dt[Name %in% c(huc_12_dist_table[huc_12_dist_table>100] %>% names),]\n",
        "\n",
        "huc_12_summary_dt[,group:=as.integer(cut((median.preval-median.mag)/median.preval, breaks = quantile((median.preval[!is.na(agbd) & median.preval > 0]-median.mag[!is.na(agbd) & median.preval > 0])/median.preval[!is.na(agbd) & median.preval > 0], probs = seq(0, 1, by = 0.25)), labels = FALSE, include.lowest = TRUE)) ,by = 'Name']\n",
        "\n",
        "\n",
        "\n",
        "\n",
        "\n",
        "huc_12_summary_dt[min.yod>1984 &agbd>0 ,][,yod_round := round(mean.yod)][,list(agbd = mean(agbd-agbd_preval,na.rm=T),yad = mean(2023-mean.yod),n = length(mean.yod)),by = .(group,Name,yod_round)][yad>3] %>%\n",
        "ggplot(aes(x=yad,y=(floor(agbd))/ceiling(yad),group=group))+\n",
        "geom_point()+\n",
        "geom_smooth(aes(color=group)) +\n",
        "facet_wrap(Name~.)"
      ],
      "metadata": {
        "id": "SCNJ9gdGk68j"
      },
      "execution_count": null,
      "outputs": []
    }
  ]
}
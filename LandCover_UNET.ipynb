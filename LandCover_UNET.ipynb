{
  "nbformat": 4,
  "nbformat_minor": 0,
  "metadata": {
    "colab": {
      "provenance": [],
      "machine_shape": "hm",
      "gpuType": "A100",
      "authorship_tag": "ABX9TyMtg4bOZcNQk8L3iENRA3E3",
      "include_colab_link": true
    },
    "kernelspec": {
      "name": "python3",
      "display_name": "Python 3"
    },
    "language_info": {
      "name": "python"
    },
    "accelerator": "GPU"
  },
  "cells": [
    {
      "cell_type": "markdown",
      "metadata": {
        "id": "view-in-github",
        "colab_type": "text"
      },
      "source": [
        "<a href=\"https://colab.research.google.com/github/seismosmsr/machine_learning/blob/main/LandCover_UNET.ipynb\" target=\"_parent\"><img src=\"https://colab.research.google.com/assets/colab-badge.svg\" alt=\"Open In Colab\"/></a>"
      ]
    },
    {
      "cell_type": "code",
      "execution_count": 1,
      "metadata": {
        "colab": {
          "base_uri": "https://localhost:8080/"
        },
        "id": "_OzYtqdUkAzL",
        "outputId": "40bac30c-22d5-4ba5-d83c-5e7d078dfcbf"
      },
      "outputs": [
        {
          "output_type": "stream",
          "name": "stdout",
          "text": [
            "Mounted at /content/drive\n"
          ]
        }
      ],
      "source": [
        "from google.colab import drive\n",
        "drive.mount('/content/drive')\n"
      ]
    },
    {
      "cell_type": "code",
      "source": [
        "!pip install rasterio scikit-image tensorflow keras gdown\n"
      ],
      "metadata": {
        "colab": {
          "base_uri": "https://localhost:8080/"
        },
        "id": "LR60G0YWkCUR",
        "outputId": "18800930-1485-49e4-a39c-044aacae319b"
      },
      "execution_count": 2,
      "outputs": [
        {
          "output_type": "stream",
          "name": "stdout",
          "text": [
            "Looking in indexes: https://pypi.org/simple, https://us-python.pkg.dev/colab-wheels/public/simple/\n",
            "Collecting rasterio\n",
            "  Downloading rasterio-1.3.7-cp310-cp310-manylinux_2_17_x86_64.manylinux2014_x86_64.whl (21.3 MB)\n",
            "\u001b[2K     \u001b[90m━━━━━━━━━━━━━━━━━━━━━━━━━━━━━━━━━━━━━━━━\u001b[0m \u001b[32m21.3/21.3 MB\u001b[0m \u001b[31m81.5 MB/s\u001b[0m eta \u001b[36m0:00:00\u001b[0m\n",
            "\u001b[?25hRequirement already satisfied: scikit-image in /usr/local/lib/python3.10/dist-packages (0.19.3)\n",
            "Requirement already satisfied: tensorflow in /usr/local/lib/python3.10/dist-packages (2.12.0)\n",
            "Requirement already satisfied: keras in /usr/local/lib/python3.10/dist-packages (2.12.0)\n",
            "Requirement already satisfied: gdown in /usr/local/lib/python3.10/dist-packages (4.6.6)\n",
            "Collecting affine (from rasterio)\n",
            "  Downloading affine-2.4.0-py3-none-any.whl (15 kB)\n",
            "Requirement already satisfied: attrs in /usr/local/lib/python3.10/dist-packages (from rasterio) (23.1.0)\n",
            "Requirement already satisfied: certifi in /usr/local/lib/python3.10/dist-packages (from rasterio) (2022.12.7)\n",
            "Requirement already satisfied: click>=4.0 in /usr/local/lib/python3.10/dist-packages (from rasterio) (8.1.3)\n",
            "Collecting cligj>=0.5 (from rasterio)\n",
            "  Downloading cligj-0.7.2-py3-none-any.whl (7.1 kB)\n",
            "Requirement already satisfied: numpy>=1.18 in /usr/local/lib/python3.10/dist-packages (from rasterio) (1.22.4)\n",
            "Collecting snuggs>=1.4.1 (from rasterio)\n",
            "  Downloading snuggs-1.4.7-py3-none-any.whl (5.4 kB)\n",
            "Collecting click-plugins (from rasterio)\n",
            "  Downloading click_plugins-1.1.1-py2.py3-none-any.whl (7.5 kB)\n",
            "Requirement already satisfied: setuptools in /usr/local/lib/python3.10/dist-packages (from rasterio) (67.7.2)\n",
            "Requirement already satisfied: scipy>=1.4.1 in /usr/local/lib/python3.10/dist-packages (from scikit-image) (1.10.1)\n",
            "Requirement already satisfied: networkx>=2.2 in /usr/local/lib/python3.10/dist-packages (from scikit-image) (3.1)\n",
            "Requirement already satisfied: pillow!=7.1.0,!=7.1.1,!=8.3.0,>=6.1.0 in /usr/local/lib/python3.10/dist-packages (from scikit-image) (8.4.0)\n",
            "Requirement already satisfied: imageio>=2.4.1 in /usr/local/lib/python3.10/dist-packages (from scikit-image) (2.25.1)\n",
            "Requirement already satisfied: tifffile>=2019.7.26 in /usr/local/lib/python3.10/dist-packages (from scikit-image) (2023.4.12)\n",
            "Requirement already satisfied: PyWavelets>=1.1.1 in /usr/local/lib/python3.10/dist-packages (from scikit-image) (1.4.1)\n",
            "Requirement already satisfied: packaging>=20.0 in /usr/local/lib/python3.10/dist-packages (from scikit-image) (23.1)\n",
            "Requirement already satisfied: absl-py>=1.0.0 in /usr/local/lib/python3.10/dist-packages (from tensorflow) (1.4.0)\n",
            "Requirement already satisfied: astunparse>=1.6.0 in /usr/local/lib/python3.10/dist-packages (from tensorflow) (1.6.3)\n",
            "Requirement already satisfied: flatbuffers>=2.0 in /usr/local/lib/python3.10/dist-packages (from tensorflow) (23.3.3)\n",
            "Requirement already satisfied: gast<=0.4.0,>=0.2.1 in /usr/local/lib/python3.10/dist-packages (from tensorflow) (0.4.0)\n",
            "Requirement already satisfied: google-pasta>=0.1.1 in /usr/local/lib/python3.10/dist-packages (from tensorflow) (0.2.0)\n",
            "Requirement already satisfied: grpcio<2.0,>=1.24.3 in /usr/local/lib/python3.10/dist-packages (from tensorflow) (1.54.0)\n",
            "Requirement already satisfied: h5py>=2.9.0 in /usr/local/lib/python3.10/dist-packages (from tensorflow) (3.8.0)\n",
            "Requirement already satisfied: jax>=0.3.15 in /usr/local/lib/python3.10/dist-packages (from tensorflow) (0.4.10)\n",
            "Requirement already satisfied: libclang>=13.0.0 in /usr/local/lib/python3.10/dist-packages (from tensorflow) (16.0.0)\n",
            "Requirement already satisfied: opt-einsum>=2.3.2 in /usr/local/lib/python3.10/dist-packages (from tensorflow) (3.3.0)\n",
            "Requirement already satisfied: protobuf!=4.21.0,!=4.21.1,!=4.21.2,!=4.21.3,!=4.21.4,!=4.21.5,<5.0.0dev,>=3.20.3 in /usr/local/lib/python3.10/dist-packages (from tensorflow) (3.20.3)\n",
            "Requirement already satisfied: six>=1.12.0 in /usr/local/lib/python3.10/dist-packages (from tensorflow) (1.16.0)\n",
            "Requirement already satisfied: tensorboard<2.13,>=2.12 in /usr/local/lib/python3.10/dist-packages (from tensorflow) (2.12.2)\n",
            "Requirement already satisfied: tensorflow-estimator<2.13,>=2.12.0 in /usr/local/lib/python3.10/dist-packages (from tensorflow) (2.12.0)\n",
            "Requirement already satisfied: termcolor>=1.1.0 in /usr/local/lib/python3.10/dist-packages (from tensorflow) (2.3.0)\n",
            "Requirement already satisfied: typing-extensions>=3.6.6 in /usr/local/lib/python3.10/dist-packages (from tensorflow) (4.5.0)\n",
            "Requirement already satisfied: wrapt<1.15,>=1.11.0 in /usr/local/lib/python3.10/dist-packages (from tensorflow) (1.14.1)\n",
            "Requirement already satisfied: tensorflow-io-gcs-filesystem>=0.23.1 in /usr/local/lib/python3.10/dist-packages (from tensorflow) (0.32.0)\n",
            "Requirement already satisfied: filelock in /usr/local/lib/python3.10/dist-packages (from gdown) (3.12.0)\n",
            "Requirement already satisfied: requests[socks] in /usr/local/lib/python3.10/dist-packages (from gdown) (2.27.1)\n",
            "Requirement already satisfied: tqdm in /usr/local/lib/python3.10/dist-packages (from gdown) (4.65.0)\n",
            "Requirement already satisfied: beautifulsoup4 in /usr/local/lib/python3.10/dist-packages (from gdown) (4.11.2)\n",
            "Requirement already satisfied: wheel<1.0,>=0.23.0 in /usr/local/lib/python3.10/dist-packages (from astunparse>=1.6.0->tensorflow) (0.40.0)\n",
            "Requirement already satisfied: ml-dtypes>=0.1.0 in /usr/local/lib/python3.10/dist-packages (from jax>=0.3.15->tensorflow) (0.1.0)\n",
            "Requirement already satisfied: pyparsing>=2.1.6 in /usr/local/lib/python3.10/dist-packages (from snuggs>=1.4.1->rasterio) (3.0.9)\n",
            "Requirement already satisfied: google-auth<3,>=1.6.3 in /usr/local/lib/python3.10/dist-packages (from tensorboard<2.13,>=2.12->tensorflow) (2.17.3)\n",
            "Requirement already satisfied: google-auth-oauthlib<1.1,>=0.5 in /usr/local/lib/python3.10/dist-packages (from tensorboard<2.13,>=2.12->tensorflow) (1.0.0)\n",
            "Requirement already satisfied: markdown>=2.6.8 in /usr/local/lib/python3.10/dist-packages (from tensorboard<2.13,>=2.12->tensorflow) (3.4.3)\n",
            "Requirement already satisfied: tensorboard-data-server<0.8.0,>=0.7.0 in /usr/local/lib/python3.10/dist-packages (from tensorboard<2.13,>=2.12->tensorflow) (0.7.0)\n",
            "Requirement already satisfied: tensorboard-plugin-wit>=1.6.0 in /usr/local/lib/python3.10/dist-packages (from tensorboard<2.13,>=2.12->tensorflow) (1.8.1)\n",
            "Requirement already satisfied: werkzeug>=1.0.1 in /usr/local/lib/python3.10/dist-packages (from tensorboard<2.13,>=2.12->tensorflow) (2.3.0)\n",
            "Requirement already satisfied: soupsieve>1.2 in /usr/local/lib/python3.10/dist-packages (from beautifulsoup4->gdown) (2.4.1)\n",
            "Requirement already satisfied: urllib3<1.27,>=1.21.1 in /usr/local/lib/python3.10/dist-packages (from requests[socks]->gdown) (1.26.15)\n",
            "Requirement already satisfied: charset-normalizer~=2.0.0 in /usr/local/lib/python3.10/dist-packages (from requests[socks]->gdown) (2.0.12)\n",
            "Requirement already satisfied: idna<4,>=2.5 in /usr/local/lib/python3.10/dist-packages (from requests[socks]->gdown) (3.4)\n",
            "Requirement already satisfied: PySocks!=1.5.7,>=1.5.6 in /usr/local/lib/python3.10/dist-packages (from requests[socks]->gdown) (1.7.1)\n",
            "Requirement already satisfied: cachetools<6.0,>=2.0.0 in /usr/local/lib/python3.10/dist-packages (from google-auth<3,>=1.6.3->tensorboard<2.13,>=2.12->tensorflow) (5.3.0)\n",
            "Requirement already satisfied: pyasn1-modules>=0.2.1 in /usr/local/lib/python3.10/dist-packages (from google-auth<3,>=1.6.3->tensorboard<2.13,>=2.12->tensorflow) (0.3.0)\n",
            "Requirement already satisfied: rsa<5,>=3.1.4 in /usr/local/lib/python3.10/dist-packages (from google-auth<3,>=1.6.3->tensorboard<2.13,>=2.12->tensorflow) (4.9)\n",
            "Requirement already satisfied: requests-oauthlib>=0.7.0 in /usr/local/lib/python3.10/dist-packages (from google-auth-oauthlib<1.1,>=0.5->tensorboard<2.13,>=2.12->tensorflow) (1.3.1)\n",
            "Requirement already satisfied: MarkupSafe>=2.1.1 in /usr/local/lib/python3.10/dist-packages (from werkzeug>=1.0.1->tensorboard<2.13,>=2.12->tensorflow) (2.1.2)\n",
            "Requirement already satisfied: pyasn1<0.6.0,>=0.4.6 in /usr/local/lib/python3.10/dist-packages (from pyasn1-modules>=0.2.1->google-auth<3,>=1.6.3->tensorboard<2.13,>=2.12->tensorflow) (0.5.0)\n",
            "Requirement already satisfied: oauthlib>=3.0.0 in /usr/local/lib/python3.10/dist-packages (from requests-oauthlib>=0.7.0->google-auth-oauthlib<1.1,>=0.5->tensorboard<2.13,>=2.12->tensorflow) (3.2.2)\n",
            "Installing collected packages: snuggs, cligj, click-plugins, affine, rasterio\n",
            "Successfully installed affine-2.4.0 click-plugins-1.1.1 cligj-0.7.2 rasterio-1.3.7 snuggs-1.4.7\n"
          ]
        }
      ]
    },
    {
      "cell_type": "code",
      "source": [
        "import os\n",
        "import gdown\n",
        "import zipfile\n",
        "import rasterio\n",
        "from skimage.transform import resize\n",
        "import numpy as np\n",
        "from tensorflow import keras\n",
        "from tensorflow.keras import layers\n",
        "import random\n",
        "from keras.utils import to_categorical"
      ],
      "metadata": {
        "id": "ZaTY93f9kDxy"
      },
      "execution_count": 3,
      "outputs": []
    },
    {
      "cell_type": "code",
      "source": [
        "# Download the dataset\n",
        "url = 'https://drive.google.com/uc?id=1f4eGmykyiczmNz2VPeNNmQ7aC7q8N_hD'\n",
        "output = '/content/california_land_use.zip'\n",
        "gdown.download(url, output, quiet=False)\n",
        "\n",
        "# Extract the dataset\n",
        "cwd = os.getcwd()\n",
        "with zipfile.ZipFile(output, 'r') as zip_ref:\n",
        "    zip_ref.extractall(cwd+'/sample_data')\n"
      ],
      "metadata": {
        "colab": {
          "base_uri": "https://localhost:8080/"
        },
        "id": "UvOfZH5skF8s",
        "outputId": "ca74b2b7-51e5-4655-dfdf-ca2e08261cf1"
      },
      "execution_count": null,
      "outputs": [
        {
          "output_type": "stream",
          "name": "stderr",
          "text": [
            "Downloading...\n",
            "From: https://drive.google.com/uc?id=1f4eGmykyiczmNz2VPeNNmQ7aC7q8N_hD\n",
            "To: /content/california_land_use.zip\n",
            " 52%|█████▏    | 1.44G/2.76G [00:20<00:16, 81.3MB/s]"
          ]
        }
      ]
    },
    {
      "cell_type": "code",
      "source": [
        "# Required libraries\n",
        "import rasterio\n",
        "import numpy as np\n",
        "from tensorflow import keras\n",
        "from sklearn.model_selection import train_test_split\n",
        "import os\n",
        "import glob"
      ],
      "metadata": {
        "id": "n4iL6-A7O9oR"
      },
      "execution_count": null,
      "outputs": []
    },
    {
      "cell_type": "code",
      "source": [
        "# Loading data from geotiff files\n",
        "def load_data(directory):\n",
        "    data = []\n",
        "    files = glob.glob(os.path.join(directory, \"*.tif\"))\n",
        "    for file in files:\n",
        "        with rasterio.open(file) as src:\n",
        "            band_data = []\n",
        "            for band in src.read():\n",
        "                band_data.append(band)\n",
        "            data.append(np.dstack(band_data))\n",
        "    \n",
        "    return np.array(data)"
      ],
      "metadata": {
        "id": "rdqwV3yRO-p7"
      },
      "execution_count": null,
      "outputs": []
    },
    {
      "cell_type": "code",
      "source": [
        "def load_and_reshape_image(image_path, img_height, img_width):\n",
        "    with rasterio.open(image_path) as src:\n",
        "        # Read the image data\n",
        "        image = src.read()\n",
        "        # Reshape the image\n",
        "        image = image.transpose((1, 2, 0))\n",
        "        # Resize image if necessary\n",
        "        if image.shape[0] != img_height or image.shape[1] != img_width:\n",
        "            image = cv2.resize(image, (img_width, img_height), interpolation=cv2.INTER_NEAREST)\n",
        "        # Ensure labels do not have an extra channel dimension\n",
        "        if len(image.shape) == 3 and image.shape[2] == 1:\n",
        "            image = np.squeeze(image, axis=2)\n",
        "        return image"
      ],
      "metadata": {
        "id": "E1pu0sBVgv2h"
      },
      "execution_count": null,
      "outputs": []
    },
    {
      "cell_type": "code",
      "source": [
        "def load_images_and_labels(image_files, label_files, img_height, img_width, num_classes):\n",
        "  images = []\n",
        "  labels = []\n",
        "\n",
        "  image_files = glob.glob(os.path.join(image_files, \"*.tif\"))\n",
        "  for image_file in image_files:\n",
        "      image = load_and_reshape_image(image_file, img_height, img_width)\n",
        "      images.append(image)\n",
        "\n",
        "  label_files = glob.glob(os.path.join(label_files, \"*.tif\"))\n",
        "  for label_file in label_files:\n",
        "      label = load_and_reshape_image(label_file, img_height, img_width)\n",
        "      label -= 1  # adjust labels to be in the range 0-8 instead of 1-9\n",
        "      label = to_categorical(label, num_classes=9)   # one-hot encode the labels\n",
        "      labels.append(label)\n",
        "\n",
        "  return np.array(images), np.array(labels)\n",
        "\n"
      ],
      "metadata": {
        "id": "64_MmtZcgOmM"
      },
      "execution_count": null,
      "outputs": []
    },
    {
      "cell_type": "code",
      "source": [
        "X, y = load_images_and_labels('/content/sample_data/training/rgbNIR/', '/content/sample_data/training/labels/', 640, 640,num_classes =9)\n",
        "\n",
        "# Split into training and testing sets\n",
        "X_train, X_test, y_train, y_test = train_test_split(X, y, test_size=0.2, random_state=42)"
      ],
      "metadata": {
        "id": "qZf0FPCZPASg"
      },
      "execution_count": 140,
      "outputs": []
    },
    {
      "cell_type": "code",
      "source": [
        "# # Model parameters\n",
        "# img_height = X_train.shape[1]  # replace these with the dimensions of your images\n",
        "# img_width = X_train.shape[2]\n",
        "# n_bands = X_train.shape[3]\n",
        "# output_channels = y_train.shape[3]\n"
      ],
      "metadata": {
        "id": "zORNvWw1PCjs"
      },
      "execution_count": 121,
      "outputs": []
    },
    {
      "cell_type": "code",
      "source": [
        "# n_bands"
      ],
      "metadata": {
        "id": "7qY3--SuPOXY"
      },
      "execution_count": 122,
      "outputs": []
    },
    {
      "cell_type": "code",
      "source": [
        "# img_size + (3,)"
      ],
      "metadata": {
        "id": "y7lD4Ed1QqBi"
      },
      "execution_count": 123,
      "outputs": []
    },
    {
      "cell_type": "code",
      "source": [
        "def create_model(img_size, num_classes):\n",
        "    inputs = keras.Input(shape=img_size)  # Change the number of channels to 4\n",
        "\n",
        "    # Entry block\n",
        "    x = layers.Conv2D(32, 3, strides=2, padding=\"same\")(inputs)\n",
        "    x = layers.BatchNormalization()(x)\n",
        "    x = layers.Activation(\"relu\")(x)\n",
        "\n",
        "    previous_block_activation = x  # Set aside residual\n",
        "\n",
        "    # Blocks 1, 2, 3 are identical apart from the feature depth.\n",
        "    for filters in [64, 128, 256]:\n",
        "        x = layers.Activation(\"relu\")(x)\n",
        "        x = layers.SeparableConv2D(filters, 3, padding=\"same\")(x)\n",
        "        x = layers.BatchNormalization()(x)\n",
        "\n",
        "        x = layers.Activation(\"relu\")(x)\n",
        "        x = layers.SeparableConv2D(filters, 3, padding=\"same\")(x)\n",
        "        x = layers.BatchNormalization()(x)\n",
        "\n",
        "        x = layers.MaxPooling2D(3, strides=2, padding=\"same\")(x)\n",
        "\n",
        "        # Project residual\n",
        "        residual = layers.Conv2D(filters, 1, strides=2, padding=\"same\")(\n",
        "            previous_block_activation\n",
        "        )\n",
        "        x = layers.add([x, residual])  # Add back residual\n",
        "        previous_block_activation = x  # Set aside next residual\n",
        "\n",
        "    for filters in [256, 128, 64, 32]:\n",
        "        x = layers.Activation(\"relu\")(x)\n",
        "        x = layers.Conv2DTranspose(filters, 3, padding=\"same\")(x)\n",
        "        x = layers.BatchNormalization()(x)\n",
        "\n",
        "        x = layers.Activation(\"relu\")(x)\n",
        "        x = layers.Conv2DTranspose(filters, 3, padding=\"same\")(x)\n",
        "        x = layers.BatchNormalization()(x)\n",
        "\n",
        "        x = layers.UpSampling2D(2)(x)\n",
        "\n",
        "        residual = layers.UpSampling2D(2)(previous_block_activation)\n",
        "        residual = layers.Conv2D(filters, 1, padding=\"same\")(residual)\n",
        "        x = layers.add([x, residual])  # Add back residual\n",
        "        previous_block_activation = x  # Set aside next residual\n",
        "\n",
        "    # Add a per-pixel classification layer\n",
        "    outputs = layers.Conv2D(num_classes, 3, activation=\"softmax\", padding=\"same\")(x)\n",
        "\n",
        "    # Define the model\n",
        "    model = keras.Model(inputs, outputs)\n",
        "    model.compile(optimizer=\"adam\", loss='categorical_crossentropy', metrics=['accuracy'])  # Use sparse categorical cross-entropy loss\n",
        "    return model\n"
      ],
      "metadata": {
        "id": "eLx0z59VPD8T"
      },
      "execution_count": 146,
      "outputs": []
    },
    {
      "cell_type": "code",
      "source": [
        "model = create_model(img_size = (640,640,3),num_classes =9)"
      ],
      "metadata": {
        "id": "lUA1fVZ0PE7M"
      },
      "execution_count": 147,
      "outputs": []
    },
    {
      "cell_type": "code",
      "source": [
        "# Train the model\n",
        "model.fit(X_train, y_train, validation_data=(X_test, y_test), batch_size=16, epochs=50)"
      ],
      "metadata": {
        "colab": {
          "base_uri": "https://localhost:8080/"
        },
        "id": "eA01SHvOQ1gJ",
        "outputId": "3824bdbf-8615-4700-bc46-ad5732536468"
      },
      "execution_count": 148,
      "outputs": [
        {
          "output_type": "stream",
          "name": "stdout",
          "text": [
            "Epoch 1/50\n",
            "6/6 [==============================] - 17s 504ms/step - loss: 4.4731 - accuracy: 0.5446 - val_loss: 47.2190 - val_accuracy: 0.0124\n",
            "Epoch 2/50\n",
            "6/6 [==============================] - 2s 284ms/step - loss: 1.8402 - accuracy: 0.6979 - val_loss: 134.4627 - val_accuracy: 0.0025\n",
            "Epoch 3/50\n",
            "6/6 [==============================] - 2s 293ms/step - loss: 1.2094 - accuracy: 0.6715 - val_loss: 7.4014 - val_accuracy: 0.2286\n",
            "Epoch 4/50\n",
            "6/6 [==============================] - 2s 285ms/step - loss: 0.9126 - accuracy: 0.7334 - val_loss: 8.1328 - val_accuracy: 0.1433\n",
            "Epoch 5/50\n",
            "6/6 [==============================] - 2s 279ms/step - loss: 0.7436 - accuracy: 0.7515 - val_loss: 3.3124 - val_accuracy: 0.6958\n",
            "Epoch 6/50\n",
            "6/6 [==============================] - 2s 278ms/step - loss: 0.7871 - accuracy: 0.7323 - val_loss: 1.9742 - val_accuracy: 0.6929\n",
            "Epoch 7/50\n",
            "6/6 [==============================] - 2s 279ms/step - loss: 0.7623 - accuracy: 0.7487 - val_loss: 1.9313 - val_accuracy: 0.7002\n",
            "Epoch 8/50\n",
            "6/6 [==============================] - 2s 278ms/step - loss: 0.6520 - accuracy: 0.7815 - val_loss: 1.8223 - val_accuracy: 0.7005\n",
            "Epoch 9/50\n",
            "6/6 [==============================] - 2s 281ms/step - loss: 0.6845 - accuracy: 0.7675 - val_loss: 1.3703 - val_accuracy: 0.6989\n",
            "Epoch 10/50\n",
            "6/6 [==============================] - 2s 279ms/step - loss: 0.6025 - accuracy: 0.7919 - val_loss: 1.3916 - val_accuracy: 0.7005\n",
            "Epoch 11/50\n",
            "6/6 [==============================] - 2s 279ms/step - loss: 0.5432 - accuracy: 0.8076 - val_loss: 1.3879 - val_accuracy: 0.7009\n",
            "Epoch 12/50\n",
            "6/6 [==============================] - 2s 279ms/step - loss: 0.5043 - accuracy: 0.8260 - val_loss: 1.4891 - val_accuracy: 0.7016\n",
            "Epoch 13/50\n",
            "6/6 [==============================] - 2s 281ms/step - loss: 0.4637 - accuracy: 0.8420 - val_loss: 1.5210 - val_accuracy: 0.7018\n",
            "Epoch 14/50\n",
            "6/6 [==============================] - 2s 281ms/step - loss: 0.4615 - accuracy: 0.8411 - val_loss: 1.4295 - val_accuracy: 0.7018\n",
            "Epoch 15/50\n",
            "6/6 [==============================] - 2s 281ms/step - loss: 0.4090 - accuracy: 0.8560 - val_loss: 1.5069 - val_accuracy: 0.7019\n",
            "Epoch 16/50\n",
            "6/6 [==============================] - 2s 278ms/step - loss: 0.4012 - accuracy: 0.8549 - val_loss: 1.5162 - val_accuracy: 0.7019\n",
            "Epoch 17/50\n",
            "6/6 [==============================] - 2s 278ms/step - loss: 0.3579 - accuracy: 0.8754 - val_loss: 1.4554 - val_accuracy: 0.7019\n",
            "Epoch 18/50\n",
            "6/6 [==============================] - 2s 279ms/step - loss: 0.3667 - accuracy: 0.8745 - val_loss: 1.4102 - val_accuracy: 0.7019\n",
            "Epoch 19/50\n",
            "6/6 [==============================] - 2s 279ms/step - loss: 0.3280 - accuracy: 0.8834 - val_loss: 1.5099 - val_accuracy: 0.7019\n",
            "Epoch 20/50\n",
            "6/6 [==============================] - 2s 278ms/step - loss: 0.3041 - accuracy: 0.8943 - val_loss: 1.4164 - val_accuracy: 0.7019\n",
            "Epoch 21/50\n",
            "6/6 [==============================] - 2s 278ms/step - loss: 0.2829 - accuracy: 0.9019 - val_loss: 1.4003 - val_accuracy: 0.7018\n",
            "Epoch 22/50\n",
            "6/6 [==============================] - 2s 279ms/step - loss: 0.2743 - accuracy: 0.9043 - val_loss: 1.3878 - val_accuracy: 0.7019\n",
            "Epoch 23/50\n",
            "6/6 [==============================] - 2s 297ms/step - loss: 0.2418 - accuracy: 0.9167 - val_loss: 1.3974 - val_accuracy: 0.7019\n",
            "Epoch 24/50\n",
            "6/6 [==============================] - 2s 285ms/step - loss: 0.2332 - accuracy: 0.9193 - val_loss: 1.5241 - val_accuracy: 0.7019\n",
            "Epoch 25/50\n",
            "6/6 [==============================] - 2s 279ms/step - loss: 0.2361 - accuracy: 0.9189 - val_loss: 1.4143 - val_accuracy: 0.7018\n",
            "Epoch 26/50\n",
            "6/6 [==============================] - 2s 283ms/step - loss: 0.2289 - accuracy: 0.9190 - val_loss: 1.3560 - val_accuracy: 0.7018\n",
            "Epoch 27/50\n",
            "6/6 [==============================] - 2s 278ms/step - loss: 0.2717 - accuracy: 0.9071 - val_loss: 1.5092 - val_accuracy: 0.7019\n",
            "Epoch 28/50\n",
            "6/6 [==============================] - 2s 283ms/step - loss: 0.2211 - accuracy: 0.9228 - val_loss: 1.2228 - val_accuracy: 0.7019\n",
            "Epoch 29/50\n",
            "6/6 [==============================] - 2s 280ms/step - loss: 0.2228 - accuracy: 0.9231 - val_loss: 1.0976 - val_accuracy: 0.6998\n",
            "Epoch 30/50\n",
            "6/6 [==============================] - 2s 279ms/step - loss: 0.3142 - accuracy: 0.8924 - val_loss: 1.7546 - val_accuracy: 0.7019\n",
            "Epoch 31/50\n",
            "6/6 [==============================] - 2s 279ms/step - loss: 0.2393 - accuracy: 0.9211 - val_loss: 1.9564 - val_accuracy: 0.7019\n",
            "Epoch 32/50\n",
            "6/6 [==============================] - 2s 279ms/step - loss: 0.2012 - accuracy: 0.9313 - val_loss: 2.1935 - val_accuracy: 0.7019\n",
            "Epoch 33/50\n",
            "6/6 [==============================] - 2s 279ms/step - loss: 0.1971 - accuracy: 0.9307 - val_loss: 2.0276 - val_accuracy: 0.7019\n",
            "Epoch 34/50\n",
            "6/6 [==============================] - 2s 286ms/step - loss: 0.1720 - accuracy: 0.9406 - val_loss: 1.8681 - val_accuracy: 0.7019\n",
            "Epoch 35/50\n",
            "6/6 [==============================] - 2s 279ms/step - loss: 0.1501 - accuracy: 0.9467 - val_loss: 1.9190 - val_accuracy: 0.7019\n",
            "Epoch 36/50\n",
            "6/6 [==============================] - 2s 279ms/step - loss: 0.1583 - accuracy: 0.9445 - val_loss: 1.7677 - val_accuracy: 0.7019\n",
            "Epoch 37/50\n",
            "6/6 [==============================] - 2s 281ms/step - loss: 0.1509 - accuracy: 0.9468 - val_loss: 1.7371 - val_accuracy: 0.7019\n",
            "Epoch 38/50\n",
            "6/6 [==============================] - 2s 287ms/step - loss: 0.1572 - accuracy: 0.9444 - val_loss: 1.6853 - val_accuracy: 0.7019\n",
            "Epoch 39/50\n",
            "6/6 [==============================] - 2s 279ms/step - loss: 0.1486 - accuracy: 0.9480 - val_loss: 1.4898 - val_accuracy: 0.7019\n",
            "Epoch 40/50\n",
            "6/6 [==============================] - 2s 281ms/step - loss: 0.1517 - accuracy: 0.9473 - val_loss: 1.5534 - val_accuracy: 0.7018\n",
            "Epoch 41/50\n",
            "6/6 [==============================] - 2s 279ms/step - loss: 0.1548 - accuracy: 0.9460 - val_loss: 1.4594 - val_accuracy: 0.7019\n",
            "Epoch 42/50\n",
            "6/6 [==============================] - 2s 280ms/step - loss: 0.1319 - accuracy: 0.9533 - val_loss: 1.3904 - val_accuracy: 0.7025\n",
            "Epoch 43/50\n",
            "6/6 [==============================] - 2s 279ms/step - loss: 0.1840 - accuracy: 0.9355 - val_loss: 1.5221 - val_accuracy: 0.7020\n",
            "Epoch 44/50\n",
            "6/6 [==============================] - 2s 280ms/step - loss: 0.2087 - accuracy: 0.9299 - val_loss: 1.2909 - val_accuracy: 0.7021\n",
            "Epoch 45/50\n",
            "6/6 [==============================] - 2s 286ms/step - loss: 0.1669 - accuracy: 0.9420 - val_loss: 1.1960 - val_accuracy: 0.7025\n",
            "Epoch 46/50\n",
            "6/6 [==============================] - 2s 284ms/step - loss: 0.1420 - accuracy: 0.9510 - val_loss: 1.1535 - val_accuracy: 0.7025\n",
            "Epoch 47/50\n",
            "6/6 [==============================] - 2s 284ms/step - loss: 0.1808 - accuracy: 0.9456 - val_loss: 1.1169 - val_accuracy: 0.6248\n",
            "Epoch 48/50\n",
            "6/6 [==============================] - 2s 285ms/step - loss: 0.4823 - accuracy: 0.8311 - val_loss: 1.2228 - val_accuracy: 0.7019\n",
            "Epoch 49/50\n",
            "6/6 [==============================] - 2s 281ms/step - loss: 0.3506 - accuracy: 0.8796 - val_loss: 1.2962 - val_accuracy: 0.7011\n",
            "Epoch 50/50\n",
            "6/6 [==============================] - 2s 281ms/step - loss: 0.3095 - accuracy: 0.8913 - val_loss: 1.2931 - val_accuracy: 0.7010\n"
          ]
        },
        {
          "output_type": "execute_result",
          "data": {
            "text/plain": [
              "<keras.callbacks.History at 0x7fca94bd9120>"
            ]
          },
          "metadata": {},
          "execution_count": 148
        }
      ]
    }
  ]
}
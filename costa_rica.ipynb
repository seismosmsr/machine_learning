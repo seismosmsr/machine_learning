{
  "nbformat": 4,
  "nbformat_minor": 0,
  "metadata": {
    "colab": {
      "provenance": [],
      "machine_shape": "hm",
      "authorship_tag": "ABX9TyNNoD0XZSZuLdTSMLOakMmk",
      "include_colab_link": true
    },
    "kernelspec": {
      "name": "ir",
      "display_name": "R"
    },
    "language_info": {
      "name": "R"
    }
  },
  "cells": [
    {
      "cell_type": "markdown",
      "metadata": {
        "id": "view-in-github",
        "colab_type": "text"
      },
      "source": [
        "<a href=\"https://colab.research.google.com/github/seismosmsr/machine_learning/blob/main/costa_rica.ipynb\" target=\"_parent\"><img src=\"https://colab.research.google.com/assets/colab-badge.svg\" alt=\"Open In Colab\"/></a>"
      ]
    },
    {
      "cell_type": "code",
      "execution_count": 1,
      "metadata": {
        "colab": {
          "base_uri": "https://localhost:8080/"
        },
        "id": "tDyuup-h5ecn",
        "outputId": "480b9786-1c62-4d9f-a08e-c1f9749dff72"
      },
      "outputs": [
        {
          "output_type": "stream",
          "name": "stderr",
          "text": [
            "Installing package into ‘/usr/local/lib/R/site-library’\n",
            "(as ‘lib’ is unspecified)\n",
            "\n",
            "also installing the dependencies ‘proxy’, ‘e1071’, ‘wk’, ‘classInt’, ‘Rcpp’, ‘s2’, ‘units’\n",
            "\n",
            "\n",
            "Installing package into ‘/usr/local/lib/R/site-library’\n",
            "(as ‘lib’ is unspecified)\n",
            "\n",
            "also installing the dependencies ‘sp’, ‘terra’\n",
            "\n",
            "\n",
            "Installing package into ‘/usr/local/lib/R/site-library’\n",
            "(as ‘lib’ is unspecified)\n",
            "\n",
            "Installing package into ‘/usr/local/lib/R/site-library’\n",
            "(as ‘lib’ is unspecified)\n",
            "\n",
            "Installing package into ‘/usr/local/lib/R/site-library’\n",
            "(as ‘lib’ is unspecified)\n",
            "\n",
            "Warning message:\n",
            "“package ‘googletoken’ is not available for this version of R\n",
            "\n",
            "A version of this package for your version of R might be available elsewhere,\n",
            "see the ideas at\n",
            "https://cran.r-project.org/doc/manuals/r-patched/R-admin.html#Installing-packages”\n",
            "Installing package into ‘/usr/local/lib/R/site-library’\n",
            "(as ‘lib’ is unspecified)\n",
            "\n",
            "Installing package into ‘/usr/local/lib/R/site-library’\n",
            "(as ‘lib’ is unspecified)\n",
            "\n",
            "also installing the dependency ‘plogr’\n",
            "\n",
            "\n",
            "Installing package into ‘/usr/local/lib/R/site-library’\n",
            "(as ‘lib’ is unspecified)\n",
            "\n",
            "Installing package into ‘/usr/local/lib/R/site-library’\n",
            "(as ‘lib’ is unspecified)\n",
            "\n",
            "Installing package into ‘/usr/local/lib/R/site-library’\n",
            "(as ‘lib’ is unspecified)\n",
            "\n"
          ]
        }
      ],
      "source": [
        "install.packages('sf')\n",
        "install.packages('raster')\n",
        "install.packages('exactextractr')\n",
        "install.packages(\"googledrive\")\n",
        "install.packages(\"googletoken\")\n",
        "install.packages(\"DBI\")\n",
        "install.packages(\"RSQLite\")\n",
        "install.packages(\"RPostgreSQL\")\n",
        "install.packages(\"terra\")\n",
        "install.packages('randomForest')"
      ]
    },
    {
      "cell_type": "code",
      "source": [
        "install.packages(\"ggalluvial\")"
      ],
      "metadata": {
        "colab": {
          "base_uri": "https://localhost:8080/"
        },
        "id": "U44-pjdkTJqE",
        "outputId": "a5c903ea-9be7-4e54-a38d-8b2bc4345d2b"
      },
      "execution_count": 2,
      "outputs": [
        {
          "output_type": "stream",
          "name": "stderr",
          "text": [
            "Installing package into ‘/usr/local/lib/R/site-library’\n",
            "(as ‘lib’ is unspecified)\n",
            "\n",
            "also installing the dependency ‘lazyeval’\n",
            "\n",
            "\n"
          ]
        }
      ]
    },
    {
      "cell_type": "code",
      "source": [
        "library(ggplot2)\n",
        "library(sf)\n",
        "library(magrittr)\n",
        "library(data.table)\n",
        "library(raster)\n",
        "library(exactextractr)\n",
        "library(googledrive)\n",
        "library(DBI)\n",
        "library(terra)\n",
        "library(randomForest)\n",
        "library(parallel)\n",
        "library(ggalluvial)"
      ],
      "metadata": {
        "id": "DwkJDheQ9W4t"
      },
      "execution_count": 5,
      "outputs": []
    },
    {
      "cell_type": "code",
      "source": [
        "drive_auth(use_oob = TRUE, cache = FALSE)"
      ],
      "metadata": {
        "colab": {
          "base_uri": "https://localhost:8080/"
        },
        "id": "NPR1D9E28X6D",
        "outputId": "ae9a5e9d-d0de-49d2-9397-bc5b60ef81cf"
      },
      "execution_count": 6,
      "outputs": [
        {
          "output_type": "stream",
          "name": "stderr",
          "text": [
            "Please point your browser to the following url: \n",
            "\n",
            "https://accounts.google.com/o/oauth2/v2/auth?client_id=603366585132-frjlouoa3s2ono25d2l9ukvhlsrlnr7k.apps.googleusercontent.com&scope=https%3A%2F%2Fwww.googleapis.com%2Fauth%2Fdrive%20https%3A%2F%2Fwww.googleapis.com%2Fauth%2Fuserinfo.email&redirect_uri=https%3A%2F%2Fwww.tidyverse.org%2Fgoogle-callback%2F&response_type=code&state=230858d7dff9ae6eb1f7c1ba9484418e&access_type=offline&prompt=consent\n",
            "\n"
          ]
        },
        {
          "name": "stdout",
          "output_type": "stream",
          "text": [
            "Enter authorization code: eyJjb2RlIjoiNC8wQWZKb2hYbXVhT044b0hodkduY0Y5V1Y0ZUc3VWFNc1NkbEtPNUkzZnVOTVllVTVlZl9BbkV0aEFWcy02MmNBUWJRdjZKdyIsInN0YXRlIjoiMjMwODU4ZDdkZmY5YWU2ZWIxZjdjMWJhOTQ4NDQxOGUifQ==\n"
          ]
        }
      ]
    },
    {
      "cell_type": "code",
      "source": [
        "# https://drive.google.com/file/d/1-2KmYPE9xX1Qw4fezrPmNGN1Ct7LQmv9/view?usp=drive_link\n",
        "drive_download(file = as_id('1-2KmYPE9xX1Qw4fezrPmNGN1Ct7LQmv9'), path =  '/content/limon_21_23.tif', overwrite = TRUE)\n",
        "limon_21_23_tif <- stack('/content/limon_21_23.tif')"
      ],
      "metadata": {
        "id": "jqjRZQ0HC6Z5"
      },
      "execution_count": 15,
      "outputs": []
    },
    {
      "cell_type": "code",
      "source": [
        "# https://drive.google.com/file/d/1--dHdDEepv7Hs3cFT3j1Faqi-jAezIyE/view?usp=sharing\n",
        "drive_download(file = as_id('1--dHdDEepv7Hs3cFT3j1Faqi-jAezIyE'), path =  '/content/limon_15_17.tif', overwrite = TRUE)\n",
        "limon_15_17_tif <- stack('/content/limon_15_17.tif')"
      ],
      "metadata": {
        "id": "uWQ-MpZLDT_h"
      },
      "execution_count": 10,
      "outputs": []
    },
    {
      "cell_type": "code",
      "source": [
        "# https://drive.google.com/file/d/1gvkgN08c35R2iTeIcFSo1CuqeboGs_T7/view?usp=sharing\n",
        "\n",
        "drive_download(file = as_id('1gvkgN08c35R2iTeIcFSo1CuqeboGs_T7'), path =  '/content/limon.gpkg', overwrite = TRUE)\n",
        "limon_gpgk <- st_read('/content/limon.gpkg') %>% st_transform(st_crs(limon_21_23_tif))\n",
        "region_gpkg <- st_read(')"
      ],
      "metadata": {
        "colab": {
          "base_uri": "https://localhost:8080/"
        },
        "id": "O3JDFecLIR3n",
        "outputId": "593482af-c154-4f4c-98f5-08ec427bb6e2"
      },
      "execution_count": 18,
      "outputs": [
        {
          "output_type": "stream",
          "name": "stderr",
          "text": [
            "File downloaded:\n",
            "\n",
            "• \u001b[36mlimon.gpkg\u001b[39m \u001b[90m<id: 1gvkgN08c35R2iTeIcFSo1CuqeboGs_T7>\u001b[39m\n",
            "\n",
            "Saved locally as:\n",
            "\n",
            "• \u001b[34m/content/limon.gpkg\u001b[39m\n",
            "\n"
          ]
        },
        {
          "output_type": "stream",
          "name": "stdout",
          "text": [
            "Reading layer `limon' from data source `/content/limon.gpkg' using driver `GPKG'\n",
            "Simple feature collection with 1 feature and 4 fields\n",
            "Geometry type: MULTIPOLYGON\n",
            "Dimension:     XY\n",
            "Bounding box:  xmin: -83.94696 ymin: 9.07481 xmax: -82.55271 ymax: 10.93904\n",
            "Geodetic CRS:  WGS 84\n"
          ]
        }
      ]
    },
    {
      "cell_type": "code",
      "source": [],
      "metadata": {
        "id": "HWO1Bop4f4N2",
        "outputId": "e67ed7f4-6b3b-44a5-e7f9-ca31f93f5e18",
        "colab": {
          "base_uri": "https://localhost:8080/"
        }
      },
      "execution_count": 94,
      "outputs": [
        {
          "output_type": "stream",
          "name": "stderr",
          "text": [
            "File downloaded:\n",
            "\n",
            "• \u001b[36mregion.gpkg\u001b[39m \u001b[90m<id: 1NY00I4o3YiJj3kCz9XYdIeJ2ihuSJsEf>\u001b[39m\n",
            "\n",
            "Saved locally as:\n",
            "\n",
            "• \u001b[34m/content/region.gpkg\u001b[39m\n",
            "\n"
          ]
        },
        {
          "output_type": "stream",
          "name": "stdout",
          "text": [
            "Multiple layers are present in data source /content/region.gpkg, reading layer `doc__japdevakmz'.\n",
            "Use `st_layers' to list all layer names and their type in a data source.\n",
            "Set the `layer' argument in `st_read' to read a particular layer.\n"
          ]
        },
        {
          "output_type": "stream",
          "name": "stderr",
          "text": [
            "Warning message in CPL_read_ogr(dsn, layer, query, as.character(options), quiet, :\n",
            "“automatically selected the first layer in a data source containing more than one.”\n"
          ]
        },
        {
          "output_type": "stream",
          "name": "stdout",
          "text": [
            "Reading layer `doc__japdevakmz' from data source `/content/region.gpkg' using driver `GPKG'\n",
            "Simple feature collection with 1 feature and 11 fields\n",
            "Geometry type: LINESTRING\n",
            "Dimension:     XYZ\n",
            "Bounding box:  xmin: -83.92922 ymin: 9.990194 xmax: -83.07541 ymax: 10.93744\n",
            "z_range:       zmin: 0 zmax: 0\n",
            "Geodetic CRS:  WGS 84\n"
          ]
        }
      ]
    },
    {
      "cell_type": "code",
      "source": [
        "# https://drive.google.com/file/d/1NY00I4o3YiJj3kCz9XYdIeJ2ihuSJsEf/view?usp=drive_link\n",
        "drive_download(file = as_id('1NY00I4o3YiJj3kCz9XYdIeJ2ihuSJsEf'), path =  '/content/region.gpkg', overwrite = TRUE)\n",
        "region_gpkg <- st_read('/content/region.gpkg') %>% st_transform(st_crs(limon_21_23_tif))\n",
        "coords <- region_gpkg %>% st_coordinates\n",
        "# coords\n",
        "region_gpkg <- st_polygon(list(rbind(coords,coords[1,]) %>% as.matrix)) %>% st_sfc(crs=st_crs(region_gpkg)) %>% st_zm() %>% st_buffer(0)"
      ],
      "metadata": {
        "id": "suPS6J9dqqG9",
        "outputId": "7c6f4b9e-2948-4d7b-a83a-28492996fdca",
        "colab": {
          "base_uri": "https://localhost:8080/"
        }
      },
      "execution_count": 135,
      "outputs": [
        {
          "output_type": "stream",
          "name": "stderr",
          "text": [
            "File downloaded:\n",
            "\n",
            "• \u001b[36mregion.gpkg\u001b[39m \u001b[90m<id: 1NY00I4o3YiJj3kCz9XYdIeJ2ihuSJsEf>\u001b[39m\n",
            "\n",
            "Saved locally as:\n",
            "\n",
            "• \u001b[34m/content/region.gpkg\u001b[39m\n",
            "\n"
          ]
        },
        {
          "output_type": "stream",
          "name": "stdout",
          "text": [
            "Multiple layers are present in data source /content/region.gpkg, reading layer `doc__japdevakmz'.\n",
            "Use `st_layers' to list all layer names and their type in a data source.\n",
            "Set the `layer' argument in `st_read' to read a particular layer.\n"
          ]
        },
        {
          "output_type": "stream",
          "name": "stderr",
          "text": [
            "Warning message in CPL_read_ogr(dsn, layer, query, as.character(options), quiet, :\n",
            "“automatically selected the first layer in a data source containing more than one.”\n"
          ]
        },
        {
          "output_type": "stream",
          "name": "stdout",
          "text": [
            "Reading layer `doc__japdevakmz' from data source `/content/region.gpkg' using driver `GPKG'\n",
            "Simple feature collection with 1 feature and 11 fields\n",
            "Geometry type: LINESTRING\n",
            "Dimension:     XYZ\n",
            "Bounding box:  xmin: -83.92922 ymin: 9.990194 xmax: -83.07541 ymax: 10.93744\n",
            "z_range:       zmin: 0 zmax: 0\n",
            "Geodetic CRS:  WGS 84\n"
          ]
        }
      ]
    },
    {
      "cell_type": "code",
      "source": [
        "# https://drive.google.com/file/d/1WfxuulrDTpfL_rEUQAnDi9ogOsfNY7db/view?usp=drive_link\n",
        "drive_download(file = as_id('1WfxuulrDTpfL_rEUQAnDi9ogOsfNY7db'), path =  '/content/park.gpkg', overwrite = FALSE)\n",
        "park_gpgk <- st_read('/content/park.gpkg') %>% st_transform(st_crs(limon_22_23_tif))"
      ],
      "metadata": {
        "id": "XS0ijPDzEwL6",
        "outputId": "df74cda8-375a-4488-9f91-d6a55343d593",
        "colab": {
          "base_uri": "https://localhost:8080/"
        }
      },
      "execution_count": 20,
      "outputs": [
        {
          "output_type": "stream",
          "name": "stderr",
          "text": [
            "File downloaded:\n",
            "\n",
            "• \u001b[36mpark.gpkg\u001b[39m \u001b[90m<id: 1WfxuulrDTpfL_rEUQAnDi9ogOsfNY7db>\u001b[39m\n",
            "\n",
            "Saved locally as:\n",
            "\n",
            "• \u001b[34m/content/park.gpkg\u001b[39m\n",
            "\n"
          ]
        },
        {
          "output_type": "stream",
          "name": "stdout",
          "text": [
            "Reading layer `park' from data source `/content/park.gpkg' using driver `GPKG'\n",
            "Simple feature collection with 2 features and 0 fields\n",
            "Geometry type: MULTIPOLYGON\n",
            "Dimension:     XY\n",
            "Bounding box:  xmin: -83.39799 ymin: 10.07181 xmax: -83.15862 ymax: 10.35479\n",
            "Geodetic CRS:  WGS 84\n"
          ]
        }
      ]
    },
    {
      "cell_type": "code",
      "source": [
        "park_gpgk$names <- c('region','main')"
      ],
      "metadata": {
        "id": "pMJOMJseFkky"
      },
      "execution_count": 21,
      "outputs": []
    },
    {
      "cell_type": "code",
      "source": [
        "region_gpkg %>% st_crs"
      ],
      "metadata": {
        "id": "nx0aoRKLlftp",
        "outputId": "54c4228c-a3e0-4b79-9240-dfd06e377741",
        "colab": {
          "base_uri": "https://localhost:8080/",
          "height": 364
        }
      },
      "execution_count": 136,
      "outputs": [
        {
          "output_type": "display_data",
          "data": {
            "text/plain": [
              "Coordinate Reference System:\n",
              "  User input: +proj=longlat +datum=WGS84 +no_defs \n",
              "  wkt:\n",
              "GEOGCRS[\"unknown\",\n",
              "    DATUM[\"World Geodetic System 1984\",\n",
              "        ELLIPSOID[\"WGS 84\",6378137,298.257223563,\n",
              "            LENGTHUNIT[\"metre\",1]],\n",
              "        ID[\"EPSG\",6326]],\n",
              "    PRIMEM[\"Greenwich\",0,\n",
              "        ANGLEUNIT[\"degree\",0.0174532925199433],\n",
              "        ID[\"EPSG\",8901]],\n",
              "    CS[ellipsoidal,2],\n",
              "        AXIS[\"longitude\",east,\n",
              "            ORDER[1],\n",
              "            ANGLEUNIT[\"degree\",0.0174532925199433,\n",
              "                ID[\"EPSG\",9122]]],\n",
              "        AXIS[\"latitude\",north,\n",
              "            ORDER[2],\n",
              "            ANGLEUNIT[\"degree\",0.0174532925199433,\n",
              "                ID[\"EPSG\",9122]]]]"
            ]
          },
          "metadata": {}
        }
      ]
    },
    {
      "cell_type": "code",
      "source": [
        "grid <- st_make_grid(region_gpkg %>% st_transform(8908),\n",
        "   1240, # Kms\n",
        "  crs = st_crs(region_gpkg%>% st_transform(8908)),\n",
        "  what = \"polygons\",\n",
        "  square = FALSE # This is the only piece that changes!!!\n",
        ") %>% st_transform(st_crs(region_gpkg))\n",
        "grid<- data.table(geometry=grid %>% st_geometry()) %>% st_as_sf %>% data.table\n",
        "grid$id <-1:nrow(grid)"
      ],
      "metadata": {
        "id": "WFsp2f0llEuD"
      },
      "execution_count": 147,
      "outputs": []
    },
    {
      "cell_type": "code",
      "source": [
        "grid <- grid[id %in% (grid %>% st_as_sf %>% st_intersection(region_gpkg) %>% data.table)$id]"
      ],
      "metadata": {
        "id": "bskLziWNlacf",
        "outputId": "816b82a3-fe09-4dbd-9802-7e5067342086",
        "colab": {
          "base_uri": "https://localhost:8080/"
        }
      },
      "execution_count": 150,
      "outputs": [
        {
          "output_type": "stream",
          "name": "stderr",
          "text": [
            "Warning message:\n",
            "“attribute variables are assumed to be spatially constant throughout all geometries”\n"
          ]
        }
      ]
    },
    {
      "cell_type": "code",
      "source": [
        "# grid %>% st_as_sf %>% plot"
      ],
      "metadata": {
        "id": "JW8YGKaNxzPY"
      },
      "execution_count": 172,
      "outputs": []
    },
    {
      "cell_type": "code",
      "source": [
        "limon_15_17_class_tif <- which.max(limon_15_17_tif[[1:9]])\n",
        "limon_21_23_class_tif <- which.max(limon_21_23_tif[[1:9]])"
      ],
      "metadata": {
        "id": "f0gkLADbGThz"
      },
      "execution_count": 22,
      "outputs": []
    },
    {
      "cell_type": "code",
      "source": [
        "limon_15_17_class_tif %>% writeRaster('/content/limon_16_18_classed.tif',overwrite =T)\n",
        "limon_21_23_class_tif %>% writeRaster('/content/limon_22_23_classed.tif',overwrite =T)"
      ],
      "metadata": {
        "id": "4clF621xJzmO"
      },
      "execution_count": 24,
      "outputs": []
    },
    {
      "cell_type": "code",
      "source": [
        "class_stack <- stack(limon_15_17_class_tif,limon_21_23_class_tif)"
      ],
      "metadata": {
        "id": "TlxZpxNLQRWo"
      },
      "execution_count": 25,
      "outputs": []
    },
    {
      "cell_type": "code",
      "source": [
        "class_dt <- values(class_stack) %>% data.table\n",
        "names(class_dt) <- c('y2017','y2023')\n",
        "class_dt$row <- 1"
      ],
      "metadata": {
        "id": "PVROc8aiRwBg"
      },
      "execution_count": 26,
      "outputs": []
    },
    {
      "cell_type": "code",
      "source": [
        "classes <- c('water','trees','grass','flooded_vegetation','crops','scrub_shrub','built','bare','snow_and_ice')"
      ],
      "metadata": {
        "id": "XIFxosRXUyGj"
      },
      "execution_count": 27,
      "outputs": []
    },
    {
      "cell_type": "code",
      "source": [
        "pretty_labels <- c('Water','Forest','Grasslike-cover','Wetlands Vegetation','Crop-cover','Scrub/ Shrub','Developed','Bare','Snow and Ice')"
      ],
      "metadata": {
        "id": "NZ-la6JYWQaW"
      },
      "execution_count": 28,
      "outputs": []
    },
    {
      "cell_type": "code",
      "source": [
        "class_dt[,class_y2017 := classes[y2017]]\n",
        "class_dt[,class_y2023 := classes[y2023]]\n",
        "\n",
        "class_dt[,pretty_class_y2017 := pretty_labels[y2017] %>% factor(levels=pretty_labels)]\n",
        "class_dt[,pretty_class_y2023 := pretty_labels[y2023] %>% factor(levels=pretty_labels)]"
      ],
      "metadata": {
        "id": "TyiduH4QWFiW"
      },
      "execution_count": 30,
      "outputs": []
    },
    {
      "cell_type": "code",
      "source": [
        "# class_dt[!is.na(class_dt$y2018)][y2018!=y2023][,list(freq= sum(row)/nrow(class_dt)),by=.(y2018,y2023,pretty_class_y2018,pretty_class_y2023)]"
      ],
      "metadata": {
        "id": "BoFJVphAXXZb"
      },
      "execution_count": null,
      "outputs": []
    },
    {
      "cell_type": "code",
      "source": [
        "color_scale = c(\n",
        "'Water' =\"#13dede\",\n",
        "'Forest' =\"#33a02c\",\n",
        "'Grasslike-cover' =\"#fecc5c\",\n",
        "'Wetlands Vegetation' = \"#5c003d\",\n",
        "'Crop-cover' = \"#bd0026\",\n",
        "'Scrub/ Shrub' =\"#deab13\",\n",
        "'Developed' =\"#297b8c\",\n",
        "'Bare' = '#5b5b5b',\n",
        "'Snow and Ice'=\"#aa64ef\" )"
      ],
      "metadata": {
        "id": "pIwx6cHvaA19"
      },
      "execution_count": 31,
      "outputs": []
    },
    {
      "cell_type": "code",
      "source": [
        "library(ggalluvial)\n",
        "class_dt[!is.na(class_dt$y2017)][y2017!=y2023][,list(freq= sum(row)/nrow(class_dt)),by=.(y2017,y2023,pretty_class_y2017,pretty_class_y2023)][freq>0.0001] %>%\n",
        "\n",
        "ggplot(data = .,\n",
        "      aes(axis1 = pretty_class_y2017, axis2 = pretty_class_y2023, y = freq)) +\n",
        "geom_alluvium(aes(fill = pretty_class_y2023)) +\n",
        "scale_fill_manual(values = color_scale) +  # Using hex codes\n",
        "geom_stratum() +\n",
        "geom_text(stat = \"stratum\",\n",
        "          aes(label = after_stat(stratum))) +\n",
        "scale_x_discrete(limits = c(\"y2017\", \"y2023\"),\n",
        "                  expand = c(0.15, 0.05)) +\n",
        "theme_void()+\n",
        "theme(legend.position = \"bottom\") +  # Move legend to bottom\n",
        "guides(color = guide_legend(title = NULL))  +\n",
        "theme(legend.title = element_blank())  # Remove all legend titles\n"
      ],
      "metadata": {
        "colab": {
          "base_uri": "https://localhost:8080/",
          "height": 541
        },
        "id": "WW78FgDzR9rl",
        "outputId": "7874df5b-29d2-47c3-ed27-cb395839bcfd"
      },
      "execution_count": 164,
      "outputs": [
        {
          "output_type": "stream",
          "name": "stderr",
          "text": [
            "Warning message in to_lodes_form(data = data, axes = axis_ind, discern = params$discern):\n",
            "“Some strata appear at multiple axes.”\n",
            "Warning message in to_lodes_form(data = data, axes = axis_ind, discern = params$discern):\n",
            "“Some strata appear at multiple axes.”\n",
            "Warning message in to_lodes_form(data = data, axes = axis_ind, discern = params$discern):\n",
            "“Some strata appear at multiple axes.”\n"
          ]
        },
        {
          "output_type": "display_data",
          "data": {
            "text/plain": [
              "plot without title"
            ],
            "image/png": "[encoded data removed]"
          },
          "metadata": {
            "image/png": {
              "width": 420,
              "height": 420
            }
          }
        }
      ]
    },
    {
      "cell_type": "code",
      "source": [
        "delta_overall_dt <- class_dt[!is.na(class_dt$y2023)][,list(count= sum(row) ),by=.(y2023,pretty_class_y2023,y2017,pretty_class_y2017)][,per:=count/sum(count)*100 ][,list(class_per = sum(per)),by = .(pretty_class_y2023 !=pretty_class_y2017 )]\n",
        "delta_overall_dt"
      ],
      "metadata": {
        "id": "lKXAqrGRhjQR",
        "outputId": "2b13dd89-df53-4cde-9589-826d9d2b7302",
        "colab": {
          "base_uri": "https://localhost:8080/",
          "height": 192
        }
      },
      "execution_count": 157,
      "outputs": [
        {
          "output_type": "display_data",
          "data": {
            "text/html": [
              "<table class=\"dataframe\">\n",
              "<caption>A data.table: 3 × 2</caption>\n",
              "<thead>\n",
              "\t<tr><th scope=col>pretty_class_y2023</th><th scope=col>class_per</th></tr>\n",
              "\t<tr><th scope=col>&lt;lgl&gt;</th><th scope=col>&lt;dbl&gt;</th></tr>\n",
              "</thead>\n",
              "<tbody>\n",
              "\t<tr><td>FALSE</td><td>93.3168480</td></tr>\n",
              "\t<tr><td> TRUE</td><td> 6.3832699</td></tr>\n",
              "\t<tr><td>   NA</td><td> 0.2998821</td></tr>\n",
              "</tbody>\n",
              "</table>\n"
            ],
            "text/markdown": "\nA data.table: 3 × 2\n\n| pretty_class_y2023 &lt;lgl&gt; | class_per &lt;dbl&gt; |\n|---|---|\n| FALSE | 93.3168480 |\n|  TRUE |  6.3832699 |\n|    NA |  0.2998821 |\n\n",
            "text/latex": "A data.table: 3 × 2\n\\begin{tabular}{ll}\n pretty\\_class\\_y2023 & class\\_per\\\\\n <lgl> & <dbl>\\\\\n\\hline\n\t FALSE & 93.3168480\\\\\n\t  TRUE &  6.3832699\\\\\n\t    NA &  0.2998821\\\\\n\\end{tabular}\n",
            "text/plain": [
              "  pretty_class_y2023 class_per \n",
              "1 FALSE              93.3168480\n",
              "2  TRUE               6.3832699\n",
              "3    NA               0.2998821"
            ]
          },
          "metadata": {}
        }
      ]
    },
    {
      "cell_type": "code",
      "source": [
        "# class_dt[!is.na(class_dt$y2018)][,list(count= sum(row) ),by=.(y2018,pretty_class_y2018)][,per:=(count/sum(count)*100) %>% round] %>% print\n",
        "\n",
        "# class_dt[!is.na(class_dt$y2023)][,list(count= sum(row) ),by=.(y2023,pretty_class_y2023)][,per:=(count/sum(count)*100) %>% round] %>% print\n",
        "\n",
        "class_dt[!is.na(class_dt$y2017)][y2017!=y2023][,list(freq= sum(row)/nrow(class_dt)),by=.(y2017,y2023,pretty_class_y2017,pretty_class_y2023)][freq>0.0001] %>% print\n",
        "\n",
        "delta_dt <- class_dt[!is.na(class_dt$y2017)][y2017!=y2023][,list(freq= sum(row)/nrow(class_dt)),by=.(y2017,y2023,pretty_class_y2017,pretty_class_y2023)][freq>0.0001]"
      ],
      "metadata": {
        "id": "fJlJGjmrhHQW",
        "outputId": "9740ba6e-6c1d-4da8-a035-1ea911527812",
        "colab": {
          "base_uri": "https://localhost:8080/"
        }
      },
      "execution_count": 165,
      "outputs": [
        {
          "output_type": "stream",
          "name": "stdout",
          "text": [
            "   y2017 y2023 pretty_class_y2017 pretty_class_y2023         freq\n",
            "   <num> <num>             <fctr>             <fctr>        <num>\n",
            "1:     2     1             Forest              Water 0.0001684821\n",
            "2:     1     2              Water             Forest 0.0003621562\n",
            "3:     2     3             Forest    Grasslike-cover 0.0035273891\n",
            "4:     3     2    Grasslike-cover             Forest 0.0016285706\n",
            "5:     2     7             Forest          Developed 0.0001726425\n",
            "6:     9     2       Snow and Ice             Forest 0.0001515810\n",
            "7:     5     2         Crop-cover             Forest 0.0013361638\n",
            "8:     2     5             Forest         Crop-cover 0.0014303969\n"
          ]
        }
      ]
    },
    {
      "cell_type": "code",
      "source": [
        "delta_dt"
      ],
      "metadata": {
        "id": "1mjuVQzzvjt5",
        "outputId": "858b1f0f-bf32-424c-8a33-3436aedab868",
        "colab": {
          "base_uri": "https://localhost:8080/",
          "height": 349
        }
      },
      "execution_count": 194,
      "outputs": [
        {
          "output_type": "display_data",
          "data": {
            "text/html": [
              "<table class=\"dataframe\">\n",
              "<caption>A data.table: 8 × 5</caption>\n",
              "<thead>\n",
              "\t<tr><th scope=col>y2017</th><th scope=col>y2023</th><th scope=col>pretty_class_y2017</th><th scope=col>pretty_class_y2023</th><th scope=col>freq</th></tr>\n",
              "\t<tr><th scope=col>&lt;dbl&gt;</th><th scope=col>&lt;dbl&gt;</th><th scope=col>&lt;fct&gt;</th><th scope=col>&lt;fct&gt;</th><th scope=col>&lt;dbl&gt;</th></tr>\n",
              "</thead>\n",
              "<tbody>\n",
              "\t<tr><td>2</td><td>1</td><td>Forest         </td><td>Water          </td><td>0.0001684821</td></tr>\n",
              "\t<tr><td>1</td><td>2</td><td>Water          </td><td>Forest         </td><td>0.0003621562</td></tr>\n",
              "\t<tr><td>2</td><td>3</td><td>Forest         </td><td>Grasslike-cover</td><td>0.0035273891</td></tr>\n",
              "\t<tr><td>3</td><td>2</td><td>Grasslike-cover</td><td>Forest         </td><td>0.0016285706</td></tr>\n",
              "\t<tr><td>2</td><td>7</td><td>Forest         </td><td>Developed      </td><td>0.0001726425</td></tr>\n",
              "\t<tr><td>9</td><td>2</td><td>Snow and Ice   </td><td>Forest         </td><td>0.0001515810</td></tr>\n",
              "\t<tr><td>5</td><td>2</td><td>Crop-cover     </td><td>Forest         </td><td>0.0013361638</td></tr>\n",
              "\t<tr><td>2</td><td>5</td><td>Forest         </td><td>Crop-cover     </td><td>0.0014303969</td></tr>\n",
              "</tbody>\n",
              "</table>\n"
            ],
            "text/markdown": "\nA data.table: 8 × 5\n\n| y2017 &lt;dbl&gt; | y2023 &lt;dbl&gt; | pretty_class_y2017 &lt;fct&gt; | pretty_class_y2023 &lt;fct&gt; | freq &lt;dbl&gt; |\n|---|---|---|---|---|\n| 2 | 1 | Forest          | Water           | 0.0001684821 |\n| 1 | 2 | Water           | Forest          | 0.0003621562 |\n| 2 | 3 | Forest          | Grasslike-cover | 0.0035273891 |\n| 3 | 2 | Grasslike-cover | Forest          | 0.0016285706 |\n| 2 | 7 | Forest          | Developed       | 0.0001726425 |\n| 9 | 2 | Snow and Ice    | Forest          | 0.0001515810 |\n| 5 | 2 | Crop-cover      | Forest          | 0.0013361638 |\n| 2 | 5 | Forest          | Crop-cover      | 0.0014303969 |\n\n",
            "text/latex": "A data.table: 8 × 5\n\\begin{tabular}{lllll}\n y2017 & y2023 & pretty\\_class\\_y2017 & pretty\\_class\\_y2023 & freq\\\\\n <dbl> & <dbl> & <fct> & <fct> & <dbl>\\\\\n\\hline\n\t 2 & 1 & Forest          & Water           & 0.0001684821\\\\\n\t 1 & 2 & Water           & Forest          & 0.0003621562\\\\\n\t 2 & 3 & Forest          & Grasslike-cover & 0.0035273891\\\\\n\t 3 & 2 & Grasslike-cover & Forest          & 0.0016285706\\\\\n\t 2 & 7 & Forest          & Developed       & 0.0001726425\\\\\n\t 9 & 2 & Snow and Ice    & Forest          & 0.0001515810\\\\\n\t 5 & 2 & Crop-cover      & Forest          & 0.0013361638\\\\\n\t 2 & 5 & Forest          & Crop-cover      & 0.0014303969\\\\\n\\end{tabular}\n",
            "text/plain": [
              "  y2017 y2023 pretty_class_y2017 pretty_class_y2023 freq        \n",
              "1 2     1     Forest             Water              0.0001684821\n",
              "2 1     2     Water              Forest             0.0003621562\n",
              "3 2     3     Forest             Grasslike-cover    0.0035273891\n",
              "4 3     2     Grasslike-cover    Forest             0.0016285706\n",
              "5 2     7     Forest             Developed          0.0001726425\n",
              "6 9     2     Snow and Ice       Forest             0.0001515810\n",
              "7 5     2     Crop-cover         Forest             0.0013361638\n",
              "8 2     5     Forest             Crop-cover         0.0014303969"
            ]
          },
          "metadata": {}
        }
      ]
    },
    {
      "cell_type": "code",
      "source": [
        "x_dt"
      ],
      "metadata": {
        "id": "n8E2Nsmm5D_G",
        "outputId": "d7dc2dff-bf8a-429a-a710-6319e6345362",
        "colab": {
          "base_uri": "https://localhost:8080/",
          "height": 129
        }
      },
      "execution_count": 204,
      "outputs": [
        {
          "output_type": "display_data",
          "data": {
            "text/html": [
              "<table class=\"dataframe\">\n",
              "<caption>A data.table: 1 × 5</caption>\n",
              "<thead>\n",
              "\t<tr><th scope=col>y2017</th><th scope=col>y2023</th><th scope=col>pretty_class_y2017</th><th scope=col>pretty_class_y2023</th><th scope=col>freq</th></tr>\n",
              "\t<tr><th scope=col>&lt;dbl&gt;</th><th scope=col>&lt;dbl&gt;</th><th scope=col>&lt;fct&gt;</th><th scope=col>&lt;fct&gt;</th><th scope=col>&lt;dbl&gt;</th></tr>\n",
              "</thead>\n",
              "<tbody>\n",
              "\t<tr><td>2</td><td>1</td><td>Forest</td><td>Water</td><td>0.0001684821</td></tr>\n",
              "</tbody>\n",
              "</table>\n"
            ],
            "text/markdown": "\nA data.table: 1 × 5\n\n| y2017 &lt;dbl&gt; | y2023 &lt;dbl&gt; | pretty_class_y2017 &lt;fct&gt; | pretty_class_y2023 &lt;fct&gt; | freq &lt;dbl&gt; |\n|---|---|---|---|---|\n| 2 | 1 | Forest | Water | 0.0001684821 |\n\n",
            "text/latex": "A data.table: 1 × 5\n\\begin{tabular}{lllll}\n y2017 & y2023 & pretty\\_class\\_y2017 & pretty\\_class\\_y2023 & freq\\\\\n <dbl> & <dbl> & <fct> & <fct> & <dbl>\\\\\n\\hline\n\t 2 & 1 & Forest & Water & 0.0001684821\\\\\n\\end{tabular}\n",
            "text/plain": [
              "  y2017 y2023 pretty_class_y2017 pretty_class_y2023 freq        \n",
              "1 2     1     Forest             Water              0.0001684821"
            ]
          },
          "metadata": {}
        }
      ]
    },
    {
      "cell_type": "code",
      "source": [
        "limon_21_23_class_tif"
      ],
      "metadata": {
        "id": "0jslFMH75Hy3",
        "outputId": "fe1aef40-27d9-42c5-f6bb-3c9dd84a7eac",
        "colab": {
          "base_uri": "https://localhost:8080/",
          "height": 156
        }
      },
      "execution_count": 206,
      "outputs": [
        {
          "output_type": "display_data",
          "data": {
            "text/plain": [
              "class      : RasterLayer \n",
              "dimensions : 10545, 9505, 100230225  (nrow, ncol, ncell)\n",
              "resolution : 8.983153e-05, 8.983153e-05  (x, y)\n",
              "extent     : -83.92924, -83.07539, 9.990164, 10.93744  (xmin, xmax, ymin, ymax)\n",
              "crs        : +proj=longlat +datum=WGS84 +no_defs \n",
              "source     : r_tmp_2024-02-08_022033.749405_6692_29130.grd \n",
              "names      : layer \n",
              "values     : 1, 9  (min, max)\n"
            ]
          },
          "metadata": {}
        }
      ]
    },
    {
      "cell_type": "code",
      "source": [
        "y2017_state <- limon_15_17_class_tif == x_dt$y2017[[1]]\n",
        "y2023_state <- limon_21_23_class_tif == x_dt$y2023[[1]]"
      ],
      "metadata": {
        "id": "ILAnGBYZ4hHo"
      },
      "execution_count": 199,
      "outputs": []
    },
    {
      "cell_type": "code",
      "source": [
        "(y2017_state*y2023_state) %>% plot"
      ],
      "metadata": {
        "id": "DvsaN_pC4iJa",
        "outputId": "4e56750e-813c-4737-cbd5-feac763a5d17",
        "colab": {
          "base_uri": "https://localhost:8080/",
          "height": 437
        }
      },
      "execution_count": 209,
      "outputs": [
        {
          "output_type": "display_data",
          "data": {
            "text/plain": [
              "Plot with title “”"
            ],
            "image/png": "[encoded data removed]"
          },
          "metadata": {
            "image/png": {
              "width": 420,
              "height": 420
            }
          }
        }
      ]
    },
    {
      "cell_type": "code",
      "source": [
        "summary_dt <-\n",
        "1:nrow(delta_dt) %>% lapply(function(x){\n",
        "x_dt <- delta_dt[x,]\n",
        "\n",
        "y2017_state <- limon_15_17_class_tif == x_dt$y2017[[1]]\n",
        "y2023_state <- limon_21_23_class_tif == x_dt$y2023[[1]]\n",
        "\n",
        "delta_state = y2017_state*y2023_state\n",
        "\n",
        "result_dt <- data.table(x= delta_state %>% exact_extract(grid %>% st_as_sf,fun='mean'))\n",
        "names(result_dt) <- paste0(x_dt[['pretty_class_y2017']][1],'_',x_dt[['pretty_class_y2023']][1])\n",
        "return(result_dt)}) %>% do.call(cbind,.)"
      ],
      "metadata": {
        "id": "DqE7xmntw_Ck",
        "outputId": "c3bc263d-b3cc-4107-e9ef-7e5be884bea4",
        "colab": {
          "base_uri": "https://localhost:8080/"
        }
      },
      "execution_count": 210,
      "outputs": [
        {
          "output_type": "stream",
          "name": "stdout",
          "text": [
            "  |======================================================================| 100%\n",
            "  |======================================================================| 100%\n",
            "  |======================================================================| 100%\n",
            "  |======================================================================| 100%\n",
            "  |======================================================================| 100%\n",
            "  |======================================================================| 100%\n",
            "  |======================================================================| 100%\n",
            "  |======================================================================| 100%\n"
          ]
        }
      ]
    },
    {
      "cell_type": "code",
      "source": [
        "data.table(grid,summary_dt) %>% st_as_sf %>% st_write('/content/test_region.gpkg',delete_dsn = T)"
      ],
      "metadata": {
        "id": "_S8dTvQxu3Wh",
        "outputId": "82fe9f71-4429-4d1e-a26a-7dc75f772aa3",
        "colab": {
          "base_uri": "https://localhost:8080/"
        }
      },
      "execution_count": 211,
      "outputs": [
        {
          "output_type": "stream",
          "name": "stdout",
          "text": [
            "Deleting source `/content/test_region.gpkg' using driver `GPKG'\n",
            "Writing layer `test_region' to data source \n",
            "  `/content/test_region.gpkg' using driver `GPKG'\n",
            "Writing 1332 features with 9 fields and geometry type Polygon.\n"
          ]
        }
      ]
    },
    {
      "cell_type": "code",
      "source": [
        "summary_dt"
      ],
      "metadata": {
        "id": "L0Nv9ioCxQ2B",
        "outputId": "15911726-77fc-435e-b947-384704369bdb",
        "colab": {
          "base_uri": "https://localhost:8080/",
          "height": 1000
        }
      },
      "execution_count": 212,
      "outputs": [
        {
          "output_type": "display_data",
          "data": {
            "text/html": [
              "<table class=\"dataframe\">\n",
              "<caption>A data.table: 1332 × 8</caption>\n",
              "<thead>\n",
              "\t<tr><th scope=col>Forest_Water</th><th scope=col>Water_Forest</th><th scope=col>Forest_Grasslike-cover</th><th scope=col>Grasslike-cover_Forest</th><th scope=col>Forest_Developed</th><th scope=col>Snow and Ice_Forest</th><th scope=col>Crop-cover_Forest</th><th scope=col>Forest_Crop-cover</th></tr>\n",
              "\t<tr><th scope=col>&lt;dbl&gt;</th><th scope=col>&lt;dbl&gt;</th><th scope=col>&lt;dbl&gt;</th><th scope=col>&lt;dbl&gt;</th><th scope=col>&lt;dbl&gt;</th><th scope=col>&lt;dbl&gt;</th><th scope=col>&lt;dbl&gt;</th><th scope=col>&lt;dbl&gt;</th></tr>\n",
              "</thead>\n",
              "<tbody>\n",
              "\t<tr><td>0.000000000</td><td>0.000000000</td><td>0.000000000</td><td>0.000000000</td><td>0.0000000000</td><td>0.0000000000</td><td>0.000000e+00</td><td>  0</td></tr>\n",
              "\t<tr><td>        NaN</td><td>        NaN</td><td>        NaN</td><td>        NaN</td><td>         NaN</td><td>         NaN</td><td>         NaN</td><td>NaN</td></tr>\n",
              "\t<tr><td>0.000000000</td><td>0.000000000</td><td>0.039025024</td><td>0.046750583</td><td>0.0000000000</td><td>0.0000000000</td><td>0.000000e+00</td><td>  0</td></tr>\n",
              "\t<tr><td>0.000000000</td><td>0.000000000</td><td>0.080512382</td><td>0.016498428</td><td>0.0000000000</td><td>0.0000000000</td><td>0.000000e+00</td><td>  0</td></tr>\n",
              "\t<tr><td>        NaN</td><td>        NaN</td><td>        NaN</td><td>        NaN</td><td>         NaN</td><td>         NaN</td><td>         NaN</td><td>NaN</td></tr>\n",
              "\t<tr><td>0.000000000</td><td>0.000000000</td><td>0.047524597</td><td>0.018619088</td><td>0.0000000000</td><td>0.0058670454</td><td>0.000000e+00</td><td>  0</td></tr>\n",
              "\t<tr><td>0.000000000</td><td>0.000000000</td><td>0.243219569</td><td>0.091056228</td><td>0.0000000000</td><td>0.0000000000</td><td>0.000000e+00</td><td>  0</td></tr>\n",
              "\t<tr><td>0.000000000</td><td>0.000000000</td><td>0.125381410</td><td>0.073416777</td><td>0.0000000000</td><td>0.0000000000</td><td>0.000000e+00</td><td>  0</td></tr>\n",
              "\t<tr><td>0.000000000</td><td>0.000000000</td><td>0.090595387</td><td>0.026618401</td><td>0.0000000000</td><td>0.0346519016</td><td>7.562046e-05</td><td>  0</td></tr>\n",
              "\t<tr><td>0.000000000</td><td>0.000000000</td><td>0.000000000</td><td>0.685596108</td><td>0.0000000000</td><td>0.0000000000</td><td>0.000000e+00</td><td>  0</td></tr>\n",
              "\t<tr><td>0.000000000</td><td>0.000000000</td><td>0.054343604</td><td>0.010186321</td><td>0.0027163522</td><td>0.0214290023</td><td>0.000000e+00</td><td>  0</td></tr>\n",
              "\t<tr><td>0.000000000</td><td>0.000000000</td><td>0.010272254</td><td>0.037220493</td><td>0.0004490810</td><td>0.0217055269</td><td>0.000000e+00</td><td>  0</td></tr>\n",
              "\t<tr><td>0.000000000</td><td>0.000000000</td><td>0.099895000</td><td>0.000000000</td><td>0.0000000000</td><td>0.0135731678</td><td>0.000000e+00</td><td>  0</td></tr>\n",
              "\t<tr><td>0.000000000</td><td>0.000000000</td><td>0.015938876</td><td>0.041767709</td><td>0.0000000000</td><td>0.0760822594</td><td>0.000000e+00</td><td>  0</td></tr>\n",
              "\t<tr><td>0.000000000</td><td>0.000000000</td><td>0.005053669</td><td>0.000000000</td><td>0.0000000000</td><td>0.2068058997</td><td>0.000000e+00</td><td>  0</td></tr>\n",
              "\t<tr><td>0.000000000</td><td>0.000000000</td><td>0.021329120</td><td>0.009142758</td><td>0.0000000000</td><td>0.0000000000</td><td>0.000000e+00</td><td>  0</td></tr>\n",
              "\t<tr><td>0.000000000</td><td>0.000000000</td><td>0.009156722</td><td>0.019563038</td><td>0.0006598420</td><td>0.0312998071</td><td>0.000000e+00</td><td>  0</td></tr>\n",
              "\t<tr><td>0.000000000</td><td>0.000000000</td><td>0.006007832</td><td>0.017165232</td><td>0.0000000000</td><td>0.0000000000</td><td>0.000000e+00</td><td>  0</td></tr>\n",
              "\t<tr><td>0.000000000</td><td>0.000000000</td><td>0.012390758</td><td>0.153778374</td><td>0.0000000000</td><td>0.0000000000</td><td>0.000000e+00</td><td>  0</td></tr>\n",
              "\t<tr><td>0.000000000</td><td>0.000000000</td><td>0.254973084</td><td>0.030823912</td><td>0.0000000000</td><td>0.0012934913</td><td>0.000000e+00</td><td>  0</td></tr>\n",
              "\t<tr><td>0.000000000</td><td>0.000000000</td><td>0.008664154</td><td>0.128438443</td><td>0.0000000000</td><td>0.0001506809</td><td>0.000000e+00</td><td>  0</td></tr>\n",
              "\t<tr><td>0.000000000</td><td>0.002712686</td><td>0.027056376</td><td>0.135434017</td><td>0.0000000000</td><td>0.0000000000</td><td>8.064742e-04</td><td>  0</td></tr>\n",
              "\t<tr><td>0.000000000</td><td>0.000000000</td><td>0.052321795</td><td>0.000000000</td><td>0.0000000000</td><td>0.0000000000</td><td>0.000000e+00</td><td>  0</td></tr>\n",
              "\t<tr><td>0.000000000</td><td>0.000000000</td><td>0.016167874</td><td>0.052634101</td><td>0.0000000000</td><td>0.0000000000</td><td>0.000000e+00</td><td>  0</td></tr>\n",
              "\t<tr><td>0.000000000</td><td>0.000000000</td><td>0.002346181</td><td>0.079545364</td><td>0.0000000000</td><td>0.0000000000</td><td>0.000000e+00</td><td>  0</td></tr>\n",
              "\t<tr><td>0.001788395</td><td>0.014816149</td><td>0.090606913</td><td>0.089109510</td><td>0.0000000000</td><td>0.0000000000</td><td>0.000000e+00</td><td>  0</td></tr>\n",
              "\t<tr><td>0.000000000</td><td>0.000000000</td><td>0.075017288</td><td>0.045473609</td><td>0.0000000000</td><td>0.0000000000</td><td>0.000000e+00</td><td>  0</td></tr>\n",
              "\t<tr><td>0.000000000</td><td>0.000000000</td><td>0.159289852</td><td>0.012170439</td><td>0.0003665795</td><td>0.0000000000</td><td>0.000000e+00</td><td>  0</td></tr>\n",
              "\t<tr><td>0.006384280</td><td>0.008264596</td><td>0.000000000</td><td>0.000000000</td><td>0.0000000000</td><td>0.0000000000</td><td>0.000000e+00</td><td>  0</td></tr>\n",
              "\t<tr><td>0.000000000</td><td>0.000000000</td><td>0.000000000</td><td>0.000000000</td><td>0.0000000000</td><td>0.0000000000</td><td>0.000000e+00</td><td>  0</td></tr>\n",
              "\t<tr><td>⋮</td><td>⋮</td><td>⋮</td><td>⋮</td><td>⋮</td><td>⋮</td><td>⋮</td><td>⋮</td></tr>\n",
              "\t<tr><td>4.580766e-03</td><td>0.0143861817</td><td>1.359308e-04</td><td>0.000000000</td><td>0.0003099346</td><td>  0</td><td>0.000000000</td><td>0.000000000</td></tr>\n",
              "\t<tr><td>         NaN</td><td>         NaN</td><td>         NaN</td><td>        NaN</td><td>         NaN</td><td>NaN</td><td>        NaN</td><td>        NaN</td></tr>\n",
              "\t<tr><td>0.000000e+00</td><td>0.0000000000</td><td>6.539521e-02</td><td>0.000309031</td><td>0.0117559647</td><td>  0</td><td>0.000000000</td><td>0.003296331</td></tr>\n",
              "\t<tr><td>0.000000e+00</td><td>0.0000000000</td><td>0.000000e+00</td><td>0.000000000</td><td>0.0000000000</td><td>  0</td><td>0.000000000</td><td>0.000000000</td></tr>\n",
              "\t<tr><td>3.832366e-03</td><td>0.0113054393</td><td>2.214256e-03</td><td>0.000000000</td><td>0.0000000000</td><td>  0</td><td>0.000000000</td><td>0.000000000</td></tr>\n",
              "\t<tr><td>         NaN</td><td>         NaN</td><td>         NaN</td><td>        NaN</td><td>         NaN</td><td>NaN</td><td>        NaN</td><td>        NaN</td></tr>\n",
              "\t<tr><td>0.000000e+00</td><td>0.0000000000</td><td>0.000000e+00</td><td>0.000000000</td><td>0.0000000000</td><td>  0</td><td>0.000000000</td><td>0.000000000</td></tr>\n",
              "\t<tr><td>0.000000e+00</td><td>0.0000000000</td><td>0.000000e+00</td><td>0.004069553</td><td>0.0000000000</td><td>  0</td><td>0.000000000</td><td>0.000000000</td></tr>\n",
              "\t<tr><td>7.715864e-03</td><td>0.0087024225</td><td>1.486169e-04</td><td>0.000000000</td><td>0.0030548777</td><td>  0</td><td>0.000000000</td><td>0.000000000</td></tr>\n",
              "\t<tr><td>         NaN</td><td>         NaN</td><td>         NaN</td><td>        NaN</td><td>         NaN</td><td>NaN</td><td>        NaN</td><td>        NaN</td></tr>\n",
              "\t<tr><td>0.000000e+00</td><td>0.0000000000</td><td>1.818900e-03</td><td>0.094838820</td><td>0.0179848894</td><td>  0</td><td>0.000000000</td><td>0.000000000</td></tr>\n",
              "\t<tr><td>0.000000e+00</td><td>0.0499681756</td><td>0.000000e+00</td><td>0.000000000</td><td>0.0000000000</td><td>  0</td><td>0.000000000</td><td>0.000000000</td></tr>\n",
              "\t<tr><td>7.804318e-03</td><td>0.0052028787</td><td>0.000000e+00</td><td>0.000000000</td><td>0.1037693843</td><td>  0</td><td>0.000000000</td><td>0.000000000</td></tr>\n",
              "\t<tr><td>1.416211e-03</td><td>0.0000000000</td><td>4.177823e-02</td><td>0.055700440</td><td>0.0021243170</td><td>  0</td><td>0.002124317</td><td>0.000000000</td></tr>\n",
              "\t<tr><td>0.000000e+00</td><td>0.0000349444</td><td>8.380912e-05</td><td>0.015318073</td><td>0.0000000000</td><td>  0</td><td>0.000000000</td><td>0.000000000</td></tr>\n",
              "\t<tr><td>3.120559e-02</td><td>0.0000000000</td><td>0.000000e+00</td><td>0.000000000</td><td>0.0000000000</td><td>  0</td><td>0.000000000</td><td>0.000000000</td></tr>\n",
              "\t<tr><td>0.000000e+00</td><td>0.0052257623</td><td>0.000000e+00</td><td>0.006728240</td><td>0.0033079695</td><td>  0</td><td>0.000000000</td><td>0.000000000</td></tr>\n",
              "\t<tr><td>2.216481e-03</td><td>0.0719866976</td><td>0.000000e+00</td><td>0.003277010</td><td>0.0148245664</td><td>  0</td><td>0.000000000</td><td>0.000000000</td></tr>\n",
              "\t<tr><td>5.424418e-03</td><td>0.0016273253</td><td>0.000000e+00</td><td>0.030919181</td><td>0.0005729062</td><td>  0</td><td>0.010848835</td><td>0.000000000</td></tr>\n",
              "\t<tr><td>5.079613e-04</td><td>0.0172878057</td><td>4.658982e-03</td><td>0.001200706</td><td>0.0067050890</td><td>  0</td><td>0.000000000</td><td>0.000000000</td></tr>\n",
              "\t<tr><td>0.000000e+00</td><td>0.0002945016</td><td>0.000000e+00</td><td>0.000000000</td><td>0.0045647747</td><td>  0</td><td>0.000000000</td><td>0.000000000</td></tr>\n",
              "\t<tr><td>         NaN</td><td>         NaN</td><td>         NaN</td><td>        NaN</td><td>         NaN</td><td>NaN</td><td>        NaN</td><td>        NaN</td></tr>\n",
              "\t<tr><td>0.000000e+00</td><td>0.0000000000</td><td>1.107946e-03</td><td>0.000000000</td><td>0.1468027830</td><td>  0</td><td>0.000000000</td><td>0.000000000</td></tr>\n",
              "\t<tr><td>0.000000e+00</td><td>0.0295935702</td><td>0.000000e+00</td><td>0.000000000</td><td>0.0983593985</td><td>  0</td><td>0.000000000</td><td>0.000000000</td></tr>\n",
              "\t<tr><td>8.194816e-05</td><td>0.0206509363</td><td>8.877823e-03</td><td>0.003441823</td><td>0.0261017215</td><td>  0</td><td>0.001966756</td><td>0.001311171</td></tr>\n",
              "\t<tr><td>0.000000e+00</td><td>0.0000000000</td><td>6.526350e-02</td><td>0.079491630</td><td>0.0091777919</td><td>  0</td><td>0.089330502</td><td>0.000000000</td></tr>\n",
              "\t<tr><td>         NaN</td><td>         NaN</td><td>         NaN</td><td>        NaN</td><td>         NaN</td><td>NaN</td><td>        NaN</td><td>        NaN</td></tr>\n",
              "\t<tr><td>4.659157e-03</td><td>0.0120589947</td><td>3.836953e-03</td><td>0.003985012</td><td>0.0557499193</td><td>  0</td><td>0.003151783</td><td>0.000000000</td></tr>\n",
              "\t<tr><td>         NaN</td><td>         NaN</td><td>         NaN</td><td>        NaN</td><td>         NaN</td><td>NaN</td><td>        NaN</td><td>        NaN</td></tr>\n",
              "\t<tr><td>0.000000e+00</td><td>0.0000000000</td><td>0.000000e+00</td><td>0.000000000</td><td>0.0000000000</td><td>  0</td><td>0.000000000</td><td>0.000000000</td></tr>\n",
              "</tbody>\n",
              "</table>\n"
            ],
            "text/markdown": "\nA data.table: 1332 × 8\n\n| Forest_Water &lt;dbl&gt; | Water_Forest &lt;dbl&gt; | Forest_Grasslike-cover &lt;dbl&gt; | Grasslike-cover_Forest &lt;dbl&gt; | Forest_Developed &lt;dbl&gt; | Snow and Ice_Forest &lt;dbl&gt; | Crop-cover_Forest &lt;dbl&gt; | Forest_Crop-cover &lt;dbl&gt; |\n|---|---|---|---|---|---|---|---|\n| 0.000000000 | 0.000000000 | 0.000000000 | 0.000000000 | 0.0000000000 | 0.0000000000 | 0.000000e+00 |   0 |\n|         NaN |         NaN |         NaN |         NaN |          NaN |          NaN |          NaN | NaN |\n| 0.000000000 | 0.000000000 | 0.039025024 | 0.046750583 | 0.0000000000 | 0.0000000000 | 0.000000e+00 |   0 |\n| 0.000000000 | 0.000000000 | 0.080512382 | 0.016498428 | 0.0000000000 | 0.0000000000 | 0.000000e+00 |   0 |\n|         NaN |         NaN |         NaN |         NaN |          NaN |          NaN |          NaN | NaN |\n| 0.000000000 | 0.000000000 | 0.047524597 | 0.018619088 | 0.0000000000 | 0.0058670454 | 0.000000e+00 |   0 |\n| 0.000000000 | 0.000000000 | 0.243219569 | 0.091056228 | 0.0000000000 | 0.0000000000 | 0.000000e+00 |   0 |\n| 0.000000000 | 0.000000000 | 0.125381410 | 0.073416777 | 0.0000000000 | 0.0000000000 | 0.000000e+00 |   0 |\n| 0.000000000 | 0.000000000 | 0.090595387 | 0.026618401 | 0.0000000000 | 0.0346519016 | 7.562046e-05 |   0 |\n| 0.000000000 | 0.000000000 | 0.000000000 | 0.685596108 | 0.0000000000 | 0.0000000000 | 0.000000e+00 |   0 |\n| 0.000000000 | 0.000000000 | 0.054343604 | 0.010186321 | 0.0027163522 | 0.0214290023 | 0.000000e+00 |   0 |\n| 0.000000000 | 0.000000000 | 0.010272254 | 0.037220493 | 0.0004490810 | 0.0217055269 | 0.000000e+00 |   0 |\n| 0.000000000 | 0.000000000 | 0.099895000 | 0.000000000 | 0.0000000000 | 0.0135731678 | 0.000000e+00 |   0 |\n| 0.000000000 | 0.000000000 | 0.015938876 | 0.041767709 | 0.0000000000 | 0.0760822594 | 0.000000e+00 |   0 |\n| 0.000000000 | 0.000000000 | 0.005053669 | 0.000000000 | 0.0000000000 | 0.2068058997 | 0.000000e+00 |   0 |\n| 0.000000000 | 0.000000000 | 0.021329120 | 0.009142758 | 0.0000000000 | 0.0000000000 | 0.000000e+00 |   0 |\n| 0.000000000 | 0.000000000 | 0.009156722 | 0.019563038 | 0.0006598420 | 0.0312998071 | 0.000000e+00 |   0 |\n| 0.000000000 | 0.000000000 | 0.006007832 | 0.017165232 | 0.0000000000 | 0.0000000000 | 0.000000e+00 |   0 |\n| 0.000000000 | 0.000000000 | 0.012390758 | 0.153778374 | 0.0000000000 | 0.0000000000 | 0.000000e+00 |   0 |\n| 0.000000000 | 0.000000000 | 0.254973084 | 0.030823912 | 0.0000000000 | 0.0012934913 | 0.000000e+00 |   0 |\n| 0.000000000 | 0.000000000 | 0.008664154 | 0.128438443 | 0.0000000000 | 0.0001506809 | 0.000000e+00 |   0 |\n| 0.000000000 | 0.002712686 | 0.027056376 | 0.135434017 | 0.0000000000 | 0.0000000000 | 8.064742e-04 |   0 |\n| 0.000000000 | 0.000000000 | 0.052321795 | 0.000000000 | 0.0000000000 | 0.0000000000 | 0.000000e+00 |   0 |\n| 0.000000000 | 0.000000000 | 0.016167874 | 0.052634101 | 0.0000000000 | 0.0000000000 | 0.000000e+00 |   0 |\n| 0.000000000 | 0.000000000 | 0.002346181 | 0.079545364 | 0.0000000000 | 0.0000000000 | 0.000000e+00 |   0 |\n| 0.001788395 | 0.014816149 | 0.090606913 | 0.089109510 | 0.0000000000 | 0.0000000000 | 0.000000e+00 |   0 |\n| 0.000000000 | 0.000000000 | 0.075017288 | 0.045473609 | 0.0000000000 | 0.0000000000 | 0.000000e+00 |   0 |\n| 0.000000000 | 0.000000000 | 0.159289852 | 0.012170439 | 0.0003665795 | 0.0000000000 | 0.000000e+00 |   0 |\n| 0.006384280 | 0.008264596 | 0.000000000 | 0.000000000 | 0.0000000000 | 0.0000000000 | 0.000000e+00 |   0 |\n| 0.000000000 | 0.000000000 | 0.000000000 | 0.000000000 | 0.0000000000 | 0.0000000000 | 0.000000e+00 |   0 |\n| ⋮ | ⋮ | ⋮ | ⋮ | ⋮ | ⋮ | ⋮ | ⋮ |\n| 4.580766e-03 | 0.0143861817 | 1.359308e-04 | 0.000000000 | 0.0003099346 |   0 | 0.000000000 | 0.000000000 |\n|          NaN |          NaN |          NaN |         NaN |          NaN | NaN |         NaN |         NaN |\n| 0.000000e+00 | 0.0000000000 | 6.539521e-02 | 0.000309031 | 0.0117559647 |   0 | 0.000000000 | 0.003296331 |\n| 0.000000e+00 | 0.0000000000 | 0.000000e+00 | 0.000000000 | 0.0000000000 |   0 | 0.000000000 | 0.000000000 |\n| 3.832366e-03 | 0.0113054393 | 2.214256e-03 | 0.000000000 | 0.0000000000 |   0 | 0.000000000 | 0.000000000 |\n|          NaN |          NaN |          NaN |         NaN |          NaN | NaN |         NaN |         NaN |\n| 0.000000e+00 | 0.0000000000 | 0.000000e+00 | 0.000000000 | 0.0000000000 |   0 | 0.000000000 | 0.000000000 |\n| 0.000000e+00 | 0.0000000000 | 0.000000e+00 | 0.004069553 | 0.0000000000 |   0 | 0.000000000 | 0.000000000 |\n| 7.715864e-03 | 0.0087024225 | 1.486169e-04 | 0.000000000 | 0.0030548777 |   0 | 0.000000000 | 0.000000000 |\n|          NaN |          NaN |          NaN |         NaN |          NaN | NaN |         NaN |         NaN |\n| 0.000000e+00 | 0.0000000000 | 1.818900e-03 | 0.094838820 | 0.0179848894 |   0 | 0.000000000 | 0.000000000 |\n| 0.000000e+00 | 0.0499681756 | 0.000000e+00 | 0.000000000 | 0.0000000000 |   0 | 0.000000000 | 0.000000000 |\n| 7.804318e-03 | 0.0052028787 | 0.000000e+00 | 0.000000000 | 0.1037693843 |   0 | 0.000000000 | 0.000000000 |\n| 1.416211e-03 | 0.0000000000 | 4.177823e-02 | 0.055700440 | 0.0021243170 |   0 | 0.002124317 | 0.000000000 |\n| 0.000000e+00 | 0.0000349444 | 8.380912e-05 | 0.015318073 | 0.0000000000 |   0 | 0.000000000 | 0.000000000 |\n| 3.120559e-02 | 0.0000000000 | 0.000000e+00 | 0.000000000 | 0.0000000000 |   0 | 0.000000000 | 0.000000000 |\n| 0.000000e+00 | 0.0052257623 | 0.000000e+00 | 0.006728240 | 0.0033079695 |   0 | 0.000000000 | 0.000000000 |\n| 2.216481e-03 | 0.0719866976 | 0.000000e+00 | 0.003277010 | 0.0148245664 |   0 | 0.000000000 | 0.000000000 |\n| 5.424418e-03 | 0.0016273253 | 0.000000e+00 | 0.030919181 | 0.0005729062 |   0 | 0.010848835 | 0.000000000 |\n| 5.079613e-04 | 0.0172878057 | 4.658982e-03 | 0.001200706 | 0.0067050890 |   0 | 0.000000000 | 0.000000000 |\n| 0.000000e+00 | 0.0002945016 | 0.000000e+00 | 0.000000000 | 0.0045647747 |   0 | 0.000000000 | 0.000000000 |\n|          NaN |          NaN |          NaN |         NaN |          NaN | NaN |         NaN |         NaN |\n| 0.000000e+00 | 0.0000000000 | 1.107946e-03 | 0.000000000 | 0.1468027830 |   0 | 0.000000000 | 0.000000000 |\n| 0.000000e+00 | 0.0295935702 | 0.000000e+00 | 0.000000000 | 0.0983593985 |   0 | 0.000000000 | 0.000000000 |\n| 8.194816e-05 | 0.0206509363 | 8.877823e-03 | 0.003441823 | 0.0261017215 |   0 | 0.001966756 | 0.001311171 |\n| 0.000000e+00 | 0.0000000000 | 6.526350e-02 | 0.079491630 | 0.0091777919 |   0 | 0.089330502 | 0.000000000 |\n|          NaN |          NaN |          NaN |         NaN |          NaN | NaN |         NaN |         NaN |\n| 4.659157e-03 | 0.0120589947 | 3.836953e-03 | 0.003985012 | 0.0557499193 |   0 | 0.003151783 | 0.000000000 |\n|          NaN |          NaN |          NaN |         NaN |          NaN | NaN |         NaN |         NaN |\n| 0.000000e+00 | 0.0000000000 | 0.000000e+00 | 0.000000000 | 0.0000000000 |   0 | 0.000000000 | 0.000000000 |\n\n",
            "text/latex": "A data.table: 1332 × 8\n\\begin{tabular}{llllllll}\n Forest\\_Water & Water\\_Forest & Forest\\_Grasslike-cover & Grasslike-cover\\_Forest & Forest\\_Developed & Snow and Ice\\_Forest & Crop-cover\\_Forest & Forest\\_Crop-cover\\\\\n <dbl> & <dbl> & <dbl> & <dbl> & <dbl> & <dbl> & <dbl> & <dbl>\\\\\n\\hline\n\t 0.000000000 & 0.000000000 & 0.000000000 & 0.000000000 & 0.0000000000 & 0.0000000000 & 0.000000e+00 &   0\\\\\n\t         NaN &         NaN &         NaN &         NaN &          NaN &          NaN &          NaN & NaN\\\\\n\t 0.000000000 & 0.000000000 & 0.039025024 & 0.046750583 & 0.0000000000 & 0.0000000000 & 0.000000e+00 &   0\\\\\n\t 0.000000000 & 0.000000000 & 0.080512382 & 0.016498428 & 0.0000000000 & 0.0000000000 & 0.000000e+00 &   0\\\\\n\t         NaN &         NaN &         NaN &         NaN &          NaN &          NaN &          NaN & NaN\\\\\n\t 0.000000000 & 0.000000000 & 0.047524597 & 0.018619088 & 0.0000000000 & 0.0058670454 & 0.000000e+00 &   0\\\\\n\t 0.000000000 & 0.000000000 & 0.243219569 & 0.091056228 & 0.0000000000 & 0.0000000000 & 0.000000e+00 &   0\\\\\n\t 0.000000000 & 0.000000000 & 0.125381410 & 0.073416777 & 0.0000000000 & 0.0000000000 & 0.000000e+00 &   0\\\\\n\t 0.000000000 & 0.000000000 & 0.090595387 & 0.026618401 & 0.0000000000 & 0.0346519016 & 7.562046e-05 &   0\\\\\n\t 0.000000000 & 0.000000000 & 0.000000000 & 0.685596108 & 0.0000000000 & 0.0000000000 & 0.000000e+00 &   0\\\\\n\t 0.000000000 & 0.000000000 & 0.054343604 & 0.010186321 & 0.0027163522 & 0.0214290023 & 0.000000e+00 &   0\\\\\n\t 0.000000000 & 0.000000000 & 0.010272254 & 0.037220493 & 0.0004490810 & 0.0217055269 & 0.000000e+00 &   0\\\\\n\t 0.000000000 & 0.000000000 & 0.099895000 & 0.000000000 & 0.0000000000 & 0.0135731678 & 0.000000e+00 &   0\\\\\n\t 0.000000000 & 0.000000000 & 0.015938876 & 0.041767709 & 0.0000000000 & 0.0760822594 & 0.000000e+00 &   0\\\\\n\t 0.000000000 & 0.000000000 & 0.005053669 & 0.000000000 & 0.0000000000 & 0.2068058997 & 0.000000e+00 &   0\\\\\n\t 0.000000000 & 0.000000000 & 0.021329120 & 0.009142758 & 0.0000000000 & 0.0000000000 & 0.000000e+00 &   0\\\\\n\t 0.000000000 & 0.000000000 & 0.009156722 & 0.019563038 & 0.0006598420 & 0.0312998071 & 0.000000e+00 &   0\\\\\n\t 0.000000000 & 0.000000000 & 0.006007832 & 0.017165232 & 0.0000000000 & 0.0000000000 & 0.000000e+00 &   0\\\\\n\t 0.000000000 & 0.000000000 & 0.012390758 & 0.153778374 & 0.0000000000 & 0.0000000000 & 0.000000e+00 &   0\\\\\n\t 0.000000000 & 0.000000000 & 0.254973084 & 0.030823912 & 0.0000000000 & 0.0012934913 & 0.000000e+00 &   0\\\\\n\t 0.000000000 & 0.000000000 & 0.008664154 & 0.128438443 & 0.0000000000 & 0.0001506809 & 0.000000e+00 &   0\\\\\n\t 0.000000000 & 0.002712686 & 0.027056376 & 0.135434017 & 0.0000000000 & 0.0000000000 & 8.064742e-04 &   0\\\\\n\t 0.000000000 & 0.000000000 & 0.052321795 & 0.000000000 & 0.0000000000 & 0.0000000000 & 0.000000e+00 &   0\\\\\n\t 0.000000000 & 0.000000000 & 0.016167874 & 0.052634101 & 0.0000000000 & 0.0000000000 & 0.000000e+00 &   0\\\\\n\t 0.000000000 & 0.000000000 & 0.002346181 & 0.079545364 & 0.0000000000 & 0.0000000000 & 0.000000e+00 &   0\\\\\n\t 0.001788395 & 0.014816149 & 0.090606913 & 0.089109510 & 0.0000000000 & 0.0000000000 & 0.000000e+00 &   0\\\\\n\t 0.000000000 & 0.000000000 & 0.075017288 & 0.045473609 & 0.0000000000 & 0.0000000000 & 0.000000e+00 &   0\\\\\n\t 0.000000000 & 0.000000000 & 0.159289852 & 0.012170439 & 0.0003665795 & 0.0000000000 & 0.000000e+00 &   0\\\\\n\t 0.006384280 & 0.008264596 & 0.000000000 & 0.000000000 & 0.0000000000 & 0.0000000000 & 0.000000e+00 &   0\\\\\n\t 0.000000000 & 0.000000000 & 0.000000000 & 0.000000000 & 0.0000000000 & 0.0000000000 & 0.000000e+00 &   0\\\\\n\t ⋮ & ⋮ & ⋮ & ⋮ & ⋮ & ⋮ & ⋮ & ⋮\\\\\n\t 4.580766e-03 & 0.0143861817 & 1.359308e-04 & 0.000000000 & 0.0003099346 &   0 & 0.000000000 & 0.000000000\\\\\n\t          NaN &          NaN &          NaN &         NaN &          NaN & NaN &         NaN &         NaN\\\\\n\t 0.000000e+00 & 0.0000000000 & 6.539521e-02 & 0.000309031 & 0.0117559647 &   0 & 0.000000000 & 0.003296331\\\\\n\t 0.000000e+00 & 0.0000000000 & 0.000000e+00 & 0.000000000 & 0.0000000000 &   0 & 0.000000000 & 0.000000000\\\\\n\t 3.832366e-03 & 0.0113054393 & 2.214256e-03 & 0.000000000 & 0.0000000000 &   0 & 0.000000000 & 0.000000000\\\\\n\t          NaN &          NaN &          NaN &         NaN &          NaN & NaN &         NaN &         NaN\\\\\n\t 0.000000e+00 & 0.0000000000 & 0.000000e+00 & 0.000000000 & 0.0000000000 &   0 & 0.000000000 & 0.000000000\\\\\n\t 0.000000e+00 & 0.0000000000 & 0.000000e+00 & 0.004069553 & 0.0000000000 &   0 & 0.000000000 & 0.000000000\\\\\n\t 7.715864e-03 & 0.0087024225 & 1.486169e-04 & 0.000000000 & 0.0030548777 &   0 & 0.000000000 & 0.000000000\\\\\n\t          NaN &          NaN &          NaN &         NaN &          NaN & NaN &         NaN &         NaN\\\\\n\t 0.000000e+00 & 0.0000000000 & 1.818900e-03 & 0.094838820 & 0.0179848894 &   0 & 0.000000000 & 0.000000000\\\\\n\t 0.000000e+00 & 0.0499681756 & 0.000000e+00 & 0.000000000 & 0.0000000000 &   0 & 0.000000000 & 0.000000000\\\\\n\t 7.804318e-03 & 0.0052028787 & 0.000000e+00 & 0.000000000 & 0.1037693843 &   0 & 0.000000000 & 0.000000000\\\\\n\t 1.416211e-03 & 0.0000000000 & 4.177823e-02 & 0.055700440 & 0.0021243170 &   0 & 0.002124317 & 0.000000000\\\\\n\t 0.000000e+00 & 0.0000349444 & 8.380912e-05 & 0.015318073 & 0.0000000000 &   0 & 0.000000000 & 0.000000000\\\\\n\t 3.120559e-02 & 0.0000000000 & 0.000000e+00 & 0.000000000 & 0.0000000000 &   0 & 0.000000000 & 0.000000000\\\\\n\t 0.000000e+00 & 0.0052257623 & 0.000000e+00 & 0.006728240 & 0.0033079695 &   0 & 0.000000000 & 0.000000000\\\\\n\t 2.216481e-03 & 0.0719866976 & 0.000000e+00 & 0.003277010 & 0.0148245664 &   0 & 0.000000000 & 0.000000000\\\\\n\t 5.424418e-03 & 0.0016273253 & 0.000000e+00 & 0.030919181 & 0.0005729062 &   0 & 0.010848835 & 0.000000000\\\\\n\t 5.079613e-04 & 0.0172878057 & 4.658982e-03 & 0.001200706 & 0.0067050890 &   0 & 0.000000000 & 0.000000000\\\\\n\t 0.000000e+00 & 0.0002945016 & 0.000000e+00 & 0.000000000 & 0.0045647747 &   0 & 0.000000000 & 0.000000000\\\\\n\t          NaN &          NaN &          NaN &         NaN &          NaN & NaN &         NaN &         NaN\\\\\n\t 0.000000e+00 & 0.0000000000 & 1.107946e-03 & 0.000000000 & 0.1468027830 &   0 & 0.000000000 & 0.000000000\\\\\n\t 0.000000e+00 & 0.0295935702 & 0.000000e+00 & 0.000000000 & 0.0983593985 &   0 & 0.000000000 & 0.000000000\\\\\n\t 8.194816e-05 & 0.0206509363 & 8.877823e-03 & 0.003441823 & 0.0261017215 &   0 & 0.001966756 & 0.001311171\\\\\n\t 0.000000e+00 & 0.0000000000 & 6.526350e-02 & 0.079491630 & 0.0091777919 &   0 & 0.089330502 & 0.000000000\\\\\n\t          NaN &          NaN &          NaN &         NaN &          NaN & NaN &         NaN &         NaN\\\\\n\t 4.659157e-03 & 0.0120589947 & 3.836953e-03 & 0.003985012 & 0.0557499193 &   0 & 0.003151783 & 0.000000000\\\\\n\t          NaN &          NaN &          NaN &         NaN &          NaN & NaN &         NaN &         NaN\\\\\n\t 0.000000e+00 & 0.0000000000 & 0.000000e+00 & 0.000000000 & 0.0000000000 &   0 & 0.000000000 & 0.000000000\\\\\n\\end{tabular}\n",
            "text/plain": [
              "     Forest_Water Water_Forest Forest_Grasslike-cover Grasslike-cover_Forest\n",
              "1    0.000000000  0.000000000  0.000000000            0.000000000           \n",
              "2            NaN          NaN          NaN                    NaN           \n",
              "3    0.000000000  0.000000000  0.039025024            0.046750583           \n",
              "4    0.000000000  0.000000000  0.080512382            0.016498428           \n",
              "5            NaN          NaN          NaN                    NaN           \n",
              "6    0.000000000  0.000000000  0.047524597            0.018619088           \n",
              "7    0.000000000  0.000000000  0.243219569            0.091056228           \n",
              "8    0.000000000  0.000000000  0.125381410            0.073416777           \n",
              "9    0.000000000  0.000000000  0.090595387            0.026618401           \n",
              "10   0.000000000  0.000000000  0.000000000            0.685596108           \n",
              "11   0.000000000  0.000000000  0.054343604            0.010186321           \n",
              "12   0.000000000  0.000000000  0.010272254            0.037220493           \n",
              "13   0.000000000  0.000000000  0.099895000            0.000000000           \n",
              "14   0.000000000  0.000000000  0.015938876            0.041767709           \n",
              "15   0.000000000  0.000000000  0.005053669            0.000000000           \n",
              "16   0.000000000  0.000000000  0.021329120            0.009142758           \n",
              "17   0.000000000  0.000000000  0.009156722            0.019563038           \n",
              "18   0.000000000  0.000000000  0.006007832            0.017165232           \n",
              "19   0.000000000  0.000000000  0.012390758            0.153778374           \n",
              "20   0.000000000  0.000000000  0.254973084            0.030823912           \n",
              "21   0.000000000  0.000000000  0.008664154            0.128438443           \n",
              "22   0.000000000  0.002712686  0.027056376            0.135434017           \n",
              "23   0.000000000  0.000000000  0.052321795            0.000000000           \n",
              "24   0.000000000  0.000000000  0.016167874            0.052634101           \n",
              "25   0.000000000  0.000000000  0.002346181            0.079545364           \n",
              "26   0.001788395  0.014816149  0.090606913            0.089109510           \n",
              "27   0.000000000  0.000000000  0.075017288            0.045473609           \n",
              "28   0.000000000  0.000000000  0.159289852            0.012170439           \n",
              "29   0.006384280  0.008264596  0.000000000            0.000000000           \n",
              "30   0.000000000  0.000000000  0.000000000            0.000000000           \n",
              "⋮    ⋮            ⋮            ⋮                      ⋮                     \n",
              "1303 4.580766e-03 0.0143861817 1.359308e-04           0.000000000           \n",
              "1304          NaN          NaN          NaN                   NaN           \n",
              "1305 0.000000e+00 0.0000000000 6.539521e-02           0.000309031           \n",
              "1306 0.000000e+00 0.0000000000 0.000000e+00           0.000000000           \n",
              "1307 3.832366e-03 0.0113054393 2.214256e-03           0.000000000           \n",
              "1308          NaN          NaN          NaN                   NaN           \n",
              "1309 0.000000e+00 0.0000000000 0.000000e+00           0.000000000           \n",
              "1310 0.000000e+00 0.0000000000 0.000000e+00           0.004069553           \n",
              "1311 7.715864e-03 0.0087024225 1.486169e-04           0.000000000           \n",
              "1312          NaN          NaN          NaN                   NaN           \n",
              "1313 0.000000e+00 0.0000000000 1.818900e-03           0.094838820           \n",
              "1314 0.000000e+00 0.0499681756 0.000000e+00           0.000000000           \n",
              "1315 7.804318e-03 0.0052028787 0.000000e+00           0.000000000           \n",
              "1316 1.416211e-03 0.0000000000 4.177823e-02           0.055700440           \n",
              "1317 0.000000e+00 0.0000349444 8.380912e-05           0.015318073           \n",
              "1318 3.120559e-02 0.0000000000 0.000000e+00           0.000000000           \n",
              "1319 0.000000e+00 0.0052257623 0.000000e+00           0.006728240           \n",
              "1320 2.216481e-03 0.0719866976 0.000000e+00           0.003277010           \n",
              "1321 5.424418e-03 0.0016273253 0.000000e+00           0.030919181           \n",
              "1322 5.079613e-04 0.0172878057 4.658982e-03           0.001200706           \n",
              "1323 0.000000e+00 0.0002945016 0.000000e+00           0.000000000           \n",
              "1324          NaN          NaN          NaN                   NaN           \n",
              "1325 0.000000e+00 0.0000000000 1.107946e-03           0.000000000           \n",
              "1326 0.000000e+00 0.0295935702 0.000000e+00           0.000000000           \n",
              "1327 8.194816e-05 0.0206509363 8.877823e-03           0.003441823           \n",
              "1328 0.000000e+00 0.0000000000 6.526350e-02           0.079491630           \n",
              "1329          NaN          NaN          NaN                   NaN           \n",
              "1330 4.659157e-03 0.0120589947 3.836953e-03           0.003985012           \n",
              "1331          NaN          NaN          NaN                   NaN           \n",
              "1332 0.000000e+00 0.0000000000 0.000000e+00           0.000000000           \n",
              "     Forest_Developed Snow and Ice_Forest Crop-cover_Forest Forest_Crop-cover\n",
              "1    0.0000000000     0.0000000000        0.000000e+00        0              \n",
              "2             NaN              NaN                 NaN      NaN              \n",
              "3    0.0000000000     0.0000000000        0.000000e+00        0              \n",
              "4    0.0000000000     0.0000000000        0.000000e+00        0              \n",
              "5             NaN              NaN                 NaN      NaN              \n",
              "6    0.0000000000     0.0058670454        0.000000e+00        0              \n",
              "7    0.0000000000     0.0000000000        0.000000e+00        0              \n",
              "8    0.0000000000     0.0000000000        0.000000e+00        0              \n",
              "9    0.0000000000     0.0346519016        7.562046e-05        0              \n",
              "10   0.0000000000     0.0000000000        0.000000e+00        0              \n",
              "11   0.0027163522     0.0214290023        0.000000e+00        0              \n",
              "12   0.0004490810     0.0217055269        0.000000e+00        0              \n",
              "13   0.0000000000     0.0135731678        0.000000e+00        0              \n",
              "14   0.0000000000     0.0760822594        0.000000e+00        0              \n",
              "15   0.0000000000     0.2068058997        0.000000e+00        0              \n",
              "16   0.0000000000     0.0000000000        0.000000e+00        0              \n",
              "17   0.0006598420     0.0312998071        0.000000e+00        0              \n",
              "18   0.0000000000     0.0000000000        0.000000e+00        0              \n",
              "19   0.0000000000     0.0000000000        0.000000e+00        0              \n",
              "20   0.0000000000     0.0012934913        0.000000e+00        0              \n",
              "21   0.0000000000     0.0001506809        0.000000e+00        0              \n",
              "22   0.0000000000     0.0000000000        8.064742e-04        0              \n",
              "23   0.0000000000     0.0000000000        0.000000e+00        0              \n",
              "24   0.0000000000     0.0000000000        0.000000e+00        0              \n",
              "25   0.0000000000     0.0000000000        0.000000e+00        0              \n",
              "26   0.0000000000     0.0000000000        0.000000e+00        0              \n",
              "27   0.0000000000     0.0000000000        0.000000e+00        0              \n",
              "28   0.0003665795     0.0000000000        0.000000e+00        0              \n",
              "29   0.0000000000     0.0000000000        0.000000e+00        0              \n",
              "30   0.0000000000     0.0000000000        0.000000e+00        0              \n",
              "⋮    ⋮                ⋮                   ⋮                 ⋮                \n",
              "1303 0.0003099346       0                 0.000000000       0.000000000      \n",
              "1304          NaN     NaN                         NaN               NaN      \n",
              "1305 0.0117559647       0                 0.000000000       0.003296331      \n",
              "1306 0.0000000000       0                 0.000000000       0.000000000      \n",
              "1307 0.0000000000       0                 0.000000000       0.000000000      \n",
              "1308          NaN     NaN                         NaN               NaN      \n",
              "1309 0.0000000000       0                 0.000000000       0.000000000      \n",
              "1310 0.0000000000       0                 0.000000000       0.000000000      \n",
              "1311 0.0030548777       0                 0.000000000       0.000000000      \n",
              "1312          NaN     NaN                         NaN               NaN      \n",
              "1313 0.0179848894       0                 0.000000000       0.000000000      \n",
              "1314 0.0000000000       0                 0.000000000       0.000000000      \n",
              "1315 0.1037693843       0                 0.000000000       0.000000000      \n",
              "1316 0.0021243170       0                 0.002124317       0.000000000      \n",
              "1317 0.0000000000       0                 0.000000000       0.000000000      \n",
              "1318 0.0000000000       0                 0.000000000       0.000000000      \n",
              "1319 0.0033079695       0                 0.000000000       0.000000000      \n",
              "1320 0.0148245664       0                 0.000000000       0.000000000      \n",
              "1321 0.0005729062       0                 0.010848835       0.000000000      \n",
              "1322 0.0067050890       0                 0.000000000       0.000000000      \n",
              "1323 0.0045647747       0                 0.000000000       0.000000000      \n",
              "1324          NaN     NaN                         NaN               NaN      \n",
              "1325 0.1468027830       0                 0.000000000       0.000000000      \n",
              "1326 0.0983593985       0                 0.000000000       0.000000000      \n",
              "1327 0.0261017215       0                 0.001966756       0.001311171      \n",
              "1328 0.0091777919       0                 0.089330502       0.000000000      \n",
              "1329          NaN     NaN                         NaN               NaN      \n",
              "1330 0.0557499193       0                 0.003151783       0.000000000      \n",
              "1331          NaN     NaN                         NaN               NaN      \n",
              "1332 0.0000000000       0                 0.000000000       0.000000000      "
            ]
          },
          "metadata": {}
        }
      ]
    },
    {
      "cell_type": "code",
      "source": [
        "grid_test <- grid"
      ],
      "metadata": {
        "id": "OQbr8MQIyGnt"
      },
      "execution_count": 176,
      "outputs": []
    },
    {
      "cell_type": "code",
      "source": [
        "grid_test$`Forest_Grasslike-cover` <-"
      ],
      "metadata": {
        "id": "5ML-pRo4xXmm",
        "outputId": "10c85291-9379-4342-ec7f-d9c5eac7d93c",
        "colab": {
          "base_uri": "https://localhost:8080/"
        }
      },
      "execution_count": 178,
      "outputs": [
        {
          "output_type": "stream",
          "name": "stdout",
          "text": [
            "  |======================================================================| 100%\n"
          ]
        }
      ]
    },
    {
      "cell_type": "code",
      "source": [
        "grid_test %>% st_write('/content/test_region.gpkg')"
      ],
      "metadata": {
        "id": "BQYfQ-9NyZT9",
        "outputId": "9e9c5ec7-0f8e-4aaa-9ad8-84f35c7d8c57",
        "colab": {
          "base_uri": "https://localhost:8080/"
        }
      },
      "execution_count": 179,
      "outputs": [
        {
          "output_type": "stream",
          "name": "stdout",
          "text": [
            "Writing layer `test_region' to data source \n",
            "  `/content/test_region.gpkg' using driver `GPKG'\n",
            "Writing 1332 features with 2 fields and geometry type Polygon.\n"
          ]
        }
      ]
    }
  ]
}
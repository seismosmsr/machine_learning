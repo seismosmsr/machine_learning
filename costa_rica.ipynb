{
  "nbformat": 4,
  "nbformat_minor": 0,
  "metadata": {
    "colab": {
      "provenance": [],
      "machine_shape": "hm",
      "authorship_tag": "ABX9TyO1C5ACReq2p9+8h4niZN+T",
      "include_colab_link": true
    },
    "kernelspec": {
      "name": "ir",
      "display_name": "R"
    },
    "language_info": {
      "name": "R"
    }
  },
  "cells": [
    {
      "cell_type": "markdown",
      "metadata": {
        "id": "view-in-github",
        "colab_type": "text"
      },
      "source": [
        "<a href=\"https://colab.research.google.com/github/seismosmsr/machine_learning/blob/main/costa_rica.ipynb\" target=\"_parent\"><img src=\"https://colab.research.google.com/assets/colab-badge.svg\" alt=\"Open In Colab\"/></a>"
      ]
    },
    {
      "cell_type": "code",
      "execution_count": 1,
      "metadata": {
        "colab": {
          "base_uri": "https://localhost:8080/"
        },
        "id": "tDyuup-h5ecn",
        "outputId": "ac8e3d4f-9812-41a6-d92a-3af35461eccf"
      },
      "outputs": [
        {
          "output_type": "stream",
          "name": "stderr",
          "text": [
            "Installing package into ‘/usr/local/lib/R/site-library’\n",
            "(as ‘lib’ is unspecified)\n",
            "\n",
            "also installing the dependencies ‘proxy’, ‘e1071’, ‘wk’, ‘classInt’, ‘Rcpp’, ‘s2’, ‘units’\n",
            "\n",
            "\n",
            "Installing package into ‘/usr/local/lib/R/site-library’\n",
            "(as ‘lib’ is unspecified)\n",
            "\n",
            "also installing the dependencies ‘sp’, ‘terra’\n",
            "\n",
            "\n",
            "Installing package into ‘/usr/local/lib/R/site-library’\n",
            "(as ‘lib’ is unspecified)\n",
            "\n",
            "Installing package into ‘/usr/local/lib/R/site-library’\n",
            "(as ‘lib’ is unspecified)\n",
            "\n",
            "Installing package into ‘/usr/local/lib/R/site-library’\n",
            "(as ‘lib’ is unspecified)\n",
            "\n",
            "Warning message:\n",
            "“package ‘googletoken’ is not available for this version of R\n",
            "\n",
            "A version of this package for your version of R might be available elsewhere,\n",
            "see the ideas at\n",
            "https://cran.r-project.org/doc/manuals/r-patched/R-admin.html#Installing-packages”\n",
            "Installing package into ‘/usr/local/lib/R/site-library’\n",
            "(as ‘lib’ is unspecified)\n",
            "\n",
            "Installing package into ‘/usr/local/lib/R/site-library’\n",
            "(as ‘lib’ is unspecified)\n",
            "\n",
            "also installing the dependency ‘plogr’\n",
            "\n",
            "\n",
            "Installing package into ‘/usr/local/lib/R/site-library’\n",
            "(as ‘lib’ is unspecified)\n",
            "\n",
            "Installing package into ‘/usr/local/lib/R/site-library’\n",
            "(as ‘lib’ is unspecified)\n",
            "\n",
            "Installing package into ‘/usr/local/lib/R/site-library’\n",
            "(as ‘lib’ is unspecified)\n",
            "\n"
          ]
        }
      ],
      "source": [
        "install.packages('sf')\n",
        "install.packages('raster')\n",
        "install.packages('exactextractr')\n",
        "install.packages(\"googledrive\")\n",
        "install.packages(\"googletoken\")\n",
        "install.packages(\"DBI\")\n",
        "install.packages(\"RSQLite\")\n",
        "install.packages(\"RPostgreSQL\")\n",
        "install.packages(\"terra\")\n",
        "install.packages('randomForest')"
      ]
    },
    {
      "cell_type": "code",
      "source": [
        "install.packages(\"ggalluvial\")"
      ],
      "metadata": {
        "id": "U44-pjdkTJqE",
        "outputId": "27070c05-11d4-4884-8735-201bb28642c6",
        "colab": {
          "base_uri": "https://localhost:8080/"
        }
      },
      "execution_count": 50,
      "outputs": [
        {
          "output_type": "stream",
          "name": "stderr",
          "text": [
            "Installing package into ‘/usr/local/lib/R/site-library’\n",
            "(as ‘lib’ is unspecified)\n",
            "\n",
            "also installing the dependency ‘lazyeval’\n",
            "\n",
            "\n"
          ]
        }
      ]
    },
    {
      "cell_type": "code",
      "source": [
        "library(ggplot2)\n",
        "library(sf)\n",
        "library(magrittr)\n",
        "library(data.table)\n",
        "library(raster)\n",
        "library(exactextractr)\n",
        "library(googledrive)\n",
        "library(DBI)\n",
        "library(terra)\n",
        "library(randomForest)\n",
        "library(parallel)\n",
        "library(ggsankey)"
      ],
      "metadata": {
        "id": "DwkJDheQ9W4t"
      },
      "execution_count": 45,
      "outputs": []
    },
    {
      "cell_type": "code",
      "source": [
        "drive_auth(use_oob = TRUE, cache = FALSE)"
      ],
      "metadata": {
        "colab": {
          "base_uri": "https://localhost:8080/"
        },
        "id": "NPR1D9E28X6D",
        "outputId": "0885b5d5-505e-405b-e47f-5f6934d1eaba"
      },
      "execution_count": 3,
      "outputs": [
        {
          "output_type": "stream",
          "name": "stderr",
          "text": [
            "Please point your browser to the following url: \n",
            "\n",
            "https://accounts.google.com/o/oauth2/v2/auth?client_id=603366585132-frjlouoa3s2ono25d2l9ukvhlsrlnr7k.apps.googleusercontent.com&scope=https%3A%2F%2Fwww.googleapis.com%2Fauth%2Fdrive%20https%3A%2F%2Fwww.googleapis.com%2Fauth%2Fuserinfo.email&redirect_uri=https%3A%2F%2Fwww.tidyverse.org%2Fgoogle-callback%2F&response_type=code&state=9fbd485b94426643624c19081d1a1d66&access_type=offline&prompt=consent\n",
            "\n"
          ]
        },
        {
          "name": "stdout",
          "output_type": "stream",
          "text": [
            "Enter authorization code: eyJjb2RlIjoiNC8wQWZKb2hYbkF4SUN6VGpGZ0lHYWg5OGpSRzBib0x0NExKMGtaSFpYcnNfdFdRdU9HcE5tVUZ3ZUhGNFk5WGZ0ZHdDeTNodyIsInN0YXRlIjoiOWZiZDQ4NWI5NDQyNjY0MzYyNGMxOTA4MWQxYTFkNjYifQ==\n"
          ]
        }
      ]
    },
    {
      "cell_type": "code",
      "source": [
        "# https://drive.google.com/file/d/1LjaFrCAoY56gjmDICQdCPhiXnNAzizTw/view?usp=drive_link\n",
        "drive_download(file = as_id('1LjaFrCAoY56gjmDICQdCPhiXnNAzizTw'), path =  '/content/limon_22_23.tif', overwrite = TRUE)\n",
        "limon_22_23_tif <- stack('/content/limon_22_23.tif')"
      ],
      "metadata": {
        "id": "jqjRZQ0HC6Z5",
        "outputId": "bf208d2e-aafe-45cd-9341-aad5a851c0a7",
        "colab": {
          "base_uri": "https://localhost:8080/"
        }
      },
      "execution_count": 7,
      "outputs": [
        {
          "output_type": "stream",
          "name": "stderr",
          "text": [
            "File downloaded:\n",
            "\n",
            "• \u001b[36mCostaRica_Average_Land_Cover_Buffer_2000m_2022_to_2024.tif\u001b[39m\n",
            "  \u001b[90m<id: 1LjaFrCAoY56gjmDICQdCPhiXnNAzizTw>\u001b[39m\n",
            "\n",
            "Saved locally as:\n",
            "\n",
            "• \u001b[34m/content/limon_22_23.tif\u001b[39m\n",
            "\n"
          ]
        }
      ]
    },
    {
      "cell_type": "code",
      "source": [
        "# https://drive.google.com/file/d/1LPW7FjMpZmRDirr78wFdSjd_ujZmEYMM/view?usp=drive_link\n",
        "drive_download(file = as_id('1LPW7FjMpZmRDirr78wFdSjd_ujZmEYMM'), path =  '/content/limon_15_16.tif', overwrite = TRUE)\n",
        "limon_15_16_tif <- stack('/content/limon_15_16.tif')"
      ],
      "metadata": {
        "id": "uWQ-MpZLDT_h",
        "outputId": "a5c0ee6c-7b05-4c9b-9d71-e359691fc22b",
        "colab": {
          "base_uri": "https://localhost:8080/"
        }
      },
      "execution_count": 28,
      "outputs": [
        {
          "output_type": "stream",
          "name": "stderr",
          "text": [
            "File downloaded:\n",
            "\n",
            "• \u001b[36mCostaRica_Average_Land_Cover_Buffer_2000m_2016_to_2018.tif\u001b[39m\n",
            "  \u001b[90m<id: 1LPW7FjMpZmRDirr78wFdSjd_ujZmEYMM>\u001b[39m\n",
            "\n",
            "Saved locally as:\n",
            "\n",
            "• \u001b[34m/content/limon_15_16.tif\u001b[39m\n",
            "\n"
          ]
        }
      ]
    },
    {
      "cell_type": "code",
      "source": [
        "# https://drive.google.com/file/d/1gvkgN08c35R2iTeIcFSo1CuqeboGs_T7/view?usp=sharing\n",
        "drive_download(file = as_id('1gvkgN08c35R2iTeIcFSo1CuqeboGs_T7'), path =  '/content/limon.gpkg', overwrite = FALSE)\n",
        "limon_gpgk <- st_read('/content/limon.gpkg') %>% st_transform(st_crs(limon_22_23_tif))"
      ],
      "metadata": {
        "colab": {
          "base_uri": "https://localhost:8080/"
        },
        "id": "O3JDFecLIR3n",
        "outputId": "734cc1d5-8752-46bd-d01d-9f49ff2e91cb"
      },
      "execution_count": 10,
      "outputs": [
        {
          "output_type": "stream",
          "name": "stderr",
          "text": [
            "File downloaded:\n",
            "\n",
            "• \u001b[36mlimon.gpkg\u001b[39m \u001b[90m<id: 1gvkgN08c35R2iTeIcFSo1CuqeboGs_T7>\u001b[39m\n",
            "\n",
            "Saved locally as:\n",
            "\n",
            "• \u001b[34m/content/limon.gpkg\u001b[39m\n",
            "\n"
          ]
        },
        {
          "output_type": "stream",
          "name": "stdout",
          "text": [
            "Reading layer `limon' from data source `/content/limon.gpkg' using driver `GPKG'\n",
            "Simple feature collection with 1 feature and 4 fields\n",
            "Geometry type: MULTIPOLYGON\n",
            "Dimension:     XY\n",
            "Bounding box:  xmin: -83.94696 ymin: 9.07481 xmax: -82.55271 ymax: 10.93904\n",
            "Geodetic CRS:  WGS 84\n"
          ]
        }
      ]
    },
    {
      "cell_type": "code",
      "source": [
        "# https://drive.google.com/file/d/1WfxuulrDTpfL_rEUQAnDi9ogOsfNY7db/view?usp=drive_link\n",
        "drive_download(file = as_id('1WfxuulrDTpfL_rEUQAnDi9ogOsfNY7db'), path =  '/content/park.gpkg', overwrite = FALSE)\n",
        "park_gpgk <- st_read('/content/park.gpkg') %>% st_transform(st_crs(limon_22_23_tif))"
      ],
      "metadata": {
        "id": "XS0ijPDzEwL6",
        "outputId": "2377f9f6-043e-4734-e1e3-f4935247ea75",
        "colab": {
          "base_uri": "https://localhost:8080/"
        }
      },
      "execution_count": 12,
      "outputs": [
        {
          "output_type": "stream",
          "name": "stderr",
          "text": [
            "File downloaded:\n",
            "\n",
            "• \u001b[36mpark.gpkg\u001b[39m \u001b[90m<id: 1WfxuulrDTpfL_rEUQAnDi9ogOsfNY7db>\u001b[39m\n",
            "\n",
            "Saved locally as:\n",
            "\n",
            "• \u001b[34m/content/park.gpkg\u001b[39m\n",
            "\n"
          ]
        },
        {
          "output_type": "stream",
          "name": "stdout",
          "text": [
            "Reading layer `park' from data source `/content/park.gpkg' using driver `GPKG'\n",
            "Simple feature collection with 2 features and 0 fields\n",
            "Geometry type: MULTIPOLYGON\n",
            "Dimension:     XY\n",
            "Bounding box:  xmin: -83.39799 ymin: 10.07181 xmax: -83.15862 ymax: 10.35479\n",
            "Geodetic CRS:  WGS 84\n"
          ]
        }
      ]
    },
    {
      "cell_type": "code",
      "source": [
        "park_gpgk$names <- c('region','main')"
      ],
      "metadata": {
        "id": "pMJOMJseFkky"
      },
      "execution_count": 13,
      "outputs": []
    },
    {
      "cell_type": "code",
      "source": [
        "raster_list <- list(\n",
        "  limon_15_16_tif,\n",
        "  limon_22_23_tif)"
      ],
      "metadata": {
        "id": "nlQzIsZ1rXVO"
      },
      "execution_count": 29,
      "outputs": []
    },
    {
      "cell_type": "code",
      "source": [
        "names(raster_list) <- c('y2016','y2022')"
      ],
      "metadata": {
        "id": "0J3CH6EcsDDQ"
      },
      "execution_count": 30,
      "outputs": []
    },
    {
      "cell_type": "code",
      "source": [
        "# ndvi_rast <-raster_list[[1]] %>% rast\n",
        "\n",
        "# ndvi_dt <- exact_extract(ndvi_rast,park_gpgk,fun='mean')"
      ],
      "metadata": {
        "id": "nYN9l2KMGDYc",
        "outputId": "f806185c-a1af-4118-ebbd-3accd9105477",
        "colab": {
          "base_uri": "https://localhost:8080/"
        }
      },
      "execution_count": 17,
      "outputs": [
        {
          "output_type": "stream",
          "name": "stderr",
          "text": [
            "Cannot preload entire working area of 84005660 cells with max_cells_in_memory = 3e+07. Raster values will be read for each feature individually.\n",
            "\n"
          ]
        },
        {
          "output_type": "stream",
          "name": "stdout",
          "text": [
            "  |======================================================================| 100%\n"
          ]
        }
      ]
    },
    {
      "cell_type": "code",
      "source": [
        "limon_15_16_class_tif <- which.max(limon_15_16_tif[[1:9]])\n",
        "limon_22_23_class_tif <- which.max(limon_22_23_tif[[1:9]])"
      ],
      "metadata": {
        "id": "f0gkLADbGThz"
      },
      "execution_count": 31,
      "outputs": []
    },
    {
      "cell_type": "code",
      "source": [
        "limon_15_16_class_tif %>% writeRaster('/content/limon_16_18_classed.tif',overwrite =T)\n",
        "limon_22_23_class_tif %>% writeRaster('/content/limon_22_23_classed.tif',overwrite =T)"
      ],
      "metadata": {
        "id": "4clF621xJzmO"
      },
      "execution_count": 32,
      "outputs": []
    },
    {
      "cell_type": "code",
      "source": [
        "class_stack <- stack(limon_15_16_class_tif,limon_22_23_class_tif)"
      ],
      "metadata": {
        "id": "TlxZpxNLQRWo"
      },
      "execution_count": 35,
      "outputs": []
    },
    {
      "cell_type": "code",
      "source": [
        "class_dt <- values(class_stack) %>% data.table\n",
        "names(class_dt) <- c('y2018','y2023')\n",
        "class_dt$row <- 1"
      ],
      "metadata": {
        "id": "PVROc8aiRwBg"
      },
      "execution_count": 60,
      "outputs": []
    },
    {
      "cell_type": "code",
      "source": [
        "classes <- c('water','trees','grass','flooded_vegetation','crops','scrub_shrub','built','bare','snow_and_ice')"
      ],
      "metadata": {
        "id": "XIFxosRXUyGj"
      },
      "execution_count": 64,
      "outputs": []
    },
    {
      "cell_type": "code",
      "source": [
        "pretty_labels <- c('Water','Forest','Grasslike-cover','Wetlands Vegetation','Crop-cover','Scrub/ Shrub','Developed','Bare','Snow and Ice')"
      ],
      "metadata": {
        "id": "NZ-la6JYWQaW"
      },
      "execution_count": 74,
      "outputs": []
    },
    {
      "cell_type": "code",
      "source": [
        "class_dt[,class_y2018 := classes[y2018]]\n",
        "class_dt[,class_y2023 := classes[y2023]]\n",
        "\n",
        "class_dt[,pretty_class_y2018 := pretty_labels[y2018] %>% factor(levels=pretty_labels)]\n",
        "class_dt[,pretty_class_y2023 := pretty_labels[y2023] %>% factor(levels=pretty_labels)]"
      ],
      "metadata": {
        "id": "TyiduH4QWFiW"
      },
      "execution_count": 75,
      "outputs": []
    },
    {
      "cell_type": "code",
      "source": [
        "# class_dt[!is.na(class_dt$y2018)][y2018!=y2023][,list(freq= sum(row)/nrow(class_dt)),by=.(y2018,y2023,pretty_class_y2018,pretty_class_y2023)]"
      ],
      "metadata": {
        "id": "BoFJVphAXXZb"
      },
      "execution_count": 79,
      "outputs": []
    },
    {
      "cell_type": "code",
      "source": [
        "color_scale = c(\n",
        "'Water' =\"#13dede\",\n",
        "'Forest' =\"#33a02c\",\n",
        "'Grasslike-cover' =\"#fecc5c\",\n",
        "'Wetlands Vegetation' = \"#5c003d\",\n",
        "'Crop-cover' = \"#bd0026\",\n",
        "'Scrub/ Shrub' =\"#deab13\",\n",
        "'Developed' =\"#297b8c\",\n",
        "'Bare' = '#5b5b5b',\n",
        "'Snow and Ice'=\"#aa64ef\" )"
      ],
      "metadata": {
        "id": "pIwx6cHvaA19"
      },
      "execution_count": 107,
      "outputs": []
    },
    {
      "cell_type": "code",
      "source": [
        "library(ggalluvial)\n",
        "class_dt[!is.na(class_dt$y2018)][y2018!=y2023][,list(freq= sum(row)/nrow(class_dt)),by=.(y2018,y2023,pretty_class_y2018,pretty_class_y2023)][freq>0.0001] %>%\n",
        "\n",
        "ggplot(data = .,\n",
        "      aes(axis1 = pretty_class_y2018, axis2 = pretty_class_y2023, y = freq)) +\n",
        "geom_alluvium(aes(fill = pretty_class_y2023)) +\n",
        "scale_fill_manual(values = color_scale) +  # Using hex codes\n",
        "geom_stratum() +\n",
        "geom_text(stat = \"stratum\",\n",
        "          aes(label = after_stat(stratum))) +\n",
        "scale_x_discrete(limits = c(\"y2018\", \"y2023\"),\n",
        "                  expand = c(0.15, 0.05)) +\n",
        "theme_void()+\n",
        "theme(legend.position = \"bottom\") +  # Move legend to bottom\n",
        "guides(color = guide_legend(title = NULL))  +\n",
        "theme(legend.title = element_blank())  # Remove all legend titles\n"
      ],
      "metadata": {
        "id": "WW78FgDzR9rl",
        "outputId": "22d975e9-4274-4136-f48b-f5f109c84c59",
        "colab": {
          "base_uri": "https://localhost:8080/",
          "height": 541
        }
      },
      "execution_count": 108,
      "outputs": [
        {
          "output_type": "stream",
          "name": "stderr",
          "text": [
            "Warning message in to_lodes_form(data = data, axes = axis_ind, discern = params$discern):\n",
            "“Some strata appear at multiple axes.”\n",
            "Warning message in to_lodes_form(data = data, axes = axis_ind, discern = params$discern):\n",
            "“Some strata appear at multiple axes.”\n",
            "Warning message in to_lodes_form(data = data, axes = axis_ind, discern = params$discern):\n",
            "“Some strata appear at multiple axes.”\n"
          ]
        },
        {
          "output_type": "display_data",
          "data": {
            "text/plain": [
              "plot without title"
            ],
            "image/png": "[encoded data removed]"
          },
          "metadata": {
            "image/png": {
              "width": 420,
              "height": 420
            }
          }
        }
      ]
    },
    {
      "cell_type": "code",
      "source": [
        "ndvi_mean_dt <-\n",
        "raster_list %>%\n",
        "  names %>%\n",
        "  lapply(function(ndvi_names){\n",
        "\n",
        "\n",
        "ndvi_rast <-raster_list[[ndvi_names]] %>% rast\n",
        "\n",
        "ndvi_dt <- exact_extract(ndvi_rast,park_gpgk,fun='mean')\n",
        "# ndvi_dt$names\n",
        "ndvi_table <-\n",
        "ndvi_dt %>%\n",
        "  names %>%\n",
        "  lapply(function(x){\n",
        "    data.table(column = x,NDVI_mean = ndvi_dt[[x]],Name = park_gpgk$names)\n",
        "  }) %>%\n",
        "rbindlist()\n",
        "\n",
        "ndvi_dt <- exact_extract(ndvi_rast,park_gpgk,fun='stdev')\n",
        "# ndvi_dt$names\n",
        "ndvi_sd_table <-\n",
        "ndvi_dt %>%\n",
        "  names %>%\n",
        "  lapply(function(x){\n",
        "    data.table(column = x,NDVI_sd = ndvi_dt[[x]],Name = park_gpgk$names)\n",
        "  }) %>%\n",
        "rbindlist()\n",
        "\n",
        "ndvi_table$month <- ndvi_names\n",
        "ndvi_table$NDVI_sd <- ndvi_sd_table$NDVI_sd\n",
        "return(ndvi_table)\n",
        "  }) %>%\n",
        "    rbindlist()"
      ],
      "metadata": {
        "colab": {
          "base_uri": "https://localhost:8080/"
        },
        "id": "h1lCxNecF5Jk",
        "outputId": "38a89fd0-adb8-4345-9cff-d5d483888428"
      },
      "execution_count": 18,
      "outputs": [
        {
          "output_type": "stream",
          "name": "stderr",
          "text": [
            "Cannot preload entire working area of 84005660 cells with max_cells_in_memory = 3e+07. Raster values will be read for each feature individually.\n",
            "\n"
          ]
        },
        {
          "output_type": "stream",
          "name": "stdout",
          "text": [
            "  |======================================================================| 100%\n"
          ]
        },
        {
          "output_type": "stream",
          "name": "stderr",
          "text": [
            "Cannot preload entire working area of 84005660 cells with max_cells_in_memory = 3e+07. Raster values will be read for each feature individually.\n",
            "\n"
          ]
        },
        {
          "output_type": "stream",
          "name": "stdout",
          "text": [
            "  |======================================================================| 100%\n"
          ]
        },
        {
          "output_type": "stream",
          "name": "stderr",
          "text": [
            "Cannot preload entire working area of 84005660 cells with max_cells_in_memory = 3e+07. Raster values will be read for each feature individually.\n",
            "\n"
          ]
        },
        {
          "output_type": "stream",
          "name": "stdout",
          "text": [
            "  |======================================================================| 100%\n"
          ]
        },
        {
          "output_type": "stream",
          "name": "stderr",
          "text": [
            "Cannot preload entire working area of 84005660 cells with max_cells_in_memory = 3e+07. Raster values will be read for each feature individually.\n",
            "\n"
          ]
        },
        {
          "output_type": "stream",
          "name": "stdout",
          "text": [
            "  |======================================================================| 100%\n"
          ]
        }
      ]
    },
    {
      "cell_type": "code",
      "source": [
        "ndvi_mean_dt[,year:=column %>% strsplit(.,'_') %>% lapply(function(x){x[[2]]}) %>% lapply(as.numeric)]\n",
        "ndvi_mean_dt[,month:=month %>% factor(., levels= c('January','February','March','April','June','July','August','September', 'October','November','December'))]\n",
        "ndvi_mean_dt[,month_i:=(month %>% as.numeric)]"
      ],
      "metadata": {
        "id": "68O7dLiWuZu7",
        "outputId": "06b7b734-070d-4c40-f0eb-9986abd2d218",
        "colab": {
          "base_uri": "https://localhost:8080/",
          "height": 402
        }
      },
      "execution_count": 19,
      "outputs": [
        {
          "output_type": "error",
          "ename": "ERROR",
          "evalue": "Error in x[[2]]: subscript out of bounds\n",
          "traceback": [
            "Error in x[[2]]: subscript out of bounds\nTraceback:\n",
            "1. ndvi_mean_dt[, `:=`(year, column %>% strsplit(., \"_\") %>% lapply(function(x) {\n .     x[[2]]\n . }) %>% lapply(as.numeric))]",
            "2. `[.data.table`(ndvi_mean_dt, , `:=`(year, column %>% strsplit(., \n .     \"_\") %>% lapply(function(x) {\n .     x[[2]]\n . }) %>% lapply(as.numeric)))",
            "3. eval(jsub, SDenv, parent.frame())",
            "4. eval(jsub, SDenv, parent.frame())",
            "5. column %>% strsplit(., \"_\") %>% lapply(function(x) {\n .     x[[2]]\n . }) %>% lapply(as.numeric)",
            "6. lapply(., as.numeric)",
            "7. lapply(., function(x) {\n .     x[[2]]\n . })"
          ]
        }
      ]
    },
    {
      "cell_type": "code",
      "source": [
        "ndvi_mean_dt[,year_introduced := 0]\n",
        "ndvi_mean_dt[Name=='Shoshone Tribe',year_introduced := 2015]\n",
        "ndvi_mean_dt[Name== 'Buffalo Initiative',year_introduced := 2018]\n",
        "ndvi_mean_dt[Name== 'T3000, Unassigned Leases',year_introduced := 2018]\n",
        "ndvi_mean_dt[Name== 'Buffalo Initiative',year_introduced := 2020]"
      ],
      "metadata": {
        "id": "4J4-XTRIWXvt"
      },
      "execution_count": null,
      "outputs": []
    },
    {
      "cell_type": "code",
      "source": [
        "# ndvi_mean_dt %>% head"
      ],
      "metadata": {
        "id": "ybMZr_yt6M8E"
      },
      "execution_count": null,
      "outputs": []
    },
    {
      "cell_type": "code",
      "source": [
        "# Name=='Shoshone Tribe'\n",
        "ndvi_mean_dt[Name=='Shoshone Tribe'] %>%\n",
        "  ggplot(aes(x=month_i ,y=NDVI_mean))+\n",
        "  geom_line(aes(group=year %>% paste,color=(year > 2014) %>% factor  ),alpha = 0.25 ) +\n",
        "  # xlim(3,10)+\n",
        "  geom_smooth(aes(color=(year > 2014) %>% factor ))+\n",
        "  facet_wrap(Name~year_introduced)"
      ],
      "metadata": {
        "id": "waItWl3Qz6ON"
      },
      "execution_count": null,
      "outputs": []
    },
    {
      "cell_type": "code",
      "source": [
        "ndvi_mean_dt <- ndvi_mean_dt[order(month_i)]\n",
        "ndvi_mean_dt[,accum_ndvi :=NULL]\n",
        "ndvi_mean_dt[month_i>0 &month_i<13,  accum_ndvi := cumsum(NDVI_mean), by= .(Name,year %>% paste)]\n",
        "# ndvi_mean_dt[,list(accum_ndvi=mean(accum_ndvi,na.rm=T)),by = .(month,year %>% paste,Name)][!is.na(accum_ndvi)]"
      ],
      "metadata": {
        "id": "0s_YEw2IjTWg"
      },
      "execution_count": null,
      "outputs": []
    },
    {
      "cell_type": "code",
      "source": [
        "ndvi_mean_dt[ Name=='Wickstram Property' ] %>%\n",
        "  ggplot(aes(x=month_i,y=accum_ndvi))+\n",
        "  geom_line(aes(group=year %>% paste,color=(year > 2014) %>% factor ),alpha = 0.25) +\n",
        "  geom_smooth(aes( color=(year > 2014) %>% factor ))+\n",
        "  facet_wrap( ~year > 2014)"
      ],
      "metadata": {
        "id": "emTirsQMzb9Z"
      },
      "execution_count": null,
      "outputs": []
    }
  ]
}